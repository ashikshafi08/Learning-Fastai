{
  "nbformat": 4,
  "nbformat_minor": 0,
  "metadata": {
    "colab": {
      "name": "WWF_Lesson_2.ipynb",
      "provenance": [],
      "authorship_tag": "ABX9TyNQFXiLpVQakmY6l6yRIYDw",
      "include_colab_link": true
    },
    "kernelspec": {
      "name": "python3",
      "display_name": "Python 3"
    },
    "language_info": {
      "name": "python"
    },
    "accelerator": "GPU"
  },
  "cells": [
    {
      "cell_type": "markdown",
      "metadata": {
        "id": "view-in-github",
        "colab_type": "text"
      },
      "source": [
        "<a href=\"https://colab.research.google.com/github/ashikshafi08/Learning-Fastai/blob/main/Walk%20With%20Fastai%20(Zach%20Mueller)%20/WWF_Lesson_2.ipynb\" target=\"_parent\"><img src=\"https://colab.research.google.com/assets/colab-badge.svg\" alt=\"Open In Colab\"/></a>"
      ]
    },
    {
      "cell_type": "code",
      "metadata": {
        "colab": {
          "base_uri": "https://localhost:8080/"
        },
        "id": "G1wiKdNnP8d_",
        "outputId": "152c0d4a-1e4c-4e0e-a28e-e5b1a504d903"
      },
      "source": [
        "!pip install fastai -q --upgrade "
      ],
      "execution_count": null,
      "outputs": [
        {
          "output_type": "stream",
          "text": [
            "\u001b[K     |████████████████████████████████| 194kB 8.3MB/s \n",
            "\u001b[K     |████████████████████████████████| 61kB 9.5MB/s \n",
            "\u001b[?25h"
          ],
          "name": "stdout"
        }
      ]
    },
    {
      "cell_type": "code",
      "metadata": {
        "id": "2d_OwoTJ1Awx"
      },
      "source": [
        "!nvidia-smi"
      ],
      "execution_count": null,
      "outputs": []
    },
    {
      "cell_type": "markdown",
      "metadata": {
        "id": "cB99y2u3Tj3u"
      },
      "source": [
        "# Image Classification Models from Scratch \n",
        "\n",
        "In this lecture we will build a model from scratch with the lowest level api of fastai and plus with bit of Pytorch. \n",
        "\n",
        "The dataset we will be using in this lecture is MNIST dataset. \n",
        "\n",
        "Low-level api --> `Datasets`"
      ]
    },
    {
      "cell_type": "markdown",
      "metadata": {
        "id": "CuvrQmrwlQCj"
      },
      "source": [
        "### Getting our data ready!"
      ]
    },
    {
      "cell_type": "code",
      "metadata": {
        "id": "ZoyEzDldTzO_"
      },
      "source": [
        "# Importing the packages we need \n",
        "from fastai.vision.all import * \n",
        "\n",
        "import torch\n",
        "from torch import nn \n",
        "\n",
        "from fastai.callback.hook import summary \n",
        "from fastai.callback.schedule import fit_one_cycle , lr_find \n",
        "from fastai.callback.progress import ProgressCallback\n",
        "\n",
        "from fastai.data.core import Datasets , DataLoaders , show_at \n",
        "from fastai.data.external import untar_data, URLs\n",
        "from fastai.data.transforms import Categorize , GrandparentSplitter , parent_label , ToTensor , IntToFloatTensor , Normalize\n",
        "\n",
        "from fastai.layers import Flatten\n",
        "from fastai.learner import Learner\n",
        "\n",
        "from fastai.metrics import accuracy , CrossEntropyLossFlat \n",
        "\n",
        "from fastai.vision.augment import CropPad , RandomCrop , PadMode \n",
        "from fastai.vision.utils import get_image_files "
      ],
      "execution_count": null,
      "outputs": []
    },
    {
      "cell_type": "code",
      "metadata": {
        "colab": {
          "base_uri": "https://localhost:8080/",
          "height": 17
        },
        "id": "3DJr5A3oU8Zj",
        "outputId": "59259435-ce9f-4baf-fb26-106843544dad"
      },
      "source": [
        "# Loading in the data \n",
        "path = untar_data(URLs.MNIST)"
      ],
      "execution_count": null,
      "outputs": [
        {
          "output_type": "display_data",
          "data": {
            "text/html": [
              ""
            ],
            "text/plain": [
              "<IPython.core.display.HTML object>"
            ]
          },
          "metadata": {
            "tags": []
          }
        }
      ]
    },
    {
      "cell_type": "code",
      "metadata": {
        "colab": {
          "base_uri": "https://localhost:8080/"
        },
        "id": "vBRFmvXVVAq9",
        "outputId": "34c966b7-3492-4774-f95d-ca475163b613"
      },
      "source": [
        "# Getting the filenames because the (Datasets accepts a list of filenames)\n",
        "items = get_image_files(path)\n",
        "items[:5]"
      ],
      "execution_count": null,
      "outputs": [
        {
          "output_type": "execute_result",
          "data": {
            "text/plain": [
              "(#5) [Path('/root/.fastai/data/mnist_png/training/1/6311.png'),Path('/root/.fastai/data/mnist_png/training/1/33663.png'),Path('/root/.fastai/data/mnist_png/training/1/19289.png'),Path('/root/.fastai/data/mnist_png/training/1/40714.png'),Path('/root/.fastai/data/mnist_png/training/1/8430.png')]"
            ]
          },
          "metadata": {
            "tags": []
          },
          "execution_count": 5
        }
      ]
    },
    {
      "cell_type": "markdown",
      "metadata": {
        "id": "V4w_P7v2V1KS"
      },
      "source": [
        "The above `items` consists of a list of filenames that had to be passed into a `Datasets`. \n",
        "\n",
        "Since we are going to build everything from low-level api we cant use a DataBlock. \n",
        "\n",
        "Let's create a image object which is similar to a `ImageBlock`. "
      ]
    },
    {
      "cell_type": "code",
      "metadata": {
        "colab": {
          "base_uri": "https://localhost:8080/",
          "height": 102
        },
        "id": "rp__Eg6kV_Tp",
        "outputId": "a9def01d-4fe5-4bcc-e9dd-e528bc893d9a"
      },
      "source": [
        "# Creating a image object that creates a PIL image from a given filename \n",
        "im = PILImageBW.create(items[0])\n",
        "im.show()"
      ],
      "execution_count": null,
      "outputs": [
        {
          "output_type": "execute_result",
          "data": {
            "text/plain": [
              "<matplotlib.axes._subplots.AxesSubplot at 0x7fdd047eb150>"
            ]
          },
          "metadata": {
            "tags": []
          },
          "execution_count": 6
        },
        {
          "output_type": "display_data",
          "data": {
            "image/png": "[encoded data removed]",
            "text/plain": [
              "<Figure size 72x72 with 1 Axes>"
            ]
          },
          "metadata": {
            "tags": [],
            "needs_background": "light"
          }
        }
      ]
    },
    {
      "cell_type": "markdown",
      "metadata": {
        "id": "70Jn0UkkWeSi"
      },
      "source": [
        "Breaking down the above function: \n",
        "- `PILImageBW` --> creates a PIL image (pass a filepath) \n",
        "- `.create` --> takes care of the preprocessing before going in to the model. This is applicable for both X and y, more like a custom implementation for the various inputs. (Building flexible preprocessing inputs)\n"
      ]
    },
    {
      "cell_type": "code",
      "metadata": {
        "id": "kQa-peUoYVi4"
      },
      "source": [
        "# Splitting our data using the GrandParentSplitter --> looks for train and valid folder \n",
        "\n",
        "splits = GrandparentSplitter(train_name = 'training' , valid_name= 'testing')"
      ],
      "execution_count": null,
      "outputs": []
    },
    {
      "cell_type": "markdown",
      "metadata": {
        "id": "wdU3qCa-Yie5"
      },
      "source": [
        "`split` --> Creates an instance of the object, where passing the items inside this will results in train and val sets. \n",
        "\n",
        "`split` itself doesn't do the splitting function, it accepts a list of items to be passed in. "
      ]
    },
    {
      "cell_type": "code",
      "metadata": {
        "id": "BA6X7c5wZP4D"
      },
      "source": [
        "# Passing the items into the split method \n",
        "splits = splits(items)"
      ],
      "execution_count": null,
      "outputs": []
    },
    {
      "cell_type": "code",
      "metadata": {
        "colab": {
          "base_uri": "https://localhost:8080/"
        },
        "id": "k3PCYay8a1aw",
        "outputId": "a7ca588d-e5bb-4303-ecee-e3821c651517"
      },
      "source": [
        "splits[0][3] , splits[1][5]"
      ],
      "execution_count": null,
      "outputs": [
        {
          "output_type": "execute_result",
          "data": {
            "text/plain": [
              "(3, 60005)"
            ]
          },
          "metadata": {
            "tags": []
          },
          "execution_count": 17
        }
      ]
    },
    {
      "cell_type": "code",
      "metadata": {
        "colab": {
          "base_uri": "https://localhost:8080/"
        },
        "id": "-4uFIPh7Zh9S",
        "outputId": "40776501-bbc3-4c4c-9dc5-cc20fb537bba"
      },
      "source": [
        "# What's inside? (training and validation set [0 ,1] indexes)\n",
        "sample_train = splits[0][:5]\n",
        "sample_val= splits[1][:5]\n",
        "\n",
        "sample_train , sample_val"
      ],
      "execution_count": null,
      "outputs": [
        {
          "output_type": "execute_result",
          "data": {
            "text/plain": [
              "([0, 1, 2, 3, 4], [60000, 60001, 60002, 60003, 60004])"
            ]
          },
          "metadata": {
            "tags": []
          },
          "execution_count": 21
        }
      ]
    },
    {
      "cell_type": "code",
      "metadata": {
        "colab": {
          "base_uri": "https://localhost:8080/"
        },
        "id": "P9Lp2LyAZnOp",
        "outputId": "01a4ff2b-8e54-4014-c83b-2b5906bbb6a5"
      },
      "source": [
        "path.ls()"
      ],
      "execution_count": null,
      "outputs": [
        {
          "output_type": "execute_result",
          "data": {
            "text/plain": [
              "(#2) [Path('/root/.fastai/data/mnist_png/training'),Path('/root/.fastai/data/mnist_png/testing')]"
            ]
          },
          "metadata": {
            "tags": []
          },
          "execution_count": 12
        }
      ]
    },
    {
      "cell_type": "markdown",
      "metadata": {
        "id": "Wao3K4Evcn2F"
      },
      "source": [
        "#### Building a Datasets\n",
        "The `Datasets` expects, \n",
        "- the items we want to use \n",
        "- the transforms (how the inputs and outputs should be contructed and spits out) \n",
        "- the splits "
      ]
    },
    {
      "cell_type": "code",
      "metadata": {
        "id": "N6lCAWfqdkVX"
      },
      "source": [
        "# Creating the Datasets \n",
        "dsrc = Datasets(items , \n",
        "                tfms = [[PILImageBW.create] , [parent_label , Categorize]] , \n",
        "                splits = splits)\n"
      ],
      "execution_count": null,
      "outputs": []
    },
    {
      "cell_type": "markdown",
      "metadata": {
        "id": "Sb4GVxbdeKp2"
      },
      "source": [
        "Breaking the above code:\n",
        "- `items` --> filenames \n",
        "- `tfms` --> `[PILImageBW.create]` we are forming the X in here basically creating images and `[parent_label , Categorize]` in here we want our y to be have the labels of the folder (parent_label --> grab labels from folder) and atlast we want to Categorize them. \n",
        "- `splits` --> Splitting into train and valid sets. (goes by indexes) \n"
      ]
    },
    {
      "cell_type": "code",
      "metadata": {
        "colab": {
          "base_uri": "https://localhost:8080/",
          "height": 118
        },
        "id": "g0iDlPiAe02d",
        "outputId": "f04ed86d-efc6-4d34-a66a-8e3639f1498f"
      },
      "source": [
        " # We can look at an item in our Datasets with show_at \n",
        "\n",
        "show_at(dsrc.train , 3) # accessing train spit and grabbing 3 indexes file\n"
      ],
      "execution_count": null,
      "outputs": [
        {
          "output_type": "execute_result",
          "data": {
            "text/plain": [
              "<matplotlib.axes._subplots.AxesSubplot at 0x7fdd05931410>"
            ]
          },
          "metadata": {
            "tags": []
          },
          "execution_count": 23
        },
        {
          "output_type": "display_data",
          "data": {
            "image/png": "[encoded data removed]",
            "text/plain": [
              "<Figure size 72x72 with 1 Axes>"
            ]
          },
          "metadata": {
            "tags": [],
            "needs_background": "light"
          }
        }
      ]
    },
    {
      "cell_type": "markdown",
      "metadata": {
        "id": "MR8EGJd9fV2l"
      },
      "source": [
        "While building a `DataBlock` we passed the `item_tfms` and `aug_tfms` things like RandomResized and etc.. really easily. \n",
        "\n",
        "But now we have to construct the whole pipeline by hand without using any of the ready to go functions. \n",
        "\n",
        "We need to give ourselves some transforms on the data! These will need to:\n",
        "- Ensure our images are all the same size\n",
        "- Make sure our output are the tensor our models are wanting\n",
        "- Give some image augmentation"
      ]
    },
    {
      "cell_type": "code",
      "metadata": {
        "id": "9v8YOUwNgHpW"
      },
      "source": [
        "# Creating transforms for our data by hand (Left to Right)\n",
        "tfms = [ToTensor() , CropPad(size = 34 , pad_mode= PadMode.Zeros) , RandomCrop(size = 28)]"
      ],
      "execution_count": null,
      "outputs": []
    },
    {
      "cell_type": "markdown",
      "metadata": {
        "id": "SOzKm93ogjR9"
      },
      "source": [
        "- `ToTensor`: Converts to tensor\n",
        "- `CropPad` and `RandomCrop`: Resizing transforms\n",
        "- Applied on the CPU via `after_item`\n",
        "\n",
        "This thing works more like a pipeline, after getting the images converts them into a tensor, apply croping and padding 38x38 and atlast randomly cropped by 28x28 pixels. \n",
        "\n",
        "The above is the example of how we did an item tfms, we are getting our data ready to get into the batch. \n",
        "\n",
        "Next will see about gpu_tfms otherwise called `batch_tfms`"
      ]
    },
    {
      "cell_type": "code",
      "metadata": {
        "id": "TKcv3ltghpJP"
      },
      "source": [
        "# Creating the batch tfms \n",
        "gpu_tfms = [IntToFloatTensor() , Normalize()]"
      ],
      "execution_count": null,
      "outputs": []
    },
    {
      "cell_type": "markdown",
      "metadata": {
        "id": "TizuzAVMh7oy"
      },
      "source": [
        "- `IntToFloatTensor`: Converts to a float\n",
        "- `Normalize`: Normalizes data (without stats)\n",
        "\n",
        "Now we have created our `Datasets` the next step would be creating a dataloaders from our datasets. "
      ]
    },
    {
      "cell_type": "code",
      "metadata": {
        "id": "mt_uxoGNiANf"
      },
      "source": [
        "# Building our dataloaders \n",
        "dls = dsrc.dataloaders(bs = 128 , after_item= tfms , after_batch= gpu_tfms)"
      ],
      "execution_count": null,
      "outputs": []
    },
    {
      "cell_type": "markdown",
      "metadata": {
        "id": "j2L9_f4Dh-dR"
      },
      "source": [
        "Both `after_item` and `after_batch` says apply item tfms everytime a item is called and apply batch tfms when everytime a batch is called. "
      ]
    },
    {
      "cell_type": "code",
      "metadata": {
        "colab": {
          "base_uri": "https://localhost:8080/",
          "height": 536
        },
        "id": "TMFoRT1ZjyUM",
        "outputId": "47a91ed9-ace8-4cfe-c2ec-f30600384cde"
      },
      "source": [
        "# Visualizing the batch \n",
        "dls.show_batch()"
      ],
      "execution_count": null,
      "outputs": [
        {
          "output_type": "display_data",
          "data": {
            "image/png": "[encoded data removed]",
            "text/plain": [
              "<Figure size 648x648 with 9 Axes>"
            ]
          },
          "metadata": {
            "tags": [],
            "needs_background": "light"
          }
        }
      ]
    },
    {
      "cell_type": "markdown",
      "metadata": {
        "id": "oKRPNlBgj5NT"
      },
      "source": [
        "Now we got the dataloaders, the next ultimate step would be training the model with the help of a `Learner`. \n",
        "\n",
        "But before that let's see what our model will expect and go through. "
      ]
    },
    {
      "cell_type": "code",
      "metadata": {
        "colab": {
          "base_uri": "https://localhost:8080/"
        },
        "id": "aR2nGeRBkRQ6",
        "outputId": "964ba3be-79b5-4ac9-dc82-635a7f762f04"
      },
      "source": [
        "# Grabbing one batch \n",
        "xb , yb = dls.one_batch() \n",
        "\n",
        "# Shape of the x and y \n",
        "xb.shape , yb.shape "
      ],
      "execution_count": null,
      "outputs": [
        {
          "output_type": "execute_result",
          "data": {
            "text/plain": [
              "(torch.Size([128, 1, 28, 28]), torch.Size([128]))"
            ]
          },
          "metadata": {
            "tags": []
          },
          "execution_count": 29
        }
      ]
    },
    {
      "cell_type": "markdown",
      "metadata": {
        "id": "AFW-jw-ukcRC"
      },
      "source": [
        "- `torch.Size([128, 1, 28, 28])` --> its our input x which is composed of 1 channel, by 28x28 pixels and it has 128 items in a one batch. \n",
        "- `torch.Size([128]))` --> this is our y which is of 128 different labels. "
      ]
    },
    {
      "cell_type": "code",
      "metadata": {
        "colab": {
          "base_uri": "https://localhost:8080/"
        },
        "id": "dQtgQPnpk3Y0",
        "outputId": "65b8198c-f2bc-461f-9bee-7d1de6d2d434"
      },
      "source": [
        "# How many classes do we have?\n",
        "dls.c"
      ],
      "execution_count": null,
      "outputs": [
        {
          "output_type": "execute_result",
          "data": {
            "text/plain": [
              "10"
            ]
          },
          "metadata": {
            "tags": []
          },
          "execution_count": 30
        }
      ]
    },
    {
      "cell_type": "markdown",
      "metadata": {
        "id": "Lxf-R3SQlKIF"
      },
      "source": [
        "### The Model "
      ]
    },
    {
      "cell_type": "code",
      "metadata": {
        "id": "2x6SnTaplYUs"
      },
      "source": [
        ""
      ],
      "execution_count": null,
      "outputs": []
    }
  ]
}