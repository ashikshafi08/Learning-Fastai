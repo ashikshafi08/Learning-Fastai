{
  "nbformat": 4,
  "nbformat_minor": 0,
  "metadata": {
    "colab": {
      "name": "Underhood the classifier.ipynb",
      "provenance": [],
      "collapsed_sections": []
    },
    "kernelspec": {
      "name": "python3",
      "display_name": "Python 3"
    },
    "accelerator": "GPU"
  },
  "cells": [
    {
      "cell_type": "code",
      "metadata": {
        "colab": {
          "base_uri": "https://localhost:8080/"
        },
        "id": "lJJvKuXScLg2",
        "outputId": "96b731b1-d637-4143-c5e2-c44618b6f443"
      },
      "source": [
        " pip install fastai --upgrade"
      ],
      "execution_count": 1,
      "outputs": [
        {
          "output_type": "stream",
          "text": [
            "Collecting fastai\n",
            "\u001b[?25l  Downloading https://files.pythonhosted.org/packages/f3/09/36d4d472d0c953f5d931f4c415f715a909793e5d222af205f3e65c034da3/fastai-2.2.5-py3-none-any.whl (191kB)\n",
            "\r\u001b[K     |█▊                              | 10kB 22.8MB/s eta 0:00:01\r\u001b[K     |███▍                            | 20kB 20.2MB/s eta 0:00:01\r\u001b[K     |█████▏                          | 30kB 11.7MB/s eta 0:00:01\r\u001b[K     |██████▉                         | 40kB 9.6MB/s eta 0:00:01\r\u001b[K     |████████▋                       | 51kB 8.2MB/s eta 0:00:01\r\u001b[K     |██████████▎                     | 61kB 8.0MB/s eta 0:00:01\r\u001b[K     |████████████                    | 71kB 9.0MB/s eta 0:00:01\r\u001b[K     |█████████████▊                  | 81kB 9.6MB/s eta 0:00:01\r\u001b[K     |███████████████▍                | 92kB 8.4MB/s eta 0:00:01\r\u001b[K     |█████████████████▏              | 102kB 8.9MB/s eta 0:00:01\r\u001b[K     |██████████████████▉             | 112kB 8.9MB/s eta 0:00:01\r\u001b[K     |████████████████████▋           | 122kB 8.9MB/s eta 0:00:01\r\u001b[K     |██████████████████████▎         | 133kB 8.9MB/s eta 0:00:01\r\u001b[K     |████████████████████████        | 143kB 8.9MB/s eta 0:00:01\r\u001b[K     |█████████████████████████▊      | 153kB 8.9MB/s eta 0:00:01\r\u001b[K     |███████████████████████████▍    | 163kB 8.9MB/s eta 0:00:01\r\u001b[K     |█████████████████████████████▏  | 174kB 8.9MB/s eta 0:00:01\r\u001b[K     |██████████████████████████████▉ | 184kB 8.9MB/s eta 0:00:01\r\u001b[K     |████████████████████████████████| 194kB 8.9MB/s \n",
            "\u001b[?25hRequirement already satisfied, skipping upgrade: spacy in /usr/local/lib/python3.6/dist-packages (from fastai) (2.2.4)\n",
            "Requirement already satisfied, skipping upgrade: scikit-learn in /usr/local/lib/python3.6/dist-packages (from fastai) (0.22.2.post1)\n",
            "Requirement already satisfied, skipping upgrade: pandas in /usr/local/lib/python3.6/dist-packages (from fastai) (1.1.5)\n",
            "Requirement already satisfied, skipping upgrade: pip in /usr/local/lib/python3.6/dist-packages (from fastai) (19.3.1)\n",
            "Requirement already satisfied, skipping upgrade: scipy in /usr/local/lib/python3.6/dist-packages (from fastai) (1.4.1)\n",
            "Requirement already satisfied, skipping upgrade: fastprogress>=0.2.4 in /usr/local/lib/python3.6/dist-packages (from fastai) (1.0.0)\n",
            "Collecting fastcore<1.4,>=1.3.8\n",
            "\u001b[?25l  Downloading https://files.pythonhosted.org/packages/0c/98/60404e2817cff113a6ae4023bc1772e23179408fdf7857fa410551758dfe/fastcore-1.3.19-py3-none-any.whl (53kB)\n",
            "\u001b[K     |████████████████████████████████| 61kB 6.5MB/s \n",
            "\u001b[?25hRequirement already satisfied, skipping upgrade: requests in /usr/local/lib/python3.6/dist-packages (from fastai) (2.23.0)\n",
            "Requirement already satisfied, skipping upgrade: pyyaml in /usr/local/lib/python3.6/dist-packages (from fastai) (3.13)\n",
            "Requirement already satisfied, skipping upgrade: torchvision<0.9,>=0.8 in /usr/local/lib/python3.6/dist-packages (from fastai) (0.8.1+cu101)\n",
            "Requirement already satisfied, skipping upgrade: torch<1.8,>=1.7.0 in /usr/local/lib/python3.6/dist-packages (from fastai) (1.7.0+cu101)\n",
            "Requirement already satisfied, skipping upgrade: packaging in /usr/local/lib/python3.6/dist-packages (from fastai) (20.8)\n",
            "Requirement already satisfied, skipping upgrade: matplotlib in /usr/local/lib/python3.6/dist-packages (from fastai) (3.2.2)\n",
            "Requirement already satisfied, skipping upgrade: pillow>6.0.0 in /usr/local/lib/python3.6/dist-packages (from fastai) (7.0.0)\n",
            "Requirement already satisfied, skipping upgrade: preshed<3.1.0,>=3.0.2 in /usr/local/lib/python3.6/dist-packages (from spacy->fastai) (3.0.5)\n",
            "Requirement already satisfied, skipping upgrade: catalogue<1.1.0,>=0.0.7 in /usr/local/lib/python3.6/dist-packages (from spacy->fastai) (1.0.0)\n",
            "Requirement already satisfied, skipping upgrade: murmurhash<1.1.0,>=0.28.0 in /usr/local/lib/python3.6/dist-packages (from spacy->fastai) (1.0.5)\n",
            "Requirement already satisfied, skipping upgrade: cymem<2.1.0,>=2.0.2 in /usr/local/lib/python3.6/dist-packages (from spacy->fastai) (2.0.5)\n",
            "Requirement already satisfied, skipping upgrade: tqdm<5.0.0,>=4.38.0 in /usr/local/lib/python3.6/dist-packages (from spacy->fastai) (4.41.1)\n",
            "Requirement already satisfied, skipping upgrade: numpy>=1.15.0 in /usr/local/lib/python3.6/dist-packages (from spacy->fastai) (1.19.5)\n",
            "Requirement already satisfied, skipping upgrade: plac<1.2.0,>=0.9.6 in /usr/local/lib/python3.6/dist-packages (from spacy->fastai) (1.1.3)\n",
            "Requirement already satisfied, skipping upgrade: wasabi<1.1.0,>=0.4.0 in /usr/local/lib/python3.6/dist-packages (from spacy->fastai) (0.8.0)\n",
            "Requirement already satisfied, skipping upgrade: thinc==7.4.0 in /usr/local/lib/python3.6/dist-packages (from spacy->fastai) (7.4.0)\n",
            "Requirement already satisfied, skipping upgrade: blis<0.5.0,>=0.4.0 in /usr/local/lib/python3.6/dist-packages (from spacy->fastai) (0.4.1)\n",
            "Requirement already satisfied, skipping upgrade: setuptools in /usr/local/lib/python3.6/dist-packages (from spacy->fastai) (51.1.1)\n",
            "Requirement already satisfied, skipping upgrade: srsly<1.1.0,>=1.0.2 in /usr/local/lib/python3.6/dist-packages (from spacy->fastai) (1.0.5)\n",
            "Requirement already satisfied, skipping upgrade: joblib>=0.11 in /usr/local/lib/python3.6/dist-packages (from scikit-learn->fastai) (1.0.0)\n",
            "Requirement already satisfied, skipping upgrade: pytz>=2017.2 in /usr/local/lib/python3.6/dist-packages (from pandas->fastai) (2018.9)\n",
            "Requirement already satisfied, skipping upgrade: python-dateutil>=2.7.3 in /usr/local/lib/python3.6/dist-packages (from pandas->fastai) (2.8.1)\n",
            "Requirement already satisfied, skipping upgrade: certifi>=2017.4.17 in /usr/local/lib/python3.6/dist-packages (from requests->fastai) (2020.12.5)\n",
            "Requirement already satisfied, skipping upgrade: urllib3!=1.25.0,!=1.25.1,<1.26,>=1.21.1 in /usr/local/lib/python3.6/dist-packages (from requests->fastai) (1.24.3)\n",
            "Requirement already satisfied, skipping upgrade: chardet<4,>=3.0.2 in /usr/local/lib/python3.6/dist-packages (from requests->fastai) (3.0.4)\n",
            "Requirement already satisfied, skipping upgrade: idna<3,>=2.5 in /usr/local/lib/python3.6/dist-packages (from requests->fastai) (2.10)\n",
            "Requirement already satisfied, skipping upgrade: future in /usr/local/lib/python3.6/dist-packages (from torch<1.8,>=1.7.0->fastai) (0.16.0)\n",
            "Requirement already satisfied, skipping upgrade: dataclasses in /usr/local/lib/python3.6/dist-packages (from torch<1.8,>=1.7.0->fastai) (0.8)\n",
            "Requirement already satisfied, skipping upgrade: typing-extensions in /usr/local/lib/python3.6/dist-packages (from torch<1.8,>=1.7.0->fastai) (3.7.4.3)\n",
            "Requirement already satisfied, skipping upgrade: pyparsing>=2.0.2 in /usr/local/lib/python3.6/dist-packages (from packaging->fastai) (2.4.7)\n",
            "Requirement already satisfied, skipping upgrade: cycler>=0.10 in /usr/local/lib/python3.6/dist-packages (from matplotlib->fastai) (0.10.0)\n",
            "Requirement already satisfied, skipping upgrade: kiwisolver>=1.0.1 in /usr/local/lib/python3.6/dist-packages (from matplotlib->fastai) (1.3.1)\n",
            "Requirement already satisfied, skipping upgrade: importlib-metadata>=0.20; python_version < \"3.8\" in /usr/local/lib/python3.6/dist-packages (from catalogue<1.1.0,>=0.0.7->spacy->fastai) (3.3.0)\n",
            "Requirement already satisfied, skipping upgrade: six>=1.5 in /usr/local/lib/python3.6/dist-packages (from python-dateutil>=2.7.3->pandas->fastai) (1.15.0)\n",
            "Requirement already satisfied, skipping upgrade: zipp>=0.5 in /usr/local/lib/python3.6/dist-packages (from importlib-metadata>=0.20; python_version < \"3.8\"->catalogue<1.1.0,>=0.0.7->spacy->fastai) (3.4.0)\n",
            "Installing collected packages: fastcore, fastai\n",
            "  Found existing installation: fastai 1.0.61\n",
            "    Uninstalling fastai-1.0.61:\n",
            "      Successfully uninstalled fastai-1.0.61\n",
            "Successfully installed fastai-2.2.5 fastcore-1.3.19\n"
          ],
          "name": "stdout"
        }
      ]
    },
    {
      "cell_type": "code",
      "metadata": {
        "colab": {
          "base_uri": "https://localhost:8080/"
        },
        "id": "84U4NJkIpF9S",
        "outputId": "47407c04-1442-4184-c695-3501c446038a"
      },
      "source": [
        "# Certain utils\n",
        "\n",
        "!pip install -Uqq fastbook\n",
        "import fastbook\n",
        "fastbook.setup_book()\n",
        "from fastbook import *\n"
      ],
      "execution_count": 47,
      "outputs": [
        {
          "output_type": "stream",
          "text": [
            "\u001b[K     |████████████████████████████████| 727kB 8.0MB/s \n",
            "\u001b[K     |████████████████████████████████| 1.2MB 53.5MB/s \n",
            "\u001b[K     |████████████████████████████████| 51kB 8.7MB/s \n",
            "\u001b[?25hMounted at /content/gdrive\n"
          ],
          "name": "stdout"
        }
      ]
    },
    {
      "cell_type": "code",
      "metadata": {
        "id": "9O_iZL_6cFUp"
      },
      "source": [
        "from fastai import *\n",
        "from fastai.vision.all import *"
      ],
      "execution_count": 2,
      "outputs": []
    },
    {
      "cell_type": "markdown",
      "metadata": {
        "id": "nBrMHQrGcVhp"
      },
      "source": [
        "# Pixel Similarity \n",
        "\n",
        "Find the average pixel value for every pixel of the `3s` then do the same for the `7s` . This will give us two group average's defining what we might call the **ideal** `3` and `7` . \n",
        "\n",
        "Then to classify an image as one digit or the another we see which of these two ideal digits the image is most similar to."
      ]
    },
    {
      "cell_type": "code",
      "metadata": {
        "colab": {
          "base_uri": "https://localhost:8080/",
          "height": 34
        },
        "id": "CEqDi5F1cp-V",
        "outputId": "5e3290c5-125a-446d-ebd3-a140b8d1a0d2"
      },
      "source": [
        "# Already done these all before \n",
        "\n",
        "path = untar_data(URLs.MNIST_SAMPLE)\n",
        "\n",
        "threes = (path / 'train' / '3').ls().sorted()\n",
        "sevens = (path / 'train' / '7').ls().sorted()\n",
        "\n",
        "len(sevens) , len(threes)"
      ],
      "execution_count": 3,
      "outputs": [
        {
          "output_type": "display_data",
          "data": {
            "text/html": [
              ""
            ],
            "text/plain": [
              "<IPython.core.display.HTML object>"
            ]
          },
          "metadata": {
            "tags": []
          }
        },
        {
          "output_type": "execute_result",
          "data": {
            "text/plain": [
              "(6265, 6131)"
            ]
          },
          "metadata": {
            "tags": []
          },
          "execution_count": 3
        }
      ]
    },
    {
      "cell_type": "code",
      "metadata": {
        "id": "5KZC17recrq3"
      },
      "source": [
        "# Stacking all the images in the directory, and converting into tensors\n",
        "\n",
        "seven_tensor = [tensor(Image.open(o)) for o in sevens]\n",
        "three_tensor = [tensor(Image.open(o)) for o in threes]\n"
      ],
      "execution_count": 4,
      "outputs": []
    },
    {
      "cell_type": "code",
      "metadata": {
        "colab": {
          "base_uri": "https://localhost:8080/"
        },
        "id": "cSz82yu0cszb",
        "outputId": "aee7336c-578f-4705-f888-9d92f75f9019"
      },
      "source": [
        "# Checking the shape of the tensor\n",
        "\n",
        "len(seven_tensor) , len(three_tensor)"
      ],
      "execution_count": 5,
      "outputs": [
        {
          "output_type": "execute_result",
          "data": {
            "text/plain": [
              "(6265, 6131)"
            ]
          },
          "metadata": {
            "tags": []
          },
          "execution_count": 5
        }
      ]
    },
    {
      "cell_type": "code",
      "metadata": {
        "colab": {
          "base_uri": "https://localhost:8080/",
          "height": 102
        },
        "id": "bWpx_jx8c8oj",
        "outputId": "17f1a82f-5c5c-4dc0-a0f4-fad0ed1a5796"
      },
      "source": [
        "# Printing out a image \n",
        "\n",
        "show_image(three_tensor[4]) # Show image is fastai's function"
      ],
      "execution_count": 6,
      "outputs": [
        {
          "output_type": "execute_result",
          "data": {
            "text/plain": [
              "<matplotlib.axes._subplots.AxesSubplot at 0x7fdef3541320>"
            ]
          },
          "metadata": {
            "tags": []
          },
          "execution_count": 6
        },
        {
          "output_type": "display_data",
          "data": {
            "image/png": "[encoded data removed]",
            "text/plain": [
              "<Figure size 72x72 with 1 Axes>"
            ]
          },
          "metadata": {
            "tags": [],
            "needs_background": "light"
          }
        }
      ]
    },
    {
      "cell_type": "markdown",
      "metadata": {
        "id": "jNLahQ7CdkTZ"
      },
      "source": [
        "We want to compute the average over all the images of the intensity of the pixel. \n",
        "\n",
        "In Pytorch, such as taking a mean require us to cast our integer to types of float. So we gotta cast our stacked tensor to float now."
      ]
    },
    {
      "cell_type": "code",
      "metadata": {
        "colab": {
          "base_uri": "https://localhost:8080/"
        },
        "id": "80Ka_-AYdnod",
        "outputId": "6c9ccbc4-550b-43b8-9aae-7b3c3b81aa40"
      },
      "source": [
        "# Casting our integer type to float \n",
        "\n",
        "stacked_sevens = torch.stack(seven_tensor).float() / 255\n",
        "stacked_threes = torch.stack(three_tensor).float() / 255\n",
        "\n",
        "stacked_sevens.shape , stacked_threes.shape"
      ],
      "execution_count": 7,
      "outputs": [
        {
          "output_type": "execute_result",
          "data": {
            "text/plain": [
              "(torch.Size([6265, 28, 28]), torch.Size([6131, 28, 28]))"
            ]
          },
          "metadata": {
            "tags": []
          },
          "execution_count": 7
        }
      ]
    },
    {
      "cell_type": "markdown",
      "metadata": {
        "id": "SOv_938qgMG-"
      },
      "source": [
        "In above the `.shape` tells us that stacked_sevens has 6252 images, each size of *28x28* pixels. \n"
      ]
    },
    {
      "cell_type": "code",
      "metadata": {
        "colab": {
          "base_uri": "https://localhost:8080/"
        },
        "id": "u9d4cycQg7Cx",
        "outputId": "57ce7b8a-cabb-4c00-8501-439c93015ff7"
      },
      "source": [
        "# Length of tensor's shape is its rank \n",
        "\n",
        "len(stacked_threes.shape) , len(stacked_sevens.shape) # both are rank 3 tensors"
      ],
      "execution_count": 8,
      "outputs": [
        {
          "output_type": "execute_result",
          "data": {
            "text/plain": [
              "(3, 3)"
            ]
          },
          "metadata": {
            "tags": []
          },
          "execution_count": 8
        }
      ]
    },
    {
      "cell_type": "code",
      "metadata": {
        "colab": {
          "base_uri": "https://localhost:8080/"
        },
        "id": "vhYrPPLQhIs5",
        "outputId": "bc817ec8-c20f-48ea-f46c-3658486320c8"
      },
      "source": [
        "# Also using ndim we can get the rank \n",
        "\n",
        "stacked_sevens.ndim"
      ],
      "execution_count": 9,
      "outputs": [
        {
          "output_type": "execute_result",
          "data": {
            "text/plain": [
              "3"
            ]
          },
          "metadata": {
            "tags": []
          },
          "execution_count": 9
        }
      ]
    },
    {
      "cell_type": "code",
      "metadata": {
        "id": "OmIr4PSKhqiV",
        "colab": {
          "base_uri": "https://localhost:8080/",
          "height": 187
        },
        "outputId": "a957cf35-0a4c-4173-ca6b-dcdca7e4e18b"
      },
      "source": [
        "# The Mean 3, which we computed by taking the mean along dimensions 0 of our staced tensor\n",
        "\n",
        "mean3 = stacked_threes.mean(0) # divided by 0th dimension\n",
        "mean7 = stacked_sevens.mean(0)\n",
        "\n",
        "# Display\n",
        "show_image(mean3) , show_image(mean7)"
      ],
      "execution_count": 10,
      "outputs": [
        {
          "output_type": "execute_result",
          "data": {
            "text/plain": [
              "(<matplotlib.axes._subplots.AxesSubplot at 0x7fdef3178438>,\n",
              " <matplotlib.axes._subplots.AxesSubplot at 0x7fdef2c2fef0>)"
            ]
          },
          "metadata": {
            "tags": []
          },
          "execution_count": 10
        },
        {
          "output_type": "display_data",
          "data": {
            "image/png": "[encoded data removed]",
            "text/plain": [
              "<Figure size 72x72 with 1 Axes>"
            ]
          },
          "metadata": {
            "tags": [],
            "needs_background": "light"
          }
        },
        {
          "output_type": "display_data",
          "data": {
            "image/png": "[encoded data removed]",
            "text/plain": [
              "<Figure size 72x72 with 1 Axes>"
            ]
          },
          "metadata": {
            "tags": [],
            "needs_background": "light"
          }
        }
      ]
    },
    {
      "cell_type": "code",
      "metadata": {
        "colab": {
          "base_uri": "https://localhost:8080/"
        },
        "id": "TtGWV_86DMg0",
        "outputId": "7865ff44-b611-44cf-e7f0-f1a0a189e90f"
      },
      "source": [
        "stacked_threes.mean(0)"
      ],
      "execution_count": 11,
      "outputs": [
        {
          "output_type": "execute_result",
          "data": {
            "text/plain": [
              "tensor([[0.0000e+00, 0.0000e+00, 0.0000e+00, 0.0000e+00, 0.0000e+00, 0.0000e+00,\n",
              "         0.0000e+00, 0.0000e+00, 0.0000e+00, 0.0000e+00, 0.0000e+00, 0.0000e+00,\n",
              "         0.0000e+00, 0.0000e+00, 0.0000e+00, 0.0000e+00, 0.0000e+00, 0.0000e+00,\n",
              "         0.0000e+00, 0.0000e+00, 0.0000e+00, 0.0000e+00, 0.0000e+00, 0.0000e+00,\n",
              "         0.0000e+00, 0.0000e+00, 0.0000e+00, 0.0000e+00],\n",
              "        [0.0000e+00, 0.0000e+00, 0.0000e+00, 0.0000e+00, 0.0000e+00, 0.0000e+00,\n",
              "         0.0000e+00, 0.0000e+00, 0.0000e+00, 0.0000e+00, 0.0000e+00, 0.0000e+00,\n",
              "         0.0000e+00, 0.0000e+00, 0.0000e+00, 0.0000e+00, 0.0000e+00, 0.0000e+00,\n",
              "         0.0000e+00, 0.0000e+00, 0.0000e+00, 0.0000e+00, 0.0000e+00, 0.0000e+00,\n",
              "         0.0000e+00, 0.0000e+00, 0.0000e+00, 0.0000e+00],\n",
              "        [0.0000e+00, 0.0000e+00, 0.0000e+00, 0.0000e+00, 0.0000e+00, 0.0000e+00,\n",
              "         0.0000e+00, 0.0000e+00, 0.0000e+00, 0.0000e+00, 7.2918e-05, 1.9637e-04,\n",
              "         2.3410e-04, 1.9253e-04, 2.7568e-04, 2.6161e-04, 2.9423e-04, 2.8400e-04,\n",
              "         1.5671e-04, 4.8612e-05, 5.7567e-06, 0.0000e+00, 0.0000e+00, 0.0000e+00,\n",
              "         0.0000e+00, 0.0000e+00, 0.0000e+00, 0.0000e+00],\n",
              "        [0.0000e+00, 0.0000e+00, 0.0000e+00, 0.0000e+00, 1.5991e-05, 4.8676e-04,\n",
              "         7.7331e-04, 1.4468e-03, 2.9788e-03, 5.6486e-03, 9.5177e-03, 1.5693e-02,\n",
              "         2.1113e-02, 2.4280e-02, 2.5964e-02, 2.4268e-02, 2.0875e-02, 1.7108e-02,\n",
              "         1.1642e-02, 7.0436e-03, 3.9945e-03, 1.4955e-03, 3.2941e-04, 0.0000e+00,\n",
              "         0.0000e+00, 0.0000e+00, 0.0000e+00, 0.0000e+00],\n",
              "        [0.0000e+00, 2.4306e-05, 3.2621e-05, 1.5607e-04, 1.3995e-03, 5.7854e-03,\n",
              "         1.3664e-02, 3.0111e-02, 5.5401e-02, 9.0316e-02, 1.3725e-01, 1.8357e-01,\n",
              "         2.2128e-01, 2.4655e-01, 2.4972e-01, 2.3536e-01, 1.9872e-01, 1.5084e-01,\n",
              "         1.0543e-01, 6.4754e-02, 3.2829e-02, 1.3352e-02, 4.5970e-03, 3.9273e-04,\n",
              "         1.9189e-06, 0.0000e+00, 0.0000e+00, 0.0000e+00],\n",
              "        [0.0000e+00, 0.0000e+00, 5.7567e-05, 1.5204e-03, 8.8909e-03, 2.7837e-02,\n",
              "         6.1064e-02, 1.1271e-01, 1.8688e-01, 2.8024e-01, 3.8297e-01, 4.8024e-01,\n",
              "         5.5877e-01, 6.1324e-01, 6.2329e-01, 5.9771e-01, 5.2835e-01, 4.2100e-01,\n",
              "         3.0576e-01, 2.0347e-01, 1.1742e-01, 5.3793e-02, 1.6992e-02, 3.4617e-03,\n",
              "         2.5905e-04, 0.0000e+00, 0.0000e+00, 0.0000e+00],\n",
              "        [0.0000e+00, 7.0359e-06, 3.0063e-04, 5.8174e-03, 2.4498e-02, 5.9899e-02,\n",
              "         1.2038e-01, 2.0755e-01, 3.1939e-01, 4.3547e-01, 5.4447e-01, 6.2764e-01,\n",
              "         6.8504e-01, 7.2395e-01, 7.4489e-01, 7.4463e-01, 7.0500e-01, 6.0875e-01,\n",
              "         4.7916e-01, 3.3949e-01, 2.1322e-01, 1.0868e-01, 3.7335e-02, 7.9084e-03,\n",
              "         8.2320e-04, 0.0000e+00, 0.0000e+00, 0.0000e+00],\n",
              "        [0.0000e+00, 3.2429e-04, 4.5414e-04, 9.7409e-03, 3.7895e-02, 8.2921e-02,\n",
              "         1.5382e-01, 2.4157e-01, 3.3767e-01, 4.2682e-01, 4.9161e-01, 5.2841e-01,\n",
              "         5.4475e-01, 5.5883e-01, 5.8641e-01, 6.2750e-01, 6.5125e-01, 6.2112e-01,\n",
              "         5.2849e-01, 4.0753e-01, 2.7025e-01, 1.4412e-01, 5.3465e-02, 1.1405e-02,\n",
              "         1.0490e-03, 0.0000e+00, 0.0000e+00, 0.0000e+00],\n",
              "        [0.0000e+00, 1.2601e-04, 5.3985e-04, 1.1943e-02, 4.0899e-02, 7.8775e-02,\n",
              "         1.3442e-01, 1.9457e-01, 2.5074e-01, 2.9489e-01, 3.1693e-01, 3.1747e-01,\n",
              "         3.1133e-01, 3.2182e-01, 3.6634e-01, 4.5206e-01, 5.3760e-01, 5.7068e-01,\n",
              "         5.2600e-01, 4.1737e-01, 2.7770e-01, 1.4791e-01, 5.6850e-02, 1.1186e-02,\n",
              "         5.6543e-04, 0.0000e+00, 0.0000e+00, 0.0000e+00],\n",
              "        [0.0000e+00, 1.3496e-04, 6.4603e-04, 9.1461e-03, 2.9371e-02, 5.4969e-02,\n",
              "         8.9482e-02, 1.1955e-01, 1.4173e-01, 1.5585e-01, 1.6174e-01, 1.6148e-01,\n",
              "         1.6958e-01, 2.0584e-01, 2.9212e-01, 4.1871e-01, 5.3047e-01, 5.7446e-01,\n",
              "         5.1699e-01, 3.8845e-01, 2.4350e-01, 1.1984e-01, 4.4328e-02, 8.7073e-03,\n",
              "         1.1641e-04, 3.9657e-05, 0.0000e+00, 0.0000e+00],\n",
              "        [0.0000e+00, 6.7161e-05, 4.3047e-04, 6.7775e-03, 1.6751e-02, 2.9374e-02,\n",
              "         4.5093e-02, 5.7854e-02, 6.8061e-02, 7.8151e-02, 9.5189e-02, 1.2533e-01,\n",
              "         1.8025e-01, 2.7419e-01, 4.0268e-01, 5.3354e-01, 6.1373e-01, 5.9656e-01,\n",
              "         4.7979e-01, 3.2004e-01, 1.7885e-01, 7.7661e-02, 2.4957e-02, 4.6878e-03,\n",
              "         3.9657e-05, 1.1833e-04, 0.0000e+00, 0.0000e+00],\n",
              "        [0.0000e+00, 4.9251e-05, 3.7035e-04, 3.8589e-03, 8.8301e-03, 1.4541e-02,\n",
              "         2.0740e-02, 2.9064e-02, 4.4311e-02, 7.7774e-02, 1.3957e-01, 2.3310e-01,\n",
              "         3.5509e-01, 4.8872e-01, 6.0988e-01, 6.8693e-01, 6.8276e-01, 5.8363e-01,\n",
              "         4.1155e-01, 2.4346e-01, 1.1769e-01, 4.1552e-02, 1.0649e-02, 1.8121e-03,\n",
              "         9.5944e-06, 1.2857e-04, 0.0000e+00, 0.0000e+00],\n",
              "        [0.0000e+00, 8.3152e-06, 4.9891e-05, 1.5166e-03, 4.1403e-03, 8.1841e-03,\n",
              "         1.3161e-02, 2.7825e-02, 6.6674e-02, 1.4858e-01, 2.7763e-01, 4.3485e-01,\n",
              "         5.8360e-01, 7.0284e-01, 7.7150e-01, 7.7661e-01, 7.1162e-01, 5.6779e-01,\n",
              "         3.7920e-01, 2.1411e-01, 9.4611e-02, 3.1342e-02, 7.7146e-03, 1.0701e-03,\n",
              "         9.9782e-05, 1.3560e-04, 0.0000e+00, 0.0000e+00],\n",
              "        [0.0000e+00, 0.0000e+00, 0.0000e+00, 6.3963e-04, 2.5783e-03, 5.4042e-03,\n",
              "         1.4138e-02, 3.9151e-02, 1.0502e-01, 2.2640e-01, 3.9440e-01, 5.6574e-01,\n",
              "         6.9847e-01, 7.6719e-01, 7.7950e-01, 7.5081e-01, 6.9238e-01, 5.8267e-01,\n",
              "         4.3279e-01, 2.6549e-01, 1.2995e-01, 5.0904e-02, 1.3723e-02, 2.6148e-03,\n",
              "         3.2749e-04, 6.7161e-05, 0.0000e+00, 0.0000e+00],\n",
              "        [0.0000e+00, 1.0234e-04, 5.8206e-05, 6.9975e-04, 2.5758e-03, 6.5549e-03,\n",
              "         1.5612e-02, 4.5825e-02, 1.1788e-01, 2.4133e-01, 3.9015e-01, 5.2159e-01,\n",
              "         6.0265e-01, 6.2869e-01, 6.2758e-01, 6.1725e-01, 6.1311e-01, 5.9272e-01,\n",
              "         5.1544e-01, 3.7066e-01, 2.1080e-01, 9.5741e-02, 3.1867e-02, 7.1351e-03,\n",
              "         7.5860e-04, 2.6225e-05, 0.0000e+00, 0.0000e+00],\n",
              "        [0.0000e+00, 1.4456e-04, 7.1702e-04, 2.3385e-03, 6.0221e-03, 1.1625e-02,\n",
              "         1.9489e-02, 4.1298e-02, 9.1916e-02, 1.7655e-01, 2.7350e-01, 3.4554e-01,\n",
              "         3.7789e-01, 3.8353e-01, 3.8828e-01, 4.1357e-01, 4.7273e-01, 5.4692e-01,\n",
              "         5.5695e-01, 4.6004e-01, 2.9679e-01, 1.4911e-01, 6.0777e-02, 1.5610e-02,\n",
              "         1.8025e-03, 3.1981e-06, 1.3368e-04, 0.0000e+00],\n",
              "        [0.0000e+00, 1.2729e-04, 2.1869e-03, 7.0538e-03, 1.4894e-02, 2.2301e-02,\n",
              "         2.7903e-02, 3.9338e-02, 6.2386e-02, 9.9441e-02, 1.3370e-01, 1.5925e-01,\n",
              "         1.6655e-01, 1.7223e-01, 1.9161e-01, 2.4334e-01, 3.4454e-01, 4.8216e-01,\n",
              "         5.6101e-01, 5.0364e-01, 3.5205e-01, 1.9422e-01, 8.5188e-02, 2.6331e-02,\n",
              "         3.5276e-03, 1.2793e-06, 2.2387e-05, 0.0000e+00],\n",
              "        [0.0000e+00, 1.5735e-04, 3.3331e-03, 1.5257e-02, 3.1764e-02, 4.3270e-02,\n",
              "         4.9365e-02, 5.5510e-02, 5.9109e-02, 5.8848e-02, 6.1369e-02, 6.3137e-02,\n",
              "         6.5532e-02, 7.3339e-02, 9.8233e-02, 1.6722e-01, 2.9171e-01, 4.5252e-01,\n",
              "         5.5033e-01, 5.1463e-01, 3.6876e-01, 2.1820e-01, 1.0305e-01, 3.3861e-02,\n",
              "         3.8557e-03, 0.0000e+00, 0.0000e+00, 0.0000e+00],\n",
              "        [0.0000e+00, 1.6183e-04, 5.7592e-03, 2.7754e-02, 5.8420e-02, 8.2884e-02,\n",
              "         9.7888e-02, 1.0189e-01, 9.3467e-02, 7.5450e-02, 6.1778e-02, 5.2316e-02,\n",
              "         4.8228e-02, 5.6958e-02, 9.1961e-02, 1.8154e-01, 3.2670e-01, 4.7789e-01,\n",
              "         5.5600e-01, 5.0929e-01, 3.6437e-01, 2.2059e-01, 1.0743e-01, 3.3211e-02,\n",
              "         3.2410e-03, 0.0000e+00, 0.0000e+00, 0.0000e+00],\n",
              "        [0.0000e+00, 2.5521e-04, 9.1678e-03, 4.0289e-02, 8.8192e-02, 1.3721e-01,\n",
              "         1.6905e-01, 1.8232e-01, 1.7508e-01, 1.5029e-01, 1.2213e-01, 9.8687e-02,\n",
              "         9.3244e-02, 1.1323e-01, 1.7340e-01, 2.8420e-01, 4.3076e-01, 5.4810e-01,\n",
              "         5.7053e-01, 4.8661e-01, 3.3786e-01, 2.0005e-01, 9.1660e-02, 2.4017e-02,\n",
              "         2.2828e-03, 1.3432e-05, 0.0000e+00, 0.0000e+00],\n",
              "        [0.0000e+00, 4.6565e-04, 1.0415e-02, 4.8182e-02, 1.0872e-01, 1.8070e-01,\n",
              "         2.4184e-01, 2.8666e-01, 3.0795e-01, 2.9331e-01, 2.6096e-01, 2.3568e-01,\n",
              "         2.3487e-01, 2.7473e-01, 3.5662e-01, 4.6657e-01, 5.7225e-01, 6.1136e-01,\n",
              "         5.6052e-01, 4.2788e-01, 2.7981e-01, 1.5136e-01, 6.0435e-02, 1.3841e-02,\n",
              "         1.2274e-03, 1.3432e-05, 4.9891e-05, 0.0000e+00],\n",
              "        [0.0000e+00, 3.6267e-04, 8.7373e-03, 4.1436e-02, 1.0026e-01, 1.8489e-01,\n",
              "         2.8464e-01, 3.7627e-01, 4.4899e-01, 4.7922e-01, 4.8200e-01, 4.7516e-01,\n",
              "         4.8842e-01, 5.3127e-01, 5.9328e-01, 6.4996e-01, 6.6266e-01, 6.0082e-01,\n",
              "         4.7449e-01, 3.2416e-01, 1.8824e-01, 8.8396e-02, 2.8767e-02, 5.4074e-03,\n",
              "         3.2621e-04, 0.0000e+00, 2.1108e-05, 0.0000e+00],\n",
              "        [0.0000e+00, 3.1342e-05, 6.0810e-03, 2.7270e-02, 7.3331e-02, 1.4404e-01,\n",
              "         2.5190e-01, 3.7506e-01, 4.9620e-01, 5.9483e-01, 6.5782e-01, 6.9493e-01,\n",
              "         7.1683e-01, 7.2840e-01, 7.2238e-01, 6.8208e-01, 5.9055e-01, 4.5946e-01,\n",
              "         3.1460e-01, 1.8711e-01, 9.4876e-02, 3.7261e-02, 1.0511e-02, 1.6490e-03,\n",
              "         3.5180e-05, 0.0000e+00, 3.1981e-06, 0.0000e+00],\n",
              "        [0.0000e+00, 0.0000e+00, 2.3519e-03, 1.2594e-02, 3.9571e-02, 8.3350e-02,\n",
              "         1.5672e-01, 2.5775e-01, 3.7410e-01, 4.8738e-01, 5.8281e-01, 6.4514e-01,\n",
              "         6.6356e-01, 6.4247e-01, 5.7364e-01, 4.7332e-01, 3.5329e-01, 2.3856e-01,\n",
              "         1.4426e-01, 7.5467e-02, 3.0740e-02, 9.7691e-03, 2.4229e-03, 3.6651e-04,\n",
              "         1.4839e-04, 7.6756e-06, 5.1810e-05, 0.0000e+00],\n",
              "        [0.0000e+00, 0.0000e+00, 5.4113e-04, 3.9555e-03, 1.3458e-02, 3.0013e-02,\n",
              "         5.8374e-02, 9.7864e-02, 1.4818e-01, 2.0402e-01, 2.5312e-01, 2.8803e-01,\n",
              "         2.9355e-01, 2.7630e-01, 2.3039e-01, 1.7364e-01, 1.1796e-01, 7.1760e-02,\n",
              "         3.6760e-02, 1.6373e-02, 5.7541e-03, 2.0769e-03, 6.1021e-04, 1.2153e-04,\n",
              "         0.0000e+00, 0.0000e+00, 0.0000e+00, 0.0000e+00],\n",
              "        [0.0000e+00, 0.0000e+00, 3.7099e-05, 1.2473e-04, 1.2447e-03, 3.0402e-03,\n",
              "         6.6873e-03, 1.1371e-02, 1.8533e-02, 2.5284e-02, 3.1993e-02, 3.5295e-02,\n",
              "         3.6504e-02, 3.4298e-02, 2.8593e-02, 2.1875e-02, 1.5417e-02, 9.1748e-03,\n",
              "         5.0454e-03, 2.8687e-03, 1.1430e-03, 4.5350e-04, 2.1683e-04, 0.0000e+00,\n",
              "         0.0000e+00, 0.0000e+00, 0.0000e+00, 0.0000e+00],\n",
              "        [0.0000e+00, 0.0000e+00, 0.0000e+00, 0.0000e+00, 1.0234e-05, 8.0593e-05,\n",
              "         1.6630e-04, 3.6459e-04, 4.0041e-04, 5.1362e-04, 7.4325e-04, 9.5497e-04,\n",
              "         1.0643e-03, 1.3560e-03, 1.0484e-03, 8.3855e-04, 1.0260e-03, 9.5497e-04,\n",
              "         7.4645e-04, 5.3793e-04, 3.6523e-04, 1.9637e-04, 2.8783e-05, 0.0000e+00,\n",
              "         0.0000e+00, 0.0000e+00, 0.0000e+00, 0.0000e+00],\n",
              "        [0.0000e+00, 0.0000e+00, 0.0000e+00, 0.0000e+00, 0.0000e+00, 0.0000e+00,\n",
              "         0.0000e+00, 0.0000e+00, 0.0000e+00, 0.0000e+00, 0.0000e+00, 0.0000e+00,\n",
              "         0.0000e+00, 0.0000e+00, 0.0000e+00, 0.0000e+00, 0.0000e+00, 0.0000e+00,\n",
              "         0.0000e+00, 0.0000e+00, 0.0000e+00, 0.0000e+00, 0.0000e+00, 0.0000e+00,\n",
              "         0.0000e+00, 0.0000e+00, 0.0000e+00, 0.0000e+00]])"
            ]
          },
          "metadata": {
            "tags": []
          },
          "execution_count": 11
        }
      ]
    },
    {
      "cell_type": "markdown",
      "metadata": {
        "id": "v7aidLixDPsi"
      },
      "source": [
        "### Trying both L1 and L2 norm"
      ]
    },
    {
      "cell_type": "code",
      "metadata": {
        "colab": {
          "base_uri": "https://localhost:8080/",
          "height": 102
        },
        "id": "xVJzT7F3HsMO",
        "outputId": "59cb5872-a335-409a-9b29-fa7fe972221f"
      },
      "source": [
        "# Sample 3, one img of a stacked three \n",
        "\n",
        "a_3 = stacked_threes[1] \n",
        "show_image(a_3) # Now gotta calculate this with average 3 we created"
      ],
      "execution_count": 12,
      "outputs": [
        {
          "output_type": "execute_result",
          "data": {
            "text/plain": [
              "<matplotlib.axes._subplots.AxesSubplot at 0x7fdef2c00240>"
            ]
          },
          "metadata": {
            "tags": []
          },
          "execution_count": 12
        },
        {
          "output_type": "display_data",
          "data": {
            "image/png": "[encoded data removed]",
            "text/plain": [
              "<Figure size 72x72 with 1 Axes>"
            ]
          },
          "metadata": {
            "tags": [],
            "needs_background": "light"
          }
        }
      ]
    },
    {
      "cell_type": "code",
      "metadata": {
        "colab": {
          "base_uri": "https://localhost:8080/"
        },
        "id": "bCg1zeF7HkVi",
        "outputId": "25789600-3573-4f8d-9fe9-78396202f0c8"
      },
      "source": [
        "# This is the L1 norm or mean of the absolute value of differences\n",
        "\n",
        "dist_3_abs = (a_3 - mean3).abs().mean() # replace -ve with +ve\n",
        "\n",
        "# This is the L2 norm, root mean squared error (RMSE)\n",
        "dist_3_sqrt = ((a_3 - mean3)**2).mean().sqrt()\n",
        "\n",
        "# Printing both \n",
        "print(f'This the distance calculated from mean3 to single 3 using L1 norm: {dist_3_abs}')\n",
        "print(f'This the distance calculated from mean3 to single 3 using L2 norm: {dist_3_sqrt}')"
      ],
      "execution_count": 13,
      "outputs": [
        {
          "output_type": "stream",
          "text": [
            "This the distance calculated from mean3 to single 3 using L1 norm: 0.11143654584884644\n",
            "This the distance calculated from mean3 to single 3 using L2 norm: 0.20208320021629333\n"
          ],
          "name": "stdout"
        }
      ]
    },
    {
      "cell_type": "code",
      "metadata": {
        "colab": {
          "base_uri": "https://localhost:8080/"
        },
        "id": "bNtxllzdIr58",
        "outputId": "d7481731-a0f2-463b-936d-6ee86beff770"
      },
      "source": [
        "# Calculating the same for 7 \n",
        "\n",
        "dist_7_abs = (a_3 - mean7).abs().mean()\n",
        "dist_7_sqrt = ((a_3 - mean7)**2).mean().sqrt()\n",
        "\n",
        "dist_7_abs , dist_7_sqrt "
      ],
      "execution_count": 14,
      "outputs": [
        {
          "output_type": "execute_result",
          "data": {
            "text/plain": [
              "(tensor(0.1586), tensor(0.3021))"
            ]
          },
          "metadata": {
            "tags": []
          },
          "execution_count": 14
        }
      ]
    },
    {
      "cell_type": "markdown",
      "metadata": {
        "id": "i9J3Xi1eJEM7"
      },
      "source": [
        "# From Array's to Pytorch Tensors \n",
        "\n",
        "Here we will dig deep into Pytorch itself, unfolding the functionality of Pytorch and tidbits which we can use on fastai to ease our process. "
      ]
    },
    {
      "cell_type": "code",
      "metadata": {
        "colab": {
          "base_uri": "https://localhost:8080/"
        },
        "id": "fqA4xbJxLy4E",
        "outputId": "59d843f6-8fd4-4cc9-fd75-b6de60daf85c"
      },
      "source": [
        "# Creating a numpy array and pytorch tensor\n",
        "\n",
        "data = [[1,2,3],[4,5,6]]\n",
        "arr = array (data)\n",
        "tns = tensor(data)\n",
        "\n",
        "\n",
        "print(f'This is the numpy array: {arr} and the type {type(arr)}')\n",
        "print(f'This is a Pytorch Tensor: {tns} and the type {type(tns)}')"
      ],
      "execution_count": 15,
      "outputs": [
        {
          "output_type": "stream",
          "text": [
            "This is the numpy array: [[1 2 3]\n",
            " [4 5 6]] and the type <class 'numpy.ndarray'>\n",
            "This is a Pytorch Tensor: tensor([[1, 2, 3],\n",
            "        [4, 5, 6]]) and the type <class 'torch.Tensor'>\n"
          ],
          "name": "stdout"
        }
      ]
    },
    {
      "cell_type": "markdown",
      "metadata": {
        "id": "4Lte0I8DMHpm"
      },
      "source": [
        "## Operation on Tensor"
      ]
    },
    {
      "cell_type": "code",
      "metadata": {
        "colab": {
          "base_uri": "https://localhost:8080/"
        },
        "id": "DK7NKN7UMvkM",
        "outputId": "c103769b-858b-44f6-b217-2fdd5f9bf137"
      },
      "source": [
        "# Indexing a tensor \n",
        "\n",
        "print(tns[1])\n",
        "print(tns[0:2])"
      ],
      "execution_count": 16,
      "outputs": [
        {
          "output_type": "stream",
          "text": [
            "tensor([4, 5, 6])\n",
            "tensor([[1, 2, 3],\n",
            "        [4, 5, 6]])\n"
          ],
          "name": "stdout"
        }
      ]
    },
    {
      "cell_type": "code",
      "metadata": {
        "colab": {
          "base_uri": "https://localhost:8080/"
        },
        "id": "qIFHtYv6Mz-i",
        "outputId": "10cbeba3-5992-46ff-8cf4-3488c6d011f6"
      },
      "source": [
        "# Indexing just the coloumn using [: , num]\n",
        "\n",
        "tns[: , 2] , tns[: , 1]"
      ],
      "execution_count": 17,
      "outputs": [
        {
          "output_type": "execute_result",
          "data": {
            "text/plain": [
              "(tensor([3, 6]), tensor([2, 5]))"
            ]
          },
          "metadata": {
            "tags": []
          },
          "execution_count": 17
        }
      ]
    },
    {
      "cell_type": "code",
      "metadata": {
        "colab": {
          "base_uri": "https://localhost:8080/"
        },
        "id": "poA_BCrpNRke",
        "outputId": "a0255ac4-1da9-45fe-c4a0-d20b02663850"
      },
      "source": [
        "# With start and end indexing [start : end ] or slicing\n",
        "\n",
        "tns[0 , 0:1] , tns[1 , 0:3]"
      ],
      "execution_count": 18,
      "outputs": [
        {
          "output_type": "execute_result",
          "data": {
            "text/plain": [
              "(tensor([1]), tensor([4, 5, 6]))"
            ]
          },
          "metadata": {
            "tags": []
          },
          "execution_count": 18
        }
      ]
    },
    {
      "cell_type": "code",
      "metadata": {
        "colab": {
          "base_uri": "https://localhost:8080/"
        },
        "id": "D1LzYsmiNkoT",
        "outputId": "8d9d5592-eddd-468c-b07e-54c338483511"
      },
      "source": [
        "# Using Standard operations \n",
        "\n",
        "print(tns + 1)\n",
        "\n",
        "print(tns * 4)"
      ],
      "execution_count": 19,
      "outputs": [
        {
          "output_type": "stream",
          "text": [
            "tensor([[2, 3, 4],\n",
            "        [5, 6, 7]])\n",
            "tensor([[ 4,  8, 12],\n",
            "        [16, 20, 24]])\n"
          ],
          "name": "stdout"
        }
      ]
    },
    {
      "cell_type": "code",
      "metadata": {
        "colab": {
          "base_uri": "https://localhost:8080/",
          "height": 35
        },
        "id": "fErBT5W-ODSE",
        "outputId": "14efb97f-f352-4495-892e-65684a25de7d"
      },
      "source": [
        "# Checking the type of a tensor \n",
        "\n",
        "tns.type()"
      ],
      "execution_count": 20,
      "outputs": [
        {
          "output_type": "execute_result",
          "data": {
            "application/vnd.google.colaboratory.intrinsic+json": {
              "type": "string"
            },
            "text/plain": [
              "'torch.LongTensor'"
            ]
          },
          "metadata": {
            "tags": []
          },
          "execution_count": 20
        }
      ]
    },
    {
      "cell_type": "markdown",
      "metadata": {
        "id": "Yy909SO4OPFa"
      },
      "source": [
        "## The Idea of Broadcasting and computing with it. \n",
        "\n",
        "\n",
        "For now we want to calculate the **metric** over our **validation set.** Well this is because to avoid overfitting. Since we dont have a dedicated valid set here we are going to take a part of our training data and use it for validation set.\n",
        "\n",
        "Below cells will work on creating a validation set and introduce to the concept of broadcasting. "
      ]
    },
    {
      "cell_type": "code",
      "metadata": {
        "colab": {
          "base_uri": "https://localhost:8080/"
        },
        "id": "3bPCWqeJOXRp",
        "outputId": "8550286c-acb4-490b-df16-3986f4e368db"
      },
      "source": [
        "# Creating valid 3 and 7 tensors \n",
        "\n",
        "valid_3_tens = torch.stack([tensor(Image.open(o)) for o in \n",
        "                            (path / 'valid' /'3').ls()])\n",
        "\n",
        "valid_7_tens = torch.stack([tensor(Image.open(o)) for o in \n",
        "                            (path/'valid'/'7').ls()])\n",
        "\n",
        "# Putitng them into 0 and 1 \n",
        "\n",
        "valid_3_tens = valid_3_tens.float() / 255\n",
        "valid_7_tens = valid_7_tens.float() / 255\n",
        "\n",
        "\n",
        "print(f'The shape of valid 3 tensor{valid_3_tens.shape}')\n",
        "print(f'The shape of valid 7 tensor{valid_7_tens.shape}')"
      ],
      "execution_count": 21,
      "outputs": [
        {
          "output_type": "stream",
          "text": [
            "The shape of valid 3 tensortorch.Size([1010, 28, 28])\n",
            "The shape of valid 7 tensortorch.Size([1028, 28, 28])\n"
          ],
          "name": "stdout"
        }
      ]
    },
    {
      "cell_type": "markdown",
      "metadata": {
        "id": "SH_Jl9cDQ-pp"
      },
      "source": [
        "Now having those validation set, we gotta write a function kinda `is_3` that will decide if an arbitrary image is 3 or 7. It will decide by which of these two **ideal digits (3 or 7)** closer to the arbitrary value. \n",
        "\n",
        "For that we need to define a notion of distance, which means a function which calculates distance between two images. \n",
        "\n",
        "\n",
        "I raised a thread why we use `(-1,-2)` with the mean. Here it got answered \n",
        "\n",
        "https://forums.fast.ai/t/understanding-mean-1-2-in-mnist-distance/84430/4"
      ]
    },
    {
      "cell_type": "code",
      "metadata": {
        "colab": {
          "base_uri": "https://localhost:8080/"
        },
        "id": "XjKatrH5TF7P",
        "outputId": "0c983ee2-cee2-401a-eed7-b85ee308fe33"
      },
      "source": [
        "# Writing the function which cal dist btw ideal and arbitrary value\n",
        "\n",
        "def mnist_distance(a, b):\n",
        "  return (a-b).abs().mean((-1 , -2))\n",
        "\n",
        "# Passing in ideal and arbitrary \n",
        "\n",
        "mnist_distance(a_3 , mean3)"
      ],
      "execution_count": 22,
      "outputs": [
        {
          "output_type": "execute_result",
          "data": {
            "text/plain": [
              "tensor(0.1114)"
            ]
          },
          "metadata": {
            "tags": []
          },
          "execution_count": 22
        }
      ]
    },
    {
      "cell_type": "markdown",
      "metadata": {
        "id": "DkGJRg5lVJoW"
      },
      "source": [
        "#### Decoding mnist_distance for understanding"
      ]
    },
    {
      "cell_type": "code",
      "metadata": {
        "colab": {
          "base_uri": "https://localhost:8080/"
        },
        "id": "RcCKHHWtVOKp",
        "outputId": "5d730512-cda2-4d1a-a4c4-930429b66291"
      },
      "source": [
        "ab = (a_3 - mean3).abs()\n",
        "print(ab[:2])"
      ],
      "execution_count": 23,
      "outputs": [
        {
          "output_type": "stream",
          "text": [
            "tensor([[0., 0., 0., 0., 0., 0., 0., 0., 0., 0., 0., 0., 0., 0., 0., 0., 0., 0., 0., 0., 0., 0., 0., 0.,\n",
            "         0., 0., 0., 0.],\n",
            "        [0., 0., 0., 0., 0., 0., 0., 0., 0., 0., 0., 0., 0., 0., 0., 0., 0., 0., 0., 0., 0., 0., 0., 0.,\n",
            "         0., 0., 0., 0.]])\n"
          ],
          "name": "stdout"
        }
      ]
    },
    {
      "cell_type": "code",
      "metadata": {
        "colab": {
          "base_uri": "https://localhost:8080/"
        },
        "id": "vjzcMqa4VbKL",
        "outputId": "18b7561c-3baa-4653-cc79-4ed1d16d2aee"
      },
      "source": [
        "ab.mean()"
      ],
      "execution_count": 24,
      "outputs": [
        {
          "output_type": "execute_result",
          "data": {
            "text/plain": [
              "tensor(0.1114)"
            ]
          },
          "metadata": {
            "tags": []
          },
          "execution_count": 24
        }
      ]
    },
    {
      "cell_type": "code",
      "metadata": {
        "colab": {
          "base_uri": "https://localhost:8080/"
        },
        "id": "2CN9YuL3VnQv",
        "outputId": "faf9dcaa-5a4f-4325-93c0-a6045a52e58e"
      },
      "source": [
        "ab.mean((-1 , -2))"
      ],
      "execution_count": 25,
      "outputs": [
        {
          "output_type": "execute_result",
          "data": {
            "text/plain": [
              "tensor(0.1114)"
            ]
          },
          "metadata": {
            "tags": []
          },
          "execution_count": 25
        }
      ]
    },
    {
      "cell_type": "markdown",
      "metadata": {
        "id": "YUUJgsgcYj0q"
      },
      "source": [
        "\n",
        "#### With the power of Broadcasting calculating for all tensors in the validation set. "
      ]
    },
    {
      "cell_type": "code",
      "metadata": {
        "colab": {
          "base_uri": "https://localhost:8080/"
        },
        "id": "POEEr3UoY-HR",
        "outputId": "a453e1e6-c416-4cee-ca63-07d0122779bc"
      },
      "source": [
        "valid_3_dist = mnist_distance(valid_3_tens , mean3)\n",
        "\n",
        "\n",
        "print(f'The shape of distance calculated : {valid_3_dist.shape}')"
      ],
      "execution_count": 26,
      "outputs": [
        {
          "output_type": "stream",
          "text": [
            "The shape of distance calculated : torch.Size([1010])\n"
          ],
          "name": "stdout"
        }
      ]
    },
    {
      "cell_type": "code",
      "metadata": {
        "colab": {
          "base_uri": "https://localhost:8080/"
        },
        "id": "6ZW7go_1ZQkI",
        "outputId": "19b0476e-a0b7-487c-f4c0-e169cc6377a7"
      },
      "source": [
        "# It has every distance for 1011 images, and stacked into a tensor.\n",
        "\n",
        "valid_3_dist"
      ],
      "execution_count": 27,
      "outputs": [
        {
          "output_type": "execute_result",
          "data": {
            "text/plain": [
              "tensor([0.1328, 0.1288, 0.1230,  ..., 0.1168, 0.1132, 0.1344])"
            ]
          },
          "metadata": {
            "tags": []
          },
          "execution_count": 27
        }
      ]
    },
    {
      "cell_type": "code",
      "metadata": {
        "colab": {
          "base_uri": "https://localhost:8080/"
        },
        "id": "VhRgiADYZXgq",
        "outputId": "c7da1131-818a-454d-865b-fef3237459ea"
      },
      "source": [
        "# After broadcasting the two argument tensors have the same rank. \n",
        "\n",
        "test_rank = tensor([1,2,4]) + tensor([1,24,5] , \n",
        "                         [1,234,2])\n",
        "\n",
        "test_rank.ndim # Before it was 1 and 2 now after broadcasting became 2"
      ],
      "execution_count": 28,
      "outputs": [
        {
          "output_type": "execute_result",
          "data": {
            "text/plain": [
              "2"
            ]
          },
          "metadata": {
            "tags": []
          },
          "execution_count": 28
        }
      ]
    },
    {
      "cell_type": "code",
      "metadata": {
        "colab": {
          "base_uri": "https://localhost:8080/"
        },
        "id": "H1rL8SJadH4m",
        "outputId": "1ea27f18-30bc-44a7-d5c5-c78d4e7efae9"
      },
      "source": [
        "valid_3_tens.shape , a_3.shape # It will broadcast to the large rank"
      ],
      "execution_count": 29,
      "outputs": [
        {
          "output_type": "execute_result",
          "data": {
            "text/plain": [
              "(torch.Size([1010, 28, 28]), torch.Size([28, 28]))"
            ]
          },
          "metadata": {
            "tags": []
          },
          "execution_count": 29
        }
      ]
    },
    {
      "cell_type": "code",
      "metadata": {
        "colab": {
          "base_uri": "https://localhost:8080/"
        },
        "id": "DWPobg6pelIo",
        "outputId": "d0cc5fdc-4b4f-4d77-f343-88d87ecde890"
      },
      "source": [
        "# Talking about axes \n",
        "\n",
        "valid_3_tens.ndim"
      ],
      "execution_count": 30,
      "outputs": [
        {
          "output_type": "execute_result",
          "data": {
            "text/plain": [
              "3"
            ]
          },
          "metadata": {
            "tags": []
          },
          "execution_count": 30
        }
      ]
    },
    {
      "cell_type": "markdown",
      "metadata": {
        "id": "kwot7b-1ucVC"
      },
      "source": [
        "By using `mnist_distance` we can figure out wheter an image is a 3 by using the following logic: \n",
        "\n",
        "* If the distance between digit in question and ideal `3` is less than the distance to the ideal `7`, then its a `3`. \n",
        "\n",
        "The below function will automatically use broadcasting. "
      ]
    },
    {
      "cell_type": "code",
      "metadata": {
        "colab": {
          "base_uri": "https://localhost:8080/"
        },
        "id": "VGPacqsEoGcF",
        "outputId": "38f3c782-339d-4a11-9355-70cfa52d3fc5"
      },
      "source": [
        "mean3.ndim , mean3.shape"
      ],
      "execution_count": 31,
      "outputs": [
        {
          "output_type": "execute_result",
          "data": {
            "text/plain": [
              "(2, torch.Size([28, 28]))"
            ]
          },
          "metadata": {
            "tags": []
          },
          "execution_count": 31
        }
      ]
    },
    {
      "cell_type": "code",
      "metadata": {
        "id": "MumT5aFOn76R"
      },
      "source": [
        "## Function to check whether its 3 or not \n",
        "\n",
        "def is_3(x):\n",
        "  return mnist_distance(x , mean3) < mnist_distance(x , mean7)"
      ],
      "execution_count": 32,
      "outputs": []
    },
    {
      "cell_type": "code",
      "metadata": {
        "colab": {
          "base_uri": "https://localhost:8080/"
        },
        "id": "8fNU34g2oOOO",
        "outputId": "83b6edcc-da64-4d6f-d78c-00fe50d886b5"
      },
      "source": [
        "# Testing the function we made above \n",
        "\n",
        "is_3(valid_3_tens[0]) , is_3(a_3).float() # True means its a 3"
      ],
      "execution_count": 33,
      "outputs": [
        {
          "output_type": "execute_result",
          "data": {
            "text/plain": [
              "(tensor(True), tensor(1.))"
            ]
          },
          "metadata": {
            "tags": []
          },
          "execution_count": 33
        }
      ]
    },
    {
      "cell_type": "code",
      "metadata": {
        "colab": {
          "base_uri": "https://localhost:8080/"
        },
        "id": "GW75FceloVtk",
        "outputId": "216d8675-6094-43b4-fbd4-3f89143c252d"
      },
      "source": [
        "# Testing 7 \n",
        "\n",
        "a_7 = stacked_sevens[3]\n",
        "\n",
        "is_3(a_7) , is_3(a_7).float() # If its false then it means a 7"
      ],
      "execution_count": 34,
      "outputs": [
        {
          "output_type": "execute_result",
          "data": {
            "text/plain": [
              "(tensor(False), tensor(0.))"
            ]
          },
          "metadata": {
            "tags": []
          },
          "execution_count": 34
        }
      ]
    },
    {
      "cell_type": "code",
      "metadata": {
        "colab": {
          "base_uri": "https://localhost:8080/"
        },
        "id": "LJtgqBzSoi6w",
        "outputId": "d5035886-f6ae-4f55-b401-1a83f1af2aa6"
      },
      "source": [
        "# Decoding the above function, ima idiot was checking with a_7 shit\n",
        "\n",
        "mnist_distance(a_3 , mean3) , mnist_distance(a_3 , mean7)"
      ],
      "execution_count": 35,
      "outputs": [
        {
          "output_type": "execute_result",
          "data": {
            "text/plain": [
              "(tensor(0.1114), tensor(0.1586))"
            ]
          },
          "metadata": {
            "tags": []
          },
          "execution_count": 35
        }
      ]
    },
    {
      "cell_type": "code",
      "metadata": {
        "colab": {
          "base_uri": "https://localhost:8080/"
        },
        "id": "F_K9ASosSyQK",
        "outputId": "8533c9fc-ed9c-48de-b90b-5c0d98ac6cc7"
      },
      "source": [
        "mnist_distance(a_3 , mean3) <  mnist_distance(a_3 , mean7)"
      ],
      "execution_count": 36,
      "outputs": [
        {
          "output_type": "execute_result",
          "data": {
            "text/plain": [
              "tensor(True)"
            ]
          },
          "metadata": {
            "tags": []
          },
          "execution_count": 36
        }
      ]
    },
    {
      "cell_type": "markdown",
      "metadata": {
        "id": "0xx1RX8tS5B9"
      },
      "source": [
        "**By Broadcasting, testing our `is_3` function on the whole sets**"
      ]
    },
    {
      "cell_type": "code",
      "metadata": {
        "colab": {
          "base_uri": "https://localhost:8080/"
        },
        "id": "cITCwMIFTsUi",
        "outputId": "2c87f6fc-6a9d-4a87-ab81-7c500c02ad63"
      },
      "source": [
        "is_3(valid_3_tens) # We will get a list of boolean"
      ],
      "execution_count": 37,
      "outputs": [
        {
          "output_type": "execute_result",
          "data": {
            "text/plain": [
              "tensor([True, True, True,  ..., True, True, True])"
            ]
          },
          "metadata": {
            "tags": []
          },
          "execution_count": 37
        }
      ]
    },
    {
      "cell_type": "code",
      "metadata": {
        "colab": {
          "base_uri": "https://localhost:8080/",
          "height": 102
        },
        "id": "PFIL3-BCTzzK",
        "outputId": "fbebfdcf-99a8-43cc-dad0-c61664cb36a8"
      },
      "source": [
        "# The reason for false, our model couldnt infer it properly\n",
        "\n",
        "show_image(valid_3_tens[0])"
      ],
      "execution_count": 38,
      "outputs": [
        {
          "output_type": "execute_result",
          "data": {
            "text/plain": [
              "<matplotlib.axes._subplots.AxesSubplot at 0x7fdef2b5d208>"
            ]
          },
          "metadata": {
            "tags": []
          },
          "execution_count": 38
        },
        {
          "output_type": "display_data",
          "data": {
            "image/png": "[encoded data removed]",
            "text/plain": [
              "<Figure size 72x72 with 1 Axes>"
            ]
          },
          "metadata": {
            "tags": [],
            "needs_background": "light"
          }
        }
      ]
    },
    {
      "cell_type": "markdown",
      "metadata": {
        "id": "3DWqcC5kT3Vu"
      },
      "source": [
        "### Calculating Accuracy \n",
        "\n",
        "Here we are calculating accuracy, for each of the `3s` and `7s` by taking the average of that function. For all the `3s` and inverse for all the `7s`.\n",
        "\n",
        "This will be how accurate our function `is_3()` able to detect whether its 3 or 7.  "
      ]
    },
    {
      "cell_type": "code",
      "metadata": {
        "id": "rmGpk2WKVNSl"
      },
      "source": [
        "# For 3\n",
        "accuracy_3s = is_3(valid_3_tens).float().mean() # We use mean to take average\n",
        "\n",
        "# For 7, will take inverse of all the 7s \n",
        "accuracy_7s = (1 - is_3(valid_7_tens).float().mean())"
      ],
      "execution_count": 39,
      "outputs": []
    },
    {
      "cell_type": "code",
      "metadata": {
        "colab": {
          "base_uri": "https://localhost:8080/"
        },
        "id": "7f-aPAOHWA5L",
        "outputId": "c4c50625-db84-4e0b-f0a8-cd500b0de6cc"
      },
      "source": [
        "print(f'The accuracy of all the 3s: {accuracy_3s}')  \n",
        "print(f'The accuracy of all the 7s: {accuracy_7s}')\n",
        "print(f'On combined how much our is_3() able to detect accurately: {(accuracy_3s + accuracy_7s) / 2}')"
      ],
      "execution_count": 40,
      "outputs": [
        {
          "output_type": "stream",
          "text": [
            "The accuracy of all the 3s: 0.9168316721916199\n",
            "The accuracy of all the 7s: 0.9854085445404053\n",
            "On combined how much our is_3() able to detect accurately: 0.951120138168335\n"
          ],
          "name": "stdout"
        }
      ]
    },
    {
      "cell_type": "markdown",
      "metadata": {
        "id": "7m7M0gS8WDTN"
      },
      "source": [
        "# Stochastic Gradient Descent (SGD)\n",
        "\n",
        "This is something which will allows our model to get better and better which can learn. In pixel similarity approach we don't have,\n",
        "\n",
        "- any kind of weight assignment\n",
        "- any way of improving based on testing the effectiveness of a weight assignment.\n",
        "\n",
        "In a nut shell we can't improve our pixel similarity approach by modifying a set of parameters."
      ]
    },
    {
      "cell_type": "code",
      "metadata": {
        "id": "E-g4_MFXWQjQ",
        "colab": {
          "base_uri": "https://localhost:8080/",
          "height": 648
        },
        "outputId": "9549b9cd-413e-438f-affa-9fab5596b7b0"
      },
      "source": [
        "# Representing 3 in a df \n",
        "\n",
        "\n",
        "im3_path = threes[1]\n",
        "im3 = Image.open(im3_path)\n",
        "im3_t = tensor(im3)\n",
        "df = pd.DataFrame(im3_t)\n",
        "df.style.set_properties(**{'font_size':'6pt'}).background_gradient('Greys')"
      ],
      "execution_count": 41,
      "outputs": [
        {
          "output_type": "execute_result",
          "data": {
            "text/html": [
              "<style  type=\"text/css\" >\n",
              "#T_f9e00dca_5a01_11eb_a716_0242ac1c0002row0_col0,#T_f9e00dca_5a01_11eb_a716_0242ac1c0002row0_col1,#T_f9e00dca_5a01_11eb_a716_0242ac1c0002row0_col2,#T_f9e00dca_5a01_11eb_a716_0242ac1c0002row0_col3,#T_f9e00dca_5a01_11eb_a716_0242ac1c0002row0_col4,#T_f9e00dca_5a01_11eb_a716_0242ac1c0002row0_col5,#T_f9e00dca_5a01_11eb_a716_0242ac1c0002row0_col6,#T_f9e00dca_5a01_11eb_a716_0242ac1c0002row0_col7,#T_f9e00dca_5a01_11eb_a716_0242ac1c0002row0_col8,#T_f9e00dca_5a01_11eb_a716_0242ac1c0002row0_col9,#T_f9e00dca_5a01_11eb_a716_0242ac1c0002row0_col10,#T_f9e00dca_5a01_11eb_a716_0242ac1c0002row0_col11,#T_f9e00dca_5a01_11eb_a716_0242ac1c0002row0_col12,#T_f9e00dca_5a01_11eb_a716_0242ac1c0002row0_col13,#T_f9e00dca_5a01_11eb_a716_0242ac1c0002row0_col14,#T_f9e00dca_5a01_11eb_a716_0242ac1c0002row0_col15,#T_f9e00dca_5a01_11eb_a716_0242ac1c0002row0_col16,#T_f9e00dca_5a01_11eb_a716_0242ac1c0002row0_col17,#T_f9e00dca_5a01_11eb_a716_0242ac1c0002row0_col18,#T_f9e00dca_5a01_11eb_a716_0242ac1c0002row0_col19,#T_f9e00dca_5a01_11eb_a716_0242ac1c0002row0_col20,#T_f9e00dca_5a01_11eb_a716_0242ac1c0002row0_col21,#T_f9e00dca_5a01_11eb_a716_0242ac1c0002row0_col22,#T_f9e00dca_5a01_11eb_a716_0242ac1c0002row0_col23,#T_f9e00dca_5a01_11eb_a716_0242ac1c0002row0_col24,#T_f9e00dca_5a01_11eb_a716_0242ac1c0002row0_col25,#T_f9e00dca_5a01_11eb_a716_0242ac1c0002row0_col26,#T_f9e00dca_5a01_11eb_a716_0242ac1c0002row0_col27,#T_f9e00dca_5a01_11eb_a716_0242ac1c0002row1_col0,#T_f9e00dca_5a01_11eb_a716_0242ac1c0002row1_col1,#T_f9e00dca_5a01_11eb_a716_0242ac1c0002row1_col2,#T_f9e00dca_5a01_11eb_a716_0242ac1c0002row1_col3,#T_f9e00dca_5a01_11eb_a716_0242ac1c0002row1_col4,#T_f9e00dca_5a01_11eb_a716_0242ac1c0002row1_col5,#T_f9e00dca_5a01_11eb_a716_0242ac1c0002row1_col6,#T_f9e00dca_5a01_11eb_a716_0242ac1c0002row1_col7,#T_f9e00dca_5a01_11eb_a716_0242ac1c0002row1_col8,#T_f9e00dca_5a01_11eb_a716_0242ac1c0002row1_col9,#T_f9e00dca_5a01_11eb_a716_0242ac1c0002row1_col10,#T_f9e00dca_5a01_11eb_a716_0242ac1c0002row1_col11,#T_f9e00dca_5a01_11eb_a716_0242ac1c0002row1_col12,#T_f9e00dca_5a01_11eb_a716_0242ac1c0002row1_col13,#T_f9e00dca_5a01_11eb_a716_0242ac1c0002row1_col14,#T_f9e00dca_5a01_11eb_a716_0242ac1c0002row1_col15,#T_f9e00dca_5a01_11eb_a716_0242ac1c0002row1_col16,#T_f9e00dca_5a01_11eb_a716_0242ac1c0002row1_col17,#T_f9e00dca_5a01_11eb_a716_0242ac1c0002row1_col18,#T_f9e00dca_5a01_11eb_a716_0242ac1c0002row1_col19,#T_f9e00dca_5a01_11eb_a716_0242ac1c0002row1_col20,#T_f9e00dca_5a01_11eb_a716_0242ac1c0002row1_col21,#T_f9e00dca_5a01_11eb_a716_0242ac1c0002row1_col22,#T_f9e00dca_5a01_11eb_a716_0242ac1c0002row1_col23,#T_f9e00dca_5a01_11eb_a716_0242ac1c0002row1_col24,#T_f9e00dca_5a01_11eb_a716_0242ac1c0002row1_col25,#T_f9e00dca_5a01_11eb_a716_0242ac1c0002row1_col26,#T_f9e00dca_5a01_11eb_a716_0242ac1c0002row1_col27,#T_f9e00dca_5a01_11eb_a716_0242ac1c0002row2_col0,#T_f9e00dca_5a01_11eb_a716_0242ac1c0002row2_col1,#T_f9e00dca_5a01_11eb_a716_0242ac1c0002row2_col2,#T_f9e00dca_5a01_11eb_a716_0242ac1c0002row2_col3,#T_f9e00dca_5a01_11eb_a716_0242ac1c0002row2_col4,#T_f9e00dca_5a01_11eb_a716_0242ac1c0002row2_col5,#T_f9e00dca_5a01_11eb_a716_0242ac1c0002row2_col6,#T_f9e00dca_5a01_11eb_a716_0242ac1c0002row2_col7,#T_f9e00dca_5a01_11eb_a716_0242ac1c0002row2_col8,#T_f9e00dca_5a01_11eb_a716_0242ac1c0002row2_col9,#T_f9e00dca_5a01_11eb_a716_0242ac1c0002row2_col10,#T_f9e00dca_5a01_11eb_a716_0242ac1c0002row2_col11,#T_f9e00dca_5a01_11eb_a716_0242ac1c0002row2_col12,#T_f9e00dca_5a01_11eb_a716_0242ac1c0002row2_col13,#T_f9e00dca_5a01_11eb_a716_0242ac1c0002row2_col14,#T_f9e00dca_5a01_11eb_a716_0242ac1c0002row2_col15,#T_f9e00dca_5a01_11eb_a716_0242ac1c0002row2_col16,#T_f9e00dca_5a01_11eb_a716_0242ac1c0002row2_col17,#T_f9e00dca_5a01_11eb_a716_0242ac1c0002row2_col18,#T_f9e00dca_5a01_11eb_a716_0242ac1c0002row2_col19,#T_f9e00dca_5a01_11eb_a716_0242ac1c0002row2_col20,#T_f9e00dca_5a01_11eb_a716_0242ac1c0002row2_col21,#T_f9e00dca_5a01_11eb_a716_0242ac1c0002row2_col22,#T_f9e00dca_5a01_11eb_a716_0242ac1c0002row2_col23,#T_f9e00dca_5a01_11eb_a716_0242ac1c0002row2_col24,#T_f9e00dca_5a01_11eb_a716_0242ac1c0002row2_col25,#T_f9e00dca_5a01_11eb_a716_0242ac1c0002row2_col26,#T_f9e00dca_5a01_11eb_a716_0242ac1c0002row2_col27,#T_f9e00dca_5a01_11eb_a716_0242ac1c0002row3_col0,#T_f9e00dca_5a01_11eb_a716_0242ac1c0002row3_col1,#T_f9e00dca_5a01_11eb_a716_0242ac1c0002row3_col2,#T_f9e00dca_5a01_11eb_a716_0242ac1c0002row3_col3,#T_f9e00dca_5a01_11eb_a716_0242ac1c0002row3_col4,#T_f9e00dca_5a01_11eb_a716_0242ac1c0002row3_col5,#T_f9e00dca_5a01_11eb_a716_0242ac1c0002row3_col6,#T_f9e00dca_5a01_11eb_a716_0242ac1c0002row3_col7,#T_f9e00dca_5a01_11eb_a716_0242ac1c0002row3_col8,#T_f9e00dca_5a01_11eb_a716_0242ac1c0002row3_col9,#T_f9e00dca_5a01_11eb_a716_0242ac1c0002row3_col10,#T_f9e00dca_5a01_11eb_a716_0242ac1c0002row3_col11,#T_f9e00dca_5a01_11eb_a716_0242ac1c0002row3_col12,#T_f9e00dca_5a01_11eb_a716_0242ac1c0002row3_col13,#T_f9e00dca_5a01_11eb_a716_0242ac1c0002row3_col14,#T_f9e00dca_5a01_11eb_a716_0242ac1c0002row3_col15,#T_f9e00dca_5a01_11eb_a716_0242ac1c0002row3_col16,#T_f9e00dca_5a01_11eb_a716_0242ac1c0002row3_col17,#T_f9e00dca_5a01_11eb_a716_0242ac1c0002row3_col18,#T_f9e00dca_5a01_11eb_a716_0242ac1c0002row3_col19,#T_f9e00dca_5a01_11eb_a716_0242ac1c0002row3_col20,#T_f9e00dca_5a01_11eb_a716_0242ac1c0002row3_col21,#T_f9e00dca_5a01_11eb_a716_0242ac1c0002row3_col22,#T_f9e00dca_5a01_11eb_a716_0242ac1c0002row3_col23,#T_f9e00dca_5a01_11eb_a716_0242ac1c0002row3_col24,#T_f9e00dca_5a01_11eb_a716_0242ac1c0002row3_col25,#T_f9e00dca_5a01_11eb_a716_0242ac1c0002row3_col26,#T_f9e00dca_5a01_11eb_a716_0242ac1c0002row3_col27,#T_f9e00dca_5a01_11eb_a716_0242ac1c0002row4_col0,#T_f9e00dca_5a01_11eb_a716_0242ac1c0002row4_col1,#T_f9e00dca_5a01_11eb_a716_0242ac1c0002row4_col2,#T_f9e00dca_5a01_11eb_a716_0242ac1c0002row4_col3,#T_f9e00dca_5a01_11eb_a716_0242ac1c0002row4_col4,#T_f9e00dca_5a01_11eb_a716_0242ac1c0002row4_col5,#T_f9e00dca_5a01_11eb_a716_0242ac1c0002row4_col6,#T_f9e00dca_5a01_11eb_a716_0242ac1c0002row4_col7,#T_f9e00dca_5a01_11eb_a716_0242ac1c0002row4_col8,#T_f9e00dca_5a01_11eb_a716_0242ac1c0002row4_col9,#T_f9e00dca_5a01_11eb_a716_0242ac1c0002row4_col10,#T_f9e00dca_5a01_11eb_a716_0242ac1c0002row4_col11,#T_f9e00dca_5a01_11eb_a716_0242ac1c0002row4_col12,#T_f9e00dca_5a01_11eb_a716_0242ac1c0002row4_col13,#T_f9e00dca_5a01_11eb_a716_0242ac1c0002row4_col14,#T_f9e00dca_5a01_11eb_a716_0242ac1c0002row4_col15,#T_f9e00dca_5a01_11eb_a716_0242ac1c0002row4_col16,#T_f9e00dca_5a01_11eb_a716_0242ac1c0002row4_col17,#T_f9e00dca_5a01_11eb_a716_0242ac1c0002row4_col18,#T_f9e00dca_5a01_11eb_a716_0242ac1c0002row4_col19,#T_f9e00dca_5a01_11eb_a716_0242ac1c0002row4_col20,#T_f9e00dca_5a01_11eb_a716_0242ac1c0002row4_col21,#T_f9e00dca_5a01_11eb_a716_0242ac1c0002row4_col22,#T_f9e00dca_5a01_11eb_a716_0242ac1c0002row4_col23,#T_f9e00dca_5a01_11eb_a716_0242ac1c0002row4_col24,#T_f9e00dca_5a01_11eb_a716_0242ac1c0002row4_col25,#T_f9e00dca_5a01_11eb_a716_0242ac1c0002row4_col26,#T_f9e00dca_5a01_11eb_a716_0242ac1c0002row4_col27,#T_f9e00dca_5a01_11eb_a716_0242ac1c0002row5_col0,#T_f9e00dca_5a01_11eb_a716_0242ac1c0002row5_col1,#T_f9e00dca_5a01_11eb_a716_0242ac1c0002row5_col2,#T_f9e00dca_5a01_11eb_a716_0242ac1c0002row5_col3,#T_f9e00dca_5a01_11eb_a716_0242ac1c0002row5_col4,#T_f9e00dca_5a01_11eb_a716_0242ac1c0002row5_col5,#T_f9e00dca_5a01_11eb_a716_0242ac1c0002row5_col6,#T_f9e00dca_5a01_11eb_a716_0242ac1c0002row5_col7,#T_f9e00dca_5a01_11eb_a716_0242ac1c0002row5_col8,#T_f9e00dca_5a01_11eb_a716_0242ac1c0002row5_col19,#T_f9e00dca_5a01_11eb_a716_0242ac1c0002row5_col20,#T_f9e00dca_5a01_11eb_a716_0242ac1c0002row5_col21,#T_f9e00dca_5a01_11eb_a716_0242ac1c0002row5_col22,#T_f9e00dca_5a01_11eb_a716_0242ac1c0002row5_col23,#T_f9e00dca_5a01_11eb_a716_0242ac1c0002row5_col24,#T_f9e00dca_5a01_11eb_a716_0242ac1c0002row5_col25,#T_f9e00dca_5a01_11eb_a716_0242ac1c0002row5_col26,#T_f9e00dca_5a01_11eb_a716_0242ac1c0002row5_col27,#T_f9e00dca_5a01_11eb_a716_0242ac1c0002row6_col0,#T_f9e00dca_5a01_11eb_a716_0242ac1c0002row6_col1,#T_f9e00dca_5a01_11eb_a716_0242ac1c0002row6_col2,#T_f9e00dca_5a01_11eb_a716_0242ac1c0002row6_col3,#T_f9e00dca_5a01_11eb_a716_0242ac1c0002row6_col4,#T_f9e00dca_5a01_11eb_a716_0242ac1c0002row6_col5,#T_f9e00dca_5a01_11eb_a716_0242ac1c0002row6_col6,#T_f9e00dca_5a01_11eb_a716_0242ac1c0002row6_col19,#T_f9e00dca_5a01_11eb_a716_0242ac1c0002row6_col20,#T_f9e00dca_5a01_11eb_a716_0242ac1c0002row6_col21,#T_f9e00dca_5a01_11eb_a716_0242ac1c0002row6_col22,#T_f9e00dca_5a01_11eb_a716_0242ac1c0002row6_col23,#T_f9e00dca_5a01_11eb_a716_0242ac1c0002row6_col24,#T_f9e00dca_5a01_11eb_a716_0242ac1c0002row6_col25,#T_f9e00dca_5a01_11eb_a716_0242ac1c0002row6_col26,#T_f9e00dca_5a01_11eb_a716_0242ac1c0002row6_col27,#T_f9e00dca_5a01_11eb_a716_0242ac1c0002row7_col0,#T_f9e00dca_5a01_11eb_a716_0242ac1c0002row7_col1,#T_f9e00dca_5a01_11eb_a716_0242ac1c0002row7_col2,#T_f9e00dca_5a01_11eb_a716_0242ac1c0002row7_col3,#T_f9e00dca_5a01_11eb_a716_0242ac1c0002row7_col4,#T_f9e00dca_5a01_11eb_a716_0242ac1c0002row7_col19,#T_f9e00dca_5a01_11eb_a716_0242ac1c0002row7_col20,#T_f9e00dca_5a01_11eb_a716_0242ac1c0002row7_col21,#T_f9e00dca_5a01_11eb_a716_0242ac1c0002row7_col22,#T_f9e00dca_5a01_11eb_a716_0242ac1c0002row7_col23,#T_f9e00dca_5a01_11eb_a716_0242ac1c0002row7_col24,#T_f9e00dca_5a01_11eb_a716_0242ac1c0002row7_col25,#T_f9e00dca_5a01_11eb_a716_0242ac1c0002row7_col26,#T_f9e00dca_5a01_11eb_a716_0242ac1c0002row7_col27,#T_f9e00dca_5a01_11eb_a716_0242ac1c0002row8_col0,#T_f9e00dca_5a01_11eb_a716_0242ac1c0002row8_col1,#T_f9e00dca_5a01_11eb_a716_0242ac1c0002row8_col2,#T_f9e00dca_5a01_11eb_a716_0242ac1c0002row8_col3,#T_f9e00dca_5a01_11eb_a716_0242ac1c0002row8_col4,#T_f9e00dca_5a01_11eb_a716_0242ac1c0002row8_col10,#T_f9e00dca_5a01_11eb_a716_0242ac1c0002row8_col11,#T_f9e00dca_5a01_11eb_a716_0242ac1c0002row8_col12,#T_f9e00dca_5a01_11eb_a716_0242ac1c0002row8_col13,#T_f9e00dca_5a01_11eb_a716_0242ac1c0002row8_col14,#T_f9e00dca_5a01_11eb_a716_0242ac1c0002row8_col19,#T_f9e00dca_5a01_11eb_a716_0242ac1c0002row8_col20,#T_f9e00dca_5a01_11eb_a716_0242ac1c0002row8_col21,#T_f9e00dca_5a01_11eb_a716_0242ac1c0002row8_col22,#T_f9e00dca_5a01_11eb_a716_0242ac1c0002row8_col23,#T_f9e00dca_5a01_11eb_a716_0242ac1c0002row8_col24,#T_f9e00dca_5a01_11eb_a716_0242ac1c0002row8_col25,#T_f9e00dca_5a01_11eb_a716_0242ac1c0002row8_col26,#T_f9e00dca_5a01_11eb_a716_0242ac1c0002row8_col27,#T_f9e00dca_5a01_11eb_a716_0242ac1c0002row9_col0,#T_f9e00dca_5a01_11eb_a716_0242ac1c0002row9_col1,#T_f9e00dca_5a01_11eb_a716_0242ac1c0002row9_col2,#T_f9e00dca_5a01_11eb_a716_0242ac1c0002row9_col3,#T_f9e00dca_5a01_11eb_a716_0242ac1c0002row9_col4,#T_f9e00dca_5a01_11eb_a716_0242ac1c0002row9_col9,#T_f9e00dca_5a01_11eb_a716_0242ac1c0002row9_col10,#T_f9e00dca_5a01_11eb_a716_0242ac1c0002row9_col11,#T_f9e00dca_5a01_11eb_a716_0242ac1c0002row9_col12,#T_f9e00dca_5a01_11eb_a716_0242ac1c0002row9_col13,#T_f9e00dca_5a01_11eb_a716_0242ac1c0002row9_col19,#T_f9e00dca_5a01_11eb_a716_0242ac1c0002row9_col20,#T_f9e00dca_5a01_11eb_a716_0242ac1c0002row9_col21,#T_f9e00dca_5a01_11eb_a716_0242ac1c0002row9_col22,#T_f9e00dca_5a01_11eb_a716_0242ac1c0002row9_col23,#T_f9e00dca_5a01_11eb_a716_0242ac1c0002row9_col24,#T_f9e00dca_5a01_11eb_a716_0242ac1c0002row9_col25,#T_f9e00dca_5a01_11eb_a716_0242ac1c0002row9_col26,#T_f9e00dca_5a01_11eb_a716_0242ac1c0002row9_col27,#T_f9e00dca_5a01_11eb_a716_0242ac1c0002row10_col0,#T_f9e00dca_5a01_11eb_a716_0242ac1c0002row10_col1,#T_f9e00dca_5a01_11eb_a716_0242ac1c0002row10_col2,#T_f9e00dca_5a01_11eb_a716_0242ac1c0002row10_col3,#T_f9e00dca_5a01_11eb_a716_0242ac1c0002row10_col4,#T_f9e00dca_5a01_11eb_a716_0242ac1c0002row10_col5,#T_f9e00dca_5a01_11eb_a716_0242ac1c0002row10_col6,#T_f9e00dca_5a01_11eb_a716_0242ac1c0002row10_col7,#T_f9e00dca_5a01_11eb_a716_0242ac1c0002row10_col8,#T_f9e00dca_5a01_11eb_a716_0242ac1c0002row10_col9,#T_f9e00dca_5a01_11eb_a716_0242ac1c0002row10_col10,#T_f9e00dca_5a01_11eb_a716_0242ac1c0002row10_col11,#T_f9e00dca_5a01_11eb_a716_0242ac1c0002row10_col12,#T_f9e00dca_5a01_11eb_a716_0242ac1c0002row10_col13,#T_f9e00dca_5a01_11eb_a716_0242ac1c0002row10_col18,#T_f9e00dca_5a01_11eb_a716_0242ac1c0002row10_col19,#T_f9e00dca_5a01_11eb_a716_0242ac1c0002row10_col20,#T_f9e00dca_5a01_11eb_a716_0242ac1c0002row10_col21,#T_f9e00dca_5a01_11eb_a716_0242ac1c0002row10_col22,#T_f9e00dca_5a01_11eb_a716_0242ac1c0002row10_col23,#T_f9e00dca_5a01_11eb_a716_0242ac1c0002row10_col24,#T_f9e00dca_5a01_11eb_a716_0242ac1c0002row10_col25,#T_f9e00dca_5a01_11eb_a716_0242ac1c0002row10_col26,#T_f9e00dca_5a01_11eb_a716_0242ac1c0002row10_col27,#T_f9e00dca_5a01_11eb_a716_0242ac1c0002row11_col0,#T_f9e00dca_5a01_11eb_a716_0242ac1c0002row11_col1,#T_f9e00dca_5a01_11eb_a716_0242ac1c0002row11_col2,#T_f9e00dca_5a01_11eb_a716_0242ac1c0002row11_col3,#T_f9e00dca_5a01_11eb_a716_0242ac1c0002row11_col4,#T_f9e00dca_5a01_11eb_a716_0242ac1c0002row11_col5,#T_f9e00dca_5a01_11eb_a716_0242ac1c0002row11_col6,#T_f9e00dca_5a01_11eb_a716_0242ac1c0002row11_col7,#T_f9e00dca_5a01_11eb_a716_0242ac1c0002row11_col8,#T_f9e00dca_5a01_11eb_a716_0242ac1c0002row11_col9,#T_f9e00dca_5a01_11eb_a716_0242ac1c0002row11_col10,#T_f9e00dca_5a01_11eb_a716_0242ac1c0002row11_col17,#T_f9e00dca_5a01_11eb_a716_0242ac1c0002row11_col18,#T_f9e00dca_5a01_11eb_a716_0242ac1c0002row11_col19,#T_f9e00dca_5a01_11eb_a716_0242ac1c0002row11_col20,#T_f9e00dca_5a01_11eb_a716_0242ac1c0002row11_col21,#T_f9e00dca_5a01_11eb_a716_0242ac1c0002row11_col22,#T_f9e00dca_5a01_11eb_a716_0242ac1c0002row11_col23,#T_f9e00dca_5a01_11eb_a716_0242ac1c0002row11_col24,#T_f9e00dca_5a01_11eb_a716_0242ac1c0002row11_col25,#T_f9e00dca_5a01_11eb_a716_0242ac1c0002row11_col26,#T_f9e00dca_5a01_11eb_a716_0242ac1c0002row11_col27,#T_f9e00dca_5a01_11eb_a716_0242ac1c0002row12_col0,#T_f9e00dca_5a01_11eb_a716_0242ac1c0002row12_col1,#T_f9e00dca_5a01_11eb_a716_0242ac1c0002row12_col2,#T_f9e00dca_5a01_11eb_a716_0242ac1c0002row12_col3,#T_f9e00dca_5a01_11eb_a716_0242ac1c0002row12_col4,#T_f9e00dca_5a01_11eb_a716_0242ac1c0002row12_col5,#T_f9e00dca_5a01_11eb_a716_0242ac1c0002row12_col6,#T_f9e00dca_5a01_11eb_a716_0242ac1c0002row12_col7,#T_f9e00dca_5a01_11eb_a716_0242ac1c0002row12_col8,#T_f9e00dca_5a01_11eb_a716_0242ac1c0002row12_col17,#T_f9e00dca_5a01_11eb_a716_0242ac1c0002row12_col18,#T_f9e00dca_5a01_11eb_a716_0242ac1c0002row12_col19,#T_f9e00dca_5a01_11eb_a716_0242ac1c0002row12_col20,#T_f9e00dca_5a01_11eb_a716_0242ac1c0002row12_col21,#T_f9e00dca_5a01_11eb_a716_0242ac1c0002row12_col22,#T_f9e00dca_5a01_11eb_a716_0242ac1c0002row12_col23,#T_f9e00dca_5a01_11eb_a716_0242ac1c0002row12_col24,#T_f9e00dca_5a01_11eb_a716_0242ac1c0002row12_col25,#T_f9e00dca_5a01_11eb_a716_0242ac1c0002row12_col26,#T_f9e00dca_5a01_11eb_a716_0242ac1c0002row12_col27,#T_f9e00dca_5a01_11eb_a716_0242ac1c0002row13_col0,#T_f9e00dca_5a01_11eb_a716_0242ac1c0002row13_col1,#T_f9e00dca_5a01_11eb_a716_0242ac1c0002row13_col2,#T_f9e00dca_5a01_11eb_a716_0242ac1c0002row13_col3,#T_f9e00dca_5a01_11eb_a716_0242ac1c0002row13_col4,#T_f9e00dca_5a01_11eb_a716_0242ac1c0002row13_col5,#T_f9e00dca_5a01_11eb_a716_0242ac1c0002row13_col6,#T_f9e00dca_5a01_11eb_a716_0242ac1c0002row13_col7,#T_f9e00dca_5a01_11eb_a716_0242ac1c0002row13_col8,#T_f9e00dca_5a01_11eb_a716_0242ac1c0002row13_col20,#T_f9e00dca_5a01_11eb_a716_0242ac1c0002row13_col21,#T_f9e00dca_5a01_11eb_a716_0242ac1c0002row13_col22,#T_f9e00dca_5a01_11eb_a716_0242ac1c0002row13_col23,#T_f9e00dca_5a01_11eb_a716_0242ac1c0002row13_col24,#T_f9e00dca_5a01_11eb_a716_0242ac1c0002row13_col25,#T_f9e00dca_5a01_11eb_a716_0242ac1c0002row13_col26,#T_f9e00dca_5a01_11eb_a716_0242ac1c0002row13_col27,#T_f9e00dca_5a01_11eb_a716_0242ac1c0002row14_col0,#T_f9e00dca_5a01_11eb_a716_0242ac1c0002row14_col1,#T_f9e00dca_5a01_11eb_a716_0242ac1c0002row14_col2,#T_f9e00dca_5a01_11eb_a716_0242ac1c0002row14_col3,#T_f9e00dca_5a01_11eb_a716_0242ac1c0002row14_col4,#T_f9e00dca_5a01_11eb_a716_0242ac1c0002row14_col5,#T_f9e00dca_5a01_11eb_a716_0242ac1c0002row14_col6,#T_f9e00dca_5a01_11eb_a716_0242ac1c0002row14_col7,#T_f9e00dca_5a01_11eb_a716_0242ac1c0002row14_col8,#T_f9e00dca_5a01_11eb_a716_0242ac1c0002row14_col9,#T_f9e00dca_5a01_11eb_a716_0242ac1c0002row14_col10,#T_f9e00dca_5a01_11eb_a716_0242ac1c0002row14_col21,#T_f9e00dca_5a01_11eb_a716_0242ac1c0002row14_col22,#T_f9e00dca_5a01_11eb_a716_0242ac1c0002row14_col23,#T_f9e00dca_5a01_11eb_a716_0242ac1c0002row14_col24,#T_f9e00dca_5a01_11eb_a716_0242ac1c0002row14_col25,#T_f9e00dca_5a01_11eb_a716_0242ac1c0002row14_col26,#T_f9e00dca_5a01_11eb_a716_0242ac1c0002row14_col27,#T_f9e00dca_5a01_11eb_a716_0242ac1c0002row15_col0,#T_f9e00dca_5a01_11eb_a716_0242ac1c0002row15_col1,#T_f9e00dca_5a01_11eb_a716_0242ac1c0002row15_col2,#T_f9e00dca_5a01_11eb_a716_0242ac1c0002row15_col3,#T_f9e00dca_5a01_11eb_a716_0242ac1c0002row15_col4,#T_f9e00dca_5a01_11eb_a716_0242ac1c0002row15_col5,#T_f9e00dca_5a01_11eb_a716_0242ac1c0002row15_col6,#T_f9e00dca_5a01_11eb_a716_0242ac1c0002row15_col7,#T_f9e00dca_5a01_11eb_a716_0242ac1c0002row15_col8,#T_f9e00dca_5a01_11eb_a716_0242ac1c0002row15_col9,#T_f9e00dca_5a01_11eb_a716_0242ac1c0002row15_col10,#T_f9e00dca_5a01_11eb_a716_0242ac1c0002row15_col11,#T_f9e00dca_5a01_11eb_a716_0242ac1c0002row15_col12,#T_f9e00dca_5a01_11eb_a716_0242ac1c0002row15_col13,#T_f9e00dca_5a01_11eb_a716_0242ac1c0002row15_col21,#T_f9e00dca_5a01_11eb_a716_0242ac1c0002row15_col22,#T_f9e00dca_5a01_11eb_a716_0242ac1c0002row15_col23,#T_f9e00dca_5a01_11eb_a716_0242ac1c0002row15_col24,#T_f9e00dca_5a01_11eb_a716_0242ac1c0002row15_col25,#T_f9e00dca_5a01_11eb_a716_0242ac1c0002row15_col26,#T_f9e00dca_5a01_11eb_a716_0242ac1c0002row15_col27,#T_f9e00dca_5a01_11eb_a716_0242ac1c0002row16_col0,#T_f9e00dca_5a01_11eb_a716_0242ac1c0002row16_col1,#T_f9e00dca_5a01_11eb_a716_0242ac1c0002row16_col2,#T_f9e00dca_5a01_11eb_a716_0242ac1c0002row16_col3,#T_f9e00dca_5a01_11eb_a716_0242ac1c0002row16_col4,#T_f9e00dca_5a01_11eb_a716_0242ac1c0002row16_col5,#T_f9e00dca_5a01_11eb_a716_0242ac1c0002row16_col6,#T_f9e00dca_5a01_11eb_a716_0242ac1c0002row16_col7,#T_f9e00dca_5a01_11eb_a716_0242ac1c0002row16_col8,#T_f9e00dca_5a01_11eb_a716_0242ac1c0002row16_col9,#T_f9e00dca_5a01_11eb_a716_0242ac1c0002row16_col10,#T_f9e00dca_5a01_11eb_a716_0242ac1c0002row16_col11,#T_f9e00dca_5a01_11eb_a716_0242ac1c0002row16_col12,#T_f9e00dca_5a01_11eb_a716_0242ac1c0002row16_col13,#T_f9e00dca_5a01_11eb_a716_0242ac1c0002row16_col14,#T_f9e00dca_5a01_11eb_a716_0242ac1c0002row16_col15,#T_f9e00dca_5a01_11eb_a716_0242ac1c0002row16_col16,#T_f9e00dca_5a01_11eb_a716_0242ac1c0002row16_col21,#T_f9e00dca_5a01_11eb_a716_0242ac1c0002row16_col22,#T_f9e00dca_5a01_11eb_a716_0242ac1c0002row16_col23,#T_f9e00dca_5a01_11eb_a716_0242ac1c0002row16_col24,#T_f9e00dca_5a01_11eb_a716_0242ac1c0002row16_col25,#T_f9e00dca_5a01_11eb_a716_0242ac1c0002row16_col26,#T_f9e00dca_5a01_11eb_a716_0242ac1c0002row16_col27,#T_f9e00dca_5a01_11eb_a716_0242ac1c0002row17_col0,#T_f9e00dca_5a01_11eb_a716_0242ac1c0002row17_col1,#T_f9e00dca_5a01_11eb_a716_0242ac1c0002row17_col2,#T_f9e00dca_5a01_11eb_a716_0242ac1c0002row17_col3,#T_f9e00dca_5a01_11eb_a716_0242ac1c0002row17_col4,#T_f9e00dca_5a01_11eb_a716_0242ac1c0002row17_col5,#T_f9e00dca_5a01_11eb_a716_0242ac1c0002row17_col6,#T_f9e00dca_5a01_11eb_a716_0242ac1c0002row17_col7,#T_f9e00dca_5a01_11eb_a716_0242ac1c0002row17_col8,#T_f9e00dca_5a01_11eb_a716_0242ac1c0002row17_col9,#T_f9e00dca_5a01_11eb_a716_0242ac1c0002row17_col10,#T_f9e00dca_5a01_11eb_a716_0242ac1c0002row17_col11,#T_f9e00dca_5a01_11eb_a716_0242ac1c0002row17_col12,#T_f9e00dca_5a01_11eb_a716_0242ac1c0002row17_col13,#T_f9e00dca_5a01_11eb_a716_0242ac1c0002row17_col14,#T_f9e00dca_5a01_11eb_a716_0242ac1c0002row17_col15,#T_f9e00dca_5a01_11eb_a716_0242ac1c0002row17_col16,#T_f9e00dca_5a01_11eb_a716_0242ac1c0002row17_col21,#T_f9e00dca_5a01_11eb_a716_0242ac1c0002row17_col22,#T_f9e00dca_5a01_11eb_a716_0242ac1c0002row17_col23,#T_f9e00dca_5a01_11eb_a716_0242ac1c0002row17_col24,#T_f9e00dca_5a01_11eb_a716_0242ac1c0002row17_col25,#T_f9e00dca_5a01_11eb_a716_0242ac1c0002row17_col26,#T_f9e00dca_5a01_11eb_a716_0242ac1c0002row17_col27,#T_f9e00dca_5a01_11eb_a716_0242ac1c0002row18_col0,#T_f9e00dca_5a01_11eb_a716_0242ac1c0002row18_col1,#T_f9e00dca_5a01_11eb_a716_0242ac1c0002row18_col2,#T_f9e00dca_5a01_11eb_a716_0242ac1c0002row18_col3,#T_f9e00dca_5a01_11eb_a716_0242ac1c0002row18_col4,#T_f9e00dca_5a01_11eb_a716_0242ac1c0002row18_col5,#T_f9e00dca_5a01_11eb_a716_0242ac1c0002row18_col6,#T_f9e00dca_5a01_11eb_a716_0242ac1c0002row18_col7,#T_f9e00dca_5a01_11eb_a716_0242ac1c0002row18_col8,#T_f9e00dca_5a01_11eb_a716_0242ac1c0002row18_col9,#T_f9e00dca_5a01_11eb_a716_0242ac1c0002row18_col10,#T_f9e00dca_5a01_11eb_a716_0242ac1c0002row18_col11,#T_f9e00dca_5a01_11eb_a716_0242ac1c0002row18_col12,#T_f9e00dca_5a01_11eb_a716_0242ac1c0002row18_col13,#T_f9e00dca_5a01_11eb_a716_0242ac1c0002row18_col14,#T_f9e00dca_5a01_11eb_a716_0242ac1c0002row18_col15,#T_f9e00dca_5a01_11eb_a716_0242ac1c0002row18_col21,#T_f9e00dca_5a01_11eb_a716_0242ac1c0002row18_col22,#T_f9e00dca_5a01_11eb_a716_0242ac1c0002row18_col23,#T_f9e00dca_5a01_11eb_a716_0242ac1c0002row18_col24,#T_f9e00dca_5a01_11eb_a716_0242ac1c0002row18_col25,#T_f9e00dca_5a01_11eb_a716_0242ac1c0002row18_col26,#T_f9e00dca_5a01_11eb_a716_0242ac1c0002row18_col27,#T_f9e00dca_5a01_11eb_a716_0242ac1c0002row19_col0,#T_f9e00dca_5a01_11eb_a716_0242ac1c0002row19_col1,#T_f9e00dca_5a01_11eb_a716_0242ac1c0002row19_col2,#T_f9e00dca_5a01_11eb_a716_0242ac1c0002row19_col3,#T_f9e00dca_5a01_11eb_a716_0242ac1c0002row19_col4,#T_f9e00dca_5a01_11eb_a716_0242ac1c0002row19_col5,#T_f9e00dca_5a01_11eb_a716_0242ac1c0002row19_col6,#T_f9e00dca_5a01_11eb_a716_0242ac1c0002row19_col7,#T_f9e00dca_5a01_11eb_a716_0242ac1c0002row19_col8,#T_f9e00dca_5a01_11eb_a716_0242ac1c0002row19_col9,#T_f9e00dca_5a01_11eb_a716_0242ac1c0002row19_col10,#T_f9e00dca_5a01_11eb_a716_0242ac1c0002row19_col11,#T_f9e00dca_5a01_11eb_a716_0242ac1c0002row19_col12,#T_f9e00dca_5a01_11eb_a716_0242ac1c0002row19_col13,#T_f9e00dca_5a01_11eb_a716_0242ac1c0002row19_col14,#T_f9e00dca_5a01_11eb_a716_0242ac1c0002row19_col21,#T_f9e00dca_5a01_11eb_a716_0242ac1c0002row19_col22,#T_f9e00dca_5a01_11eb_a716_0242ac1c0002row19_col23,#T_f9e00dca_5a01_11eb_a716_0242ac1c0002row19_col24,#T_f9e00dca_5a01_11eb_a716_0242ac1c0002row19_col25,#T_f9e00dca_5a01_11eb_a716_0242ac1c0002row19_col26,#T_f9e00dca_5a01_11eb_a716_0242ac1c0002row19_col27,#T_f9e00dca_5a01_11eb_a716_0242ac1c0002row20_col0,#T_f9e00dca_5a01_11eb_a716_0242ac1c0002row20_col1,#T_f9e00dca_5a01_11eb_a716_0242ac1c0002row20_col2,#T_f9e00dca_5a01_11eb_a716_0242ac1c0002row20_col3,#T_f9e00dca_5a01_11eb_a716_0242ac1c0002row20_col4,#T_f9e00dca_5a01_11eb_a716_0242ac1c0002row20_col5,#T_f9e00dca_5a01_11eb_a716_0242ac1c0002row20_col6,#T_f9e00dca_5a01_11eb_a716_0242ac1c0002row20_col7,#T_f9e00dca_5a01_11eb_a716_0242ac1c0002row20_col8,#T_f9e00dca_5a01_11eb_a716_0242ac1c0002row20_col9,#T_f9e00dca_5a01_11eb_a716_0242ac1c0002row20_col10,#T_f9e00dca_5a01_11eb_a716_0242ac1c0002row20_col11,#T_f9e00dca_5a01_11eb_a716_0242ac1c0002row20_col12,#T_f9e00dca_5a01_11eb_a716_0242ac1c0002row20_col13,#T_f9e00dca_5a01_11eb_a716_0242ac1c0002row20_col20,#T_f9e00dca_5a01_11eb_a716_0242ac1c0002row20_col21,#T_f9e00dca_5a01_11eb_a716_0242ac1c0002row20_col22,#T_f9e00dca_5a01_11eb_a716_0242ac1c0002row20_col23,#T_f9e00dca_5a01_11eb_a716_0242ac1c0002row20_col24,#T_f9e00dca_5a01_11eb_a716_0242ac1c0002row20_col25,#T_f9e00dca_5a01_11eb_a716_0242ac1c0002row20_col26,#T_f9e00dca_5a01_11eb_a716_0242ac1c0002row20_col27,#T_f9e00dca_5a01_11eb_a716_0242ac1c0002row21_col0,#T_f9e00dca_5a01_11eb_a716_0242ac1c0002row21_col1,#T_f9e00dca_5a01_11eb_a716_0242ac1c0002row21_col2,#T_f9e00dca_5a01_11eb_a716_0242ac1c0002row21_col3,#T_f9e00dca_5a01_11eb_a716_0242ac1c0002row21_col4,#T_f9e00dca_5a01_11eb_a716_0242ac1c0002row21_col5,#T_f9e00dca_5a01_11eb_a716_0242ac1c0002row21_col6,#T_f9e00dca_5a01_11eb_a716_0242ac1c0002row21_col7,#T_f9e00dca_5a01_11eb_a716_0242ac1c0002row21_col8,#T_f9e00dca_5a01_11eb_a716_0242ac1c0002row21_col9,#T_f9e00dca_5a01_11eb_a716_0242ac1c0002row21_col10,#T_f9e00dca_5a01_11eb_a716_0242ac1c0002row21_col11,#T_f9e00dca_5a01_11eb_a716_0242ac1c0002row21_col19,#T_f9e00dca_5a01_11eb_a716_0242ac1c0002row21_col20,#T_f9e00dca_5a01_11eb_a716_0242ac1c0002row21_col21,#T_f9e00dca_5a01_11eb_a716_0242ac1c0002row21_col22,#T_f9e00dca_5a01_11eb_a716_0242ac1c0002row21_col23,#T_f9e00dca_5a01_11eb_a716_0242ac1c0002row21_col24,#T_f9e00dca_5a01_11eb_a716_0242ac1c0002row21_col25,#T_f9e00dca_5a01_11eb_a716_0242ac1c0002row21_col26,#T_f9e00dca_5a01_11eb_a716_0242ac1c0002row21_col27,#T_f9e00dca_5a01_11eb_a716_0242ac1c0002row22_col0,#T_f9e00dca_5a01_11eb_a716_0242ac1c0002row22_col1,#T_f9e00dca_5a01_11eb_a716_0242ac1c0002row22_col2,#T_f9e00dca_5a01_11eb_a716_0242ac1c0002row22_col3,#T_f9e00dca_5a01_11eb_a716_0242ac1c0002row22_col4,#T_f9e00dca_5a01_11eb_a716_0242ac1c0002row22_col5,#T_f9e00dca_5a01_11eb_a716_0242ac1c0002row22_col18,#T_f9e00dca_5a01_11eb_a716_0242ac1c0002row22_col19,#T_f9e00dca_5a01_11eb_a716_0242ac1c0002row22_col20,#T_f9e00dca_5a01_11eb_a716_0242ac1c0002row22_col21,#T_f9e00dca_5a01_11eb_a716_0242ac1c0002row22_col22,#T_f9e00dca_5a01_11eb_a716_0242ac1c0002row22_col23,#T_f9e00dca_5a01_11eb_a716_0242ac1c0002row22_col24,#T_f9e00dca_5a01_11eb_a716_0242ac1c0002row22_col25,#T_f9e00dca_5a01_11eb_a716_0242ac1c0002row22_col26,#T_f9e00dca_5a01_11eb_a716_0242ac1c0002row22_col27,#T_f9e00dca_5a01_11eb_a716_0242ac1c0002row23_col0,#T_f9e00dca_5a01_11eb_a716_0242ac1c0002row23_col1,#T_f9e00dca_5a01_11eb_a716_0242ac1c0002row23_col2,#T_f9e00dca_5a01_11eb_a716_0242ac1c0002row23_col3,#T_f9e00dca_5a01_11eb_a716_0242ac1c0002row23_col4,#T_f9e00dca_5a01_11eb_a716_0242ac1c0002row23_col5,#T_f9e00dca_5a01_11eb_a716_0242ac1c0002row23_col16,#T_f9e00dca_5a01_11eb_a716_0242ac1c0002row23_col17,#T_f9e00dca_5a01_11eb_a716_0242ac1c0002row23_col18,#T_f9e00dca_5a01_11eb_a716_0242ac1c0002row23_col19,#T_f9e00dca_5a01_11eb_a716_0242ac1c0002row23_col20,#T_f9e00dca_5a01_11eb_a716_0242ac1c0002row23_col21,#T_f9e00dca_5a01_11eb_a716_0242ac1c0002row23_col22,#T_f9e00dca_5a01_11eb_a716_0242ac1c0002row23_col23,#T_f9e00dca_5a01_11eb_a716_0242ac1c0002row23_col24,#T_f9e00dca_5a01_11eb_a716_0242ac1c0002row23_col25,#T_f9e00dca_5a01_11eb_a716_0242ac1c0002row23_col26,#T_f9e00dca_5a01_11eb_a716_0242ac1c0002row23_col27,#T_f9e00dca_5a01_11eb_a716_0242ac1c0002row24_col0,#T_f9e00dca_5a01_11eb_a716_0242ac1c0002row24_col1,#T_f9e00dca_5a01_11eb_a716_0242ac1c0002row24_col2,#T_f9e00dca_5a01_11eb_a716_0242ac1c0002row24_col3,#T_f9e00dca_5a01_11eb_a716_0242ac1c0002row24_col4,#T_f9e00dca_5a01_11eb_a716_0242ac1c0002row24_col5,#T_f9e00dca_5a01_11eb_a716_0242ac1c0002row24_col14,#T_f9e00dca_5a01_11eb_a716_0242ac1c0002row24_col15,#T_f9e00dca_5a01_11eb_a716_0242ac1c0002row24_col16,#T_f9e00dca_5a01_11eb_a716_0242ac1c0002row24_col17,#T_f9e00dca_5a01_11eb_a716_0242ac1c0002row24_col18,#T_f9e00dca_5a01_11eb_a716_0242ac1c0002row24_col19,#T_f9e00dca_5a01_11eb_a716_0242ac1c0002row24_col20,#T_f9e00dca_5a01_11eb_a716_0242ac1c0002row24_col21,#T_f9e00dca_5a01_11eb_a716_0242ac1c0002row24_col22,#T_f9e00dca_5a01_11eb_a716_0242ac1c0002row24_col23,#T_f9e00dca_5a01_11eb_a716_0242ac1c0002row24_col24,#T_f9e00dca_5a01_11eb_a716_0242ac1c0002row24_col25,#T_f9e00dca_5a01_11eb_a716_0242ac1c0002row24_col26,#T_f9e00dca_5a01_11eb_a716_0242ac1c0002row24_col27,#T_f9e00dca_5a01_11eb_a716_0242ac1c0002row25_col0,#T_f9e00dca_5a01_11eb_a716_0242ac1c0002row25_col1,#T_f9e00dca_5a01_11eb_a716_0242ac1c0002row25_col2,#T_f9e00dca_5a01_11eb_a716_0242ac1c0002row25_col3,#T_f9e00dca_5a01_11eb_a716_0242ac1c0002row25_col4,#T_f9e00dca_5a01_11eb_a716_0242ac1c0002row25_col5,#T_f9e00dca_5a01_11eb_a716_0242ac1c0002row25_col6,#T_f9e00dca_5a01_11eb_a716_0242ac1c0002row25_col7,#T_f9e00dca_5a01_11eb_a716_0242ac1c0002row25_col8,#T_f9e00dca_5a01_11eb_a716_0242ac1c0002row25_col9,#T_f9e00dca_5a01_11eb_a716_0242ac1c0002row25_col10,#T_f9e00dca_5a01_11eb_a716_0242ac1c0002row25_col11,#T_f9e00dca_5a01_11eb_a716_0242ac1c0002row25_col12,#T_f9e00dca_5a01_11eb_a716_0242ac1c0002row25_col13,#T_f9e00dca_5a01_11eb_a716_0242ac1c0002row25_col14,#T_f9e00dca_5a01_11eb_a716_0242ac1c0002row25_col15,#T_f9e00dca_5a01_11eb_a716_0242ac1c0002row25_col16,#T_f9e00dca_5a01_11eb_a716_0242ac1c0002row25_col17,#T_f9e00dca_5a01_11eb_a716_0242ac1c0002row25_col18,#T_f9e00dca_5a01_11eb_a716_0242ac1c0002row25_col19,#T_f9e00dca_5a01_11eb_a716_0242ac1c0002row25_col20,#T_f9e00dca_5a01_11eb_a716_0242ac1c0002row25_col21,#T_f9e00dca_5a01_11eb_a716_0242ac1c0002row25_col22,#T_f9e00dca_5a01_11eb_a716_0242ac1c0002row25_col23,#T_f9e00dca_5a01_11eb_a716_0242ac1c0002row25_col24,#T_f9e00dca_5a01_11eb_a716_0242ac1c0002row25_col25,#T_f9e00dca_5a01_11eb_a716_0242ac1c0002row25_col26,#T_f9e00dca_5a01_11eb_a716_0242ac1c0002row25_col27,#T_f9e00dca_5a01_11eb_a716_0242ac1c0002row26_col0,#T_f9e00dca_5a01_11eb_a716_0242ac1c0002row26_col1,#T_f9e00dca_5a01_11eb_a716_0242ac1c0002row26_col2,#T_f9e00dca_5a01_11eb_a716_0242ac1c0002row26_col3,#T_f9e00dca_5a01_11eb_a716_0242ac1c0002row26_col4,#T_f9e00dca_5a01_11eb_a716_0242ac1c0002row26_col5,#T_f9e00dca_5a01_11eb_a716_0242ac1c0002row26_col6,#T_f9e00dca_5a01_11eb_a716_0242ac1c0002row26_col7,#T_f9e00dca_5a01_11eb_a716_0242ac1c0002row26_col8,#T_f9e00dca_5a01_11eb_a716_0242ac1c0002row26_col9,#T_f9e00dca_5a01_11eb_a716_0242ac1c0002row26_col10,#T_f9e00dca_5a01_11eb_a716_0242ac1c0002row26_col11,#T_f9e00dca_5a01_11eb_a716_0242ac1c0002row26_col12,#T_f9e00dca_5a01_11eb_a716_0242ac1c0002row26_col13,#T_f9e00dca_5a01_11eb_a716_0242ac1c0002row26_col14,#T_f9e00dca_5a01_11eb_a716_0242ac1c0002row26_col15,#T_f9e00dca_5a01_11eb_a716_0242ac1c0002row26_col16,#T_f9e00dca_5a01_11eb_a716_0242ac1c0002row26_col17,#T_f9e00dca_5a01_11eb_a716_0242ac1c0002row26_col18,#T_f9e00dca_5a01_11eb_a716_0242ac1c0002row26_col19,#T_f9e00dca_5a01_11eb_a716_0242ac1c0002row26_col20,#T_f9e00dca_5a01_11eb_a716_0242ac1c0002row26_col21,#T_f9e00dca_5a01_11eb_a716_0242ac1c0002row26_col22,#T_f9e00dca_5a01_11eb_a716_0242ac1c0002row26_col23,#T_f9e00dca_5a01_11eb_a716_0242ac1c0002row26_col24,#T_f9e00dca_5a01_11eb_a716_0242ac1c0002row26_col25,#T_f9e00dca_5a01_11eb_a716_0242ac1c0002row26_col26,#T_f9e00dca_5a01_11eb_a716_0242ac1c0002row26_col27,#T_f9e00dca_5a01_11eb_a716_0242ac1c0002row27_col0,#T_f9e00dca_5a01_11eb_a716_0242ac1c0002row27_col1,#T_f9e00dca_5a01_11eb_a716_0242ac1c0002row27_col2,#T_f9e00dca_5a01_11eb_a716_0242ac1c0002row27_col3,#T_f9e00dca_5a01_11eb_a716_0242ac1c0002row27_col4,#T_f9e00dca_5a01_11eb_a716_0242ac1c0002row27_col5,#T_f9e00dca_5a01_11eb_a716_0242ac1c0002row27_col6,#T_f9e00dca_5a01_11eb_a716_0242ac1c0002row27_col7,#T_f9e00dca_5a01_11eb_a716_0242ac1c0002row27_col8,#T_f9e00dca_5a01_11eb_a716_0242ac1c0002row27_col9,#T_f9e00dca_5a01_11eb_a716_0242ac1c0002row27_col10,#T_f9e00dca_5a01_11eb_a716_0242ac1c0002row27_col11,#T_f9e00dca_5a01_11eb_a716_0242ac1c0002row27_col12,#T_f9e00dca_5a01_11eb_a716_0242ac1c0002row27_col13,#T_f9e00dca_5a01_11eb_a716_0242ac1c0002row27_col14,#T_f9e00dca_5a01_11eb_a716_0242ac1c0002row27_col15,#T_f9e00dca_5a01_11eb_a716_0242ac1c0002row27_col16,#T_f9e00dca_5a01_11eb_a716_0242ac1c0002row27_col17,#T_f9e00dca_5a01_11eb_a716_0242ac1c0002row27_col18,#T_f9e00dca_5a01_11eb_a716_0242ac1c0002row27_col19,#T_f9e00dca_5a01_11eb_a716_0242ac1c0002row27_col20,#T_f9e00dca_5a01_11eb_a716_0242ac1c0002row27_col21,#T_f9e00dca_5a01_11eb_a716_0242ac1c0002row27_col22,#T_f9e00dca_5a01_11eb_a716_0242ac1c0002row27_col23,#T_f9e00dca_5a01_11eb_a716_0242ac1c0002row27_col24,#T_f9e00dca_5a01_11eb_a716_0242ac1c0002row27_col25,#T_f9e00dca_5a01_11eb_a716_0242ac1c0002row27_col26,#T_f9e00dca_5a01_11eb_a716_0242ac1c0002row27_col27{\n",
              "            font_size:  6pt;\n",
              "            background-color:  #ffffff;\n",
              "            color:  #000000;\n",
              "        }#T_f9e00dca_5a01_11eb_a716_0242ac1c0002row5_col9,#T_f9e00dca_5a01_11eb_a716_0242ac1c0002row12_col16{\n",
              "            font_size:  6pt;\n",
              "            background-color:  #f1f1f1;\n",
              "            color:  #000000;\n",
              "        }#T_f9e00dca_5a01_11eb_a716_0242ac1c0002row5_col10,#T_f9e00dca_5a01_11eb_a716_0242ac1c0002row5_col17{\n",
              "            font_size:  6pt;\n",
              "            background-color:  #7c7c7c;\n",
              "            color:  #000000;\n",
              "        }#T_f9e00dca_5a01_11eb_a716_0242ac1c0002row5_col11{\n",
              "            font_size:  6pt;\n",
              "            background-color:  #4a4a4a;\n",
              "            color:  #f1f1f1;\n",
              "        }#T_f9e00dca_5a01_11eb_a716_0242ac1c0002row5_col12,#T_f9e00dca_5a01_11eb_a716_0242ac1c0002row5_col13,#T_f9e00dca_5a01_11eb_a716_0242ac1c0002row5_col14,#T_f9e00dca_5a01_11eb_a716_0242ac1c0002row6_col10,#T_f9e00dca_5a01_11eb_a716_0242ac1c0002row6_col11,#T_f9e00dca_5a01_11eb_a716_0242ac1c0002row6_col15,#T_f9e00dca_5a01_11eb_a716_0242ac1c0002row6_col16,#T_f9e00dca_5a01_11eb_a716_0242ac1c0002row6_col17,#T_f9e00dca_5a01_11eb_a716_0242ac1c0002row7_col8,#T_f9e00dca_5a01_11eb_a716_0242ac1c0002row7_col16,#T_f9e00dca_5a01_11eb_a716_0242ac1c0002row7_col17,#T_f9e00dca_5a01_11eb_a716_0242ac1c0002row8_col5,#T_f9e00dca_5a01_11eb_a716_0242ac1c0002row8_col6,#T_f9e00dca_5a01_11eb_a716_0242ac1c0002row8_col7,#T_f9e00dca_5a01_11eb_a716_0242ac1c0002row8_col16,#T_f9e00dca_5a01_11eb_a716_0242ac1c0002row8_col17,#T_f9e00dca_5a01_11eb_a716_0242ac1c0002row9_col16,#T_f9e00dca_5a01_11eb_a716_0242ac1c0002row10_col15,#T_f9e00dca_5a01_11eb_a716_0242ac1c0002row13_col15,#T_f9e00dca_5a01_11eb_a716_0242ac1c0002row14_col15,#T_f9e00dca_5a01_11eb_a716_0242ac1c0002row14_col16,#T_f9e00dca_5a01_11eb_a716_0242ac1c0002row14_col17,#T_f9e00dca_5a01_11eb_a716_0242ac1c0002row14_col18,#T_f9e00dca_5a01_11eb_a716_0242ac1c0002row15_col17,#T_f9e00dca_5a01_11eb_a716_0242ac1c0002row15_col18,#T_f9e00dca_5a01_11eb_a716_0242ac1c0002row15_col19,#T_f9e00dca_5a01_11eb_a716_0242ac1c0002row16_col18,#T_f9e00dca_5a01_11eb_a716_0242ac1c0002row16_col19,#T_f9e00dca_5a01_11eb_a716_0242ac1c0002row16_col20,#T_f9e00dca_5a01_11eb_a716_0242ac1c0002row17_col18,#T_f9e00dca_5a01_11eb_a716_0242ac1c0002row17_col19,#T_f9e00dca_5a01_11eb_a716_0242ac1c0002row18_col18,#T_f9e00dca_5a01_11eb_a716_0242ac1c0002row18_col19,#T_f9e00dca_5a01_11eb_a716_0242ac1c0002row19_col17,#T_f9e00dca_5a01_11eb_a716_0242ac1c0002row19_col18,#T_f9e00dca_5a01_11eb_a716_0242ac1c0002row20_col16,#T_f9e00dca_5a01_11eb_a716_0242ac1c0002row20_col17,#T_f9e00dca_5a01_11eb_a716_0242ac1c0002row21_col15,#T_f9e00dca_5a01_11eb_a716_0242ac1c0002row21_col16,#T_f9e00dca_5a01_11eb_a716_0242ac1c0002row23_col7,#T_f9e00dca_5a01_11eb_a716_0242ac1c0002row23_col8,#T_f9e00dca_5a01_11eb_a716_0242ac1c0002row23_col9,#T_f9e00dca_5a01_11eb_a716_0242ac1c0002row23_col10,#T_f9e00dca_5a01_11eb_a716_0242ac1c0002row23_col11,#T_f9e00dca_5a01_11eb_a716_0242ac1c0002row24_col7,#T_f9e00dca_5a01_11eb_a716_0242ac1c0002row24_col8,#T_f9e00dca_5a01_11eb_a716_0242ac1c0002row24_col9,#T_f9e00dca_5a01_11eb_a716_0242ac1c0002row24_col10,#T_f9e00dca_5a01_11eb_a716_0242ac1c0002row24_col11{\n",
              "            font_size:  6pt;\n",
              "            background-color:  #000000;\n",
              "            color:  #f1f1f1;\n",
              "        }#T_f9e00dca_5a01_11eb_a716_0242ac1c0002row5_col15{\n",
              "            font_size:  6pt;\n",
              "            background-color:  #606060;\n",
              "            color:  #f1f1f1;\n",
              "        }#T_f9e00dca_5a01_11eb_a716_0242ac1c0002row5_col16{\n",
              "            font_size:  6pt;\n",
              "            background-color:  #4d4d4d;\n",
              "            color:  #f1f1f1;\n",
              "        }#T_f9e00dca_5a01_11eb_a716_0242ac1c0002row5_col18{\n",
              "            font_size:  6pt;\n",
              "            background-color:  #bbbbbb;\n",
              "            color:  #000000;\n",
              "        }#T_f9e00dca_5a01_11eb_a716_0242ac1c0002row6_col7,#T_f9e00dca_5a01_11eb_a716_0242ac1c0002row8_col9{\n",
              "            font_size:  6pt;\n",
              "            background-color:  #e4e4e4;\n",
              "            color:  #000000;\n",
              "        }#T_f9e00dca_5a01_11eb_a716_0242ac1c0002row6_col8,#T_f9e00dca_5a01_11eb_a716_0242ac1c0002row12_col10{\n",
              "            font_size:  6pt;\n",
              "            background-color:  #6b6b6b;\n",
              "            color:  #000000;\n",
              "        }#T_f9e00dca_5a01_11eb_a716_0242ac1c0002row6_col9,#T_f9e00dca_5a01_11eb_a716_0242ac1c0002row9_col15{\n",
              "            font_size:  6pt;\n",
              "            background-color:  #222222;\n",
              "            color:  #f1f1f1;\n",
              "        }#T_f9e00dca_5a01_11eb_a716_0242ac1c0002row6_col12,#T_f9e00dca_5a01_11eb_a716_0242ac1c0002row6_col18,#T_f9e00dca_5a01_11eb_a716_0242ac1c0002row7_col18,#T_f9e00dca_5a01_11eb_a716_0242ac1c0002row21_col17{\n",
              "            font_size:  6pt;\n",
              "            background-color:  #171717;\n",
              "            color:  #f1f1f1;\n",
              "        }#T_f9e00dca_5a01_11eb_a716_0242ac1c0002row6_col13,#T_f9e00dca_5a01_11eb_a716_0242ac1c0002row7_col15{\n",
              "            font_size:  6pt;\n",
              "            background-color:  #4b4b4b;\n",
              "            color:  #f1f1f1;\n",
              "        }#T_f9e00dca_5a01_11eb_a716_0242ac1c0002row6_col14,#T_f9e00dca_5a01_11eb_a716_0242ac1c0002row11_col14,#T_f9e00dca_5a01_11eb_a716_0242ac1c0002row12_col12,#T_f9e00dca_5a01_11eb_a716_0242ac1c0002row12_col14,#T_f9e00dca_5a01_11eb_a716_0242ac1c0002row13_col12,#T_f9e00dca_5a01_11eb_a716_0242ac1c0002row13_col14,#T_f9e00dca_5a01_11eb_a716_0242ac1c0002row22_col14,#T_f9e00dca_5a01_11eb_a716_0242ac1c0002row23_col12{\n",
              "            font_size:  6pt;\n",
              "            background-color:  #010101;\n",
              "            color:  #f1f1f1;\n",
              "        }#T_f9e00dca_5a01_11eb_a716_0242ac1c0002row7_col5{\n",
              "            font_size:  6pt;\n",
              "            background-color:  #272727;\n",
              "            color:  #f1f1f1;\n",
              "        }#T_f9e00dca_5a01_11eb_a716_0242ac1c0002row7_col6{\n",
              "            font_size:  6pt;\n",
              "            background-color:  #0a0a0a;\n",
              "            color:  #f1f1f1;\n",
              "        }#T_f9e00dca_5a01_11eb_a716_0242ac1c0002row7_col7,#T_f9e00dca_5a01_11eb_a716_0242ac1c0002row18_col17{\n",
              "            font_size:  6pt;\n",
              "            background-color:  #050505;\n",
              "            color:  #f1f1f1;\n",
              "        }#T_f9e00dca_5a01_11eb_a716_0242ac1c0002row7_col9,#T_f9e00dca_5a01_11eb_a716_0242ac1c0002row12_col15,#T_f9e00dca_5a01_11eb_a716_0242ac1c0002row14_col19,#T_f9e00dca_5a01_11eb_a716_0242ac1c0002row23_col6{\n",
              "            font_size:  6pt;\n",
              "            background-color:  #545454;\n",
              "            color:  #f1f1f1;\n",
              "        }#T_f9e00dca_5a01_11eb_a716_0242ac1c0002row7_col10{\n",
              "            font_size:  6pt;\n",
              "            background-color:  #e6e6e6;\n",
              "            color:  #000000;\n",
              "        }#T_f9e00dca_5a01_11eb_a716_0242ac1c0002row7_col11,#T_f9e00dca_5a01_11eb_a716_0242ac1c0002row7_col14,#T_f9e00dca_5a01_11eb_a716_0242ac1c0002row12_col9{\n",
              "            font_size:  6pt;\n",
              "            background-color:  #fafafa;\n",
              "            color:  #000000;\n",
              "        }#T_f9e00dca_5a01_11eb_a716_0242ac1c0002row7_col12,#T_f9e00dca_5a01_11eb_a716_0242ac1c0002row15_col14,#T_f9e00dca_5a01_11eb_a716_0242ac1c0002row20_col19{\n",
              "            font_size:  6pt;\n",
              "            background-color:  #fbfbfb;\n",
              "            color:  #000000;\n",
              "        }#T_f9e00dca_5a01_11eb_a716_0242ac1c0002row7_col13{\n",
              "            font_size:  6pt;\n",
              "            background-color:  #fdfdfd;\n",
              "            color:  #000000;\n",
              "        }#T_f9e00dca_5a01_11eb_a716_0242ac1c0002row8_col8{\n",
              "            font_size:  6pt;\n",
              "            background-color:  #1b1b1b;\n",
              "            color:  #f1f1f1;\n",
              "        }#T_f9e00dca_5a01_11eb_a716_0242ac1c0002row8_col15{\n",
              "            font_size:  6pt;\n",
              "            background-color:  #4e4e4e;\n",
              "            color:  #f1f1f1;\n",
              "        }#T_f9e00dca_5a01_11eb_a716_0242ac1c0002row8_col18{\n",
              "            font_size:  6pt;\n",
              "            background-color:  #767676;\n",
              "            color:  #000000;\n",
              "        }#T_f9e00dca_5a01_11eb_a716_0242ac1c0002row9_col5{\n",
              "            font_size:  6pt;\n",
              "            background-color:  #fcfcfc;\n",
              "            color:  #000000;\n",
              "        }#T_f9e00dca_5a01_11eb_a716_0242ac1c0002row9_col6,#T_f9e00dca_5a01_11eb_a716_0242ac1c0002row9_col7,#T_f9e00dca_5a01_11eb_a716_0242ac1c0002row19_col20{\n",
              "            font_size:  6pt;\n",
              "            background-color:  #f6f6f6;\n",
              "            color:  #000000;\n",
              "        }#T_f9e00dca_5a01_11eb_a716_0242ac1c0002row9_col8,#T_f9e00dca_5a01_11eb_a716_0242ac1c0002row11_col11{\n",
              "            font_size:  6pt;\n",
              "            background-color:  #f8f8f8;\n",
              "            color:  #000000;\n",
              "        }#T_f9e00dca_5a01_11eb_a716_0242ac1c0002row9_col14,#T_f9e00dca_5a01_11eb_a716_0242ac1c0002row14_col11{\n",
              "            font_size:  6pt;\n",
              "            background-color:  #e8e8e8;\n",
              "            color:  #000000;\n",
              "        }#T_f9e00dca_5a01_11eb_a716_0242ac1c0002row9_col17,#T_f9e00dca_5a01_11eb_a716_0242ac1c0002row10_col16{\n",
              "            font_size:  6pt;\n",
              "            background-color:  #090909;\n",
              "            color:  #f1f1f1;\n",
              "        }#T_f9e00dca_5a01_11eb_a716_0242ac1c0002row9_col18{\n",
              "            font_size:  6pt;\n",
              "            background-color:  #d0d0d0;\n",
              "            color:  #000000;\n",
              "        }#T_f9e00dca_5a01_11eb_a716_0242ac1c0002row10_col14,#T_f9e00dca_5a01_11eb_a716_0242ac1c0002row11_col15,#T_f9e00dca_5a01_11eb_a716_0242ac1c0002row13_col10{\n",
              "            font_size:  6pt;\n",
              "            background-color:  #060606;\n",
              "            color:  #f1f1f1;\n",
              "        }#T_f9e00dca_5a01_11eb_a716_0242ac1c0002row10_col17{\n",
              "            font_size:  6pt;\n",
              "            background-color:  #979797;\n",
              "            color:  #000000;\n",
              "        }#T_f9e00dca_5a01_11eb_a716_0242ac1c0002row11_col12{\n",
              "            font_size:  6pt;\n",
              "            background-color:  #b6b6b6;\n",
              "            color:  #000000;\n",
              "        }#T_f9e00dca_5a01_11eb_a716_0242ac1c0002row11_col13{\n",
              "            font_size:  6pt;\n",
              "            background-color:  #252525;\n",
              "            color:  #f1f1f1;\n",
              "        }#T_f9e00dca_5a01_11eb_a716_0242ac1c0002row11_col16{\n",
              "            font_size:  6pt;\n",
              "            background-color:  #999999;\n",
              "            color:  #000000;\n",
              "        }#T_f9e00dca_5a01_11eb_a716_0242ac1c0002row12_col11,#T_f9e00dca_5a01_11eb_a716_0242ac1c0002row22_col12{\n",
              "            font_size:  6pt;\n",
              "            background-color:  #101010;\n",
              "            color:  #f1f1f1;\n",
              "        }#T_f9e00dca_5a01_11eb_a716_0242ac1c0002row12_col13,#T_f9e00dca_5a01_11eb_a716_0242ac1c0002row13_col13,#T_f9e00dca_5a01_11eb_a716_0242ac1c0002row21_col14,#T_f9e00dca_5a01_11eb_a716_0242ac1c0002row22_col13,#T_f9e00dca_5a01_11eb_a716_0242ac1c0002row23_col13{\n",
              "            font_size:  6pt;\n",
              "            background-color:  #020202;\n",
              "            color:  #f1f1f1;\n",
              "        }#T_f9e00dca_5a01_11eb_a716_0242ac1c0002row13_col9{\n",
              "            font_size:  6pt;\n",
              "            background-color:  #f7f7f7;\n",
              "            color:  #000000;\n",
              "        }#T_f9e00dca_5a01_11eb_a716_0242ac1c0002row13_col11,#T_f9e00dca_5a01_11eb_a716_0242ac1c0002row22_col15{\n",
              "            font_size:  6pt;\n",
              "            background-color:  #030303;\n",
              "            color:  #f1f1f1;\n",
              "        }#T_f9e00dca_5a01_11eb_a716_0242ac1c0002row13_col16{\n",
              "            font_size:  6pt;\n",
              "            background-color:  #181818;\n",
              "            color:  #f1f1f1;\n",
              "        }#T_f9e00dca_5a01_11eb_a716_0242ac1c0002row13_col17{\n",
              "            font_size:  6pt;\n",
              "            background-color:  #303030;\n",
              "            color:  #f1f1f1;\n",
              "        }#T_f9e00dca_5a01_11eb_a716_0242ac1c0002row13_col18{\n",
              "            font_size:  6pt;\n",
              "            background-color:  #a9a9a9;\n",
              "            color:  #000000;\n",
              "        }#T_f9e00dca_5a01_11eb_a716_0242ac1c0002row13_col19{\n",
              "            font_size:  6pt;\n",
              "            background-color:  #fefefe;\n",
              "            color:  #000000;\n",
              "        }#T_f9e00dca_5a01_11eb_a716_0242ac1c0002row14_col12,#T_f9e00dca_5a01_11eb_a716_0242ac1c0002row14_col13,#T_f9e00dca_5a01_11eb_a716_0242ac1c0002row20_col14{\n",
              "            font_size:  6pt;\n",
              "            background-color:  #bababa;\n",
              "            color:  #000000;\n",
              "        }#T_f9e00dca_5a01_11eb_a716_0242ac1c0002row14_col14{\n",
              "            font_size:  6pt;\n",
              "            background-color:  #393939;\n",
              "            color:  #f1f1f1;\n",
              "        }#T_f9e00dca_5a01_11eb_a716_0242ac1c0002row14_col20{\n",
              "            font_size:  6pt;\n",
              "            background-color:  #eaeaea;\n",
              "            color:  #000000;\n",
              "        }#T_f9e00dca_5a01_11eb_a716_0242ac1c0002row15_col15{\n",
              "            font_size:  6pt;\n",
              "            background-color:  #e2e2e2;\n",
              "            color:  #000000;\n",
              "        }#T_f9e00dca_5a01_11eb_a716_0242ac1c0002row15_col16{\n",
              "            font_size:  6pt;\n",
              "            background-color:  #9f9f9f;\n",
              "            color:  #000000;\n",
              "        }#T_f9e00dca_5a01_11eb_a716_0242ac1c0002row15_col20{\n",
              "            font_size:  6pt;\n",
              "            background-color:  #898989;\n",
              "            color:  #000000;\n",
              "        }#T_f9e00dca_5a01_11eb_a716_0242ac1c0002row16_col17{\n",
              "            font_size:  6pt;\n",
              "            background-color:  #585858;\n",
              "            color:  #f1f1f1;\n",
              "        }#T_f9e00dca_5a01_11eb_a716_0242ac1c0002row17_col17{\n",
              "            font_size:  6pt;\n",
              "            background-color:  #5a5a5a;\n",
              "            color:  #f1f1f1;\n",
              "        }#T_f9e00dca_5a01_11eb_a716_0242ac1c0002row17_col20{\n",
              "            font_size:  6pt;\n",
              "            background-color:  #525252;\n",
              "            color:  #f1f1f1;\n",
              "        }#T_f9e00dca_5a01_11eb_a716_0242ac1c0002row18_col16,#T_f9e00dca_5a01_11eb_a716_0242ac1c0002row23_col15{\n",
              "            font_size:  6pt;\n",
              "            background-color:  #c5c5c5;\n",
              "            color:  #000000;\n",
              "        }#T_f9e00dca_5a01_11eb_a716_0242ac1c0002row18_col20{\n",
              "            font_size:  6pt;\n",
              "            background-color:  #d7d7d7;\n",
              "            color:  #000000;\n",
              "        }#T_f9e00dca_5a01_11eb_a716_0242ac1c0002row19_col15,#T_f9e00dca_5a01_11eb_a716_0242ac1c0002row22_col9{\n",
              "            font_size:  6pt;\n",
              "            background-color:  #dcdcdc;\n",
              "            color:  #000000;\n",
              "        }#T_f9e00dca_5a01_11eb_a716_0242ac1c0002row19_col16{\n",
              "            font_size:  6pt;\n",
              "            background-color:  #2f2f2f;\n",
              "            color:  #f1f1f1;\n",
              "        }#T_f9e00dca_5a01_11eb_a716_0242ac1c0002row19_col19{\n",
              "            font_size:  6pt;\n",
              "            background-color:  #636363;\n",
              "            color:  #f1f1f1;\n",
              "        }#T_f9e00dca_5a01_11eb_a716_0242ac1c0002row20_col15{\n",
              "            font_size:  6pt;\n",
              "            background-color:  #070707;\n",
              "            color:  #f1f1f1;\n",
              "        }#T_f9e00dca_5a01_11eb_a716_0242ac1c0002row20_col18{\n",
              "            font_size:  6pt;\n",
              "            background-color:  #1f1f1f;\n",
              "            color:  #f1f1f1;\n",
              "        }#T_f9e00dca_5a01_11eb_a716_0242ac1c0002row21_col12,#T_f9e00dca_5a01_11eb_a716_0242ac1c0002row22_col6,#T_f9e00dca_5a01_11eb_a716_0242ac1c0002row22_col8{\n",
              "            font_size:  6pt;\n",
              "            background-color:  #e9e9e9;\n",
              "            color:  #000000;\n",
              "        }#T_f9e00dca_5a01_11eb_a716_0242ac1c0002row21_col13{\n",
              "            font_size:  6pt;\n",
              "            background-color:  #7d7d7d;\n",
              "            color:  #000000;\n",
              "        }#T_f9e00dca_5a01_11eb_a716_0242ac1c0002row21_col18{\n",
              "            font_size:  6pt;\n",
              "            background-color:  #e1e1e1;\n",
              "            color:  #000000;\n",
              "        }#T_f9e00dca_5a01_11eb_a716_0242ac1c0002row22_col7,#T_f9e00dca_5a01_11eb_a716_0242ac1c0002row22_col10{\n",
              "            font_size:  6pt;\n",
              "            background-color:  #a4a4a4;\n",
              "            color:  #000000;\n",
              "        }#T_f9e00dca_5a01_11eb_a716_0242ac1c0002row22_col11{\n",
              "            font_size:  6pt;\n",
              "            background-color:  #727272;\n",
              "            color:  #000000;\n",
              "        }#T_f9e00dca_5a01_11eb_a716_0242ac1c0002row22_col16{\n",
              "            font_size:  6pt;\n",
              "            background-color:  #616161;\n",
              "            color:  #f1f1f1;\n",
              "        }#T_f9e00dca_5a01_11eb_a716_0242ac1c0002row22_col17{\n",
              "            font_size:  6pt;\n",
              "            background-color:  #f3f3f3;\n",
              "            color:  #000000;\n",
              "        }#T_f9e00dca_5a01_11eb_a716_0242ac1c0002row23_col14{\n",
              "            font_size:  6pt;\n",
              "            background-color:  #484848;\n",
              "            color:  #f1f1f1;\n",
              "        }#T_f9e00dca_5a01_11eb_a716_0242ac1c0002row24_col6{\n",
              "            font_size:  6pt;\n",
              "            background-color:  #b3b3b3;\n",
              "            color:  #000000;\n",
              "        }#T_f9e00dca_5a01_11eb_a716_0242ac1c0002row24_col12{\n",
              "            font_size:  6pt;\n",
              "            background-color:  #1a1a1a;\n",
              "            color:  #f1f1f1;\n",
              "        }#T_f9e00dca_5a01_11eb_a716_0242ac1c0002row24_col13{\n",
              "            font_size:  6pt;\n",
              "            background-color:  #d6d6d6;\n",
              "            color:  #000000;\n",
              "        }</style><table id=\"T_f9e00dca_5a01_11eb_a716_0242ac1c0002\" ><thead>    <tr>        <th class=\"blank level0\" ></th>        <th class=\"col_heading level0 col0\" >0</th>        <th class=\"col_heading level0 col1\" >1</th>        <th class=\"col_heading level0 col2\" >2</th>        <th class=\"col_heading level0 col3\" >3</th>        <th class=\"col_heading level0 col4\" >4</th>        <th class=\"col_heading level0 col5\" >5</th>        <th class=\"col_heading level0 col6\" >6</th>        <th class=\"col_heading level0 col7\" >7</th>        <th class=\"col_heading level0 col8\" >8</th>        <th class=\"col_heading level0 col9\" >9</th>        <th class=\"col_heading level0 col10\" >10</th>        <th class=\"col_heading level0 col11\" >11</th>        <th class=\"col_heading level0 col12\" >12</th>        <th class=\"col_heading level0 col13\" >13</th>        <th class=\"col_heading level0 col14\" >14</th>        <th class=\"col_heading level0 col15\" >15</th>        <th class=\"col_heading level0 col16\" >16</th>        <th class=\"col_heading level0 col17\" >17</th>        <th class=\"col_heading level0 col18\" >18</th>        <th class=\"col_heading level0 col19\" >19</th>        <th class=\"col_heading level0 col20\" >20</th>        <th class=\"col_heading level0 col21\" >21</th>        <th class=\"col_heading level0 col22\" >22</th>        <th class=\"col_heading level0 col23\" >23</th>        <th class=\"col_heading level0 col24\" >24</th>        <th class=\"col_heading level0 col25\" >25</th>        <th class=\"col_heading level0 col26\" >26</th>        <th class=\"col_heading level0 col27\" >27</th>    </tr></thead><tbody>\n",
              "                <tr>\n",
              "                        <th id=\"T_f9e00dca_5a01_11eb_a716_0242ac1c0002level0_row0\" class=\"row_heading level0 row0\" >0</th>\n",
              "                        <td id=\"T_f9e00dca_5a01_11eb_a716_0242ac1c0002row0_col0\" class=\"data row0 col0\" >0</td>\n",
              "                        <td id=\"T_f9e00dca_5a01_11eb_a716_0242ac1c0002row0_col1\" class=\"data row0 col1\" >0</td>\n",
              "                        <td id=\"T_f9e00dca_5a01_11eb_a716_0242ac1c0002row0_col2\" class=\"data row0 col2\" >0</td>\n",
              "                        <td id=\"T_f9e00dca_5a01_11eb_a716_0242ac1c0002row0_col3\" class=\"data row0 col3\" >0</td>\n",
              "                        <td id=\"T_f9e00dca_5a01_11eb_a716_0242ac1c0002row0_col4\" class=\"data row0 col4\" >0</td>\n",
              "                        <td id=\"T_f9e00dca_5a01_11eb_a716_0242ac1c0002row0_col5\" class=\"data row0 col5\" >0</td>\n",
              "                        <td id=\"T_f9e00dca_5a01_11eb_a716_0242ac1c0002row0_col6\" class=\"data row0 col6\" >0</td>\n",
              "                        <td id=\"T_f9e00dca_5a01_11eb_a716_0242ac1c0002row0_col7\" class=\"data row0 col7\" >0</td>\n",
              "                        <td id=\"T_f9e00dca_5a01_11eb_a716_0242ac1c0002row0_col8\" class=\"data row0 col8\" >0</td>\n",
              "                        <td id=\"T_f9e00dca_5a01_11eb_a716_0242ac1c0002row0_col9\" class=\"data row0 col9\" >0</td>\n",
              "                        <td id=\"T_f9e00dca_5a01_11eb_a716_0242ac1c0002row0_col10\" class=\"data row0 col10\" >0</td>\n",
              "                        <td id=\"T_f9e00dca_5a01_11eb_a716_0242ac1c0002row0_col11\" class=\"data row0 col11\" >0</td>\n",
              "                        <td id=\"T_f9e00dca_5a01_11eb_a716_0242ac1c0002row0_col12\" class=\"data row0 col12\" >0</td>\n",
              "                        <td id=\"T_f9e00dca_5a01_11eb_a716_0242ac1c0002row0_col13\" class=\"data row0 col13\" >0</td>\n",
              "                        <td id=\"T_f9e00dca_5a01_11eb_a716_0242ac1c0002row0_col14\" class=\"data row0 col14\" >0</td>\n",
              "                        <td id=\"T_f9e00dca_5a01_11eb_a716_0242ac1c0002row0_col15\" class=\"data row0 col15\" >0</td>\n",
              "                        <td id=\"T_f9e00dca_5a01_11eb_a716_0242ac1c0002row0_col16\" class=\"data row0 col16\" >0</td>\n",
              "                        <td id=\"T_f9e00dca_5a01_11eb_a716_0242ac1c0002row0_col17\" class=\"data row0 col17\" >0</td>\n",
              "                        <td id=\"T_f9e00dca_5a01_11eb_a716_0242ac1c0002row0_col18\" class=\"data row0 col18\" >0</td>\n",
              "                        <td id=\"T_f9e00dca_5a01_11eb_a716_0242ac1c0002row0_col19\" class=\"data row0 col19\" >0</td>\n",
              "                        <td id=\"T_f9e00dca_5a01_11eb_a716_0242ac1c0002row0_col20\" class=\"data row0 col20\" >0</td>\n",
              "                        <td id=\"T_f9e00dca_5a01_11eb_a716_0242ac1c0002row0_col21\" class=\"data row0 col21\" >0</td>\n",
              "                        <td id=\"T_f9e00dca_5a01_11eb_a716_0242ac1c0002row0_col22\" class=\"data row0 col22\" >0</td>\n",
              "                        <td id=\"T_f9e00dca_5a01_11eb_a716_0242ac1c0002row0_col23\" class=\"data row0 col23\" >0</td>\n",
              "                        <td id=\"T_f9e00dca_5a01_11eb_a716_0242ac1c0002row0_col24\" class=\"data row0 col24\" >0</td>\n",
              "                        <td id=\"T_f9e00dca_5a01_11eb_a716_0242ac1c0002row0_col25\" class=\"data row0 col25\" >0</td>\n",
              "                        <td id=\"T_f9e00dca_5a01_11eb_a716_0242ac1c0002row0_col26\" class=\"data row0 col26\" >0</td>\n",
              "                        <td id=\"T_f9e00dca_5a01_11eb_a716_0242ac1c0002row0_col27\" class=\"data row0 col27\" >0</td>\n",
              "            </tr>\n",
              "            <tr>\n",
              "                        <th id=\"T_f9e00dca_5a01_11eb_a716_0242ac1c0002level0_row1\" class=\"row_heading level0 row1\" >1</th>\n",
              "                        <td id=\"T_f9e00dca_5a01_11eb_a716_0242ac1c0002row1_col0\" class=\"data row1 col0\" >0</td>\n",
              "                        <td id=\"T_f9e00dca_5a01_11eb_a716_0242ac1c0002row1_col1\" class=\"data row1 col1\" >0</td>\n",
              "                        <td id=\"T_f9e00dca_5a01_11eb_a716_0242ac1c0002row1_col2\" class=\"data row1 col2\" >0</td>\n",
              "                        <td id=\"T_f9e00dca_5a01_11eb_a716_0242ac1c0002row1_col3\" class=\"data row1 col3\" >0</td>\n",
              "                        <td id=\"T_f9e00dca_5a01_11eb_a716_0242ac1c0002row1_col4\" class=\"data row1 col4\" >0</td>\n",
              "                        <td id=\"T_f9e00dca_5a01_11eb_a716_0242ac1c0002row1_col5\" class=\"data row1 col5\" >0</td>\n",
              "                        <td id=\"T_f9e00dca_5a01_11eb_a716_0242ac1c0002row1_col6\" class=\"data row1 col6\" >0</td>\n",
              "                        <td id=\"T_f9e00dca_5a01_11eb_a716_0242ac1c0002row1_col7\" class=\"data row1 col7\" >0</td>\n",
              "                        <td id=\"T_f9e00dca_5a01_11eb_a716_0242ac1c0002row1_col8\" class=\"data row1 col8\" >0</td>\n",
              "                        <td id=\"T_f9e00dca_5a01_11eb_a716_0242ac1c0002row1_col9\" class=\"data row1 col9\" >0</td>\n",
              "                        <td id=\"T_f9e00dca_5a01_11eb_a716_0242ac1c0002row1_col10\" class=\"data row1 col10\" >0</td>\n",
              "                        <td id=\"T_f9e00dca_5a01_11eb_a716_0242ac1c0002row1_col11\" class=\"data row1 col11\" >0</td>\n",
              "                        <td id=\"T_f9e00dca_5a01_11eb_a716_0242ac1c0002row1_col12\" class=\"data row1 col12\" >0</td>\n",
              "                        <td id=\"T_f9e00dca_5a01_11eb_a716_0242ac1c0002row1_col13\" class=\"data row1 col13\" >0</td>\n",
              "                        <td id=\"T_f9e00dca_5a01_11eb_a716_0242ac1c0002row1_col14\" class=\"data row1 col14\" >0</td>\n",
              "                        <td id=\"T_f9e00dca_5a01_11eb_a716_0242ac1c0002row1_col15\" class=\"data row1 col15\" >0</td>\n",
              "                        <td id=\"T_f9e00dca_5a01_11eb_a716_0242ac1c0002row1_col16\" class=\"data row1 col16\" >0</td>\n",
              "                        <td id=\"T_f9e00dca_5a01_11eb_a716_0242ac1c0002row1_col17\" class=\"data row1 col17\" >0</td>\n",
              "                        <td id=\"T_f9e00dca_5a01_11eb_a716_0242ac1c0002row1_col18\" class=\"data row1 col18\" >0</td>\n",
              "                        <td id=\"T_f9e00dca_5a01_11eb_a716_0242ac1c0002row1_col19\" class=\"data row1 col19\" >0</td>\n",
              "                        <td id=\"T_f9e00dca_5a01_11eb_a716_0242ac1c0002row1_col20\" class=\"data row1 col20\" >0</td>\n",
              "                        <td id=\"T_f9e00dca_5a01_11eb_a716_0242ac1c0002row1_col21\" class=\"data row1 col21\" >0</td>\n",
              "                        <td id=\"T_f9e00dca_5a01_11eb_a716_0242ac1c0002row1_col22\" class=\"data row1 col22\" >0</td>\n",
              "                        <td id=\"T_f9e00dca_5a01_11eb_a716_0242ac1c0002row1_col23\" class=\"data row1 col23\" >0</td>\n",
              "                        <td id=\"T_f9e00dca_5a01_11eb_a716_0242ac1c0002row1_col24\" class=\"data row1 col24\" >0</td>\n",
              "                        <td id=\"T_f9e00dca_5a01_11eb_a716_0242ac1c0002row1_col25\" class=\"data row1 col25\" >0</td>\n",
              "                        <td id=\"T_f9e00dca_5a01_11eb_a716_0242ac1c0002row1_col26\" class=\"data row1 col26\" >0</td>\n",
              "                        <td id=\"T_f9e00dca_5a01_11eb_a716_0242ac1c0002row1_col27\" class=\"data row1 col27\" >0</td>\n",
              "            </tr>\n",
              "            <tr>\n",
              "                        <th id=\"T_f9e00dca_5a01_11eb_a716_0242ac1c0002level0_row2\" class=\"row_heading level0 row2\" >2</th>\n",
              "                        <td id=\"T_f9e00dca_5a01_11eb_a716_0242ac1c0002row2_col0\" class=\"data row2 col0\" >0</td>\n",
              "                        <td id=\"T_f9e00dca_5a01_11eb_a716_0242ac1c0002row2_col1\" class=\"data row2 col1\" >0</td>\n",
              "                        <td id=\"T_f9e00dca_5a01_11eb_a716_0242ac1c0002row2_col2\" class=\"data row2 col2\" >0</td>\n",
              "                        <td id=\"T_f9e00dca_5a01_11eb_a716_0242ac1c0002row2_col3\" class=\"data row2 col3\" >0</td>\n",
              "                        <td id=\"T_f9e00dca_5a01_11eb_a716_0242ac1c0002row2_col4\" class=\"data row2 col4\" >0</td>\n",
              "                        <td id=\"T_f9e00dca_5a01_11eb_a716_0242ac1c0002row2_col5\" class=\"data row2 col5\" >0</td>\n",
              "                        <td id=\"T_f9e00dca_5a01_11eb_a716_0242ac1c0002row2_col6\" class=\"data row2 col6\" >0</td>\n",
              "                        <td id=\"T_f9e00dca_5a01_11eb_a716_0242ac1c0002row2_col7\" class=\"data row2 col7\" >0</td>\n",
              "                        <td id=\"T_f9e00dca_5a01_11eb_a716_0242ac1c0002row2_col8\" class=\"data row2 col8\" >0</td>\n",
              "                        <td id=\"T_f9e00dca_5a01_11eb_a716_0242ac1c0002row2_col9\" class=\"data row2 col9\" >0</td>\n",
              "                        <td id=\"T_f9e00dca_5a01_11eb_a716_0242ac1c0002row2_col10\" class=\"data row2 col10\" >0</td>\n",
              "                        <td id=\"T_f9e00dca_5a01_11eb_a716_0242ac1c0002row2_col11\" class=\"data row2 col11\" >0</td>\n",
              "                        <td id=\"T_f9e00dca_5a01_11eb_a716_0242ac1c0002row2_col12\" class=\"data row2 col12\" >0</td>\n",
              "                        <td id=\"T_f9e00dca_5a01_11eb_a716_0242ac1c0002row2_col13\" class=\"data row2 col13\" >0</td>\n",
              "                        <td id=\"T_f9e00dca_5a01_11eb_a716_0242ac1c0002row2_col14\" class=\"data row2 col14\" >0</td>\n",
              "                        <td id=\"T_f9e00dca_5a01_11eb_a716_0242ac1c0002row2_col15\" class=\"data row2 col15\" >0</td>\n",
              "                        <td id=\"T_f9e00dca_5a01_11eb_a716_0242ac1c0002row2_col16\" class=\"data row2 col16\" >0</td>\n",
              "                        <td id=\"T_f9e00dca_5a01_11eb_a716_0242ac1c0002row2_col17\" class=\"data row2 col17\" >0</td>\n",
              "                        <td id=\"T_f9e00dca_5a01_11eb_a716_0242ac1c0002row2_col18\" class=\"data row2 col18\" >0</td>\n",
              "                        <td id=\"T_f9e00dca_5a01_11eb_a716_0242ac1c0002row2_col19\" class=\"data row2 col19\" >0</td>\n",
              "                        <td id=\"T_f9e00dca_5a01_11eb_a716_0242ac1c0002row2_col20\" class=\"data row2 col20\" >0</td>\n",
              "                        <td id=\"T_f9e00dca_5a01_11eb_a716_0242ac1c0002row2_col21\" class=\"data row2 col21\" >0</td>\n",
              "                        <td id=\"T_f9e00dca_5a01_11eb_a716_0242ac1c0002row2_col22\" class=\"data row2 col22\" >0</td>\n",
              "                        <td id=\"T_f9e00dca_5a01_11eb_a716_0242ac1c0002row2_col23\" class=\"data row2 col23\" >0</td>\n",
              "                        <td id=\"T_f9e00dca_5a01_11eb_a716_0242ac1c0002row2_col24\" class=\"data row2 col24\" >0</td>\n",
              "                        <td id=\"T_f9e00dca_5a01_11eb_a716_0242ac1c0002row2_col25\" class=\"data row2 col25\" >0</td>\n",
              "                        <td id=\"T_f9e00dca_5a01_11eb_a716_0242ac1c0002row2_col26\" class=\"data row2 col26\" >0</td>\n",
              "                        <td id=\"T_f9e00dca_5a01_11eb_a716_0242ac1c0002row2_col27\" class=\"data row2 col27\" >0</td>\n",
              "            </tr>\n",
              "            <tr>\n",
              "                        <th id=\"T_f9e00dca_5a01_11eb_a716_0242ac1c0002level0_row3\" class=\"row_heading level0 row3\" >3</th>\n",
              "                        <td id=\"T_f9e00dca_5a01_11eb_a716_0242ac1c0002row3_col0\" class=\"data row3 col0\" >0</td>\n",
              "                        <td id=\"T_f9e00dca_5a01_11eb_a716_0242ac1c0002row3_col1\" class=\"data row3 col1\" >0</td>\n",
              "                        <td id=\"T_f9e00dca_5a01_11eb_a716_0242ac1c0002row3_col2\" class=\"data row3 col2\" >0</td>\n",
              "                        <td id=\"T_f9e00dca_5a01_11eb_a716_0242ac1c0002row3_col3\" class=\"data row3 col3\" >0</td>\n",
              "                        <td id=\"T_f9e00dca_5a01_11eb_a716_0242ac1c0002row3_col4\" class=\"data row3 col4\" >0</td>\n",
              "                        <td id=\"T_f9e00dca_5a01_11eb_a716_0242ac1c0002row3_col5\" class=\"data row3 col5\" >0</td>\n",
              "                        <td id=\"T_f9e00dca_5a01_11eb_a716_0242ac1c0002row3_col6\" class=\"data row3 col6\" >0</td>\n",
              "                        <td id=\"T_f9e00dca_5a01_11eb_a716_0242ac1c0002row3_col7\" class=\"data row3 col7\" >0</td>\n",
              "                        <td id=\"T_f9e00dca_5a01_11eb_a716_0242ac1c0002row3_col8\" class=\"data row3 col8\" >0</td>\n",
              "                        <td id=\"T_f9e00dca_5a01_11eb_a716_0242ac1c0002row3_col9\" class=\"data row3 col9\" >0</td>\n",
              "                        <td id=\"T_f9e00dca_5a01_11eb_a716_0242ac1c0002row3_col10\" class=\"data row3 col10\" >0</td>\n",
              "                        <td id=\"T_f9e00dca_5a01_11eb_a716_0242ac1c0002row3_col11\" class=\"data row3 col11\" >0</td>\n",
              "                        <td id=\"T_f9e00dca_5a01_11eb_a716_0242ac1c0002row3_col12\" class=\"data row3 col12\" >0</td>\n",
              "                        <td id=\"T_f9e00dca_5a01_11eb_a716_0242ac1c0002row3_col13\" class=\"data row3 col13\" >0</td>\n",
              "                        <td id=\"T_f9e00dca_5a01_11eb_a716_0242ac1c0002row3_col14\" class=\"data row3 col14\" >0</td>\n",
              "                        <td id=\"T_f9e00dca_5a01_11eb_a716_0242ac1c0002row3_col15\" class=\"data row3 col15\" >0</td>\n",
              "                        <td id=\"T_f9e00dca_5a01_11eb_a716_0242ac1c0002row3_col16\" class=\"data row3 col16\" >0</td>\n",
              "                        <td id=\"T_f9e00dca_5a01_11eb_a716_0242ac1c0002row3_col17\" class=\"data row3 col17\" >0</td>\n",
              "                        <td id=\"T_f9e00dca_5a01_11eb_a716_0242ac1c0002row3_col18\" class=\"data row3 col18\" >0</td>\n",
              "                        <td id=\"T_f9e00dca_5a01_11eb_a716_0242ac1c0002row3_col19\" class=\"data row3 col19\" >0</td>\n",
              "                        <td id=\"T_f9e00dca_5a01_11eb_a716_0242ac1c0002row3_col20\" class=\"data row3 col20\" >0</td>\n",
              "                        <td id=\"T_f9e00dca_5a01_11eb_a716_0242ac1c0002row3_col21\" class=\"data row3 col21\" >0</td>\n",
              "                        <td id=\"T_f9e00dca_5a01_11eb_a716_0242ac1c0002row3_col22\" class=\"data row3 col22\" >0</td>\n",
              "                        <td id=\"T_f9e00dca_5a01_11eb_a716_0242ac1c0002row3_col23\" class=\"data row3 col23\" >0</td>\n",
              "                        <td id=\"T_f9e00dca_5a01_11eb_a716_0242ac1c0002row3_col24\" class=\"data row3 col24\" >0</td>\n",
              "                        <td id=\"T_f9e00dca_5a01_11eb_a716_0242ac1c0002row3_col25\" class=\"data row3 col25\" >0</td>\n",
              "                        <td id=\"T_f9e00dca_5a01_11eb_a716_0242ac1c0002row3_col26\" class=\"data row3 col26\" >0</td>\n",
              "                        <td id=\"T_f9e00dca_5a01_11eb_a716_0242ac1c0002row3_col27\" class=\"data row3 col27\" >0</td>\n",
              "            </tr>\n",
              "            <tr>\n",
              "                        <th id=\"T_f9e00dca_5a01_11eb_a716_0242ac1c0002level0_row4\" class=\"row_heading level0 row4\" >4</th>\n",
              "                        <td id=\"T_f9e00dca_5a01_11eb_a716_0242ac1c0002row4_col0\" class=\"data row4 col0\" >0</td>\n",
              "                        <td id=\"T_f9e00dca_5a01_11eb_a716_0242ac1c0002row4_col1\" class=\"data row4 col1\" >0</td>\n",
              "                        <td id=\"T_f9e00dca_5a01_11eb_a716_0242ac1c0002row4_col2\" class=\"data row4 col2\" >0</td>\n",
              "                        <td id=\"T_f9e00dca_5a01_11eb_a716_0242ac1c0002row4_col3\" class=\"data row4 col3\" >0</td>\n",
              "                        <td id=\"T_f9e00dca_5a01_11eb_a716_0242ac1c0002row4_col4\" class=\"data row4 col4\" >0</td>\n",
              "                        <td id=\"T_f9e00dca_5a01_11eb_a716_0242ac1c0002row4_col5\" class=\"data row4 col5\" >0</td>\n",
              "                        <td id=\"T_f9e00dca_5a01_11eb_a716_0242ac1c0002row4_col6\" class=\"data row4 col6\" >0</td>\n",
              "                        <td id=\"T_f9e00dca_5a01_11eb_a716_0242ac1c0002row4_col7\" class=\"data row4 col7\" >0</td>\n",
              "                        <td id=\"T_f9e00dca_5a01_11eb_a716_0242ac1c0002row4_col8\" class=\"data row4 col8\" >0</td>\n",
              "                        <td id=\"T_f9e00dca_5a01_11eb_a716_0242ac1c0002row4_col9\" class=\"data row4 col9\" >0</td>\n",
              "                        <td id=\"T_f9e00dca_5a01_11eb_a716_0242ac1c0002row4_col10\" class=\"data row4 col10\" >0</td>\n",
              "                        <td id=\"T_f9e00dca_5a01_11eb_a716_0242ac1c0002row4_col11\" class=\"data row4 col11\" >0</td>\n",
              "                        <td id=\"T_f9e00dca_5a01_11eb_a716_0242ac1c0002row4_col12\" class=\"data row4 col12\" >0</td>\n",
              "                        <td id=\"T_f9e00dca_5a01_11eb_a716_0242ac1c0002row4_col13\" class=\"data row4 col13\" >0</td>\n",
              "                        <td id=\"T_f9e00dca_5a01_11eb_a716_0242ac1c0002row4_col14\" class=\"data row4 col14\" >0</td>\n",
              "                        <td id=\"T_f9e00dca_5a01_11eb_a716_0242ac1c0002row4_col15\" class=\"data row4 col15\" >0</td>\n",
              "                        <td id=\"T_f9e00dca_5a01_11eb_a716_0242ac1c0002row4_col16\" class=\"data row4 col16\" >0</td>\n",
              "                        <td id=\"T_f9e00dca_5a01_11eb_a716_0242ac1c0002row4_col17\" class=\"data row4 col17\" >0</td>\n",
              "                        <td id=\"T_f9e00dca_5a01_11eb_a716_0242ac1c0002row4_col18\" class=\"data row4 col18\" >0</td>\n",
              "                        <td id=\"T_f9e00dca_5a01_11eb_a716_0242ac1c0002row4_col19\" class=\"data row4 col19\" >0</td>\n",
              "                        <td id=\"T_f9e00dca_5a01_11eb_a716_0242ac1c0002row4_col20\" class=\"data row4 col20\" >0</td>\n",
              "                        <td id=\"T_f9e00dca_5a01_11eb_a716_0242ac1c0002row4_col21\" class=\"data row4 col21\" >0</td>\n",
              "                        <td id=\"T_f9e00dca_5a01_11eb_a716_0242ac1c0002row4_col22\" class=\"data row4 col22\" >0</td>\n",
              "                        <td id=\"T_f9e00dca_5a01_11eb_a716_0242ac1c0002row4_col23\" class=\"data row4 col23\" >0</td>\n",
              "                        <td id=\"T_f9e00dca_5a01_11eb_a716_0242ac1c0002row4_col24\" class=\"data row4 col24\" >0</td>\n",
              "                        <td id=\"T_f9e00dca_5a01_11eb_a716_0242ac1c0002row4_col25\" class=\"data row4 col25\" >0</td>\n",
              "                        <td id=\"T_f9e00dca_5a01_11eb_a716_0242ac1c0002row4_col26\" class=\"data row4 col26\" >0</td>\n",
              "                        <td id=\"T_f9e00dca_5a01_11eb_a716_0242ac1c0002row4_col27\" class=\"data row4 col27\" >0</td>\n",
              "            </tr>\n",
              "            <tr>\n",
              "                        <th id=\"T_f9e00dca_5a01_11eb_a716_0242ac1c0002level0_row5\" class=\"row_heading level0 row5\" >5</th>\n",
              "                        <td id=\"T_f9e00dca_5a01_11eb_a716_0242ac1c0002row5_col0\" class=\"data row5 col0\" >0</td>\n",
              "                        <td id=\"T_f9e00dca_5a01_11eb_a716_0242ac1c0002row5_col1\" class=\"data row5 col1\" >0</td>\n",
              "                        <td id=\"T_f9e00dca_5a01_11eb_a716_0242ac1c0002row5_col2\" class=\"data row5 col2\" >0</td>\n",
              "                        <td id=\"T_f9e00dca_5a01_11eb_a716_0242ac1c0002row5_col3\" class=\"data row5 col3\" >0</td>\n",
              "                        <td id=\"T_f9e00dca_5a01_11eb_a716_0242ac1c0002row5_col4\" class=\"data row5 col4\" >0</td>\n",
              "                        <td id=\"T_f9e00dca_5a01_11eb_a716_0242ac1c0002row5_col5\" class=\"data row5 col5\" >0</td>\n",
              "                        <td id=\"T_f9e00dca_5a01_11eb_a716_0242ac1c0002row5_col6\" class=\"data row5 col6\" >0</td>\n",
              "                        <td id=\"T_f9e00dca_5a01_11eb_a716_0242ac1c0002row5_col7\" class=\"data row5 col7\" >0</td>\n",
              "                        <td id=\"T_f9e00dca_5a01_11eb_a716_0242ac1c0002row5_col8\" class=\"data row5 col8\" >0</td>\n",
              "                        <td id=\"T_f9e00dca_5a01_11eb_a716_0242ac1c0002row5_col9\" class=\"data row5 col9\" >29</td>\n",
              "                        <td id=\"T_f9e00dca_5a01_11eb_a716_0242ac1c0002row5_col10\" class=\"data row5 col10\" >150</td>\n",
              "                        <td id=\"T_f9e00dca_5a01_11eb_a716_0242ac1c0002row5_col11\" class=\"data row5 col11\" >195</td>\n",
              "                        <td id=\"T_f9e00dca_5a01_11eb_a716_0242ac1c0002row5_col12\" class=\"data row5 col12\" >254</td>\n",
              "                        <td id=\"T_f9e00dca_5a01_11eb_a716_0242ac1c0002row5_col13\" class=\"data row5 col13\" >255</td>\n",
              "                        <td id=\"T_f9e00dca_5a01_11eb_a716_0242ac1c0002row5_col14\" class=\"data row5 col14\" >254</td>\n",
              "                        <td id=\"T_f9e00dca_5a01_11eb_a716_0242ac1c0002row5_col15\" class=\"data row5 col15\" >176</td>\n",
              "                        <td id=\"T_f9e00dca_5a01_11eb_a716_0242ac1c0002row5_col16\" class=\"data row5 col16\" >193</td>\n",
              "                        <td id=\"T_f9e00dca_5a01_11eb_a716_0242ac1c0002row5_col17\" class=\"data row5 col17\" >150</td>\n",
              "                        <td id=\"T_f9e00dca_5a01_11eb_a716_0242ac1c0002row5_col18\" class=\"data row5 col18\" >96</td>\n",
              "                        <td id=\"T_f9e00dca_5a01_11eb_a716_0242ac1c0002row5_col19\" class=\"data row5 col19\" >0</td>\n",
              "                        <td id=\"T_f9e00dca_5a01_11eb_a716_0242ac1c0002row5_col20\" class=\"data row5 col20\" >0</td>\n",
              "                        <td id=\"T_f9e00dca_5a01_11eb_a716_0242ac1c0002row5_col21\" class=\"data row5 col21\" >0</td>\n",
              "                        <td id=\"T_f9e00dca_5a01_11eb_a716_0242ac1c0002row5_col22\" class=\"data row5 col22\" >0</td>\n",
              "                        <td id=\"T_f9e00dca_5a01_11eb_a716_0242ac1c0002row5_col23\" class=\"data row5 col23\" >0</td>\n",
              "                        <td id=\"T_f9e00dca_5a01_11eb_a716_0242ac1c0002row5_col24\" class=\"data row5 col24\" >0</td>\n",
              "                        <td id=\"T_f9e00dca_5a01_11eb_a716_0242ac1c0002row5_col25\" class=\"data row5 col25\" >0</td>\n",
              "                        <td id=\"T_f9e00dca_5a01_11eb_a716_0242ac1c0002row5_col26\" class=\"data row5 col26\" >0</td>\n",
              "                        <td id=\"T_f9e00dca_5a01_11eb_a716_0242ac1c0002row5_col27\" class=\"data row5 col27\" >0</td>\n",
              "            </tr>\n",
              "            <tr>\n",
              "                        <th id=\"T_f9e00dca_5a01_11eb_a716_0242ac1c0002level0_row6\" class=\"row_heading level0 row6\" >6</th>\n",
              "                        <td id=\"T_f9e00dca_5a01_11eb_a716_0242ac1c0002row6_col0\" class=\"data row6 col0\" >0</td>\n",
              "                        <td id=\"T_f9e00dca_5a01_11eb_a716_0242ac1c0002row6_col1\" class=\"data row6 col1\" >0</td>\n",
              "                        <td id=\"T_f9e00dca_5a01_11eb_a716_0242ac1c0002row6_col2\" class=\"data row6 col2\" >0</td>\n",
              "                        <td id=\"T_f9e00dca_5a01_11eb_a716_0242ac1c0002row6_col3\" class=\"data row6 col3\" >0</td>\n",
              "                        <td id=\"T_f9e00dca_5a01_11eb_a716_0242ac1c0002row6_col4\" class=\"data row6 col4\" >0</td>\n",
              "                        <td id=\"T_f9e00dca_5a01_11eb_a716_0242ac1c0002row6_col5\" class=\"data row6 col5\" >0</td>\n",
              "                        <td id=\"T_f9e00dca_5a01_11eb_a716_0242ac1c0002row6_col6\" class=\"data row6 col6\" >0</td>\n",
              "                        <td id=\"T_f9e00dca_5a01_11eb_a716_0242ac1c0002row6_col7\" class=\"data row6 col7\" >48</td>\n",
              "                        <td id=\"T_f9e00dca_5a01_11eb_a716_0242ac1c0002row6_col8\" class=\"data row6 col8\" >166</td>\n",
              "                        <td id=\"T_f9e00dca_5a01_11eb_a716_0242ac1c0002row6_col9\" class=\"data row6 col9\" >224</td>\n",
              "                        <td id=\"T_f9e00dca_5a01_11eb_a716_0242ac1c0002row6_col10\" class=\"data row6 col10\" >253</td>\n",
              "                        <td id=\"T_f9e00dca_5a01_11eb_a716_0242ac1c0002row6_col11\" class=\"data row6 col11\" >253</td>\n",
              "                        <td id=\"T_f9e00dca_5a01_11eb_a716_0242ac1c0002row6_col12\" class=\"data row6 col12\" >234</td>\n",
              "                        <td id=\"T_f9e00dca_5a01_11eb_a716_0242ac1c0002row6_col13\" class=\"data row6 col13\" >196</td>\n",
              "                        <td id=\"T_f9e00dca_5a01_11eb_a716_0242ac1c0002row6_col14\" class=\"data row6 col14\" >253</td>\n",
              "                        <td id=\"T_f9e00dca_5a01_11eb_a716_0242ac1c0002row6_col15\" class=\"data row6 col15\" >253</td>\n",
              "                        <td id=\"T_f9e00dca_5a01_11eb_a716_0242ac1c0002row6_col16\" class=\"data row6 col16\" >253</td>\n",
              "                        <td id=\"T_f9e00dca_5a01_11eb_a716_0242ac1c0002row6_col17\" class=\"data row6 col17\" >253</td>\n",
              "                        <td id=\"T_f9e00dca_5a01_11eb_a716_0242ac1c0002row6_col18\" class=\"data row6 col18\" >233</td>\n",
              "                        <td id=\"T_f9e00dca_5a01_11eb_a716_0242ac1c0002row6_col19\" class=\"data row6 col19\" >0</td>\n",
              "                        <td id=\"T_f9e00dca_5a01_11eb_a716_0242ac1c0002row6_col20\" class=\"data row6 col20\" >0</td>\n",
              "                        <td id=\"T_f9e00dca_5a01_11eb_a716_0242ac1c0002row6_col21\" class=\"data row6 col21\" >0</td>\n",
              "                        <td id=\"T_f9e00dca_5a01_11eb_a716_0242ac1c0002row6_col22\" class=\"data row6 col22\" >0</td>\n",
              "                        <td id=\"T_f9e00dca_5a01_11eb_a716_0242ac1c0002row6_col23\" class=\"data row6 col23\" >0</td>\n",
              "                        <td id=\"T_f9e00dca_5a01_11eb_a716_0242ac1c0002row6_col24\" class=\"data row6 col24\" >0</td>\n",
              "                        <td id=\"T_f9e00dca_5a01_11eb_a716_0242ac1c0002row6_col25\" class=\"data row6 col25\" >0</td>\n",
              "                        <td id=\"T_f9e00dca_5a01_11eb_a716_0242ac1c0002row6_col26\" class=\"data row6 col26\" >0</td>\n",
              "                        <td id=\"T_f9e00dca_5a01_11eb_a716_0242ac1c0002row6_col27\" class=\"data row6 col27\" >0</td>\n",
              "            </tr>\n",
              "            <tr>\n",
              "                        <th id=\"T_f9e00dca_5a01_11eb_a716_0242ac1c0002level0_row7\" class=\"row_heading level0 row7\" >7</th>\n",
              "                        <td id=\"T_f9e00dca_5a01_11eb_a716_0242ac1c0002row7_col0\" class=\"data row7 col0\" >0</td>\n",
              "                        <td id=\"T_f9e00dca_5a01_11eb_a716_0242ac1c0002row7_col1\" class=\"data row7 col1\" >0</td>\n",
              "                        <td id=\"T_f9e00dca_5a01_11eb_a716_0242ac1c0002row7_col2\" class=\"data row7 col2\" >0</td>\n",
              "                        <td id=\"T_f9e00dca_5a01_11eb_a716_0242ac1c0002row7_col3\" class=\"data row7 col3\" >0</td>\n",
              "                        <td id=\"T_f9e00dca_5a01_11eb_a716_0242ac1c0002row7_col4\" class=\"data row7 col4\" >0</td>\n",
              "                        <td id=\"T_f9e00dca_5a01_11eb_a716_0242ac1c0002row7_col5\" class=\"data row7 col5\" >93</td>\n",
              "                        <td id=\"T_f9e00dca_5a01_11eb_a716_0242ac1c0002row7_col6\" class=\"data row7 col6\" >244</td>\n",
              "                        <td id=\"T_f9e00dca_5a01_11eb_a716_0242ac1c0002row7_col7\" class=\"data row7 col7\" >249</td>\n",
              "                        <td id=\"T_f9e00dca_5a01_11eb_a716_0242ac1c0002row7_col8\" class=\"data row7 col8\" >253</td>\n",
              "                        <td id=\"T_f9e00dca_5a01_11eb_a716_0242ac1c0002row7_col9\" class=\"data row7 col9\" >187</td>\n",
              "                        <td id=\"T_f9e00dca_5a01_11eb_a716_0242ac1c0002row7_col10\" class=\"data row7 col10\" >46</td>\n",
              "                        <td id=\"T_f9e00dca_5a01_11eb_a716_0242ac1c0002row7_col11\" class=\"data row7 col11\" >10</td>\n",
              "                        <td id=\"T_f9e00dca_5a01_11eb_a716_0242ac1c0002row7_col12\" class=\"data row7 col12\" >8</td>\n",
              "                        <td id=\"T_f9e00dca_5a01_11eb_a716_0242ac1c0002row7_col13\" class=\"data row7 col13\" >4</td>\n",
              "                        <td id=\"T_f9e00dca_5a01_11eb_a716_0242ac1c0002row7_col14\" class=\"data row7 col14\" >10</td>\n",
              "                        <td id=\"T_f9e00dca_5a01_11eb_a716_0242ac1c0002row7_col15\" class=\"data row7 col15\" >194</td>\n",
              "                        <td id=\"T_f9e00dca_5a01_11eb_a716_0242ac1c0002row7_col16\" class=\"data row7 col16\" >253</td>\n",
              "                        <td id=\"T_f9e00dca_5a01_11eb_a716_0242ac1c0002row7_col17\" class=\"data row7 col17\" >253</td>\n",
              "                        <td id=\"T_f9e00dca_5a01_11eb_a716_0242ac1c0002row7_col18\" class=\"data row7 col18\" >233</td>\n",
              "                        <td id=\"T_f9e00dca_5a01_11eb_a716_0242ac1c0002row7_col19\" class=\"data row7 col19\" >0</td>\n",
              "                        <td id=\"T_f9e00dca_5a01_11eb_a716_0242ac1c0002row7_col20\" class=\"data row7 col20\" >0</td>\n",
              "                        <td id=\"T_f9e00dca_5a01_11eb_a716_0242ac1c0002row7_col21\" class=\"data row7 col21\" >0</td>\n",
              "                        <td id=\"T_f9e00dca_5a01_11eb_a716_0242ac1c0002row7_col22\" class=\"data row7 col22\" >0</td>\n",
              "                        <td id=\"T_f9e00dca_5a01_11eb_a716_0242ac1c0002row7_col23\" class=\"data row7 col23\" >0</td>\n",
              "                        <td id=\"T_f9e00dca_5a01_11eb_a716_0242ac1c0002row7_col24\" class=\"data row7 col24\" >0</td>\n",
              "                        <td id=\"T_f9e00dca_5a01_11eb_a716_0242ac1c0002row7_col25\" class=\"data row7 col25\" >0</td>\n",
              "                        <td id=\"T_f9e00dca_5a01_11eb_a716_0242ac1c0002row7_col26\" class=\"data row7 col26\" >0</td>\n",
              "                        <td id=\"T_f9e00dca_5a01_11eb_a716_0242ac1c0002row7_col27\" class=\"data row7 col27\" >0</td>\n",
              "            </tr>\n",
              "            <tr>\n",
              "                        <th id=\"T_f9e00dca_5a01_11eb_a716_0242ac1c0002level0_row8\" class=\"row_heading level0 row8\" >8</th>\n",
              "                        <td id=\"T_f9e00dca_5a01_11eb_a716_0242ac1c0002row8_col0\" class=\"data row8 col0\" >0</td>\n",
              "                        <td id=\"T_f9e00dca_5a01_11eb_a716_0242ac1c0002row8_col1\" class=\"data row8 col1\" >0</td>\n",
              "                        <td id=\"T_f9e00dca_5a01_11eb_a716_0242ac1c0002row8_col2\" class=\"data row8 col2\" >0</td>\n",
              "                        <td id=\"T_f9e00dca_5a01_11eb_a716_0242ac1c0002row8_col3\" class=\"data row8 col3\" >0</td>\n",
              "                        <td id=\"T_f9e00dca_5a01_11eb_a716_0242ac1c0002row8_col4\" class=\"data row8 col4\" >0</td>\n",
              "                        <td id=\"T_f9e00dca_5a01_11eb_a716_0242ac1c0002row8_col5\" class=\"data row8 col5\" >107</td>\n",
              "                        <td id=\"T_f9e00dca_5a01_11eb_a716_0242ac1c0002row8_col6\" class=\"data row8 col6\" >253</td>\n",
              "                        <td id=\"T_f9e00dca_5a01_11eb_a716_0242ac1c0002row8_col7\" class=\"data row8 col7\" >253</td>\n",
              "                        <td id=\"T_f9e00dca_5a01_11eb_a716_0242ac1c0002row8_col8\" class=\"data row8 col8\" >230</td>\n",
              "                        <td id=\"T_f9e00dca_5a01_11eb_a716_0242ac1c0002row8_col9\" class=\"data row8 col9\" >48</td>\n",
              "                        <td id=\"T_f9e00dca_5a01_11eb_a716_0242ac1c0002row8_col10\" class=\"data row8 col10\" >0</td>\n",
              "                        <td id=\"T_f9e00dca_5a01_11eb_a716_0242ac1c0002row8_col11\" class=\"data row8 col11\" >0</td>\n",
              "                        <td id=\"T_f9e00dca_5a01_11eb_a716_0242ac1c0002row8_col12\" class=\"data row8 col12\" >0</td>\n",
              "                        <td id=\"T_f9e00dca_5a01_11eb_a716_0242ac1c0002row8_col13\" class=\"data row8 col13\" >0</td>\n",
              "                        <td id=\"T_f9e00dca_5a01_11eb_a716_0242ac1c0002row8_col14\" class=\"data row8 col14\" >0</td>\n",
              "                        <td id=\"T_f9e00dca_5a01_11eb_a716_0242ac1c0002row8_col15\" class=\"data row8 col15\" >192</td>\n",
              "                        <td id=\"T_f9e00dca_5a01_11eb_a716_0242ac1c0002row8_col16\" class=\"data row8 col16\" >253</td>\n",
              "                        <td id=\"T_f9e00dca_5a01_11eb_a716_0242ac1c0002row8_col17\" class=\"data row8 col17\" >253</td>\n",
              "                        <td id=\"T_f9e00dca_5a01_11eb_a716_0242ac1c0002row8_col18\" class=\"data row8 col18\" >156</td>\n",
              "                        <td id=\"T_f9e00dca_5a01_11eb_a716_0242ac1c0002row8_col19\" class=\"data row8 col19\" >0</td>\n",
              "                        <td id=\"T_f9e00dca_5a01_11eb_a716_0242ac1c0002row8_col20\" class=\"data row8 col20\" >0</td>\n",
              "                        <td id=\"T_f9e00dca_5a01_11eb_a716_0242ac1c0002row8_col21\" class=\"data row8 col21\" >0</td>\n",
              "                        <td id=\"T_f9e00dca_5a01_11eb_a716_0242ac1c0002row8_col22\" class=\"data row8 col22\" >0</td>\n",
              "                        <td id=\"T_f9e00dca_5a01_11eb_a716_0242ac1c0002row8_col23\" class=\"data row8 col23\" >0</td>\n",
              "                        <td id=\"T_f9e00dca_5a01_11eb_a716_0242ac1c0002row8_col24\" class=\"data row8 col24\" >0</td>\n",
              "                        <td id=\"T_f9e00dca_5a01_11eb_a716_0242ac1c0002row8_col25\" class=\"data row8 col25\" >0</td>\n",
              "                        <td id=\"T_f9e00dca_5a01_11eb_a716_0242ac1c0002row8_col26\" class=\"data row8 col26\" >0</td>\n",
              "                        <td id=\"T_f9e00dca_5a01_11eb_a716_0242ac1c0002row8_col27\" class=\"data row8 col27\" >0</td>\n",
              "            </tr>\n",
              "            <tr>\n",
              "                        <th id=\"T_f9e00dca_5a01_11eb_a716_0242ac1c0002level0_row9\" class=\"row_heading level0 row9\" >9</th>\n",
              "                        <td id=\"T_f9e00dca_5a01_11eb_a716_0242ac1c0002row9_col0\" class=\"data row9 col0\" >0</td>\n",
              "                        <td id=\"T_f9e00dca_5a01_11eb_a716_0242ac1c0002row9_col1\" class=\"data row9 col1\" >0</td>\n",
              "                        <td id=\"T_f9e00dca_5a01_11eb_a716_0242ac1c0002row9_col2\" class=\"data row9 col2\" >0</td>\n",
              "                        <td id=\"T_f9e00dca_5a01_11eb_a716_0242ac1c0002row9_col3\" class=\"data row9 col3\" >0</td>\n",
              "                        <td id=\"T_f9e00dca_5a01_11eb_a716_0242ac1c0002row9_col4\" class=\"data row9 col4\" >0</td>\n",
              "                        <td id=\"T_f9e00dca_5a01_11eb_a716_0242ac1c0002row9_col5\" class=\"data row9 col5\" >3</td>\n",
              "                        <td id=\"T_f9e00dca_5a01_11eb_a716_0242ac1c0002row9_col6\" class=\"data row9 col6\" >20</td>\n",
              "                        <td id=\"T_f9e00dca_5a01_11eb_a716_0242ac1c0002row9_col7\" class=\"data row9 col7\" >20</td>\n",
              "                        <td id=\"T_f9e00dca_5a01_11eb_a716_0242ac1c0002row9_col8\" class=\"data row9 col8\" >15</td>\n",
              "                        <td id=\"T_f9e00dca_5a01_11eb_a716_0242ac1c0002row9_col9\" class=\"data row9 col9\" >0</td>\n",
              "                        <td id=\"T_f9e00dca_5a01_11eb_a716_0242ac1c0002row9_col10\" class=\"data row9 col10\" >0</td>\n",
              "                        <td id=\"T_f9e00dca_5a01_11eb_a716_0242ac1c0002row9_col11\" class=\"data row9 col11\" >0</td>\n",
              "                        <td id=\"T_f9e00dca_5a01_11eb_a716_0242ac1c0002row9_col12\" class=\"data row9 col12\" >0</td>\n",
              "                        <td id=\"T_f9e00dca_5a01_11eb_a716_0242ac1c0002row9_col13\" class=\"data row9 col13\" >0</td>\n",
              "                        <td id=\"T_f9e00dca_5a01_11eb_a716_0242ac1c0002row9_col14\" class=\"data row9 col14\" >43</td>\n",
              "                        <td id=\"T_f9e00dca_5a01_11eb_a716_0242ac1c0002row9_col15\" class=\"data row9 col15\" >224</td>\n",
              "                        <td id=\"T_f9e00dca_5a01_11eb_a716_0242ac1c0002row9_col16\" class=\"data row9 col16\" >253</td>\n",
              "                        <td id=\"T_f9e00dca_5a01_11eb_a716_0242ac1c0002row9_col17\" class=\"data row9 col17\" >245</td>\n",
              "                        <td id=\"T_f9e00dca_5a01_11eb_a716_0242ac1c0002row9_col18\" class=\"data row9 col18\" >74</td>\n",
              "                        <td id=\"T_f9e00dca_5a01_11eb_a716_0242ac1c0002row9_col19\" class=\"data row9 col19\" >0</td>\n",
              "                        <td id=\"T_f9e00dca_5a01_11eb_a716_0242ac1c0002row9_col20\" class=\"data row9 col20\" >0</td>\n",
              "                        <td id=\"T_f9e00dca_5a01_11eb_a716_0242ac1c0002row9_col21\" class=\"data row9 col21\" >0</td>\n",
              "                        <td id=\"T_f9e00dca_5a01_11eb_a716_0242ac1c0002row9_col22\" class=\"data row9 col22\" >0</td>\n",
              "                        <td id=\"T_f9e00dca_5a01_11eb_a716_0242ac1c0002row9_col23\" class=\"data row9 col23\" >0</td>\n",
              "                        <td id=\"T_f9e00dca_5a01_11eb_a716_0242ac1c0002row9_col24\" class=\"data row9 col24\" >0</td>\n",
              "                        <td id=\"T_f9e00dca_5a01_11eb_a716_0242ac1c0002row9_col25\" class=\"data row9 col25\" >0</td>\n",
              "                        <td id=\"T_f9e00dca_5a01_11eb_a716_0242ac1c0002row9_col26\" class=\"data row9 col26\" >0</td>\n",
              "                        <td id=\"T_f9e00dca_5a01_11eb_a716_0242ac1c0002row9_col27\" class=\"data row9 col27\" >0</td>\n",
              "            </tr>\n",
              "            <tr>\n",
              "                        <th id=\"T_f9e00dca_5a01_11eb_a716_0242ac1c0002level0_row10\" class=\"row_heading level0 row10\" >10</th>\n",
              "                        <td id=\"T_f9e00dca_5a01_11eb_a716_0242ac1c0002row10_col0\" class=\"data row10 col0\" >0</td>\n",
              "                        <td id=\"T_f9e00dca_5a01_11eb_a716_0242ac1c0002row10_col1\" class=\"data row10 col1\" >0</td>\n",
              "                        <td id=\"T_f9e00dca_5a01_11eb_a716_0242ac1c0002row10_col2\" class=\"data row10 col2\" >0</td>\n",
              "                        <td id=\"T_f9e00dca_5a01_11eb_a716_0242ac1c0002row10_col3\" class=\"data row10 col3\" >0</td>\n",
              "                        <td id=\"T_f9e00dca_5a01_11eb_a716_0242ac1c0002row10_col4\" class=\"data row10 col4\" >0</td>\n",
              "                        <td id=\"T_f9e00dca_5a01_11eb_a716_0242ac1c0002row10_col5\" class=\"data row10 col5\" >0</td>\n",
              "                        <td id=\"T_f9e00dca_5a01_11eb_a716_0242ac1c0002row10_col6\" class=\"data row10 col6\" >0</td>\n",
              "                        <td id=\"T_f9e00dca_5a01_11eb_a716_0242ac1c0002row10_col7\" class=\"data row10 col7\" >0</td>\n",
              "                        <td id=\"T_f9e00dca_5a01_11eb_a716_0242ac1c0002row10_col8\" class=\"data row10 col8\" >0</td>\n",
              "                        <td id=\"T_f9e00dca_5a01_11eb_a716_0242ac1c0002row10_col9\" class=\"data row10 col9\" >0</td>\n",
              "                        <td id=\"T_f9e00dca_5a01_11eb_a716_0242ac1c0002row10_col10\" class=\"data row10 col10\" >0</td>\n",
              "                        <td id=\"T_f9e00dca_5a01_11eb_a716_0242ac1c0002row10_col11\" class=\"data row10 col11\" >0</td>\n",
              "                        <td id=\"T_f9e00dca_5a01_11eb_a716_0242ac1c0002row10_col12\" class=\"data row10 col12\" >0</td>\n",
              "                        <td id=\"T_f9e00dca_5a01_11eb_a716_0242ac1c0002row10_col13\" class=\"data row10 col13\" >0</td>\n",
              "                        <td id=\"T_f9e00dca_5a01_11eb_a716_0242ac1c0002row10_col14\" class=\"data row10 col14\" >249</td>\n",
              "                        <td id=\"T_f9e00dca_5a01_11eb_a716_0242ac1c0002row10_col15\" class=\"data row10 col15\" >253</td>\n",
              "                        <td id=\"T_f9e00dca_5a01_11eb_a716_0242ac1c0002row10_col16\" class=\"data row10 col16\" >245</td>\n",
              "                        <td id=\"T_f9e00dca_5a01_11eb_a716_0242ac1c0002row10_col17\" class=\"data row10 col17\" >126</td>\n",
              "                        <td id=\"T_f9e00dca_5a01_11eb_a716_0242ac1c0002row10_col18\" class=\"data row10 col18\" >0</td>\n",
              "                        <td id=\"T_f9e00dca_5a01_11eb_a716_0242ac1c0002row10_col19\" class=\"data row10 col19\" >0</td>\n",
              "                        <td id=\"T_f9e00dca_5a01_11eb_a716_0242ac1c0002row10_col20\" class=\"data row10 col20\" >0</td>\n",
              "                        <td id=\"T_f9e00dca_5a01_11eb_a716_0242ac1c0002row10_col21\" class=\"data row10 col21\" >0</td>\n",
              "                        <td id=\"T_f9e00dca_5a01_11eb_a716_0242ac1c0002row10_col22\" class=\"data row10 col22\" >0</td>\n",
              "                        <td id=\"T_f9e00dca_5a01_11eb_a716_0242ac1c0002row10_col23\" class=\"data row10 col23\" >0</td>\n",
              "                        <td id=\"T_f9e00dca_5a01_11eb_a716_0242ac1c0002row10_col24\" class=\"data row10 col24\" >0</td>\n",
              "                        <td id=\"T_f9e00dca_5a01_11eb_a716_0242ac1c0002row10_col25\" class=\"data row10 col25\" >0</td>\n",
              "                        <td id=\"T_f9e00dca_5a01_11eb_a716_0242ac1c0002row10_col26\" class=\"data row10 col26\" >0</td>\n",
              "                        <td id=\"T_f9e00dca_5a01_11eb_a716_0242ac1c0002row10_col27\" class=\"data row10 col27\" >0</td>\n",
              "            </tr>\n",
              "            <tr>\n",
              "                        <th id=\"T_f9e00dca_5a01_11eb_a716_0242ac1c0002level0_row11\" class=\"row_heading level0 row11\" >11</th>\n",
              "                        <td id=\"T_f9e00dca_5a01_11eb_a716_0242ac1c0002row11_col0\" class=\"data row11 col0\" >0</td>\n",
              "                        <td id=\"T_f9e00dca_5a01_11eb_a716_0242ac1c0002row11_col1\" class=\"data row11 col1\" >0</td>\n",
              "                        <td id=\"T_f9e00dca_5a01_11eb_a716_0242ac1c0002row11_col2\" class=\"data row11 col2\" >0</td>\n",
              "                        <td id=\"T_f9e00dca_5a01_11eb_a716_0242ac1c0002row11_col3\" class=\"data row11 col3\" >0</td>\n",
              "                        <td id=\"T_f9e00dca_5a01_11eb_a716_0242ac1c0002row11_col4\" class=\"data row11 col4\" >0</td>\n",
              "                        <td id=\"T_f9e00dca_5a01_11eb_a716_0242ac1c0002row11_col5\" class=\"data row11 col5\" >0</td>\n",
              "                        <td id=\"T_f9e00dca_5a01_11eb_a716_0242ac1c0002row11_col6\" class=\"data row11 col6\" >0</td>\n",
              "                        <td id=\"T_f9e00dca_5a01_11eb_a716_0242ac1c0002row11_col7\" class=\"data row11 col7\" >0</td>\n",
              "                        <td id=\"T_f9e00dca_5a01_11eb_a716_0242ac1c0002row11_col8\" class=\"data row11 col8\" >0</td>\n",
              "                        <td id=\"T_f9e00dca_5a01_11eb_a716_0242ac1c0002row11_col9\" class=\"data row11 col9\" >0</td>\n",
              "                        <td id=\"T_f9e00dca_5a01_11eb_a716_0242ac1c0002row11_col10\" class=\"data row11 col10\" >0</td>\n",
              "                        <td id=\"T_f9e00dca_5a01_11eb_a716_0242ac1c0002row11_col11\" class=\"data row11 col11\" >14</td>\n",
              "                        <td id=\"T_f9e00dca_5a01_11eb_a716_0242ac1c0002row11_col12\" class=\"data row11 col12\" >101</td>\n",
              "                        <td id=\"T_f9e00dca_5a01_11eb_a716_0242ac1c0002row11_col13\" class=\"data row11 col13\" >223</td>\n",
              "                        <td id=\"T_f9e00dca_5a01_11eb_a716_0242ac1c0002row11_col14\" class=\"data row11 col14\" >253</td>\n",
              "                        <td id=\"T_f9e00dca_5a01_11eb_a716_0242ac1c0002row11_col15\" class=\"data row11 col15\" >248</td>\n",
              "                        <td id=\"T_f9e00dca_5a01_11eb_a716_0242ac1c0002row11_col16\" class=\"data row11 col16\" >124</td>\n",
              "                        <td id=\"T_f9e00dca_5a01_11eb_a716_0242ac1c0002row11_col17\" class=\"data row11 col17\" >0</td>\n",
              "                        <td id=\"T_f9e00dca_5a01_11eb_a716_0242ac1c0002row11_col18\" class=\"data row11 col18\" >0</td>\n",
              "                        <td id=\"T_f9e00dca_5a01_11eb_a716_0242ac1c0002row11_col19\" class=\"data row11 col19\" >0</td>\n",
              "                        <td id=\"T_f9e00dca_5a01_11eb_a716_0242ac1c0002row11_col20\" class=\"data row11 col20\" >0</td>\n",
              "                        <td id=\"T_f9e00dca_5a01_11eb_a716_0242ac1c0002row11_col21\" class=\"data row11 col21\" >0</td>\n",
              "                        <td id=\"T_f9e00dca_5a01_11eb_a716_0242ac1c0002row11_col22\" class=\"data row11 col22\" >0</td>\n",
              "                        <td id=\"T_f9e00dca_5a01_11eb_a716_0242ac1c0002row11_col23\" class=\"data row11 col23\" >0</td>\n",
              "                        <td id=\"T_f9e00dca_5a01_11eb_a716_0242ac1c0002row11_col24\" class=\"data row11 col24\" >0</td>\n",
              "                        <td id=\"T_f9e00dca_5a01_11eb_a716_0242ac1c0002row11_col25\" class=\"data row11 col25\" >0</td>\n",
              "                        <td id=\"T_f9e00dca_5a01_11eb_a716_0242ac1c0002row11_col26\" class=\"data row11 col26\" >0</td>\n",
              "                        <td id=\"T_f9e00dca_5a01_11eb_a716_0242ac1c0002row11_col27\" class=\"data row11 col27\" >0</td>\n",
              "            </tr>\n",
              "            <tr>\n",
              "                        <th id=\"T_f9e00dca_5a01_11eb_a716_0242ac1c0002level0_row12\" class=\"row_heading level0 row12\" >12</th>\n",
              "                        <td id=\"T_f9e00dca_5a01_11eb_a716_0242ac1c0002row12_col0\" class=\"data row12 col0\" >0</td>\n",
              "                        <td id=\"T_f9e00dca_5a01_11eb_a716_0242ac1c0002row12_col1\" class=\"data row12 col1\" >0</td>\n",
              "                        <td id=\"T_f9e00dca_5a01_11eb_a716_0242ac1c0002row12_col2\" class=\"data row12 col2\" >0</td>\n",
              "                        <td id=\"T_f9e00dca_5a01_11eb_a716_0242ac1c0002row12_col3\" class=\"data row12 col3\" >0</td>\n",
              "                        <td id=\"T_f9e00dca_5a01_11eb_a716_0242ac1c0002row12_col4\" class=\"data row12 col4\" >0</td>\n",
              "                        <td id=\"T_f9e00dca_5a01_11eb_a716_0242ac1c0002row12_col5\" class=\"data row12 col5\" >0</td>\n",
              "                        <td id=\"T_f9e00dca_5a01_11eb_a716_0242ac1c0002row12_col6\" class=\"data row12 col6\" >0</td>\n",
              "                        <td id=\"T_f9e00dca_5a01_11eb_a716_0242ac1c0002row12_col7\" class=\"data row12 col7\" >0</td>\n",
              "                        <td id=\"T_f9e00dca_5a01_11eb_a716_0242ac1c0002row12_col8\" class=\"data row12 col8\" >0</td>\n",
              "                        <td id=\"T_f9e00dca_5a01_11eb_a716_0242ac1c0002row12_col9\" class=\"data row12 col9\" >11</td>\n",
              "                        <td id=\"T_f9e00dca_5a01_11eb_a716_0242ac1c0002row12_col10\" class=\"data row12 col10\" >166</td>\n",
              "                        <td id=\"T_f9e00dca_5a01_11eb_a716_0242ac1c0002row12_col11\" class=\"data row12 col11\" >239</td>\n",
              "                        <td id=\"T_f9e00dca_5a01_11eb_a716_0242ac1c0002row12_col12\" class=\"data row12 col12\" >253</td>\n",
              "                        <td id=\"T_f9e00dca_5a01_11eb_a716_0242ac1c0002row12_col13\" class=\"data row12 col13\" >253</td>\n",
              "                        <td id=\"T_f9e00dca_5a01_11eb_a716_0242ac1c0002row12_col14\" class=\"data row12 col14\" >253</td>\n",
              "                        <td id=\"T_f9e00dca_5a01_11eb_a716_0242ac1c0002row12_col15\" class=\"data row12 col15\" >187</td>\n",
              "                        <td id=\"T_f9e00dca_5a01_11eb_a716_0242ac1c0002row12_col16\" class=\"data row12 col16\" >30</td>\n",
              "                        <td id=\"T_f9e00dca_5a01_11eb_a716_0242ac1c0002row12_col17\" class=\"data row12 col17\" >0</td>\n",
              "                        <td id=\"T_f9e00dca_5a01_11eb_a716_0242ac1c0002row12_col18\" class=\"data row12 col18\" >0</td>\n",
              "                        <td id=\"T_f9e00dca_5a01_11eb_a716_0242ac1c0002row12_col19\" class=\"data row12 col19\" >0</td>\n",
              "                        <td id=\"T_f9e00dca_5a01_11eb_a716_0242ac1c0002row12_col20\" class=\"data row12 col20\" >0</td>\n",
              "                        <td id=\"T_f9e00dca_5a01_11eb_a716_0242ac1c0002row12_col21\" class=\"data row12 col21\" >0</td>\n",
              "                        <td id=\"T_f9e00dca_5a01_11eb_a716_0242ac1c0002row12_col22\" class=\"data row12 col22\" >0</td>\n",
              "                        <td id=\"T_f9e00dca_5a01_11eb_a716_0242ac1c0002row12_col23\" class=\"data row12 col23\" >0</td>\n",
              "                        <td id=\"T_f9e00dca_5a01_11eb_a716_0242ac1c0002row12_col24\" class=\"data row12 col24\" >0</td>\n",
              "                        <td id=\"T_f9e00dca_5a01_11eb_a716_0242ac1c0002row12_col25\" class=\"data row12 col25\" >0</td>\n",
              "                        <td id=\"T_f9e00dca_5a01_11eb_a716_0242ac1c0002row12_col26\" class=\"data row12 col26\" >0</td>\n",
              "                        <td id=\"T_f9e00dca_5a01_11eb_a716_0242ac1c0002row12_col27\" class=\"data row12 col27\" >0</td>\n",
              "            </tr>\n",
              "            <tr>\n",
              "                        <th id=\"T_f9e00dca_5a01_11eb_a716_0242ac1c0002level0_row13\" class=\"row_heading level0 row13\" >13</th>\n",
              "                        <td id=\"T_f9e00dca_5a01_11eb_a716_0242ac1c0002row13_col0\" class=\"data row13 col0\" >0</td>\n",
              "                        <td id=\"T_f9e00dca_5a01_11eb_a716_0242ac1c0002row13_col1\" class=\"data row13 col1\" >0</td>\n",
              "                        <td id=\"T_f9e00dca_5a01_11eb_a716_0242ac1c0002row13_col2\" class=\"data row13 col2\" >0</td>\n",
              "                        <td id=\"T_f9e00dca_5a01_11eb_a716_0242ac1c0002row13_col3\" class=\"data row13 col3\" >0</td>\n",
              "                        <td id=\"T_f9e00dca_5a01_11eb_a716_0242ac1c0002row13_col4\" class=\"data row13 col4\" >0</td>\n",
              "                        <td id=\"T_f9e00dca_5a01_11eb_a716_0242ac1c0002row13_col5\" class=\"data row13 col5\" >0</td>\n",
              "                        <td id=\"T_f9e00dca_5a01_11eb_a716_0242ac1c0002row13_col6\" class=\"data row13 col6\" >0</td>\n",
              "                        <td id=\"T_f9e00dca_5a01_11eb_a716_0242ac1c0002row13_col7\" class=\"data row13 col7\" >0</td>\n",
              "                        <td id=\"T_f9e00dca_5a01_11eb_a716_0242ac1c0002row13_col8\" class=\"data row13 col8\" >0</td>\n",
              "                        <td id=\"T_f9e00dca_5a01_11eb_a716_0242ac1c0002row13_col9\" class=\"data row13 col9\" >16</td>\n",
              "                        <td id=\"T_f9e00dca_5a01_11eb_a716_0242ac1c0002row13_col10\" class=\"data row13 col10\" >248</td>\n",
              "                        <td id=\"T_f9e00dca_5a01_11eb_a716_0242ac1c0002row13_col11\" class=\"data row13 col11\" >250</td>\n",
              "                        <td id=\"T_f9e00dca_5a01_11eb_a716_0242ac1c0002row13_col12\" class=\"data row13 col12\" >253</td>\n",
              "                        <td id=\"T_f9e00dca_5a01_11eb_a716_0242ac1c0002row13_col13\" class=\"data row13 col13\" >253</td>\n",
              "                        <td id=\"T_f9e00dca_5a01_11eb_a716_0242ac1c0002row13_col14\" class=\"data row13 col14\" >253</td>\n",
              "                        <td id=\"T_f9e00dca_5a01_11eb_a716_0242ac1c0002row13_col15\" class=\"data row13 col15\" >253</td>\n",
              "                        <td id=\"T_f9e00dca_5a01_11eb_a716_0242ac1c0002row13_col16\" class=\"data row13 col16\" >232</td>\n",
              "                        <td id=\"T_f9e00dca_5a01_11eb_a716_0242ac1c0002row13_col17\" class=\"data row13 col17\" >213</td>\n",
              "                        <td id=\"T_f9e00dca_5a01_11eb_a716_0242ac1c0002row13_col18\" class=\"data row13 col18\" >111</td>\n",
              "                        <td id=\"T_f9e00dca_5a01_11eb_a716_0242ac1c0002row13_col19\" class=\"data row13 col19\" >2</td>\n",
              "                        <td id=\"T_f9e00dca_5a01_11eb_a716_0242ac1c0002row13_col20\" class=\"data row13 col20\" >0</td>\n",
              "                        <td id=\"T_f9e00dca_5a01_11eb_a716_0242ac1c0002row13_col21\" class=\"data row13 col21\" >0</td>\n",
              "                        <td id=\"T_f9e00dca_5a01_11eb_a716_0242ac1c0002row13_col22\" class=\"data row13 col22\" >0</td>\n",
              "                        <td id=\"T_f9e00dca_5a01_11eb_a716_0242ac1c0002row13_col23\" class=\"data row13 col23\" >0</td>\n",
              "                        <td id=\"T_f9e00dca_5a01_11eb_a716_0242ac1c0002row13_col24\" class=\"data row13 col24\" >0</td>\n",
              "                        <td id=\"T_f9e00dca_5a01_11eb_a716_0242ac1c0002row13_col25\" class=\"data row13 col25\" >0</td>\n",
              "                        <td id=\"T_f9e00dca_5a01_11eb_a716_0242ac1c0002row13_col26\" class=\"data row13 col26\" >0</td>\n",
              "                        <td id=\"T_f9e00dca_5a01_11eb_a716_0242ac1c0002row13_col27\" class=\"data row13 col27\" >0</td>\n",
              "            </tr>\n",
              "            <tr>\n",
              "                        <th id=\"T_f9e00dca_5a01_11eb_a716_0242ac1c0002level0_row14\" class=\"row_heading level0 row14\" >14</th>\n",
              "                        <td id=\"T_f9e00dca_5a01_11eb_a716_0242ac1c0002row14_col0\" class=\"data row14 col0\" >0</td>\n",
              "                        <td id=\"T_f9e00dca_5a01_11eb_a716_0242ac1c0002row14_col1\" class=\"data row14 col1\" >0</td>\n",
              "                        <td id=\"T_f9e00dca_5a01_11eb_a716_0242ac1c0002row14_col2\" class=\"data row14 col2\" >0</td>\n",
              "                        <td id=\"T_f9e00dca_5a01_11eb_a716_0242ac1c0002row14_col3\" class=\"data row14 col3\" >0</td>\n",
              "                        <td id=\"T_f9e00dca_5a01_11eb_a716_0242ac1c0002row14_col4\" class=\"data row14 col4\" >0</td>\n",
              "                        <td id=\"T_f9e00dca_5a01_11eb_a716_0242ac1c0002row14_col5\" class=\"data row14 col5\" >0</td>\n",
              "                        <td id=\"T_f9e00dca_5a01_11eb_a716_0242ac1c0002row14_col6\" class=\"data row14 col6\" >0</td>\n",
              "                        <td id=\"T_f9e00dca_5a01_11eb_a716_0242ac1c0002row14_col7\" class=\"data row14 col7\" >0</td>\n",
              "                        <td id=\"T_f9e00dca_5a01_11eb_a716_0242ac1c0002row14_col8\" class=\"data row14 col8\" >0</td>\n",
              "                        <td id=\"T_f9e00dca_5a01_11eb_a716_0242ac1c0002row14_col9\" class=\"data row14 col9\" >0</td>\n",
              "                        <td id=\"T_f9e00dca_5a01_11eb_a716_0242ac1c0002row14_col10\" class=\"data row14 col10\" >0</td>\n",
              "                        <td id=\"T_f9e00dca_5a01_11eb_a716_0242ac1c0002row14_col11\" class=\"data row14 col11\" >43</td>\n",
              "                        <td id=\"T_f9e00dca_5a01_11eb_a716_0242ac1c0002row14_col12\" class=\"data row14 col12\" >98</td>\n",
              "                        <td id=\"T_f9e00dca_5a01_11eb_a716_0242ac1c0002row14_col13\" class=\"data row14 col13\" >98</td>\n",
              "                        <td id=\"T_f9e00dca_5a01_11eb_a716_0242ac1c0002row14_col14\" class=\"data row14 col14\" >208</td>\n",
              "                        <td id=\"T_f9e00dca_5a01_11eb_a716_0242ac1c0002row14_col15\" class=\"data row14 col15\" >253</td>\n",
              "                        <td id=\"T_f9e00dca_5a01_11eb_a716_0242ac1c0002row14_col16\" class=\"data row14 col16\" >253</td>\n",
              "                        <td id=\"T_f9e00dca_5a01_11eb_a716_0242ac1c0002row14_col17\" class=\"data row14 col17\" >253</td>\n",
              "                        <td id=\"T_f9e00dca_5a01_11eb_a716_0242ac1c0002row14_col18\" class=\"data row14 col18\" >253</td>\n",
              "                        <td id=\"T_f9e00dca_5a01_11eb_a716_0242ac1c0002row14_col19\" class=\"data row14 col19\" >187</td>\n",
              "                        <td id=\"T_f9e00dca_5a01_11eb_a716_0242ac1c0002row14_col20\" class=\"data row14 col20\" >22</td>\n",
              "                        <td id=\"T_f9e00dca_5a01_11eb_a716_0242ac1c0002row14_col21\" class=\"data row14 col21\" >0</td>\n",
              "                        <td id=\"T_f9e00dca_5a01_11eb_a716_0242ac1c0002row14_col22\" class=\"data row14 col22\" >0</td>\n",
              "                        <td id=\"T_f9e00dca_5a01_11eb_a716_0242ac1c0002row14_col23\" class=\"data row14 col23\" >0</td>\n",
              "                        <td id=\"T_f9e00dca_5a01_11eb_a716_0242ac1c0002row14_col24\" class=\"data row14 col24\" >0</td>\n",
              "                        <td id=\"T_f9e00dca_5a01_11eb_a716_0242ac1c0002row14_col25\" class=\"data row14 col25\" >0</td>\n",
              "                        <td id=\"T_f9e00dca_5a01_11eb_a716_0242ac1c0002row14_col26\" class=\"data row14 col26\" >0</td>\n",
              "                        <td id=\"T_f9e00dca_5a01_11eb_a716_0242ac1c0002row14_col27\" class=\"data row14 col27\" >0</td>\n",
              "            </tr>\n",
              "            <tr>\n",
              "                        <th id=\"T_f9e00dca_5a01_11eb_a716_0242ac1c0002level0_row15\" class=\"row_heading level0 row15\" >15</th>\n",
              "                        <td id=\"T_f9e00dca_5a01_11eb_a716_0242ac1c0002row15_col0\" class=\"data row15 col0\" >0</td>\n",
              "                        <td id=\"T_f9e00dca_5a01_11eb_a716_0242ac1c0002row15_col1\" class=\"data row15 col1\" >0</td>\n",
              "                        <td id=\"T_f9e00dca_5a01_11eb_a716_0242ac1c0002row15_col2\" class=\"data row15 col2\" >0</td>\n",
              "                        <td id=\"T_f9e00dca_5a01_11eb_a716_0242ac1c0002row15_col3\" class=\"data row15 col3\" >0</td>\n",
              "                        <td id=\"T_f9e00dca_5a01_11eb_a716_0242ac1c0002row15_col4\" class=\"data row15 col4\" >0</td>\n",
              "                        <td id=\"T_f9e00dca_5a01_11eb_a716_0242ac1c0002row15_col5\" class=\"data row15 col5\" >0</td>\n",
              "                        <td id=\"T_f9e00dca_5a01_11eb_a716_0242ac1c0002row15_col6\" class=\"data row15 col6\" >0</td>\n",
              "                        <td id=\"T_f9e00dca_5a01_11eb_a716_0242ac1c0002row15_col7\" class=\"data row15 col7\" >0</td>\n",
              "                        <td id=\"T_f9e00dca_5a01_11eb_a716_0242ac1c0002row15_col8\" class=\"data row15 col8\" >0</td>\n",
              "                        <td id=\"T_f9e00dca_5a01_11eb_a716_0242ac1c0002row15_col9\" class=\"data row15 col9\" >0</td>\n",
              "                        <td id=\"T_f9e00dca_5a01_11eb_a716_0242ac1c0002row15_col10\" class=\"data row15 col10\" >0</td>\n",
              "                        <td id=\"T_f9e00dca_5a01_11eb_a716_0242ac1c0002row15_col11\" class=\"data row15 col11\" >0</td>\n",
              "                        <td id=\"T_f9e00dca_5a01_11eb_a716_0242ac1c0002row15_col12\" class=\"data row15 col12\" >0</td>\n",
              "                        <td id=\"T_f9e00dca_5a01_11eb_a716_0242ac1c0002row15_col13\" class=\"data row15 col13\" >0</td>\n",
              "                        <td id=\"T_f9e00dca_5a01_11eb_a716_0242ac1c0002row15_col14\" class=\"data row15 col14\" >9</td>\n",
              "                        <td id=\"T_f9e00dca_5a01_11eb_a716_0242ac1c0002row15_col15\" class=\"data row15 col15\" >51</td>\n",
              "                        <td id=\"T_f9e00dca_5a01_11eb_a716_0242ac1c0002row15_col16\" class=\"data row15 col16\" >119</td>\n",
              "                        <td id=\"T_f9e00dca_5a01_11eb_a716_0242ac1c0002row15_col17\" class=\"data row15 col17\" >253</td>\n",
              "                        <td id=\"T_f9e00dca_5a01_11eb_a716_0242ac1c0002row15_col18\" class=\"data row15 col18\" >253</td>\n",
              "                        <td id=\"T_f9e00dca_5a01_11eb_a716_0242ac1c0002row15_col19\" class=\"data row15 col19\" >253</td>\n",
              "                        <td id=\"T_f9e00dca_5a01_11eb_a716_0242ac1c0002row15_col20\" class=\"data row15 col20\" >76</td>\n",
              "                        <td id=\"T_f9e00dca_5a01_11eb_a716_0242ac1c0002row15_col21\" class=\"data row15 col21\" >0</td>\n",
              "                        <td id=\"T_f9e00dca_5a01_11eb_a716_0242ac1c0002row15_col22\" class=\"data row15 col22\" >0</td>\n",
              "                        <td id=\"T_f9e00dca_5a01_11eb_a716_0242ac1c0002row15_col23\" class=\"data row15 col23\" >0</td>\n",
              "                        <td id=\"T_f9e00dca_5a01_11eb_a716_0242ac1c0002row15_col24\" class=\"data row15 col24\" >0</td>\n",
              "                        <td id=\"T_f9e00dca_5a01_11eb_a716_0242ac1c0002row15_col25\" class=\"data row15 col25\" >0</td>\n",
              "                        <td id=\"T_f9e00dca_5a01_11eb_a716_0242ac1c0002row15_col26\" class=\"data row15 col26\" >0</td>\n",
              "                        <td id=\"T_f9e00dca_5a01_11eb_a716_0242ac1c0002row15_col27\" class=\"data row15 col27\" >0</td>\n",
              "            </tr>\n",
              "            <tr>\n",
              "                        <th id=\"T_f9e00dca_5a01_11eb_a716_0242ac1c0002level0_row16\" class=\"row_heading level0 row16\" >16</th>\n",
              "                        <td id=\"T_f9e00dca_5a01_11eb_a716_0242ac1c0002row16_col0\" class=\"data row16 col0\" >0</td>\n",
              "                        <td id=\"T_f9e00dca_5a01_11eb_a716_0242ac1c0002row16_col1\" class=\"data row16 col1\" >0</td>\n",
              "                        <td id=\"T_f9e00dca_5a01_11eb_a716_0242ac1c0002row16_col2\" class=\"data row16 col2\" >0</td>\n",
              "                        <td id=\"T_f9e00dca_5a01_11eb_a716_0242ac1c0002row16_col3\" class=\"data row16 col3\" >0</td>\n",
              "                        <td id=\"T_f9e00dca_5a01_11eb_a716_0242ac1c0002row16_col4\" class=\"data row16 col4\" >0</td>\n",
              "                        <td id=\"T_f9e00dca_5a01_11eb_a716_0242ac1c0002row16_col5\" class=\"data row16 col5\" >0</td>\n",
              "                        <td id=\"T_f9e00dca_5a01_11eb_a716_0242ac1c0002row16_col6\" class=\"data row16 col6\" >0</td>\n",
              "                        <td id=\"T_f9e00dca_5a01_11eb_a716_0242ac1c0002row16_col7\" class=\"data row16 col7\" >0</td>\n",
              "                        <td id=\"T_f9e00dca_5a01_11eb_a716_0242ac1c0002row16_col8\" class=\"data row16 col8\" >0</td>\n",
              "                        <td id=\"T_f9e00dca_5a01_11eb_a716_0242ac1c0002row16_col9\" class=\"data row16 col9\" >0</td>\n",
              "                        <td id=\"T_f9e00dca_5a01_11eb_a716_0242ac1c0002row16_col10\" class=\"data row16 col10\" >0</td>\n",
              "                        <td id=\"T_f9e00dca_5a01_11eb_a716_0242ac1c0002row16_col11\" class=\"data row16 col11\" >0</td>\n",
              "                        <td id=\"T_f9e00dca_5a01_11eb_a716_0242ac1c0002row16_col12\" class=\"data row16 col12\" >0</td>\n",
              "                        <td id=\"T_f9e00dca_5a01_11eb_a716_0242ac1c0002row16_col13\" class=\"data row16 col13\" >0</td>\n",
              "                        <td id=\"T_f9e00dca_5a01_11eb_a716_0242ac1c0002row16_col14\" class=\"data row16 col14\" >0</td>\n",
              "                        <td id=\"T_f9e00dca_5a01_11eb_a716_0242ac1c0002row16_col15\" class=\"data row16 col15\" >0</td>\n",
              "                        <td id=\"T_f9e00dca_5a01_11eb_a716_0242ac1c0002row16_col16\" class=\"data row16 col16\" >1</td>\n",
              "                        <td id=\"T_f9e00dca_5a01_11eb_a716_0242ac1c0002row16_col17\" class=\"data row16 col17\" >183</td>\n",
              "                        <td id=\"T_f9e00dca_5a01_11eb_a716_0242ac1c0002row16_col18\" class=\"data row16 col18\" >253</td>\n",
              "                        <td id=\"T_f9e00dca_5a01_11eb_a716_0242ac1c0002row16_col19\" class=\"data row16 col19\" >253</td>\n",
              "                        <td id=\"T_f9e00dca_5a01_11eb_a716_0242ac1c0002row16_col20\" class=\"data row16 col20\" >139</td>\n",
              "                        <td id=\"T_f9e00dca_5a01_11eb_a716_0242ac1c0002row16_col21\" class=\"data row16 col21\" >0</td>\n",
              "                        <td id=\"T_f9e00dca_5a01_11eb_a716_0242ac1c0002row16_col22\" class=\"data row16 col22\" >0</td>\n",
              "                        <td id=\"T_f9e00dca_5a01_11eb_a716_0242ac1c0002row16_col23\" class=\"data row16 col23\" >0</td>\n",
              "                        <td id=\"T_f9e00dca_5a01_11eb_a716_0242ac1c0002row16_col24\" class=\"data row16 col24\" >0</td>\n",
              "                        <td id=\"T_f9e00dca_5a01_11eb_a716_0242ac1c0002row16_col25\" class=\"data row16 col25\" >0</td>\n",
              "                        <td id=\"T_f9e00dca_5a01_11eb_a716_0242ac1c0002row16_col26\" class=\"data row16 col26\" >0</td>\n",
              "                        <td id=\"T_f9e00dca_5a01_11eb_a716_0242ac1c0002row16_col27\" class=\"data row16 col27\" >0</td>\n",
              "            </tr>\n",
              "            <tr>\n",
              "                        <th id=\"T_f9e00dca_5a01_11eb_a716_0242ac1c0002level0_row17\" class=\"row_heading level0 row17\" >17</th>\n",
              "                        <td id=\"T_f9e00dca_5a01_11eb_a716_0242ac1c0002row17_col0\" class=\"data row17 col0\" >0</td>\n",
              "                        <td id=\"T_f9e00dca_5a01_11eb_a716_0242ac1c0002row17_col1\" class=\"data row17 col1\" >0</td>\n",
              "                        <td id=\"T_f9e00dca_5a01_11eb_a716_0242ac1c0002row17_col2\" class=\"data row17 col2\" >0</td>\n",
              "                        <td id=\"T_f9e00dca_5a01_11eb_a716_0242ac1c0002row17_col3\" class=\"data row17 col3\" >0</td>\n",
              "                        <td id=\"T_f9e00dca_5a01_11eb_a716_0242ac1c0002row17_col4\" class=\"data row17 col4\" >0</td>\n",
              "                        <td id=\"T_f9e00dca_5a01_11eb_a716_0242ac1c0002row17_col5\" class=\"data row17 col5\" >0</td>\n",
              "                        <td id=\"T_f9e00dca_5a01_11eb_a716_0242ac1c0002row17_col6\" class=\"data row17 col6\" >0</td>\n",
              "                        <td id=\"T_f9e00dca_5a01_11eb_a716_0242ac1c0002row17_col7\" class=\"data row17 col7\" >0</td>\n",
              "                        <td id=\"T_f9e00dca_5a01_11eb_a716_0242ac1c0002row17_col8\" class=\"data row17 col8\" >0</td>\n",
              "                        <td id=\"T_f9e00dca_5a01_11eb_a716_0242ac1c0002row17_col9\" class=\"data row17 col9\" >0</td>\n",
              "                        <td id=\"T_f9e00dca_5a01_11eb_a716_0242ac1c0002row17_col10\" class=\"data row17 col10\" >0</td>\n",
              "                        <td id=\"T_f9e00dca_5a01_11eb_a716_0242ac1c0002row17_col11\" class=\"data row17 col11\" >0</td>\n",
              "                        <td id=\"T_f9e00dca_5a01_11eb_a716_0242ac1c0002row17_col12\" class=\"data row17 col12\" >0</td>\n",
              "                        <td id=\"T_f9e00dca_5a01_11eb_a716_0242ac1c0002row17_col13\" class=\"data row17 col13\" >0</td>\n",
              "                        <td id=\"T_f9e00dca_5a01_11eb_a716_0242ac1c0002row17_col14\" class=\"data row17 col14\" >0</td>\n",
              "                        <td id=\"T_f9e00dca_5a01_11eb_a716_0242ac1c0002row17_col15\" class=\"data row17 col15\" >0</td>\n",
              "                        <td id=\"T_f9e00dca_5a01_11eb_a716_0242ac1c0002row17_col16\" class=\"data row17 col16\" >0</td>\n",
              "                        <td id=\"T_f9e00dca_5a01_11eb_a716_0242ac1c0002row17_col17\" class=\"data row17 col17\" >182</td>\n",
              "                        <td id=\"T_f9e00dca_5a01_11eb_a716_0242ac1c0002row17_col18\" class=\"data row17 col18\" >253</td>\n",
              "                        <td id=\"T_f9e00dca_5a01_11eb_a716_0242ac1c0002row17_col19\" class=\"data row17 col19\" >253</td>\n",
              "                        <td id=\"T_f9e00dca_5a01_11eb_a716_0242ac1c0002row17_col20\" class=\"data row17 col20\" >104</td>\n",
              "                        <td id=\"T_f9e00dca_5a01_11eb_a716_0242ac1c0002row17_col21\" class=\"data row17 col21\" >0</td>\n",
              "                        <td id=\"T_f9e00dca_5a01_11eb_a716_0242ac1c0002row17_col22\" class=\"data row17 col22\" >0</td>\n",
              "                        <td id=\"T_f9e00dca_5a01_11eb_a716_0242ac1c0002row17_col23\" class=\"data row17 col23\" >0</td>\n",
              "                        <td id=\"T_f9e00dca_5a01_11eb_a716_0242ac1c0002row17_col24\" class=\"data row17 col24\" >0</td>\n",
              "                        <td id=\"T_f9e00dca_5a01_11eb_a716_0242ac1c0002row17_col25\" class=\"data row17 col25\" >0</td>\n",
              "                        <td id=\"T_f9e00dca_5a01_11eb_a716_0242ac1c0002row17_col26\" class=\"data row17 col26\" >0</td>\n",
              "                        <td id=\"T_f9e00dca_5a01_11eb_a716_0242ac1c0002row17_col27\" class=\"data row17 col27\" >0</td>\n",
              "            </tr>\n",
              "            <tr>\n",
              "                        <th id=\"T_f9e00dca_5a01_11eb_a716_0242ac1c0002level0_row18\" class=\"row_heading level0 row18\" >18</th>\n",
              "                        <td id=\"T_f9e00dca_5a01_11eb_a716_0242ac1c0002row18_col0\" class=\"data row18 col0\" >0</td>\n",
              "                        <td id=\"T_f9e00dca_5a01_11eb_a716_0242ac1c0002row18_col1\" class=\"data row18 col1\" >0</td>\n",
              "                        <td id=\"T_f9e00dca_5a01_11eb_a716_0242ac1c0002row18_col2\" class=\"data row18 col2\" >0</td>\n",
              "                        <td id=\"T_f9e00dca_5a01_11eb_a716_0242ac1c0002row18_col3\" class=\"data row18 col3\" >0</td>\n",
              "                        <td id=\"T_f9e00dca_5a01_11eb_a716_0242ac1c0002row18_col4\" class=\"data row18 col4\" >0</td>\n",
              "                        <td id=\"T_f9e00dca_5a01_11eb_a716_0242ac1c0002row18_col5\" class=\"data row18 col5\" >0</td>\n",
              "                        <td id=\"T_f9e00dca_5a01_11eb_a716_0242ac1c0002row18_col6\" class=\"data row18 col6\" >0</td>\n",
              "                        <td id=\"T_f9e00dca_5a01_11eb_a716_0242ac1c0002row18_col7\" class=\"data row18 col7\" >0</td>\n",
              "                        <td id=\"T_f9e00dca_5a01_11eb_a716_0242ac1c0002row18_col8\" class=\"data row18 col8\" >0</td>\n",
              "                        <td id=\"T_f9e00dca_5a01_11eb_a716_0242ac1c0002row18_col9\" class=\"data row18 col9\" >0</td>\n",
              "                        <td id=\"T_f9e00dca_5a01_11eb_a716_0242ac1c0002row18_col10\" class=\"data row18 col10\" >0</td>\n",
              "                        <td id=\"T_f9e00dca_5a01_11eb_a716_0242ac1c0002row18_col11\" class=\"data row18 col11\" >0</td>\n",
              "                        <td id=\"T_f9e00dca_5a01_11eb_a716_0242ac1c0002row18_col12\" class=\"data row18 col12\" >0</td>\n",
              "                        <td id=\"T_f9e00dca_5a01_11eb_a716_0242ac1c0002row18_col13\" class=\"data row18 col13\" >0</td>\n",
              "                        <td id=\"T_f9e00dca_5a01_11eb_a716_0242ac1c0002row18_col14\" class=\"data row18 col14\" >0</td>\n",
              "                        <td id=\"T_f9e00dca_5a01_11eb_a716_0242ac1c0002row18_col15\" class=\"data row18 col15\" >0</td>\n",
              "                        <td id=\"T_f9e00dca_5a01_11eb_a716_0242ac1c0002row18_col16\" class=\"data row18 col16\" >85</td>\n",
              "                        <td id=\"T_f9e00dca_5a01_11eb_a716_0242ac1c0002row18_col17\" class=\"data row18 col17\" >249</td>\n",
              "                        <td id=\"T_f9e00dca_5a01_11eb_a716_0242ac1c0002row18_col18\" class=\"data row18 col18\" >253</td>\n",
              "                        <td id=\"T_f9e00dca_5a01_11eb_a716_0242ac1c0002row18_col19\" class=\"data row18 col19\" >253</td>\n",
              "                        <td id=\"T_f9e00dca_5a01_11eb_a716_0242ac1c0002row18_col20\" class=\"data row18 col20\" >36</td>\n",
              "                        <td id=\"T_f9e00dca_5a01_11eb_a716_0242ac1c0002row18_col21\" class=\"data row18 col21\" >0</td>\n",
              "                        <td id=\"T_f9e00dca_5a01_11eb_a716_0242ac1c0002row18_col22\" class=\"data row18 col22\" >0</td>\n",
              "                        <td id=\"T_f9e00dca_5a01_11eb_a716_0242ac1c0002row18_col23\" class=\"data row18 col23\" >0</td>\n",
              "                        <td id=\"T_f9e00dca_5a01_11eb_a716_0242ac1c0002row18_col24\" class=\"data row18 col24\" >0</td>\n",
              "                        <td id=\"T_f9e00dca_5a01_11eb_a716_0242ac1c0002row18_col25\" class=\"data row18 col25\" >0</td>\n",
              "                        <td id=\"T_f9e00dca_5a01_11eb_a716_0242ac1c0002row18_col26\" class=\"data row18 col26\" >0</td>\n",
              "                        <td id=\"T_f9e00dca_5a01_11eb_a716_0242ac1c0002row18_col27\" class=\"data row18 col27\" >0</td>\n",
              "            </tr>\n",
              "            <tr>\n",
              "                        <th id=\"T_f9e00dca_5a01_11eb_a716_0242ac1c0002level0_row19\" class=\"row_heading level0 row19\" >19</th>\n",
              "                        <td id=\"T_f9e00dca_5a01_11eb_a716_0242ac1c0002row19_col0\" class=\"data row19 col0\" >0</td>\n",
              "                        <td id=\"T_f9e00dca_5a01_11eb_a716_0242ac1c0002row19_col1\" class=\"data row19 col1\" >0</td>\n",
              "                        <td id=\"T_f9e00dca_5a01_11eb_a716_0242ac1c0002row19_col2\" class=\"data row19 col2\" >0</td>\n",
              "                        <td id=\"T_f9e00dca_5a01_11eb_a716_0242ac1c0002row19_col3\" class=\"data row19 col3\" >0</td>\n",
              "                        <td id=\"T_f9e00dca_5a01_11eb_a716_0242ac1c0002row19_col4\" class=\"data row19 col4\" >0</td>\n",
              "                        <td id=\"T_f9e00dca_5a01_11eb_a716_0242ac1c0002row19_col5\" class=\"data row19 col5\" >0</td>\n",
              "                        <td id=\"T_f9e00dca_5a01_11eb_a716_0242ac1c0002row19_col6\" class=\"data row19 col6\" >0</td>\n",
              "                        <td id=\"T_f9e00dca_5a01_11eb_a716_0242ac1c0002row19_col7\" class=\"data row19 col7\" >0</td>\n",
              "                        <td id=\"T_f9e00dca_5a01_11eb_a716_0242ac1c0002row19_col8\" class=\"data row19 col8\" >0</td>\n",
              "                        <td id=\"T_f9e00dca_5a01_11eb_a716_0242ac1c0002row19_col9\" class=\"data row19 col9\" >0</td>\n",
              "                        <td id=\"T_f9e00dca_5a01_11eb_a716_0242ac1c0002row19_col10\" class=\"data row19 col10\" >0</td>\n",
              "                        <td id=\"T_f9e00dca_5a01_11eb_a716_0242ac1c0002row19_col11\" class=\"data row19 col11\" >0</td>\n",
              "                        <td id=\"T_f9e00dca_5a01_11eb_a716_0242ac1c0002row19_col12\" class=\"data row19 col12\" >0</td>\n",
              "                        <td id=\"T_f9e00dca_5a01_11eb_a716_0242ac1c0002row19_col13\" class=\"data row19 col13\" >0</td>\n",
              "                        <td id=\"T_f9e00dca_5a01_11eb_a716_0242ac1c0002row19_col14\" class=\"data row19 col14\" >0</td>\n",
              "                        <td id=\"T_f9e00dca_5a01_11eb_a716_0242ac1c0002row19_col15\" class=\"data row19 col15\" >60</td>\n",
              "                        <td id=\"T_f9e00dca_5a01_11eb_a716_0242ac1c0002row19_col16\" class=\"data row19 col16\" >214</td>\n",
              "                        <td id=\"T_f9e00dca_5a01_11eb_a716_0242ac1c0002row19_col17\" class=\"data row19 col17\" >253</td>\n",
              "                        <td id=\"T_f9e00dca_5a01_11eb_a716_0242ac1c0002row19_col18\" class=\"data row19 col18\" >253</td>\n",
              "                        <td id=\"T_f9e00dca_5a01_11eb_a716_0242ac1c0002row19_col19\" class=\"data row19 col19\" >173</td>\n",
              "                        <td id=\"T_f9e00dca_5a01_11eb_a716_0242ac1c0002row19_col20\" class=\"data row19 col20\" >11</td>\n",
              "                        <td id=\"T_f9e00dca_5a01_11eb_a716_0242ac1c0002row19_col21\" class=\"data row19 col21\" >0</td>\n",
              "                        <td id=\"T_f9e00dca_5a01_11eb_a716_0242ac1c0002row19_col22\" class=\"data row19 col22\" >0</td>\n",
              "                        <td id=\"T_f9e00dca_5a01_11eb_a716_0242ac1c0002row19_col23\" class=\"data row19 col23\" >0</td>\n",
              "                        <td id=\"T_f9e00dca_5a01_11eb_a716_0242ac1c0002row19_col24\" class=\"data row19 col24\" >0</td>\n",
              "                        <td id=\"T_f9e00dca_5a01_11eb_a716_0242ac1c0002row19_col25\" class=\"data row19 col25\" >0</td>\n",
              "                        <td id=\"T_f9e00dca_5a01_11eb_a716_0242ac1c0002row19_col26\" class=\"data row19 col26\" >0</td>\n",
              "                        <td id=\"T_f9e00dca_5a01_11eb_a716_0242ac1c0002row19_col27\" class=\"data row19 col27\" >0</td>\n",
              "            </tr>\n",
              "            <tr>\n",
              "                        <th id=\"T_f9e00dca_5a01_11eb_a716_0242ac1c0002level0_row20\" class=\"row_heading level0 row20\" >20</th>\n",
              "                        <td id=\"T_f9e00dca_5a01_11eb_a716_0242ac1c0002row20_col0\" class=\"data row20 col0\" >0</td>\n",
              "                        <td id=\"T_f9e00dca_5a01_11eb_a716_0242ac1c0002row20_col1\" class=\"data row20 col1\" >0</td>\n",
              "                        <td id=\"T_f9e00dca_5a01_11eb_a716_0242ac1c0002row20_col2\" class=\"data row20 col2\" >0</td>\n",
              "                        <td id=\"T_f9e00dca_5a01_11eb_a716_0242ac1c0002row20_col3\" class=\"data row20 col3\" >0</td>\n",
              "                        <td id=\"T_f9e00dca_5a01_11eb_a716_0242ac1c0002row20_col4\" class=\"data row20 col4\" >0</td>\n",
              "                        <td id=\"T_f9e00dca_5a01_11eb_a716_0242ac1c0002row20_col5\" class=\"data row20 col5\" >0</td>\n",
              "                        <td id=\"T_f9e00dca_5a01_11eb_a716_0242ac1c0002row20_col6\" class=\"data row20 col6\" >0</td>\n",
              "                        <td id=\"T_f9e00dca_5a01_11eb_a716_0242ac1c0002row20_col7\" class=\"data row20 col7\" >0</td>\n",
              "                        <td id=\"T_f9e00dca_5a01_11eb_a716_0242ac1c0002row20_col8\" class=\"data row20 col8\" >0</td>\n",
              "                        <td id=\"T_f9e00dca_5a01_11eb_a716_0242ac1c0002row20_col9\" class=\"data row20 col9\" >0</td>\n",
              "                        <td id=\"T_f9e00dca_5a01_11eb_a716_0242ac1c0002row20_col10\" class=\"data row20 col10\" >0</td>\n",
              "                        <td id=\"T_f9e00dca_5a01_11eb_a716_0242ac1c0002row20_col11\" class=\"data row20 col11\" >0</td>\n",
              "                        <td id=\"T_f9e00dca_5a01_11eb_a716_0242ac1c0002row20_col12\" class=\"data row20 col12\" >0</td>\n",
              "                        <td id=\"T_f9e00dca_5a01_11eb_a716_0242ac1c0002row20_col13\" class=\"data row20 col13\" >0</td>\n",
              "                        <td id=\"T_f9e00dca_5a01_11eb_a716_0242ac1c0002row20_col14\" class=\"data row20 col14\" >98</td>\n",
              "                        <td id=\"T_f9e00dca_5a01_11eb_a716_0242ac1c0002row20_col15\" class=\"data row20 col15\" >247</td>\n",
              "                        <td id=\"T_f9e00dca_5a01_11eb_a716_0242ac1c0002row20_col16\" class=\"data row20 col16\" >253</td>\n",
              "                        <td id=\"T_f9e00dca_5a01_11eb_a716_0242ac1c0002row20_col17\" class=\"data row20 col17\" >253</td>\n",
              "                        <td id=\"T_f9e00dca_5a01_11eb_a716_0242ac1c0002row20_col18\" class=\"data row20 col18\" >226</td>\n",
              "                        <td id=\"T_f9e00dca_5a01_11eb_a716_0242ac1c0002row20_col19\" class=\"data row20 col19\" >9</td>\n",
              "                        <td id=\"T_f9e00dca_5a01_11eb_a716_0242ac1c0002row20_col20\" class=\"data row20 col20\" >0</td>\n",
              "                        <td id=\"T_f9e00dca_5a01_11eb_a716_0242ac1c0002row20_col21\" class=\"data row20 col21\" >0</td>\n",
              "                        <td id=\"T_f9e00dca_5a01_11eb_a716_0242ac1c0002row20_col22\" class=\"data row20 col22\" >0</td>\n",
              "                        <td id=\"T_f9e00dca_5a01_11eb_a716_0242ac1c0002row20_col23\" class=\"data row20 col23\" >0</td>\n",
              "                        <td id=\"T_f9e00dca_5a01_11eb_a716_0242ac1c0002row20_col24\" class=\"data row20 col24\" >0</td>\n",
              "                        <td id=\"T_f9e00dca_5a01_11eb_a716_0242ac1c0002row20_col25\" class=\"data row20 col25\" >0</td>\n",
              "                        <td id=\"T_f9e00dca_5a01_11eb_a716_0242ac1c0002row20_col26\" class=\"data row20 col26\" >0</td>\n",
              "                        <td id=\"T_f9e00dca_5a01_11eb_a716_0242ac1c0002row20_col27\" class=\"data row20 col27\" >0</td>\n",
              "            </tr>\n",
              "            <tr>\n",
              "                        <th id=\"T_f9e00dca_5a01_11eb_a716_0242ac1c0002level0_row21\" class=\"row_heading level0 row21\" >21</th>\n",
              "                        <td id=\"T_f9e00dca_5a01_11eb_a716_0242ac1c0002row21_col0\" class=\"data row21 col0\" >0</td>\n",
              "                        <td id=\"T_f9e00dca_5a01_11eb_a716_0242ac1c0002row21_col1\" class=\"data row21 col1\" >0</td>\n",
              "                        <td id=\"T_f9e00dca_5a01_11eb_a716_0242ac1c0002row21_col2\" class=\"data row21 col2\" >0</td>\n",
              "                        <td id=\"T_f9e00dca_5a01_11eb_a716_0242ac1c0002row21_col3\" class=\"data row21 col3\" >0</td>\n",
              "                        <td id=\"T_f9e00dca_5a01_11eb_a716_0242ac1c0002row21_col4\" class=\"data row21 col4\" >0</td>\n",
              "                        <td id=\"T_f9e00dca_5a01_11eb_a716_0242ac1c0002row21_col5\" class=\"data row21 col5\" >0</td>\n",
              "                        <td id=\"T_f9e00dca_5a01_11eb_a716_0242ac1c0002row21_col6\" class=\"data row21 col6\" >0</td>\n",
              "                        <td id=\"T_f9e00dca_5a01_11eb_a716_0242ac1c0002row21_col7\" class=\"data row21 col7\" >0</td>\n",
              "                        <td id=\"T_f9e00dca_5a01_11eb_a716_0242ac1c0002row21_col8\" class=\"data row21 col8\" >0</td>\n",
              "                        <td id=\"T_f9e00dca_5a01_11eb_a716_0242ac1c0002row21_col9\" class=\"data row21 col9\" >0</td>\n",
              "                        <td id=\"T_f9e00dca_5a01_11eb_a716_0242ac1c0002row21_col10\" class=\"data row21 col10\" >0</td>\n",
              "                        <td id=\"T_f9e00dca_5a01_11eb_a716_0242ac1c0002row21_col11\" class=\"data row21 col11\" >0</td>\n",
              "                        <td id=\"T_f9e00dca_5a01_11eb_a716_0242ac1c0002row21_col12\" class=\"data row21 col12\" >42</td>\n",
              "                        <td id=\"T_f9e00dca_5a01_11eb_a716_0242ac1c0002row21_col13\" class=\"data row21 col13\" >150</td>\n",
              "                        <td id=\"T_f9e00dca_5a01_11eb_a716_0242ac1c0002row21_col14\" class=\"data row21 col14\" >252</td>\n",
              "                        <td id=\"T_f9e00dca_5a01_11eb_a716_0242ac1c0002row21_col15\" class=\"data row21 col15\" >253</td>\n",
              "                        <td id=\"T_f9e00dca_5a01_11eb_a716_0242ac1c0002row21_col16\" class=\"data row21 col16\" >253</td>\n",
              "                        <td id=\"T_f9e00dca_5a01_11eb_a716_0242ac1c0002row21_col17\" class=\"data row21 col17\" >233</td>\n",
              "                        <td id=\"T_f9e00dca_5a01_11eb_a716_0242ac1c0002row21_col18\" class=\"data row21 col18\" >53</td>\n",
              "                        <td id=\"T_f9e00dca_5a01_11eb_a716_0242ac1c0002row21_col19\" class=\"data row21 col19\" >0</td>\n",
              "                        <td id=\"T_f9e00dca_5a01_11eb_a716_0242ac1c0002row21_col20\" class=\"data row21 col20\" >0</td>\n",
              "                        <td id=\"T_f9e00dca_5a01_11eb_a716_0242ac1c0002row21_col21\" class=\"data row21 col21\" >0</td>\n",
              "                        <td id=\"T_f9e00dca_5a01_11eb_a716_0242ac1c0002row21_col22\" class=\"data row21 col22\" >0</td>\n",
              "                        <td id=\"T_f9e00dca_5a01_11eb_a716_0242ac1c0002row21_col23\" class=\"data row21 col23\" >0</td>\n",
              "                        <td id=\"T_f9e00dca_5a01_11eb_a716_0242ac1c0002row21_col24\" class=\"data row21 col24\" >0</td>\n",
              "                        <td id=\"T_f9e00dca_5a01_11eb_a716_0242ac1c0002row21_col25\" class=\"data row21 col25\" >0</td>\n",
              "                        <td id=\"T_f9e00dca_5a01_11eb_a716_0242ac1c0002row21_col26\" class=\"data row21 col26\" >0</td>\n",
              "                        <td id=\"T_f9e00dca_5a01_11eb_a716_0242ac1c0002row21_col27\" class=\"data row21 col27\" >0</td>\n",
              "            </tr>\n",
              "            <tr>\n",
              "                        <th id=\"T_f9e00dca_5a01_11eb_a716_0242ac1c0002level0_row22\" class=\"row_heading level0 row22\" >22</th>\n",
              "                        <td id=\"T_f9e00dca_5a01_11eb_a716_0242ac1c0002row22_col0\" class=\"data row22 col0\" >0</td>\n",
              "                        <td id=\"T_f9e00dca_5a01_11eb_a716_0242ac1c0002row22_col1\" class=\"data row22 col1\" >0</td>\n",
              "                        <td id=\"T_f9e00dca_5a01_11eb_a716_0242ac1c0002row22_col2\" class=\"data row22 col2\" >0</td>\n",
              "                        <td id=\"T_f9e00dca_5a01_11eb_a716_0242ac1c0002row22_col3\" class=\"data row22 col3\" >0</td>\n",
              "                        <td id=\"T_f9e00dca_5a01_11eb_a716_0242ac1c0002row22_col4\" class=\"data row22 col4\" >0</td>\n",
              "                        <td id=\"T_f9e00dca_5a01_11eb_a716_0242ac1c0002row22_col5\" class=\"data row22 col5\" >0</td>\n",
              "                        <td id=\"T_f9e00dca_5a01_11eb_a716_0242ac1c0002row22_col6\" class=\"data row22 col6\" >42</td>\n",
              "                        <td id=\"T_f9e00dca_5a01_11eb_a716_0242ac1c0002row22_col7\" class=\"data row22 col7\" >115</td>\n",
              "                        <td id=\"T_f9e00dca_5a01_11eb_a716_0242ac1c0002row22_col8\" class=\"data row22 col8\" >42</td>\n",
              "                        <td id=\"T_f9e00dca_5a01_11eb_a716_0242ac1c0002row22_col9\" class=\"data row22 col9\" >60</td>\n",
              "                        <td id=\"T_f9e00dca_5a01_11eb_a716_0242ac1c0002row22_col10\" class=\"data row22 col10\" >115</td>\n",
              "                        <td id=\"T_f9e00dca_5a01_11eb_a716_0242ac1c0002row22_col11\" class=\"data row22 col11\" >159</td>\n",
              "                        <td id=\"T_f9e00dca_5a01_11eb_a716_0242ac1c0002row22_col12\" class=\"data row22 col12\" >240</td>\n",
              "                        <td id=\"T_f9e00dca_5a01_11eb_a716_0242ac1c0002row22_col13\" class=\"data row22 col13\" >253</td>\n",
              "                        <td id=\"T_f9e00dca_5a01_11eb_a716_0242ac1c0002row22_col14\" class=\"data row22 col14\" >253</td>\n",
              "                        <td id=\"T_f9e00dca_5a01_11eb_a716_0242ac1c0002row22_col15\" class=\"data row22 col15\" >250</td>\n",
              "                        <td id=\"T_f9e00dca_5a01_11eb_a716_0242ac1c0002row22_col16\" class=\"data row22 col16\" >175</td>\n",
              "                        <td id=\"T_f9e00dca_5a01_11eb_a716_0242ac1c0002row22_col17\" class=\"data row22 col17\" >25</td>\n",
              "                        <td id=\"T_f9e00dca_5a01_11eb_a716_0242ac1c0002row22_col18\" class=\"data row22 col18\" >0</td>\n",
              "                        <td id=\"T_f9e00dca_5a01_11eb_a716_0242ac1c0002row22_col19\" class=\"data row22 col19\" >0</td>\n",
              "                        <td id=\"T_f9e00dca_5a01_11eb_a716_0242ac1c0002row22_col20\" class=\"data row22 col20\" >0</td>\n",
              "                        <td id=\"T_f9e00dca_5a01_11eb_a716_0242ac1c0002row22_col21\" class=\"data row22 col21\" >0</td>\n",
              "                        <td id=\"T_f9e00dca_5a01_11eb_a716_0242ac1c0002row22_col22\" class=\"data row22 col22\" >0</td>\n",
              "                        <td id=\"T_f9e00dca_5a01_11eb_a716_0242ac1c0002row22_col23\" class=\"data row22 col23\" >0</td>\n",
              "                        <td id=\"T_f9e00dca_5a01_11eb_a716_0242ac1c0002row22_col24\" class=\"data row22 col24\" >0</td>\n",
              "                        <td id=\"T_f9e00dca_5a01_11eb_a716_0242ac1c0002row22_col25\" class=\"data row22 col25\" >0</td>\n",
              "                        <td id=\"T_f9e00dca_5a01_11eb_a716_0242ac1c0002row22_col26\" class=\"data row22 col26\" >0</td>\n",
              "                        <td id=\"T_f9e00dca_5a01_11eb_a716_0242ac1c0002row22_col27\" class=\"data row22 col27\" >0</td>\n",
              "            </tr>\n",
              "            <tr>\n",
              "                        <th id=\"T_f9e00dca_5a01_11eb_a716_0242ac1c0002level0_row23\" class=\"row_heading level0 row23\" >23</th>\n",
              "                        <td id=\"T_f9e00dca_5a01_11eb_a716_0242ac1c0002row23_col0\" class=\"data row23 col0\" >0</td>\n",
              "                        <td id=\"T_f9e00dca_5a01_11eb_a716_0242ac1c0002row23_col1\" class=\"data row23 col1\" >0</td>\n",
              "                        <td id=\"T_f9e00dca_5a01_11eb_a716_0242ac1c0002row23_col2\" class=\"data row23 col2\" >0</td>\n",
              "                        <td id=\"T_f9e00dca_5a01_11eb_a716_0242ac1c0002row23_col3\" class=\"data row23 col3\" >0</td>\n",
              "                        <td id=\"T_f9e00dca_5a01_11eb_a716_0242ac1c0002row23_col4\" class=\"data row23 col4\" >0</td>\n",
              "                        <td id=\"T_f9e00dca_5a01_11eb_a716_0242ac1c0002row23_col5\" class=\"data row23 col5\" >0</td>\n",
              "                        <td id=\"T_f9e00dca_5a01_11eb_a716_0242ac1c0002row23_col6\" class=\"data row23 col6\" >187</td>\n",
              "                        <td id=\"T_f9e00dca_5a01_11eb_a716_0242ac1c0002row23_col7\" class=\"data row23 col7\" >253</td>\n",
              "                        <td id=\"T_f9e00dca_5a01_11eb_a716_0242ac1c0002row23_col8\" class=\"data row23 col8\" >253</td>\n",
              "                        <td id=\"T_f9e00dca_5a01_11eb_a716_0242ac1c0002row23_col9\" class=\"data row23 col9\" >253</td>\n",
              "                        <td id=\"T_f9e00dca_5a01_11eb_a716_0242ac1c0002row23_col10\" class=\"data row23 col10\" >253</td>\n",
              "                        <td id=\"T_f9e00dca_5a01_11eb_a716_0242ac1c0002row23_col11\" class=\"data row23 col11\" >253</td>\n",
              "                        <td id=\"T_f9e00dca_5a01_11eb_a716_0242ac1c0002row23_col12\" class=\"data row23 col12\" >253</td>\n",
              "                        <td id=\"T_f9e00dca_5a01_11eb_a716_0242ac1c0002row23_col13\" class=\"data row23 col13\" >253</td>\n",
              "                        <td id=\"T_f9e00dca_5a01_11eb_a716_0242ac1c0002row23_col14\" class=\"data row23 col14\" >197</td>\n",
              "                        <td id=\"T_f9e00dca_5a01_11eb_a716_0242ac1c0002row23_col15\" class=\"data row23 col15\" >86</td>\n",
              "                        <td id=\"T_f9e00dca_5a01_11eb_a716_0242ac1c0002row23_col16\" class=\"data row23 col16\" >0</td>\n",
              "                        <td id=\"T_f9e00dca_5a01_11eb_a716_0242ac1c0002row23_col17\" class=\"data row23 col17\" >0</td>\n",
              "                        <td id=\"T_f9e00dca_5a01_11eb_a716_0242ac1c0002row23_col18\" class=\"data row23 col18\" >0</td>\n",
              "                        <td id=\"T_f9e00dca_5a01_11eb_a716_0242ac1c0002row23_col19\" class=\"data row23 col19\" >0</td>\n",
              "                        <td id=\"T_f9e00dca_5a01_11eb_a716_0242ac1c0002row23_col20\" class=\"data row23 col20\" >0</td>\n",
              "                        <td id=\"T_f9e00dca_5a01_11eb_a716_0242ac1c0002row23_col21\" class=\"data row23 col21\" >0</td>\n",
              "                        <td id=\"T_f9e00dca_5a01_11eb_a716_0242ac1c0002row23_col22\" class=\"data row23 col22\" >0</td>\n",
              "                        <td id=\"T_f9e00dca_5a01_11eb_a716_0242ac1c0002row23_col23\" class=\"data row23 col23\" >0</td>\n",
              "                        <td id=\"T_f9e00dca_5a01_11eb_a716_0242ac1c0002row23_col24\" class=\"data row23 col24\" >0</td>\n",
              "                        <td id=\"T_f9e00dca_5a01_11eb_a716_0242ac1c0002row23_col25\" class=\"data row23 col25\" >0</td>\n",
              "                        <td id=\"T_f9e00dca_5a01_11eb_a716_0242ac1c0002row23_col26\" class=\"data row23 col26\" >0</td>\n",
              "                        <td id=\"T_f9e00dca_5a01_11eb_a716_0242ac1c0002row23_col27\" class=\"data row23 col27\" >0</td>\n",
              "            </tr>\n",
              "            <tr>\n",
              "                        <th id=\"T_f9e00dca_5a01_11eb_a716_0242ac1c0002level0_row24\" class=\"row_heading level0 row24\" >24</th>\n",
              "                        <td id=\"T_f9e00dca_5a01_11eb_a716_0242ac1c0002row24_col0\" class=\"data row24 col0\" >0</td>\n",
              "                        <td id=\"T_f9e00dca_5a01_11eb_a716_0242ac1c0002row24_col1\" class=\"data row24 col1\" >0</td>\n",
              "                        <td id=\"T_f9e00dca_5a01_11eb_a716_0242ac1c0002row24_col2\" class=\"data row24 col2\" >0</td>\n",
              "                        <td id=\"T_f9e00dca_5a01_11eb_a716_0242ac1c0002row24_col3\" class=\"data row24 col3\" >0</td>\n",
              "                        <td id=\"T_f9e00dca_5a01_11eb_a716_0242ac1c0002row24_col4\" class=\"data row24 col4\" >0</td>\n",
              "                        <td id=\"T_f9e00dca_5a01_11eb_a716_0242ac1c0002row24_col5\" class=\"data row24 col5\" >0</td>\n",
              "                        <td id=\"T_f9e00dca_5a01_11eb_a716_0242ac1c0002row24_col6\" class=\"data row24 col6\" >103</td>\n",
              "                        <td id=\"T_f9e00dca_5a01_11eb_a716_0242ac1c0002row24_col7\" class=\"data row24 col7\" >253</td>\n",
              "                        <td id=\"T_f9e00dca_5a01_11eb_a716_0242ac1c0002row24_col8\" class=\"data row24 col8\" >253</td>\n",
              "                        <td id=\"T_f9e00dca_5a01_11eb_a716_0242ac1c0002row24_col9\" class=\"data row24 col9\" >253</td>\n",
              "                        <td id=\"T_f9e00dca_5a01_11eb_a716_0242ac1c0002row24_col10\" class=\"data row24 col10\" >253</td>\n",
              "                        <td id=\"T_f9e00dca_5a01_11eb_a716_0242ac1c0002row24_col11\" class=\"data row24 col11\" >253</td>\n",
              "                        <td id=\"T_f9e00dca_5a01_11eb_a716_0242ac1c0002row24_col12\" class=\"data row24 col12\" >232</td>\n",
              "                        <td id=\"T_f9e00dca_5a01_11eb_a716_0242ac1c0002row24_col13\" class=\"data row24 col13\" >67</td>\n",
              "                        <td id=\"T_f9e00dca_5a01_11eb_a716_0242ac1c0002row24_col14\" class=\"data row24 col14\" >1</td>\n",
              "                        <td id=\"T_f9e00dca_5a01_11eb_a716_0242ac1c0002row24_col15\" class=\"data row24 col15\" >0</td>\n",
              "                        <td id=\"T_f9e00dca_5a01_11eb_a716_0242ac1c0002row24_col16\" class=\"data row24 col16\" >0</td>\n",
              "                        <td id=\"T_f9e00dca_5a01_11eb_a716_0242ac1c0002row24_col17\" class=\"data row24 col17\" >0</td>\n",
              "                        <td id=\"T_f9e00dca_5a01_11eb_a716_0242ac1c0002row24_col18\" class=\"data row24 col18\" >0</td>\n",
              "                        <td id=\"T_f9e00dca_5a01_11eb_a716_0242ac1c0002row24_col19\" class=\"data row24 col19\" >0</td>\n",
              "                        <td id=\"T_f9e00dca_5a01_11eb_a716_0242ac1c0002row24_col20\" class=\"data row24 col20\" >0</td>\n",
              "                        <td id=\"T_f9e00dca_5a01_11eb_a716_0242ac1c0002row24_col21\" class=\"data row24 col21\" >0</td>\n",
              "                        <td id=\"T_f9e00dca_5a01_11eb_a716_0242ac1c0002row24_col22\" class=\"data row24 col22\" >0</td>\n",
              "                        <td id=\"T_f9e00dca_5a01_11eb_a716_0242ac1c0002row24_col23\" class=\"data row24 col23\" >0</td>\n",
              "                        <td id=\"T_f9e00dca_5a01_11eb_a716_0242ac1c0002row24_col24\" class=\"data row24 col24\" >0</td>\n",
              "                        <td id=\"T_f9e00dca_5a01_11eb_a716_0242ac1c0002row24_col25\" class=\"data row24 col25\" >0</td>\n",
              "                        <td id=\"T_f9e00dca_5a01_11eb_a716_0242ac1c0002row24_col26\" class=\"data row24 col26\" >0</td>\n",
              "                        <td id=\"T_f9e00dca_5a01_11eb_a716_0242ac1c0002row24_col27\" class=\"data row24 col27\" >0</td>\n",
              "            </tr>\n",
              "            <tr>\n",
              "                        <th id=\"T_f9e00dca_5a01_11eb_a716_0242ac1c0002level0_row25\" class=\"row_heading level0 row25\" >25</th>\n",
              "                        <td id=\"T_f9e00dca_5a01_11eb_a716_0242ac1c0002row25_col0\" class=\"data row25 col0\" >0</td>\n",
              "                        <td id=\"T_f9e00dca_5a01_11eb_a716_0242ac1c0002row25_col1\" class=\"data row25 col1\" >0</td>\n",
              "                        <td id=\"T_f9e00dca_5a01_11eb_a716_0242ac1c0002row25_col2\" class=\"data row25 col2\" >0</td>\n",
              "                        <td id=\"T_f9e00dca_5a01_11eb_a716_0242ac1c0002row25_col3\" class=\"data row25 col3\" >0</td>\n",
              "                        <td id=\"T_f9e00dca_5a01_11eb_a716_0242ac1c0002row25_col4\" class=\"data row25 col4\" >0</td>\n",
              "                        <td id=\"T_f9e00dca_5a01_11eb_a716_0242ac1c0002row25_col5\" class=\"data row25 col5\" >0</td>\n",
              "                        <td id=\"T_f9e00dca_5a01_11eb_a716_0242ac1c0002row25_col6\" class=\"data row25 col6\" >0</td>\n",
              "                        <td id=\"T_f9e00dca_5a01_11eb_a716_0242ac1c0002row25_col7\" class=\"data row25 col7\" >0</td>\n",
              "                        <td id=\"T_f9e00dca_5a01_11eb_a716_0242ac1c0002row25_col8\" class=\"data row25 col8\" >0</td>\n",
              "                        <td id=\"T_f9e00dca_5a01_11eb_a716_0242ac1c0002row25_col9\" class=\"data row25 col9\" >0</td>\n",
              "                        <td id=\"T_f9e00dca_5a01_11eb_a716_0242ac1c0002row25_col10\" class=\"data row25 col10\" >0</td>\n",
              "                        <td id=\"T_f9e00dca_5a01_11eb_a716_0242ac1c0002row25_col11\" class=\"data row25 col11\" >0</td>\n",
              "                        <td id=\"T_f9e00dca_5a01_11eb_a716_0242ac1c0002row25_col12\" class=\"data row25 col12\" >0</td>\n",
              "                        <td id=\"T_f9e00dca_5a01_11eb_a716_0242ac1c0002row25_col13\" class=\"data row25 col13\" >0</td>\n",
              "                        <td id=\"T_f9e00dca_5a01_11eb_a716_0242ac1c0002row25_col14\" class=\"data row25 col14\" >0</td>\n",
              "                        <td id=\"T_f9e00dca_5a01_11eb_a716_0242ac1c0002row25_col15\" class=\"data row25 col15\" >0</td>\n",
              "                        <td id=\"T_f9e00dca_5a01_11eb_a716_0242ac1c0002row25_col16\" class=\"data row25 col16\" >0</td>\n",
              "                        <td id=\"T_f9e00dca_5a01_11eb_a716_0242ac1c0002row25_col17\" class=\"data row25 col17\" >0</td>\n",
              "                        <td id=\"T_f9e00dca_5a01_11eb_a716_0242ac1c0002row25_col18\" class=\"data row25 col18\" >0</td>\n",
              "                        <td id=\"T_f9e00dca_5a01_11eb_a716_0242ac1c0002row25_col19\" class=\"data row25 col19\" >0</td>\n",
              "                        <td id=\"T_f9e00dca_5a01_11eb_a716_0242ac1c0002row25_col20\" class=\"data row25 col20\" >0</td>\n",
              "                        <td id=\"T_f9e00dca_5a01_11eb_a716_0242ac1c0002row25_col21\" class=\"data row25 col21\" >0</td>\n",
              "                        <td id=\"T_f9e00dca_5a01_11eb_a716_0242ac1c0002row25_col22\" class=\"data row25 col22\" >0</td>\n",
              "                        <td id=\"T_f9e00dca_5a01_11eb_a716_0242ac1c0002row25_col23\" class=\"data row25 col23\" >0</td>\n",
              "                        <td id=\"T_f9e00dca_5a01_11eb_a716_0242ac1c0002row25_col24\" class=\"data row25 col24\" >0</td>\n",
              "                        <td id=\"T_f9e00dca_5a01_11eb_a716_0242ac1c0002row25_col25\" class=\"data row25 col25\" >0</td>\n",
              "                        <td id=\"T_f9e00dca_5a01_11eb_a716_0242ac1c0002row25_col26\" class=\"data row25 col26\" >0</td>\n",
              "                        <td id=\"T_f9e00dca_5a01_11eb_a716_0242ac1c0002row25_col27\" class=\"data row25 col27\" >0</td>\n",
              "            </tr>\n",
              "            <tr>\n",
              "                        <th id=\"T_f9e00dca_5a01_11eb_a716_0242ac1c0002level0_row26\" class=\"row_heading level0 row26\" >26</th>\n",
              "                        <td id=\"T_f9e00dca_5a01_11eb_a716_0242ac1c0002row26_col0\" class=\"data row26 col0\" >0</td>\n",
              "                        <td id=\"T_f9e00dca_5a01_11eb_a716_0242ac1c0002row26_col1\" class=\"data row26 col1\" >0</td>\n",
              "                        <td id=\"T_f9e00dca_5a01_11eb_a716_0242ac1c0002row26_col2\" class=\"data row26 col2\" >0</td>\n",
              "                        <td id=\"T_f9e00dca_5a01_11eb_a716_0242ac1c0002row26_col3\" class=\"data row26 col3\" >0</td>\n",
              "                        <td id=\"T_f9e00dca_5a01_11eb_a716_0242ac1c0002row26_col4\" class=\"data row26 col4\" >0</td>\n",
              "                        <td id=\"T_f9e00dca_5a01_11eb_a716_0242ac1c0002row26_col5\" class=\"data row26 col5\" >0</td>\n",
              "                        <td id=\"T_f9e00dca_5a01_11eb_a716_0242ac1c0002row26_col6\" class=\"data row26 col6\" >0</td>\n",
              "                        <td id=\"T_f9e00dca_5a01_11eb_a716_0242ac1c0002row26_col7\" class=\"data row26 col7\" >0</td>\n",
              "                        <td id=\"T_f9e00dca_5a01_11eb_a716_0242ac1c0002row26_col8\" class=\"data row26 col8\" >0</td>\n",
              "                        <td id=\"T_f9e00dca_5a01_11eb_a716_0242ac1c0002row26_col9\" class=\"data row26 col9\" >0</td>\n",
              "                        <td id=\"T_f9e00dca_5a01_11eb_a716_0242ac1c0002row26_col10\" class=\"data row26 col10\" >0</td>\n",
              "                        <td id=\"T_f9e00dca_5a01_11eb_a716_0242ac1c0002row26_col11\" class=\"data row26 col11\" >0</td>\n",
              "                        <td id=\"T_f9e00dca_5a01_11eb_a716_0242ac1c0002row26_col12\" class=\"data row26 col12\" >0</td>\n",
              "                        <td id=\"T_f9e00dca_5a01_11eb_a716_0242ac1c0002row26_col13\" class=\"data row26 col13\" >0</td>\n",
              "                        <td id=\"T_f9e00dca_5a01_11eb_a716_0242ac1c0002row26_col14\" class=\"data row26 col14\" >0</td>\n",
              "                        <td id=\"T_f9e00dca_5a01_11eb_a716_0242ac1c0002row26_col15\" class=\"data row26 col15\" >0</td>\n",
              "                        <td id=\"T_f9e00dca_5a01_11eb_a716_0242ac1c0002row26_col16\" class=\"data row26 col16\" >0</td>\n",
              "                        <td id=\"T_f9e00dca_5a01_11eb_a716_0242ac1c0002row26_col17\" class=\"data row26 col17\" >0</td>\n",
              "                        <td id=\"T_f9e00dca_5a01_11eb_a716_0242ac1c0002row26_col18\" class=\"data row26 col18\" >0</td>\n",
              "                        <td id=\"T_f9e00dca_5a01_11eb_a716_0242ac1c0002row26_col19\" class=\"data row26 col19\" >0</td>\n",
              "                        <td id=\"T_f9e00dca_5a01_11eb_a716_0242ac1c0002row26_col20\" class=\"data row26 col20\" >0</td>\n",
              "                        <td id=\"T_f9e00dca_5a01_11eb_a716_0242ac1c0002row26_col21\" class=\"data row26 col21\" >0</td>\n",
              "                        <td id=\"T_f9e00dca_5a01_11eb_a716_0242ac1c0002row26_col22\" class=\"data row26 col22\" >0</td>\n",
              "                        <td id=\"T_f9e00dca_5a01_11eb_a716_0242ac1c0002row26_col23\" class=\"data row26 col23\" >0</td>\n",
              "                        <td id=\"T_f9e00dca_5a01_11eb_a716_0242ac1c0002row26_col24\" class=\"data row26 col24\" >0</td>\n",
              "                        <td id=\"T_f9e00dca_5a01_11eb_a716_0242ac1c0002row26_col25\" class=\"data row26 col25\" >0</td>\n",
              "                        <td id=\"T_f9e00dca_5a01_11eb_a716_0242ac1c0002row26_col26\" class=\"data row26 col26\" >0</td>\n",
              "                        <td id=\"T_f9e00dca_5a01_11eb_a716_0242ac1c0002row26_col27\" class=\"data row26 col27\" >0</td>\n",
              "            </tr>\n",
              "            <tr>\n",
              "                        <th id=\"T_f9e00dca_5a01_11eb_a716_0242ac1c0002level0_row27\" class=\"row_heading level0 row27\" >27</th>\n",
              "                        <td id=\"T_f9e00dca_5a01_11eb_a716_0242ac1c0002row27_col0\" class=\"data row27 col0\" >0</td>\n",
              "                        <td id=\"T_f9e00dca_5a01_11eb_a716_0242ac1c0002row27_col1\" class=\"data row27 col1\" >0</td>\n",
              "                        <td id=\"T_f9e00dca_5a01_11eb_a716_0242ac1c0002row27_col2\" class=\"data row27 col2\" >0</td>\n",
              "                        <td id=\"T_f9e00dca_5a01_11eb_a716_0242ac1c0002row27_col3\" class=\"data row27 col3\" >0</td>\n",
              "                        <td id=\"T_f9e00dca_5a01_11eb_a716_0242ac1c0002row27_col4\" class=\"data row27 col4\" >0</td>\n",
              "                        <td id=\"T_f9e00dca_5a01_11eb_a716_0242ac1c0002row27_col5\" class=\"data row27 col5\" >0</td>\n",
              "                        <td id=\"T_f9e00dca_5a01_11eb_a716_0242ac1c0002row27_col6\" class=\"data row27 col6\" >0</td>\n",
              "                        <td id=\"T_f9e00dca_5a01_11eb_a716_0242ac1c0002row27_col7\" class=\"data row27 col7\" >0</td>\n",
              "                        <td id=\"T_f9e00dca_5a01_11eb_a716_0242ac1c0002row27_col8\" class=\"data row27 col8\" >0</td>\n",
              "                        <td id=\"T_f9e00dca_5a01_11eb_a716_0242ac1c0002row27_col9\" class=\"data row27 col9\" >0</td>\n",
              "                        <td id=\"T_f9e00dca_5a01_11eb_a716_0242ac1c0002row27_col10\" class=\"data row27 col10\" >0</td>\n",
              "                        <td id=\"T_f9e00dca_5a01_11eb_a716_0242ac1c0002row27_col11\" class=\"data row27 col11\" >0</td>\n",
              "                        <td id=\"T_f9e00dca_5a01_11eb_a716_0242ac1c0002row27_col12\" class=\"data row27 col12\" >0</td>\n",
              "                        <td id=\"T_f9e00dca_5a01_11eb_a716_0242ac1c0002row27_col13\" class=\"data row27 col13\" >0</td>\n",
              "                        <td id=\"T_f9e00dca_5a01_11eb_a716_0242ac1c0002row27_col14\" class=\"data row27 col14\" >0</td>\n",
              "                        <td id=\"T_f9e00dca_5a01_11eb_a716_0242ac1c0002row27_col15\" class=\"data row27 col15\" >0</td>\n",
              "                        <td id=\"T_f9e00dca_5a01_11eb_a716_0242ac1c0002row27_col16\" class=\"data row27 col16\" >0</td>\n",
              "                        <td id=\"T_f9e00dca_5a01_11eb_a716_0242ac1c0002row27_col17\" class=\"data row27 col17\" >0</td>\n",
              "                        <td id=\"T_f9e00dca_5a01_11eb_a716_0242ac1c0002row27_col18\" class=\"data row27 col18\" >0</td>\n",
              "                        <td id=\"T_f9e00dca_5a01_11eb_a716_0242ac1c0002row27_col19\" class=\"data row27 col19\" >0</td>\n",
              "                        <td id=\"T_f9e00dca_5a01_11eb_a716_0242ac1c0002row27_col20\" class=\"data row27 col20\" >0</td>\n",
              "                        <td id=\"T_f9e00dca_5a01_11eb_a716_0242ac1c0002row27_col21\" class=\"data row27 col21\" >0</td>\n",
              "                        <td id=\"T_f9e00dca_5a01_11eb_a716_0242ac1c0002row27_col22\" class=\"data row27 col22\" >0</td>\n",
              "                        <td id=\"T_f9e00dca_5a01_11eb_a716_0242ac1c0002row27_col23\" class=\"data row27 col23\" >0</td>\n",
              "                        <td id=\"T_f9e00dca_5a01_11eb_a716_0242ac1c0002row27_col24\" class=\"data row27 col24\" >0</td>\n",
              "                        <td id=\"T_f9e00dca_5a01_11eb_a716_0242ac1c0002row27_col25\" class=\"data row27 col25\" >0</td>\n",
              "                        <td id=\"T_f9e00dca_5a01_11eb_a716_0242ac1c0002row27_col26\" class=\"data row27 col26\" >0</td>\n",
              "                        <td id=\"T_f9e00dca_5a01_11eb_a716_0242ac1c0002row27_col27\" class=\"data row27 col27\" >0</td>\n",
              "            </tr>\n",
              "    </tbody></table>"
            ],
            "text/plain": [
              "<pandas.io.formats.style.Styler at 0x7fdef2b75d30>"
            ]
          },
          "metadata": {
            "tags": []
          },
          "execution_count": 41
        }
      ]
    },
    {
      "cell_type": "code",
      "metadata": {
        "colab": {
          "base_uri": "https://localhost:8080/",
          "height": 648
        },
        "id": "qWIZv6fRHbBc",
        "outputId": "39cf0cf6-db05-4cad-f7e5-0b558c1f3450"
      },
      "source": [
        "# Representing 7 in a df \n",
        "\n",
        "\n",
        "im7_path = sevens[2]\n",
        "im7 = Image.open(im7_path)\n",
        "im7_t = tensor(im7)\n",
        "df = pd.DataFrame(im7_t)\n",
        "df.style.set_properties(**{'font_size':'6pt'}).background_gradient('Greys')"
      ],
      "execution_count": 42,
      "outputs": [
        {
          "output_type": "execute_result",
          "data": {
            "text/html": [
              "<style  type=\"text/css\" >\n",
              "#T_f9fd9da4_5a01_11eb_a716_0242ac1c0002row0_col0,#T_f9fd9da4_5a01_11eb_a716_0242ac1c0002row0_col1,#T_f9fd9da4_5a01_11eb_a716_0242ac1c0002row0_col2,#T_f9fd9da4_5a01_11eb_a716_0242ac1c0002row0_col3,#T_f9fd9da4_5a01_11eb_a716_0242ac1c0002row0_col4,#T_f9fd9da4_5a01_11eb_a716_0242ac1c0002row0_col5,#T_f9fd9da4_5a01_11eb_a716_0242ac1c0002row0_col6,#T_f9fd9da4_5a01_11eb_a716_0242ac1c0002row0_col7,#T_f9fd9da4_5a01_11eb_a716_0242ac1c0002row0_col8,#T_f9fd9da4_5a01_11eb_a716_0242ac1c0002row0_col9,#T_f9fd9da4_5a01_11eb_a716_0242ac1c0002row0_col10,#T_f9fd9da4_5a01_11eb_a716_0242ac1c0002row0_col11,#T_f9fd9da4_5a01_11eb_a716_0242ac1c0002row0_col12,#T_f9fd9da4_5a01_11eb_a716_0242ac1c0002row0_col13,#T_f9fd9da4_5a01_11eb_a716_0242ac1c0002row0_col14,#T_f9fd9da4_5a01_11eb_a716_0242ac1c0002row0_col15,#T_f9fd9da4_5a01_11eb_a716_0242ac1c0002row0_col16,#T_f9fd9da4_5a01_11eb_a716_0242ac1c0002row0_col17,#T_f9fd9da4_5a01_11eb_a716_0242ac1c0002row0_col18,#T_f9fd9da4_5a01_11eb_a716_0242ac1c0002row0_col19,#T_f9fd9da4_5a01_11eb_a716_0242ac1c0002row0_col20,#T_f9fd9da4_5a01_11eb_a716_0242ac1c0002row0_col21,#T_f9fd9da4_5a01_11eb_a716_0242ac1c0002row0_col22,#T_f9fd9da4_5a01_11eb_a716_0242ac1c0002row0_col23,#T_f9fd9da4_5a01_11eb_a716_0242ac1c0002row0_col24,#T_f9fd9da4_5a01_11eb_a716_0242ac1c0002row0_col25,#T_f9fd9da4_5a01_11eb_a716_0242ac1c0002row0_col26,#T_f9fd9da4_5a01_11eb_a716_0242ac1c0002row0_col27,#T_f9fd9da4_5a01_11eb_a716_0242ac1c0002row1_col0,#T_f9fd9da4_5a01_11eb_a716_0242ac1c0002row1_col1,#T_f9fd9da4_5a01_11eb_a716_0242ac1c0002row1_col2,#T_f9fd9da4_5a01_11eb_a716_0242ac1c0002row1_col3,#T_f9fd9da4_5a01_11eb_a716_0242ac1c0002row1_col4,#T_f9fd9da4_5a01_11eb_a716_0242ac1c0002row1_col5,#T_f9fd9da4_5a01_11eb_a716_0242ac1c0002row1_col6,#T_f9fd9da4_5a01_11eb_a716_0242ac1c0002row1_col7,#T_f9fd9da4_5a01_11eb_a716_0242ac1c0002row1_col8,#T_f9fd9da4_5a01_11eb_a716_0242ac1c0002row1_col9,#T_f9fd9da4_5a01_11eb_a716_0242ac1c0002row1_col10,#T_f9fd9da4_5a01_11eb_a716_0242ac1c0002row1_col11,#T_f9fd9da4_5a01_11eb_a716_0242ac1c0002row1_col12,#T_f9fd9da4_5a01_11eb_a716_0242ac1c0002row1_col13,#T_f9fd9da4_5a01_11eb_a716_0242ac1c0002row1_col14,#T_f9fd9da4_5a01_11eb_a716_0242ac1c0002row1_col15,#T_f9fd9da4_5a01_11eb_a716_0242ac1c0002row1_col16,#T_f9fd9da4_5a01_11eb_a716_0242ac1c0002row1_col17,#T_f9fd9da4_5a01_11eb_a716_0242ac1c0002row1_col18,#T_f9fd9da4_5a01_11eb_a716_0242ac1c0002row1_col19,#T_f9fd9da4_5a01_11eb_a716_0242ac1c0002row1_col20,#T_f9fd9da4_5a01_11eb_a716_0242ac1c0002row1_col21,#T_f9fd9da4_5a01_11eb_a716_0242ac1c0002row1_col22,#T_f9fd9da4_5a01_11eb_a716_0242ac1c0002row1_col23,#T_f9fd9da4_5a01_11eb_a716_0242ac1c0002row1_col24,#T_f9fd9da4_5a01_11eb_a716_0242ac1c0002row1_col25,#T_f9fd9da4_5a01_11eb_a716_0242ac1c0002row1_col26,#T_f9fd9da4_5a01_11eb_a716_0242ac1c0002row1_col27,#T_f9fd9da4_5a01_11eb_a716_0242ac1c0002row2_col0,#T_f9fd9da4_5a01_11eb_a716_0242ac1c0002row2_col1,#T_f9fd9da4_5a01_11eb_a716_0242ac1c0002row2_col2,#T_f9fd9da4_5a01_11eb_a716_0242ac1c0002row2_col3,#T_f9fd9da4_5a01_11eb_a716_0242ac1c0002row2_col4,#T_f9fd9da4_5a01_11eb_a716_0242ac1c0002row2_col5,#T_f9fd9da4_5a01_11eb_a716_0242ac1c0002row2_col6,#T_f9fd9da4_5a01_11eb_a716_0242ac1c0002row2_col7,#T_f9fd9da4_5a01_11eb_a716_0242ac1c0002row2_col8,#T_f9fd9da4_5a01_11eb_a716_0242ac1c0002row2_col9,#T_f9fd9da4_5a01_11eb_a716_0242ac1c0002row2_col10,#T_f9fd9da4_5a01_11eb_a716_0242ac1c0002row2_col11,#T_f9fd9da4_5a01_11eb_a716_0242ac1c0002row2_col12,#T_f9fd9da4_5a01_11eb_a716_0242ac1c0002row2_col13,#T_f9fd9da4_5a01_11eb_a716_0242ac1c0002row2_col14,#T_f9fd9da4_5a01_11eb_a716_0242ac1c0002row2_col15,#T_f9fd9da4_5a01_11eb_a716_0242ac1c0002row2_col16,#T_f9fd9da4_5a01_11eb_a716_0242ac1c0002row2_col17,#T_f9fd9da4_5a01_11eb_a716_0242ac1c0002row2_col18,#T_f9fd9da4_5a01_11eb_a716_0242ac1c0002row2_col19,#T_f9fd9da4_5a01_11eb_a716_0242ac1c0002row2_col20,#T_f9fd9da4_5a01_11eb_a716_0242ac1c0002row2_col21,#T_f9fd9da4_5a01_11eb_a716_0242ac1c0002row2_col22,#T_f9fd9da4_5a01_11eb_a716_0242ac1c0002row2_col23,#T_f9fd9da4_5a01_11eb_a716_0242ac1c0002row2_col24,#T_f9fd9da4_5a01_11eb_a716_0242ac1c0002row2_col25,#T_f9fd9da4_5a01_11eb_a716_0242ac1c0002row2_col26,#T_f9fd9da4_5a01_11eb_a716_0242ac1c0002row2_col27,#T_f9fd9da4_5a01_11eb_a716_0242ac1c0002row3_col0,#T_f9fd9da4_5a01_11eb_a716_0242ac1c0002row3_col1,#T_f9fd9da4_5a01_11eb_a716_0242ac1c0002row3_col2,#T_f9fd9da4_5a01_11eb_a716_0242ac1c0002row3_col3,#T_f9fd9da4_5a01_11eb_a716_0242ac1c0002row3_col4,#T_f9fd9da4_5a01_11eb_a716_0242ac1c0002row3_col5,#T_f9fd9da4_5a01_11eb_a716_0242ac1c0002row3_col6,#T_f9fd9da4_5a01_11eb_a716_0242ac1c0002row3_col7,#T_f9fd9da4_5a01_11eb_a716_0242ac1c0002row3_col8,#T_f9fd9da4_5a01_11eb_a716_0242ac1c0002row3_col9,#T_f9fd9da4_5a01_11eb_a716_0242ac1c0002row3_col10,#T_f9fd9da4_5a01_11eb_a716_0242ac1c0002row3_col11,#T_f9fd9da4_5a01_11eb_a716_0242ac1c0002row3_col12,#T_f9fd9da4_5a01_11eb_a716_0242ac1c0002row3_col13,#T_f9fd9da4_5a01_11eb_a716_0242ac1c0002row3_col14,#T_f9fd9da4_5a01_11eb_a716_0242ac1c0002row3_col15,#T_f9fd9da4_5a01_11eb_a716_0242ac1c0002row3_col16,#T_f9fd9da4_5a01_11eb_a716_0242ac1c0002row3_col17,#T_f9fd9da4_5a01_11eb_a716_0242ac1c0002row3_col18,#T_f9fd9da4_5a01_11eb_a716_0242ac1c0002row3_col19,#T_f9fd9da4_5a01_11eb_a716_0242ac1c0002row3_col20,#T_f9fd9da4_5a01_11eb_a716_0242ac1c0002row3_col21,#T_f9fd9da4_5a01_11eb_a716_0242ac1c0002row3_col22,#T_f9fd9da4_5a01_11eb_a716_0242ac1c0002row3_col23,#T_f9fd9da4_5a01_11eb_a716_0242ac1c0002row3_col24,#T_f9fd9da4_5a01_11eb_a716_0242ac1c0002row3_col25,#T_f9fd9da4_5a01_11eb_a716_0242ac1c0002row3_col26,#T_f9fd9da4_5a01_11eb_a716_0242ac1c0002row3_col27,#T_f9fd9da4_5a01_11eb_a716_0242ac1c0002row4_col0,#T_f9fd9da4_5a01_11eb_a716_0242ac1c0002row4_col1,#T_f9fd9da4_5a01_11eb_a716_0242ac1c0002row4_col2,#T_f9fd9da4_5a01_11eb_a716_0242ac1c0002row4_col3,#T_f9fd9da4_5a01_11eb_a716_0242ac1c0002row4_col4,#T_f9fd9da4_5a01_11eb_a716_0242ac1c0002row4_col5,#T_f9fd9da4_5a01_11eb_a716_0242ac1c0002row4_col6,#T_f9fd9da4_5a01_11eb_a716_0242ac1c0002row4_col7,#T_f9fd9da4_5a01_11eb_a716_0242ac1c0002row4_col8,#T_f9fd9da4_5a01_11eb_a716_0242ac1c0002row4_col9,#T_f9fd9da4_5a01_11eb_a716_0242ac1c0002row4_col10,#T_f9fd9da4_5a01_11eb_a716_0242ac1c0002row4_col11,#T_f9fd9da4_5a01_11eb_a716_0242ac1c0002row4_col12,#T_f9fd9da4_5a01_11eb_a716_0242ac1c0002row4_col13,#T_f9fd9da4_5a01_11eb_a716_0242ac1c0002row4_col14,#T_f9fd9da4_5a01_11eb_a716_0242ac1c0002row4_col15,#T_f9fd9da4_5a01_11eb_a716_0242ac1c0002row4_col16,#T_f9fd9da4_5a01_11eb_a716_0242ac1c0002row4_col17,#T_f9fd9da4_5a01_11eb_a716_0242ac1c0002row4_col18,#T_f9fd9da4_5a01_11eb_a716_0242ac1c0002row4_col19,#T_f9fd9da4_5a01_11eb_a716_0242ac1c0002row4_col20,#T_f9fd9da4_5a01_11eb_a716_0242ac1c0002row4_col21,#T_f9fd9da4_5a01_11eb_a716_0242ac1c0002row4_col22,#T_f9fd9da4_5a01_11eb_a716_0242ac1c0002row4_col23,#T_f9fd9da4_5a01_11eb_a716_0242ac1c0002row4_col24,#T_f9fd9da4_5a01_11eb_a716_0242ac1c0002row4_col25,#T_f9fd9da4_5a01_11eb_a716_0242ac1c0002row4_col26,#T_f9fd9da4_5a01_11eb_a716_0242ac1c0002row4_col27,#T_f9fd9da4_5a01_11eb_a716_0242ac1c0002row5_col0,#T_f9fd9da4_5a01_11eb_a716_0242ac1c0002row5_col1,#T_f9fd9da4_5a01_11eb_a716_0242ac1c0002row5_col2,#T_f9fd9da4_5a01_11eb_a716_0242ac1c0002row5_col3,#T_f9fd9da4_5a01_11eb_a716_0242ac1c0002row5_col4,#T_f9fd9da4_5a01_11eb_a716_0242ac1c0002row5_col5,#T_f9fd9da4_5a01_11eb_a716_0242ac1c0002row5_col6,#T_f9fd9da4_5a01_11eb_a716_0242ac1c0002row5_col7,#T_f9fd9da4_5a01_11eb_a716_0242ac1c0002row5_col8,#T_f9fd9da4_5a01_11eb_a716_0242ac1c0002row5_col9,#T_f9fd9da4_5a01_11eb_a716_0242ac1c0002row5_col10,#T_f9fd9da4_5a01_11eb_a716_0242ac1c0002row5_col11,#T_f9fd9da4_5a01_11eb_a716_0242ac1c0002row5_col12,#T_f9fd9da4_5a01_11eb_a716_0242ac1c0002row5_col13,#T_f9fd9da4_5a01_11eb_a716_0242ac1c0002row5_col14,#T_f9fd9da4_5a01_11eb_a716_0242ac1c0002row5_col15,#T_f9fd9da4_5a01_11eb_a716_0242ac1c0002row5_col16,#T_f9fd9da4_5a01_11eb_a716_0242ac1c0002row5_col17,#T_f9fd9da4_5a01_11eb_a716_0242ac1c0002row5_col18,#T_f9fd9da4_5a01_11eb_a716_0242ac1c0002row5_col19,#T_f9fd9da4_5a01_11eb_a716_0242ac1c0002row5_col20,#T_f9fd9da4_5a01_11eb_a716_0242ac1c0002row5_col21,#T_f9fd9da4_5a01_11eb_a716_0242ac1c0002row5_col22,#T_f9fd9da4_5a01_11eb_a716_0242ac1c0002row5_col23,#T_f9fd9da4_5a01_11eb_a716_0242ac1c0002row5_col24,#T_f9fd9da4_5a01_11eb_a716_0242ac1c0002row5_col25,#T_f9fd9da4_5a01_11eb_a716_0242ac1c0002row5_col26,#T_f9fd9da4_5a01_11eb_a716_0242ac1c0002row5_col27,#T_f9fd9da4_5a01_11eb_a716_0242ac1c0002row6_col0,#T_f9fd9da4_5a01_11eb_a716_0242ac1c0002row6_col1,#T_f9fd9da4_5a01_11eb_a716_0242ac1c0002row6_col2,#T_f9fd9da4_5a01_11eb_a716_0242ac1c0002row6_col3,#T_f9fd9da4_5a01_11eb_a716_0242ac1c0002row6_col4,#T_f9fd9da4_5a01_11eb_a716_0242ac1c0002row6_col5,#T_f9fd9da4_5a01_11eb_a716_0242ac1c0002row6_col6,#T_f9fd9da4_5a01_11eb_a716_0242ac1c0002row6_col7,#T_f9fd9da4_5a01_11eb_a716_0242ac1c0002row6_col8,#T_f9fd9da4_5a01_11eb_a716_0242ac1c0002row6_col20,#T_f9fd9da4_5a01_11eb_a716_0242ac1c0002row6_col21,#T_f9fd9da4_5a01_11eb_a716_0242ac1c0002row6_col22,#T_f9fd9da4_5a01_11eb_a716_0242ac1c0002row6_col23,#T_f9fd9da4_5a01_11eb_a716_0242ac1c0002row6_col24,#T_f9fd9da4_5a01_11eb_a716_0242ac1c0002row6_col25,#T_f9fd9da4_5a01_11eb_a716_0242ac1c0002row6_col26,#T_f9fd9da4_5a01_11eb_a716_0242ac1c0002row6_col27,#T_f9fd9da4_5a01_11eb_a716_0242ac1c0002row7_col0,#T_f9fd9da4_5a01_11eb_a716_0242ac1c0002row7_col1,#T_f9fd9da4_5a01_11eb_a716_0242ac1c0002row7_col2,#T_f9fd9da4_5a01_11eb_a716_0242ac1c0002row7_col3,#T_f9fd9da4_5a01_11eb_a716_0242ac1c0002row7_col4,#T_f9fd9da4_5a01_11eb_a716_0242ac1c0002row7_col20,#T_f9fd9da4_5a01_11eb_a716_0242ac1c0002row7_col21,#T_f9fd9da4_5a01_11eb_a716_0242ac1c0002row7_col22,#T_f9fd9da4_5a01_11eb_a716_0242ac1c0002row7_col23,#T_f9fd9da4_5a01_11eb_a716_0242ac1c0002row7_col24,#T_f9fd9da4_5a01_11eb_a716_0242ac1c0002row7_col25,#T_f9fd9da4_5a01_11eb_a716_0242ac1c0002row7_col26,#T_f9fd9da4_5a01_11eb_a716_0242ac1c0002row7_col27,#T_f9fd9da4_5a01_11eb_a716_0242ac1c0002row8_col0,#T_f9fd9da4_5a01_11eb_a716_0242ac1c0002row8_col1,#T_f9fd9da4_5a01_11eb_a716_0242ac1c0002row8_col2,#T_f9fd9da4_5a01_11eb_a716_0242ac1c0002row8_col3,#T_f9fd9da4_5a01_11eb_a716_0242ac1c0002row8_col4,#T_f9fd9da4_5a01_11eb_a716_0242ac1c0002row8_col20,#T_f9fd9da4_5a01_11eb_a716_0242ac1c0002row8_col21,#T_f9fd9da4_5a01_11eb_a716_0242ac1c0002row8_col22,#T_f9fd9da4_5a01_11eb_a716_0242ac1c0002row8_col23,#T_f9fd9da4_5a01_11eb_a716_0242ac1c0002row8_col24,#T_f9fd9da4_5a01_11eb_a716_0242ac1c0002row8_col25,#T_f9fd9da4_5a01_11eb_a716_0242ac1c0002row8_col26,#T_f9fd9da4_5a01_11eb_a716_0242ac1c0002row8_col27,#T_f9fd9da4_5a01_11eb_a716_0242ac1c0002row9_col0,#T_f9fd9da4_5a01_11eb_a716_0242ac1c0002row9_col1,#T_f9fd9da4_5a01_11eb_a716_0242ac1c0002row9_col2,#T_f9fd9da4_5a01_11eb_a716_0242ac1c0002row9_col3,#T_f9fd9da4_5a01_11eb_a716_0242ac1c0002row9_col4,#T_f9fd9da4_5a01_11eb_a716_0242ac1c0002row9_col10,#T_f9fd9da4_5a01_11eb_a716_0242ac1c0002row9_col11,#T_f9fd9da4_5a01_11eb_a716_0242ac1c0002row9_col12,#T_f9fd9da4_5a01_11eb_a716_0242ac1c0002row9_col13,#T_f9fd9da4_5a01_11eb_a716_0242ac1c0002row9_col14,#T_f9fd9da4_5a01_11eb_a716_0242ac1c0002row9_col15,#T_f9fd9da4_5a01_11eb_a716_0242ac1c0002row9_col20,#T_f9fd9da4_5a01_11eb_a716_0242ac1c0002row9_col21,#T_f9fd9da4_5a01_11eb_a716_0242ac1c0002row9_col22,#T_f9fd9da4_5a01_11eb_a716_0242ac1c0002row9_col23,#T_f9fd9da4_5a01_11eb_a716_0242ac1c0002row9_col24,#T_f9fd9da4_5a01_11eb_a716_0242ac1c0002row9_col25,#T_f9fd9da4_5a01_11eb_a716_0242ac1c0002row9_col26,#T_f9fd9da4_5a01_11eb_a716_0242ac1c0002row9_col27,#T_f9fd9da4_5a01_11eb_a716_0242ac1c0002row10_col0,#T_f9fd9da4_5a01_11eb_a716_0242ac1c0002row10_col1,#T_f9fd9da4_5a01_11eb_a716_0242ac1c0002row10_col2,#T_f9fd9da4_5a01_11eb_a716_0242ac1c0002row10_col3,#T_f9fd9da4_5a01_11eb_a716_0242ac1c0002row10_col4,#T_f9fd9da4_5a01_11eb_a716_0242ac1c0002row10_col8,#T_f9fd9da4_5a01_11eb_a716_0242ac1c0002row10_col9,#T_f9fd9da4_5a01_11eb_a716_0242ac1c0002row10_col10,#T_f9fd9da4_5a01_11eb_a716_0242ac1c0002row10_col11,#T_f9fd9da4_5a01_11eb_a716_0242ac1c0002row10_col12,#T_f9fd9da4_5a01_11eb_a716_0242ac1c0002row10_col13,#T_f9fd9da4_5a01_11eb_a716_0242ac1c0002row10_col14,#T_f9fd9da4_5a01_11eb_a716_0242ac1c0002row10_col15,#T_f9fd9da4_5a01_11eb_a716_0242ac1c0002row10_col20,#T_f9fd9da4_5a01_11eb_a716_0242ac1c0002row10_col21,#T_f9fd9da4_5a01_11eb_a716_0242ac1c0002row10_col22,#T_f9fd9da4_5a01_11eb_a716_0242ac1c0002row10_col23,#T_f9fd9da4_5a01_11eb_a716_0242ac1c0002row10_col24,#T_f9fd9da4_5a01_11eb_a716_0242ac1c0002row10_col25,#T_f9fd9da4_5a01_11eb_a716_0242ac1c0002row10_col26,#T_f9fd9da4_5a01_11eb_a716_0242ac1c0002row10_col27,#T_f9fd9da4_5a01_11eb_a716_0242ac1c0002row11_col0,#T_f9fd9da4_5a01_11eb_a716_0242ac1c0002row11_col1,#T_f9fd9da4_5a01_11eb_a716_0242ac1c0002row11_col2,#T_f9fd9da4_5a01_11eb_a716_0242ac1c0002row11_col3,#T_f9fd9da4_5a01_11eb_a716_0242ac1c0002row11_col4,#T_f9fd9da4_5a01_11eb_a716_0242ac1c0002row11_col5,#T_f9fd9da4_5a01_11eb_a716_0242ac1c0002row11_col9,#T_f9fd9da4_5a01_11eb_a716_0242ac1c0002row11_col10,#T_f9fd9da4_5a01_11eb_a716_0242ac1c0002row11_col11,#T_f9fd9da4_5a01_11eb_a716_0242ac1c0002row11_col12,#T_f9fd9da4_5a01_11eb_a716_0242ac1c0002row11_col13,#T_f9fd9da4_5a01_11eb_a716_0242ac1c0002row11_col14,#T_f9fd9da4_5a01_11eb_a716_0242ac1c0002row11_col15,#T_f9fd9da4_5a01_11eb_a716_0242ac1c0002row11_col20,#T_f9fd9da4_5a01_11eb_a716_0242ac1c0002row11_col21,#T_f9fd9da4_5a01_11eb_a716_0242ac1c0002row11_col22,#T_f9fd9da4_5a01_11eb_a716_0242ac1c0002row11_col23,#T_f9fd9da4_5a01_11eb_a716_0242ac1c0002row11_col24,#T_f9fd9da4_5a01_11eb_a716_0242ac1c0002row11_col25,#T_f9fd9da4_5a01_11eb_a716_0242ac1c0002row11_col26,#T_f9fd9da4_5a01_11eb_a716_0242ac1c0002row11_col27,#T_f9fd9da4_5a01_11eb_a716_0242ac1c0002row12_col0,#T_f9fd9da4_5a01_11eb_a716_0242ac1c0002row12_col1,#T_f9fd9da4_5a01_11eb_a716_0242ac1c0002row12_col2,#T_f9fd9da4_5a01_11eb_a716_0242ac1c0002row12_col3,#T_f9fd9da4_5a01_11eb_a716_0242ac1c0002row12_col4,#T_f9fd9da4_5a01_11eb_a716_0242ac1c0002row12_col5,#T_f9fd9da4_5a01_11eb_a716_0242ac1c0002row12_col9,#T_f9fd9da4_5a01_11eb_a716_0242ac1c0002row12_col10,#T_f9fd9da4_5a01_11eb_a716_0242ac1c0002row12_col11,#T_f9fd9da4_5a01_11eb_a716_0242ac1c0002row12_col12,#T_f9fd9da4_5a01_11eb_a716_0242ac1c0002row12_col13,#T_f9fd9da4_5a01_11eb_a716_0242ac1c0002row12_col14,#T_f9fd9da4_5a01_11eb_a716_0242ac1c0002row12_col19,#T_f9fd9da4_5a01_11eb_a716_0242ac1c0002row12_col20,#T_f9fd9da4_5a01_11eb_a716_0242ac1c0002row12_col21,#T_f9fd9da4_5a01_11eb_a716_0242ac1c0002row12_col22,#T_f9fd9da4_5a01_11eb_a716_0242ac1c0002row12_col23,#T_f9fd9da4_5a01_11eb_a716_0242ac1c0002row12_col24,#T_f9fd9da4_5a01_11eb_a716_0242ac1c0002row12_col25,#T_f9fd9da4_5a01_11eb_a716_0242ac1c0002row12_col26,#T_f9fd9da4_5a01_11eb_a716_0242ac1c0002row12_col27,#T_f9fd9da4_5a01_11eb_a716_0242ac1c0002row13_col0,#T_f9fd9da4_5a01_11eb_a716_0242ac1c0002row13_col1,#T_f9fd9da4_5a01_11eb_a716_0242ac1c0002row13_col2,#T_f9fd9da4_5a01_11eb_a716_0242ac1c0002row13_col3,#T_f9fd9da4_5a01_11eb_a716_0242ac1c0002row13_col4,#T_f9fd9da4_5a01_11eb_a716_0242ac1c0002row13_col5,#T_f9fd9da4_5a01_11eb_a716_0242ac1c0002row13_col9,#T_f9fd9da4_5a01_11eb_a716_0242ac1c0002row13_col10,#T_f9fd9da4_5a01_11eb_a716_0242ac1c0002row13_col11,#T_f9fd9da4_5a01_11eb_a716_0242ac1c0002row13_col12,#T_f9fd9da4_5a01_11eb_a716_0242ac1c0002row13_col13,#T_f9fd9da4_5a01_11eb_a716_0242ac1c0002row13_col14,#T_f9fd9da4_5a01_11eb_a716_0242ac1c0002row13_col18,#T_f9fd9da4_5a01_11eb_a716_0242ac1c0002row13_col19,#T_f9fd9da4_5a01_11eb_a716_0242ac1c0002row13_col20,#T_f9fd9da4_5a01_11eb_a716_0242ac1c0002row13_col21,#T_f9fd9da4_5a01_11eb_a716_0242ac1c0002row13_col22,#T_f9fd9da4_5a01_11eb_a716_0242ac1c0002row13_col23,#T_f9fd9da4_5a01_11eb_a716_0242ac1c0002row13_col24,#T_f9fd9da4_5a01_11eb_a716_0242ac1c0002row13_col25,#T_f9fd9da4_5a01_11eb_a716_0242ac1c0002row13_col26,#T_f9fd9da4_5a01_11eb_a716_0242ac1c0002row13_col27,#T_f9fd9da4_5a01_11eb_a716_0242ac1c0002row14_col0,#T_f9fd9da4_5a01_11eb_a716_0242ac1c0002row14_col1,#T_f9fd9da4_5a01_11eb_a716_0242ac1c0002row14_col2,#T_f9fd9da4_5a01_11eb_a716_0242ac1c0002row14_col3,#T_f9fd9da4_5a01_11eb_a716_0242ac1c0002row14_col4,#T_f9fd9da4_5a01_11eb_a716_0242ac1c0002row14_col5,#T_f9fd9da4_5a01_11eb_a716_0242ac1c0002row14_col9,#T_f9fd9da4_5a01_11eb_a716_0242ac1c0002row14_col10,#T_f9fd9da4_5a01_11eb_a716_0242ac1c0002row14_col11,#T_f9fd9da4_5a01_11eb_a716_0242ac1c0002row14_col12,#T_f9fd9da4_5a01_11eb_a716_0242ac1c0002row14_col13,#T_f9fd9da4_5a01_11eb_a716_0242ac1c0002row14_col14,#T_f9fd9da4_5a01_11eb_a716_0242ac1c0002row14_col18,#T_f9fd9da4_5a01_11eb_a716_0242ac1c0002row14_col19,#T_f9fd9da4_5a01_11eb_a716_0242ac1c0002row14_col20,#T_f9fd9da4_5a01_11eb_a716_0242ac1c0002row14_col21,#T_f9fd9da4_5a01_11eb_a716_0242ac1c0002row14_col22,#T_f9fd9da4_5a01_11eb_a716_0242ac1c0002row14_col23,#T_f9fd9da4_5a01_11eb_a716_0242ac1c0002row14_col24,#T_f9fd9da4_5a01_11eb_a716_0242ac1c0002row14_col25,#T_f9fd9da4_5a01_11eb_a716_0242ac1c0002row14_col26,#T_f9fd9da4_5a01_11eb_a716_0242ac1c0002row14_col27,#T_f9fd9da4_5a01_11eb_a716_0242ac1c0002row15_col0,#T_f9fd9da4_5a01_11eb_a716_0242ac1c0002row15_col1,#T_f9fd9da4_5a01_11eb_a716_0242ac1c0002row15_col2,#T_f9fd9da4_5a01_11eb_a716_0242ac1c0002row15_col3,#T_f9fd9da4_5a01_11eb_a716_0242ac1c0002row15_col4,#T_f9fd9da4_5a01_11eb_a716_0242ac1c0002row15_col5,#T_f9fd9da4_5a01_11eb_a716_0242ac1c0002row15_col8,#T_f9fd9da4_5a01_11eb_a716_0242ac1c0002row15_col9,#T_f9fd9da4_5a01_11eb_a716_0242ac1c0002row15_col12,#T_f9fd9da4_5a01_11eb_a716_0242ac1c0002row15_col13,#T_f9fd9da4_5a01_11eb_a716_0242ac1c0002row15_col18,#T_f9fd9da4_5a01_11eb_a716_0242ac1c0002row15_col19,#T_f9fd9da4_5a01_11eb_a716_0242ac1c0002row15_col20,#T_f9fd9da4_5a01_11eb_a716_0242ac1c0002row15_col21,#T_f9fd9da4_5a01_11eb_a716_0242ac1c0002row15_col25,#T_f9fd9da4_5a01_11eb_a716_0242ac1c0002row15_col26,#T_f9fd9da4_5a01_11eb_a716_0242ac1c0002row15_col27,#T_f9fd9da4_5a01_11eb_a716_0242ac1c0002row16_col0,#T_f9fd9da4_5a01_11eb_a716_0242ac1c0002row16_col1,#T_f9fd9da4_5a01_11eb_a716_0242ac1c0002row16_col2,#T_f9fd9da4_5a01_11eb_a716_0242ac1c0002row16_col3,#T_f9fd9da4_5a01_11eb_a716_0242ac1c0002row16_col4,#T_f9fd9da4_5a01_11eb_a716_0242ac1c0002row16_col5,#T_f9fd9da4_5a01_11eb_a716_0242ac1c0002row16_col6,#T_f9fd9da4_5a01_11eb_a716_0242ac1c0002row16_col7,#T_f9fd9da4_5a01_11eb_a716_0242ac1c0002row16_col8,#T_f9fd9da4_5a01_11eb_a716_0242ac1c0002row16_col13,#T_f9fd9da4_5a01_11eb_a716_0242ac1c0002row16_col17,#T_f9fd9da4_5a01_11eb_a716_0242ac1c0002row16_col18,#T_f9fd9da4_5a01_11eb_a716_0242ac1c0002row16_col19,#T_f9fd9da4_5a01_11eb_a716_0242ac1c0002row16_col20,#T_f9fd9da4_5a01_11eb_a716_0242ac1c0002row16_col25,#T_f9fd9da4_5a01_11eb_a716_0242ac1c0002row16_col26,#T_f9fd9da4_5a01_11eb_a716_0242ac1c0002row16_col27,#T_f9fd9da4_5a01_11eb_a716_0242ac1c0002row17_col0,#T_f9fd9da4_5a01_11eb_a716_0242ac1c0002row17_col1,#T_f9fd9da4_5a01_11eb_a716_0242ac1c0002row17_col2,#T_f9fd9da4_5a01_11eb_a716_0242ac1c0002row17_col3,#T_f9fd9da4_5a01_11eb_a716_0242ac1c0002row17_col4,#T_f9fd9da4_5a01_11eb_a716_0242ac1c0002row17_col5,#T_f9fd9da4_5a01_11eb_a716_0242ac1c0002row17_col6,#T_f9fd9da4_5a01_11eb_a716_0242ac1c0002row17_col7,#T_f9fd9da4_5a01_11eb_a716_0242ac1c0002row17_col8,#T_f9fd9da4_5a01_11eb_a716_0242ac1c0002row17_col25,#T_f9fd9da4_5a01_11eb_a716_0242ac1c0002row17_col26,#T_f9fd9da4_5a01_11eb_a716_0242ac1c0002row17_col27,#T_f9fd9da4_5a01_11eb_a716_0242ac1c0002row18_col0,#T_f9fd9da4_5a01_11eb_a716_0242ac1c0002row18_col1,#T_f9fd9da4_5a01_11eb_a716_0242ac1c0002row18_col2,#T_f9fd9da4_5a01_11eb_a716_0242ac1c0002row18_col3,#T_f9fd9da4_5a01_11eb_a716_0242ac1c0002row18_col4,#T_f9fd9da4_5a01_11eb_a716_0242ac1c0002row18_col5,#T_f9fd9da4_5a01_11eb_a716_0242ac1c0002row18_col6,#T_f9fd9da4_5a01_11eb_a716_0242ac1c0002row18_col7,#T_f9fd9da4_5a01_11eb_a716_0242ac1c0002row18_col8,#T_f9fd9da4_5a01_11eb_a716_0242ac1c0002row18_col9,#T_f9fd9da4_5a01_11eb_a716_0242ac1c0002row18_col23,#T_f9fd9da4_5a01_11eb_a716_0242ac1c0002row18_col24,#T_f9fd9da4_5a01_11eb_a716_0242ac1c0002row18_col25,#T_f9fd9da4_5a01_11eb_a716_0242ac1c0002row18_col26,#T_f9fd9da4_5a01_11eb_a716_0242ac1c0002row18_col27,#T_f9fd9da4_5a01_11eb_a716_0242ac1c0002row19_col0,#T_f9fd9da4_5a01_11eb_a716_0242ac1c0002row19_col1,#T_f9fd9da4_5a01_11eb_a716_0242ac1c0002row19_col2,#T_f9fd9da4_5a01_11eb_a716_0242ac1c0002row19_col3,#T_f9fd9da4_5a01_11eb_a716_0242ac1c0002row19_col4,#T_f9fd9da4_5a01_11eb_a716_0242ac1c0002row19_col5,#T_f9fd9da4_5a01_11eb_a716_0242ac1c0002row19_col6,#T_f9fd9da4_5a01_11eb_a716_0242ac1c0002row19_col7,#T_f9fd9da4_5a01_11eb_a716_0242ac1c0002row19_col8,#T_f9fd9da4_5a01_11eb_a716_0242ac1c0002row19_col9,#T_f9fd9da4_5a01_11eb_a716_0242ac1c0002row19_col10,#T_f9fd9da4_5a01_11eb_a716_0242ac1c0002row19_col21,#T_f9fd9da4_5a01_11eb_a716_0242ac1c0002row19_col22,#T_f9fd9da4_5a01_11eb_a716_0242ac1c0002row19_col23,#T_f9fd9da4_5a01_11eb_a716_0242ac1c0002row19_col24,#T_f9fd9da4_5a01_11eb_a716_0242ac1c0002row19_col25,#T_f9fd9da4_5a01_11eb_a716_0242ac1c0002row19_col26,#T_f9fd9da4_5a01_11eb_a716_0242ac1c0002row19_col27,#T_f9fd9da4_5a01_11eb_a716_0242ac1c0002row20_col0,#T_f9fd9da4_5a01_11eb_a716_0242ac1c0002row20_col1,#T_f9fd9da4_5a01_11eb_a716_0242ac1c0002row20_col2,#T_f9fd9da4_5a01_11eb_a716_0242ac1c0002row20_col3,#T_f9fd9da4_5a01_11eb_a716_0242ac1c0002row20_col4,#T_f9fd9da4_5a01_11eb_a716_0242ac1c0002row20_col5,#T_f9fd9da4_5a01_11eb_a716_0242ac1c0002row20_col6,#T_f9fd9da4_5a01_11eb_a716_0242ac1c0002row20_col7,#T_f9fd9da4_5a01_11eb_a716_0242ac1c0002row20_col8,#T_f9fd9da4_5a01_11eb_a716_0242ac1c0002row20_col9,#T_f9fd9da4_5a01_11eb_a716_0242ac1c0002row20_col10,#T_f9fd9da4_5a01_11eb_a716_0242ac1c0002row20_col11,#T_f9fd9da4_5a01_11eb_a716_0242ac1c0002row20_col12,#T_f9fd9da4_5a01_11eb_a716_0242ac1c0002row20_col17,#T_f9fd9da4_5a01_11eb_a716_0242ac1c0002row20_col18,#T_f9fd9da4_5a01_11eb_a716_0242ac1c0002row20_col19,#T_f9fd9da4_5a01_11eb_a716_0242ac1c0002row20_col20,#T_f9fd9da4_5a01_11eb_a716_0242ac1c0002row20_col21,#T_f9fd9da4_5a01_11eb_a716_0242ac1c0002row20_col22,#T_f9fd9da4_5a01_11eb_a716_0242ac1c0002row20_col23,#T_f9fd9da4_5a01_11eb_a716_0242ac1c0002row20_col24,#T_f9fd9da4_5a01_11eb_a716_0242ac1c0002row20_col25,#T_f9fd9da4_5a01_11eb_a716_0242ac1c0002row20_col26,#T_f9fd9da4_5a01_11eb_a716_0242ac1c0002row20_col27,#T_f9fd9da4_5a01_11eb_a716_0242ac1c0002row21_col0,#T_f9fd9da4_5a01_11eb_a716_0242ac1c0002row21_col1,#T_f9fd9da4_5a01_11eb_a716_0242ac1c0002row21_col2,#T_f9fd9da4_5a01_11eb_a716_0242ac1c0002row21_col3,#T_f9fd9da4_5a01_11eb_a716_0242ac1c0002row21_col4,#T_f9fd9da4_5a01_11eb_a716_0242ac1c0002row21_col5,#T_f9fd9da4_5a01_11eb_a716_0242ac1c0002row21_col6,#T_f9fd9da4_5a01_11eb_a716_0242ac1c0002row21_col7,#T_f9fd9da4_5a01_11eb_a716_0242ac1c0002row21_col8,#T_f9fd9da4_5a01_11eb_a716_0242ac1c0002row21_col9,#T_f9fd9da4_5a01_11eb_a716_0242ac1c0002row21_col10,#T_f9fd9da4_5a01_11eb_a716_0242ac1c0002row21_col11,#T_f9fd9da4_5a01_11eb_a716_0242ac1c0002row21_col12,#T_f9fd9da4_5a01_11eb_a716_0242ac1c0002row21_col17,#T_f9fd9da4_5a01_11eb_a716_0242ac1c0002row21_col18,#T_f9fd9da4_5a01_11eb_a716_0242ac1c0002row21_col19,#T_f9fd9da4_5a01_11eb_a716_0242ac1c0002row21_col20,#T_f9fd9da4_5a01_11eb_a716_0242ac1c0002row21_col21,#T_f9fd9da4_5a01_11eb_a716_0242ac1c0002row21_col22,#T_f9fd9da4_5a01_11eb_a716_0242ac1c0002row21_col23,#T_f9fd9da4_5a01_11eb_a716_0242ac1c0002row21_col24,#T_f9fd9da4_5a01_11eb_a716_0242ac1c0002row21_col25,#T_f9fd9da4_5a01_11eb_a716_0242ac1c0002row21_col26,#T_f9fd9da4_5a01_11eb_a716_0242ac1c0002row21_col27,#T_f9fd9da4_5a01_11eb_a716_0242ac1c0002row22_col0,#T_f9fd9da4_5a01_11eb_a716_0242ac1c0002row22_col1,#T_f9fd9da4_5a01_11eb_a716_0242ac1c0002row22_col2,#T_f9fd9da4_5a01_11eb_a716_0242ac1c0002row22_col3,#T_f9fd9da4_5a01_11eb_a716_0242ac1c0002row22_col4,#T_f9fd9da4_5a01_11eb_a716_0242ac1c0002row22_col5,#T_f9fd9da4_5a01_11eb_a716_0242ac1c0002row22_col6,#T_f9fd9da4_5a01_11eb_a716_0242ac1c0002row22_col7,#T_f9fd9da4_5a01_11eb_a716_0242ac1c0002row22_col8,#T_f9fd9da4_5a01_11eb_a716_0242ac1c0002row22_col9,#T_f9fd9da4_5a01_11eb_a716_0242ac1c0002row22_col10,#T_f9fd9da4_5a01_11eb_a716_0242ac1c0002row22_col11,#T_f9fd9da4_5a01_11eb_a716_0242ac1c0002row22_col12,#T_f9fd9da4_5a01_11eb_a716_0242ac1c0002row22_col17,#T_f9fd9da4_5a01_11eb_a716_0242ac1c0002row22_col18,#T_f9fd9da4_5a01_11eb_a716_0242ac1c0002row22_col19,#T_f9fd9da4_5a01_11eb_a716_0242ac1c0002row22_col20,#T_f9fd9da4_5a01_11eb_a716_0242ac1c0002row22_col21,#T_f9fd9da4_5a01_11eb_a716_0242ac1c0002row22_col22,#T_f9fd9da4_5a01_11eb_a716_0242ac1c0002row22_col23,#T_f9fd9da4_5a01_11eb_a716_0242ac1c0002row22_col24,#T_f9fd9da4_5a01_11eb_a716_0242ac1c0002row22_col25,#T_f9fd9da4_5a01_11eb_a716_0242ac1c0002row22_col26,#T_f9fd9da4_5a01_11eb_a716_0242ac1c0002row22_col27,#T_f9fd9da4_5a01_11eb_a716_0242ac1c0002row23_col0,#T_f9fd9da4_5a01_11eb_a716_0242ac1c0002row23_col1,#T_f9fd9da4_5a01_11eb_a716_0242ac1c0002row23_col2,#T_f9fd9da4_5a01_11eb_a716_0242ac1c0002row23_col3,#T_f9fd9da4_5a01_11eb_a716_0242ac1c0002row23_col4,#T_f9fd9da4_5a01_11eb_a716_0242ac1c0002row23_col5,#T_f9fd9da4_5a01_11eb_a716_0242ac1c0002row23_col6,#T_f9fd9da4_5a01_11eb_a716_0242ac1c0002row23_col7,#T_f9fd9da4_5a01_11eb_a716_0242ac1c0002row23_col8,#T_f9fd9da4_5a01_11eb_a716_0242ac1c0002row23_col9,#T_f9fd9da4_5a01_11eb_a716_0242ac1c0002row23_col10,#T_f9fd9da4_5a01_11eb_a716_0242ac1c0002row23_col11,#T_f9fd9da4_5a01_11eb_a716_0242ac1c0002row23_col12,#T_f9fd9da4_5a01_11eb_a716_0242ac1c0002row23_col17,#T_f9fd9da4_5a01_11eb_a716_0242ac1c0002row23_col18,#T_f9fd9da4_5a01_11eb_a716_0242ac1c0002row23_col19,#T_f9fd9da4_5a01_11eb_a716_0242ac1c0002row23_col20,#T_f9fd9da4_5a01_11eb_a716_0242ac1c0002row23_col21,#T_f9fd9da4_5a01_11eb_a716_0242ac1c0002row23_col22,#T_f9fd9da4_5a01_11eb_a716_0242ac1c0002row23_col23,#T_f9fd9da4_5a01_11eb_a716_0242ac1c0002row23_col24,#T_f9fd9da4_5a01_11eb_a716_0242ac1c0002row23_col25,#T_f9fd9da4_5a01_11eb_a716_0242ac1c0002row23_col26,#T_f9fd9da4_5a01_11eb_a716_0242ac1c0002row23_col27,#T_f9fd9da4_5a01_11eb_a716_0242ac1c0002row24_col0,#T_f9fd9da4_5a01_11eb_a716_0242ac1c0002row24_col1,#T_f9fd9da4_5a01_11eb_a716_0242ac1c0002row24_col2,#T_f9fd9da4_5a01_11eb_a716_0242ac1c0002row24_col3,#T_f9fd9da4_5a01_11eb_a716_0242ac1c0002row24_col4,#T_f9fd9da4_5a01_11eb_a716_0242ac1c0002row24_col5,#T_f9fd9da4_5a01_11eb_a716_0242ac1c0002row24_col6,#T_f9fd9da4_5a01_11eb_a716_0242ac1c0002row24_col7,#T_f9fd9da4_5a01_11eb_a716_0242ac1c0002row24_col8,#T_f9fd9da4_5a01_11eb_a716_0242ac1c0002row24_col9,#T_f9fd9da4_5a01_11eb_a716_0242ac1c0002row24_col10,#T_f9fd9da4_5a01_11eb_a716_0242ac1c0002row24_col11,#T_f9fd9da4_5a01_11eb_a716_0242ac1c0002row24_col12,#T_f9fd9da4_5a01_11eb_a716_0242ac1c0002row24_col17,#T_f9fd9da4_5a01_11eb_a716_0242ac1c0002row24_col18,#T_f9fd9da4_5a01_11eb_a716_0242ac1c0002row24_col19,#T_f9fd9da4_5a01_11eb_a716_0242ac1c0002row24_col20,#T_f9fd9da4_5a01_11eb_a716_0242ac1c0002row24_col21,#T_f9fd9da4_5a01_11eb_a716_0242ac1c0002row24_col22,#T_f9fd9da4_5a01_11eb_a716_0242ac1c0002row24_col23,#T_f9fd9da4_5a01_11eb_a716_0242ac1c0002row24_col24,#T_f9fd9da4_5a01_11eb_a716_0242ac1c0002row24_col25,#T_f9fd9da4_5a01_11eb_a716_0242ac1c0002row24_col26,#T_f9fd9da4_5a01_11eb_a716_0242ac1c0002row24_col27,#T_f9fd9da4_5a01_11eb_a716_0242ac1c0002row25_col0,#T_f9fd9da4_5a01_11eb_a716_0242ac1c0002row25_col1,#T_f9fd9da4_5a01_11eb_a716_0242ac1c0002row25_col2,#T_f9fd9da4_5a01_11eb_a716_0242ac1c0002row25_col3,#T_f9fd9da4_5a01_11eb_a716_0242ac1c0002row25_col4,#T_f9fd9da4_5a01_11eb_a716_0242ac1c0002row25_col5,#T_f9fd9da4_5a01_11eb_a716_0242ac1c0002row25_col6,#T_f9fd9da4_5a01_11eb_a716_0242ac1c0002row25_col7,#T_f9fd9da4_5a01_11eb_a716_0242ac1c0002row25_col8,#T_f9fd9da4_5a01_11eb_a716_0242ac1c0002row25_col9,#T_f9fd9da4_5a01_11eb_a716_0242ac1c0002row25_col10,#T_f9fd9da4_5a01_11eb_a716_0242ac1c0002row25_col11,#T_f9fd9da4_5a01_11eb_a716_0242ac1c0002row25_col12,#T_f9fd9da4_5a01_11eb_a716_0242ac1c0002row25_col16,#T_f9fd9da4_5a01_11eb_a716_0242ac1c0002row25_col17,#T_f9fd9da4_5a01_11eb_a716_0242ac1c0002row25_col18,#T_f9fd9da4_5a01_11eb_a716_0242ac1c0002row25_col19,#T_f9fd9da4_5a01_11eb_a716_0242ac1c0002row25_col20,#T_f9fd9da4_5a01_11eb_a716_0242ac1c0002row25_col21,#T_f9fd9da4_5a01_11eb_a716_0242ac1c0002row25_col22,#T_f9fd9da4_5a01_11eb_a716_0242ac1c0002row25_col23,#T_f9fd9da4_5a01_11eb_a716_0242ac1c0002row25_col24,#T_f9fd9da4_5a01_11eb_a716_0242ac1c0002row25_col25,#T_f9fd9da4_5a01_11eb_a716_0242ac1c0002row25_col26,#T_f9fd9da4_5a01_11eb_a716_0242ac1c0002row25_col27,#T_f9fd9da4_5a01_11eb_a716_0242ac1c0002row26_col0,#T_f9fd9da4_5a01_11eb_a716_0242ac1c0002row26_col1,#T_f9fd9da4_5a01_11eb_a716_0242ac1c0002row26_col2,#T_f9fd9da4_5a01_11eb_a716_0242ac1c0002row26_col3,#T_f9fd9da4_5a01_11eb_a716_0242ac1c0002row26_col4,#T_f9fd9da4_5a01_11eb_a716_0242ac1c0002row26_col5,#T_f9fd9da4_5a01_11eb_a716_0242ac1c0002row26_col6,#T_f9fd9da4_5a01_11eb_a716_0242ac1c0002row26_col7,#T_f9fd9da4_5a01_11eb_a716_0242ac1c0002row26_col8,#T_f9fd9da4_5a01_11eb_a716_0242ac1c0002row26_col9,#T_f9fd9da4_5a01_11eb_a716_0242ac1c0002row26_col10,#T_f9fd9da4_5a01_11eb_a716_0242ac1c0002row26_col11,#T_f9fd9da4_5a01_11eb_a716_0242ac1c0002row26_col12,#T_f9fd9da4_5a01_11eb_a716_0242ac1c0002row26_col13,#T_f9fd9da4_5a01_11eb_a716_0242ac1c0002row26_col14,#T_f9fd9da4_5a01_11eb_a716_0242ac1c0002row26_col15,#T_f9fd9da4_5a01_11eb_a716_0242ac1c0002row26_col16,#T_f9fd9da4_5a01_11eb_a716_0242ac1c0002row26_col17,#T_f9fd9da4_5a01_11eb_a716_0242ac1c0002row26_col18,#T_f9fd9da4_5a01_11eb_a716_0242ac1c0002row26_col19,#T_f9fd9da4_5a01_11eb_a716_0242ac1c0002row26_col20,#T_f9fd9da4_5a01_11eb_a716_0242ac1c0002row26_col21,#T_f9fd9da4_5a01_11eb_a716_0242ac1c0002row26_col22,#T_f9fd9da4_5a01_11eb_a716_0242ac1c0002row26_col23,#T_f9fd9da4_5a01_11eb_a716_0242ac1c0002row26_col24,#T_f9fd9da4_5a01_11eb_a716_0242ac1c0002row26_col25,#T_f9fd9da4_5a01_11eb_a716_0242ac1c0002row26_col26,#T_f9fd9da4_5a01_11eb_a716_0242ac1c0002row26_col27,#T_f9fd9da4_5a01_11eb_a716_0242ac1c0002row27_col0,#T_f9fd9da4_5a01_11eb_a716_0242ac1c0002row27_col1,#T_f9fd9da4_5a01_11eb_a716_0242ac1c0002row27_col2,#T_f9fd9da4_5a01_11eb_a716_0242ac1c0002row27_col3,#T_f9fd9da4_5a01_11eb_a716_0242ac1c0002row27_col4,#T_f9fd9da4_5a01_11eb_a716_0242ac1c0002row27_col5,#T_f9fd9da4_5a01_11eb_a716_0242ac1c0002row27_col6,#T_f9fd9da4_5a01_11eb_a716_0242ac1c0002row27_col7,#T_f9fd9da4_5a01_11eb_a716_0242ac1c0002row27_col8,#T_f9fd9da4_5a01_11eb_a716_0242ac1c0002row27_col9,#T_f9fd9da4_5a01_11eb_a716_0242ac1c0002row27_col10,#T_f9fd9da4_5a01_11eb_a716_0242ac1c0002row27_col11,#T_f9fd9da4_5a01_11eb_a716_0242ac1c0002row27_col12,#T_f9fd9da4_5a01_11eb_a716_0242ac1c0002row27_col13,#T_f9fd9da4_5a01_11eb_a716_0242ac1c0002row27_col14,#T_f9fd9da4_5a01_11eb_a716_0242ac1c0002row27_col15,#T_f9fd9da4_5a01_11eb_a716_0242ac1c0002row27_col16,#T_f9fd9da4_5a01_11eb_a716_0242ac1c0002row27_col17,#T_f9fd9da4_5a01_11eb_a716_0242ac1c0002row27_col18,#T_f9fd9da4_5a01_11eb_a716_0242ac1c0002row27_col19,#T_f9fd9da4_5a01_11eb_a716_0242ac1c0002row27_col20,#T_f9fd9da4_5a01_11eb_a716_0242ac1c0002row27_col21,#T_f9fd9da4_5a01_11eb_a716_0242ac1c0002row27_col22,#T_f9fd9da4_5a01_11eb_a716_0242ac1c0002row27_col23,#T_f9fd9da4_5a01_11eb_a716_0242ac1c0002row27_col24,#T_f9fd9da4_5a01_11eb_a716_0242ac1c0002row27_col25,#T_f9fd9da4_5a01_11eb_a716_0242ac1c0002row27_col26,#T_f9fd9da4_5a01_11eb_a716_0242ac1c0002row27_col27{\n",
              "            font_size:  6pt;\n",
              "            background-color:  #ffffff;\n",
              "            color:  #000000;\n",
              "        }#T_f9fd9da4_5a01_11eb_a716_0242ac1c0002row6_col9{\n",
              "            font_size:  6pt;\n",
              "            background-color:  #f9f9f9;\n",
              "            color:  #000000;\n",
              "        }#T_f9fd9da4_5a01_11eb_a716_0242ac1c0002row6_col10,#T_f9fd9da4_5a01_11eb_a716_0242ac1c0002row11_col16{\n",
              "            font_size:  6pt;\n",
              "            background-color:  #8d8d8d;\n",
              "            color:  #000000;\n",
              "        }#T_f9fd9da4_5a01_11eb_a716_0242ac1c0002row6_col11,#T_f9fd9da4_5a01_11eb_a716_0242ac1c0002row6_col12,#T_f9fd9da4_5a01_11eb_a716_0242ac1c0002row6_col13,#T_f9fd9da4_5a01_11eb_a716_0242ac1c0002row6_col15,#T_f9fd9da4_5a01_11eb_a716_0242ac1c0002row6_col16{\n",
              "            font_size:  6pt;\n",
              "            background-color:  #7f7f7f;\n",
              "            color:  #000000;\n",
              "        }#T_f9fd9da4_5a01_11eb_a716_0242ac1c0002row6_col14,#T_f9fd9da4_5a01_11eb_a716_0242ac1c0002row17_col13{\n",
              "            font_size:  6pt;\n",
              "            background-color:  #818181;\n",
              "            color:  #000000;\n",
              "        }#T_f9fd9da4_5a01_11eb_a716_0242ac1c0002row6_col17{\n",
              "            font_size:  6pt;\n",
              "            background-color:  #9d9d9d;\n",
              "            color:  #000000;\n",
              "        }#T_f9fd9da4_5a01_11eb_a716_0242ac1c0002row6_col18{\n",
              "            font_size:  6pt;\n",
              "            background-color:  #ebebeb;\n",
              "            color:  #000000;\n",
              "        }#T_f9fd9da4_5a01_11eb_a716_0242ac1c0002row6_col19,#T_f9fd9da4_5a01_11eb_a716_0242ac1c0002row11_col19{\n",
              "            font_size:  6pt;\n",
              "            background-color:  #fefefe;\n",
              "            color:  #000000;\n",
              "        }#T_f9fd9da4_5a01_11eb_a716_0242ac1c0002row7_col5,#T_f9fd9da4_5a01_11eb_a716_0242ac1c0002row16_col14{\n",
              "            font_size:  6pt;\n",
              "            background-color:  #bebebe;\n",
              "            color:  #000000;\n",
              "        }#T_f9fd9da4_5a01_11eb_a716_0242ac1c0002row7_col6,#T_f9fd9da4_5a01_11eb_a716_0242ac1c0002row7_col7,#T_f9fd9da4_5a01_11eb_a716_0242ac1c0002row7_col8,#T_f9fd9da4_5a01_11eb_a716_0242ac1c0002row11_col6,#T_f9fd9da4_5a01_11eb_a716_0242ac1c0002row12_col6,#T_f9fd9da4_5a01_11eb_a716_0242ac1c0002row13_col6,#T_f9fd9da4_5a01_11eb_a716_0242ac1c0002row14_col6{\n",
              "            font_size:  6pt;\n",
              "            background-color:  #575757;\n",
              "            color:  #f1f1f1;\n",
              "        }#T_f9fd9da4_5a01_11eb_a716_0242ac1c0002row7_col9{\n",
              "            font_size:  6pt;\n",
              "            background-color:  #393939;\n",
              "            color:  #f1f1f1;\n",
              "        }#T_f9fd9da4_5a01_11eb_a716_0242ac1c0002row7_col10,#T_f9fd9da4_5a01_11eb_a716_0242ac1c0002row7_col11,#T_f9fd9da4_5a01_11eb_a716_0242ac1c0002row7_col12,#T_f9fd9da4_5a01_11eb_a716_0242ac1c0002row7_col13,#T_f9fd9da4_5a01_11eb_a716_0242ac1c0002row7_col15,#T_f9fd9da4_5a01_11eb_a716_0242ac1c0002row7_col16,#T_f9fd9da4_5a01_11eb_a716_0242ac1c0002row7_col17,#T_f9fd9da4_5a01_11eb_a716_0242ac1c0002row7_col18,#T_f9fd9da4_5a01_11eb_a716_0242ac1c0002row8_col5,#T_f9fd9da4_5a01_11eb_a716_0242ac1c0002row8_col6,#T_f9fd9da4_5a01_11eb_a716_0242ac1c0002row8_col7,#T_f9fd9da4_5a01_11eb_a716_0242ac1c0002row8_col8,#T_f9fd9da4_5a01_11eb_a716_0242ac1c0002row8_col9,#T_f9fd9da4_5a01_11eb_a716_0242ac1c0002row8_col18,#T_f9fd9da4_5a01_11eb_a716_0242ac1c0002row9_col6,#T_f9fd9da4_5a01_11eb_a716_0242ac1c0002row9_col18,#T_f9fd9da4_5a01_11eb_a716_0242ac1c0002row10_col17,#T_f9fd9da4_5a01_11eb_a716_0242ac1c0002row10_col18,#T_f9fd9da4_5a01_11eb_a716_0242ac1c0002row11_col17,#T_f9fd9da4_5a01_11eb_a716_0242ac1c0002row12_col7,#T_f9fd9da4_5a01_11eb_a716_0242ac1c0002row13_col7,#T_f9fd9da4_5a01_11eb_a716_0242ac1c0002row13_col16,#T_f9fd9da4_5a01_11eb_a716_0242ac1c0002row14_col16,#T_f9fd9da4_5a01_11eb_a716_0242ac1c0002row16_col15,#T_f9fd9da4_5a01_11eb_a716_0242ac1c0002row16_col23,#T_f9fd9da4_5a01_11eb_a716_0242ac1c0002row16_col24,#T_f9fd9da4_5a01_11eb_a716_0242ac1c0002row17_col11,#T_f9fd9da4_5a01_11eb_a716_0242ac1c0002row17_col15,#T_f9fd9da4_5a01_11eb_a716_0242ac1c0002row17_col20,#T_f9fd9da4_5a01_11eb_a716_0242ac1c0002row17_col21,#T_f9fd9da4_5a01_11eb_a716_0242ac1c0002row17_col22,#T_f9fd9da4_5a01_11eb_a716_0242ac1c0002row18_col12,#T_f9fd9da4_5a01_11eb_a716_0242ac1c0002row18_col13,#T_f9fd9da4_5a01_11eb_a716_0242ac1c0002row18_col15,#T_f9fd9da4_5a01_11eb_a716_0242ac1c0002row18_col16,#T_f9fd9da4_5a01_11eb_a716_0242ac1c0002row18_col17,#T_f9fd9da4_5a01_11eb_a716_0242ac1c0002row18_col18,#T_f9fd9da4_5a01_11eb_a716_0242ac1c0002row18_col19,#T_f9fd9da4_5a01_11eb_a716_0242ac1c0002row18_col20,#T_f9fd9da4_5a01_11eb_a716_0242ac1c0002row19_col15,#T_f9fd9da4_5a01_11eb_a716_0242ac1c0002row20_col15,#T_f9fd9da4_5a01_11eb_a716_0242ac1c0002row21_col14,#T_f9fd9da4_5a01_11eb_a716_0242ac1c0002row23_col15{\n",
              "            font_size:  6pt;\n",
              "            background-color:  #000000;\n",
              "            color:  #f1f1f1;\n",
              "        }#T_f9fd9da4_5a01_11eb_a716_0242ac1c0002row7_col14,#T_f9fd9da4_5a01_11eb_a716_0242ac1c0002row8_col17,#T_f9fd9da4_5a01_11eb_a716_0242ac1c0002row18_col14,#T_f9fd9da4_5a01_11eb_a716_0242ac1c0002row19_col14,#T_f9fd9da4_5a01_11eb_a716_0242ac1c0002row20_col14,#T_f9fd9da4_5a01_11eb_a716_0242ac1c0002row22_col14,#T_f9fd9da4_5a01_11eb_a716_0242ac1c0002row23_col14,#T_f9fd9da4_5a01_11eb_a716_0242ac1c0002row24_col14{\n",
              "            font_size:  6pt;\n",
              "            background-color:  #010101;\n",
              "            color:  #f1f1f1;\n",
              "        }#T_f9fd9da4_5a01_11eb_a716_0242ac1c0002row7_col19{\n",
              "            font_size:  6pt;\n",
              "            background-color:  #e8e8e8;\n",
              "            color:  #000000;\n",
              "        }#T_f9fd9da4_5a01_11eb_a716_0242ac1c0002row8_col10{\n",
              "            font_size:  6pt;\n",
              "            background-color:  #474747;\n",
              "            color:  #f1f1f1;\n",
              "        }#T_f9fd9da4_5a01_11eb_a716_0242ac1c0002row8_col11,#T_f9fd9da4_5a01_11eb_a716_0242ac1c0002row8_col12,#T_f9fd9da4_5a01_11eb_a716_0242ac1c0002row8_col13,#T_f9fd9da4_5a01_11eb_a716_0242ac1c0002row8_col15,#T_f9fd9da4_5a01_11eb_a716_0242ac1c0002row10_col7{\n",
              "            font_size:  6pt;\n",
              "            background-color:  #878787;\n",
              "            color:  #000000;\n",
              "        }#T_f9fd9da4_5a01_11eb_a716_0242ac1c0002row8_col14{\n",
              "            font_size:  6pt;\n",
              "            background-color:  #888888;\n",
              "            color:  #000000;\n",
              "        }#T_f9fd9da4_5a01_11eb_a716_0242ac1c0002row8_col16{\n",
              "            font_size:  6pt;\n",
              "            background-color:  #4a4a4a;\n",
              "            color:  #f1f1f1;\n",
              "        }#T_f9fd9da4_5a01_11eb_a716_0242ac1c0002row8_col19,#T_f9fd9da4_5a01_11eb_a716_0242ac1c0002row21_col13{\n",
              "            font_size:  6pt;\n",
              "            background-color:  #a0a0a0;\n",
              "            color:  #000000;\n",
              "        }#T_f9fd9da4_5a01_11eb_a716_0242ac1c0002row9_col5{\n",
              "            font_size:  6pt;\n",
              "            background-color:  #949494;\n",
              "            color:  #000000;\n",
              "        }#T_f9fd9da4_5a01_11eb_a716_0242ac1c0002row9_col7,#T_f9fd9da4_5a01_11eb_a716_0242ac1c0002row17_col23{\n",
              "            font_size:  6pt;\n",
              "            background-color:  #181818;\n",
              "            color:  #f1f1f1;\n",
              "        }#T_f9fd9da4_5a01_11eb_a716_0242ac1c0002row9_col8,#T_f9fd9da4_5a01_11eb_a716_0242ac1c0002row12_col8,#T_f9fd9da4_5a01_11eb_a716_0242ac1c0002row13_col8{\n",
              "            font_size:  6pt;\n",
              "            background-color:  #b4b4b4;\n",
              "            color:  #000000;\n",
              "        }#T_f9fd9da4_5a01_11eb_a716_0242ac1c0002row9_col9,#T_f9fd9da4_5a01_11eb_a716_0242ac1c0002row19_col18{\n",
              "            font_size:  6pt;\n",
              "            background-color:  #d4d4d4;\n",
              "            color:  #000000;\n",
              "        }#T_f9fd9da4_5a01_11eb_a716_0242ac1c0002row9_col16,#T_f9fd9da4_5a01_11eb_a716_0242ac1c0002row11_col8,#T_f9fd9da4_5a01_11eb_a716_0242ac1c0002row21_col16{\n",
              "            font_size:  6pt;\n",
              "            background-color:  #fdfdfd;\n",
              "            color:  #000000;\n",
              "        }#T_f9fd9da4_5a01_11eb_a716_0242ac1c0002row9_col17{\n",
              "            font_size:  6pt;\n",
              "            background-color:  #5a5a5a;\n",
              "            color:  #f1f1f1;\n",
              "        }#T_f9fd9da4_5a01_11eb_a716_0242ac1c0002row9_col19{\n",
              "            font_size:  6pt;\n",
              "            background-color:  #b6b6b6;\n",
              "            color:  #000000;\n",
              "        }#T_f9fd9da4_5a01_11eb_a716_0242ac1c0002row10_col5{\n",
              "            font_size:  6pt;\n",
              "            background-color:  #f3f3f3;\n",
              "            color:  #000000;\n",
              "        }#T_f9fd9da4_5a01_11eb_a716_0242ac1c0002row10_col6,#T_f9fd9da4_5a01_11eb_a716_0242ac1c0002row18_col11{\n",
              "            font_size:  6pt;\n",
              "            background-color:  #1a1a1a;\n",
              "            color:  #f1f1f1;\n",
              "        }#T_f9fd9da4_5a01_11eb_a716_0242ac1c0002row10_col16{\n",
              "            font_size:  6pt;\n",
              "            background-color:  #dedede;\n",
              "            color:  #000000;\n",
              "        }#T_f9fd9da4_5a01_11eb_a716_0242ac1c0002row10_col19{\n",
              "            font_size:  6pt;\n",
              "            background-color:  #fafafa;\n",
              "            color:  #000000;\n",
              "        }#T_f9fd9da4_5a01_11eb_a716_0242ac1c0002row11_col7{\n",
              "            font_size:  6pt;\n",
              "            background-color:  #131313;\n",
              "            color:  #f1f1f1;\n",
              "        }#T_f9fd9da4_5a01_11eb_a716_0242ac1c0002row11_col18{\n",
              "            font_size:  6pt;\n",
              "            background-color:  #6b6b6b;\n",
              "            color:  #000000;\n",
              "        }#T_f9fd9da4_5a01_11eb_a716_0242ac1c0002row12_col15,#T_f9fd9da4_5a01_11eb_a716_0242ac1c0002row20_col13{\n",
              "            font_size:  6pt;\n",
              "            background-color:  #f7f7f7;\n",
              "            color:  #000000;\n",
              "        }#T_f9fd9da4_5a01_11eb_a716_0242ac1c0002row12_col16{\n",
              "            font_size:  6pt;\n",
              "            background-color:  #0e0e0e;\n",
              "            color:  #f1f1f1;\n",
              "        }#T_f9fd9da4_5a01_11eb_a716_0242ac1c0002row12_col17,#T_f9fd9da4_5a01_11eb_a716_0242ac1c0002row14_col7,#T_f9fd9da4_5a01_11eb_a716_0242ac1c0002row17_col12{\n",
              "            font_size:  6pt;\n",
              "            background-color:  #0d0d0d;\n",
              "            color:  #f1f1f1;\n",
              "        }#T_f9fd9da4_5a01_11eb_a716_0242ac1c0002row12_col18{\n",
              "            font_size:  6pt;\n",
              "            background-color:  #cacaca;\n",
              "            color:  #000000;\n",
              "        }#T_f9fd9da4_5a01_11eb_a716_0242ac1c0002row13_col15{\n",
              "            font_size:  6pt;\n",
              "            background-color:  #939393;\n",
              "            color:  #000000;\n",
              "        }#T_f9fd9da4_5a01_11eb_a716_0242ac1c0002row13_col17{\n",
              "            font_size:  6pt;\n",
              "            background-color:  #4b4b4b;\n",
              "            color:  #f1f1f1;\n",
              "        }#T_f9fd9da4_5a01_11eb_a716_0242ac1c0002row14_col8{\n",
              "            font_size:  6pt;\n",
              "            background-color:  #fbfbfb;\n",
              "            color:  #000000;\n",
              "        }#T_f9fd9da4_5a01_11eb_a716_0242ac1c0002row14_col15{\n",
              "            font_size:  6pt;\n",
              "            background-color:  #434343;\n",
              "            color:  #f1f1f1;\n",
              "        }#T_f9fd9da4_5a01_11eb_a716_0242ac1c0002row14_col17,#T_f9fd9da4_5a01_11eb_a716_0242ac1c0002row22_col16{\n",
              "            font_size:  6pt;\n",
              "            background-color:  #868686;\n",
              "            color:  #000000;\n",
              "        }#T_f9fd9da4_5a01_11eb_a716_0242ac1c0002row15_col6{\n",
              "            font_size:  6pt;\n",
              "            background-color:  #828282;\n",
              "            color:  #000000;\n",
              "        }#T_f9fd9da4_5a01_11eb_a716_0242ac1c0002row15_col7{\n",
              "            font_size:  6pt;\n",
              "            background-color:  #aaaaaa;\n",
              "            color:  #000000;\n",
              "        }#T_f9fd9da4_5a01_11eb_a716_0242ac1c0002row15_col10,#T_f9fd9da4_5a01_11eb_a716_0242ac1c0002row19_col19{\n",
              "            font_size:  6pt;\n",
              "            background-color:  #e4e4e4;\n",
              "            color:  #000000;\n",
              "        }#T_f9fd9da4_5a01_11eb_a716_0242ac1c0002row15_col11{\n",
              "            font_size:  6pt;\n",
              "            background-color:  #f5f5f5;\n",
              "            color:  #000000;\n",
              "        }#T_f9fd9da4_5a01_11eb_a716_0242ac1c0002row15_col14,#T_f9fd9da4_5a01_11eb_a716_0242ac1c0002row15_col24{\n",
              "            font_size:  6pt;\n",
              "            background-color:  #eeeeee;\n",
              "            color:  #000000;\n",
              "        }#T_f9fd9da4_5a01_11eb_a716_0242ac1c0002row15_col15{\n",
              "            font_size:  6pt;\n",
              "            background-color:  #161616;\n",
              "            color:  #f1f1f1;\n",
              "        }#T_f9fd9da4_5a01_11eb_a716_0242ac1c0002row15_col16{\n",
              "            font_size:  6pt;\n",
              "            background-color:  #2c2c2c;\n",
              "            color:  #f1f1f1;\n",
              "        }#T_f9fd9da4_5a01_11eb_a716_0242ac1c0002row15_col17{\n",
              "            font_size:  6pt;\n",
              "            background-color:  #f0f0f0;\n",
              "            color:  #000000;\n",
              "        }#T_f9fd9da4_5a01_11eb_a716_0242ac1c0002row15_col22{\n",
              "            font_size:  6pt;\n",
              "            background-color:  #fcfcfc;\n",
              "            color:  #000000;\n",
              "        }#T_f9fd9da4_5a01_11eb_a716_0242ac1c0002row15_col23{\n",
              "            font_size:  6pt;\n",
              "            background-color:  #dfdfdf;\n",
              "            color:  #000000;\n",
              "        }#T_f9fd9da4_5a01_11eb_a716_0242ac1c0002row16_col9{\n",
              "            font_size:  6pt;\n",
              "            background-color:  #d8d8d8;\n",
              "            color:  #000000;\n",
              "        }#T_f9fd9da4_5a01_11eb_a716_0242ac1c0002row16_col10{\n",
              "            font_size:  6pt;\n",
              "            background-color:  #060606;\n",
              "            color:  #f1f1f1;\n",
              "        }#T_f9fd9da4_5a01_11eb_a716_0242ac1c0002row16_col11{\n",
              "            font_size:  6pt;\n",
              "            background-color:  #272727;\n",
              "            color:  #f1f1f1;\n",
              "        }#T_f9fd9da4_5a01_11eb_a716_0242ac1c0002row16_col12{\n",
              "            font_size:  6pt;\n",
              "            background-color:  #e5e5e5;\n",
              "            color:  #000000;\n",
              "        }#T_f9fd9da4_5a01_11eb_a716_0242ac1c0002row16_col16{\n",
              "            font_size:  6pt;\n",
              "            background-color:  #999999;\n",
              "            color:  #000000;\n",
              "        }#T_f9fd9da4_5a01_11eb_a716_0242ac1c0002row16_col21{\n",
              "            font_size:  6pt;\n",
              "            background-color:  #cccccc;\n",
              "            color:  #000000;\n",
              "        }#T_f9fd9da4_5a01_11eb_a716_0242ac1c0002row16_col22{\n",
              "            font_size:  6pt;\n",
              "            background-color:  #a5a5a5;\n",
              "            color:  #000000;\n",
              "        }#T_f9fd9da4_5a01_11eb_a716_0242ac1c0002row17_col9{\n",
              "            font_size:  6pt;\n",
              "            background-color:  #cfcfcf;\n",
              "            color:  #000000;\n",
              "        }#T_f9fd9da4_5a01_11eb_a716_0242ac1c0002row17_col10{\n",
              "            font_size:  6pt;\n",
              "            background-color:  #020202;\n",
              "            color:  #f1f1f1;\n",
              "        }#T_f9fd9da4_5a01_11eb_a716_0242ac1c0002row17_col14{\n",
              "            font_size:  6pt;\n",
              "            background-color:  #070707;\n",
              "            color:  #f1f1f1;\n",
              "        }#T_f9fd9da4_5a01_11eb_a716_0242ac1c0002row17_col16,#T_f9fd9da4_5a01_11eb_a716_0242ac1c0002row21_col15{\n",
              "            font_size:  6pt;\n",
              "            background-color:  #515151;\n",
              "            color:  #f1f1f1;\n",
              "        }#T_f9fd9da4_5a01_11eb_a716_0242ac1c0002row17_col17{\n",
              "            font_size:  6pt;\n",
              "            background-color:  #929292;\n",
              "            color:  #000000;\n",
              "        }#T_f9fd9da4_5a01_11eb_a716_0242ac1c0002row17_col18,#T_f9fd9da4_5a01_11eb_a716_0242ac1c0002row23_col16{\n",
              "            font_size:  6pt;\n",
              "            background-color:  #292929;\n",
              "            color:  #f1f1f1;\n",
              "        }#T_f9fd9da4_5a01_11eb_a716_0242ac1c0002row17_col19{\n",
              "            font_size:  6pt;\n",
              "            background-color:  #111111;\n",
              "            color:  #f1f1f1;\n",
              "        }#T_f9fd9da4_5a01_11eb_a716_0242ac1c0002row17_col24{\n",
              "            font_size:  6pt;\n",
              "            background-color:  #e2e2e2;\n",
              "            color:  #000000;\n",
              "        }#T_f9fd9da4_5a01_11eb_a716_0242ac1c0002row18_col10{\n",
              "            font_size:  6pt;\n",
              "            background-color:  #626262;\n",
              "            color:  #f1f1f1;\n",
              "        }#T_f9fd9da4_5a01_11eb_a716_0242ac1c0002row18_col21{\n",
              "            font_size:  6pt;\n",
              "            background-color:  #7b7b7b;\n",
              "            color:  #000000;\n",
              "        }#T_f9fd9da4_5a01_11eb_a716_0242ac1c0002row18_col22,#T_f9fd9da4_5a01_11eb_a716_0242ac1c0002row25_col14{\n",
              "            font_size:  6pt;\n",
              "            background-color:  #cdcdcd;\n",
              "            color:  #000000;\n",
              "        }#T_f9fd9da4_5a01_11eb_a716_0242ac1c0002row19_col11{\n",
              "            font_size:  6pt;\n",
              "            background-color:  #f1f1f1;\n",
              "            color:  #000000;\n",
              "        }#T_f9fd9da4_5a01_11eb_a716_0242ac1c0002row19_col12{\n",
              "            font_size:  6pt;\n",
              "            background-color:  #919191;\n",
              "            color:  #000000;\n",
              "        }#T_f9fd9da4_5a01_11eb_a716_0242ac1c0002row19_col13{\n",
              "            font_size:  6pt;\n",
              "            background-color:  #6e6e6e;\n",
              "            color:  #000000;\n",
              "        }#T_f9fd9da4_5a01_11eb_a716_0242ac1c0002row19_col16{\n",
              "            font_size:  6pt;\n",
              "            background-color:  #3f3f3f;\n",
              "            color:  #f1f1f1;\n",
              "        }#T_f9fd9da4_5a01_11eb_a716_0242ac1c0002row19_col17{\n",
              "            font_size:  6pt;\n",
              "            background-color:  #767676;\n",
              "            color:  #000000;\n",
              "        }#T_f9fd9da4_5a01_11eb_a716_0242ac1c0002row19_col20{\n",
              "            font_size:  6pt;\n",
              "            background-color:  #ececec;\n",
              "            color:  #000000;\n",
              "        }#T_f9fd9da4_5a01_11eb_a716_0242ac1c0002row20_col16{\n",
              "            font_size:  6pt;\n",
              "            background-color:  #f6f6f6;\n",
              "            color:  #000000;\n",
              "        }#T_f9fd9da4_5a01_11eb_a716_0242ac1c0002row22_col13,#T_f9fd9da4_5a01_11eb_a716_0242ac1c0002row23_col13,#T_f9fd9da4_5a01_11eb_a716_0242ac1c0002row24_col13{\n",
              "            font_size:  6pt;\n",
              "            background-color:  #171717;\n",
              "            color:  #f1f1f1;\n",
              "        }#T_f9fd9da4_5a01_11eb_a716_0242ac1c0002row22_col15{\n",
              "            font_size:  6pt;\n",
              "            background-color:  #464646;\n",
              "            color:  #f1f1f1;\n",
              "        }#T_f9fd9da4_5a01_11eb_a716_0242ac1c0002row24_col15{\n",
              "            font_size:  6pt;\n",
              "            background-color:  #1d1d1d;\n",
              "            color:  #f1f1f1;\n",
              "        }#T_f9fd9da4_5a01_11eb_a716_0242ac1c0002row24_col16{\n",
              "            font_size:  6pt;\n",
              "            background-color:  #e7e7e7;\n",
              "            color:  #000000;\n",
              "        }#T_f9fd9da4_5a01_11eb_a716_0242ac1c0002row25_col13{\n",
              "            font_size:  6pt;\n",
              "            background-color:  #c4c4c4;\n",
              "            color:  #000000;\n",
              "        }#T_f9fd9da4_5a01_11eb_a716_0242ac1c0002row25_col15{\n",
              "            font_size:  6pt;\n",
              "            background-color:  #f4f4f4;\n",
              "            color:  #000000;\n",
              "        }</style><table id=\"T_f9fd9da4_5a01_11eb_a716_0242ac1c0002\" ><thead>    <tr>        <th class=\"blank level0\" ></th>        <th class=\"col_heading level0 col0\" >0</th>        <th class=\"col_heading level0 col1\" >1</th>        <th class=\"col_heading level0 col2\" >2</th>        <th class=\"col_heading level0 col3\" >3</th>        <th class=\"col_heading level0 col4\" >4</th>        <th class=\"col_heading level0 col5\" >5</th>        <th class=\"col_heading level0 col6\" >6</th>        <th class=\"col_heading level0 col7\" >7</th>        <th class=\"col_heading level0 col8\" >8</th>        <th class=\"col_heading level0 col9\" >9</th>        <th class=\"col_heading level0 col10\" >10</th>        <th class=\"col_heading level0 col11\" >11</th>        <th class=\"col_heading level0 col12\" >12</th>        <th class=\"col_heading level0 col13\" >13</th>        <th class=\"col_heading level0 col14\" >14</th>        <th class=\"col_heading level0 col15\" >15</th>        <th class=\"col_heading level0 col16\" >16</th>        <th class=\"col_heading level0 col17\" >17</th>        <th class=\"col_heading level0 col18\" >18</th>        <th class=\"col_heading level0 col19\" >19</th>        <th class=\"col_heading level0 col20\" >20</th>        <th class=\"col_heading level0 col21\" >21</th>        <th class=\"col_heading level0 col22\" >22</th>        <th class=\"col_heading level0 col23\" >23</th>        <th class=\"col_heading level0 col24\" >24</th>        <th class=\"col_heading level0 col25\" >25</th>        <th class=\"col_heading level0 col26\" >26</th>        <th class=\"col_heading level0 col27\" >27</th>    </tr></thead><tbody>\n",
              "                <tr>\n",
              "                        <th id=\"T_f9fd9da4_5a01_11eb_a716_0242ac1c0002level0_row0\" class=\"row_heading level0 row0\" >0</th>\n",
              "                        <td id=\"T_f9fd9da4_5a01_11eb_a716_0242ac1c0002row0_col0\" class=\"data row0 col0\" >0</td>\n",
              "                        <td id=\"T_f9fd9da4_5a01_11eb_a716_0242ac1c0002row0_col1\" class=\"data row0 col1\" >0</td>\n",
              "                        <td id=\"T_f9fd9da4_5a01_11eb_a716_0242ac1c0002row0_col2\" class=\"data row0 col2\" >0</td>\n",
              "                        <td id=\"T_f9fd9da4_5a01_11eb_a716_0242ac1c0002row0_col3\" class=\"data row0 col3\" >0</td>\n",
              "                        <td id=\"T_f9fd9da4_5a01_11eb_a716_0242ac1c0002row0_col4\" class=\"data row0 col4\" >0</td>\n",
              "                        <td id=\"T_f9fd9da4_5a01_11eb_a716_0242ac1c0002row0_col5\" class=\"data row0 col5\" >0</td>\n",
              "                        <td id=\"T_f9fd9da4_5a01_11eb_a716_0242ac1c0002row0_col6\" class=\"data row0 col6\" >0</td>\n",
              "                        <td id=\"T_f9fd9da4_5a01_11eb_a716_0242ac1c0002row0_col7\" class=\"data row0 col7\" >0</td>\n",
              "                        <td id=\"T_f9fd9da4_5a01_11eb_a716_0242ac1c0002row0_col8\" class=\"data row0 col8\" >0</td>\n",
              "                        <td id=\"T_f9fd9da4_5a01_11eb_a716_0242ac1c0002row0_col9\" class=\"data row0 col9\" >0</td>\n",
              "                        <td id=\"T_f9fd9da4_5a01_11eb_a716_0242ac1c0002row0_col10\" class=\"data row0 col10\" >0</td>\n",
              "                        <td id=\"T_f9fd9da4_5a01_11eb_a716_0242ac1c0002row0_col11\" class=\"data row0 col11\" >0</td>\n",
              "                        <td id=\"T_f9fd9da4_5a01_11eb_a716_0242ac1c0002row0_col12\" class=\"data row0 col12\" >0</td>\n",
              "                        <td id=\"T_f9fd9da4_5a01_11eb_a716_0242ac1c0002row0_col13\" class=\"data row0 col13\" >0</td>\n",
              "                        <td id=\"T_f9fd9da4_5a01_11eb_a716_0242ac1c0002row0_col14\" class=\"data row0 col14\" >0</td>\n",
              "                        <td id=\"T_f9fd9da4_5a01_11eb_a716_0242ac1c0002row0_col15\" class=\"data row0 col15\" >0</td>\n",
              "                        <td id=\"T_f9fd9da4_5a01_11eb_a716_0242ac1c0002row0_col16\" class=\"data row0 col16\" >0</td>\n",
              "                        <td id=\"T_f9fd9da4_5a01_11eb_a716_0242ac1c0002row0_col17\" class=\"data row0 col17\" >0</td>\n",
              "                        <td id=\"T_f9fd9da4_5a01_11eb_a716_0242ac1c0002row0_col18\" class=\"data row0 col18\" >0</td>\n",
              "                        <td id=\"T_f9fd9da4_5a01_11eb_a716_0242ac1c0002row0_col19\" class=\"data row0 col19\" >0</td>\n",
              "                        <td id=\"T_f9fd9da4_5a01_11eb_a716_0242ac1c0002row0_col20\" class=\"data row0 col20\" >0</td>\n",
              "                        <td id=\"T_f9fd9da4_5a01_11eb_a716_0242ac1c0002row0_col21\" class=\"data row0 col21\" >0</td>\n",
              "                        <td id=\"T_f9fd9da4_5a01_11eb_a716_0242ac1c0002row0_col22\" class=\"data row0 col22\" >0</td>\n",
              "                        <td id=\"T_f9fd9da4_5a01_11eb_a716_0242ac1c0002row0_col23\" class=\"data row0 col23\" >0</td>\n",
              "                        <td id=\"T_f9fd9da4_5a01_11eb_a716_0242ac1c0002row0_col24\" class=\"data row0 col24\" >0</td>\n",
              "                        <td id=\"T_f9fd9da4_5a01_11eb_a716_0242ac1c0002row0_col25\" class=\"data row0 col25\" >0</td>\n",
              "                        <td id=\"T_f9fd9da4_5a01_11eb_a716_0242ac1c0002row0_col26\" class=\"data row0 col26\" >0</td>\n",
              "                        <td id=\"T_f9fd9da4_5a01_11eb_a716_0242ac1c0002row0_col27\" class=\"data row0 col27\" >0</td>\n",
              "            </tr>\n",
              "            <tr>\n",
              "                        <th id=\"T_f9fd9da4_5a01_11eb_a716_0242ac1c0002level0_row1\" class=\"row_heading level0 row1\" >1</th>\n",
              "                        <td id=\"T_f9fd9da4_5a01_11eb_a716_0242ac1c0002row1_col0\" class=\"data row1 col0\" >0</td>\n",
              "                        <td id=\"T_f9fd9da4_5a01_11eb_a716_0242ac1c0002row1_col1\" class=\"data row1 col1\" >0</td>\n",
              "                        <td id=\"T_f9fd9da4_5a01_11eb_a716_0242ac1c0002row1_col2\" class=\"data row1 col2\" >0</td>\n",
              "                        <td id=\"T_f9fd9da4_5a01_11eb_a716_0242ac1c0002row1_col3\" class=\"data row1 col3\" >0</td>\n",
              "                        <td id=\"T_f9fd9da4_5a01_11eb_a716_0242ac1c0002row1_col4\" class=\"data row1 col4\" >0</td>\n",
              "                        <td id=\"T_f9fd9da4_5a01_11eb_a716_0242ac1c0002row1_col5\" class=\"data row1 col5\" >0</td>\n",
              "                        <td id=\"T_f9fd9da4_5a01_11eb_a716_0242ac1c0002row1_col6\" class=\"data row1 col6\" >0</td>\n",
              "                        <td id=\"T_f9fd9da4_5a01_11eb_a716_0242ac1c0002row1_col7\" class=\"data row1 col7\" >0</td>\n",
              "                        <td id=\"T_f9fd9da4_5a01_11eb_a716_0242ac1c0002row1_col8\" class=\"data row1 col8\" >0</td>\n",
              "                        <td id=\"T_f9fd9da4_5a01_11eb_a716_0242ac1c0002row1_col9\" class=\"data row1 col9\" >0</td>\n",
              "                        <td id=\"T_f9fd9da4_5a01_11eb_a716_0242ac1c0002row1_col10\" class=\"data row1 col10\" >0</td>\n",
              "                        <td id=\"T_f9fd9da4_5a01_11eb_a716_0242ac1c0002row1_col11\" class=\"data row1 col11\" >0</td>\n",
              "                        <td id=\"T_f9fd9da4_5a01_11eb_a716_0242ac1c0002row1_col12\" class=\"data row1 col12\" >0</td>\n",
              "                        <td id=\"T_f9fd9da4_5a01_11eb_a716_0242ac1c0002row1_col13\" class=\"data row1 col13\" >0</td>\n",
              "                        <td id=\"T_f9fd9da4_5a01_11eb_a716_0242ac1c0002row1_col14\" class=\"data row1 col14\" >0</td>\n",
              "                        <td id=\"T_f9fd9da4_5a01_11eb_a716_0242ac1c0002row1_col15\" class=\"data row1 col15\" >0</td>\n",
              "                        <td id=\"T_f9fd9da4_5a01_11eb_a716_0242ac1c0002row1_col16\" class=\"data row1 col16\" >0</td>\n",
              "                        <td id=\"T_f9fd9da4_5a01_11eb_a716_0242ac1c0002row1_col17\" class=\"data row1 col17\" >0</td>\n",
              "                        <td id=\"T_f9fd9da4_5a01_11eb_a716_0242ac1c0002row1_col18\" class=\"data row1 col18\" >0</td>\n",
              "                        <td id=\"T_f9fd9da4_5a01_11eb_a716_0242ac1c0002row1_col19\" class=\"data row1 col19\" >0</td>\n",
              "                        <td id=\"T_f9fd9da4_5a01_11eb_a716_0242ac1c0002row1_col20\" class=\"data row1 col20\" >0</td>\n",
              "                        <td id=\"T_f9fd9da4_5a01_11eb_a716_0242ac1c0002row1_col21\" class=\"data row1 col21\" >0</td>\n",
              "                        <td id=\"T_f9fd9da4_5a01_11eb_a716_0242ac1c0002row1_col22\" class=\"data row1 col22\" >0</td>\n",
              "                        <td id=\"T_f9fd9da4_5a01_11eb_a716_0242ac1c0002row1_col23\" class=\"data row1 col23\" >0</td>\n",
              "                        <td id=\"T_f9fd9da4_5a01_11eb_a716_0242ac1c0002row1_col24\" class=\"data row1 col24\" >0</td>\n",
              "                        <td id=\"T_f9fd9da4_5a01_11eb_a716_0242ac1c0002row1_col25\" class=\"data row1 col25\" >0</td>\n",
              "                        <td id=\"T_f9fd9da4_5a01_11eb_a716_0242ac1c0002row1_col26\" class=\"data row1 col26\" >0</td>\n",
              "                        <td id=\"T_f9fd9da4_5a01_11eb_a716_0242ac1c0002row1_col27\" class=\"data row1 col27\" >0</td>\n",
              "            </tr>\n",
              "            <tr>\n",
              "                        <th id=\"T_f9fd9da4_5a01_11eb_a716_0242ac1c0002level0_row2\" class=\"row_heading level0 row2\" >2</th>\n",
              "                        <td id=\"T_f9fd9da4_5a01_11eb_a716_0242ac1c0002row2_col0\" class=\"data row2 col0\" >0</td>\n",
              "                        <td id=\"T_f9fd9da4_5a01_11eb_a716_0242ac1c0002row2_col1\" class=\"data row2 col1\" >0</td>\n",
              "                        <td id=\"T_f9fd9da4_5a01_11eb_a716_0242ac1c0002row2_col2\" class=\"data row2 col2\" >0</td>\n",
              "                        <td id=\"T_f9fd9da4_5a01_11eb_a716_0242ac1c0002row2_col3\" class=\"data row2 col3\" >0</td>\n",
              "                        <td id=\"T_f9fd9da4_5a01_11eb_a716_0242ac1c0002row2_col4\" class=\"data row2 col4\" >0</td>\n",
              "                        <td id=\"T_f9fd9da4_5a01_11eb_a716_0242ac1c0002row2_col5\" class=\"data row2 col5\" >0</td>\n",
              "                        <td id=\"T_f9fd9da4_5a01_11eb_a716_0242ac1c0002row2_col6\" class=\"data row2 col6\" >0</td>\n",
              "                        <td id=\"T_f9fd9da4_5a01_11eb_a716_0242ac1c0002row2_col7\" class=\"data row2 col7\" >0</td>\n",
              "                        <td id=\"T_f9fd9da4_5a01_11eb_a716_0242ac1c0002row2_col8\" class=\"data row2 col8\" >0</td>\n",
              "                        <td id=\"T_f9fd9da4_5a01_11eb_a716_0242ac1c0002row2_col9\" class=\"data row2 col9\" >0</td>\n",
              "                        <td id=\"T_f9fd9da4_5a01_11eb_a716_0242ac1c0002row2_col10\" class=\"data row2 col10\" >0</td>\n",
              "                        <td id=\"T_f9fd9da4_5a01_11eb_a716_0242ac1c0002row2_col11\" class=\"data row2 col11\" >0</td>\n",
              "                        <td id=\"T_f9fd9da4_5a01_11eb_a716_0242ac1c0002row2_col12\" class=\"data row2 col12\" >0</td>\n",
              "                        <td id=\"T_f9fd9da4_5a01_11eb_a716_0242ac1c0002row2_col13\" class=\"data row2 col13\" >0</td>\n",
              "                        <td id=\"T_f9fd9da4_5a01_11eb_a716_0242ac1c0002row2_col14\" class=\"data row2 col14\" >0</td>\n",
              "                        <td id=\"T_f9fd9da4_5a01_11eb_a716_0242ac1c0002row2_col15\" class=\"data row2 col15\" >0</td>\n",
              "                        <td id=\"T_f9fd9da4_5a01_11eb_a716_0242ac1c0002row2_col16\" class=\"data row2 col16\" >0</td>\n",
              "                        <td id=\"T_f9fd9da4_5a01_11eb_a716_0242ac1c0002row2_col17\" class=\"data row2 col17\" >0</td>\n",
              "                        <td id=\"T_f9fd9da4_5a01_11eb_a716_0242ac1c0002row2_col18\" class=\"data row2 col18\" >0</td>\n",
              "                        <td id=\"T_f9fd9da4_5a01_11eb_a716_0242ac1c0002row2_col19\" class=\"data row2 col19\" >0</td>\n",
              "                        <td id=\"T_f9fd9da4_5a01_11eb_a716_0242ac1c0002row2_col20\" class=\"data row2 col20\" >0</td>\n",
              "                        <td id=\"T_f9fd9da4_5a01_11eb_a716_0242ac1c0002row2_col21\" class=\"data row2 col21\" >0</td>\n",
              "                        <td id=\"T_f9fd9da4_5a01_11eb_a716_0242ac1c0002row2_col22\" class=\"data row2 col22\" >0</td>\n",
              "                        <td id=\"T_f9fd9da4_5a01_11eb_a716_0242ac1c0002row2_col23\" class=\"data row2 col23\" >0</td>\n",
              "                        <td id=\"T_f9fd9da4_5a01_11eb_a716_0242ac1c0002row2_col24\" class=\"data row2 col24\" >0</td>\n",
              "                        <td id=\"T_f9fd9da4_5a01_11eb_a716_0242ac1c0002row2_col25\" class=\"data row2 col25\" >0</td>\n",
              "                        <td id=\"T_f9fd9da4_5a01_11eb_a716_0242ac1c0002row2_col26\" class=\"data row2 col26\" >0</td>\n",
              "                        <td id=\"T_f9fd9da4_5a01_11eb_a716_0242ac1c0002row2_col27\" class=\"data row2 col27\" >0</td>\n",
              "            </tr>\n",
              "            <tr>\n",
              "                        <th id=\"T_f9fd9da4_5a01_11eb_a716_0242ac1c0002level0_row3\" class=\"row_heading level0 row3\" >3</th>\n",
              "                        <td id=\"T_f9fd9da4_5a01_11eb_a716_0242ac1c0002row3_col0\" class=\"data row3 col0\" >0</td>\n",
              "                        <td id=\"T_f9fd9da4_5a01_11eb_a716_0242ac1c0002row3_col1\" class=\"data row3 col1\" >0</td>\n",
              "                        <td id=\"T_f9fd9da4_5a01_11eb_a716_0242ac1c0002row3_col2\" class=\"data row3 col2\" >0</td>\n",
              "                        <td id=\"T_f9fd9da4_5a01_11eb_a716_0242ac1c0002row3_col3\" class=\"data row3 col3\" >0</td>\n",
              "                        <td id=\"T_f9fd9da4_5a01_11eb_a716_0242ac1c0002row3_col4\" class=\"data row3 col4\" >0</td>\n",
              "                        <td id=\"T_f9fd9da4_5a01_11eb_a716_0242ac1c0002row3_col5\" class=\"data row3 col5\" >0</td>\n",
              "                        <td id=\"T_f9fd9da4_5a01_11eb_a716_0242ac1c0002row3_col6\" class=\"data row3 col6\" >0</td>\n",
              "                        <td id=\"T_f9fd9da4_5a01_11eb_a716_0242ac1c0002row3_col7\" class=\"data row3 col7\" >0</td>\n",
              "                        <td id=\"T_f9fd9da4_5a01_11eb_a716_0242ac1c0002row3_col8\" class=\"data row3 col8\" >0</td>\n",
              "                        <td id=\"T_f9fd9da4_5a01_11eb_a716_0242ac1c0002row3_col9\" class=\"data row3 col9\" >0</td>\n",
              "                        <td id=\"T_f9fd9da4_5a01_11eb_a716_0242ac1c0002row3_col10\" class=\"data row3 col10\" >0</td>\n",
              "                        <td id=\"T_f9fd9da4_5a01_11eb_a716_0242ac1c0002row3_col11\" class=\"data row3 col11\" >0</td>\n",
              "                        <td id=\"T_f9fd9da4_5a01_11eb_a716_0242ac1c0002row3_col12\" class=\"data row3 col12\" >0</td>\n",
              "                        <td id=\"T_f9fd9da4_5a01_11eb_a716_0242ac1c0002row3_col13\" class=\"data row3 col13\" >0</td>\n",
              "                        <td id=\"T_f9fd9da4_5a01_11eb_a716_0242ac1c0002row3_col14\" class=\"data row3 col14\" >0</td>\n",
              "                        <td id=\"T_f9fd9da4_5a01_11eb_a716_0242ac1c0002row3_col15\" class=\"data row3 col15\" >0</td>\n",
              "                        <td id=\"T_f9fd9da4_5a01_11eb_a716_0242ac1c0002row3_col16\" class=\"data row3 col16\" >0</td>\n",
              "                        <td id=\"T_f9fd9da4_5a01_11eb_a716_0242ac1c0002row3_col17\" class=\"data row3 col17\" >0</td>\n",
              "                        <td id=\"T_f9fd9da4_5a01_11eb_a716_0242ac1c0002row3_col18\" class=\"data row3 col18\" >0</td>\n",
              "                        <td id=\"T_f9fd9da4_5a01_11eb_a716_0242ac1c0002row3_col19\" class=\"data row3 col19\" >0</td>\n",
              "                        <td id=\"T_f9fd9da4_5a01_11eb_a716_0242ac1c0002row3_col20\" class=\"data row3 col20\" >0</td>\n",
              "                        <td id=\"T_f9fd9da4_5a01_11eb_a716_0242ac1c0002row3_col21\" class=\"data row3 col21\" >0</td>\n",
              "                        <td id=\"T_f9fd9da4_5a01_11eb_a716_0242ac1c0002row3_col22\" class=\"data row3 col22\" >0</td>\n",
              "                        <td id=\"T_f9fd9da4_5a01_11eb_a716_0242ac1c0002row3_col23\" class=\"data row3 col23\" >0</td>\n",
              "                        <td id=\"T_f9fd9da4_5a01_11eb_a716_0242ac1c0002row3_col24\" class=\"data row3 col24\" >0</td>\n",
              "                        <td id=\"T_f9fd9da4_5a01_11eb_a716_0242ac1c0002row3_col25\" class=\"data row3 col25\" >0</td>\n",
              "                        <td id=\"T_f9fd9da4_5a01_11eb_a716_0242ac1c0002row3_col26\" class=\"data row3 col26\" >0</td>\n",
              "                        <td id=\"T_f9fd9da4_5a01_11eb_a716_0242ac1c0002row3_col27\" class=\"data row3 col27\" >0</td>\n",
              "            </tr>\n",
              "            <tr>\n",
              "                        <th id=\"T_f9fd9da4_5a01_11eb_a716_0242ac1c0002level0_row4\" class=\"row_heading level0 row4\" >4</th>\n",
              "                        <td id=\"T_f9fd9da4_5a01_11eb_a716_0242ac1c0002row4_col0\" class=\"data row4 col0\" >0</td>\n",
              "                        <td id=\"T_f9fd9da4_5a01_11eb_a716_0242ac1c0002row4_col1\" class=\"data row4 col1\" >0</td>\n",
              "                        <td id=\"T_f9fd9da4_5a01_11eb_a716_0242ac1c0002row4_col2\" class=\"data row4 col2\" >0</td>\n",
              "                        <td id=\"T_f9fd9da4_5a01_11eb_a716_0242ac1c0002row4_col3\" class=\"data row4 col3\" >0</td>\n",
              "                        <td id=\"T_f9fd9da4_5a01_11eb_a716_0242ac1c0002row4_col4\" class=\"data row4 col4\" >0</td>\n",
              "                        <td id=\"T_f9fd9da4_5a01_11eb_a716_0242ac1c0002row4_col5\" class=\"data row4 col5\" >0</td>\n",
              "                        <td id=\"T_f9fd9da4_5a01_11eb_a716_0242ac1c0002row4_col6\" class=\"data row4 col6\" >0</td>\n",
              "                        <td id=\"T_f9fd9da4_5a01_11eb_a716_0242ac1c0002row4_col7\" class=\"data row4 col7\" >0</td>\n",
              "                        <td id=\"T_f9fd9da4_5a01_11eb_a716_0242ac1c0002row4_col8\" class=\"data row4 col8\" >0</td>\n",
              "                        <td id=\"T_f9fd9da4_5a01_11eb_a716_0242ac1c0002row4_col9\" class=\"data row4 col9\" >0</td>\n",
              "                        <td id=\"T_f9fd9da4_5a01_11eb_a716_0242ac1c0002row4_col10\" class=\"data row4 col10\" >0</td>\n",
              "                        <td id=\"T_f9fd9da4_5a01_11eb_a716_0242ac1c0002row4_col11\" class=\"data row4 col11\" >0</td>\n",
              "                        <td id=\"T_f9fd9da4_5a01_11eb_a716_0242ac1c0002row4_col12\" class=\"data row4 col12\" >0</td>\n",
              "                        <td id=\"T_f9fd9da4_5a01_11eb_a716_0242ac1c0002row4_col13\" class=\"data row4 col13\" >0</td>\n",
              "                        <td id=\"T_f9fd9da4_5a01_11eb_a716_0242ac1c0002row4_col14\" class=\"data row4 col14\" >0</td>\n",
              "                        <td id=\"T_f9fd9da4_5a01_11eb_a716_0242ac1c0002row4_col15\" class=\"data row4 col15\" >0</td>\n",
              "                        <td id=\"T_f9fd9da4_5a01_11eb_a716_0242ac1c0002row4_col16\" class=\"data row4 col16\" >0</td>\n",
              "                        <td id=\"T_f9fd9da4_5a01_11eb_a716_0242ac1c0002row4_col17\" class=\"data row4 col17\" >0</td>\n",
              "                        <td id=\"T_f9fd9da4_5a01_11eb_a716_0242ac1c0002row4_col18\" class=\"data row4 col18\" >0</td>\n",
              "                        <td id=\"T_f9fd9da4_5a01_11eb_a716_0242ac1c0002row4_col19\" class=\"data row4 col19\" >0</td>\n",
              "                        <td id=\"T_f9fd9da4_5a01_11eb_a716_0242ac1c0002row4_col20\" class=\"data row4 col20\" >0</td>\n",
              "                        <td id=\"T_f9fd9da4_5a01_11eb_a716_0242ac1c0002row4_col21\" class=\"data row4 col21\" >0</td>\n",
              "                        <td id=\"T_f9fd9da4_5a01_11eb_a716_0242ac1c0002row4_col22\" class=\"data row4 col22\" >0</td>\n",
              "                        <td id=\"T_f9fd9da4_5a01_11eb_a716_0242ac1c0002row4_col23\" class=\"data row4 col23\" >0</td>\n",
              "                        <td id=\"T_f9fd9da4_5a01_11eb_a716_0242ac1c0002row4_col24\" class=\"data row4 col24\" >0</td>\n",
              "                        <td id=\"T_f9fd9da4_5a01_11eb_a716_0242ac1c0002row4_col25\" class=\"data row4 col25\" >0</td>\n",
              "                        <td id=\"T_f9fd9da4_5a01_11eb_a716_0242ac1c0002row4_col26\" class=\"data row4 col26\" >0</td>\n",
              "                        <td id=\"T_f9fd9da4_5a01_11eb_a716_0242ac1c0002row4_col27\" class=\"data row4 col27\" >0</td>\n",
              "            </tr>\n",
              "            <tr>\n",
              "                        <th id=\"T_f9fd9da4_5a01_11eb_a716_0242ac1c0002level0_row5\" class=\"row_heading level0 row5\" >5</th>\n",
              "                        <td id=\"T_f9fd9da4_5a01_11eb_a716_0242ac1c0002row5_col0\" class=\"data row5 col0\" >0</td>\n",
              "                        <td id=\"T_f9fd9da4_5a01_11eb_a716_0242ac1c0002row5_col1\" class=\"data row5 col1\" >0</td>\n",
              "                        <td id=\"T_f9fd9da4_5a01_11eb_a716_0242ac1c0002row5_col2\" class=\"data row5 col2\" >0</td>\n",
              "                        <td id=\"T_f9fd9da4_5a01_11eb_a716_0242ac1c0002row5_col3\" class=\"data row5 col3\" >0</td>\n",
              "                        <td id=\"T_f9fd9da4_5a01_11eb_a716_0242ac1c0002row5_col4\" class=\"data row5 col4\" >0</td>\n",
              "                        <td id=\"T_f9fd9da4_5a01_11eb_a716_0242ac1c0002row5_col5\" class=\"data row5 col5\" >0</td>\n",
              "                        <td id=\"T_f9fd9da4_5a01_11eb_a716_0242ac1c0002row5_col6\" class=\"data row5 col6\" >0</td>\n",
              "                        <td id=\"T_f9fd9da4_5a01_11eb_a716_0242ac1c0002row5_col7\" class=\"data row5 col7\" >0</td>\n",
              "                        <td id=\"T_f9fd9da4_5a01_11eb_a716_0242ac1c0002row5_col8\" class=\"data row5 col8\" >0</td>\n",
              "                        <td id=\"T_f9fd9da4_5a01_11eb_a716_0242ac1c0002row5_col9\" class=\"data row5 col9\" >0</td>\n",
              "                        <td id=\"T_f9fd9da4_5a01_11eb_a716_0242ac1c0002row5_col10\" class=\"data row5 col10\" >0</td>\n",
              "                        <td id=\"T_f9fd9da4_5a01_11eb_a716_0242ac1c0002row5_col11\" class=\"data row5 col11\" >0</td>\n",
              "                        <td id=\"T_f9fd9da4_5a01_11eb_a716_0242ac1c0002row5_col12\" class=\"data row5 col12\" >0</td>\n",
              "                        <td id=\"T_f9fd9da4_5a01_11eb_a716_0242ac1c0002row5_col13\" class=\"data row5 col13\" >0</td>\n",
              "                        <td id=\"T_f9fd9da4_5a01_11eb_a716_0242ac1c0002row5_col14\" class=\"data row5 col14\" >0</td>\n",
              "                        <td id=\"T_f9fd9da4_5a01_11eb_a716_0242ac1c0002row5_col15\" class=\"data row5 col15\" >0</td>\n",
              "                        <td id=\"T_f9fd9da4_5a01_11eb_a716_0242ac1c0002row5_col16\" class=\"data row5 col16\" >0</td>\n",
              "                        <td id=\"T_f9fd9da4_5a01_11eb_a716_0242ac1c0002row5_col17\" class=\"data row5 col17\" >0</td>\n",
              "                        <td id=\"T_f9fd9da4_5a01_11eb_a716_0242ac1c0002row5_col18\" class=\"data row5 col18\" >0</td>\n",
              "                        <td id=\"T_f9fd9da4_5a01_11eb_a716_0242ac1c0002row5_col19\" class=\"data row5 col19\" >0</td>\n",
              "                        <td id=\"T_f9fd9da4_5a01_11eb_a716_0242ac1c0002row5_col20\" class=\"data row5 col20\" >0</td>\n",
              "                        <td id=\"T_f9fd9da4_5a01_11eb_a716_0242ac1c0002row5_col21\" class=\"data row5 col21\" >0</td>\n",
              "                        <td id=\"T_f9fd9da4_5a01_11eb_a716_0242ac1c0002row5_col22\" class=\"data row5 col22\" >0</td>\n",
              "                        <td id=\"T_f9fd9da4_5a01_11eb_a716_0242ac1c0002row5_col23\" class=\"data row5 col23\" >0</td>\n",
              "                        <td id=\"T_f9fd9da4_5a01_11eb_a716_0242ac1c0002row5_col24\" class=\"data row5 col24\" >0</td>\n",
              "                        <td id=\"T_f9fd9da4_5a01_11eb_a716_0242ac1c0002row5_col25\" class=\"data row5 col25\" >0</td>\n",
              "                        <td id=\"T_f9fd9da4_5a01_11eb_a716_0242ac1c0002row5_col26\" class=\"data row5 col26\" >0</td>\n",
              "                        <td id=\"T_f9fd9da4_5a01_11eb_a716_0242ac1c0002row5_col27\" class=\"data row5 col27\" >0</td>\n",
              "            </tr>\n",
              "            <tr>\n",
              "                        <th id=\"T_f9fd9da4_5a01_11eb_a716_0242ac1c0002level0_row6\" class=\"row_heading level0 row6\" >6</th>\n",
              "                        <td id=\"T_f9fd9da4_5a01_11eb_a716_0242ac1c0002row6_col0\" class=\"data row6 col0\" >0</td>\n",
              "                        <td id=\"T_f9fd9da4_5a01_11eb_a716_0242ac1c0002row6_col1\" class=\"data row6 col1\" >0</td>\n",
              "                        <td id=\"T_f9fd9da4_5a01_11eb_a716_0242ac1c0002row6_col2\" class=\"data row6 col2\" >0</td>\n",
              "                        <td id=\"T_f9fd9da4_5a01_11eb_a716_0242ac1c0002row6_col3\" class=\"data row6 col3\" >0</td>\n",
              "                        <td id=\"T_f9fd9da4_5a01_11eb_a716_0242ac1c0002row6_col4\" class=\"data row6 col4\" >0</td>\n",
              "                        <td id=\"T_f9fd9da4_5a01_11eb_a716_0242ac1c0002row6_col5\" class=\"data row6 col5\" >0</td>\n",
              "                        <td id=\"T_f9fd9da4_5a01_11eb_a716_0242ac1c0002row6_col6\" class=\"data row6 col6\" >0</td>\n",
              "                        <td id=\"T_f9fd9da4_5a01_11eb_a716_0242ac1c0002row6_col7\" class=\"data row6 col7\" >0</td>\n",
              "                        <td id=\"T_f9fd9da4_5a01_11eb_a716_0242ac1c0002row6_col8\" class=\"data row6 col8\" >0</td>\n",
              "                        <td id=\"T_f9fd9da4_5a01_11eb_a716_0242ac1c0002row6_col9\" class=\"data row6 col9\" >13</td>\n",
              "                        <td id=\"T_f9fd9da4_5a01_11eb_a716_0242ac1c0002row6_col10\" class=\"data row6 col10\" >135</td>\n",
              "                        <td id=\"T_f9fd9da4_5a01_11eb_a716_0242ac1c0002row6_col11\" class=\"data row6 col11\" >147</td>\n",
              "                        <td id=\"T_f9fd9da4_5a01_11eb_a716_0242ac1c0002row6_col12\" class=\"data row6 col12\" >147</td>\n",
              "                        <td id=\"T_f9fd9da4_5a01_11eb_a716_0242ac1c0002row6_col13\" class=\"data row6 col13\" >147</td>\n",
              "                        <td id=\"T_f9fd9da4_5a01_11eb_a716_0242ac1c0002row6_col14\" class=\"data row6 col14\" >147</td>\n",
              "                        <td id=\"T_f9fd9da4_5a01_11eb_a716_0242ac1c0002row6_col15\" class=\"data row6 col15\" >147</td>\n",
              "                        <td id=\"T_f9fd9da4_5a01_11eb_a716_0242ac1c0002row6_col16\" class=\"data row6 col16\" >147</td>\n",
              "                        <td id=\"T_f9fd9da4_5a01_11eb_a716_0242ac1c0002row6_col17\" class=\"data row6 col17\" >122</td>\n",
              "                        <td id=\"T_f9fd9da4_5a01_11eb_a716_0242ac1c0002row6_col18\" class=\"data row6 col18\" >39</td>\n",
              "                        <td id=\"T_f9fd9da4_5a01_11eb_a716_0242ac1c0002row6_col19\" class=\"data row6 col19\" >2</td>\n",
              "                        <td id=\"T_f9fd9da4_5a01_11eb_a716_0242ac1c0002row6_col20\" class=\"data row6 col20\" >0</td>\n",
              "                        <td id=\"T_f9fd9da4_5a01_11eb_a716_0242ac1c0002row6_col21\" class=\"data row6 col21\" >0</td>\n",
              "                        <td id=\"T_f9fd9da4_5a01_11eb_a716_0242ac1c0002row6_col22\" class=\"data row6 col22\" >0</td>\n",
              "                        <td id=\"T_f9fd9da4_5a01_11eb_a716_0242ac1c0002row6_col23\" class=\"data row6 col23\" >0</td>\n",
              "                        <td id=\"T_f9fd9da4_5a01_11eb_a716_0242ac1c0002row6_col24\" class=\"data row6 col24\" >0</td>\n",
              "                        <td id=\"T_f9fd9da4_5a01_11eb_a716_0242ac1c0002row6_col25\" class=\"data row6 col25\" >0</td>\n",
              "                        <td id=\"T_f9fd9da4_5a01_11eb_a716_0242ac1c0002row6_col26\" class=\"data row6 col26\" >0</td>\n",
              "                        <td id=\"T_f9fd9da4_5a01_11eb_a716_0242ac1c0002row6_col27\" class=\"data row6 col27\" >0</td>\n",
              "            </tr>\n",
              "            <tr>\n",
              "                        <th id=\"T_f9fd9da4_5a01_11eb_a716_0242ac1c0002level0_row7\" class=\"row_heading level0 row7\" >7</th>\n",
              "                        <td id=\"T_f9fd9da4_5a01_11eb_a716_0242ac1c0002row7_col0\" class=\"data row7 col0\" >0</td>\n",
              "                        <td id=\"T_f9fd9da4_5a01_11eb_a716_0242ac1c0002row7_col1\" class=\"data row7 col1\" >0</td>\n",
              "                        <td id=\"T_f9fd9da4_5a01_11eb_a716_0242ac1c0002row7_col2\" class=\"data row7 col2\" >0</td>\n",
              "                        <td id=\"T_f9fd9da4_5a01_11eb_a716_0242ac1c0002row7_col3\" class=\"data row7 col3\" >0</td>\n",
              "                        <td id=\"T_f9fd9da4_5a01_11eb_a716_0242ac1c0002row7_col4\" class=\"data row7 col4\" >0</td>\n",
              "                        <td id=\"T_f9fd9da4_5a01_11eb_a716_0242ac1c0002row7_col5\" class=\"data row7 col5\" >93</td>\n",
              "                        <td id=\"T_f9fd9da4_5a01_11eb_a716_0242ac1c0002row7_col6\" class=\"data row7 col6\" >185</td>\n",
              "                        <td id=\"T_f9fd9da4_5a01_11eb_a716_0242ac1c0002row7_col7\" class=\"data row7 col7\" >185</td>\n",
              "                        <td id=\"T_f9fd9da4_5a01_11eb_a716_0242ac1c0002row7_col8\" class=\"data row7 col8\" >185</td>\n",
              "                        <td id=\"T_f9fd9da4_5a01_11eb_a716_0242ac1c0002row7_col9\" class=\"data row7 col9\" >207</td>\n",
              "                        <td id=\"T_f9fd9da4_5a01_11eb_a716_0242ac1c0002row7_col10\" class=\"data row7 col10\" >254</td>\n",
              "                        <td id=\"T_f9fd9da4_5a01_11eb_a716_0242ac1c0002row7_col11\" class=\"data row7 col11\" >254</td>\n",
              "                        <td id=\"T_f9fd9da4_5a01_11eb_a716_0242ac1c0002row7_col12\" class=\"data row7 col12\" >254</td>\n",
              "                        <td id=\"T_f9fd9da4_5a01_11eb_a716_0242ac1c0002row7_col13\" class=\"data row7 col13\" >254</td>\n",
              "                        <td id=\"T_f9fd9da4_5a01_11eb_a716_0242ac1c0002row7_col14\" class=\"data row7 col14\" >254</td>\n",
              "                        <td id=\"T_f9fd9da4_5a01_11eb_a716_0242ac1c0002row7_col15\" class=\"data row7 col15\" >254</td>\n",
              "                        <td id=\"T_f9fd9da4_5a01_11eb_a716_0242ac1c0002row7_col16\" class=\"data row7 col16\" >254</td>\n",
              "                        <td id=\"T_f9fd9da4_5a01_11eb_a716_0242ac1c0002row7_col17\" class=\"data row7 col17\" >254</td>\n",
              "                        <td id=\"T_f9fd9da4_5a01_11eb_a716_0242ac1c0002row7_col18\" class=\"data row7 col18\" >254</td>\n",
              "                        <td id=\"T_f9fd9da4_5a01_11eb_a716_0242ac1c0002row7_col19\" class=\"data row7 col19\" >43</td>\n",
              "                        <td id=\"T_f9fd9da4_5a01_11eb_a716_0242ac1c0002row7_col20\" class=\"data row7 col20\" >0</td>\n",
              "                        <td id=\"T_f9fd9da4_5a01_11eb_a716_0242ac1c0002row7_col21\" class=\"data row7 col21\" >0</td>\n",
              "                        <td id=\"T_f9fd9da4_5a01_11eb_a716_0242ac1c0002row7_col22\" class=\"data row7 col22\" >0</td>\n",
              "                        <td id=\"T_f9fd9da4_5a01_11eb_a716_0242ac1c0002row7_col23\" class=\"data row7 col23\" >0</td>\n",
              "                        <td id=\"T_f9fd9da4_5a01_11eb_a716_0242ac1c0002row7_col24\" class=\"data row7 col24\" >0</td>\n",
              "                        <td id=\"T_f9fd9da4_5a01_11eb_a716_0242ac1c0002row7_col25\" class=\"data row7 col25\" >0</td>\n",
              "                        <td id=\"T_f9fd9da4_5a01_11eb_a716_0242ac1c0002row7_col26\" class=\"data row7 col26\" >0</td>\n",
              "                        <td id=\"T_f9fd9da4_5a01_11eb_a716_0242ac1c0002row7_col27\" class=\"data row7 col27\" >0</td>\n",
              "            </tr>\n",
              "            <tr>\n",
              "                        <th id=\"T_f9fd9da4_5a01_11eb_a716_0242ac1c0002level0_row8\" class=\"row_heading level0 row8\" >8</th>\n",
              "                        <td id=\"T_f9fd9da4_5a01_11eb_a716_0242ac1c0002row8_col0\" class=\"data row8 col0\" >0</td>\n",
              "                        <td id=\"T_f9fd9da4_5a01_11eb_a716_0242ac1c0002row8_col1\" class=\"data row8 col1\" >0</td>\n",
              "                        <td id=\"T_f9fd9da4_5a01_11eb_a716_0242ac1c0002row8_col2\" class=\"data row8 col2\" >0</td>\n",
              "                        <td id=\"T_f9fd9da4_5a01_11eb_a716_0242ac1c0002row8_col3\" class=\"data row8 col3\" >0</td>\n",
              "                        <td id=\"T_f9fd9da4_5a01_11eb_a716_0242ac1c0002row8_col4\" class=\"data row8 col4\" >0</td>\n",
              "                        <td id=\"T_f9fd9da4_5a01_11eb_a716_0242ac1c0002row8_col5\" class=\"data row8 col5\" >253</td>\n",
              "                        <td id=\"T_f9fd9da4_5a01_11eb_a716_0242ac1c0002row8_col6\" class=\"data row8 col6\" >254</td>\n",
              "                        <td id=\"T_f9fd9da4_5a01_11eb_a716_0242ac1c0002row8_col7\" class=\"data row8 col7\" >254</td>\n",
              "                        <td id=\"T_f9fd9da4_5a01_11eb_a716_0242ac1c0002row8_col8\" class=\"data row8 col8\" >254</td>\n",
              "                        <td id=\"T_f9fd9da4_5a01_11eb_a716_0242ac1c0002row8_col9\" class=\"data row8 col9\" >253</td>\n",
              "                        <td id=\"T_f9fd9da4_5a01_11eb_a716_0242ac1c0002row8_col10\" class=\"data row8 col10\" >198</td>\n",
              "                        <td id=\"T_f9fd9da4_5a01_11eb_a716_0242ac1c0002row8_col11\" class=\"data row8 col11\" >140</td>\n",
              "                        <td id=\"T_f9fd9da4_5a01_11eb_a716_0242ac1c0002row8_col12\" class=\"data row8 col12\" >140</td>\n",
              "                        <td id=\"T_f9fd9da4_5a01_11eb_a716_0242ac1c0002row8_col13\" class=\"data row8 col13\" >140</td>\n",
              "                        <td id=\"T_f9fd9da4_5a01_11eb_a716_0242ac1c0002row8_col14\" class=\"data row8 col14\" >140</td>\n",
              "                        <td id=\"T_f9fd9da4_5a01_11eb_a716_0242ac1c0002row8_col15\" class=\"data row8 col15\" >140</td>\n",
              "                        <td id=\"T_f9fd9da4_5a01_11eb_a716_0242ac1c0002row8_col16\" class=\"data row8 col16\" >196</td>\n",
              "                        <td id=\"T_f9fd9da4_5a01_11eb_a716_0242ac1c0002row8_col17\" class=\"data row8 col17\" >253</td>\n",
              "                        <td id=\"T_f9fd9da4_5a01_11eb_a716_0242ac1c0002row8_col18\" class=\"data row8 col18\" >254</td>\n",
              "                        <td id=\"T_f9fd9da4_5a01_11eb_a716_0242ac1c0002row8_col19\" class=\"data row8 col19\" >119</td>\n",
              "                        <td id=\"T_f9fd9da4_5a01_11eb_a716_0242ac1c0002row8_col20\" class=\"data row8 col20\" >0</td>\n",
              "                        <td id=\"T_f9fd9da4_5a01_11eb_a716_0242ac1c0002row8_col21\" class=\"data row8 col21\" >0</td>\n",
              "                        <td id=\"T_f9fd9da4_5a01_11eb_a716_0242ac1c0002row8_col22\" class=\"data row8 col22\" >0</td>\n",
              "                        <td id=\"T_f9fd9da4_5a01_11eb_a716_0242ac1c0002row8_col23\" class=\"data row8 col23\" >0</td>\n",
              "                        <td id=\"T_f9fd9da4_5a01_11eb_a716_0242ac1c0002row8_col24\" class=\"data row8 col24\" >0</td>\n",
              "                        <td id=\"T_f9fd9da4_5a01_11eb_a716_0242ac1c0002row8_col25\" class=\"data row8 col25\" >0</td>\n",
              "                        <td id=\"T_f9fd9da4_5a01_11eb_a716_0242ac1c0002row8_col26\" class=\"data row8 col26\" >0</td>\n",
              "                        <td id=\"T_f9fd9da4_5a01_11eb_a716_0242ac1c0002row8_col27\" class=\"data row8 col27\" >0</td>\n",
              "            </tr>\n",
              "            <tr>\n",
              "                        <th id=\"T_f9fd9da4_5a01_11eb_a716_0242ac1c0002level0_row9\" class=\"row_heading level0 row9\" >9</th>\n",
              "                        <td id=\"T_f9fd9da4_5a01_11eb_a716_0242ac1c0002row9_col0\" class=\"data row9 col0\" >0</td>\n",
              "                        <td id=\"T_f9fd9da4_5a01_11eb_a716_0242ac1c0002row9_col1\" class=\"data row9 col1\" >0</td>\n",
              "                        <td id=\"T_f9fd9da4_5a01_11eb_a716_0242ac1c0002row9_col2\" class=\"data row9 col2\" >0</td>\n",
              "                        <td id=\"T_f9fd9da4_5a01_11eb_a716_0242ac1c0002row9_col3\" class=\"data row9 col3\" >0</td>\n",
              "                        <td id=\"T_f9fd9da4_5a01_11eb_a716_0242ac1c0002row9_col4\" class=\"data row9 col4\" >0</td>\n",
              "                        <td id=\"T_f9fd9da4_5a01_11eb_a716_0242ac1c0002row9_col5\" class=\"data row9 col5\" >128</td>\n",
              "                        <td id=\"T_f9fd9da4_5a01_11eb_a716_0242ac1c0002row9_col6\" class=\"data row9 col6\" >254</td>\n",
              "                        <td id=\"T_f9fd9da4_5a01_11eb_a716_0242ac1c0002row9_col7\" class=\"data row9 col7\" >233</td>\n",
              "                        <td id=\"T_f9fd9da4_5a01_11eb_a716_0242ac1c0002row9_col8\" class=\"data row9 col8\" >103</td>\n",
              "                        <td id=\"T_f9fd9da4_5a01_11eb_a716_0242ac1c0002row9_col9\" class=\"data row9 col9\" >70</td>\n",
              "                        <td id=\"T_f9fd9da4_5a01_11eb_a716_0242ac1c0002row9_col10\" class=\"data row9 col10\" >0</td>\n",
              "                        <td id=\"T_f9fd9da4_5a01_11eb_a716_0242ac1c0002row9_col11\" class=\"data row9 col11\" >0</td>\n",
              "                        <td id=\"T_f9fd9da4_5a01_11eb_a716_0242ac1c0002row9_col12\" class=\"data row9 col12\" >0</td>\n",
              "                        <td id=\"T_f9fd9da4_5a01_11eb_a716_0242ac1c0002row9_col13\" class=\"data row9 col13\" >0</td>\n",
              "                        <td id=\"T_f9fd9da4_5a01_11eb_a716_0242ac1c0002row9_col14\" class=\"data row9 col14\" >0</td>\n",
              "                        <td id=\"T_f9fd9da4_5a01_11eb_a716_0242ac1c0002row9_col15\" class=\"data row9 col15\" >0</td>\n",
              "                        <td id=\"T_f9fd9da4_5a01_11eb_a716_0242ac1c0002row9_col16\" class=\"data row9 col16\" >4</td>\n",
              "                        <td id=\"T_f9fd9da4_5a01_11eb_a716_0242ac1c0002row9_col17\" class=\"data row9 col17\" >183</td>\n",
              "                        <td id=\"T_f9fd9da4_5a01_11eb_a716_0242ac1c0002row9_col18\" class=\"data row9 col18\" >254</td>\n",
              "                        <td id=\"T_f9fd9da4_5a01_11eb_a716_0242ac1c0002row9_col19\" class=\"data row9 col19\" >101</td>\n",
              "                        <td id=\"T_f9fd9da4_5a01_11eb_a716_0242ac1c0002row9_col20\" class=\"data row9 col20\" >0</td>\n",
              "                        <td id=\"T_f9fd9da4_5a01_11eb_a716_0242ac1c0002row9_col21\" class=\"data row9 col21\" >0</td>\n",
              "                        <td id=\"T_f9fd9da4_5a01_11eb_a716_0242ac1c0002row9_col22\" class=\"data row9 col22\" >0</td>\n",
              "                        <td id=\"T_f9fd9da4_5a01_11eb_a716_0242ac1c0002row9_col23\" class=\"data row9 col23\" >0</td>\n",
              "                        <td id=\"T_f9fd9da4_5a01_11eb_a716_0242ac1c0002row9_col24\" class=\"data row9 col24\" >0</td>\n",
              "                        <td id=\"T_f9fd9da4_5a01_11eb_a716_0242ac1c0002row9_col25\" class=\"data row9 col25\" >0</td>\n",
              "                        <td id=\"T_f9fd9da4_5a01_11eb_a716_0242ac1c0002row9_col26\" class=\"data row9 col26\" >0</td>\n",
              "                        <td id=\"T_f9fd9da4_5a01_11eb_a716_0242ac1c0002row9_col27\" class=\"data row9 col27\" >0</td>\n",
              "            </tr>\n",
              "            <tr>\n",
              "                        <th id=\"T_f9fd9da4_5a01_11eb_a716_0242ac1c0002level0_row10\" class=\"row_heading level0 row10\" >10</th>\n",
              "                        <td id=\"T_f9fd9da4_5a01_11eb_a716_0242ac1c0002row10_col0\" class=\"data row10 col0\" >0</td>\n",
              "                        <td id=\"T_f9fd9da4_5a01_11eb_a716_0242ac1c0002row10_col1\" class=\"data row10 col1\" >0</td>\n",
              "                        <td id=\"T_f9fd9da4_5a01_11eb_a716_0242ac1c0002row10_col2\" class=\"data row10 col2\" >0</td>\n",
              "                        <td id=\"T_f9fd9da4_5a01_11eb_a716_0242ac1c0002row10_col3\" class=\"data row10 col3\" >0</td>\n",
              "                        <td id=\"T_f9fd9da4_5a01_11eb_a716_0242ac1c0002row10_col4\" class=\"data row10 col4\" >0</td>\n",
              "                        <td id=\"T_f9fd9da4_5a01_11eb_a716_0242ac1c0002row10_col5\" class=\"data row10 col5\" >26</td>\n",
              "                        <td id=\"T_f9fd9da4_5a01_11eb_a716_0242ac1c0002row10_col6\" class=\"data row10 col6\" >232</td>\n",
              "                        <td id=\"T_f9fd9da4_5a01_11eb_a716_0242ac1c0002row10_col7\" class=\"data row10 col7\" >140</td>\n",
              "                        <td id=\"T_f9fd9da4_5a01_11eb_a716_0242ac1c0002row10_col8\" class=\"data row10 col8\" >0</td>\n",
              "                        <td id=\"T_f9fd9da4_5a01_11eb_a716_0242ac1c0002row10_col9\" class=\"data row10 col9\" >0</td>\n",
              "                        <td id=\"T_f9fd9da4_5a01_11eb_a716_0242ac1c0002row10_col10\" class=\"data row10 col10\" >0</td>\n",
              "                        <td id=\"T_f9fd9da4_5a01_11eb_a716_0242ac1c0002row10_col11\" class=\"data row10 col11\" >0</td>\n",
              "                        <td id=\"T_f9fd9da4_5a01_11eb_a716_0242ac1c0002row10_col12\" class=\"data row10 col12\" >0</td>\n",
              "                        <td id=\"T_f9fd9da4_5a01_11eb_a716_0242ac1c0002row10_col13\" class=\"data row10 col13\" >0</td>\n",
              "                        <td id=\"T_f9fd9da4_5a01_11eb_a716_0242ac1c0002row10_col14\" class=\"data row10 col14\" >0</td>\n",
              "                        <td id=\"T_f9fd9da4_5a01_11eb_a716_0242ac1c0002row10_col15\" class=\"data row10 col15\" >0</td>\n",
              "                        <td id=\"T_f9fd9da4_5a01_11eb_a716_0242ac1c0002row10_col16\" class=\"data row10 col16\" >57</td>\n",
              "                        <td id=\"T_f9fd9da4_5a01_11eb_a716_0242ac1c0002row10_col17\" class=\"data row10 col17\" >254</td>\n",
              "                        <td id=\"T_f9fd9da4_5a01_11eb_a716_0242ac1c0002row10_col18\" class=\"data row10 col18\" >254</td>\n",
              "                        <td id=\"T_f9fd9da4_5a01_11eb_a716_0242ac1c0002row10_col19\" class=\"data row10 col19\" >10</td>\n",
              "                        <td id=\"T_f9fd9da4_5a01_11eb_a716_0242ac1c0002row10_col20\" class=\"data row10 col20\" >0</td>\n",
              "                        <td id=\"T_f9fd9da4_5a01_11eb_a716_0242ac1c0002row10_col21\" class=\"data row10 col21\" >0</td>\n",
              "                        <td id=\"T_f9fd9da4_5a01_11eb_a716_0242ac1c0002row10_col22\" class=\"data row10 col22\" >0</td>\n",
              "                        <td id=\"T_f9fd9da4_5a01_11eb_a716_0242ac1c0002row10_col23\" class=\"data row10 col23\" >0</td>\n",
              "                        <td id=\"T_f9fd9da4_5a01_11eb_a716_0242ac1c0002row10_col24\" class=\"data row10 col24\" >0</td>\n",
              "                        <td id=\"T_f9fd9da4_5a01_11eb_a716_0242ac1c0002row10_col25\" class=\"data row10 col25\" >0</td>\n",
              "                        <td id=\"T_f9fd9da4_5a01_11eb_a716_0242ac1c0002row10_col26\" class=\"data row10 col26\" >0</td>\n",
              "                        <td id=\"T_f9fd9da4_5a01_11eb_a716_0242ac1c0002row10_col27\" class=\"data row10 col27\" >0</td>\n",
              "            </tr>\n",
              "            <tr>\n",
              "                        <th id=\"T_f9fd9da4_5a01_11eb_a716_0242ac1c0002level0_row11\" class=\"row_heading level0 row11\" >11</th>\n",
              "                        <td id=\"T_f9fd9da4_5a01_11eb_a716_0242ac1c0002row11_col0\" class=\"data row11 col0\" >0</td>\n",
              "                        <td id=\"T_f9fd9da4_5a01_11eb_a716_0242ac1c0002row11_col1\" class=\"data row11 col1\" >0</td>\n",
              "                        <td id=\"T_f9fd9da4_5a01_11eb_a716_0242ac1c0002row11_col2\" class=\"data row11 col2\" >0</td>\n",
              "                        <td id=\"T_f9fd9da4_5a01_11eb_a716_0242ac1c0002row11_col3\" class=\"data row11 col3\" >0</td>\n",
              "                        <td id=\"T_f9fd9da4_5a01_11eb_a716_0242ac1c0002row11_col4\" class=\"data row11 col4\" >0</td>\n",
              "                        <td id=\"T_f9fd9da4_5a01_11eb_a716_0242ac1c0002row11_col5\" class=\"data row11 col5\" >0</td>\n",
              "                        <td id=\"T_f9fd9da4_5a01_11eb_a716_0242ac1c0002row11_col6\" class=\"data row11 col6\" >185</td>\n",
              "                        <td id=\"T_f9fd9da4_5a01_11eb_a716_0242ac1c0002row11_col7\" class=\"data row11 col7\" >238</td>\n",
              "                        <td id=\"T_f9fd9da4_5a01_11eb_a716_0242ac1c0002row11_col8\" class=\"data row11 col8\" >5</td>\n",
              "                        <td id=\"T_f9fd9da4_5a01_11eb_a716_0242ac1c0002row11_col9\" class=\"data row11 col9\" >0</td>\n",
              "                        <td id=\"T_f9fd9da4_5a01_11eb_a716_0242ac1c0002row11_col10\" class=\"data row11 col10\" >0</td>\n",
              "                        <td id=\"T_f9fd9da4_5a01_11eb_a716_0242ac1c0002row11_col11\" class=\"data row11 col11\" >0</td>\n",
              "                        <td id=\"T_f9fd9da4_5a01_11eb_a716_0242ac1c0002row11_col12\" class=\"data row11 col12\" >0</td>\n",
              "                        <td id=\"T_f9fd9da4_5a01_11eb_a716_0242ac1c0002row11_col13\" class=\"data row11 col13\" >0</td>\n",
              "                        <td id=\"T_f9fd9da4_5a01_11eb_a716_0242ac1c0002row11_col14\" class=\"data row11 col14\" >0</td>\n",
              "                        <td id=\"T_f9fd9da4_5a01_11eb_a716_0242ac1c0002row11_col15\" class=\"data row11 col15\" >0</td>\n",
              "                        <td id=\"T_f9fd9da4_5a01_11eb_a716_0242ac1c0002row11_col16\" class=\"data row11 col16\" >135</td>\n",
              "                        <td id=\"T_f9fd9da4_5a01_11eb_a716_0242ac1c0002row11_col17\" class=\"data row11 col17\" >254</td>\n",
              "                        <td id=\"T_f9fd9da4_5a01_11eb_a716_0242ac1c0002row11_col18\" class=\"data row11 col18\" >166</td>\n",
              "                        <td id=\"T_f9fd9da4_5a01_11eb_a716_0242ac1c0002row11_col19\" class=\"data row11 col19\" >2</td>\n",
              "                        <td id=\"T_f9fd9da4_5a01_11eb_a716_0242ac1c0002row11_col20\" class=\"data row11 col20\" >0</td>\n",
              "                        <td id=\"T_f9fd9da4_5a01_11eb_a716_0242ac1c0002row11_col21\" class=\"data row11 col21\" >0</td>\n",
              "                        <td id=\"T_f9fd9da4_5a01_11eb_a716_0242ac1c0002row11_col22\" class=\"data row11 col22\" >0</td>\n",
              "                        <td id=\"T_f9fd9da4_5a01_11eb_a716_0242ac1c0002row11_col23\" class=\"data row11 col23\" >0</td>\n",
              "                        <td id=\"T_f9fd9da4_5a01_11eb_a716_0242ac1c0002row11_col24\" class=\"data row11 col24\" >0</td>\n",
              "                        <td id=\"T_f9fd9da4_5a01_11eb_a716_0242ac1c0002row11_col25\" class=\"data row11 col25\" >0</td>\n",
              "                        <td id=\"T_f9fd9da4_5a01_11eb_a716_0242ac1c0002row11_col26\" class=\"data row11 col26\" >0</td>\n",
              "                        <td id=\"T_f9fd9da4_5a01_11eb_a716_0242ac1c0002row11_col27\" class=\"data row11 col27\" >0</td>\n",
              "            </tr>\n",
              "            <tr>\n",
              "                        <th id=\"T_f9fd9da4_5a01_11eb_a716_0242ac1c0002level0_row12\" class=\"row_heading level0 row12\" >12</th>\n",
              "                        <td id=\"T_f9fd9da4_5a01_11eb_a716_0242ac1c0002row12_col0\" class=\"data row12 col0\" >0</td>\n",
              "                        <td id=\"T_f9fd9da4_5a01_11eb_a716_0242ac1c0002row12_col1\" class=\"data row12 col1\" >0</td>\n",
              "                        <td id=\"T_f9fd9da4_5a01_11eb_a716_0242ac1c0002row12_col2\" class=\"data row12 col2\" >0</td>\n",
              "                        <td id=\"T_f9fd9da4_5a01_11eb_a716_0242ac1c0002row12_col3\" class=\"data row12 col3\" >0</td>\n",
              "                        <td id=\"T_f9fd9da4_5a01_11eb_a716_0242ac1c0002row12_col4\" class=\"data row12 col4\" >0</td>\n",
              "                        <td id=\"T_f9fd9da4_5a01_11eb_a716_0242ac1c0002row12_col5\" class=\"data row12 col5\" >0</td>\n",
              "                        <td id=\"T_f9fd9da4_5a01_11eb_a716_0242ac1c0002row12_col6\" class=\"data row12 col6\" >185</td>\n",
              "                        <td id=\"T_f9fd9da4_5a01_11eb_a716_0242ac1c0002row12_col7\" class=\"data row12 col7\" >254</td>\n",
              "                        <td id=\"T_f9fd9da4_5a01_11eb_a716_0242ac1c0002row12_col8\" class=\"data row12 col8\" >103</td>\n",
              "                        <td id=\"T_f9fd9da4_5a01_11eb_a716_0242ac1c0002row12_col9\" class=\"data row12 col9\" >0</td>\n",
              "                        <td id=\"T_f9fd9da4_5a01_11eb_a716_0242ac1c0002row12_col10\" class=\"data row12 col10\" >0</td>\n",
              "                        <td id=\"T_f9fd9da4_5a01_11eb_a716_0242ac1c0002row12_col11\" class=\"data row12 col11\" >0</td>\n",
              "                        <td id=\"T_f9fd9da4_5a01_11eb_a716_0242ac1c0002row12_col12\" class=\"data row12 col12\" >0</td>\n",
              "                        <td id=\"T_f9fd9da4_5a01_11eb_a716_0242ac1c0002row12_col13\" class=\"data row12 col13\" >0</td>\n",
              "                        <td id=\"T_f9fd9da4_5a01_11eb_a716_0242ac1c0002row12_col14\" class=\"data row12 col14\" >0</td>\n",
              "                        <td id=\"T_f9fd9da4_5a01_11eb_a716_0242ac1c0002row12_col15\" class=\"data row12 col15\" >18</td>\n",
              "                        <td id=\"T_f9fd9da4_5a01_11eb_a716_0242ac1c0002row12_col16\" class=\"data row12 col16\" >242</td>\n",
              "                        <td id=\"T_f9fd9da4_5a01_11eb_a716_0242ac1c0002row12_col17\" class=\"data row12 col17\" >243</td>\n",
              "                        <td id=\"T_f9fd9da4_5a01_11eb_a716_0242ac1c0002row12_col18\" class=\"data row12 col18\" >81</td>\n",
              "                        <td id=\"T_f9fd9da4_5a01_11eb_a716_0242ac1c0002row12_col19\" class=\"data row12 col19\" >0</td>\n",
              "                        <td id=\"T_f9fd9da4_5a01_11eb_a716_0242ac1c0002row12_col20\" class=\"data row12 col20\" >0</td>\n",
              "                        <td id=\"T_f9fd9da4_5a01_11eb_a716_0242ac1c0002row12_col21\" class=\"data row12 col21\" >0</td>\n",
              "                        <td id=\"T_f9fd9da4_5a01_11eb_a716_0242ac1c0002row12_col22\" class=\"data row12 col22\" >0</td>\n",
              "                        <td id=\"T_f9fd9da4_5a01_11eb_a716_0242ac1c0002row12_col23\" class=\"data row12 col23\" >0</td>\n",
              "                        <td id=\"T_f9fd9da4_5a01_11eb_a716_0242ac1c0002row12_col24\" class=\"data row12 col24\" >0</td>\n",
              "                        <td id=\"T_f9fd9da4_5a01_11eb_a716_0242ac1c0002row12_col25\" class=\"data row12 col25\" >0</td>\n",
              "                        <td id=\"T_f9fd9da4_5a01_11eb_a716_0242ac1c0002row12_col26\" class=\"data row12 col26\" >0</td>\n",
              "                        <td id=\"T_f9fd9da4_5a01_11eb_a716_0242ac1c0002row12_col27\" class=\"data row12 col27\" >0</td>\n",
              "            </tr>\n",
              "            <tr>\n",
              "                        <th id=\"T_f9fd9da4_5a01_11eb_a716_0242ac1c0002level0_row13\" class=\"row_heading level0 row13\" >13</th>\n",
              "                        <td id=\"T_f9fd9da4_5a01_11eb_a716_0242ac1c0002row13_col0\" class=\"data row13 col0\" >0</td>\n",
              "                        <td id=\"T_f9fd9da4_5a01_11eb_a716_0242ac1c0002row13_col1\" class=\"data row13 col1\" >0</td>\n",
              "                        <td id=\"T_f9fd9da4_5a01_11eb_a716_0242ac1c0002row13_col2\" class=\"data row13 col2\" >0</td>\n",
              "                        <td id=\"T_f9fd9da4_5a01_11eb_a716_0242ac1c0002row13_col3\" class=\"data row13 col3\" >0</td>\n",
              "                        <td id=\"T_f9fd9da4_5a01_11eb_a716_0242ac1c0002row13_col4\" class=\"data row13 col4\" >0</td>\n",
              "                        <td id=\"T_f9fd9da4_5a01_11eb_a716_0242ac1c0002row13_col5\" class=\"data row13 col5\" >0</td>\n",
              "                        <td id=\"T_f9fd9da4_5a01_11eb_a716_0242ac1c0002row13_col6\" class=\"data row13 col6\" >185</td>\n",
              "                        <td id=\"T_f9fd9da4_5a01_11eb_a716_0242ac1c0002row13_col7\" class=\"data row13 col7\" >254</td>\n",
              "                        <td id=\"T_f9fd9da4_5a01_11eb_a716_0242ac1c0002row13_col8\" class=\"data row13 col8\" >103</td>\n",
              "                        <td id=\"T_f9fd9da4_5a01_11eb_a716_0242ac1c0002row13_col9\" class=\"data row13 col9\" >0</td>\n",
              "                        <td id=\"T_f9fd9da4_5a01_11eb_a716_0242ac1c0002row13_col10\" class=\"data row13 col10\" >0</td>\n",
              "                        <td id=\"T_f9fd9da4_5a01_11eb_a716_0242ac1c0002row13_col11\" class=\"data row13 col11\" >0</td>\n",
              "                        <td id=\"T_f9fd9da4_5a01_11eb_a716_0242ac1c0002row13_col12\" class=\"data row13 col12\" >0</td>\n",
              "                        <td id=\"T_f9fd9da4_5a01_11eb_a716_0242ac1c0002row13_col13\" class=\"data row13 col13\" >0</td>\n",
              "                        <td id=\"T_f9fd9da4_5a01_11eb_a716_0242ac1c0002row13_col14\" class=\"data row13 col14\" >0</td>\n",
              "                        <td id=\"T_f9fd9da4_5a01_11eb_a716_0242ac1c0002row13_col15\" class=\"data row13 col15\" >129</td>\n",
              "                        <td id=\"T_f9fd9da4_5a01_11eb_a716_0242ac1c0002row13_col16\" class=\"data row13 col16\" >254</td>\n",
              "                        <td id=\"T_f9fd9da4_5a01_11eb_a716_0242ac1c0002row13_col17\" class=\"data row13 col17\" >195</td>\n",
              "                        <td id=\"T_f9fd9da4_5a01_11eb_a716_0242ac1c0002row13_col18\" class=\"data row13 col18\" >0</td>\n",
              "                        <td id=\"T_f9fd9da4_5a01_11eb_a716_0242ac1c0002row13_col19\" class=\"data row13 col19\" >0</td>\n",
              "                        <td id=\"T_f9fd9da4_5a01_11eb_a716_0242ac1c0002row13_col20\" class=\"data row13 col20\" >0</td>\n",
              "                        <td id=\"T_f9fd9da4_5a01_11eb_a716_0242ac1c0002row13_col21\" class=\"data row13 col21\" >0</td>\n",
              "                        <td id=\"T_f9fd9da4_5a01_11eb_a716_0242ac1c0002row13_col22\" class=\"data row13 col22\" >0</td>\n",
              "                        <td id=\"T_f9fd9da4_5a01_11eb_a716_0242ac1c0002row13_col23\" class=\"data row13 col23\" >0</td>\n",
              "                        <td id=\"T_f9fd9da4_5a01_11eb_a716_0242ac1c0002row13_col24\" class=\"data row13 col24\" >0</td>\n",
              "                        <td id=\"T_f9fd9da4_5a01_11eb_a716_0242ac1c0002row13_col25\" class=\"data row13 col25\" >0</td>\n",
              "                        <td id=\"T_f9fd9da4_5a01_11eb_a716_0242ac1c0002row13_col26\" class=\"data row13 col26\" >0</td>\n",
              "                        <td id=\"T_f9fd9da4_5a01_11eb_a716_0242ac1c0002row13_col27\" class=\"data row13 col27\" >0</td>\n",
              "            </tr>\n",
              "            <tr>\n",
              "                        <th id=\"T_f9fd9da4_5a01_11eb_a716_0242ac1c0002level0_row14\" class=\"row_heading level0 row14\" >14</th>\n",
              "                        <td id=\"T_f9fd9da4_5a01_11eb_a716_0242ac1c0002row14_col0\" class=\"data row14 col0\" >0</td>\n",
              "                        <td id=\"T_f9fd9da4_5a01_11eb_a716_0242ac1c0002row14_col1\" class=\"data row14 col1\" >0</td>\n",
              "                        <td id=\"T_f9fd9da4_5a01_11eb_a716_0242ac1c0002row14_col2\" class=\"data row14 col2\" >0</td>\n",
              "                        <td id=\"T_f9fd9da4_5a01_11eb_a716_0242ac1c0002row14_col3\" class=\"data row14 col3\" >0</td>\n",
              "                        <td id=\"T_f9fd9da4_5a01_11eb_a716_0242ac1c0002row14_col4\" class=\"data row14 col4\" >0</td>\n",
              "                        <td id=\"T_f9fd9da4_5a01_11eb_a716_0242ac1c0002row14_col5\" class=\"data row14 col5\" >0</td>\n",
              "                        <td id=\"T_f9fd9da4_5a01_11eb_a716_0242ac1c0002row14_col6\" class=\"data row14 col6\" >185</td>\n",
              "                        <td id=\"T_f9fd9da4_5a01_11eb_a716_0242ac1c0002row14_col7\" class=\"data row14 col7\" >243</td>\n",
              "                        <td id=\"T_f9fd9da4_5a01_11eb_a716_0242ac1c0002row14_col8\" class=\"data row14 col8\" >9</td>\n",
              "                        <td id=\"T_f9fd9da4_5a01_11eb_a716_0242ac1c0002row14_col9\" class=\"data row14 col9\" >0</td>\n",
              "                        <td id=\"T_f9fd9da4_5a01_11eb_a716_0242ac1c0002row14_col10\" class=\"data row14 col10\" >0</td>\n",
              "                        <td id=\"T_f9fd9da4_5a01_11eb_a716_0242ac1c0002row14_col11\" class=\"data row14 col11\" >0</td>\n",
              "                        <td id=\"T_f9fd9da4_5a01_11eb_a716_0242ac1c0002row14_col12\" class=\"data row14 col12\" >0</td>\n",
              "                        <td id=\"T_f9fd9da4_5a01_11eb_a716_0242ac1c0002row14_col13\" class=\"data row14 col13\" >0</td>\n",
              "                        <td id=\"T_f9fd9da4_5a01_11eb_a716_0242ac1c0002row14_col14\" class=\"data row14 col14\" >0</td>\n",
              "                        <td id=\"T_f9fd9da4_5a01_11eb_a716_0242ac1c0002row14_col15\" class=\"data row14 col15\" >201</td>\n",
              "                        <td id=\"T_f9fd9da4_5a01_11eb_a716_0242ac1c0002row14_col16\" class=\"data row14 col16\" >254</td>\n",
              "                        <td id=\"T_f9fd9da4_5a01_11eb_a716_0242ac1c0002row14_col17\" class=\"data row14 col17\" >141</td>\n",
              "                        <td id=\"T_f9fd9da4_5a01_11eb_a716_0242ac1c0002row14_col18\" class=\"data row14 col18\" >0</td>\n",
              "                        <td id=\"T_f9fd9da4_5a01_11eb_a716_0242ac1c0002row14_col19\" class=\"data row14 col19\" >0</td>\n",
              "                        <td id=\"T_f9fd9da4_5a01_11eb_a716_0242ac1c0002row14_col20\" class=\"data row14 col20\" >0</td>\n",
              "                        <td id=\"T_f9fd9da4_5a01_11eb_a716_0242ac1c0002row14_col21\" class=\"data row14 col21\" >0</td>\n",
              "                        <td id=\"T_f9fd9da4_5a01_11eb_a716_0242ac1c0002row14_col22\" class=\"data row14 col22\" >0</td>\n",
              "                        <td id=\"T_f9fd9da4_5a01_11eb_a716_0242ac1c0002row14_col23\" class=\"data row14 col23\" >0</td>\n",
              "                        <td id=\"T_f9fd9da4_5a01_11eb_a716_0242ac1c0002row14_col24\" class=\"data row14 col24\" >0</td>\n",
              "                        <td id=\"T_f9fd9da4_5a01_11eb_a716_0242ac1c0002row14_col25\" class=\"data row14 col25\" >0</td>\n",
              "                        <td id=\"T_f9fd9da4_5a01_11eb_a716_0242ac1c0002row14_col26\" class=\"data row14 col26\" >0</td>\n",
              "                        <td id=\"T_f9fd9da4_5a01_11eb_a716_0242ac1c0002row14_col27\" class=\"data row14 col27\" >0</td>\n",
              "            </tr>\n",
              "            <tr>\n",
              "                        <th id=\"T_f9fd9da4_5a01_11eb_a716_0242ac1c0002level0_row15\" class=\"row_heading level0 row15\" >15</th>\n",
              "                        <td id=\"T_f9fd9da4_5a01_11eb_a716_0242ac1c0002row15_col0\" class=\"data row15 col0\" >0</td>\n",
              "                        <td id=\"T_f9fd9da4_5a01_11eb_a716_0242ac1c0002row15_col1\" class=\"data row15 col1\" >0</td>\n",
              "                        <td id=\"T_f9fd9da4_5a01_11eb_a716_0242ac1c0002row15_col2\" class=\"data row15 col2\" >0</td>\n",
              "                        <td id=\"T_f9fd9da4_5a01_11eb_a716_0242ac1c0002row15_col3\" class=\"data row15 col3\" >0</td>\n",
              "                        <td id=\"T_f9fd9da4_5a01_11eb_a716_0242ac1c0002row15_col4\" class=\"data row15 col4\" >0</td>\n",
              "                        <td id=\"T_f9fd9da4_5a01_11eb_a716_0242ac1c0002row15_col5\" class=\"data row15 col5\" >0</td>\n",
              "                        <td id=\"T_f9fd9da4_5a01_11eb_a716_0242ac1c0002row15_col6\" class=\"data row15 col6\" >145</td>\n",
              "                        <td id=\"T_f9fd9da4_5a01_11eb_a716_0242ac1c0002row15_col7\" class=\"data row15 col7\" >111</td>\n",
              "                        <td id=\"T_f9fd9da4_5a01_11eb_a716_0242ac1c0002row15_col8\" class=\"data row15 col8\" >0</td>\n",
              "                        <td id=\"T_f9fd9da4_5a01_11eb_a716_0242ac1c0002row15_col9\" class=\"data row15 col9\" >0</td>\n",
              "                        <td id=\"T_f9fd9da4_5a01_11eb_a716_0242ac1c0002row15_col10\" class=\"data row15 col10\" >49</td>\n",
              "                        <td id=\"T_f9fd9da4_5a01_11eb_a716_0242ac1c0002row15_col11\" class=\"data row15 col11\" >21</td>\n",
              "                        <td id=\"T_f9fd9da4_5a01_11eb_a716_0242ac1c0002row15_col12\" class=\"data row15 col12\" >0</td>\n",
              "                        <td id=\"T_f9fd9da4_5a01_11eb_a716_0242ac1c0002row15_col13\" class=\"data row15 col13\" >0</td>\n",
              "                        <td id=\"T_f9fd9da4_5a01_11eb_a716_0242ac1c0002row15_col14\" class=\"data row15 col14\" >35</td>\n",
              "                        <td id=\"T_f9fd9da4_5a01_11eb_a716_0242ac1c0002row15_col15\" class=\"data row15 col15\" >235</td>\n",
              "                        <td id=\"T_f9fd9da4_5a01_11eb_a716_0242ac1c0002row15_col16\" class=\"data row15 col16\" >217</td>\n",
              "                        <td id=\"T_f9fd9da4_5a01_11eb_a716_0242ac1c0002row15_col17\" class=\"data row15 col17\" >31</td>\n",
              "                        <td id=\"T_f9fd9da4_5a01_11eb_a716_0242ac1c0002row15_col18\" class=\"data row15 col18\" >0</td>\n",
              "                        <td id=\"T_f9fd9da4_5a01_11eb_a716_0242ac1c0002row15_col19\" class=\"data row15 col19\" >0</td>\n",
              "                        <td id=\"T_f9fd9da4_5a01_11eb_a716_0242ac1c0002row15_col20\" class=\"data row15 col20\" >0</td>\n",
              "                        <td id=\"T_f9fd9da4_5a01_11eb_a716_0242ac1c0002row15_col21\" class=\"data row15 col21\" >0</td>\n",
              "                        <td id=\"T_f9fd9da4_5a01_11eb_a716_0242ac1c0002row15_col22\" class=\"data row15 col22\" >7</td>\n",
              "                        <td id=\"T_f9fd9da4_5a01_11eb_a716_0242ac1c0002row15_col23\" class=\"data row15 col23\" >55</td>\n",
              "                        <td id=\"T_f9fd9da4_5a01_11eb_a716_0242ac1c0002row15_col24\" class=\"data row15 col24\" >32</td>\n",
              "                        <td id=\"T_f9fd9da4_5a01_11eb_a716_0242ac1c0002row15_col25\" class=\"data row15 col25\" >0</td>\n",
              "                        <td id=\"T_f9fd9da4_5a01_11eb_a716_0242ac1c0002row15_col26\" class=\"data row15 col26\" >0</td>\n",
              "                        <td id=\"T_f9fd9da4_5a01_11eb_a716_0242ac1c0002row15_col27\" class=\"data row15 col27\" >0</td>\n",
              "            </tr>\n",
              "            <tr>\n",
              "                        <th id=\"T_f9fd9da4_5a01_11eb_a716_0242ac1c0002level0_row16\" class=\"row_heading level0 row16\" >16</th>\n",
              "                        <td id=\"T_f9fd9da4_5a01_11eb_a716_0242ac1c0002row16_col0\" class=\"data row16 col0\" >0</td>\n",
              "                        <td id=\"T_f9fd9da4_5a01_11eb_a716_0242ac1c0002row16_col1\" class=\"data row16 col1\" >0</td>\n",
              "                        <td id=\"T_f9fd9da4_5a01_11eb_a716_0242ac1c0002row16_col2\" class=\"data row16 col2\" >0</td>\n",
              "                        <td id=\"T_f9fd9da4_5a01_11eb_a716_0242ac1c0002row16_col3\" class=\"data row16 col3\" >0</td>\n",
              "                        <td id=\"T_f9fd9da4_5a01_11eb_a716_0242ac1c0002row16_col4\" class=\"data row16 col4\" >0</td>\n",
              "                        <td id=\"T_f9fd9da4_5a01_11eb_a716_0242ac1c0002row16_col5\" class=\"data row16 col5\" >0</td>\n",
              "                        <td id=\"T_f9fd9da4_5a01_11eb_a716_0242ac1c0002row16_col6\" class=\"data row16 col6\" >0</td>\n",
              "                        <td id=\"T_f9fd9da4_5a01_11eb_a716_0242ac1c0002row16_col7\" class=\"data row16 col7\" >0</td>\n",
              "                        <td id=\"T_f9fd9da4_5a01_11eb_a716_0242ac1c0002row16_col8\" class=\"data row16 col8\" >0</td>\n",
              "                        <td id=\"T_f9fd9da4_5a01_11eb_a716_0242ac1c0002row16_col9\" class=\"data row16 col9\" >65</td>\n",
              "                        <td id=\"T_f9fd9da4_5a01_11eb_a716_0242ac1c0002row16_col10\" class=\"data row16 col10\" >249</td>\n",
              "                        <td id=\"T_f9fd9da4_5a01_11eb_a716_0242ac1c0002row16_col11\" class=\"data row16 col11\" >221</td>\n",
              "                        <td id=\"T_f9fd9da4_5a01_11eb_a716_0242ac1c0002row16_col12\" class=\"data row16 col12\" >47</td>\n",
              "                        <td id=\"T_f9fd9da4_5a01_11eb_a716_0242ac1c0002row16_col13\" class=\"data row16 col13\" >0</td>\n",
              "                        <td id=\"T_f9fd9da4_5a01_11eb_a716_0242ac1c0002row16_col14\" class=\"data row16 col14\" >95</td>\n",
              "                        <td id=\"T_f9fd9da4_5a01_11eb_a716_0242ac1c0002row16_col15\" class=\"data row16 col15\" >254</td>\n",
              "                        <td id=\"T_f9fd9da4_5a01_11eb_a716_0242ac1c0002row16_col16\" class=\"data row16 col16\" >125</td>\n",
              "                        <td id=\"T_f9fd9da4_5a01_11eb_a716_0242ac1c0002row16_col17\" class=\"data row16 col17\" >0</td>\n",
              "                        <td id=\"T_f9fd9da4_5a01_11eb_a716_0242ac1c0002row16_col18\" class=\"data row16 col18\" >0</td>\n",
              "                        <td id=\"T_f9fd9da4_5a01_11eb_a716_0242ac1c0002row16_col19\" class=\"data row16 col19\" >0</td>\n",
              "                        <td id=\"T_f9fd9da4_5a01_11eb_a716_0242ac1c0002row16_col20\" class=\"data row16 col20\" >0</td>\n",
              "                        <td id=\"T_f9fd9da4_5a01_11eb_a716_0242ac1c0002row16_col21\" class=\"data row16 col21\" >78</td>\n",
              "                        <td id=\"T_f9fd9da4_5a01_11eb_a716_0242ac1c0002row16_col22\" class=\"data row16 col22\" >114</td>\n",
              "                        <td id=\"T_f9fd9da4_5a01_11eb_a716_0242ac1c0002row16_col23\" class=\"data row16 col23\" >254</td>\n",
              "                        <td id=\"T_f9fd9da4_5a01_11eb_a716_0242ac1c0002row16_col24\" class=\"data row16 col24\" >232</td>\n",
              "                        <td id=\"T_f9fd9da4_5a01_11eb_a716_0242ac1c0002row16_col25\" class=\"data row16 col25\" >0</td>\n",
              "                        <td id=\"T_f9fd9da4_5a01_11eb_a716_0242ac1c0002row16_col26\" class=\"data row16 col26\" >0</td>\n",
              "                        <td id=\"T_f9fd9da4_5a01_11eb_a716_0242ac1c0002row16_col27\" class=\"data row16 col27\" >0</td>\n",
              "            </tr>\n",
              "            <tr>\n",
              "                        <th id=\"T_f9fd9da4_5a01_11eb_a716_0242ac1c0002level0_row17\" class=\"row_heading level0 row17\" >17</th>\n",
              "                        <td id=\"T_f9fd9da4_5a01_11eb_a716_0242ac1c0002row17_col0\" class=\"data row17 col0\" >0</td>\n",
              "                        <td id=\"T_f9fd9da4_5a01_11eb_a716_0242ac1c0002row17_col1\" class=\"data row17 col1\" >0</td>\n",
              "                        <td id=\"T_f9fd9da4_5a01_11eb_a716_0242ac1c0002row17_col2\" class=\"data row17 col2\" >0</td>\n",
              "                        <td id=\"T_f9fd9da4_5a01_11eb_a716_0242ac1c0002row17_col3\" class=\"data row17 col3\" >0</td>\n",
              "                        <td id=\"T_f9fd9da4_5a01_11eb_a716_0242ac1c0002row17_col4\" class=\"data row17 col4\" >0</td>\n",
              "                        <td id=\"T_f9fd9da4_5a01_11eb_a716_0242ac1c0002row17_col5\" class=\"data row17 col5\" >0</td>\n",
              "                        <td id=\"T_f9fd9da4_5a01_11eb_a716_0242ac1c0002row17_col6\" class=\"data row17 col6\" >0</td>\n",
              "                        <td id=\"T_f9fd9da4_5a01_11eb_a716_0242ac1c0002row17_col7\" class=\"data row17 col7\" >0</td>\n",
              "                        <td id=\"T_f9fd9da4_5a01_11eb_a716_0242ac1c0002row17_col8\" class=\"data row17 col8\" >0</td>\n",
              "                        <td id=\"T_f9fd9da4_5a01_11eb_a716_0242ac1c0002row17_col9\" class=\"data row17 col9\" >75</td>\n",
              "                        <td id=\"T_f9fd9da4_5a01_11eb_a716_0242ac1c0002row17_col10\" class=\"data row17 col10\" >252</td>\n",
              "                        <td id=\"T_f9fd9da4_5a01_11eb_a716_0242ac1c0002row17_col11\" class=\"data row17 col11\" >254</td>\n",
              "                        <td id=\"T_f9fd9da4_5a01_11eb_a716_0242ac1c0002row17_col12\" class=\"data row17 col12\" >243</td>\n",
              "                        <td id=\"T_f9fd9da4_5a01_11eb_a716_0242ac1c0002row17_col13\" class=\"data row17 col13\" >146</td>\n",
              "                        <td id=\"T_f9fd9da4_5a01_11eb_a716_0242ac1c0002row17_col14\" class=\"data row17 col14\" >249</td>\n",
              "                        <td id=\"T_f9fd9da4_5a01_11eb_a716_0242ac1c0002row17_col15\" class=\"data row17 col15\" >254</td>\n",
              "                        <td id=\"T_f9fd9da4_5a01_11eb_a716_0242ac1c0002row17_col16\" class=\"data row17 col16\" >191</td>\n",
              "                        <td id=\"T_f9fd9da4_5a01_11eb_a716_0242ac1c0002row17_col17\" class=\"data row17 col17\" >130</td>\n",
              "                        <td id=\"T_f9fd9da4_5a01_11eb_a716_0242ac1c0002row17_col18\" class=\"data row17 col18\" >219</td>\n",
              "                        <td id=\"T_f9fd9da4_5a01_11eb_a716_0242ac1c0002row17_col19\" class=\"data row17 col19\" >239</td>\n",
              "                        <td id=\"T_f9fd9da4_5a01_11eb_a716_0242ac1c0002row17_col20\" class=\"data row17 col20\" >239</td>\n",
              "                        <td id=\"T_f9fd9da4_5a01_11eb_a716_0242ac1c0002row17_col21\" class=\"data row17 col21\" >252</td>\n",
              "                        <td id=\"T_f9fd9da4_5a01_11eb_a716_0242ac1c0002row17_col22\" class=\"data row17 col22\" >252</td>\n",
              "                        <td id=\"T_f9fd9da4_5a01_11eb_a716_0242ac1c0002row17_col23\" class=\"data row17 col23\" >233</td>\n",
              "                        <td id=\"T_f9fd9da4_5a01_11eb_a716_0242ac1c0002row17_col24\" class=\"data row17 col24\" >47</td>\n",
              "                        <td id=\"T_f9fd9da4_5a01_11eb_a716_0242ac1c0002row17_col25\" class=\"data row17 col25\" >0</td>\n",
              "                        <td id=\"T_f9fd9da4_5a01_11eb_a716_0242ac1c0002row17_col26\" class=\"data row17 col26\" >0</td>\n",
              "                        <td id=\"T_f9fd9da4_5a01_11eb_a716_0242ac1c0002row17_col27\" class=\"data row17 col27\" >0</td>\n",
              "            </tr>\n",
              "            <tr>\n",
              "                        <th id=\"T_f9fd9da4_5a01_11eb_a716_0242ac1c0002level0_row18\" class=\"row_heading level0 row18\" >18</th>\n",
              "                        <td id=\"T_f9fd9da4_5a01_11eb_a716_0242ac1c0002row18_col0\" class=\"data row18 col0\" >0</td>\n",
              "                        <td id=\"T_f9fd9da4_5a01_11eb_a716_0242ac1c0002row18_col1\" class=\"data row18 col1\" >0</td>\n",
              "                        <td id=\"T_f9fd9da4_5a01_11eb_a716_0242ac1c0002row18_col2\" class=\"data row18 col2\" >0</td>\n",
              "                        <td id=\"T_f9fd9da4_5a01_11eb_a716_0242ac1c0002row18_col3\" class=\"data row18 col3\" >0</td>\n",
              "                        <td id=\"T_f9fd9da4_5a01_11eb_a716_0242ac1c0002row18_col4\" class=\"data row18 col4\" >0</td>\n",
              "                        <td id=\"T_f9fd9da4_5a01_11eb_a716_0242ac1c0002row18_col5\" class=\"data row18 col5\" >0</td>\n",
              "                        <td id=\"T_f9fd9da4_5a01_11eb_a716_0242ac1c0002row18_col6\" class=\"data row18 col6\" >0</td>\n",
              "                        <td id=\"T_f9fd9da4_5a01_11eb_a716_0242ac1c0002row18_col7\" class=\"data row18 col7\" >0</td>\n",
              "                        <td id=\"T_f9fd9da4_5a01_11eb_a716_0242ac1c0002row18_col8\" class=\"data row18 col8\" >0</td>\n",
              "                        <td id=\"T_f9fd9da4_5a01_11eb_a716_0242ac1c0002row18_col9\" class=\"data row18 col9\" >0</td>\n",
              "                        <td id=\"T_f9fd9da4_5a01_11eb_a716_0242ac1c0002row18_col10\" class=\"data row18 col10\" >175</td>\n",
              "                        <td id=\"T_f9fd9da4_5a01_11eb_a716_0242ac1c0002row18_col11\" class=\"data row18 col11\" >232</td>\n",
              "                        <td id=\"T_f9fd9da4_5a01_11eb_a716_0242ac1c0002row18_col12\" class=\"data row18 col12\" >254</td>\n",
              "                        <td id=\"T_f9fd9da4_5a01_11eb_a716_0242ac1c0002row18_col13\" class=\"data row18 col13\" >254</td>\n",
              "                        <td id=\"T_f9fd9da4_5a01_11eb_a716_0242ac1c0002row18_col14\" class=\"data row18 col14\" >254</td>\n",
              "                        <td id=\"T_f9fd9da4_5a01_11eb_a716_0242ac1c0002row18_col15\" class=\"data row18 col15\" >254</td>\n",
              "                        <td id=\"T_f9fd9da4_5a01_11eb_a716_0242ac1c0002row18_col16\" class=\"data row18 col16\" >254</td>\n",
              "                        <td id=\"T_f9fd9da4_5a01_11eb_a716_0242ac1c0002row18_col17\" class=\"data row18 col17\" >254</td>\n",
              "                        <td id=\"T_f9fd9da4_5a01_11eb_a716_0242ac1c0002row18_col18\" class=\"data row18 col18\" >254</td>\n",
              "                        <td id=\"T_f9fd9da4_5a01_11eb_a716_0242ac1c0002row18_col19\" class=\"data row18 col19\" >254</td>\n",
              "                        <td id=\"T_f9fd9da4_5a01_11eb_a716_0242ac1c0002row18_col20\" class=\"data row18 col20\" >239</td>\n",
              "                        <td id=\"T_f9fd9da4_5a01_11eb_a716_0242ac1c0002row18_col21\" class=\"data row18 col21\" >150</td>\n",
              "                        <td id=\"T_f9fd9da4_5a01_11eb_a716_0242ac1c0002row18_col22\" class=\"data row18 col22\" >76</td>\n",
              "                        <td id=\"T_f9fd9da4_5a01_11eb_a716_0242ac1c0002row18_col23\" class=\"data row18 col23\" >0</td>\n",
              "                        <td id=\"T_f9fd9da4_5a01_11eb_a716_0242ac1c0002row18_col24\" class=\"data row18 col24\" >0</td>\n",
              "                        <td id=\"T_f9fd9da4_5a01_11eb_a716_0242ac1c0002row18_col25\" class=\"data row18 col25\" >0</td>\n",
              "                        <td id=\"T_f9fd9da4_5a01_11eb_a716_0242ac1c0002row18_col26\" class=\"data row18 col26\" >0</td>\n",
              "                        <td id=\"T_f9fd9da4_5a01_11eb_a716_0242ac1c0002row18_col27\" class=\"data row18 col27\" >0</td>\n",
              "            </tr>\n",
              "            <tr>\n",
              "                        <th id=\"T_f9fd9da4_5a01_11eb_a716_0242ac1c0002level0_row19\" class=\"row_heading level0 row19\" >19</th>\n",
              "                        <td id=\"T_f9fd9da4_5a01_11eb_a716_0242ac1c0002row19_col0\" class=\"data row19 col0\" >0</td>\n",
              "                        <td id=\"T_f9fd9da4_5a01_11eb_a716_0242ac1c0002row19_col1\" class=\"data row19 col1\" >0</td>\n",
              "                        <td id=\"T_f9fd9da4_5a01_11eb_a716_0242ac1c0002row19_col2\" class=\"data row19 col2\" >0</td>\n",
              "                        <td id=\"T_f9fd9da4_5a01_11eb_a716_0242ac1c0002row19_col3\" class=\"data row19 col3\" >0</td>\n",
              "                        <td id=\"T_f9fd9da4_5a01_11eb_a716_0242ac1c0002row19_col4\" class=\"data row19 col4\" >0</td>\n",
              "                        <td id=\"T_f9fd9da4_5a01_11eb_a716_0242ac1c0002row19_col5\" class=\"data row19 col5\" >0</td>\n",
              "                        <td id=\"T_f9fd9da4_5a01_11eb_a716_0242ac1c0002row19_col6\" class=\"data row19 col6\" >0</td>\n",
              "                        <td id=\"T_f9fd9da4_5a01_11eb_a716_0242ac1c0002row19_col7\" class=\"data row19 col7\" >0</td>\n",
              "                        <td id=\"T_f9fd9da4_5a01_11eb_a716_0242ac1c0002row19_col8\" class=\"data row19 col8\" >0</td>\n",
              "                        <td id=\"T_f9fd9da4_5a01_11eb_a716_0242ac1c0002row19_col9\" class=\"data row19 col9\" >0</td>\n",
              "                        <td id=\"T_f9fd9da4_5a01_11eb_a716_0242ac1c0002row19_col10\" class=\"data row19 col10\" >0</td>\n",
              "                        <td id=\"T_f9fd9da4_5a01_11eb_a716_0242ac1c0002row19_col11\" class=\"data row19 col11\" >30</td>\n",
              "                        <td id=\"T_f9fd9da4_5a01_11eb_a716_0242ac1c0002row19_col12\" class=\"data row19 col12\" >131</td>\n",
              "                        <td id=\"T_f9fd9da4_5a01_11eb_a716_0242ac1c0002row19_col13\" class=\"data row19 col13\" >163</td>\n",
              "                        <td id=\"T_f9fd9da4_5a01_11eb_a716_0242ac1c0002row19_col14\" class=\"data row19 col14\" >254</td>\n",
              "                        <td id=\"T_f9fd9da4_5a01_11eb_a716_0242ac1c0002row19_col15\" class=\"data row19 col15\" >254</td>\n",
              "                        <td id=\"T_f9fd9da4_5a01_11eb_a716_0242ac1c0002row19_col16\" class=\"data row19 col16\" >204</td>\n",
              "                        <td id=\"T_f9fd9da4_5a01_11eb_a716_0242ac1c0002row19_col17\" class=\"data row19 col17\" >156</td>\n",
              "                        <td id=\"T_f9fd9da4_5a01_11eb_a716_0242ac1c0002row19_col18\" class=\"data row19 col18\" >69</td>\n",
              "                        <td id=\"T_f9fd9da4_5a01_11eb_a716_0242ac1c0002row19_col19\" class=\"data row19 col19\" >48</td>\n",
              "                        <td id=\"T_f9fd9da4_5a01_11eb_a716_0242ac1c0002row19_col20\" class=\"data row19 col20\" >36</td>\n",
              "                        <td id=\"T_f9fd9da4_5a01_11eb_a716_0242ac1c0002row19_col21\" class=\"data row19 col21\" >0</td>\n",
              "                        <td id=\"T_f9fd9da4_5a01_11eb_a716_0242ac1c0002row19_col22\" class=\"data row19 col22\" >0</td>\n",
              "                        <td id=\"T_f9fd9da4_5a01_11eb_a716_0242ac1c0002row19_col23\" class=\"data row19 col23\" >0</td>\n",
              "                        <td id=\"T_f9fd9da4_5a01_11eb_a716_0242ac1c0002row19_col24\" class=\"data row19 col24\" >0</td>\n",
              "                        <td id=\"T_f9fd9da4_5a01_11eb_a716_0242ac1c0002row19_col25\" class=\"data row19 col25\" >0</td>\n",
              "                        <td id=\"T_f9fd9da4_5a01_11eb_a716_0242ac1c0002row19_col26\" class=\"data row19 col26\" >0</td>\n",
              "                        <td id=\"T_f9fd9da4_5a01_11eb_a716_0242ac1c0002row19_col27\" class=\"data row19 col27\" >0</td>\n",
              "            </tr>\n",
              "            <tr>\n",
              "                        <th id=\"T_f9fd9da4_5a01_11eb_a716_0242ac1c0002level0_row20\" class=\"row_heading level0 row20\" >20</th>\n",
              "                        <td id=\"T_f9fd9da4_5a01_11eb_a716_0242ac1c0002row20_col0\" class=\"data row20 col0\" >0</td>\n",
              "                        <td id=\"T_f9fd9da4_5a01_11eb_a716_0242ac1c0002row20_col1\" class=\"data row20 col1\" >0</td>\n",
              "                        <td id=\"T_f9fd9da4_5a01_11eb_a716_0242ac1c0002row20_col2\" class=\"data row20 col2\" >0</td>\n",
              "                        <td id=\"T_f9fd9da4_5a01_11eb_a716_0242ac1c0002row20_col3\" class=\"data row20 col3\" >0</td>\n",
              "                        <td id=\"T_f9fd9da4_5a01_11eb_a716_0242ac1c0002row20_col4\" class=\"data row20 col4\" >0</td>\n",
              "                        <td id=\"T_f9fd9da4_5a01_11eb_a716_0242ac1c0002row20_col5\" class=\"data row20 col5\" >0</td>\n",
              "                        <td id=\"T_f9fd9da4_5a01_11eb_a716_0242ac1c0002row20_col6\" class=\"data row20 col6\" >0</td>\n",
              "                        <td id=\"T_f9fd9da4_5a01_11eb_a716_0242ac1c0002row20_col7\" class=\"data row20 col7\" >0</td>\n",
              "                        <td id=\"T_f9fd9da4_5a01_11eb_a716_0242ac1c0002row20_col8\" class=\"data row20 col8\" >0</td>\n",
              "                        <td id=\"T_f9fd9da4_5a01_11eb_a716_0242ac1c0002row20_col9\" class=\"data row20 col9\" >0</td>\n",
              "                        <td id=\"T_f9fd9da4_5a01_11eb_a716_0242ac1c0002row20_col10\" class=\"data row20 col10\" >0</td>\n",
              "                        <td id=\"T_f9fd9da4_5a01_11eb_a716_0242ac1c0002row20_col11\" class=\"data row20 col11\" >0</td>\n",
              "                        <td id=\"T_f9fd9da4_5a01_11eb_a716_0242ac1c0002row20_col12\" class=\"data row20 col12\" >0</td>\n",
              "                        <td id=\"T_f9fd9da4_5a01_11eb_a716_0242ac1c0002row20_col13\" class=\"data row20 col13\" >17</td>\n",
              "                        <td id=\"T_f9fd9da4_5a01_11eb_a716_0242ac1c0002row20_col14\" class=\"data row20 col14\" >254</td>\n",
              "                        <td id=\"T_f9fd9da4_5a01_11eb_a716_0242ac1c0002row20_col15\" class=\"data row20 col15\" >254</td>\n",
              "                        <td id=\"T_f9fd9da4_5a01_11eb_a716_0242ac1c0002row20_col16\" class=\"data row20 col16\" >20</td>\n",
              "                        <td id=\"T_f9fd9da4_5a01_11eb_a716_0242ac1c0002row20_col17\" class=\"data row20 col17\" >0</td>\n",
              "                        <td id=\"T_f9fd9da4_5a01_11eb_a716_0242ac1c0002row20_col18\" class=\"data row20 col18\" >0</td>\n",
              "                        <td id=\"T_f9fd9da4_5a01_11eb_a716_0242ac1c0002row20_col19\" class=\"data row20 col19\" >0</td>\n",
              "                        <td id=\"T_f9fd9da4_5a01_11eb_a716_0242ac1c0002row20_col20\" class=\"data row20 col20\" >0</td>\n",
              "                        <td id=\"T_f9fd9da4_5a01_11eb_a716_0242ac1c0002row20_col21\" class=\"data row20 col21\" >0</td>\n",
              "                        <td id=\"T_f9fd9da4_5a01_11eb_a716_0242ac1c0002row20_col22\" class=\"data row20 col22\" >0</td>\n",
              "                        <td id=\"T_f9fd9da4_5a01_11eb_a716_0242ac1c0002row20_col23\" class=\"data row20 col23\" >0</td>\n",
              "                        <td id=\"T_f9fd9da4_5a01_11eb_a716_0242ac1c0002row20_col24\" class=\"data row20 col24\" >0</td>\n",
              "                        <td id=\"T_f9fd9da4_5a01_11eb_a716_0242ac1c0002row20_col25\" class=\"data row20 col25\" >0</td>\n",
              "                        <td id=\"T_f9fd9da4_5a01_11eb_a716_0242ac1c0002row20_col26\" class=\"data row20 col26\" >0</td>\n",
              "                        <td id=\"T_f9fd9da4_5a01_11eb_a716_0242ac1c0002row20_col27\" class=\"data row20 col27\" >0</td>\n",
              "            </tr>\n",
              "            <tr>\n",
              "                        <th id=\"T_f9fd9da4_5a01_11eb_a716_0242ac1c0002level0_row21\" class=\"row_heading level0 row21\" >21</th>\n",
              "                        <td id=\"T_f9fd9da4_5a01_11eb_a716_0242ac1c0002row21_col0\" class=\"data row21 col0\" >0</td>\n",
              "                        <td id=\"T_f9fd9da4_5a01_11eb_a716_0242ac1c0002row21_col1\" class=\"data row21 col1\" >0</td>\n",
              "                        <td id=\"T_f9fd9da4_5a01_11eb_a716_0242ac1c0002row21_col2\" class=\"data row21 col2\" >0</td>\n",
              "                        <td id=\"T_f9fd9da4_5a01_11eb_a716_0242ac1c0002row21_col3\" class=\"data row21 col3\" >0</td>\n",
              "                        <td id=\"T_f9fd9da4_5a01_11eb_a716_0242ac1c0002row21_col4\" class=\"data row21 col4\" >0</td>\n",
              "                        <td id=\"T_f9fd9da4_5a01_11eb_a716_0242ac1c0002row21_col5\" class=\"data row21 col5\" >0</td>\n",
              "                        <td id=\"T_f9fd9da4_5a01_11eb_a716_0242ac1c0002row21_col6\" class=\"data row21 col6\" >0</td>\n",
              "                        <td id=\"T_f9fd9da4_5a01_11eb_a716_0242ac1c0002row21_col7\" class=\"data row21 col7\" >0</td>\n",
              "                        <td id=\"T_f9fd9da4_5a01_11eb_a716_0242ac1c0002row21_col8\" class=\"data row21 col8\" >0</td>\n",
              "                        <td id=\"T_f9fd9da4_5a01_11eb_a716_0242ac1c0002row21_col9\" class=\"data row21 col9\" >0</td>\n",
              "                        <td id=\"T_f9fd9da4_5a01_11eb_a716_0242ac1c0002row21_col10\" class=\"data row21 col10\" >0</td>\n",
              "                        <td id=\"T_f9fd9da4_5a01_11eb_a716_0242ac1c0002row21_col11\" class=\"data row21 col11\" >0</td>\n",
              "                        <td id=\"T_f9fd9da4_5a01_11eb_a716_0242ac1c0002row21_col12\" class=\"data row21 col12\" >0</td>\n",
              "                        <td id=\"T_f9fd9da4_5a01_11eb_a716_0242ac1c0002row21_col13\" class=\"data row21 col13\" >119</td>\n",
              "                        <td id=\"T_f9fd9da4_5a01_11eb_a716_0242ac1c0002row21_col14\" class=\"data row21 col14\" >255</td>\n",
              "                        <td id=\"T_f9fd9da4_5a01_11eb_a716_0242ac1c0002row21_col15\" class=\"data row21 col15\" >191</td>\n",
              "                        <td id=\"T_f9fd9da4_5a01_11eb_a716_0242ac1c0002row21_col16\" class=\"data row21 col16\" >5</td>\n",
              "                        <td id=\"T_f9fd9da4_5a01_11eb_a716_0242ac1c0002row21_col17\" class=\"data row21 col17\" >0</td>\n",
              "                        <td id=\"T_f9fd9da4_5a01_11eb_a716_0242ac1c0002row21_col18\" class=\"data row21 col18\" >0</td>\n",
              "                        <td id=\"T_f9fd9da4_5a01_11eb_a716_0242ac1c0002row21_col19\" class=\"data row21 col19\" >0</td>\n",
              "                        <td id=\"T_f9fd9da4_5a01_11eb_a716_0242ac1c0002row21_col20\" class=\"data row21 col20\" >0</td>\n",
              "                        <td id=\"T_f9fd9da4_5a01_11eb_a716_0242ac1c0002row21_col21\" class=\"data row21 col21\" >0</td>\n",
              "                        <td id=\"T_f9fd9da4_5a01_11eb_a716_0242ac1c0002row21_col22\" class=\"data row21 col22\" >0</td>\n",
              "                        <td id=\"T_f9fd9da4_5a01_11eb_a716_0242ac1c0002row21_col23\" class=\"data row21 col23\" >0</td>\n",
              "                        <td id=\"T_f9fd9da4_5a01_11eb_a716_0242ac1c0002row21_col24\" class=\"data row21 col24\" >0</td>\n",
              "                        <td id=\"T_f9fd9da4_5a01_11eb_a716_0242ac1c0002row21_col25\" class=\"data row21 col25\" >0</td>\n",
              "                        <td id=\"T_f9fd9da4_5a01_11eb_a716_0242ac1c0002row21_col26\" class=\"data row21 col26\" >0</td>\n",
              "                        <td id=\"T_f9fd9da4_5a01_11eb_a716_0242ac1c0002row21_col27\" class=\"data row21 col27\" >0</td>\n",
              "            </tr>\n",
              "            <tr>\n",
              "                        <th id=\"T_f9fd9da4_5a01_11eb_a716_0242ac1c0002level0_row22\" class=\"row_heading level0 row22\" >22</th>\n",
              "                        <td id=\"T_f9fd9da4_5a01_11eb_a716_0242ac1c0002row22_col0\" class=\"data row22 col0\" >0</td>\n",
              "                        <td id=\"T_f9fd9da4_5a01_11eb_a716_0242ac1c0002row22_col1\" class=\"data row22 col1\" >0</td>\n",
              "                        <td id=\"T_f9fd9da4_5a01_11eb_a716_0242ac1c0002row22_col2\" class=\"data row22 col2\" >0</td>\n",
              "                        <td id=\"T_f9fd9da4_5a01_11eb_a716_0242ac1c0002row22_col3\" class=\"data row22 col3\" >0</td>\n",
              "                        <td id=\"T_f9fd9da4_5a01_11eb_a716_0242ac1c0002row22_col4\" class=\"data row22 col4\" >0</td>\n",
              "                        <td id=\"T_f9fd9da4_5a01_11eb_a716_0242ac1c0002row22_col5\" class=\"data row22 col5\" >0</td>\n",
              "                        <td id=\"T_f9fd9da4_5a01_11eb_a716_0242ac1c0002row22_col6\" class=\"data row22 col6\" >0</td>\n",
              "                        <td id=\"T_f9fd9da4_5a01_11eb_a716_0242ac1c0002row22_col7\" class=\"data row22 col7\" >0</td>\n",
              "                        <td id=\"T_f9fd9da4_5a01_11eb_a716_0242ac1c0002row22_col8\" class=\"data row22 col8\" >0</td>\n",
              "                        <td id=\"T_f9fd9da4_5a01_11eb_a716_0242ac1c0002row22_col9\" class=\"data row22 col9\" >0</td>\n",
              "                        <td id=\"T_f9fd9da4_5a01_11eb_a716_0242ac1c0002row22_col10\" class=\"data row22 col10\" >0</td>\n",
              "                        <td id=\"T_f9fd9da4_5a01_11eb_a716_0242ac1c0002row22_col11\" class=\"data row22 col11\" >0</td>\n",
              "                        <td id=\"T_f9fd9da4_5a01_11eb_a716_0242ac1c0002row22_col12\" class=\"data row22 col12\" >0</td>\n",
              "                        <td id=\"T_f9fd9da4_5a01_11eb_a716_0242ac1c0002row22_col13\" class=\"data row22 col13\" >234</td>\n",
              "                        <td id=\"T_f9fd9da4_5a01_11eb_a716_0242ac1c0002row22_col14\" class=\"data row22 col14\" >254</td>\n",
              "                        <td id=\"T_f9fd9da4_5a01_11eb_a716_0242ac1c0002row22_col15\" class=\"data row22 col15\" >199</td>\n",
              "                        <td id=\"T_f9fd9da4_5a01_11eb_a716_0242ac1c0002row22_col16\" class=\"data row22 col16\" >141</td>\n",
              "                        <td id=\"T_f9fd9da4_5a01_11eb_a716_0242ac1c0002row22_col17\" class=\"data row22 col17\" >0</td>\n",
              "                        <td id=\"T_f9fd9da4_5a01_11eb_a716_0242ac1c0002row22_col18\" class=\"data row22 col18\" >0</td>\n",
              "                        <td id=\"T_f9fd9da4_5a01_11eb_a716_0242ac1c0002row22_col19\" class=\"data row22 col19\" >0</td>\n",
              "                        <td id=\"T_f9fd9da4_5a01_11eb_a716_0242ac1c0002row22_col20\" class=\"data row22 col20\" >0</td>\n",
              "                        <td id=\"T_f9fd9da4_5a01_11eb_a716_0242ac1c0002row22_col21\" class=\"data row22 col21\" >0</td>\n",
              "                        <td id=\"T_f9fd9da4_5a01_11eb_a716_0242ac1c0002row22_col22\" class=\"data row22 col22\" >0</td>\n",
              "                        <td id=\"T_f9fd9da4_5a01_11eb_a716_0242ac1c0002row22_col23\" class=\"data row22 col23\" >0</td>\n",
              "                        <td id=\"T_f9fd9da4_5a01_11eb_a716_0242ac1c0002row22_col24\" class=\"data row22 col24\" >0</td>\n",
              "                        <td id=\"T_f9fd9da4_5a01_11eb_a716_0242ac1c0002row22_col25\" class=\"data row22 col25\" >0</td>\n",
              "                        <td id=\"T_f9fd9da4_5a01_11eb_a716_0242ac1c0002row22_col26\" class=\"data row22 col26\" >0</td>\n",
              "                        <td id=\"T_f9fd9da4_5a01_11eb_a716_0242ac1c0002row22_col27\" class=\"data row22 col27\" >0</td>\n",
              "            </tr>\n",
              "            <tr>\n",
              "                        <th id=\"T_f9fd9da4_5a01_11eb_a716_0242ac1c0002level0_row23\" class=\"row_heading level0 row23\" >23</th>\n",
              "                        <td id=\"T_f9fd9da4_5a01_11eb_a716_0242ac1c0002row23_col0\" class=\"data row23 col0\" >0</td>\n",
              "                        <td id=\"T_f9fd9da4_5a01_11eb_a716_0242ac1c0002row23_col1\" class=\"data row23 col1\" >0</td>\n",
              "                        <td id=\"T_f9fd9da4_5a01_11eb_a716_0242ac1c0002row23_col2\" class=\"data row23 col2\" >0</td>\n",
              "                        <td id=\"T_f9fd9da4_5a01_11eb_a716_0242ac1c0002row23_col3\" class=\"data row23 col3\" >0</td>\n",
              "                        <td id=\"T_f9fd9da4_5a01_11eb_a716_0242ac1c0002row23_col4\" class=\"data row23 col4\" >0</td>\n",
              "                        <td id=\"T_f9fd9da4_5a01_11eb_a716_0242ac1c0002row23_col5\" class=\"data row23 col5\" >0</td>\n",
              "                        <td id=\"T_f9fd9da4_5a01_11eb_a716_0242ac1c0002row23_col6\" class=\"data row23 col6\" >0</td>\n",
              "                        <td id=\"T_f9fd9da4_5a01_11eb_a716_0242ac1c0002row23_col7\" class=\"data row23 col7\" >0</td>\n",
              "                        <td id=\"T_f9fd9da4_5a01_11eb_a716_0242ac1c0002row23_col8\" class=\"data row23 col8\" >0</td>\n",
              "                        <td id=\"T_f9fd9da4_5a01_11eb_a716_0242ac1c0002row23_col9\" class=\"data row23 col9\" >0</td>\n",
              "                        <td id=\"T_f9fd9da4_5a01_11eb_a716_0242ac1c0002row23_col10\" class=\"data row23 col10\" >0</td>\n",
              "                        <td id=\"T_f9fd9da4_5a01_11eb_a716_0242ac1c0002row23_col11\" class=\"data row23 col11\" >0</td>\n",
              "                        <td id=\"T_f9fd9da4_5a01_11eb_a716_0242ac1c0002row23_col12\" class=\"data row23 col12\" >0</td>\n",
              "                        <td id=\"T_f9fd9da4_5a01_11eb_a716_0242ac1c0002row23_col13\" class=\"data row23 col13\" >234</td>\n",
              "                        <td id=\"T_f9fd9da4_5a01_11eb_a716_0242ac1c0002row23_col14\" class=\"data row23 col14\" >254</td>\n",
              "                        <td id=\"T_f9fd9da4_5a01_11eb_a716_0242ac1c0002row23_col15\" class=\"data row23 col15\" >254</td>\n",
              "                        <td id=\"T_f9fd9da4_5a01_11eb_a716_0242ac1c0002row23_col16\" class=\"data row23 col16\" >219</td>\n",
              "                        <td id=\"T_f9fd9da4_5a01_11eb_a716_0242ac1c0002row23_col17\" class=\"data row23 col17\" >0</td>\n",
              "                        <td id=\"T_f9fd9da4_5a01_11eb_a716_0242ac1c0002row23_col18\" class=\"data row23 col18\" >0</td>\n",
              "                        <td id=\"T_f9fd9da4_5a01_11eb_a716_0242ac1c0002row23_col19\" class=\"data row23 col19\" >0</td>\n",
              "                        <td id=\"T_f9fd9da4_5a01_11eb_a716_0242ac1c0002row23_col20\" class=\"data row23 col20\" >0</td>\n",
              "                        <td id=\"T_f9fd9da4_5a01_11eb_a716_0242ac1c0002row23_col21\" class=\"data row23 col21\" >0</td>\n",
              "                        <td id=\"T_f9fd9da4_5a01_11eb_a716_0242ac1c0002row23_col22\" class=\"data row23 col22\" >0</td>\n",
              "                        <td id=\"T_f9fd9da4_5a01_11eb_a716_0242ac1c0002row23_col23\" class=\"data row23 col23\" >0</td>\n",
              "                        <td id=\"T_f9fd9da4_5a01_11eb_a716_0242ac1c0002row23_col24\" class=\"data row23 col24\" >0</td>\n",
              "                        <td id=\"T_f9fd9da4_5a01_11eb_a716_0242ac1c0002row23_col25\" class=\"data row23 col25\" >0</td>\n",
              "                        <td id=\"T_f9fd9da4_5a01_11eb_a716_0242ac1c0002row23_col26\" class=\"data row23 col26\" >0</td>\n",
              "                        <td id=\"T_f9fd9da4_5a01_11eb_a716_0242ac1c0002row23_col27\" class=\"data row23 col27\" >0</td>\n",
              "            </tr>\n",
              "            <tr>\n",
              "                        <th id=\"T_f9fd9da4_5a01_11eb_a716_0242ac1c0002level0_row24\" class=\"row_heading level0 row24\" >24</th>\n",
              "                        <td id=\"T_f9fd9da4_5a01_11eb_a716_0242ac1c0002row24_col0\" class=\"data row24 col0\" >0</td>\n",
              "                        <td id=\"T_f9fd9da4_5a01_11eb_a716_0242ac1c0002row24_col1\" class=\"data row24 col1\" >0</td>\n",
              "                        <td id=\"T_f9fd9da4_5a01_11eb_a716_0242ac1c0002row24_col2\" class=\"data row24 col2\" >0</td>\n",
              "                        <td id=\"T_f9fd9da4_5a01_11eb_a716_0242ac1c0002row24_col3\" class=\"data row24 col3\" >0</td>\n",
              "                        <td id=\"T_f9fd9da4_5a01_11eb_a716_0242ac1c0002row24_col4\" class=\"data row24 col4\" >0</td>\n",
              "                        <td id=\"T_f9fd9da4_5a01_11eb_a716_0242ac1c0002row24_col5\" class=\"data row24 col5\" >0</td>\n",
              "                        <td id=\"T_f9fd9da4_5a01_11eb_a716_0242ac1c0002row24_col6\" class=\"data row24 col6\" >0</td>\n",
              "                        <td id=\"T_f9fd9da4_5a01_11eb_a716_0242ac1c0002row24_col7\" class=\"data row24 col7\" >0</td>\n",
              "                        <td id=\"T_f9fd9da4_5a01_11eb_a716_0242ac1c0002row24_col8\" class=\"data row24 col8\" >0</td>\n",
              "                        <td id=\"T_f9fd9da4_5a01_11eb_a716_0242ac1c0002row24_col9\" class=\"data row24 col9\" >0</td>\n",
              "                        <td id=\"T_f9fd9da4_5a01_11eb_a716_0242ac1c0002row24_col10\" class=\"data row24 col10\" >0</td>\n",
              "                        <td id=\"T_f9fd9da4_5a01_11eb_a716_0242ac1c0002row24_col11\" class=\"data row24 col11\" >0</td>\n",
              "                        <td id=\"T_f9fd9da4_5a01_11eb_a716_0242ac1c0002row24_col12\" class=\"data row24 col12\" >0</td>\n",
              "                        <td id=\"T_f9fd9da4_5a01_11eb_a716_0242ac1c0002row24_col13\" class=\"data row24 col13\" >234</td>\n",
              "                        <td id=\"T_f9fd9da4_5a01_11eb_a716_0242ac1c0002row24_col14\" class=\"data row24 col14\" >254</td>\n",
              "                        <td id=\"T_f9fd9da4_5a01_11eb_a716_0242ac1c0002row24_col15\" class=\"data row24 col15\" >229</td>\n",
              "                        <td id=\"T_f9fd9da4_5a01_11eb_a716_0242ac1c0002row24_col16\" class=\"data row24 col16\" >44</td>\n",
              "                        <td id=\"T_f9fd9da4_5a01_11eb_a716_0242ac1c0002row24_col17\" class=\"data row24 col17\" >0</td>\n",
              "                        <td id=\"T_f9fd9da4_5a01_11eb_a716_0242ac1c0002row24_col18\" class=\"data row24 col18\" >0</td>\n",
              "                        <td id=\"T_f9fd9da4_5a01_11eb_a716_0242ac1c0002row24_col19\" class=\"data row24 col19\" >0</td>\n",
              "                        <td id=\"T_f9fd9da4_5a01_11eb_a716_0242ac1c0002row24_col20\" class=\"data row24 col20\" >0</td>\n",
              "                        <td id=\"T_f9fd9da4_5a01_11eb_a716_0242ac1c0002row24_col21\" class=\"data row24 col21\" >0</td>\n",
              "                        <td id=\"T_f9fd9da4_5a01_11eb_a716_0242ac1c0002row24_col22\" class=\"data row24 col22\" >0</td>\n",
              "                        <td id=\"T_f9fd9da4_5a01_11eb_a716_0242ac1c0002row24_col23\" class=\"data row24 col23\" >0</td>\n",
              "                        <td id=\"T_f9fd9da4_5a01_11eb_a716_0242ac1c0002row24_col24\" class=\"data row24 col24\" >0</td>\n",
              "                        <td id=\"T_f9fd9da4_5a01_11eb_a716_0242ac1c0002row24_col25\" class=\"data row24 col25\" >0</td>\n",
              "                        <td id=\"T_f9fd9da4_5a01_11eb_a716_0242ac1c0002row24_col26\" class=\"data row24 col26\" >0</td>\n",
              "                        <td id=\"T_f9fd9da4_5a01_11eb_a716_0242ac1c0002row24_col27\" class=\"data row24 col27\" >0</td>\n",
              "            </tr>\n",
              "            <tr>\n",
              "                        <th id=\"T_f9fd9da4_5a01_11eb_a716_0242ac1c0002level0_row25\" class=\"row_heading level0 row25\" >25</th>\n",
              "                        <td id=\"T_f9fd9da4_5a01_11eb_a716_0242ac1c0002row25_col0\" class=\"data row25 col0\" >0</td>\n",
              "                        <td id=\"T_f9fd9da4_5a01_11eb_a716_0242ac1c0002row25_col1\" class=\"data row25 col1\" >0</td>\n",
              "                        <td id=\"T_f9fd9da4_5a01_11eb_a716_0242ac1c0002row25_col2\" class=\"data row25 col2\" >0</td>\n",
              "                        <td id=\"T_f9fd9da4_5a01_11eb_a716_0242ac1c0002row25_col3\" class=\"data row25 col3\" >0</td>\n",
              "                        <td id=\"T_f9fd9da4_5a01_11eb_a716_0242ac1c0002row25_col4\" class=\"data row25 col4\" >0</td>\n",
              "                        <td id=\"T_f9fd9da4_5a01_11eb_a716_0242ac1c0002row25_col5\" class=\"data row25 col5\" >0</td>\n",
              "                        <td id=\"T_f9fd9da4_5a01_11eb_a716_0242ac1c0002row25_col6\" class=\"data row25 col6\" >0</td>\n",
              "                        <td id=\"T_f9fd9da4_5a01_11eb_a716_0242ac1c0002row25_col7\" class=\"data row25 col7\" >0</td>\n",
              "                        <td id=\"T_f9fd9da4_5a01_11eb_a716_0242ac1c0002row25_col8\" class=\"data row25 col8\" >0</td>\n",
              "                        <td id=\"T_f9fd9da4_5a01_11eb_a716_0242ac1c0002row25_col9\" class=\"data row25 col9\" >0</td>\n",
              "                        <td id=\"T_f9fd9da4_5a01_11eb_a716_0242ac1c0002row25_col10\" class=\"data row25 col10\" >0</td>\n",
              "                        <td id=\"T_f9fd9da4_5a01_11eb_a716_0242ac1c0002row25_col11\" class=\"data row25 col11\" >0</td>\n",
              "                        <td id=\"T_f9fd9da4_5a01_11eb_a716_0242ac1c0002row25_col12\" class=\"data row25 col12\" >0</td>\n",
              "                        <td id=\"T_f9fd9da4_5a01_11eb_a716_0242ac1c0002row25_col13\" class=\"data row25 col13\" >88</td>\n",
              "                        <td id=\"T_f9fd9da4_5a01_11eb_a716_0242ac1c0002row25_col14\" class=\"data row25 col14\" >77</td>\n",
              "                        <td id=\"T_f9fd9da4_5a01_11eb_a716_0242ac1c0002row25_col15\" class=\"data row25 col15\" >24</td>\n",
              "                        <td id=\"T_f9fd9da4_5a01_11eb_a716_0242ac1c0002row25_col16\" class=\"data row25 col16\" >0</td>\n",
              "                        <td id=\"T_f9fd9da4_5a01_11eb_a716_0242ac1c0002row25_col17\" class=\"data row25 col17\" >0</td>\n",
              "                        <td id=\"T_f9fd9da4_5a01_11eb_a716_0242ac1c0002row25_col18\" class=\"data row25 col18\" >0</td>\n",
              "                        <td id=\"T_f9fd9da4_5a01_11eb_a716_0242ac1c0002row25_col19\" class=\"data row25 col19\" >0</td>\n",
              "                        <td id=\"T_f9fd9da4_5a01_11eb_a716_0242ac1c0002row25_col20\" class=\"data row25 col20\" >0</td>\n",
              "                        <td id=\"T_f9fd9da4_5a01_11eb_a716_0242ac1c0002row25_col21\" class=\"data row25 col21\" >0</td>\n",
              "                        <td id=\"T_f9fd9da4_5a01_11eb_a716_0242ac1c0002row25_col22\" class=\"data row25 col22\" >0</td>\n",
              "                        <td id=\"T_f9fd9da4_5a01_11eb_a716_0242ac1c0002row25_col23\" class=\"data row25 col23\" >0</td>\n",
              "                        <td id=\"T_f9fd9da4_5a01_11eb_a716_0242ac1c0002row25_col24\" class=\"data row25 col24\" >0</td>\n",
              "                        <td id=\"T_f9fd9da4_5a01_11eb_a716_0242ac1c0002row25_col25\" class=\"data row25 col25\" >0</td>\n",
              "                        <td id=\"T_f9fd9da4_5a01_11eb_a716_0242ac1c0002row25_col26\" class=\"data row25 col26\" >0</td>\n",
              "                        <td id=\"T_f9fd9da4_5a01_11eb_a716_0242ac1c0002row25_col27\" class=\"data row25 col27\" >0</td>\n",
              "            </tr>\n",
              "            <tr>\n",
              "                        <th id=\"T_f9fd9da4_5a01_11eb_a716_0242ac1c0002level0_row26\" class=\"row_heading level0 row26\" >26</th>\n",
              "                        <td id=\"T_f9fd9da4_5a01_11eb_a716_0242ac1c0002row26_col0\" class=\"data row26 col0\" >0</td>\n",
              "                        <td id=\"T_f9fd9da4_5a01_11eb_a716_0242ac1c0002row26_col1\" class=\"data row26 col1\" >0</td>\n",
              "                        <td id=\"T_f9fd9da4_5a01_11eb_a716_0242ac1c0002row26_col2\" class=\"data row26 col2\" >0</td>\n",
              "                        <td id=\"T_f9fd9da4_5a01_11eb_a716_0242ac1c0002row26_col3\" class=\"data row26 col3\" >0</td>\n",
              "                        <td id=\"T_f9fd9da4_5a01_11eb_a716_0242ac1c0002row26_col4\" class=\"data row26 col4\" >0</td>\n",
              "                        <td id=\"T_f9fd9da4_5a01_11eb_a716_0242ac1c0002row26_col5\" class=\"data row26 col5\" >0</td>\n",
              "                        <td id=\"T_f9fd9da4_5a01_11eb_a716_0242ac1c0002row26_col6\" class=\"data row26 col6\" >0</td>\n",
              "                        <td id=\"T_f9fd9da4_5a01_11eb_a716_0242ac1c0002row26_col7\" class=\"data row26 col7\" >0</td>\n",
              "                        <td id=\"T_f9fd9da4_5a01_11eb_a716_0242ac1c0002row26_col8\" class=\"data row26 col8\" >0</td>\n",
              "                        <td id=\"T_f9fd9da4_5a01_11eb_a716_0242ac1c0002row26_col9\" class=\"data row26 col9\" >0</td>\n",
              "                        <td id=\"T_f9fd9da4_5a01_11eb_a716_0242ac1c0002row26_col10\" class=\"data row26 col10\" >0</td>\n",
              "                        <td id=\"T_f9fd9da4_5a01_11eb_a716_0242ac1c0002row26_col11\" class=\"data row26 col11\" >0</td>\n",
              "                        <td id=\"T_f9fd9da4_5a01_11eb_a716_0242ac1c0002row26_col12\" class=\"data row26 col12\" >0</td>\n",
              "                        <td id=\"T_f9fd9da4_5a01_11eb_a716_0242ac1c0002row26_col13\" class=\"data row26 col13\" >0</td>\n",
              "                        <td id=\"T_f9fd9da4_5a01_11eb_a716_0242ac1c0002row26_col14\" class=\"data row26 col14\" >0</td>\n",
              "                        <td id=\"T_f9fd9da4_5a01_11eb_a716_0242ac1c0002row26_col15\" class=\"data row26 col15\" >0</td>\n",
              "                        <td id=\"T_f9fd9da4_5a01_11eb_a716_0242ac1c0002row26_col16\" class=\"data row26 col16\" >0</td>\n",
              "                        <td id=\"T_f9fd9da4_5a01_11eb_a716_0242ac1c0002row26_col17\" class=\"data row26 col17\" >0</td>\n",
              "                        <td id=\"T_f9fd9da4_5a01_11eb_a716_0242ac1c0002row26_col18\" class=\"data row26 col18\" >0</td>\n",
              "                        <td id=\"T_f9fd9da4_5a01_11eb_a716_0242ac1c0002row26_col19\" class=\"data row26 col19\" >0</td>\n",
              "                        <td id=\"T_f9fd9da4_5a01_11eb_a716_0242ac1c0002row26_col20\" class=\"data row26 col20\" >0</td>\n",
              "                        <td id=\"T_f9fd9da4_5a01_11eb_a716_0242ac1c0002row26_col21\" class=\"data row26 col21\" >0</td>\n",
              "                        <td id=\"T_f9fd9da4_5a01_11eb_a716_0242ac1c0002row26_col22\" class=\"data row26 col22\" >0</td>\n",
              "                        <td id=\"T_f9fd9da4_5a01_11eb_a716_0242ac1c0002row26_col23\" class=\"data row26 col23\" >0</td>\n",
              "                        <td id=\"T_f9fd9da4_5a01_11eb_a716_0242ac1c0002row26_col24\" class=\"data row26 col24\" >0</td>\n",
              "                        <td id=\"T_f9fd9da4_5a01_11eb_a716_0242ac1c0002row26_col25\" class=\"data row26 col25\" >0</td>\n",
              "                        <td id=\"T_f9fd9da4_5a01_11eb_a716_0242ac1c0002row26_col26\" class=\"data row26 col26\" >0</td>\n",
              "                        <td id=\"T_f9fd9da4_5a01_11eb_a716_0242ac1c0002row26_col27\" class=\"data row26 col27\" >0</td>\n",
              "            </tr>\n",
              "            <tr>\n",
              "                        <th id=\"T_f9fd9da4_5a01_11eb_a716_0242ac1c0002level0_row27\" class=\"row_heading level0 row27\" >27</th>\n",
              "                        <td id=\"T_f9fd9da4_5a01_11eb_a716_0242ac1c0002row27_col0\" class=\"data row27 col0\" >0</td>\n",
              "                        <td id=\"T_f9fd9da4_5a01_11eb_a716_0242ac1c0002row27_col1\" class=\"data row27 col1\" >0</td>\n",
              "                        <td id=\"T_f9fd9da4_5a01_11eb_a716_0242ac1c0002row27_col2\" class=\"data row27 col2\" >0</td>\n",
              "                        <td id=\"T_f9fd9da4_5a01_11eb_a716_0242ac1c0002row27_col3\" class=\"data row27 col3\" >0</td>\n",
              "                        <td id=\"T_f9fd9da4_5a01_11eb_a716_0242ac1c0002row27_col4\" class=\"data row27 col4\" >0</td>\n",
              "                        <td id=\"T_f9fd9da4_5a01_11eb_a716_0242ac1c0002row27_col5\" class=\"data row27 col5\" >0</td>\n",
              "                        <td id=\"T_f9fd9da4_5a01_11eb_a716_0242ac1c0002row27_col6\" class=\"data row27 col6\" >0</td>\n",
              "                        <td id=\"T_f9fd9da4_5a01_11eb_a716_0242ac1c0002row27_col7\" class=\"data row27 col7\" >0</td>\n",
              "                        <td id=\"T_f9fd9da4_5a01_11eb_a716_0242ac1c0002row27_col8\" class=\"data row27 col8\" >0</td>\n",
              "                        <td id=\"T_f9fd9da4_5a01_11eb_a716_0242ac1c0002row27_col9\" class=\"data row27 col9\" >0</td>\n",
              "                        <td id=\"T_f9fd9da4_5a01_11eb_a716_0242ac1c0002row27_col10\" class=\"data row27 col10\" >0</td>\n",
              "                        <td id=\"T_f9fd9da4_5a01_11eb_a716_0242ac1c0002row27_col11\" class=\"data row27 col11\" >0</td>\n",
              "                        <td id=\"T_f9fd9da4_5a01_11eb_a716_0242ac1c0002row27_col12\" class=\"data row27 col12\" >0</td>\n",
              "                        <td id=\"T_f9fd9da4_5a01_11eb_a716_0242ac1c0002row27_col13\" class=\"data row27 col13\" >0</td>\n",
              "                        <td id=\"T_f9fd9da4_5a01_11eb_a716_0242ac1c0002row27_col14\" class=\"data row27 col14\" >0</td>\n",
              "                        <td id=\"T_f9fd9da4_5a01_11eb_a716_0242ac1c0002row27_col15\" class=\"data row27 col15\" >0</td>\n",
              "                        <td id=\"T_f9fd9da4_5a01_11eb_a716_0242ac1c0002row27_col16\" class=\"data row27 col16\" >0</td>\n",
              "                        <td id=\"T_f9fd9da4_5a01_11eb_a716_0242ac1c0002row27_col17\" class=\"data row27 col17\" >0</td>\n",
              "                        <td id=\"T_f9fd9da4_5a01_11eb_a716_0242ac1c0002row27_col18\" class=\"data row27 col18\" >0</td>\n",
              "                        <td id=\"T_f9fd9da4_5a01_11eb_a716_0242ac1c0002row27_col19\" class=\"data row27 col19\" >0</td>\n",
              "                        <td id=\"T_f9fd9da4_5a01_11eb_a716_0242ac1c0002row27_col20\" class=\"data row27 col20\" >0</td>\n",
              "                        <td id=\"T_f9fd9da4_5a01_11eb_a716_0242ac1c0002row27_col21\" class=\"data row27 col21\" >0</td>\n",
              "                        <td id=\"T_f9fd9da4_5a01_11eb_a716_0242ac1c0002row27_col22\" class=\"data row27 col22\" >0</td>\n",
              "                        <td id=\"T_f9fd9da4_5a01_11eb_a716_0242ac1c0002row27_col23\" class=\"data row27 col23\" >0</td>\n",
              "                        <td id=\"T_f9fd9da4_5a01_11eb_a716_0242ac1c0002row27_col24\" class=\"data row27 col24\" >0</td>\n",
              "                        <td id=\"T_f9fd9da4_5a01_11eb_a716_0242ac1c0002row27_col25\" class=\"data row27 col25\" >0</td>\n",
              "                        <td id=\"T_f9fd9da4_5a01_11eb_a716_0242ac1c0002row27_col26\" class=\"data row27 col26\" >0</td>\n",
              "                        <td id=\"T_f9fd9da4_5a01_11eb_a716_0242ac1c0002row27_col27\" class=\"data row27 col27\" >0</td>\n",
              "            </tr>\n",
              "    </tbody></table>"
            ],
            "text/plain": [
              "<pandas.io.formats.style.Styler at 0x7fdef27f3e48>"
            ]
          },
          "metadata": {
            "tags": []
          },
          "execution_count": 42
        }
      ]
    },
    {
      "cell_type": "markdown",
      "metadata": {
        "id": "gpNsvkElHtJk"
      },
      "source": [
        "Instead we could look at each individual pixel and come up with a set of weights for each, such that the highest weights are associated with those pixels most likely to be black for a particular category.\n",
        "\n",
        "For instance, pixel toward the bottom right are not very likely to be activated for a 7, so 7 will have a low weight. But they are activated for 8, so now 8 would have high weight."
      ]
    },
    {
      "cell_type": "code",
      "metadata": {
        "id": "Ukik8yA5I3XC"
      },
      "source": [
        "# Probability of number being 8 \n",
        "\n",
        "def pr_eight(x , w):\n",
        "  '''\n",
        "  x --> input image\n",
        "  w --> weights\n",
        "  '''\n",
        "  return (x*w).sum()"
      ],
      "execution_count": 43,
      "outputs": []
    },
    {
      "cell_type": "markdown",
      "metadata": {
        "id": "Pgxr-uqJJEal"
      },
      "source": [
        "### Sequence of steps\n",
        "\n",
        "- **Initialize**\n",
        "\n",
        "    We initialize the parameters (or) weights to random values at first. It's believed starting with random weights (or) values works perfectly well. \n",
        "\n",
        "- **Loss**\n",
        "\n",
        "    A function will return a number that is small when the performance of the model is good. The standard approach is to treat a **small loss as a god and large loss as bad.** \n",
        "\n",
        "- **Step**\n",
        "\n",
        "    A simple way to figure out whether a weight should be increased a bit or decreased, would be just try to increase the weight by a small amount and observe the loss goes up or down. We do this increment and decrement until we find an amount that satisfy us. \n",
        "\n",
        "    However, we use calculus to take care of this. Finding which direction and roughly how much, to change each weight without doing those adjustments above. \n",
        "\n",
        "    We do this by calculating ***gradients.*** This is just an **performance optimization.** \n",
        "\n",
        "- **Stop**\n",
        "\n",
        "    This is the phase where we choose the epochs to train the model for, we would keep training until the accuracy of the model started getting worse or ran out of time. \n",
        "\n",
        "    Before jumping into the whole method, will focus on applying them on simple steps for our digit classifier.\n",
        "\n",
        "\n",
        "Creating a simple quadratic function, pretending this as our loss function \n",
        "`x` --> weight param "
      ]
    },
    {
      "cell_type": "code",
      "metadata": {
        "id": "of4xYXo2oeuV"
      },
      "source": [
        "# simple loss function \n",
        "\n",
        "def f(x):\n",
        "  return x**2"
      ],
      "execution_count": 44,
      "outputs": []
    },
    {
      "cell_type": "code",
      "metadata": {
        "colab": {
          "base_uri": "https://localhost:8080/",
          "height": 339
        },
        "id": "0G-NIeovowt_",
        "outputId": "e8f6ce88-f5f9-4792-df0d-58d38de24617"
      },
      "source": [
        "# plotting the graph of the function\n",
        "\n",
        "plot_function(f , 'x' , 'x**2')"
      ],
      "execution_count": 48,
      "outputs": [
        {
          "output_type": "stream",
          "text": [
            "/usr/local/lib/python3.6/dist-packages/fastbook/__init__.py:73: UserWarning: Not providing a value for linspace's steps is deprecated and will throw a runtime error in a future release. This warning will appear only once per process. (Triggered internally at  /pytorch/aten/src/ATen/native/RangeFactories.cpp:23.)\n",
            "  x = torch.linspace(min,max)\n"
          ],
          "name": "stderr"
        },
        {
          "output_type": "display_data",
          "data": {
            "image/png": "[encoded data removed]",
            "text/plain": [
              "<Figure size 432x288 with 1 Axes>"
            ]
          },
          "metadata": {
            "tags": [],
            "needs_background": "light"
          }
        }
      ]
    },
    {
      "cell_type": "markdown",
      "metadata": {
        "id": "xSdAFRx5o5F0"
      },
      "source": [
        "Now the next step would be as per the steps or guide we described, \n",
        "\n",
        "- Pick a random value from that graph\n",
        "- Calculate loss for that value"
      ]
    },
    {
      "cell_type": "code",
      "metadata": {
        "colab": {
          "base_uri": "https://localhost:8080/",
          "height": 285
        },
        "id": "nFo1TVVyqYYk",
        "outputId": "f1071bc5-e181-42de-cb9c-a961652cc96e"
      },
      "source": [
        "# Picking up a random value \n",
        "\n",
        "plot_function(f , 'x' , 'x**2')\n",
        "plt.scatter(-1.5 , f(-1.5), color='red');"
      ],
      "execution_count": 50,
      "outputs": [
        {
          "output_type": "display_data",
          "data": {
            "image/png": "[encoded data removed]",
            "text/plain": [
              "<Figure size 432x288 with 1 Axes>"
            ]
          },
          "metadata": {
            "tags": [],
            "needs_background": "light"
          }
        }
      ]
    },
    {
      "cell_type": "markdown",
      "metadata": {
        "id": "iCL5PfLrqmQK"
      },
      "source": [
        "Now we will observe what would happen if we increase or decrease our parameters (or values) by adjusting them towards the slope at a particular point. \n",
        "![Screenshot 2021-01-19 at 08.57.08.png](data:image/png;base64,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)"
      ]
    },
    {
      "cell_type": "markdown",
      "metadata": {
        "id": "r52gXTGBrrZd"
      },
      "source": [
        "## The Magic Step - Calculating Gradients\n",
        "\n",
        "As mentioned above we use **calculus** as a performance optimization, it will help us quickly to calculate whether our loss will go up or down when we adjust the parameters up or down. \n",
        "\n",
        "In simple words **gradients will tell us how much we have to change each weight to make our model better.** \n",
        "\n",
        "**What is derivative?**\n",
        "\n",
        "For any quadratic function we can calculate its derivatives. The derivative is another function, it calculates the change rather than the value. \n",
        "\n",
        "For instance, the derivative of the quad function at the value 3 tells us how rapidly the function changes at the value 3. \n",
        "\n",
        "More appropriate definition would be, \n",
        "\n",
        "Gradient is defined as rise/run that is the change in the value of the function, divided by the change in the value of the parameter. \n",
        "\n",
        "The idea here is when we know how our function will change, we know what we need to do to make it smaller. \n",
        "\n",
        "The key in ML is having a way to change the parameter of a function to make it smaller.\n",
        "\n",
        "#### **Calculating Gradients with Pytorch** "
      ]
    },
    {
      "cell_type": "code",
      "metadata": {
        "id": "DxbOTF110Rjy"
      },
      "source": [
        "import torch"
      ],
      "execution_count": 52,
      "outputs": []
    },
    {
      "cell_type": "code",
      "metadata": {
        "id": "q4GxCeun0Ec3"
      },
      "source": [
        "# A tensor, in this value we need gradients \n",
        "\n",
        "xt = tensor(3.).requires_grad_()"
      ],
      "execution_count": 51,
      "outputs": []
    },
    {
      "cell_type": "code",
      "metadata": {
        "colab": {
          "base_uri": "https://localhost:8080/"
        },
        "id": "fRxlsxNk0QoM",
        "outputId": "90a84f9b-b7cd-43ee-a6e8-f54ed8259d44"
      },
      "source": [
        "# making calculating with that value (xt)\n",
        "\n",
        "yt = f(xt) # x**2 --> 2x --> 2(xt) --> 2(3) --> 6 (gradient)\n",
        "yt"
      ],
      "execution_count": 53,
      "outputs": [
        {
          "output_type": "execute_result",
          "data": {
            "text/plain": [
              "tensor(9., grad_fn=<PowBackward0>)"
            ]
          },
          "metadata": {
            "tags": []
          },
          "execution_count": 53
        }
      ]
    },
    {
      "cell_type": "code",
      "metadata": {
        "id": "HtsCV8s81FW6"
      },
      "source": [
        "# Telling Pytorch to calculate gradients for us \n",
        "\n",
        "yt.backward()  # refers to backpropagation"
      ],
      "execution_count": 54,
      "outputs": []
    },
    {
      "cell_type": "code",
      "metadata": {
        "colab": {
          "base_uri": "https://localhost:8080/"
        },
        "id": "J_H9tM3-1NCt",
        "outputId": "870301ea-9871-47c7-d0d0-247b7507a4e9"
      },
      "source": [
        "# Viewing the gradients \n",
        "\n",
        "xt.grad"
      ],
      "execution_count": 55,
      "outputs": [
        {
          "output_type": "execute_result",
          "data": {
            "text/plain": [
              "tensor(6.)"
            ]
          },
          "metadata": {
            "tags": []
          },
          "execution_count": 55
        }
      ]
    },
    {
      "cell_type": "code",
      "metadata": {
        "colab": {
          "base_uri": "https://localhost:8080/"
        },
        "id": "PBIujTHo2lQf",
        "outputId": "7a79b73f-4ec8-4a1e-9dd0-1406de58a8c7"
      },
      "source": [
        "# Same steps but with an Vector Argument \n",
        "\n",
        "xt = tensor([3. , 4. , 5.]).requires_grad_()\n",
        "xt"
      ],
      "execution_count": 57,
      "outputs": [
        {
          "output_type": "execute_result",
          "data": {
            "text/plain": [
              "tensor([3., 4., 5.], requires_grad=True)"
            ]
          },
          "metadata": {
            "tags": []
          },
          "execution_count": 57
        }
      ]
    },
    {
      "cell_type": "code",
      "metadata": {
        "colab": {
          "base_uri": "https://localhost:8080/"
        },
        "id": "q18K-yb83aKQ",
        "outputId": "f71bd283-3da5-4834-fe7b-692ad22194b3"
      },
      "source": [
        "# Adding sum to the function --> so it can return a scalar \n",
        "\n",
        "def f(x):\n",
        "  return (x**2).sum()\n",
        "\n",
        "yt = f(xt) "
      ],
      "execution_count": 58,
      "outputs": [
        {
          "output_type": "execute_result",
          "data": {
            "text/plain": [
              "tensor(50., grad_fn=<SumBackward0>)"
            ]
          },
          "metadata": {
            "tags": []
          },
          "execution_count": 58
        }
      ]
    },
    {
      "cell_type": "code",
      "metadata": {
        "colab": {
          "base_uri": "https://localhost:8080/"
        },
        "id": "ojp7Ul833rZo",
        "outputId": "6a005c19-6be8-4ebe-dbea-f40def0076c8"
      },
      "source": [
        "# Gradients --> 2*xt for every value it applies and sums up\n",
        "\n",
        "yt.backward()\n",
        "xt.grad"
      ],
      "execution_count": 60,
      "outputs": [
        {
          "output_type": "execute_result",
          "data": {
            "text/plain": [
              "tensor([ 6.,  8., 10.])"
            ]
          },
          "metadata": {
            "tags": []
          },
          "execution_count": 60
        }
      ]
    },
    {
      "cell_type": "markdown",
      "metadata": {
        "id": "-8j--u_G4LBm"
      },
      "source": [
        "The gradients will tell us only the slope of our function, they don't tell us exactly how far to adjust the parameters. \n",
        "\n",
        "If slope is very large —> More adjustments to do \n",
        "\n",
        "If slope is very small —> we are close to the optimal value."
      ]
    },
    {
      "cell_type": "code",
      "metadata": {
        "id": "HTCFzaIJ4rH9"
      },
      "source": [
        ""
      ],
      "execution_count": null,
      "outputs": []
    }
  ]
}