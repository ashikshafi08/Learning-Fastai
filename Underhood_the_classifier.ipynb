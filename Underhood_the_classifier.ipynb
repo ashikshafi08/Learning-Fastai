{
  "nbformat": 4,
  "nbformat_minor": 0,
  "metadata": {
    "colab": {
      "name": "Underhood the classifier.ipynb",
      "provenance": [],
      "collapsed_sections": [],
      "authorship_tag": "ABX9TyPw0v9ZaJahL+03M6K8jw67",
      "include_colab_link": true
    },
    "kernelspec": {
      "name": "python3",
      "display_name": "Python 3"
    },
    "accelerator": "GPU"
  },
  "cells": [
    {
      "cell_type": "markdown",
      "metadata": {
        "id": "view-in-github",
        "colab_type": "text"
      },
      "source": [
        "<a href=\"https://colab.research.google.com/github/ashikshafi08/Learning-Fastai/blob/main/Underhood_the_classifier.ipynb\" target=\"_parent\"><img src=\"https://colab.research.google.com/assets/colab-badge.svg\" alt=\"Open In Colab\"/></a>"
      ]
    },
    {
      "cell_type": "code",
      "metadata": {
        "colab": {
          "base_uri": "https://localhost:8080/"
        },
        "id": "lJJvKuXScLg2",
        "outputId": "c88760f7-99c3-4f50-8593-2c15019b6a10"
      },
      "source": [
        " pip install fastai --upgrade"
      ],
      "execution_count": 134,
      "outputs": [
        {
          "output_type": "stream",
          "text": [
            "Requirement already up-to-date: fastai in /usr/local/lib/python3.6/dist-packages (2.2.5)\n",
            "Requirement already satisfied, skipping upgrade: spacy in /usr/local/lib/python3.6/dist-packages (from fastai) (2.2.4)\n",
            "Requirement already satisfied, skipping upgrade: scipy in /usr/local/lib/python3.6/dist-packages (from fastai) (1.4.1)\n",
            "Requirement already satisfied, skipping upgrade: pyyaml in /usr/local/lib/python3.6/dist-packages (from fastai) (3.13)\n",
            "Requirement already satisfied, skipping upgrade: pandas in /usr/local/lib/python3.6/dist-packages (from fastai) (1.1.5)\n",
            "Requirement already satisfied, skipping upgrade: fastprogress>=0.2.4 in /usr/local/lib/python3.6/dist-packages (from fastai) (1.0.0)\n",
            "Requirement already satisfied, skipping upgrade: torch<1.8,>=1.7.0 in /usr/local/lib/python3.6/dist-packages (from fastai) (1.7.0+cu101)\n",
            "Requirement already satisfied, skipping upgrade: pillow>6.0.0 in /usr/local/lib/python3.6/dist-packages (from fastai) (7.0.0)\n",
            "Requirement already satisfied, skipping upgrade: pip in /usr/local/lib/python3.6/dist-packages (from fastai) (19.3.1)\n",
            "Requirement already satisfied, skipping upgrade: packaging in /usr/local/lib/python3.6/dist-packages (from fastai) (20.8)\n",
            "Requirement already satisfied, skipping upgrade: requests in /usr/local/lib/python3.6/dist-packages (from fastai) (2.23.0)\n",
            "Requirement already satisfied, skipping upgrade: torchvision<0.9,>=0.8 in /usr/local/lib/python3.6/dist-packages (from fastai) (0.8.1+cu101)\n",
            "Requirement already satisfied, skipping upgrade: scikit-learn in /usr/local/lib/python3.6/dist-packages (from fastai) (0.22.2.post1)\n",
            "Requirement already satisfied, skipping upgrade: fastcore<1.4,>=1.3.8 in /usr/local/lib/python3.6/dist-packages (from fastai) (1.3.19)\n",
            "Requirement already satisfied, skipping upgrade: matplotlib in /usr/local/lib/python3.6/dist-packages (from fastai) (3.2.2)\n",
            "Requirement already satisfied, skipping upgrade: wasabi<1.1.0,>=0.4.0 in /usr/local/lib/python3.6/dist-packages (from spacy->fastai) (0.8.0)\n",
            "Requirement already satisfied, skipping upgrade: catalogue<1.1.0,>=0.0.7 in /usr/local/lib/python3.6/dist-packages (from spacy->fastai) (1.0.0)\n",
            "Requirement already satisfied, skipping upgrade: thinc==7.4.0 in /usr/local/lib/python3.6/dist-packages (from spacy->fastai) (7.4.0)\n",
            "Requirement already satisfied, skipping upgrade: cymem<2.1.0,>=2.0.2 in /usr/local/lib/python3.6/dist-packages (from spacy->fastai) (2.0.5)\n",
            "Requirement already satisfied, skipping upgrade: preshed<3.1.0,>=3.0.2 in /usr/local/lib/python3.6/dist-packages (from spacy->fastai) (3.0.5)\n",
            "Requirement already satisfied, skipping upgrade: blis<0.5.0,>=0.4.0 in /usr/local/lib/python3.6/dist-packages (from spacy->fastai) (0.4.1)\n",
            "Requirement already satisfied, skipping upgrade: tqdm<5.0.0,>=4.38.0 in /usr/local/lib/python3.6/dist-packages (from spacy->fastai) (4.41.1)\n",
            "Requirement already satisfied, skipping upgrade: numpy>=1.15.0 in /usr/local/lib/python3.6/dist-packages (from spacy->fastai) (1.19.5)\n",
            "Requirement already satisfied, skipping upgrade: setuptools in /usr/local/lib/python3.6/dist-packages (from spacy->fastai) (51.3.3)\n",
            "Requirement already satisfied, skipping upgrade: srsly<1.1.0,>=1.0.2 in /usr/local/lib/python3.6/dist-packages (from spacy->fastai) (1.0.5)\n",
            "Requirement already satisfied, skipping upgrade: murmurhash<1.1.0,>=0.28.0 in /usr/local/lib/python3.6/dist-packages (from spacy->fastai) (1.0.5)\n",
            "Requirement already satisfied, skipping upgrade: plac<1.2.0,>=0.9.6 in /usr/local/lib/python3.6/dist-packages (from spacy->fastai) (1.1.3)\n",
            "Requirement already satisfied, skipping upgrade: pytz>=2017.2 in /usr/local/lib/python3.6/dist-packages (from pandas->fastai) (2018.9)\n",
            "Requirement already satisfied, skipping upgrade: python-dateutil>=2.7.3 in /usr/local/lib/python3.6/dist-packages (from pandas->fastai) (2.8.1)\n",
            "Requirement already satisfied, skipping upgrade: dataclasses in /usr/local/lib/python3.6/dist-packages (from torch<1.8,>=1.7.0->fastai) (0.8)\n",
            "Requirement already satisfied, skipping upgrade: typing-extensions in /usr/local/lib/python3.6/dist-packages (from torch<1.8,>=1.7.0->fastai) (3.7.4.3)\n",
            "Requirement already satisfied, skipping upgrade: future in /usr/local/lib/python3.6/dist-packages (from torch<1.8,>=1.7.0->fastai) (0.16.0)\n",
            "Requirement already satisfied, skipping upgrade: pyparsing>=2.0.2 in /usr/local/lib/python3.6/dist-packages (from packaging->fastai) (2.4.7)\n",
            "Requirement already satisfied, skipping upgrade: idna<3,>=2.5 in /usr/local/lib/python3.6/dist-packages (from requests->fastai) (2.10)\n",
            "Requirement already satisfied, skipping upgrade: certifi>=2017.4.17 in /usr/local/lib/python3.6/dist-packages (from requests->fastai) (2020.12.5)\n",
            "Requirement already satisfied, skipping upgrade: urllib3!=1.25.0,!=1.25.1,<1.26,>=1.21.1 in /usr/local/lib/python3.6/dist-packages (from requests->fastai) (1.24.3)\n",
            "Requirement already satisfied, skipping upgrade: chardet<4,>=3.0.2 in /usr/local/lib/python3.6/dist-packages (from requests->fastai) (3.0.4)\n",
            "Requirement already satisfied, skipping upgrade: joblib>=0.11 in /usr/local/lib/python3.6/dist-packages (from scikit-learn->fastai) (1.0.0)\n",
            "Requirement already satisfied, skipping upgrade: cycler>=0.10 in /usr/local/lib/python3.6/dist-packages (from matplotlib->fastai) (0.10.0)\n",
            "Requirement already satisfied, skipping upgrade: kiwisolver>=1.0.1 in /usr/local/lib/python3.6/dist-packages (from matplotlib->fastai) (1.3.1)\n",
            "Requirement already satisfied, skipping upgrade: importlib-metadata>=0.20; python_version < \"3.8\" in /usr/local/lib/python3.6/dist-packages (from catalogue<1.1.0,>=0.0.7->spacy->fastai) (3.3.0)\n",
            "Requirement already satisfied, skipping upgrade: six>=1.5 in /usr/local/lib/python3.6/dist-packages (from python-dateutil>=2.7.3->pandas->fastai) (1.15.0)\n",
            "Requirement already satisfied, skipping upgrade: zipp>=0.5 in /usr/local/lib/python3.6/dist-packages (from importlib-metadata>=0.20; python_version < \"3.8\"->catalogue<1.1.0,>=0.0.7->spacy->fastai) (3.4.0)\n"
          ],
          "name": "stdout"
        }
      ]
    },
    {
      "cell_type": "code",
      "metadata": {
        "id": "84U4NJkIpF9S"
      },
      "source": [
        "# Certain utils\n",
        "\n",
        "!pip install -Uqq fastbook\n",
        "import fastbook\n",
        "fastbook.setup_book()\n",
        "from fastbook import *\n"
      ],
      "execution_count": 135,
      "outputs": []
    },
    {
      "cell_type": "code",
      "metadata": {
        "id": "9O_iZL_6cFUp"
      },
      "source": [
        "from fastai import *\n",
        "from fastai.vision.all import *"
      ],
      "execution_count": 136,
      "outputs": []
    },
    {
      "cell_type": "markdown",
      "metadata": {
        "id": "nBrMHQrGcVhp"
      },
      "source": [
        "# Pixel Similarity \n",
        "\n",
        "Find the average pixel value for every pixel of the `3s` then do the same for the `7s` . This will give us two group average's defining what we might call the **ideal** `3` and `7` . \n",
        "\n",
        "Then to classify an image as one digit or the another we see which of these two ideal digits the image is most similar to."
      ]
    },
    {
      "cell_type": "code",
      "metadata": {
        "colab": {
          "base_uri": "https://localhost:8080/"
        },
        "id": "CEqDi5F1cp-V",
        "outputId": "7298491a-106b-41cd-df98-3faaf43674d1"
      },
      "source": [
        "# Already done these all before \n",
        "\n",
        "path = untar_data(URLs.MNIST_SAMPLE)\n",
        "\n",
        "threes = (path / 'train' / '3').ls().sorted()\n",
        "sevens = (path / 'train' / '7').ls().sorted()\n",
        "\n",
        "len(sevens) , len(threes)"
      ],
      "execution_count": 137,
      "outputs": [
        {
          "output_type": "execute_result",
          "data": {
            "text/plain": [
              "(6265, 6131)"
            ]
          },
          "metadata": {
            "tags": []
          },
          "execution_count": 137
        }
      ]
    },
    {
      "cell_type": "code",
      "metadata": {
        "id": "5KZC17recrq3"
      },
      "source": [
        "# Stacking all the images in the directory, and converting into tensors\n",
        "\n",
        "seven_tensor = [tensor(Image.open(o)) for o in sevens]\n",
        "three_tensor = [tensor(Image.open(o)) for o in threes]\n"
      ],
      "execution_count": 138,
      "outputs": []
    },
    {
      "cell_type": "code",
      "metadata": {
        "colab": {
          "base_uri": "https://localhost:8080/"
        },
        "id": "cSz82yu0cszb",
        "outputId": "de54fde0-73bb-4c22-a1d2-8cb6944b1cc6"
      },
      "source": [
        "# Checking the shape of the tensor\n",
        "\n",
        "len(seven_tensor) , len(three_tensor)"
      ],
      "execution_count": 139,
      "outputs": [
        {
          "output_type": "execute_result",
          "data": {
            "text/plain": [
              "(6265, 6131)"
            ]
          },
          "metadata": {
            "tags": []
          },
          "execution_count": 139
        }
      ]
    },
    {
      "cell_type": "code",
      "metadata": {
        "colab": {
          "base_uri": "https://localhost:8080/",
          "height": 102
        },
        "id": "bWpx_jx8c8oj",
        "outputId": "baf37e1a-2d39-4cf0-9447-8237be9f3db2"
      },
      "source": [
        "# Printing out a image \n",
        "\n",
        "show_image(three_tensor[4]) # Show image is fastai's function"
      ],
      "execution_count": 140,
      "outputs": [
        {
          "output_type": "execute_result",
          "data": {
            "text/plain": [
              "<matplotlib.axes._subplots.AxesSubplot at 0x7fbf6e8b7240>"
            ]
          },
          "metadata": {
            "tags": []
          },
          "execution_count": 140
        },
        {
          "output_type": "display_data",
          "data": {
            "image/png": "[encoded data removed]",
            "text/plain": [
              "<Figure size 72x72 with 1 Axes>"
            ]
          },
          "metadata": {
            "tags": [],
            "needs_background": "light"
          }
        }
      ]
    },
    {
      "cell_type": "markdown",
      "metadata": {
        "id": "jNLahQ7CdkTZ"
      },
      "source": [
        "We want to compute the average over all the images of the intensity of the pixel. \n",
        "\n",
        "In Pytorch, such as taking a mean require us to cast our integer to types of float. So we gotta cast our stacked tensor to float now."
      ]
    },
    {
      "cell_type": "code",
      "metadata": {
        "colab": {
          "base_uri": "https://localhost:8080/"
        },
        "id": "80Ka_-AYdnod",
        "outputId": "5d381902-aac6-4f94-8db5-1101b6532ca0"
      },
      "source": [
        "# Casting our integer type to float \n",
        "\n",
        "stacked_sevens = torch.stack(seven_tensor).float() / 255\n",
        "stacked_threes = torch.stack(three_tensor).float() / 255\n",
        "\n",
        "stacked_sevens.shape , stacked_threes.shape"
      ],
      "execution_count": 141,
      "outputs": [
        {
          "output_type": "execute_result",
          "data": {
            "text/plain": [
              "(torch.Size([6265, 28, 28]), torch.Size([6131, 28, 28]))"
            ]
          },
          "metadata": {
            "tags": []
          },
          "execution_count": 141
        }
      ]
    },
    {
      "cell_type": "markdown",
      "metadata": {
        "id": "SOv_938qgMG-"
      },
      "source": [
        "In above the `.shape` tells us that stacked_sevens has 6252 images, each size of *28x28* pixels. \n"
      ]
    },
    {
      "cell_type": "code",
      "metadata": {
        "colab": {
          "base_uri": "https://localhost:8080/"
        },
        "id": "u9d4cycQg7Cx",
        "outputId": "617b109a-14f8-464f-8f01-1845592d7ea8"
      },
      "source": [
        "# Length of tensor's shape is its rank \n",
        "\n",
        "len(stacked_threes.shape) , len(stacked_sevens.shape) # both are rank 3 tensors"
      ],
      "execution_count": 142,
      "outputs": [
        {
          "output_type": "execute_result",
          "data": {
            "text/plain": [
              "(3, 3)"
            ]
          },
          "metadata": {
            "tags": []
          },
          "execution_count": 142
        }
      ]
    },
    {
      "cell_type": "code",
      "metadata": {
        "colab": {
          "base_uri": "https://localhost:8080/"
        },
        "id": "vhYrPPLQhIs5",
        "outputId": "2b9624e8-3af4-4e53-ab0c-ddd97fd66985"
      },
      "source": [
        "# Also using ndim we can get the rank \n",
        "\n",
        "stacked_sevens.ndim"
      ],
      "execution_count": 143,
      "outputs": [
        {
          "output_type": "execute_result",
          "data": {
            "text/plain": [
              "3"
            ]
          },
          "metadata": {
            "tags": []
          },
          "execution_count": 143
        }
      ]
    },
    {
      "cell_type": "code",
      "metadata": {
        "id": "OmIr4PSKhqiV",
        "colab": {
          "base_uri": "https://localhost:8080/",
          "height": 187
        },
        "outputId": "2a65d858-6357-4b4d-f57c-db13d33c76a5"
      },
      "source": [
        "# The Mean 3, which we computed by taking the mean along dimensions 0 of our staced tensor\n",
        "\n",
        "mean3 = stacked_threes.mean(0) # divided by 0th dimension\n",
        "mean7 = stacked_sevens.mean(0)\n",
        "\n",
        "# Display\n",
        "show_image(mean3) , show_image(mean7)"
      ],
      "execution_count": 144,
      "outputs": [
        {
          "output_type": "execute_result",
          "data": {
            "text/plain": [
              "(<matplotlib.axes._subplots.AxesSubplot at 0x7fbf6e91c208>,\n",
              " <matplotlib.axes._subplots.AxesSubplot at 0x7fbf6ea7ff98>)"
            ]
          },
          "metadata": {
            "tags": []
          },
          "execution_count": 144
        },
        {
          "output_type": "display_data",
          "data": {
            "image/png": "[encoded data removed]",
            "text/plain": [
              "<Figure size 72x72 with 1 Axes>"
            ]
          },
          "metadata": {
            "tags": [],
            "needs_background": "light"
          }
        },
        {
          "output_type": "display_data",
          "data": {
            "image/png": "[encoded data removed]",
            "text/plain": [
              "<Figure size 72x72 with 1 Axes>"
            ]
          },
          "metadata": {
            "tags": [],
            "needs_background": "light"
          }
        }
      ]
    },
    {
      "cell_type": "code",
      "metadata": {
        "colab": {
          "base_uri": "https://localhost:8080/"
        },
        "id": "TtGWV_86DMg0",
        "outputId": "a36e720a-793c-421f-f72a-9edc7463bc67"
      },
      "source": [
        "stacked_threes.mean(0)"
      ],
      "execution_count": 145,
      "outputs": [
        {
          "output_type": "execute_result",
          "data": {
            "text/plain": [
              "tensor([[0.0000e+00, 0.0000e+00, 0.0000e+00, 0.0000e+00, 0.0000e+00, 0.0000e+00, 0.0000e+00, 0.0000e+00, 0.0000e+00, 0.0000e+00, 0.0000e+00, 0.0000e+00, 0.0000e+00, 0.0000e+00, 0.0000e+00, 0.0000e+00,\n",
              "         0.0000e+00, 0.0000e+00, 0.0000e+00, 0.0000e+00, 0.0000e+00, 0.0000e+00, 0.0000e+00, 0.0000e+00, 0.0000e+00, 0.0000e+00, 0.0000e+00, 0.0000e+00],\n",
              "        [0.0000e+00, 0.0000e+00, 0.0000e+00, 0.0000e+00, 0.0000e+00, 0.0000e+00, 0.0000e+00, 0.0000e+00, 0.0000e+00, 0.0000e+00, 0.0000e+00, 0.0000e+00, 0.0000e+00, 0.0000e+00, 0.0000e+00, 0.0000e+00,\n",
              "         0.0000e+00, 0.0000e+00, 0.0000e+00, 0.0000e+00, 0.0000e+00, 0.0000e+00, 0.0000e+00, 0.0000e+00, 0.0000e+00, 0.0000e+00, 0.0000e+00, 0.0000e+00],\n",
              "        [0.0000e+00, 0.0000e+00, 0.0000e+00, 0.0000e+00, 0.0000e+00, 0.0000e+00, 0.0000e+00, 0.0000e+00, 0.0000e+00, 0.0000e+00, 7.2918e-05, 1.9637e-04, 2.3410e-04, 1.9253e-04, 2.7568e-04, 2.6161e-04,\n",
              "         2.9423e-04, 2.8400e-04, 1.5671e-04, 4.8612e-05, 5.7567e-06, 0.0000e+00, 0.0000e+00, 0.0000e+00, 0.0000e+00, 0.0000e+00, 0.0000e+00, 0.0000e+00],\n",
              "        [0.0000e+00, 0.0000e+00, 0.0000e+00, 0.0000e+00, 1.5991e-05, 4.8676e-04, 7.7331e-04, 1.4468e-03, 2.9788e-03, 5.6486e-03, 9.5177e-03, 1.5693e-02, 2.1113e-02, 2.4280e-02, 2.5964e-02, 2.4268e-02,\n",
              "         2.0875e-02, 1.7108e-02, 1.1642e-02, 7.0436e-03, 3.9945e-03, 1.4955e-03, 3.2941e-04, 0.0000e+00, 0.0000e+00, 0.0000e+00, 0.0000e+00, 0.0000e+00],\n",
              "        [0.0000e+00, 2.4306e-05, 3.2621e-05, 1.5607e-04, 1.3995e-03, 5.7854e-03, 1.3664e-02, 3.0111e-02, 5.5401e-02, 9.0316e-02, 1.3725e-01, 1.8357e-01, 2.2128e-01, 2.4655e-01, 2.4972e-01, 2.3536e-01,\n",
              "         1.9872e-01, 1.5084e-01, 1.0543e-01, 6.4754e-02, 3.2829e-02, 1.3352e-02, 4.5970e-03, 3.9273e-04, 1.9189e-06, 0.0000e+00, 0.0000e+00, 0.0000e+00],\n",
              "        [0.0000e+00, 0.0000e+00, 5.7567e-05, 1.5204e-03, 8.8909e-03, 2.7837e-02, 6.1064e-02, 1.1271e-01, 1.8688e-01, 2.8024e-01, 3.8297e-01, 4.8024e-01, 5.5877e-01, 6.1324e-01, 6.2329e-01, 5.9771e-01,\n",
              "         5.2835e-01, 4.2100e-01, 3.0576e-01, 2.0347e-01, 1.1742e-01, 5.3793e-02, 1.6992e-02, 3.4617e-03, 2.5905e-04, 0.0000e+00, 0.0000e+00, 0.0000e+00],\n",
              "        [0.0000e+00, 7.0359e-06, 3.0063e-04, 5.8174e-03, 2.4498e-02, 5.9899e-02, 1.2038e-01, 2.0755e-01, 3.1939e-01, 4.3547e-01, 5.4447e-01, 6.2764e-01, 6.8504e-01, 7.2395e-01, 7.4489e-01, 7.4463e-01,\n",
              "         7.0500e-01, 6.0875e-01, 4.7916e-01, 3.3949e-01, 2.1322e-01, 1.0868e-01, 3.7335e-02, 7.9084e-03, 8.2320e-04, 0.0000e+00, 0.0000e+00, 0.0000e+00],\n",
              "        [0.0000e+00, 3.2429e-04, 4.5414e-04, 9.7409e-03, 3.7895e-02, 8.2921e-02, 1.5382e-01, 2.4157e-01, 3.3767e-01, 4.2682e-01, 4.9161e-01, 5.2841e-01, 5.4475e-01, 5.5883e-01, 5.8641e-01, 6.2750e-01,\n",
              "         6.5125e-01, 6.2112e-01, 5.2849e-01, 4.0753e-01, 2.7025e-01, 1.4412e-01, 5.3465e-02, 1.1405e-02, 1.0490e-03, 0.0000e+00, 0.0000e+00, 0.0000e+00],\n",
              "        [0.0000e+00, 1.2601e-04, 5.3985e-04, 1.1943e-02, 4.0899e-02, 7.8775e-02, 1.3442e-01, 1.9457e-01, 2.5074e-01, 2.9489e-01, 3.1693e-01, 3.1747e-01, 3.1133e-01, 3.2182e-01, 3.6634e-01, 4.5206e-01,\n",
              "         5.3760e-01, 5.7068e-01, 5.2600e-01, 4.1737e-01, 2.7770e-01, 1.4791e-01, 5.6850e-02, 1.1186e-02, 5.6543e-04, 0.0000e+00, 0.0000e+00, 0.0000e+00],\n",
              "        [0.0000e+00, 1.3496e-04, 6.4603e-04, 9.1461e-03, 2.9371e-02, 5.4969e-02, 8.9482e-02, 1.1955e-01, 1.4173e-01, 1.5585e-01, 1.6174e-01, 1.6148e-01, 1.6958e-01, 2.0584e-01, 2.9212e-01, 4.1871e-01,\n",
              "         5.3047e-01, 5.7446e-01, 5.1699e-01, 3.8845e-01, 2.4350e-01, 1.1984e-01, 4.4328e-02, 8.7073e-03, 1.1641e-04, 3.9657e-05, 0.0000e+00, 0.0000e+00],\n",
              "        [0.0000e+00, 6.7161e-05, 4.3047e-04, 6.7775e-03, 1.6751e-02, 2.9374e-02, 4.5093e-02, 5.7854e-02, 6.8061e-02, 7.8151e-02, 9.5189e-02, 1.2533e-01, 1.8025e-01, 2.7419e-01, 4.0268e-01, 5.3354e-01,\n",
              "         6.1373e-01, 5.9656e-01, 4.7979e-01, 3.2004e-01, 1.7885e-01, 7.7661e-02, 2.4957e-02, 4.6878e-03, 3.9657e-05, 1.1833e-04, 0.0000e+00, 0.0000e+00],\n",
              "        [0.0000e+00, 4.9251e-05, 3.7035e-04, 3.8589e-03, 8.8301e-03, 1.4541e-02, 2.0740e-02, 2.9064e-02, 4.4311e-02, 7.7774e-02, 1.3957e-01, 2.3310e-01, 3.5509e-01, 4.8872e-01, 6.0988e-01, 6.8693e-01,\n",
              "         6.8276e-01, 5.8363e-01, 4.1155e-01, 2.4346e-01, 1.1769e-01, 4.1552e-02, 1.0649e-02, 1.8121e-03, 9.5944e-06, 1.2857e-04, 0.0000e+00, 0.0000e+00],\n",
              "        [0.0000e+00, 8.3152e-06, 4.9891e-05, 1.5166e-03, 4.1403e-03, 8.1841e-03, 1.3161e-02, 2.7825e-02, 6.6674e-02, 1.4858e-01, 2.7763e-01, 4.3485e-01, 5.8360e-01, 7.0284e-01, 7.7150e-01, 7.7661e-01,\n",
              "         7.1162e-01, 5.6779e-01, 3.7920e-01, 2.1411e-01, 9.4611e-02, 3.1342e-02, 7.7146e-03, 1.0701e-03, 9.9782e-05, 1.3560e-04, 0.0000e+00, 0.0000e+00],\n",
              "        [0.0000e+00, 0.0000e+00, 0.0000e+00, 6.3963e-04, 2.5783e-03, 5.4042e-03, 1.4138e-02, 3.9151e-02, 1.0502e-01, 2.2640e-01, 3.9440e-01, 5.6574e-01, 6.9847e-01, 7.6719e-01, 7.7950e-01, 7.5081e-01,\n",
              "         6.9238e-01, 5.8267e-01, 4.3279e-01, 2.6549e-01, 1.2995e-01, 5.0904e-02, 1.3723e-02, 2.6148e-03, 3.2749e-04, 6.7161e-05, 0.0000e+00, 0.0000e+00],\n",
              "        [0.0000e+00, 1.0234e-04, 5.8206e-05, 6.9975e-04, 2.5758e-03, 6.5549e-03, 1.5612e-02, 4.5825e-02, 1.1788e-01, 2.4133e-01, 3.9015e-01, 5.2159e-01, 6.0265e-01, 6.2869e-01, 6.2758e-01, 6.1725e-01,\n",
              "         6.1311e-01, 5.9272e-01, 5.1544e-01, 3.7066e-01, 2.1080e-01, 9.5741e-02, 3.1867e-02, 7.1351e-03, 7.5860e-04, 2.6225e-05, 0.0000e+00, 0.0000e+00],\n",
              "        [0.0000e+00, 1.4456e-04, 7.1702e-04, 2.3385e-03, 6.0221e-03, 1.1625e-02, 1.9489e-02, 4.1298e-02, 9.1916e-02, 1.7655e-01, 2.7350e-01, 3.4554e-01, 3.7789e-01, 3.8353e-01, 3.8828e-01, 4.1357e-01,\n",
              "         4.7273e-01, 5.4692e-01, 5.5695e-01, 4.6004e-01, 2.9679e-01, 1.4911e-01, 6.0777e-02, 1.5610e-02, 1.8025e-03, 3.1981e-06, 1.3368e-04, 0.0000e+00],\n",
              "        [0.0000e+00, 1.2729e-04, 2.1869e-03, 7.0538e-03, 1.4894e-02, 2.2301e-02, 2.7903e-02, 3.9338e-02, 6.2386e-02, 9.9441e-02, 1.3370e-01, 1.5925e-01, 1.6655e-01, 1.7223e-01, 1.9161e-01, 2.4334e-01,\n",
              "         3.4454e-01, 4.8216e-01, 5.6101e-01, 5.0364e-01, 3.5205e-01, 1.9422e-01, 8.5188e-02, 2.6331e-02, 3.5276e-03, 1.2793e-06, 2.2387e-05, 0.0000e+00],\n",
              "        [0.0000e+00, 1.5735e-04, 3.3331e-03, 1.5257e-02, 3.1764e-02, 4.3270e-02, 4.9365e-02, 5.5510e-02, 5.9109e-02, 5.8848e-02, 6.1369e-02, 6.3137e-02, 6.5532e-02, 7.3339e-02, 9.8233e-02, 1.6722e-01,\n",
              "         2.9171e-01, 4.5252e-01, 5.5033e-01, 5.1463e-01, 3.6876e-01, 2.1820e-01, 1.0305e-01, 3.3861e-02, 3.8557e-03, 0.0000e+00, 0.0000e+00, 0.0000e+00],\n",
              "        [0.0000e+00, 1.6183e-04, 5.7592e-03, 2.7754e-02, 5.8420e-02, 8.2884e-02, 9.7888e-02, 1.0189e-01, 9.3467e-02, 7.5450e-02, 6.1778e-02, 5.2316e-02, 4.8228e-02, 5.6958e-02, 9.1961e-02, 1.8154e-01,\n",
              "         3.2670e-01, 4.7789e-01, 5.5600e-01, 5.0929e-01, 3.6437e-01, 2.2059e-01, 1.0743e-01, 3.3211e-02, 3.2410e-03, 0.0000e+00, 0.0000e+00, 0.0000e+00],\n",
              "        [0.0000e+00, 2.5521e-04, 9.1678e-03, 4.0289e-02, 8.8192e-02, 1.3721e-01, 1.6905e-01, 1.8232e-01, 1.7508e-01, 1.5029e-01, 1.2213e-01, 9.8687e-02, 9.3244e-02, 1.1323e-01, 1.7340e-01, 2.8420e-01,\n",
              "         4.3076e-01, 5.4810e-01, 5.7053e-01, 4.8661e-01, 3.3786e-01, 2.0005e-01, 9.1660e-02, 2.4017e-02, 2.2828e-03, 1.3432e-05, 0.0000e+00, 0.0000e+00],\n",
              "        [0.0000e+00, 4.6565e-04, 1.0415e-02, 4.8182e-02, 1.0872e-01, 1.8070e-01, 2.4184e-01, 2.8666e-01, 3.0795e-01, 2.9331e-01, 2.6096e-01, 2.3568e-01, 2.3487e-01, 2.7473e-01, 3.5662e-01, 4.6657e-01,\n",
              "         5.7225e-01, 6.1136e-01, 5.6052e-01, 4.2788e-01, 2.7981e-01, 1.5136e-01, 6.0435e-02, 1.3841e-02, 1.2274e-03, 1.3432e-05, 4.9891e-05, 0.0000e+00],\n",
              "        [0.0000e+00, 3.6267e-04, 8.7373e-03, 4.1436e-02, 1.0026e-01, 1.8489e-01, 2.8464e-01, 3.7627e-01, 4.4899e-01, 4.7922e-01, 4.8200e-01, 4.7516e-01, 4.8842e-01, 5.3127e-01, 5.9328e-01, 6.4996e-01,\n",
              "         6.6266e-01, 6.0082e-01, 4.7449e-01, 3.2416e-01, 1.8824e-01, 8.8396e-02, 2.8767e-02, 5.4074e-03, 3.2621e-04, 0.0000e+00, 2.1108e-05, 0.0000e+00],\n",
              "        [0.0000e+00, 3.1342e-05, 6.0810e-03, 2.7270e-02, 7.3331e-02, 1.4404e-01, 2.5190e-01, 3.7506e-01, 4.9620e-01, 5.9483e-01, 6.5782e-01, 6.9493e-01, 7.1683e-01, 7.2840e-01, 7.2238e-01, 6.8208e-01,\n",
              "         5.9055e-01, 4.5946e-01, 3.1460e-01, 1.8711e-01, 9.4876e-02, 3.7261e-02, 1.0511e-02, 1.6490e-03, 3.5180e-05, 0.0000e+00, 3.1981e-06, 0.0000e+00],\n",
              "        [0.0000e+00, 0.0000e+00, 2.3519e-03, 1.2594e-02, 3.9571e-02, 8.3350e-02, 1.5672e-01, 2.5775e-01, 3.7410e-01, 4.8738e-01, 5.8281e-01, 6.4514e-01, 6.6356e-01, 6.4247e-01, 5.7364e-01, 4.7332e-01,\n",
              "         3.5329e-01, 2.3856e-01, 1.4426e-01, 7.5467e-02, 3.0740e-02, 9.7691e-03, 2.4229e-03, 3.6651e-04, 1.4839e-04, 7.6756e-06, 5.1810e-05, 0.0000e+00],\n",
              "        [0.0000e+00, 0.0000e+00, 5.4113e-04, 3.9555e-03, 1.3458e-02, 3.0013e-02, 5.8374e-02, 9.7864e-02, 1.4818e-01, 2.0402e-01, 2.5312e-01, 2.8803e-01, 2.9355e-01, 2.7630e-01, 2.3039e-01, 1.7364e-01,\n",
              "         1.1796e-01, 7.1760e-02, 3.6760e-02, 1.6373e-02, 5.7541e-03, 2.0769e-03, 6.1021e-04, 1.2153e-04, 0.0000e+00, 0.0000e+00, 0.0000e+00, 0.0000e+00],\n",
              "        [0.0000e+00, 0.0000e+00, 3.7099e-05, 1.2473e-04, 1.2447e-03, 3.0402e-03, 6.6873e-03, 1.1371e-02, 1.8533e-02, 2.5284e-02, 3.1993e-02, 3.5295e-02, 3.6504e-02, 3.4298e-02, 2.8593e-02, 2.1875e-02,\n",
              "         1.5417e-02, 9.1748e-03, 5.0454e-03, 2.8687e-03, 1.1430e-03, 4.5350e-04, 2.1683e-04, 0.0000e+00, 0.0000e+00, 0.0000e+00, 0.0000e+00, 0.0000e+00],\n",
              "        [0.0000e+00, 0.0000e+00, 0.0000e+00, 0.0000e+00, 1.0234e-05, 8.0593e-05, 1.6630e-04, 3.6459e-04, 4.0041e-04, 5.1362e-04, 7.4325e-04, 9.5497e-04, 1.0643e-03, 1.3560e-03, 1.0484e-03, 8.3855e-04,\n",
              "         1.0260e-03, 9.5497e-04, 7.4645e-04, 5.3793e-04, 3.6523e-04, 1.9637e-04, 2.8783e-05, 0.0000e+00, 0.0000e+00, 0.0000e+00, 0.0000e+00, 0.0000e+00],\n",
              "        [0.0000e+00, 0.0000e+00, 0.0000e+00, 0.0000e+00, 0.0000e+00, 0.0000e+00, 0.0000e+00, 0.0000e+00, 0.0000e+00, 0.0000e+00, 0.0000e+00, 0.0000e+00, 0.0000e+00, 0.0000e+00, 0.0000e+00, 0.0000e+00,\n",
              "         0.0000e+00, 0.0000e+00, 0.0000e+00, 0.0000e+00, 0.0000e+00, 0.0000e+00, 0.0000e+00, 0.0000e+00, 0.0000e+00, 0.0000e+00, 0.0000e+00, 0.0000e+00]])"
            ]
          },
          "metadata": {
            "tags": []
          },
          "execution_count": 145
        }
      ]
    },
    {
      "cell_type": "markdown",
      "metadata": {
        "id": "v7aidLixDPsi"
      },
      "source": [
        "### Trying both L1 and L2 norm"
      ]
    },
    {
      "cell_type": "code",
      "metadata": {
        "colab": {
          "base_uri": "https://localhost:8080/",
          "height": 102
        },
        "id": "xVJzT7F3HsMO",
        "outputId": "3ea99650-617a-410a-ac4d-0192a197def5"
      },
      "source": [
        "# Sample 3, one img of a stacked three \n",
        "\n",
        "a_3 = stacked_threes[1] \n",
        "show_image(a_3) # Now gotta calculate this with average 3 we created"
      ],
      "execution_count": 146,
      "outputs": [
        {
          "output_type": "execute_result",
          "data": {
            "text/plain": [
              "<matplotlib.axes._subplots.AxesSubplot at 0x7fbf7f2fd7f0>"
            ]
          },
          "metadata": {
            "tags": []
          },
          "execution_count": 146
        },
        {
          "output_type": "display_data",
          "data": {
            "image/png": "[encoded data removed]",
            "text/plain": [
              "<Figure size 72x72 with 1 Axes>"
            ]
          },
          "metadata": {
            "tags": [],
            "needs_background": "light"
          }
        }
      ]
    },
    {
      "cell_type": "code",
      "metadata": {
        "colab": {
          "base_uri": "https://localhost:8080/"
        },
        "id": "bCg1zeF7HkVi",
        "outputId": "a163bcc4-44af-4589-99a8-e3968f173c2c"
      },
      "source": [
        "# This is the L1 norm or mean of the absolute value of differences\n",
        "\n",
        "dist_3_abs = (a_3 - mean3).abs().mean() # replace -ve with +ve\n",
        "\n",
        "# This is the L2 norm, root mean squared error (RMSE)\n",
        "dist_3_sqrt = ((a_3 - mean3)**2).mean().sqrt()\n",
        "\n",
        "# Printing both \n",
        "print(f'This the distance calculated from mean3 to single 3 using L1 norm: {dist_3_abs}')\n",
        "print(f'This the distance calculated from mean3 to single 3 using L2 norm: {dist_3_sqrt}')"
      ],
      "execution_count": 147,
      "outputs": [
        {
          "output_type": "stream",
          "text": [
            "This the distance calculated from mean3 to single 3 using L1 norm: 0.11143654584884644\n",
            "This the distance calculated from mean3 to single 3 using L2 norm: 0.20208320021629333\n"
          ],
          "name": "stdout"
        }
      ]
    },
    {
      "cell_type": "code",
      "metadata": {
        "colab": {
          "base_uri": "https://localhost:8080/"
        },
        "id": "bNtxllzdIr58",
        "outputId": "684640a4-fc0d-4e31-b638-ea9a9ffb3bea"
      },
      "source": [
        "# Calculating the same for 7 \n",
        "\n",
        "dist_7_abs = (a_3 - mean7).abs().mean()\n",
        "dist_7_sqrt = ((a_3 - mean7)**2).mean().sqrt()\n",
        "\n",
        "dist_7_abs , dist_7_sqrt "
      ],
      "execution_count": 148,
      "outputs": [
        {
          "output_type": "execute_result",
          "data": {
            "text/plain": [
              "(tensor(0.1586), tensor(0.3021))"
            ]
          },
          "metadata": {
            "tags": []
          },
          "execution_count": 148
        }
      ]
    },
    {
      "cell_type": "markdown",
      "metadata": {
        "id": "i9J3Xi1eJEM7"
      },
      "source": [
        "# From Array's to Pytorch Tensors \n",
        "\n",
        "Here we will dig deep into Pytorch itself, unfolding the functionality of Pytorch and tidbits which we can use on fastai to ease our process. "
      ]
    },
    {
      "cell_type": "code",
      "metadata": {
        "colab": {
          "base_uri": "https://localhost:8080/"
        },
        "id": "fqA4xbJxLy4E",
        "outputId": "b009ca95-2801-490c-b2e1-2d7fee815ec7"
      },
      "source": [
        "# Creating a numpy array and pytorch tensor\n",
        "\n",
        "data = [[1,2,3],[4,5,6]]\n",
        "arr = array (data)\n",
        "tns = tensor(data)\n",
        "\n",
        "\n",
        "print(f'This is the numpy array: {arr} and the type {type(arr)}')\n",
        "print(f'This is a Pytorch Tensor: {tns} and the type {type(tns)}')"
      ],
      "execution_count": 149,
      "outputs": [
        {
          "output_type": "stream",
          "text": [
            "This is the numpy array: [[1 2 3]\n",
            " [4 5 6]] and the type <class 'numpy.ndarray'>\n",
            "This is a Pytorch Tensor: tensor([[1, 2, 3],\n",
            "        [4, 5, 6]]) and the type <class 'torch.Tensor'>\n"
          ],
          "name": "stdout"
        }
      ]
    },
    {
      "cell_type": "markdown",
      "metadata": {
        "id": "4Lte0I8DMHpm"
      },
      "source": [
        "## Operation on Tensor"
      ]
    },
    {
      "cell_type": "code",
      "metadata": {
        "colab": {
          "base_uri": "https://localhost:8080/"
        },
        "id": "DK7NKN7UMvkM",
        "outputId": "15468970-51f3-4946-bcae-cd94227fe3bb"
      },
      "source": [
        "# Indexing a tensor \n",
        "\n",
        "print(tns[1])\n",
        "print(tns[0:2])"
      ],
      "execution_count": 150,
      "outputs": [
        {
          "output_type": "stream",
          "text": [
            "tensor([4, 5, 6])\n",
            "tensor([[1, 2, 3],\n",
            "        [4, 5, 6]])\n"
          ],
          "name": "stdout"
        }
      ]
    },
    {
      "cell_type": "code",
      "metadata": {
        "colab": {
          "base_uri": "https://localhost:8080/"
        },
        "id": "qIFHtYv6Mz-i",
        "outputId": "561eef2d-d83f-4c00-d280-e0ba9c7d4907"
      },
      "source": [
        "# Indexing just the coloumn using [: , num]\n",
        "\n",
        "tns[: , 2] , tns[: , 1]"
      ],
      "execution_count": 151,
      "outputs": [
        {
          "output_type": "execute_result",
          "data": {
            "text/plain": [
              "(tensor([3, 6]), tensor([2, 5]))"
            ]
          },
          "metadata": {
            "tags": []
          },
          "execution_count": 151
        }
      ]
    },
    {
      "cell_type": "code",
      "metadata": {
        "colab": {
          "base_uri": "https://localhost:8080/"
        },
        "id": "poA_BCrpNRke",
        "outputId": "f6dda7a5-efee-4108-ef71-d17dae8eab28"
      },
      "source": [
        "# With start and end indexing [start : end ] or slicing\n",
        "\n",
        "tns[0 , 0:1] , tns[1 , 0:3]"
      ],
      "execution_count": 152,
      "outputs": [
        {
          "output_type": "execute_result",
          "data": {
            "text/plain": [
              "(tensor([1]), tensor([4, 5, 6]))"
            ]
          },
          "metadata": {
            "tags": []
          },
          "execution_count": 152
        }
      ]
    },
    {
      "cell_type": "code",
      "metadata": {
        "colab": {
          "base_uri": "https://localhost:8080/"
        },
        "id": "D1LzYsmiNkoT",
        "outputId": "f0e0c704-2cbe-468e-d2bc-69823b52d0ea"
      },
      "source": [
        "# Using Standard operations \n",
        "\n",
        "print(tns + 1)\n",
        "\n",
        "print(tns * 4)"
      ],
      "execution_count": 153,
      "outputs": [
        {
          "output_type": "stream",
          "text": [
            "tensor([[2, 3, 4],\n",
            "        [5, 6, 7]])\n",
            "tensor([[ 4,  8, 12],\n",
            "        [16, 20, 24]])\n"
          ],
          "name": "stdout"
        }
      ]
    },
    {
      "cell_type": "code",
      "metadata": {
        "colab": {
          "base_uri": "https://localhost:8080/",
          "height": 35
        },
        "id": "fErBT5W-ODSE",
        "outputId": "9a72f26d-194a-4352-f48c-b03b5951b9f3"
      },
      "source": [
        "# Checking the type of a tensor \n",
        "\n",
        "tns.type()"
      ],
      "execution_count": 154,
      "outputs": [
        {
          "output_type": "execute_result",
          "data": {
            "application/vnd.google.colaboratory.intrinsic+json": {
              "type": "string"
            },
            "text/plain": [
              "'torch.LongTensor'"
            ]
          },
          "metadata": {
            "tags": []
          },
          "execution_count": 154
        }
      ]
    },
    {
      "cell_type": "markdown",
      "metadata": {
        "id": "Yy909SO4OPFa"
      },
      "source": [
        "## The Idea of Broadcasting and computing with it. \n",
        "\n",
        "\n",
        "For now we want to calculate the **metric** over our **validation set.** Well this is because to avoid overfitting. Since we dont have a dedicated valid set here we are going to take a part of our training data and use it for validation set.\n",
        "\n",
        "Below cells will work on creating a validation set and introduce to the concept of broadcasting. "
      ]
    },
    {
      "cell_type": "code",
      "metadata": {
        "colab": {
          "base_uri": "https://localhost:8080/"
        },
        "id": "3bPCWqeJOXRp",
        "outputId": "ae6fe43a-13c5-4363-8d2f-91720c478a6d"
      },
      "source": [
        "# Creating valid 3 and 7 tensors \n",
        "\n",
        "valid_3_tens = torch.stack([tensor(Image.open(o)) for o in \n",
        "                            (path / 'valid' /'3').ls()])\n",
        "\n",
        "valid_7_tens = torch.stack([tensor(Image.open(o)) for o in \n",
        "                            (path/'valid'/'7').ls()])\n",
        "\n",
        "# Putitng them into 0 and 1 \n",
        "\n",
        "valid_3_tens = valid_3_tens.float() / 255\n",
        "valid_7_tens = valid_7_tens.float() / 255\n",
        "\n",
        "\n",
        "print(f'The shape of valid 3 tensor{valid_3_tens.shape}')\n",
        "print(f'The shape of valid 7 tensor{valid_7_tens.shape}')"
      ],
      "execution_count": 155,
      "outputs": [
        {
          "output_type": "stream",
          "text": [
            "The shape of valid 3 tensortorch.Size([1010, 28, 28])\n",
            "The shape of valid 7 tensortorch.Size([1028, 28, 28])\n"
          ],
          "name": "stdout"
        }
      ]
    },
    {
      "cell_type": "markdown",
      "metadata": {
        "id": "SH_Jl9cDQ-pp"
      },
      "source": [
        "Now having those validation set, we gotta write a function kinda `is_3` that will decide if an arbitrary image is 3 or 7. It will decide by which of these two **ideal digits (3 or 7)** closer to the arbitrary value. \n",
        "\n",
        "For that we need to define a notion of distance, which means a function which calculates distance between two images. \n",
        "\n",
        "\n",
        "I raised a thread why we use `(-1,-2)` with the mean. Here it got answered \n",
        "\n",
        "https://forums.fast.ai/t/understanding-mean-1-2-in-mnist-distance/84430/4"
      ]
    },
    {
      "cell_type": "code",
      "metadata": {
        "colab": {
          "base_uri": "https://localhost:8080/"
        },
        "id": "XjKatrH5TF7P",
        "outputId": "b56af180-3b82-4c71-ded4-9e97805a9bcb"
      },
      "source": [
        "# Writing the function which cal dist btw ideal and arbitrary value\n",
        "\n",
        "def mnist_distance(a, b):\n",
        "  return (a-b).abs().mean((-1 , -2))\n",
        "\n",
        "# Passing in ideal and arbitrary \n",
        "\n",
        "mnist_distance(a_3 , mean3)"
      ],
      "execution_count": 156,
      "outputs": [
        {
          "output_type": "execute_result",
          "data": {
            "text/plain": [
              "tensor(0.1114)"
            ]
          },
          "metadata": {
            "tags": []
          },
          "execution_count": 156
        }
      ]
    },
    {
      "cell_type": "markdown",
      "metadata": {
        "id": "DkGJRg5lVJoW"
      },
      "source": [
        "#### Decoding mnist_distance for understanding"
      ]
    },
    {
      "cell_type": "code",
      "metadata": {
        "colab": {
          "base_uri": "https://localhost:8080/"
        },
        "id": "RcCKHHWtVOKp",
        "outputId": "6385f50d-bbd6-45bc-ff7e-646c3a57feb5"
      },
      "source": [
        "ab = (a_3 - mean3).abs()\n",
        "print(ab[:2])"
      ],
      "execution_count": 157,
      "outputs": [
        {
          "output_type": "stream",
          "text": [
            "tensor([[0., 0., 0., 0., 0., 0., 0., 0., 0., 0., 0., 0., 0., 0., 0., 0., 0., 0., 0., 0., 0., 0., 0., 0., 0., 0., 0., 0.],\n",
            "        [0., 0., 0., 0., 0., 0., 0., 0., 0., 0., 0., 0., 0., 0., 0., 0., 0., 0., 0., 0., 0., 0., 0., 0., 0., 0., 0., 0.]])\n"
          ],
          "name": "stdout"
        }
      ]
    },
    {
      "cell_type": "code",
      "metadata": {
        "colab": {
          "base_uri": "https://localhost:8080/"
        },
        "id": "vjzcMqa4VbKL",
        "outputId": "67d16f0b-f12c-47b5-d9cb-1f5acfefc7a0"
      },
      "source": [
        "ab.mean()"
      ],
      "execution_count": 158,
      "outputs": [
        {
          "output_type": "execute_result",
          "data": {
            "text/plain": [
              "tensor(0.1114)"
            ]
          },
          "metadata": {
            "tags": []
          },
          "execution_count": 158
        }
      ]
    },
    {
      "cell_type": "code",
      "metadata": {
        "colab": {
          "base_uri": "https://localhost:8080/"
        },
        "id": "2CN9YuL3VnQv",
        "outputId": "98a516fd-3c02-4e06-d778-d5e888f9253a"
      },
      "source": [
        "ab.mean((-1 , -2))"
      ],
      "execution_count": 159,
      "outputs": [
        {
          "output_type": "execute_result",
          "data": {
            "text/plain": [
              "tensor(0.1114)"
            ]
          },
          "metadata": {
            "tags": []
          },
          "execution_count": 159
        }
      ]
    },
    {
      "cell_type": "markdown",
      "metadata": {
        "id": "YUUJgsgcYj0q"
      },
      "source": [
        "\n",
        "#### With the power of Broadcasting calculating for all tensors in the validation set. "
      ]
    },
    {
      "cell_type": "code",
      "metadata": {
        "colab": {
          "base_uri": "https://localhost:8080/"
        },
        "id": "POEEr3UoY-HR",
        "outputId": "b3fef8f8-14f3-42a0-8ec8-f45290eb18b7"
      },
      "source": [
        "valid_3_dist = mnist_distance(valid_3_tens , mean3)\n",
        "\n",
        "\n",
        "print(f'The shape of distance calculated : {valid_3_dist.shape}')"
      ],
      "execution_count": 160,
      "outputs": [
        {
          "output_type": "stream",
          "text": [
            "The shape of distance calculated : torch.Size([1010])\n"
          ],
          "name": "stdout"
        }
      ]
    },
    {
      "cell_type": "code",
      "metadata": {
        "colab": {
          "base_uri": "https://localhost:8080/"
        },
        "id": "6ZW7go_1ZQkI",
        "outputId": "8375388a-0d32-4cc3-9e2b-e81ef5e42a6a"
      },
      "source": [
        "# It has every distance for 1011 images, and stacked into a tensor.\n",
        "\n",
        "valid_3_dist"
      ],
      "execution_count": 161,
      "outputs": [
        {
          "output_type": "execute_result",
          "data": {
            "text/plain": [
              "tensor([0.1134, 0.1266, 0.1050,  ..., 0.1107, 0.1305, 0.1493])"
            ]
          },
          "metadata": {
            "tags": []
          },
          "execution_count": 161
        }
      ]
    },
    {
      "cell_type": "code",
      "metadata": {
        "colab": {
          "base_uri": "https://localhost:8080/"
        },
        "id": "VhRgiADYZXgq",
        "outputId": "5051b6e3-6a6c-42e1-9325-f648effc6b19"
      },
      "source": [
        "# After broadcasting the two argument tensors have the same rank. \n",
        "\n",
        "test_rank = tensor([1,2,4]) + tensor([1,24,5] , \n",
        "                         [1,234,2])\n",
        "\n",
        "test_rank.ndim # Before it was 1 and 2 now after broadcasting became 2"
      ],
      "execution_count": 162,
      "outputs": [
        {
          "output_type": "execute_result",
          "data": {
            "text/plain": [
              "2"
            ]
          },
          "metadata": {
            "tags": []
          },
          "execution_count": 162
        }
      ]
    },
    {
      "cell_type": "code",
      "metadata": {
        "colab": {
          "base_uri": "https://localhost:8080/"
        },
        "id": "H1rL8SJadH4m",
        "outputId": "2a3edc0c-5f38-4443-db3b-7c12f4239339"
      },
      "source": [
        "valid_3_tens.shape , a_3.shape # It will broadcast to the large rank"
      ],
      "execution_count": 163,
      "outputs": [
        {
          "output_type": "execute_result",
          "data": {
            "text/plain": [
              "(torch.Size([1010, 28, 28]), torch.Size([28, 28]))"
            ]
          },
          "metadata": {
            "tags": []
          },
          "execution_count": 163
        }
      ]
    },
    {
      "cell_type": "code",
      "metadata": {
        "colab": {
          "base_uri": "https://localhost:8080/"
        },
        "id": "DWPobg6pelIo",
        "outputId": "7dd02f47-dff6-4020-dfd8-683f00b6a31c"
      },
      "source": [
        "# Talking about axes \n",
        "\n",
        "valid_3_tens.ndim"
      ],
      "execution_count": 164,
      "outputs": [
        {
          "output_type": "execute_result",
          "data": {
            "text/plain": [
              "3"
            ]
          },
          "metadata": {
            "tags": []
          },
          "execution_count": 164
        }
      ]
    },
    {
      "cell_type": "markdown",
      "metadata": {
        "id": "kwot7b-1ucVC"
      },
      "source": [
        "By using `mnist_distance` we can figure out wheter an image is a 3 by using the following logic: \n",
        "\n",
        "* If the distance between digit in question and ideal `3` is less than the distance to the ideal `7`, then its a `3`. \n",
        "\n",
        "The below function will automatically use broadcasting. "
      ]
    },
    {
      "cell_type": "code",
      "metadata": {
        "colab": {
          "base_uri": "https://localhost:8080/"
        },
        "id": "VGPacqsEoGcF",
        "outputId": "11e71b54-4bac-4c2d-9a28-8fcbe0a83292"
      },
      "source": [
        "mean3.ndim , mean3.shape"
      ],
      "execution_count": 165,
      "outputs": [
        {
          "output_type": "execute_result",
          "data": {
            "text/plain": [
              "(2, torch.Size([28, 28]))"
            ]
          },
          "metadata": {
            "tags": []
          },
          "execution_count": 165
        }
      ]
    },
    {
      "cell_type": "code",
      "metadata": {
        "id": "MumT5aFOn76R"
      },
      "source": [
        "## Function to check whether its 3 or not \n",
        "\n",
        "def is_3(x):\n",
        "  return mnist_distance(x , mean3) < mnist_distance(x , mean7)"
      ],
      "execution_count": 166,
      "outputs": []
    },
    {
      "cell_type": "code",
      "metadata": {
        "colab": {
          "base_uri": "https://localhost:8080/"
        },
        "id": "8fNU34g2oOOO",
        "outputId": "8ad1c27d-316a-4364-a70f-1e690a49707c"
      },
      "source": [
        "# Testing the function we made above \n",
        "\n",
        "is_3(valid_3_tens[0]) , is_3(a_3).float() # True means its a 3"
      ],
      "execution_count": 167,
      "outputs": [
        {
          "output_type": "execute_result",
          "data": {
            "text/plain": [
              "(tensor(True), tensor(1.))"
            ]
          },
          "metadata": {
            "tags": []
          },
          "execution_count": 167
        }
      ]
    },
    {
      "cell_type": "code",
      "metadata": {
        "colab": {
          "base_uri": "https://localhost:8080/"
        },
        "id": "GW75FceloVtk",
        "outputId": "ed820b12-7526-4775-9966-85511fcad91a"
      },
      "source": [
        "# Testing 7 \n",
        "\n",
        "a_7 = stacked_sevens[3]\n",
        "\n",
        "is_3(a_7) , is_3(a_7).float() # If its false then it means a 7"
      ],
      "execution_count": 168,
      "outputs": [
        {
          "output_type": "execute_result",
          "data": {
            "text/plain": [
              "(tensor(False), tensor(0.))"
            ]
          },
          "metadata": {
            "tags": []
          },
          "execution_count": 168
        }
      ]
    },
    {
      "cell_type": "code",
      "metadata": {
        "colab": {
          "base_uri": "https://localhost:8080/"
        },
        "id": "LJtgqBzSoi6w",
        "outputId": "044a4ea3-42ee-4d51-cb71-5f82eae1a5c4"
      },
      "source": [
        "# Decoding the above function, ima idiot was checking with a_7 shit\n",
        "\n",
        "mnist_distance(a_3 , mean3) , mnist_distance(a_3 , mean7)"
      ],
      "execution_count": 169,
      "outputs": [
        {
          "output_type": "execute_result",
          "data": {
            "text/plain": [
              "(tensor(0.1114), tensor(0.1586))"
            ]
          },
          "metadata": {
            "tags": []
          },
          "execution_count": 169
        }
      ]
    },
    {
      "cell_type": "code",
      "metadata": {
        "colab": {
          "base_uri": "https://localhost:8080/"
        },
        "id": "F_K9ASosSyQK",
        "outputId": "f1b28fde-a182-4bf5-ae7b-9de2b918dff3"
      },
      "source": [
        "mnist_distance(a_3 , mean3) <  mnist_distance(a_3 , mean7)"
      ],
      "execution_count": 170,
      "outputs": [
        {
          "output_type": "execute_result",
          "data": {
            "text/plain": [
              "tensor(True)"
            ]
          },
          "metadata": {
            "tags": []
          },
          "execution_count": 170
        }
      ]
    },
    {
      "cell_type": "markdown",
      "metadata": {
        "id": "0xx1RX8tS5B9"
      },
      "source": [
        "**By Broadcasting, testing our `is_3` function on the whole sets**"
      ]
    },
    {
      "cell_type": "code",
      "metadata": {
        "colab": {
          "base_uri": "https://localhost:8080/"
        },
        "id": "cITCwMIFTsUi",
        "outputId": "ac26569f-357b-4ec4-c300-acf4013cd92b"
      },
      "source": [
        "is_3(valid_3_tens) # We will get a list of boolean"
      ],
      "execution_count": 171,
      "outputs": [
        {
          "output_type": "execute_result",
          "data": {
            "text/plain": [
              "tensor([ True, False,  True,  ...,  True,  True, False])"
            ]
          },
          "metadata": {
            "tags": []
          },
          "execution_count": 171
        }
      ]
    },
    {
      "cell_type": "code",
      "metadata": {
        "colab": {
          "base_uri": "https://localhost:8080/",
          "height": 102
        },
        "id": "PFIL3-BCTzzK",
        "outputId": "19e043d2-c4b8-4c37-cfde-02f2d561b589"
      },
      "source": [
        "# The reason for false, our model couldnt infer it properly\n",
        "\n",
        "show_image(valid_3_tens[0])"
      ],
      "execution_count": 172,
      "outputs": [
        {
          "output_type": "execute_result",
          "data": {
            "text/plain": [
              "<matplotlib.axes._subplots.AxesSubplot at 0x7fbf6e63eac8>"
            ]
          },
          "metadata": {
            "tags": []
          },
          "execution_count": 172
        },
        {
          "output_type": "display_data",
          "data": {
            "image/png": "[encoded data removed]",
            "text/plain": [
              "<Figure size 72x72 with 1 Axes>"
            ]
          },
          "metadata": {
            "tags": [],
            "needs_background": "light"
          }
        }
      ]
    },
    {
      "cell_type": "markdown",
      "metadata": {
        "id": "3DWqcC5kT3Vu"
      },
      "source": [
        "### Calculating Accuracy \n",
        "\n",
        "Here we are calculating accuracy, for each of the `3s` and `7s` by taking the average of that function. For all the `3s` and inverse for all the `7s`.\n",
        "\n",
        "This will be how accurate our function `is_3()` able to detect whether its 3 or 7.  "
      ]
    },
    {
      "cell_type": "code",
      "metadata": {
        "id": "rmGpk2WKVNSl"
      },
      "source": [
        "# For 3\n",
        "accuracy_3s = is_3(valid_3_tens).float().mean() # We use mean to take average\n",
        "\n",
        "# For 7, will take inverse of all the 7s \n",
        "accuracy_7s = (1 - is_3(valid_7_tens).float().mean())"
      ],
      "execution_count": 173,
      "outputs": []
    },
    {
      "cell_type": "code",
      "metadata": {
        "colab": {
          "base_uri": "https://localhost:8080/"
        },
        "id": "7f-aPAOHWA5L",
        "outputId": "b2c77648-39bd-4de1-d521-39e5b6141c2e"
      },
      "source": [
        "print(f'The accuracy of all the 3s: {accuracy_3s}')  \n",
        "print(f'The accuracy of all the 7s: {accuracy_7s}')\n",
        "print(f'On combined how much our is_3() able to detect accurately: {(accuracy_3s + accuracy_7s) / 2}')"
      ],
      "execution_count": 174,
      "outputs": [
        {
          "output_type": "stream",
          "text": [
            "The accuracy of all the 3s: 0.9168316721916199\n",
            "The accuracy of all the 7s: 0.9854085445404053\n",
            "On combined how much our is_3() able to detect accurately: 0.951120138168335\n"
          ],
          "name": "stdout"
        }
      ]
    },
    {
      "cell_type": "markdown",
      "metadata": {
        "id": "7m7M0gS8WDTN"
      },
      "source": [
        "# Stochastic Gradient Descent (SGD)\n",
        "\n",
        "This is something which will allows our model to get better and better which can learn. In pixel similarity approach we don't have,\n",
        "\n",
        "- any kind of weight assignment\n",
        "- any way of improving based on testing the effectiveness of a weight assignment.\n",
        "\n",
        "In a nut shell we can't improve our pixel similarity approach by modifying a set of parameters."
      ]
    },
    {
      "cell_type": "code",
      "metadata": {
        "id": "E-g4_MFXWQjQ",
        "colab": {
          "base_uri": "https://localhost:8080/",
          "height": 628
        },
        "outputId": "9c3206c9-e64b-42cd-ff7c-0800f402d09e"
      },
      "source": [
        "# Representing 3 in a df \n",
        "\n",
        "\n",
        "im3_path = threes[1]\n",
        "im3 = Image.open(im3_path)\n",
        "im3_t = tensor(im3)\n",
        "df = pd.DataFrame(im3_t)\n",
        "df.style.set_properties(**{'font_size':'6pt'}).background_gradient('Greys')"
      ],
      "execution_count": 175,
      "outputs": [
        {
          "output_type": "execute_result",
          "data": {
            "text/html": [
              "<style  type=\"text/css\" >\n",
              "#T_998ff52e_5fd4_11eb_b824_0242ac1c0002row0_col0,#T_998ff52e_5fd4_11eb_b824_0242ac1c0002row0_col1,#T_998ff52e_5fd4_11eb_b824_0242ac1c0002row0_col2,#T_998ff52e_5fd4_11eb_b824_0242ac1c0002row0_col3,#T_998ff52e_5fd4_11eb_b824_0242ac1c0002row0_col4,#T_998ff52e_5fd4_11eb_b824_0242ac1c0002row0_col5,#T_998ff52e_5fd4_11eb_b824_0242ac1c0002row0_col6,#T_998ff52e_5fd4_11eb_b824_0242ac1c0002row0_col7,#T_998ff52e_5fd4_11eb_b824_0242ac1c0002row0_col8,#T_998ff52e_5fd4_11eb_b824_0242ac1c0002row0_col9,#T_998ff52e_5fd4_11eb_b824_0242ac1c0002row0_col10,#T_998ff52e_5fd4_11eb_b824_0242ac1c0002row0_col11,#T_998ff52e_5fd4_11eb_b824_0242ac1c0002row0_col12,#T_998ff52e_5fd4_11eb_b824_0242ac1c0002row0_col13,#T_998ff52e_5fd4_11eb_b824_0242ac1c0002row0_col14,#T_998ff52e_5fd4_11eb_b824_0242ac1c0002row0_col15,#T_998ff52e_5fd4_11eb_b824_0242ac1c0002row0_col16,#T_998ff52e_5fd4_11eb_b824_0242ac1c0002row0_col17,#T_998ff52e_5fd4_11eb_b824_0242ac1c0002row0_col18,#T_998ff52e_5fd4_11eb_b824_0242ac1c0002row0_col19,#T_998ff52e_5fd4_11eb_b824_0242ac1c0002row0_col20,#T_998ff52e_5fd4_11eb_b824_0242ac1c0002row0_col21,#T_998ff52e_5fd4_11eb_b824_0242ac1c0002row0_col22,#T_998ff52e_5fd4_11eb_b824_0242ac1c0002row0_col23,#T_998ff52e_5fd4_11eb_b824_0242ac1c0002row0_col24,#T_998ff52e_5fd4_11eb_b824_0242ac1c0002row0_col25,#T_998ff52e_5fd4_11eb_b824_0242ac1c0002row0_col26,#T_998ff52e_5fd4_11eb_b824_0242ac1c0002row0_col27,#T_998ff52e_5fd4_11eb_b824_0242ac1c0002row1_col0,#T_998ff52e_5fd4_11eb_b824_0242ac1c0002row1_col1,#T_998ff52e_5fd4_11eb_b824_0242ac1c0002row1_col2,#T_998ff52e_5fd4_11eb_b824_0242ac1c0002row1_col3,#T_998ff52e_5fd4_11eb_b824_0242ac1c0002row1_col4,#T_998ff52e_5fd4_11eb_b824_0242ac1c0002row1_col5,#T_998ff52e_5fd4_11eb_b824_0242ac1c0002row1_col6,#T_998ff52e_5fd4_11eb_b824_0242ac1c0002row1_col7,#T_998ff52e_5fd4_11eb_b824_0242ac1c0002row1_col8,#T_998ff52e_5fd4_11eb_b824_0242ac1c0002row1_col9,#T_998ff52e_5fd4_11eb_b824_0242ac1c0002row1_col10,#T_998ff52e_5fd4_11eb_b824_0242ac1c0002row1_col11,#T_998ff52e_5fd4_11eb_b824_0242ac1c0002row1_col12,#T_998ff52e_5fd4_11eb_b824_0242ac1c0002row1_col13,#T_998ff52e_5fd4_11eb_b824_0242ac1c0002row1_col14,#T_998ff52e_5fd4_11eb_b824_0242ac1c0002row1_col15,#T_998ff52e_5fd4_11eb_b824_0242ac1c0002row1_col16,#T_998ff52e_5fd4_11eb_b824_0242ac1c0002row1_col17,#T_998ff52e_5fd4_11eb_b824_0242ac1c0002row1_col18,#T_998ff52e_5fd4_11eb_b824_0242ac1c0002row1_col19,#T_998ff52e_5fd4_11eb_b824_0242ac1c0002row1_col20,#T_998ff52e_5fd4_11eb_b824_0242ac1c0002row1_col21,#T_998ff52e_5fd4_11eb_b824_0242ac1c0002row1_col22,#T_998ff52e_5fd4_11eb_b824_0242ac1c0002row1_col23,#T_998ff52e_5fd4_11eb_b824_0242ac1c0002row1_col24,#T_998ff52e_5fd4_11eb_b824_0242ac1c0002row1_col25,#T_998ff52e_5fd4_11eb_b824_0242ac1c0002row1_col26,#T_998ff52e_5fd4_11eb_b824_0242ac1c0002row1_col27,#T_998ff52e_5fd4_11eb_b824_0242ac1c0002row2_col0,#T_998ff52e_5fd4_11eb_b824_0242ac1c0002row2_col1,#T_998ff52e_5fd4_11eb_b824_0242ac1c0002row2_col2,#T_998ff52e_5fd4_11eb_b824_0242ac1c0002row2_col3,#T_998ff52e_5fd4_11eb_b824_0242ac1c0002row2_col4,#T_998ff52e_5fd4_11eb_b824_0242ac1c0002row2_col5,#T_998ff52e_5fd4_11eb_b824_0242ac1c0002row2_col6,#T_998ff52e_5fd4_11eb_b824_0242ac1c0002row2_col7,#T_998ff52e_5fd4_11eb_b824_0242ac1c0002row2_col8,#T_998ff52e_5fd4_11eb_b824_0242ac1c0002row2_col9,#T_998ff52e_5fd4_11eb_b824_0242ac1c0002row2_col10,#T_998ff52e_5fd4_11eb_b824_0242ac1c0002row2_col11,#T_998ff52e_5fd4_11eb_b824_0242ac1c0002row2_col12,#T_998ff52e_5fd4_11eb_b824_0242ac1c0002row2_col13,#T_998ff52e_5fd4_11eb_b824_0242ac1c0002row2_col14,#T_998ff52e_5fd4_11eb_b824_0242ac1c0002row2_col15,#T_998ff52e_5fd4_11eb_b824_0242ac1c0002row2_col16,#T_998ff52e_5fd4_11eb_b824_0242ac1c0002row2_col17,#T_998ff52e_5fd4_11eb_b824_0242ac1c0002row2_col18,#T_998ff52e_5fd4_11eb_b824_0242ac1c0002row2_col19,#T_998ff52e_5fd4_11eb_b824_0242ac1c0002row2_col20,#T_998ff52e_5fd4_11eb_b824_0242ac1c0002row2_col21,#T_998ff52e_5fd4_11eb_b824_0242ac1c0002row2_col22,#T_998ff52e_5fd4_11eb_b824_0242ac1c0002row2_col23,#T_998ff52e_5fd4_11eb_b824_0242ac1c0002row2_col24,#T_998ff52e_5fd4_11eb_b824_0242ac1c0002row2_col25,#T_998ff52e_5fd4_11eb_b824_0242ac1c0002row2_col26,#T_998ff52e_5fd4_11eb_b824_0242ac1c0002row2_col27,#T_998ff52e_5fd4_11eb_b824_0242ac1c0002row3_col0,#T_998ff52e_5fd4_11eb_b824_0242ac1c0002row3_col1,#T_998ff52e_5fd4_11eb_b824_0242ac1c0002row3_col2,#T_998ff52e_5fd4_11eb_b824_0242ac1c0002row3_col3,#T_998ff52e_5fd4_11eb_b824_0242ac1c0002row3_col4,#T_998ff52e_5fd4_11eb_b824_0242ac1c0002row3_col5,#T_998ff52e_5fd4_11eb_b824_0242ac1c0002row3_col6,#T_998ff52e_5fd4_11eb_b824_0242ac1c0002row3_col7,#T_998ff52e_5fd4_11eb_b824_0242ac1c0002row3_col8,#T_998ff52e_5fd4_11eb_b824_0242ac1c0002row3_col9,#T_998ff52e_5fd4_11eb_b824_0242ac1c0002row3_col10,#T_998ff52e_5fd4_11eb_b824_0242ac1c0002row3_col11,#T_998ff52e_5fd4_11eb_b824_0242ac1c0002row3_col12,#T_998ff52e_5fd4_11eb_b824_0242ac1c0002row3_col13,#T_998ff52e_5fd4_11eb_b824_0242ac1c0002row3_col14,#T_998ff52e_5fd4_11eb_b824_0242ac1c0002row3_col15,#T_998ff52e_5fd4_11eb_b824_0242ac1c0002row3_col16,#T_998ff52e_5fd4_11eb_b824_0242ac1c0002row3_col17,#T_998ff52e_5fd4_11eb_b824_0242ac1c0002row3_col18,#T_998ff52e_5fd4_11eb_b824_0242ac1c0002row3_col19,#T_998ff52e_5fd4_11eb_b824_0242ac1c0002row3_col20,#T_998ff52e_5fd4_11eb_b824_0242ac1c0002row3_col21,#T_998ff52e_5fd4_11eb_b824_0242ac1c0002row3_col22,#T_998ff52e_5fd4_11eb_b824_0242ac1c0002row3_col23,#T_998ff52e_5fd4_11eb_b824_0242ac1c0002row3_col24,#T_998ff52e_5fd4_11eb_b824_0242ac1c0002row3_col25,#T_998ff52e_5fd4_11eb_b824_0242ac1c0002row3_col26,#T_998ff52e_5fd4_11eb_b824_0242ac1c0002row3_col27,#T_998ff52e_5fd4_11eb_b824_0242ac1c0002row4_col0,#T_998ff52e_5fd4_11eb_b824_0242ac1c0002row4_col1,#T_998ff52e_5fd4_11eb_b824_0242ac1c0002row4_col2,#T_998ff52e_5fd4_11eb_b824_0242ac1c0002row4_col3,#T_998ff52e_5fd4_11eb_b824_0242ac1c0002row4_col4,#T_998ff52e_5fd4_11eb_b824_0242ac1c0002row4_col5,#T_998ff52e_5fd4_11eb_b824_0242ac1c0002row4_col6,#T_998ff52e_5fd4_11eb_b824_0242ac1c0002row4_col7,#T_998ff52e_5fd4_11eb_b824_0242ac1c0002row4_col8,#T_998ff52e_5fd4_11eb_b824_0242ac1c0002row4_col9,#T_998ff52e_5fd4_11eb_b824_0242ac1c0002row4_col10,#T_998ff52e_5fd4_11eb_b824_0242ac1c0002row4_col11,#T_998ff52e_5fd4_11eb_b824_0242ac1c0002row4_col12,#T_998ff52e_5fd4_11eb_b824_0242ac1c0002row4_col13,#T_998ff52e_5fd4_11eb_b824_0242ac1c0002row4_col14,#T_998ff52e_5fd4_11eb_b824_0242ac1c0002row4_col15,#T_998ff52e_5fd4_11eb_b824_0242ac1c0002row4_col16,#T_998ff52e_5fd4_11eb_b824_0242ac1c0002row4_col17,#T_998ff52e_5fd4_11eb_b824_0242ac1c0002row4_col18,#T_998ff52e_5fd4_11eb_b824_0242ac1c0002row4_col19,#T_998ff52e_5fd4_11eb_b824_0242ac1c0002row4_col20,#T_998ff52e_5fd4_11eb_b824_0242ac1c0002row4_col21,#T_998ff52e_5fd4_11eb_b824_0242ac1c0002row4_col22,#T_998ff52e_5fd4_11eb_b824_0242ac1c0002row4_col23,#T_998ff52e_5fd4_11eb_b824_0242ac1c0002row4_col24,#T_998ff52e_5fd4_11eb_b824_0242ac1c0002row4_col25,#T_998ff52e_5fd4_11eb_b824_0242ac1c0002row4_col26,#T_998ff52e_5fd4_11eb_b824_0242ac1c0002row4_col27,#T_998ff52e_5fd4_11eb_b824_0242ac1c0002row5_col0,#T_998ff52e_5fd4_11eb_b824_0242ac1c0002row5_col1,#T_998ff52e_5fd4_11eb_b824_0242ac1c0002row5_col2,#T_998ff52e_5fd4_11eb_b824_0242ac1c0002row5_col3,#T_998ff52e_5fd4_11eb_b824_0242ac1c0002row5_col4,#T_998ff52e_5fd4_11eb_b824_0242ac1c0002row5_col5,#T_998ff52e_5fd4_11eb_b824_0242ac1c0002row5_col6,#T_998ff52e_5fd4_11eb_b824_0242ac1c0002row5_col7,#T_998ff52e_5fd4_11eb_b824_0242ac1c0002row5_col8,#T_998ff52e_5fd4_11eb_b824_0242ac1c0002row5_col19,#T_998ff52e_5fd4_11eb_b824_0242ac1c0002row5_col20,#T_998ff52e_5fd4_11eb_b824_0242ac1c0002row5_col21,#T_998ff52e_5fd4_11eb_b824_0242ac1c0002row5_col22,#T_998ff52e_5fd4_11eb_b824_0242ac1c0002row5_col23,#T_998ff52e_5fd4_11eb_b824_0242ac1c0002row5_col24,#T_998ff52e_5fd4_11eb_b824_0242ac1c0002row5_col25,#T_998ff52e_5fd4_11eb_b824_0242ac1c0002row5_col26,#T_998ff52e_5fd4_11eb_b824_0242ac1c0002row5_col27,#T_998ff52e_5fd4_11eb_b824_0242ac1c0002row6_col0,#T_998ff52e_5fd4_11eb_b824_0242ac1c0002row6_col1,#T_998ff52e_5fd4_11eb_b824_0242ac1c0002row6_col2,#T_998ff52e_5fd4_11eb_b824_0242ac1c0002row6_col3,#T_998ff52e_5fd4_11eb_b824_0242ac1c0002row6_col4,#T_998ff52e_5fd4_11eb_b824_0242ac1c0002row6_col5,#T_998ff52e_5fd4_11eb_b824_0242ac1c0002row6_col6,#T_998ff52e_5fd4_11eb_b824_0242ac1c0002row6_col19,#T_998ff52e_5fd4_11eb_b824_0242ac1c0002row6_col20,#T_998ff52e_5fd4_11eb_b824_0242ac1c0002row6_col21,#T_998ff52e_5fd4_11eb_b824_0242ac1c0002row6_col22,#T_998ff52e_5fd4_11eb_b824_0242ac1c0002row6_col23,#T_998ff52e_5fd4_11eb_b824_0242ac1c0002row6_col24,#T_998ff52e_5fd4_11eb_b824_0242ac1c0002row6_col25,#T_998ff52e_5fd4_11eb_b824_0242ac1c0002row6_col26,#T_998ff52e_5fd4_11eb_b824_0242ac1c0002row6_col27,#T_998ff52e_5fd4_11eb_b824_0242ac1c0002row7_col0,#T_998ff52e_5fd4_11eb_b824_0242ac1c0002row7_col1,#T_998ff52e_5fd4_11eb_b824_0242ac1c0002row7_col2,#T_998ff52e_5fd4_11eb_b824_0242ac1c0002row7_col3,#T_998ff52e_5fd4_11eb_b824_0242ac1c0002row7_col4,#T_998ff52e_5fd4_11eb_b824_0242ac1c0002row7_col19,#T_998ff52e_5fd4_11eb_b824_0242ac1c0002row7_col20,#T_998ff52e_5fd4_11eb_b824_0242ac1c0002row7_col21,#T_998ff52e_5fd4_11eb_b824_0242ac1c0002row7_col22,#T_998ff52e_5fd4_11eb_b824_0242ac1c0002row7_col23,#T_998ff52e_5fd4_11eb_b824_0242ac1c0002row7_col24,#T_998ff52e_5fd4_11eb_b824_0242ac1c0002row7_col25,#T_998ff52e_5fd4_11eb_b824_0242ac1c0002row7_col26,#T_998ff52e_5fd4_11eb_b824_0242ac1c0002row7_col27,#T_998ff52e_5fd4_11eb_b824_0242ac1c0002row8_col0,#T_998ff52e_5fd4_11eb_b824_0242ac1c0002row8_col1,#T_998ff52e_5fd4_11eb_b824_0242ac1c0002row8_col2,#T_998ff52e_5fd4_11eb_b824_0242ac1c0002row8_col3,#T_998ff52e_5fd4_11eb_b824_0242ac1c0002row8_col4,#T_998ff52e_5fd4_11eb_b824_0242ac1c0002row8_col10,#T_998ff52e_5fd4_11eb_b824_0242ac1c0002row8_col11,#T_998ff52e_5fd4_11eb_b824_0242ac1c0002row8_col12,#T_998ff52e_5fd4_11eb_b824_0242ac1c0002row8_col13,#T_998ff52e_5fd4_11eb_b824_0242ac1c0002row8_col14,#T_998ff52e_5fd4_11eb_b824_0242ac1c0002row8_col19,#T_998ff52e_5fd4_11eb_b824_0242ac1c0002row8_col20,#T_998ff52e_5fd4_11eb_b824_0242ac1c0002row8_col21,#T_998ff52e_5fd4_11eb_b824_0242ac1c0002row8_col22,#T_998ff52e_5fd4_11eb_b824_0242ac1c0002row8_col23,#T_998ff52e_5fd4_11eb_b824_0242ac1c0002row8_col24,#T_998ff52e_5fd4_11eb_b824_0242ac1c0002row8_col25,#T_998ff52e_5fd4_11eb_b824_0242ac1c0002row8_col26,#T_998ff52e_5fd4_11eb_b824_0242ac1c0002row8_col27,#T_998ff52e_5fd4_11eb_b824_0242ac1c0002row9_col0,#T_998ff52e_5fd4_11eb_b824_0242ac1c0002row9_col1,#T_998ff52e_5fd4_11eb_b824_0242ac1c0002row9_col2,#T_998ff52e_5fd4_11eb_b824_0242ac1c0002row9_col3,#T_998ff52e_5fd4_11eb_b824_0242ac1c0002row9_col4,#T_998ff52e_5fd4_11eb_b824_0242ac1c0002row9_col9,#T_998ff52e_5fd4_11eb_b824_0242ac1c0002row9_col10,#T_998ff52e_5fd4_11eb_b824_0242ac1c0002row9_col11,#T_998ff52e_5fd4_11eb_b824_0242ac1c0002row9_col12,#T_998ff52e_5fd4_11eb_b824_0242ac1c0002row9_col13,#T_998ff52e_5fd4_11eb_b824_0242ac1c0002row9_col19,#T_998ff52e_5fd4_11eb_b824_0242ac1c0002row9_col20,#T_998ff52e_5fd4_11eb_b824_0242ac1c0002row9_col21,#T_998ff52e_5fd4_11eb_b824_0242ac1c0002row9_col22,#T_998ff52e_5fd4_11eb_b824_0242ac1c0002row9_col23,#T_998ff52e_5fd4_11eb_b824_0242ac1c0002row9_col24,#T_998ff52e_5fd4_11eb_b824_0242ac1c0002row9_col25,#T_998ff52e_5fd4_11eb_b824_0242ac1c0002row9_col26,#T_998ff52e_5fd4_11eb_b824_0242ac1c0002row9_col27,#T_998ff52e_5fd4_11eb_b824_0242ac1c0002row10_col0,#T_998ff52e_5fd4_11eb_b824_0242ac1c0002row10_col1,#T_998ff52e_5fd4_11eb_b824_0242ac1c0002row10_col2,#T_998ff52e_5fd4_11eb_b824_0242ac1c0002row10_col3,#T_998ff52e_5fd4_11eb_b824_0242ac1c0002row10_col4,#T_998ff52e_5fd4_11eb_b824_0242ac1c0002row10_col5,#T_998ff52e_5fd4_11eb_b824_0242ac1c0002row10_col6,#T_998ff52e_5fd4_11eb_b824_0242ac1c0002row10_col7,#T_998ff52e_5fd4_11eb_b824_0242ac1c0002row10_col8,#T_998ff52e_5fd4_11eb_b824_0242ac1c0002row10_col9,#T_998ff52e_5fd4_11eb_b824_0242ac1c0002row10_col10,#T_998ff52e_5fd4_11eb_b824_0242ac1c0002row10_col11,#T_998ff52e_5fd4_11eb_b824_0242ac1c0002row10_col12,#T_998ff52e_5fd4_11eb_b824_0242ac1c0002row10_col13,#T_998ff52e_5fd4_11eb_b824_0242ac1c0002row10_col18,#T_998ff52e_5fd4_11eb_b824_0242ac1c0002row10_col19,#T_998ff52e_5fd4_11eb_b824_0242ac1c0002row10_col20,#T_998ff52e_5fd4_11eb_b824_0242ac1c0002row10_col21,#T_998ff52e_5fd4_11eb_b824_0242ac1c0002row10_col22,#T_998ff52e_5fd4_11eb_b824_0242ac1c0002row10_col23,#T_998ff52e_5fd4_11eb_b824_0242ac1c0002row10_col24,#T_998ff52e_5fd4_11eb_b824_0242ac1c0002row10_col25,#T_998ff52e_5fd4_11eb_b824_0242ac1c0002row10_col26,#T_998ff52e_5fd4_11eb_b824_0242ac1c0002row10_col27,#T_998ff52e_5fd4_11eb_b824_0242ac1c0002row11_col0,#T_998ff52e_5fd4_11eb_b824_0242ac1c0002row11_col1,#T_998ff52e_5fd4_11eb_b824_0242ac1c0002row11_col2,#T_998ff52e_5fd4_11eb_b824_0242ac1c0002row11_col3,#T_998ff52e_5fd4_11eb_b824_0242ac1c0002row11_col4,#T_998ff52e_5fd4_11eb_b824_0242ac1c0002row11_col5,#T_998ff52e_5fd4_11eb_b824_0242ac1c0002row11_col6,#T_998ff52e_5fd4_11eb_b824_0242ac1c0002row11_col7,#T_998ff52e_5fd4_11eb_b824_0242ac1c0002row11_col8,#T_998ff52e_5fd4_11eb_b824_0242ac1c0002row11_col9,#T_998ff52e_5fd4_11eb_b824_0242ac1c0002row11_col10,#T_998ff52e_5fd4_11eb_b824_0242ac1c0002row11_col17,#T_998ff52e_5fd4_11eb_b824_0242ac1c0002row11_col18,#T_998ff52e_5fd4_11eb_b824_0242ac1c0002row11_col19,#T_998ff52e_5fd4_11eb_b824_0242ac1c0002row11_col20,#T_998ff52e_5fd4_11eb_b824_0242ac1c0002row11_col21,#T_998ff52e_5fd4_11eb_b824_0242ac1c0002row11_col22,#T_998ff52e_5fd4_11eb_b824_0242ac1c0002row11_col23,#T_998ff52e_5fd4_11eb_b824_0242ac1c0002row11_col24,#T_998ff52e_5fd4_11eb_b824_0242ac1c0002row11_col25,#T_998ff52e_5fd4_11eb_b824_0242ac1c0002row11_col26,#T_998ff52e_5fd4_11eb_b824_0242ac1c0002row11_col27,#T_998ff52e_5fd4_11eb_b824_0242ac1c0002row12_col0,#T_998ff52e_5fd4_11eb_b824_0242ac1c0002row12_col1,#T_998ff52e_5fd4_11eb_b824_0242ac1c0002row12_col2,#T_998ff52e_5fd4_11eb_b824_0242ac1c0002row12_col3,#T_998ff52e_5fd4_11eb_b824_0242ac1c0002row12_col4,#T_998ff52e_5fd4_11eb_b824_0242ac1c0002row12_col5,#T_998ff52e_5fd4_11eb_b824_0242ac1c0002row12_col6,#T_998ff52e_5fd4_11eb_b824_0242ac1c0002row12_col7,#T_998ff52e_5fd4_11eb_b824_0242ac1c0002row12_col8,#T_998ff52e_5fd4_11eb_b824_0242ac1c0002row12_col17,#T_998ff52e_5fd4_11eb_b824_0242ac1c0002row12_col18,#T_998ff52e_5fd4_11eb_b824_0242ac1c0002row12_col19,#T_998ff52e_5fd4_11eb_b824_0242ac1c0002row12_col20,#T_998ff52e_5fd4_11eb_b824_0242ac1c0002row12_col21,#T_998ff52e_5fd4_11eb_b824_0242ac1c0002row12_col22,#T_998ff52e_5fd4_11eb_b824_0242ac1c0002row12_col23,#T_998ff52e_5fd4_11eb_b824_0242ac1c0002row12_col24,#T_998ff52e_5fd4_11eb_b824_0242ac1c0002row12_col25,#T_998ff52e_5fd4_11eb_b824_0242ac1c0002row12_col26,#T_998ff52e_5fd4_11eb_b824_0242ac1c0002row12_col27,#T_998ff52e_5fd4_11eb_b824_0242ac1c0002row13_col0,#T_998ff52e_5fd4_11eb_b824_0242ac1c0002row13_col1,#T_998ff52e_5fd4_11eb_b824_0242ac1c0002row13_col2,#T_998ff52e_5fd4_11eb_b824_0242ac1c0002row13_col3,#T_998ff52e_5fd4_11eb_b824_0242ac1c0002row13_col4,#T_998ff52e_5fd4_11eb_b824_0242ac1c0002row13_col5,#T_998ff52e_5fd4_11eb_b824_0242ac1c0002row13_col6,#T_998ff52e_5fd4_11eb_b824_0242ac1c0002row13_col7,#T_998ff52e_5fd4_11eb_b824_0242ac1c0002row13_col8,#T_998ff52e_5fd4_11eb_b824_0242ac1c0002row13_col20,#T_998ff52e_5fd4_11eb_b824_0242ac1c0002row13_col21,#T_998ff52e_5fd4_11eb_b824_0242ac1c0002row13_col22,#T_998ff52e_5fd4_11eb_b824_0242ac1c0002row13_col23,#T_998ff52e_5fd4_11eb_b824_0242ac1c0002row13_col24,#T_998ff52e_5fd4_11eb_b824_0242ac1c0002row13_col25,#T_998ff52e_5fd4_11eb_b824_0242ac1c0002row13_col26,#T_998ff52e_5fd4_11eb_b824_0242ac1c0002row13_col27,#T_998ff52e_5fd4_11eb_b824_0242ac1c0002row14_col0,#T_998ff52e_5fd4_11eb_b824_0242ac1c0002row14_col1,#T_998ff52e_5fd4_11eb_b824_0242ac1c0002row14_col2,#T_998ff52e_5fd4_11eb_b824_0242ac1c0002row14_col3,#T_998ff52e_5fd4_11eb_b824_0242ac1c0002row14_col4,#T_998ff52e_5fd4_11eb_b824_0242ac1c0002row14_col5,#T_998ff52e_5fd4_11eb_b824_0242ac1c0002row14_col6,#T_998ff52e_5fd4_11eb_b824_0242ac1c0002row14_col7,#T_998ff52e_5fd4_11eb_b824_0242ac1c0002row14_col8,#T_998ff52e_5fd4_11eb_b824_0242ac1c0002row14_col9,#T_998ff52e_5fd4_11eb_b824_0242ac1c0002row14_col10,#T_998ff52e_5fd4_11eb_b824_0242ac1c0002row14_col21,#T_998ff52e_5fd4_11eb_b824_0242ac1c0002row14_col22,#T_998ff52e_5fd4_11eb_b824_0242ac1c0002row14_col23,#T_998ff52e_5fd4_11eb_b824_0242ac1c0002row14_col24,#T_998ff52e_5fd4_11eb_b824_0242ac1c0002row14_col25,#T_998ff52e_5fd4_11eb_b824_0242ac1c0002row14_col26,#T_998ff52e_5fd4_11eb_b824_0242ac1c0002row14_col27,#T_998ff52e_5fd4_11eb_b824_0242ac1c0002row15_col0,#T_998ff52e_5fd4_11eb_b824_0242ac1c0002row15_col1,#T_998ff52e_5fd4_11eb_b824_0242ac1c0002row15_col2,#T_998ff52e_5fd4_11eb_b824_0242ac1c0002row15_col3,#T_998ff52e_5fd4_11eb_b824_0242ac1c0002row15_col4,#T_998ff52e_5fd4_11eb_b824_0242ac1c0002row15_col5,#T_998ff52e_5fd4_11eb_b824_0242ac1c0002row15_col6,#T_998ff52e_5fd4_11eb_b824_0242ac1c0002row15_col7,#T_998ff52e_5fd4_11eb_b824_0242ac1c0002row15_col8,#T_998ff52e_5fd4_11eb_b824_0242ac1c0002row15_col9,#T_998ff52e_5fd4_11eb_b824_0242ac1c0002row15_col10,#T_998ff52e_5fd4_11eb_b824_0242ac1c0002row15_col11,#T_998ff52e_5fd4_11eb_b824_0242ac1c0002row15_col12,#T_998ff52e_5fd4_11eb_b824_0242ac1c0002row15_col13,#T_998ff52e_5fd4_11eb_b824_0242ac1c0002row15_col21,#T_998ff52e_5fd4_11eb_b824_0242ac1c0002row15_col22,#T_998ff52e_5fd4_11eb_b824_0242ac1c0002row15_col23,#T_998ff52e_5fd4_11eb_b824_0242ac1c0002row15_col24,#T_998ff52e_5fd4_11eb_b824_0242ac1c0002row15_col25,#T_998ff52e_5fd4_11eb_b824_0242ac1c0002row15_col26,#T_998ff52e_5fd4_11eb_b824_0242ac1c0002row15_col27,#T_998ff52e_5fd4_11eb_b824_0242ac1c0002row16_col0,#T_998ff52e_5fd4_11eb_b824_0242ac1c0002row16_col1,#T_998ff52e_5fd4_11eb_b824_0242ac1c0002row16_col2,#T_998ff52e_5fd4_11eb_b824_0242ac1c0002row16_col3,#T_998ff52e_5fd4_11eb_b824_0242ac1c0002row16_col4,#T_998ff52e_5fd4_11eb_b824_0242ac1c0002row16_col5,#T_998ff52e_5fd4_11eb_b824_0242ac1c0002row16_col6,#T_998ff52e_5fd4_11eb_b824_0242ac1c0002row16_col7,#T_998ff52e_5fd4_11eb_b824_0242ac1c0002row16_col8,#T_998ff52e_5fd4_11eb_b824_0242ac1c0002row16_col9,#T_998ff52e_5fd4_11eb_b824_0242ac1c0002row16_col10,#T_998ff52e_5fd4_11eb_b824_0242ac1c0002row16_col11,#T_998ff52e_5fd4_11eb_b824_0242ac1c0002row16_col12,#T_998ff52e_5fd4_11eb_b824_0242ac1c0002row16_col13,#T_998ff52e_5fd4_11eb_b824_0242ac1c0002row16_col14,#T_998ff52e_5fd4_11eb_b824_0242ac1c0002row16_col15,#T_998ff52e_5fd4_11eb_b824_0242ac1c0002row16_col16,#T_998ff52e_5fd4_11eb_b824_0242ac1c0002row16_col21,#T_998ff52e_5fd4_11eb_b824_0242ac1c0002row16_col22,#T_998ff52e_5fd4_11eb_b824_0242ac1c0002row16_col23,#T_998ff52e_5fd4_11eb_b824_0242ac1c0002row16_col24,#T_998ff52e_5fd4_11eb_b824_0242ac1c0002row16_col25,#T_998ff52e_5fd4_11eb_b824_0242ac1c0002row16_col26,#T_998ff52e_5fd4_11eb_b824_0242ac1c0002row16_col27,#T_998ff52e_5fd4_11eb_b824_0242ac1c0002row17_col0,#T_998ff52e_5fd4_11eb_b824_0242ac1c0002row17_col1,#T_998ff52e_5fd4_11eb_b824_0242ac1c0002row17_col2,#T_998ff52e_5fd4_11eb_b824_0242ac1c0002row17_col3,#T_998ff52e_5fd4_11eb_b824_0242ac1c0002row17_col4,#T_998ff52e_5fd4_11eb_b824_0242ac1c0002row17_col5,#T_998ff52e_5fd4_11eb_b824_0242ac1c0002row17_col6,#T_998ff52e_5fd4_11eb_b824_0242ac1c0002row17_col7,#T_998ff52e_5fd4_11eb_b824_0242ac1c0002row17_col8,#T_998ff52e_5fd4_11eb_b824_0242ac1c0002row17_col9,#T_998ff52e_5fd4_11eb_b824_0242ac1c0002row17_col10,#T_998ff52e_5fd4_11eb_b824_0242ac1c0002row17_col11,#T_998ff52e_5fd4_11eb_b824_0242ac1c0002row17_col12,#T_998ff52e_5fd4_11eb_b824_0242ac1c0002row17_col13,#T_998ff52e_5fd4_11eb_b824_0242ac1c0002row17_col14,#T_998ff52e_5fd4_11eb_b824_0242ac1c0002row17_col15,#T_998ff52e_5fd4_11eb_b824_0242ac1c0002row17_col16,#T_998ff52e_5fd4_11eb_b824_0242ac1c0002row17_col21,#T_998ff52e_5fd4_11eb_b824_0242ac1c0002row17_col22,#T_998ff52e_5fd4_11eb_b824_0242ac1c0002row17_col23,#T_998ff52e_5fd4_11eb_b824_0242ac1c0002row17_col24,#T_998ff52e_5fd4_11eb_b824_0242ac1c0002row17_col25,#T_998ff52e_5fd4_11eb_b824_0242ac1c0002row17_col26,#T_998ff52e_5fd4_11eb_b824_0242ac1c0002row17_col27,#T_998ff52e_5fd4_11eb_b824_0242ac1c0002row18_col0,#T_998ff52e_5fd4_11eb_b824_0242ac1c0002row18_col1,#T_998ff52e_5fd4_11eb_b824_0242ac1c0002row18_col2,#T_998ff52e_5fd4_11eb_b824_0242ac1c0002row18_col3,#T_998ff52e_5fd4_11eb_b824_0242ac1c0002row18_col4,#T_998ff52e_5fd4_11eb_b824_0242ac1c0002row18_col5,#T_998ff52e_5fd4_11eb_b824_0242ac1c0002row18_col6,#T_998ff52e_5fd4_11eb_b824_0242ac1c0002row18_col7,#T_998ff52e_5fd4_11eb_b824_0242ac1c0002row18_col8,#T_998ff52e_5fd4_11eb_b824_0242ac1c0002row18_col9,#T_998ff52e_5fd4_11eb_b824_0242ac1c0002row18_col10,#T_998ff52e_5fd4_11eb_b824_0242ac1c0002row18_col11,#T_998ff52e_5fd4_11eb_b824_0242ac1c0002row18_col12,#T_998ff52e_5fd4_11eb_b824_0242ac1c0002row18_col13,#T_998ff52e_5fd4_11eb_b824_0242ac1c0002row18_col14,#T_998ff52e_5fd4_11eb_b824_0242ac1c0002row18_col15,#T_998ff52e_5fd4_11eb_b824_0242ac1c0002row18_col21,#T_998ff52e_5fd4_11eb_b824_0242ac1c0002row18_col22,#T_998ff52e_5fd4_11eb_b824_0242ac1c0002row18_col23,#T_998ff52e_5fd4_11eb_b824_0242ac1c0002row18_col24,#T_998ff52e_5fd4_11eb_b824_0242ac1c0002row18_col25,#T_998ff52e_5fd4_11eb_b824_0242ac1c0002row18_col26,#T_998ff52e_5fd4_11eb_b824_0242ac1c0002row18_col27,#T_998ff52e_5fd4_11eb_b824_0242ac1c0002row19_col0,#T_998ff52e_5fd4_11eb_b824_0242ac1c0002row19_col1,#T_998ff52e_5fd4_11eb_b824_0242ac1c0002row19_col2,#T_998ff52e_5fd4_11eb_b824_0242ac1c0002row19_col3,#T_998ff52e_5fd4_11eb_b824_0242ac1c0002row19_col4,#T_998ff52e_5fd4_11eb_b824_0242ac1c0002row19_col5,#T_998ff52e_5fd4_11eb_b824_0242ac1c0002row19_col6,#T_998ff52e_5fd4_11eb_b824_0242ac1c0002row19_col7,#T_998ff52e_5fd4_11eb_b824_0242ac1c0002row19_col8,#T_998ff52e_5fd4_11eb_b824_0242ac1c0002row19_col9,#T_998ff52e_5fd4_11eb_b824_0242ac1c0002row19_col10,#T_998ff52e_5fd4_11eb_b824_0242ac1c0002row19_col11,#T_998ff52e_5fd4_11eb_b824_0242ac1c0002row19_col12,#T_998ff52e_5fd4_11eb_b824_0242ac1c0002row19_col13,#T_998ff52e_5fd4_11eb_b824_0242ac1c0002row19_col14,#T_998ff52e_5fd4_11eb_b824_0242ac1c0002row19_col21,#T_998ff52e_5fd4_11eb_b824_0242ac1c0002row19_col22,#T_998ff52e_5fd4_11eb_b824_0242ac1c0002row19_col23,#T_998ff52e_5fd4_11eb_b824_0242ac1c0002row19_col24,#T_998ff52e_5fd4_11eb_b824_0242ac1c0002row19_col25,#T_998ff52e_5fd4_11eb_b824_0242ac1c0002row19_col26,#T_998ff52e_5fd4_11eb_b824_0242ac1c0002row19_col27,#T_998ff52e_5fd4_11eb_b824_0242ac1c0002row20_col0,#T_998ff52e_5fd4_11eb_b824_0242ac1c0002row20_col1,#T_998ff52e_5fd4_11eb_b824_0242ac1c0002row20_col2,#T_998ff52e_5fd4_11eb_b824_0242ac1c0002row20_col3,#T_998ff52e_5fd4_11eb_b824_0242ac1c0002row20_col4,#T_998ff52e_5fd4_11eb_b824_0242ac1c0002row20_col5,#T_998ff52e_5fd4_11eb_b824_0242ac1c0002row20_col6,#T_998ff52e_5fd4_11eb_b824_0242ac1c0002row20_col7,#T_998ff52e_5fd4_11eb_b824_0242ac1c0002row20_col8,#T_998ff52e_5fd4_11eb_b824_0242ac1c0002row20_col9,#T_998ff52e_5fd4_11eb_b824_0242ac1c0002row20_col10,#T_998ff52e_5fd4_11eb_b824_0242ac1c0002row20_col11,#T_998ff52e_5fd4_11eb_b824_0242ac1c0002row20_col12,#T_998ff52e_5fd4_11eb_b824_0242ac1c0002row20_col13,#T_998ff52e_5fd4_11eb_b824_0242ac1c0002row20_col20,#T_998ff52e_5fd4_11eb_b824_0242ac1c0002row20_col21,#T_998ff52e_5fd4_11eb_b824_0242ac1c0002row20_col22,#T_998ff52e_5fd4_11eb_b824_0242ac1c0002row20_col23,#T_998ff52e_5fd4_11eb_b824_0242ac1c0002row20_col24,#T_998ff52e_5fd4_11eb_b824_0242ac1c0002row20_col25,#T_998ff52e_5fd4_11eb_b824_0242ac1c0002row20_col26,#T_998ff52e_5fd4_11eb_b824_0242ac1c0002row20_col27,#T_998ff52e_5fd4_11eb_b824_0242ac1c0002row21_col0,#T_998ff52e_5fd4_11eb_b824_0242ac1c0002row21_col1,#T_998ff52e_5fd4_11eb_b824_0242ac1c0002row21_col2,#T_998ff52e_5fd4_11eb_b824_0242ac1c0002row21_col3,#T_998ff52e_5fd4_11eb_b824_0242ac1c0002row21_col4,#T_998ff52e_5fd4_11eb_b824_0242ac1c0002row21_col5,#T_998ff52e_5fd4_11eb_b824_0242ac1c0002row21_col6,#T_998ff52e_5fd4_11eb_b824_0242ac1c0002row21_col7,#T_998ff52e_5fd4_11eb_b824_0242ac1c0002row21_col8,#T_998ff52e_5fd4_11eb_b824_0242ac1c0002row21_col9,#T_998ff52e_5fd4_11eb_b824_0242ac1c0002row21_col10,#T_998ff52e_5fd4_11eb_b824_0242ac1c0002row21_col11,#T_998ff52e_5fd4_11eb_b824_0242ac1c0002row21_col19,#T_998ff52e_5fd4_11eb_b824_0242ac1c0002row21_col20,#T_998ff52e_5fd4_11eb_b824_0242ac1c0002row21_col21,#T_998ff52e_5fd4_11eb_b824_0242ac1c0002row21_col22,#T_998ff52e_5fd4_11eb_b824_0242ac1c0002row21_col23,#T_998ff52e_5fd4_11eb_b824_0242ac1c0002row21_col24,#T_998ff52e_5fd4_11eb_b824_0242ac1c0002row21_col25,#T_998ff52e_5fd4_11eb_b824_0242ac1c0002row21_col26,#T_998ff52e_5fd4_11eb_b824_0242ac1c0002row21_col27,#T_998ff52e_5fd4_11eb_b824_0242ac1c0002row22_col0,#T_998ff52e_5fd4_11eb_b824_0242ac1c0002row22_col1,#T_998ff52e_5fd4_11eb_b824_0242ac1c0002row22_col2,#T_998ff52e_5fd4_11eb_b824_0242ac1c0002row22_col3,#T_998ff52e_5fd4_11eb_b824_0242ac1c0002row22_col4,#T_998ff52e_5fd4_11eb_b824_0242ac1c0002row22_col5,#T_998ff52e_5fd4_11eb_b824_0242ac1c0002row22_col18,#T_998ff52e_5fd4_11eb_b824_0242ac1c0002row22_col19,#T_998ff52e_5fd4_11eb_b824_0242ac1c0002row22_col20,#T_998ff52e_5fd4_11eb_b824_0242ac1c0002row22_col21,#T_998ff52e_5fd4_11eb_b824_0242ac1c0002row22_col22,#T_998ff52e_5fd4_11eb_b824_0242ac1c0002row22_col23,#T_998ff52e_5fd4_11eb_b824_0242ac1c0002row22_col24,#T_998ff52e_5fd4_11eb_b824_0242ac1c0002row22_col25,#T_998ff52e_5fd4_11eb_b824_0242ac1c0002row22_col26,#T_998ff52e_5fd4_11eb_b824_0242ac1c0002row22_col27,#T_998ff52e_5fd4_11eb_b824_0242ac1c0002row23_col0,#T_998ff52e_5fd4_11eb_b824_0242ac1c0002row23_col1,#T_998ff52e_5fd4_11eb_b824_0242ac1c0002row23_col2,#T_998ff52e_5fd4_11eb_b824_0242ac1c0002row23_col3,#T_998ff52e_5fd4_11eb_b824_0242ac1c0002row23_col4,#T_998ff52e_5fd4_11eb_b824_0242ac1c0002row23_col5,#T_998ff52e_5fd4_11eb_b824_0242ac1c0002row23_col16,#T_998ff52e_5fd4_11eb_b824_0242ac1c0002row23_col17,#T_998ff52e_5fd4_11eb_b824_0242ac1c0002row23_col18,#T_998ff52e_5fd4_11eb_b824_0242ac1c0002row23_col19,#T_998ff52e_5fd4_11eb_b824_0242ac1c0002row23_col20,#T_998ff52e_5fd4_11eb_b824_0242ac1c0002row23_col21,#T_998ff52e_5fd4_11eb_b824_0242ac1c0002row23_col22,#T_998ff52e_5fd4_11eb_b824_0242ac1c0002row23_col23,#T_998ff52e_5fd4_11eb_b824_0242ac1c0002row23_col24,#T_998ff52e_5fd4_11eb_b824_0242ac1c0002row23_col25,#T_998ff52e_5fd4_11eb_b824_0242ac1c0002row23_col26,#T_998ff52e_5fd4_11eb_b824_0242ac1c0002row23_col27,#T_998ff52e_5fd4_11eb_b824_0242ac1c0002row24_col0,#T_998ff52e_5fd4_11eb_b824_0242ac1c0002row24_col1,#T_998ff52e_5fd4_11eb_b824_0242ac1c0002row24_col2,#T_998ff52e_5fd4_11eb_b824_0242ac1c0002row24_col3,#T_998ff52e_5fd4_11eb_b824_0242ac1c0002row24_col4,#T_998ff52e_5fd4_11eb_b824_0242ac1c0002row24_col5,#T_998ff52e_5fd4_11eb_b824_0242ac1c0002row24_col14,#T_998ff52e_5fd4_11eb_b824_0242ac1c0002row24_col15,#T_998ff52e_5fd4_11eb_b824_0242ac1c0002row24_col16,#T_998ff52e_5fd4_11eb_b824_0242ac1c0002row24_col17,#T_998ff52e_5fd4_11eb_b824_0242ac1c0002row24_col18,#T_998ff52e_5fd4_11eb_b824_0242ac1c0002row24_col19,#T_998ff52e_5fd4_11eb_b824_0242ac1c0002row24_col20,#T_998ff52e_5fd4_11eb_b824_0242ac1c0002row24_col21,#T_998ff52e_5fd4_11eb_b824_0242ac1c0002row24_col22,#T_998ff52e_5fd4_11eb_b824_0242ac1c0002row24_col23,#T_998ff52e_5fd4_11eb_b824_0242ac1c0002row24_col24,#T_998ff52e_5fd4_11eb_b824_0242ac1c0002row24_col25,#T_998ff52e_5fd4_11eb_b824_0242ac1c0002row24_col26,#T_998ff52e_5fd4_11eb_b824_0242ac1c0002row24_col27,#T_998ff52e_5fd4_11eb_b824_0242ac1c0002row25_col0,#T_998ff52e_5fd4_11eb_b824_0242ac1c0002row25_col1,#T_998ff52e_5fd4_11eb_b824_0242ac1c0002row25_col2,#T_998ff52e_5fd4_11eb_b824_0242ac1c0002row25_col3,#T_998ff52e_5fd4_11eb_b824_0242ac1c0002row25_col4,#T_998ff52e_5fd4_11eb_b824_0242ac1c0002row25_col5,#T_998ff52e_5fd4_11eb_b824_0242ac1c0002row25_col6,#T_998ff52e_5fd4_11eb_b824_0242ac1c0002row25_col7,#T_998ff52e_5fd4_11eb_b824_0242ac1c0002row25_col8,#T_998ff52e_5fd4_11eb_b824_0242ac1c0002row25_col9,#T_998ff52e_5fd4_11eb_b824_0242ac1c0002row25_col10,#T_998ff52e_5fd4_11eb_b824_0242ac1c0002row25_col11,#T_998ff52e_5fd4_11eb_b824_0242ac1c0002row25_col12,#T_998ff52e_5fd4_11eb_b824_0242ac1c0002row25_col13,#T_998ff52e_5fd4_11eb_b824_0242ac1c0002row25_col14,#T_998ff52e_5fd4_11eb_b824_0242ac1c0002row25_col15,#T_998ff52e_5fd4_11eb_b824_0242ac1c0002row25_col16,#T_998ff52e_5fd4_11eb_b824_0242ac1c0002row25_col17,#T_998ff52e_5fd4_11eb_b824_0242ac1c0002row25_col18,#T_998ff52e_5fd4_11eb_b824_0242ac1c0002row25_col19,#T_998ff52e_5fd4_11eb_b824_0242ac1c0002row25_col20,#T_998ff52e_5fd4_11eb_b824_0242ac1c0002row25_col21,#T_998ff52e_5fd4_11eb_b824_0242ac1c0002row25_col22,#T_998ff52e_5fd4_11eb_b824_0242ac1c0002row25_col23,#T_998ff52e_5fd4_11eb_b824_0242ac1c0002row25_col24,#T_998ff52e_5fd4_11eb_b824_0242ac1c0002row25_col25,#T_998ff52e_5fd4_11eb_b824_0242ac1c0002row25_col26,#T_998ff52e_5fd4_11eb_b824_0242ac1c0002row25_col27,#T_998ff52e_5fd4_11eb_b824_0242ac1c0002row26_col0,#T_998ff52e_5fd4_11eb_b824_0242ac1c0002row26_col1,#T_998ff52e_5fd4_11eb_b824_0242ac1c0002row26_col2,#T_998ff52e_5fd4_11eb_b824_0242ac1c0002row26_col3,#T_998ff52e_5fd4_11eb_b824_0242ac1c0002row26_col4,#T_998ff52e_5fd4_11eb_b824_0242ac1c0002row26_col5,#T_998ff52e_5fd4_11eb_b824_0242ac1c0002row26_col6,#T_998ff52e_5fd4_11eb_b824_0242ac1c0002row26_col7,#T_998ff52e_5fd4_11eb_b824_0242ac1c0002row26_col8,#T_998ff52e_5fd4_11eb_b824_0242ac1c0002row26_col9,#T_998ff52e_5fd4_11eb_b824_0242ac1c0002row26_col10,#T_998ff52e_5fd4_11eb_b824_0242ac1c0002row26_col11,#T_998ff52e_5fd4_11eb_b824_0242ac1c0002row26_col12,#T_998ff52e_5fd4_11eb_b824_0242ac1c0002row26_col13,#T_998ff52e_5fd4_11eb_b824_0242ac1c0002row26_col14,#T_998ff52e_5fd4_11eb_b824_0242ac1c0002row26_col15,#T_998ff52e_5fd4_11eb_b824_0242ac1c0002row26_col16,#T_998ff52e_5fd4_11eb_b824_0242ac1c0002row26_col17,#T_998ff52e_5fd4_11eb_b824_0242ac1c0002row26_col18,#T_998ff52e_5fd4_11eb_b824_0242ac1c0002row26_col19,#T_998ff52e_5fd4_11eb_b824_0242ac1c0002row26_col20,#T_998ff52e_5fd4_11eb_b824_0242ac1c0002row26_col21,#T_998ff52e_5fd4_11eb_b824_0242ac1c0002row26_col22,#T_998ff52e_5fd4_11eb_b824_0242ac1c0002row26_col23,#T_998ff52e_5fd4_11eb_b824_0242ac1c0002row26_col24,#T_998ff52e_5fd4_11eb_b824_0242ac1c0002row26_col25,#T_998ff52e_5fd4_11eb_b824_0242ac1c0002row26_col26,#T_998ff52e_5fd4_11eb_b824_0242ac1c0002row26_col27,#T_998ff52e_5fd4_11eb_b824_0242ac1c0002row27_col0,#T_998ff52e_5fd4_11eb_b824_0242ac1c0002row27_col1,#T_998ff52e_5fd4_11eb_b824_0242ac1c0002row27_col2,#T_998ff52e_5fd4_11eb_b824_0242ac1c0002row27_col3,#T_998ff52e_5fd4_11eb_b824_0242ac1c0002row27_col4,#T_998ff52e_5fd4_11eb_b824_0242ac1c0002row27_col5,#T_998ff52e_5fd4_11eb_b824_0242ac1c0002row27_col6,#T_998ff52e_5fd4_11eb_b824_0242ac1c0002row27_col7,#T_998ff52e_5fd4_11eb_b824_0242ac1c0002row27_col8,#T_998ff52e_5fd4_11eb_b824_0242ac1c0002row27_col9,#T_998ff52e_5fd4_11eb_b824_0242ac1c0002row27_col10,#T_998ff52e_5fd4_11eb_b824_0242ac1c0002row27_col11,#T_998ff52e_5fd4_11eb_b824_0242ac1c0002row27_col12,#T_998ff52e_5fd4_11eb_b824_0242ac1c0002row27_col13,#T_998ff52e_5fd4_11eb_b824_0242ac1c0002row27_col14,#T_998ff52e_5fd4_11eb_b824_0242ac1c0002row27_col15,#T_998ff52e_5fd4_11eb_b824_0242ac1c0002row27_col16,#T_998ff52e_5fd4_11eb_b824_0242ac1c0002row27_col17,#T_998ff52e_5fd4_11eb_b824_0242ac1c0002row27_col18,#T_998ff52e_5fd4_11eb_b824_0242ac1c0002row27_col19,#T_998ff52e_5fd4_11eb_b824_0242ac1c0002row27_col20,#T_998ff52e_5fd4_11eb_b824_0242ac1c0002row27_col21,#T_998ff52e_5fd4_11eb_b824_0242ac1c0002row27_col22,#T_998ff52e_5fd4_11eb_b824_0242ac1c0002row27_col23,#T_998ff52e_5fd4_11eb_b824_0242ac1c0002row27_col24,#T_998ff52e_5fd4_11eb_b824_0242ac1c0002row27_col25,#T_998ff52e_5fd4_11eb_b824_0242ac1c0002row27_col26,#T_998ff52e_5fd4_11eb_b824_0242ac1c0002row27_col27{\n",
              "            font_size:  6pt;\n",
              "            background-color:  #ffffff;\n",
              "            color:  #000000;\n",
              "        }#T_998ff52e_5fd4_11eb_b824_0242ac1c0002row5_col9,#T_998ff52e_5fd4_11eb_b824_0242ac1c0002row12_col16{\n",
              "            font_size:  6pt;\n",
              "            background-color:  #f1f1f1;\n",
              "            color:  #000000;\n",
              "        }#T_998ff52e_5fd4_11eb_b824_0242ac1c0002row5_col10,#T_998ff52e_5fd4_11eb_b824_0242ac1c0002row5_col17{\n",
              "            font_size:  6pt;\n",
              "            background-color:  #7c7c7c;\n",
              "            color:  #000000;\n",
              "        }#T_998ff52e_5fd4_11eb_b824_0242ac1c0002row5_col11{\n",
              "            font_size:  6pt;\n",
              "            background-color:  #4a4a4a;\n",
              "            color:  #f1f1f1;\n",
              "        }#T_998ff52e_5fd4_11eb_b824_0242ac1c0002row5_col12,#T_998ff52e_5fd4_11eb_b824_0242ac1c0002row5_col13,#T_998ff52e_5fd4_11eb_b824_0242ac1c0002row5_col14,#T_998ff52e_5fd4_11eb_b824_0242ac1c0002row6_col10,#T_998ff52e_5fd4_11eb_b824_0242ac1c0002row6_col11,#T_998ff52e_5fd4_11eb_b824_0242ac1c0002row6_col15,#T_998ff52e_5fd4_11eb_b824_0242ac1c0002row6_col16,#T_998ff52e_5fd4_11eb_b824_0242ac1c0002row6_col17,#T_998ff52e_5fd4_11eb_b824_0242ac1c0002row7_col8,#T_998ff52e_5fd4_11eb_b824_0242ac1c0002row7_col16,#T_998ff52e_5fd4_11eb_b824_0242ac1c0002row7_col17,#T_998ff52e_5fd4_11eb_b824_0242ac1c0002row8_col5,#T_998ff52e_5fd4_11eb_b824_0242ac1c0002row8_col6,#T_998ff52e_5fd4_11eb_b824_0242ac1c0002row8_col7,#T_998ff52e_5fd4_11eb_b824_0242ac1c0002row8_col16,#T_998ff52e_5fd4_11eb_b824_0242ac1c0002row8_col17,#T_998ff52e_5fd4_11eb_b824_0242ac1c0002row9_col16,#T_998ff52e_5fd4_11eb_b824_0242ac1c0002row10_col15,#T_998ff52e_5fd4_11eb_b824_0242ac1c0002row13_col15,#T_998ff52e_5fd4_11eb_b824_0242ac1c0002row14_col15,#T_998ff52e_5fd4_11eb_b824_0242ac1c0002row14_col16,#T_998ff52e_5fd4_11eb_b824_0242ac1c0002row14_col17,#T_998ff52e_5fd4_11eb_b824_0242ac1c0002row14_col18,#T_998ff52e_5fd4_11eb_b824_0242ac1c0002row15_col17,#T_998ff52e_5fd4_11eb_b824_0242ac1c0002row15_col18,#T_998ff52e_5fd4_11eb_b824_0242ac1c0002row15_col19,#T_998ff52e_5fd4_11eb_b824_0242ac1c0002row16_col18,#T_998ff52e_5fd4_11eb_b824_0242ac1c0002row16_col19,#T_998ff52e_5fd4_11eb_b824_0242ac1c0002row16_col20,#T_998ff52e_5fd4_11eb_b824_0242ac1c0002row17_col18,#T_998ff52e_5fd4_11eb_b824_0242ac1c0002row17_col19,#T_998ff52e_5fd4_11eb_b824_0242ac1c0002row18_col18,#T_998ff52e_5fd4_11eb_b824_0242ac1c0002row18_col19,#T_998ff52e_5fd4_11eb_b824_0242ac1c0002row19_col17,#T_998ff52e_5fd4_11eb_b824_0242ac1c0002row19_col18,#T_998ff52e_5fd4_11eb_b824_0242ac1c0002row20_col16,#T_998ff52e_5fd4_11eb_b824_0242ac1c0002row20_col17,#T_998ff52e_5fd4_11eb_b824_0242ac1c0002row21_col15,#T_998ff52e_5fd4_11eb_b824_0242ac1c0002row21_col16,#T_998ff52e_5fd4_11eb_b824_0242ac1c0002row23_col7,#T_998ff52e_5fd4_11eb_b824_0242ac1c0002row23_col8,#T_998ff52e_5fd4_11eb_b824_0242ac1c0002row23_col9,#T_998ff52e_5fd4_11eb_b824_0242ac1c0002row23_col10,#T_998ff52e_5fd4_11eb_b824_0242ac1c0002row23_col11,#T_998ff52e_5fd4_11eb_b824_0242ac1c0002row24_col7,#T_998ff52e_5fd4_11eb_b824_0242ac1c0002row24_col8,#T_998ff52e_5fd4_11eb_b824_0242ac1c0002row24_col9,#T_998ff52e_5fd4_11eb_b824_0242ac1c0002row24_col10,#T_998ff52e_5fd4_11eb_b824_0242ac1c0002row24_col11{\n",
              "            font_size:  6pt;\n",
              "            background-color:  #000000;\n",
              "            color:  #f1f1f1;\n",
              "        }#T_998ff52e_5fd4_11eb_b824_0242ac1c0002row5_col15{\n",
              "            font_size:  6pt;\n",
              "            background-color:  #606060;\n",
              "            color:  #f1f1f1;\n",
              "        }#T_998ff52e_5fd4_11eb_b824_0242ac1c0002row5_col16{\n",
              "            font_size:  6pt;\n",
              "            background-color:  #4d4d4d;\n",
              "            color:  #f1f1f1;\n",
              "        }#T_998ff52e_5fd4_11eb_b824_0242ac1c0002row5_col18{\n",
              "            font_size:  6pt;\n",
              "            background-color:  #bbbbbb;\n",
              "            color:  #000000;\n",
              "        }#T_998ff52e_5fd4_11eb_b824_0242ac1c0002row6_col7,#T_998ff52e_5fd4_11eb_b824_0242ac1c0002row8_col9{\n",
              "            font_size:  6pt;\n",
              "            background-color:  #e4e4e4;\n",
              "            color:  #000000;\n",
              "        }#T_998ff52e_5fd4_11eb_b824_0242ac1c0002row6_col8,#T_998ff52e_5fd4_11eb_b824_0242ac1c0002row12_col10{\n",
              "            font_size:  6pt;\n",
              "            background-color:  #6b6b6b;\n",
              "            color:  #000000;\n",
              "        }#T_998ff52e_5fd4_11eb_b824_0242ac1c0002row6_col9,#T_998ff52e_5fd4_11eb_b824_0242ac1c0002row9_col15{\n",
              "            font_size:  6pt;\n",
              "            background-color:  #222222;\n",
              "            color:  #f1f1f1;\n",
              "        }#T_998ff52e_5fd4_11eb_b824_0242ac1c0002row6_col12,#T_998ff52e_5fd4_11eb_b824_0242ac1c0002row6_col18,#T_998ff52e_5fd4_11eb_b824_0242ac1c0002row7_col18,#T_998ff52e_5fd4_11eb_b824_0242ac1c0002row21_col17{\n",
              "            font_size:  6pt;\n",
              "            background-color:  #171717;\n",
              "            color:  #f1f1f1;\n",
              "        }#T_998ff52e_5fd4_11eb_b824_0242ac1c0002row6_col13,#T_998ff52e_5fd4_11eb_b824_0242ac1c0002row7_col15{\n",
              "            font_size:  6pt;\n",
              "            background-color:  #4b4b4b;\n",
              "            color:  #f1f1f1;\n",
              "        }#T_998ff52e_5fd4_11eb_b824_0242ac1c0002row6_col14,#T_998ff52e_5fd4_11eb_b824_0242ac1c0002row11_col14,#T_998ff52e_5fd4_11eb_b824_0242ac1c0002row12_col12,#T_998ff52e_5fd4_11eb_b824_0242ac1c0002row12_col14,#T_998ff52e_5fd4_11eb_b824_0242ac1c0002row13_col12,#T_998ff52e_5fd4_11eb_b824_0242ac1c0002row13_col14,#T_998ff52e_5fd4_11eb_b824_0242ac1c0002row22_col14,#T_998ff52e_5fd4_11eb_b824_0242ac1c0002row23_col12{\n",
              "            font_size:  6pt;\n",
              "            background-color:  #010101;\n",
              "            color:  #f1f1f1;\n",
              "        }#T_998ff52e_5fd4_11eb_b824_0242ac1c0002row7_col5{\n",
              "            font_size:  6pt;\n",
              "            background-color:  #272727;\n",
              "            color:  #f1f1f1;\n",
              "        }#T_998ff52e_5fd4_11eb_b824_0242ac1c0002row7_col6{\n",
              "            font_size:  6pt;\n",
              "            background-color:  #0a0a0a;\n",
              "            color:  #f1f1f1;\n",
              "        }#T_998ff52e_5fd4_11eb_b824_0242ac1c0002row7_col7,#T_998ff52e_5fd4_11eb_b824_0242ac1c0002row18_col17{\n",
              "            font_size:  6pt;\n",
              "            background-color:  #050505;\n",
              "            color:  #f1f1f1;\n",
              "        }#T_998ff52e_5fd4_11eb_b824_0242ac1c0002row7_col9,#T_998ff52e_5fd4_11eb_b824_0242ac1c0002row12_col15,#T_998ff52e_5fd4_11eb_b824_0242ac1c0002row14_col19,#T_998ff52e_5fd4_11eb_b824_0242ac1c0002row23_col6{\n",
              "            font_size:  6pt;\n",
              "            background-color:  #545454;\n",
              "            color:  #f1f1f1;\n",
              "        }#T_998ff52e_5fd4_11eb_b824_0242ac1c0002row7_col10{\n",
              "            font_size:  6pt;\n",
              "            background-color:  #e6e6e6;\n",
              "            color:  #000000;\n",
              "        }#T_998ff52e_5fd4_11eb_b824_0242ac1c0002row7_col11,#T_998ff52e_5fd4_11eb_b824_0242ac1c0002row7_col14,#T_998ff52e_5fd4_11eb_b824_0242ac1c0002row12_col9{\n",
              "            font_size:  6pt;\n",
              "            background-color:  #fafafa;\n",
              "            color:  #000000;\n",
              "        }#T_998ff52e_5fd4_11eb_b824_0242ac1c0002row7_col12,#T_998ff52e_5fd4_11eb_b824_0242ac1c0002row15_col14,#T_998ff52e_5fd4_11eb_b824_0242ac1c0002row20_col19{\n",
              "            font_size:  6pt;\n",
              "            background-color:  #fbfbfb;\n",
              "            color:  #000000;\n",
              "        }#T_998ff52e_5fd4_11eb_b824_0242ac1c0002row7_col13{\n",
              "            font_size:  6pt;\n",
              "            background-color:  #fdfdfd;\n",
              "            color:  #000000;\n",
              "        }#T_998ff52e_5fd4_11eb_b824_0242ac1c0002row8_col8{\n",
              "            font_size:  6pt;\n",
              "            background-color:  #1b1b1b;\n",
              "            color:  #f1f1f1;\n",
              "        }#T_998ff52e_5fd4_11eb_b824_0242ac1c0002row8_col15{\n",
              "            font_size:  6pt;\n",
              "            background-color:  #4e4e4e;\n",
              "            color:  #f1f1f1;\n",
              "        }#T_998ff52e_5fd4_11eb_b824_0242ac1c0002row8_col18{\n",
              "            font_size:  6pt;\n",
              "            background-color:  #767676;\n",
              "            color:  #000000;\n",
              "        }#T_998ff52e_5fd4_11eb_b824_0242ac1c0002row9_col5{\n",
              "            font_size:  6pt;\n",
              "            background-color:  #fcfcfc;\n",
              "            color:  #000000;\n",
              "        }#T_998ff52e_5fd4_11eb_b824_0242ac1c0002row9_col6,#T_998ff52e_5fd4_11eb_b824_0242ac1c0002row9_col7,#T_998ff52e_5fd4_11eb_b824_0242ac1c0002row19_col20{\n",
              "            font_size:  6pt;\n",
              "            background-color:  #f6f6f6;\n",
              "            color:  #000000;\n",
              "        }#T_998ff52e_5fd4_11eb_b824_0242ac1c0002row9_col8,#T_998ff52e_5fd4_11eb_b824_0242ac1c0002row11_col11{\n",
              "            font_size:  6pt;\n",
              "            background-color:  #f8f8f8;\n",
              "            color:  #000000;\n",
              "        }#T_998ff52e_5fd4_11eb_b824_0242ac1c0002row9_col14,#T_998ff52e_5fd4_11eb_b824_0242ac1c0002row14_col11{\n",
              "            font_size:  6pt;\n",
              "            background-color:  #e8e8e8;\n",
              "            color:  #000000;\n",
              "        }#T_998ff52e_5fd4_11eb_b824_0242ac1c0002row9_col17,#T_998ff52e_5fd4_11eb_b824_0242ac1c0002row10_col16{\n",
              "            font_size:  6pt;\n",
              "            background-color:  #090909;\n",
              "            color:  #f1f1f1;\n",
              "        }#T_998ff52e_5fd4_11eb_b824_0242ac1c0002row9_col18{\n",
              "            font_size:  6pt;\n",
              "            background-color:  #d0d0d0;\n",
              "            color:  #000000;\n",
              "        }#T_998ff52e_5fd4_11eb_b824_0242ac1c0002row10_col14,#T_998ff52e_5fd4_11eb_b824_0242ac1c0002row11_col15,#T_998ff52e_5fd4_11eb_b824_0242ac1c0002row13_col10{\n",
              "            font_size:  6pt;\n",
              "            background-color:  #060606;\n",
              "            color:  #f1f1f1;\n",
              "        }#T_998ff52e_5fd4_11eb_b824_0242ac1c0002row10_col17{\n",
              "            font_size:  6pt;\n",
              "            background-color:  #979797;\n",
              "            color:  #000000;\n",
              "        }#T_998ff52e_5fd4_11eb_b824_0242ac1c0002row11_col12{\n",
              "            font_size:  6pt;\n",
              "            background-color:  #b6b6b6;\n",
              "            color:  #000000;\n",
              "        }#T_998ff52e_5fd4_11eb_b824_0242ac1c0002row11_col13{\n",
              "            font_size:  6pt;\n",
              "            background-color:  #252525;\n",
              "            color:  #f1f1f1;\n",
              "        }#T_998ff52e_5fd4_11eb_b824_0242ac1c0002row11_col16{\n",
              "            font_size:  6pt;\n",
              "            background-color:  #999999;\n",
              "            color:  #000000;\n",
              "        }#T_998ff52e_5fd4_11eb_b824_0242ac1c0002row12_col11,#T_998ff52e_5fd4_11eb_b824_0242ac1c0002row22_col12{\n",
              "            font_size:  6pt;\n",
              "            background-color:  #101010;\n",
              "            color:  #f1f1f1;\n",
              "        }#T_998ff52e_5fd4_11eb_b824_0242ac1c0002row12_col13,#T_998ff52e_5fd4_11eb_b824_0242ac1c0002row13_col13,#T_998ff52e_5fd4_11eb_b824_0242ac1c0002row21_col14,#T_998ff52e_5fd4_11eb_b824_0242ac1c0002row22_col13,#T_998ff52e_5fd4_11eb_b824_0242ac1c0002row23_col13{\n",
              "            font_size:  6pt;\n",
              "            background-color:  #020202;\n",
              "            color:  #f1f1f1;\n",
              "        }#T_998ff52e_5fd4_11eb_b824_0242ac1c0002row13_col9{\n",
              "            font_size:  6pt;\n",
              "            background-color:  #f7f7f7;\n",
              "            color:  #000000;\n",
              "        }#T_998ff52e_5fd4_11eb_b824_0242ac1c0002row13_col11,#T_998ff52e_5fd4_11eb_b824_0242ac1c0002row22_col15{\n",
              "            font_size:  6pt;\n",
              "            background-color:  #030303;\n",
              "            color:  #f1f1f1;\n",
              "        }#T_998ff52e_5fd4_11eb_b824_0242ac1c0002row13_col16{\n",
              "            font_size:  6pt;\n",
              "            background-color:  #181818;\n",
              "            color:  #f1f1f1;\n",
              "        }#T_998ff52e_5fd4_11eb_b824_0242ac1c0002row13_col17{\n",
              "            font_size:  6pt;\n",
              "            background-color:  #303030;\n",
              "            color:  #f1f1f1;\n",
              "        }#T_998ff52e_5fd4_11eb_b824_0242ac1c0002row13_col18{\n",
              "            font_size:  6pt;\n",
              "            background-color:  #a9a9a9;\n",
              "            color:  #000000;\n",
              "        }#T_998ff52e_5fd4_11eb_b824_0242ac1c0002row13_col19{\n",
              "            font_size:  6pt;\n",
              "            background-color:  #fefefe;\n",
              "            color:  #000000;\n",
              "        }#T_998ff52e_5fd4_11eb_b824_0242ac1c0002row14_col12,#T_998ff52e_5fd4_11eb_b824_0242ac1c0002row14_col13,#T_998ff52e_5fd4_11eb_b824_0242ac1c0002row20_col14{\n",
              "            font_size:  6pt;\n",
              "            background-color:  #bababa;\n",
              "            color:  #000000;\n",
              "        }#T_998ff52e_5fd4_11eb_b824_0242ac1c0002row14_col14{\n",
              "            font_size:  6pt;\n",
              "            background-color:  #393939;\n",
              "            color:  #f1f1f1;\n",
              "        }#T_998ff52e_5fd4_11eb_b824_0242ac1c0002row14_col20{\n",
              "            font_size:  6pt;\n",
              "            background-color:  #eaeaea;\n",
              "            color:  #000000;\n",
              "        }#T_998ff52e_5fd4_11eb_b824_0242ac1c0002row15_col15{\n",
              "            font_size:  6pt;\n",
              "            background-color:  #e2e2e2;\n",
              "            color:  #000000;\n",
              "        }#T_998ff52e_5fd4_11eb_b824_0242ac1c0002row15_col16{\n",
              "            font_size:  6pt;\n",
              "            background-color:  #9f9f9f;\n",
              "            color:  #000000;\n",
              "        }#T_998ff52e_5fd4_11eb_b824_0242ac1c0002row15_col20{\n",
              "            font_size:  6pt;\n",
              "            background-color:  #898989;\n",
              "            color:  #000000;\n",
              "        }#T_998ff52e_5fd4_11eb_b824_0242ac1c0002row16_col17{\n",
              "            font_size:  6pt;\n",
              "            background-color:  #585858;\n",
              "            color:  #f1f1f1;\n",
              "        }#T_998ff52e_5fd4_11eb_b824_0242ac1c0002row17_col17{\n",
              "            font_size:  6pt;\n",
              "            background-color:  #5a5a5a;\n",
              "            color:  #f1f1f1;\n",
              "        }#T_998ff52e_5fd4_11eb_b824_0242ac1c0002row17_col20{\n",
              "            font_size:  6pt;\n",
              "            background-color:  #525252;\n",
              "            color:  #f1f1f1;\n",
              "        }#T_998ff52e_5fd4_11eb_b824_0242ac1c0002row18_col16,#T_998ff52e_5fd4_11eb_b824_0242ac1c0002row23_col15{\n",
              "            font_size:  6pt;\n",
              "            background-color:  #c5c5c5;\n",
              "            color:  #000000;\n",
              "        }#T_998ff52e_5fd4_11eb_b824_0242ac1c0002row18_col20{\n",
              "            font_size:  6pt;\n",
              "            background-color:  #d7d7d7;\n",
              "            color:  #000000;\n",
              "        }#T_998ff52e_5fd4_11eb_b824_0242ac1c0002row19_col15,#T_998ff52e_5fd4_11eb_b824_0242ac1c0002row22_col9{\n",
              "            font_size:  6pt;\n",
              "            background-color:  #dcdcdc;\n",
              "            color:  #000000;\n",
              "        }#T_998ff52e_5fd4_11eb_b824_0242ac1c0002row19_col16{\n",
              "            font_size:  6pt;\n",
              "            background-color:  #2f2f2f;\n",
              "            color:  #f1f1f1;\n",
              "        }#T_998ff52e_5fd4_11eb_b824_0242ac1c0002row19_col19{\n",
              "            font_size:  6pt;\n",
              "            background-color:  #636363;\n",
              "            color:  #f1f1f1;\n",
              "        }#T_998ff52e_5fd4_11eb_b824_0242ac1c0002row20_col15{\n",
              "            font_size:  6pt;\n",
              "            background-color:  #070707;\n",
              "            color:  #f1f1f1;\n",
              "        }#T_998ff52e_5fd4_11eb_b824_0242ac1c0002row20_col18{\n",
              "            font_size:  6pt;\n",
              "            background-color:  #1f1f1f;\n",
              "            color:  #f1f1f1;\n",
              "        }#T_998ff52e_5fd4_11eb_b824_0242ac1c0002row21_col12,#T_998ff52e_5fd4_11eb_b824_0242ac1c0002row22_col6,#T_998ff52e_5fd4_11eb_b824_0242ac1c0002row22_col8{\n",
              "            font_size:  6pt;\n",
              "            background-color:  #e9e9e9;\n",
              "            color:  #000000;\n",
              "        }#T_998ff52e_5fd4_11eb_b824_0242ac1c0002row21_col13{\n",
              "            font_size:  6pt;\n",
              "            background-color:  #7d7d7d;\n",
              "            color:  #000000;\n",
              "        }#T_998ff52e_5fd4_11eb_b824_0242ac1c0002row21_col18{\n",
              "            font_size:  6pt;\n",
              "            background-color:  #e1e1e1;\n",
              "            color:  #000000;\n",
              "        }#T_998ff52e_5fd4_11eb_b824_0242ac1c0002row22_col7,#T_998ff52e_5fd4_11eb_b824_0242ac1c0002row22_col10{\n",
              "            font_size:  6pt;\n",
              "            background-color:  #a4a4a4;\n",
              "            color:  #000000;\n",
              "        }#T_998ff52e_5fd4_11eb_b824_0242ac1c0002row22_col11{\n",
              "            font_size:  6pt;\n",
              "            background-color:  #727272;\n",
              "            color:  #000000;\n",
              "        }#T_998ff52e_5fd4_11eb_b824_0242ac1c0002row22_col16{\n",
              "            font_size:  6pt;\n",
              "            background-color:  #616161;\n",
              "            color:  #f1f1f1;\n",
              "        }#T_998ff52e_5fd4_11eb_b824_0242ac1c0002row22_col17{\n",
              "            font_size:  6pt;\n",
              "            background-color:  #f3f3f3;\n",
              "            color:  #000000;\n",
              "        }#T_998ff52e_5fd4_11eb_b824_0242ac1c0002row23_col14{\n",
              "            font_size:  6pt;\n",
              "            background-color:  #484848;\n",
              "            color:  #f1f1f1;\n",
              "        }#T_998ff52e_5fd4_11eb_b824_0242ac1c0002row24_col6{\n",
              "            font_size:  6pt;\n",
              "            background-color:  #b3b3b3;\n",
              "            color:  #000000;\n",
              "        }#T_998ff52e_5fd4_11eb_b824_0242ac1c0002row24_col12{\n",
              "            font_size:  6pt;\n",
              "            background-color:  #1a1a1a;\n",
              "            color:  #f1f1f1;\n",
              "        }#T_998ff52e_5fd4_11eb_b824_0242ac1c0002row24_col13{\n",
              "            font_size:  6pt;\n",
              "            background-color:  #d6d6d6;\n",
              "            color:  #000000;\n",
              "        }</style><table id=\"T_998ff52e_5fd4_11eb_b824_0242ac1c0002\" ><thead>    <tr>        <th class=\"blank level0\" ></th>        <th class=\"col_heading level0 col0\" >0</th>        <th class=\"col_heading level0 col1\" >1</th>        <th class=\"col_heading level0 col2\" >2</th>        <th class=\"col_heading level0 col3\" >3</th>        <th class=\"col_heading level0 col4\" >4</th>        <th class=\"col_heading level0 col5\" >5</th>        <th class=\"col_heading level0 col6\" >6</th>        <th class=\"col_heading level0 col7\" >7</th>        <th class=\"col_heading level0 col8\" >8</th>        <th class=\"col_heading level0 col9\" >9</th>        <th class=\"col_heading level0 col10\" >10</th>        <th class=\"col_heading level0 col11\" >11</th>        <th class=\"col_heading level0 col12\" >12</th>        <th class=\"col_heading level0 col13\" >13</th>        <th class=\"col_heading level0 col14\" >14</th>        <th class=\"col_heading level0 col15\" >15</th>        <th class=\"col_heading level0 col16\" >16</th>        <th class=\"col_heading level0 col17\" >17</th>        <th class=\"col_heading level0 col18\" >18</th>        <th class=\"col_heading level0 col19\" >19</th>        <th class=\"col_heading level0 col20\" >20</th>        <th class=\"col_heading level0 col21\" >21</th>        <th class=\"col_heading level0 col22\" >22</th>        <th class=\"col_heading level0 col23\" >23</th>        <th class=\"col_heading level0 col24\" >24</th>        <th class=\"col_heading level0 col25\" >25</th>        <th class=\"col_heading level0 col26\" >26</th>        <th class=\"col_heading level0 col27\" >27</th>    </tr></thead><tbody>\n",
              "                <tr>\n",
              "                        <th id=\"T_998ff52e_5fd4_11eb_b824_0242ac1c0002level0_row0\" class=\"row_heading level0 row0\" >0</th>\n",
              "                        <td id=\"T_998ff52e_5fd4_11eb_b824_0242ac1c0002row0_col0\" class=\"data row0 col0\" >0</td>\n",
              "                        <td id=\"T_998ff52e_5fd4_11eb_b824_0242ac1c0002row0_col1\" class=\"data row0 col1\" >0</td>\n",
              "                        <td id=\"T_998ff52e_5fd4_11eb_b824_0242ac1c0002row0_col2\" class=\"data row0 col2\" >0</td>\n",
              "                        <td id=\"T_998ff52e_5fd4_11eb_b824_0242ac1c0002row0_col3\" class=\"data row0 col3\" >0</td>\n",
              "                        <td id=\"T_998ff52e_5fd4_11eb_b824_0242ac1c0002row0_col4\" class=\"data row0 col4\" >0</td>\n",
              "                        <td id=\"T_998ff52e_5fd4_11eb_b824_0242ac1c0002row0_col5\" class=\"data row0 col5\" >0</td>\n",
              "                        <td id=\"T_998ff52e_5fd4_11eb_b824_0242ac1c0002row0_col6\" class=\"data row0 col6\" >0</td>\n",
              "                        <td id=\"T_998ff52e_5fd4_11eb_b824_0242ac1c0002row0_col7\" class=\"data row0 col7\" >0</td>\n",
              "                        <td id=\"T_998ff52e_5fd4_11eb_b824_0242ac1c0002row0_col8\" class=\"data row0 col8\" >0</td>\n",
              "                        <td id=\"T_998ff52e_5fd4_11eb_b824_0242ac1c0002row0_col9\" class=\"data row0 col9\" >0</td>\n",
              "                        <td id=\"T_998ff52e_5fd4_11eb_b824_0242ac1c0002row0_col10\" class=\"data row0 col10\" >0</td>\n",
              "                        <td id=\"T_998ff52e_5fd4_11eb_b824_0242ac1c0002row0_col11\" class=\"data row0 col11\" >0</td>\n",
              "                        <td id=\"T_998ff52e_5fd4_11eb_b824_0242ac1c0002row0_col12\" class=\"data row0 col12\" >0</td>\n",
              "                        <td id=\"T_998ff52e_5fd4_11eb_b824_0242ac1c0002row0_col13\" class=\"data row0 col13\" >0</td>\n",
              "                        <td id=\"T_998ff52e_5fd4_11eb_b824_0242ac1c0002row0_col14\" class=\"data row0 col14\" >0</td>\n",
              "                        <td id=\"T_998ff52e_5fd4_11eb_b824_0242ac1c0002row0_col15\" class=\"data row0 col15\" >0</td>\n",
              "                        <td id=\"T_998ff52e_5fd4_11eb_b824_0242ac1c0002row0_col16\" class=\"data row0 col16\" >0</td>\n",
              "                        <td id=\"T_998ff52e_5fd4_11eb_b824_0242ac1c0002row0_col17\" class=\"data row0 col17\" >0</td>\n",
              "                        <td id=\"T_998ff52e_5fd4_11eb_b824_0242ac1c0002row0_col18\" class=\"data row0 col18\" >0</td>\n",
              "                        <td id=\"T_998ff52e_5fd4_11eb_b824_0242ac1c0002row0_col19\" class=\"data row0 col19\" >0</td>\n",
              "                        <td id=\"T_998ff52e_5fd4_11eb_b824_0242ac1c0002row0_col20\" class=\"data row0 col20\" >0</td>\n",
              "                        <td id=\"T_998ff52e_5fd4_11eb_b824_0242ac1c0002row0_col21\" class=\"data row0 col21\" >0</td>\n",
              "                        <td id=\"T_998ff52e_5fd4_11eb_b824_0242ac1c0002row0_col22\" class=\"data row0 col22\" >0</td>\n",
              "                        <td id=\"T_998ff52e_5fd4_11eb_b824_0242ac1c0002row0_col23\" class=\"data row0 col23\" >0</td>\n",
              "                        <td id=\"T_998ff52e_5fd4_11eb_b824_0242ac1c0002row0_col24\" class=\"data row0 col24\" >0</td>\n",
              "                        <td id=\"T_998ff52e_5fd4_11eb_b824_0242ac1c0002row0_col25\" class=\"data row0 col25\" >0</td>\n",
              "                        <td id=\"T_998ff52e_5fd4_11eb_b824_0242ac1c0002row0_col26\" class=\"data row0 col26\" >0</td>\n",
              "                        <td id=\"T_998ff52e_5fd4_11eb_b824_0242ac1c0002row0_col27\" class=\"data row0 col27\" >0</td>\n",
              "            </tr>\n",
              "            <tr>\n",
              "                        <th id=\"T_998ff52e_5fd4_11eb_b824_0242ac1c0002level0_row1\" class=\"row_heading level0 row1\" >1</th>\n",
              "                        <td id=\"T_998ff52e_5fd4_11eb_b824_0242ac1c0002row1_col0\" class=\"data row1 col0\" >0</td>\n",
              "                        <td id=\"T_998ff52e_5fd4_11eb_b824_0242ac1c0002row1_col1\" class=\"data row1 col1\" >0</td>\n",
              "                        <td id=\"T_998ff52e_5fd4_11eb_b824_0242ac1c0002row1_col2\" class=\"data row1 col2\" >0</td>\n",
              "                        <td id=\"T_998ff52e_5fd4_11eb_b824_0242ac1c0002row1_col3\" class=\"data row1 col3\" >0</td>\n",
              "                        <td id=\"T_998ff52e_5fd4_11eb_b824_0242ac1c0002row1_col4\" class=\"data row1 col4\" >0</td>\n",
              "                        <td id=\"T_998ff52e_5fd4_11eb_b824_0242ac1c0002row1_col5\" class=\"data row1 col5\" >0</td>\n",
              "                        <td id=\"T_998ff52e_5fd4_11eb_b824_0242ac1c0002row1_col6\" class=\"data row1 col6\" >0</td>\n",
              "                        <td id=\"T_998ff52e_5fd4_11eb_b824_0242ac1c0002row1_col7\" class=\"data row1 col7\" >0</td>\n",
              "                        <td id=\"T_998ff52e_5fd4_11eb_b824_0242ac1c0002row1_col8\" class=\"data row1 col8\" >0</td>\n",
              "                        <td id=\"T_998ff52e_5fd4_11eb_b824_0242ac1c0002row1_col9\" class=\"data row1 col9\" >0</td>\n",
              "                        <td id=\"T_998ff52e_5fd4_11eb_b824_0242ac1c0002row1_col10\" class=\"data row1 col10\" >0</td>\n",
              "                        <td id=\"T_998ff52e_5fd4_11eb_b824_0242ac1c0002row1_col11\" class=\"data row1 col11\" >0</td>\n",
              "                        <td id=\"T_998ff52e_5fd4_11eb_b824_0242ac1c0002row1_col12\" class=\"data row1 col12\" >0</td>\n",
              "                        <td id=\"T_998ff52e_5fd4_11eb_b824_0242ac1c0002row1_col13\" class=\"data row1 col13\" >0</td>\n",
              "                        <td id=\"T_998ff52e_5fd4_11eb_b824_0242ac1c0002row1_col14\" class=\"data row1 col14\" >0</td>\n",
              "                        <td id=\"T_998ff52e_5fd4_11eb_b824_0242ac1c0002row1_col15\" class=\"data row1 col15\" >0</td>\n",
              "                        <td id=\"T_998ff52e_5fd4_11eb_b824_0242ac1c0002row1_col16\" class=\"data row1 col16\" >0</td>\n",
              "                        <td id=\"T_998ff52e_5fd4_11eb_b824_0242ac1c0002row1_col17\" class=\"data row1 col17\" >0</td>\n",
              "                        <td id=\"T_998ff52e_5fd4_11eb_b824_0242ac1c0002row1_col18\" class=\"data row1 col18\" >0</td>\n",
              "                        <td id=\"T_998ff52e_5fd4_11eb_b824_0242ac1c0002row1_col19\" class=\"data row1 col19\" >0</td>\n",
              "                        <td id=\"T_998ff52e_5fd4_11eb_b824_0242ac1c0002row1_col20\" class=\"data row1 col20\" >0</td>\n",
              "                        <td id=\"T_998ff52e_5fd4_11eb_b824_0242ac1c0002row1_col21\" class=\"data row1 col21\" >0</td>\n",
              "                        <td id=\"T_998ff52e_5fd4_11eb_b824_0242ac1c0002row1_col22\" class=\"data row1 col22\" >0</td>\n",
              "                        <td id=\"T_998ff52e_5fd4_11eb_b824_0242ac1c0002row1_col23\" class=\"data row1 col23\" >0</td>\n",
              "                        <td id=\"T_998ff52e_5fd4_11eb_b824_0242ac1c0002row1_col24\" class=\"data row1 col24\" >0</td>\n",
              "                        <td id=\"T_998ff52e_5fd4_11eb_b824_0242ac1c0002row1_col25\" class=\"data row1 col25\" >0</td>\n",
              "                        <td id=\"T_998ff52e_5fd4_11eb_b824_0242ac1c0002row1_col26\" class=\"data row1 col26\" >0</td>\n",
              "                        <td id=\"T_998ff52e_5fd4_11eb_b824_0242ac1c0002row1_col27\" class=\"data row1 col27\" >0</td>\n",
              "            </tr>\n",
              "            <tr>\n",
              "                        <th id=\"T_998ff52e_5fd4_11eb_b824_0242ac1c0002level0_row2\" class=\"row_heading level0 row2\" >2</th>\n",
              "                        <td id=\"T_998ff52e_5fd4_11eb_b824_0242ac1c0002row2_col0\" class=\"data row2 col0\" >0</td>\n",
              "                        <td id=\"T_998ff52e_5fd4_11eb_b824_0242ac1c0002row2_col1\" class=\"data row2 col1\" >0</td>\n",
              "                        <td id=\"T_998ff52e_5fd4_11eb_b824_0242ac1c0002row2_col2\" class=\"data row2 col2\" >0</td>\n",
              "                        <td id=\"T_998ff52e_5fd4_11eb_b824_0242ac1c0002row2_col3\" class=\"data row2 col3\" >0</td>\n",
              "                        <td id=\"T_998ff52e_5fd4_11eb_b824_0242ac1c0002row2_col4\" class=\"data row2 col4\" >0</td>\n",
              "                        <td id=\"T_998ff52e_5fd4_11eb_b824_0242ac1c0002row2_col5\" class=\"data row2 col5\" >0</td>\n",
              "                        <td id=\"T_998ff52e_5fd4_11eb_b824_0242ac1c0002row2_col6\" class=\"data row2 col6\" >0</td>\n",
              "                        <td id=\"T_998ff52e_5fd4_11eb_b824_0242ac1c0002row2_col7\" class=\"data row2 col7\" >0</td>\n",
              "                        <td id=\"T_998ff52e_5fd4_11eb_b824_0242ac1c0002row2_col8\" class=\"data row2 col8\" >0</td>\n",
              "                        <td id=\"T_998ff52e_5fd4_11eb_b824_0242ac1c0002row2_col9\" class=\"data row2 col9\" >0</td>\n",
              "                        <td id=\"T_998ff52e_5fd4_11eb_b824_0242ac1c0002row2_col10\" class=\"data row2 col10\" >0</td>\n",
              "                        <td id=\"T_998ff52e_5fd4_11eb_b824_0242ac1c0002row2_col11\" class=\"data row2 col11\" >0</td>\n",
              "                        <td id=\"T_998ff52e_5fd4_11eb_b824_0242ac1c0002row2_col12\" class=\"data row2 col12\" >0</td>\n",
              "                        <td id=\"T_998ff52e_5fd4_11eb_b824_0242ac1c0002row2_col13\" class=\"data row2 col13\" >0</td>\n",
              "                        <td id=\"T_998ff52e_5fd4_11eb_b824_0242ac1c0002row2_col14\" class=\"data row2 col14\" >0</td>\n",
              "                        <td id=\"T_998ff52e_5fd4_11eb_b824_0242ac1c0002row2_col15\" class=\"data row2 col15\" >0</td>\n",
              "                        <td id=\"T_998ff52e_5fd4_11eb_b824_0242ac1c0002row2_col16\" class=\"data row2 col16\" >0</td>\n",
              "                        <td id=\"T_998ff52e_5fd4_11eb_b824_0242ac1c0002row2_col17\" class=\"data row2 col17\" >0</td>\n",
              "                        <td id=\"T_998ff52e_5fd4_11eb_b824_0242ac1c0002row2_col18\" class=\"data row2 col18\" >0</td>\n",
              "                        <td id=\"T_998ff52e_5fd4_11eb_b824_0242ac1c0002row2_col19\" class=\"data row2 col19\" >0</td>\n",
              "                        <td id=\"T_998ff52e_5fd4_11eb_b824_0242ac1c0002row2_col20\" class=\"data row2 col20\" >0</td>\n",
              "                        <td id=\"T_998ff52e_5fd4_11eb_b824_0242ac1c0002row2_col21\" class=\"data row2 col21\" >0</td>\n",
              "                        <td id=\"T_998ff52e_5fd4_11eb_b824_0242ac1c0002row2_col22\" class=\"data row2 col22\" >0</td>\n",
              "                        <td id=\"T_998ff52e_5fd4_11eb_b824_0242ac1c0002row2_col23\" class=\"data row2 col23\" >0</td>\n",
              "                        <td id=\"T_998ff52e_5fd4_11eb_b824_0242ac1c0002row2_col24\" class=\"data row2 col24\" >0</td>\n",
              "                        <td id=\"T_998ff52e_5fd4_11eb_b824_0242ac1c0002row2_col25\" class=\"data row2 col25\" >0</td>\n",
              "                        <td id=\"T_998ff52e_5fd4_11eb_b824_0242ac1c0002row2_col26\" class=\"data row2 col26\" >0</td>\n",
              "                        <td id=\"T_998ff52e_5fd4_11eb_b824_0242ac1c0002row2_col27\" class=\"data row2 col27\" >0</td>\n",
              "            </tr>\n",
              "            <tr>\n",
              "                        <th id=\"T_998ff52e_5fd4_11eb_b824_0242ac1c0002level0_row3\" class=\"row_heading level0 row3\" >3</th>\n",
              "                        <td id=\"T_998ff52e_5fd4_11eb_b824_0242ac1c0002row3_col0\" class=\"data row3 col0\" >0</td>\n",
              "                        <td id=\"T_998ff52e_5fd4_11eb_b824_0242ac1c0002row3_col1\" class=\"data row3 col1\" >0</td>\n",
              "                        <td id=\"T_998ff52e_5fd4_11eb_b824_0242ac1c0002row3_col2\" class=\"data row3 col2\" >0</td>\n",
              "                        <td id=\"T_998ff52e_5fd4_11eb_b824_0242ac1c0002row3_col3\" class=\"data row3 col3\" >0</td>\n",
              "                        <td id=\"T_998ff52e_5fd4_11eb_b824_0242ac1c0002row3_col4\" class=\"data row3 col4\" >0</td>\n",
              "                        <td id=\"T_998ff52e_5fd4_11eb_b824_0242ac1c0002row3_col5\" class=\"data row3 col5\" >0</td>\n",
              "                        <td id=\"T_998ff52e_5fd4_11eb_b824_0242ac1c0002row3_col6\" class=\"data row3 col6\" >0</td>\n",
              "                        <td id=\"T_998ff52e_5fd4_11eb_b824_0242ac1c0002row3_col7\" class=\"data row3 col7\" >0</td>\n",
              "                        <td id=\"T_998ff52e_5fd4_11eb_b824_0242ac1c0002row3_col8\" class=\"data row3 col8\" >0</td>\n",
              "                        <td id=\"T_998ff52e_5fd4_11eb_b824_0242ac1c0002row3_col9\" class=\"data row3 col9\" >0</td>\n",
              "                        <td id=\"T_998ff52e_5fd4_11eb_b824_0242ac1c0002row3_col10\" class=\"data row3 col10\" >0</td>\n",
              "                        <td id=\"T_998ff52e_5fd4_11eb_b824_0242ac1c0002row3_col11\" class=\"data row3 col11\" >0</td>\n",
              "                        <td id=\"T_998ff52e_5fd4_11eb_b824_0242ac1c0002row3_col12\" class=\"data row3 col12\" >0</td>\n",
              "                        <td id=\"T_998ff52e_5fd4_11eb_b824_0242ac1c0002row3_col13\" class=\"data row3 col13\" >0</td>\n",
              "                        <td id=\"T_998ff52e_5fd4_11eb_b824_0242ac1c0002row3_col14\" class=\"data row3 col14\" >0</td>\n",
              "                        <td id=\"T_998ff52e_5fd4_11eb_b824_0242ac1c0002row3_col15\" class=\"data row3 col15\" >0</td>\n",
              "                        <td id=\"T_998ff52e_5fd4_11eb_b824_0242ac1c0002row3_col16\" class=\"data row3 col16\" >0</td>\n",
              "                        <td id=\"T_998ff52e_5fd4_11eb_b824_0242ac1c0002row3_col17\" class=\"data row3 col17\" >0</td>\n",
              "                        <td id=\"T_998ff52e_5fd4_11eb_b824_0242ac1c0002row3_col18\" class=\"data row3 col18\" >0</td>\n",
              "                        <td id=\"T_998ff52e_5fd4_11eb_b824_0242ac1c0002row3_col19\" class=\"data row3 col19\" >0</td>\n",
              "                        <td id=\"T_998ff52e_5fd4_11eb_b824_0242ac1c0002row3_col20\" class=\"data row3 col20\" >0</td>\n",
              "                        <td id=\"T_998ff52e_5fd4_11eb_b824_0242ac1c0002row3_col21\" class=\"data row3 col21\" >0</td>\n",
              "                        <td id=\"T_998ff52e_5fd4_11eb_b824_0242ac1c0002row3_col22\" class=\"data row3 col22\" >0</td>\n",
              "                        <td id=\"T_998ff52e_5fd4_11eb_b824_0242ac1c0002row3_col23\" class=\"data row3 col23\" >0</td>\n",
              "                        <td id=\"T_998ff52e_5fd4_11eb_b824_0242ac1c0002row3_col24\" class=\"data row3 col24\" >0</td>\n",
              "                        <td id=\"T_998ff52e_5fd4_11eb_b824_0242ac1c0002row3_col25\" class=\"data row3 col25\" >0</td>\n",
              "                        <td id=\"T_998ff52e_5fd4_11eb_b824_0242ac1c0002row3_col26\" class=\"data row3 col26\" >0</td>\n",
              "                        <td id=\"T_998ff52e_5fd4_11eb_b824_0242ac1c0002row3_col27\" class=\"data row3 col27\" >0</td>\n",
              "            </tr>\n",
              "            <tr>\n",
              "                        <th id=\"T_998ff52e_5fd4_11eb_b824_0242ac1c0002level0_row4\" class=\"row_heading level0 row4\" >4</th>\n",
              "                        <td id=\"T_998ff52e_5fd4_11eb_b824_0242ac1c0002row4_col0\" class=\"data row4 col0\" >0</td>\n",
              "                        <td id=\"T_998ff52e_5fd4_11eb_b824_0242ac1c0002row4_col1\" class=\"data row4 col1\" >0</td>\n",
              "                        <td id=\"T_998ff52e_5fd4_11eb_b824_0242ac1c0002row4_col2\" class=\"data row4 col2\" >0</td>\n",
              "                        <td id=\"T_998ff52e_5fd4_11eb_b824_0242ac1c0002row4_col3\" class=\"data row4 col3\" >0</td>\n",
              "                        <td id=\"T_998ff52e_5fd4_11eb_b824_0242ac1c0002row4_col4\" class=\"data row4 col4\" >0</td>\n",
              "                        <td id=\"T_998ff52e_5fd4_11eb_b824_0242ac1c0002row4_col5\" class=\"data row4 col5\" >0</td>\n",
              "                        <td id=\"T_998ff52e_5fd4_11eb_b824_0242ac1c0002row4_col6\" class=\"data row4 col6\" >0</td>\n",
              "                        <td id=\"T_998ff52e_5fd4_11eb_b824_0242ac1c0002row4_col7\" class=\"data row4 col7\" >0</td>\n",
              "                        <td id=\"T_998ff52e_5fd4_11eb_b824_0242ac1c0002row4_col8\" class=\"data row4 col8\" >0</td>\n",
              "                        <td id=\"T_998ff52e_5fd4_11eb_b824_0242ac1c0002row4_col9\" class=\"data row4 col9\" >0</td>\n",
              "                        <td id=\"T_998ff52e_5fd4_11eb_b824_0242ac1c0002row4_col10\" class=\"data row4 col10\" >0</td>\n",
              "                        <td id=\"T_998ff52e_5fd4_11eb_b824_0242ac1c0002row4_col11\" class=\"data row4 col11\" >0</td>\n",
              "                        <td id=\"T_998ff52e_5fd4_11eb_b824_0242ac1c0002row4_col12\" class=\"data row4 col12\" >0</td>\n",
              "                        <td id=\"T_998ff52e_5fd4_11eb_b824_0242ac1c0002row4_col13\" class=\"data row4 col13\" >0</td>\n",
              "                        <td id=\"T_998ff52e_5fd4_11eb_b824_0242ac1c0002row4_col14\" class=\"data row4 col14\" >0</td>\n",
              "                        <td id=\"T_998ff52e_5fd4_11eb_b824_0242ac1c0002row4_col15\" class=\"data row4 col15\" >0</td>\n",
              "                        <td id=\"T_998ff52e_5fd4_11eb_b824_0242ac1c0002row4_col16\" class=\"data row4 col16\" >0</td>\n",
              "                        <td id=\"T_998ff52e_5fd4_11eb_b824_0242ac1c0002row4_col17\" class=\"data row4 col17\" >0</td>\n",
              "                        <td id=\"T_998ff52e_5fd4_11eb_b824_0242ac1c0002row4_col18\" class=\"data row4 col18\" >0</td>\n",
              "                        <td id=\"T_998ff52e_5fd4_11eb_b824_0242ac1c0002row4_col19\" class=\"data row4 col19\" >0</td>\n",
              "                        <td id=\"T_998ff52e_5fd4_11eb_b824_0242ac1c0002row4_col20\" class=\"data row4 col20\" >0</td>\n",
              "                        <td id=\"T_998ff52e_5fd4_11eb_b824_0242ac1c0002row4_col21\" class=\"data row4 col21\" >0</td>\n",
              "                        <td id=\"T_998ff52e_5fd4_11eb_b824_0242ac1c0002row4_col22\" class=\"data row4 col22\" >0</td>\n",
              "                        <td id=\"T_998ff52e_5fd4_11eb_b824_0242ac1c0002row4_col23\" class=\"data row4 col23\" >0</td>\n",
              "                        <td id=\"T_998ff52e_5fd4_11eb_b824_0242ac1c0002row4_col24\" class=\"data row4 col24\" >0</td>\n",
              "                        <td id=\"T_998ff52e_5fd4_11eb_b824_0242ac1c0002row4_col25\" class=\"data row4 col25\" >0</td>\n",
              "                        <td id=\"T_998ff52e_5fd4_11eb_b824_0242ac1c0002row4_col26\" class=\"data row4 col26\" >0</td>\n",
              "                        <td id=\"T_998ff52e_5fd4_11eb_b824_0242ac1c0002row4_col27\" class=\"data row4 col27\" >0</td>\n",
              "            </tr>\n",
              "            <tr>\n",
              "                        <th id=\"T_998ff52e_5fd4_11eb_b824_0242ac1c0002level0_row5\" class=\"row_heading level0 row5\" >5</th>\n",
              "                        <td id=\"T_998ff52e_5fd4_11eb_b824_0242ac1c0002row5_col0\" class=\"data row5 col0\" >0</td>\n",
              "                        <td id=\"T_998ff52e_5fd4_11eb_b824_0242ac1c0002row5_col1\" class=\"data row5 col1\" >0</td>\n",
              "                        <td id=\"T_998ff52e_5fd4_11eb_b824_0242ac1c0002row5_col2\" class=\"data row5 col2\" >0</td>\n",
              "                        <td id=\"T_998ff52e_5fd4_11eb_b824_0242ac1c0002row5_col3\" class=\"data row5 col3\" >0</td>\n",
              "                        <td id=\"T_998ff52e_5fd4_11eb_b824_0242ac1c0002row5_col4\" class=\"data row5 col4\" >0</td>\n",
              "                        <td id=\"T_998ff52e_5fd4_11eb_b824_0242ac1c0002row5_col5\" class=\"data row5 col5\" >0</td>\n",
              "                        <td id=\"T_998ff52e_5fd4_11eb_b824_0242ac1c0002row5_col6\" class=\"data row5 col6\" >0</td>\n",
              "                        <td id=\"T_998ff52e_5fd4_11eb_b824_0242ac1c0002row5_col7\" class=\"data row5 col7\" >0</td>\n",
              "                        <td id=\"T_998ff52e_5fd4_11eb_b824_0242ac1c0002row5_col8\" class=\"data row5 col8\" >0</td>\n",
              "                        <td id=\"T_998ff52e_5fd4_11eb_b824_0242ac1c0002row5_col9\" class=\"data row5 col9\" >29</td>\n",
              "                        <td id=\"T_998ff52e_5fd4_11eb_b824_0242ac1c0002row5_col10\" class=\"data row5 col10\" >150</td>\n",
              "                        <td id=\"T_998ff52e_5fd4_11eb_b824_0242ac1c0002row5_col11\" class=\"data row5 col11\" >195</td>\n",
              "                        <td id=\"T_998ff52e_5fd4_11eb_b824_0242ac1c0002row5_col12\" class=\"data row5 col12\" >254</td>\n",
              "                        <td id=\"T_998ff52e_5fd4_11eb_b824_0242ac1c0002row5_col13\" class=\"data row5 col13\" >255</td>\n",
              "                        <td id=\"T_998ff52e_5fd4_11eb_b824_0242ac1c0002row5_col14\" class=\"data row5 col14\" >254</td>\n",
              "                        <td id=\"T_998ff52e_5fd4_11eb_b824_0242ac1c0002row5_col15\" class=\"data row5 col15\" >176</td>\n",
              "                        <td id=\"T_998ff52e_5fd4_11eb_b824_0242ac1c0002row5_col16\" class=\"data row5 col16\" >193</td>\n",
              "                        <td id=\"T_998ff52e_5fd4_11eb_b824_0242ac1c0002row5_col17\" class=\"data row5 col17\" >150</td>\n",
              "                        <td id=\"T_998ff52e_5fd4_11eb_b824_0242ac1c0002row5_col18\" class=\"data row5 col18\" >96</td>\n",
              "                        <td id=\"T_998ff52e_5fd4_11eb_b824_0242ac1c0002row5_col19\" class=\"data row5 col19\" >0</td>\n",
              "                        <td id=\"T_998ff52e_5fd4_11eb_b824_0242ac1c0002row5_col20\" class=\"data row5 col20\" >0</td>\n",
              "                        <td id=\"T_998ff52e_5fd4_11eb_b824_0242ac1c0002row5_col21\" class=\"data row5 col21\" >0</td>\n",
              "                        <td id=\"T_998ff52e_5fd4_11eb_b824_0242ac1c0002row5_col22\" class=\"data row5 col22\" >0</td>\n",
              "                        <td id=\"T_998ff52e_5fd4_11eb_b824_0242ac1c0002row5_col23\" class=\"data row5 col23\" >0</td>\n",
              "                        <td id=\"T_998ff52e_5fd4_11eb_b824_0242ac1c0002row5_col24\" class=\"data row5 col24\" >0</td>\n",
              "                        <td id=\"T_998ff52e_5fd4_11eb_b824_0242ac1c0002row5_col25\" class=\"data row5 col25\" >0</td>\n",
              "                        <td id=\"T_998ff52e_5fd4_11eb_b824_0242ac1c0002row5_col26\" class=\"data row5 col26\" >0</td>\n",
              "                        <td id=\"T_998ff52e_5fd4_11eb_b824_0242ac1c0002row5_col27\" class=\"data row5 col27\" >0</td>\n",
              "            </tr>\n",
              "            <tr>\n",
              "                        <th id=\"T_998ff52e_5fd4_11eb_b824_0242ac1c0002level0_row6\" class=\"row_heading level0 row6\" >6</th>\n",
              "                        <td id=\"T_998ff52e_5fd4_11eb_b824_0242ac1c0002row6_col0\" class=\"data row6 col0\" >0</td>\n",
              "                        <td id=\"T_998ff52e_5fd4_11eb_b824_0242ac1c0002row6_col1\" class=\"data row6 col1\" >0</td>\n",
              "                        <td id=\"T_998ff52e_5fd4_11eb_b824_0242ac1c0002row6_col2\" class=\"data row6 col2\" >0</td>\n",
              "                        <td id=\"T_998ff52e_5fd4_11eb_b824_0242ac1c0002row6_col3\" class=\"data row6 col3\" >0</td>\n",
              "                        <td id=\"T_998ff52e_5fd4_11eb_b824_0242ac1c0002row6_col4\" class=\"data row6 col4\" >0</td>\n",
              "                        <td id=\"T_998ff52e_5fd4_11eb_b824_0242ac1c0002row6_col5\" class=\"data row6 col5\" >0</td>\n",
              "                        <td id=\"T_998ff52e_5fd4_11eb_b824_0242ac1c0002row6_col6\" class=\"data row6 col6\" >0</td>\n",
              "                        <td id=\"T_998ff52e_5fd4_11eb_b824_0242ac1c0002row6_col7\" class=\"data row6 col7\" >48</td>\n",
              "                        <td id=\"T_998ff52e_5fd4_11eb_b824_0242ac1c0002row6_col8\" class=\"data row6 col8\" >166</td>\n",
              "                        <td id=\"T_998ff52e_5fd4_11eb_b824_0242ac1c0002row6_col9\" class=\"data row6 col9\" >224</td>\n",
              "                        <td id=\"T_998ff52e_5fd4_11eb_b824_0242ac1c0002row6_col10\" class=\"data row6 col10\" >253</td>\n",
              "                        <td id=\"T_998ff52e_5fd4_11eb_b824_0242ac1c0002row6_col11\" class=\"data row6 col11\" >253</td>\n",
              "                        <td id=\"T_998ff52e_5fd4_11eb_b824_0242ac1c0002row6_col12\" class=\"data row6 col12\" >234</td>\n",
              "                        <td id=\"T_998ff52e_5fd4_11eb_b824_0242ac1c0002row6_col13\" class=\"data row6 col13\" >196</td>\n",
              "                        <td id=\"T_998ff52e_5fd4_11eb_b824_0242ac1c0002row6_col14\" class=\"data row6 col14\" >253</td>\n",
              "                        <td id=\"T_998ff52e_5fd4_11eb_b824_0242ac1c0002row6_col15\" class=\"data row6 col15\" >253</td>\n",
              "                        <td id=\"T_998ff52e_5fd4_11eb_b824_0242ac1c0002row6_col16\" class=\"data row6 col16\" >253</td>\n",
              "                        <td id=\"T_998ff52e_5fd4_11eb_b824_0242ac1c0002row6_col17\" class=\"data row6 col17\" >253</td>\n",
              "                        <td id=\"T_998ff52e_5fd4_11eb_b824_0242ac1c0002row6_col18\" class=\"data row6 col18\" >233</td>\n",
              "                        <td id=\"T_998ff52e_5fd4_11eb_b824_0242ac1c0002row6_col19\" class=\"data row6 col19\" >0</td>\n",
              "                        <td id=\"T_998ff52e_5fd4_11eb_b824_0242ac1c0002row6_col20\" class=\"data row6 col20\" >0</td>\n",
              "                        <td id=\"T_998ff52e_5fd4_11eb_b824_0242ac1c0002row6_col21\" class=\"data row6 col21\" >0</td>\n",
              "                        <td id=\"T_998ff52e_5fd4_11eb_b824_0242ac1c0002row6_col22\" class=\"data row6 col22\" >0</td>\n",
              "                        <td id=\"T_998ff52e_5fd4_11eb_b824_0242ac1c0002row6_col23\" class=\"data row6 col23\" >0</td>\n",
              "                        <td id=\"T_998ff52e_5fd4_11eb_b824_0242ac1c0002row6_col24\" class=\"data row6 col24\" >0</td>\n",
              "                        <td id=\"T_998ff52e_5fd4_11eb_b824_0242ac1c0002row6_col25\" class=\"data row6 col25\" >0</td>\n",
              "                        <td id=\"T_998ff52e_5fd4_11eb_b824_0242ac1c0002row6_col26\" class=\"data row6 col26\" >0</td>\n",
              "                        <td id=\"T_998ff52e_5fd4_11eb_b824_0242ac1c0002row6_col27\" class=\"data row6 col27\" >0</td>\n",
              "            </tr>\n",
              "            <tr>\n",
              "                        <th id=\"T_998ff52e_5fd4_11eb_b824_0242ac1c0002level0_row7\" class=\"row_heading level0 row7\" >7</th>\n",
              "                        <td id=\"T_998ff52e_5fd4_11eb_b824_0242ac1c0002row7_col0\" class=\"data row7 col0\" >0</td>\n",
              "                        <td id=\"T_998ff52e_5fd4_11eb_b824_0242ac1c0002row7_col1\" class=\"data row7 col1\" >0</td>\n",
              "                        <td id=\"T_998ff52e_5fd4_11eb_b824_0242ac1c0002row7_col2\" class=\"data row7 col2\" >0</td>\n",
              "                        <td id=\"T_998ff52e_5fd4_11eb_b824_0242ac1c0002row7_col3\" class=\"data row7 col3\" >0</td>\n",
              "                        <td id=\"T_998ff52e_5fd4_11eb_b824_0242ac1c0002row7_col4\" class=\"data row7 col4\" >0</td>\n",
              "                        <td id=\"T_998ff52e_5fd4_11eb_b824_0242ac1c0002row7_col5\" class=\"data row7 col5\" >93</td>\n",
              "                        <td id=\"T_998ff52e_5fd4_11eb_b824_0242ac1c0002row7_col6\" class=\"data row7 col6\" >244</td>\n",
              "                        <td id=\"T_998ff52e_5fd4_11eb_b824_0242ac1c0002row7_col7\" class=\"data row7 col7\" >249</td>\n",
              "                        <td id=\"T_998ff52e_5fd4_11eb_b824_0242ac1c0002row7_col8\" class=\"data row7 col8\" >253</td>\n",
              "                        <td id=\"T_998ff52e_5fd4_11eb_b824_0242ac1c0002row7_col9\" class=\"data row7 col9\" >187</td>\n",
              "                        <td id=\"T_998ff52e_5fd4_11eb_b824_0242ac1c0002row7_col10\" class=\"data row7 col10\" >46</td>\n",
              "                        <td id=\"T_998ff52e_5fd4_11eb_b824_0242ac1c0002row7_col11\" class=\"data row7 col11\" >10</td>\n",
              "                        <td id=\"T_998ff52e_5fd4_11eb_b824_0242ac1c0002row7_col12\" class=\"data row7 col12\" >8</td>\n",
              "                        <td id=\"T_998ff52e_5fd4_11eb_b824_0242ac1c0002row7_col13\" class=\"data row7 col13\" >4</td>\n",
              "                        <td id=\"T_998ff52e_5fd4_11eb_b824_0242ac1c0002row7_col14\" class=\"data row7 col14\" >10</td>\n",
              "                        <td id=\"T_998ff52e_5fd4_11eb_b824_0242ac1c0002row7_col15\" class=\"data row7 col15\" >194</td>\n",
              "                        <td id=\"T_998ff52e_5fd4_11eb_b824_0242ac1c0002row7_col16\" class=\"data row7 col16\" >253</td>\n",
              "                        <td id=\"T_998ff52e_5fd4_11eb_b824_0242ac1c0002row7_col17\" class=\"data row7 col17\" >253</td>\n",
              "                        <td id=\"T_998ff52e_5fd4_11eb_b824_0242ac1c0002row7_col18\" class=\"data row7 col18\" >233</td>\n",
              "                        <td id=\"T_998ff52e_5fd4_11eb_b824_0242ac1c0002row7_col19\" class=\"data row7 col19\" >0</td>\n",
              "                        <td id=\"T_998ff52e_5fd4_11eb_b824_0242ac1c0002row7_col20\" class=\"data row7 col20\" >0</td>\n",
              "                        <td id=\"T_998ff52e_5fd4_11eb_b824_0242ac1c0002row7_col21\" class=\"data row7 col21\" >0</td>\n",
              "                        <td id=\"T_998ff52e_5fd4_11eb_b824_0242ac1c0002row7_col22\" class=\"data row7 col22\" >0</td>\n",
              "                        <td id=\"T_998ff52e_5fd4_11eb_b824_0242ac1c0002row7_col23\" class=\"data row7 col23\" >0</td>\n",
              "                        <td id=\"T_998ff52e_5fd4_11eb_b824_0242ac1c0002row7_col24\" class=\"data row7 col24\" >0</td>\n",
              "                        <td id=\"T_998ff52e_5fd4_11eb_b824_0242ac1c0002row7_col25\" class=\"data row7 col25\" >0</td>\n",
              "                        <td id=\"T_998ff52e_5fd4_11eb_b824_0242ac1c0002row7_col26\" class=\"data row7 col26\" >0</td>\n",
              "                        <td id=\"T_998ff52e_5fd4_11eb_b824_0242ac1c0002row7_col27\" class=\"data row7 col27\" >0</td>\n",
              "            </tr>\n",
              "            <tr>\n",
              "                        <th id=\"T_998ff52e_5fd4_11eb_b824_0242ac1c0002level0_row8\" class=\"row_heading level0 row8\" >8</th>\n",
              "                        <td id=\"T_998ff52e_5fd4_11eb_b824_0242ac1c0002row8_col0\" class=\"data row8 col0\" >0</td>\n",
              "                        <td id=\"T_998ff52e_5fd4_11eb_b824_0242ac1c0002row8_col1\" class=\"data row8 col1\" >0</td>\n",
              "                        <td id=\"T_998ff52e_5fd4_11eb_b824_0242ac1c0002row8_col2\" class=\"data row8 col2\" >0</td>\n",
              "                        <td id=\"T_998ff52e_5fd4_11eb_b824_0242ac1c0002row8_col3\" class=\"data row8 col3\" >0</td>\n",
              "                        <td id=\"T_998ff52e_5fd4_11eb_b824_0242ac1c0002row8_col4\" class=\"data row8 col4\" >0</td>\n",
              "                        <td id=\"T_998ff52e_5fd4_11eb_b824_0242ac1c0002row8_col5\" class=\"data row8 col5\" >107</td>\n",
              "                        <td id=\"T_998ff52e_5fd4_11eb_b824_0242ac1c0002row8_col6\" class=\"data row8 col6\" >253</td>\n",
              "                        <td id=\"T_998ff52e_5fd4_11eb_b824_0242ac1c0002row8_col7\" class=\"data row8 col7\" >253</td>\n",
              "                        <td id=\"T_998ff52e_5fd4_11eb_b824_0242ac1c0002row8_col8\" class=\"data row8 col8\" >230</td>\n",
              "                        <td id=\"T_998ff52e_5fd4_11eb_b824_0242ac1c0002row8_col9\" class=\"data row8 col9\" >48</td>\n",
              "                        <td id=\"T_998ff52e_5fd4_11eb_b824_0242ac1c0002row8_col10\" class=\"data row8 col10\" >0</td>\n",
              "                        <td id=\"T_998ff52e_5fd4_11eb_b824_0242ac1c0002row8_col11\" class=\"data row8 col11\" >0</td>\n",
              "                        <td id=\"T_998ff52e_5fd4_11eb_b824_0242ac1c0002row8_col12\" class=\"data row8 col12\" >0</td>\n",
              "                        <td id=\"T_998ff52e_5fd4_11eb_b824_0242ac1c0002row8_col13\" class=\"data row8 col13\" >0</td>\n",
              "                        <td id=\"T_998ff52e_5fd4_11eb_b824_0242ac1c0002row8_col14\" class=\"data row8 col14\" >0</td>\n",
              "                        <td id=\"T_998ff52e_5fd4_11eb_b824_0242ac1c0002row8_col15\" class=\"data row8 col15\" >192</td>\n",
              "                        <td id=\"T_998ff52e_5fd4_11eb_b824_0242ac1c0002row8_col16\" class=\"data row8 col16\" >253</td>\n",
              "                        <td id=\"T_998ff52e_5fd4_11eb_b824_0242ac1c0002row8_col17\" class=\"data row8 col17\" >253</td>\n",
              "                        <td id=\"T_998ff52e_5fd4_11eb_b824_0242ac1c0002row8_col18\" class=\"data row8 col18\" >156</td>\n",
              "                        <td id=\"T_998ff52e_5fd4_11eb_b824_0242ac1c0002row8_col19\" class=\"data row8 col19\" >0</td>\n",
              "                        <td id=\"T_998ff52e_5fd4_11eb_b824_0242ac1c0002row8_col20\" class=\"data row8 col20\" >0</td>\n",
              "                        <td id=\"T_998ff52e_5fd4_11eb_b824_0242ac1c0002row8_col21\" class=\"data row8 col21\" >0</td>\n",
              "                        <td id=\"T_998ff52e_5fd4_11eb_b824_0242ac1c0002row8_col22\" class=\"data row8 col22\" >0</td>\n",
              "                        <td id=\"T_998ff52e_5fd4_11eb_b824_0242ac1c0002row8_col23\" class=\"data row8 col23\" >0</td>\n",
              "                        <td id=\"T_998ff52e_5fd4_11eb_b824_0242ac1c0002row8_col24\" class=\"data row8 col24\" >0</td>\n",
              "                        <td id=\"T_998ff52e_5fd4_11eb_b824_0242ac1c0002row8_col25\" class=\"data row8 col25\" >0</td>\n",
              "                        <td id=\"T_998ff52e_5fd4_11eb_b824_0242ac1c0002row8_col26\" class=\"data row8 col26\" >0</td>\n",
              "                        <td id=\"T_998ff52e_5fd4_11eb_b824_0242ac1c0002row8_col27\" class=\"data row8 col27\" >0</td>\n",
              "            </tr>\n",
              "            <tr>\n",
              "                        <th id=\"T_998ff52e_5fd4_11eb_b824_0242ac1c0002level0_row9\" class=\"row_heading level0 row9\" >9</th>\n",
              "                        <td id=\"T_998ff52e_5fd4_11eb_b824_0242ac1c0002row9_col0\" class=\"data row9 col0\" >0</td>\n",
              "                        <td id=\"T_998ff52e_5fd4_11eb_b824_0242ac1c0002row9_col1\" class=\"data row9 col1\" >0</td>\n",
              "                        <td id=\"T_998ff52e_5fd4_11eb_b824_0242ac1c0002row9_col2\" class=\"data row9 col2\" >0</td>\n",
              "                        <td id=\"T_998ff52e_5fd4_11eb_b824_0242ac1c0002row9_col3\" class=\"data row9 col3\" >0</td>\n",
              "                        <td id=\"T_998ff52e_5fd4_11eb_b824_0242ac1c0002row9_col4\" class=\"data row9 col4\" >0</td>\n",
              "                        <td id=\"T_998ff52e_5fd4_11eb_b824_0242ac1c0002row9_col5\" class=\"data row9 col5\" >3</td>\n",
              "                        <td id=\"T_998ff52e_5fd4_11eb_b824_0242ac1c0002row9_col6\" class=\"data row9 col6\" >20</td>\n",
              "                        <td id=\"T_998ff52e_5fd4_11eb_b824_0242ac1c0002row9_col7\" class=\"data row9 col7\" >20</td>\n",
              "                        <td id=\"T_998ff52e_5fd4_11eb_b824_0242ac1c0002row9_col8\" class=\"data row9 col8\" >15</td>\n",
              "                        <td id=\"T_998ff52e_5fd4_11eb_b824_0242ac1c0002row9_col9\" class=\"data row9 col9\" >0</td>\n",
              "                        <td id=\"T_998ff52e_5fd4_11eb_b824_0242ac1c0002row9_col10\" class=\"data row9 col10\" >0</td>\n",
              "                        <td id=\"T_998ff52e_5fd4_11eb_b824_0242ac1c0002row9_col11\" class=\"data row9 col11\" >0</td>\n",
              "                        <td id=\"T_998ff52e_5fd4_11eb_b824_0242ac1c0002row9_col12\" class=\"data row9 col12\" >0</td>\n",
              "                        <td id=\"T_998ff52e_5fd4_11eb_b824_0242ac1c0002row9_col13\" class=\"data row9 col13\" >0</td>\n",
              "                        <td id=\"T_998ff52e_5fd4_11eb_b824_0242ac1c0002row9_col14\" class=\"data row9 col14\" >43</td>\n",
              "                        <td id=\"T_998ff52e_5fd4_11eb_b824_0242ac1c0002row9_col15\" class=\"data row9 col15\" >224</td>\n",
              "                        <td id=\"T_998ff52e_5fd4_11eb_b824_0242ac1c0002row9_col16\" class=\"data row9 col16\" >253</td>\n",
              "                        <td id=\"T_998ff52e_5fd4_11eb_b824_0242ac1c0002row9_col17\" class=\"data row9 col17\" >245</td>\n",
              "                        <td id=\"T_998ff52e_5fd4_11eb_b824_0242ac1c0002row9_col18\" class=\"data row9 col18\" >74</td>\n",
              "                        <td id=\"T_998ff52e_5fd4_11eb_b824_0242ac1c0002row9_col19\" class=\"data row9 col19\" >0</td>\n",
              "                        <td id=\"T_998ff52e_5fd4_11eb_b824_0242ac1c0002row9_col20\" class=\"data row9 col20\" >0</td>\n",
              "                        <td id=\"T_998ff52e_5fd4_11eb_b824_0242ac1c0002row9_col21\" class=\"data row9 col21\" >0</td>\n",
              "                        <td id=\"T_998ff52e_5fd4_11eb_b824_0242ac1c0002row9_col22\" class=\"data row9 col22\" >0</td>\n",
              "                        <td id=\"T_998ff52e_5fd4_11eb_b824_0242ac1c0002row9_col23\" class=\"data row9 col23\" >0</td>\n",
              "                        <td id=\"T_998ff52e_5fd4_11eb_b824_0242ac1c0002row9_col24\" class=\"data row9 col24\" >0</td>\n",
              "                        <td id=\"T_998ff52e_5fd4_11eb_b824_0242ac1c0002row9_col25\" class=\"data row9 col25\" >0</td>\n",
              "                        <td id=\"T_998ff52e_5fd4_11eb_b824_0242ac1c0002row9_col26\" class=\"data row9 col26\" >0</td>\n",
              "                        <td id=\"T_998ff52e_5fd4_11eb_b824_0242ac1c0002row9_col27\" class=\"data row9 col27\" >0</td>\n",
              "            </tr>\n",
              "            <tr>\n",
              "                        <th id=\"T_998ff52e_5fd4_11eb_b824_0242ac1c0002level0_row10\" class=\"row_heading level0 row10\" >10</th>\n",
              "                        <td id=\"T_998ff52e_5fd4_11eb_b824_0242ac1c0002row10_col0\" class=\"data row10 col0\" >0</td>\n",
              "                        <td id=\"T_998ff52e_5fd4_11eb_b824_0242ac1c0002row10_col1\" class=\"data row10 col1\" >0</td>\n",
              "                        <td id=\"T_998ff52e_5fd4_11eb_b824_0242ac1c0002row10_col2\" class=\"data row10 col2\" >0</td>\n",
              "                        <td id=\"T_998ff52e_5fd4_11eb_b824_0242ac1c0002row10_col3\" class=\"data row10 col3\" >0</td>\n",
              "                        <td id=\"T_998ff52e_5fd4_11eb_b824_0242ac1c0002row10_col4\" class=\"data row10 col4\" >0</td>\n",
              "                        <td id=\"T_998ff52e_5fd4_11eb_b824_0242ac1c0002row10_col5\" class=\"data row10 col5\" >0</td>\n",
              "                        <td id=\"T_998ff52e_5fd4_11eb_b824_0242ac1c0002row10_col6\" class=\"data row10 col6\" >0</td>\n",
              "                        <td id=\"T_998ff52e_5fd4_11eb_b824_0242ac1c0002row10_col7\" class=\"data row10 col7\" >0</td>\n",
              "                        <td id=\"T_998ff52e_5fd4_11eb_b824_0242ac1c0002row10_col8\" class=\"data row10 col8\" >0</td>\n",
              "                        <td id=\"T_998ff52e_5fd4_11eb_b824_0242ac1c0002row10_col9\" class=\"data row10 col9\" >0</td>\n",
              "                        <td id=\"T_998ff52e_5fd4_11eb_b824_0242ac1c0002row10_col10\" class=\"data row10 col10\" >0</td>\n",
              "                        <td id=\"T_998ff52e_5fd4_11eb_b824_0242ac1c0002row10_col11\" class=\"data row10 col11\" >0</td>\n",
              "                        <td id=\"T_998ff52e_5fd4_11eb_b824_0242ac1c0002row10_col12\" class=\"data row10 col12\" >0</td>\n",
              "                        <td id=\"T_998ff52e_5fd4_11eb_b824_0242ac1c0002row10_col13\" class=\"data row10 col13\" >0</td>\n",
              "                        <td id=\"T_998ff52e_5fd4_11eb_b824_0242ac1c0002row10_col14\" class=\"data row10 col14\" >249</td>\n",
              "                        <td id=\"T_998ff52e_5fd4_11eb_b824_0242ac1c0002row10_col15\" class=\"data row10 col15\" >253</td>\n",
              "                        <td id=\"T_998ff52e_5fd4_11eb_b824_0242ac1c0002row10_col16\" class=\"data row10 col16\" >245</td>\n",
              "                        <td id=\"T_998ff52e_5fd4_11eb_b824_0242ac1c0002row10_col17\" class=\"data row10 col17\" >126</td>\n",
              "                        <td id=\"T_998ff52e_5fd4_11eb_b824_0242ac1c0002row10_col18\" class=\"data row10 col18\" >0</td>\n",
              "                        <td id=\"T_998ff52e_5fd4_11eb_b824_0242ac1c0002row10_col19\" class=\"data row10 col19\" >0</td>\n",
              "                        <td id=\"T_998ff52e_5fd4_11eb_b824_0242ac1c0002row10_col20\" class=\"data row10 col20\" >0</td>\n",
              "                        <td id=\"T_998ff52e_5fd4_11eb_b824_0242ac1c0002row10_col21\" class=\"data row10 col21\" >0</td>\n",
              "                        <td id=\"T_998ff52e_5fd4_11eb_b824_0242ac1c0002row10_col22\" class=\"data row10 col22\" >0</td>\n",
              "                        <td id=\"T_998ff52e_5fd4_11eb_b824_0242ac1c0002row10_col23\" class=\"data row10 col23\" >0</td>\n",
              "                        <td id=\"T_998ff52e_5fd4_11eb_b824_0242ac1c0002row10_col24\" class=\"data row10 col24\" >0</td>\n",
              "                        <td id=\"T_998ff52e_5fd4_11eb_b824_0242ac1c0002row10_col25\" class=\"data row10 col25\" >0</td>\n",
              "                        <td id=\"T_998ff52e_5fd4_11eb_b824_0242ac1c0002row10_col26\" class=\"data row10 col26\" >0</td>\n",
              "                        <td id=\"T_998ff52e_5fd4_11eb_b824_0242ac1c0002row10_col27\" class=\"data row10 col27\" >0</td>\n",
              "            </tr>\n",
              "            <tr>\n",
              "                        <th id=\"T_998ff52e_5fd4_11eb_b824_0242ac1c0002level0_row11\" class=\"row_heading level0 row11\" >11</th>\n",
              "                        <td id=\"T_998ff52e_5fd4_11eb_b824_0242ac1c0002row11_col0\" class=\"data row11 col0\" >0</td>\n",
              "                        <td id=\"T_998ff52e_5fd4_11eb_b824_0242ac1c0002row11_col1\" class=\"data row11 col1\" >0</td>\n",
              "                        <td id=\"T_998ff52e_5fd4_11eb_b824_0242ac1c0002row11_col2\" class=\"data row11 col2\" >0</td>\n",
              "                        <td id=\"T_998ff52e_5fd4_11eb_b824_0242ac1c0002row11_col3\" class=\"data row11 col3\" >0</td>\n",
              "                        <td id=\"T_998ff52e_5fd4_11eb_b824_0242ac1c0002row11_col4\" class=\"data row11 col4\" >0</td>\n",
              "                        <td id=\"T_998ff52e_5fd4_11eb_b824_0242ac1c0002row11_col5\" class=\"data row11 col5\" >0</td>\n",
              "                        <td id=\"T_998ff52e_5fd4_11eb_b824_0242ac1c0002row11_col6\" class=\"data row11 col6\" >0</td>\n",
              "                        <td id=\"T_998ff52e_5fd4_11eb_b824_0242ac1c0002row11_col7\" class=\"data row11 col7\" >0</td>\n",
              "                        <td id=\"T_998ff52e_5fd4_11eb_b824_0242ac1c0002row11_col8\" class=\"data row11 col8\" >0</td>\n",
              "                        <td id=\"T_998ff52e_5fd4_11eb_b824_0242ac1c0002row11_col9\" class=\"data row11 col9\" >0</td>\n",
              "                        <td id=\"T_998ff52e_5fd4_11eb_b824_0242ac1c0002row11_col10\" class=\"data row11 col10\" >0</td>\n",
              "                        <td id=\"T_998ff52e_5fd4_11eb_b824_0242ac1c0002row11_col11\" class=\"data row11 col11\" >14</td>\n",
              "                        <td id=\"T_998ff52e_5fd4_11eb_b824_0242ac1c0002row11_col12\" class=\"data row11 col12\" >101</td>\n",
              "                        <td id=\"T_998ff52e_5fd4_11eb_b824_0242ac1c0002row11_col13\" class=\"data row11 col13\" >223</td>\n",
              "                        <td id=\"T_998ff52e_5fd4_11eb_b824_0242ac1c0002row11_col14\" class=\"data row11 col14\" >253</td>\n",
              "                        <td id=\"T_998ff52e_5fd4_11eb_b824_0242ac1c0002row11_col15\" class=\"data row11 col15\" >248</td>\n",
              "                        <td id=\"T_998ff52e_5fd4_11eb_b824_0242ac1c0002row11_col16\" class=\"data row11 col16\" >124</td>\n",
              "                        <td id=\"T_998ff52e_5fd4_11eb_b824_0242ac1c0002row11_col17\" class=\"data row11 col17\" >0</td>\n",
              "                        <td id=\"T_998ff52e_5fd4_11eb_b824_0242ac1c0002row11_col18\" class=\"data row11 col18\" >0</td>\n",
              "                        <td id=\"T_998ff52e_5fd4_11eb_b824_0242ac1c0002row11_col19\" class=\"data row11 col19\" >0</td>\n",
              "                        <td id=\"T_998ff52e_5fd4_11eb_b824_0242ac1c0002row11_col20\" class=\"data row11 col20\" >0</td>\n",
              "                        <td id=\"T_998ff52e_5fd4_11eb_b824_0242ac1c0002row11_col21\" class=\"data row11 col21\" >0</td>\n",
              "                        <td id=\"T_998ff52e_5fd4_11eb_b824_0242ac1c0002row11_col22\" class=\"data row11 col22\" >0</td>\n",
              "                        <td id=\"T_998ff52e_5fd4_11eb_b824_0242ac1c0002row11_col23\" class=\"data row11 col23\" >0</td>\n",
              "                        <td id=\"T_998ff52e_5fd4_11eb_b824_0242ac1c0002row11_col24\" class=\"data row11 col24\" >0</td>\n",
              "                        <td id=\"T_998ff52e_5fd4_11eb_b824_0242ac1c0002row11_col25\" class=\"data row11 col25\" >0</td>\n",
              "                        <td id=\"T_998ff52e_5fd4_11eb_b824_0242ac1c0002row11_col26\" class=\"data row11 col26\" >0</td>\n",
              "                        <td id=\"T_998ff52e_5fd4_11eb_b824_0242ac1c0002row11_col27\" class=\"data row11 col27\" >0</td>\n",
              "            </tr>\n",
              "            <tr>\n",
              "                        <th id=\"T_998ff52e_5fd4_11eb_b824_0242ac1c0002level0_row12\" class=\"row_heading level0 row12\" >12</th>\n",
              "                        <td id=\"T_998ff52e_5fd4_11eb_b824_0242ac1c0002row12_col0\" class=\"data row12 col0\" >0</td>\n",
              "                        <td id=\"T_998ff52e_5fd4_11eb_b824_0242ac1c0002row12_col1\" class=\"data row12 col1\" >0</td>\n",
              "                        <td id=\"T_998ff52e_5fd4_11eb_b824_0242ac1c0002row12_col2\" class=\"data row12 col2\" >0</td>\n",
              "                        <td id=\"T_998ff52e_5fd4_11eb_b824_0242ac1c0002row12_col3\" class=\"data row12 col3\" >0</td>\n",
              "                        <td id=\"T_998ff52e_5fd4_11eb_b824_0242ac1c0002row12_col4\" class=\"data row12 col4\" >0</td>\n",
              "                        <td id=\"T_998ff52e_5fd4_11eb_b824_0242ac1c0002row12_col5\" class=\"data row12 col5\" >0</td>\n",
              "                        <td id=\"T_998ff52e_5fd4_11eb_b824_0242ac1c0002row12_col6\" class=\"data row12 col6\" >0</td>\n",
              "                        <td id=\"T_998ff52e_5fd4_11eb_b824_0242ac1c0002row12_col7\" class=\"data row12 col7\" >0</td>\n",
              "                        <td id=\"T_998ff52e_5fd4_11eb_b824_0242ac1c0002row12_col8\" class=\"data row12 col8\" >0</td>\n",
              "                        <td id=\"T_998ff52e_5fd4_11eb_b824_0242ac1c0002row12_col9\" class=\"data row12 col9\" >11</td>\n",
              "                        <td id=\"T_998ff52e_5fd4_11eb_b824_0242ac1c0002row12_col10\" class=\"data row12 col10\" >166</td>\n",
              "                        <td id=\"T_998ff52e_5fd4_11eb_b824_0242ac1c0002row12_col11\" class=\"data row12 col11\" >239</td>\n",
              "                        <td id=\"T_998ff52e_5fd4_11eb_b824_0242ac1c0002row12_col12\" class=\"data row12 col12\" >253</td>\n",
              "                        <td id=\"T_998ff52e_5fd4_11eb_b824_0242ac1c0002row12_col13\" class=\"data row12 col13\" >253</td>\n",
              "                        <td id=\"T_998ff52e_5fd4_11eb_b824_0242ac1c0002row12_col14\" class=\"data row12 col14\" >253</td>\n",
              "                        <td id=\"T_998ff52e_5fd4_11eb_b824_0242ac1c0002row12_col15\" class=\"data row12 col15\" >187</td>\n",
              "                        <td id=\"T_998ff52e_5fd4_11eb_b824_0242ac1c0002row12_col16\" class=\"data row12 col16\" >30</td>\n",
              "                        <td id=\"T_998ff52e_5fd4_11eb_b824_0242ac1c0002row12_col17\" class=\"data row12 col17\" >0</td>\n",
              "                        <td id=\"T_998ff52e_5fd4_11eb_b824_0242ac1c0002row12_col18\" class=\"data row12 col18\" >0</td>\n",
              "                        <td id=\"T_998ff52e_5fd4_11eb_b824_0242ac1c0002row12_col19\" class=\"data row12 col19\" >0</td>\n",
              "                        <td id=\"T_998ff52e_5fd4_11eb_b824_0242ac1c0002row12_col20\" class=\"data row12 col20\" >0</td>\n",
              "                        <td id=\"T_998ff52e_5fd4_11eb_b824_0242ac1c0002row12_col21\" class=\"data row12 col21\" >0</td>\n",
              "                        <td id=\"T_998ff52e_5fd4_11eb_b824_0242ac1c0002row12_col22\" class=\"data row12 col22\" >0</td>\n",
              "                        <td id=\"T_998ff52e_5fd4_11eb_b824_0242ac1c0002row12_col23\" class=\"data row12 col23\" >0</td>\n",
              "                        <td id=\"T_998ff52e_5fd4_11eb_b824_0242ac1c0002row12_col24\" class=\"data row12 col24\" >0</td>\n",
              "                        <td id=\"T_998ff52e_5fd4_11eb_b824_0242ac1c0002row12_col25\" class=\"data row12 col25\" >0</td>\n",
              "                        <td id=\"T_998ff52e_5fd4_11eb_b824_0242ac1c0002row12_col26\" class=\"data row12 col26\" >0</td>\n",
              "                        <td id=\"T_998ff52e_5fd4_11eb_b824_0242ac1c0002row12_col27\" class=\"data row12 col27\" >0</td>\n",
              "            </tr>\n",
              "            <tr>\n",
              "                        <th id=\"T_998ff52e_5fd4_11eb_b824_0242ac1c0002level0_row13\" class=\"row_heading level0 row13\" >13</th>\n",
              "                        <td id=\"T_998ff52e_5fd4_11eb_b824_0242ac1c0002row13_col0\" class=\"data row13 col0\" >0</td>\n",
              "                        <td id=\"T_998ff52e_5fd4_11eb_b824_0242ac1c0002row13_col1\" class=\"data row13 col1\" >0</td>\n",
              "                        <td id=\"T_998ff52e_5fd4_11eb_b824_0242ac1c0002row13_col2\" class=\"data row13 col2\" >0</td>\n",
              "                        <td id=\"T_998ff52e_5fd4_11eb_b824_0242ac1c0002row13_col3\" class=\"data row13 col3\" >0</td>\n",
              "                        <td id=\"T_998ff52e_5fd4_11eb_b824_0242ac1c0002row13_col4\" class=\"data row13 col4\" >0</td>\n",
              "                        <td id=\"T_998ff52e_5fd4_11eb_b824_0242ac1c0002row13_col5\" class=\"data row13 col5\" >0</td>\n",
              "                        <td id=\"T_998ff52e_5fd4_11eb_b824_0242ac1c0002row13_col6\" class=\"data row13 col6\" >0</td>\n",
              "                        <td id=\"T_998ff52e_5fd4_11eb_b824_0242ac1c0002row13_col7\" class=\"data row13 col7\" >0</td>\n",
              "                        <td id=\"T_998ff52e_5fd4_11eb_b824_0242ac1c0002row13_col8\" class=\"data row13 col8\" >0</td>\n",
              "                        <td id=\"T_998ff52e_5fd4_11eb_b824_0242ac1c0002row13_col9\" class=\"data row13 col9\" >16</td>\n",
              "                        <td id=\"T_998ff52e_5fd4_11eb_b824_0242ac1c0002row13_col10\" class=\"data row13 col10\" >248</td>\n",
              "                        <td id=\"T_998ff52e_5fd4_11eb_b824_0242ac1c0002row13_col11\" class=\"data row13 col11\" >250</td>\n",
              "                        <td id=\"T_998ff52e_5fd4_11eb_b824_0242ac1c0002row13_col12\" class=\"data row13 col12\" >253</td>\n",
              "                        <td id=\"T_998ff52e_5fd4_11eb_b824_0242ac1c0002row13_col13\" class=\"data row13 col13\" >253</td>\n",
              "                        <td id=\"T_998ff52e_5fd4_11eb_b824_0242ac1c0002row13_col14\" class=\"data row13 col14\" >253</td>\n",
              "                        <td id=\"T_998ff52e_5fd4_11eb_b824_0242ac1c0002row13_col15\" class=\"data row13 col15\" >253</td>\n",
              "                        <td id=\"T_998ff52e_5fd4_11eb_b824_0242ac1c0002row13_col16\" class=\"data row13 col16\" >232</td>\n",
              "                        <td id=\"T_998ff52e_5fd4_11eb_b824_0242ac1c0002row13_col17\" class=\"data row13 col17\" >213</td>\n",
              "                        <td id=\"T_998ff52e_5fd4_11eb_b824_0242ac1c0002row13_col18\" class=\"data row13 col18\" >111</td>\n",
              "                        <td id=\"T_998ff52e_5fd4_11eb_b824_0242ac1c0002row13_col19\" class=\"data row13 col19\" >2</td>\n",
              "                        <td id=\"T_998ff52e_5fd4_11eb_b824_0242ac1c0002row13_col20\" class=\"data row13 col20\" >0</td>\n",
              "                        <td id=\"T_998ff52e_5fd4_11eb_b824_0242ac1c0002row13_col21\" class=\"data row13 col21\" >0</td>\n",
              "                        <td id=\"T_998ff52e_5fd4_11eb_b824_0242ac1c0002row13_col22\" class=\"data row13 col22\" >0</td>\n",
              "                        <td id=\"T_998ff52e_5fd4_11eb_b824_0242ac1c0002row13_col23\" class=\"data row13 col23\" >0</td>\n",
              "                        <td id=\"T_998ff52e_5fd4_11eb_b824_0242ac1c0002row13_col24\" class=\"data row13 col24\" >0</td>\n",
              "                        <td id=\"T_998ff52e_5fd4_11eb_b824_0242ac1c0002row13_col25\" class=\"data row13 col25\" >0</td>\n",
              "                        <td id=\"T_998ff52e_5fd4_11eb_b824_0242ac1c0002row13_col26\" class=\"data row13 col26\" >0</td>\n",
              "                        <td id=\"T_998ff52e_5fd4_11eb_b824_0242ac1c0002row13_col27\" class=\"data row13 col27\" >0</td>\n",
              "            </tr>\n",
              "            <tr>\n",
              "                        <th id=\"T_998ff52e_5fd4_11eb_b824_0242ac1c0002level0_row14\" class=\"row_heading level0 row14\" >14</th>\n",
              "                        <td id=\"T_998ff52e_5fd4_11eb_b824_0242ac1c0002row14_col0\" class=\"data row14 col0\" >0</td>\n",
              "                        <td id=\"T_998ff52e_5fd4_11eb_b824_0242ac1c0002row14_col1\" class=\"data row14 col1\" >0</td>\n",
              "                        <td id=\"T_998ff52e_5fd4_11eb_b824_0242ac1c0002row14_col2\" class=\"data row14 col2\" >0</td>\n",
              "                        <td id=\"T_998ff52e_5fd4_11eb_b824_0242ac1c0002row14_col3\" class=\"data row14 col3\" >0</td>\n",
              "                        <td id=\"T_998ff52e_5fd4_11eb_b824_0242ac1c0002row14_col4\" class=\"data row14 col4\" >0</td>\n",
              "                        <td id=\"T_998ff52e_5fd4_11eb_b824_0242ac1c0002row14_col5\" class=\"data row14 col5\" >0</td>\n",
              "                        <td id=\"T_998ff52e_5fd4_11eb_b824_0242ac1c0002row14_col6\" class=\"data row14 col6\" >0</td>\n",
              "                        <td id=\"T_998ff52e_5fd4_11eb_b824_0242ac1c0002row14_col7\" class=\"data row14 col7\" >0</td>\n",
              "                        <td id=\"T_998ff52e_5fd4_11eb_b824_0242ac1c0002row14_col8\" class=\"data row14 col8\" >0</td>\n",
              "                        <td id=\"T_998ff52e_5fd4_11eb_b824_0242ac1c0002row14_col9\" class=\"data row14 col9\" >0</td>\n",
              "                        <td id=\"T_998ff52e_5fd4_11eb_b824_0242ac1c0002row14_col10\" class=\"data row14 col10\" >0</td>\n",
              "                        <td id=\"T_998ff52e_5fd4_11eb_b824_0242ac1c0002row14_col11\" class=\"data row14 col11\" >43</td>\n",
              "                        <td id=\"T_998ff52e_5fd4_11eb_b824_0242ac1c0002row14_col12\" class=\"data row14 col12\" >98</td>\n",
              "                        <td id=\"T_998ff52e_5fd4_11eb_b824_0242ac1c0002row14_col13\" class=\"data row14 col13\" >98</td>\n",
              "                        <td id=\"T_998ff52e_5fd4_11eb_b824_0242ac1c0002row14_col14\" class=\"data row14 col14\" >208</td>\n",
              "                        <td id=\"T_998ff52e_5fd4_11eb_b824_0242ac1c0002row14_col15\" class=\"data row14 col15\" >253</td>\n",
              "                        <td id=\"T_998ff52e_5fd4_11eb_b824_0242ac1c0002row14_col16\" class=\"data row14 col16\" >253</td>\n",
              "                        <td id=\"T_998ff52e_5fd4_11eb_b824_0242ac1c0002row14_col17\" class=\"data row14 col17\" >253</td>\n",
              "                        <td id=\"T_998ff52e_5fd4_11eb_b824_0242ac1c0002row14_col18\" class=\"data row14 col18\" >253</td>\n",
              "                        <td id=\"T_998ff52e_5fd4_11eb_b824_0242ac1c0002row14_col19\" class=\"data row14 col19\" >187</td>\n",
              "                        <td id=\"T_998ff52e_5fd4_11eb_b824_0242ac1c0002row14_col20\" class=\"data row14 col20\" >22</td>\n",
              "                        <td id=\"T_998ff52e_5fd4_11eb_b824_0242ac1c0002row14_col21\" class=\"data row14 col21\" >0</td>\n",
              "                        <td id=\"T_998ff52e_5fd4_11eb_b824_0242ac1c0002row14_col22\" class=\"data row14 col22\" >0</td>\n",
              "                        <td id=\"T_998ff52e_5fd4_11eb_b824_0242ac1c0002row14_col23\" class=\"data row14 col23\" >0</td>\n",
              "                        <td id=\"T_998ff52e_5fd4_11eb_b824_0242ac1c0002row14_col24\" class=\"data row14 col24\" >0</td>\n",
              "                        <td id=\"T_998ff52e_5fd4_11eb_b824_0242ac1c0002row14_col25\" class=\"data row14 col25\" >0</td>\n",
              "                        <td id=\"T_998ff52e_5fd4_11eb_b824_0242ac1c0002row14_col26\" class=\"data row14 col26\" >0</td>\n",
              "                        <td id=\"T_998ff52e_5fd4_11eb_b824_0242ac1c0002row14_col27\" class=\"data row14 col27\" >0</td>\n",
              "            </tr>\n",
              "            <tr>\n",
              "                        <th id=\"T_998ff52e_5fd4_11eb_b824_0242ac1c0002level0_row15\" class=\"row_heading level0 row15\" >15</th>\n",
              "                        <td id=\"T_998ff52e_5fd4_11eb_b824_0242ac1c0002row15_col0\" class=\"data row15 col0\" >0</td>\n",
              "                        <td id=\"T_998ff52e_5fd4_11eb_b824_0242ac1c0002row15_col1\" class=\"data row15 col1\" >0</td>\n",
              "                        <td id=\"T_998ff52e_5fd4_11eb_b824_0242ac1c0002row15_col2\" class=\"data row15 col2\" >0</td>\n",
              "                        <td id=\"T_998ff52e_5fd4_11eb_b824_0242ac1c0002row15_col3\" class=\"data row15 col3\" >0</td>\n",
              "                        <td id=\"T_998ff52e_5fd4_11eb_b824_0242ac1c0002row15_col4\" class=\"data row15 col4\" >0</td>\n",
              "                        <td id=\"T_998ff52e_5fd4_11eb_b824_0242ac1c0002row15_col5\" class=\"data row15 col5\" >0</td>\n",
              "                        <td id=\"T_998ff52e_5fd4_11eb_b824_0242ac1c0002row15_col6\" class=\"data row15 col6\" >0</td>\n",
              "                        <td id=\"T_998ff52e_5fd4_11eb_b824_0242ac1c0002row15_col7\" class=\"data row15 col7\" >0</td>\n",
              "                        <td id=\"T_998ff52e_5fd4_11eb_b824_0242ac1c0002row15_col8\" class=\"data row15 col8\" >0</td>\n",
              "                        <td id=\"T_998ff52e_5fd4_11eb_b824_0242ac1c0002row15_col9\" class=\"data row15 col9\" >0</td>\n",
              "                        <td id=\"T_998ff52e_5fd4_11eb_b824_0242ac1c0002row15_col10\" class=\"data row15 col10\" >0</td>\n",
              "                        <td id=\"T_998ff52e_5fd4_11eb_b824_0242ac1c0002row15_col11\" class=\"data row15 col11\" >0</td>\n",
              "                        <td id=\"T_998ff52e_5fd4_11eb_b824_0242ac1c0002row15_col12\" class=\"data row15 col12\" >0</td>\n",
              "                        <td id=\"T_998ff52e_5fd4_11eb_b824_0242ac1c0002row15_col13\" class=\"data row15 col13\" >0</td>\n",
              "                        <td id=\"T_998ff52e_5fd4_11eb_b824_0242ac1c0002row15_col14\" class=\"data row15 col14\" >9</td>\n",
              "                        <td id=\"T_998ff52e_5fd4_11eb_b824_0242ac1c0002row15_col15\" class=\"data row15 col15\" >51</td>\n",
              "                        <td id=\"T_998ff52e_5fd4_11eb_b824_0242ac1c0002row15_col16\" class=\"data row15 col16\" >119</td>\n",
              "                        <td id=\"T_998ff52e_5fd4_11eb_b824_0242ac1c0002row15_col17\" class=\"data row15 col17\" >253</td>\n",
              "                        <td id=\"T_998ff52e_5fd4_11eb_b824_0242ac1c0002row15_col18\" class=\"data row15 col18\" >253</td>\n",
              "                        <td id=\"T_998ff52e_5fd4_11eb_b824_0242ac1c0002row15_col19\" class=\"data row15 col19\" >253</td>\n",
              "                        <td id=\"T_998ff52e_5fd4_11eb_b824_0242ac1c0002row15_col20\" class=\"data row15 col20\" >76</td>\n",
              "                        <td id=\"T_998ff52e_5fd4_11eb_b824_0242ac1c0002row15_col21\" class=\"data row15 col21\" >0</td>\n",
              "                        <td id=\"T_998ff52e_5fd4_11eb_b824_0242ac1c0002row15_col22\" class=\"data row15 col22\" >0</td>\n",
              "                        <td id=\"T_998ff52e_5fd4_11eb_b824_0242ac1c0002row15_col23\" class=\"data row15 col23\" >0</td>\n",
              "                        <td id=\"T_998ff52e_5fd4_11eb_b824_0242ac1c0002row15_col24\" class=\"data row15 col24\" >0</td>\n",
              "                        <td id=\"T_998ff52e_5fd4_11eb_b824_0242ac1c0002row15_col25\" class=\"data row15 col25\" >0</td>\n",
              "                        <td id=\"T_998ff52e_5fd4_11eb_b824_0242ac1c0002row15_col26\" class=\"data row15 col26\" >0</td>\n",
              "                        <td id=\"T_998ff52e_5fd4_11eb_b824_0242ac1c0002row15_col27\" class=\"data row15 col27\" >0</td>\n",
              "            </tr>\n",
              "            <tr>\n",
              "                        <th id=\"T_998ff52e_5fd4_11eb_b824_0242ac1c0002level0_row16\" class=\"row_heading level0 row16\" >16</th>\n",
              "                        <td id=\"T_998ff52e_5fd4_11eb_b824_0242ac1c0002row16_col0\" class=\"data row16 col0\" >0</td>\n",
              "                        <td id=\"T_998ff52e_5fd4_11eb_b824_0242ac1c0002row16_col1\" class=\"data row16 col1\" >0</td>\n",
              "                        <td id=\"T_998ff52e_5fd4_11eb_b824_0242ac1c0002row16_col2\" class=\"data row16 col2\" >0</td>\n",
              "                        <td id=\"T_998ff52e_5fd4_11eb_b824_0242ac1c0002row16_col3\" class=\"data row16 col3\" >0</td>\n",
              "                        <td id=\"T_998ff52e_5fd4_11eb_b824_0242ac1c0002row16_col4\" class=\"data row16 col4\" >0</td>\n",
              "                        <td id=\"T_998ff52e_5fd4_11eb_b824_0242ac1c0002row16_col5\" class=\"data row16 col5\" >0</td>\n",
              "                        <td id=\"T_998ff52e_5fd4_11eb_b824_0242ac1c0002row16_col6\" class=\"data row16 col6\" >0</td>\n",
              "                        <td id=\"T_998ff52e_5fd4_11eb_b824_0242ac1c0002row16_col7\" class=\"data row16 col7\" >0</td>\n",
              "                        <td id=\"T_998ff52e_5fd4_11eb_b824_0242ac1c0002row16_col8\" class=\"data row16 col8\" >0</td>\n",
              "                        <td id=\"T_998ff52e_5fd4_11eb_b824_0242ac1c0002row16_col9\" class=\"data row16 col9\" >0</td>\n",
              "                        <td id=\"T_998ff52e_5fd4_11eb_b824_0242ac1c0002row16_col10\" class=\"data row16 col10\" >0</td>\n",
              "                        <td id=\"T_998ff52e_5fd4_11eb_b824_0242ac1c0002row16_col11\" class=\"data row16 col11\" >0</td>\n",
              "                        <td id=\"T_998ff52e_5fd4_11eb_b824_0242ac1c0002row16_col12\" class=\"data row16 col12\" >0</td>\n",
              "                        <td id=\"T_998ff52e_5fd4_11eb_b824_0242ac1c0002row16_col13\" class=\"data row16 col13\" >0</td>\n",
              "                        <td id=\"T_998ff52e_5fd4_11eb_b824_0242ac1c0002row16_col14\" class=\"data row16 col14\" >0</td>\n",
              "                        <td id=\"T_998ff52e_5fd4_11eb_b824_0242ac1c0002row16_col15\" class=\"data row16 col15\" >0</td>\n",
              "                        <td id=\"T_998ff52e_5fd4_11eb_b824_0242ac1c0002row16_col16\" class=\"data row16 col16\" >1</td>\n",
              "                        <td id=\"T_998ff52e_5fd4_11eb_b824_0242ac1c0002row16_col17\" class=\"data row16 col17\" >183</td>\n",
              "                        <td id=\"T_998ff52e_5fd4_11eb_b824_0242ac1c0002row16_col18\" class=\"data row16 col18\" >253</td>\n",
              "                        <td id=\"T_998ff52e_5fd4_11eb_b824_0242ac1c0002row16_col19\" class=\"data row16 col19\" >253</td>\n",
              "                        <td id=\"T_998ff52e_5fd4_11eb_b824_0242ac1c0002row16_col20\" class=\"data row16 col20\" >139</td>\n",
              "                        <td id=\"T_998ff52e_5fd4_11eb_b824_0242ac1c0002row16_col21\" class=\"data row16 col21\" >0</td>\n",
              "                        <td id=\"T_998ff52e_5fd4_11eb_b824_0242ac1c0002row16_col22\" class=\"data row16 col22\" >0</td>\n",
              "                        <td id=\"T_998ff52e_5fd4_11eb_b824_0242ac1c0002row16_col23\" class=\"data row16 col23\" >0</td>\n",
              "                        <td id=\"T_998ff52e_5fd4_11eb_b824_0242ac1c0002row16_col24\" class=\"data row16 col24\" >0</td>\n",
              "                        <td id=\"T_998ff52e_5fd4_11eb_b824_0242ac1c0002row16_col25\" class=\"data row16 col25\" >0</td>\n",
              "                        <td id=\"T_998ff52e_5fd4_11eb_b824_0242ac1c0002row16_col26\" class=\"data row16 col26\" >0</td>\n",
              "                        <td id=\"T_998ff52e_5fd4_11eb_b824_0242ac1c0002row16_col27\" class=\"data row16 col27\" >0</td>\n",
              "            </tr>\n",
              "            <tr>\n",
              "                        <th id=\"T_998ff52e_5fd4_11eb_b824_0242ac1c0002level0_row17\" class=\"row_heading level0 row17\" >17</th>\n",
              "                        <td id=\"T_998ff52e_5fd4_11eb_b824_0242ac1c0002row17_col0\" class=\"data row17 col0\" >0</td>\n",
              "                        <td id=\"T_998ff52e_5fd4_11eb_b824_0242ac1c0002row17_col1\" class=\"data row17 col1\" >0</td>\n",
              "                        <td id=\"T_998ff52e_5fd4_11eb_b824_0242ac1c0002row17_col2\" class=\"data row17 col2\" >0</td>\n",
              "                        <td id=\"T_998ff52e_5fd4_11eb_b824_0242ac1c0002row17_col3\" class=\"data row17 col3\" >0</td>\n",
              "                        <td id=\"T_998ff52e_5fd4_11eb_b824_0242ac1c0002row17_col4\" class=\"data row17 col4\" >0</td>\n",
              "                        <td id=\"T_998ff52e_5fd4_11eb_b824_0242ac1c0002row17_col5\" class=\"data row17 col5\" >0</td>\n",
              "                        <td id=\"T_998ff52e_5fd4_11eb_b824_0242ac1c0002row17_col6\" class=\"data row17 col6\" >0</td>\n",
              "                        <td id=\"T_998ff52e_5fd4_11eb_b824_0242ac1c0002row17_col7\" class=\"data row17 col7\" >0</td>\n",
              "                        <td id=\"T_998ff52e_5fd4_11eb_b824_0242ac1c0002row17_col8\" class=\"data row17 col8\" >0</td>\n",
              "                        <td id=\"T_998ff52e_5fd4_11eb_b824_0242ac1c0002row17_col9\" class=\"data row17 col9\" >0</td>\n",
              "                        <td id=\"T_998ff52e_5fd4_11eb_b824_0242ac1c0002row17_col10\" class=\"data row17 col10\" >0</td>\n",
              "                        <td id=\"T_998ff52e_5fd4_11eb_b824_0242ac1c0002row17_col11\" class=\"data row17 col11\" >0</td>\n",
              "                        <td id=\"T_998ff52e_5fd4_11eb_b824_0242ac1c0002row17_col12\" class=\"data row17 col12\" >0</td>\n",
              "                        <td id=\"T_998ff52e_5fd4_11eb_b824_0242ac1c0002row17_col13\" class=\"data row17 col13\" >0</td>\n",
              "                        <td id=\"T_998ff52e_5fd4_11eb_b824_0242ac1c0002row17_col14\" class=\"data row17 col14\" >0</td>\n",
              "                        <td id=\"T_998ff52e_5fd4_11eb_b824_0242ac1c0002row17_col15\" class=\"data row17 col15\" >0</td>\n",
              "                        <td id=\"T_998ff52e_5fd4_11eb_b824_0242ac1c0002row17_col16\" class=\"data row17 col16\" >0</td>\n",
              "                        <td id=\"T_998ff52e_5fd4_11eb_b824_0242ac1c0002row17_col17\" class=\"data row17 col17\" >182</td>\n",
              "                        <td id=\"T_998ff52e_5fd4_11eb_b824_0242ac1c0002row17_col18\" class=\"data row17 col18\" >253</td>\n",
              "                        <td id=\"T_998ff52e_5fd4_11eb_b824_0242ac1c0002row17_col19\" class=\"data row17 col19\" >253</td>\n",
              "                        <td id=\"T_998ff52e_5fd4_11eb_b824_0242ac1c0002row17_col20\" class=\"data row17 col20\" >104</td>\n",
              "                        <td id=\"T_998ff52e_5fd4_11eb_b824_0242ac1c0002row17_col21\" class=\"data row17 col21\" >0</td>\n",
              "                        <td id=\"T_998ff52e_5fd4_11eb_b824_0242ac1c0002row17_col22\" class=\"data row17 col22\" >0</td>\n",
              "                        <td id=\"T_998ff52e_5fd4_11eb_b824_0242ac1c0002row17_col23\" class=\"data row17 col23\" >0</td>\n",
              "                        <td id=\"T_998ff52e_5fd4_11eb_b824_0242ac1c0002row17_col24\" class=\"data row17 col24\" >0</td>\n",
              "                        <td id=\"T_998ff52e_5fd4_11eb_b824_0242ac1c0002row17_col25\" class=\"data row17 col25\" >0</td>\n",
              "                        <td id=\"T_998ff52e_5fd4_11eb_b824_0242ac1c0002row17_col26\" class=\"data row17 col26\" >0</td>\n",
              "                        <td id=\"T_998ff52e_5fd4_11eb_b824_0242ac1c0002row17_col27\" class=\"data row17 col27\" >0</td>\n",
              "            </tr>\n",
              "            <tr>\n",
              "                        <th id=\"T_998ff52e_5fd4_11eb_b824_0242ac1c0002level0_row18\" class=\"row_heading level0 row18\" >18</th>\n",
              "                        <td id=\"T_998ff52e_5fd4_11eb_b824_0242ac1c0002row18_col0\" class=\"data row18 col0\" >0</td>\n",
              "                        <td id=\"T_998ff52e_5fd4_11eb_b824_0242ac1c0002row18_col1\" class=\"data row18 col1\" >0</td>\n",
              "                        <td id=\"T_998ff52e_5fd4_11eb_b824_0242ac1c0002row18_col2\" class=\"data row18 col2\" >0</td>\n",
              "                        <td id=\"T_998ff52e_5fd4_11eb_b824_0242ac1c0002row18_col3\" class=\"data row18 col3\" >0</td>\n",
              "                        <td id=\"T_998ff52e_5fd4_11eb_b824_0242ac1c0002row18_col4\" class=\"data row18 col4\" >0</td>\n",
              "                        <td id=\"T_998ff52e_5fd4_11eb_b824_0242ac1c0002row18_col5\" class=\"data row18 col5\" >0</td>\n",
              "                        <td id=\"T_998ff52e_5fd4_11eb_b824_0242ac1c0002row18_col6\" class=\"data row18 col6\" >0</td>\n",
              "                        <td id=\"T_998ff52e_5fd4_11eb_b824_0242ac1c0002row18_col7\" class=\"data row18 col7\" >0</td>\n",
              "                        <td id=\"T_998ff52e_5fd4_11eb_b824_0242ac1c0002row18_col8\" class=\"data row18 col8\" >0</td>\n",
              "                        <td id=\"T_998ff52e_5fd4_11eb_b824_0242ac1c0002row18_col9\" class=\"data row18 col9\" >0</td>\n",
              "                        <td id=\"T_998ff52e_5fd4_11eb_b824_0242ac1c0002row18_col10\" class=\"data row18 col10\" >0</td>\n",
              "                        <td id=\"T_998ff52e_5fd4_11eb_b824_0242ac1c0002row18_col11\" class=\"data row18 col11\" >0</td>\n",
              "                        <td id=\"T_998ff52e_5fd4_11eb_b824_0242ac1c0002row18_col12\" class=\"data row18 col12\" >0</td>\n",
              "                        <td id=\"T_998ff52e_5fd4_11eb_b824_0242ac1c0002row18_col13\" class=\"data row18 col13\" >0</td>\n",
              "                        <td id=\"T_998ff52e_5fd4_11eb_b824_0242ac1c0002row18_col14\" class=\"data row18 col14\" >0</td>\n",
              "                        <td id=\"T_998ff52e_5fd4_11eb_b824_0242ac1c0002row18_col15\" class=\"data row18 col15\" >0</td>\n",
              "                        <td id=\"T_998ff52e_5fd4_11eb_b824_0242ac1c0002row18_col16\" class=\"data row18 col16\" >85</td>\n",
              "                        <td id=\"T_998ff52e_5fd4_11eb_b824_0242ac1c0002row18_col17\" class=\"data row18 col17\" >249</td>\n",
              "                        <td id=\"T_998ff52e_5fd4_11eb_b824_0242ac1c0002row18_col18\" class=\"data row18 col18\" >253</td>\n",
              "                        <td id=\"T_998ff52e_5fd4_11eb_b824_0242ac1c0002row18_col19\" class=\"data row18 col19\" >253</td>\n",
              "                        <td id=\"T_998ff52e_5fd4_11eb_b824_0242ac1c0002row18_col20\" class=\"data row18 col20\" >36</td>\n",
              "                        <td id=\"T_998ff52e_5fd4_11eb_b824_0242ac1c0002row18_col21\" class=\"data row18 col21\" >0</td>\n",
              "                        <td id=\"T_998ff52e_5fd4_11eb_b824_0242ac1c0002row18_col22\" class=\"data row18 col22\" >0</td>\n",
              "                        <td id=\"T_998ff52e_5fd4_11eb_b824_0242ac1c0002row18_col23\" class=\"data row18 col23\" >0</td>\n",
              "                        <td id=\"T_998ff52e_5fd4_11eb_b824_0242ac1c0002row18_col24\" class=\"data row18 col24\" >0</td>\n",
              "                        <td id=\"T_998ff52e_5fd4_11eb_b824_0242ac1c0002row18_col25\" class=\"data row18 col25\" >0</td>\n",
              "                        <td id=\"T_998ff52e_5fd4_11eb_b824_0242ac1c0002row18_col26\" class=\"data row18 col26\" >0</td>\n",
              "                        <td id=\"T_998ff52e_5fd4_11eb_b824_0242ac1c0002row18_col27\" class=\"data row18 col27\" >0</td>\n",
              "            </tr>\n",
              "            <tr>\n",
              "                        <th id=\"T_998ff52e_5fd4_11eb_b824_0242ac1c0002level0_row19\" class=\"row_heading level0 row19\" >19</th>\n",
              "                        <td id=\"T_998ff52e_5fd4_11eb_b824_0242ac1c0002row19_col0\" class=\"data row19 col0\" >0</td>\n",
              "                        <td id=\"T_998ff52e_5fd4_11eb_b824_0242ac1c0002row19_col1\" class=\"data row19 col1\" >0</td>\n",
              "                        <td id=\"T_998ff52e_5fd4_11eb_b824_0242ac1c0002row19_col2\" class=\"data row19 col2\" >0</td>\n",
              "                        <td id=\"T_998ff52e_5fd4_11eb_b824_0242ac1c0002row19_col3\" class=\"data row19 col3\" >0</td>\n",
              "                        <td id=\"T_998ff52e_5fd4_11eb_b824_0242ac1c0002row19_col4\" class=\"data row19 col4\" >0</td>\n",
              "                        <td id=\"T_998ff52e_5fd4_11eb_b824_0242ac1c0002row19_col5\" class=\"data row19 col5\" >0</td>\n",
              "                        <td id=\"T_998ff52e_5fd4_11eb_b824_0242ac1c0002row19_col6\" class=\"data row19 col6\" >0</td>\n",
              "                        <td id=\"T_998ff52e_5fd4_11eb_b824_0242ac1c0002row19_col7\" class=\"data row19 col7\" >0</td>\n",
              "                        <td id=\"T_998ff52e_5fd4_11eb_b824_0242ac1c0002row19_col8\" class=\"data row19 col8\" >0</td>\n",
              "                        <td id=\"T_998ff52e_5fd4_11eb_b824_0242ac1c0002row19_col9\" class=\"data row19 col9\" >0</td>\n",
              "                        <td id=\"T_998ff52e_5fd4_11eb_b824_0242ac1c0002row19_col10\" class=\"data row19 col10\" >0</td>\n",
              "                        <td id=\"T_998ff52e_5fd4_11eb_b824_0242ac1c0002row19_col11\" class=\"data row19 col11\" >0</td>\n",
              "                        <td id=\"T_998ff52e_5fd4_11eb_b824_0242ac1c0002row19_col12\" class=\"data row19 col12\" >0</td>\n",
              "                        <td id=\"T_998ff52e_5fd4_11eb_b824_0242ac1c0002row19_col13\" class=\"data row19 col13\" >0</td>\n",
              "                        <td id=\"T_998ff52e_5fd4_11eb_b824_0242ac1c0002row19_col14\" class=\"data row19 col14\" >0</td>\n",
              "                        <td id=\"T_998ff52e_5fd4_11eb_b824_0242ac1c0002row19_col15\" class=\"data row19 col15\" >60</td>\n",
              "                        <td id=\"T_998ff52e_5fd4_11eb_b824_0242ac1c0002row19_col16\" class=\"data row19 col16\" >214</td>\n",
              "                        <td id=\"T_998ff52e_5fd4_11eb_b824_0242ac1c0002row19_col17\" class=\"data row19 col17\" >253</td>\n",
              "                        <td id=\"T_998ff52e_5fd4_11eb_b824_0242ac1c0002row19_col18\" class=\"data row19 col18\" >253</td>\n",
              "                        <td id=\"T_998ff52e_5fd4_11eb_b824_0242ac1c0002row19_col19\" class=\"data row19 col19\" >173</td>\n",
              "                        <td id=\"T_998ff52e_5fd4_11eb_b824_0242ac1c0002row19_col20\" class=\"data row19 col20\" >11</td>\n",
              "                        <td id=\"T_998ff52e_5fd4_11eb_b824_0242ac1c0002row19_col21\" class=\"data row19 col21\" >0</td>\n",
              "                        <td id=\"T_998ff52e_5fd4_11eb_b824_0242ac1c0002row19_col22\" class=\"data row19 col22\" >0</td>\n",
              "                        <td id=\"T_998ff52e_5fd4_11eb_b824_0242ac1c0002row19_col23\" class=\"data row19 col23\" >0</td>\n",
              "                        <td id=\"T_998ff52e_5fd4_11eb_b824_0242ac1c0002row19_col24\" class=\"data row19 col24\" >0</td>\n",
              "                        <td id=\"T_998ff52e_5fd4_11eb_b824_0242ac1c0002row19_col25\" class=\"data row19 col25\" >0</td>\n",
              "                        <td id=\"T_998ff52e_5fd4_11eb_b824_0242ac1c0002row19_col26\" class=\"data row19 col26\" >0</td>\n",
              "                        <td id=\"T_998ff52e_5fd4_11eb_b824_0242ac1c0002row19_col27\" class=\"data row19 col27\" >0</td>\n",
              "            </tr>\n",
              "            <tr>\n",
              "                        <th id=\"T_998ff52e_5fd4_11eb_b824_0242ac1c0002level0_row20\" class=\"row_heading level0 row20\" >20</th>\n",
              "                        <td id=\"T_998ff52e_5fd4_11eb_b824_0242ac1c0002row20_col0\" class=\"data row20 col0\" >0</td>\n",
              "                        <td id=\"T_998ff52e_5fd4_11eb_b824_0242ac1c0002row20_col1\" class=\"data row20 col1\" >0</td>\n",
              "                        <td id=\"T_998ff52e_5fd4_11eb_b824_0242ac1c0002row20_col2\" class=\"data row20 col2\" >0</td>\n",
              "                        <td id=\"T_998ff52e_5fd4_11eb_b824_0242ac1c0002row20_col3\" class=\"data row20 col3\" >0</td>\n",
              "                        <td id=\"T_998ff52e_5fd4_11eb_b824_0242ac1c0002row20_col4\" class=\"data row20 col4\" >0</td>\n",
              "                        <td id=\"T_998ff52e_5fd4_11eb_b824_0242ac1c0002row20_col5\" class=\"data row20 col5\" >0</td>\n",
              "                        <td id=\"T_998ff52e_5fd4_11eb_b824_0242ac1c0002row20_col6\" class=\"data row20 col6\" >0</td>\n",
              "                        <td id=\"T_998ff52e_5fd4_11eb_b824_0242ac1c0002row20_col7\" class=\"data row20 col7\" >0</td>\n",
              "                        <td id=\"T_998ff52e_5fd4_11eb_b824_0242ac1c0002row20_col8\" class=\"data row20 col8\" >0</td>\n",
              "                        <td id=\"T_998ff52e_5fd4_11eb_b824_0242ac1c0002row20_col9\" class=\"data row20 col9\" >0</td>\n",
              "                        <td id=\"T_998ff52e_5fd4_11eb_b824_0242ac1c0002row20_col10\" class=\"data row20 col10\" >0</td>\n",
              "                        <td id=\"T_998ff52e_5fd4_11eb_b824_0242ac1c0002row20_col11\" class=\"data row20 col11\" >0</td>\n",
              "                        <td id=\"T_998ff52e_5fd4_11eb_b824_0242ac1c0002row20_col12\" class=\"data row20 col12\" >0</td>\n",
              "                        <td id=\"T_998ff52e_5fd4_11eb_b824_0242ac1c0002row20_col13\" class=\"data row20 col13\" >0</td>\n",
              "                        <td id=\"T_998ff52e_5fd4_11eb_b824_0242ac1c0002row20_col14\" class=\"data row20 col14\" >98</td>\n",
              "                        <td id=\"T_998ff52e_5fd4_11eb_b824_0242ac1c0002row20_col15\" class=\"data row20 col15\" >247</td>\n",
              "                        <td id=\"T_998ff52e_5fd4_11eb_b824_0242ac1c0002row20_col16\" class=\"data row20 col16\" >253</td>\n",
              "                        <td id=\"T_998ff52e_5fd4_11eb_b824_0242ac1c0002row20_col17\" class=\"data row20 col17\" >253</td>\n",
              "                        <td id=\"T_998ff52e_5fd4_11eb_b824_0242ac1c0002row20_col18\" class=\"data row20 col18\" >226</td>\n",
              "                        <td id=\"T_998ff52e_5fd4_11eb_b824_0242ac1c0002row20_col19\" class=\"data row20 col19\" >9</td>\n",
              "                        <td id=\"T_998ff52e_5fd4_11eb_b824_0242ac1c0002row20_col20\" class=\"data row20 col20\" >0</td>\n",
              "                        <td id=\"T_998ff52e_5fd4_11eb_b824_0242ac1c0002row20_col21\" class=\"data row20 col21\" >0</td>\n",
              "                        <td id=\"T_998ff52e_5fd4_11eb_b824_0242ac1c0002row20_col22\" class=\"data row20 col22\" >0</td>\n",
              "                        <td id=\"T_998ff52e_5fd4_11eb_b824_0242ac1c0002row20_col23\" class=\"data row20 col23\" >0</td>\n",
              "                        <td id=\"T_998ff52e_5fd4_11eb_b824_0242ac1c0002row20_col24\" class=\"data row20 col24\" >0</td>\n",
              "                        <td id=\"T_998ff52e_5fd4_11eb_b824_0242ac1c0002row20_col25\" class=\"data row20 col25\" >0</td>\n",
              "                        <td id=\"T_998ff52e_5fd4_11eb_b824_0242ac1c0002row20_col26\" class=\"data row20 col26\" >0</td>\n",
              "                        <td id=\"T_998ff52e_5fd4_11eb_b824_0242ac1c0002row20_col27\" class=\"data row20 col27\" >0</td>\n",
              "            </tr>\n",
              "            <tr>\n",
              "                        <th id=\"T_998ff52e_5fd4_11eb_b824_0242ac1c0002level0_row21\" class=\"row_heading level0 row21\" >21</th>\n",
              "                        <td id=\"T_998ff52e_5fd4_11eb_b824_0242ac1c0002row21_col0\" class=\"data row21 col0\" >0</td>\n",
              "                        <td id=\"T_998ff52e_5fd4_11eb_b824_0242ac1c0002row21_col1\" class=\"data row21 col1\" >0</td>\n",
              "                        <td id=\"T_998ff52e_5fd4_11eb_b824_0242ac1c0002row21_col2\" class=\"data row21 col2\" >0</td>\n",
              "                        <td id=\"T_998ff52e_5fd4_11eb_b824_0242ac1c0002row21_col3\" class=\"data row21 col3\" >0</td>\n",
              "                        <td id=\"T_998ff52e_5fd4_11eb_b824_0242ac1c0002row21_col4\" class=\"data row21 col4\" >0</td>\n",
              "                        <td id=\"T_998ff52e_5fd4_11eb_b824_0242ac1c0002row21_col5\" class=\"data row21 col5\" >0</td>\n",
              "                        <td id=\"T_998ff52e_5fd4_11eb_b824_0242ac1c0002row21_col6\" class=\"data row21 col6\" >0</td>\n",
              "                        <td id=\"T_998ff52e_5fd4_11eb_b824_0242ac1c0002row21_col7\" class=\"data row21 col7\" >0</td>\n",
              "                        <td id=\"T_998ff52e_5fd4_11eb_b824_0242ac1c0002row21_col8\" class=\"data row21 col8\" >0</td>\n",
              "                        <td id=\"T_998ff52e_5fd4_11eb_b824_0242ac1c0002row21_col9\" class=\"data row21 col9\" >0</td>\n",
              "                        <td id=\"T_998ff52e_5fd4_11eb_b824_0242ac1c0002row21_col10\" class=\"data row21 col10\" >0</td>\n",
              "                        <td id=\"T_998ff52e_5fd4_11eb_b824_0242ac1c0002row21_col11\" class=\"data row21 col11\" >0</td>\n",
              "                        <td id=\"T_998ff52e_5fd4_11eb_b824_0242ac1c0002row21_col12\" class=\"data row21 col12\" >42</td>\n",
              "                        <td id=\"T_998ff52e_5fd4_11eb_b824_0242ac1c0002row21_col13\" class=\"data row21 col13\" >150</td>\n",
              "                        <td id=\"T_998ff52e_5fd4_11eb_b824_0242ac1c0002row21_col14\" class=\"data row21 col14\" >252</td>\n",
              "                        <td id=\"T_998ff52e_5fd4_11eb_b824_0242ac1c0002row21_col15\" class=\"data row21 col15\" >253</td>\n",
              "                        <td id=\"T_998ff52e_5fd4_11eb_b824_0242ac1c0002row21_col16\" class=\"data row21 col16\" >253</td>\n",
              "                        <td id=\"T_998ff52e_5fd4_11eb_b824_0242ac1c0002row21_col17\" class=\"data row21 col17\" >233</td>\n",
              "                        <td id=\"T_998ff52e_5fd4_11eb_b824_0242ac1c0002row21_col18\" class=\"data row21 col18\" >53</td>\n",
              "                        <td id=\"T_998ff52e_5fd4_11eb_b824_0242ac1c0002row21_col19\" class=\"data row21 col19\" >0</td>\n",
              "                        <td id=\"T_998ff52e_5fd4_11eb_b824_0242ac1c0002row21_col20\" class=\"data row21 col20\" >0</td>\n",
              "                        <td id=\"T_998ff52e_5fd4_11eb_b824_0242ac1c0002row21_col21\" class=\"data row21 col21\" >0</td>\n",
              "                        <td id=\"T_998ff52e_5fd4_11eb_b824_0242ac1c0002row21_col22\" class=\"data row21 col22\" >0</td>\n",
              "                        <td id=\"T_998ff52e_5fd4_11eb_b824_0242ac1c0002row21_col23\" class=\"data row21 col23\" >0</td>\n",
              "                        <td id=\"T_998ff52e_5fd4_11eb_b824_0242ac1c0002row21_col24\" class=\"data row21 col24\" >0</td>\n",
              "                        <td id=\"T_998ff52e_5fd4_11eb_b824_0242ac1c0002row21_col25\" class=\"data row21 col25\" >0</td>\n",
              "                        <td id=\"T_998ff52e_5fd4_11eb_b824_0242ac1c0002row21_col26\" class=\"data row21 col26\" >0</td>\n",
              "                        <td id=\"T_998ff52e_5fd4_11eb_b824_0242ac1c0002row21_col27\" class=\"data row21 col27\" >0</td>\n",
              "            </tr>\n",
              "            <tr>\n",
              "                        <th id=\"T_998ff52e_5fd4_11eb_b824_0242ac1c0002level0_row22\" class=\"row_heading level0 row22\" >22</th>\n",
              "                        <td id=\"T_998ff52e_5fd4_11eb_b824_0242ac1c0002row22_col0\" class=\"data row22 col0\" >0</td>\n",
              "                        <td id=\"T_998ff52e_5fd4_11eb_b824_0242ac1c0002row22_col1\" class=\"data row22 col1\" >0</td>\n",
              "                        <td id=\"T_998ff52e_5fd4_11eb_b824_0242ac1c0002row22_col2\" class=\"data row22 col2\" >0</td>\n",
              "                        <td id=\"T_998ff52e_5fd4_11eb_b824_0242ac1c0002row22_col3\" class=\"data row22 col3\" >0</td>\n",
              "                        <td id=\"T_998ff52e_5fd4_11eb_b824_0242ac1c0002row22_col4\" class=\"data row22 col4\" >0</td>\n",
              "                        <td id=\"T_998ff52e_5fd4_11eb_b824_0242ac1c0002row22_col5\" class=\"data row22 col5\" >0</td>\n",
              "                        <td id=\"T_998ff52e_5fd4_11eb_b824_0242ac1c0002row22_col6\" class=\"data row22 col6\" >42</td>\n",
              "                        <td id=\"T_998ff52e_5fd4_11eb_b824_0242ac1c0002row22_col7\" class=\"data row22 col7\" >115</td>\n",
              "                        <td id=\"T_998ff52e_5fd4_11eb_b824_0242ac1c0002row22_col8\" class=\"data row22 col8\" >42</td>\n",
              "                        <td id=\"T_998ff52e_5fd4_11eb_b824_0242ac1c0002row22_col9\" class=\"data row22 col9\" >60</td>\n",
              "                        <td id=\"T_998ff52e_5fd4_11eb_b824_0242ac1c0002row22_col10\" class=\"data row22 col10\" >115</td>\n",
              "                        <td id=\"T_998ff52e_5fd4_11eb_b824_0242ac1c0002row22_col11\" class=\"data row22 col11\" >159</td>\n",
              "                        <td id=\"T_998ff52e_5fd4_11eb_b824_0242ac1c0002row22_col12\" class=\"data row22 col12\" >240</td>\n",
              "                        <td id=\"T_998ff52e_5fd4_11eb_b824_0242ac1c0002row22_col13\" class=\"data row22 col13\" >253</td>\n",
              "                        <td id=\"T_998ff52e_5fd4_11eb_b824_0242ac1c0002row22_col14\" class=\"data row22 col14\" >253</td>\n",
              "                        <td id=\"T_998ff52e_5fd4_11eb_b824_0242ac1c0002row22_col15\" class=\"data row22 col15\" >250</td>\n",
              "                        <td id=\"T_998ff52e_5fd4_11eb_b824_0242ac1c0002row22_col16\" class=\"data row22 col16\" >175</td>\n",
              "                        <td id=\"T_998ff52e_5fd4_11eb_b824_0242ac1c0002row22_col17\" class=\"data row22 col17\" >25</td>\n",
              "                        <td id=\"T_998ff52e_5fd4_11eb_b824_0242ac1c0002row22_col18\" class=\"data row22 col18\" >0</td>\n",
              "                        <td id=\"T_998ff52e_5fd4_11eb_b824_0242ac1c0002row22_col19\" class=\"data row22 col19\" >0</td>\n",
              "                        <td id=\"T_998ff52e_5fd4_11eb_b824_0242ac1c0002row22_col20\" class=\"data row22 col20\" >0</td>\n",
              "                        <td id=\"T_998ff52e_5fd4_11eb_b824_0242ac1c0002row22_col21\" class=\"data row22 col21\" >0</td>\n",
              "                        <td id=\"T_998ff52e_5fd4_11eb_b824_0242ac1c0002row22_col22\" class=\"data row22 col22\" >0</td>\n",
              "                        <td id=\"T_998ff52e_5fd4_11eb_b824_0242ac1c0002row22_col23\" class=\"data row22 col23\" >0</td>\n",
              "                        <td id=\"T_998ff52e_5fd4_11eb_b824_0242ac1c0002row22_col24\" class=\"data row22 col24\" >0</td>\n",
              "                        <td id=\"T_998ff52e_5fd4_11eb_b824_0242ac1c0002row22_col25\" class=\"data row22 col25\" >0</td>\n",
              "                        <td id=\"T_998ff52e_5fd4_11eb_b824_0242ac1c0002row22_col26\" class=\"data row22 col26\" >0</td>\n",
              "                        <td id=\"T_998ff52e_5fd4_11eb_b824_0242ac1c0002row22_col27\" class=\"data row22 col27\" >0</td>\n",
              "            </tr>\n",
              "            <tr>\n",
              "                        <th id=\"T_998ff52e_5fd4_11eb_b824_0242ac1c0002level0_row23\" class=\"row_heading level0 row23\" >23</th>\n",
              "                        <td id=\"T_998ff52e_5fd4_11eb_b824_0242ac1c0002row23_col0\" class=\"data row23 col0\" >0</td>\n",
              "                        <td id=\"T_998ff52e_5fd4_11eb_b824_0242ac1c0002row23_col1\" class=\"data row23 col1\" >0</td>\n",
              "                        <td id=\"T_998ff52e_5fd4_11eb_b824_0242ac1c0002row23_col2\" class=\"data row23 col2\" >0</td>\n",
              "                        <td id=\"T_998ff52e_5fd4_11eb_b824_0242ac1c0002row23_col3\" class=\"data row23 col3\" >0</td>\n",
              "                        <td id=\"T_998ff52e_5fd4_11eb_b824_0242ac1c0002row23_col4\" class=\"data row23 col4\" >0</td>\n",
              "                        <td id=\"T_998ff52e_5fd4_11eb_b824_0242ac1c0002row23_col5\" class=\"data row23 col5\" >0</td>\n",
              "                        <td id=\"T_998ff52e_5fd4_11eb_b824_0242ac1c0002row23_col6\" class=\"data row23 col6\" >187</td>\n",
              "                        <td id=\"T_998ff52e_5fd4_11eb_b824_0242ac1c0002row23_col7\" class=\"data row23 col7\" >253</td>\n",
              "                        <td id=\"T_998ff52e_5fd4_11eb_b824_0242ac1c0002row23_col8\" class=\"data row23 col8\" >253</td>\n",
              "                        <td id=\"T_998ff52e_5fd4_11eb_b824_0242ac1c0002row23_col9\" class=\"data row23 col9\" >253</td>\n",
              "                        <td id=\"T_998ff52e_5fd4_11eb_b824_0242ac1c0002row23_col10\" class=\"data row23 col10\" >253</td>\n",
              "                        <td id=\"T_998ff52e_5fd4_11eb_b824_0242ac1c0002row23_col11\" class=\"data row23 col11\" >253</td>\n",
              "                        <td id=\"T_998ff52e_5fd4_11eb_b824_0242ac1c0002row23_col12\" class=\"data row23 col12\" >253</td>\n",
              "                        <td id=\"T_998ff52e_5fd4_11eb_b824_0242ac1c0002row23_col13\" class=\"data row23 col13\" >253</td>\n",
              "                        <td id=\"T_998ff52e_5fd4_11eb_b824_0242ac1c0002row23_col14\" class=\"data row23 col14\" >197</td>\n",
              "                        <td id=\"T_998ff52e_5fd4_11eb_b824_0242ac1c0002row23_col15\" class=\"data row23 col15\" >86</td>\n",
              "                        <td id=\"T_998ff52e_5fd4_11eb_b824_0242ac1c0002row23_col16\" class=\"data row23 col16\" >0</td>\n",
              "                        <td id=\"T_998ff52e_5fd4_11eb_b824_0242ac1c0002row23_col17\" class=\"data row23 col17\" >0</td>\n",
              "                        <td id=\"T_998ff52e_5fd4_11eb_b824_0242ac1c0002row23_col18\" class=\"data row23 col18\" >0</td>\n",
              "                        <td id=\"T_998ff52e_5fd4_11eb_b824_0242ac1c0002row23_col19\" class=\"data row23 col19\" >0</td>\n",
              "                        <td id=\"T_998ff52e_5fd4_11eb_b824_0242ac1c0002row23_col20\" class=\"data row23 col20\" >0</td>\n",
              "                        <td id=\"T_998ff52e_5fd4_11eb_b824_0242ac1c0002row23_col21\" class=\"data row23 col21\" >0</td>\n",
              "                        <td id=\"T_998ff52e_5fd4_11eb_b824_0242ac1c0002row23_col22\" class=\"data row23 col22\" >0</td>\n",
              "                        <td id=\"T_998ff52e_5fd4_11eb_b824_0242ac1c0002row23_col23\" class=\"data row23 col23\" >0</td>\n",
              "                        <td id=\"T_998ff52e_5fd4_11eb_b824_0242ac1c0002row23_col24\" class=\"data row23 col24\" >0</td>\n",
              "                        <td id=\"T_998ff52e_5fd4_11eb_b824_0242ac1c0002row23_col25\" class=\"data row23 col25\" >0</td>\n",
              "                        <td id=\"T_998ff52e_5fd4_11eb_b824_0242ac1c0002row23_col26\" class=\"data row23 col26\" >0</td>\n",
              "                        <td id=\"T_998ff52e_5fd4_11eb_b824_0242ac1c0002row23_col27\" class=\"data row23 col27\" >0</td>\n",
              "            </tr>\n",
              "            <tr>\n",
              "                        <th id=\"T_998ff52e_5fd4_11eb_b824_0242ac1c0002level0_row24\" class=\"row_heading level0 row24\" >24</th>\n",
              "                        <td id=\"T_998ff52e_5fd4_11eb_b824_0242ac1c0002row24_col0\" class=\"data row24 col0\" >0</td>\n",
              "                        <td id=\"T_998ff52e_5fd4_11eb_b824_0242ac1c0002row24_col1\" class=\"data row24 col1\" >0</td>\n",
              "                        <td id=\"T_998ff52e_5fd4_11eb_b824_0242ac1c0002row24_col2\" class=\"data row24 col2\" >0</td>\n",
              "                        <td id=\"T_998ff52e_5fd4_11eb_b824_0242ac1c0002row24_col3\" class=\"data row24 col3\" >0</td>\n",
              "                        <td id=\"T_998ff52e_5fd4_11eb_b824_0242ac1c0002row24_col4\" class=\"data row24 col4\" >0</td>\n",
              "                        <td id=\"T_998ff52e_5fd4_11eb_b824_0242ac1c0002row24_col5\" class=\"data row24 col5\" >0</td>\n",
              "                        <td id=\"T_998ff52e_5fd4_11eb_b824_0242ac1c0002row24_col6\" class=\"data row24 col6\" >103</td>\n",
              "                        <td id=\"T_998ff52e_5fd4_11eb_b824_0242ac1c0002row24_col7\" class=\"data row24 col7\" >253</td>\n",
              "                        <td id=\"T_998ff52e_5fd4_11eb_b824_0242ac1c0002row24_col8\" class=\"data row24 col8\" >253</td>\n",
              "                        <td id=\"T_998ff52e_5fd4_11eb_b824_0242ac1c0002row24_col9\" class=\"data row24 col9\" >253</td>\n",
              "                        <td id=\"T_998ff52e_5fd4_11eb_b824_0242ac1c0002row24_col10\" class=\"data row24 col10\" >253</td>\n",
              "                        <td id=\"T_998ff52e_5fd4_11eb_b824_0242ac1c0002row24_col11\" class=\"data row24 col11\" >253</td>\n",
              "                        <td id=\"T_998ff52e_5fd4_11eb_b824_0242ac1c0002row24_col12\" class=\"data row24 col12\" >232</td>\n",
              "                        <td id=\"T_998ff52e_5fd4_11eb_b824_0242ac1c0002row24_col13\" class=\"data row24 col13\" >67</td>\n",
              "                        <td id=\"T_998ff52e_5fd4_11eb_b824_0242ac1c0002row24_col14\" class=\"data row24 col14\" >1</td>\n",
              "                        <td id=\"T_998ff52e_5fd4_11eb_b824_0242ac1c0002row24_col15\" class=\"data row24 col15\" >0</td>\n",
              "                        <td id=\"T_998ff52e_5fd4_11eb_b824_0242ac1c0002row24_col16\" class=\"data row24 col16\" >0</td>\n",
              "                        <td id=\"T_998ff52e_5fd4_11eb_b824_0242ac1c0002row24_col17\" class=\"data row24 col17\" >0</td>\n",
              "                        <td id=\"T_998ff52e_5fd4_11eb_b824_0242ac1c0002row24_col18\" class=\"data row24 col18\" >0</td>\n",
              "                        <td id=\"T_998ff52e_5fd4_11eb_b824_0242ac1c0002row24_col19\" class=\"data row24 col19\" >0</td>\n",
              "                        <td id=\"T_998ff52e_5fd4_11eb_b824_0242ac1c0002row24_col20\" class=\"data row24 col20\" >0</td>\n",
              "                        <td id=\"T_998ff52e_5fd4_11eb_b824_0242ac1c0002row24_col21\" class=\"data row24 col21\" >0</td>\n",
              "                        <td id=\"T_998ff52e_5fd4_11eb_b824_0242ac1c0002row24_col22\" class=\"data row24 col22\" >0</td>\n",
              "                        <td id=\"T_998ff52e_5fd4_11eb_b824_0242ac1c0002row24_col23\" class=\"data row24 col23\" >0</td>\n",
              "                        <td id=\"T_998ff52e_5fd4_11eb_b824_0242ac1c0002row24_col24\" class=\"data row24 col24\" >0</td>\n",
              "                        <td id=\"T_998ff52e_5fd4_11eb_b824_0242ac1c0002row24_col25\" class=\"data row24 col25\" >0</td>\n",
              "                        <td id=\"T_998ff52e_5fd4_11eb_b824_0242ac1c0002row24_col26\" class=\"data row24 col26\" >0</td>\n",
              "                        <td id=\"T_998ff52e_5fd4_11eb_b824_0242ac1c0002row24_col27\" class=\"data row24 col27\" >0</td>\n",
              "            </tr>\n",
              "            <tr>\n",
              "                        <th id=\"T_998ff52e_5fd4_11eb_b824_0242ac1c0002level0_row25\" class=\"row_heading level0 row25\" >25</th>\n",
              "                        <td id=\"T_998ff52e_5fd4_11eb_b824_0242ac1c0002row25_col0\" class=\"data row25 col0\" >0</td>\n",
              "                        <td id=\"T_998ff52e_5fd4_11eb_b824_0242ac1c0002row25_col1\" class=\"data row25 col1\" >0</td>\n",
              "                        <td id=\"T_998ff52e_5fd4_11eb_b824_0242ac1c0002row25_col2\" class=\"data row25 col2\" >0</td>\n",
              "                        <td id=\"T_998ff52e_5fd4_11eb_b824_0242ac1c0002row25_col3\" class=\"data row25 col3\" >0</td>\n",
              "                        <td id=\"T_998ff52e_5fd4_11eb_b824_0242ac1c0002row25_col4\" class=\"data row25 col4\" >0</td>\n",
              "                        <td id=\"T_998ff52e_5fd4_11eb_b824_0242ac1c0002row25_col5\" class=\"data row25 col5\" >0</td>\n",
              "                        <td id=\"T_998ff52e_5fd4_11eb_b824_0242ac1c0002row25_col6\" class=\"data row25 col6\" >0</td>\n",
              "                        <td id=\"T_998ff52e_5fd4_11eb_b824_0242ac1c0002row25_col7\" class=\"data row25 col7\" >0</td>\n",
              "                        <td id=\"T_998ff52e_5fd4_11eb_b824_0242ac1c0002row25_col8\" class=\"data row25 col8\" >0</td>\n",
              "                        <td id=\"T_998ff52e_5fd4_11eb_b824_0242ac1c0002row25_col9\" class=\"data row25 col9\" >0</td>\n",
              "                        <td id=\"T_998ff52e_5fd4_11eb_b824_0242ac1c0002row25_col10\" class=\"data row25 col10\" >0</td>\n",
              "                        <td id=\"T_998ff52e_5fd4_11eb_b824_0242ac1c0002row25_col11\" class=\"data row25 col11\" >0</td>\n",
              "                        <td id=\"T_998ff52e_5fd4_11eb_b824_0242ac1c0002row25_col12\" class=\"data row25 col12\" >0</td>\n",
              "                        <td id=\"T_998ff52e_5fd4_11eb_b824_0242ac1c0002row25_col13\" class=\"data row25 col13\" >0</td>\n",
              "                        <td id=\"T_998ff52e_5fd4_11eb_b824_0242ac1c0002row25_col14\" class=\"data row25 col14\" >0</td>\n",
              "                        <td id=\"T_998ff52e_5fd4_11eb_b824_0242ac1c0002row25_col15\" class=\"data row25 col15\" >0</td>\n",
              "                        <td id=\"T_998ff52e_5fd4_11eb_b824_0242ac1c0002row25_col16\" class=\"data row25 col16\" >0</td>\n",
              "                        <td id=\"T_998ff52e_5fd4_11eb_b824_0242ac1c0002row25_col17\" class=\"data row25 col17\" >0</td>\n",
              "                        <td id=\"T_998ff52e_5fd4_11eb_b824_0242ac1c0002row25_col18\" class=\"data row25 col18\" >0</td>\n",
              "                        <td id=\"T_998ff52e_5fd4_11eb_b824_0242ac1c0002row25_col19\" class=\"data row25 col19\" >0</td>\n",
              "                        <td id=\"T_998ff52e_5fd4_11eb_b824_0242ac1c0002row25_col20\" class=\"data row25 col20\" >0</td>\n",
              "                        <td id=\"T_998ff52e_5fd4_11eb_b824_0242ac1c0002row25_col21\" class=\"data row25 col21\" >0</td>\n",
              "                        <td id=\"T_998ff52e_5fd4_11eb_b824_0242ac1c0002row25_col22\" class=\"data row25 col22\" >0</td>\n",
              "                        <td id=\"T_998ff52e_5fd4_11eb_b824_0242ac1c0002row25_col23\" class=\"data row25 col23\" >0</td>\n",
              "                        <td id=\"T_998ff52e_5fd4_11eb_b824_0242ac1c0002row25_col24\" class=\"data row25 col24\" >0</td>\n",
              "                        <td id=\"T_998ff52e_5fd4_11eb_b824_0242ac1c0002row25_col25\" class=\"data row25 col25\" >0</td>\n",
              "                        <td id=\"T_998ff52e_5fd4_11eb_b824_0242ac1c0002row25_col26\" class=\"data row25 col26\" >0</td>\n",
              "                        <td id=\"T_998ff52e_5fd4_11eb_b824_0242ac1c0002row25_col27\" class=\"data row25 col27\" >0</td>\n",
              "            </tr>\n",
              "            <tr>\n",
              "                        <th id=\"T_998ff52e_5fd4_11eb_b824_0242ac1c0002level0_row26\" class=\"row_heading level0 row26\" >26</th>\n",
              "                        <td id=\"T_998ff52e_5fd4_11eb_b824_0242ac1c0002row26_col0\" class=\"data row26 col0\" >0</td>\n",
              "                        <td id=\"T_998ff52e_5fd4_11eb_b824_0242ac1c0002row26_col1\" class=\"data row26 col1\" >0</td>\n",
              "                        <td id=\"T_998ff52e_5fd4_11eb_b824_0242ac1c0002row26_col2\" class=\"data row26 col2\" >0</td>\n",
              "                        <td id=\"T_998ff52e_5fd4_11eb_b824_0242ac1c0002row26_col3\" class=\"data row26 col3\" >0</td>\n",
              "                        <td id=\"T_998ff52e_5fd4_11eb_b824_0242ac1c0002row26_col4\" class=\"data row26 col4\" >0</td>\n",
              "                        <td id=\"T_998ff52e_5fd4_11eb_b824_0242ac1c0002row26_col5\" class=\"data row26 col5\" >0</td>\n",
              "                        <td id=\"T_998ff52e_5fd4_11eb_b824_0242ac1c0002row26_col6\" class=\"data row26 col6\" >0</td>\n",
              "                        <td id=\"T_998ff52e_5fd4_11eb_b824_0242ac1c0002row26_col7\" class=\"data row26 col7\" >0</td>\n",
              "                        <td id=\"T_998ff52e_5fd4_11eb_b824_0242ac1c0002row26_col8\" class=\"data row26 col8\" >0</td>\n",
              "                        <td id=\"T_998ff52e_5fd4_11eb_b824_0242ac1c0002row26_col9\" class=\"data row26 col9\" >0</td>\n",
              "                        <td id=\"T_998ff52e_5fd4_11eb_b824_0242ac1c0002row26_col10\" class=\"data row26 col10\" >0</td>\n",
              "                        <td id=\"T_998ff52e_5fd4_11eb_b824_0242ac1c0002row26_col11\" class=\"data row26 col11\" >0</td>\n",
              "                        <td id=\"T_998ff52e_5fd4_11eb_b824_0242ac1c0002row26_col12\" class=\"data row26 col12\" >0</td>\n",
              "                        <td id=\"T_998ff52e_5fd4_11eb_b824_0242ac1c0002row26_col13\" class=\"data row26 col13\" >0</td>\n",
              "                        <td id=\"T_998ff52e_5fd4_11eb_b824_0242ac1c0002row26_col14\" class=\"data row26 col14\" >0</td>\n",
              "                        <td id=\"T_998ff52e_5fd4_11eb_b824_0242ac1c0002row26_col15\" class=\"data row26 col15\" >0</td>\n",
              "                        <td id=\"T_998ff52e_5fd4_11eb_b824_0242ac1c0002row26_col16\" class=\"data row26 col16\" >0</td>\n",
              "                        <td id=\"T_998ff52e_5fd4_11eb_b824_0242ac1c0002row26_col17\" class=\"data row26 col17\" >0</td>\n",
              "                        <td id=\"T_998ff52e_5fd4_11eb_b824_0242ac1c0002row26_col18\" class=\"data row26 col18\" >0</td>\n",
              "                        <td id=\"T_998ff52e_5fd4_11eb_b824_0242ac1c0002row26_col19\" class=\"data row26 col19\" >0</td>\n",
              "                        <td id=\"T_998ff52e_5fd4_11eb_b824_0242ac1c0002row26_col20\" class=\"data row26 col20\" >0</td>\n",
              "                        <td id=\"T_998ff52e_5fd4_11eb_b824_0242ac1c0002row26_col21\" class=\"data row26 col21\" >0</td>\n",
              "                        <td id=\"T_998ff52e_5fd4_11eb_b824_0242ac1c0002row26_col22\" class=\"data row26 col22\" >0</td>\n",
              "                        <td id=\"T_998ff52e_5fd4_11eb_b824_0242ac1c0002row26_col23\" class=\"data row26 col23\" >0</td>\n",
              "                        <td id=\"T_998ff52e_5fd4_11eb_b824_0242ac1c0002row26_col24\" class=\"data row26 col24\" >0</td>\n",
              "                        <td id=\"T_998ff52e_5fd4_11eb_b824_0242ac1c0002row26_col25\" class=\"data row26 col25\" >0</td>\n",
              "                        <td id=\"T_998ff52e_5fd4_11eb_b824_0242ac1c0002row26_col26\" class=\"data row26 col26\" >0</td>\n",
              "                        <td id=\"T_998ff52e_5fd4_11eb_b824_0242ac1c0002row26_col27\" class=\"data row26 col27\" >0</td>\n",
              "            </tr>\n",
              "            <tr>\n",
              "                        <th id=\"T_998ff52e_5fd4_11eb_b824_0242ac1c0002level0_row27\" class=\"row_heading level0 row27\" >27</th>\n",
              "                        <td id=\"T_998ff52e_5fd4_11eb_b824_0242ac1c0002row27_col0\" class=\"data row27 col0\" >0</td>\n",
              "                        <td id=\"T_998ff52e_5fd4_11eb_b824_0242ac1c0002row27_col1\" class=\"data row27 col1\" >0</td>\n",
              "                        <td id=\"T_998ff52e_5fd4_11eb_b824_0242ac1c0002row27_col2\" class=\"data row27 col2\" >0</td>\n",
              "                        <td id=\"T_998ff52e_5fd4_11eb_b824_0242ac1c0002row27_col3\" class=\"data row27 col3\" >0</td>\n",
              "                        <td id=\"T_998ff52e_5fd4_11eb_b824_0242ac1c0002row27_col4\" class=\"data row27 col4\" >0</td>\n",
              "                        <td id=\"T_998ff52e_5fd4_11eb_b824_0242ac1c0002row27_col5\" class=\"data row27 col5\" >0</td>\n",
              "                        <td id=\"T_998ff52e_5fd4_11eb_b824_0242ac1c0002row27_col6\" class=\"data row27 col6\" >0</td>\n",
              "                        <td id=\"T_998ff52e_5fd4_11eb_b824_0242ac1c0002row27_col7\" class=\"data row27 col7\" >0</td>\n",
              "                        <td id=\"T_998ff52e_5fd4_11eb_b824_0242ac1c0002row27_col8\" class=\"data row27 col8\" >0</td>\n",
              "                        <td id=\"T_998ff52e_5fd4_11eb_b824_0242ac1c0002row27_col9\" class=\"data row27 col9\" >0</td>\n",
              "                        <td id=\"T_998ff52e_5fd4_11eb_b824_0242ac1c0002row27_col10\" class=\"data row27 col10\" >0</td>\n",
              "                        <td id=\"T_998ff52e_5fd4_11eb_b824_0242ac1c0002row27_col11\" class=\"data row27 col11\" >0</td>\n",
              "                        <td id=\"T_998ff52e_5fd4_11eb_b824_0242ac1c0002row27_col12\" class=\"data row27 col12\" >0</td>\n",
              "                        <td id=\"T_998ff52e_5fd4_11eb_b824_0242ac1c0002row27_col13\" class=\"data row27 col13\" >0</td>\n",
              "                        <td id=\"T_998ff52e_5fd4_11eb_b824_0242ac1c0002row27_col14\" class=\"data row27 col14\" >0</td>\n",
              "                        <td id=\"T_998ff52e_5fd4_11eb_b824_0242ac1c0002row27_col15\" class=\"data row27 col15\" >0</td>\n",
              "                        <td id=\"T_998ff52e_5fd4_11eb_b824_0242ac1c0002row27_col16\" class=\"data row27 col16\" >0</td>\n",
              "                        <td id=\"T_998ff52e_5fd4_11eb_b824_0242ac1c0002row27_col17\" class=\"data row27 col17\" >0</td>\n",
              "                        <td id=\"T_998ff52e_5fd4_11eb_b824_0242ac1c0002row27_col18\" class=\"data row27 col18\" >0</td>\n",
              "                        <td id=\"T_998ff52e_5fd4_11eb_b824_0242ac1c0002row27_col19\" class=\"data row27 col19\" >0</td>\n",
              "                        <td id=\"T_998ff52e_5fd4_11eb_b824_0242ac1c0002row27_col20\" class=\"data row27 col20\" >0</td>\n",
              "                        <td id=\"T_998ff52e_5fd4_11eb_b824_0242ac1c0002row27_col21\" class=\"data row27 col21\" >0</td>\n",
              "                        <td id=\"T_998ff52e_5fd4_11eb_b824_0242ac1c0002row27_col22\" class=\"data row27 col22\" >0</td>\n",
              "                        <td id=\"T_998ff52e_5fd4_11eb_b824_0242ac1c0002row27_col23\" class=\"data row27 col23\" >0</td>\n",
              "                        <td id=\"T_998ff52e_5fd4_11eb_b824_0242ac1c0002row27_col24\" class=\"data row27 col24\" >0</td>\n",
              "                        <td id=\"T_998ff52e_5fd4_11eb_b824_0242ac1c0002row27_col25\" class=\"data row27 col25\" >0</td>\n",
              "                        <td id=\"T_998ff52e_5fd4_11eb_b824_0242ac1c0002row27_col26\" class=\"data row27 col26\" >0</td>\n",
              "                        <td id=\"T_998ff52e_5fd4_11eb_b824_0242ac1c0002row27_col27\" class=\"data row27 col27\" >0</td>\n",
              "            </tr>\n",
              "    </tbody></table>"
            ],
            "text/plain": [
              "<pandas.io.formats.style.Styler at 0x7fbf6e63e3c8>"
            ]
          },
          "metadata": {
            "tags": []
          },
          "execution_count": 175
        }
      ]
    },
    {
      "cell_type": "code",
      "metadata": {
        "colab": {
          "base_uri": "https://localhost:8080/",
          "height": 628
        },
        "id": "qWIZv6fRHbBc",
        "outputId": "1509d05e-0967-492e-df06-960a88ef532d"
      },
      "source": [
        "# Representing 7 in a df \n",
        "\n",
        "\n",
        "im7_path = sevens[2]\n",
        "im7 = Image.open(im7_path)\n",
        "im7_t = tensor(im7)\n",
        "df = pd.DataFrame(im7_t)\n",
        "df.style.set_properties(**{'font_size':'6pt'}).background_gradient('Greys')"
      ],
      "execution_count": 176,
      "outputs": [
        {
          "output_type": "execute_result",
          "data": {
            "text/html": [
              "<style  type=\"text/css\" >\n",
              "#T_99a77d16_5fd4_11eb_b824_0242ac1c0002row0_col0,#T_99a77d16_5fd4_11eb_b824_0242ac1c0002row0_col1,#T_99a77d16_5fd4_11eb_b824_0242ac1c0002row0_col2,#T_99a77d16_5fd4_11eb_b824_0242ac1c0002row0_col3,#T_99a77d16_5fd4_11eb_b824_0242ac1c0002row0_col4,#T_99a77d16_5fd4_11eb_b824_0242ac1c0002row0_col5,#T_99a77d16_5fd4_11eb_b824_0242ac1c0002row0_col6,#T_99a77d16_5fd4_11eb_b824_0242ac1c0002row0_col7,#T_99a77d16_5fd4_11eb_b824_0242ac1c0002row0_col8,#T_99a77d16_5fd4_11eb_b824_0242ac1c0002row0_col9,#T_99a77d16_5fd4_11eb_b824_0242ac1c0002row0_col10,#T_99a77d16_5fd4_11eb_b824_0242ac1c0002row0_col11,#T_99a77d16_5fd4_11eb_b824_0242ac1c0002row0_col12,#T_99a77d16_5fd4_11eb_b824_0242ac1c0002row0_col13,#T_99a77d16_5fd4_11eb_b824_0242ac1c0002row0_col14,#T_99a77d16_5fd4_11eb_b824_0242ac1c0002row0_col15,#T_99a77d16_5fd4_11eb_b824_0242ac1c0002row0_col16,#T_99a77d16_5fd4_11eb_b824_0242ac1c0002row0_col17,#T_99a77d16_5fd4_11eb_b824_0242ac1c0002row0_col18,#T_99a77d16_5fd4_11eb_b824_0242ac1c0002row0_col19,#T_99a77d16_5fd4_11eb_b824_0242ac1c0002row0_col20,#T_99a77d16_5fd4_11eb_b824_0242ac1c0002row0_col21,#T_99a77d16_5fd4_11eb_b824_0242ac1c0002row0_col22,#T_99a77d16_5fd4_11eb_b824_0242ac1c0002row0_col23,#T_99a77d16_5fd4_11eb_b824_0242ac1c0002row0_col24,#T_99a77d16_5fd4_11eb_b824_0242ac1c0002row0_col25,#T_99a77d16_5fd4_11eb_b824_0242ac1c0002row0_col26,#T_99a77d16_5fd4_11eb_b824_0242ac1c0002row0_col27,#T_99a77d16_5fd4_11eb_b824_0242ac1c0002row1_col0,#T_99a77d16_5fd4_11eb_b824_0242ac1c0002row1_col1,#T_99a77d16_5fd4_11eb_b824_0242ac1c0002row1_col2,#T_99a77d16_5fd4_11eb_b824_0242ac1c0002row1_col3,#T_99a77d16_5fd4_11eb_b824_0242ac1c0002row1_col4,#T_99a77d16_5fd4_11eb_b824_0242ac1c0002row1_col5,#T_99a77d16_5fd4_11eb_b824_0242ac1c0002row1_col6,#T_99a77d16_5fd4_11eb_b824_0242ac1c0002row1_col7,#T_99a77d16_5fd4_11eb_b824_0242ac1c0002row1_col8,#T_99a77d16_5fd4_11eb_b824_0242ac1c0002row1_col9,#T_99a77d16_5fd4_11eb_b824_0242ac1c0002row1_col10,#T_99a77d16_5fd4_11eb_b824_0242ac1c0002row1_col11,#T_99a77d16_5fd4_11eb_b824_0242ac1c0002row1_col12,#T_99a77d16_5fd4_11eb_b824_0242ac1c0002row1_col13,#T_99a77d16_5fd4_11eb_b824_0242ac1c0002row1_col14,#T_99a77d16_5fd4_11eb_b824_0242ac1c0002row1_col15,#T_99a77d16_5fd4_11eb_b824_0242ac1c0002row1_col16,#T_99a77d16_5fd4_11eb_b824_0242ac1c0002row1_col17,#T_99a77d16_5fd4_11eb_b824_0242ac1c0002row1_col18,#T_99a77d16_5fd4_11eb_b824_0242ac1c0002row1_col19,#T_99a77d16_5fd4_11eb_b824_0242ac1c0002row1_col20,#T_99a77d16_5fd4_11eb_b824_0242ac1c0002row1_col21,#T_99a77d16_5fd4_11eb_b824_0242ac1c0002row1_col22,#T_99a77d16_5fd4_11eb_b824_0242ac1c0002row1_col23,#T_99a77d16_5fd4_11eb_b824_0242ac1c0002row1_col24,#T_99a77d16_5fd4_11eb_b824_0242ac1c0002row1_col25,#T_99a77d16_5fd4_11eb_b824_0242ac1c0002row1_col26,#T_99a77d16_5fd4_11eb_b824_0242ac1c0002row1_col27,#T_99a77d16_5fd4_11eb_b824_0242ac1c0002row2_col0,#T_99a77d16_5fd4_11eb_b824_0242ac1c0002row2_col1,#T_99a77d16_5fd4_11eb_b824_0242ac1c0002row2_col2,#T_99a77d16_5fd4_11eb_b824_0242ac1c0002row2_col3,#T_99a77d16_5fd4_11eb_b824_0242ac1c0002row2_col4,#T_99a77d16_5fd4_11eb_b824_0242ac1c0002row2_col5,#T_99a77d16_5fd4_11eb_b824_0242ac1c0002row2_col6,#T_99a77d16_5fd4_11eb_b824_0242ac1c0002row2_col7,#T_99a77d16_5fd4_11eb_b824_0242ac1c0002row2_col8,#T_99a77d16_5fd4_11eb_b824_0242ac1c0002row2_col9,#T_99a77d16_5fd4_11eb_b824_0242ac1c0002row2_col10,#T_99a77d16_5fd4_11eb_b824_0242ac1c0002row2_col11,#T_99a77d16_5fd4_11eb_b824_0242ac1c0002row2_col12,#T_99a77d16_5fd4_11eb_b824_0242ac1c0002row2_col13,#T_99a77d16_5fd4_11eb_b824_0242ac1c0002row2_col14,#T_99a77d16_5fd4_11eb_b824_0242ac1c0002row2_col15,#T_99a77d16_5fd4_11eb_b824_0242ac1c0002row2_col16,#T_99a77d16_5fd4_11eb_b824_0242ac1c0002row2_col17,#T_99a77d16_5fd4_11eb_b824_0242ac1c0002row2_col18,#T_99a77d16_5fd4_11eb_b824_0242ac1c0002row2_col19,#T_99a77d16_5fd4_11eb_b824_0242ac1c0002row2_col20,#T_99a77d16_5fd4_11eb_b824_0242ac1c0002row2_col21,#T_99a77d16_5fd4_11eb_b824_0242ac1c0002row2_col22,#T_99a77d16_5fd4_11eb_b824_0242ac1c0002row2_col23,#T_99a77d16_5fd4_11eb_b824_0242ac1c0002row2_col24,#T_99a77d16_5fd4_11eb_b824_0242ac1c0002row2_col25,#T_99a77d16_5fd4_11eb_b824_0242ac1c0002row2_col26,#T_99a77d16_5fd4_11eb_b824_0242ac1c0002row2_col27,#T_99a77d16_5fd4_11eb_b824_0242ac1c0002row3_col0,#T_99a77d16_5fd4_11eb_b824_0242ac1c0002row3_col1,#T_99a77d16_5fd4_11eb_b824_0242ac1c0002row3_col2,#T_99a77d16_5fd4_11eb_b824_0242ac1c0002row3_col3,#T_99a77d16_5fd4_11eb_b824_0242ac1c0002row3_col4,#T_99a77d16_5fd4_11eb_b824_0242ac1c0002row3_col5,#T_99a77d16_5fd4_11eb_b824_0242ac1c0002row3_col6,#T_99a77d16_5fd4_11eb_b824_0242ac1c0002row3_col7,#T_99a77d16_5fd4_11eb_b824_0242ac1c0002row3_col8,#T_99a77d16_5fd4_11eb_b824_0242ac1c0002row3_col9,#T_99a77d16_5fd4_11eb_b824_0242ac1c0002row3_col10,#T_99a77d16_5fd4_11eb_b824_0242ac1c0002row3_col11,#T_99a77d16_5fd4_11eb_b824_0242ac1c0002row3_col12,#T_99a77d16_5fd4_11eb_b824_0242ac1c0002row3_col13,#T_99a77d16_5fd4_11eb_b824_0242ac1c0002row3_col14,#T_99a77d16_5fd4_11eb_b824_0242ac1c0002row3_col15,#T_99a77d16_5fd4_11eb_b824_0242ac1c0002row3_col16,#T_99a77d16_5fd4_11eb_b824_0242ac1c0002row3_col17,#T_99a77d16_5fd4_11eb_b824_0242ac1c0002row3_col18,#T_99a77d16_5fd4_11eb_b824_0242ac1c0002row3_col19,#T_99a77d16_5fd4_11eb_b824_0242ac1c0002row3_col20,#T_99a77d16_5fd4_11eb_b824_0242ac1c0002row3_col21,#T_99a77d16_5fd4_11eb_b824_0242ac1c0002row3_col22,#T_99a77d16_5fd4_11eb_b824_0242ac1c0002row3_col23,#T_99a77d16_5fd4_11eb_b824_0242ac1c0002row3_col24,#T_99a77d16_5fd4_11eb_b824_0242ac1c0002row3_col25,#T_99a77d16_5fd4_11eb_b824_0242ac1c0002row3_col26,#T_99a77d16_5fd4_11eb_b824_0242ac1c0002row3_col27,#T_99a77d16_5fd4_11eb_b824_0242ac1c0002row4_col0,#T_99a77d16_5fd4_11eb_b824_0242ac1c0002row4_col1,#T_99a77d16_5fd4_11eb_b824_0242ac1c0002row4_col2,#T_99a77d16_5fd4_11eb_b824_0242ac1c0002row4_col3,#T_99a77d16_5fd4_11eb_b824_0242ac1c0002row4_col4,#T_99a77d16_5fd4_11eb_b824_0242ac1c0002row4_col5,#T_99a77d16_5fd4_11eb_b824_0242ac1c0002row4_col6,#T_99a77d16_5fd4_11eb_b824_0242ac1c0002row4_col7,#T_99a77d16_5fd4_11eb_b824_0242ac1c0002row4_col8,#T_99a77d16_5fd4_11eb_b824_0242ac1c0002row4_col9,#T_99a77d16_5fd4_11eb_b824_0242ac1c0002row4_col10,#T_99a77d16_5fd4_11eb_b824_0242ac1c0002row4_col11,#T_99a77d16_5fd4_11eb_b824_0242ac1c0002row4_col12,#T_99a77d16_5fd4_11eb_b824_0242ac1c0002row4_col13,#T_99a77d16_5fd4_11eb_b824_0242ac1c0002row4_col14,#T_99a77d16_5fd4_11eb_b824_0242ac1c0002row4_col15,#T_99a77d16_5fd4_11eb_b824_0242ac1c0002row4_col16,#T_99a77d16_5fd4_11eb_b824_0242ac1c0002row4_col17,#T_99a77d16_5fd4_11eb_b824_0242ac1c0002row4_col18,#T_99a77d16_5fd4_11eb_b824_0242ac1c0002row4_col19,#T_99a77d16_5fd4_11eb_b824_0242ac1c0002row4_col20,#T_99a77d16_5fd4_11eb_b824_0242ac1c0002row4_col21,#T_99a77d16_5fd4_11eb_b824_0242ac1c0002row4_col22,#T_99a77d16_5fd4_11eb_b824_0242ac1c0002row4_col23,#T_99a77d16_5fd4_11eb_b824_0242ac1c0002row4_col24,#T_99a77d16_5fd4_11eb_b824_0242ac1c0002row4_col25,#T_99a77d16_5fd4_11eb_b824_0242ac1c0002row4_col26,#T_99a77d16_5fd4_11eb_b824_0242ac1c0002row4_col27,#T_99a77d16_5fd4_11eb_b824_0242ac1c0002row5_col0,#T_99a77d16_5fd4_11eb_b824_0242ac1c0002row5_col1,#T_99a77d16_5fd4_11eb_b824_0242ac1c0002row5_col2,#T_99a77d16_5fd4_11eb_b824_0242ac1c0002row5_col3,#T_99a77d16_5fd4_11eb_b824_0242ac1c0002row5_col4,#T_99a77d16_5fd4_11eb_b824_0242ac1c0002row5_col5,#T_99a77d16_5fd4_11eb_b824_0242ac1c0002row5_col6,#T_99a77d16_5fd4_11eb_b824_0242ac1c0002row5_col7,#T_99a77d16_5fd4_11eb_b824_0242ac1c0002row5_col8,#T_99a77d16_5fd4_11eb_b824_0242ac1c0002row5_col9,#T_99a77d16_5fd4_11eb_b824_0242ac1c0002row5_col10,#T_99a77d16_5fd4_11eb_b824_0242ac1c0002row5_col11,#T_99a77d16_5fd4_11eb_b824_0242ac1c0002row5_col12,#T_99a77d16_5fd4_11eb_b824_0242ac1c0002row5_col13,#T_99a77d16_5fd4_11eb_b824_0242ac1c0002row5_col14,#T_99a77d16_5fd4_11eb_b824_0242ac1c0002row5_col15,#T_99a77d16_5fd4_11eb_b824_0242ac1c0002row5_col16,#T_99a77d16_5fd4_11eb_b824_0242ac1c0002row5_col17,#T_99a77d16_5fd4_11eb_b824_0242ac1c0002row5_col18,#T_99a77d16_5fd4_11eb_b824_0242ac1c0002row5_col19,#T_99a77d16_5fd4_11eb_b824_0242ac1c0002row5_col20,#T_99a77d16_5fd4_11eb_b824_0242ac1c0002row5_col21,#T_99a77d16_5fd4_11eb_b824_0242ac1c0002row5_col22,#T_99a77d16_5fd4_11eb_b824_0242ac1c0002row5_col23,#T_99a77d16_5fd4_11eb_b824_0242ac1c0002row5_col24,#T_99a77d16_5fd4_11eb_b824_0242ac1c0002row5_col25,#T_99a77d16_5fd4_11eb_b824_0242ac1c0002row5_col26,#T_99a77d16_5fd4_11eb_b824_0242ac1c0002row5_col27,#T_99a77d16_5fd4_11eb_b824_0242ac1c0002row6_col0,#T_99a77d16_5fd4_11eb_b824_0242ac1c0002row6_col1,#T_99a77d16_5fd4_11eb_b824_0242ac1c0002row6_col2,#T_99a77d16_5fd4_11eb_b824_0242ac1c0002row6_col3,#T_99a77d16_5fd4_11eb_b824_0242ac1c0002row6_col4,#T_99a77d16_5fd4_11eb_b824_0242ac1c0002row6_col5,#T_99a77d16_5fd4_11eb_b824_0242ac1c0002row6_col6,#T_99a77d16_5fd4_11eb_b824_0242ac1c0002row6_col7,#T_99a77d16_5fd4_11eb_b824_0242ac1c0002row6_col8,#T_99a77d16_5fd4_11eb_b824_0242ac1c0002row6_col20,#T_99a77d16_5fd4_11eb_b824_0242ac1c0002row6_col21,#T_99a77d16_5fd4_11eb_b824_0242ac1c0002row6_col22,#T_99a77d16_5fd4_11eb_b824_0242ac1c0002row6_col23,#T_99a77d16_5fd4_11eb_b824_0242ac1c0002row6_col24,#T_99a77d16_5fd4_11eb_b824_0242ac1c0002row6_col25,#T_99a77d16_5fd4_11eb_b824_0242ac1c0002row6_col26,#T_99a77d16_5fd4_11eb_b824_0242ac1c0002row6_col27,#T_99a77d16_5fd4_11eb_b824_0242ac1c0002row7_col0,#T_99a77d16_5fd4_11eb_b824_0242ac1c0002row7_col1,#T_99a77d16_5fd4_11eb_b824_0242ac1c0002row7_col2,#T_99a77d16_5fd4_11eb_b824_0242ac1c0002row7_col3,#T_99a77d16_5fd4_11eb_b824_0242ac1c0002row7_col4,#T_99a77d16_5fd4_11eb_b824_0242ac1c0002row7_col20,#T_99a77d16_5fd4_11eb_b824_0242ac1c0002row7_col21,#T_99a77d16_5fd4_11eb_b824_0242ac1c0002row7_col22,#T_99a77d16_5fd4_11eb_b824_0242ac1c0002row7_col23,#T_99a77d16_5fd4_11eb_b824_0242ac1c0002row7_col24,#T_99a77d16_5fd4_11eb_b824_0242ac1c0002row7_col25,#T_99a77d16_5fd4_11eb_b824_0242ac1c0002row7_col26,#T_99a77d16_5fd4_11eb_b824_0242ac1c0002row7_col27,#T_99a77d16_5fd4_11eb_b824_0242ac1c0002row8_col0,#T_99a77d16_5fd4_11eb_b824_0242ac1c0002row8_col1,#T_99a77d16_5fd4_11eb_b824_0242ac1c0002row8_col2,#T_99a77d16_5fd4_11eb_b824_0242ac1c0002row8_col3,#T_99a77d16_5fd4_11eb_b824_0242ac1c0002row8_col4,#T_99a77d16_5fd4_11eb_b824_0242ac1c0002row8_col20,#T_99a77d16_5fd4_11eb_b824_0242ac1c0002row8_col21,#T_99a77d16_5fd4_11eb_b824_0242ac1c0002row8_col22,#T_99a77d16_5fd4_11eb_b824_0242ac1c0002row8_col23,#T_99a77d16_5fd4_11eb_b824_0242ac1c0002row8_col24,#T_99a77d16_5fd4_11eb_b824_0242ac1c0002row8_col25,#T_99a77d16_5fd4_11eb_b824_0242ac1c0002row8_col26,#T_99a77d16_5fd4_11eb_b824_0242ac1c0002row8_col27,#T_99a77d16_5fd4_11eb_b824_0242ac1c0002row9_col0,#T_99a77d16_5fd4_11eb_b824_0242ac1c0002row9_col1,#T_99a77d16_5fd4_11eb_b824_0242ac1c0002row9_col2,#T_99a77d16_5fd4_11eb_b824_0242ac1c0002row9_col3,#T_99a77d16_5fd4_11eb_b824_0242ac1c0002row9_col4,#T_99a77d16_5fd4_11eb_b824_0242ac1c0002row9_col10,#T_99a77d16_5fd4_11eb_b824_0242ac1c0002row9_col11,#T_99a77d16_5fd4_11eb_b824_0242ac1c0002row9_col12,#T_99a77d16_5fd4_11eb_b824_0242ac1c0002row9_col13,#T_99a77d16_5fd4_11eb_b824_0242ac1c0002row9_col14,#T_99a77d16_5fd4_11eb_b824_0242ac1c0002row9_col15,#T_99a77d16_5fd4_11eb_b824_0242ac1c0002row9_col20,#T_99a77d16_5fd4_11eb_b824_0242ac1c0002row9_col21,#T_99a77d16_5fd4_11eb_b824_0242ac1c0002row9_col22,#T_99a77d16_5fd4_11eb_b824_0242ac1c0002row9_col23,#T_99a77d16_5fd4_11eb_b824_0242ac1c0002row9_col24,#T_99a77d16_5fd4_11eb_b824_0242ac1c0002row9_col25,#T_99a77d16_5fd4_11eb_b824_0242ac1c0002row9_col26,#T_99a77d16_5fd4_11eb_b824_0242ac1c0002row9_col27,#T_99a77d16_5fd4_11eb_b824_0242ac1c0002row10_col0,#T_99a77d16_5fd4_11eb_b824_0242ac1c0002row10_col1,#T_99a77d16_5fd4_11eb_b824_0242ac1c0002row10_col2,#T_99a77d16_5fd4_11eb_b824_0242ac1c0002row10_col3,#T_99a77d16_5fd4_11eb_b824_0242ac1c0002row10_col4,#T_99a77d16_5fd4_11eb_b824_0242ac1c0002row10_col8,#T_99a77d16_5fd4_11eb_b824_0242ac1c0002row10_col9,#T_99a77d16_5fd4_11eb_b824_0242ac1c0002row10_col10,#T_99a77d16_5fd4_11eb_b824_0242ac1c0002row10_col11,#T_99a77d16_5fd4_11eb_b824_0242ac1c0002row10_col12,#T_99a77d16_5fd4_11eb_b824_0242ac1c0002row10_col13,#T_99a77d16_5fd4_11eb_b824_0242ac1c0002row10_col14,#T_99a77d16_5fd4_11eb_b824_0242ac1c0002row10_col15,#T_99a77d16_5fd4_11eb_b824_0242ac1c0002row10_col20,#T_99a77d16_5fd4_11eb_b824_0242ac1c0002row10_col21,#T_99a77d16_5fd4_11eb_b824_0242ac1c0002row10_col22,#T_99a77d16_5fd4_11eb_b824_0242ac1c0002row10_col23,#T_99a77d16_5fd4_11eb_b824_0242ac1c0002row10_col24,#T_99a77d16_5fd4_11eb_b824_0242ac1c0002row10_col25,#T_99a77d16_5fd4_11eb_b824_0242ac1c0002row10_col26,#T_99a77d16_5fd4_11eb_b824_0242ac1c0002row10_col27,#T_99a77d16_5fd4_11eb_b824_0242ac1c0002row11_col0,#T_99a77d16_5fd4_11eb_b824_0242ac1c0002row11_col1,#T_99a77d16_5fd4_11eb_b824_0242ac1c0002row11_col2,#T_99a77d16_5fd4_11eb_b824_0242ac1c0002row11_col3,#T_99a77d16_5fd4_11eb_b824_0242ac1c0002row11_col4,#T_99a77d16_5fd4_11eb_b824_0242ac1c0002row11_col5,#T_99a77d16_5fd4_11eb_b824_0242ac1c0002row11_col9,#T_99a77d16_5fd4_11eb_b824_0242ac1c0002row11_col10,#T_99a77d16_5fd4_11eb_b824_0242ac1c0002row11_col11,#T_99a77d16_5fd4_11eb_b824_0242ac1c0002row11_col12,#T_99a77d16_5fd4_11eb_b824_0242ac1c0002row11_col13,#T_99a77d16_5fd4_11eb_b824_0242ac1c0002row11_col14,#T_99a77d16_5fd4_11eb_b824_0242ac1c0002row11_col15,#T_99a77d16_5fd4_11eb_b824_0242ac1c0002row11_col20,#T_99a77d16_5fd4_11eb_b824_0242ac1c0002row11_col21,#T_99a77d16_5fd4_11eb_b824_0242ac1c0002row11_col22,#T_99a77d16_5fd4_11eb_b824_0242ac1c0002row11_col23,#T_99a77d16_5fd4_11eb_b824_0242ac1c0002row11_col24,#T_99a77d16_5fd4_11eb_b824_0242ac1c0002row11_col25,#T_99a77d16_5fd4_11eb_b824_0242ac1c0002row11_col26,#T_99a77d16_5fd4_11eb_b824_0242ac1c0002row11_col27,#T_99a77d16_5fd4_11eb_b824_0242ac1c0002row12_col0,#T_99a77d16_5fd4_11eb_b824_0242ac1c0002row12_col1,#T_99a77d16_5fd4_11eb_b824_0242ac1c0002row12_col2,#T_99a77d16_5fd4_11eb_b824_0242ac1c0002row12_col3,#T_99a77d16_5fd4_11eb_b824_0242ac1c0002row12_col4,#T_99a77d16_5fd4_11eb_b824_0242ac1c0002row12_col5,#T_99a77d16_5fd4_11eb_b824_0242ac1c0002row12_col9,#T_99a77d16_5fd4_11eb_b824_0242ac1c0002row12_col10,#T_99a77d16_5fd4_11eb_b824_0242ac1c0002row12_col11,#T_99a77d16_5fd4_11eb_b824_0242ac1c0002row12_col12,#T_99a77d16_5fd4_11eb_b824_0242ac1c0002row12_col13,#T_99a77d16_5fd4_11eb_b824_0242ac1c0002row12_col14,#T_99a77d16_5fd4_11eb_b824_0242ac1c0002row12_col19,#T_99a77d16_5fd4_11eb_b824_0242ac1c0002row12_col20,#T_99a77d16_5fd4_11eb_b824_0242ac1c0002row12_col21,#T_99a77d16_5fd4_11eb_b824_0242ac1c0002row12_col22,#T_99a77d16_5fd4_11eb_b824_0242ac1c0002row12_col23,#T_99a77d16_5fd4_11eb_b824_0242ac1c0002row12_col24,#T_99a77d16_5fd4_11eb_b824_0242ac1c0002row12_col25,#T_99a77d16_5fd4_11eb_b824_0242ac1c0002row12_col26,#T_99a77d16_5fd4_11eb_b824_0242ac1c0002row12_col27,#T_99a77d16_5fd4_11eb_b824_0242ac1c0002row13_col0,#T_99a77d16_5fd4_11eb_b824_0242ac1c0002row13_col1,#T_99a77d16_5fd4_11eb_b824_0242ac1c0002row13_col2,#T_99a77d16_5fd4_11eb_b824_0242ac1c0002row13_col3,#T_99a77d16_5fd4_11eb_b824_0242ac1c0002row13_col4,#T_99a77d16_5fd4_11eb_b824_0242ac1c0002row13_col5,#T_99a77d16_5fd4_11eb_b824_0242ac1c0002row13_col9,#T_99a77d16_5fd4_11eb_b824_0242ac1c0002row13_col10,#T_99a77d16_5fd4_11eb_b824_0242ac1c0002row13_col11,#T_99a77d16_5fd4_11eb_b824_0242ac1c0002row13_col12,#T_99a77d16_5fd4_11eb_b824_0242ac1c0002row13_col13,#T_99a77d16_5fd4_11eb_b824_0242ac1c0002row13_col14,#T_99a77d16_5fd4_11eb_b824_0242ac1c0002row13_col18,#T_99a77d16_5fd4_11eb_b824_0242ac1c0002row13_col19,#T_99a77d16_5fd4_11eb_b824_0242ac1c0002row13_col20,#T_99a77d16_5fd4_11eb_b824_0242ac1c0002row13_col21,#T_99a77d16_5fd4_11eb_b824_0242ac1c0002row13_col22,#T_99a77d16_5fd4_11eb_b824_0242ac1c0002row13_col23,#T_99a77d16_5fd4_11eb_b824_0242ac1c0002row13_col24,#T_99a77d16_5fd4_11eb_b824_0242ac1c0002row13_col25,#T_99a77d16_5fd4_11eb_b824_0242ac1c0002row13_col26,#T_99a77d16_5fd4_11eb_b824_0242ac1c0002row13_col27,#T_99a77d16_5fd4_11eb_b824_0242ac1c0002row14_col0,#T_99a77d16_5fd4_11eb_b824_0242ac1c0002row14_col1,#T_99a77d16_5fd4_11eb_b824_0242ac1c0002row14_col2,#T_99a77d16_5fd4_11eb_b824_0242ac1c0002row14_col3,#T_99a77d16_5fd4_11eb_b824_0242ac1c0002row14_col4,#T_99a77d16_5fd4_11eb_b824_0242ac1c0002row14_col5,#T_99a77d16_5fd4_11eb_b824_0242ac1c0002row14_col9,#T_99a77d16_5fd4_11eb_b824_0242ac1c0002row14_col10,#T_99a77d16_5fd4_11eb_b824_0242ac1c0002row14_col11,#T_99a77d16_5fd4_11eb_b824_0242ac1c0002row14_col12,#T_99a77d16_5fd4_11eb_b824_0242ac1c0002row14_col13,#T_99a77d16_5fd4_11eb_b824_0242ac1c0002row14_col14,#T_99a77d16_5fd4_11eb_b824_0242ac1c0002row14_col18,#T_99a77d16_5fd4_11eb_b824_0242ac1c0002row14_col19,#T_99a77d16_5fd4_11eb_b824_0242ac1c0002row14_col20,#T_99a77d16_5fd4_11eb_b824_0242ac1c0002row14_col21,#T_99a77d16_5fd4_11eb_b824_0242ac1c0002row14_col22,#T_99a77d16_5fd4_11eb_b824_0242ac1c0002row14_col23,#T_99a77d16_5fd4_11eb_b824_0242ac1c0002row14_col24,#T_99a77d16_5fd4_11eb_b824_0242ac1c0002row14_col25,#T_99a77d16_5fd4_11eb_b824_0242ac1c0002row14_col26,#T_99a77d16_5fd4_11eb_b824_0242ac1c0002row14_col27,#T_99a77d16_5fd4_11eb_b824_0242ac1c0002row15_col0,#T_99a77d16_5fd4_11eb_b824_0242ac1c0002row15_col1,#T_99a77d16_5fd4_11eb_b824_0242ac1c0002row15_col2,#T_99a77d16_5fd4_11eb_b824_0242ac1c0002row15_col3,#T_99a77d16_5fd4_11eb_b824_0242ac1c0002row15_col4,#T_99a77d16_5fd4_11eb_b824_0242ac1c0002row15_col5,#T_99a77d16_5fd4_11eb_b824_0242ac1c0002row15_col8,#T_99a77d16_5fd4_11eb_b824_0242ac1c0002row15_col9,#T_99a77d16_5fd4_11eb_b824_0242ac1c0002row15_col12,#T_99a77d16_5fd4_11eb_b824_0242ac1c0002row15_col13,#T_99a77d16_5fd4_11eb_b824_0242ac1c0002row15_col18,#T_99a77d16_5fd4_11eb_b824_0242ac1c0002row15_col19,#T_99a77d16_5fd4_11eb_b824_0242ac1c0002row15_col20,#T_99a77d16_5fd4_11eb_b824_0242ac1c0002row15_col21,#T_99a77d16_5fd4_11eb_b824_0242ac1c0002row15_col25,#T_99a77d16_5fd4_11eb_b824_0242ac1c0002row15_col26,#T_99a77d16_5fd4_11eb_b824_0242ac1c0002row15_col27,#T_99a77d16_5fd4_11eb_b824_0242ac1c0002row16_col0,#T_99a77d16_5fd4_11eb_b824_0242ac1c0002row16_col1,#T_99a77d16_5fd4_11eb_b824_0242ac1c0002row16_col2,#T_99a77d16_5fd4_11eb_b824_0242ac1c0002row16_col3,#T_99a77d16_5fd4_11eb_b824_0242ac1c0002row16_col4,#T_99a77d16_5fd4_11eb_b824_0242ac1c0002row16_col5,#T_99a77d16_5fd4_11eb_b824_0242ac1c0002row16_col6,#T_99a77d16_5fd4_11eb_b824_0242ac1c0002row16_col7,#T_99a77d16_5fd4_11eb_b824_0242ac1c0002row16_col8,#T_99a77d16_5fd4_11eb_b824_0242ac1c0002row16_col13,#T_99a77d16_5fd4_11eb_b824_0242ac1c0002row16_col17,#T_99a77d16_5fd4_11eb_b824_0242ac1c0002row16_col18,#T_99a77d16_5fd4_11eb_b824_0242ac1c0002row16_col19,#T_99a77d16_5fd4_11eb_b824_0242ac1c0002row16_col20,#T_99a77d16_5fd4_11eb_b824_0242ac1c0002row16_col25,#T_99a77d16_5fd4_11eb_b824_0242ac1c0002row16_col26,#T_99a77d16_5fd4_11eb_b824_0242ac1c0002row16_col27,#T_99a77d16_5fd4_11eb_b824_0242ac1c0002row17_col0,#T_99a77d16_5fd4_11eb_b824_0242ac1c0002row17_col1,#T_99a77d16_5fd4_11eb_b824_0242ac1c0002row17_col2,#T_99a77d16_5fd4_11eb_b824_0242ac1c0002row17_col3,#T_99a77d16_5fd4_11eb_b824_0242ac1c0002row17_col4,#T_99a77d16_5fd4_11eb_b824_0242ac1c0002row17_col5,#T_99a77d16_5fd4_11eb_b824_0242ac1c0002row17_col6,#T_99a77d16_5fd4_11eb_b824_0242ac1c0002row17_col7,#T_99a77d16_5fd4_11eb_b824_0242ac1c0002row17_col8,#T_99a77d16_5fd4_11eb_b824_0242ac1c0002row17_col25,#T_99a77d16_5fd4_11eb_b824_0242ac1c0002row17_col26,#T_99a77d16_5fd4_11eb_b824_0242ac1c0002row17_col27,#T_99a77d16_5fd4_11eb_b824_0242ac1c0002row18_col0,#T_99a77d16_5fd4_11eb_b824_0242ac1c0002row18_col1,#T_99a77d16_5fd4_11eb_b824_0242ac1c0002row18_col2,#T_99a77d16_5fd4_11eb_b824_0242ac1c0002row18_col3,#T_99a77d16_5fd4_11eb_b824_0242ac1c0002row18_col4,#T_99a77d16_5fd4_11eb_b824_0242ac1c0002row18_col5,#T_99a77d16_5fd4_11eb_b824_0242ac1c0002row18_col6,#T_99a77d16_5fd4_11eb_b824_0242ac1c0002row18_col7,#T_99a77d16_5fd4_11eb_b824_0242ac1c0002row18_col8,#T_99a77d16_5fd4_11eb_b824_0242ac1c0002row18_col9,#T_99a77d16_5fd4_11eb_b824_0242ac1c0002row18_col23,#T_99a77d16_5fd4_11eb_b824_0242ac1c0002row18_col24,#T_99a77d16_5fd4_11eb_b824_0242ac1c0002row18_col25,#T_99a77d16_5fd4_11eb_b824_0242ac1c0002row18_col26,#T_99a77d16_5fd4_11eb_b824_0242ac1c0002row18_col27,#T_99a77d16_5fd4_11eb_b824_0242ac1c0002row19_col0,#T_99a77d16_5fd4_11eb_b824_0242ac1c0002row19_col1,#T_99a77d16_5fd4_11eb_b824_0242ac1c0002row19_col2,#T_99a77d16_5fd4_11eb_b824_0242ac1c0002row19_col3,#T_99a77d16_5fd4_11eb_b824_0242ac1c0002row19_col4,#T_99a77d16_5fd4_11eb_b824_0242ac1c0002row19_col5,#T_99a77d16_5fd4_11eb_b824_0242ac1c0002row19_col6,#T_99a77d16_5fd4_11eb_b824_0242ac1c0002row19_col7,#T_99a77d16_5fd4_11eb_b824_0242ac1c0002row19_col8,#T_99a77d16_5fd4_11eb_b824_0242ac1c0002row19_col9,#T_99a77d16_5fd4_11eb_b824_0242ac1c0002row19_col10,#T_99a77d16_5fd4_11eb_b824_0242ac1c0002row19_col21,#T_99a77d16_5fd4_11eb_b824_0242ac1c0002row19_col22,#T_99a77d16_5fd4_11eb_b824_0242ac1c0002row19_col23,#T_99a77d16_5fd4_11eb_b824_0242ac1c0002row19_col24,#T_99a77d16_5fd4_11eb_b824_0242ac1c0002row19_col25,#T_99a77d16_5fd4_11eb_b824_0242ac1c0002row19_col26,#T_99a77d16_5fd4_11eb_b824_0242ac1c0002row19_col27,#T_99a77d16_5fd4_11eb_b824_0242ac1c0002row20_col0,#T_99a77d16_5fd4_11eb_b824_0242ac1c0002row20_col1,#T_99a77d16_5fd4_11eb_b824_0242ac1c0002row20_col2,#T_99a77d16_5fd4_11eb_b824_0242ac1c0002row20_col3,#T_99a77d16_5fd4_11eb_b824_0242ac1c0002row20_col4,#T_99a77d16_5fd4_11eb_b824_0242ac1c0002row20_col5,#T_99a77d16_5fd4_11eb_b824_0242ac1c0002row20_col6,#T_99a77d16_5fd4_11eb_b824_0242ac1c0002row20_col7,#T_99a77d16_5fd4_11eb_b824_0242ac1c0002row20_col8,#T_99a77d16_5fd4_11eb_b824_0242ac1c0002row20_col9,#T_99a77d16_5fd4_11eb_b824_0242ac1c0002row20_col10,#T_99a77d16_5fd4_11eb_b824_0242ac1c0002row20_col11,#T_99a77d16_5fd4_11eb_b824_0242ac1c0002row20_col12,#T_99a77d16_5fd4_11eb_b824_0242ac1c0002row20_col17,#T_99a77d16_5fd4_11eb_b824_0242ac1c0002row20_col18,#T_99a77d16_5fd4_11eb_b824_0242ac1c0002row20_col19,#T_99a77d16_5fd4_11eb_b824_0242ac1c0002row20_col20,#T_99a77d16_5fd4_11eb_b824_0242ac1c0002row20_col21,#T_99a77d16_5fd4_11eb_b824_0242ac1c0002row20_col22,#T_99a77d16_5fd4_11eb_b824_0242ac1c0002row20_col23,#T_99a77d16_5fd4_11eb_b824_0242ac1c0002row20_col24,#T_99a77d16_5fd4_11eb_b824_0242ac1c0002row20_col25,#T_99a77d16_5fd4_11eb_b824_0242ac1c0002row20_col26,#T_99a77d16_5fd4_11eb_b824_0242ac1c0002row20_col27,#T_99a77d16_5fd4_11eb_b824_0242ac1c0002row21_col0,#T_99a77d16_5fd4_11eb_b824_0242ac1c0002row21_col1,#T_99a77d16_5fd4_11eb_b824_0242ac1c0002row21_col2,#T_99a77d16_5fd4_11eb_b824_0242ac1c0002row21_col3,#T_99a77d16_5fd4_11eb_b824_0242ac1c0002row21_col4,#T_99a77d16_5fd4_11eb_b824_0242ac1c0002row21_col5,#T_99a77d16_5fd4_11eb_b824_0242ac1c0002row21_col6,#T_99a77d16_5fd4_11eb_b824_0242ac1c0002row21_col7,#T_99a77d16_5fd4_11eb_b824_0242ac1c0002row21_col8,#T_99a77d16_5fd4_11eb_b824_0242ac1c0002row21_col9,#T_99a77d16_5fd4_11eb_b824_0242ac1c0002row21_col10,#T_99a77d16_5fd4_11eb_b824_0242ac1c0002row21_col11,#T_99a77d16_5fd4_11eb_b824_0242ac1c0002row21_col12,#T_99a77d16_5fd4_11eb_b824_0242ac1c0002row21_col17,#T_99a77d16_5fd4_11eb_b824_0242ac1c0002row21_col18,#T_99a77d16_5fd4_11eb_b824_0242ac1c0002row21_col19,#T_99a77d16_5fd4_11eb_b824_0242ac1c0002row21_col20,#T_99a77d16_5fd4_11eb_b824_0242ac1c0002row21_col21,#T_99a77d16_5fd4_11eb_b824_0242ac1c0002row21_col22,#T_99a77d16_5fd4_11eb_b824_0242ac1c0002row21_col23,#T_99a77d16_5fd4_11eb_b824_0242ac1c0002row21_col24,#T_99a77d16_5fd4_11eb_b824_0242ac1c0002row21_col25,#T_99a77d16_5fd4_11eb_b824_0242ac1c0002row21_col26,#T_99a77d16_5fd4_11eb_b824_0242ac1c0002row21_col27,#T_99a77d16_5fd4_11eb_b824_0242ac1c0002row22_col0,#T_99a77d16_5fd4_11eb_b824_0242ac1c0002row22_col1,#T_99a77d16_5fd4_11eb_b824_0242ac1c0002row22_col2,#T_99a77d16_5fd4_11eb_b824_0242ac1c0002row22_col3,#T_99a77d16_5fd4_11eb_b824_0242ac1c0002row22_col4,#T_99a77d16_5fd4_11eb_b824_0242ac1c0002row22_col5,#T_99a77d16_5fd4_11eb_b824_0242ac1c0002row22_col6,#T_99a77d16_5fd4_11eb_b824_0242ac1c0002row22_col7,#T_99a77d16_5fd4_11eb_b824_0242ac1c0002row22_col8,#T_99a77d16_5fd4_11eb_b824_0242ac1c0002row22_col9,#T_99a77d16_5fd4_11eb_b824_0242ac1c0002row22_col10,#T_99a77d16_5fd4_11eb_b824_0242ac1c0002row22_col11,#T_99a77d16_5fd4_11eb_b824_0242ac1c0002row22_col12,#T_99a77d16_5fd4_11eb_b824_0242ac1c0002row22_col17,#T_99a77d16_5fd4_11eb_b824_0242ac1c0002row22_col18,#T_99a77d16_5fd4_11eb_b824_0242ac1c0002row22_col19,#T_99a77d16_5fd4_11eb_b824_0242ac1c0002row22_col20,#T_99a77d16_5fd4_11eb_b824_0242ac1c0002row22_col21,#T_99a77d16_5fd4_11eb_b824_0242ac1c0002row22_col22,#T_99a77d16_5fd4_11eb_b824_0242ac1c0002row22_col23,#T_99a77d16_5fd4_11eb_b824_0242ac1c0002row22_col24,#T_99a77d16_5fd4_11eb_b824_0242ac1c0002row22_col25,#T_99a77d16_5fd4_11eb_b824_0242ac1c0002row22_col26,#T_99a77d16_5fd4_11eb_b824_0242ac1c0002row22_col27,#T_99a77d16_5fd4_11eb_b824_0242ac1c0002row23_col0,#T_99a77d16_5fd4_11eb_b824_0242ac1c0002row23_col1,#T_99a77d16_5fd4_11eb_b824_0242ac1c0002row23_col2,#T_99a77d16_5fd4_11eb_b824_0242ac1c0002row23_col3,#T_99a77d16_5fd4_11eb_b824_0242ac1c0002row23_col4,#T_99a77d16_5fd4_11eb_b824_0242ac1c0002row23_col5,#T_99a77d16_5fd4_11eb_b824_0242ac1c0002row23_col6,#T_99a77d16_5fd4_11eb_b824_0242ac1c0002row23_col7,#T_99a77d16_5fd4_11eb_b824_0242ac1c0002row23_col8,#T_99a77d16_5fd4_11eb_b824_0242ac1c0002row23_col9,#T_99a77d16_5fd4_11eb_b824_0242ac1c0002row23_col10,#T_99a77d16_5fd4_11eb_b824_0242ac1c0002row23_col11,#T_99a77d16_5fd4_11eb_b824_0242ac1c0002row23_col12,#T_99a77d16_5fd4_11eb_b824_0242ac1c0002row23_col17,#T_99a77d16_5fd4_11eb_b824_0242ac1c0002row23_col18,#T_99a77d16_5fd4_11eb_b824_0242ac1c0002row23_col19,#T_99a77d16_5fd4_11eb_b824_0242ac1c0002row23_col20,#T_99a77d16_5fd4_11eb_b824_0242ac1c0002row23_col21,#T_99a77d16_5fd4_11eb_b824_0242ac1c0002row23_col22,#T_99a77d16_5fd4_11eb_b824_0242ac1c0002row23_col23,#T_99a77d16_5fd4_11eb_b824_0242ac1c0002row23_col24,#T_99a77d16_5fd4_11eb_b824_0242ac1c0002row23_col25,#T_99a77d16_5fd4_11eb_b824_0242ac1c0002row23_col26,#T_99a77d16_5fd4_11eb_b824_0242ac1c0002row23_col27,#T_99a77d16_5fd4_11eb_b824_0242ac1c0002row24_col0,#T_99a77d16_5fd4_11eb_b824_0242ac1c0002row24_col1,#T_99a77d16_5fd4_11eb_b824_0242ac1c0002row24_col2,#T_99a77d16_5fd4_11eb_b824_0242ac1c0002row24_col3,#T_99a77d16_5fd4_11eb_b824_0242ac1c0002row24_col4,#T_99a77d16_5fd4_11eb_b824_0242ac1c0002row24_col5,#T_99a77d16_5fd4_11eb_b824_0242ac1c0002row24_col6,#T_99a77d16_5fd4_11eb_b824_0242ac1c0002row24_col7,#T_99a77d16_5fd4_11eb_b824_0242ac1c0002row24_col8,#T_99a77d16_5fd4_11eb_b824_0242ac1c0002row24_col9,#T_99a77d16_5fd4_11eb_b824_0242ac1c0002row24_col10,#T_99a77d16_5fd4_11eb_b824_0242ac1c0002row24_col11,#T_99a77d16_5fd4_11eb_b824_0242ac1c0002row24_col12,#T_99a77d16_5fd4_11eb_b824_0242ac1c0002row24_col17,#T_99a77d16_5fd4_11eb_b824_0242ac1c0002row24_col18,#T_99a77d16_5fd4_11eb_b824_0242ac1c0002row24_col19,#T_99a77d16_5fd4_11eb_b824_0242ac1c0002row24_col20,#T_99a77d16_5fd4_11eb_b824_0242ac1c0002row24_col21,#T_99a77d16_5fd4_11eb_b824_0242ac1c0002row24_col22,#T_99a77d16_5fd4_11eb_b824_0242ac1c0002row24_col23,#T_99a77d16_5fd4_11eb_b824_0242ac1c0002row24_col24,#T_99a77d16_5fd4_11eb_b824_0242ac1c0002row24_col25,#T_99a77d16_5fd4_11eb_b824_0242ac1c0002row24_col26,#T_99a77d16_5fd4_11eb_b824_0242ac1c0002row24_col27,#T_99a77d16_5fd4_11eb_b824_0242ac1c0002row25_col0,#T_99a77d16_5fd4_11eb_b824_0242ac1c0002row25_col1,#T_99a77d16_5fd4_11eb_b824_0242ac1c0002row25_col2,#T_99a77d16_5fd4_11eb_b824_0242ac1c0002row25_col3,#T_99a77d16_5fd4_11eb_b824_0242ac1c0002row25_col4,#T_99a77d16_5fd4_11eb_b824_0242ac1c0002row25_col5,#T_99a77d16_5fd4_11eb_b824_0242ac1c0002row25_col6,#T_99a77d16_5fd4_11eb_b824_0242ac1c0002row25_col7,#T_99a77d16_5fd4_11eb_b824_0242ac1c0002row25_col8,#T_99a77d16_5fd4_11eb_b824_0242ac1c0002row25_col9,#T_99a77d16_5fd4_11eb_b824_0242ac1c0002row25_col10,#T_99a77d16_5fd4_11eb_b824_0242ac1c0002row25_col11,#T_99a77d16_5fd4_11eb_b824_0242ac1c0002row25_col12,#T_99a77d16_5fd4_11eb_b824_0242ac1c0002row25_col16,#T_99a77d16_5fd4_11eb_b824_0242ac1c0002row25_col17,#T_99a77d16_5fd4_11eb_b824_0242ac1c0002row25_col18,#T_99a77d16_5fd4_11eb_b824_0242ac1c0002row25_col19,#T_99a77d16_5fd4_11eb_b824_0242ac1c0002row25_col20,#T_99a77d16_5fd4_11eb_b824_0242ac1c0002row25_col21,#T_99a77d16_5fd4_11eb_b824_0242ac1c0002row25_col22,#T_99a77d16_5fd4_11eb_b824_0242ac1c0002row25_col23,#T_99a77d16_5fd4_11eb_b824_0242ac1c0002row25_col24,#T_99a77d16_5fd4_11eb_b824_0242ac1c0002row25_col25,#T_99a77d16_5fd4_11eb_b824_0242ac1c0002row25_col26,#T_99a77d16_5fd4_11eb_b824_0242ac1c0002row25_col27,#T_99a77d16_5fd4_11eb_b824_0242ac1c0002row26_col0,#T_99a77d16_5fd4_11eb_b824_0242ac1c0002row26_col1,#T_99a77d16_5fd4_11eb_b824_0242ac1c0002row26_col2,#T_99a77d16_5fd4_11eb_b824_0242ac1c0002row26_col3,#T_99a77d16_5fd4_11eb_b824_0242ac1c0002row26_col4,#T_99a77d16_5fd4_11eb_b824_0242ac1c0002row26_col5,#T_99a77d16_5fd4_11eb_b824_0242ac1c0002row26_col6,#T_99a77d16_5fd4_11eb_b824_0242ac1c0002row26_col7,#T_99a77d16_5fd4_11eb_b824_0242ac1c0002row26_col8,#T_99a77d16_5fd4_11eb_b824_0242ac1c0002row26_col9,#T_99a77d16_5fd4_11eb_b824_0242ac1c0002row26_col10,#T_99a77d16_5fd4_11eb_b824_0242ac1c0002row26_col11,#T_99a77d16_5fd4_11eb_b824_0242ac1c0002row26_col12,#T_99a77d16_5fd4_11eb_b824_0242ac1c0002row26_col13,#T_99a77d16_5fd4_11eb_b824_0242ac1c0002row26_col14,#T_99a77d16_5fd4_11eb_b824_0242ac1c0002row26_col15,#T_99a77d16_5fd4_11eb_b824_0242ac1c0002row26_col16,#T_99a77d16_5fd4_11eb_b824_0242ac1c0002row26_col17,#T_99a77d16_5fd4_11eb_b824_0242ac1c0002row26_col18,#T_99a77d16_5fd4_11eb_b824_0242ac1c0002row26_col19,#T_99a77d16_5fd4_11eb_b824_0242ac1c0002row26_col20,#T_99a77d16_5fd4_11eb_b824_0242ac1c0002row26_col21,#T_99a77d16_5fd4_11eb_b824_0242ac1c0002row26_col22,#T_99a77d16_5fd4_11eb_b824_0242ac1c0002row26_col23,#T_99a77d16_5fd4_11eb_b824_0242ac1c0002row26_col24,#T_99a77d16_5fd4_11eb_b824_0242ac1c0002row26_col25,#T_99a77d16_5fd4_11eb_b824_0242ac1c0002row26_col26,#T_99a77d16_5fd4_11eb_b824_0242ac1c0002row26_col27,#T_99a77d16_5fd4_11eb_b824_0242ac1c0002row27_col0,#T_99a77d16_5fd4_11eb_b824_0242ac1c0002row27_col1,#T_99a77d16_5fd4_11eb_b824_0242ac1c0002row27_col2,#T_99a77d16_5fd4_11eb_b824_0242ac1c0002row27_col3,#T_99a77d16_5fd4_11eb_b824_0242ac1c0002row27_col4,#T_99a77d16_5fd4_11eb_b824_0242ac1c0002row27_col5,#T_99a77d16_5fd4_11eb_b824_0242ac1c0002row27_col6,#T_99a77d16_5fd4_11eb_b824_0242ac1c0002row27_col7,#T_99a77d16_5fd4_11eb_b824_0242ac1c0002row27_col8,#T_99a77d16_5fd4_11eb_b824_0242ac1c0002row27_col9,#T_99a77d16_5fd4_11eb_b824_0242ac1c0002row27_col10,#T_99a77d16_5fd4_11eb_b824_0242ac1c0002row27_col11,#T_99a77d16_5fd4_11eb_b824_0242ac1c0002row27_col12,#T_99a77d16_5fd4_11eb_b824_0242ac1c0002row27_col13,#T_99a77d16_5fd4_11eb_b824_0242ac1c0002row27_col14,#T_99a77d16_5fd4_11eb_b824_0242ac1c0002row27_col15,#T_99a77d16_5fd4_11eb_b824_0242ac1c0002row27_col16,#T_99a77d16_5fd4_11eb_b824_0242ac1c0002row27_col17,#T_99a77d16_5fd4_11eb_b824_0242ac1c0002row27_col18,#T_99a77d16_5fd4_11eb_b824_0242ac1c0002row27_col19,#T_99a77d16_5fd4_11eb_b824_0242ac1c0002row27_col20,#T_99a77d16_5fd4_11eb_b824_0242ac1c0002row27_col21,#T_99a77d16_5fd4_11eb_b824_0242ac1c0002row27_col22,#T_99a77d16_5fd4_11eb_b824_0242ac1c0002row27_col23,#T_99a77d16_5fd4_11eb_b824_0242ac1c0002row27_col24,#T_99a77d16_5fd4_11eb_b824_0242ac1c0002row27_col25,#T_99a77d16_5fd4_11eb_b824_0242ac1c0002row27_col26,#T_99a77d16_5fd4_11eb_b824_0242ac1c0002row27_col27{\n",
              "            font_size:  6pt;\n",
              "            background-color:  #ffffff;\n",
              "            color:  #000000;\n",
              "        }#T_99a77d16_5fd4_11eb_b824_0242ac1c0002row6_col9{\n",
              "            font_size:  6pt;\n",
              "            background-color:  #f9f9f9;\n",
              "            color:  #000000;\n",
              "        }#T_99a77d16_5fd4_11eb_b824_0242ac1c0002row6_col10,#T_99a77d16_5fd4_11eb_b824_0242ac1c0002row11_col16{\n",
              "            font_size:  6pt;\n",
              "            background-color:  #8d8d8d;\n",
              "            color:  #000000;\n",
              "        }#T_99a77d16_5fd4_11eb_b824_0242ac1c0002row6_col11,#T_99a77d16_5fd4_11eb_b824_0242ac1c0002row6_col12,#T_99a77d16_5fd4_11eb_b824_0242ac1c0002row6_col13,#T_99a77d16_5fd4_11eb_b824_0242ac1c0002row6_col15,#T_99a77d16_5fd4_11eb_b824_0242ac1c0002row6_col16{\n",
              "            font_size:  6pt;\n",
              "            background-color:  #7f7f7f;\n",
              "            color:  #000000;\n",
              "        }#T_99a77d16_5fd4_11eb_b824_0242ac1c0002row6_col14,#T_99a77d16_5fd4_11eb_b824_0242ac1c0002row17_col13{\n",
              "            font_size:  6pt;\n",
              "            background-color:  #818181;\n",
              "            color:  #000000;\n",
              "        }#T_99a77d16_5fd4_11eb_b824_0242ac1c0002row6_col17{\n",
              "            font_size:  6pt;\n",
              "            background-color:  #9d9d9d;\n",
              "            color:  #000000;\n",
              "        }#T_99a77d16_5fd4_11eb_b824_0242ac1c0002row6_col18{\n",
              "            font_size:  6pt;\n",
              "            background-color:  #ebebeb;\n",
              "            color:  #000000;\n",
              "        }#T_99a77d16_5fd4_11eb_b824_0242ac1c0002row6_col19,#T_99a77d16_5fd4_11eb_b824_0242ac1c0002row11_col19{\n",
              "            font_size:  6pt;\n",
              "            background-color:  #fefefe;\n",
              "            color:  #000000;\n",
              "        }#T_99a77d16_5fd4_11eb_b824_0242ac1c0002row7_col5,#T_99a77d16_5fd4_11eb_b824_0242ac1c0002row16_col14{\n",
              "            font_size:  6pt;\n",
              "            background-color:  #bebebe;\n",
              "            color:  #000000;\n",
              "        }#T_99a77d16_5fd4_11eb_b824_0242ac1c0002row7_col6,#T_99a77d16_5fd4_11eb_b824_0242ac1c0002row7_col7,#T_99a77d16_5fd4_11eb_b824_0242ac1c0002row7_col8,#T_99a77d16_5fd4_11eb_b824_0242ac1c0002row11_col6,#T_99a77d16_5fd4_11eb_b824_0242ac1c0002row12_col6,#T_99a77d16_5fd4_11eb_b824_0242ac1c0002row13_col6,#T_99a77d16_5fd4_11eb_b824_0242ac1c0002row14_col6{\n",
              "            font_size:  6pt;\n",
              "            background-color:  #575757;\n",
              "            color:  #f1f1f1;\n",
              "        }#T_99a77d16_5fd4_11eb_b824_0242ac1c0002row7_col9{\n",
              "            font_size:  6pt;\n",
              "            background-color:  #393939;\n",
              "            color:  #f1f1f1;\n",
              "        }#T_99a77d16_5fd4_11eb_b824_0242ac1c0002row7_col10,#T_99a77d16_5fd4_11eb_b824_0242ac1c0002row7_col11,#T_99a77d16_5fd4_11eb_b824_0242ac1c0002row7_col12,#T_99a77d16_5fd4_11eb_b824_0242ac1c0002row7_col13,#T_99a77d16_5fd4_11eb_b824_0242ac1c0002row7_col15,#T_99a77d16_5fd4_11eb_b824_0242ac1c0002row7_col16,#T_99a77d16_5fd4_11eb_b824_0242ac1c0002row7_col17,#T_99a77d16_5fd4_11eb_b824_0242ac1c0002row7_col18,#T_99a77d16_5fd4_11eb_b824_0242ac1c0002row8_col5,#T_99a77d16_5fd4_11eb_b824_0242ac1c0002row8_col6,#T_99a77d16_5fd4_11eb_b824_0242ac1c0002row8_col7,#T_99a77d16_5fd4_11eb_b824_0242ac1c0002row8_col8,#T_99a77d16_5fd4_11eb_b824_0242ac1c0002row8_col9,#T_99a77d16_5fd4_11eb_b824_0242ac1c0002row8_col18,#T_99a77d16_5fd4_11eb_b824_0242ac1c0002row9_col6,#T_99a77d16_5fd4_11eb_b824_0242ac1c0002row9_col18,#T_99a77d16_5fd4_11eb_b824_0242ac1c0002row10_col17,#T_99a77d16_5fd4_11eb_b824_0242ac1c0002row10_col18,#T_99a77d16_5fd4_11eb_b824_0242ac1c0002row11_col17,#T_99a77d16_5fd4_11eb_b824_0242ac1c0002row12_col7,#T_99a77d16_5fd4_11eb_b824_0242ac1c0002row13_col7,#T_99a77d16_5fd4_11eb_b824_0242ac1c0002row13_col16,#T_99a77d16_5fd4_11eb_b824_0242ac1c0002row14_col16,#T_99a77d16_5fd4_11eb_b824_0242ac1c0002row16_col15,#T_99a77d16_5fd4_11eb_b824_0242ac1c0002row16_col23,#T_99a77d16_5fd4_11eb_b824_0242ac1c0002row16_col24,#T_99a77d16_5fd4_11eb_b824_0242ac1c0002row17_col11,#T_99a77d16_5fd4_11eb_b824_0242ac1c0002row17_col15,#T_99a77d16_5fd4_11eb_b824_0242ac1c0002row17_col20,#T_99a77d16_5fd4_11eb_b824_0242ac1c0002row17_col21,#T_99a77d16_5fd4_11eb_b824_0242ac1c0002row17_col22,#T_99a77d16_5fd4_11eb_b824_0242ac1c0002row18_col12,#T_99a77d16_5fd4_11eb_b824_0242ac1c0002row18_col13,#T_99a77d16_5fd4_11eb_b824_0242ac1c0002row18_col15,#T_99a77d16_5fd4_11eb_b824_0242ac1c0002row18_col16,#T_99a77d16_5fd4_11eb_b824_0242ac1c0002row18_col17,#T_99a77d16_5fd4_11eb_b824_0242ac1c0002row18_col18,#T_99a77d16_5fd4_11eb_b824_0242ac1c0002row18_col19,#T_99a77d16_5fd4_11eb_b824_0242ac1c0002row18_col20,#T_99a77d16_5fd4_11eb_b824_0242ac1c0002row19_col15,#T_99a77d16_5fd4_11eb_b824_0242ac1c0002row20_col15,#T_99a77d16_5fd4_11eb_b824_0242ac1c0002row21_col14,#T_99a77d16_5fd4_11eb_b824_0242ac1c0002row23_col15{\n",
              "            font_size:  6pt;\n",
              "            background-color:  #000000;\n",
              "            color:  #f1f1f1;\n",
              "        }#T_99a77d16_5fd4_11eb_b824_0242ac1c0002row7_col14,#T_99a77d16_5fd4_11eb_b824_0242ac1c0002row8_col17,#T_99a77d16_5fd4_11eb_b824_0242ac1c0002row18_col14,#T_99a77d16_5fd4_11eb_b824_0242ac1c0002row19_col14,#T_99a77d16_5fd4_11eb_b824_0242ac1c0002row20_col14,#T_99a77d16_5fd4_11eb_b824_0242ac1c0002row22_col14,#T_99a77d16_5fd4_11eb_b824_0242ac1c0002row23_col14,#T_99a77d16_5fd4_11eb_b824_0242ac1c0002row24_col14{\n",
              "            font_size:  6pt;\n",
              "            background-color:  #010101;\n",
              "            color:  #f1f1f1;\n",
              "        }#T_99a77d16_5fd4_11eb_b824_0242ac1c0002row7_col19{\n",
              "            font_size:  6pt;\n",
              "            background-color:  #e8e8e8;\n",
              "            color:  #000000;\n",
              "        }#T_99a77d16_5fd4_11eb_b824_0242ac1c0002row8_col10{\n",
              "            font_size:  6pt;\n",
              "            background-color:  #474747;\n",
              "            color:  #f1f1f1;\n",
              "        }#T_99a77d16_5fd4_11eb_b824_0242ac1c0002row8_col11,#T_99a77d16_5fd4_11eb_b824_0242ac1c0002row8_col12,#T_99a77d16_5fd4_11eb_b824_0242ac1c0002row8_col13,#T_99a77d16_5fd4_11eb_b824_0242ac1c0002row8_col15,#T_99a77d16_5fd4_11eb_b824_0242ac1c0002row10_col7{\n",
              "            font_size:  6pt;\n",
              "            background-color:  #878787;\n",
              "            color:  #000000;\n",
              "        }#T_99a77d16_5fd4_11eb_b824_0242ac1c0002row8_col14{\n",
              "            font_size:  6pt;\n",
              "            background-color:  #888888;\n",
              "            color:  #000000;\n",
              "        }#T_99a77d16_5fd4_11eb_b824_0242ac1c0002row8_col16{\n",
              "            font_size:  6pt;\n",
              "            background-color:  #4a4a4a;\n",
              "            color:  #f1f1f1;\n",
              "        }#T_99a77d16_5fd4_11eb_b824_0242ac1c0002row8_col19,#T_99a77d16_5fd4_11eb_b824_0242ac1c0002row21_col13{\n",
              "            font_size:  6pt;\n",
              "            background-color:  #a0a0a0;\n",
              "            color:  #000000;\n",
              "        }#T_99a77d16_5fd4_11eb_b824_0242ac1c0002row9_col5{\n",
              "            font_size:  6pt;\n",
              "            background-color:  #949494;\n",
              "            color:  #000000;\n",
              "        }#T_99a77d16_5fd4_11eb_b824_0242ac1c0002row9_col7,#T_99a77d16_5fd4_11eb_b824_0242ac1c0002row17_col23{\n",
              "            font_size:  6pt;\n",
              "            background-color:  #181818;\n",
              "            color:  #f1f1f1;\n",
              "        }#T_99a77d16_5fd4_11eb_b824_0242ac1c0002row9_col8,#T_99a77d16_5fd4_11eb_b824_0242ac1c0002row12_col8,#T_99a77d16_5fd4_11eb_b824_0242ac1c0002row13_col8{\n",
              "            font_size:  6pt;\n",
              "            background-color:  #b4b4b4;\n",
              "            color:  #000000;\n",
              "        }#T_99a77d16_5fd4_11eb_b824_0242ac1c0002row9_col9,#T_99a77d16_5fd4_11eb_b824_0242ac1c0002row19_col18{\n",
              "            font_size:  6pt;\n",
              "            background-color:  #d4d4d4;\n",
              "            color:  #000000;\n",
              "        }#T_99a77d16_5fd4_11eb_b824_0242ac1c0002row9_col16,#T_99a77d16_5fd4_11eb_b824_0242ac1c0002row11_col8,#T_99a77d16_5fd4_11eb_b824_0242ac1c0002row21_col16{\n",
              "            font_size:  6pt;\n",
              "            background-color:  #fdfdfd;\n",
              "            color:  #000000;\n",
              "        }#T_99a77d16_5fd4_11eb_b824_0242ac1c0002row9_col17{\n",
              "            font_size:  6pt;\n",
              "            background-color:  #5a5a5a;\n",
              "            color:  #f1f1f1;\n",
              "        }#T_99a77d16_5fd4_11eb_b824_0242ac1c0002row9_col19{\n",
              "            font_size:  6pt;\n",
              "            background-color:  #b6b6b6;\n",
              "            color:  #000000;\n",
              "        }#T_99a77d16_5fd4_11eb_b824_0242ac1c0002row10_col5{\n",
              "            font_size:  6pt;\n",
              "            background-color:  #f3f3f3;\n",
              "            color:  #000000;\n",
              "        }#T_99a77d16_5fd4_11eb_b824_0242ac1c0002row10_col6,#T_99a77d16_5fd4_11eb_b824_0242ac1c0002row18_col11{\n",
              "            font_size:  6pt;\n",
              "            background-color:  #1a1a1a;\n",
              "            color:  #f1f1f1;\n",
              "        }#T_99a77d16_5fd4_11eb_b824_0242ac1c0002row10_col16{\n",
              "            font_size:  6pt;\n",
              "            background-color:  #dedede;\n",
              "            color:  #000000;\n",
              "        }#T_99a77d16_5fd4_11eb_b824_0242ac1c0002row10_col19{\n",
              "            font_size:  6pt;\n",
              "            background-color:  #fafafa;\n",
              "            color:  #000000;\n",
              "        }#T_99a77d16_5fd4_11eb_b824_0242ac1c0002row11_col7{\n",
              "            font_size:  6pt;\n",
              "            background-color:  #131313;\n",
              "            color:  #f1f1f1;\n",
              "        }#T_99a77d16_5fd4_11eb_b824_0242ac1c0002row11_col18{\n",
              "            font_size:  6pt;\n",
              "            background-color:  #6b6b6b;\n",
              "            color:  #000000;\n",
              "        }#T_99a77d16_5fd4_11eb_b824_0242ac1c0002row12_col15,#T_99a77d16_5fd4_11eb_b824_0242ac1c0002row20_col13{\n",
              "            font_size:  6pt;\n",
              "            background-color:  #f7f7f7;\n",
              "            color:  #000000;\n",
              "        }#T_99a77d16_5fd4_11eb_b824_0242ac1c0002row12_col16{\n",
              "            font_size:  6pt;\n",
              "            background-color:  #0e0e0e;\n",
              "            color:  #f1f1f1;\n",
              "        }#T_99a77d16_5fd4_11eb_b824_0242ac1c0002row12_col17,#T_99a77d16_5fd4_11eb_b824_0242ac1c0002row14_col7,#T_99a77d16_5fd4_11eb_b824_0242ac1c0002row17_col12{\n",
              "            font_size:  6pt;\n",
              "            background-color:  #0d0d0d;\n",
              "            color:  #f1f1f1;\n",
              "        }#T_99a77d16_5fd4_11eb_b824_0242ac1c0002row12_col18{\n",
              "            font_size:  6pt;\n",
              "            background-color:  #cacaca;\n",
              "            color:  #000000;\n",
              "        }#T_99a77d16_5fd4_11eb_b824_0242ac1c0002row13_col15{\n",
              "            font_size:  6pt;\n",
              "            background-color:  #939393;\n",
              "            color:  #000000;\n",
              "        }#T_99a77d16_5fd4_11eb_b824_0242ac1c0002row13_col17{\n",
              "            font_size:  6pt;\n",
              "            background-color:  #4b4b4b;\n",
              "            color:  #f1f1f1;\n",
              "        }#T_99a77d16_5fd4_11eb_b824_0242ac1c0002row14_col8{\n",
              "            font_size:  6pt;\n",
              "            background-color:  #fbfbfb;\n",
              "            color:  #000000;\n",
              "        }#T_99a77d16_5fd4_11eb_b824_0242ac1c0002row14_col15{\n",
              "            font_size:  6pt;\n",
              "            background-color:  #434343;\n",
              "            color:  #f1f1f1;\n",
              "        }#T_99a77d16_5fd4_11eb_b824_0242ac1c0002row14_col17,#T_99a77d16_5fd4_11eb_b824_0242ac1c0002row22_col16{\n",
              "            font_size:  6pt;\n",
              "            background-color:  #868686;\n",
              "            color:  #000000;\n",
              "        }#T_99a77d16_5fd4_11eb_b824_0242ac1c0002row15_col6{\n",
              "            font_size:  6pt;\n",
              "            background-color:  #828282;\n",
              "            color:  #000000;\n",
              "        }#T_99a77d16_5fd4_11eb_b824_0242ac1c0002row15_col7{\n",
              "            font_size:  6pt;\n",
              "            background-color:  #aaaaaa;\n",
              "            color:  #000000;\n",
              "        }#T_99a77d16_5fd4_11eb_b824_0242ac1c0002row15_col10,#T_99a77d16_5fd4_11eb_b824_0242ac1c0002row19_col19{\n",
              "            font_size:  6pt;\n",
              "            background-color:  #e4e4e4;\n",
              "            color:  #000000;\n",
              "        }#T_99a77d16_5fd4_11eb_b824_0242ac1c0002row15_col11{\n",
              "            font_size:  6pt;\n",
              "            background-color:  #f5f5f5;\n",
              "            color:  #000000;\n",
              "        }#T_99a77d16_5fd4_11eb_b824_0242ac1c0002row15_col14,#T_99a77d16_5fd4_11eb_b824_0242ac1c0002row15_col24{\n",
              "            font_size:  6pt;\n",
              "            background-color:  #eeeeee;\n",
              "            color:  #000000;\n",
              "        }#T_99a77d16_5fd4_11eb_b824_0242ac1c0002row15_col15{\n",
              "            font_size:  6pt;\n",
              "            background-color:  #161616;\n",
              "            color:  #f1f1f1;\n",
              "        }#T_99a77d16_5fd4_11eb_b824_0242ac1c0002row15_col16{\n",
              "            font_size:  6pt;\n",
              "            background-color:  #2c2c2c;\n",
              "            color:  #f1f1f1;\n",
              "        }#T_99a77d16_5fd4_11eb_b824_0242ac1c0002row15_col17{\n",
              "            font_size:  6pt;\n",
              "            background-color:  #f0f0f0;\n",
              "            color:  #000000;\n",
              "        }#T_99a77d16_5fd4_11eb_b824_0242ac1c0002row15_col22{\n",
              "            font_size:  6pt;\n",
              "            background-color:  #fcfcfc;\n",
              "            color:  #000000;\n",
              "        }#T_99a77d16_5fd4_11eb_b824_0242ac1c0002row15_col23{\n",
              "            font_size:  6pt;\n",
              "            background-color:  #dfdfdf;\n",
              "            color:  #000000;\n",
              "        }#T_99a77d16_5fd4_11eb_b824_0242ac1c0002row16_col9{\n",
              "            font_size:  6pt;\n",
              "            background-color:  #d8d8d8;\n",
              "            color:  #000000;\n",
              "        }#T_99a77d16_5fd4_11eb_b824_0242ac1c0002row16_col10{\n",
              "            font_size:  6pt;\n",
              "            background-color:  #060606;\n",
              "            color:  #f1f1f1;\n",
              "        }#T_99a77d16_5fd4_11eb_b824_0242ac1c0002row16_col11{\n",
              "            font_size:  6pt;\n",
              "            background-color:  #272727;\n",
              "            color:  #f1f1f1;\n",
              "        }#T_99a77d16_5fd4_11eb_b824_0242ac1c0002row16_col12{\n",
              "            font_size:  6pt;\n",
              "            background-color:  #e5e5e5;\n",
              "            color:  #000000;\n",
              "        }#T_99a77d16_5fd4_11eb_b824_0242ac1c0002row16_col16{\n",
              "            font_size:  6pt;\n",
              "            background-color:  #999999;\n",
              "            color:  #000000;\n",
              "        }#T_99a77d16_5fd4_11eb_b824_0242ac1c0002row16_col21{\n",
              "            font_size:  6pt;\n",
              "            background-color:  #cccccc;\n",
              "            color:  #000000;\n",
              "        }#T_99a77d16_5fd4_11eb_b824_0242ac1c0002row16_col22{\n",
              "            font_size:  6pt;\n",
              "            background-color:  #a5a5a5;\n",
              "            color:  #000000;\n",
              "        }#T_99a77d16_5fd4_11eb_b824_0242ac1c0002row17_col9{\n",
              "            font_size:  6pt;\n",
              "            background-color:  #cfcfcf;\n",
              "            color:  #000000;\n",
              "        }#T_99a77d16_5fd4_11eb_b824_0242ac1c0002row17_col10{\n",
              "            font_size:  6pt;\n",
              "            background-color:  #020202;\n",
              "            color:  #f1f1f1;\n",
              "        }#T_99a77d16_5fd4_11eb_b824_0242ac1c0002row17_col14{\n",
              "            font_size:  6pt;\n",
              "            background-color:  #070707;\n",
              "            color:  #f1f1f1;\n",
              "        }#T_99a77d16_5fd4_11eb_b824_0242ac1c0002row17_col16,#T_99a77d16_5fd4_11eb_b824_0242ac1c0002row21_col15{\n",
              "            font_size:  6pt;\n",
              "            background-color:  #515151;\n",
              "            color:  #f1f1f1;\n",
              "        }#T_99a77d16_5fd4_11eb_b824_0242ac1c0002row17_col17{\n",
              "            font_size:  6pt;\n",
              "            background-color:  #929292;\n",
              "            color:  #000000;\n",
              "        }#T_99a77d16_5fd4_11eb_b824_0242ac1c0002row17_col18,#T_99a77d16_5fd4_11eb_b824_0242ac1c0002row23_col16{\n",
              "            font_size:  6pt;\n",
              "            background-color:  #292929;\n",
              "            color:  #f1f1f1;\n",
              "        }#T_99a77d16_5fd4_11eb_b824_0242ac1c0002row17_col19{\n",
              "            font_size:  6pt;\n",
              "            background-color:  #111111;\n",
              "            color:  #f1f1f1;\n",
              "        }#T_99a77d16_5fd4_11eb_b824_0242ac1c0002row17_col24{\n",
              "            font_size:  6pt;\n",
              "            background-color:  #e2e2e2;\n",
              "            color:  #000000;\n",
              "        }#T_99a77d16_5fd4_11eb_b824_0242ac1c0002row18_col10{\n",
              "            font_size:  6pt;\n",
              "            background-color:  #626262;\n",
              "            color:  #f1f1f1;\n",
              "        }#T_99a77d16_5fd4_11eb_b824_0242ac1c0002row18_col21{\n",
              "            font_size:  6pt;\n",
              "            background-color:  #7b7b7b;\n",
              "            color:  #000000;\n",
              "        }#T_99a77d16_5fd4_11eb_b824_0242ac1c0002row18_col22,#T_99a77d16_5fd4_11eb_b824_0242ac1c0002row25_col14{\n",
              "            font_size:  6pt;\n",
              "            background-color:  #cdcdcd;\n",
              "            color:  #000000;\n",
              "        }#T_99a77d16_5fd4_11eb_b824_0242ac1c0002row19_col11{\n",
              "            font_size:  6pt;\n",
              "            background-color:  #f1f1f1;\n",
              "            color:  #000000;\n",
              "        }#T_99a77d16_5fd4_11eb_b824_0242ac1c0002row19_col12{\n",
              "            font_size:  6pt;\n",
              "            background-color:  #919191;\n",
              "            color:  #000000;\n",
              "        }#T_99a77d16_5fd4_11eb_b824_0242ac1c0002row19_col13{\n",
              "            font_size:  6pt;\n",
              "            background-color:  #6e6e6e;\n",
              "            color:  #000000;\n",
              "        }#T_99a77d16_5fd4_11eb_b824_0242ac1c0002row19_col16{\n",
              "            font_size:  6pt;\n",
              "            background-color:  #3f3f3f;\n",
              "            color:  #f1f1f1;\n",
              "        }#T_99a77d16_5fd4_11eb_b824_0242ac1c0002row19_col17{\n",
              "            font_size:  6pt;\n",
              "            background-color:  #767676;\n",
              "            color:  #000000;\n",
              "        }#T_99a77d16_5fd4_11eb_b824_0242ac1c0002row19_col20{\n",
              "            font_size:  6pt;\n",
              "            background-color:  #ececec;\n",
              "            color:  #000000;\n",
              "        }#T_99a77d16_5fd4_11eb_b824_0242ac1c0002row20_col16{\n",
              "            font_size:  6pt;\n",
              "            background-color:  #f6f6f6;\n",
              "            color:  #000000;\n",
              "        }#T_99a77d16_5fd4_11eb_b824_0242ac1c0002row22_col13,#T_99a77d16_5fd4_11eb_b824_0242ac1c0002row23_col13,#T_99a77d16_5fd4_11eb_b824_0242ac1c0002row24_col13{\n",
              "            font_size:  6pt;\n",
              "            background-color:  #171717;\n",
              "            color:  #f1f1f1;\n",
              "        }#T_99a77d16_5fd4_11eb_b824_0242ac1c0002row22_col15{\n",
              "            font_size:  6pt;\n",
              "            background-color:  #464646;\n",
              "            color:  #f1f1f1;\n",
              "        }#T_99a77d16_5fd4_11eb_b824_0242ac1c0002row24_col15{\n",
              "            font_size:  6pt;\n",
              "            background-color:  #1d1d1d;\n",
              "            color:  #f1f1f1;\n",
              "        }#T_99a77d16_5fd4_11eb_b824_0242ac1c0002row24_col16{\n",
              "            font_size:  6pt;\n",
              "            background-color:  #e7e7e7;\n",
              "            color:  #000000;\n",
              "        }#T_99a77d16_5fd4_11eb_b824_0242ac1c0002row25_col13{\n",
              "            font_size:  6pt;\n",
              "            background-color:  #c4c4c4;\n",
              "            color:  #000000;\n",
              "        }#T_99a77d16_5fd4_11eb_b824_0242ac1c0002row25_col15{\n",
              "            font_size:  6pt;\n",
              "            background-color:  #f4f4f4;\n",
              "            color:  #000000;\n",
              "        }</style><table id=\"T_99a77d16_5fd4_11eb_b824_0242ac1c0002\" ><thead>    <tr>        <th class=\"blank level0\" ></th>        <th class=\"col_heading level0 col0\" >0</th>        <th class=\"col_heading level0 col1\" >1</th>        <th class=\"col_heading level0 col2\" >2</th>        <th class=\"col_heading level0 col3\" >3</th>        <th class=\"col_heading level0 col4\" >4</th>        <th class=\"col_heading level0 col5\" >5</th>        <th class=\"col_heading level0 col6\" >6</th>        <th class=\"col_heading level0 col7\" >7</th>        <th class=\"col_heading level0 col8\" >8</th>        <th class=\"col_heading level0 col9\" >9</th>        <th class=\"col_heading level0 col10\" >10</th>        <th class=\"col_heading level0 col11\" >11</th>        <th class=\"col_heading level0 col12\" >12</th>        <th class=\"col_heading level0 col13\" >13</th>        <th class=\"col_heading level0 col14\" >14</th>        <th class=\"col_heading level0 col15\" >15</th>        <th class=\"col_heading level0 col16\" >16</th>        <th class=\"col_heading level0 col17\" >17</th>        <th class=\"col_heading level0 col18\" >18</th>        <th class=\"col_heading level0 col19\" >19</th>        <th class=\"col_heading level0 col20\" >20</th>        <th class=\"col_heading level0 col21\" >21</th>        <th class=\"col_heading level0 col22\" >22</th>        <th class=\"col_heading level0 col23\" >23</th>        <th class=\"col_heading level0 col24\" >24</th>        <th class=\"col_heading level0 col25\" >25</th>        <th class=\"col_heading level0 col26\" >26</th>        <th class=\"col_heading level0 col27\" >27</th>    </tr></thead><tbody>\n",
              "                <tr>\n",
              "                        <th id=\"T_99a77d16_5fd4_11eb_b824_0242ac1c0002level0_row0\" class=\"row_heading level0 row0\" >0</th>\n",
              "                        <td id=\"T_99a77d16_5fd4_11eb_b824_0242ac1c0002row0_col0\" class=\"data row0 col0\" >0</td>\n",
              "                        <td id=\"T_99a77d16_5fd4_11eb_b824_0242ac1c0002row0_col1\" class=\"data row0 col1\" >0</td>\n",
              "                        <td id=\"T_99a77d16_5fd4_11eb_b824_0242ac1c0002row0_col2\" class=\"data row0 col2\" >0</td>\n",
              "                        <td id=\"T_99a77d16_5fd4_11eb_b824_0242ac1c0002row0_col3\" class=\"data row0 col3\" >0</td>\n",
              "                        <td id=\"T_99a77d16_5fd4_11eb_b824_0242ac1c0002row0_col4\" class=\"data row0 col4\" >0</td>\n",
              "                        <td id=\"T_99a77d16_5fd4_11eb_b824_0242ac1c0002row0_col5\" class=\"data row0 col5\" >0</td>\n",
              "                        <td id=\"T_99a77d16_5fd4_11eb_b824_0242ac1c0002row0_col6\" class=\"data row0 col6\" >0</td>\n",
              "                        <td id=\"T_99a77d16_5fd4_11eb_b824_0242ac1c0002row0_col7\" class=\"data row0 col7\" >0</td>\n",
              "                        <td id=\"T_99a77d16_5fd4_11eb_b824_0242ac1c0002row0_col8\" class=\"data row0 col8\" >0</td>\n",
              "                        <td id=\"T_99a77d16_5fd4_11eb_b824_0242ac1c0002row0_col9\" class=\"data row0 col9\" >0</td>\n",
              "                        <td id=\"T_99a77d16_5fd4_11eb_b824_0242ac1c0002row0_col10\" class=\"data row0 col10\" >0</td>\n",
              "                        <td id=\"T_99a77d16_5fd4_11eb_b824_0242ac1c0002row0_col11\" class=\"data row0 col11\" >0</td>\n",
              "                        <td id=\"T_99a77d16_5fd4_11eb_b824_0242ac1c0002row0_col12\" class=\"data row0 col12\" >0</td>\n",
              "                        <td id=\"T_99a77d16_5fd4_11eb_b824_0242ac1c0002row0_col13\" class=\"data row0 col13\" >0</td>\n",
              "                        <td id=\"T_99a77d16_5fd4_11eb_b824_0242ac1c0002row0_col14\" class=\"data row0 col14\" >0</td>\n",
              "                        <td id=\"T_99a77d16_5fd4_11eb_b824_0242ac1c0002row0_col15\" class=\"data row0 col15\" >0</td>\n",
              "                        <td id=\"T_99a77d16_5fd4_11eb_b824_0242ac1c0002row0_col16\" class=\"data row0 col16\" >0</td>\n",
              "                        <td id=\"T_99a77d16_5fd4_11eb_b824_0242ac1c0002row0_col17\" class=\"data row0 col17\" >0</td>\n",
              "                        <td id=\"T_99a77d16_5fd4_11eb_b824_0242ac1c0002row0_col18\" class=\"data row0 col18\" >0</td>\n",
              "                        <td id=\"T_99a77d16_5fd4_11eb_b824_0242ac1c0002row0_col19\" class=\"data row0 col19\" >0</td>\n",
              "                        <td id=\"T_99a77d16_5fd4_11eb_b824_0242ac1c0002row0_col20\" class=\"data row0 col20\" >0</td>\n",
              "                        <td id=\"T_99a77d16_5fd4_11eb_b824_0242ac1c0002row0_col21\" class=\"data row0 col21\" >0</td>\n",
              "                        <td id=\"T_99a77d16_5fd4_11eb_b824_0242ac1c0002row0_col22\" class=\"data row0 col22\" >0</td>\n",
              "                        <td id=\"T_99a77d16_5fd4_11eb_b824_0242ac1c0002row0_col23\" class=\"data row0 col23\" >0</td>\n",
              "                        <td id=\"T_99a77d16_5fd4_11eb_b824_0242ac1c0002row0_col24\" class=\"data row0 col24\" >0</td>\n",
              "                        <td id=\"T_99a77d16_5fd4_11eb_b824_0242ac1c0002row0_col25\" class=\"data row0 col25\" >0</td>\n",
              "                        <td id=\"T_99a77d16_5fd4_11eb_b824_0242ac1c0002row0_col26\" class=\"data row0 col26\" >0</td>\n",
              "                        <td id=\"T_99a77d16_5fd4_11eb_b824_0242ac1c0002row0_col27\" class=\"data row0 col27\" >0</td>\n",
              "            </tr>\n",
              "            <tr>\n",
              "                        <th id=\"T_99a77d16_5fd4_11eb_b824_0242ac1c0002level0_row1\" class=\"row_heading level0 row1\" >1</th>\n",
              "                        <td id=\"T_99a77d16_5fd4_11eb_b824_0242ac1c0002row1_col0\" class=\"data row1 col0\" >0</td>\n",
              "                        <td id=\"T_99a77d16_5fd4_11eb_b824_0242ac1c0002row1_col1\" class=\"data row1 col1\" >0</td>\n",
              "                        <td id=\"T_99a77d16_5fd4_11eb_b824_0242ac1c0002row1_col2\" class=\"data row1 col2\" >0</td>\n",
              "                        <td id=\"T_99a77d16_5fd4_11eb_b824_0242ac1c0002row1_col3\" class=\"data row1 col3\" >0</td>\n",
              "                        <td id=\"T_99a77d16_5fd4_11eb_b824_0242ac1c0002row1_col4\" class=\"data row1 col4\" >0</td>\n",
              "                        <td id=\"T_99a77d16_5fd4_11eb_b824_0242ac1c0002row1_col5\" class=\"data row1 col5\" >0</td>\n",
              "                        <td id=\"T_99a77d16_5fd4_11eb_b824_0242ac1c0002row1_col6\" class=\"data row1 col6\" >0</td>\n",
              "                        <td id=\"T_99a77d16_5fd4_11eb_b824_0242ac1c0002row1_col7\" class=\"data row1 col7\" >0</td>\n",
              "                        <td id=\"T_99a77d16_5fd4_11eb_b824_0242ac1c0002row1_col8\" class=\"data row1 col8\" >0</td>\n",
              "                        <td id=\"T_99a77d16_5fd4_11eb_b824_0242ac1c0002row1_col9\" class=\"data row1 col9\" >0</td>\n",
              "                        <td id=\"T_99a77d16_5fd4_11eb_b824_0242ac1c0002row1_col10\" class=\"data row1 col10\" >0</td>\n",
              "                        <td id=\"T_99a77d16_5fd4_11eb_b824_0242ac1c0002row1_col11\" class=\"data row1 col11\" >0</td>\n",
              "                        <td id=\"T_99a77d16_5fd4_11eb_b824_0242ac1c0002row1_col12\" class=\"data row1 col12\" >0</td>\n",
              "                        <td id=\"T_99a77d16_5fd4_11eb_b824_0242ac1c0002row1_col13\" class=\"data row1 col13\" >0</td>\n",
              "                        <td id=\"T_99a77d16_5fd4_11eb_b824_0242ac1c0002row1_col14\" class=\"data row1 col14\" >0</td>\n",
              "                        <td id=\"T_99a77d16_5fd4_11eb_b824_0242ac1c0002row1_col15\" class=\"data row1 col15\" >0</td>\n",
              "                        <td id=\"T_99a77d16_5fd4_11eb_b824_0242ac1c0002row1_col16\" class=\"data row1 col16\" >0</td>\n",
              "                        <td id=\"T_99a77d16_5fd4_11eb_b824_0242ac1c0002row1_col17\" class=\"data row1 col17\" >0</td>\n",
              "                        <td id=\"T_99a77d16_5fd4_11eb_b824_0242ac1c0002row1_col18\" class=\"data row1 col18\" >0</td>\n",
              "                        <td id=\"T_99a77d16_5fd4_11eb_b824_0242ac1c0002row1_col19\" class=\"data row1 col19\" >0</td>\n",
              "                        <td id=\"T_99a77d16_5fd4_11eb_b824_0242ac1c0002row1_col20\" class=\"data row1 col20\" >0</td>\n",
              "                        <td id=\"T_99a77d16_5fd4_11eb_b824_0242ac1c0002row1_col21\" class=\"data row1 col21\" >0</td>\n",
              "                        <td id=\"T_99a77d16_5fd4_11eb_b824_0242ac1c0002row1_col22\" class=\"data row1 col22\" >0</td>\n",
              "                        <td id=\"T_99a77d16_5fd4_11eb_b824_0242ac1c0002row1_col23\" class=\"data row1 col23\" >0</td>\n",
              "                        <td id=\"T_99a77d16_5fd4_11eb_b824_0242ac1c0002row1_col24\" class=\"data row1 col24\" >0</td>\n",
              "                        <td id=\"T_99a77d16_5fd4_11eb_b824_0242ac1c0002row1_col25\" class=\"data row1 col25\" >0</td>\n",
              "                        <td id=\"T_99a77d16_5fd4_11eb_b824_0242ac1c0002row1_col26\" class=\"data row1 col26\" >0</td>\n",
              "                        <td id=\"T_99a77d16_5fd4_11eb_b824_0242ac1c0002row1_col27\" class=\"data row1 col27\" >0</td>\n",
              "            </tr>\n",
              "            <tr>\n",
              "                        <th id=\"T_99a77d16_5fd4_11eb_b824_0242ac1c0002level0_row2\" class=\"row_heading level0 row2\" >2</th>\n",
              "                        <td id=\"T_99a77d16_5fd4_11eb_b824_0242ac1c0002row2_col0\" class=\"data row2 col0\" >0</td>\n",
              "                        <td id=\"T_99a77d16_5fd4_11eb_b824_0242ac1c0002row2_col1\" class=\"data row2 col1\" >0</td>\n",
              "                        <td id=\"T_99a77d16_5fd4_11eb_b824_0242ac1c0002row2_col2\" class=\"data row2 col2\" >0</td>\n",
              "                        <td id=\"T_99a77d16_5fd4_11eb_b824_0242ac1c0002row2_col3\" class=\"data row2 col3\" >0</td>\n",
              "                        <td id=\"T_99a77d16_5fd4_11eb_b824_0242ac1c0002row2_col4\" class=\"data row2 col4\" >0</td>\n",
              "                        <td id=\"T_99a77d16_5fd4_11eb_b824_0242ac1c0002row2_col5\" class=\"data row2 col5\" >0</td>\n",
              "                        <td id=\"T_99a77d16_5fd4_11eb_b824_0242ac1c0002row2_col6\" class=\"data row2 col6\" >0</td>\n",
              "                        <td id=\"T_99a77d16_5fd4_11eb_b824_0242ac1c0002row2_col7\" class=\"data row2 col7\" >0</td>\n",
              "                        <td id=\"T_99a77d16_5fd4_11eb_b824_0242ac1c0002row2_col8\" class=\"data row2 col8\" >0</td>\n",
              "                        <td id=\"T_99a77d16_5fd4_11eb_b824_0242ac1c0002row2_col9\" class=\"data row2 col9\" >0</td>\n",
              "                        <td id=\"T_99a77d16_5fd4_11eb_b824_0242ac1c0002row2_col10\" class=\"data row2 col10\" >0</td>\n",
              "                        <td id=\"T_99a77d16_5fd4_11eb_b824_0242ac1c0002row2_col11\" class=\"data row2 col11\" >0</td>\n",
              "                        <td id=\"T_99a77d16_5fd4_11eb_b824_0242ac1c0002row2_col12\" class=\"data row2 col12\" >0</td>\n",
              "                        <td id=\"T_99a77d16_5fd4_11eb_b824_0242ac1c0002row2_col13\" class=\"data row2 col13\" >0</td>\n",
              "                        <td id=\"T_99a77d16_5fd4_11eb_b824_0242ac1c0002row2_col14\" class=\"data row2 col14\" >0</td>\n",
              "                        <td id=\"T_99a77d16_5fd4_11eb_b824_0242ac1c0002row2_col15\" class=\"data row2 col15\" >0</td>\n",
              "                        <td id=\"T_99a77d16_5fd4_11eb_b824_0242ac1c0002row2_col16\" class=\"data row2 col16\" >0</td>\n",
              "                        <td id=\"T_99a77d16_5fd4_11eb_b824_0242ac1c0002row2_col17\" class=\"data row2 col17\" >0</td>\n",
              "                        <td id=\"T_99a77d16_5fd4_11eb_b824_0242ac1c0002row2_col18\" class=\"data row2 col18\" >0</td>\n",
              "                        <td id=\"T_99a77d16_5fd4_11eb_b824_0242ac1c0002row2_col19\" class=\"data row2 col19\" >0</td>\n",
              "                        <td id=\"T_99a77d16_5fd4_11eb_b824_0242ac1c0002row2_col20\" class=\"data row2 col20\" >0</td>\n",
              "                        <td id=\"T_99a77d16_5fd4_11eb_b824_0242ac1c0002row2_col21\" class=\"data row2 col21\" >0</td>\n",
              "                        <td id=\"T_99a77d16_5fd4_11eb_b824_0242ac1c0002row2_col22\" class=\"data row2 col22\" >0</td>\n",
              "                        <td id=\"T_99a77d16_5fd4_11eb_b824_0242ac1c0002row2_col23\" class=\"data row2 col23\" >0</td>\n",
              "                        <td id=\"T_99a77d16_5fd4_11eb_b824_0242ac1c0002row2_col24\" class=\"data row2 col24\" >0</td>\n",
              "                        <td id=\"T_99a77d16_5fd4_11eb_b824_0242ac1c0002row2_col25\" class=\"data row2 col25\" >0</td>\n",
              "                        <td id=\"T_99a77d16_5fd4_11eb_b824_0242ac1c0002row2_col26\" class=\"data row2 col26\" >0</td>\n",
              "                        <td id=\"T_99a77d16_5fd4_11eb_b824_0242ac1c0002row2_col27\" class=\"data row2 col27\" >0</td>\n",
              "            </tr>\n",
              "            <tr>\n",
              "                        <th id=\"T_99a77d16_5fd4_11eb_b824_0242ac1c0002level0_row3\" class=\"row_heading level0 row3\" >3</th>\n",
              "                        <td id=\"T_99a77d16_5fd4_11eb_b824_0242ac1c0002row3_col0\" class=\"data row3 col0\" >0</td>\n",
              "                        <td id=\"T_99a77d16_5fd4_11eb_b824_0242ac1c0002row3_col1\" class=\"data row3 col1\" >0</td>\n",
              "                        <td id=\"T_99a77d16_5fd4_11eb_b824_0242ac1c0002row3_col2\" class=\"data row3 col2\" >0</td>\n",
              "                        <td id=\"T_99a77d16_5fd4_11eb_b824_0242ac1c0002row3_col3\" class=\"data row3 col3\" >0</td>\n",
              "                        <td id=\"T_99a77d16_5fd4_11eb_b824_0242ac1c0002row3_col4\" class=\"data row3 col4\" >0</td>\n",
              "                        <td id=\"T_99a77d16_5fd4_11eb_b824_0242ac1c0002row3_col5\" class=\"data row3 col5\" >0</td>\n",
              "                        <td id=\"T_99a77d16_5fd4_11eb_b824_0242ac1c0002row3_col6\" class=\"data row3 col6\" >0</td>\n",
              "                        <td id=\"T_99a77d16_5fd4_11eb_b824_0242ac1c0002row3_col7\" class=\"data row3 col7\" >0</td>\n",
              "                        <td id=\"T_99a77d16_5fd4_11eb_b824_0242ac1c0002row3_col8\" class=\"data row3 col8\" >0</td>\n",
              "                        <td id=\"T_99a77d16_5fd4_11eb_b824_0242ac1c0002row3_col9\" class=\"data row3 col9\" >0</td>\n",
              "                        <td id=\"T_99a77d16_5fd4_11eb_b824_0242ac1c0002row3_col10\" class=\"data row3 col10\" >0</td>\n",
              "                        <td id=\"T_99a77d16_5fd4_11eb_b824_0242ac1c0002row3_col11\" class=\"data row3 col11\" >0</td>\n",
              "                        <td id=\"T_99a77d16_5fd4_11eb_b824_0242ac1c0002row3_col12\" class=\"data row3 col12\" >0</td>\n",
              "                        <td id=\"T_99a77d16_5fd4_11eb_b824_0242ac1c0002row3_col13\" class=\"data row3 col13\" >0</td>\n",
              "                        <td id=\"T_99a77d16_5fd4_11eb_b824_0242ac1c0002row3_col14\" class=\"data row3 col14\" >0</td>\n",
              "                        <td id=\"T_99a77d16_5fd4_11eb_b824_0242ac1c0002row3_col15\" class=\"data row3 col15\" >0</td>\n",
              "                        <td id=\"T_99a77d16_5fd4_11eb_b824_0242ac1c0002row3_col16\" class=\"data row3 col16\" >0</td>\n",
              "                        <td id=\"T_99a77d16_5fd4_11eb_b824_0242ac1c0002row3_col17\" class=\"data row3 col17\" >0</td>\n",
              "                        <td id=\"T_99a77d16_5fd4_11eb_b824_0242ac1c0002row3_col18\" class=\"data row3 col18\" >0</td>\n",
              "                        <td id=\"T_99a77d16_5fd4_11eb_b824_0242ac1c0002row3_col19\" class=\"data row3 col19\" >0</td>\n",
              "                        <td id=\"T_99a77d16_5fd4_11eb_b824_0242ac1c0002row3_col20\" class=\"data row3 col20\" >0</td>\n",
              "                        <td id=\"T_99a77d16_5fd4_11eb_b824_0242ac1c0002row3_col21\" class=\"data row3 col21\" >0</td>\n",
              "                        <td id=\"T_99a77d16_5fd4_11eb_b824_0242ac1c0002row3_col22\" class=\"data row3 col22\" >0</td>\n",
              "                        <td id=\"T_99a77d16_5fd4_11eb_b824_0242ac1c0002row3_col23\" class=\"data row3 col23\" >0</td>\n",
              "                        <td id=\"T_99a77d16_5fd4_11eb_b824_0242ac1c0002row3_col24\" class=\"data row3 col24\" >0</td>\n",
              "                        <td id=\"T_99a77d16_5fd4_11eb_b824_0242ac1c0002row3_col25\" class=\"data row3 col25\" >0</td>\n",
              "                        <td id=\"T_99a77d16_5fd4_11eb_b824_0242ac1c0002row3_col26\" class=\"data row3 col26\" >0</td>\n",
              "                        <td id=\"T_99a77d16_5fd4_11eb_b824_0242ac1c0002row3_col27\" class=\"data row3 col27\" >0</td>\n",
              "            </tr>\n",
              "            <tr>\n",
              "                        <th id=\"T_99a77d16_5fd4_11eb_b824_0242ac1c0002level0_row4\" class=\"row_heading level0 row4\" >4</th>\n",
              "                        <td id=\"T_99a77d16_5fd4_11eb_b824_0242ac1c0002row4_col0\" class=\"data row4 col0\" >0</td>\n",
              "                        <td id=\"T_99a77d16_5fd4_11eb_b824_0242ac1c0002row4_col1\" class=\"data row4 col1\" >0</td>\n",
              "                        <td id=\"T_99a77d16_5fd4_11eb_b824_0242ac1c0002row4_col2\" class=\"data row4 col2\" >0</td>\n",
              "                        <td id=\"T_99a77d16_5fd4_11eb_b824_0242ac1c0002row4_col3\" class=\"data row4 col3\" >0</td>\n",
              "                        <td id=\"T_99a77d16_5fd4_11eb_b824_0242ac1c0002row4_col4\" class=\"data row4 col4\" >0</td>\n",
              "                        <td id=\"T_99a77d16_5fd4_11eb_b824_0242ac1c0002row4_col5\" class=\"data row4 col5\" >0</td>\n",
              "                        <td id=\"T_99a77d16_5fd4_11eb_b824_0242ac1c0002row4_col6\" class=\"data row4 col6\" >0</td>\n",
              "                        <td id=\"T_99a77d16_5fd4_11eb_b824_0242ac1c0002row4_col7\" class=\"data row4 col7\" >0</td>\n",
              "                        <td id=\"T_99a77d16_5fd4_11eb_b824_0242ac1c0002row4_col8\" class=\"data row4 col8\" >0</td>\n",
              "                        <td id=\"T_99a77d16_5fd4_11eb_b824_0242ac1c0002row4_col9\" class=\"data row4 col9\" >0</td>\n",
              "                        <td id=\"T_99a77d16_5fd4_11eb_b824_0242ac1c0002row4_col10\" class=\"data row4 col10\" >0</td>\n",
              "                        <td id=\"T_99a77d16_5fd4_11eb_b824_0242ac1c0002row4_col11\" class=\"data row4 col11\" >0</td>\n",
              "                        <td id=\"T_99a77d16_5fd4_11eb_b824_0242ac1c0002row4_col12\" class=\"data row4 col12\" >0</td>\n",
              "                        <td id=\"T_99a77d16_5fd4_11eb_b824_0242ac1c0002row4_col13\" class=\"data row4 col13\" >0</td>\n",
              "                        <td id=\"T_99a77d16_5fd4_11eb_b824_0242ac1c0002row4_col14\" class=\"data row4 col14\" >0</td>\n",
              "                        <td id=\"T_99a77d16_5fd4_11eb_b824_0242ac1c0002row4_col15\" class=\"data row4 col15\" >0</td>\n",
              "                        <td id=\"T_99a77d16_5fd4_11eb_b824_0242ac1c0002row4_col16\" class=\"data row4 col16\" >0</td>\n",
              "                        <td id=\"T_99a77d16_5fd4_11eb_b824_0242ac1c0002row4_col17\" class=\"data row4 col17\" >0</td>\n",
              "                        <td id=\"T_99a77d16_5fd4_11eb_b824_0242ac1c0002row4_col18\" class=\"data row4 col18\" >0</td>\n",
              "                        <td id=\"T_99a77d16_5fd4_11eb_b824_0242ac1c0002row4_col19\" class=\"data row4 col19\" >0</td>\n",
              "                        <td id=\"T_99a77d16_5fd4_11eb_b824_0242ac1c0002row4_col20\" class=\"data row4 col20\" >0</td>\n",
              "                        <td id=\"T_99a77d16_5fd4_11eb_b824_0242ac1c0002row4_col21\" class=\"data row4 col21\" >0</td>\n",
              "                        <td id=\"T_99a77d16_5fd4_11eb_b824_0242ac1c0002row4_col22\" class=\"data row4 col22\" >0</td>\n",
              "                        <td id=\"T_99a77d16_5fd4_11eb_b824_0242ac1c0002row4_col23\" class=\"data row4 col23\" >0</td>\n",
              "                        <td id=\"T_99a77d16_5fd4_11eb_b824_0242ac1c0002row4_col24\" class=\"data row4 col24\" >0</td>\n",
              "                        <td id=\"T_99a77d16_5fd4_11eb_b824_0242ac1c0002row4_col25\" class=\"data row4 col25\" >0</td>\n",
              "                        <td id=\"T_99a77d16_5fd4_11eb_b824_0242ac1c0002row4_col26\" class=\"data row4 col26\" >0</td>\n",
              "                        <td id=\"T_99a77d16_5fd4_11eb_b824_0242ac1c0002row4_col27\" class=\"data row4 col27\" >0</td>\n",
              "            </tr>\n",
              "            <tr>\n",
              "                        <th id=\"T_99a77d16_5fd4_11eb_b824_0242ac1c0002level0_row5\" class=\"row_heading level0 row5\" >5</th>\n",
              "                        <td id=\"T_99a77d16_5fd4_11eb_b824_0242ac1c0002row5_col0\" class=\"data row5 col0\" >0</td>\n",
              "                        <td id=\"T_99a77d16_5fd4_11eb_b824_0242ac1c0002row5_col1\" class=\"data row5 col1\" >0</td>\n",
              "                        <td id=\"T_99a77d16_5fd4_11eb_b824_0242ac1c0002row5_col2\" class=\"data row5 col2\" >0</td>\n",
              "                        <td id=\"T_99a77d16_5fd4_11eb_b824_0242ac1c0002row5_col3\" class=\"data row5 col3\" >0</td>\n",
              "                        <td id=\"T_99a77d16_5fd4_11eb_b824_0242ac1c0002row5_col4\" class=\"data row5 col4\" >0</td>\n",
              "                        <td id=\"T_99a77d16_5fd4_11eb_b824_0242ac1c0002row5_col5\" class=\"data row5 col5\" >0</td>\n",
              "                        <td id=\"T_99a77d16_5fd4_11eb_b824_0242ac1c0002row5_col6\" class=\"data row5 col6\" >0</td>\n",
              "                        <td id=\"T_99a77d16_5fd4_11eb_b824_0242ac1c0002row5_col7\" class=\"data row5 col7\" >0</td>\n",
              "                        <td id=\"T_99a77d16_5fd4_11eb_b824_0242ac1c0002row5_col8\" class=\"data row5 col8\" >0</td>\n",
              "                        <td id=\"T_99a77d16_5fd4_11eb_b824_0242ac1c0002row5_col9\" class=\"data row5 col9\" >0</td>\n",
              "                        <td id=\"T_99a77d16_5fd4_11eb_b824_0242ac1c0002row5_col10\" class=\"data row5 col10\" >0</td>\n",
              "                        <td id=\"T_99a77d16_5fd4_11eb_b824_0242ac1c0002row5_col11\" class=\"data row5 col11\" >0</td>\n",
              "                        <td id=\"T_99a77d16_5fd4_11eb_b824_0242ac1c0002row5_col12\" class=\"data row5 col12\" >0</td>\n",
              "                        <td id=\"T_99a77d16_5fd4_11eb_b824_0242ac1c0002row5_col13\" class=\"data row5 col13\" >0</td>\n",
              "                        <td id=\"T_99a77d16_5fd4_11eb_b824_0242ac1c0002row5_col14\" class=\"data row5 col14\" >0</td>\n",
              "                        <td id=\"T_99a77d16_5fd4_11eb_b824_0242ac1c0002row5_col15\" class=\"data row5 col15\" >0</td>\n",
              "                        <td id=\"T_99a77d16_5fd4_11eb_b824_0242ac1c0002row5_col16\" class=\"data row5 col16\" >0</td>\n",
              "                        <td id=\"T_99a77d16_5fd4_11eb_b824_0242ac1c0002row5_col17\" class=\"data row5 col17\" >0</td>\n",
              "                        <td id=\"T_99a77d16_5fd4_11eb_b824_0242ac1c0002row5_col18\" class=\"data row5 col18\" >0</td>\n",
              "                        <td id=\"T_99a77d16_5fd4_11eb_b824_0242ac1c0002row5_col19\" class=\"data row5 col19\" >0</td>\n",
              "                        <td id=\"T_99a77d16_5fd4_11eb_b824_0242ac1c0002row5_col20\" class=\"data row5 col20\" >0</td>\n",
              "                        <td id=\"T_99a77d16_5fd4_11eb_b824_0242ac1c0002row5_col21\" class=\"data row5 col21\" >0</td>\n",
              "                        <td id=\"T_99a77d16_5fd4_11eb_b824_0242ac1c0002row5_col22\" class=\"data row5 col22\" >0</td>\n",
              "                        <td id=\"T_99a77d16_5fd4_11eb_b824_0242ac1c0002row5_col23\" class=\"data row5 col23\" >0</td>\n",
              "                        <td id=\"T_99a77d16_5fd4_11eb_b824_0242ac1c0002row5_col24\" class=\"data row5 col24\" >0</td>\n",
              "                        <td id=\"T_99a77d16_5fd4_11eb_b824_0242ac1c0002row5_col25\" class=\"data row5 col25\" >0</td>\n",
              "                        <td id=\"T_99a77d16_5fd4_11eb_b824_0242ac1c0002row5_col26\" class=\"data row5 col26\" >0</td>\n",
              "                        <td id=\"T_99a77d16_5fd4_11eb_b824_0242ac1c0002row5_col27\" class=\"data row5 col27\" >0</td>\n",
              "            </tr>\n",
              "            <tr>\n",
              "                        <th id=\"T_99a77d16_5fd4_11eb_b824_0242ac1c0002level0_row6\" class=\"row_heading level0 row6\" >6</th>\n",
              "                        <td id=\"T_99a77d16_5fd4_11eb_b824_0242ac1c0002row6_col0\" class=\"data row6 col0\" >0</td>\n",
              "                        <td id=\"T_99a77d16_5fd4_11eb_b824_0242ac1c0002row6_col1\" class=\"data row6 col1\" >0</td>\n",
              "                        <td id=\"T_99a77d16_5fd4_11eb_b824_0242ac1c0002row6_col2\" class=\"data row6 col2\" >0</td>\n",
              "                        <td id=\"T_99a77d16_5fd4_11eb_b824_0242ac1c0002row6_col3\" class=\"data row6 col3\" >0</td>\n",
              "                        <td id=\"T_99a77d16_5fd4_11eb_b824_0242ac1c0002row6_col4\" class=\"data row6 col4\" >0</td>\n",
              "                        <td id=\"T_99a77d16_5fd4_11eb_b824_0242ac1c0002row6_col5\" class=\"data row6 col5\" >0</td>\n",
              "                        <td id=\"T_99a77d16_5fd4_11eb_b824_0242ac1c0002row6_col6\" class=\"data row6 col6\" >0</td>\n",
              "                        <td id=\"T_99a77d16_5fd4_11eb_b824_0242ac1c0002row6_col7\" class=\"data row6 col7\" >0</td>\n",
              "                        <td id=\"T_99a77d16_5fd4_11eb_b824_0242ac1c0002row6_col8\" class=\"data row6 col8\" >0</td>\n",
              "                        <td id=\"T_99a77d16_5fd4_11eb_b824_0242ac1c0002row6_col9\" class=\"data row6 col9\" >13</td>\n",
              "                        <td id=\"T_99a77d16_5fd4_11eb_b824_0242ac1c0002row6_col10\" class=\"data row6 col10\" >135</td>\n",
              "                        <td id=\"T_99a77d16_5fd4_11eb_b824_0242ac1c0002row6_col11\" class=\"data row6 col11\" >147</td>\n",
              "                        <td id=\"T_99a77d16_5fd4_11eb_b824_0242ac1c0002row6_col12\" class=\"data row6 col12\" >147</td>\n",
              "                        <td id=\"T_99a77d16_5fd4_11eb_b824_0242ac1c0002row6_col13\" class=\"data row6 col13\" >147</td>\n",
              "                        <td id=\"T_99a77d16_5fd4_11eb_b824_0242ac1c0002row6_col14\" class=\"data row6 col14\" >147</td>\n",
              "                        <td id=\"T_99a77d16_5fd4_11eb_b824_0242ac1c0002row6_col15\" class=\"data row6 col15\" >147</td>\n",
              "                        <td id=\"T_99a77d16_5fd4_11eb_b824_0242ac1c0002row6_col16\" class=\"data row6 col16\" >147</td>\n",
              "                        <td id=\"T_99a77d16_5fd4_11eb_b824_0242ac1c0002row6_col17\" class=\"data row6 col17\" >122</td>\n",
              "                        <td id=\"T_99a77d16_5fd4_11eb_b824_0242ac1c0002row6_col18\" class=\"data row6 col18\" >39</td>\n",
              "                        <td id=\"T_99a77d16_5fd4_11eb_b824_0242ac1c0002row6_col19\" class=\"data row6 col19\" >2</td>\n",
              "                        <td id=\"T_99a77d16_5fd4_11eb_b824_0242ac1c0002row6_col20\" class=\"data row6 col20\" >0</td>\n",
              "                        <td id=\"T_99a77d16_5fd4_11eb_b824_0242ac1c0002row6_col21\" class=\"data row6 col21\" >0</td>\n",
              "                        <td id=\"T_99a77d16_5fd4_11eb_b824_0242ac1c0002row6_col22\" class=\"data row6 col22\" >0</td>\n",
              "                        <td id=\"T_99a77d16_5fd4_11eb_b824_0242ac1c0002row6_col23\" class=\"data row6 col23\" >0</td>\n",
              "                        <td id=\"T_99a77d16_5fd4_11eb_b824_0242ac1c0002row6_col24\" class=\"data row6 col24\" >0</td>\n",
              "                        <td id=\"T_99a77d16_5fd4_11eb_b824_0242ac1c0002row6_col25\" class=\"data row6 col25\" >0</td>\n",
              "                        <td id=\"T_99a77d16_5fd4_11eb_b824_0242ac1c0002row6_col26\" class=\"data row6 col26\" >0</td>\n",
              "                        <td id=\"T_99a77d16_5fd4_11eb_b824_0242ac1c0002row6_col27\" class=\"data row6 col27\" >0</td>\n",
              "            </tr>\n",
              "            <tr>\n",
              "                        <th id=\"T_99a77d16_5fd4_11eb_b824_0242ac1c0002level0_row7\" class=\"row_heading level0 row7\" >7</th>\n",
              "                        <td id=\"T_99a77d16_5fd4_11eb_b824_0242ac1c0002row7_col0\" class=\"data row7 col0\" >0</td>\n",
              "                        <td id=\"T_99a77d16_5fd4_11eb_b824_0242ac1c0002row7_col1\" class=\"data row7 col1\" >0</td>\n",
              "                        <td id=\"T_99a77d16_5fd4_11eb_b824_0242ac1c0002row7_col2\" class=\"data row7 col2\" >0</td>\n",
              "                        <td id=\"T_99a77d16_5fd4_11eb_b824_0242ac1c0002row7_col3\" class=\"data row7 col3\" >0</td>\n",
              "                        <td id=\"T_99a77d16_5fd4_11eb_b824_0242ac1c0002row7_col4\" class=\"data row7 col4\" >0</td>\n",
              "                        <td id=\"T_99a77d16_5fd4_11eb_b824_0242ac1c0002row7_col5\" class=\"data row7 col5\" >93</td>\n",
              "                        <td id=\"T_99a77d16_5fd4_11eb_b824_0242ac1c0002row7_col6\" class=\"data row7 col6\" >185</td>\n",
              "                        <td id=\"T_99a77d16_5fd4_11eb_b824_0242ac1c0002row7_col7\" class=\"data row7 col7\" >185</td>\n",
              "                        <td id=\"T_99a77d16_5fd4_11eb_b824_0242ac1c0002row7_col8\" class=\"data row7 col8\" >185</td>\n",
              "                        <td id=\"T_99a77d16_5fd4_11eb_b824_0242ac1c0002row7_col9\" class=\"data row7 col9\" >207</td>\n",
              "                        <td id=\"T_99a77d16_5fd4_11eb_b824_0242ac1c0002row7_col10\" class=\"data row7 col10\" >254</td>\n",
              "                        <td id=\"T_99a77d16_5fd4_11eb_b824_0242ac1c0002row7_col11\" class=\"data row7 col11\" >254</td>\n",
              "                        <td id=\"T_99a77d16_5fd4_11eb_b824_0242ac1c0002row7_col12\" class=\"data row7 col12\" >254</td>\n",
              "                        <td id=\"T_99a77d16_5fd4_11eb_b824_0242ac1c0002row7_col13\" class=\"data row7 col13\" >254</td>\n",
              "                        <td id=\"T_99a77d16_5fd4_11eb_b824_0242ac1c0002row7_col14\" class=\"data row7 col14\" >254</td>\n",
              "                        <td id=\"T_99a77d16_5fd4_11eb_b824_0242ac1c0002row7_col15\" class=\"data row7 col15\" >254</td>\n",
              "                        <td id=\"T_99a77d16_5fd4_11eb_b824_0242ac1c0002row7_col16\" class=\"data row7 col16\" >254</td>\n",
              "                        <td id=\"T_99a77d16_5fd4_11eb_b824_0242ac1c0002row7_col17\" class=\"data row7 col17\" >254</td>\n",
              "                        <td id=\"T_99a77d16_5fd4_11eb_b824_0242ac1c0002row7_col18\" class=\"data row7 col18\" >254</td>\n",
              "                        <td id=\"T_99a77d16_5fd4_11eb_b824_0242ac1c0002row7_col19\" class=\"data row7 col19\" >43</td>\n",
              "                        <td id=\"T_99a77d16_5fd4_11eb_b824_0242ac1c0002row7_col20\" class=\"data row7 col20\" >0</td>\n",
              "                        <td id=\"T_99a77d16_5fd4_11eb_b824_0242ac1c0002row7_col21\" class=\"data row7 col21\" >0</td>\n",
              "                        <td id=\"T_99a77d16_5fd4_11eb_b824_0242ac1c0002row7_col22\" class=\"data row7 col22\" >0</td>\n",
              "                        <td id=\"T_99a77d16_5fd4_11eb_b824_0242ac1c0002row7_col23\" class=\"data row7 col23\" >0</td>\n",
              "                        <td id=\"T_99a77d16_5fd4_11eb_b824_0242ac1c0002row7_col24\" class=\"data row7 col24\" >0</td>\n",
              "                        <td id=\"T_99a77d16_5fd4_11eb_b824_0242ac1c0002row7_col25\" class=\"data row7 col25\" >0</td>\n",
              "                        <td id=\"T_99a77d16_5fd4_11eb_b824_0242ac1c0002row7_col26\" class=\"data row7 col26\" >0</td>\n",
              "                        <td id=\"T_99a77d16_5fd4_11eb_b824_0242ac1c0002row7_col27\" class=\"data row7 col27\" >0</td>\n",
              "            </tr>\n",
              "            <tr>\n",
              "                        <th id=\"T_99a77d16_5fd4_11eb_b824_0242ac1c0002level0_row8\" class=\"row_heading level0 row8\" >8</th>\n",
              "                        <td id=\"T_99a77d16_5fd4_11eb_b824_0242ac1c0002row8_col0\" class=\"data row8 col0\" >0</td>\n",
              "                        <td id=\"T_99a77d16_5fd4_11eb_b824_0242ac1c0002row8_col1\" class=\"data row8 col1\" >0</td>\n",
              "                        <td id=\"T_99a77d16_5fd4_11eb_b824_0242ac1c0002row8_col2\" class=\"data row8 col2\" >0</td>\n",
              "                        <td id=\"T_99a77d16_5fd4_11eb_b824_0242ac1c0002row8_col3\" class=\"data row8 col3\" >0</td>\n",
              "                        <td id=\"T_99a77d16_5fd4_11eb_b824_0242ac1c0002row8_col4\" class=\"data row8 col4\" >0</td>\n",
              "                        <td id=\"T_99a77d16_5fd4_11eb_b824_0242ac1c0002row8_col5\" class=\"data row8 col5\" >253</td>\n",
              "                        <td id=\"T_99a77d16_5fd4_11eb_b824_0242ac1c0002row8_col6\" class=\"data row8 col6\" >254</td>\n",
              "                        <td id=\"T_99a77d16_5fd4_11eb_b824_0242ac1c0002row8_col7\" class=\"data row8 col7\" >254</td>\n",
              "                        <td id=\"T_99a77d16_5fd4_11eb_b824_0242ac1c0002row8_col8\" class=\"data row8 col8\" >254</td>\n",
              "                        <td id=\"T_99a77d16_5fd4_11eb_b824_0242ac1c0002row8_col9\" class=\"data row8 col9\" >253</td>\n",
              "                        <td id=\"T_99a77d16_5fd4_11eb_b824_0242ac1c0002row8_col10\" class=\"data row8 col10\" >198</td>\n",
              "                        <td id=\"T_99a77d16_5fd4_11eb_b824_0242ac1c0002row8_col11\" class=\"data row8 col11\" >140</td>\n",
              "                        <td id=\"T_99a77d16_5fd4_11eb_b824_0242ac1c0002row8_col12\" class=\"data row8 col12\" >140</td>\n",
              "                        <td id=\"T_99a77d16_5fd4_11eb_b824_0242ac1c0002row8_col13\" class=\"data row8 col13\" >140</td>\n",
              "                        <td id=\"T_99a77d16_5fd4_11eb_b824_0242ac1c0002row8_col14\" class=\"data row8 col14\" >140</td>\n",
              "                        <td id=\"T_99a77d16_5fd4_11eb_b824_0242ac1c0002row8_col15\" class=\"data row8 col15\" >140</td>\n",
              "                        <td id=\"T_99a77d16_5fd4_11eb_b824_0242ac1c0002row8_col16\" class=\"data row8 col16\" >196</td>\n",
              "                        <td id=\"T_99a77d16_5fd4_11eb_b824_0242ac1c0002row8_col17\" class=\"data row8 col17\" >253</td>\n",
              "                        <td id=\"T_99a77d16_5fd4_11eb_b824_0242ac1c0002row8_col18\" class=\"data row8 col18\" >254</td>\n",
              "                        <td id=\"T_99a77d16_5fd4_11eb_b824_0242ac1c0002row8_col19\" class=\"data row8 col19\" >119</td>\n",
              "                        <td id=\"T_99a77d16_5fd4_11eb_b824_0242ac1c0002row8_col20\" class=\"data row8 col20\" >0</td>\n",
              "                        <td id=\"T_99a77d16_5fd4_11eb_b824_0242ac1c0002row8_col21\" class=\"data row8 col21\" >0</td>\n",
              "                        <td id=\"T_99a77d16_5fd4_11eb_b824_0242ac1c0002row8_col22\" class=\"data row8 col22\" >0</td>\n",
              "                        <td id=\"T_99a77d16_5fd4_11eb_b824_0242ac1c0002row8_col23\" class=\"data row8 col23\" >0</td>\n",
              "                        <td id=\"T_99a77d16_5fd4_11eb_b824_0242ac1c0002row8_col24\" class=\"data row8 col24\" >0</td>\n",
              "                        <td id=\"T_99a77d16_5fd4_11eb_b824_0242ac1c0002row8_col25\" class=\"data row8 col25\" >0</td>\n",
              "                        <td id=\"T_99a77d16_5fd4_11eb_b824_0242ac1c0002row8_col26\" class=\"data row8 col26\" >0</td>\n",
              "                        <td id=\"T_99a77d16_5fd4_11eb_b824_0242ac1c0002row8_col27\" class=\"data row8 col27\" >0</td>\n",
              "            </tr>\n",
              "            <tr>\n",
              "                        <th id=\"T_99a77d16_5fd4_11eb_b824_0242ac1c0002level0_row9\" class=\"row_heading level0 row9\" >9</th>\n",
              "                        <td id=\"T_99a77d16_5fd4_11eb_b824_0242ac1c0002row9_col0\" class=\"data row9 col0\" >0</td>\n",
              "                        <td id=\"T_99a77d16_5fd4_11eb_b824_0242ac1c0002row9_col1\" class=\"data row9 col1\" >0</td>\n",
              "                        <td id=\"T_99a77d16_5fd4_11eb_b824_0242ac1c0002row9_col2\" class=\"data row9 col2\" >0</td>\n",
              "                        <td id=\"T_99a77d16_5fd4_11eb_b824_0242ac1c0002row9_col3\" class=\"data row9 col3\" >0</td>\n",
              "                        <td id=\"T_99a77d16_5fd4_11eb_b824_0242ac1c0002row9_col4\" class=\"data row9 col4\" >0</td>\n",
              "                        <td id=\"T_99a77d16_5fd4_11eb_b824_0242ac1c0002row9_col5\" class=\"data row9 col5\" >128</td>\n",
              "                        <td id=\"T_99a77d16_5fd4_11eb_b824_0242ac1c0002row9_col6\" class=\"data row9 col6\" >254</td>\n",
              "                        <td id=\"T_99a77d16_5fd4_11eb_b824_0242ac1c0002row9_col7\" class=\"data row9 col7\" >233</td>\n",
              "                        <td id=\"T_99a77d16_5fd4_11eb_b824_0242ac1c0002row9_col8\" class=\"data row9 col8\" >103</td>\n",
              "                        <td id=\"T_99a77d16_5fd4_11eb_b824_0242ac1c0002row9_col9\" class=\"data row9 col9\" >70</td>\n",
              "                        <td id=\"T_99a77d16_5fd4_11eb_b824_0242ac1c0002row9_col10\" class=\"data row9 col10\" >0</td>\n",
              "                        <td id=\"T_99a77d16_5fd4_11eb_b824_0242ac1c0002row9_col11\" class=\"data row9 col11\" >0</td>\n",
              "                        <td id=\"T_99a77d16_5fd4_11eb_b824_0242ac1c0002row9_col12\" class=\"data row9 col12\" >0</td>\n",
              "                        <td id=\"T_99a77d16_5fd4_11eb_b824_0242ac1c0002row9_col13\" class=\"data row9 col13\" >0</td>\n",
              "                        <td id=\"T_99a77d16_5fd4_11eb_b824_0242ac1c0002row9_col14\" class=\"data row9 col14\" >0</td>\n",
              "                        <td id=\"T_99a77d16_5fd4_11eb_b824_0242ac1c0002row9_col15\" class=\"data row9 col15\" >0</td>\n",
              "                        <td id=\"T_99a77d16_5fd4_11eb_b824_0242ac1c0002row9_col16\" class=\"data row9 col16\" >4</td>\n",
              "                        <td id=\"T_99a77d16_5fd4_11eb_b824_0242ac1c0002row9_col17\" class=\"data row9 col17\" >183</td>\n",
              "                        <td id=\"T_99a77d16_5fd4_11eb_b824_0242ac1c0002row9_col18\" class=\"data row9 col18\" >254</td>\n",
              "                        <td id=\"T_99a77d16_5fd4_11eb_b824_0242ac1c0002row9_col19\" class=\"data row9 col19\" >101</td>\n",
              "                        <td id=\"T_99a77d16_5fd4_11eb_b824_0242ac1c0002row9_col20\" class=\"data row9 col20\" >0</td>\n",
              "                        <td id=\"T_99a77d16_5fd4_11eb_b824_0242ac1c0002row9_col21\" class=\"data row9 col21\" >0</td>\n",
              "                        <td id=\"T_99a77d16_5fd4_11eb_b824_0242ac1c0002row9_col22\" class=\"data row9 col22\" >0</td>\n",
              "                        <td id=\"T_99a77d16_5fd4_11eb_b824_0242ac1c0002row9_col23\" class=\"data row9 col23\" >0</td>\n",
              "                        <td id=\"T_99a77d16_5fd4_11eb_b824_0242ac1c0002row9_col24\" class=\"data row9 col24\" >0</td>\n",
              "                        <td id=\"T_99a77d16_5fd4_11eb_b824_0242ac1c0002row9_col25\" class=\"data row9 col25\" >0</td>\n",
              "                        <td id=\"T_99a77d16_5fd4_11eb_b824_0242ac1c0002row9_col26\" class=\"data row9 col26\" >0</td>\n",
              "                        <td id=\"T_99a77d16_5fd4_11eb_b824_0242ac1c0002row9_col27\" class=\"data row9 col27\" >0</td>\n",
              "            </tr>\n",
              "            <tr>\n",
              "                        <th id=\"T_99a77d16_5fd4_11eb_b824_0242ac1c0002level0_row10\" class=\"row_heading level0 row10\" >10</th>\n",
              "                        <td id=\"T_99a77d16_5fd4_11eb_b824_0242ac1c0002row10_col0\" class=\"data row10 col0\" >0</td>\n",
              "                        <td id=\"T_99a77d16_5fd4_11eb_b824_0242ac1c0002row10_col1\" class=\"data row10 col1\" >0</td>\n",
              "                        <td id=\"T_99a77d16_5fd4_11eb_b824_0242ac1c0002row10_col2\" class=\"data row10 col2\" >0</td>\n",
              "                        <td id=\"T_99a77d16_5fd4_11eb_b824_0242ac1c0002row10_col3\" class=\"data row10 col3\" >0</td>\n",
              "                        <td id=\"T_99a77d16_5fd4_11eb_b824_0242ac1c0002row10_col4\" class=\"data row10 col4\" >0</td>\n",
              "                        <td id=\"T_99a77d16_5fd4_11eb_b824_0242ac1c0002row10_col5\" class=\"data row10 col5\" >26</td>\n",
              "                        <td id=\"T_99a77d16_5fd4_11eb_b824_0242ac1c0002row10_col6\" class=\"data row10 col6\" >232</td>\n",
              "                        <td id=\"T_99a77d16_5fd4_11eb_b824_0242ac1c0002row10_col7\" class=\"data row10 col7\" >140</td>\n",
              "                        <td id=\"T_99a77d16_5fd4_11eb_b824_0242ac1c0002row10_col8\" class=\"data row10 col8\" >0</td>\n",
              "                        <td id=\"T_99a77d16_5fd4_11eb_b824_0242ac1c0002row10_col9\" class=\"data row10 col9\" >0</td>\n",
              "                        <td id=\"T_99a77d16_5fd4_11eb_b824_0242ac1c0002row10_col10\" class=\"data row10 col10\" >0</td>\n",
              "                        <td id=\"T_99a77d16_5fd4_11eb_b824_0242ac1c0002row10_col11\" class=\"data row10 col11\" >0</td>\n",
              "                        <td id=\"T_99a77d16_5fd4_11eb_b824_0242ac1c0002row10_col12\" class=\"data row10 col12\" >0</td>\n",
              "                        <td id=\"T_99a77d16_5fd4_11eb_b824_0242ac1c0002row10_col13\" class=\"data row10 col13\" >0</td>\n",
              "                        <td id=\"T_99a77d16_5fd4_11eb_b824_0242ac1c0002row10_col14\" class=\"data row10 col14\" >0</td>\n",
              "                        <td id=\"T_99a77d16_5fd4_11eb_b824_0242ac1c0002row10_col15\" class=\"data row10 col15\" >0</td>\n",
              "                        <td id=\"T_99a77d16_5fd4_11eb_b824_0242ac1c0002row10_col16\" class=\"data row10 col16\" >57</td>\n",
              "                        <td id=\"T_99a77d16_5fd4_11eb_b824_0242ac1c0002row10_col17\" class=\"data row10 col17\" >254</td>\n",
              "                        <td id=\"T_99a77d16_5fd4_11eb_b824_0242ac1c0002row10_col18\" class=\"data row10 col18\" >254</td>\n",
              "                        <td id=\"T_99a77d16_5fd4_11eb_b824_0242ac1c0002row10_col19\" class=\"data row10 col19\" >10</td>\n",
              "                        <td id=\"T_99a77d16_5fd4_11eb_b824_0242ac1c0002row10_col20\" class=\"data row10 col20\" >0</td>\n",
              "                        <td id=\"T_99a77d16_5fd4_11eb_b824_0242ac1c0002row10_col21\" class=\"data row10 col21\" >0</td>\n",
              "                        <td id=\"T_99a77d16_5fd4_11eb_b824_0242ac1c0002row10_col22\" class=\"data row10 col22\" >0</td>\n",
              "                        <td id=\"T_99a77d16_5fd4_11eb_b824_0242ac1c0002row10_col23\" class=\"data row10 col23\" >0</td>\n",
              "                        <td id=\"T_99a77d16_5fd4_11eb_b824_0242ac1c0002row10_col24\" class=\"data row10 col24\" >0</td>\n",
              "                        <td id=\"T_99a77d16_5fd4_11eb_b824_0242ac1c0002row10_col25\" class=\"data row10 col25\" >0</td>\n",
              "                        <td id=\"T_99a77d16_5fd4_11eb_b824_0242ac1c0002row10_col26\" class=\"data row10 col26\" >0</td>\n",
              "                        <td id=\"T_99a77d16_5fd4_11eb_b824_0242ac1c0002row10_col27\" class=\"data row10 col27\" >0</td>\n",
              "            </tr>\n",
              "            <tr>\n",
              "                        <th id=\"T_99a77d16_5fd4_11eb_b824_0242ac1c0002level0_row11\" class=\"row_heading level0 row11\" >11</th>\n",
              "                        <td id=\"T_99a77d16_5fd4_11eb_b824_0242ac1c0002row11_col0\" class=\"data row11 col0\" >0</td>\n",
              "                        <td id=\"T_99a77d16_5fd4_11eb_b824_0242ac1c0002row11_col1\" class=\"data row11 col1\" >0</td>\n",
              "                        <td id=\"T_99a77d16_5fd4_11eb_b824_0242ac1c0002row11_col2\" class=\"data row11 col2\" >0</td>\n",
              "                        <td id=\"T_99a77d16_5fd4_11eb_b824_0242ac1c0002row11_col3\" class=\"data row11 col3\" >0</td>\n",
              "                        <td id=\"T_99a77d16_5fd4_11eb_b824_0242ac1c0002row11_col4\" class=\"data row11 col4\" >0</td>\n",
              "                        <td id=\"T_99a77d16_5fd4_11eb_b824_0242ac1c0002row11_col5\" class=\"data row11 col5\" >0</td>\n",
              "                        <td id=\"T_99a77d16_5fd4_11eb_b824_0242ac1c0002row11_col6\" class=\"data row11 col6\" >185</td>\n",
              "                        <td id=\"T_99a77d16_5fd4_11eb_b824_0242ac1c0002row11_col7\" class=\"data row11 col7\" >238</td>\n",
              "                        <td id=\"T_99a77d16_5fd4_11eb_b824_0242ac1c0002row11_col8\" class=\"data row11 col8\" >5</td>\n",
              "                        <td id=\"T_99a77d16_5fd4_11eb_b824_0242ac1c0002row11_col9\" class=\"data row11 col9\" >0</td>\n",
              "                        <td id=\"T_99a77d16_5fd4_11eb_b824_0242ac1c0002row11_col10\" class=\"data row11 col10\" >0</td>\n",
              "                        <td id=\"T_99a77d16_5fd4_11eb_b824_0242ac1c0002row11_col11\" class=\"data row11 col11\" >0</td>\n",
              "                        <td id=\"T_99a77d16_5fd4_11eb_b824_0242ac1c0002row11_col12\" class=\"data row11 col12\" >0</td>\n",
              "                        <td id=\"T_99a77d16_5fd4_11eb_b824_0242ac1c0002row11_col13\" class=\"data row11 col13\" >0</td>\n",
              "                        <td id=\"T_99a77d16_5fd4_11eb_b824_0242ac1c0002row11_col14\" class=\"data row11 col14\" >0</td>\n",
              "                        <td id=\"T_99a77d16_5fd4_11eb_b824_0242ac1c0002row11_col15\" class=\"data row11 col15\" >0</td>\n",
              "                        <td id=\"T_99a77d16_5fd4_11eb_b824_0242ac1c0002row11_col16\" class=\"data row11 col16\" >135</td>\n",
              "                        <td id=\"T_99a77d16_5fd4_11eb_b824_0242ac1c0002row11_col17\" class=\"data row11 col17\" >254</td>\n",
              "                        <td id=\"T_99a77d16_5fd4_11eb_b824_0242ac1c0002row11_col18\" class=\"data row11 col18\" >166</td>\n",
              "                        <td id=\"T_99a77d16_5fd4_11eb_b824_0242ac1c0002row11_col19\" class=\"data row11 col19\" >2</td>\n",
              "                        <td id=\"T_99a77d16_5fd4_11eb_b824_0242ac1c0002row11_col20\" class=\"data row11 col20\" >0</td>\n",
              "                        <td id=\"T_99a77d16_5fd4_11eb_b824_0242ac1c0002row11_col21\" class=\"data row11 col21\" >0</td>\n",
              "                        <td id=\"T_99a77d16_5fd4_11eb_b824_0242ac1c0002row11_col22\" class=\"data row11 col22\" >0</td>\n",
              "                        <td id=\"T_99a77d16_5fd4_11eb_b824_0242ac1c0002row11_col23\" class=\"data row11 col23\" >0</td>\n",
              "                        <td id=\"T_99a77d16_5fd4_11eb_b824_0242ac1c0002row11_col24\" class=\"data row11 col24\" >0</td>\n",
              "                        <td id=\"T_99a77d16_5fd4_11eb_b824_0242ac1c0002row11_col25\" class=\"data row11 col25\" >0</td>\n",
              "                        <td id=\"T_99a77d16_5fd4_11eb_b824_0242ac1c0002row11_col26\" class=\"data row11 col26\" >0</td>\n",
              "                        <td id=\"T_99a77d16_5fd4_11eb_b824_0242ac1c0002row11_col27\" class=\"data row11 col27\" >0</td>\n",
              "            </tr>\n",
              "            <tr>\n",
              "                        <th id=\"T_99a77d16_5fd4_11eb_b824_0242ac1c0002level0_row12\" class=\"row_heading level0 row12\" >12</th>\n",
              "                        <td id=\"T_99a77d16_5fd4_11eb_b824_0242ac1c0002row12_col0\" class=\"data row12 col0\" >0</td>\n",
              "                        <td id=\"T_99a77d16_5fd4_11eb_b824_0242ac1c0002row12_col1\" class=\"data row12 col1\" >0</td>\n",
              "                        <td id=\"T_99a77d16_5fd4_11eb_b824_0242ac1c0002row12_col2\" class=\"data row12 col2\" >0</td>\n",
              "                        <td id=\"T_99a77d16_5fd4_11eb_b824_0242ac1c0002row12_col3\" class=\"data row12 col3\" >0</td>\n",
              "                        <td id=\"T_99a77d16_5fd4_11eb_b824_0242ac1c0002row12_col4\" class=\"data row12 col4\" >0</td>\n",
              "                        <td id=\"T_99a77d16_5fd4_11eb_b824_0242ac1c0002row12_col5\" class=\"data row12 col5\" >0</td>\n",
              "                        <td id=\"T_99a77d16_5fd4_11eb_b824_0242ac1c0002row12_col6\" class=\"data row12 col6\" >185</td>\n",
              "                        <td id=\"T_99a77d16_5fd4_11eb_b824_0242ac1c0002row12_col7\" class=\"data row12 col7\" >254</td>\n",
              "                        <td id=\"T_99a77d16_5fd4_11eb_b824_0242ac1c0002row12_col8\" class=\"data row12 col8\" >103</td>\n",
              "                        <td id=\"T_99a77d16_5fd4_11eb_b824_0242ac1c0002row12_col9\" class=\"data row12 col9\" >0</td>\n",
              "                        <td id=\"T_99a77d16_5fd4_11eb_b824_0242ac1c0002row12_col10\" class=\"data row12 col10\" >0</td>\n",
              "                        <td id=\"T_99a77d16_5fd4_11eb_b824_0242ac1c0002row12_col11\" class=\"data row12 col11\" >0</td>\n",
              "                        <td id=\"T_99a77d16_5fd4_11eb_b824_0242ac1c0002row12_col12\" class=\"data row12 col12\" >0</td>\n",
              "                        <td id=\"T_99a77d16_5fd4_11eb_b824_0242ac1c0002row12_col13\" class=\"data row12 col13\" >0</td>\n",
              "                        <td id=\"T_99a77d16_5fd4_11eb_b824_0242ac1c0002row12_col14\" class=\"data row12 col14\" >0</td>\n",
              "                        <td id=\"T_99a77d16_5fd4_11eb_b824_0242ac1c0002row12_col15\" class=\"data row12 col15\" >18</td>\n",
              "                        <td id=\"T_99a77d16_5fd4_11eb_b824_0242ac1c0002row12_col16\" class=\"data row12 col16\" >242</td>\n",
              "                        <td id=\"T_99a77d16_5fd4_11eb_b824_0242ac1c0002row12_col17\" class=\"data row12 col17\" >243</td>\n",
              "                        <td id=\"T_99a77d16_5fd4_11eb_b824_0242ac1c0002row12_col18\" class=\"data row12 col18\" >81</td>\n",
              "                        <td id=\"T_99a77d16_5fd4_11eb_b824_0242ac1c0002row12_col19\" class=\"data row12 col19\" >0</td>\n",
              "                        <td id=\"T_99a77d16_5fd4_11eb_b824_0242ac1c0002row12_col20\" class=\"data row12 col20\" >0</td>\n",
              "                        <td id=\"T_99a77d16_5fd4_11eb_b824_0242ac1c0002row12_col21\" class=\"data row12 col21\" >0</td>\n",
              "                        <td id=\"T_99a77d16_5fd4_11eb_b824_0242ac1c0002row12_col22\" class=\"data row12 col22\" >0</td>\n",
              "                        <td id=\"T_99a77d16_5fd4_11eb_b824_0242ac1c0002row12_col23\" class=\"data row12 col23\" >0</td>\n",
              "                        <td id=\"T_99a77d16_5fd4_11eb_b824_0242ac1c0002row12_col24\" class=\"data row12 col24\" >0</td>\n",
              "                        <td id=\"T_99a77d16_5fd4_11eb_b824_0242ac1c0002row12_col25\" class=\"data row12 col25\" >0</td>\n",
              "                        <td id=\"T_99a77d16_5fd4_11eb_b824_0242ac1c0002row12_col26\" class=\"data row12 col26\" >0</td>\n",
              "                        <td id=\"T_99a77d16_5fd4_11eb_b824_0242ac1c0002row12_col27\" class=\"data row12 col27\" >0</td>\n",
              "            </tr>\n",
              "            <tr>\n",
              "                        <th id=\"T_99a77d16_5fd4_11eb_b824_0242ac1c0002level0_row13\" class=\"row_heading level0 row13\" >13</th>\n",
              "                        <td id=\"T_99a77d16_5fd4_11eb_b824_0242ac1c0002row13_col0\" class=\"data row13 col0\" >0</td>\n",
              "                        <td id=\"T_99a77d16_5fd4_11eb_b824_0242ac1c0002row13_col1\" class=\"data row13 col1\" >0</td>\n",
              "                        <td id=\"T_99a77d16_5fd4_11eb_b824_0242ac1c0002row13_col2\" class=\"data row13 col2\" >0</td>\n",
              "                        <td id=\"T_99a77d16_5fd4_11eb_b824_0242ac1c0002row13_col3\" class=\"data row13 col3\" >0</td>\n",
              "                        <td id=\"T_99a77d16_5fd4_11eb_b824_0242ac1c0002row13_col4\" class=\"data row13 col4\" >0</td>\n",
              "                        <td id=\"T_99a77d16_5fd4_11eb_b824_0242ac1c0002row13_col5\" class=\"data row13 col5\" >0</td>\n",
              "                        <td id=\"T_99a77d16_5fd4_11eb_b824_0242ac1c0002row13_col6\" class=\"data row13 col6\" >185</td>\n",
              "                        <td id=\"T_99a77d16_5fd4_11eb_b824_0242ac1c0002row13_col7\" class=\"data row13 col7\" >254</td>\n",
              "                        <td id=\"T_99a77d16_5fd4_11eb_b824_0242ac1c0002row13_col8\" class=\"data row13 col8\" >103</td>\n",
              "                        <td id=\"T_99a77d16_5fd4_11eb_b824_0242ac1c0002row13_col9\" class=\"data row13 col9\" >0</td>\n",
              "                        <td id=\"T_99a77d16_5fd4_11eb_b824_0242ac1c0002row13_col10\" class=\"data row13 col10\" >0</td>\n",
              "                        <td id=\"T_99a77d16_5fd4_11eb_b824_0242ac1c0002row13_col11\" class=\"data row13 col11\" >0</td>\n",
              "                        <td id=\"T_99a77d16_5fd4_11eb_b824_0242ac1c0002row13_col12\" class=\"data row13 col12\" >0</td>\n",
              "                        <td id=\"T_99a77d16_5fd4_11eb_b824_0242ac1c0002row13_col13\" class=\"data row13 col13\" >0</td>\n",
              "                        <td id=\"T_99a77d16_5fd4_11eb_b824_0242ac1c0002row13_col14\" class=\"data row13 col14\" >0</td>\n",
              "                        <td id=\"T_99a77d16_5fd4_11eb_b824_0242ac1c0002row13_col15\" class=\"data row13 col15\" >129</td>\n",
              "                        <td id=\"T_99a77d16_5fd4_11eb_b824_0242ac1c0002row13_col16\" class=\"data row13 col16\" >254</td>\n",
              "                        <td id=\"T_99a77d16_5fd4_11eb_b824_0242ac1c0002row13_col17\" class=\"data row13 col17\" >195</td>\n",
              "                        <td id=\"T_99a77d16_5fd4_11eb_b824_0242ac1c0002row13_col18\" class=\"data row13 col18\" >0</td>\n",
              "                        <td id=\"T_99a77d16_5fd4_11eb_b824_0242ac1c0002row13_col19\" class=\"data row13 col19\" >0</td>\n",
              "                        <td id=\"T_99a77d16_5fd4_11eb_b824_0242ac1c0002row13_col20\" class=\"data row13 col20\" >0</td>\n",
              "                        <td id=\"T_99a77d16_5fd4_11eb_b824_0242ac1c0002row13_col21\" class=\"data row13 col21\" >0</td>\n",
              "                        <td id=\"T_99a77d16_5fd4_11eb_b824_0242ac1c0002row13_col22\" class=\"data row13 col22\" >0</td>\n",
              "                        <td id=\"T_99a77d16_5fd4_11eb_b824_0242ac1c0002row13_col23\" class=\"data row13 col23\" >0</td>\n",
              "                        <td id=\"T_99a77d16_5fd4_11eb_b824_0242ac1c0002row13_col24\" class=\"data row13 col24\" >0</td>\n",
              "                        <td id=\"T_99a77d16_5fd4_11eb_b824_0242ac1c0002row13_col25\" class=\"data row13 col25\" >0</td>\n",
              "                        <td id=\"T_99a77d16_5fd4_11eb_b824_0242ac1c0002row13_col26\" class=\"data row13 col26\" >0</td>\n",
              "                        <td id=\"T_99a77d16_5fd4_11eb_b824_0242ac1c0002row13_col27\" class=\"data row13 col27\" >0</td>\n",
              "            </tr>\n",
              "            <tr>\n",
              "                        <th id=\"T_99a77d16_5fd4_11eb_b824_0242ac1c0002level0_row14\" class=\"row_heading level0 row14\" >14</th>\n",
              "                        <td id=\"T_99a77d16_5fd4_11eb_b824_0242ac1c0002row14_col0\" class=\"data row14 col0\" >0</td>\n",
              "                        <td id=\"T_99a77d16_5fd4_11eb_b824_0242ac1c0002row14_col1\" class=\"data row14 col1\" >0</td>\n",
              "                        <td id=\"T_99a77d16_5fd4_11eb_b824_0242ac1c0002row14_col2\" class=\"data row14 col2\" >0</td>\n",
              "                        <td id=\"T_99a77d16_5fd4_11eb_b824_0242ac1c0002row14_col3\" class=\"data row14 col3\" >0</td>\n",
              "                        <td id=\"T_99a77d16_5fd4_11eb_b824_0242ac1c0002row14_col4\" class=\"data row14 col4\" >0</td>\n",
              "                        <td id=\"T_99a77d16_5fd4_11eb_b824_0242ac1c0002row14_col5\" class=\"data row14 col5\" >0</td>\n",
              "                        <td id=\"T_99a77d16_5fd4_11eb_b824_0242ac1c0002row14_col6\" class=\"data row14 col6\" >185</td>\n",
              "                        <td id=\"T_99a77d16_5fd4_11eb_b824_0242ac1c0002row14_col7\" class=\"data row14 col7\" >243</td>\n",
              "                        <td id=\"T_99a77d16_5fd4_11eb_b824_0242ac1c0002row14_col8\" class=\"data row14 col8\" >9</td>\n",
              "                        <td id=\"T_99a77d16_5fd4_11eb_b824_0242ac1c0002row14_col9\" class=\"data row14 col9\" >0</td>\n",
              "                        <td id=\"T_99a77d16_5fd4_11eb_b824_0242ac1c0002row14_col10\" class=\"data row14 col10\" >0</td>\n",
              "                        <td id=\"T_99a77d16_5fd4_11eb_b824_0242ac1c0002row14_col11\" class=\"data row14 col11\" >0</td>\n",
              "                        <td id=\"T_99a77d16_5fd4_11eb_b824_0242ac1c0002row14_col12\" class=\"data row14 col12\" >0</td>\n",
              "                        <td id=\"T_99a77d16_5fd4_11eb_b824_0242ac1c0002row14_col13\" class=\"data row14 col13\" >0</td>\n",
              "                        <td id=\"T_99a77d16_5fd4_11eb_b824_0242ac1c0002row14_col14\" class=\"data row14 col14\" >0</td>\n",
              "                        <td id=\"T_99a77d16_5fd4_11eb_b824_0242ac1c0002row14_col15\" class=\"data row14 col15\" >201</td>\n",
              "                        <td id=\"T_99a77d16_5fd4_11eb_b824_0242ac1c0002row14_col16\" class=\"data row14 col16\" >254</td>\n",
              "                        <td id=\"T_99a77d16_5fd4_11eb_b824_0242ac1c0002row14_col17\" class=\"data row14 col17\" >141</td>\n",
              "                        <td id=\"T_99a77d16_5fd4_11eb_b824_0242ac1c0002row14_col18\" class=\"data row14 col18\" >0</td>\n",
              "                        <td id=\"T_99a77d16_5fd4_11eb_b824_0242ac1c0002row14_col19\" class=\"data row14 col19\" >0</td>\n",
              "                        <td id=\"T_99a77d16_5fd4_11eb_b824_0242ac1c0002row14_col20\" class=\"data row14 col20\" >0</td>\n",
              "                        <td id=\"T_99a77d16_5fd4_11eb_b824_0242ac1c0002row14_col21\" class=\"data row14 col21\" >0</td>\n",
              "                        <td id=\"T_99a77d16_5fd4_11eb_b824_0242ac1c0002row14_col22\" class=\"data row14 col22\" >0</td>\n",
              "                        <td id=\"T_99a77d16_5fd4_11eb_b824_0242ac1c0002row14_col23\" class=\"data row14 col23\" >0</td>\n",
              "                        <td id=\"T_99a77d16_5fd4_11eb_b824_0242ac1c0002row14_col24\" class=\"data row14 col24\" >0</td>\n",
              "                        <td id=\"T_99a77d16_5fd4_11eb_b824_0242ac1c0002row14_col25\" class=\"data row14 col25\" >0</td>\n",
              "                        <td id=\"T_99a77d16_5fd4_11eb_b824_0242ac1c0002row14_col26\" class=\"data row14 col26\" >0</td>\n",
              "                        <td id=\"T_99a77d16_5fd4_11eb_b824_0242ac1c0002row14_col27\" class=\"data row14 col27\" >0</td>\n",
              "            </tr>\n",
              "            <tr>\n",
              "                        <th id=\"T_99a77d16_5fd4_11eb_b824_0242ac1c0002level0_row15\" class=\"row_heading level0 row15\" >15</th>\n",
              "                        <td id=\"T_99a77d16_5fd4_11eb_b824_0242ac1c0002row15_col0\" class=\"data row15 col0\" >0</td>\n",
              "                        <td id=\"T_99a77d16_5fd4_11eb_b824_0242ac1c0002row15_col1\" class=\"data row15 col1\" >0</td>\n",
              "                        <td id=\"T_99a77d16_5fd4_11eb_b824_0242ac1c0002row15_col2\" class=\"data row15 col2\" >0</td>\n",
              "                        <td id=\"T_99a77d16_5fd4_11eb_b824_0242ac1c0002row15_col3\" class=\"data row15 col3\" >0</td>\n",
              "                        <td id=\"T_99a77d16_5fd4_11eb_b824_0242ac1c0002row15_col4\" class=\"data row15 col4\" >0</td>\n",
              "                        <td id=\"T_99a77d16_5fd4_11eb_b824_0242ac1c0002row15_col5\" class=\"data row15 col5\" >0</td>\n",
              "                        <td id=\"T_99a77d16_5fd4_11eb_b824_0242ac1c0002row15_col6\" class=\"data row15 col6\" >145</td>\n",
              "                        <td id=\"T_99a77d16_5fd4_11eb_b824_0242ac1c0002row15_col7\" class=\"data row15 col7\" >111</td>\n",
              "                        <td id=\"T_99a77d16_5fd4_11eb_b824_0242ac1c0002row15_col8\" class=\"data row15 col8\" >0</td>\n",
              "                        <td id=\"T_99a77d16_5fd4_11eb_b824_0242ac1c0002row15_col9\" class=\"data row15 col9\" >0</td>\n",
              "                        <td id=\"T_99a77d16_5fd4_11eb_b824_0242ac1c0002row15_col10\" class=\"data row15 col10\" >49</td>\n",
              "                        <td id=\"T_99a77d16_5fd4_11eb_b824_0242ac1c0002row15_col11\" class=\"data row15 col11\" >21</td>\n",
              "                        <td id=\"T_99a77d16_5fd4_11eb_b824_0242ac1c0002row15_col12\" class=\"data row15 col12\" >0</td>\n",
              "                        <td id=\"T_99a77d16_5fd4_11eb_b824_0242ac1c0002row15_col13\" class=\"data row15 col13\" >0</td>\n",
              "                        <td id=\"T_99a77d16_5fd4_11eb_b824_0242ac1c0002row15_col14\" class=\"data row15 col14\" >35</td>\n",
              "                        <td id=\"T_99a77d16_5fd4_11eb_b824_0242ac1c0002row15_col15\" class=\"data row15 col15\" >235</td>\n",
              "                        <td id=\"T_99a77d16_5fd4_11eb_b824_0242ac1c0002row15_col16\" class=\"data row15 col16\" >217</td>\n",
              "                        <td id=\"T_99a77d16_5fd4_11eb_b824_0242ac1c0002row15_col17\" class=\"data row15 col17\" >31</td>\n",
              "                        <td id=\"T_99a77d16_5fd4_11eb_b824_0242ac1c0002row15_col18\" class=\"data row15 col18\" >0</td>\n",
              "                        <td id=\"T_99a77d16_5fd4_11eb_b824_0242ac1c0002row15_col19\" class=\"data row15 col19\" >0</td>\n",
              "                        <td id=\"T_99a77d16_5fd4_11eb_b824_0242ac1c0002row15_col20\" class=\"data row15 col20\" >0</td>\n",
              "                        <td id=\"T_99a77d16_5fd4_11eb_b824_0242ac1c0002row15_col21\" class=\"data row15 col21\" >0</td>\n",
              "                        <td id=\"T_99a77d16_5fd4_11eb_b824_0242ac1c0002row15_col22\" class=\"data row15 col22\" >7</td>\n",
              "                        <td id=\"T_99a77d16_5fd4_11eb_b824_0242ac1c0002row15_col23\" class=\"data row15 col23\" >55</td>\n",
              "                        <td id=\"T_99a77d16_5fd4_11eb_b824_0242ac1c0002row15_col24\" class=\"data row15 col24\" >32</td>\n",
              "                        <td id=\"T_99a77d16_5fd4_11eb_b824_0242ac1c0002row15_col25\" class=\"data row15 col25\" >0</td>\n",
              "                        <td id=\"T_99a77d16_5fd4_11eb_b824_0242ac1c0002row15_col26\" class=\"data row15 col26\" >0</td>\n",
              "                        <td id=\"T_99a77d16_5fd4_11eb_b824_0242ac1c0002row15_col27\" class=\"data row15 col27\" >0</td>\n",
              "            </tr>\n",
              "            <tr>\n",
              "                        <th id=\"T_99a77d16_5fd4_11eb_b824_0242ac1c0002level0_row16\" class=\"row_heading level0 row16\" >16</th>\n",
              "                        <td id=\"T_99a77d16_5fd4_11eb_b824_0242ac1c0002row16_col0\" class=\"data row16 col0\" >0</td>\n",
              "                        <td id=\"T_99a77d16_5fd4_11eb_b824_0242ac1c0002row16_col1\" class=\"data row16 col1\" >0</td>\n",
              "                        <td id=\"T_99a77d16_5fd4_11eb_b824_0242ac1c0002row16_col2\" class=\"data row16 col2\" >0</td>\n",
              "                        <td id=\"T_99a77d16_5fd4_11eb_b824_0242ac1c0002row16_col3\" class=\"data row16 col3\" >0</td>\n",
              "                        <td id=\"T_99a77d16_5fd4_11eb_b824_0242ac1c0002row16_col4\" class=\"data row16 col4\" >0</td>\n",
              "                        <td id=\"T_99a77d16_5fd4_11eb_b824_0242ac1c0002row16_col5\" class=\"data row16 col5\" >0</td>\n",
              "                        <td id=\"T_99a77d16_5fd4_11eb_b824_0242ac1c0002row16_col6\" class=\"data row16 col6\" >0</td>\n",
              "                        <td id=\"T_99a77d16_5fd4_11eb_b824_0242ac1c0002row16_col7\" class=\"data row16 col7\" >0</td>\n",
              "                        <td id=\"T_99a77d16_5fd4_11eb_b824_0242ac1c0002row16_col8\" class=\"data row16 col8\" >0</td>\n",
              "                        <td id=\"T_99a77d16_5fd4_11eb_b824_0242ac1c0002row16_col9\" class=\"data row16 col9\" >65</td>\n",
              "                        <td id=\"T_99a77d16_5fd4_11eb_b824_0242ac1c0002row16_col10\" class=\"data row16 col10\" >249</td>\n",
              "                        <td id=\"T_99a77d16_5fd4_11eb_b824_0242ac1c0002row16_col11\" class=\"data row16 col11\" >221</td>\n",
              "                        <td id=\"T_99a77d16_5fd4_11eb_b824_0242ac1c0002row16_col12\" class=\"data row16 col12\" >47</td>\n",
              "                        <td id=\"T_99a77d16_5fd4_11eb_b824_0242ac1c0002row16_col13\" class=\"data row16 col13\" >0</td>\n",
              "                        <td id=\"T_99a77d16_5fd4_11eb_b824_0242ac1c0002row16_col14\" class=\"data row16 col14\" >95</td>\n",
              "                        <td id=\"T_99a77d16_5fd4_11eb_b824_0242ac1c0002row16_col15\" class=\"data row16 col15\" >254</td>\n",
              "                        <td id=\"T_99a77d16_5fd4_11eb_b824_0242ac1c0002row16_col16\" class=\"data row16 col16\" >125</td>\n",
              "                        <td id=\"T_99a77d16_5fd4_11eb_b824_0242ac1c0002row16_col17\" class=\"data row16 col17\" >0</td>\n",
              "                        <td id=\"T_99a77d16_5fd4_11eb_b824_0242ac1c0002row16_col18\" class=\"data row16 col18\" >0</td>\n",
              "                        <td id=\"T_99a77d16_5fd4_11eb_b824_0242ac1c0002row16_col19\" class=\"data row16 col19\" >0</td>\n",
              "                        <td id=\"T_99a77d16_5fd4_11eb_b824_0242ac1c0002row16_col20\" class=\"data row16 col20\" >0</td>\n",
              "                        <td id=\"T_99a77d16_5fd4_11eb_b824_0242ac1c0002row16_col21\" class=\"data row16 col21\" >78</td>\n",
              "                        <td id=\"T_99a77d16_5fd4_11eb_b824_0242ac1c0002row16_col22\" class=\"data row16 col22\" >114</td>\n",
              "                        <td id=\"T_99a77d16_5fd4_11eb_b824_0242ac1c0002row16_col23\" class=\"data row16 col23\" >254</td>\n",
              "                        <td id=\"T_99a77d16_5fd4_11eb_b824_0242ac1c0002row16_col24\" class=\"data row16 col24\" >232</td>\n",
              "                        <td id=\"T_99a77d16_5fd4_11eb_b824_0242ac1c0002row16_col25\" class=\"data row16 col25\" >0</td>\n",
              "                        <td id=\"T_99a77d16_5fd4_11eb_b824_0242ac1c0002row16_col26\" class=\"data row16 col26\" >0</td>\n",
              "                        <td id=\"T_99a77d16_5fd4_11eb_b824_0242ac1c0002row16_col27\" class=\"data row16 col27\" >0</td>\n",
              "            </tr>\n",
              "            <tr>\n",
              "                        <th id=\"T_99a77d16_5fd4_11eb_b824_0242ac1c0002level0_row17\" class=\"row_heading level0 row17\" >17</th>\n",
              "                        <td id=\"T_99a77d16_5fd4_11eb_b824_0242ac1c0002row17_col0\" class=\"data row17 col0\" >0</td>\n",
              "                        <td id=\"T_99a77d16_5fd4_11eb_b824_0242ac1c0002row17_col1\" class=\"data row17 col1\" >0</td>\n",
              "                        <td id=\"T_99a77d16_5fd4_11eb_b824_0242ac1c0002row17_col2\" class=\"data row17 col2\" >0</td>\n",
              "                        <td id=\"T_99a77d16_5fd4_11eb_b824_0242ac1c0002row17_col3\" class=\"data row17 col3\" >0</td>\n",
              "                        <td id=\"T_99a77d16_5fd4_11eb_b824_0242ac1c0002row17_col4\" class=\"data row17 col4\" >0</td>\n",
              "                        <td id=\"T_99a77d16_5fd4_11eb_b824_0242ac1c0002row17_col5\" class=\"data row17 col5\" >0</td>\n",
              "                        <td id=\"T_99a77d16_5fd4_11eb_b824_0242ac1c0002row17_col6\" class=\"data row17 col6\" >0</td>\n",
              "                        <td id=\"T_99a77d16_5fd4_11eb_b824_0242ac1c0002row17_col7\" class=\"data row17 col7\" >0</td>\n",
              "                        <td id=\"T_99a77d16_5fd4_11eb_b824_0242ac1c0002row17_col8\" class=\"data row17 col8\" >0</td>\n",
              "                        <td id=\"T_99a77d16_5fd4_11eb_b824_0242ac1c0002row17_col9\" class=\"data row17 col9\" >75</td>\n",
              "                        <td id=\"T_99a77d16_5fd4_11eb_b824_0242ac1c0002row17_col10\" class=\"data row17 col10\" >252</td>\n",
              "                        <td id=\"T_99a77d16_5fd4_11eb_b824_0242ac1c0002row17_col11\" class=\"data row17 col11\" >254</td>\n",
              "                        <td id=\"T_99a77d16_5fd4_11eb_b824_0242ac1c0002row17_col12\" class=\"data row17 col12\" >243</td>\n",
              "                        <td id=\"T_99a77d16_5fd4_11eb_b824_0242ac1c0002row17_col13\" class=\"data row17 col13\" >146</td>\n",
              "                        <td id=\"T_99a77d16_5fd4_11eb_b824_0242ac1c0002row17_col14\" class=\"data row17 col14\" >249</td>\n",
              "                        <td id=\"T_99a77d16_5fd4_11eb_b824_0242ac1c0002row17_col15\" class=\"data row17 col15\" >254</td>\n",
              "                        <td id=\"T_99a77d16_5fd4_11eb_b824_0242ac1c0002row17_col16\" class=\"data row17 col16\" >191</td>\n",
              "                        <td id=\"T_99a77d16_5fd4_11eb_b824_0242ac1c0002row17_col17\" class=\"data row17 col17\" >130</td>\n",
              "                        <td id=\"T_99a77d16_5fd4_11eb_b824_0242ac1c0002row17_col18\" class=\"data row17 col18\" >219</td>\n",
              "                        <td id=\"T_99a77d16_5fd4_11eb_b824_0242ac1c0002row17_col19\" class=\"data row17 col19\" >239</td>\n",
              "                        <td id=\"T_99a77d16_5fd4_11eb_b824_0242ac1c0002row17_col20\" class=\"data row17 col20\" >239</td>\n",
              "                        <td id=\"T_99a77d16_5fd4_11eb_b824_0242ac1c0002row17_col21\" class=\"data row17 col21\" >252</td>\n",
              "                        <td id=\"T_99a77d16_5fd4_11eb_b824_0242ac1c0002row17_col22\" class=\"data row17 col22\" >252</td>\n",
              "                        <td id=\"T_99a77d16_5fd4_11eb_b824_0242ac1c0002row17_col23\" class=\"data row17 col23\" >233</td>\n",
              "                        <td id=\"T_99a77d16_5fd4_11eb_b824_0242ac1c0002row17_col24\" class=\"data row17 col24\" >47</td>\n",
              "                        <td id=\"T_99a77d16_5fd4_11eb_b824_0242ac1c0002row17_col25\" class=\"data row17 col25\" >0</td>\n",
              "                        <td id=\"T_99a77d16_5fd4_11eb_b824_0242ac1c0002row17_col26\" class=\"data row17 col26\" >0</td>\n",
              "                        <td id=\"T_99a77d16_5fd4_11eb_b824_0242ac1c0002row17_col27\" class=\"data row17 col27\" >0</td>\n",
              "            </tr>\n",
              "            <tr>\n",
              "                        <th id=\"T_99a77d16_5fd4_11eb_b824_0242ac1c0002level0_row18\" class=\"row_heading level0 row18\" >18</th>\n",
              "                        <td id=\"T_99a77d16_5fd4_11eb_b824_0242ac1c0002row18_col0\" class=\"data row18 col0\" >0</td>\n",
              "                        <td id=\"T_99a77d16_5fd4_11eb_b824_0242ac1c0002row18_col1\" class=\"data row18 col1\" >0</td>\n",
              "                        <td id=\"T_99a77d16_5fd4_11eb_b824_0242ac1c0002row18_col2\" class=\"data row18 col2\" >0</td>\n",
              "                        <td id=\"T_99a77d16_5fd4_11eb_b824_0242ac1c0002row18_col3\" class=\"data row18 col3\" >0</td>\n",
              "                        <td id=\"T_99a77d16_5fd4_11eb_b824_0242ac1c0002row18_col4\" class=\"data row18 col4\" >0</td>\n",
              "                        <td id=\"T_99a77d16_5fd4_11eb_b824_0242ac1c0002row18_col5\" class=\"data row18 col5\" >0</td>\n",
              "                        <td id=\"T_99a77d16_5fd4_11eb_b824_0242ac1c0002row18_col6\" class=\"data row18 col6\" >0</td>\n",
              "                        <td id=\"T_99a77d16_5fd4_11eb_b824_0242ac1c0002row18_col7\" class=\"data row18 col7\" >0</td>\n",
              "                        <td id=\"T_99a77d16_5fd4_11eb_b824_0242ac1c0002row18_col8\" class=\"data row18 col8\" >0</td>\n",
              "                        <td id=\"T_99a77d16_5fd4_11eb_b824_0242ac1c0002row18_col9\" class=\"data row18 col9\" >0</td>\n",
              "                        <td id=\"T_99a77d16_5fd4_11eb_b824_0242ac1c0002row18_col10\" class=\"data row18 col10\" >175</td>\n",
              "                        <td id=\"T_99a77d16_5fd4_11eb_b824_0242ac1c0002row18_col11\" class=\"data row18 col11\" >232</td>\n",
              "                        <td id=\"T_99a77d16_5fd4_11eb_b824_0242ac1c0002row18_col12\" class=\"data row18 col12\" >254</td>\n",
              "                        <td id=\"T_99a77d16_5fd4_11eb_b824_0242ac1c0002row18_col13\" class=\"data row18 col13\" >254</td>\n",
              "                        <td id=\"T_99a77d16_5fd4_11eb_b824_0242ac1c0002row18_col14\" class=\"data row18 col14\" >254</td>\n",
              "                        <td id=\"T_99a77d16_5fd4_11eb_b824_0242ac1c0002row18_col15\" class=\"data row18 col15\" >254</td>\n",
              "                        <td id=\"T_99a77d16_5fd4_11eb_b824_0242ac1c0002row18_col16\" class=\"data row18 col16\" >254</td>\n",
              "                        <td id=\"T_99a77d16_5fd4_11eb_b824_0242ac1c0002row18_col17\" class=\"data row18 col17\" >254</td>\n",
              "                        <td id=\"T_99a77d16_5fd4_11eb_b824_0242ac1c0002row18_col18\" class=\"data row18 col18\" >254</td>\n",
              "                        <td id=\"T_99a77d16_5fd4_11eb_b824_0242ac1c0002row18_col19\" class=\"data row18 col19\" >254</td>\n",
              "                        <td id=\"T_99a77d16_5fd4_11eb_b824_0242ac1c0002row18_col20\" class=\"data row18 col20\" >239</td>\n",
              "                        <td id=\"T_99a77d16_5fd4_11eb_b824_0242ac1c0002row18_col21\" class=\"data row18 col21\" >150</td>\n",
              "                        <td id=\"T_99a77d16_5fd4_11eb_b824_0242ac1c0002row18_col22\" class=\"data row18 col22\" >76</td>\n",
              "                        <td id=\"T_99a77d16_5fd4_11eb_b824_0242ac1c0002row18_col23\" class=\"data row18 col23\" >0</td>\n",
              "                        <td id=\"T_99a77d16_5fd4_11eb_b824_0242ac1c0002row18_col24\" class=\"data row18 col24\" >0</td>\n",
              "                        <td id=\"T_99a77d16_5fd4_11eb_b824_0242ac1c0002row18_col25\" class=\"data row18 col25\" >0</td>\n",
              "                        <td id=\"T_99a77d16_5fd4_11eb_b824_0242ac1c0002row18_col26\" class=\"data row18 col26\" >0</td>\n",
              "                        <td id=\"T_99a77d16_5fd4_11eb_b824_0242ac1c0002row18_col27\" class=\"data row18 col27\" >0</td>\n",
              "            </tr>\n",
              "            <tr>\n",
              "                        <th id=\"T_99a77d16_5fd4_11eb_b824_0242ac1c0002level0_row19\" class=\"row_heading level0 row19\" >19</th>\n",
              "                        <td id=\"T_99a77d16_5fd4_11eb_b824_0242ac1c0002row19_col0\" class=\"data row19 col0\" >0</td>\n",
              "                        <td id=\"T_99a77d16_5fd4_11eb_b824_0242ac1c0002row19_col1\" class=\"data row19 col1\" >0</td>\n",
              "                        <td id=\"T_99a77d16_5fd4_11eb_b824_0242ac1c0002row19_col2\" class=\"data row19 col2\" >0</td>\n",
              "                        <td id=\"T_99a77d16_5fd4_11eb_b824_0242ac1c0002row19_col3\" class=\"data row19 col3\" >0</td>\n",
              "                        <td id=\"T_99a77d16_5fd4_11eb_b824_0242ac1c0002row19_col4\" class=\"data row19 col4\" >0</td>\n",
              "                        <td id=\"T_99a77d16_5fd4_11eb_b824_0242ac1c0002row19_col5\" class=\"data row19 col5\" >0</td>\n",
              "                        <td id=\"T_99a77d16_5fd4_11eb_b824_0242ac1c0002row19_col6\" class=\"data row19 col6\" >0</td>\n",
              "                        <td id=\"T_99a77d16_5fd4_11eb_b824_0242ac1c0002row19_col7\" class=\"data row19 col7\" >0</td>\n",
              "                        <td id=\"T_99a77d16_5fd4_11eb_b824_0242ac1c0002row19_col8\" class=\"data row19 col8\" >0</td>\n",
              "                        <td id=\"T_99a77d16_5fd4_11eb_b824_0242ac1c0002row19_col9\" class=\"data row19 col9\" >0</td>\n",
              "                        <td id=\"T_99a77d16_5fd4_11eb_b824_0242ac1c0002row19_col10\" class=\"data row19 col10\" >0</td>\n",
              "                        <td id=\"T_99a77d16_5fd4_11eb_b824_0242ac1c0002row19_col11\" class=\"data row19 col11\" >30</td>\n",
              "                        <td id=\"T_99a77d16_5fd4_11eb_b824_0242ac1c0002row19_col12\" class=\"data row19 col12\" >131</td>\n",
              "                        <td id=\"T_99a77d16_5fd4_11eb_b824_0242ac1c0002row19_col13\" class=\"data row19 col13\" >163</td>\n",
              "                        <td id=\"T_99a77d16_5fd4_11eb_b824_0242ac1c0002row19_col14\" class=\"data row19 col14\" >254</td>\n",
              "                        <td id=\"T_99a77d16_5fd4_11eb_b824_0242ac1c0002row19_col15\" class=\"data row19 col15\" >254</td>\n",
              "                        <td id=\"T_99a77d16_5fd4_11eb_b824_0242ac1c0002row19_col16\" class=\"data row19 col16\" >204</td>\n",
              "                        <td id=\"T_99a77d16_5fd4_11eb_b824_0242ac1c0002row19_col17\" class=\"data row19 col17\" >156</td>\n",
              "                        <td id=\"T_99a77d16_5fd4_11eb_b824_0242ac1c0002row19_col18\" class=\"data row19 col18\" >69</td>\n",
              "                        <td id=\"T_99a77d16_5fd4_11eb_b824_0242ac1c0002row19_col19\" class=\"data row19 col19\" >48</td>\n",
              "                        <td id=\"T_99a77d16_5fd4_11eb_b824_0242ac1c0002row19_col20\" class=\"data row19 col20\" >36</td>\n",
              "                        <td id=\"T_99a77d16_5fd4_11eb_b824_0242ac1c0002row19_col21\" class=\"data row19 col21\" >0</td>\n",
              "                        <td id=\"T_99a77d16_5fd4_11eb_b824_0242ac1c0002row19_col22\" class=\"data row19 col22\" >0</td>\n",
              "                        <td id=\"T_99a77d16_5fd4_11eb_b824_0242ac1c0002row19_col23\" class=\"data row19 col23\" >0</td>\n",
              "                        <td id=\"T_99a77d16_5fd4_11eb_b824_0242ac1c0002row19_col24\" class=\"data row19 col24\" >0</td>\n",
              "                        <td id=\"T_99a77d16_5fd4_11eb_b824_0242ac1c0002row19_col25\" class=\"data row19 col25\" >0</td>\n",
              "                        <td id=\"T_99a77d16_5fd4_11eb_b824_0242ac1c0002row19_col26\" class=\"data row19 col26\" >0</td>\n",
              "                        <td id=\"T_99a77d16_5fd4_11eb_b824_0242ac1c0002row19_col27\" class=\"data row19 col27\" >0</td>\n",
              "            </tr>\n",
              "            <tr>\n",
              "                        <th id=\"T_99a77d16_5fd4_11eb_b824_0242ac1c0002level0_row20\" class=\"row_heading level0 row20\" >20</th>\n",
              "                        <td id=\"T_99a77d16_5fd4_11eb_b824_0242ac1c0002row20_col0\" class=\"data row20 col0\" >0</td>\n",
              "                        <td id=\"T_99a77d16_5fd4_11eb_b824_0242ac1c0002row20_col1\" class=\"data row20 col1\" >0</td>\n",
              "                        <td id=\"T_99a77d16_5fd4_11eb_b824_0242ac1c0002row20_col2\" class=\"data row20 col2\" >0</td>\n",
              "                        <td id=\"T_99a77d16_5fd4_11eb_b824_0242ac1c0002row20_col3\" class=\"data row20 col3\" >0</td>\n",
              "                        <td id=\"T_99a77d16_5fd4_11eb_b824_0242ac1c0002row20_col4\" class=\"data row20 col4\" >0</td>\n",
              "                        <td id=\"T_99a77d16_5fd4_11eb_b824_0242ac1c0002row20_col5\" class=\"data row20 col5\" >0</td>\n",
              "                        <td id=\"T_99a77d16_5fd4_11eb_b824_0242ac1c0002row20_col6\" class=\"data row20 col6\" >0</td>\n",
              "                        <td id=\"T_99a77d16_5fd4_11eb_b824_0242ac1c0002row20_col7\" class=\"data row20 col7\" >0</td>\n",
              "                        <td id=\"T_99a77d16_5fd4_11eb_b824_0242ac1c0002row20_col8\" class=\"data row20 col8\" >0</td>\n",
              "                        <td id=\"T_99a77d16_5fd4_11eb_b824_0242ac1c0002row20_col9\" class=\"data row20 col9\" >0</td>\n",
              "                        <td id=\"T_99a77d16_5fd4_11eb_b824_0242ac1c0002row20_col10\" class=\"data row20 col10\" >0</td>\n",
              "                        <td id=\"T_99a77d16_5fd4_11eb_b824_0242ac1c0002row20_col11\" class=\"data row20 col11\" >0</td>\n",
              "                        <td id=\"T_99a77d16_5fd4_11eb_b824_0242ac1c0002row20_col12\" class=\"data row20 col12\" >0</td>\n",
              "                        <td id=\"T_99a77d16_5fd4_11eb_b824_0242ac1c0002row20_col13\" class=\"data row20 col13\" >17</td>\n",
              "                        <td id=\"T_99a77d16_5fd4_11eb_b824_0242ac1c0002row20_col14\" class=\"data row20 col14\" >254</td>\n",
              "                        <td id=\"T_99a77d16_5fd4_11eb_b824_0242ac1c0002row20_col15\" class=\"data row20 col15\" >254</td>\n",
              "                        <td id=\"T_99a77d16_5fd4_11eb_b824_0242ac1c0002row20_col16\" class=\"data row20 col16\" >20</td>\n",
              "                        <td id=\"T_99a77d16_5fd4_11eb_b824_0242ac1c0002row20_col17\" class=\"data row20 col17\" >0</td>\n",
              "                        <td id=\"T_99a77d16_5fd4_11eb_b824_0242ac1c0002row20_col18\" class=\"data row20 col18\" >0</td>\n",
              "                        <td id=\"T_99a77d16_5fd4_11eb_b824_0242ac1c0002row20_col19\" class=\"data row20 col19\" >0</td>\n",
              "                        <td id=\"T_99a77d16_5fd4_11eb_b824_0242ac1c0002row20_col20\" class=\"data row20 col20\" >0</td>\n",
              "                        <td id=\"T_99a77d16_5fd4_11eb_b824_0242ac1c0002row20_col21\" class=\"data row20 col21\" >0</td>\n",
              "                        <td id=\"T_99a77d16_5fd4_11eb_b824_0242ac1c0002row20_col22\" class=\"data row20 col22\" >0</td>\n",
              "                        <td id=\"T_99a77d16_5fd4_11eb_b824_0242ac1c0002row20_col23\" class=\"data row20 col23\" >0</td>\n",
              "                        <td id=\"T_99a77d16_5fd4_11eb_b824_0242ac1c0002row20_col24\" class=\"data row20 col24\" >0</td>\n",
              "                        <td id=\"T_99a77d16_5fd4_11eb_b824_0242ac1c0002row20_col25\" class=\"data row20 col25\" >0</td>\n",
              "                        <td id=\"T_99a77d16_5fd4_11eb_b824_0242ac1c0002row20_col26\" class=\"data row20 col26\" >0</td>\n",
              "                        <td id=\"T_99a77d16_5fd4_11eb_b824_0242ac1c0002row20_col27\" class=\"data row20 col27\" >0</td>\n",
              "            </tr>\n",
              "            <tr>\n",
              "                        <th id=\"T_99a77d16_5fd4_11eb_b824_0242ac1c0002level0_row21\" class=\"row_heading level0 row21\" >21</th>\n",
              "                        <td id=\"T_99a77d16_5fd4_11eb_b824_0242ac1c0002row21_col0\" class=\"data row21 col0\" >0</td>\n",
              "                        <td id=\"T_99a77d16_5fd4_11eb_b824_0242ac1c0002row21_col1\" class=\"data row21 col1\" >0</td>\n",
              "                        <td id=\"T_99a77d16_5fd4_11eb_b824_0242ac1c0002row21_col2\" class=\"data row21 col2\" >0</td>\n",
              "                        <td id=\"T_99a77d16_5fd4_11eb_b824_0242ac1c0002row21_col3\" class=\"data row21 col3\" >0</td>\n",
              "                        <td id=\"T_99a77d16_5fd4_11eb_b824_0242ac1c0002row21_col4\" class=\"data row21 col4\" >0</td>\n",
              "                        <td id=\"T_99a77d16_5fd4_11eb_b824_0242ac1c0002row21_col5\" class=\"data row21 col5\" >0</td>\n",
              "                        <td id=\"T_99a77d16_5fd4_11eb_b824_0242ac1c0002row21_col6\" class=\"data row21 col6\" >0</td>\n",
              "                        <td id=\"T_99a77d16_5fd4_11eb_b824_0242ac1c0002row21_col7\" class=\"data row21 col7\" >0</td>\n",
              "                        <td id=\"T_99a77d16_5fd4_11eb_b824_0242ac1c0002row21_col8\" class=\"data row21 col8\" >0</td>\n",
              "                        <td id=\"T_99a77d16_5fd4_11eb_b824_0242ac1c0002row21_col9\" class=\"data row21 col9\" >0</td>\n",
              "                        <td id=\"T_99a77d16_5fd4_11eb_b824_0242ac1c0002row21_col10\" class=\"data row21 col10\" >0</td>\n",
              "                        <td id=\"T_99a77d16_5fd4_11eb_b824_0242ac1c0002row21_col11\" class=\"data row21 col11\" >0</td>\n",
              "                        <td id=\"T_99a77d16_5fd4_11eb_b824_0242ac1c0002row21_col12\" class=\"data row21 col12\" >0</td>\n",
              "                        <td id=\"T_99a77d16_5fd4_11eb_b824_0242ac1c0002row21_col13\" class=\"data row21 col13\" >119</td>\n",
              "                        <td id=\"T_99a77d16_5fd4_11eb_b824_0242ac1c0002row21_col14\" class=\"data row21 col14\" >255</td>\n",
              "                        <td id=\"T_99a77d16_5fd4_11eb_b824_0242ac1c0002row21_col15\" class=\"data row21 col15\" >191</td>\n",
              "                        <td id=\"T_99a77d16_5fd4_11eb_b824_0242ac1c0002row21_col16\" class=\"data row21 col16\" >5</td>\n",
              "                        <td id=\"T_99a77d16_5fd4_11eb_b824_0242ac1c0002row21_col17\" class=\"data row21 col17\" >0</td>\n",
              "                        <td id=\"T_99a77d16_5fd4_11eb_b824_0242ac1c0002row21_col18\" class=\"data row21 col18\" >0</td>\n",
              "                        <td id=\"T_99a77d16_5fd4_11eb_b824_0242ac1c0002row21_col19\" class=\"data row21 col19\" >0</td>\n",
              "                        <td id=\"T_99a77d16_5fd4_11eb_b824_0242ac1c0002row21_col20\" class=\"data row21 col20\" >0</td>\n",
              "                        <td id=\"T_99a77d16_5fd4_11eb_b824_0242ac1c0002row21_col21\" class=\"data row21 col21\" >0</td>\n",
              "                        <td id=\"T_99a77d16_5fd4_11eb_b824_0242ac1c0002row21_col22\" class=\"data row21 col22\" >0</td>\n",
              "                        <td id=\"T_99a77d16_5fd4_11eb_b824_0242ac1c0002row21_col23\" class=\"data row21 col23\" >0</td>\n",
              "                        <td id=\"T_99a77d16_5fd4_11eb_b824_0242ac1c0002row21_col24\" class=\"data row21 col24\" >0</td>\n",
              "                        <td id=\"T_99a77d16_5fd4_11eb_b824_0242ac1c0002row21_col25\" class=\"data row21 col25\" >0</td>\n",
              "                        <td id=\"T_99a77d16_5fd4_11eb_b824_0242ac1c0002row21_col26\" class=\"data row21 col26\" >0</td>\n",
              "                        <td id=\"T_99a77d16_5fd4_11eb_b824_0242ac1c0002row21_col27\" class=\"data row21 col27\" >0</td>\n",
              "            </tr>\n",
              "            <tr>\n",
              "                        <th id=\"T_99a77d16_5fd4_11eb_b824_0242ac1c0002level0_row22\" class=\"row_heading level0 row22\" >22</th>\n",
              "                        <td id=\"T_99a77d16_5fd4_11eb_b824_0242ac1c0002row22_col0\" class=\"data row22 col0\" >0</td>\n",
              "                        <td id=\"T_99a77d16_5fd4_11eb_b824_0242ac1c0002row22_col1\" class=\"data row22 col1\" >0</td>\n",
              "                        <td id=\"T_99a77d16_5fd4_11eb_b824_0242ac1c0002row22_col2\" class=\"data row22 col2\" >0</td>\n",
              "                        <td id=\"T_99a77d16_5fd4_11eb_b824_0242ac1c0002row22_col3\" class=\"data row22 col3\" >0</td>\n",
              "                        <td id=\"T_99a77d16_5fd4_11eb_b824_0242ac1c0002row22_col4\" class=\"data row22 col4\" >0</td>\n",
              "                        <td id=\"T_99a77d16_5fd4_11eb_b824_0242ac1c0002row22_col5\" class=\"data row22 col5\" >0</td>\n",
              "                        <td id=\"T_99a77d16_5fd4_11eb_b824_0242ac1c0002row22_col6\" class=\"data row22 col6\" >0</td>\n",
              "                        <td id=\"T_99a77d16_5fd4_11eb_b824_0242ac1c0002row22_col7\" class=\"data row22 col7\" >0</td>\n",
              "                        <td id=\"T_99a77d16_5fd4_11eb_b824_0242ac1c0002row22_col8\" class=\"data row22 col8\" >0</td>\n",
              "                        <td id=\"T_99a77d16_5fd4_11eb_b824_0242ac1c0002row22_col9\" class=\"data row22 col9\" >0</td>\n",
              "                        <td id=\"T_99a77d16_5fd4_11eb_b824_0242ac1c0002row22_col10\" class=\"data row22 col10\" >0</td>\n",
              "                        <td id=\"T_99a77d16_5fd4_11eb_b824_0242ac1c0002row22_col11\" class=\"data row22 col11\" >0</td>\n",
              "                        <td id=\"T_99a77d16_5fd4_11eb_b824_0242ac1c0002row22_col12\" class=\"data row22 col12\" >0</td>\n",
              "                        <td id=\"T_99a77d16_5fd4_11eb_b824_0242ac1c0002row22_col13\" class=\"data row22 col13\" >234</td>\n",
              "                        <td id=\"T_99a77d16_5fd4_11eb_b824_0242ac1c0002row22_col14\" class=\"data row22 col14\" >254</td>\n",
              "                        <td id=\"T_99a77d16_5fd4_11eb_b824_0242ac1c0002row22_col15\" class=\"data row22 col15\" >199</td>\n",
              "                        <td id=\"T_99a77d16_5fd4_11eb_b824_0242ac1c0002row22_col16\" class=\"data row22 col16\" >141</td>\n",
              "                        <td id=\"T_99a77d16_5fd4_11eb_b824_0242ac1c0002row22_col17\" class=\"data row22 col17\" >0</td>\n",
              "                        <td id=\"T_99a77d16_5fd4_11eb_b824_0242ac1c0002row22_col18\" class=\"data row22 col18\" >0</td>\n",
              "                        <td id=\"T_99a77d16_5fd4_11eb_b824_0242ac1c0002row22_col19\" class=\"data row22 col19\" >0</td>\n",
              "                        <td id=\"T_99a77d16_5fd4_11eb_b824_0242ac1c0002row22_col20\" class=\"data row22 col20\" >0</td>\n",
              "                        <td id=\"T_99a77d16_5fd4_11eb_b824_0242ac1c0002row22_col21\" class=\"data row22 col21\" >0</td>\n",
              "                        <td id=\"T_99a77d16_5fd4_11eb_b824_0242ac1c0002row22_col22\" class=\"data row22 col22\" >0</td>\n",
              "                        <td id=\"T_99a77d16_5fd4_11eb_b824_0242ac1c0002row22_col23\" class=\"data row22 col23\" >0</td>\n",
              "                        <td id=\"T_99a77d16_5fd4_11eb_b824_0242ac1c0002row22_col24\" class=\"data row22 col24\" >0</td>\n",
              "                        <td id=\"T_99a77d16_5fd4_11eb_b824_0242ac1c0002row22_col25\" class=\"data row22 col25\" >0</td>\n",
              "                        <td id=\"T_99a77d16_5fd4_11eb_b824_0242ac1c0002row22_col26\" class=\"data row22 col26\" >0</td>\n",
              "                        <td id=\"T_99a77d16_5fd4_11eb_b824_0242ac1c0002row22_col27\" class=\"data row22 col27\" >0</td>\n",
              "            </tr>\n",
              "            <tr>\n",
              "                        <th id=\"T_99a77d16_5fd4_11eb_b824_0242ac1c0002level0_row23\" class=\"row_heading level0 row23\" >23</th>\n",
              "                        <td id=\"T_99a77d16_5fd4_11eb_b824_0242ac1c0002row23_col0\" class=\"data row23 col0\" >0</td>\n",
              "                        <td id=\"T_99a77d16_5fd4_11eb_b824_0242ac1c0002row23_col1\" class=\"data row23 col1\" >0</td>\n",
              "                        <td id=\"T_99a77d16_5fd4_11eb_b824_0242ac1c0002row23_col2\" class=\"data row23 col2\" >0</td>\n",
              "                        <td id=\"T_99a77d16_5fd4_11eb_b824_0242ac1c0002row23_col3\" class=\"data row23 col3\" >0</td>\n",
              "                        <td id=\"T_99a77d16_5fd4_11eb_b824_0242ac1c0002row23_col4\" class=\"data row23 col4\" >0</td>\n",
              "                        <td id=\"T_99a77d16_5fd4_11eb_b824_0242ac1c0002row23_col5\" class=\"data row23 col5\" >0</td>\n",
              "                        <td id=\"T_99a77d16_5fd4_11eb_b824_0242ac1c0002row23_col6\" class=\"data row23 col6\" >0</td>\n",
              "                        <td id=\"T_99a77d16_5fd4_11eb_b824_0242ac1c0002row23_col7\" class=\"data row23 col7\" >0</td>\n",
              "                        <td id=\"T_99a77d16_5fd4_11eb_b824_0242ac1c0002row23_col8\" class=\"data row23 col8\" >0</td>\n",
              "                        <td id=\"T_99a77d16_5fd4_11eb_b824_0242ac1c0002row23_col9\" class=\"data row23 col9\" >0</td>\n",
              "                        <td id=\"T_99a77d16_5fd4_11eb_b824_0242ac1c0002row23_col10\" class=\"data row23 col10\" >0</td>\n",
              "                        <td id=\"T_99a77d16_5fd4_11eb_b824_0242ac1c0002row23_col11\" class=\"data row23 col11\" >0</td>\n",
              "                        <td id=\"T_99a77d16_5fd4_11eb_b824_0242ac1c0002row23_col12\" class=\"data row23 col12\" >0</td>\n",
              "                        <td id=\"T_99a77d16_5fd4_11eb_b824_0242ac1c0002row23_col13\" class=\"data row23 col13\" >234</td>\n",
              "                        <td id=\"T_99a77d16_5fd4_11eb_b824_0242ac1c0002row23_col14\" class=\"data row23 col14\" >254</td>\n",
              "                        <td id=\"T_99a77d16_5fd4_11eb_b824_0242ac1c0002row23_col15\" class=\"data row23 col15\" >254</td>\n",
              "                        <td id=\"T_99a77d16_5fd4_11eb_b824_0242ac1c0002row23_col16\" class=\"data row23 col16\" >219</td>\n",
              "                        <td id=\"T_99a77d16_5fd4_11eb_b824_0242ac1c0002row23_col17\" class=\"data row23 col17\" >0</td>\n",
              "                        <td id=\"T_99a77d16_5fd4_11eb_b824_0242ac1c0002row23_col18\" class=\"data row23 col18\" >0</td>\n",
              "                        <td id=\"T_99a77d16_5fd4_11eb_b824_0242ac1c0002row23_col19\" class=\"data row23 col19\" >0</td>\n",
              "                        <td id=\"T_99a77d16_5fd4_11eb_b824_0242ac1c0002row23_col20\" class=\"data row23 col20\" >0</td>\n",
              "                        <td id=\"T_99a77d16_5fd4_11eb_b824_0242ac1c0002row23_col21\" class=\"data row23 col21\" >0</td>\n",
              "                        <td id=\"T_99a77d16_5fd4_11eb_b824_0242ac1c0002row23_col22\" class=\"data row23 col22\" >0</td>\n",
              "                        <td id=\"T_99a77d16_5fd4_11eb_b824_0242ac1c0002row23_col23\" class=\"data row23 col23\" >0</td>\n",
              "                        <td id=\"T_99a77d16_5fd4_11eb_b824_0242ac1c0002row23_col24\" class=\"data row23 col24\" >0</td>\n",
              "                        <td id=\"T_99a77d16_5fd4_11eb_b824_0242ac1c0002row23_col25\" class=\"data row23 col25\" >0</td>\n",
              "                        <td id=\"T_99a77d16_5fd4_11eb_b824_0242ac1c0002row23_col26\" class=\"data row23 col26\" >0</td>\n",
              "                        <td id=\"T_99a77d16_5fd4_11eb_b824_0242ac1c0002row23_col27\" class=\"data row23 col27\" >0</td>\n",
              "            </tr>\n",
              "            <tr>\n",
              "                        <th id=\"T_99a77d16_5fd4_11eb_b824_0242ac1c0002level0_row24\" class=\"row_heading level0 row24\" >24</th>\n",
              "                        <td id=\"T_99a77d16_5fd4_11eb_b824_0242ac1c0002row24_col0\" class=\"data row24 col0\" >0</td>\n",
              "                        <td id=\"T_99a77d16_5fd4_11eb_b824_0242ac1c0002row24_col1\" class=\"data row24 col1\" >0</td>\n",
              "                        <td id=\"T_99a77d16_5fd4_11eb_b824_0242ac1c0002row24_col2\" class=\"data row24 col2\" >0</td>\n",
              "                        <td id=\"T_99a77d16_5fd4_11eb_b824_0242ac1c0002row24_col3\" class=\"data row24 col3\" >0</td>\n",
              "                        <td id=\"T_99a77d16_5fd4_11eb_b824_0242ac1c0002row24_col4\" class=\"data row24 col4\" >0</td>\n",
              "                        <td id=\"T_99a77d16_5fd4_11eb_b824_0242ac1c0002row24_col5\" class=\"data row24 col5\" >0</td>\n",
              "                        <td id=\"T_99a77d16_5fd4_11eb_b824_0242ac1c0002row24_col6\" class=\"data row24 col6\" >0</td>\n",
              "                        <td id=\"T_99a77d16_5fd4_11eb_b824_0242ac1c0002row24_col7\" class=\"data row24 col7\" >0</td>\n",
              "                        <td id=\"T_99a77d16_5fd4_11eb_b824_0242ac1c0002row24_col8\" class=\"data row24 col8\" >0</td>\n",
              "                        <td id=\"T_99a77d16_5fd4_11eb_b824_0242ac1c0002row24_col9\" class=\"data row24 col9\" >0</td>\n",
              "                        <td id=\"T_99a77d16_5fd4_11eb_b824_0242ac1c0002row24_col10\" class=\"data row24 col10\" >0</td>\n",
              "                        <td id=\"T_99a77d16_5fd4_11eb_b824_0242ac1c0002row24_col11\" class=\"data row24 col11\" >0</td>\n",
              "                        <td id=\"T_99a77d16_5fd4_11eb_b824_0242ac1c0002row24_col12\" class=\"data row24 col12\" >0</td>\n",
              "                        <td id=\"T_99a77d16_5fd4_11eb_b824_0242ac1c0002row24_col13\" class=\"data row24 col13\" >234</td>\n",
              "                        <td id=\"T_99a77d16_5fd4_11eb_b824_0242ac1c0002row24_col14\" class=\"data row24 col14\" >254</td>\n",
              "                        <td id=\"T_99a77d16_5fd4_11eb_b824_0242ac1c0002row24_col15\" class=\"data row24 col15\" >229</td>\n",
              "                        <td id=\"T_99a77d16_5fd4_11eb_b824_0242ac1c0002row24_col16\" class=\"data row24 col16\" >44</td>\n",
              "                        <td id=\"T_99a77d16_5fd4_11eb_b824_0242ac1c0002row24_col17\" class=\"data row24 col17\" >0</td>\n",
              "                        <td id=\"T_99a77d16_5fd4_11eb_b824_0242ac1c0002row24_col18\" class=\"data row24 col18\" >0</td>\n",
              "                        <td id=\"T_99a77d16_5fd4_11eb_b824_0242ac1c0002row24_col19\" class=\"data row24 col19\" >0</td>\n",
              "                        <td id=\"T_99a77d16_5fd4_11eb_b824_0242ac1c0002row24_col20\" class=\"data row24 col20\" >0</td>\n",
              "                        <td id=\"T_99a77d16_5fd4_11eb_b824_0242ac1c0002row24_col21\" class=\"data row24 col21\" >0</td>\n",
              "                        <td id=\"T_99a77d16_5fd4_11eb_b824_0242ac1c0002row24_col22\" class=\"data row24 col22\" >0</td>\n",
              "                        <td id=\"T_99a77d16_5fd4_11eb_b824_0242ac1c0002row24_col23\" class=\"data row24 col23\" >0</td>\n",
              "                        <td id=\"T_99a77d16_5fd4_11eb_b824_0242ac1c0002row24_col24\" class=\"data row24 col24\" >0</td>\n",
              "                        <td id=\"T_99a77d16_5fd4_11eb_b824_0242ac1c0002row24_col25\" class=\"data row24 col25\" >0</td>\n",
              "                        <td id=\"T_99a77d16_5fd4_11eb_b824_0242ac1c0002row24_col26\" class=\"data row24 col26\" >0</td>\n",
              "                        <td id=\"T_99a77d16_5fd4_11eb_b824_0242ac1c0002row24_col27\" class=\"data row24 col27\" >0</td>\n",
              "            </tr>\n",
              "            <tr>\n",
              "                        <th id=\"T_99a77d16_5fd4_11eb_b824_0242ac1c0002level0_row25\" class=\"row_heading level0 row25\" >25</th>\n",
              "                        <td id=\"T_99a77d16_5fd4_11eb_b824_0242ac1c0002row25_col0\" class=\"data row25 col0\" >0</td>\n",
              "                        <td id=\"T_99a77d16_5fd4_11eb_b824_0242ac1c0002row25_col1\" class=\"data row25 col1\" >0</td>\n",
              "                        <td id=\"T_99a77d16_5fd4_11eb_b824_0242ac1c0002row25_col2\" class=\"data row25 col2\" >0</td>\n",
              "                        <td id=\"T_99a77d16_5fd4_11eb_b824_0242ac1c0002row25_col3\" class=\"data row25 col3\" >0</td>\n",
              "                        <td id=\"T_99a77d16_5fd4_11eb_b824_0242ac1c0002row25_col4\" class=\"data row25 col4\" >0</td>\n",
              "                        <td id=\"T_99a77d16_5fd4_11eb_b824_0242ac1c0002row25_col5\" class=\"data row25 col5\" >0</td>\n",
              "                        <td id=\"T_99a77d16_5fd4_11eb_b824_0242ac1c0002row25_col6\" class=\"data row25 col6\" >0</td>\n",
              "                        <td id=\"T_99a77d16_5fd4_11eb_b824_0242ac1c0002row25_col7\" class=\"data row25 col7\" >0</td>\n",
              "                        <td id=\"T_99a77d16_5fd4_11eb_b824_0242ac1c0002row25_col8\" class=\"data row25 col8\" >0</td>\n",
              "                        <td id=\"T_99a77d16_5fd4_11eb_b824_0242ac1c0002row25_col9\" class=\"data row25 col9\" >0</td>\n",
              "                        <td id=\"T_99a77d16_5fd4_11eb_b824_0242ac1c0002row25_col10\" class=\"data row25 col10\" >0</td>\n",
              "                        <td id=\"T_99a77d16_5fd4_11eb_b824_0242ac1c0002row25_col11\" class=\"data row25 col11\" >0</td>\n",
              "                        <td id=\"T_99a77d16_5fd4_11eb_b824_0242ac1c0002row25_col12\" class=\"data row25 col12\" >0</td>\n",
              "                        <td id=\"T_99a77d16_5fd4_11eb_b824_0242ac1c0002row25_col13\" class=\"data row25 col13\" >88</td>\n",
              "                        <td id=\"T_99a77d16_5fd4_11eb_b824_0242ac1c0002row25_col14\" class=\"data row25 col14\" >77</td>\n",
              "                        <td id=\"T_99a77d16_5fd4_11eb_b824_0242ac1c0002row25_col15\" class=\"data row25 col15\" >24</td>\n",
              "                        <td id=\"T_99a77d16_5fd4_11eb_b824_0242ac1c0002row25_col16\" class=\"data row25 col16\" >0</td>\n",
              "                        <td id=\"T_99a77d16_5fd4_11eb_b824_0242ac1c0002row25_col17\" class=\"data row25 col17\" >0</td>\n",
              "                        <td id=\"T_99a77d16_5fd4_11eb_b824_0242ac1c0002row25_col18\" class=\"data row25 col18\" >0</td>\n",
              "                        <td id=\"T_99a77d16_5fd4_11eb_b824_0242ac1c0002row25_col19\" class=\"data row25 col19\" >0</td>\n",
              "                        <td id=\"T_99a77d16_5fd4_11eb_b824_0242ac1c0002row25_col20\" class=\"data row25 col20\" >0</td>\n",
              "                        <td id=\"T_99a77d16_5fd4_11eb_b824_0242ac1c0002row25_col21\" class=\"data row25 col21\" >0</td>\n",
              "                        <td id=\"T_99a77d16_5fd4_11eb_b824_0242ac1c0002row25_col22\" class=\"data row25 col22\" >0</td>\n",
              "                        <td id=\"T_99a77d16_5fd4_11eb_b824_0242ac1c0002row25_col23\" class=\"data row25 col23\" >0</td>\n",
              "                        <td id=\"T_99a77d16_5fd4_11eb_b824_0242ac1c0002row25_col24\" class=\"data row25 col24\" >0</td>\n",
              "                        <td id=\"T_99a77d16_5fd4_11eb_b824_0242ac1c0002row25_col25\" class=\"data row25 col25\" >0</td>\n",
              "                        <td id=\"T_99a77d16_5fd4_11eb_b824_0242ac1c0002row25_col26\" class=\"data row25 col26\" >0</td>\n",
              "                        <td id=\"T_99a77d16_5fd4_11eb_b824_0242ac1c0002row25_col27\" class=\"data row25 col27\" >0</td>\n",
              "            </tr>\n",
              "            <tr>\n",
              "                        <th id=\"T_99a77d16_5fd4_11eb_b824_0242ac1c0002level0_row26\" class=\"row_heading level0 row26\" >26</th>\n",
              "                        <td id=\"T_99a77d16_5fd4_11eb_b824_0242ac1c0002row26_col0\" class=\"data row26 col0\" >0</td>\n",
              "                        <td id=\"T_99a77d16_5fd4_11eb_b824_0242ac1c0002row26_col1\" class=\"data row26 col1\" >0</td>\n",
              "                        <td id=\"T_99a77d16_5fd4_11eb_b824_0242ac1c0002row26_col2\" class=\"data row26 col2\" >0</td>\n",
              "                        <td id=\"T_99a77d16_5fd4_11eb_b824_0242ac1c0002row26_col3\" class=\"data row26 col3\" >0</td>\n",
              "                        <td id=\"T_99a77d16_5fd4_11eb_b824_0242ac1c0002row26_col4\" class=\"data row26 col4\" >0</td>\n",
              "                        <td id=\"T_99a77d16_5fd4_11eb_b824_0242ac1c0002row26_col5\" class=\"data row26 col5\" >0</td>\n",
              "                        <td id=\"T_99a77d16_5fd4_11eb_b824_0242ac1c0002row26_col6\" class=\"data row26 col6\" >0</td>\n",
              "                        <td id=\"T_99a77d16_5fd4_11eb_b824_0242ac1c0002row26_col7\" class=\"data row26 col7\" >0</td>\n",
              "                        <td id=\"T_99a77d16_5fd4_11eb_b824_0242ac1c0002row26_col8\" class=\"data row26 col8\" >0</td>\n",
              "                        <td id=\"T_99a77d16_5fd4_11eb_b824_0242ac1c0002row26_col9\" class=\"data row26 col9\" >0</td>\n",
              "                        <td id=\"T_99a77d16_5fd4_11eb_b824_0242ac1c0002row26_col10\" class=\"data row26 col10\" >0</td>\n",
              "                        <td id=\"T_99a77d16_5fd4_11eb_b824_0242ac1c0002row26_col11\" class=\"data row26 col11\" >0</td>\n",
              "                        <td id=\"T_99a77d16_5fd4_11eb_b824_0242ac1c0002row26_col12\" class=\"data row26 col12\" >0</td>\n",
              "                        <td id=\"T_99a77d16_5fd4_11eb_b824_0242ac1c0002row26_col13\" class=\"data row26 col13\" >0</td>\n",
              "                        <td id=\"T_99a77d16_5fd4_11eb_b824_0242ac1c0002row26_col14\" class=\"data row26 col14\" >0</td>\n",
              "                        <td id=\"T_99a77d16_5fd4_11eb_b824_0242ac1c0002row26_col15\" class=\"data row26 col15\" >0</td>\n",
              "                        <td id=\"T_99a77d16_5fd4_11eb_b824_0242ac1c0002row26_col16\" class=\"data row26 col16\" >0</td>\n",
              "                        <td id=\"T_99a77d16_5fd4_11eb_b824_0242ac1c0002row26_col17\" class=\"data row26 col17\" >0</td>\n",
              "                        <td id=\"T_99a77d16_5fd4_11eb_b824_0242ac1c0002row26_col18\" class=\"data row26 col18\" >0</td>\n",
              "                        <td id=\"T_99a77d16_5fd4_11eb_b824_0242ac1c0002row26_col19\" class=\"data row26 col19\" >0</td>\n",
              "                        <td id=\"T_99a77d16_5fd4_11eb_b824_0242ac1c0002row26_col20\" class=\"data row26 col20\" >0</td>\n",
              "                        <td id=\"T_99a77d16_5fd4_11eb_b824_0242ac1c0002row26_col21\" class=\"data row26 col21\" >0</td>\n",
              "                        <td id=\"T_99a77d16_5fd4_11eb_b824_0242ac1c0002row26_col22\" class=\"data row26 col22\" >0</td>\n",
              "                        <td id=\"T_99a77d16_5fd4_11eb_b824_0242ac1c0002row26_col23\" class=\"data row26 col23\" >0</td>\n",
              "                        <td id=\"T_99a77d16_5fd4_11eb_b824_0242ac1c0002row26_col24\" class=\"data row26 col24\" >0</td>\n",
              "                        <td id=\"T_99a77d16_5fd4_11eb_b824_0242ac1c0002row26_col25\" class=\"data row26 col25\" >0</td>\n",
              "                        <td id=\"T_99a77d16_5fd4_11eb_b824_0242ac1c0002row26_col26\" class=\"data row26 col26\" >0</td>\n",
              "                        <td id=\"T_99a77d16_5fd4_11eb_b824_0242ac1c0002row26_col27\" class=\"data row26 col27\" >0</td>\n",
              "            </tr>\n",
              "            <tr>\n",
              "                        <th id=\"T_99a77d16_5fd4_11eb_b824_0242ac1c0002level0_row27\" class=\"row_heading level0 row27\" >27</th>\n",
              "                        <td id=\"T_99a77d16_5fd4_11eb_b824_0242ac1c0002row27_col0\" class=\"data row27 col0\" >0</td>\n",
              "                        <td id=\"T_99a77d16_5fd4_11eb_b824_0242ac1c0002row27_col1\" class=\"data row27 col1\" >0</td>\n",
              "                        <td id=\"T_99a77d16_5fd4_11eb_b824_0242ac1c0002row27_col2\" class=\"data row27 col2\" >0</td>\n",
              "                        <td id=\"T_99a77d16_5fd4_11eb_b824_0242ac1c0002row27_col3\" class=\"data row27 col3\" >0</td>\n",
              "                        <td id=\"T_99a77d16_5fd4_11eb_b824_0242ac1c0002row27_col4\" class=\"data row27 col4\" >0</td>\n",
              "                        <td id=\"T_99a77d16_5fd4_11eb_b824_0242ac1c0002row27_col5\" class=\"data row27 col5\" >0</td>\n",
              "                        <td id=\"T_99a77d16_5fd4_11eb_b824_0242ac1c0002row27_col6\" class=\"data row27 col6\" >0</td>\n",
              "                        <td id=\"T_99a77d16_5fd4_11eb_b824_0242ac1c0002row27_col7\" class=\"data row27 col7\" >0</td>\n",
              "                        <td id=\"T_99a77d16_5fd4_11eb_b824_0242ac1c0002row27_col8\" class=\"data row27 col8\" >0</td>\n",
              "                        <td id=\"T_99a77d16_5fd4_11eb_b824_0242ac1c0002row27_col9\" class=\"data row27 col9\" >0</td>\n",
              "                        <td id=\"T_99a77d16_5fd4_11eb_b824_0242ac1c0002row27_col10\" class=\"data row27 col10\" >0</td>\n",
              "                        <td id=\"T_99a77d16_5fd4_11eb_b824_0242ac1c0002row27_col11\" class=\"data row27 col11\" >0</td>\n",
              "                        <td id=\"T_99a77d16_5fd4_11eb_b824_0242ac1c0002row27_col12\" class=\"data row27 col12\" >0</td>\n",
              "                        <td id=\"T_99a77d16_5fd4_11eb_b824_0242ac1c0002row27_col13\" class=\"data row27 col13\" >0</td>\n",
              "                        <td id=\"T_99a77d16_5fd4_11eb_b824_0242ac1c0002row27_col14\" class=\"data row27 col14\" >0</td>\n",
              "                        <td id=\"T_99a77d16_5fd4_11eb_b824_0242ac1c0002row27_col15\" class=\"data row27 col15\" >0</td>\n",
              "                        <td id=\"T_99a77d16_5fd4_11eb_b824_0242ac1c0002row27_col16\" class=\"data row27 col16\" >0</td>\n",
              "                        <td id=\"T_99a77d16_5fd4_11eb_b824_0242ac1c0002row27_col17\" class=\"data row27 col17\" >0</td>\n",
              "                        <td id=\"T_99a77d16_5fd4_11eb_b824_0242ac1c0002row27_col18\" class=\"data row27 col18\" >0</td>\n",
              "                        <td id=\"T_99a77d16_5fd4_11eb_b824_0242ac1c0002row27_col19\" class=\"data row27 col19\" >0</td>\n",
              "                        <td id=\"T_99a77d16_5fd4_11eb_b824_0242ac1c0002row27_col20\" class=\"data row27 col20\" >0</td>\n",
              "                        <td id=\"T_99a77d16_5fd4_11eb_b824_0242ac1c0002row27_col21\" class=\"data row27 col21\" >0</td>\n",
              "                        <td id=\"T_99a77d16_5fd4_11eb_b824_0242ac1c0002row27_col22\" class=\"data row27 col22\" >0</td>\n",
              "                        <td id=\"T_99a77d16_5fd4_11eb_b824_0242ac1c0002row27_col23\" class=\"data row27 col23\" >0</td>\n",
              "                        <td id=\"T_99a77d16_5fd4_11eb_b824_0242ac1c0002row27_col24\" class=\"data row27 col24\" >0</td>\n",
              "                        <td id=\"T_99a77d16_5fd4_11eb_b824_0242ac1c0002row27_col25\" class=\"data row27 col25\" >0</td>\n",
              "                        <td id=\"T_99a77d16_5fd4_11eb_b824_0242ac1c0002row27_col26\" class=\"data row27 col26\" >0</td>\n",
              "                        <td id=\"T_99a77d16_5fd4_11eb_b824_0242ac1c0002row27_col27\" class=\"data row27 col27\" >0</td>\n",
              "            </tr>\n",
              "    </tbody></table>"
            ],
            "text/plain": [
              "<pandas.io.formats.style.Styler at 0x7fbf81da4e80>"
            ]
          },
          "metadata": {
            "tags": []
          },
          "execution_count": 176
        }
      ]
    },
    {
      "cell_type": "markdown",
      "metadata": {
        "id": "gpNsvkElHtJk"
      },
      "source": [
        "Instead we could look at each individual pixel and come up with a set of weights for each, such that the highest weights are associated with those pixels most likely to be black for a particular category.\n",
        "\n",
        "For instance, pixel toward the bottom right are not very likely to be activated for a 7, so 7 will have a low weight. But they are activated for 8, so now 8 would have high weight."
      ]
    },
    {
      "cell_type": "code",
      "metadata": {
        "id": "Ukik8yA5I3XC"
      },
      "source": [
        "# Probability of number being 8 \n",
        "\n",
        "def pr_eight(x , w):\n",
        "  '''\n",
        "  x --> input image\n",
        "  w --> weights\n",
        "  '''\n",
        "  return (x*w).sum()"
      ],
      "execution_count": 177,
      "outputs": []
    },
    {
      "cell_type": "markdown",
      "metadata": {
        "id": "Pgxr-uqJJEal"
      },
      "source": [
        "### Sequence of steps\n",
        "\n",
        "- **Initialize**\n",
        "\n",
        "    We initialize the parameters (or) weights to random values at first. It's believed starting with random weights (or) values works perfectly well. \n",
        "\n",
        "- **Loss**\n",
        "\n",
        "    A function will return a number that is small when the performance of the model is good. The standard approach is to treat a **small loss as a god and large loss as bad.** \n",
        "\n",
        "- **Step**\n",
        "\n",
        "    A simple way to figure out whether a weight should be increased a bit or decreased, would be just try to increase the weight by a small amount and observe the loss goes up or down. We do this increment and decrement until we find an amount that satisfy us. \n",
        "\n",
        "    However, we use calculus to take care of this. Finding which direction and roughly how much, to change each weight without doing those adjustments above. \n",
        "\n",
        "    We do this by calculating ***gradients.*** This is just an **performance optimization.** \n",
        "\n",
        "- **Stop**\n",
        "\n",
        "    This is the phase where we choose the epochs to train the model for, we would keep training until the accuracy of the model started getting worse or ran out of time. \n",
        "\n",
        "    Before jumping into the whole method, will focus on applying them on simple steps for our digit classifier.\n",
        "\n",
        "\n",
        "Creating a simple quadratic function, pretending this as our loss function \n",
        "`x` --> weight param "
      ]
    },
    {
      "cell_type": "code",
      "metadata": {
        "id": "of4xYXo2oeuV"
      },
      "source": [
        "# simple loss function \n",
        "\n",
        "def f(x):\n",
        "  return x**2"
      ],
      "execution_count": 178,
      "outputs": []
    },
    {
      "cell_type": "code",
      "metadata": {
        "colab": {
          "base_uri": "https://localhost:8080/",
          "height": 285
        },
        "id": "0G-NIeovowt_",
        "outputId": "dfc2b1d3-4b46-4789-95f3-a8535047af1a"
      },
      "source": [
        "# plotting the graph of the function\n",
        "\n",
        "plot_function(f , 'x' , 'x**2')"
      ],
      "execution_count": 179,
      "outputs": [
        {
          "output_type": "display_data",
          "data": {
            "image/png": "[encoded data removed]",
            "text/plain": [
              "<Figure size 432x288 with 1 Axes>"
            ]
          },
          "metadata": {
            "tags": [],
            "needs_background": "light"
          }
        }
      ]
    },
    {
      "cell_type": "markdown",
      "metadata": {
        "id": "xSdAFRx5o5F0"
      },
      "source": [
        "Now the next step would be as per the steps or guide we described, \n",
        "\n",
        "- Pick a random value from that graph\n",
        "- Calculate loss for that value"
      ]
    },
    {
      "cell_type": "code",
      "metadata": {
        "colab": {
          "base_uri": "https://localhost:8080/",
          "height": 285
        },
        "id": "nFo1TVVyqYYk",
        "outputId": "114f6c6a-e304-408d-f291-6f3141458a7a"
      },
      "source": [
        "# Picking up a random value \n",
        "\n",
        "plot_function(f , 'x' , 'x**2')\n",
        "plt.scatter(-1.5 , f(-1.5), color='red');"
      ],
      "execution_count": 180,
      "outputs": [
        {
          "output_type": "display_data",
          "data": {
            "image/png": "[encoded data removed]",
            "text/plain": [
              "<Figure size 432x288 with 1 Axes>"
            ]
          },
          "metadata": {
            "tags": [],
            "needs_background": "light"
          }
        }
      ]
    },
    {
      "cell_type": "markdown",
      "metadata": {
        "id": "iCL5PfLrqmQK"
      },
      "source": [
        "Now we will observe what would happen if we increase or decrease our parameters (or values) by adjusting them towards the slope at a particular point. \n",
        "![Screenshot 2021-01-19 at 08.57.08.png](data:image/png;base64,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)"
      ]
    },
    {
      "cell_type": "markdown",
      "metadata": {
        "id": "r52gXTGBrrZd"
      },
      "source": [
        "## The Magic Step - Calculating Gradients\n",
        "\n",
        "As mentioned above we use **calculus** as a performance optimization, it will help us quickly to calculate whether our loss will go up or down when we adjust the parameters up or down. \n",
        "\n",
        "In simple words **gradients will tell us how much we have to change each weight to make our model better.** \n",
        "\n",
        "**What is derivative?**\n",
        "\n",
        "For any quadratic function we can calculate its derivatives. The derivative is another function, it calculates the change rather than the value. \n",
        "\n",
        "For instance, the derivative of the quad function at the value 3 tells us how rapidly the function changes at the value 3. \n",
        "\n",
        "More appropriate definition would be, \n",
        "\n",
        "Gradient is defined as rise/run that is the change in the value of the function, divided by the change in the value of the parameter. \n",
        "\n",
        "The idea here is when we know how our function will change, we know what we need to do to make it smaller. \n",
        "\n",
        "The key in ML is having a way to change the parameter of a function to make it smaller.\n",
        "\n",
        "#### **Calculating Gradients with Pytorch** "
      ]
    },
    {
      "cell_type": "code",
      "metadata": {
        "id": "DxbOTF110Rjy"
      },
      "source": [
        "import torch"
      ],
      "execution_count": 181,
      "outputs": []
    },
    {
      "cell_type": "code",
      "metadata": {
        "id": "q4GxCeun0Ec3"
      },
      "source": [
        "# A tensor, in this value we need gradients \n",
        "\n",
        "xt = tensor(3.).requires_grad_()"
      ],
      "execution_count": 182,
      "outputs": []
    },
    {
      "cell_type": "code",
      "metadata": {
        "colab": {
          "base_uri": "https://localhost:8080/"
        },
        "id": "fRxlsxNk0QoM",
        "outputId": "bbf1275e-35eb-40f3-b3ae-efafce9cb5fd"
      },
      "source": [
        "# making calculating with that value (xt)\n",
        "\n",
        "yt = f(xt) # x**2 --> 2x --> 2(xt) --> 2(3) --> 6 (gradient)\n",
        "yt"
      ],
      "execution_count": 183,
      "outputs": [
        {
          "output_type": "execute_result",
          "data": {
            "text/plain": [
              "tensor(9., grad_fn=<PowBackward0>)"
            ]
          },
          "metadata": {
            "tags": []
          },
          "execution_count": 183
        }
      ]
    },
    {
      "cell_type": "code",
      "metadata": {
        "id": "HtsCV8s81FW6"
      },
      "source": [
        "# Telling Pytorch to calculate gradients for us \n",
        "\n",
        "yt.backward()  # refers to backpropagation"
      ],
      "execution_count": 184,
      "outputs": []
    },
    {
      "cell_type": "code",
      "metadata": {
        "colab": {
          "base_uri": "https://localhost:8080/"
        },
        "id": "J_H9tM3-1NCt",
        "outputId": "232700b7-0a4e-467b-e6c4-ccdf6aafcc8f"
      },
      "source": [
        "# Viewing the gradients \n",
        "\n",
        "xt.grad"
      ],
      "execution_count": 185,
      "outputs": [
        {
          "output_type": "execute_result",
          "data": {
            "text/plain": [
              "tensor(6.)"
            ]
          },
          "metadata": {
            "tags": []
          },
          "execution_count": 185
        }
      ]
    },
    {
      "cell_type": "code",
      "metadata": {
        "colab": {
          "base_uri": "https://localhost:8080/"
        },
        "id": "PBIujTHo2lQf",
        "outputId": "bb929034-4cb1-450d-d795-d61e04150fe9"
      },
      "source": [
        "# Same steps but with an Vector Argument \n",
        "\n",
        "xt = tensor([3. , 4. , 5.]).requires_grad_()\n",
        "xt"
      ],
      "execution_count": 186,
      "outputs": [
        {
          "output_type": "execute_result",
          "data": {
            "text/plain": [
              "tensor([3., 4., 5.], requires_grad=True)"
            ]
          },
          "metadata": {
            "tags": []
          },
          "execution_count": 186
        }
      ]
    },
    {
      "cell_type": "code",
      "metadata": {
        "id": "q18K-yb83aKQ"
      },
      "source": [
        "# Adding sum to the function --> so it can return a scalar \n",
        "\n",
        "def f(x):\n",
        "  return (x**2).sum()\n",
        "\n",
        "yt = f(xt) "
      ],
      "execution_count": 187,
      "outputs": []
    },
    {
      "cell_type": "code",
      "metadata": {
        "colab": {
          "base_uri": "https://localhost:8080/"
        },
        "id": "ojp7Ul833rZo",
        "outputId": "5f80023d-8a0b-4fec-b773-591d7455873a"
      },
      "source": [
        "# Gradients --> 2*xt for every value it applies and sums up\n",
        "\n",
        "yt.backward()\n",
        "xt.grad"
      ],
      "execution_count": 188,
      "outputs": [
        {
          "output_type": "execute_result",
          "data": {
            "text/plain": [
              "tensor([ 6.,  8., 10.])"
            ]
          },
          "metadata": {
            "tags": []
          },
          "execution_count": 188
        }
      ]
    },
    {
      "cell_type": "markdown",
      "metadata": {
        "id": "-8j--u_G4LBm"
      },
      "source": [
        "The gradients will tell us only the slope of our function, they don't tell us exactly how far to adjust the parameters. \n",
        "\n",
        "If slope is very large —> More adjustments to do \n",
        "\n",
        "If slope is very small —> we are close to the optimal value."
      ]
    },
    {
      "cell_type": "markdown",
      "metadata": {
        "id": "-7_qgRvXP1_S"
      },
      "source": [
        "### Stepping with a Learning Rate\n",
        "\n",
        "All approach start with a basic idea of multiplying the gradient by a small number called the *learning rate.*\n",
        "\n",
        "The learning rate is often a number between `0.001` and `0.1`, people find their best learning rate by trying out few of them. But in Fastai by using a learning rate finder will handle all this hustle once for all.\n",
        "\n",
        "Once we picked the lr, we can adjust the parameters by this simple function, \n",
        "\n",
        "`w - = w.grad * lr` —> known as *stepping* the parameters \n",
        "\n",
        "**Complications on picking a learning rate**\n",
        "- If the learning rate is too low, optimization will take a lot of time because steps towards the minimum of the loss function are tiny.\n",
        "- If the learning rate is too high, it can result in getting the *loss* worse. Rather than diverging (or) converging it will bounce around\n",
        "\n",
        "[Estimating an Optimal Learning Rate For a Deep Neural Network](https://towardsdatascience.com/estimating-optimal-learning-rate-for-a-deep-neural-network-ce32f2556ce0)\n",
        "\n",
        "The above Article explains the concept of Learning rate well and clear!\n",
        "\n",
        "![1_EP8stDFdu_OxZFGimCZRtQ.jpeg](data:image/jpeg;base64,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)"
      ]
    },
    {
      "cell_type": "markdown",
      "metadata": {
        "id": "kesBdsFbP0-8"
      },
      "source": [
        "## An End - to - End SGD Example\n",
        "\n",
        "As it went up the hell it would be slowest at the top and it would then speed up as it goes downhill. Want to build a model of how the speed changes over time in a roller coster.\n",
        "\n",
        "If we measure the speed manually for every 20 seconds, it might look like this. "
      ]
    },
    {
      "cell_type": "code",
      "metadata": {
        "colab": {
          "base_uri": "https://localhost:8080/"
        },
        "id": "p5EUFS3IUYzK",
        "outputId": "64b45011-4518-4a42-9508-5ce66a3fca2f"
      },
      "source": [
        "# Time \n",
        "\n",
        "time = torch.arange(0,20).float()\n",
        "time # Time in seconds"
      ],
      "execution_count": 189,
      "outputs": [
        {
          "output_type": "execute_result",
          "data": {
            "text/plain": [
              "tensor([ 0.,  1.,  2.,  3.,  4.,  5.,  6.,  7.,  8.,  9., 10., 11., 12., 13., 14., 15., 16., 17., 18., 19.])"
            ]
          },
          "metadata": {
            "tags": []
          },
          "execution_count": 189
        }
      ]
    },
    {
      "cell_type": "code",
      "metadata": {
        "colab": {
          "base_uri": "https://localhost:8080/"
        },
        "id": "7x8QiPR1Uorz",
        "outputId": "47990275-755e-41a6-c0bc-163cf7e09035"
      },
      "source": [
        "# Calculating speed \n",
        "\n",
        "speed = torch.randn(20)*3 + 0.75*(time -9.5)**2 + 1\n",
        "\n",
        "speed # The speed calculated for every sec interval for 20 seconds "
      ],
      "execution_count": 190,
      "outputs": [
        {
          "output_type": "execute_result",
          "data": {
            "text/plain": [
              "tensor([68.9563, 50.7876, 40.4712, 34.1625, 20.0156, 17.9679, 13.6046,  4.3697,  2.7549, -2.0101, -0.8492,  0.3286,  4.0860,  7.9447, 18.7980, 29.4774, 30.0939, 46.8126, 59.7022, 68.9157])"
            ]
          },
          "metadata": {
            "tags": []
          },
          "execution_count": 190
        }
      ]
    },
    {
      "cell_type": "code",
      "metadata": {
        "colab": {
          "base_uri": "https://localhost:8080/",
          "height": 285
        },
        "id": "jBu8LlyFVSwt",
        "outputId": "e847916b-e6b8-4652-ddef-0f440393850c"
      },
      "source": [
        "# Plotting time and speed \n",
        "\n",
        "plt.scatter(time , speed)"
      ],
      "execution_count": 191,
      "outputs": [
        {
          "output_type": "execute_result",
          "data": {
            "text/plain": [
              "<matplotlib.collections.PathCollection at 0x7fbf6e4f5898>"
            ]
          },
          "metadata": {
            "tags": []
          },
          "execution_count": 191
        },
        {
          "output_type": "display_data",
          "data": {
            "image/png": "[encoded data removed]",
            "text/plain": [
              "<Figure size 432x288 with 1 Axes>"
            ]
          },
          "metadata": {
            "tags": [],
            "needs_background": "light"
          }
        }
      ]
    },
    {
      "cell_type": "markdown",
      "metadata": {
        "id": "qyUcBIj1VkmM"
      },
      "source": [
        "Now we gotta distinguish between the function's input and its parameters, so we collect the parameters in one argument `(a , b , c)` and input `(t)` in separate argument."
      ]
    },
    {
      "cell_type": "code",
      "metadata": {
        "id": "o2hu15fsWmmi"
      },
      "source": [
        "def f(t , params):\n",
        "  a ,b, c = params\n",
        "  return a*(t**2) + (b*t) + c"
      ],
      "execution_count": 192,
      "outputs": []
    },
    {
      "cell_type": "markdown",
      "metadata": {
        "id": "PLNmfxbzYqv5"
      },
      "source": [
        "`a*(t**2) + (b*t) + c` —> Since we are constructing a function to make prediction, the target function was the actual speed, \n",
        "\n",
        " `speed` —> `torch.randn(20)*3 + 0.75*(time -9.5)**2 + 1`\n",
        "\n",
        "We can't consider every possible function, by guessing the form of the function (`speed`) we are using `a*(t**2) + (b*t) + c` as a function for **prediction**.\n",
        "\n",
        "In simple words we have restricted the problem of finding the best function that fits the data to find the best quadratic function (`speed`). \n",
        "\n",
        "Every quad function has only 3 params `(a , b , c)` so its enough to find only the best values for `(a , b , c)`. \n",
        "\n",
        "To define the term **best values —>** we define this precisely by choosing a loss function. Which returns a value based on preds and targets, where if the value is lower we consider that as **better** prediction."
      ]
    },
    {
      "cell_type": "code",
      "metadata": {
        "id": "Ov-KekdJYrUA"
      },
      "source": [
        "# Loss function \n",
        "\n",
        "def mse(preds , targets):\n",
        "  return ((preds - targets)**2).mean()"
      ],
      "execution_count": 193,
      "outputs": []
    },
    {
      "cell_type": "code",
      "metadata": {
        "colab": {
          "base_uri": "https://localhost:8080/"
        },
        "id": "XD1GhY63ZojG",
        "outputId": "3d04001a-261d-4696-daf6-896b797718e2"
      },
      "source": [
        "# Intialize the parameters \n",
        "\n",
        "params = torch.randn(3).requires_grad_()\n",
        "params"
      ],
      "execution_count": 194,
      "outputs": [
        {
          "output_type": "execute_result",
          "data": {
            "text/plain": [
              "tensor([-0.8093,  1.6064, -0.3002], requires_grad=True)"
            ]
          },
          "metadata": {
            "tags": []
          },
          "execution_count": 194
        }
      ]
    },
    {
      "cell_type": "code",
      "metadata": {
        "colab": {
          "base_uri": "https://localhost:8080/"
        },
        "id": "BAYpulY0Zvw3",
        "outputId": "ce3a384b-787b-42d3-b754-fb95b3b06fa7"
      },
      "source": [
        "# Calculating the predictions \n",
        "\n",
        "preds = f(time , params) # Pred function\n",
        "preds"
      ],
      "execution_count": 195,
      "outputs": [
        {
          "output_type": "execute_result",
          "data": {
            "text/plain": [
              "tensor([  -0.3002,    0.4969,   -0.3246,   -2.7646,   -6.8231,  -12.5001,  -19.7957,  -28.7098,  -39.2424,  -51.3936,  -65.1633,  -80.5515,  -97.5583, -116.1835, -136.4274, -158.2897, -181.7706,\n",
              "        -206.8700, -233.5880, -261.9245], grad_fn=<AddBackward0>)"
            ]
          },
          "metadata": {
            "tags": []
          },
          "execution_count": 195
        }
      ]
    },
    {
      "cell_type": "code",
      "metadata": {
        "colab": {
          "base_uri": "https://localhost:8080/",
          "height": 273
        },
        "id": "HZdnTLXqZ7zM",
        "outputId": "5ef75bfa-e78e-4260-d09a-46b06b4abdcd"
      },
      "source": [
        "# A function to plot both targets and preds to see how close our predictins are\n",
        "\n",
        "def show_preds(preds , ax=None):\n",
        "  if ax is None: ax=plt.subplots()[1]\n",
        "  ax.scatter(time , speed)\n",
        "  ax.scatter(time , to_np(preds) , color='red')\n",
        "  ax.set_ylim(-300 , 100)\n",
        "\n",
        "show_preds(preds)"
      ],
      "execution_count": 196,
      "outputs": [
        {
          "output_type": "display_data",
          "data": {
            "image/png": "[encoded data removed]",
            "text/plain": [
              "<Figure size 432x288 with 1 Axes>"
            ]
          },
          "metadata": {
            "tags": [],
            "needs_background": "light"
          }
        }
      ]
    },
    {
      "cell_type": "code",
      "metadata": {
        "colab": {
          "base_uri": "https://localhost:8080/"
        },
        "id": "Z12ure_2aQh_",
        "outputId": "bbfcd13d-b99b-447d-98b1-19f0100710dd"
      },
      "source": [
        "# Calculate the loss \n",
        "\n",
        "loss = mse(preds , speed)\n",
        "loss"
      ],
      "execution_count": 197,
      "outputs": [
        {
          "output_type": "execute_result",
          "data": {
            "text/plain": [
              "tensor(20944.9492, grad_fn=<MeanBackward0>)"
            ]
          },
          "metadata": {
            "tags": []
          },
          "execution_count": 197
        }
      ]
    },
    {
      "cell_type": "code",
      "metadata": {
        "colab": {
          "base_uri": "https://localhost:8080/"
        },
        "id": "o3xfuT-bbtFl",
        "outputId": "e53d39e6-8295-4495-e5b7-dbc626427c55"
      },
      "source": [
        "# Calculating the gradients \n",
        "\n",
        "loss.backward()\n",
        "params.grad\n"
      ],
      "execution_count": 198,
      "outputs": [
        {
          "output_type": "execute_result",
          "data": {
            "text/plain": [
              "tensor([-47776.3242,  -3033.8252,   -221.6074])"
            ]
          },
          "metadata": {
            "tags": []
          },
          "execution_count": 198
        }
      ]
    },
    {
      "cell_type": "code",
      "metadata": {
        "colab": {
          "base_uri": "https://localhost:8080/"
        },
        "id": "LrPl64FfcYMR",
        "outputId": "71fd7e56-ee1a-42c9-8d37-84259686061e"
      },
      "source": [
        "# Multiplying by a learning rate \n",
        "params.grad * 1e-5"
      ],
      "execution_count": 199,
      "outputs": [
        {
          "output_type": "execute_result",
          "data": {
            "text/plain": [
              "tensor([-0.4778, -0.0303, -0.0022])"
            ]
          },
          "metadata": {
            "tags": []
          },
          "execution_count": 199
        }
      ]
    },
    {
      "cell_type": "code",
      "metadata": {
        "id": "5JRKqTFCdA7R"
      },
      "source": [
        "# Updating or Stepping the weight with a learning rate \n",
        "\n",
        "lr = 1e-5 # Learning rate \n",
        "params.data -= lr * params.grad.data\n",
        "params.grad = None"
      ],
      "execution_count": 200,
      "outputs": []
    },
    {
      "cell_type": "code",
      "metadata": {
        "colab": {
          "base_uri": "https://localhost:8080/"
        },
        "id": "n2SOjUTK-CfY",
        "outputId": "398c0db2-4e21-454e-9586-50fc1e8b9f90"
      },
      "source": [
        "\n",
        "#params.grad.data , params.grad\n",
        "params.data # Is the random value generated (a,b,c) intialized parameters "
      ],
      "execution_count": 201,
      "outputs": [
        {
          "output_type": "execute_result",
          "data": {
            "text/plain": [
              "tensor([-0.3315,  1.6367, -0.2980])"
            ]
          },
          "metadata": {
            "tags": []
          },
          "execution_count": 201
        }
      ]
    },
    {
      "cell_type": "code",
      "metadata": {
        "colab": {
          "base_uri": "https://localhost:8080/"
        },
        "id": "d_4IgM0B-Fom",
        "outputId": "dbf29e1e-e103-40be-9477-df9e0a25ae96"
      },
      "source": [
        "# Seeing if loss has improved \n",
        "\n",
        "preds = f(time , params)\n",
        "mse(preds , speed)"
      ],
      "execution_count": 202,
      "outputs": [
        {
          "output_type": "execute_result",
          "data": {
            "text/plain": [
              "tensor(4500.9932, grad_fn=<MeanBackward0>)"
            ]
          },
          "metadata": {
            "tags": []
          },
          "execution_count": 202
        }
      ]
    },
    {
      "cell_type": "code",
      "metadata": {
        "colab": {
          "base_uri": "https://localhost:8080/",
          "height": 273
        },
        "id": "wYr4e5CF_hD2",
        "outputId": "46475d35-f73c-4d5a-f301-5e6554156df5"
      },
      "source": [
        "# Plotting \n",
        "show_preds(preds)"
      ],
      "execution_count": 203,
      "outputs": [
        {
          "output_type": "display_data",
          "data": {
            "image/png": "[encoded data removed]",
            "text/plain": [
              "<Figure size 432x288 with 1 Axes>"
            ]
          },
          "metadata": {
            "tags": [],
            "needs_background": "light"
          }
        }
      ]
    },
    {
      "cell_type": "code",
      "metadata": {
        "id": "76YN1gi9DchZ"
      },
      "source": [
        "# Putting everything into one function, to apply them in one step \n",
        "\n",
        "def apply_step(params , prn=True):\n",
        "  preds = f(time , params)\n",
        "  loss = mse(preds , speed)\n",
        "  loss.backward()\n",
        "  params.data -= lr * params.grad.data\n",
        "  params.grad = None\n",
        "  if prn:\n",
        "    print(loss.item()) # Getting only a number rather a tensor\n",
        "  return preds"
      ],
      "execution_count": 204,
      "outputs": []
    },
    {
      "cell_type": "code",
      "metadata": {
        "colab": {
          "base_uri": "https://localhost:8080/"
        },
        "id": "UoWjmR_gEHIK",
        "outputId": "21162b84-a185-48d0-ea90-81881de1d0e6"
      },
      "source": [
        "# Repeating the process, using loop \n",
        "\n",
        "for i in range(10):\n",
        "  apply_step(params)"
      ],
      "execution_count": 205,
      "outputs": [
        {
          "output_type": "stream",
          "text": [
            "4500.9931640625\n",
            "1389.2852783203125\n",
            "800.4452514648438\n",
            "689.0093383789062\n",
            "667.9127807617188\n",
            "663.9111328125\n",
            "663.1443481445312\n",
            "662.9898071289062\n",
            "662.9510498046875\n",
            "662.9342041015625\n"
          ],
          "name": "stdout"
        }
      ]
    },
    {
      "cell_type": "markdown",
      "metadata": {
        "id": "RVzJTCajEmIX"
      },
      "source": [
        "Finally we are dumping all those seven steps into one whole function for reproducibility. Now this can be used without writing every line of codes again. By initiating  a loop to this function we can gradually decrease the loss. \n",
        "\n",
        "Looking at each of these loss numbers disguises the fact that each iteration represents an entirely different quadratic function being tried, on the way to finding the best possible quad function. \n",
        "\n",
        "So we are visualizing them instead!"
      ]
    },
    {
      "cell_type": "code",
      "metadata": {
        "colab": {
          "base_uri": "https://localhost:8080/",
          "height": 221
        },
        "id": "cWlMinOUFzFC",
        "outputId": "81be879f-8c56-458e-9411-351fbf80daba"
      },
      "source": [
        "# Visualzing the loss numbers \n",
        "\n",
        "_ , axs = plt.subplots(1 , 4 , figsize=(12 , 3))\n",
        "for ax in axs:\n",
        "  show_preds(apply_step(params , False), ax)\n",
        "  plt.tight_layout()"
      ],
      "execution_count": 206,
      "outputs": [
        {
          "output_type": "display_data",
          "data": {
            "image/png": "[encoded data removed]",
            "text/plain": [
              "<Figure size 864x216 with 4 Axes>"
            ]
          },
          "metadata": {
            "tags": [],
            "needs_background": "light"
          }
        }
      ]
    },
    {
      "cell_type": "markdown",
      "metadata": {
        "id": "IWXT9tByGGkp"
      },
      "source": [
        "## Summarizing Gradient Descent\n",
        "\n",
        "- At beginning, the weights of our model can be random (or) from pre-trained model.\n",
        "- We compare the model with our targets and prediction using a **loss function,** which returns a number that we want to make as low as possible by **improving our weights.**\n",
        "- To find how to change the **weights** to make the loss a bit better, we use calculus to **calculate the gradients.**\n",
        "- Calculating gradients is similar finding a steepest downward slope, we use the **magnitude of the gradient** (steepness of a slope) to tell us how big a step to take.\n",
        "- To decide on the step size, we multiply the gradient by a number we choose called the **learning rate.**\n",
        "- We then iterate until we have reached the lower point, and then stop."
      ]
    },
    {
      "cell_type": "markdown",
      "metadata": {
        "id": "FhlezXn9xqfs"
      },
      "source": [
        "# The MNIST Loss Function"
      ]
    },
    {
      "cell_type": "code",
      "metadata": {
        "colab": {
          "base_uri": "https://localhost:8080/"
        },
        "id": "y2dVRIbkxuIH",
        "outputId": "2dc42f34-39b7-441c-f954-f6fa20d432f5"
      },
      "source": [
        "# Changing them from a list of matrices (rank 3) to a list of vectors (rank 2)\n",
        "\n",
        "train_x = torch.cat([stacked_threes , stacked_sevens]).view(-1 , 28*28)\n",
        "\n",
        "train_x.shape "
      ],
      "execution_count": 207,
      "outputs": [
        {
          "output_type": "execute_result",
          "data": {
            "text/plain": [
              "torch.Size([12396, 784])"
            ]
          },
          "metadata": {
            "tags": []
          },
          "execution_count": 207
        }
      ]
    },
    {
      "cell_type": "code",
      "metadata": {
        "colab": {
          "base_uri": "https://localhost:8080/"
        },
        "id": "v1pz7WNFySKw",
        "outputId": "2a69dbf0-04c3-441e-d06c-431e11923f5b"
      },
      "source": [
        "# Before converting them, it was a matrice\n",
        "torch.cat([stacked_threes , stacked_sevens]).shape"
      ],
      "execution_count": 208,
      "outputs": [
        {
          "output_type": "execute_result",
          "data": {
            "text/plain": [
              "torch.Size([12396, 28, 28])"
            ]
          },
          "metadata": {
            "tags": []
          },
          "execution_count": 208
        }
      ]
    },
    {
      "cell_type": "markdown",
      "metadata": {
        "id": "V5TCyX9uyYEO"
      },
      "source": [
        "`-1` —> denotes the row, since we don't know how many rows exactly in a dataset (or) this image, we use -1. Which says make this axis as big as necessary to fit all the data. Like we do in slicing!\n",
        "\n",
        "For labels, will use\n",
        "\n",
        "*   **1** for `3s`\n",
        "*   **0** for `7s`\n",
        "\n"
      ]
    },
    {
      "cell_type": "code",
      "metadata": {
        "colab": {
          "base_uri": "https://localhost:8080/"
        },
        "id": "2jC84ewrz45h",
        "outputId": "4bd18e8f-c35a-4d4b-c9c0-a7ac9b4ef12f"
      },
      "source": [
        "# Constructing our labels \n",
        "\n",
        "train_y = tensor([1] * len(threes) + [0] * len(sevens)).unsqueeze(1)\n",
        "train_y.shape"
      ],
      "execution_count": 209,
      "outputs": [
        {
          "output_type": "execute_result",
          "data": {
            "text/plain": [
              "torch.Size([12396, 1])"
            ]
          },
          "metadata": {
            "tags": []
          },
          "execution_count": 209
        }
      ]
    },
    {
      "cell_type": "code",
      "metadata": {
        "colab": {
          "base_uri": "https://localhost:8080/"
        },
        "id": "BV7PWsjP0s-T",
        "outputId": "a1bb654f-a8ae-4ae9-a236-1619cf077f6e"
      },
      "source": [
        "# It was a vector before, changing into matrix by unsqueeze\n",
        "\n",
        "tensor([1] * len(threes) + [0] * len(sevens)).shape"
      ],
      "execution_count": 210,
      "outputs": [
        {
          "output_type": "execute_result",
          "data": {
            "text/plain": [
              "torch.Size([12396])"
            ]
          },
          "metadata": {
            "tags": []
          },
          "execution_count": 210
        }
      ]
    },
    {
      "cell_type": "markdown",
      "metadata": {
        "id": "6XmViQif06ZM"
      },
      "source": [
        "Now we have our `train_x` and `train_y` the next thing to do is to put them in a **Dataset**. \n",
        "\n",
        "A Dataset in Pytorch is required to return a tuple of (x,y) when indexed. "
      ]
    },
    {
      "cell_type": "code",
      "metadata": {
        "colab": {
          "base_uri": "https://localhost:8080/"
        },
        "id": "uRSXIZuOFP33",
        "outputId": "eb632b0c-87f1-4561-8b24-702cf377e3f0"
      },
      "source": [
        "# Zipping x and y into a dataset \n",
        "\n",
        "dset = list(zip(train_x , train_y))\n",
        "x , y = dset[0]\n",
        "\n",
        "# Checking the shape \n",
        "x.shape , y.shape"
      ],
      "execution_count": 211,
      "outputs": [
        {
          "output_type": "execute_result",
          "data": {
            "text/plain": [
              "(torch.Size([784]), torch.Size([1]))"
            ]
          },
          "metadata": {
            "tags": []
          },
          "execution_count": 211
        }
      ]
    },
    {
      "cell_type": "code",
      "metadata": {
        "colab": {
          "base_uri": "https://localhost:8080/"
        },
        "id": "2gte10BcFcWm",
        "outputId": "230c77dc-8e90-41cf-a390-aba0698f5448"
      },
      "source": [
        "# x and y \n",
        "\n",
        "print(f'Images in Tensor (sliced) : {x[0 : 100]}')\n",
        "print('----------------- ------------ --------- -------')\n",
        "print(f'Labels: {y}')\n"
      ],
      "execution_count": 212,
      "outputs": [
        {
          "output_type": "stream",
          "text": [
            "Images in Tensor (sliced) : tensor([0., 0., 0., 0., 0., 0., 0., 0., 0., 0., 0., 0., 0., 0., 0., 0., 0., 0., 0., 0., 0., 0., 0., 0., 0., 0., 0., 0., 0., 0., 0., 0., 0., 0., 0., 0., 0., 0., 0., 0., 0., 0., 0., 0., 0., 0., 0., 0., 0., 0., 0., 0., 0., 0., 0., 0., 0., 0., 0., 0., 0., 0., 0., 0.,\n",
            "        0., 0., 0., 0., 0., 0., 0., 0., 0., 0., 0., 0., 0., 0., 0., 0., 0., 0., 0., 0., 0., 0., 0., 0., 0., 0., 0., 0., 0., 0., 0., 0., 0., 0., 0., 0.])\n",
            "----------------- ------------ --------- -------\n",
            "Labels: tensor([1])\n"
          ],
          "name": "stdout"
        }
      ]
    },
    {
      "cell_type": "code",
      "metadata": {
        "id": "I1EuJBDrFspe"
      },
      "source": [
        "# Doing the exact thing for our validation set \n",
        "\n",
        "valid_x = torch.cat([valid_3_tens , valid_7_tens]).view(-1 , 28*28)\n",
        "valid_y = tensor([1]*len(valid_3_tens) + [0]*len(valid_7_tens)).unsqueeze(1)\n",
        "\n",
        "# Putting them into a dataset \n",
        "valid_dset = list(zip(valid_x , valid_y))\n"
      ],
      "execution_count": 213,
      "outputs": []
    },
    {
      "cell_type": "markdown",
      "metadata": {
        "id": "l-3NNYs9FwUg"
      },
      "source": [
        "First step of the seven step process, \n",
        "\n",
        "#### **Initialize the parameters with random values**"
      ]
    },
    {
      "cell_type": "code",
      "metadata": {
        "id": "hxzw-hlRIjyz"
      },
      "source": [
        "# Generates weight for every pixel\n",
        "\n",
        "def init_params(size , std=1.0):\n",
        "  '''\n",
        "  size --> the exact size or shape we want our random values to be\n",
        "  std --> standard deviation (I guess not sure)\n",
        "  '''\n",
        "  return (torch.randn(size) * std).requires_grad_()\n",
        "\n",
        "# Using the function we created,\n",
        "\n",
        "weights = init_params((28*28 , 1)) # we argumented the size of (28*28 , 1) --> (784 , 1)"
      ],
      "execution_count": 214,
      "outputs": []
    },
    {
      "cell_type": "markdown",
      "metadata": {
        "id": "3_CyfKc2OXrT"
      },
      "source": [
        "The function `**weight * pixels`** won't be just enough, because image the scenario when our `pixels` are **0.** When we **multiply** our weights with a **pixel of value 0,** then the weight turns out to be **0** as well. \n",
        "\n",
        "To overcome this we use something called **bias** (b), looking at this formula `y = wx + b` w and x would be our weight and pixels when those turns out to be **zero.** The bias (b) would be come in rescue. \n",
        "\n",
        "`bias = init_params(1)` —> we initialize it constants.\n",
        "\n",
        "Together the `weights` and `biases` make up the parameters."
      ]
    },
    {
      "cell_type": "code",
      "metadata": {
        "id": "PamYv5UEPmK2"
      },
      "source": [
        "# Initializing bias \n",
        "\n",
        "bias = init_params(1)"
      ],
      "execution_count": 215,
      "outputs": []
    },
    {
      "cell_type": "markdown",
      "metadata": {
        "id": "gPEvIOp4PuzH"
      },
      "source": [
        "The next step would be, calculating gradients. \n",
        "\n",
        "Before let's calculate prediction for one image "
      ]
    },
    {
      "cell_type": "code",
      "metadata": {
        "colab": {
          "base_uri": "https://localhost:8080/"
        },
        "id": "WPhYedw_QbAb",
        "outputId": "219b1cb1-fe33-4be1-d287-ca30921dfb2b"
      },
      "source": [
        "(train_x[0] * weights.T).sum() + bias"
      ],
      "execution_count": 216,
      "outputs": [
        {
          "output_type": "execute_result",
          "data": {
            "text/plain": [
              "tensor([-13.3269], grad_fn=<AddBackward0>)"
            ]
          },
          "metadata": {
            "tags": []
          },
          "execution_count": 216
        }
      ]
    },
    {
      "cell_type": "markdown",
      "metadata": {
        "id": "k437S3ipaQ6o"
      },
      "source": [
        "#### **Calculating the predictions**\n",
        "\n",
        "The next step would be calculate the gradients with the parameters we derived. \n",
        "\n",
        "But let's first calculate the predictions manually before getting the help of **gradients**. \n",
        "\n",
        "Likewise, we gotta calculate this for every row in the matrix, which is `w * x`. For loop would be slow, we use **matrix multiplication** here to speed up the process.\n",
        "\n",
        "In Python, matrix multiplication is represented with a `@` operator."
      ]
    },
    {
      "cell_type": "code",
      "metadata": {
        "colab": {
          "base_uri": "https://localhost:8080/"
        },
        "id": "PPD1VGLEQ8BS",
        "outputId": "d549caaf-4683-4bbc-b50d-fead09aa59e1"
      },
      "source": [
        "# Constructing the matrix multi function, which does the calculation y = wx + b\n",
        "\n",
        "def linear1(xb):\n",
        "  '''\n",
        "  xb --> input a training set(x)\n",
        "  '''\n",
        "  return xb@weights + bias\n",
        "\n",
        "# Getting the predictions for all images\n",
        "preds = linear1(train_x)\n",
        "\n",
        "# Checking what's in \n",
        "preds"
      ],
      "execution_count": 217,
      "outputs": [
        {
          "output_type": "execute_result",
          "data": {
            "text/plain": [
              "tensor([[-13.3269],\n",
              "        [ -7.0356],\n",
              "        [-16.0236],\n",
              "        ...,\n",
              "        [-15.9492],\n",
              "        [ -1.8066],\n",
              "        [-12.9956]], grad_fn=<AddBackward0>)"
            ]
          },
          "metadata": {
            "tags": []
          },
          "execution_count": 217
        }
      ]
    },
    {
      "cell_type": "code",
      "metadata": {
        "colab": {
          "base_uri": "https://localhost:8080/"
        },
        "id": "p2YbQbFmR16C",
        "outputId": "fcf7d4a3-e76e-4676-ec0b-9b0ccfc12119"
      },
      "source": [
        "# Checking accuracy\n",
        "\n",
        "corrects = (preds > 0.0).float() == train_y\n",
        "corrects\n",
        "\n",
        "# Cutting out the list of  boolean, shrinking them into one single value \n",
        "corrects.float().mean().item() # item -> returns a number, excluding the tensor"
      ],
      "execution_count": 218,
      "outputs": [
        {
          "output_type": "execute_result",
          "data": {
            "text/plain": [
              "0.4311068058013916"
            ]
          },
          "metadata": {
            "tags": []
          },
          "execution_count": 218
        }
      ]
    },
    {
      "cell_type": "code",
      "metadata": {
        "id": "VRdlJHP_ToS2"
      },
      "source": [
        "# Manually tweaking weight by a small value \n",
        "\n",
        "weights[0] *=1.001"
      ],
      "execution_count": 219,
      "outputs": []
    },
    {
      "cell_type": "code",
      "metadata": {
        "colab": {
          "base_uri": "https://localhost:8080/"
        },
        "id": "Yg1O2hGsTp87",
        "outputId": "741cb613-1323-4ffe-8ad2-341f56be1ff2"
      },
      "source": [
        "# After a small change tryna calculate the preds again, Will see how far it has been improved\n",
        "\n",
        "preds = linear1(train_x)\n",
        "((preds > 0.0).float() == train_y).float().mean().item()"
      ],
      "execution_count": 220,
      "outputs": [
        {
          "output_type": "execute_result",
          "data": {
            "text/plain": [
              "0.4311068058013916"
            ]
          },
          "metadata": {
            "tags": []
          },
          "execution_count": 220
        }
      ]
    },
    {
      "cell_type": "markdown",
      "metadata": {
        "id": "I6plSyBUUwqB"
      },
      "source": [
        "Tried manually tweaking one value of **weight** with a hope that it would make a difference in the predictions. But it doesn't \n",
        "\n",
        "So we need gradients in order to improve our model using SGD, and to calculate gradients we need a ***loss function*** that represents how good our model is. \n",
        "\n",
        "Gradients are a measure of how that loss function changes with small tweaks to the weights."
      ]
    },
    {
      "cell_type": "markdown",
      "metadata": {
        "id": "XpulEPhqV5Kt"
      },
      "source": [
        "#### **Calculating the loss**\n",
        "\n",
        "We gotta choose a loss function, which would calculate our predictions for each image, collect these values to calculate an overall accuracy and then calculate the gradients of each weight with respect to that overall accuracy. \n",
        "\n",
        "Since gradient of a function is its slope, that is how much the value of the function (slope) goes up or down, divided by how much we changed the input. \n",
        "\n",
        "Mean the change in gradients depends on the input we divide by. This brings us a technical problem here but before that we can write mathematically the calculation of gradient, \n",
        "\n",
        "`(y_new - y_old) / (x_new - x_old)`\n",
        "\n",
        "At times when  `x_new` is very similar to `x_old` then their differences will be very small. The change in accuracy happens only when the prediction changes from 3 to a 7, vice versa. \n",
        "\n",
        "The problem is that a small change in weights from `x_old` to `x_new` is not likely to cause any change in the prediction. With that being said, `(y_new - y_old)` will almost always will be **0.** \n",
        "\n",
        "For instance, (1 - 1) —> will be 0.\n",
        "\n",
        "A very small change in the value of a weight will often not change the accuracy\n",
        "\n",
        "Which means it's not useful to use accuracy as a loss function, if we then most of our time our gradient will be 0 and model will not be able to learn well.\n",
        "\n",
        "**We need a loss function that when our weights result in slightly better predictions, gives us a slightly better loss.**\n",
        "\n",
        "For instance, if the correct answer is a 3, the score is little higher or if the correct answer is a 7, the score is little lower.\n",
        "\n",
        "The loss function receives not the image but the predictions `prds` from the model whether its a 3 or not (0 or 1). Then another argument `trgts` with the value 0 to 1."
      ]
    },
    {
      "cell_type": "code",
      "metadata": {
        "id": "ROJGJXW6Z27o"
      },
      "source": [
        "# Making fake data\n",
        "\n",
        "trgts = tensor([1 , 0 , 1])\n",
        "prds = tensor([0.9 , 0.4 , 0.2])\n",
        "\n",
        "# Construction of loss function \n",
        "def mnist_loss(predictions , targets):\n",
        "  return torch.where(targets==1 , 1-predictions , predictions).mean()"
      ],
      "execution_count": 221,
      "outputs": []
    },
    {
      "cell_type": "markdown",
      "metadata": {
        "id": "KEQDxSSU0XvB"
      },
      "source": [
        ""
      ]
    },
    {
      "cell_type": "code",
      "metadata": {
        "colab": {
          "base_uri": "https://localhost:8080/"
        },
        "id": "QqPXmTeIwr2C",
        "outputId": "1673ff0e-0a3a-4373-d395-d8b803ec13cf"
      },
      "source": [
        "# Since we need a scalar we take a mean, below list are predictions.\n",
        "\n",
        "torch.where(trgts == 1 , 1- prds , prds)"
      ],
      "execution_count": 222,
      "outputs": [
        {
          "output_type": "execute_result",
          "data": {
            "text/plain": [
              "tensor([0.1000, 0.4000, 0.8000])"
            ]
          },
          "metadata": {
            "tags": []
          },
          "execution_count": 222
        }
      ]
    },
    {
      "cell_type": "code",
      "metadata": {
        "colab": {
          "base_uri": "https://localhost:8080/"
        },
        "id": "0hW2xcZUw3mo",
        "outputId": "42da542b-faee-4dbd-c178-ffe6cd3d889b"
      },
      "source": [
        "# when taking mean\n",
        "mnist_loss(prds , trgts)"
      ],
      "execution_count": 223,
      "outputs": [
        {
          "output_type": "execute_result",
          "data": {
            "text/plain": [
              "tensor(0.4333)"
            ]
          },
          "metadata": {
            "tags": []
          },
          "execution_count": 223
        }
      ]
    },
    {
      "cell_type": "code",
      "metadata": {
        "colab": {
          "base_uri": "https://localhost:8080/"
        },
        "id": "nzclb16txvVW",
        "outputId": "a1b23744-180b-45ee-c1cf-d5353562e7b2"
      },
      "source": [
        "# Modifying the prediction from 0.2 to 0.8, which means better prediction and checking the calculation\n",
        "# Now the loss will go down \n",
        "\n",
        "prds = tensor([0.9 , 0.4 , 0.8])\n",
        "mnist_loss(prds , trgts)"
      ],
      "execution_count": 224,
      "outputs": [
        {
          "output_type": "execute_result",
          "data": {
            "text/plain": [
              "tensor(0.2333)"
            ]
          },
          "metadata": {
            "tags": []
          },
          "execution_count": 224
        }
      ]
    },
    {
      "cell_type": "markdown",
      "metadata": {
        "id": "sFO4AYp1yIT3"
      },
      "source": [
        "`mnist_distance` has a problem that it assumes that predictions are always between 0 and 1. We need a function which could put different values between 0 and 1.\n",
        "\n",
        "### Sigmoid Function\n",
        "\n",
        "The sigmoid function always outputs a number between 0 and 1. \n",
        "\n",
        "`def sigmoid(x): return 1 / (1 + torch.exp(-x) )`\n",
        "\n",
        "But in Pytorch, we have a function which could do this for us. And this is an important function in deep learning, since we often want to ensure that values between 0 and 1."
      ]
    },
    {
      "cell_type": "code",
      "metadata": {
        "colab": {
          "base_uri": "https://localhost:8080/",
          "height": 285
        },
        "id": "85Mk_jIl7JM4",
        "outputId": "44b69adf-fae8-4527-98bf-fdc62fd8bae9"
      },
      "source": [
        "# Example of sigmoid from Pytorch function\n",
        "\n",
        "plot_function(torch.sigmoid , title='Sigmoid' , min=-4 , max=4)"
      ],
      "execution_count": 225,
      "outputs": [
        {
          "output_type": "display_data",
          "data": {
            "image/png": "[encoded data removed]",
            "text/plain": [
              "<Figure size 432x288 with 1 Axes>"
            ]
          },
          "metadata": {
            "tags": [],
            "needs_background": "light"
          }
        }
      ]
    },
    {
      "cell_type": "markdown",
      "metadata": {
        "id": "WCBifw6x7UlQ"
      },
      "source": [
        "We can see that it takes any input value, positive or negative, smooshes it into an output value between 0 and 1. "
      ]
    },
    {
      "cell_type": "code",
      "metadata": {
        "id": "n7qagyRc78sc"
      },
      "source": [
        "# Updating mnist_loss function with the sigmoid function \n",
        "\n",
        "def mnist_loss(predictions , targets):\n",
        "  predictions = predictions.sigmoid()\n",
        "  return torch.where(targets == 1, 1-predictions , predictions).mean()"
      ],
      "execution_count": 226,
      "outputs": []
    },
    {
      "cell_type": "markdown",
      "metadata": {
        "id": "CZI6nABp8Gnr"
      },
      "source": [
        "Now our loss function will work even if the predictions are not between 0 and 1. \n",
        "\n",
        "* `metric` --> drive human understanding (for humans)\n",
        "* `loss`  --> drive automated learning (for automatic updation)\n",
        "\n",
        "The loss function is calculated for **each item in our dataset**,  and then at the end of an epoch, the **loss values are all averaged and the overall mean is reported for the epoch.** \n",
        "\n",
        "Metrics on other hand are the numbers we care about and these are the values which are printed at end of each epoch that tells us how our model is doing. \n",
        "\n",
        "When judging a performance of a model it's important to focus on metrics rather than the loss."
      ]
    },
    {
      "cell_type": "markdown",
      "metadata": {
        "id": "84xE4Jn68WQJ"
      },
      "source": [
        "## SGD and Mini - Batches\n",
        "\n",
        "As we recreating those seven steps one by one for our Mnist data, now we have our loss function which is suitable for driving SGD. \n",
        "\n",
        "The next phase would be update the weights based on the gradients. This is called an **optimization step**\n",
        "\n",
        "To take an **optimization step** we need to calculate loss over one or more data items. The two ways we could calculate are: \n",
        "\n",
        "- Calculate for the whole dataset.\n",
        "- Calculate for single data item (one by one).\n",
        "\n",
        "Either of those above options won't be ideal, that would produce an unstable gradient and it will cause a trouble on updating the gradients. After all this would be slow, imagine doing this for dataset which has million's of images. \n",
        "\n",
        "The fix, \n",
        "\n",
        "Instead we calculate the average loss for a few data items at a time. This is called **mini - batch**  and the number of data in mini batch is called the **batch size.** \n",
        "\n",
        "Larger batch size —> more accurate and stable estimate of the dataset's gradient and loss function. But takes time since we will process fewer mini-batches per epoch. \n",
        "\n",
        "Choosing a good batch size is one of the decisions one need to make a deep learning practitioner to train the model quickly and accurately.\n",
        "\n",
        "Another good reason for using mini-batches, these **calculations** of batches takes place on **GPU**. These accelerator (GPU) perform well only if they have lots of work to do at a time, so it's helpful if we can give them lots of data. \n",
        "\n",
        "A effective way is, putting our data on random shuffle on every epoch, before we create mini-batches. Below article **will explain the need for shuffling before creating mini batch.** \n",
        "\n",
        "[Why should we shuffle data while training a neural network?](https://stats.stackexchange.com/questions/245502/why-should-we-shuffle-data-while-training-a-neural-network)\n",
        "\n",
        "The reasons would be: \n",
        "\n",
        "- it prevents any bias during the training\n",
        "- it prevents the model from learning the order of the training\n",
        "- it helps the training converge fast\n",
        "\n",
        "\n",
        "Pytorch and Fastai provides `class` that will do the shuffling and mini-batch collation, called **`DataLoader`**\n",
        "\n",
        "A DataLoader can take any Python collection and turn it into iterator over many batches.\n"
      ]
    },
    {
      "cell_type": "code",
      "metadata": {
        "colab": {
          "base_uri": "https://localhost:8080/"
        },
        "id": "AfQjqTrpAMGl",
        "outputId": "6f5f1971-bebc-47ea-abac-26e935c13e81"
      },
      "source": [
        "# Using the DataLoader, to shuffle and collate (combine) into mini-batches. \n",
        "\n",
        "coll = range(15)\n",
        "dl = DataLoader(coll , batch_size=5 , shuffle=True) # putting 15 numbers into bs of 5 and shuffled. \n",
        "list(dl)"
      ],
      "execution_count": 227,
      "outputs": [
        {
          "output_type": "execute_result",
          "data": {
            "text/plain": [
              "[tensor([ 3,  2, 10,  9, 13]),\n",
              " tensor([14,  6,  8,  0,  1]),\n",
              " tensor([ 7,  4,  5, 12, 11])]"
            ]
          },
          "metadata": {
            "tags": []
          },
          "execution_count": 227
        }
      ]
    },
    {
      "cell_type": "markdown",
      "metadata": {
        "id": "Bhra7fpyFYMY"
      },
      "source": [
        "But for training a model, we don't just want any Python collection, but a collection containing **Independent** and **dependent** variables (inputs and targets of model). \n",
        "\n",
        "A collection that contains tuples of Independent and dependent variables is known in Pytorch as a `Dataset` ."
      ]
    },
    {
      "cell_type": "code",
      "metadata": {
        "colab": {
          "base_uri": "https://localhost:8080/"
        },
        "id": "HGg3Cpn6gJZv",
        "outputId": "16b3f895-a629-4eac-b1e1-25f6d13501d0"
      },
      "source": [
        "# Example of a dataset \n",
        "\n",
        "ds = L(enumerate(string.ascii_lowercase))\n",
        "ds #  looking inside the dataset"
      ],
      "execution_count": 228,
      "outputs": [
        {
          "output_type": "execute_result",
          "data": {
            "text/plain": [
              "(#26) [(0, 'a'),(1, 'b'),(2, 'c'),(3, 'd'),(4, 'e'),(5, 'f'),(6, 'g'),(7, 'h'),(8, 'i'),(9, 'j')...]"
            ]
          },
          "metadata": {
            "tags": []
          },
          "execution_count": 228
        }
      ]
    },
    {
      "cell_type": "markdown",
      "metadata": {
        "id": "rA28ZJ7agVv5"
      },
      "source": [
        "When we pass a `Dataset` to a `DataLoader` we will get back many batches that are themselves tuples of tensors representing batches of independent and dependent variables. \n",
        "\n",
        "Instead of `coll` in previous example we could pass `ds` which is a dataset to a `DataLoader`"
      ]
    },
    {
      "cell_type": "code",
      "metadata": {
        "colab": {
          "base_uri": "https://localhost:8080/"
        },
        "id": "ydgCrueeh2Xy",
        "outputId": "5a2b3860-025f-42cf-deed-ebabc43639a0"
      },
      "source": [
        "dl = DataLoader(ds , batch_size=6 , shuffle=True)\n",
        "list(dl)"
      ],
      "execution_count": 229,
      "outputs": [
        {
          "output_type": "execute_result",
          "data": {
            "text/plain": [
              "[(tensor([ 3, 16, 17,  8,  7,  2]), ('d', 'q', 'r', 'i', 'h', 'c')),\n",
              " (tensor([10, 22,  4, 14, 25, 15]), ('k', 'w', 'e', 'o', 'z', 'p')),\n",
              " (tensor([ 1, 12, 19,  5,  9, 11]), ('b', 'm', 't', 'f', 'j', 'l')),\n",
              " (tensor([ 0, 23, 21, 13, 18, 20]), ('a', 'x', 'v', 'n', 's', 'u')),\n",
              " (tensor([ 6, 24]), ('g', 'y'))]"
            ]
          },
          "metadata": {
            "tags": []
          },
          "execution_count": 229
        }
      ]
    },
    {
      "cell_type": "markdown",
      "metadata": {
        "id": "p4rj2HqOh9Gr"
      },
      "source": [
        "As we observe those tuples, the `DataLoader` structure those in such a way that both `x` and `y` values will be equally parted. The rest remaining tuples for example above, \n",
        "\n",
        "`(tensor([25, 21]), ('z', 'v'))]` \n",
        "\n",
        "those are tuples which couldn't form a (**6 , 6)** pair with other tuples. These pair's later equally distributed.\n"
      ]
    },
    {
      "cell_type": "markdown",
      "metadata": {
        "id": "-WcLVJRXiyAH"
      },
      "source": [
        "# Putting it All Together\n",
        "\n",
        "Now we experimented all those seven steps one by one, its time to implement as per the figure. \n",
        "\n",
        "![grd.png](data:image/png;base64,iVBORw0KGgoAAAANSUhEUgAABZMAAAD2CAIAAAAs6Y7pAAAACXBIWXMAAC4jAAAuIwF4pT92AAAXPWlUWHRYTUw6Y29tLmFkb2JlLnhtcAAAAAAAPD94cGFja2V0IGJlZ2luPSLvu78iIGlkPSJXNU0wTXBDZWhpSHpyZVN6TlRjemtjOWQiPz4gPHg6eG1wbWV0YSB4bWxuczp4PSJhZG9iZTpuczptZXRhLyIgeDp4bXB0az0iQWRvYmUgWE1QIENvcmUgNi4wLWMwMDIgNzkuMTY0MzUyLCAyMDIwLzAxLzMwLTE1OjUwOjM4ICAgICAgICAiPiA8cmRmOlJERiB4bWxuczpyZGY9Imh0dHA6Ly93d3cudzMub3JnLzE5OTkvMDIvMjItcmRmLXN5bnRheC1ucyMiPiA8cmRmOkRlc2NyaXB0aW9uIHJkZjphYm91dD0iIiB4bWxuczpkYz0iaHR0cDovL3B1cmwub3JnL2RjL2VsZW1lbnRzLzEuMS8iIHhtbG5zOnhtcD0iaHR0cDovL25zLmFkb2JlLmNvbS94YXAvMS4wLyIgeG1sbnM6eG1wTU09Imh0dHA6Ly9ucy5hZG9iZS5jb20veGFwLzEuMC9tbS8iIHhtbG5zOnN0UmVmPSJodHRwOi8vbnMuYWRvYmUuY29tL3hhcC8xLjAvc1R5cGUvUmVzb3VyY2VSZWYjIiB4bWxuczpzdEV2dD0iaHR0cDovL25zLmFkb2JlLmNvbS94YXAvMS4wL3NUeXBlL1Jlc291cmNlRXZlbnQjIiB4bWxuczppbGx1c3RyYXRvcj0iaHR0cDovL25zLmFkb2JlLmNvbS9pbGx1c3RyYXRvci8xLjAvIiB4bWxuczp4bXBUUGc9Imh0dHA6Ly9ucy5hZG9iZS5jb20veGFwLzEuMC90L3BnLyIgeG1sbnM6c3REaW09Imh0dHA6Ly9ucy5hZG9iZS5jb20veGFwLzEuMC9zVHlwZS9EaW1lbnNpb25zIyIgeG1sbnM6c3RGbnQ9Imh0dHA6Ly9ucy5hZG9iZS5jb20veGFwLzEuMC9zVHlwZS9Gb250IyIgeG1sbnM6eG1wRz0iaHR0cDovL25zLmFkb2JlLmNvbS94YXAvMS4wL2cvIiB4bWxuczpwZGY9Imh0dHA6Ly9ucy5hZG9iZS5jb20vcGRmLzEuMy8iIHhtbG5zOnBob3Rvc2hvcD0iaHR0cDovL25zLmFkb2JlLmNvbS9waG90b3Nob3AvMS4wLyIgZGM6Zm9ybWF0PSJpbWFnZS9wbmciIHhtcDpDcmVhdG9yVG9vbD0iQWRvYmUgSWxsdXN0cmF0b3IgMjQuMSAoTWFjaW50b3NoKSIgeG1wOkNyZWF0ZURhdGU9IjIwMjAtMDUtMDhUMTA6NTU6NDUtMDQ6MDAiIHhtcDpNb2RpZnlEYXRlPSIyMDIwLTA1LTI4VDEwOjQwOjQyLTA3OjAwIiB4bXA6TWV0YWRhdGFEYXRlPSIyMDIwLTA1LTI4VDEwOjQwOjQyLTA3OjAwIiB4bXBNTTpEb2N1bWVudElEPSJ4bXAuZGlkOmE4NjQ4OWUzLWM0ZTMtNGE4NC1iZTYxLTQ4NTJlZWIwM2Q3ZSIgeG1wTU06SW5zdGFuY2VJRD0ieG1wLmlpZDowNDc3MjAzOC05NDg1LWJiNGEtODc2MC03NjUzZTZhZjc4MTkiIHhtcE1NOlJlbmRpdGlvbkNsYXNzPSJwcm9vZjpwZGYiIHhtcE1NOk9yaWdpbmFsRG9jdW1lbnRJRD0idXVpZDo1NEJGNUVEMjQ2M0FERTExOTU3M0I0QUFEQjU0NTk4RCIgaWxsdXN0cmF0b3I6U3RhcnR1cFByb2ZpbGU9IlByaW50IiBpbGx1c3RyYXRvcjpUeXBlPSJEb2N1bWVudCIgaWxsdXN0cmF0b3I6Q3JlYXRvclN1YlRvb2w9IkFJUm9iaW4iIHhtcFRQZzpOUGFnZXM9IjEiIHhtcFRQZzpIYXNWaXNpYmxlVHJhbnNwYXJlbmN5PSJGYWxzZSIgeG1wVFBnOkhhc1Zpc2libGVPdmVycHJpbnQ9IkZhbHNlIiBwZGY6UHJvZHVjZXI9IkFkb2JlIFBERiBsaWJyYXJ5IDE1LjAwIiBwaG90b3Nob3A6Q29sb3JNb2RlPSIzIiBwaG90b3Nob3A6SUNDUHJvZmlsZT0ic1JHQiBJRUM2MTk2Ni0yLjEiPiA8ZGM6dGl0bGU+IDxyZGY6QWx0PiA8cmRmOmxpIHhtbDpsYW5nPSJ4LWRlZmF1bHQiPjA0MDE8L3JkZjpsaT4gPC9yZGY6QWx0PiA8L2RjOnRpdGxlPiA8eG1wTU06RGVyaXZlZEZyb20gc3RSZWY6aW5zdGFuY2VJRD0idXVpZDpjOWYyZmVlMS1lZDliLTUxNDQtYmRkNy1mMmM2Y2I2YzA0MGYiIHN0UmVmOmRvY3VtZW50SUQ9InhtcC5kaWQ6YTg2NDg5ZTMtYzRlMy00YTg0LWJlNjEtNDg1MmVlYjAzZDdlIiBzdFJlZjpvcmlnaW5hbERvY3VtZW50SUQ9InV1aWQ6NTRCRjVFRDI0NjNBREUxMTk1NzNCNEFBREI1NDU5OEQiIHN0UmVmOnJlbmRpdGlvbkNsYXNzPSJwcm9vZjpwZGYiLz4gPHhtcE1NOkhpc3Rvcnk+IDxyZGY6U2VxPiA8cmRmOmxpIHN0RXZ0OmFjdGlvbj0ic2F2ZWQiIHN0RXZ0Omluc3RhbmNlSUQ9InhtcC5paWQ6Rjc3RjExNzQwNzIwNjgxMTk5NENENjQyOEU4RUI2ODQiIHN0RXZ0OndoZW49IjIwMTEtMDUtMDRUMTQ6MjE6MzUtMDQ6MDAiIHN0RXZ0OnNvZnR3YXJlQWdlbnQ9IkFkb2JlIElsbHVzdHJhdG9yIENTNCIgc3RFdnQ6Y2hhbmdlZD0iLyIvPiA8cmRmOmxpIHN0RXZ0OmFjdGlvbj0ic2F2ZWQiIHN0RXZ0Omluc3RhbmNlSUQ9InhtcC5paWQ6YTg2NDg5ZTMtYzRlMy00YTg0LWJlNjEtNDg1MmVlYjAzZDdlIiBzdEV2dDp3aGVuPSIyMDIwLTA1LTA4VDEwOjU1OjQzLTA0OjAwIiBzdEV2dDpzb2Z0d2FyZUFnZW50PSJBZG9iZSBJbGx1c3RyYXRvciAyNC4xIChNYWNpbnRvc2gpIiBzdEV2dDpjaGFuZ2VkPSIvIi8+IDxyZGY6bGkgc3RFdnQ6YWN0aW9uPSJjb252ZXJ0ZWQiIHN0RXZ0OnBhcmFtZXRlcnM9ImZyb20gYXBwbGljYXRpb24vcGRmIHRvIGFwcGxpY2F0aW9uL3ZuZC5hZG9iZS5waG90b3Nob3AiLz4gPHJkZjpsaSBzdEV2dDphY3Rpb249ImRlcml2ZWQiIHN0RXZ0OnBhcmFtZXRlcnM9ImNvbnZlcnRlZCBmcm9tIGFwcGxpY2F0aW9uL3ZuZC5hZG9iZS5waG90b3Nob3AgdG8gaW1hZ2UvcG5nIi8+IDxyZGY6bGkgc3RFdnQ6YWN0aW9uPSJzYXZlZCIgc3RFdnQ6aW5zdGFuY2VJRD0ieG1wLmlpZDowNDc3MjAzOC05NDg1LWJiNGEtODc2MC03NjUzZTZhZjc4MTkiIHN0RXZ0OndoZW49IjIwMjAtMDUtMjhUMTA6NDA6NDItMDc6MDAiIHN0RXZ0OnNvZnR3YXJlQWdlbnQ9IkFkb2JlIFBob3Rvc2hvcCAyMS4xIChXaW5kb3dzKSIgc3RFdnQ6Y2hhbmdlZD0iLyIvPiA8L3JkZjpTZXE+IDwveG1wTU06SGlzdG9yeT4gPHhtcFRQZzpNYXhQYWdlU2l6ZSBzdERpbTp3PSI0Ljc5OTk5NCIgc3REaW06aD0iMC44OTE2MDYiIHN0RGltOnVuaXQ9IkluY2hlcyIvPiA8eG1wVFBnOkZvbnRzPiA8cmRmOkJhZz4gPHJkZjpsaSBzdEZudDpmb250TmFtZT0iR3VhcmRpYW5TYW5zQ29uZC1SZWd1bGFyIiBzdEZudDpmb250RmFtaWx5PSJHdWFyZGlhbiBTYW5zIENvbmQiIHN0Rm50OmZvbnRGYWNlPSJSZWd1bGFyIiBzdEZudDpmb250VHlwZT0iT3BlbiBUeXBlIiBzdEZudDp2ZXJzaW9uU3RyaW5nPSJWZXJzaW9uIDEuMDAxO1BTIDAwMS4wMDE7aG90Y29udiAxLjAuNTc7bWFrZW90Zi5saWIyLjAuMjE4OTUiIHN0Rm50OmNvbXBvc2l0ZT0iRmFsc2UiIHN0Rm50OmZvbnRGaWxlTmFtZT0iR3VhcmRpYW4gU2FucyBDb25kLVJlZ3VsYXIub3RmIi8+IDwvcmRmOkJhZz4gPC94bXBUUGc6Rm9udHM+IDx4bXBUUGc6UGxhdGVOYW1lcz4gPHJkZjpTZXE+IDxyZGY6bGk+Q3lhbjwvcmRmOmxpPiA8cmRmOmxpPk1hZ2VudGE8L3JkZjpsaT4gPHJkZjpsaT5ZZWxsb3c8L3JkZjpsaT4gPHJkZjpsaT5CbGFjazwvcmRmOmxpPiA8L3JkZjpTZXE+IDwveG1wVFBnOlBsYXRlTmFtZXM+IDx4bXBUUGc6U3dhdGNoR3JvdXBzPiA8cmRmOlNlcT4gPHJkZjpsaT4gPHJkZjpEZXNjcmlwdGlvbiB4bXBHOmdyb3VwTmFtZT0iRGVmYXVsdCBTd2F0Y2ggR3JvdXAiIHhtcEc6Z3JvdXBUeXBlPSIwIj4gPHhtcEc6Q29sb3JhbnRzPiA8cmRmOlNlcT4gPHJkZjpsaSB4bXBHOnN3YXRjaE5hbWU9IlI9MCBHPTE0NiBCPTY5IiB4bXBHOnR5cGU9IlBST0NFU1MiIHhtcEc6dGludD0iMTAwLjAwMDAwMCIgeG1wRzptb2RlPSJSR0IiIHhtcEc6cmVkPSIwIiB4bXBHOmdyZWVuPSIxNDUiIHhtcEc6Ymx1ZT0iNjgiLz4gPHJkZjpsaSB4bXBHOnN3YXRjaE5hbWU9IlI9MTkzIEc9MzkgQj00NSIgeG1wRzp0eXBlPSJQUk9DRVNTIiB4bXBHOnRpbnQ9IjEwMC4wMDAwMDAiIHhtcEc6bW9kZT0iUkdCIiB4bXBHOnJlZD0iMTkzIiB4bXBHOmdyZWVuPSIzOCIgeG1wRzpibHVlPSI0NSIvPiA8cmRmOmxpIHhtcEc6c3dhdGNoTmFtZT0iUj0yNDcgRz0xNDcgQj0zMCIgeG1wRzp0eXBlPSJQUk9DRVNTIiB4bXBHOnRpbnQ9IjEwMC4wMDAwMDAiIHhtcEc6bW9kZT0iUkdCIiB4bXBHOnJlZD0iMjQ2IiB4bXBHOmdyZWVuPSIxNDciIHhtcEc6Ymx1ZT0iMjkiLz4gPHJkZjpsaSB4bXBHOnN3YXRjaE5hbWU9IlI9MCBHPTExMyBCPTE4OCIgeG1wRzp0eXBlPSJQUk9DRVNTIiB4bXBHOnRpbnQ9IjEwMC4wMDAwMDAiIHhtcEc6bW9kZT0iUkdCIiB4bXBHOnJlZD0iMCIgeG1wRzpncmVlbj0iMTEyIiB4bXBHOmJsdWU9IjE4OCIvPiA8cmRmOmxpIHhtcEc6c3dhdGNoTmFtZT0iQz0yMyBNPTUyIFk9NjYgSz0xNyIgeG1wRzp0eXBlPSJQUk9DRVNTIiB4bXBHOnRpbnQ9IjEwMC4wMDAwMDAiIHhtcEc6bW9kZT0iUkdCIiB4bXBHOnJlZD0iMTcwIiB4bXBHOmdyZWVuPSIxMTYiIHhtcEc6Ymx1ZT0iODQiLz4gPHJkZjpsaSB4bXBHOnN3YXRjaE5hbWU9IlI9MjU1IEc9MjIyIEI9MCIgeG1wRzp0eXBlPSJTUE9UIiB4bXBHOnRpbnQ9IjEwMC4wMDAwMDAiIHhtcEc6bW9kZT0iUkdCIiB4bXBHOnJlZD0iMjU1IiB4bXBHOmdyZWVuPSIyMjIiIHhtcEc6Ymx1ZT0iMCIvPiA8cmRmOmxpIHhtcEc6c3dhdGNoTmFtZT0iUj0xNTMgRz0wIEI9MjA0IiB4bXBHOnR5cGU9IlNQT1QiIHhtcEc6dGludD0iMTAwLjAwMDAwMCIgeG1wRzptb2RlPSJSR0IiIHhtcEc6cmVkPSIxNTMiIHhtcEc6Z3JlZW49IjAiIHhtcEc6Ymx1ZT0iMjA0Ii8+IDwvcmRmOlNlcT4gPC94bXBHOkNvbG9yYW50cz4gPC9yZGY6RGVzY3JpcHRpb24+IDwvcmRmOmxpPiA8cmRmOmxpPiA8cmRmOkRlc2NyaXB0aW9uIHhtcEc6Z3JvdXBOYW1lPSJHcmF5c2NhbGUiIHhtcEc6Z3JvdXBUeXBlPSIxIj4gPHhtcEc6Q29sb3JhbnRzPiA8cmRmOlNlcT4gPHJkZjpsaSB4bXBHOnN3YXRjaE5hbWU9Iks9MTAwIiB4bXBHOm1vZGU9IkdSQVkiIHhtcEc6dHlwZT0iUFJPQ0VTUyIgeG1wRzpncmF5PSIyNTUiLz4gPHJkZjpsaSB4bXBHOnN3YXRjaE5hbWU9Iks9OTAiIHhtcEc6bW9kZT0iR1JBWSIgeG1wRzp0eXBlPSJQUk9DRVNTIiB4bXBHOmdyYXk9IjIyOSIvPiA8cmRmOmxpIHhtcEc6c3dhdGNoTmFtZT0iSz04MCIgeG1wRzptb2RlPSJHUkFZIiB4bXBHOnR5cGU9IlBST0NFU1MiIHhtcEc6Z3JheT0iMjAzIi8+IDxyZGY6bGkgeG1wRzpzd2F0Y2hOYW1lPSJLPTcwIiB4bXBHOm1vZGU9IkdSQVkiIHhtcEc6dHlwZT0iUFJPQ0VTUyIgeG1wRzpncmF5PSIxNzgiLz4gPHJkZjpsaSB4bXBHOnN3YXRjaE5hbWU9Iks9NjAiIHhtcEc6bW9kZT0iR1JBWSIgeG1wRzp0eXBlPSJQUk9DRVNTIiB4bXBHOmdyYXk9IjE1MiIvPiA8cmRmOmxpIHhtcEc6c3dhdGNoTmFtZT0iSz01MCIgeG1wRzptb2RlPSJHUkFZIiB4bXBHOnR5cGU9IlBST0NFU1MiIHhtcEc6Z3JheT0iMTI3Ii8+IDxyZGY6bGkgeG1wRzpzd2F0Y2hOYW1lPSJLPTQwIiB4bXBHOm1vZGU9IkdSQVkiIHhtcEc6dHlwZT0iUFJPQ0VTUyIgeG1wRzpncmF5PSIxMDEiLz4gPHJkZjpsaSB4bXBHOnN3YXRjaE5hbWU9Iks9MzAiIHhtcEc6bW9kZT0iR1JBWSIgeG1wRzp0eXBlPSJQUk9DRVNTIiB4bXBHOmdyYXk9Ijc2Ii8+IDxyZGY6bGkgeG1wRzpzd2F0Y2hOYW1lPSJLPTIwIiB4bXBHOm1vZGU9IkdSQVkiIHhtcEc6dHlwZT0iUFJPQ0VTUyIgeG1wRzpncmF5PSI1MCIvPiA8cmRmOmxpIHhtcEc6c3dhdGNoTmFtZT0iSz0xMCIgeG1wRzptb2RlPSJHUkFZIiB4bXBHOnR5cGU9IlBST0NFU1MiIHhtcEc6Z3JheT0iMjUiLz4gPHJkZjpsaSB4bXBHOnN3YXRjaE5hbWU9Iks9NSIgeG1wRzptb2RlPSJHUkFZIiB4bXBHOnR5cGU9IlBST0NFU1MiIHhtcEc6Z3JheT0iMTIiLz4gPHJkZjpsaSB4bXBHOnN3YXRjaE5hbWU9Iks9MCAxIiB4bXBHOm1vZGU9IkdSQVkiIHhtcEc6dHlwZT0iUFJPQ0VTUyIgeG1wRzpncmF5PSIwIi8+IDwvcmRmOlNlcT4gPC94bXBHOkNvbG9yYW50cz4gPC9yZGY6RGVzY3JpcHRpb24+IDwvcmRmOmxpPiA8L3JkZjpTZXE+IDwveG1wVFBnOlN3YXRjaEdyb3Vwcz4gPC9yZGY6RGVzY3JpcHRpb24+IDwvcmRmOlJERj4gPC94OnhtcG1ldGE+IDw/eHBhY2tldCBlbmQ9InIiPz6lW4YyAACAN0lEQVR42u2dB1gT2/r16b0qIIockCpYUMSCiiJ2xYYdLIiCBRWsWBAVUVRU7FhQsCsqxcbBrnjEBii2Yy+IvWOj3m//b+43jjNJCCVkEtbveZ/zeMJkkuz9zp691uwi9x8AAAAAAAAAAAAAriKHIgAAAAAAAAAAAABngXMBAAAAAAAAAAAA7gLnAgAAAAAAAAAAANwFzgUAAACp59OnT9evXz969OjWrVsXL148depUb29vDw+PTp06tWzZ0uG/2NjYmP0XCwsL3ivNmjVzc3Pr1avX8OHDJ0yYEBYWtnHjxoSEhMuXL7969QqlCjhIbm7uv//+e+bMmbi4uA0bNixcuHDKlCkjRowYOHBgjx492rZt6+TkxEtvW1tbs/9P/fr1eS86Ozu3b9+e5PyQIUP8/PxmzJgRERGxZcuWQ4cOpaWlPXv2LD8/H4UMAAAAzgUAAABQLn78+HHlypXY2NiZM2f26dOHSDJtbW05MaCiomJtbd21a9fAwMCoqCiiFT9+/IjyB5XDz58/MzMz9+/fv3Tp0jFjxnTq1MnW1lZLS0tO/BgZGTVq1IhcXFOmTFm7du2xY8cePXpUVFSESgEAAADnAgAAAOBPXl7epUuXli9fPnjwYDs7OwUFBTnJ8ddff/Xs2TM0NDQlJeXLly+oHVAhFBUV3b17d8+ePdOmTevRo0edOnUkm+ds1NXVHRwcPD09Fy5cmJyc/Pr1a9QaAAAAOBcAAACqND9//jxz5szs2bNbtmypqqoqx0nk5eUbNGjg7++fkJCA4RigtLx8+XL//v1TpkwhSa6pqSknbdSqVat79+6LFi0il+q3b99QoQAAAOBcAAAAqBI8ffp07dq1nTt3VldXL4OUUlPXqGVmUdehaXO3rp36Duk5dPTgcdN8ps4fPXtxQNgaRowLWTYqKGzwuOl9vP27DvBu1blnfaeWtetYa+tVK8NHKygoNGvWbP78+RkZGcXFxahKwJfs7OyYmJjhw4ebm5uXxzVQUlapblTTzNquQbPWrTr1INneY4jfwDFThgXMJlntP28FO+FJjAleQv7q6R/Ub1QAOd6t58CmbTvVbdSUpL2ufvXyfB9FRcUmTZpMmTLl2LFjubm5qGgAAABwLgAAAMgad+/eDQ0NbdiwoehKSa+6YX2nlp37Dxs5fUHwmh0rD5zZffHBoVvvKiT2X3u+/vDFeRvjxoZE9Bw6uolL+xomf8nLy4v43UxMTMaPH//PP//AwgD/+e8AIqLnSUpYWlqW1hHQ1tW3rt/YpUvvfr6B/vNWzNuwb3X8uR3n71ZUqtMj4frLraduLNv998yVMb4zFvbw8m3atpOppa1KKQc9KSoqtmrVKiwsLDMzE5cAAAAAOBcAAACkm9evX0dERDg6Oooih6ob1WzVuefwSXPmbYwTk3ITHvsuP1my4+joWeEd+njWrmMtync2NTWdNm3anTt3UNdVkA8fPkRHR7u7u4s+gEhdU6tekxbuXqPGhkSExx7akfpv5ec5O5Ky3mz6+1rw2p3eU+a69RpkZm2noKAouos3evTo5ORkbFkCAAAAzgUAAABpoqio6PDhw7169VJSUhIue4xNzTv3HzYtYtOWE5lckHD02H3xQcj6PR4+E6zsHUocjtGiRYtNmzZhLYCqwKdPnzZu3Ni5c+cS05s36cPWwanXsDHTl0dvOHo56eZbruU53ziYkbN87/GxIRFuvQbVMrMQxcLQ19f38fH5+++/CwsLkSQAAADgXAAAAOAuHz9+XLZsWZ06dYTtRaqq2rRtJ/+5y6NTMqRCxZHY9c/9oOVb3HoOFL5Ghp6e3uTJkx8/foxMkD3y8/OTkpL69eunoqIiXMMrq6g4tGjjNWHm0p3HDqS/kJYkFxI7U+/NWrWtxxA/M2u7Ei0MY2PjKVOmXL9+HTkDAAAAzgUAAABu8eLFi0mTJgnZQEFNXcOlS+/Zq7fvv/ZceiVcYtbr8G2Hu3uO0jesIWRHkv79+2dkZCArZIOnT5/OnDmzRo0aJUwdsrDp4+2/cGuCbLgVgmJH6r9Tlmxwde9X4kq3Tk5O0dHRGIgEAAAAzgUAAADJ8+zZM19fX2VlZf4yXkHBqU2HoOVbDqRny5J+S8p6szAmsUOfwWrqGoKUW+fOndPS0pAhUkpxcfHx48e7du0qZK4Q+ZO9Y3PfmYs2p6TLsFshyMVbuvNY35ETjWubCfEvdHR0Jk6c+OjRI2QUAAAAOBcAAAAkwMuXL4kmEeRZGNUyHRowO/b0TdnWb3FXnk5csMq6fmNByq1Xr143btxAtkgReXl5MTEx9evXFyLI6zk5jw2J2H7uTlUzLPjGiriT/X0DjUxMhVg8ffv2vXDhArILAAAAnAsAAACVxM+fPxcuXChobkiDpq1mropNzHpdpcRbxK5kV/f+ikrKfGXbiBEjXr9+jczhvmcRFRVlaipQgdf8q47X+BlVcISFSAORbr5dFJvU0cNLXVNLUAG2bdv2zJkzyDQAAABwLgAAAIiX+Ph4c3NzvvrcuYP7in0nqrJ423Iis8cQP1U1PttkamtrL1myBJtHctazWL16tbGxMV+9raio1Kpzz7At8dKyOYiEByJdfTZ+fqSlfUMh/sXZs2eRdQAAAOBcAAAAqHiys7N79uzJV4q07txrXdIFaDZqLwYPnwkqqqp8BqQ0aHD58mXkEncoLi6Oi4uztLTkm9i6+tUHj5u+7extZHUZYvne422791VQUORbtt27d7958yYyEAAAAJwLAAAAFcbGjRu1tbXZ8qOJS/uV+09DpLFj25lbXQeOYMs2eXn5gICAnz9/IqkkzqVLl5o1a8ZXV5uYW/nPWyFjK8tKJLaevN7H25/vWrYKCgq+vr7v3r1DKgIAAIBzAQAAoFy8efPG3d2drTpq17GeG7UXwkx4rEu60LhlO3bp2dnZYedUCULU8qhRo/juG2JqYTMtYlNS1htkb8UORBo8bpqGlg67wPX19aOiooqKipCWAAAA5wIAAAAoCydOnDA0NGQoDRVVtRFT5yXceAU9JmLMXr3dwNiEUYzKysqRkZHIscpn586d1apVY0to49pmU5duhGchvtiT9rC/byDfiVTNmze/e/cukhMAAOBcAAAAAKWguLg4NDRUQUGBITAcW7XD3gpliH2Xn7h78XnI369fv69fvyLfKodXr1716tWLz/qpetV8Zy6Kz8xBolZCxJzO6tDHU57VtqiqqoaFhRUUFCBRAQAAzgUAAABQMt++fWMvxqmmrjEuZBl0V3liUWySYc3ajIKtW7fu48ePkXXiJikpiT3UgujnboN8dl98gOSs5Fi5/7StgxPbRXJ2dn7y5AnSFQAA4FwAAAAAwnjx4kWjRo0YcsKqXqMNRy9DbpU/9l561LZ7X0bxGhgYpKamIvfExK9fv8aPH88WyTYNHLG+rAQj6ebbiQtW6egz7SRdXd24uDjkLQAAwLkAAAAA+HPnzh0TE+aKDF0HjjiYgYH0FRnjQpYpKav8sXqIikpiYiIysMLJzs52cnLiu1ZLYtZrpKLEY0fqv6069WD7SgEBAYWFhUhgAACAcwEAAAD8QXp6uoGBwR+rSKqoTF68HuJKHLFi34nqRjUZm0Ru374deViBpKam1qhRgyGJbR2cMICIaxG0fIuWjh6jptzc3N6/f480BgAAOBcAAADA/7h06ZKOzh97FurqV1+68xg0lfgi9vRNS/uGDLW2efNmZGOFsHv3bmVl5T9WtZCX7zcqIOH6S+QeB2PrqRv1mrRgXA6WlpYPHz5EMgMAAJwLAAAA4D9ZWVmM0RbGpubRKRlQU+KO/deeO7XpwBh5sXPnTuRkOVmxYgVzAxFd/dDN+5FyXI7ErNcDR09mVJyhoeG1a9eQ0gAAAOcCAABAlebRo0dEG9Clgpm13fZzd6CjKifiM3NcuvRmmBdHjhxBZpaZoKAghvqtY1sPTpy0xMxVsWoamvTq09LSOnXqFBIbAADgXAAAAKiifPz40dbWlmFb7El7CPlUyY+aGRuOaGpqZmRkID8rxLZwbt99/7XnSDMpirWJqQbGfywVrK6uDvMCAADgXAAAAKiKFBQUuLq6MmyLHan/QjhJxLxgjLyoWbNmTk4OsrRUhISEMHfGGeCNPUSkdNkL0hwxzIuLFy8iyQEAAM4FAACAqsW0adPowsDA2GTbmVuQTBKcNtK4ZTt6jbRu3bqgoACJKiKbNm1i2BZ9R05EXklv7L30yKaB4x9tlIHBvXv3kOoAAADnAgAAQFUhMTGRLgk0tLTXJJyHWJK4VGM8Z546dSpyVRSOHDmioKBAL7phgcHIKNkzL+rUqfP69WskPAAAwLkAAAAg+7x69ap69er03SJD1u+GTOJCRB/P0NbVp0u106dPI2OFc+/ePW1tbXqhDRwzBbkkM+aFlb0DvXLbtm2LsUgAAADnAgAAgOzTq1cvyDzOxryNcfLy8lTtmJubf/nyBUkriNzcXHt7e3o+d+jjmXTzLRJJZmJH6r/Gpub0Kp48eTIyHwAA4FwAAACQZfbt20fXAA2atsIShlyLfr6B9DoaP3488lYQ3t7e9LJq3LId8ln2YlPyVS0dPXpFY+dgAACAcwEAAEBm+f79e+3atX8v16+ptTklHbqIg6t11rGtR1WToqLijRs3kL1skpKS6Gq2hslfu/65j/yRyZi/KU6etpSJsbHx+/fvcQkAAACcCwAAADJIcHAwXemNDYmAIuJmrDxwRkFBkaopV1dXZC+Djx8/1qhRgyoiZRWVVQfPInNkOLwmzKQ3X56enrgKAAAAzgUAAABZ4927d5qamlS/38reISnrDeQQZ8PdaxRdpyUnJyOH6YwfP55ePj7TQpEzsh2JWa/tGjejV/rZs2dxIQAAAJwLAAAAMkVQUBC9079s99/c0STKKqq8gDyj76qgrVeNqq/mzZsjhymysrIUFX+PSanv1LKq2XBV85LZ9Pc1NXWN38v0NGiAfUYAAADOBQAAANnh8+fP9AEXzd26QoZxP3ymzscTZr707NmTtg6I0vrDF6tablTZS2ZY4B9T3mJiYnA5AAAAnAsAAAAyQmRkJL27v3L/acgw7seB9Gx9AyOq1jw8PJDJhIyMDHoy9/H2r4K5wfeSqQrXUXxmTi0zC6r2LS0tMewCAADgXAAAAJAFiouLraysqL6+Y6t2eIAsNasSjp9B32QkOzsb+ezh4UGViYaWzp60h3AuqtR1FLRiK9262r17Ny4KAACAcwEAAEDqSUtLo3f0Q9bvgXMhLbHj/F0lZRWq7pYuXSrVqfjhw4dv376V5ww5OTn0FS4Gj5tWNRODg87FiKnzeSHuD0rKemNqYUPlQOvWrdHIAwAAnAsAAABSz8SJE6levoGxCQfXMoRzISRcuvT+PV7G0VGqU/HMmTO1atXavn17cXFx2c4wd+5cqjRUVNV2X3wA54KKsC3xvJD5q3jy4vV0N/b27dto5wEAAM4FAAAA6aZ27docXxQAzoWQCF6zgy7Snjx5ItXOBbVVyqVLl8pwBguL32scuPUaVGWzgoOXTGV+pYMZOfSdd4KCgtDOAwAAnAsAAABSzO3bt+m6d8W+E5Bh0hVEpKlralE1uGnTJhlwLngMHTr0xYsXor/9xo0b9Lcv3XUMzkWV/Uq9ho2hMsHGxgZNPQAAwLkAAAAgxaxatYrq3+voV+PgVBE4FyVGs3ZdqErs16+fzDgXBE1NzbCwsJ8/f4ry9vnzf28TW92oZtLNt3AuquxXWrrrGD2R7t69i9YeAADgXAAAAJBWBg0a9Hspu869pFGGjZg6v4lLB30DI94x5N/kld0X+e8oEbn/VLdBPnUdmvIOrl3Hum33vhNCV5btMI7E6FnhVCWamJjIknPBw9zcPC4ursS3t2vXjnoLqb7KKXySFSQ3qFRhB7UmJZWf5N+bU9IH+E0ieUVe4S08QTKWnIp8bSqZyTnJmWdExgj5dN552Ila2hU6yaeT85CP5h1AvoCQhKf/EPJG8gOpEiD/JT+BfCv64hqCSkasLkZS1hv6nsHr1q1Daw8AAHAuAAAASCu2trZU535UUJh0OReR+0/xtB87iGhhSz66omMEfdlCEQ/jTqyIO0nX+W/fvpUx54JH27ZtMzMzBb23oKBAU1OTOnjmyhhxFztJPyGGhRDngiQYZbRRSUUOE3QGQS4M4zwlWgOCriMh5yE/kG0CUn8S9J3J2UjhSNa5INGm2+/9cb28vNDaAwAAnAsAAABSyffv3+Xl5anO/aLYJClyLjanpFNyi/xjgN8koqOo59hso4GuoHjjMnjH88QndaSIh3FtqQtFRSWqHo8fPy6TzgVBQUHBz8/vzZs37PdmZmbSj9x25pZYy5zoeSr9SIbwRhmQ/9LFPC8nqZyhcpWeYCR4Ip8cSVKXSrlug3zomcx3WBD1V3Ik77MY449EcS7oCc8zI3hjKIT4Jgz3gXwi79P5votXJvRiobZHFfcOqfSxSJaWlmjwAQAAzgUAAACp5M6dO3Sxt+vCPSlyLqiR7UQj0R8Lk3+TVyhFR71OySq2XiLiijqDiIdxLUzMrah63LBhg6w6F/9bkEVHZ/ny5Xl5efT3xsXF0Re5EHeBU1KcnSfUn4ie55vGdR2asgcE8U0tKht5UzPoQQ33YDsL5FSiOxeUP8IwRyL3n6IcEGoABeM85C2Mr02NVyLvlfjSG/SlLhQUFPLz89HmAwAAnAsAAADSR3JyMtWzV1VTl6LlBqkHznRvgq8eoyQiJcOEf5aIh3EtHFv9XuJh1qxZsu1cUBtGHDlyhHpvWFgY9ad6Ts7iLnDKOGA7DptT0vkmZxmkO31gBd/XBeW/iM4FuToEOSMkBvhN4uvOCP8hgv5a+c7FjtR/6Qlz//59tPkAAADnAgAAgPSxdevW3ys7mltJkXMhSFMJee4tonCS0n1MOvUdQlXliBEjqoJzwaNz58537twh7/X19aVedOs1SLKrxpZ2gczSfpCQER+l+gLUdcR3HVBqIgnD15AW54KEiqqaDMyiAgAAOBcAAACqNJGRkVS33sreQYqcC2qqCGMcO/uhNCW6qIfkwmfXi3gY16LLgOFyVRVFRcWJEyd6ePxejrHHED/Zdi6o/Be08IqIX4A6D303EPZbSjV4hFPORTUj49+z4XbtQpsPAABwLgAAAEgfCxcupLr19Z1aSpFzIcqcDsa76GsEdhvkI2izSREP41rUc3KWq9ooKytT/x44Zoq4C5yajsTW/BU4W0TQihUl5r+IzkWJX6kMFgynnAs1jd/bzdSqVSsrKwvNPgAAwLkAAADAaYqKil6+fHnp0qUDBw6sXLly6tSp9evXl1LnQhQVxDiGiEDGHpa8HUkYylPEw7gWNg0c5cD/Z/C4aeIucGoV2Lbd+wr6k6AVOoUvbMHbWIQaDVG24RuldS5KDGl1LtQ16ImhpqYWFRWFewEAAMC5AAAAIHlev3595cqV+Pj41atXT58+fdCgQa1btzY3N6c/lGZj6+Ak284Fz5WgJvbTjQnGrgoiHsapcOs5oCpbFfb29i4uLtT/9ho2RtwFTt+Ut4lLhxmRMWFb4sl/KceB/JXhdglPWnIw262Ac1HO0K1mwM6Wfv36ff78GXcKAACAcwEAAEDs5OXlpaenJyYmrl27NigoyNPTs02bNhYWFioqKmXTfmbWdjLvXFDGxITQlQyVyF4vQMTDOBLdBvlQVdmpU6cz0gl94RUR0dfXJ5dAQUHBiBEjqBe7DvCuhDKfERlDmRdsn4u9AouQpCXJRk0/ISk3Yup8kmm8M1SOc0E+UXhIqXOhravPN23Mzc3T0tJwHwEAADgXAAAAxAuRai1btqzAp9akiy+TzgXRkEJG5lMTQ9hj/kt7mGSjWbsuVFVOnjxZSrO6VHuLKCoqjh8//sOHD7z3zp49m/qTY2u3Sihzaj0Lkh6U70D+TXQ+e6tU4UlLra7SbZBPhSz2WVHrXFTU6qQScS7irjwVkj9KSkpLliwpLi7G3QQAAOBcAAAAECPPnj3T19cvj1vRpEkT+v8eSM+W4b1FhB8mxOAQ/TAJhqV9Q6oeV65cKfPORadOnW7dukV/L32L31pmFpVQ5rwpRYxlOMsm+ClrjL2cCt93UcdX1N4ipRpMJC3Oxer4c/ScWbVqlZqaGntX3Tdv3uBuAgAAcC4AAACIkYSEhPI4F9u3b6f/b2TcKWlxLqhFEAXtXUo9xGasklhaGSbZse4iRlLWG/oeCiQrZNi5sLKySkpKYr83NTWVOkZeQSHuytPK2V5EuDUmYgqV9k9tu/cVnv8iOhfUei6l2gNYWpyLyYvXUylhbGxMkuTmzZv29vaMjKpZs+bJkydxNwEAADgXAAAAxMiECRPKZlvUqVOnqKiI9NqpVyYuWCUtzsWMyBi+G0+yVw0QNCiDseuk8MEUIh4mqdhw9DK9Zh8+fCiTzoWOjs7SpUvz8vL4vjc3N1dBQYE6uBJWJBGypEWZnQv2NBO+76KMOUEjPkR0LkgpUb+C7wwXqXYuug78vfRJt27deHny/fv3kSNHMlJLXl5+9uzZBQUFuKEAAACcCwAAAGLh169fjRs3LoNzwZtTQDr0lbyuYYU4F9QTb97SAHTRRf5NjcigPw+fERkjZG9Lan0BEQ/jVExZsoEu76V36r4g54IIy1GjRr1+/Vr42+kXwuBx08Vd7EK2AtE3MGrbvS9jMxpRZoswxj5QlhnjXfTX2TlJPlf01TGojyb/4GvBkLOJ/kNEcS4qbYNhM2s7Kh8WLlxIT5U9e/aQK4WRZq1atXr+/DnuKQAAAOcCAACAWLh//76Wllbp1uPU1v769St577x58yp5dYCKci6ox8W8J89EvxHVN8BvErXdA2NbSkpP8vZKIEdSmo0+NEPEwzgVHfp4UpXYoUMH6c1kvs6Fi4tLenq6KG+njz+ysGsg7mInyUDZZ4KC7p2JskInz4ng5R75B33vEiFvIV+DJCovXRlfqcTriPwK+qeQbKdORb48708VsrcINcOFfEPqB276+5qYaoecmZ5FZ8+eZWTLw4cPnZyc2FvVSO9kKwAAgHMBAACA6+zcubNUzkVgYCDvjefPn6e/vuVEprQ4F7ynwYK2pSTqiOEyCJGX9EfKIh7GqTAwNhH0bFmqnQszM7O9e/eK/vYTJ07Q3x59PEOsxR62JZ43GIcofEbQ04aS/cIFP90go/sI1OtChgKx7RK+7xL0BYRbMOQSY0y9KZtzQbcaqVgdf05MtTNi6m9Ptlq1aoWFheyEycvLmzx5Mrt5HD9+/K9fv3BbAQAAOBcAAAAqHh8fHxFtC3l5+cePH/PeVVBQQB+v4VOahfok7lzwhs0TZUhpRaKyyL/5Lje4OSWd/hiZJwuJ9mOMXRfxMO7Esj0p9Mq9evWqDDgXGhoaoaGhP378KNXb8/Pz9fT0qKIYNHaq+Iqd5xoIWuSCPmWJ5I+ICz2QvKUcB97ABF56C3lX2Jb4tt378nKVPkWF+nTRHQfyRvIu6lIi34R3NhGX3hDlr7xvSx8nJb6FVE0tbKhMGD58uJC0OXr0aPXq1RmNZKNGje7du4fbCgAAwLkAAABQkRQXFy9dulReXl4U56J379709w4YMOD3xg31GnFTnyMERe/hY+m7JBQVFUm7c+Hp6fnixYvy+3f6hjUSbrwSz/P8/7kJfFdFEb5EBaISInzbYXqLl5KSIjxtcnJy2rZty2gnNTU1t2/fjpsLAADAuQAAAFAxfPjwoUePHqJPFWFM+T548CD9r2sSzkP5SEvEZ+boVjOg6m7y5MlSncn3799PS0srzxmuXr1KT+aAsDXi2w9VqnfSle1o7taVsYlSiZlTWFg4b948+vY0PIYNG5abm4u7DAAAwLkAAABQLs6fP29iYiK6bdGoUSPGGX79+qWrq0sd0LnfUCgfaYlJ4etkZqpIReHo6EgVSO061klZb8Q3fUnIHCJqWQf6Ip2ISoiV+0/TL4pFixaJnjznzp1jN6e2traZmZm4sgAAAM4FAACAslBYWBgaGsp+SGhmZibEuYiNjWWfKjAwkDpAVU19Z+o96B/uR9LNtxZ161MV5+TkhIviP//d8JKe8BMXrK7wkqdWo2ji0oG9DARvzUvqGM4u7Cqr0cSlPVX7urq6nz59KlX+vHv3zt3dndFsqqqqrlmzBhcXAADAuQAAAFA6cnJy2rVrx56YvW3bts+fP1tYWPC1LYyMjPLy8thne/jwIX2NjD7e/tA/3I9Zq7aV6ElVQYqKiuzs7H5r12oGey89qtiSnxEZQ996g9pDl72NLvkTErUyY866XfSLYu7cuWVIoeLi4hUrVqioqLBXCPr48SMuMQAAgHMBAABAJI4dO2ZgYMDoVTs4OPz777+8A65evaqsrMx2LubNmyfonKRTTh2moqoae/omVBCnB1xkvaljW4+qMlNTU76eVNXkwIED9LTv7jmqwstfyI68VAzwm8R3RAZCTLH/2nPj2r9HnOnr65d2wAWda9euWVpaMppQcqFduHABlxgAAMC5AAAAIIz8/PwpU6awLQl/f/+fP3/Sj1y+fDnjGBUVlTdv3gg6c0ZGBv1gV/f+EEJcjnEhy+j1FRUVhauDjpubG718wrbEV3gV7L74cELoyrbd+9IHWdSuY83bl5ez2+jKcHQb9MfO0OvXry9nFn39+nXw4MGMhlRRUXHhwoVSvYkPAADAuQAAACBGHj161LRpU0Y3Wl9fPz4+nn1wcXExY7a2t7e38PPTt0clLN5+BFqIm7Hrwj1tvWr0lU0w4ILBzZs3lZSUqCIyMDbZffEBMkeGY96GfYyliAsLCyskl7Zs2aKhocFoeDt06PDq1StcaAAAAOcCAADAH+zdu1dHR4fRe27ZsuWzZ88EveXdu3f0dfKvX78u/CMeP36spqZGHW9ibrX/2nMoIg5G2+596WkQFxeHC4TN3Llz6aXk1KajOPYZQXAhoo9n0L08JSWlit0N5M6dO/Xr12cvG5SSkoILDQAA4FwAAAD4P378+OHr68voNMvLy8+cObOgoED4e8+fP8/bfMTV1VWUzwoJCaF/So8hfhBFXIugFVvpddSuXTtcI3whV0eTJk3oZTV43DTkj+zFgfRsS/uG9IpesGBBhafTz58/R48ezZ6pFxQUlJ+fj8sNAADgXAAAQJXm1q1b9erVY/SVa9SoceLECRHPQDrx5C2JiYki9s5tbW3pnzVn3S5IIw49W07J0NLRo2pHXV397t27uEwE8e+//2ppadHzOXDhGmSRLEVi1mvn9t3pVdymTZsSLd0ys3//fj09PUaD3KJFiydPnuByAwAAOBcAAFBF2bRpE336Bo+OHTsKWWiTTWFhoa+vr+jryaWlpfGGafxvp1VtXaw1yJE4mJFjVa8RPRkiIyNxmQjn4MGDfyyvqKQ8b2MccklmouvAEfT6rVWrlriXn3j8+HGLFi0YzbKent7+/ftxuQEAAJwLAACoWnz+/HngwIGMzrGSktLixYuLi4vF/enBwcH0zzWzttt76TE0koS3Qb35tl2PAYx5ItjgQBRmzpz5xyY7qmri2GoEUfnRd+REes2qqqpevHixEjIqPz9/+vTp7JkjY8aMYezxBAAAAM4FAADILJcvX7awsGD0ic3NzSunU/6f/w7TIKqY/umNW7ZLuPEKSkmCMWjsVHqNGBsbY2sDESkuLmbsbQnzQvZsCwUFhUoe9ZCSkmJoaMhoqBs0aHDnzh1cdAAAAOcCAABkXGJFREQoKyszesN9+/b9+PFjZX4Toopr1apF/w5tu/fF1gySirFzljJG35w7dw7Xi+jk5eW1b9+eYV7MXBmD1JLStS069xvKaCRXrlxZ+XlF2klGXhE0NDS2bNmCiw4AAOBcAACAbPL27duuXbsyOsGqqqpRUVES+T7p6emkC07/Ml0HeCfdfAvhVMkRuGgtIys2b96M66W0fP/+nTGSSF5BYfTsxUgw6Yr91543c+3MuCLCw8MllVdFRUVhYWGKioqMr+Tp6fn161dcdwAAAOcCAABkitOnT9esWZPR961bt25WVpYEv1VSUhJ9tU5C535DE7NeQz5VWkwIXSn/ZxXMmDED10tFmReE7p6jMBNKavbWOZ7B2ABVsrYFxYULF0xNTRlfzMrK6tq1a7juAAAAzgUAAMgChYWFc+bMYRgEhBEjRnz79k3iX2/r1q2ML9a6c6/4zByIqEoIn6nzGYXv6+tbCUu0yrZ5wR7Z1KBpqx2p/yLfOB6LYpN0qxn8MWpGXl4ik0T48uHDh969ezNSS0VFJTIyEtcsAADAuQAAAOkmOzvbxcWF0dnV0tLatWsXd77k+vXrGd+wYXOX3RcfQEqJdSZ/z6Gj2ePPCwsLcdWUk4KCAm9vb0bZVjMyXrg1AYnH2cvBa8JMBYU/ZmQoKyvv27ePU6lVXFy8Zs0aVVVVRna5u7u/f/8elx4AAMC5AAAAqeTQoUPVqlVj9HEdHR0fPHjAta+6bt06xvc0MbfacPQyNJU4Yt/lJ05tOjIKfMiQIbAtKlBhhoaGMkpYXkGhv29gwvWXyEBORczprAZNWzEqy9DQ8Pz589zMrszMTBsbG2aDaWKCVXUBAADOBQAASBm/fv0KCAiQYxEYGEj+xM3vvGPHDsaUFk1t3dmrt0NZVWysTUytXceakRj+/v4YcF7hJCUlaWtrM4q6jm29lQfOIA+5EEk3304IXamhpcO2d58+fcrl1MrNzR06lLn7CWk/58+fD/8RAADgXAAAgHRw//590vNmdGqrV69+6NAhjn/zI0eOaGlpMb65h88EPKauqJgUvk5NXYNRwmFhYbhqxMTdu3cbNGjAKHBFRaWBoycfSM9GQkowNqekN3J2Zdu7Pj4+379/l4rs2r59u6amJuP7u7q65uTk4NIDAAA4FwAAwGl27tzJFv8uLi7Z2dlS8f2vX7/OXkLf0r7h+sMXobXKE7svPnDpwlzeT01Nbe/evbhqxMrPnz/Hjh3LVshGJqYh63cjMys/DqS/8PQPUmGtFqGjoyN1l8O9e/ccHBwYP8TAwODo0aO49AAAAM4FAABwkW/fvo0YMYI9fjgkJES6xg+/evWqTZs2zCX0VdVGTl+ADVPLFkQhVzdi7olrZmZ25coVXDiVQ1JSUo0aNdj+hVObjmsTU5GilTY9JGj5lhomf7ErwtXV9fHjx9KYWr9+/fL392f/oilTpuTl5eHSAwAAOBcAAMAhbty4YWtry+i51qxZ88yZM9L4cwoKCqZNm8bui1vVa7Ry/2kIMNFj+7k77KEWhK5du3748AEXTmXy8ePH4cOHs+tCQUGxo4dX7OmbSFexRnjsIev6jdnlr6mpuXbtWmlf5yUhIUFfX5/x05o2bfrw4UNcegAAAOcCAAA4wfr169n75HXr1u3du3dS/buOHTtmbGzMlnndBvns+uc+lJjwSLj+cuT0BezVB1VUVJYtW4b1OCXF33//bWVlxdbPKqqqPYb4bTtzC6lb4bF01zHHVu3k+NGnTx+OL8YpOs+ePWvVqhV7CsyePXtw3QEAAJwLAACQJB8/fuzbty+jq6qsrCwz0vTdu3dEWrD1hpaOnu+MhfGZOVBlfCN4zQ4Tc0t2uTVs2DArKwsXjmT59etXWFiYuro6X//C3WvU5pR05HCFxILNB+o7teTrWVhZWSUnJ8tYahUUFMyaNUteXp7xY0eNGvXjxw9cegAAAOcCAAAkwMWLF83MzBg9VAsLC9lbvGDfvn181wgwMDYJCFuTcOMVFBoVC7cm2DRswi4rVVXV0NDQ/Px8XDgcITs7e8SIEWyRyRtY1KpTj4hdycjnskV8Zs6k8HXmNvZ8PYvq1atHRkbK8BoQJ0+eZI9Ws7e3v3nzJq47AACAcwEAAJVHcXFxeHi4kpISo286cODAz58/y+RP/vTpk5+fH1+ZZ2xq7j93eRUff5F08+28DfvqNWnBV6q5ubndu3cPFw4HycrK6tatm5wArOs3nhC6cv+15zAjRIzo4xn9fQP1qhvyLU9NTc2ZM2eSxkTm8+rNmzedOnVi7yW0ceNGXHQAAADnAgAAKoPXr1937NiR0SVVV1ffvHmzzP/2jIwMFxcXvppE37CG9+SQKrj+Be/xskXd+nyLpU6dOvHx8bhqOM6VK1d69eolyL/Q0NLpPnjksj0pMCYExcGMnKDlW5zadORrbvI8i6CgIGlf+qdUFBcXL1myhG1wDxgwQFYNbgAAgHMBAABc4fjx4+x5E/Xq1bt161bVKYT9+/fb2dnx1Scqqmod+nhGxp2qCmpt68nrg8ZO1a1mIGhI/LJly379+oWrRoqMuYEDByoqKgqyMEzMrYYGzN6UfBVWxf+GGmW9Cd92uHP/YZrauoIKjVwIc+bMqVKeBZ20tDRzc3P2pMLLly/jigMAADgXAABQ8RQUFMycOZP9RNHPz68KLr1WWFgYExNTp04dQXLFom5935mLdl24J5OPl6ct2+zYqp2gx8u6urpz5879+vUrrhpp5OnTp5MnT9bW1pYTjKV9w2GBwRuOXq6ahkVi1usF0Qe7Dx6pb1hDSCnZ2Nhs2LABK1N++vSJvZCzkpJSREQE9hgCAAA4FwAAUJE8e/bM2dmZvd3dvn37qribs2PHDnt7e0HSRVFRybG126TwdXsvPZKBXU7nbdjn6t5fQ0ugpjUyMgoPD68K0/hlnm/fvm3cuNHR0VFOKCbmlj2HjiYyviqs87Iz9d7kxetduvYRMsKCp8n79et38uRJyHI6UVFRampqjLLq0qXL27dvUTgAADgXAAAAKoD4+Hg9PT1Gj7NZs2aPHj1C4fznv9O5Dx06xF774w8xo6zSyNl19Kzw6OMZ0qXWdl98MGXJhjbdPISrtXr16hFlgsfLsseVK1fGjh1brVo14RaGmrqGY6t2I6bOW7HvRFLWG5lxK+KuPJ23YV9v73GW9g0FDTKib5+xePHiV69eIW34kpWVxZ5nV7NmzVOnTqFwAABwLgAAAJSdnz9/jhs3jt1Bnzp1Kra3ZHPnzh1/f39dXd2SHlNbdR88cuaqWM4u53kg/cXCrQkD/CbZNGwir6Ag5LcoKyt7eHicPn0atS/b5OXlJSQk9O3bl/3YnN+KntqNW7YbPG7a/E1x0jjaKDolY+rSje5eo6zsHRQUFEv8vUR7BwYGZmRkIE9K5Nu3bz4+PqxdeBWCg4MLCwtRPgAAOBcAAABKzd27dx0cHBhdTENDw2PHjqFwhNs9u3btat++fYlPaAmmFjYdPbzGz49cdfBswvWXEtzTdOOxK9OXR/caNsamgaOiknKJ37xhw4YrVqzASO+qRm5u7r59+wYOHKipqSknGsa1zVp16jE0YHbI+t3RKRkk2bi2bsvq+HNTl270GDHewbmttq6+iL/rr7/+mjx5clpaWlFRERKjVOzevVtLS4tRnq1bt87OzkbhAADgXAAAACgFsbGxbGXSrl27nJwcFI6IkLJavXp1q1atRBRCikrKFnYN3HoNGj5pzsxVseuSLhBNJab1BYmAnLcxznfGwq4DR9g7NlfTEFWF2traBgcH37x5E/Vbxfn161dKSkpAQIClpaVcaVBVUyd57ureb+CYKQFha8JjD209eT3hxqtKGUyUHXUkLWT9ntGzwnsPH9vcrWvNv+oIH1XEHh3g4uISHh5+48YN5EB5ePjwIXsVFX19/aSkJBQOAADOBQAAgJLJzc0dMmQIu7++YMECjOYtGy9evNi4caO7u7soI+0Z6FU3tGng2KpTj26DfLzGzxgbEhG0Ymvo5v1Ldx1bk3A+OiWDROzpm3vSHpLYcf4u75V1h/5Zvvd42Jb4Wau2jZ8fOSxgdq9hY9p086jXpIVhzdqiDIBn1H7Lli2JWqtSe9+CUqnQzZs3Dxo0iL1lsojIKyjoGxhZ2Ts0bdupU98hHj4Thk+a4z9vxcyVMfM2xoXHHlp54MyGo5d56b3tzC1ewpOIPp7xv5xPurAi7uTCmMQ563ZNi9g0JniJ14SZPYb4ubr3a+Tsampho6GlI1dW6tWrFxAQkJCQgNVnK5C8vLzAwEB2aU+cOBG7KQMA4FwAAAAQRkZGhpWVFXNdBhOT1NRUFE75+fHjx/Hjx4OCgpo0aaJQmie9EsHS0nL06NFxcXHv3r1D3QERuXv37pYtW3x9fe3t7UWZMMVN1NXVXVxcyKWalJSEKVFi5fDhw9WrV2eUv6Oj4/3791E4AAA4FwAAAJgUFxevXr1aRUWF0YPs2bPnhw8fUD4VzpcvX1JSUubOndupU6cSN26oHDQ0NFq0aDFlypT9+/djWhAoP1+/fj137tyqVauGDx/esGFDVVVVzloV+vr6bdq0CQgI2LZt240bNwoKClB9lUZ2djYpfEaNaGlp7dixA4UDAIBzAQAA4DcfPnzo2bMno+OooqJCJEdxcTHKpxJ49uxZUlJSaGjo4MGDGzduLPryh2VGSUmpbt26vXr1CgoK2r179507dzAbCIgVkmAPHjwgeb548eKRI0e6ubmZm5srKipWvkNXr169Hj16BAQErFu37syZM69fv0btSDw3QkJC2CPRvL29v337hvIBAMC5AAAA8J/U1NTatWsz+otWVlbp6ekoHAny4sWLf/75Z8+ePUTmjR8/fuDAge3atbO3t69Zs6a2traII94NDQ1tbGxatWrVt2/f0aNHz58/PzY29vTp048ePcJTZcAFSB4+efLk4sWLcXFxq1atCgoKGjVqVJ8+fVq3bk2ynTRNurq6orsbampq+vr6ZmZmjo6OHTp0GDBgwNixY+fOnbthw4ajR4+SNu3Nmzcoc85y9uzZWrVqsVcFvn79OgoHAADnAgAAqi6FhYULFixgqwIvL6/c3FyUD8f5/Pnz27dvn7B49erVp0+fMIACyBJ5eXkkq9+8efOEH5/+CwaIyQDv3r3r1q0bcz8aVdV169ahcAAAsgqcCwAAEEZOTo6bmxujg6ipqRkTE4PCAQAAIBGKi4uXL1+urKzMuD15eHh8/PgR5QMAkD3gXAAAgECSk5MNDQ0Z/UIHB4e7d++icAAAAEiWq1evWlhYMG5SZmZmFy9eROEAAGQMOBcAAMCH/Pz8adOmseeHjxs37ufPnygfAAAAXODLly8DBw5k3KoUFRXDw8OLiopQPgAAmQHOBQAAMHn8+HGzZs0YHUE9Pb2DBw+icAAAAHCNzZs3a2hoMG5bHTt2xI4wAACZAc4FAAD8QVxcnI6ODqP/5+zs/PTpUxQOAAAAbnLr1q369eszbl41atRISUlB4QAAZAA4FwAA8D9+/Pjh5+fH6PbJy8vPmDEDW2MCAADAXQwAACQFnAsAAPg/8LQKAACADICRgwAAmQTOBQAAYIYwAAAA2QGrNQEAZA84FwCAKg1WZQcAACB75OfnT506FTtkAQBkBjgXAICqy9WrVy0sLBi9OjMzs4sXL6JwAAAASDvJycmGhoaM25yDg8Pdu3dROAAA6QLOBQCgKlJcXLxs2TJlZWVGf87Dw+Pjx48oHwAAALJBTk6Om5sb42anqakZExODwgEASBFwLgAAVY53795169aN0Y1TVVVdt24dCgcAAICMUVhYuGDBAkVFRcaNz8vLKzc3F+UDAJAK4FwAAKoWZ8+erVWrFqP3Zmtre/36dRQOAAAAWSU1NbV27dqM25+VlVV6ejoKBwDAfeBcAACqCoWFhSEhIQoKCox+m7e397dv31A+AAAAZJsPHz707NmTcRNUUVFZtWpVcXExygcAwGXgXAAAqgTZ2dlt2rRhdNe0tLR27NiBwgEAAFBFKC4uXr16tYqKCuOG2LNnzw8fPqB8AACcBc4FAED2OXz4cPXq1Rm9NEdHx/v376NwAAAAVDUyMjKsrKwYt8XatWunpqaW9lSFhYX5+fkoUgCAuIFzAQCQZfLy8gIDA9kb2k+cOPHXr18oHwAAAFWT3NxcLy8vxs1RQUFhwYIFhYWFop9n/vz5GL0IAKgE4FwAAGSWhw8fOjo6Mrpl1apVS0pKQuEAAAAAsbGxmpqajBulm5tbTk6OKG8/e/asgoJCkyZNUJIAAHED5wIAIJvs2rVLS0uL0Rtr3bp1dnY2CgcAAADgcffuXQcHB8bt0tDQ8NixY8Lf+O7dOxMTE97xZZhmAgAApQLOBQBA1vj27ZuPjw97BGxwcHCpRsACAAAAVYGfP3+OGzeOPbNy6tSpgtawKC4u7tatG3Vk3759UYwAALEC5wIAIFNkZWXZ2dkx+l41a9Y8ffo0CgcAAAAQRHx8vJ6eHuMG2qxZs0ePHrEPjoiIoB+mqKj45MkTlCEAQHzAuQAAyA5RUVFqamqMXleXLl3evn2LwgEAAACE8+zZM2dnZ8ZtVEdHZ9++ffTDLl++rKyszDhsypQpKEAAgPiAcwEAkAU+ffrUt29fRi9KSUkpIiKiuLgY5QMAAACIQkFBwcyZM+Xl5Rm3VD8/vx8/fpADPn/+XKdOHfbUEl1d3dzcXBQgAEBMwLkAAEg9aWlp5ubmjC6UhYXF5cuXUTgAAABAaTl+/HiNGjUYN9b69evfunWrX79+cgJYs2YNig4AICaqinORn5//6dOnnJycJyzev3//9etXpAKQvYR/+/btE358+PCB/LWoqEgGfmlxcfHixYuVlJQYnacBAwZ8/vwZmQAAAACUjdevX3fs2JFxe2VPEqFjbW0t8d4F6RiQTg758uz+z5s3b8ifULNA6iBalShWdkoTbUtSWtAyunAuOEpeXt69e/eOHz8eHR09Z84cX1/fXr16OTs7W1lZVa9eXVVVVU4EdHV1TUxMGjRo0KFDh8GDBwcGBi5btiwuLu7y5cukpcM1A7hAYWHhs2fP0tLSDhw4sGbNmhkzZpBs9/DwaNu2bb169UxNTUkas2W8IMiloaenZ2Zm1qhRo/bt2/fv33/MmDHkCoqKijp8+PDVq1dfvnzJ5dIgF2anTp0YP0pNTW3jxo1IFQAAAKCcFBUVhYeHi96vIJD+g7g7QkSwnTt3bseOHWFhYaTf0q9fPxcXl7p169aoUUNDQ0OUL6mpqWlsbGxnZ0e6T6TzM3bs2EWLFu3atSs1NZX0smTj0Q6QIkiHluhNojqJ9iQKlOhQokaJJiXKlHTsRezSE81LlC/Rv0QFE3VA+vNEFxN1TDQyUcpwLiRGfn7+9evXY2NjJ02a1L17dwsLC0VFRTkxQ/KmWbNmw4YNW7x4cXJy8qtXr3CZAXF3Fx49enTkyJGIiAg/Pz/ShJFUL1XvoUJQU1Mjt3ZyoU2YMGHVqlWnTp3KycnhQvmcOHGCdDsY39be3v7WrVtIHgAAAKCiuHjxopmZmYjdhvbt21dsX+j+/ftE0QUHB3t4eNSvX19FRaUSej4NGzbs379/SEjIwYMH+W6tAkCZISqSaEmiKImuJOpSRG+iPBClTEQE6cwT7UwUNNHRUjpMQ2qcC9Jq7Nq1y9/f39HRsRLaLFEgqqlHjx6LFi06d+7c9+/fcR2CcvLt27d//vln7dq1Pj4+JM/V1dXluAppZFu1akWuxy1btmRkZFRy81dQUDBr1iz24mGjRo3iLR4GAAAAgArk48ePopsXWVlZ5fmsN2/eJCUlBQUFtWnTRktLiwvdHh0dHTc3N9L3OHr06Pv375EPoFQQnUjUItGMRDmyn7pJBKKmidYgPXmir6XIm+O0c/HixYvt27cPHz7cxMREjtsoKyu3bt167ty558+frzpzjUD5efjw4bZt28aMGePg4KCgoCAnnaiqqjo7O0+ZMuXgwYPiHo707NmzVq1asbsUe/fuRToBAAAA4mDHjh2i9wpGjhxZ2vN//vw5ISFhwoQJ9vb23O/2NGzYcNKkSYcPH8ZeKkAQRA8SVUi0IVGIwleH4QJEaxPFTSQJUd9wLkpBcXHxlStXQkJCGjVqVOqRMErKxrXNGjRr7erev4+3//BJcwLC1sxatW1hTOKKfSeijqRFp2SQ2Jl6b0/aQxJbT93gvbLq4NklO47O2xg3fXn0mOAlg8ZO7TrAu0X7bpb2DbX1qpXBl+3fv//27dthygK+PH36NCYmZujQoeWx5PSqG1rYNWji0r5DH0+PEeOHBQb7z10etGLrvA37FsUmrTxwJurIJV56x56+yUt4EltOZPJeXHfon8i4U+TSCFm/e9qyzWPnLB0ycVbv4WPJtdO4Zbu/rOpq6+qX+bvZ2tqOGzdu//797969q9iii4+P19dnfrGmTZs+fPgQeQUAAACIg/v372tqapZqtsXbt29FPPOKFStcXV1LOxlWXkGhulHNuo2aunTt02OI39CA2aQXNHNlzILog8t2/702MZXX29l+7g6v/7PtzC3eK2sSzkfsSl6w+cCMyJhxIctI58fda5RLl962Dk76hjXYwzlLfHDdsWPH1atXP3nyBHkCCET9EQ1IlCDRg6XtPxPVSbQnUaBEhxI1SjQpUaZEnxKVSrQqL4GJeuWlNNGzvFeIwiU6l3TpieYlypfoX6KCSX+eKGKii4k6Lu3XIBqcKHGix4kqh3MhkLS0tMmTJ5uamopYrFo6eg2bu/Tw8iX1GrYlnlRk0s23h269q/DYf+05SZeg5Vu8xs9o272vqaWtgoJIy2ooKCh07tw5Ojr6w4cPuJKrOPn5+WfOnJkyZYqdnV3phvOoqNSxrUduzAP8Jk1csGrh1oTo4xkJ11+KI9UZcSD9xYajl0mLOXbOUtIIOrfvbmJuJWLy/69jIS/fvHnz+fPnp6enl7P5+/Xrl7+/P/sjSJHKzLJDAAAAANcg918HB4fSip8FCxYIOefDhw/DwsLq168v6tBONXWbhk069xvqMy10zrpdm5KviqkjFJ+ZE3XkUvCaHSOmzuvQx9OqXiMV0Zb5Jzg6Oi5duvTZs2fImSoI0XpE8RHdJ+IAatKdJoqS6EqiLonGJEqT6E1xpDRRx0QjE6VM9DJRzUQ7EwUtYkoTVU60OVHocC5+8/z589DQUEtLy5J9TVW1ek1a9B05cfbq7VtOZFaCchOs6LKX7z1OMsDVvZ9x7ZJn/SkpKfXu3TspKamgoADXdpXix48fiYmJQ4YMEd15NaxZ27l9d9KQkRvnpr+vJWW9kWCqs4P0FdYmpk5fHt1vVIBjq3a6+tVF/F01a9YcP3782bNnCwsLS1uM9+7dY3ebDAwMjh49ihwDgI2yiiojjGoYd+nSddBgz82bo1E+AADR4fvYQJSbPvu5wqdPn6Kiopo2bSqKrrOwa9B98MgpSzasP3wxMeu1xLo9N16Rbk/gwjVdB3ibWdvJi6BLW7VqtWXLFkwkqQoQZUf0HVF5ogwaIpqRKEeiH4mKJFpSgp15oqOJmiY9eaKsib4u8ZsTnU7UOhdcOYk5F0VFRUTRderUSfi4LCVllfpOLb0mzFy66xhpOzgl4ajYdvY2aVg79PE0qlXCgJEaNWrMmDEDdmxVaMiIqB40aJAooyvV1DUaNncZ4DcpZP2eXf/c52aSC4mY01nTl0f3GjbGpoGjKGPSDA0Nx44de/HiRRELc9u2bexidHV15cgWJwBIhXNBDxvbuunp6SglAECJxMfHl3nq6I4dO6jzpKWlDRkyRE1NTfg4TQu7Bn28/edtjIu7+oybfZ59l5/MWber59DRZtZ2JW686uPjk5GRgSySSYiaI5qOKDvhaUC0IVGIRCcStcjNlCb6mqhsorWJ4ia6W/gVSpQ70e8S3DZYAs7Fp0+fli5dam5uLmzngmoGpJpnrdrG2ZZLUKw/fNF7coi9Y3MhpqyioqKHh8e5c+dw2cseWVlZgYGBJTZkKqqqDi3aDA2YHbErmbOWXNmmVi3YfKCfb6BNwyYlPpewtrYODQ19/vy5oMLMzc0dOnQoexLW/PnzyzBwA4Aq6FwsjYjgxaxZs5u3cKYPwXj8+LGM/WrqxyIBAKgQnj59qqenV2bnokmTJnl5edu3bxc+yEJNXcO5ffeAsDU7Uv+Vrj7PtjO3/OetaNq2k/AZJa1bt963bx+GXcsMRMERHUfUnJBFWIgSJHqQqELpSmmiu4n6Jhpcr7qhkJQmKn7JkiVE0cu4c/Hq1augoCAhw+Z19at3GTA8PPYQ10bIlyF2nL87NiSiXpMWQgaVtGjR4tChQxxc/gSUlp8/f27bts3Z2bkE59XEtLvnqLlRew+kv5AZt0JQ7El7OG3Z5nY9BujoVxO+HEyPHj2OHj3KcHAzMzNtbGzYSx+fP38e+QaAiM4F4/WTp04Z1TDm/WnWrNlV5FcDAMpAfn4+6aaWc8MCIyMjIYaFS5feMyJjZKBHFHfl6bSITc4d3IVYGJaWlhs2bPj16xdSS0oheo2oNiEXBVF8RPcR9Uc0oLSnNFHi4dsOE1UuZFY4UfRE14t7S0HJOBdv374NCAgQNEhMUUmZXO0h63dLcBqbWMfSDw2YXfOvOkK2VkpISECLIKW8fPly1qxZ1aoJE+dm1nZe42esSTgv826FoOZv8fYjvYePNTA2Ee7gRkZG5ubmknvDmjVrVFSYI9bc3d2xXw8A5dTwSyMiqDkjcC4AAIKYN2+emPZfrOfkHLhwDVH7stfh2Xvpkf+8FbYOTgJXOjA2Xrt2LVYWlzqIUiN6TeCqLn/VIVqPKD7ZS2mizYlCb9nRXdB8cKLuicZ/8+aNjDgXX758mT17tqDZ/kYmpt5T5u5MvSf74u3m20WxSa069xS0NUPz5s1PnTqFpkGKuH379vDhw4Vs0VzD5K/B46ZJ3VAxsV4FEbuS3b1GCRmFoaOjY21tzd51bOXKlRidBED5NXx6ejr1VxmbMALnAoCK5dOnT1lZWceOHduwYUNwcLC3t3eHDh1sbW01NDTKYFho6ej1Hj5247ErVaHDsy7pQnfPUeqaWoIe1cTGxkpwsQAgOkSdEY0maB1ZouyIvhPT7pacCqLWiWYnyl3Qqi5E7xPVL8XOBbkgN2/eLGicWD0n59mrt8vArJAyDMEY4DdJU1uXb7H06tXr4cOHaCa471kMHDhQ0DwgNQ3NTn2HLN5+pCo0ZGXeoCR4zQ7nDu6i7LFqZWV17do1ZB0AFaXhqb+elC27HM4FAJXG+/fvr1+/fuTIkaioqFmzZg0bNqxRo0bswZL/m+lpbuU/d7mYNn3kcuy7/MRvZngNk78E7aKampqKXOIsRJERXcZfqGvrEjUnk4MsShxGTfQ7UfGCZocR7S9WS05czsWVK1caN27M91c1bdtp6a5jVVy5xV156j1lrr4BH1uHtPszZ878+fMnmgwOcv/+/X79+gnyLMys7cYEL9l76TG8CREj9vRNr/EzDGrUEmRb2NraPnnyBIkHQOU4Fx8/fpw1a3aXLl2phTwFbaTKO4Ac+Z//Lp8xdtw4G9u61ItC9l4V/SPIkeR1cmZyMG95juYtnMnBBw4coB9GPl3IRipIBgDEzbNnzwQJPNLRbeLSPvHG6yr9tObGqylLNgjai2Tw4MGvX79GFnEKosKIFuPrxJGUJgpOJuc6lSqIlieKnm9KN27c+MqVK1LjXOTm5gYEBCjw21bAsVW7lftPQ61RcSA9e+T0Bdp61fg+Z8bkEU7x5s0bf39/vts1y8vLO7XpuDAmESld5pt60PItNg0cBc0fCQsL+/HjB5IQALE6F5s3R1PrdzKieQvnjx8/sk/CsxJEfEtpP4JakoMdY8eNg3MBgMQpKipatWqVlhafORHmNvazV29HD4c+YXbass0m5lbsstLT04uOjsaUWI5A9BdRYexqInqNqDai3ZDMVBBdT9Q939X3J06cmJuby3Xn4ty5c2ZmZny2P6zfODz2ECpY0PiLQWOnqqjyWb509OjR3759QyMiWQoKCpYvX66trc13cdlOfYdgJYuKisXbj9g2bMLXv6hdu3ZcXByyEYByOhf0dS7or9P1f/MWzrztRemuBN0soH8Eb7FP8lfeW+h7rzLeUtqPIH8lZ+7SpSvvSPqwDhLUMI3Hjx/zDmDvBYsdUgEQHw8fPmzZsiX7fm1Ys/aUJRuq4HxwER/VTFywiu+Wk+3bt3/x4gXySoIQzUWUF5/h8KpqRKlhnIWgIBqfKH0+Q9HNzM6dO8dR5yIvL2/69OnsoRb6hjUCwtZgwn+JsfXkdZeuffiYPtbWly9fRmsiKcglV69ePb6eRZcBw7ecyETqisPBbe7Wla9/0aFDh3v37iEtASizc0Ep/OYtnOmvU6YAY+JGeno6NUqC/Jv9EeyJHuQVvouAlvYj2EM2CJTTwZuoIuKvBgBULNHR0ezV94nA8/QPwkNpUda/6DcqQElZhT34Ys+ePcguiUDUFnuFeAJRZ0SjIWlLHFIUuHANUf3sYenTp0+vwM10Ksa5ePbsWdOmTdnftbvnKMz5L1WEbYmvZWbBKEklJaXIyEi0KZVMbm7uuHHj+Orntt37bk5JR7qKNZbvPV7fic/DHFVV1aVLlxYWFiJFASitc0H3COj2wYEDBwTZAYRZs2ZTYxlEtAnGjhvHeEsZPoIvgsaMwLkAoNJ6R4MHD+YzJby1W/TxDPReRI+oI5f49nN8fX2x2l0lQ3QWez44UWRElyFRS7Mr8GOi/dmrATZt2vTZs2dccS6Sk5OrVWOu1GBqYYNlOMu6+MWLfr6B7D0X+vXr9/XrVzQulcPJkyfNzc3Zt5MGTVutiDuJLK20mLNuF2lM+O4ifPfuXSQqAMKdC/q8CWpRTLZ9QBkHjMUv/9ce/v9ZHvR3CbcJ2D5FGT6itL4MnAsAxA2589rb27Pn/09duhE9lrI9qZ4QulJDS5u97QiWJ68ciLYiCou93SnRYkSRIUXLtngnu+terVq15ORkyTsXkZGR7Bki7l6jUNnlr3VjU6ZybtCgwdOnT9HKiJX8/PygoCC2X1jNyHhaxCZkpkS2UPWeMldNgzkqVUNDY9OmTchYAIRoe74xa9ZsxkQMytSgT+5gn9DGtq6INgE5D+MtZfgIOBcAcIqUlBQdHR32UIttZ26hr1KeiD6ewd5m0sDAAHumihuiqoi2YpQ80V94+l7+x/DuXqPYy3aWfw5B2Z2LwsLCMWPGMHcB0K82b2McKqyiVu506zmQUcI1atS4evUq2hox8eTJk+bNmzPnPSko9Bjit+/yE+SkBCPmdBbfxS/69+//5csXpC4AIjoXQrY4FaL52QeU9i1l+Ai+fPz4Ec4FAJXP+vXrFRUVGQt++c0Mx0p2FTP4IuvN0IDZ8n8+DFZRUdm5cydyT0xcuXKFqCpGr5IoL6zEWVExb2Ocjj5zWsaYMWPKM+O7jM5FXl5e7969GV/F1sFp66kbqKeKDf+5y5X/3E9YXV395MmTaHEqnNOnT7PnPZmYW0XsSkYeciSmL49mN4K2trZYthMA4RqeWjWT73QM4WM0+G4yWmbnQvSP4JGens7bWIQ+2wXOBQCVybx585gjAoxNlu3+G92Sio2FWxPY245gqTtxQJQU0VP0ciZqi2guJGEFb0Bx6oatgxMjpXv37l3mNTvL4lx8//69ffv2jC/Rqe+Q+Mwc1JA4YtmeFH0Doz+uLmXlxMREtDsVyKpVqxgPEzDviZuxI/VfpzYdGTWlq6t77NgxpDEAQjQ8tbXHyVOnpMK5ePz4MdutgHMBQGVSXFwcGBjIuOfaOzbfmXoPHRIxjTC1sGPOX5g3bx5SsQIhGoooqT+2wjQwImoL6SeOiM/M6dR3CHsP4O/fv1eGc0E+pl27doyx9N5T5qJixBpbTmSa29gzzIukpCS0PhVyVw4ICGAvNzVn3S4kHmdXtBoVFMbYTkxBQSE6Ohr5DIAgDU/thzposKeg4+krevKN8jsXIn7Ex48fKaulS5eu5PWTp07x9kyFcwFApTFx4kRGB6ldjwF4VCnW2H/teYv23RjFPnfuXGRjhUDUE8O2IAqL6CwknljDe8pcxmSodu3alcG8KJ1zkZeX1717d8YkNyxbWFk7zTxibJ5ELryUlBS0QeWBpPSAAQMYtwereo2wdbNUbJtqUKMWnksAIKJz8fHjR2pLVMYymWXQ/CI6F+QTy/YRlM8ydtw4ET8azgUAFUtQUBDjJtt35EQsbFEJkZj1uusAb0bhh4eHIyfLCdFNDNuCaCuisJBylRDTIjYpKv1R+N27dy/ttJFSOBfFxcWMDZxVVNVC1u9GTVSmC9u0bSfGmhdYsLM8tkWPHj2Ya/P0GoQZItIS28/dqdekBaMGSU8LuQ3gXPDV8NTWpAw7gJqUwZ5IUjbngr3LaWk/onkLZ0F7kcC5AKASiIyMZNxeh0+ag45HZUbfkcwBLzExMcjMMkMUE2NtC6KqiLZCplVahKzfraKqRq+CwYMHFxcXi8W5CA4OZoy2WLD5AOqg8icLNXPtzNhtBFulVpRtMWTiLOSY1F0Rru79YF4AIIqGpzYrZTgClKNBnw9SHueCGjFBzly2jxByfjgXAIibxMREhT+Hdg8LDEaXQ+LmhbKy8unTp5GfZYBoJcZOIkRPYd5T5ceCzQcYIy+Cg4Mr3rnYvXs3w7YIXrMDpS+pkRcNmrWmV0eDBg2+ffuGVkl0CgsLPTw8/khpRaWAsDXILild9qKPtz9mhAIgioYfO24ce9gFNUTCqIbxx48fy+9cUEtUHDhwoGwfQZ2ffTCcCwDESlZWFuPRtNf4GehsSCp6DRtDrws9Pb2HDx8iS0sFUUlEK/0hnZq1xmgLSUXwmh0M82L37t0V6Vzcvn1bU1OT/gETF6xGuUsw9l1+Use23h9e+LBhaJhEZ/z48XDiZCyGBQYzzAss2AngXLD/lJ6eznfYBTU7g/yDtxAmg82bo0mwP4I9m4MyR2xs69JfL9VHUAczxmh8/PixROeC/ZUAACLy9etXa2tr+s206wBv9DEk+3imTbc/HrY1atTo58+fyFXRISqJXoBEQxElhdSSYExcsJpeI5qamrdv364Y5+L79+/29n/sajHAbxJKnAvbJlUzMqbXy5YtW9A2icKyZctgW1QF80JBQQFL2AI4F2yoJSfopkB6ejq1fifPXJg1azY5gPyXHM/7E9+9Rai9P3gHU6Mt2EtalOojqPkmvOEhvPOTf9DPwPhdgwZ7Uo4JdTxfiwQAIIj+/fvT76RNXNonZr1GB0OycTAjx96xOb1eRo8ejVwVEaKP6EVH1BPRUEgqiccAv0n0erGzsxNlq5GSnQvGhpHNXDtjVWGOxLI9KfTBNpqamnjQVCKnTp2iT92Ul5efvjwauSSr7aC+vv6TJ0+Q9gDOBR1BEzeIyKf7DowgB9OdCEGHUQfTB2iU7SOoYRf0IC9Srwv6XfQQfc1RAMDOnTvp99Caf9XBtgsciR3n71Y3qkmvnSNHjiBjS4QoI/q8AaKbiHpCOnFkMBFj6caAgIDyOhdnz54l0u73YpAmf+2++ABlzZ0YPXsxvcpdXV1LtUBrVSM7O9vAwIBeYr4zFiKLZKwdbN97EL2KGzdujEGVAM4FA8o+YK+XuXlz9Nhx46hxGc1bOA8a7EleZKw3QbcGyPHUCcnx5H+F2+gifsR//jvygvIpeCMpyDHUcAy+pgx95AX5FBGX7QAAvHr1qlq1arQNBFVXx59Dv4I7sXTnMUVFJaqCatWq9enTJ+StEIgmIsroj7EqsxcjkbgTuy8+qGHyF/1x8tmzZ8vuXOTn59va2v4+nYJCxK5klDLXorlbV/o1uXXrVjRVgtovNze3P7YR9hyF/JG9SLjxqkHTVvSKnjx5MvIfgEo2RwAA0sWgQYOg8TgeQybOotfRmDFjkLdCIJqIXlxEMSGFuBYRu5LlaWPhbW1t8/Pzy+hcLF26lF7f/X0DUb4cjO3n7ujo//bIjYyMPn/+jNaKzerVfywGY9e4WcL1l8gfWb0oDGrUopu4586dwyUAAJwLAABfzp49+8cakM6umBvOzWczNg2b0NfzyszMRPbyhaghoomosiJaiXQOkUIcjP6+gfTGZ+nSpWVxLt69e6etrU2dxcTc6mAG9rzlaExeHEWv8qCgIDRYDJ4+fUrf4ou0X9vO3ELmyPKgyl3HFBQUqRq3sLDAnBEA4FwAANgUFxc3btyYNk9ELfp4BjoS3Ix1SRfo3RtXV1ckMF+IGvpj+O3iKCQPZxegNTG3ompKW1v73bt3pXYuGPU9b8M+lCyX5/bT1xxWU1N7+fIl2iw6/fr1o+fzjMgYpA09KBEiSz9q4OjJ9EpfuHAhLgQA4FwAABgkJCTQb5ee/kHoF3E5eg0bQ6+vM2fOIIcZEB1E1BBVREQlYQwRl2Pehn0iPoPn71y8e/eOvhBrM9fOKFOOR2TcKXqVBwYGotmiOH36NL1w2nbvi4SpCs5FwvWXZtZ2VL1raGhkZ2fjcgAAzgUAgKK4uLhevXrUvdLA2ORA+gv0i7gcey891tb7PU/cxcUFacyA6CB6z5+oJKQNx4O+z4impqagYRf8nYt58+bR63vl/tMyL7dkQLm17OhOVZmWltaXL1/QcvFo3vz3gBR1TS3MExEx/2Xgoli8/Qi9KRs3bhwuBwDgXAAAKJKTk+k3yrEhEegUcT+GBQbTay0tLQ2ZTEEUENFBVOEQfYSE4X6s3P/HY+Z58+aJ6lzk5+fXqlVLKhZihXNBj7WJqX/4TStXovEinDlzhl4sI6bOQ+tQdZwLEm2798VEKgDgXAAA+NKtW7ffq7ybmMZnYlU7KYi4K0/pwy6GDBmCTKYgCoje8yf6CAkjddtl1qpVi+8mI3yci/3799PrO3zb4arsXIyYOp8XUlHljZx/71pct25dNF6EDh06UGWib2B0ID0bTUNlOhcSv4I2HrtCX8tq2rRpuCgAAACA//x3/XJ5eXnqFukjJd1dKe2li28xL2Vl5Q8fPiCfeRAFRN8lByktLRG+7TDdgti/f79IzoWHhwf1njq29bj8C8O2xPNCfKeSrsfOwWt30qs8PT1dqpue58+fnzp1qjxnePDgAb1ARgWFwaQQ3bmokOuLC1eQW6/fe9RXr179169fZc6o4uLibdu2oVsAAABABggPD6fuj6pq6rsvPsAqXdISW0/doD+Y2bBhg1Sn4sGDB79//17+8xDtQ+/5E2WElJaiqGP7e80dDw+Pkp2Lz58/q6qqUu/xnbkIik6KEigx67VedUOq+qZPny7VrVhmZib5FX369Hn06FHZzkBK4PcCjVo6cVefwaSo5DznwhW0JuE8/Ta2e/fusqVTWlpa06ZNyRnQ2QUAACADODg4SPX65VVc5jVxaS8z26O2bdvW1NSU9NCKi4vLcx56z59oIqKMkNJSFL4zF/32UlVVP3/+XIJzceDAAeoN8goKWMtQ6hKou+comZkwwnMu/m9rcRWVGTNmfP36tbRnII0gVRqkZOBQVE3nggR92+AePXqUNpFevHjh5eVFnQGdXQAAANLOs2fPpPrpNGTepPB1VPUpKCh8+vRJqp2L/y2o2bLl1atXy3we+lQRaez5V/GU3nbmlryCAlWDBw4cKMG58PX1pY6u16QFFJ3UJdCi2CT6fej58+cy4FzwMDY2jomJKSoqEvHtjAFj2BKpKjsXE0JX0tfp/Pbtm4hZ9OPHj9DQUA0NDXouob8LAABA2tmyZcvvO6O6RsL1l+i9SNv2qI/oE0YOHjwoA87F/z07l5cfMWLEq1evSnsSonrovTWiiZDSUhf1mrT4PfnD17cE58LKyoo62tM/SEprl/diE5cO5N+7Lz4cMXV+2+596zo0JS+S/3Yb5LM5JV34qcK2xFOvsIPLZRKfmUNuP1QlxsbGyoxzwcPJyemff/4R5e1z5879vVx2LVPJZikvG0lekfSrXceaepEo6hLfRdJ1gN8k3rsYq06Q9CZ/Iofxjtc3MCKpLuic1Kl41wIJck7e8WVYoZO8i7yXfCLvGN6VRX09rl1BO1Pv0U3cxMREUVJo3759ZmZm7CREfxcAAIC0M3jwYOq+1rRtJ071ZiP3nyKdCnZ3pQx9DNF7SmXrsEk27Bo3k42t3+nOBQ8tLa3FixeXam0yonroZhynNsqpwJTmLeRJcpLqhJN/k1dIqstAVnv6B1GVaGVlJcy5+PDhAz1jlu48JtXOBUkOUot8M4DUNEkgmXQuSDi2dpONVoyvc8GD3G6zs7OFv719+9/T/3p4+Uo2S0k2khaKbzqRP7HbGnqbQjVMDOeC8acSzynk+FI5F+TaoVo9QWfg4BVEN3GnTJkiPHkyMjJcXFwEpR/6uwAAAKQd+tPKkdMXcKcfS3+gwgheL0j0Pkapekpl67BJNgaNnUp/tidLzgUPCwuLhIQEEU9CVA/1RqKGZDKlhXTCSarPiIypEBkiwVi68xg9ARib5vzRBT916hRtupQi9/ePFO5cUEHk3wC/SbyRF9SL3Qb5CDnV5pR03p401OvULjXc36hm4JgpVD06OzvLpHNBUFdXnz9//o8fP/i+t7CwUFNTkzo4aMVWiWcpz2ElicfLIsp2ZWcj9S767ZakMQnKcaO3cTyTTniGkzfSvwbvimBYtqI4F+Q81PH081DjLzh7BZGvKsp18ebNm1GjRtF3iYNzAQAAQMb4+vUr/b62ePsR7uwbSO/58LoN1HBRnswTsY9R2p5S2Tps3NlVUE1NraCgQMacCx5ubm5ZWVklnoT07qi3EDUkeylNDqM64eQfvE44NS6b/YxTGrP6QHo2fQ4UY5fJP7rgkZGR1HGmlrbSOxeIen1C6EqGjUSZXqS+S3UqKZogNHNlDH2olaw6F/9LVFPTvXv3shcivn37Nv2w2NM3JZ6l7BFZdAuWMYOJfq9lG6gkqEaKcVq6s0AfWES1UOzmiVwjojsX9POwPVpBXi8XrqCQ9Xvo6xWzF0zJy8uLiIjQ0dEpMevQ5QUAACDVXLx4kb6swL7LTzjSiaWcBfZzDtJT4jtKQlAfo7Q9pbJ12CS+Nyq9f3L37l2ZdC4IioqKY8eOff/+vZCTENVDHU/UkOylNDXpidEJJ/8mr1D2RPlliGTD1NL29zKFkZECnYvAwMDfzyQ7uMuAcyH6u2TJuVh36B8hw2xkzLng0bp16/T0dPp7ExMTqb9q61Xj7Fo7VEPDaM6Ev2tGZAx93hp7cAHjnNSAC0ZzVtqLgvpcQefh8lJDjLv706dP6Qlz6NAha2trEfMNXV4AAABSzZ49v938akbG3OnEUp5COfsYpe0plbnDJvFQVVOnqjI5OVlWnYv/bXSqp7dy5Uq+Q0sYix4QNSRjKV1iZ56y6ujPEaUxq507uFP1GBgYKNC58PDw4MK6AHAuyhn7Lj+hX7oZGRky71zwnhj4+Pi8fv2a997ly5dTf7Ku35izzoWgO6vwd1F3XL7DMahhadQ5qeFnghomES+KMjRw3LmCkm6+VVJWobLi9OnTvFS5fft2p06d5EoDurwAAACkmsWLF1M3NVsHJyndW0HIwaXtKZXzoZEEw8T893olGzdulG3ngkfdunX//vtvxhmI3qEfw51hRBWe0oI64VRvnxwp1Vndw+v3VqceHh4CnYs2bdpQx3lPmQvnQno3p1HT+L3EQ0RExBnpZPPmzXKlRFtbe8mSJXl5eVOm/F7so3XnXpxtsDanpAsf3CV8tJigwV2Mc1LHMya/lfaioM7DWOBWWrZ3qvlXHSordu7c+eHDhwkTJigqKpY2zc4AAAAA0kz//v25Oc6ampQqyjMSIX2M0vaUytxhk3g0aNqKqsoRI0ZIaUI6ODiUtjPWvXv3e/fuUTI2JSXl95IfGpoynNKCOuHUoAzR/ThuZrX3lN+7Q7Zp00agc0FPGr+Z4XAupNe50DcwkqvCWFpa0p+iu/UaxGWrtQw7kpb2nCUOVBPxO5ThcuDUFVTHtt7vpZsGDqxWrZocAAAAULXhlHNBX6Sw2yAfviMmROljlKH3VbYOm+Sdi2atq2zqKisrT548+fPnz0TGJiQkUK8zVjOUjZQWZdaJbGS138xwqiodHBwEOhf0ad4BYWvgXEivc2FUszbuxL+nPg3xk1XnosSo2O8g7c5FPSdnXA4AAAAAHSt7B+70YHdffEjf9YDaQ4Hv0AlRnAsRe0rS61zU+suiiiewoaFh7H+hXjGqZSrDKS3zzkVA2BqqKq2trQU6F3Z2dtRxExeshnMhxc5FLdMq3oopKytT/5bsZj9wLrhzBZE7B5UVCgoK6K0CAAAAtg2bcKoTS5QeNaWfLvbYmyPAufi/dRktbKp4Avfo0eP+/fs7d+7kpnNR4Skt887FxAWrqaq0s7MT6Fw0adKEOm5UUBicC+l1LnT0q+4weHl5+VGjRo0YMYJ6RYZni9B3e+YbcC4EzRYJDQ3t0qULOqwAAACqOG279+VgV5aIPaLrqLn9fJfrEkXmidhTkl7nwrG1W5VNXXt7e2qpTvpsEaKDZDilZd65GBUURlVlkyZNBDoX7dq1o44bMnEWnAvpdS6UVfjsoSDbe4vwcHFx4e2lEhQURL3YzLUz950LxpS8cq5zISb3RNqdC4Matais2Lt3L8mTo0eP2tiU+mEFFqUHAAAg1UybNo26qTm16cDlPm3k/lPUYHuGyVJOmVchHTbJjydt9Hs86aJFi6rC3iIEfX391atX07dHJXqH+ivRQVUzpdkpKo1ZPWTiLKoq27VrJ9C58PT0pI7rMmA4nAspdS52pP5Lv7bv3r1bFZwLMzOzffv2Ue+Nior6/SdrO846F3z35RJ9bxFBe4UIWta4ovYWEfFzOXUFxWfmyNNmiKSlpfFSJT8/f8WKFbq6unAuAAAAVBFWrVpF3dQs6tbneM+W2jRB9Mc8Fd5jEdRhk/wMcZPfM8S3b98u886FoqKiv7//hw8fGGcgeod+GFFDsprSFbi3CDezusuA4VQ9enp6CnQuZsyYQR3n2KodnAspdS5WxJ2kX7rfv3+XbedCQ0MjNDT0x48f9PceP36cOkBVTT0p6w03nQu+ey+X+K4St3RmRNvufYUfL+JF0W2QT6k+l1NXUNSRNHravH//np4wb9++9fPzE3HxC3R5AQAASDX0ofXauvpS2ucX0scobU+pzB02yUZi1mtFRSWqKs+ePSvbzkWHDh1u3brF9wxE79CPJGpIxlK6xE443xSVxqx2bPV7FsiMGTMEOhebNm2ijjMwNoFzIaXOReCitVQ91qhRQ3pvq6I4F15eXi9evGC/99mzZ/TD1iVd4KZzUbuONe+vjE2SRLRI9Q2Mdl98KPqGTIK2axbxopgQurK02z5z5wqasmQDfZAh35S7ceOGKPdOdHkBAABINYwu1razt7ncsyVdndI+oC5tT6nMHTbJxrpD/9DrkfR+ZdW5sLS0TEpKEn4Sonqo44kakrGUJoknpBNOTkilKH1QhjRmtYGxCVWPmzZtEuhcXLlyhZ4iuy7cg3NBvc536xpuRo8hflQldu7cWVadi2bNmlED/vlibGxMHTx+fqTEs5SdQpR7ym6DShT81AQQ8g++w8YmhK6kliym2kfeVtLsI0W/KKjdpMl52F0B0vAxvgx3rqDug0dS+dC1a1chmXPw4EFzc3M4FwAAAGSV/Px8FdqaaCHr93CkE8tXQVH9JUYfRngfo1Q9pTJ32CQbkxdHlfhURtqdC21t7aVLl+bl5ZV4EqJ6fm84MsRP9lKaMhoYnXDyb+qEgqafS0tW77pwj177V65cEehc/Pz5U1FRkTp0zrpdcC6oYfakUnlLEJNqFjS/iCNh08CRqsSgoCDZcy5q1qy5bdu24uJi4W/v27cv9ZY23TwknqW81oSXRQP8JlGtD99JmCU6FyQJKROBd1cm5+SdmXwK70/04WTUsAteMlMH07+GKBcF5fjyfGJyOVDXBe9UjN/C9wraeuqGBLYNq2NN5cOCBQuEJw9pDBctWqSpqQnnAgAAgEzi6Pi7uzhwzBTu9O1J74J0Hqj+EmVAsGf4C++ll7anVLYOm4SfyniOoiqxffv2MuZcyMvLjxw58vXr1yKehL48P1FDspfS1Egi3gG8Tjg5IZXn5B8Mh0LqsnrOul30NU1Ih1ygc0FwcnL6bVZ5+cK5oKcIZ5steuxJe0hfhrDEgVXS5VyoqqrOmjUrNzdXlLevWbPm91oYWtoJ119K3LlgB9/NnEWcZEEaMobvwDgzI1Epb5URpCGj2lBRvgP5wvSuACMYTTDfK2jD0cuSXeTiwoULoqRQTk7O8OHD4VwAAACQPfz9/an7GukGcK1vzw52f6nEXnqpekpl67BJNuhPZYKDg2XJuXBxcUlPTy/VSYjq+e16KCgQTSR7KS2kE06Sgf1wXeqyuoeX7+9tj5ycGFXM7IITWUgdbWJuCeeCl0N0A4zvIHnuRNCKrXSn6suXLzLjXPTr1+/x48eiv/358+f0t4es3y3ZLCWJRA1M4Hn/5H8FzaEQfXkI0uKQ81ALDpPTknQlL/LNUl4y85o8ngHMa7AoU0PE70BOPmLqfPqW1OTfA/wm8f057Cto/7XnEtxgycjIqKioSPREunz5srOzM5wLAAAAskRiYiJd5u365z4X+rGkI0EfE1Fif0mUXrqIPaWyddgkGNHHM+idE+ldnpPhXPz111979+4tcWw1G6J66LMHiCaSyZRmdMLJaXmDKSpQhkgwTMwtqRqcNWtWCc7FmTNn6NfA6vhzUrQyJYJEq049qOpr3bq1VN9TKefCwcGBZGYZztCkSROqNJq7deXgCp2ISoikrDc1TP6iMmHUqFGlTSRy+9y5c6eJiQmcCwAAALLB58+flZR+b0vhP29FFe8tSF2HzXtyCFV9WlpaoqwEwXHnQkNDY/78+YztAksF0T5UmRBNhD6wdGX16vhzdCOCrf6YXfDCwkJDQ0PqDX1HTkSVS1Hsu/xERVWVqr7ly5dLu3NBsnHDhg0kLct2htWrV1OloaCgGHM6C01GFYy5UXvp7eD58+fLlk7fvn2bM2eOmpoa+rsAAABkAPqKhg2atYbGk64Om4VdA6r6Bg0aJNWp6Orq6unpmZ2dXc7zEO1DlQnRREQZIaulKKv7jpxIVR/RgGwByOfh4bhx46j36FYziM/MgfKRlhgTvIS+qk1OTo60Pw0glOcMnz59UldXl+w6w3AuJB71nVpSOWBnZ1fOtJTeLccAAAAAOtu2baM7+1FH0qDxpKXDtmxPCr3uDh06JNWpWH7PggfRPkQBUcVClBGcC2nJ6vjMHN1qBlTdjRs3jl2/fJyLtLQ/lrKbFL4Oykc6hsTffEtfp0eqVxiuQHx8fOjm67Yzt9BkVKlYGJP4xwy41atxUQAAAAD/+e+6APRdtLi/Nj86bFS4uvenKs7AwODXr1/IZx5EAVElQ5QR0UfIaqnI6knh6+g99rS0NJGci//8uU+SRd36VbzKpSVmrfrDOE9ISEDjRXjw4AF9tZ4OfTzRZFSpFS6s7B2o2jc2Ni7P5EkAAABAxhg7dix1l1RT19iZeg8aj/tfdcuJTEUlZariZs6ciUymIAqILoiIPoJzwf2sTrr51qJufarWHB0d+VYuf+ciNjaWXuUzImMggaSrvs3MzMq8NoTsQd/YUl5eftnuv9FkVJHwn7eC3pRFRkbicgAAAAAobt++Tb9RVuUV7qSow9ZlwHD6ToIVNdVCNiAKiOggPIOXrqyeERlDb4hiY2NL4Vzk5eWZmprSR9ok3HgFFcTlmL48+o+ZilFRaLkoHj9+rKamRm/CEq6/RJMh87Ht7G1tXX2q3s3NzX/+/InLAQAAAKDTq1cv6l6pqqYukeXMofFEj6gjaQoKv0cTDx8+HDnMgOgguiwiKgnOBZe/ZMKNV/QVD0xNTQVtlCMnYpX7TAuFEOJsxF19ZlCjlij1XWUJCQmh5/MAv0lIG5kPpzYd6ZUeHx+PCwEAAABgkJGRQb9dunTpjS4El8OxVTv6gIsHDx4ghxkwnsETlUS0EjKHs+EzLVTEB/ACnYuCggJr69/mh7qmVpW1YKVrCxlCdHQ02iwG379/Nzc3p++QGr7tMDKniuyzQ+jcuTOuAgAAAIAv/fv3p980w7bEoyMhFYPqfX19kb18IWqIXlD9RgUgebgZMaez1DW1qJqytrYuKCgotXNBOHr0KL3Kndp0wFKdXNwVafff9DFjTZo0KSoqQoPF5ty5c/R9kvSqG1b+PiOIyomIXcn0lat0dXVfvHiBSwAAAADgy7Nnz+i7yBuZmO699BjdCa7FjtR/6dtG6unpvXv3DtnLF6KGiCaiP7Os5HXuECIu1OjUpgPdcDh69KiQapUTXuvu7u70c40LWYYi5lTsv/bcxNyKvvwk3y1kAI/JkyfT89nWwelA+gtkkYxF7Omb1YyM6RW9Y8cOJD8AAAAghAULFtBvnR09vNCj4Fq07PiHLlu7di3yVghEE9GfWRLFRHQTsohbS+nPXU5PaXd3d+F1WoJzkZ2draurS51ORVV11cGzKGXuRLseA+j1HRAQgHZKCHl5ec2aNaOXmHMH98Ss10gkmYm9lx6Z29jTq9jb2xuZDwAAAAgnPz/fwcGBfgOdFL4O/QruhN/McHrttG7dGoOsS4QoI3qhEd2EROJOrDp4VkVVlT5EusRdcuRKrPKYmD/mUxmbmu9Je4iy5kKMnbOUXjXW1tbfv39HI1WiGWdoaEgvty4DhmMalMwMQarv1JJeuY6OjthPBAAAABCFzMxMJSUl+j4jaxLOo3fBkbnh9GmwGhoa9+/fR8aWCFFG9HUbCUQ9IZ24EHvSHhqbmtOrJiYmpsQKlROl1vv160c/r0OLNvGZOShxycaC6IP0JkxFReXKlStooUTh3LlzpLjoKd11gDfMCxmwLRo0a/2HzWps/OTJEyQ8AAAAICIRERH0O6lRLdNtZ2+jjyHZiE7J0Kv+x1O3zZs3I1dFhOgjerefqCeioZBUko34zByHFm3+WEK1Xz9RalMk5+Lr1682Njb0s7fvPQhKT4KxLumChpY2vUbWrVuHtkl04uLi6DPfYF7Inm2hra2dkZGBVAcAAABEp7i4uHfv3vT7qVW9RlgdQLKPpk0t/lBhw4cPR6KWCqKS6AVINBRRUkgtCa7K2aHPYMa8ga9fv1aYc0HIysoiSoD+Gb29x6HoJRIbj12pblSTXhdDhgxBq1RaIiMj5f6kTTcPDCaS0qW2bR2c6FWprKyckpKCJAcAAABKy6dPnxgPLBs0a40VzSW0etdjmwaO9Lpo1KjRjx8/kKWlhWglejESJUX0FBJMItHH259eF1paWllZWSLWo5zoVZ6cnKygoED/pL4jJ6L0Kzm2nMhk2BatW7fOy8tDk1QGwsPDGeaFg3NbLOMiXbHp72u1zCwYtkVSUhLSGwAAACgbDx8+NDAwoN9bm7l2xtMdiY8nrV27dk5ODvKzDBCtRBQTw7wgqgppVsnRd+REei0oKCgkJyeLXo9ypar1DRs2MJRe7+FjMca+0iLqSBrDtrCxsXn//j3aowo0L4gMXn/4IpJNKiJ0834tHT169amqqsK2AAAAAMrJhQsX1NXV/3ja7+yKaSOVuVda3UZN6eWvo6OTmZmJzCwzRDExBhMRVUW0FZKt0iaJ9B4+liG7oqKiSlWJcqWtdbbS69DHE/tKVkKs3H9aR78aveQtLS1L3DwGlMiWLVsYg4nUNbVmropFynG8+fOeMlf+z4ojN/Vz584hpQEAAIDyk5ycrKysTL/P1nVouvviA3RCxB3bz91hbPGurq5+4cIF5GQ5IbqJqKc/uo761YjCQsqJOxKzXnf08GJ4COHh4aWtQbky1PqcOXMYH9y4Zbu9lx6hVsQXs1dvV1X7w/k2MTF58OAB2qAK4ciRI4wHC4Rug3wwq5OjC1ucv9vEpT2jvsgVcfPmTSQzAAAAUFEkJSUxzAsTc8sNRy+jKyK+WJNw3rBmbYZtcerUKWRjhUDUE+kx/jFcV02d6CwknlgHEDm2asfotwcHB5eh+uTKVusLFy5kfLyphc2m5KuoG3E8Wx4+aQ7j2bKlpeXjx4/R+lQgmZmZf/31FyOrzaztVsefQxJyKkLW79Y3MGLUVPPmzV++fIk0BgAAACqWQ4cOMZ7uaOvqL9yagA6JOGLOul3qmlqM8aSwLSoWoqEYIy+IziJqCwsgiGVBuuSrppa2jH77woULy1Z3cmWu9XXr1jH2ldTQ0pm1ahtqqGI9Kuf23RmVXb9+fYg0cfD27du2bdsySltRUWnwuGkJ118iG7mwMZhbr0FyLHx8fH79+oUEBgAAAMTB6dOniX5mKL1hAbOh9Cp2OH1/30BGD8fAwODSpUvIwAqHKCmipxilTTQX5hBUbMxatU1D68+mQ15+3bp1Za44ufLUekJCAnuMfa9hYw5mYPHhCojle4/X/KsOo3g7duz4+fNntDhioqCgYNasWQxLjmBuY7901zHkpARjWsQmfcMajHrR0NDYsmUL8hYAAAAQKzdu3DA1NWXchZ3adNyR+i+6KOWPraduMLYR4S3Df+/ePeSemCB6iqgqRpkT5UX0FxKy/HEwI6fXsDGM4lVXV4+Pjy9PrcmVs9bT09Nr1qyJMfYVbrt6jZ+hqKjEKNjRo0cTaY22RtycOnWKndX/XYx28I7zd5GflRzrD190cG7Lrg4HB4e7d+8iXQEAAIBK4NWrV02bNmXci3X1qwev3Ym+SjmfzWhq6zIKtm3bth8+fEDWiRWiqoi2Yo+2JioMu0+UJ1bHnzOztmO6QjVrpqenl7PK5CqkIXN1dWV8OSVlFU//IAy+KEOsOnjWql4jRnmqqqpGR0ejiak03r9/7+npyVbLGlo6wwJmH0jPRqJWxkqcqf929xzFtvAUFRVnzZqFGSIAAABAZfLz509fX19278it58BdF+6h31La2Hb2dsuO7uzynDRpUn5+PvKtciAKi+gsRhUQLUYUGVK0DEMtPP2DlJRV2E7cq1evyl9ZchVS5YWFhTNmzGBfeKYWNou3H0EtihhxV5/1HTlRQUGRUYwWFhYZGRloWSqfhISEWrVqsRO7ulHNiQtWJdx4haQV17Vw5anXhJmMRaqooRbXrl1DcgIAAAASITY2VkNDg3F31tGvNnnxeqx8IeoC/FlvxoUsYywBwFuP88CBA8ixSoboLKK2GHVBFBnRZUSdIV1FDKL6ifZnd92DgoIKCwsrpKbkKrDWT506Vbt2bfbXdenaZ8uJTFSn8A1EJi+OInqY7+qDubm5aFMkxZcvXyZNmqSoqMiuGmNT84CwNfAvKtyzGBYYrK1XjV3g2tray5cvx4QpAAAAQLLcu3ePPXOEUNeh6Yp9J9CZKVHgWdg1YJdemzZtnj59iuySCERtEc3F92kl0Wiw5EpYqOXkdaL32aVXu3btkydPVmA1yVVsrX/69MnLy4v9vVVU1fr7Bu5Je4iqZcfCmERbByd2odWoUSMhIQFNCRe4efMme9sRHkYmpr4zFxG9jUwu/5jJAX6T2M8feAwZMgRb6gAAAAAcoaCgYO7cuUpKzBmd8vLy7XoM2JySjo4N36W7WnXqwe7kqKmpRUREFBUVIa8kC1FeRH+xK4goNaLXkMB8N/4jGp8ofXaheXl5ffr0qWIrSE4ctZ6cnGxmZiZojQBoPCoidiU3cnblq9NGjhz58eNHtCCc4tChQ/b29nzrS1Nbt+/IiVtPXkdWl20hnw59PNmT4v43e9bNDdNDAAAAAA5y69YtZ2dn9r1bUUm568ARsadvopPDi+iUjPa9B7GnhPP6OQ8ePEAucQSiv4gK49sjJaqNaDckM32UNN8njmZmZsnJyeKoHTkx1fq3b9+CgoJUVPhIES0dvYFjpuxMrdIL+SyIPujQog3fq6JBgwbnzp1Dw8HZJwzR0dGWlpZ8605eQaFZuy4h6/ckZb1Bi1ZiHEh/MSl8XV2HpnICaN68uZgaPgAAAABUCEVFRVFRUQYGBnz9i059h2w8dqUq93bWJV1wde/P17OoWbPmtm3biouLkUVcg2gxosj49k6JgiM6riqnNFHxg8ZOJYqezzQLFZXp06d/+/ZNTPUiJ9Zaf/ToUe/evfnWupq6RpcBw9cmpla1BVcDF66xtG/It0xIo79hw4aKWsIEiNW/iImJEeRfEAxr1u7vGxh15BLsCUGjjboOHMG3yYNnAQAAAEgdHz9+DAgIYE8e4c0fadG+28KtCVVtDbt5G/Y1cWnPt5+jqqo6Y8aMr1+/InM4C1FkRJfxteQIRM0RTVfVttEkyr3rAG+i4vmWSa9evYj2F2ulyFVCxaemprZp00aQRGnY3GX68miZr/gNRy/38w3U1a/Of66BpubcuXMrfC4QELd/sWfPHicnJznB2DRw9JsZjhVqebEm4bynf1AtMwshJdatW7dTp04huwAAAACp48GDB4MHD5aXl+d7izezths9e/Huiw9kfk/3kdMXmJjzf76lqKg4YsSIZ8+eIVukAqLOiEYjSo1vbRJlR/QdUXky/+idqHWi2QX13onSP3/+fCVUh1ylVXxycnLz5s0F/WBtXX13r1HL9qTIWE3vvfQoIGxNvSYtBP1wciVMnz793bt3aBqkF3Kt9unTh+/+I78tjIZNfKbOr4KjMJKy3qzYd2Lg6Mkm5lZCykdDQ8PPz+/u3btIJwAAAECquXHjBukXCfIvlFVUXLr2mbdhX8L1lzKm7oLX7HDu4K6opCzIsxg8ePC9e/eQIVIHUWpErwnyLwhE6xHFR3SfjHXjiTYnCp3odI6Mkpar5Io/c+ZM586dhQgY49pmfUdOXBF3Uqq3n9mT9nDq0o1N23YStOjg/+2yU736vHnzPnz4gOZANsjJyQkNDeW7MTBjL9UeQ/zmbYzbf+25DBsWu/65H7Ria/veg/SqGwovkAYNGqxbt+7Lly9IIQAAAEBmuHPnzvDhw5WVlYU8tuwyYPiC6INSbWEczMiZG7W3Qx9PDS1tQb9UVVV19OjRDx8+RFZINUS1Ee1GFJygiia6j6g/ogGlej9NosGJEid6nKhyIR34Tp06EV1fyVUgJ5GKz8rK8vX1VVdXF1Ic1Y1qkuZszrpdUrQXyfrDF0cFhTVs7qKoqCRcqm3cuPH79+9oAmSPwsLCv//+29PTU0NDQ7hiV1RSrufkPHjctEWxSbLhYuy++IBcsL29x1nUrS/oSQt9VZfx48dfvnwZOQMAAADIKi9evAgODjY0FPYYQ0NLx6VL78mL1+84f1da+jyxp28GhK1x7uCupqEp5KfVqlUrNDT0zZs3yASZgSg4ouMErd/5/8fXKBE9SFQh0YZStFcI6cYT9U00uJCfRvQ7UfFEy0uk8OUkWPEfP35csWJF/fr1SxB4ikp2jZsNGjt1QfRBDroYUUcukZbLredA4dXMq2kvL6+zZ8/imq8KfP36dfv27e7u7nx32GGgoKBoVa+Ru9eoyYujSBsnLVuTJFx/GRl3yn/eio4eXrXrWMuJgI6OzpAhQw4fPpyfn48kAQAAAKoCeXl5O3bsaNeuXYn9BDNrux5D/ILX7OCgi7HtzK2ZK2O6Dx5pamEj/FfIy8t37tw5Li6uoKAAtS+rEE1HlJ3wJ/G8h/FEJxK1yME540RZE31NVDbR2sKfuxOIZifKXbLTBeS4UPFXr14dO3ascDuW2nWyjm29rgO8/ecuX773+IH07Mqv462nbgSv3ek1fkYz186CVtxkNF6tW7eOior6/PkzLvIqCKn37du3e3h4aGlpyYmGqpp63UZNuw3yGT178cKtCdvO3ubI4LHolIy5UXt9poV26DPYwq5BiW0chZGR0YgRIw4dOvTr1y+kBAAAAFA1efz48Zw5cywsLETpPNT8q46re/9RQWGLYpMksoLArn/uE13nM3V+m24eRiamonxnW1vbBQsWZGdno66rTj+fqDyi9Uocbsxb0ZPoR6IiiZYkirLyU5poZ6KgiY4mappoaqKsS/zORKETnU7UOhdKW447FV9YWHj8+HEfHx9B28/wfVJtYm7ZrF0XjxHjJ4SuJI3LhqOXK3Cbkh2p/67Yd2LmyhjvySFEqtk1biZkH0c+W0C1aLFs2TKsHgx45OXlnTx5ctKkSXXr1pUrJZraulb2Dq069fDwmTAuZFnI+j0rD5zZfu6OOJaDSbjxKvb0zWV7Umat2uY3M7zn0NHkEjOztlNVUy/Vd1ZQUGjatOncuXOvXLlSVFSEBAAAAAAAj2vXrgUFBYloYVBbzjdydnX3GjV6VvjcqL1rE1MrcCz23kuP1yScD1m/23fmou6DRzZs7lLiYGqGYREcHCypIfSACxDFR3QfUX+iWBg8iK4k6pJoTKI0id4kqpNozwpcgYXoYqKOiUYmSpl05olqJtpZxO9G9DhR5USbE4XOnUKW42DFE5Hzzz//zJw5U/gMImGGVjUDU0tbhxZtXLr07jbIh4g9r/EzRgWF+c9bERC2hhFEm3lPmTto7NQeQ/w69PF0atPRpmET49pmKqqqZfhoHR2d3r17b9269fXr17iGgSBevXq1c+fOkSNHWllZyZUDRSXlakbGZtZ29Z1atuzo3tHDi6TxwNGThwbM/r+En7ucnfAkxs5ZSv5KLop+voHk+Pa9BzVz7UyaTlMLG3LtiOK/CnErHBwcAgICkpKSMMgIAAAAAMK5ffv2kiVLXFxchO/RJuTRjom5FenDtOrUo3P/Yb2Hjx08bhrp5IwNieDb/xk5fQE5oNewMZ37DXVu371uo6ZEzglZXFMIysrK7dq1W7Fixf3791GPgIJoQKIEiR4kqrAMeUUUKNGhRI0STUqUKemoE5VKtCpRrOyUJtqW16UnapdoXqJ8if4lKpj058vWkyfqm2hwosS5+dBRjuN1/+bNm927dxOBZ2NjI8dVNDU127dvv2DBgrS0NMxnA2VI8sTExOnTp7dp06ZsbZxkMTIy6tKly/z580+cOPH161dUKAAAAABKS25u7pEjRyZNmuTo6Fg2F6MSUFJSatas2bRp01JSUrDWPhAOUYVEGxKFSHSikB1VJQ5R2URrE8XN/aVk5aSo+t+9e3f48OFZs2YRmWRsbCzZZsvBwcHb23vdunWZmZmcGkUDpJri4uIHDx7ExcWRPO/Vq5eVlRXXbt6qqqoNGjQYOHBgaGgo6WG8ePECtQYAAACACuTbt29nzpxZtGiRh4dHqWaUVDjy8vLW1tb9+/dfsmRJamrqjx8/UDugDBC1SDQjUY5EPxIVSbSkBLOa6GiiponWIMqa6GspKkY56c2A169fnzhxYvXq1ePHj2/fvn2dOnXElAT6+vqNGjUaMGBASEjIrl27SNphWwRQaeTl5d24cSM+Pn7ZsmX+/v5du3atW7eurq5uJbRrhoaGDRs27NWr16RJk8iFduTIkfv378OnAwAAAEBl8uXLl/Pnz2/evHny5Mnu7u6kI6SmpiaOno+Ghoa9vT3p+UybNm3Lli3//PNPbm4uyh9UOERLEkVJdCVRl0RjEqVJ9KaYHrcTjUyUMtHLpDNPtLNUL2ggJ0tJUFRU9OLFi4sXL+7fvz8qKmr+/Pnjxo0bOnQoaYBcXV2dnJwc/ou5ubnZfyENH++V1q1bd+nSpV+/fj4+PtOnT1+6dOn27duTk5Nv3bqFBgtwk+/fv9+7d4/cyEm2b9y4cdGiRVOnTiUJPGjQIJLwbdu2bdq0KS+9SZ6b/X/q1avHe7FFixZubm7kSC8vL19f36CgIJL20dHRiYmJ5Ap68uQJNgEBAAAAAGd5+/bt1atXk5KSNm3aRHpBgYGBw4cP7927d4cOHZo3b87r7VhaWvL6P1ZWVlT/p2PHjn369CEHT548OTw8fPPmzYcPH05PT3///j1KFUgQojqJ9iQKlOhQ0i0nmpR07Ik+JSqVaFVGr57oWd4rROESnUu69ETzEuVL9C9RwUQdkP480cUytka+HLIEAAAAAAAAAAAAnAXOBQAAAAAAAAAAALgLnAsAAAAAAAAAAABwFzgXAAAAAAAAAAAA4C7/DzJRzj4Q2mGvAAAAAElFTkSuQmCC)"
      ]
    },
    {
      "cell_type": "markdown",
      "metadata": {
        "id": "RzG2n_sBjdTt"
      },
      "source": [
        "Our code will be implemented as below \n",
        "\n",
        "```\n",
        "for x , y in dl:\n",
        "  pred = model(x)\n",
        "  loss = loss_func(pred , y)\n",
        "  loss.backward()\n",
        "  parameters -= parameters.grad * lr\n",
        "\n",
        "```\n",
        "\n",
        "\n",
        "\n"
      ]
    },
    {
      "cell_type": "markdown",
      "metadata": {
        "id": "gM_FahFBj0_Q"
      },
      "source": [
        "**Re-initializing the parameters** "
      ]
    },
    {
      "cell_type": "code",
      "metadata": {
        "id": "aFDqENk8kMgu"
      },
      "source": [
        "weights = init_params((28*28 , 1))\n",
        "bias = init_params(1)"
      ],
      "execution_count": 230,
      "outputs": []
    },
    {
      "cell_type": "markdown",
      "metadata": {
        "id": "ZHRti5KNkSEJ"
      },
      "source": [
        "**Creating Dataloader** \n",
        "\n",
        "A DataLoader can be created from a Dataset "
      ]
    },
    {
      "cell_type": "code",
      "metadata": {
        "colab": {
          "base_uri": "https://localhost:8080/"
        },
        "id": "v6ydpnD_kicG",
        "outputId": "acc93e94-4863-4fb3-edd3-943520b3d238"
      },
      "source": [
        "# DataLoader\n",
        "\n",
        "dl = DataLoader(dset , batch_size=256)\n",
        "xb , yb = first(dl) # a keyword to pick first batch\n",
        "\n",
        "# Checking the shape \n",
        "xb.shape , yb.shape"
      ],
      "execution_count": 231,
      "outputs": [
        {
          "output_type": "execute_result",
          "data": {
            "text/plain": [
              "(torch.Size([256, 784]), torch.Size([256, 1]))"
            ]
          },
          "metadata": {
            "tags": []
          },
          "execution_count": 231
        }
      ]
    },
    {
      "cell_type": "code",
      "metadata": {
        "id": "X96nPZW0lcI1"
      },
      "source": [
        "# Doing the same for validation set \n",
        "\n",
        "valid_dl = DataLoader(valid_dset , batch_size=256)"
      ],
      "execution_count": 232,
      "outputs": []
    },
    {
      "cell_type": "markdown",
      "metadata": {
        "id": "FETvABPFl35O"
      },
      "source": [
        "**Testing with dummy example** "
      ]
    },
    {
      "cell_type": "code",
      "metadata": {
        "colab": {
          "base_uri": "https://localhost:8080/"
        },
        "id": "Yn84JeWGl7tC",
        "outputId": "99deb5fc-b270-4815-e45f-233969d20988"
      },
      "source": [
        "# Creating mini_batch of size 4\n",
        "\n",
        "batch = train_x[:4]\n",
        "batch.shape"
      ],
      "execution_count": 233,
      "outputs": [
        {
          "output_type": "execute_result",
          "data": {
            "text/plain": [
              "torch.Size([4, 784])"
            ]
          },
          "metadata": {
            "tags": []
          },
          "execution_count": 233
        }
      ]
    },
    {
      "cell_type": "code",
      "metadata": {
        "colab": {
          "base_uri": "https://localhost:8080/"
        },
        "id": "StGtnnwLmYVm",
        "outputId": "b0537392-262d-4163-aa60-2ece852964a0"
      },
      "source": [
        "# Checking preds by inputing a mini- training set into linear1 model \n",
        "preds = linear1(batch)\n",
        "\n",
        "# Predictions\n",
        "preds"
      ],
      "execution_count": 234,
      "outputs": [
        {
          "output_type": "execute_result",
          "data": {
            "text/plain": [
              "tensor([[-0.0325],\n",
              "        [-5.9517],\n",
              "        [-4.3587],\n",
              "        [-0.5127]], grad_fn=<AddBackward0>)"
            ]
          },
          "metadata": {
            "tags": []
          },
          "execution_count": 234
        }
      ]
    },
    {
      "cell_type": "code",
      "metadata": {
        "colab": {
          "base_uri": "https://localhost:8080/"
        },
        "id": "COW5ofQpm0Y-",
        "outputId": "6c1a51dc-c7da-4d20-d8b4-23e4a6d580d9"
      },
      "source": [
        "# Calculating the loss for the preds \n",
        "loss = mnist_loss(preds , train_y[:4])\n",
        "loss"
      ],
      "execution_count": 235,
      "outputs": [
        {
          "output_type": "execute_result",
          "data": {
            "text/plain": [
              "tensor(0.7796, grad_fn=<MeanBackward0>)"
            ]
          },
          "metadata": {
            "tags": []
          },
          "execution_count": 235
        }
      ]
    },
    {
      "cell_type": "code",
      "metadata": {
        "colab": {
          "base_uri": "https://localhost:8080/"
        },
        "id": "YzWAnH2Hm9Yr",
        "outputId": "15b66aa9-7f13-4a94-9485-24973b91edbc"
      },
      "source": [
        "# Now calculating the gradients \n",
        "loss.backward()\n",
        "print(f'Shape of weight calculated: {weights.grad.shape}')\n",
        "print(f'Turning into a single tensor: {weights.grad.mean()}')\n",
        "print(f'Bias : {bias.grad}')\n"
      ],
      "execution_count": 236,
      "outputs": [
        {
          "output_type": "stream",
          "text": [
            "Shape of weight calculated: torch.Size([784, 1])\n",
            "Turning into a single tensor: -0.019761769101023674\n",
            "Bias : tensor([-0.1248])\n"
          ],
          "name": "stdout"
        }
      ]
    },
    {
      "cell_type": "markdown",
      "metadata": {
        "id": "gntSft4Ynl1c"
      },
      "source": [
        "**Putting the above steps into a function**"
      ]
    },
    {
      "cell_type": "code",
      "metadata": {
        "id": "qDA02IZYnyNH"
      },
      "source": [
        "def calc_grad(xb , yb , model):\n",
        "  '''\n",
        "  xb --> mini-batched training set \n",
        "  yb --> mini-batched test set\n",
        "  model --> the model we want to use\n",
        "  '''\n",
        "  preds = model(xb)\n",
        "  loss = mnist_loss(preds , yb)\n",
        "  loss.backward()"
      ],
      "execution_count": 237,
      "outputs": []
    },
    {
      "cell_type": "code",
      "metadata": {
        "colab": {
          "base_uri": "https://localhost:8080/"
        },
        "id": "QZQ1dFSeoLM7",
        "outputId": "fd4dfcdb-b0b0-4fc4-950a-0d2ba32400dd"
      },
      "source": [
        "# Testing the above function \n",
        "calc_grad(batch , train_y[:4] , linear1)\n",
        "\n",
        "# Below are wts and biases\n",
        "weights.grad.mean() , bias.grad"
      ],
      "execution_count": 238,
      "outputs": [
        {
          "output_type": "execute_result",
          "data": {
            "text/plain": [
              "(tensor(-0.0395), tensor([-0.2496]))"
            ]
          },
          "metadata": {
            "tags": []
          },
          "execution_count": 238
        }
      ]
    },
    {
      "cell_type": "code",
      "metadata": {
        "colab": {
          "base_uri": "https://localhost:8080/"
        },
        "id": "opXKWd9ooc4a",
        "outputId": "8da902b8-66e6-495c-ca21-f59bb23fe495"
      },
      "source": [
        "# Calling it another time\n",
        "calc_grad(batch , train_y[:4] , linear1)\n",
        "\n",
        "# Below are wts and biases\n",
        "weights.grad.mean() , bias.grad"
      ],
      "execution_count": 239,
      "outputs": [
        {
          "output_type": "execute_result",
          "data": {
            "text/plain": [
              "(tensor(-0.0593), tensor([-0.3744]))"
            ]
          },
          "metadata": {
            "tags": []
          },
          "execution_count": 239
        }
      ]
    },
    {
      "cell_type": "markdown",
      "metadata": {
        "id": "Y87hhbTdojOy"
      },
      "source": [
        "When we run the function `calc_grad` twice there was a change in the gradients. \n",
        "\n",
        "The reason was `loss.backward` adds the gradients of loss to any gradients that are currently stored. \n",
        "\n",
        "So we gotta make it zero. "
      ]
    },
    {
      "cell_type": "code",
      "metadata": {
        "colab": {
          "base_uri": "https://localhost:8080/"
        },
        "id": "VRRmBjknpR89",
        "outputId": "18a439b9-4f54-499d-c80e-db61504df67b"
      },
      "source": [
        "weights.grad.zero_()\n",
        "bias.grad.zero_()"
      ],
      "execution_count": 240,
      "outputs": [
        {
          "output_type": "execute_result",
          "data": {
            "text/plain": [
              "tensor([0.])"
            ]
          },
          "metadata": {
            "tags": []
          },
          "execution_count": 240
        }
      ]
    },
    {
      "cell_type": "markdown",
      "metadata": {
        "id": "b-isdDfvpcD7"
      },
      "source": [
        "After all these steps there exits one remaining step, it is to **update** the **weights** and **biases** based on the gradient and learning rate. \n",
        "\n",
        "Likewise we made the **grad** zero up there for the parameters we will be doing the same thing right here too to avoid the confusion when we try to compute the derivative to the next batch.\n",
        "\n",
        "Even here by using grad.data we are telling Pytorch not to take the gradient of the current step."
      ]
    },
    {
      "cell_type": "code",
      "metadata": {
        "id": "ZLadG1mR1z1X"
      },
      "source": [
        "# Updated with the optimization step, for one epoch\n",
        "\n",
        "def train_epoch(model , lr , params):\n",
        "  for xb , yb in dl: # training loop for one epoch\n",
        "    calc_grad(xb , yb , model)\n",
        "    for p in params:\n",
        "      p.data -= p.grad*lr # Updation \n",
        "      p.grad.zero_()\n"
      ],
      "execution_count": 241,
      "outputs": []
    },
    {
      "cell_type": "markdown",
      "metadata": {
        "id": "dKkRUhKc26Kr"
      },
      "source": [
        "Now its the time to construct a function which would calculate the accuracy, to decide if an output represent a 3 or a 7, we can check whether its greater than 0. \n",
        "\n",
        "If it's greater than 3 if not 7, following this will take a mean of all the `True` so we will get an accuracy."
      ]
    },
    {
      "cell_type": "code",
      "metadata": {
        "colab": {
          "base_uri": "https://localhost:8080/"
        },
        "id": "6ENStSkM3vmm",
        "outputId": "886cd16a-c3d3-4542-e152-68b3294a94dd"
      },
      "source": [
        "# For instance something like this \n",
        "\n",
        "(preds > 0.0).float() == train_y[:4]"
      ],
      "execution_count": 242,
      "outputs": [
        {
          "output_type": "execute_result",
          "data": {
            "text/plain": [
              "tensor([[False],\n",
              "        [False],\n",
              "        [False],\n",
              "        [False]])"
            ]
          },
          "metadata": {
            "tags": []
          },
          "execution_count": 242
        }
      ]
    },
    {
      "cell_type": "code",
      "metadata": {
        "id": "QYABwuzx36oD"
      },
      "source": [
        "# Function to calculate validation accuracy \n",
        "\n",
        "def batch_accuracy(xb , yb):\n",
        "  preds = xb.sigmoid()\n",
        "  correct = (preds > 0.5) == yb\n",
        "  return correct.float().mean()"
      ],
      "execution_count": 243,
      "outputs": []
    },
    {
      "cell_type": "code",
      "metadata": {
        "colab": {
          "base_uri": "https://localhost:8080/"
        },
        "id": "5AcA_GpO4MYC",
        "outputId": "334eab29-5270-4834-b002-3d90cead60ad"
      },
      "source": [
        "# Checking it \n",
        "batch_accuracy(linear1(batch) , train_y[:4]) # (preds of train_x[:4] , train_y[:4])"
      ],
      "execution_count": 244,
      "outputs": [
        {
          "output_type": "execute_result",
          "data": {
            "text/plain": [
              "tensor(0.)"
            ]
          },
          "metadata": {
            "tags": []
          },
          "execution_count": 244
        }
      ]
    },
    {
      "cell_type": "markdown",
      "metadata": {
        "id": "wy14QXaj6cyt"
      },
      "source": [
        "Another way to write,\n",
        "\n",
        "def valid_epoch(dl , model , params):\n",
        "   def batch_accuracy(xb , yb):\n",
        "     preds = xb.sigmoid()\n",
        "     correct = (preds > 0.5) == yb\n",
        "     return correct.float().mean()\n",
        "  return round([batch_accuracy(model(xb) , yb) for xb,yb in dl])"
      ]
    },
    {
      "cell_type": "code",
      "metadata": {
        "id": "v3eUf3n54ZVH"
      },
      "source": [
        "# Writing a function for validation set \n",
        "\n",
        "def validate_epoch(model):\n",
        "  accs = [batch_accuracy(model(xb) , yb) for xb,yb in valid_dl]\n",
        "  return round(torch.stack(accs).mean().item() , 4)\n"
      ],
      "execution_count": 245,
      "outputs": []
    },
    {
      "cell_type": "code",
      "metadata": {
        "colab": {
          "base_uri": "https://localhost:8080/"
        },
        "id": "kM0uMZxC5aWs",
        "outputId": "c613f263-44f0-474b-c98d-6b4052cc94fe"
      },
      "source": [
        "# Testing the function\n",
        "validate_epoch(linear1)"
      ],
      "execution_count": 246,
      "outputs": [
        {
          "output_type": "execute_result",
          "data": {
            "text/plain": [
              "0.4862"
            ]
          },
          "metadata": {
            "tags": []
          },
          "execution_count": 246
        }
      ]
    },
    {
      "cell_type": "code",
      "metadata": {
        "id": "aUiDEI245d9w"
      },
      "source": [
        "# Training for one epoch, with a learning rate \n",
        "\n",
        "lr = 1. # learning rate \n",
        "params = weights , bias # parameters \n",
        "\n",
        "# train epoch / Where we train our model \n",
        "train_epoch(linear1 , lr , params)"
      ],
      "execution_count": 247,
      "outputs": []
    },
    {
      "cell_type": "code",
      "metadata": {
        "colab": {
          "base_uri": "https://localhost:8080/"
        },
        "id": "JYD2bJeP7l-9",
        "outputId": "0e4c61e6-36fa-4408-8e58-47e07a44d74f"
      },
      "source": [
        "# validation epoch / Calculate the accuracy based on the training\n",
        "\n",
        "validate_epoch(linear1)"
      ],
      "execution_count": 248,
      "outputs": [
        {
          "output_type": "execute_result",
          "data": {
            "text/plain": [
              "0.6294"
            ]
          },
          "metadata": {
            "tags": []
          },
          "execution_count": 248
        }
      ]
    },
    {
      "cell_type": "code",
      "metadata": {
        "colab": {
          "base_uri": "https://localhost:8080/"
        },
        "id": "kuD63RaW75kC",
        "outputId": "74f2752e-3004-41ac-fe6c-d8e727e068eb"
      },
      "source": [
        "# Doing for 20 epochs \n",
        "for i in range(20):\n",
        "  train_epoch(linear1 , lr , params)\n",
        "  print(validate_epoch(linear1) , end = '')"
      ],
      "execution_count": 249,
      "outputs": [
        {
          "output_type": "stream",
          "text": [
            "0.81240.88960.92620.93840.94380.94870.9530.9560.95890.96040.96280.96480.96480.96570.96670.96670.96820.96960.97060.9711"
          ],
          "name": "stdout"
        }
      ]
    },
    {
      "cell_type": "markdown",
      "metadata": {
        "id": "E1AlPIBY8MBo"
      },
      "source": [
        "## Creating an Optimizer\n",
        "\n",
        "We are close to the accuracy of the **pixel similarity approach.** \n",
        "\n",
        "The next step would be create an object that will handle the SGD step for us, in Pytorch its called an optimizer. In this step we will simplify our code by using Pytorch classes and make it easier to implement. \n",
        "\n",
        "Firstly, will repalce our linear function `linear1` with Pytorch's `nn.Linear` class. A module is an object of a class that inherits from the Pytorch `nn.Module` \n",
        "\n",
        "`nn.Linear` --> does same thing as `init_params` and `linear1` together. And it even takes care of weights and biases in a single class. "
      ]
    },
    {
      "cell_type": "code",
      "metadata": {
        "id": "DqrYoCP3AsHi"
      },
      "source": [
        "# With Pytorch module (nn.Linear) == init_params and linear1\n",
        "\n",
        "linear_model = nn.Linear(28*28 , 1)"
      ],
      "execution_count": 250,
      "outputs": []
    },
    {
      "cell_type": "markdown",
      "metadata": {
        "id": "kLw5PH7hCB4L"
      },
      "source": [
        "To get only the parameters (weights, biases) what the mode has been trained on, they are available through `parameters` method."
      ]
    },
    {
      "cell_type": "code",
      "metadata": {
        "colab": {
          "base_uri": "https://localhost:8080/"
        },
        "id": "2mWcspkHDb2W",
        "outputId": "b7db51ea-5d11-48bc-e7e4-abaa74c40ac7"
      },
      "source": [
        "w , b = linear_model.parameters()\n",
        "\n",
        "print(f'For Pytorch model the weights are : {w.shape}')\n",
        "print(f'For Pytorch model the bias are :{b.shape}')\n",
        "\n",
        "print('-------------------------  --------------------------')\n",
        "\n",
        "print(f'For our model the weights are :{weights.shape}')\n",
        "print(f'For our model the weights are :{bias.shape}')"
      ],
      "execution_count": 251,
      "outputs": [
        {
          "output_type": "stream",
          "text": [
            "For Pytorch model the weights are : torch.Size([1, 784])\n",
            "For Pytorch model the bias are :torch.Size([1])\n",
            "-------------------------  --------------------------\n",
            "For our model the weights are :torch.Size([784, 1])\n",
            "For our model the weights are :torch.Size([1])\n"
          ],
          "name": "stdout"
        }
      ]
    },
    {
      "cell_type": "markdown",
      "metadata": {
        "id": "aK-P2q4uEAR5"
      },
      "source": [
        "**Creating our own optimizer**"
      ]
    },
    {
      "cell_type": "code",
      "metadata": {
        "id": "StsnMVtaaXcT"
      },
      "source": [
        "class BasicOptim:\n",
        "  def __init__(self , params , lr):\n",
        "    self.params = list(params)\n",
        "    self.lr  = lr\n",
        "\n",
        "  def step(self , *args , **kwargs): # Updating the parameters \n",
        "    for p in self.params:\n",
        "      p.data -= p.grad.data * self.lr  # ==  p.data -= p.grad*lr\n",
        "  \n",
        "  def zero_grad(self , *args , **kwargs):\n",
        "    for p in self.params:\n",
        "      p.grad = None # restarts looping without losses from the last step if you use the gradient method for decreasing the error (or losses).\n",
        "\n",
        "\n"
      ],
      "execution_count": 252,
      "outputs": []
    },
    {
      "cell_type": "code",
      "metadata": {
        "id": "PV1dPtdocvaI"
      },
      "source": [
        "# Creating the optimizer by passing the params from the model \n",
        "\n",
        "opt = BasicOptim(linear_model.parameters(), lr)"
      ],
      "execution_count": 253,
      "outputs": []
    },
    {
      "cell_type": "markdown",
      "metadata": {
        "id": "X58ku9tRdrrR"
      },
      "source": [
        "Instead of all the mess, by creating a class and instantiating it. We can now use `opt` and call a method in place of the updation and zero grad. \n",
        "\n",
        "\n",
        "\n",
        "```\n",
        "def train_epoch(model , lr , params):\n",
        "  for xb , yb in dl: # training loop for one epoch\n",
        "    calc_grad(xb , yb , model)\n",
        "    for p in params:\n",
        "      p.data -= p.grad*lr # Updation \n",
        "      p.grad.zero_()\n",
        "\n",
        "```\n",
        "\n",
        "We modified the above code by creating a class and making some methods to simplify the steps. Into something like this \n",
        "\n",
        "\n",
        "```\n",
        "def train_epoch(model):\n",
        "  for xb, yb in dl:\n",
        "    calc_grad(xb , yb , model)\n",
        "    opt.step()\n",
        "    opt.zero_grad()\n",
        "```\n",
        "\n",
        "In place of `p` , `data` etc.. we replaced with the method we created in the class `BasicOptim()`\n",
        "\n",
        "\n",
        "\n",
        "\n",
        "\n"
      ]
    },
    {
      "cell_type": "code",
      "metadata": {
        "id": "TkSDkQoQeTy6"
      },
      "source": [
        "# Now after the simplification, \n",
        "\n",
        "def train_epoch(model):\n",
        "  for xb, yb in dl:\n",
        "    calc_grad(xb , yb , model)\n",
        "    opt.step()\n",
        "    opt.zero_grad()"
      ],
      "execution_count": 254,
      "outputs": []
    },
    {
      "cell_type": "code",
      "metadata": {
        "colab": {
          "base_uri": "https://localhost:8080/"
        },
        "id": "NNp8k5kIe_iT",
        "outputId": "367594a6-1742-4896-8890-4e996b063fb9"
      },
      "source": [
        "# No changes need to be done in the validation function \n",
        "\n",
        "validate_epoch(linear_model)"
      ],
      "execution_count": 255,
      "outputs": [
        {
          "output_type": "execute_result",
          "data": {
            "text/plain": [
              "0.701"
            ]
          },
          "metadata": {
            "tags": []
          },
          "execution_count": 255
        }
      ]
    },
    {
      "cell_type": "code",
      "metadata": {
        "id": "EJuc46yxfVa3"
      },
      "source": [
        "# So now, we are putting our training loop in the function \n",
        "\n",
        "def train_model(model , epochs):\n",
        "  for i in range(epochs):\n",
        "    train_epoch(model)\n",
        "    print(validate_epoch(model) , end ='')"
      ],
      "execution_count": 256,
      "outputs": []
    },
    {
      "cell_type": "code",
      "metadata": {
        "colab": {
          "base_uri": "https://localhost:8080/"
        },
        "id": "VAismKZIfkj4",
        "outputId": "5ffe52bb-c3a4-4f97-b903-bdb564d9ea17"
      },
      "source": [
        "# Testing the function \n",
        "\n",
        "train_model(linear_model , 20)"
      ],
      "execution_count": 257,
      "outputs": [
        {
          "output_type": "stream",
          "text": [
            "0.49320.86960.82570.91060.93260.94530.95510.96240.96480.96730.96870.97220.97360.97510.97610.97610.97750.97850.97850.979"
          ],
          "name": "stdout"
        }
      ]
    },
    {
      "cell_type": "markdown",
      "metadata": {
        "id": "NdTTwUzcfqUx"
      },
      "source": [
        "#### Using the **fastai** `SGD` class rather than the `BasicOptim()` class. "
      ]
    },
    {
      "cell_type": "code",
      "metadata": {
        "colab": {
          "base_uri": "https://localhost:8080/"
        },
        "id": "V-rmNk-fgMhX",
        "outputId": "2a86c6ef-512a-4e53-d42f-c0d8063a9cef"
      },
      "source": [
        "# Using fastai class and methods\n",
        "\n",
        "linear_model = nn.Linear(28*28 , 1)\n",
        "opt = SGD(linear_model.parameters() , lr)\n",
        "\n",
        "# Training the model \n",
        "train_model(linear_model , 20)"
      ],
      "execution_count": 258,
      "outputs": [
        {
          "output_type": "stream",
          "text": [
            "0.49320.90670.8120.90870.93210.94430.95510.96240.96530.96680.96920.97120.97310.97510.97560.97660.97750.9780.9780.9785"
          ],
          "name": "stdout"
        }
      ]
    },
    {
      "cell_type": "markdown",
      "metadata": {
        "id": "-qyYhmipgekE"
      },
      "source": [
        "Rather using the `train_model` fastai also provides `Learner.fit` which we can use instead of the `train_model.`\n",
        "\n",
        "But before to create a `Learner` we first need to create a `DataLoaders` (note the s), by passing in our training and validation `DataLoader` which is (`dl` and `valid_dl` )"
      ]
    },
    {
      "cell_type": "code",
      "metadata": {
        "id": "zQIuxZv6jv2Z"
      },
      "source": [
        "# Creating the DataLoaders, from the two DataLoader --> to use Learner\n",
        "\n",
        "dls = DataLoaders(dl , valid_dl)"
      ],
      "execution_count": 259,
      "outputs": []
    },
    {
      "cell_type": "markdown",
      "metadata": {
        "id": "F2SsFg5-kKGB"
      },
      "source": [
        "To create a `Learner` without using the application (`cnn_learner`) we need to pass in all the elements we created so far, \n",
        "\n",
        "- DataLoaders\n",
        "- the model\n",
        "- the optimization function\n",
        "- the loss function\n",
        "- other metrics we created"
      ]
    },
    {
      "cell_type": "code",
      "metadata": {
        "colab": {
          "base_uri": "https://localhost:8080/",
          "height": 359
        },
        "id": "R00_ToKUlFl9",
        "outputId": "804dccbd-4436-4749-d28b-04fd6d711afb"
      },
      "source": [
        "# Creating Learner from fastai \n",
        "\n",
        "learn = Learner(dls , nn.Linear(28*28 , 1) , opt_func=SGD , loss_func=mnist_loss , metrics=batch_accuracy)\n",
        "\n",
        "# And we are fitting by calling fit \n",
        "learn.fit(10 , lr = lr)  #(10 epochs , lr = 1.0)"
      ],
      "execution_count": 260,
      "outputs": [
        {
          "output_type": "display_data",
          "data": {
            "text/html": [
              "<table border=\"1\" class=\"dataframe\">\n",
              "  <thead>\n",
              "    <tr style=\"text-align: left;\">\n",
              "      <th>epoch</th>\n",
              "      <th>train_loss</th>\n",
              "      <th>valid_loss</th>\n",
              "      <th>batch_accuracy</th>\n",
              "      <th>time</th>\n",
              "    </tr>\n",
              "  </thead>\n",
              "  <tbody>\n",
              "    <tr>\n",
              "      <td>0</td>\n",
              "      <td>0.637066</td>\n",
              "      <td>0.503490</td>\n",
              "      <td>0.495584</td>\n",
              "      <td>00:00</td>\n",
              "    </tr>\n",
              "    <tr>\n",
              "      <td>1</td>\n",
              "      <td>0.518466</td>\n",
              "      <td>0.171616</td>\n",
              "      <td>0.862610</td>\n",
              "      <td>00:00</td>\n",
              "    </tr>\n",
              "    <tr>\n",
              "      <td>2</td>\n",
              "      <td>0.190153</td>\n",
              "      <td>0.187798</td>\n",
              "      <td>0.829735</td>\n",
              "      <td>00:00</td>\n",
              "    </tr>\n",
              "    <tr>\n",
              "      <td>3</td>\n",
              "      <td>0.083404</td>\n",
              "      <td>0.108621</td>\n",
              "      <td>0.911678</td>\n",
              "      <td>00:00</td>\n",
              "    </tr>\n",
              "    <tr>\n",
              "      <td>4</td>\n",
              "      <td>0.044104</td>\n",
              "      <td>0.078778</td>\n",
              "      <td>0.931796</td>\n",
              "      <td>00:00</td>\n",
              "    </tr>\n",
              "    <tr>\n",
              "      <td>5</td>\n",
              "      <td>0.028762</td>\n",
              "      <td>0.062926</td>\n",
              "      <td>0.947007</td>\n",
              "      <td>00:00</td>\n",
              "    </tr>\n",
              "    <tr>\n",
              "      <td>6</td>\n",
              "      <td>0.022448</td>\n",
              "      <td>0.053111</td>\n",
              "      <td>0.954858</td>\n",
              "      <td>00:00</td>\n",
              "    </tr>\n",
              "    <tr>\n",
              "      <td>7</td>\n",
              "      <td>0.019640</td>\n",
              "      <td>0.046598</td>\n",
              "      <td>0.961727</td>\n",
              "      <td>00:00</td>\n",
              "    </tr>\n",
              "    <tr>\n",
              "      <td>8</td>\n",
              "      <td>0.018219</td>\n",
              "      <td>0.042031</td>\n",
              "      <td>0.965162</td>\n",
              "      <td>00:00</td>\n",
              "    </tr>\n",
              "    <tr>\n",
              "      <td>9</td>\n",
              "      <td>0.017369</td>\n",
              "      <td>0.038671</td>\n",
              "      <td>0.966634</td>\n",
              "      <td>00:00</td>\n",
              "    </tr>\n",
              "  </tbody>\n",
              "</table>"
            ],
            "text/plain": [
              "<IPython.core.display.HTML object>"
            ]
          },
          "metadata": {
            "tags": []
          }
        }
      ]
    },
    {
      "cell_type": "markdown",
      "metadata": {
        "id": "QbxCy0dulmk1"
      },
      "source": [
        "## Adding a Nonlinearity\n",
        "\n",
        "So far we been dealing with simple linear classifier, a linear classifier is constrained with what it can do, but to make it more bit complex and able to handle more tasks. \n",
        "\n",
        "We need to add something nonlinear between two linear classifiers which gives us a neural network."
      ]
    },
    {
      "cell_type": "code",
      "metadata": {
        "id": "0v_4Di60gUb6"
      },
      "source": [
        "# Constructing a basic neural network \n",
        "\n",
        "def simple_net(xb):\n",
        "  res = xb@w1 + b1\n",
        "  res = res.max(tensor(0.0)) # activation function\n",
        "  res = res@w2 + b2\n",
        "  return res "
      ],
      "execution_count": 261,
      "outputs": []
    },
    {
      "cell_type": "markdown",
      "metadata": {
        "id": "ZIRrr0ERlIzR"
      },
      "source": [
        "The above is the basic neural network, with two linear classifiers with a max function between them \n",
        "\n",
        "`w1` & `w2` —> are weight tensors \n",
        "\n",
        "`b1` & `b2` —> bias tensors \n",
        "\n",
        "Even here the parameters `w` and `b` are initially randomly initialized."
      ]
    },
    {
      "cell_type": "code",
      "metadata": {
        "id": "BetrN3U-goFf"
      },
      "source": [
        "# Initialzing parameters \n",
        "\n",
        "w1 = init_params((28*28 , 30))\n",
        "b1 = init_params(30)\n",
        "w2 = init_params(30 , 1)\n",
        "b2 = init_params(1)"
      ],
      "execution_count": 262,
      "outputs": []
    },
    {
      "cell_type": "markdown",
      "metadata": {
        "id": "mIaw3Xxvi1Nb"
      },
      "source": [
        "In the above, `w1` has 30 output activations which means `w2` must have 30 input activations, so they match.\n",
        "\n",
        "The function `res.max(tensor(0.0))` is called as *rectified linear unit*, also known as **ReLU**. All it does is replace negative number with a zero. We can use it by `F.relu` in Pytorch. "
      ]
    },
    {
      "cell_type": "code",
      "metadata": {
        "colab": {
          "base_uri": "https://localhost:8080/",
          "height": 268
        },
        "id": "FjEoO8H3lAyx",
        "outputId": "0487f8c2-2790-40f8-a805-925871939c76"
      },
      "source": [
        "# Plotting a relu function \n",
        "plot_function(F.relu)"
      ],
      "execution_count": 263,
      "outputs": [
        {
          "output_type": "display_data",
          "data": {
            "image/png": "[encoded data removed]",
            "text/plain": [
              "<Figure size 432x288 with 1 Axes>"
            ]
          },
          "metadata": {
            "tags": [],
            "needs_background": "light"
          }
        }
      ]
    },
    {
      "cell_type": "markdown",
      "metadata": {
        "id": "XR8HTuNAnN0u"
      },
      "source": [
        "#### **Why there is a need for non-linear layers?**\n",
        "\n",
        "By using more linear layers we can have our model do more computations, but there is no point of stacking up tons of linear layers directly after one another. \n",
        "\n",
        "Because rather adding and multiplying them number of times then it would be efficient if something replaced by multiplying different things together and adding them up just once. \n",
        "\n",
        "**In short, a series of linear layers can be replaced by a single layer with different set of parameters.**\n",
        "\n",
        "*The non-linear layers enable neural nets to learn making conditional decisions for controlling the computational flow.*\n",
        "\n",
        "When we put a `non - linear` layer between every linear layer, now each linear layer is somewhat decoupled from the other ones and now can be more efficient in doing its work."
      ]
    },
    {
      "cell_type": "code",
      "metadata": {
        "id": "_xQKro8tqleB"
      },
      "source": [
        "# Using Pytorch writing simple_net \n",
        "\n",
        "simple_net = nn.Sequential(\n",
        "    nn.Linear(28*28 , 30), # linear\n",
        "    nn.ReLU(), # non - linear\n",
        "    nn.Linear(30 , 1)\n",
        ")"
      ],
      "execution_count": 266,
      "outputs": []
    },
    {
      "cell_type": "markdown",
      "metadata": {
        "id": "98lkaWjztpFg"
      },
      "source": [
        "Cutting down our `simple_net` function in more shorter lines and ease up the process of writing code for the neural net. \n",
        "\n",
        "The three lines of code that we have here are known as **layers.** The first and third layer known as **linear layers** and the 2nd layer known as *nonlinearity* (or) **activation function**\n",
        "\n",
        "Since `nn.Sequential` is a module, we can peek in the parameters of all modules it contains.\n",
        "\n",
        "And its a deeper model than we trained on before, so we will lower the learning rate and use few more epochs to balance."
      ]
    },
    {
      "cell_type": "code",
      "metadata": {
        "colab": {
          "base_uri": "https://localhost:8080/",
          "height": 1000
        },
        "id": "kcZOX4oFuCqJ",
        "outputId": "a3a4b11e-b494-4200-dd46-f6d7169eda57"
      },
      "source": [
        "# Using our simple net fittin the model \n",
        "\n",
        "learn = Learner(dls , simple_net , opt_func=SGD , loss_func=mnist_loss , \n",
        "                metrics = batch_accuracy)\n",
        "learn.fit(40 , 0.1)\n"
      ],
      "execution_count": 267,
      "outputs": [
        {
          "output_type": "display_data",
          "data": {
            "text/html": [
              "<table border=\"1\" class=\"dataframe\">\n",
              "  <thead>\n",
              "    <tr style=\"text-align: left;\">\n",
              "      <th>epoch</th>\n",
              "      <th>train_loss</th>\n",
              "      <th>valid_loss</th>\n",
              "      <th>batch_accuracy</th>\n",
              "      <th>time</th>\n",
              "    </tr>\n",
              "  </thead>\n",
              "  <tbody>\n",
              "    <tr>\n",
              "      <td>0</td>\n",
              "      <td>0.348756</td>\n",
              "      <td>0.384465</td>\n",
              "      <td>0.525515</td>\n",
              "      <td>00:00</td>\n",
              "    </tr>\n",
              "    <tr>\n",
              "      <td>1</td>\n",
              "      <td>0.158771</td>\n",
              "      <td>0.233090</td>\n",
              "      <td>0.799804</td>\n",
              "      <td>00:00</td>\n",
              "    </tr>\n",
              "    <tr>\n",
              "      <td>2</td>\n",
              "      <td>0.086164</td>\n",
              "      <td>0.115547</td>\n",
              "      <td>0.914622</td>\n",
              "      <td>00:00</td>\n",
              "    </tr>\n",
              "    <tr>\n",
              "      <td>3</td>\n",
              "      <td>0.055337</td>\n",
              "      <td>0.077357</td>\n",
              "      <td>0.941609</td>\n",
              "      <td>00:00</td>\n",
              "    </tr>\n",
              "    <tr>\n",
              "      <td>4</td>\n",
              "      <td>0.041185</td>\n",
              "      <td>0.060212</td>\n",
              "      <td>0.956330</td>\n",
              "      <td>00:00</td>\n",
              "    </tr>\n",
              "    <tr>\n",
              "      <td>5</td>\n",
              "      <td>0.034063</td>\n",
              "      <td>0.050696</td>\n",
              "      <td>0.964181</td>\n",
              "      <td>00:00</td>\n",
              "    </tr>\n",
              "    <tr>\n",
              "      <td>6</td>\n",
              "      <td>0.030048</td>\n",
              "      <td>0.044726</td>\n",
              "      <td>0.965653</td>\n",
              "      <td>00:00</td>\n",
              "    </tr>\n",
              "    <tr>\n",
              "      <td>7</td>\n",
              "      <td>0.027490</td>\n",
              "      <td>0.040640</td>\n",
              "      <td>0.967615</td>\n",
              "      <td>00:00</td>\n",
              "    </tr>\n",
              "    <tr>\n",
              "      <td>8</td>\n",
              "      <td>0.025675</td>\n",
              "      <td>0.037665</td>\n",
              "      <td>0.969087</td>\n",
              "      <td>00:00</td>\n",
              "    </tr>\n",
              "    <tr>\n",
              "      <td>9</td>\n",
              "      <td>0.024285</td>\n",
              "      <td>0.035387</td>\n",
              "      <td>0.972031</td>\n",
              "      <td>00:00</td>\n",
              "    </tr>\n",
              "    <tr>\n",
              "      <td>10</td>\n",
              "      <td>0.023165</td>\n",
              "      <td>0.033581</td>\n",
              "      <td>0.972522</td>\n",
              "      <td>00:00</td>\n",
              "    </tr>\n",
              "    <tr>\n",
              "      <td>11</td>\n",
              "      <td>0.022235</td>\n",
              "      <td>0.032105</td>\n",
              "      <td>0.973503</td>\n",
              "      <td>00:00</td>\n",
              "    </tr>\n",
              "    <tr>\n",
              "      <td>12</td>\n",
              "      <td>0.021445</td>\n",
              "      <td>0.030870</td>\n",
              "      <td>0.974485</td>\n",
              "      <td>00:00</td>\n",
              "    </tr>\n",
              "    <tr>\n",
              "      <td>13</td>\n",
              "      <td>0.020763</td>\n",
              "      <td>0.029813</td>\n",
              "      <td>0.975466</td>\n",
              "      <td>00:00</td>\n",
              "    </tr>\n",
              "    <tr>\n",
              "      <td>14</td>\n",
              "      <td>0.020166</td>\n",
              "      <td>0.028895</td>\n",
              "      <td>0.975957</td>\n",
              "      <td>00:00</td>\n",
              "    </tr>\n",
              "    <tr>\n",
              "      <td>15</td>\n",
              "      <td>0.019637</td>\n",
              "      <td>0.028087</td>\n",
              "      <td>0.976938</td>\n",
              "      <td>00:00</td>\n",
              "    </tr>\n",
              "    <tr>\n",
              "      <td>16</td>\n",
              "      <td>0.019165</td>\n",
              "      <td>0.027371</td>\n",
              "      <td>0.977429</td>\n",
              "      <td>00:00</td>\n",
              "    </tr>\n",
              "    <tr>\n",
              "      <td>17</td>\n",
              "      <td>0.018740</td>\n",
              "      <td>0.026729</td>\n",
              "      <td>0.977429</td>\n",
              "      <td>00:00</td>\n",
              "    </tr>\n",
              "    <tr>\n",
              "      <td>18</td>\n",
              "      <td>0.018353</td>\n",
              "      <td>0.026152</td>\n",
              "      <td>0.977920</td>\n",
              "      <td>00:00</td>\n",
              "    </tr>\n",
              "    <tr>\n",
              "      <td>19</td>\n",
              "      <td>0.018001</td>\n",
              "      <td>0.025629</td>\n",
              "      <td>0.978901</td>\n",
              "      <td>00:00</td>\n",
              "    </tr>\n",
              "    <tr>\n",
              "      <td>20</td>\n",
              "      <td>0.017676</td>\n",
              "      <td>0.025154</td>\n",
              "      <td>0.978901</td>\n",
              "      <td>00:00</td>\n",
              "    </tr>\n",
              "    <tr>\n",
              "      <td>21</td>\n",
              "      <td>0.017376</td>\n",
              "      <td>0.024720</td>\n",
              "      <td>0.979392</td>\n",
              "      <td>00:00</td>\n",
              "    </tr>\n",
              "    <tr>\n",
              "      <td>22</td>\n",
              "      <td>0.017098</td>\n",
              "      <td>0.024322</td>\n",
              "      <td>0.979882</td>\n",
              "      <td>00:00</td>\n",
              "    </tr>\n",
              "    <tr>\n",
              "      <td>23</td>\n",
              "      <td>0.016839</td>\n",
              "      <td>0.023955</td>\n",
              "      <td>0.980373</td>\n",
              "      <td>00:00</td>\n",
              "    </tr>\n",
              "    <tr>\n",
              "      <td>24</td>\n",
              "      <td>0.016595</td>\n",
              "      <td>0.023617</td>\n",
              "      <td>0.980373</td>\n",
              "      <td>00:00</td>\n",
              "    </tr>\n",
              "    <tr>\n",
              "      <td>25</td>\n",
              "      <td>0.016367</td>\n",
              "      <td>0.023304</td>\n",
              "      <td>0.980864</td>\n",
              "      <td>00:00</td>\n",
              "    </tr>\n",
              "    <tr>\n",
              "      <td>26</td>\n",
              "      <td>0.016152</td>\n",
              "      <td>0.023014</td>\n",
              "      <td>0.981354</td>\n",
              "      <td>00:00</td>\n",
              "    </tr>\n",
              "    <tr>\n",
              "      <td>27</td>\n",
              "      <td>0.015949</td>\n",
              "      <td>0.022745</td>\n",
              "      <td>0.981354</td>\n",
              "      <td>00:00</td>\n",
              "    </tr>\n",
              "    <tr>\n",
              "      <td>28</td>\n",
              "      <td>0.015757</td>\n",
              "      <td>0.022494</td>\n",
              "      <td>0.981845</td>\n",
              "      <td>00:00</td>\n",
              "    </tr>\n",
              "    <tr>\n",
              "      <td>29</td>\n",
              "      <td>0.015574</td>\n",
              "      <td>0.022259</td>\n",
              "      <td>0.982826</td>\n",
              "      <td>00:00</td>\n",
              "    </tr>\n",
              "    <tr>\n",
              "      <td>30</td>\n",
              "      <td>0.015401</td>\n",
              "      <td>0.022040</td>\n",
              "      <td>0.982336</td>\n",
              "      <td>00:00</td>\n",
              "    </tr>\n",
              "    <tr>\n",
              "      <td>31</td>\n",
              "      <td>0.015235</td>\n",
              "      <td>0.021834</td>\n",
              "      <td>0.982826</td>\n",
              "      <td>00:00</td>\n",
              "    </tr>\n",
              "    <tr>\n",
              "      <td>32</td>\n",
              "      <td>0.015077</td>\n",
              "      <td>0.021641</td>\n",
              "      <td>0.983317</td>\n",
              "      <td>00:00</td>\n",
              "    </tr>\n",
              "    <tr>\n",
              "      <td>33</td>\n",
              "      <td>0.014926</td>\n",
              "      <td>0.021460</td>\n",
              "      <td>0.983317</td>\n",
              "      <td>00:00</td>\n",
              "    </tr>\n",
              "    <tr>\n",
              "      <td>34</td>\n",
              "      <td>0.014781</td>\n",
              "      <td>0.021288</td>\n",
              "      <td>0.983317</td>\n",
              "      <td>00:00</td>\n",
              "    </tr>\n",
              "    <tr>\n",
              "      <td>35</td>\n",
              "      <td>0.014642</td>\n",
              "      <td>0.021127</td>\n",
              "      <td>0.982826</td>\n",
              "      <td>00:00</td>\n",
              "    </tr>\n",
              "    <tr>\n",
              "      <td>36</td>\n",
              "      <td>0.014509</td>\n",
              "      <td>0.020973</td>\n",
              "      <td>0.982826</td>\n",
              "      <td>00:00</td>\n",
              "    </tr>\n",
              "    <tr>\n",
              "      <td>37</td>\n",
              "      <td>0.014380</td>\n",
              "      <td>0.020828</td>\n",
              "      <td>0.982826</td>\n",
              "      <td>00:00</td>\n",
              "    </tr>\n",
              "    <tr>\n",
              "      <td>38</td>\n",
              "      <td>0.014255</td>\n",
              "      <td>0.020690</td>\n",
              "      <td>0.982826</td>\n",
              "      <td>00:00</td>\n",
              "    </tr>\n",
              "    <tr>\n",
              "      <td>39</td>\n",
              "      <td>0.014135</td>\n",
              "      <td>0.020558</td>\n",
              "      <td>0.982826</td>\n",
              "      <td>00:00</td>\n",
              "    </tr>\n",
              "  </tbody>\n",
              "</table>"
            ],
            "text/plain": [
              "<IPython.core.display.HTML object>"
            ]
          },
          "metadata": {
            "tags": []
          }
        }
      ]
    },
    {
      "cell_type": "code",
      "metadata": {
        "colab": {
          "base_uri": "https://localhost:8080/",
          "height": 271
        },
        "id": "U2qg_e5svZ39",
        "outputId": "842febe6-88ee-43ec-c90d-89d58639d20e"
      },
      "source": [
        "# From the learn.recorder we are making use of those attributes \n",
        "\n",
        "plt.plot(L(learn.recorder.values).itemgot(2));"
      ],
      "execution_count": 269,
      "outputs": [
        {
          "output_type": "display_data",
          "data": {
            "image/png": "[encoded data removed]",
            "text/plain": [
              "<Figure size 432x288 with 1 Axes>"
            ]
          },
          "metadata": {
            "tags": [],
            "needs_background": "light"
          }
        }
      ]
    },
    {
      "cell_type": "code",
      "metadata": {
        "colab": {
          "base_uri": "https://localhost:8080/"
        },
        "id": "9DhkIEI3wToO",
        "outputId": "c443cfe9-643c-4f8f-f6e0-4f9cf7246408"
      },
      "source": [
        "# Printing out the final accuracy \n",
        "\n",
        "final_acc = learn.recorder.values[-1][2]\n",
        "print(f'The final accuracy of the above neural net is {final_acc}')"
      ],
      "execution_count": 270,
      "outputs": [
        {
          "output_type": "stream",
          "text": [
            "The final accuracy of the above neural net is 0.982826292514801\n"
          ],
          "name": "stdout"
        }
      ]
    },
    {
      "cell_type": "markdown",
      "metadata": {
        "id": "EfEl0lBWwscQ"
      },
      "source": [
        "Well now we have two things, \n",
        "\n",
        "- A function that can solve any problem to any level of accuracy by giving the correct set of parameters (neural net).\n",
        "- A way to find the best set of parameters for any function (SGD).\n",
        "\n",
        "**About Deeper model**\n",
        "\n",
        "For deeper model we don't need to use **many parameters**, it turns out that we can use **smaller matrices**, with more layers and get better results than we would get with larger matrices with just few layers.\n",
        "\n",
        "Neural network contains a lot of numbers, but they are only two types of numbers that are calculated and the parameters that these numbers are calculated from. \n",
        "\n",
        "***Activations***\n",
        "\n",
        "Numbers that are calculated both by linear and non - linearity. \n",
        "\n",
        "***Parameters***\n",
        "\n",
        "Numbers that are randomly initialized and optimized ( numbers that define the model). \n",
        "\n",
        "**Part of becoming a good deep learning practitioner is getting used to the idea of looking at your activations and parameters, and plotting them and testing whether they are behaving correctly.**"
      ]
    },
    {
      "cell_type": "code",
      "metadata": {
        "id": "nlGil6DT03e7"
      },
      "source": [
        ""
      ],
      "execution_count": null,
      "outputs": []
    }
  ]
}