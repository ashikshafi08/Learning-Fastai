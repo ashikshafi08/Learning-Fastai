{
  "nbformat": 4,
  "nbformat_minor": 0,
  "metadata": {
    "colab": {
      "name": "Neural_Networks_101.ipynb",
      "provenance": [],
      "collapsed_sections": [],
      "authorship_tag": "ABX9TyPq2JisrKhDED7P7kBOSrE6",
      "include_colab_link": true
    },
    "kernelspec": {
      "name": "python3",
      "display_name": "Python 3"
    },
    "language_info": {
      "name": "python"
    },
    "accelerator": "GPU"
  },
  "cells": [
    {
      "cell_type": "markdown",
      "metadata": {
        "id": "view-in-github",
        "colab_type": "text"
      },
      "source": [
        "<a href=\"https://colab.research.google.com/github/ashikshafi08/Learning-Fastai/blob/main/blog/Neural_Networks_101.ipynb\" target=\"_parent\"><img src=\"https://colab.research.google.com/assets/colab-badge.svg\" alt=\"Open In Colab\"/></a>"
      ]
    },
    {
      "cell_type": "markdown",
      "metadata": {
        "id": "oSo3qeLsxrRr"
      },
      "source": [
        "# Neural Networks 101 Part 2 \n",
        "\n",
        "Hope you guys read the previous part of this blog, where we discussed about the following topics, \n",
        "- When do we call a ‘program’ a machine learning model?\n",
        "- How to convert a traditional program into a machine learning model \n",
        "- SGD steps \n",
        "- What are gradients \n",
        "\n",
        "If you didnt read the previous part, make sure to check it out here [Neural Networks 101 — Part 1](https://medium.com/artificialis/neural-networks-101-88d4b1f5d854) \n",
        "\n",
        "\n",
        "## What we're going to cover? \n",
        "We've played enough with the theory, now its time to get our hands dirty with code. In this we will write pytorch and fastai code in order to represent the 7 steps in code. \n",
        "\n",
        "Also we will use the mnist data. "
      ]
    },
    {
      "cell_type": "code",
      "metadata": {
        "id": "tG2k2HENyzJh",
        "colab": {
          "base_uri": "https://localhost:8080/"
        },
        "outputId": "b1254a50-459c-443d-fcdc-90536ea6a2cd"
      },
      "source": [
        "# Installing fastai \n",
        "!pip install fastai --upgrade "
      ],
      "execution_count": 1,
      "outputs": [
        {
          "output_type": "stream",
          "name": "stdout",
          "text": [
            "Requirement already satisfied: fastai in /usr/local/lib/python3.7/dist-packages (2.5.2)\n",
            "Requirement already satisfied: fastprogress>=0.2.4 in /usr/local/lib/python3.7/dist-packages (from fastai) (1.0.0)\n",
            "Requirement already satisfied: spacy<4 in /usr/local/lib/python3.7/dist-packages (from fastai) (2.2.4)\n",
            "Requirement already satisfied: torchvision>=0.8.2 in /usr/local/lib/python3.7/dist-packages (from fastai) (0.10.0+cu102)\n",
            "Requirement already satisfied: pillow>6.0.0 in /usr/local/lib/python3.7/dist-packages (from fastai) (7.1.2)\n",
            "Requirement already satisfied: torch<1.10,>=1.7.0 in /usr/local/lib/python3.7/dist-packages (from fastai) (1.9.0+cu102)\n",
            "Requirement already satisfied: pip in /usr/local/lib/python3.7/dist-packages (from fastai) (21.1.3)\n",
            "Requirement already satisfied: scipy in /usr/local/lib/python3.7/dist-packages (from fastai) (1.4.1)\n",
            "Requirement already satisfied: fastdownload<2,>=0.0.5 in /usr/local/lib/python3.7/dist-packages (from fastai) (0.0.5)\n",
            "Requirement already satisfied: matplotlib in /usr/local/lib/python3.7/dist-packages (from fastai) (3.2.2)\n",
            "Requirement already satisfied: packaging in /usr/local/lib/python3.7/dist-packages (from fastai) (21.0)\n",
            "Requirement already satisfied: scikit-learn in /usr/local/lib/python3.7/dist-packages (from fastai) (0.22.2.post1)\n",
            "Requirement already satisfied: fastcore<1.4,>=1.3.8 in /usr/local/lib/python3.7/dist-packages (from fastai) (1.3.26)\n",
            "Requirement already satisfied: pyyaml in /usr/local/lib/python3.7/dist-packages (from fastai) (3.13)\n",
            "Requirement already satisfied: pandas in /usr/local/lib/python3.7/dist-packages (from fastai) (1.1.5)\n",
            "Requirement already satisfied: requests in /usr/local/lib/python3.7/dist-packages (from fastai) (2.23.0)\n",
            "Requirement already satisfied: numpy in /usr/local/lib/python3.7/dist-packages (from fastprogress>=0.2.4->fastai) (1.19.5)\n",
            "Requirement already satisfied: cymem<2.1.0,>=2.0.2 in /usr/local/lib/python3.7/dist-packages (from spacy<4->fastai) (2.0.5)\n",
            "Requirement already satisfied: srsly<1.1.0,>=1.0.2 in /usr/local/lib/python3.7/dist-packages (from spacy<4->fastai) (1.0.5)\n",
            "Requirement already satisfied: tqdm<5.0.0,>=4.38.0 in /usr/local/lib/python3.7/dist-packages (from spacy<4->fastai) (4.62.2)\n",
            "Requirement already satisfied: wasabi<1.1.0,>=0.4.0 in /usr/local/lib/python3.7/dist-packages (from spacy<4->fastai) (0.8.2)\n",
            "Requirement already satisfied: murmurhash<1.1.0,>=0.28.0 in /usr/local/lib/python3.7/dist-packages (from spacy<4->fastai) (1.0.5)\n",
            "Requirement already satisfied: setuptools in /usr/local/lib/python3.7/dist-packages (from spacy<4->fastai) (57.4.0)\n",
            "Requirement already satisfied: plac<1.2.0,>=0.9.6 in /usr/local/lib/python3.7/dist-packages (from spacy<4->fastai) (1.1.3)\n",
            "Requirement already satisfied: catalogue<1.1.0,>=0.0.7 in /usr/local/lib/python3.7/dist-packages (from spacy<4->fastai) (1.0.0)\n",
            "Requirement already satisfied: preshed<3.1.0,>=3.0.2 in /usr/local/lib/python3.7/dist-packages (from spacy<4->fastai) (3.0.5)\n",
            "Requirement already satisfied: thinc==7.4.0 in /usr/local/lib/python3.7/dist-packages (from spacy<4->fastai) (7.4.0)\n",
            "Requirement already satisfied: blis<0.5.0,>=0.4.0 in /usr/local/lib/python3.7/dist-packages (from spacy<4->fastai) (0.4.1)\n",
            "Requirement already satisfied: importlib-metadata>=0.20 in /usr/local/lib/python3.7/dist-packages (from catalogue<1.1.0,>=0.0.7->spacy<4->fastai) (4.8.1)\n",
            "Requirement already satisfied: zipp>=0.5 in /usr/local/lib/python3.7/dist-packages (from importlib-metadata>=0.20->catalogue<1.1.0,>=0.0.7->spacy<4->fastai) (3.5.0)\n",
            "Requirement already satisfied: typing-extensions>=3.6.4 in /usr/local/lib/python3.7/dist-packages (from importlib-metadata>=0.20->catalogue<1.1.0,>=0.0.7->spacy<4->fastai) (3.7.4.3)\n",
            "Requirement already satisfied: urllib3!=1.25.0,!=1.25.1,<1.26,>=1.21.1 in /usr/local/lib/python3.7/dist-packages (from requests->fastai) (1.24.3)\n",
            "Requirement already satisfied: chardet<4,>=3.0.2 in /usr/local/lib/python3.7/dist-packages (from requests->fastai) (3.0.4)\n",
            "Requirement already satisfied: certifi>=2017.4.17 in /usr/local/lib/python3.7/dist-packages (from requests->fastai) (2021.5.30)\n",
            "Requirement already satisfied: idna<3,>=2.5 in /usr/local/lib/python3.7/dist-packages (from requests->fastai) (2.10)\n",
            "Requirement already satisfied: python-dateutil>=2.1 in /usr/local/lib/python3.7/dist-packages (from matplotlib->fastai) (2.8.2)\n",
            "Requirement already satisfied: kiwisolver>=1.0.1 in /usr/local/lib/python3.7/dist-packages (from matplotlib->fastai) (1.3.2)\n",
            "Requirement already satisfied: pyparsing!=2.0.4,!=2.1.2,!=2.1.6,>=2.0.1 in /usr/local/lib/python3.7/dist-packages (from matplotlib->fastai) (2.4.7)\n",
            "Requirement already satisfied: cycler>=0.10 in /usr/local/lib/python3.7/dist-packages (from matplotlib->fastai) (0.10.0)\n",
            "Requirement already satisfied: six in /usr/local/lib/python3.7/dist-packages (from cycler>=0.10->matplotlib->fastai) (1.15.0)\n",
            "Requirement already satisfied: pytz>=2017.2 in /usr/local/lib/python3.7/dist-packages (from pandas->fastai) (2018.9)\n",
            "Requirement already satisfied: joblib>=0.11 in /usr/local/lib/python3.7/dist-packages (from scikit-learn->fastai) (1.0.1)\n"
          ]
        }
      ]
    },
    {
      "cell_type": "markdown",
      "metadata": {
        "id": "i0h0BO6aztU6"
      },
      "source": [
        "Before getting started lets get our data and preprocess it for further process. \n",
        "\n",
        "## Data Preprocessing"
      ]
    },
    {
      "cell_type": "code",
      "metadata": {
        "id": "jhLlR5RM3rgK"
      },
      "source": [
        "# Importing fastai and torch \n",
        "import torch \n",
        "from fastai import * \n",
        "from fastai.vision.all import * "
      ],
      "execution_count": 2,
      "outputs": []
    },
    {
      "cell_type": "markdown",
      "metadata": {
        "id": "7GuwAxDj36Cn"
      },
      "source": [
        "## Calculating Gradients with pytorch "
      ]
    },
    {
      "cell_type": "code",
      "metadata": {
        "id": "Ga-CnNZn4686"
      },
      "source": [
        "# Creating a tensor (that will keep track of the gradients of the value)\n",
        "xt = tensor(8.).requires_grad_()"
      ],
      "execution_count": 3,
      "outputs": []
    },
    {
      "cell_type": "code",
      "metadata": {
        "colab": {
          "base_uri": "https://localhost:8080/"
        },
        "id": "s6At2wZT5I6Q",
        "outputId": "5d00e16b-6de5-4120-b65d-782ebe949321"
      },
      "source": [
        "# Our sample loss function \n",
        "def f(x):\n",
        "  return x**2\n",
        "\n",
        "# Performing some computations with the variable xt \n",
        "yt = f(xt)\n",
        "print(yt)"
      ],
      "execution_count": 4,
      "outputs": [
        {
          "output_type": "stream",
          "name": "stdout",
          "text": [
            "tensor(64., grad_fn=<PowBackward0>)\n"
          ]
        }
      ]
    },
    {
      "cell_type": "code",
      "metadata": {
        "id": "-irgUrz85c0s"
      },
      "source": [
        "# Now we're telling Pytorch to calculate the gradients \n",
        "# This will give us the gradients \n",
        "\n",
        "yt.backward() "
      ],
      "execution_count": 5,
      "outputs": []
    },
    {
      "cell_type": "code",
      "metadata": {
        "colab": {
          "base_uri": "https://localhost:8080/"
        },
        "id": "qNjn6Iu17c7H",
        "outputId": "e24ef4dc-77b6-41a9-905e-3736b9098452"
      },
      "source": [
        "# Now looking at the gradients calculated on our variable\n",
        "xt.grad"
      ],
      "execution_count": 6,
      "outputs": [
        {
          "output_type": "execute_result",
          "data": {
            "text/plain": [
              "tensor(16.)"
            ]
          },
          "metadata": {},
          "execution_count": 6
        }
      ]
    },
    {
      "cell_type": "markdown",
      "metadata": {
        "id": "ZBw2m0kp-xii"
      },
      "source": [
        "> **Note** : The graidents will tell us only the slope of our function, they don't really say how far we should adjust the parameters.\n",
        "\n",
        "\n",
        "So how to tell our parameters the way they should move in order to minimize the loss? \n",
        "\n",
        "**Learning Rate** \n",
        "\n",
        "- The gradients tells us the directions but not the magnitude of the direction (i.e the step we have to take).\n",
        "- This is where our **learning rate** helps, it tells us how large each step should be. Or in other words it gives us the scale of how much we should trust the gradients and step in the direction of that gradient.\n",
        "\n",
        "So we will multiply gradient by a small number (learning rate) to step the weights. \n",
        "\n"
      ]
    },
    {
      "cell_type": "markdown",
      "metadata": {
        "id": "2fN0DnID-7Mb"
      },
      "source": [
        "## And End-to-End SGD Example \n",
        "\n",
        "Here we will code out the entire 7 steps that we saw in the blog! \n",
        "\n",
        "Lets re-visit the 7 steps, \n",
        "- **Step 1**: Find a way to initialize random weights.\n",
        "- **Step 2**: And for each image, use these weights to predict whether it appears to be a `3` or a `7`.\n",
        "- **Step 3**: Based on the above predictions calculate how good the model is. This is where we introduce the term called loss function.\n",
        "- **Step 4**: Calculate the gradient, which plays a crucial role in weight assignment. It will tell us how to change the weights so that our loss would change.\n",
        "- **Step 5**: Step the weights, that is change the weights based on the gradients calculated.\n",
        "- **Step 6**: Go back to Step 2 and repeat the process.\n",
        "- **Step 7**: Iterate until we decide to stop the training process."
      ]
    },
    {
      "cell_type": "code",
      "metadata": {
        "id": "hmdaCqrkBmuO"
      },
      "source": [
        "# Creating dummy data for our example \n",
        "# Time \n",
        "time = torch.arange(0 , 20).float()\n",
        "\n",
        "# Calculating the speed for the time step \n",
        "speed = torch.randn(20)*3 + 0.75*(time -9.5)**2 + 1"
      ],
      "execution_count": 7,
      "outputs": []
    },
    {
      "cell_type": "markdown",
      "metadata": {
        "id": "YzpfWnJZCjeG"
      },
      "source": [
        "We know the fact while calculating gradients we need a function that takes in inputs and give us the predictions. Further with the prediction and the targets we compute the gradients and so on... \n",
        "\n",
        "Now lets create that function which does the computation. This function takes in the input and random initialized parameters. \n",
        "\n",
        "```\n",
        "x -> inputs   |\n",
        "w -> weights  |   f = x * w (params multiplied with inputs)\n",
        "f -> function |\n",
        "```\n"
      ]
    },
    {
      "cell_type": "code",
      "metadata": {
        "id": "Qy5SgxaHCznG"
      },
      "source": [
        "# Writing the function which multiplies our input and the parameter \n",
        "def func(t , params):\n",
        "  '''\n",
        "  Takes in our time (input) and the params (parameters)\n",
        "\n",
        "  Compute the equation of form --> a*(t**2) + (b*t) + c\n",
        "  '''\n",
        "  # Unpacking the parameters \n",
        "  a , b , c = params \n",
        "  return a*(t**2) + (b*t) + c"
      ],
      "execution_count": 8,
      "outputs": []
    },
    {
      "cell_type": "markdown",
      "metadata": {
        "id": "ZXLYB8evFVw9"
      },
      "source": [
        "Perfect! Whats yet left? \n",
        "\n",
        "Well our loss function, we found a way to get our predictions and now all we need is a loss function that will let us know how bad our predictions are, so we can improve it by minimizing the loss. \n",
        "\n",
        "Lets get em! "
      ]
    },
    {
      "cell_type": "code",
      "metadata": {
        "id": "iMxTXVd7Fo4g"
      },
      "source": [
        "# Defining our loss function \n",
        "def mse(preds , targs):\n",
        "  return ((preds - targs)**2).mean()"
      ],
      "execution_count": 9,
      "outputs": []
    },
    {
      "cell_type": "markdown",
      "metadata": {
        "id": "61Y1Px5VHXBa"
      },
      "source": [
        "Oops... Did we forget something? \n",
        "\n",
        "Well think about it... \n",
        "\n",
        "We got our function , loss function and what else is left? \n",
        "\n",
        "Our parameters.."
      ]
    },
    {
      "cell_type": "code",
      "metadata": {
        "colab": {
          "base_uri": "https://localhost:8080/"
        },
        "id": "0Yx4KYMuNYVj",
        "outputId": "afd2c293-564f-4270-8e40-52b5aa2a4490"
      },
      "source": [
        "# Initialize the parameters (random)\n",
        "params = torch.randn(3).requires_grad_()\n",
        "params "
      ],
      "execution_count": 10,
      "outputs": [
        {
          "output_type": "execute_result",
          "data": {
            "text/plain": [
              "tensor([-0.9288, -0.7495, -1.4803], requires_grad=True)"
            ]
          },
          "metadata": {},
          "execution_count": 10
        }
      ]
    },
    {
      "cell_type": "code",
      "metadata": {
        "colab": {
          "base_uri": "https://localhost:8080/"
        },
        "id": "7ufc5xkZNd2F",
        "outputId": "22b01a10-8359-4b82-8f44-e7e9733bcc98"
      },
      "source": [
        "# Lets calculate our predictions \n",
        "preds = func(time , params)\n",
        "preds"
      ],
      "execution_count": 11,
      "outputs": [
        {
          "output_type": "execute_result",
          "data": {
            "text/plain": [
              "tensor([  -1.4803,   -3.1586,   -6.6945,  -12.0878,  -19.3387,  -28.4471,\n",
              "         -39.4130,  -52.2364,  -66.9174,  -83.4559, -101.8519, -122.1055,\n",
              "        -144.2165, -168.1851, -194.0112, -221.6949, -251.2361, -282.6347,\n",
              "        -315.8910, -351.0047], grad_fn=<AddBackward0>)"
            ]
          },
          "metadata": {},
          "execution_count": 11
        }
      ]
    },
    {
      "cell_type": "code",
      "metadata": {
        "id": "DyWr4l9qOrAW"
      },
      "source": [
        "# Now the next step would be the loss function \n",
        "loss = mse(preds , speed)\n",
        "\n",
        "# Calculating the gradients from the loss funtion \n",
        "loss.backward() "
      ],
      "execution_count": 12,
      "outputs": []
    },
    {
      "cell_type": "code",
      "metadata": {
        "colab": {
          "base_uri": "https://localhost:8080/"
        },
        "id": "olhKTROCU9Cv",
        "outputId": "f7592e86-3388-43ec-9ce9-ac84c961cdcf"
      },
      "source": [
        "# We will get the gradients for a, b and c \n",
        "params.grad "
      ],
      "execution_count": 13,
      "outputs": [
        {
          "output_type": "execute_result",
          "data": {
            "text/plain": [
              "tensor([-62920.3516,  -4047.7341,   -298.2272])"
            ]
          },
          "metadata": {},
          "execution_count": 13
        }
      ]
    },
    {
      "cell_type": "code",
      "metadata": {
        "id": "Ngatz6QOVAGQ"
      },
      "source": [
        "# Now lets multiply learning rate with gradients to step up the weights \n",
        "lr = 1e-3 \n",
        "\n",
        "params.data -= lr * params.grad.data \n",
        "\n",
        "# Setting params to None \n",
        "params.grad = None "
      ],
      "execution_count": 14,
      "outputs": []
    },
    {
      "cell_type": "markdown",
      "metadata": {
        "id": "nkf71vxWVXUE"
      },
      "source": [
        "Perfect so far! Now lets put back everything in one stand alone function. "
      ]
    },
    {
      "cell_type": "code",
      "metadata": {
        "id": "BJRu23AIOgPc"
      },
      "source": [
        "# Putting everything into a function "
      ],
      "execution_count": 15,
      "outputs": []
    },
    {
      "cell_type": "markdown",
      "metadata": {
        "id": "S0RwAdMjOkdH"
      },
      "source": [
        "Lets re-visit the 7 steps, \n",
        "- **Step 1**: Find a way to initialize random weights.\n",
        "- **Step 2**: And for each image, use these weights to predict whether it appears to be a `3` or a `7`.\n",
        "- **Step 3**: Based on the above predictions calculate how good the model is. This is where we introduce the term called loss function.\n",
        "- **Step 4**: Calculate the gradient, which plays a crucial role in weight assignment. It will tell us how to change the weights so that our loss would change.\n",
        "- **Step 5**: Step the weights, that is change the weights based on the gradients calculated.\n",
        "- **Step 6**: Go back to Step 2 and repeat the process.\n",
        "- **Step 7**: Iterate until we decide to stop the training process."
      ]
    },
    {
      "cell_type": "code",
      "metadata": {
        "id": "jztY2N9dOrij"
      },
      "source": [
        "def end_to_end(prn = True , lr = 1e-3):\n",
        "  '''\n",
        "  Takes in the parameters as their arguments, computes the seven steps that makes a traditional program into a machine learning model\n",
        "  '''\n",
        "  # Step 1: Find a way to initialize the weights \n",
        "  params = torch.randn(3).requires_grad_()\n",
        "\n",
        "  # Step 2: Calculating the predictions \n",
        "  preds = func(time , params)\n",
        "\n",
        "  # Step 3: Now time to calculate the loss \n",
        "  loss = mse(preds , speed)\n",
        "\n",
        "  # Step 4: Initiating back propagation and time for calculating the gradients to improve our params \n",
        "  loss.backward() \n",
        "\n",
        "  # Step 5: Step the weights with learning rate (so we get a direction on how to move our params)\n",
        "  params.data -= lr * params.grad.data \n",
        "  # Set gradients back to none for the next iteration, so the old values wont add up with existing one \n",
        "  params.grad = None \n",
        "  \n",
        "  # Step 6 and 7 depends on the iteration we are running this function for \n",
        "  if prn: \n",
        "    print(loss.item())\n",
        "  return preds\n",
        "\n",
        "\n"
      ],
      "execution_count": 16,
      "outputs": []
    },
    {
      "cell_type": "code",
      "metadata": {
        "colab": {
          "base_uri": "https://localhost:8080/"
        },
        "id": "pXrqW70qQnUi",
        "outputId": "554f73b1-5ad3-4c40-ee80-c86433a0ea7a"
      },
      "source": [
        "# Now by iterating for N number of times we get the Step 6 and 7\n",
        "for i in range(10):\n",
        "  end_to_end()"
      ],
      "execution_count": 17,
      "outputs": [
        {
          "output_type": "stream",
          "name": "stdout",
          "text": [
            "1469.0186767578125\n",
            "9179.2958984375\n",
            "44846.9765625\n",
            "13225.7158203125\n",
            "7813.4716796875\n",
            "11886.7919921875\n",
            "83430.59375\n",
            "1729.3951416015625\n",
            "49318.3046875\n",
            "91888.6015625\n"
          ]
        }
      ]
    },
    {
      "cell_type": "markdown",
      "metadata": {
        "id": "hS0BX09wQyaW"
      },
      "source": [
        "Alright enough playing with a dummy data, now lets apply the same principle for our mnist sample data. Also we will be using Pytorch and Fastai functionality to speed up the process. "
      ]
    },
    {
      "cell_type": "markdown",
      "metadata": {
        "id": "CO9YI3mRcdQ7"
      },
      "source": [
        "## Wrapping up with Fastai"
      ]
    },
    {
      "cell_type": "code",
      "metadata": {
        "id": "KvSefOVhNM5w"
      },
      "source": [
        "# Loading the mnist data and untar it\n",
        "data_path = untar_data(URLs.MNIST)"
      ],
      "execution_count": 18,
      "outputs": []
    },
    {
      "cell_type": "code",
      "metadata": {
        "colab": {
          "base_uri": "https://localhost:8080/"
        },
        "id": "l2lvBSr5Y7_B",
        "outputId": "4802dfbc-0fc3-4b98-82fb-6cd3031164b6"
      },
      "source": [
        "# Getting thhe filenames because the Datasets accepts a list of filenames \n",
        "item_fns = get_image_files(data_path)\n",
        "\n",
        "# Looking inside \n",
        "item_fns[:10]"
      ],
      "execution_count": 19,
      "outputs": [
        {
          "output_type": "execute_result",
          "data": {
            "text/plain": [
              "(#10) [Path('/root/.fastai/data/mnist_png/testing/8/5940.png'),Path('/root/.fastai/data/mnist_png/testing/8/3949.png'),Path('/root/.fastai/data/mnist_png/testing/8/4626.png'),Path('/root/.fastai/data/mnist_png/testing/8/7378.png'),Path('/root/.fastai/data/mnist_png/testing/8/2004.png'),Path('/root/.fastai/data/mnist_png/testing/8/4362.png'),Path('/root/.fastai/data/mnist_png/testing/8/3197.png'),Path('/root/.fastai/data/mnist_png/testing/8/543.png'),Path('/root/.fastai/data/mnist_png/testing/8/8015.png'),Path('/root/.fastai/data/mnist_png/testing/8/7428.png')]"
            ]
          },
          "metadata": {},
          "execution_count": 19
        }
      ]
    },
    {
      "cell_type": "code",
      "metadata": {
        "id": "00RXkiRgZZYS"
      },
      "source": [
        "# Splitting our data using the GrandParentSplitter --> looks for train and valid/test folders \n",
        "splits = GrandparentSplitter(train_name= 'training' , valid_name= 'testing')\n",
        "splits = splits(item_fns)"
      ],
      "execution_count": 20,
      "outputs": []
    },
    {
      "cell_type": "markdown",
      "metadata": {
        "id": "tbRR02Aidjb1"
      },
      "source": [
        "The `splits` itself doesnt do the splitting, we've just creates an instance of the objeect, where passing the items later will give us the train and test sets. "
      ]
    },
    {
      "cell_type": "code",
      "metadata": {
        "colab": {
          "base_uri": "https://localhost:8080/",
          "height": 102
        },
        "id": "rXHWPhxIdwmE",
        "outputId": "24fd7e83-b3e4-407d-ffd3-8b48ea86af01"
      },
      "source": [
        "# How does the filename looks like? \n",
        "im = PILImageBW.create(item_fns[5]) # 5th filename \n",
        "im.show()"
      ],
      "execution_count": 21,
      "outputs": [
        {
          "output_type": "execute_result",
          "data": {
            "text/plain": [
              "<matplotlib.axes._subplots.AxesSubplot at 0x7f8ba0f65450>"
            ]
          },
          "metadata": {},
          "execution_count": 21
        },
        {
          "output_type": "display_data",
          "data": {
            "image/png": "[encoded data removed]",
            "text/plain": [
              "<Figure size 72x72 with 1 Axes>"
            ]
          },
          "metadata": {
            "needs_background": "light"
          }
        }
      ]
    },
    {
      "cell_type": "markdown",
      "metadata": {
        "id": "Qi6VTGy7gChI"
      },
      "source": [
        "Breaking down the above function: \n",
        "- `PILImageBW` -> creates a PIL image (accepts a filepath)\n",
        "- `.create` -> takes care of the preprocessing before going into the model. This is applicable for both X and y, more like a custom implementation for the various inputs. "
      ]
    },
    {
      "cell_type": "markdown",
      "metadata": {
        "id": "KXCv5uVFgYTL"
      },
      "source": [
        "Great now lets build a Datasets which expects , \n",
        "- the items we want to use \n",
        "- the transforms (how the inputs and outputs should be constructed and spits out)\n",
        "- the type of split (train and test)\n",
        "\n",
        "\n",
        "\n"
      ]
    },
    {
      "cell_type": "code",
      "metadata": {
        "id": "iC3r59bpiKV3"
      },
      "source": [
        "dsets  = Datasets(items = item_fns , \n",
        "                  tfms = [[PILImageBW.create] , [parent_label , Categorize]] , \n",
        "                  splits = splits)"
      ],
      "execution_count": 22,
      "outputs": []
    },
    {
      "cell_type": "markdown",
      "metadata": {
        "id": "krJi_XZ1i1Ok"
      },
      "source": [
        "We got our filenames into images, but for a machine learning model we have to convert our images into tensors (numerical representation) and make it easy for our model to learn patterns on it. \n",
        "\n",
        "We need to give ourselves some transforms on the data! These will need to:\n",
        "\n",
        "- Ensure our images are all the same size\n",
        "- Make sure our output are the tensor our models are wanting\n",
        "- Give some image augmentation"
      ]
    },
    {
      "cell_type": "code",
      "metadata": {
        "id": "eeHLI1uljoVD"
      },
      "source": [
        "# Creating transforms for our data by hand (left to right)\n",
        "tfms = [ToTensor() , CropPad(size = 34 , pad_mode = PadMode.Zeros) , RandomCrop(size = 28)]\n"
      ],
      "execution_count": 23,
      "outputs": []
    },
    {
      "cell_type": "markdown",
      "metadata": {
        "id": "XjEzg8l1kCUJ"
      },
      "source": [
        "We need one more thing atlast, that is transforms applied during the GPU instance or in other words transforms applied for every batches. \n",
        "\n",
        "We have to load our **Datasets** into a `DataLoaders` so it will help us to batch our data and sends batch of our whole data during the training time. "
      ]
    },
    {
      "cell_type": "code",
      "metadata": {
        "id": "QH9kkPFZlJMI"
      },
      "source": [
        "# Creating the batch transforms \n",
        "gpu_tfms = [IntToFloatTensor() , Normalize()]"
      ],
      "execution_count": 24,
      "outputs": []
    },
    {
      "cell_type": "markdown",
      "metadata": {
        "id": "kER9xyK-cLd1"
      },
      "source": [
        "Before the next step, we have to make our data into batches. But why do we need our data in batches? \n",
        "\n",
        "Well the importatn reason for having mini-batches is it could run on GPU, so the computations takes places even more faster. \n",
        "\n",
        "Also batching prevents the bias during training and helps the trainig converge faster. \n",
        "\n"
      ]
    },
    {
      "cell_type": "code",
      "metadata": {
        "colab": {
          "base_uri": "https://localhost:8080/",
          "height": 536
        },
        "id": "211x1NrQki3o",
        "outputId": "ac497452-bc85-4a7d-da9c-5128a7ac802b"
      },
      "source": [
        "# Building our dataloaders \n",
        "dls = dsets.dataloaders(bs = 128 , after_item= tfms , after_batch= gpu_tfms)\n",
        "\n",
        "# Visualizing the random batch images with transforms \n",
        "dls.show_batch()"
      ],
      "execution_count": 25,
      "outputs": [
        {
          "output_type": "display_data",
          "data": {
            "image/png": "[encoded data removed]",
            "text/plain": [
              "<Figure size 648x648 with 9 Axes>"
            ]
          },
          "metadata": {
            "needs_background": "light"
          }
        }
      ]
    },
    {
      "cell_type": "code",
      "metadata": {
        "id": "I7_m2kFXXwY6"
      },
      "source": [
        "def conv2(ni , nf):\n",
        "  return ConvLayer(ni , nf , stride = 2)"
      ],
      "execution_count": 26,
      "outputs": []
    },
    {
      "cell_type": "code",
      "metadata": {
        "id": "EaJrUSUhlXeK"
      },
      "source": [
        "# Constructing a simple model \n",
        "model = nn.Sequential(\n",
        "      conv2(1 , 8), \n",
        "      conv2(8 ,16), \n",
        "      conv2(16 , 32), \n",
        "      conv2(32 , 16), \n",
        "      conv2(16 , 10), \n",
        "      Flatten()\n",
        ")\n"
      ],
      "execution_count": 27,
      "outputs": []
    },
    {
      "cell_type": "code",
      "metadata": {
        "colab": {
          "base_uri": "https://localhost:8080/",
          "height": 95
        },
        "id": "AfJEvcM1XHXi",
        "outputId": "49e1e5d5-5c1c-434e-fc6b-84675d6954cc"
      },
      "source": [
        "# Creting a learner \n",
        "learn = Learner(dls , model , loss_func= CrossEntropyLossFlat() , metrics = accuracy)\n",
        "\n",
        "# Fitting the model for 3 epochs \n",
        "learn.fit_one_cycle(3 , lr_max = 1e-2)"
      ],
      "execution_count": null,
      "outputs": [
        {
          "output_type": "display_data",
          "data": {
            "text/html": [
              "\n",
              "    <div>\n",
              "        <style>\n",
              "            /* Turns off some styling */\n",
              "            progress {\n",
              "                /* gets rid of default border in Firefox and Opera. */\n",
              "                border: none;\n",
              "                /* Needs to be in here for Safari polyfill so background images work as expected. */\n",
              "                background-size: auto;\n",
              "            }\n",
              "            .progress-bar-interrupted, .progress-bar-interrupted::-webkit-progress-bar {\n",
              "                background: #F44336;\n",
              "            }\n",
              "        </style>\n",
              "      <progress value='0' class='' max='3' style='width:300px; height:20px; vertical-align: middle;'></progress>\n",
              "      0.00% [0/3 00:00<00:00]\n",
              "    </div>\n",
              "    \n",
              "<table border=\"1\" class=\"dataframe\">\n",
              "  <thead>\n",
              "    <tr style=\"text-align: left;\">\n",
              "      <th>epoch</th>\n",
              "      <th>train_loss</th>\n",
              "      <th>valid_loss</th>\n",
              "      <th>accuracy</th>\n",
              "      <th>time</th>\n",
              "    </tr>\n",
              "  </thead>\n",
              "  <tbody>\n",
              "  </tbody>\n",
              "</table><p>\n",
              "\n",
              "    <div>\n",
              "        <style>\n",
              "            /* Turns off some styling */\n",
              "            progress {\n",
              "                /* gets rid of default border in Firefox and Opera. */\n",
              "                border: none;\n",
              "                /* Needs to be in here for Safari polyfill so background images work as expected. */\n",
              "                background-size: auto;\n",
              "            }\n",
              "            .progress-bar-interrupted, .progress-bar-interrupted::-webkit-progress-bar {\n",
              "                background: #F44336;\n",
              "            }\n",
              "        </style>\n",
              "      <progress value='57' class='' max='468' style='width:300px; height:20px; vertical-align: middle;'></progress>\n",
              "      12.18% [57/468 00:12<01:31 2.1935]\n",
              "    </div>\n",
              "    "
            ],
            "text/plain": [
              "<IPython.core.display.HTML object>"
            ]
          },
          "metadata": {}
        }
      ]
    },
    {
      "cell_type": "code",
      "metadata": {
        "id": "uOunEOzCXghR"
      },
      "source": [
        ""
      ],
      "execution_count": null,
      "outputs": []
    }
  ]
}