{
  "nbformat": 4,
  "nbformat_minor": 0,
  "metadata": {
    "colab": {
      "name": "Fastai_Refresher.ipynb",
      "provenance": [],
      "collapsed_sections": [],
      "include_colab_link": true
    },
    "kernelspec": {
      "name": "python3",
      "display_name": "Python 3"
    },
    "language_info": {
      "name": "python"
    },
    "accelerator": "GPU",
    "widgets": {
      "application/vnd.jupyter.widget-state+json": {
        "116f113e04724d0f9a32e33ad2271af8": {
          "model_module": "@jupyter-widgets/controls",
          "model_name": "HBoxModel",
          "state": {
            "_view_name": "HBoxView",
            "_dom_classes": [],
            "_model_name": "HBoxModel",
            "_view_module": "@jupyter-widgets/controls",
            "_model_module_version": "1.5.0",
            "_view_count": null,
            "_view_module_version": "1.5.0",
            "box_style": "",
            "layout": "IPY_MODEL_e4d532198e2c4d14a69153cdd20e64ce",
            "_model_module": "@jupyter-widgets/controls",
            "children": [
              "IPY_MODEL_9d34960f5aa5401896b43ce09511ee9c",
              "IPY_MODEL_907fc51e14c34f9abea62e1b50957cfc"
            ]
          }
        },
        "e4d532198e2c4d14a69153cdd20e64ce": {
          "model_module": "@jupyter-widgets/base",
          "model_name": "LayoutModel",
          "state": {
            "_view_name": "LayoutView",
            "grid_template_rows": null,
            "right": null,
            "justify_content": null,
            "_view_module": "@jupyter-widgets/base",
            "overflow": null,
            "_model_module_version": "1.2.0",
            "_view_count": null,
            "flex_flow": null,
            "width": null,
            "min_width": null,
            "border": null,
            "align_items": null,
            "bottom": null,
            "_model_module": "@jupyter-widgets/base",
            "top": null,
            "grid_column": null,
            "overflow_y": null,
            "overflow_x": null,
            "grid_auto_flow": null,
            "grid_area": null,
            "grid_template_columns": null,
            "flex": null,
            "_model_name": "LayoutModel",
            "justify_items": null,
            "grid_row": null,
            "max_height": null,
            "align_content": null,
            "visibility": null,
            "align_self": null,
            "height": null,
            "min_height": null,
            "padding": null,
            "grid_auto_rows": null,
            "grid_gap": null,
            "max_width": null,
            "order": null,
            "_view_module_version": "1.2.0",
            "grid_template_areas": null,
            "object_position": null,
            "object_fit": null,
            "grid_auto_columns": null,
            "margin": null,
            "display": null,
            "left": null
          }
        },
        "9d34960f5aa5401896b43ce09511ee9c": {
          "model_module": "@jupyter-widgets/controls",
          "model_name": "FloatProgressModel",
          "state": {
            "_view_name": "ProgressView",
            "style": "IPY_MODEL_88e177b31ef34a809b25cbeb28bff822",
            "_dom_classes": [],
            "description": "100%",
            "_model_name": "FloatProgressModel",
            "bar_style": "success",
            "max": 46830571,
            "_view_module": "@jupyter-widgets/controls",
            "_model_module_version": "1.5.0",
            "value": 46830571,
            "_view_count": null,
            "_view_module_version": "1.5.0",
            "orientation": "horizontal",
            "min": 0,
            "description_tooltip": null,
            "_model_module": "@jupyter-widgets/controls",
            "layout": "IPY_MODEL_492570b8b51843d0a0eb8f9f42d7ac50"
          }
        },
        "907fc51e14c34f9abea62e1b50957cfc": {
          "model_module": "@jupyter-widgets/controls",
          "model_name": "HTMLModel",
          "state": {
            "_view_name": "HTMLView",
            "style": "IPY_MODEL_2499c149e58d4b4ea3ff0390228d1033",
            "_dom_classes": [],
            "description": "",
            "_model_name": "HTMLModel",
            "placeholder": "​",
            "_view_module": "@jupyter-widgets/controls",
            "_model_module_version": "1.5.0",
            "value": " 44.7M/44.7M [00:00&lt;00:00, 98.8MB/s]",
            "_view_count": null,
            "_view_module_version": "1.5.0",
            "description_tooltip": null,
            "_model_module": "@jupyter-widgets/controls",
            "layout": "IPY_MODEL_3f7f2bcae851454a83f85a06dceb02be"
          }
        },
        "88e177b31ef34a809b25cbeb28bff822": {
          "model_module": "@jupyter-widgets/controls",
          "model_name": "ProgressStyleModel",
          "state": {
            "_view_name": "StyleView",
            "_model_name": "ProgressStyleModel",
            "description_width": "initial",
            "_view_module": "@jupyter-widgets/base",
            "_model_module_version": "1.5.0",
            "_view_count": null,
            "_view_module_version": "1.2.0",
            "bar_color": null,
            "_model_module": "@jupyter-widgets/controls"
          }
        },
        "492570b8b51843d0a0eb8f9f42d7ac50": {
          "model_module": "@jupyter-widgets/base",
          "model_name": "LayoutModel",
          "state": {
            "_view_name": "LayoutView",
            "grid_template_rows": null,
            "right": null,
            "justify_content": null,
            "_view_module": "@jupyter-widgets/base",
            "overflow": null,
            "_model_module_version": "1.2.0",
            "_view_count": null,
            "flex_flow": null,
            "width": null,
            "min_width": null,
            "border": null,
            "align_items": null,
            "bottom": null,
            "_model_module": "@jupyter-widgets/base",
            "top": null,
            "grid_column": null,
            "overflow_y": null,
            "overflow_x": null,
            "grid_auto_flow": null,
            "grid_area": null,
            "grid_template_columns": null,
            "flex": null,
            "_model_name": "LayoutModel",
            "justify_items": null,
            "grid_row": null,
            "max_height": null,
            "align_content": null,
            "visibility": null,
            "align_self": null,
            "height": null,
            "min_height": null,
            "padding": null,
            "grid_auto_rows": null,
            "grid_gap": null,
            "max_width": null,
            "order": null,
            "_view_module_version": "1.2.0",
            "grid_template_areas": null,
            "object_position": null,
            "object_fit": null,
            "grid_auto_columns": null,
            "margin": null,
            "display": null,
            "left": null
          }
        },
        "2499c149e58d4b4ea3ff0390228d1033": {
          "model_module": "@jupyter-widgets/controls",
          "model_name": "DescriptionStyleModel",
          "state": {
            "_view_name": "StyleView",
            "_model_name": "DescriptionStyleModel",
            "description_width": "",
            "_view_module": "@jupyter-widgets/base",
            "_model_module_version": "1.5.0",
            "_view_count": null,
            "_view_module_version": "1.2.0",
            "_model_module": "@jupyter-widgets/controls"
          }
        },
        "3f7f2bcae851454a83f85a06dceb02be": {
          "model_module": "@jupyter-widgets/base",
          "model_name": "LayoutModel",
          "state": {
            "_view_name": "LayoutView",
            "grid_template_rows": null,
            "right": null,
            "justify_content": null,
            "_view_module": "@jupyter-widgets/base",
            "overflow": null,
            "_model_module_version": "1.2.0",
            "_view_count": null,
            "flex_flow": null,
            "width": null,
            "min_width": null,
            "border": null,
            "align_items": null,
            "bottom": null,
            "_model_module": "@jupyter-widgets/base",
            "top": null,
            "grid_column": null,
            "overflow_y": null,
            "overflow_x": null,
            "grid_auto_flow": null,
            "grid_area": null,
            "grid_template_columns": null,
            "flex": null,
            "_model_name": "LayoutModel",
            "justify_items": null,
            "grid_row": null,
            "max_height": null,
            "align_content": null,
            "visibility": null,
            "align_self": null,
            "height": null,
            "min_height": null,
            "padding": null,
            "grid_auto_rows": null,
            "grid_gap": null,
            "max_width": null,
            "order": null,
            "_view_module_version": "1.2.0",
            "grid_template_areas": null,
            "object_position": null,
            "object_fit": null,
            "grid_auto_columns": null,
            "margin": null,
            "display": null,
            "left": null
          }
        }
      }
    }
  },
  "cells": [
    {
      "cell_type": "markdown",
      "metadata": {
        "id": "view-in-github",
        "colab_type": "text"
      },
      "source": [
        "<a href=\"https://colab.research.google.com/github/ashikshafi08/Learning-Fastai/blob/main/Chapters%20Notebooks/Fastai_Refresher.ipynb\" target=\"_parent\"><img src=\"https://colab.research.google.com/assets/colab-badge.svg\" alt=\"Open In Colab\"/></a>"
      ]
    },
    {
      "cell_type": "markdown",
      "metadata": {
        "id": "6uuMuqBjhkvF"
      },
      "source": [
        "This notebooks will cover 4 chapters of the Fastai lectures. After 2 months of break and now I decided I have to go back and finish this book and take proper notes and use my skills in competition. \n",
        "\n"
      ]
    },
    {
      "cell_type": "code",
      "metadata": {
        "colab": {
          "base_uri": "https://localhost:8080/"
        },
        "id": "SDh4f6RXrvU3",
        "outputId": "4f517539-61a1-4218-e4fb-77cb90ea5801"
      },
      "source": [
        "# Installing fastai \n",
        "!pip install fastai --upgrade "
      ],
      "execution_count": 1,
      "outputs": [
        {
          "output_type": "stream",
          "text": [
            "Collecting fastai\n",
            "\u001b[?25l  Downloading https://files.pythonhosted.org/packages/bd/ca/bc9f4e04adcdfda1357f5c63bc67a7bf4f315883ca544726f3376b1ed068/fastai-2.4-py3-none-any.whl (187kB)\n",
            "\r\u001b[K     |█▊                              | 10kB 26.1MB/s eta 0:00:01\r\u001b[K     |███▌                            | 20kB 32.6MB/s eta 0:00:01\r\u001b[K     |█████▎                          | 30kB 34.9MB/s eta 0:00:01\r\u001b[K     |███████                         | 40kB 37.3MB/s eta 0:00:01\r\u001b[K     |████████▊                       | 51kB 37.3MB/s eta 0:00:01\r\u001b[K     |██████████▌                     | 61kB 39.9MB/s eta 0:00:01\r\u001b[K     |████████████▏                   | 71kB 30.1MB/s eta 0:00:01\r\u001b[K     |██████████████                  | 81kB 30.5MB/s eta 0:00:01\r\u001b[K     |███████████████▊                | 92kB 27.9MB/s eta 0:00:01\r\u001b[K     |█████████████████▍              | 102kB 27.4MB/s eta 0:00:01\r\u001b[K     |███████████████████▏            | 112kB 27.4MB/s eta 0:00:01\r\u001b[K     |█████████████████████           | 122kB 27.4MB/s eta 0:00:01\r\u001b[K     |██████████████████████▊         | 133kB 27.4MB/s eta 0:00:01\r\u001b[K     |████████████████████████▍       | 143kB 27.4MB/s eta 0:00:01\r\u001b[K     |██████████████████████████▏     | 153kB 27.4MB/s eta 0:00:01\r\u001b[K     |████████████████████████████    | 163kB 27.4MB/s eta 0:00:01\r\u001b[K     |█████████████████████████████▋  | 174kB 27.4MB/s eta 0:00:01\r\u001b[K     |███████████████████████████████▍| 184kB 27.4MB/s eta 0:00:01\r\u001b[K     |████████████████████████████████| 194kB 27.4MB/s \n",
            "\u001b[?25hRequirement already satisfied, skipping upgrade: pillow>6.0.0 in /usr/local/lib/python3.7/dist-packages (from fastai) (7.1.2)\n",
            "Requirement already satisfied, skipping upgrade: scikit-learn in /usr/local/lib/python3.7/dist-packages (from fastai) (0.22.2.post1)\n",
            "Requirement already satisfied, skipping upgrade: pip in /usr/local/lib/python3.7/dist-packages (from fastai) (19.3.1)\n",
            "Requirement already satisfied, skipping upgrade: matplotlib in /usr/local/lib/python3.7/dist-packages (from fastai) (3.2.2)\n",
            "Requirement already satisfied, skipping upgrade: requests in /usr/local/lib/python3.7/dist-packages (from fastai) (2.23.0)\n",
            "Requirement already satisfied, skipping upgrade: packaging in /usr/local/lib/python3.7/dist-packages (from fastai) (20.9)\n",
            "Collecting fastcore<1.4,>=1.3.8\n",
            "\u001b[?25l  Downloading https://files.pythonhosted.org/packages/d8/b0/f1fbf554e0bf3c76e1bdc3b82eedfe41fcf656479586be38c64421082b1b/fastcore-1.3.20-py3-none-any.whl (53kB)\n",
            "\u001b[K     |████████████████████████████████| 61kB 10.1MB/s \n",
            "\u001b[?25hRequirement already satisfied, skipping upgrade: pyyaml in /usr/local/lib/python3.7/dist-packages (from fastai) (3.13)\n",
            "Requirement already satisfied, skipping upgrade: torchvision>=0.8.2 in /usr/local/lib/python3.7/dist-packages (from fastai) (0.10.0+cu102)\n",
            "Requirement already satisfied, skipping upgrade: pandas in /usr/local/lib/python3.7/dist-packages (from fastai) (1.1.5)\n",
            "Requirement already satisfied, skipping upgrade: torch<1.10,>=1.7.0 in /usr/local/lib/python3.7/dist-packages (from fastai) (1.9.0+cu102)\n",
            "Requirement already satisfied, skipping upgrade: spacy<4 in /usr/local/lib/python3.7/dist-packages (from fastai) (2.2.4)\n",
            "Requirement already satisfied, skipping upgrade: scipy in /usr/local/lib/python3.7/dist-packages (from fastai) (1.4.1)\n",
            "Requirement already satisfied, skipping upgrade: fastprogress>=0.2.4 in /usr/local/lib/python3.7/dist-packages (from fastai) (1.0.0)\n",
            "Requirement already satisfied, skipping upgrade: numpy>=1.11.0 in /usr/local/lib/python3.7/dist-packages (from scikit-learn->fastai) (1.19.5)\n",
            "Requirement already satisfied, skipping upgrade: joblib>=0.11 in /usr/local/lib/python3.7/dist-packages (from scikit-learn->fastai) (1.0.1)\n",
            "Requirement already satisfied, skipping upgrade: kiwisolver>=1.0.1 in /usr/local/lib/python3.7/dist-packages (from matplotlib->fastai) (1.3.1)\n",
            "Requirement already satisfied, skipping upgrade: pyparsing!=2.0.4,!=2.1.2,!=2.1.6,>=2.0.1 in /usr/local/lib/python3.7/dist-packages (from matplotlib->fastai) (2.4.7)\n",
            "Requirement already satisfied, skipping upgrade: cycler>=0.10 in /usr/local/lib/python3.7/dist-packages (from matplotlib->fastai) (0.10.0)\n",
            "Requirement already satisfied, skipping upgrade: python-dateutil>=2.1 in /usr/local/lib/python3.7/dist-packages (from matplotlib->fastai) (2.8.1)\n",
            "Requirement already satisfied, skipping upgrade: idna<3,>=2.5 in /usr/local/lib/python3.7/dist-packages (from requests->fastai) (2.10)\n",
            "Requirement already satisfied, skipping upgrade: urllib3!=1.25.0,!=1.25.1,<1.26,>=1.21.1 in /usr/local/lib/python3.7/dist-packages (from requests->fastai) (1.24.3)\n",
            "Requirement already satisfied, skipping upgrade: certifi>=2017.4.17 in /usr/local/lib/python3.7/dist-packages (from requests->fastai) (2021.5.30)\n",
            "Requirement already satisfied, skipping upgrade: chardet<4,>=3.0.2 in /usr/local/lib/python3.7/dist-packages (from requests->fastai) (3.0.4)\n",
            "Requirement already satisfied, skipping upgrade: pytz>=2017.2 in /usr/local/lib/python3.7/dist-packages (from pandas->fastai) (2018.9)\n",
            "Requirement already satisfied, skipping upgrade: typing-extensions in /usr/local/lib/python3.7/dist-packages (from torch<1.10,>=1.7.0->fastai) (3.7.4.3)\n",
            "Requirement already satisfied, skipping upgrade: plac<1.2.0,>=0.9.6 in /usr/local/lib/python3.7/dist-packages (from spacy<4->fastai) (1.1.3)\n",
            "Requirement already satisfied, skipping upgrade: cymem<2.1.0,>=2.0.2 in /usr/local/lib/python3.7/dist-packages (from spacy<4->fastai) (2.0.5)\n",
            "Requirement already satisfied, skipping upgrade: setuptools in /usr/local/lib/python3.7/dist-packages (from spacy<4->fastai) (57.0.0)\n",
            "Requirement already satisfied, skipping upgrade: tqdm<5.0.0,>=4.38.0 in /usr/local/lib/python3.7/dist-packages (from spacy<4->fastai) (4.41.1)\n",
            "Requirement already satisfied, skipping upgrade: wasabi<1.1.0,>=0.4.0 in /usr/local/lib/python3.7/dist-packages (from spacy<4->fastai) (0.8.2)\n",
            "Requirement already satisfied, skipping upgrade: srsly<1.1.0,>=1.0.2 in /usr/local/lib/python3.7/dist-packages (from spacy<4->fastai) (1.0.5)\n",
            "Requirement already satisfied, skipping upgrade: murmurhash<1.1.0,>=0.28.0 in /usr/local/lib/python3.7/dist-packages (from spacy<4->fastai) (1.0.5)\n",
            "Requirement already satisfied, skipping upgrade: preshed<3.1.0,>=3.0.2 in /usr/local/lib/python3.7/dist-packages (from spacy<4->fastai) (3.0.5)\n",
            "Requirement already satisfied, skipping upgrade: thinc==7.4.0 in /usr/local/lib/python3.7/dist-packages (from spacy<4->fastai) (7.4.0)\n",
            "Requirement already satisfied, skipping upgrade: catalogue<1.1.0,>=0.0.7 in /usr/local/lib/python3.7/dist-packages (from spacy<4->fastai) (1.0.0)\n",
            "Requirement already satisfied, skipping upgrade: blis<0.5.0,>=0.4.0 in /usr/local/lib/python3.7/dist-packages (from spacy<4->fastai) (0.4.1)\n",
            "Requirement already satisfied, skipping upgrade: six in /usr/local/lib/python3.7/dist-packages (from cycler>=0.10->matplotlib->fastai) (1.15.0)\n",
            "Requirement already satisfied, skipping upgrade: importlib-metadata>=0.20; python_version < \"3.8\" in /usr/local/lib/python3.7/dist-packages (from catalogue<1.1.0,>=0.0.7->spacy<4->fastai) (4.5.0)\n",
            "Requirement already satisfied, skipping upgrade: zipp>=0.5 in /usr/local/lib/python3.7/dist-packages (from importlib-metadata>=0.20; python_version < \"3.8\"->catalogue<1.1.0,>=0.0.7->spacy<4->fastai) (3.4.1)\n",
            "Installing collected packages: fastcore, fastai\n",
            "  Found existing installation: fastai 1.0.61\n",
            "    Uninstalling fastai-1.0.61:\n",
            "      Successfully uninstalled fastai-1.0.61\n",
            "Successfully installed fastai-2.4 fastcore-1.3.20\n"
          ],
          "name": "stdout"
        }
      ]
    },
    {
      "cell_type": "code",
      "metadata": {
        "id": "HQ4qLqI8rzdk"
      },
      "source": [
        "# Importing the needed libs \n",
        "from fastai import * \n",
        "from fastai.vision.all import *"
      ],
      "execution_count": 2,
      "outputs": []
    },
    {
      "cell_type": "markdown",
      "metadata": {
        "id": "niUdsVcm5U0f"
      },
      "source": [
        "# Under the hood: Training a Digit Training Classifier"
      ]
    },
    {
      "cell_type": "code",
      "metadata": {
        "colab": {
          "base_uri": "https://localhost:8080/",
          "height": 54
        },
        "id": "cjSh-6NqtJeK",
        "outputId": "9d2133af-85fa-4488-f83e-17181f07046f"
      },
      "source": [
        "# Reading the data\n",
        "path = untar_data(URLs.MNIST_SAMPLE)\n",
        "path.ls()"
      ],
      "execution_count": 3,
      "outputs": [
        {
          "output_type": "display_data",
          "data": {
            "text/html": [
              ""
            ],
            "text/plain": [
              "<IPython.core.display.HTML object>"
            ]
          },
          "metadata": {
            "tags": []
          }
        },
        {
          "output_type": "execute_result",
          "data": {
            "text/plain": [
              "(#3) [Path('/root/.fastai/data/mnist_sample/valid'),Path('/root/.fastai/data/mnist_sample/labels.csv'),Path('/root/.fastai/data/mnist_sample/train')]"
            ]
          },
          "metadata": {
            "tags": []
          },
          "execution_count": 3
        }
      ]
    },
    {
      "cell_type": "code",
      "metadata": {
        "colab": {
          "base_uri": "https://localhost:8080/"
        },
        "id": "P4VF8J3dr49f",
        "outputId": "d36e82d7-1136-4cf3-cd8b-34a51539b53e"
      },
      "source": [
        "# Putting into sep variable of 3 and 7 \n",
        "threes = (path / 'train' / '3').ls().sorted()\n",
        "sevens = (path / 'train' / '7').ls().sorted()\n",
        "\n",
        "threes[:5] , sevens[:5]"
      ],
      "execution_count": 4,
      "outputs": [
        {
          "output_type": "execute_result",
          "data": {
            "text/plain": [
              "((#5) [Path('/root/.fastai/data/mnist_sample/train/3/10.png'),Path('/root/.fastai/data/mnist_sample/train/3/10000.png'),Path('/root/.fastai/data/mnist_sample/train/3/10011.png'),Path('/root/.fastai/data/mnist_sample/train/3/10031.png'),Path('/root/.fastai/data/mnist_sample/train/3/10034.png')],\n",
              " (#5) [Path('/root/.fastai/data/mnist_sample/train/7/10002.png'),Path('/root/.fastai/data/mnist_sample/train/7/1001.png'),Path('/root/.fastai/data/mnist_sample/train/7/10014.png'),Path('/root/.fastai/data/mnist_sample/train/7/10019.png'),Path('/root/.fastai/data/mnist_sample/train/7/10039.png')])"
            ]
          },
          "metadata": {
            "tags": []
          },
          "execution_count": 4
        }
      ]
    },
    {
      "cell_type": "code",
      "metadata": {
        "colab": {
          "base_uri": "https://localhost:8080/"
        },
        "id": "5Ijd622ItD8Z",
        "outputId": "004f268b-a15f-4eda-bf16-bff62423eb47"
      },
      "source": [
        "# Representing in a numpy array \n",
        "img_3 = threes[1]\n",
        "im3 = Image.open(img_3)\n",
        "im3.show()\n",
        "np.array(im3)[4:10 , 4:10] # rows and columns "
      ],
      "execution_count": 5,
      "outputs": [
        {
          "output_type": "execute_result",
          "data": {
            "text/plain": [
              "array([[  0,   0,   0,   0,   0,   0],\n",
              "       [  0,   0,   0,   0,   0,  29],\n",
              "       [  0,   0,   0,  48, 166, 224],\n",
              "       [  0,  93, 244, 249, 253, 187],\n",
              "       [  0, 107, 253, 253, 230,  48],\n",
              "       [  0,   3,  20,  20,  15,   0]], dtype=uint8)"
            ]
          },
          "metadata": {
            "tags": []
          },
          "execution_count": 5
        }
      ]
    },
    {
      "cell_type": "code",
      "metadata": {
        "id": "5oPWetkxuc9p"
      },
      "source": [
        "# Stacking all the images in the directory, and converting into tensors\n",
        "\n",
        "seven_tensor = [tensor(Image.open(o)) for o in sevens]\n",
        "three_tensor = [tensor(Image.open(o)) for o in threes]"
      ],
      "execution_count": 6,
      "outputs": []
    },
    {
      "cell_type": "markdown",
      "metadata": {
        "id": "_BPY3H-ItbP0"
      },
      "source": [
        "Calculate the average over all the images of the intensity of the pixel. \n",
        "\n",
        "Our tensors are in integers let's stack them and convert into float by dividing them by 255. "
      ]
    },
    {
      "cell_type": "code",
      "metadata": {
        "colab": {
          "base_uri": "https://localhost:8080/"
        },
        "id": "h9LFFRX7t5gc",
        "outputId": "7bace830-614c-4592-f22d-3927ae8d7901"
      },
      "source": [
        "stacked_sevens = torch.stack(seven_tensor).float() / 255\n",
        "stacked_threes = torch.stack(three_tensor).float() / 255\n",
        "\n",
        "stacked_sevens[:1]"
      ],
      "execution_count": 7,
      "outputs": [
        {
          "output_type": "execute_result",
          "data": {
            "text/plain": [
              "tensor([[[0.0000, 0.0000, 0.0000, 0.0000, 0.0000, 0.0000, 0.0000, 0.0000,\n",
              "          0.0000, 0.0000, 0.0000, 0.0000, 0.0000, 0.0000, 0.0000, 0.0000,\n",
              "          0.0000, 0.0000, 0.0000, 0.0000, 0.0000, 0.0000, 0.0000, 0.0000,\n",
              "          0.0000, 0.0000, 0.0000, 0.0000],\n",
              "         [0.0000, 0.0000, 0.0000, 0.0000, 0.0000, 0.0000, 0.0000, 0.0000,\n",
              "          0.0000, 0.0000, 0.0000, 0.0000, 0.0000, 0.0000, 0.0000, 0.0000,\n",
              "          0.0000, 0.0000, 0.0000, 0.0000, 0.0000, 0.0000, 0.0000, 0.0000,\n",
              "          0.0000, 0.0000, 0.0000, 0.0000],\n",
              "         [0.0000, 0.0000, 0.0000, 0.0000, 0.0000, 0.0000, 0.0000, 0.0000,\n",
              "          0.0000, 0.0000, 0.0000, 0.0000, 0.0000, 0.0000, 0.0000, 0.0000,\n",
              "          0.0000, 0.0000, 0.0000, 0.0000, 0.0000, 0.0000, 0.0000, 0.0000,\n",
              "          0.0000, 0.0000, 0.0000, 0.0000],\n",
              "         [0.0000, 0.0000, 0.0000, 0.0000, 0.0000, 0.0000, 0.0000, 0.0000,\n",
              "          0.0000, 0.0000, 0.0000, 0.0000, 0.0000, 0.0000, 0.0000, 0.0000,\n",
              "          0.0000, 0.0000, 0.0000, 0.0000, 0.0000, 0.0000, 0.0000, 0.0000,\n",
              "          0.0000, 0.0000, 0.0000, 0.0000],\n",
              "         [0.0000, 0.0000, 0.0000, 0.0000, 0.0000, 0.0000, 0.0000, 0.0000,\n",
              "          0.0000, 0.0000, 0.0000, 0.0000, 0.0000, 0.0000, 0.0000, 0.0000,\n",
              "          0.0000, 0.0000, 0.0000, 0.0000, 0.0000, 0.0000, 0.0000, 0.0000,\n",
              "          0.0000, 0.0000, 0.0000, 0.0000],\n",
              "         [0.0000, 0.0000, 0.0000, 0.0000, 0.0000, 0.0000, 0.0000, 0.0000,\n",
              "          0.0000, 0.0000, 0.0000, 0.0000, 0.0000, 0.0000, 0.0000, 0.0000,\n",
              "          0.0000, 0.0000, 0.0000, 0.0000, 0.0000, 0.0000, 0.0000, 0.0000,\n",
              "          0.0000, 0.0000, 0.0000, 0.0000],\n",
              "         [0.0000, 0.0000, 0.0000, 0.0000, 0.0000, 0.0000, 0.0000, 0.0000,\n",
              "          0.0000, 0.0000, 0.0000, 0.0000, 0.0000, 0.0000, 0.0000, 0.0000,\n",
              "          0.0000, 0.0000, 0.0000, 0.0000, 0.0000, 0.0000, 0.0000, 0.0000,\n",
              "          0.0000, 0.0000, 0.0000, 0.0000],\n",
              "         [0.0000, 0.0000, 0.0000, 0.0000, 0.0824, 0.2000, 0.8353, 0.9961,\n",
              "          0.9882, 0.9882, 0.9882, 0.9961, 0.9882, 0.9882, 0.9882, 0.9961,\n",
              "          0.9882, 0.9882, 0.9882, 1.0000, 0.9882, 0.3922, 0.0000, 0.0000,\n",
              "          0.0000, 0.0000, 0.0000, 0.0000],\n",
              "         [0.0000, 0.0000, 0.0000, 0.0824, 0.6314, 0.9804, 0.9804, 0.9882,\n",
              "          0.9804, 0.9804, 0.9804, 0.9882, 0.9804, 0.9804, 0.9804, 0.9882,\n",
              "          0.9804, 0.9804, 0.9804, 0.9882, 0.9804, 0.3922, 0.0000, 0.0000,\n",
              "          0.0000, 0.0000, 0.0000, 0.0000],\n",
              "         [0.0000, 0.0000, 0.0000, 0.2000, 0.9804, 0.9804, 0.9804, 0.9882,\n",
              "          0.7412, 0.7451, 0.9804, 0.9882, 0.9804, 0.9804, 0.9804, 0.9882,\n",
              "          0.9804, 0.9804, 0.9804, 0.9882, 0.7412, 0.1569, 0.0000, 0.0000,\n",
              "          0.0000, 0.0000, 0.0000, 0.0000],\n",
              "         [0.0000, 0.0000, 0.0000, 0.0392, 0.5098, 0.9804, 0.9804, 0.1922,\n",
              "          0.1137, 0.1176, 0.1922, 0.1922, 0.1922, 0.1922, 0.1922, 0.1922,\n",
              "          0.1922, 0.6667, 0.9804, 0.9882, 0.5843, 0.0000, 0.0000, 0.0000,\n",
              "          0.0000, 0.0000, 0.0000, 0.0000],\n",
              "         [0.0000, 0.0000, 0.0000, 0.0000, 0.0000, 0.0000, 0.0000, 0.0000,\n",
              "          0.0000, 0.0000, 0.0000, 0.0000, 0.0000, 0.0000, 0.0000, 0.0431,\n",
              "          0.5176, 0.9882, 0.9882, 0.9569, 0.4745, 0.0000, 0.0000, 0.0000,\n",
              "          0.0000, 0.0000, 0.0000, 0.0000],\n",
              "         [0.0000, 0.0000, 0.0000, 0.0000, 0.0000, 0.0000, 0.0000, 0.0000,\n",
              "          0.0000, 0.0000, 0.0000, 0.0000, 0.0000, 0.0000, 0.0000, 0.2000,\n",
              "          0.9804, 0.9804, 0.9804, 0.7922, 0.0000, 0.0000, 0.0000, 0.0000,\n",
              "          0.0000, 0.0000, 0.0000, 0.0000],\n",
              "         [0.0000, 0.0000, 0.0000, 0.0000, 0.0000, 0.0000, 0.0000, 0.0000,\n",
              "          0.0000, 0.0000, 0.0000, 0.0000, 0.0000, 0.0000, 0.0000, 0.6745,\n",
              "          0.9804, 0.9804, 0.9804, 0.3137, 0.0000, 0.0000, 0.0000, 0.0000,\n",
              "          0.0000, 0.0000, 0.0000, 0.0000],\n",
              "         [0.0000, 0.0000, 0.0000, 0.0000, 0.0000, 0.0000, 0.0000, 0.0000,\n",
              "          0.0000, 0.0000, 0.0000, 0.0000, 0.0000, 0.0000, 0.0000, 0.9882,\n",
              "          0.9804, 0.9804, 0.9804, 0.0000, 0.0000, 0.0000, 0.0000, 0.0000,\n",
              "          0.0000, 0.0000, 0.0000, 0.0000],\n",
              "         [0.0000, 0.0000, 0.0000, 0.0000, 0.0000, 0.0000, 0.0000, 0.0000,\n",
              "          0.0000, 0.0000, 0.0000, 0.0000, 0.0000, 0.1216, 0.8353, 0.9961,\n",
              "          0.9882, 0.9882, 0.1922, 0.0000, 0.0000, 0.0000, 0.0000, 0.0000,\n",
              "          0.0000, 0.0000, 0.0000, 0.0000],\n",
              "         [0.0000, 0.0000, 0.0000, 0.0000, 0.0000, 0.0000, 0.0000, 0.0000,\n",
              "          0.0000, 0.0000, 0.0000, 0.0000, 0.0000, 0.5922, 0.9804, 0.9882,\n",
              "          0.9804, 0.9804, 0.1922, 0.0000, 0.0000, 0.0000, 0.0000, 0.0000,\n",
              "          0.0000, 0.0000, 0.0000, 0.0000],\n",
              "         [0.0000, 0.0000, 0.0000, 0.0000, 0.0000, 0.0000, 0.0000, 0.0000,\n",
              "          0.0000, 0.0000, 0.0000, 0.0000, 0.0000, 0.5922, 0.9804, 0.9882,\n",
              "          0.9804, 0.6235, 0.0784, 0.0000, 0.0000, 0.0000, 0.0000, 0.0000,\n",
              "          0.0000, 0.0000, 0.0000, 0.0000],\n",
              "         [0.0000, 0.0000, 0.0000, 0.0000, 0.0000, 0.0000, 0.0000, 0.0000,\n",
              "          0.0000, 0.0000, 0.0000, 0.0000, 0.0000, 0.5922, 0.9804, 0.9882,\n",
              "          0.9804, 0.3922, 0.0000, 0.0000, 0.0000, 0.0000, 0.0000, 0.0000,\n",
              "          0.0000, 0.0000, 0.0000, 0.0000],\n",
              "         [0.0000, 0.0000, 0.0000, 0.0000, 0.0000, 0.0000, 0.0000, 0.0000,\n",
              "          0.0000, 0.0000, 0.0000, 0.0000, 0.0000, 0.5961, 0.9882, 0.9961,\n",
              "          0.9882, 0.3922, 0.0000, 0.0000, 0.0000, 0.0000, 0.0000, 0.0000,\n",
              "          0.0000, 0.0000, 0.0000, 0.0000],\n",
              "         [0.0000, 0.0000, 0.0000, 0.0000, 0.0000, 0.0000, 0.0000, 0.0000,\n",
              "          0.0000, 0.0000, 0.0000, 0.0000, 0.0000, 0.5922, 0.9804, 0.9882,\n",
              "          0.9804, 0.3922, 0.0000, 0.0000, 0.0000, 0.0000, 0.0000, 0.0000,\n",
              "          0.0000, 0.0000, 0.0000, 0.0000],\n",
              "         [0.0000, 0.0000, 0.0000, 0.0000, 0.0000, 0.0000, 0.0000, 0.0000,\n",
              "          0.0000, 0.0000, 0.0000, 0.0000, 0.0000, 0.5922, 0.9804, 0.9882,\n",
              "          0.9804, 0.3922, 0.0000, 0.0000, 0.0000, 0.0000, 0.0000, 0.0000,\n",
              "          0.0000, 0.0000, 0.0000, 0.0000],\n",
              "         [0.0000, 0.0000, 0.0000, 0.0000, 0.0000, 0.0000, 0.0000, 0.0000,\n",
              "          0.0000, 0.0000, 0.0000, 0.0000, 0.0000, 0.5922, 0.9804, 0.9882,\n",
              "          0.9804, 0.8667, 0.1569, 0.0000, 0.0000, 0.0000, 0.0000, 0.0000,\n",
              "          0.0000, 0.0000, 0.0000, 0.0000],\n",
              "         [0.0000, 0.0000, 0.0000, 0.0000, 0.0000, 0.0000, 0.0000, 0.0000,\n",
              "          0.0000, 0.0000, 0.0000, 0.0000, 0.0000, 0.6000, 0.9882, 1.0000,\n",
              "          0.9882, 0.9882, 0.1922, 0.0000, 0.0000, 0.0000, 0.0000, 0.0000,\n",
              "          0.0000, 0.0000, 0.0000, 0.0000],\n",
              "         [0.0000, 0.0000, 0.0000, 0.0000, 0.0000, 0.0000, 0.0000, 0.0000,\n",
              "          0.0000, 0.0000, 0.0000, 0.0000, 0.0000, 0.5922, 0.9804, 0.9882,\n",
              "          0.9804, 0.9804, 0.1922, 0.0000, 0.0000, 0.0000, 0.0000, 0.0000,\n",
              "          0.0000, 0.0000, 0.0000, 0.0000],\n",
              "         [0.0000, 0.0000, 0.0000, 0.0000, 0.0000, 0.0000, 0.0000, 0.0000,\n",
              "          0.0000, 0.0000, 0.0000, 0.0000, 0.0000, 0.2353, 0.8667, 0.9882,\n",
              "          0.9804, 0.6235, 0.0784, 0.0000, 0.0000, 0.0000, 0.0000, 0.0000,\n",
              "          0.0000, 0.0000, 0.0000, 0.0000],\n",
              "         [0.0000, 0.0000, 0.0000, 0.0000, 0.0000, 0.0000, 0.0000, 0.0000,\n",
              "          0.0000, 0.0000, 0.0000, 0.0000, 0.0000, 0.0000, 0.1569, 0.8314,\n",
              "          0.1922, 0.0784, 0.0000, 0.0000, 0.0000, 0.0000, 0.0000, 0.0000,\n",
              "          0.0000, 0.0000, 0.0000, 0.0000],\n",
              "         [0.0000, 0.0000, 0.0000, 0.0000, 0.0000, 0.0000, 0.0000, 0.0000,\n",
              "          0.0000, 0.0000, 0.0000, 0.0000, 0.0000, 0.0000, 0.0000, 0.0000,\n",
              "          0.0000, 0.0000, 0.0000, 0.0000, 0.0000, 0.0000, 0.0000, 0.0000,\n",
              "          0.0000, 0.0000, 0.0000, 0.0000]]])"
            ]
          },
          "metadata": {
            "tags": []
          },
          "execution_count": 7
        }
      ]
    },
    {
      "cell_type": "code",
      "metadata": {
        "colab": {
          "base_uri": "https://localhost:8080/"
        },
        "id": "JZnOMywsvL1g",
        "outputId": "c462148f-f810-4241-8aa6-07eedc7a3832"
      },
      "source": [
        "# Checking the shape \n",
        "stacked_sevens.shape , stacked_threes.shape"
      ],
      "execution_count": 8,
      "outputs": [
        {
          "output_type": "execute_result",
          "data": {
            "text/plain": [
              "(torch.Size([6265, 28, 28]), torch.Size([6131, 28, 28]))"
            ]
          },
          "metadata": {
            "tags": []
          },
          "execution_count": 8
        }
      ]
    },
    {
      "cell_type": "code",
      "metadata": {
        "colab": {
          "base_uri": "https://localhost:8080/",
          "height": 102
        },
        "id": "7M-FvMESvVb4",
        "outputId": "e7a35589-22b9-433b-fdcb-0235653d35a7"
      },
      "source": [
        "# Finding the ideal 3 by taking average along the 0th dimension\n",
        "mean_3 = stacked_threes.mean(dim = 0)\n",
        "mean_7 = stacked_sevens.mean(dim = 0)\n",
        "show_image(mean_3)"
      ],
      "execution_count": 9,
      "outputs": [
        {
          "output_type": "execute_result",
          "data": {
            "text/plain": [
              "<matplotlib.axes._subplots.AxesSubplot at 0x7fe234f29e90>"
            ]
          },
          "metadata": {
            "tags": []
          },
          "execution_count": 9
        },
        {
          "output_type": "display_data",
          "data": {
            "image/png": "[encoded data removed]",
            "text/plain": [
              "<Figure size 72x72 with 1 Axes>"
            ]
          },
          "metadata": {
            "tags": [],
            "needs_background": "light"
          }
        }
      ]
    },
    {
      "cell_type": "markdown",
      "metadata": {
        "id": "cXmRIBwfvmfb"
      },
      "source": [
        "Now we have two stuffs, one the ideal image and the actual image. We have to calculate the distance between them. \n",
        "\n",
        "- Mean absolute difference --> replaces negative with positive values\n",
        "- Mean Squared Error --> makes everything positive. "
      ]
    },
    {
      "cell_type": "code",
      "metadata": {
        "colab": {
          "base_uri": "https://localhost:8080/"
        },
        "id": "jLAYiuCywT7L",
        "outputId": "f7583e81-5b55-4ae9-cf62-f5181b8c05ce"
      },
      "source": [
        "# Creating a vlid 3 and 7 tensors\n",
        "\n",
        "valid_3_tens = torch.stack([tensor(Image.open(o)) for o in (path / 'valid' / '3').ls()])\n",
        "valid_7_tens = torch.stack([tensor(Image.open(o)) for o in (path / 'valid' / '7').ls()])\n",
        "\n",
        "# Converting them into 0 and 1 \n",
        "valid_3_tens = valid_3_tens.float() / 255\n",
        "valid_7_tens = valid_7_tens.float() / 255 \n",
        "\n",
        "# Shape of the valid tensors \n",
        "valid_3_tens.shape , valid_7_tens.shape"
      ],
      "execution_count": 10,
      "outputs": [
        {
          "output_type": "execute_result",
          "data": {
            "text/plain": [
              "(torch.Size([1010, 28, 28]), torch.Size([1028, 28, 28]))"
            ]
          },
          "metadata": {
            "tags": []
          },
          "execution_count": 10
        }
      ]
    },
    {
      "cell_type": "code",
      "metadata": {
        "colab": {
          "base_uri": "https://localhost:8080/"
        },
        "id": "H9VYtdVrxhC0",
        "outputId": "ea33ea62-9edc-41f9-dc65-3ce82ea6cb13"
      },
      "source": [
        "# Writing the function which cal dist btw ideal and arbitrary value\n",
        "# taking the mean ranging over the values indexed by the last two axes of the tensors\n",
        "def mnist_distance(a , b):\n",
        "  return (a - b).abs().mean((-1 , -2))\n",
        "\n",
        "# Using the function \n",
        "valid_3_dist = mnist_distance(valid_3_tens , mean_3)\n",
        "valid_3_dist.shape \n"
      ],
      "execution_count": 11,
      "outputs": [
        {
          "output_type": "execute_result",
          "data": {
            "text/plain": [
              "torch.Size([1010])"
            ]
          },
          "metadata": {
            "tags": []
          },
          "execution_count": 11
        }
      ]
    },
    {
      "cell_type": "code",
      "metadata": {
        "colab": {
          "base_uri": "https://localhost:8080/"
        },
        "id": "VYOIHoMIy2Pi",
        "outputId": "3b3e1a80-db5b-4c57-a79f-35bbebc2bb45"
      },
      "source": [
        "# The first 5 sample's distance \n",
        "valid_3_dist[:5]"
      ],
      "execution_count": 12,
      "outputs": [
        {
          "output_type": "execute_result",
          "data": {
            "text/plain": [
              "tensor([0.1463, 0.1076, 0.1296, 0.1369, 0.1445])"
            ]
          },
          "metadata": {
            "tags": []
          },
          "execution_count": 12
        }
      ]
    },
    {
      "cell_type": "code",
      "metadata": {
        "colab": {
          "base_uri": "https://localhost:8080/"
        },
        "id": "jmJUQYF8y7Tz",
        "outputId": "8ac8bed2-d6be-45e0-d150-7eba88f38589"
      },
      "source": [
        "# Taking one sample from 3 and 7 \n",
        "a_3 = stacked_threes[5]\n",
        "a_7 = stacked_sevens[6]\n",
        "\n",
        "len(a_3) , len(a_7)"
      ],
      "execution_count": 13,
      "outputs": [
        {
          "output_type": "execute_result",
          "data": {
            "text/plain": [
              "(28, 28)"
            ]
          },
          "metadata": {
            "tags": []
          },
          "execution_count": 13
        }
      ]
    },
    {
      "cell_type": "code",
      "metadata": {
        "id": "NC1h4dwzzUdg",
        "colab": {
          "base_uri": "https://localhost:8080/"
        },
        "outputId": "1534a374-af40-40d6-f788-ba6ce883384d"
      },
      "source": [
        "# Calculating the distance between ideal and single image file \n",
        "mnist_distance(a_3 , mean_3) , mnist_distance(a_7 , mean_7)"
      ],
      "execution_count": 14,
      "outputs": [
        {
          "output_type": "execute_result",
          "data": {
            "text/plain": [
              "(tensor(0.1700), tensor(0.1542))"
            ]
          },
          "metadata": {
            "tags": []
          },
          "execution_count": 14
        }
      ]
    },
    {
      "cell_type": "code",
      "metadata": {
        "colab": {
          "base_uri": "https://localhost:8080/"
        },
        "id": "-ghwS9bT044X",
        "outputId": "db69233e-f08b-442b-d09a-4f7fb71e48ef"
      },
      "source": [
        "# Function to check whether a tensor is 3 or not \n",
        "def is_3(x):\n",
        "  '''\n",
        "  the distance should between the tensor and the mean 3 should be less than the mean 7, we can call it as a 3\n",
        "  '''\n",
        "  return mnist_distance(x , mean_3) < mnist_distance(x , mean_7)\n",
        "\n",
        "# Passing one tensor \n",
        "is_3(a_3) # this is 3 and should return 3 "
      ],
      "execution_count": 15,
      "outputs": [
        {
          "output_type": "execute_result",
          "data": {
            "text/plain": [
              "tensor(True)"
            ]
          },
          "metadata": {
            "tags": []
          },
          "execution_count": 15
        }
      ]
    },
    {
      "cell_type": "code",
      "metadata": {
        "colab": {
          "base_uri": "https://localhost:8080/"
        },
        "id": "A5RffPDF3xSM",
        "outputId": "fd14b77b-62b0-4ae7-e955-0b232415d8b1"
      },
      "source": [
        "# Passing our whole valid 3 set and see how it goes \n",
        "is_3(valid_3_tens)"
      ],
      "execution_count": 16,
      "outputs": [
        {
          "output_type": "execute_result",
          "data": {
            "text/plain": [
              "tensor([True, True, True,  ..., True, True, True])"
            ]
          },
          "metadata": {
            "tags": []
          },
          "execution_count": 16
        }
      ]
    },
    {
      "cell_type": "code",
      "metadata": {
        "colab": {
          "base_uri": "https://localhost:8080/"
        },
        "id": "RbserpWV4MlV",
        "outputId": "939261fa-ef0f-43c7-b7b3-bbd0c77d5c49"
      },
      "source": [
        "# Alright now calculate the distance for 3 and 7 \n",
        "accuracy_3s = is_3(valid_3_tens).float().mean()\n",
        "\n",
        "# For 7 we will take the inverse of all the 7s (since we don't have is_7 function)\n",
        "accuracy_7s = (1 - (is_3(valid_7_tens).float().mean()))\n",
        "\n",
        "accuracy_3s , accuracy_7s"
      ],
      "execution_count": 17,
      "outputs": [
        {
          "output_type": "execute_result",
          "data": {
            "text/plain": [
              "(tensor(0.9168), tensor(0.9854))"
            ]
          },
          "metadata": {
            "tags": []
          },
          "execution_count": 17
        }
      ]
    },
    {
      "cell_type": "code",
      "metadata": {
        "colab": {
          "base_uri": "https://localhost:8080/"
        },
        "id": "k__n3fR949zF",
        "outputId": "e3fbb34a-c0bd-4125-f6a4-c4c8d657bc13"
      },
      "source": [
        "# It will perform worse since it's 7 \n",
        "is_3(valid_7_tens).float().mean()"
      ],
      "execution_count": 18,
      "outputs": [
        {
          "output_type": "execute_result",
          "data": {
            "text/plain": [
              "tensor(0.0146)"
            ]
          },
          "metadata": {
            "tags": []
          },
          "execution_count": 18
        }
      ]
    },
    {
      "cell_type": "markdown",
      "metadata": {
        "id": "8WpDeltn5GiM"
      },
      "source": [
        "## SGD \n",
        "\n",
        "- This is something that will allow our model to get better and better which gives the **ability of learning to the model**.\n",
        "\n",
        "**How do we make it work?**\n",
        "- Assign a weight \n",
        "- Tweak the weight (parameters) and improve based on the weight assignment.\n",
        "\n",
        "**What can we do to our pixel similarity in order to apply SGD (or a optimizer)?**\n",
        "- Assign a weight for each pixel values.\n",
        "\n"
      ]
    },
    {
      "cell_type": "code",
      "metadata": {
        "id": "azmZCGxP6Rv-"
      },
      "source": [
        "# Probability of a number being 8\n",
        "def pr_eight(x , w):\n",
        "  '''\n",
        "  w = weights for the pixels \n",
        "  x = input image \n",
        "  '''\n",
        "  return (x*w).sum()"
      ],
      "execution_count": 19,
      "outputs": []
    },
    {
      "cell_type": "markdown",
      "metadata": {
        "id": "3ecuPnNH6fIz"
      },
      "source": [
        "The above function will help us to update the weight `w` for every iteration and make our weight assignemnt better and better. \n",
        "\n",
        "> Converting the above function `pr_8` to a machine learning classifier: \n",
        "- Initialize the weights \n",
        "- For each image, use the weights that was initialized and predict whether it appears to be a 3 or a 7. (Step 2)\n",
        "- Based on the predictions, **calculate how good the model is** (*Calculte loss*). \n",
        "- Tweak (step) the weights based on the above calculation. \n",
        "- Go back again to Step 2, where you use the weights and make predictions. \n",
        "- Iterate this process until we decide to stop the training. \n",
        "\n",
        "#### Guidelines\n",
        "\n",
        "- **Initialize**\n",
        "\n",
        "    We initialize the parameters (or) weights to random values at first. It's believed starting with random weights (or) values works perfectly well. \n",
        "\n",
        "- **Loss**\n",
        "\n",
        "    A function will return a number that is small when the performance of the model is good. The standard approach is to treat a **small loss as a good and large loss as bad.** \n",
        "\n",
        "- **Step**\n",
        "\n",
        "    A simple way to figure out whether a weight should be increased a bit or decreased, would be just try to increase the **weight** by a small amount and observe the loss goes up or down. We do this **increment and decrement until we find an amount that satisfy us**. \n",
        "\n",
        "    However, we use calculus to take care of this. Finding which direction and roughly how much, to change each weight without doing those adjustments above. \n",
        "\n",
        "    We do this by calculating ***gradients.*** This is just an **performance optimization.**\n",
        "\n",
        "- **Stop**\n",
        "\n",
        "    This is the phase where we choose the epochs to train the model for, we would keep training until the accuracy of the model started getting worse or ran out of time.\n",
        "\n",
        "\n"
      ]
    },
    {
      "cell_type": "markdown",
      "metadata": {
        "id": "zY227g6t7jBg"
      },
      "source": [
        "#### Calculating Gradients \n",
        "\n",
        "In here we will use calculus as a performance optimizartion. \n",
        "\n",
        "**But why ?**\n",
        "- It will help us quickly to calculate whether our loss will go up and down as we are adjusting the parameters.\n",
        "\n",
        "> Gradients will tell us how much we have to change each weight to make our model better\n",
        "\n",
        "**What the hell is a derivative?**\n",
        "- it calculates the change of a equation rather a value.\n",
        "- For instance, the derivative of the quadratic function at the value 3 tells us how rapidly the function changes at the value 3. \n",
        "\n",
        "**Exact definition of a gradient**\n",
        "\n",
        "*Gradient is defined as rise/run that is the change in the value of the function, divided by the change in the value of the parameter.*\n",
        "\n",
        "The takeaway: \n",
        "- When we know how our function would change, then we know what we need to do in order to make it smaller (loss function). \n",
        "- The key is having a function and change the parameter of the function to make the loss smaller. \n",
        "\n",
        "#### Things to know\n",
        "\n",
        "- The function will return not one but alot of weights, so when we calculate the derivative we will get alots of number, `i.e gradient for every weight`. \n",
        "- `requires_grad_()` special method tells pytorch we want to calculate gradients w.r.t to the variable at the value. For instance, in 3x (x). By doing this Pytorch, will keep track of all the computed gradients. \n",
        "- `backward` --> backpropagation, this is process of calculating the derivative (gradients) for each layer. \n",
        "- In `backward pass` we calculate the gradients of a neural network, and on `forward pass` we calculate the activations of a neural net.\n",
        "\n",
        "> **Backpropagation** is a training algorithm consisting of 2 steps: \n",
        "1. Feed forward the values \n",
        "2. Calculate the error and propagate it back to the earlier layers. So to be precise, forward-propagation is part of the backpropagation algorithm but comes before back-propagating.\n",
        "\n",
        "\n",
        "- https://datascience.stackexchange.com/questions/66416/forward-pass-vs-backward-pass-vs-backpropagation\n",
        "- https://stackoverflow.com/questions/28403782/what-is-the-difference-between-back-propagation-and-feed-forward-neural-network\n"
      ]
    },
    {
      "cell_type": "code",
      "metadata": {
        "colab": {
          "base_uri": "https://localhost:8080/"
        },
        "id": "2UWWcBEu9_Yl",
        "outputId": "4baa1748-f43e-4645-888f-c2c977385a86"
      },
      "source": [
        "# Calculating Gradients with Pytorch\n",
        "\n",
        "import torch \n",
        "\n",
        "# Creating a tensor (will keep track of the gradients of the value\n",
        "xt = tensor(8.).requires_grad_()\n",
        "\n",
        "# Sample function \n",
        "def f(x): return x**2\n",
        "\n",
        "# Performing some computations with xt\n",
        "yt = f(xt)\n",
        "yt"
      ],
      "execution_count": 20,
      "outputs": [
        {
          "output_type": "execute_result",
          "data": {
            "text/plain": [
              "tensor(64., grad_fn=<PowBackward0>)"
            ]
          },
          "metadata": {
            "tags": []
          },
          "execution_count": 20
        }
      ]
    },
    {
      "cell_type": "code",
      "metadata": {
        "id": "5w1-PKKNCjLS"
      },
      "source": [
        "# Telling pytoch to calculate the gradients by calling grad \n",
        "yt.backward() # always pass a function"
      ],
      "execution_count": 21,
      "outputs": []
    },
    {
      "cell_type": "code",
      "metadata": {
        "colab": {
          "base_uri": "https://localhost:8080/"
        },
        "id": "7Jnk7_VvFmLn",
        "outputId": "f3e2b44d-76b5-4fc1-8123-213c7cf49878"
      },
      "source": [
        "# Now viewing the gradients calculated on our variable \n",
        "xt.grad # now get the gradient on a variable"
      ],
      "execution_count": 22,
      "outputs": [
        {
          "output_type": "execute_result",
          "data": {
            "text/plain": [
              "tensor(16.)"
            ]
          },
          "metadata": {
            "tags": []
          },
          "execution_count": 22
        }
      ]
    },
    {
      "cell_type": "markdown",
      "metadata": {
        "id": "eB2KexQ8Fxk0"
      },
      "source": [
        "The graidents will tell us only the slope of our function, they don't really say how far we should adjust the parameters. \n",
        "\n",
        "https://en.wikipedia.org/wiki/Slope#Calculus\n",
        "\n",
        "- If slope is very large --> More adjustments to do \n",
        "- If slope is very small --> We are close to the optimal value. \n",
        "\n",
        "### Stepping (way to increase/decrease weight) with a Learning Rate \n",
        "- This is the idea of **multiplying the gradient by a small number** (that is the learning rate).\n",
        "- We can adjust the learning rate by, `w- = w.grad * lr`. \n",
        "\n",
        "This means we get the gradients and multiply the gradients with a learning rate. \n",
        "\n",
        "- If the learning rate is too low, optimization will take a lot of time because steps towards the minimum of the loss function are tiny.\n",
        "- If the learning rate is too high, it can result in getting the *loss* worse. Rather than diverging (or) converging it will bounce around. \n",
        "https://towardsdatascience.com/estimating-optimal-learning-rate-for-a-deep-neural-network-ce32f2556ce0"
      ]
    },
    {
      "cell_type": "markdown",
      "metadata": {
        "id": "ny3uebqcGfIa"
      },
      "source": [
        "### An End-to-End SGD Example \n",
        "\n"
      ]
    },
    {
      "cell_type": "code",
      "metadata": {
        "colab": {
          "base_uri": "https://localhost:8080/"
        },
        "id": "PRfSrslPMiMI",
        "outputId": "69b85a0e-ceda-40d1-84a1-a3e567d7fbc5"
      },
      "source": [
        "# Time \n",
        "time = torch.arange(0 , 20).float()\n",
        "# Time in seconds \n",
        "time"
      ],
      "execution_count": 23,
      "outputs": [
        {
          "output_type": "execute_result",
          "data": {
            "text/plain": [
              "tensor([ 0.,  1.,  2.,  3.,  4.,  5.,  6.,  7.,  8.,  9., 10., 11., 12., 13.,\n",
              "        14., 15., 16., 17., 18., 19.])"
            ]
          },
          "metadata": {
            "tags": []
          },
          "execution_count": 23
        }
      ]
    },
    {
      "cell_type": "code",
      "metadata": {
        "colab": {
          "base_uri": "https://localhost:8080/",
          "height": 282
        },
        "id": "d0t5Egj3Mnqc",
        "outputId": "4c7d4605-d2dd-48d5-d682-bdf4b8127fb9"
      },
      "source": [
        "# Calculating the speed -> a*(t**2) + (b*t) + c\n",
        "speed = torch.randn(20)*3 + 0.75*(time -9.5)**2 + 1\n",
        "\n",
        "# Plotting the time and speed\n",
        "plt.scatter(time , speed)"
      ],
      "execution_count": 24,
      "outputs": [
        {
          "output_type": "execute_result",
          "data": {
            "text/plain": [
              "<matplotlib.collections.PathCollection at 0x7fe234370f50>"
            ]
          },
          "metadata": {
            "tags": []
          },
          "execution_count": 24
        },
        {
          "output_type": "display_data",
          "data": {
            "image/png": "[encoded data removed]",
            "text/plain": [
              "<Figure size 432x288 with 1 Axes>"
            ]
          },
          "metadata": {
            "tags": [],
            "needs_background": "light"
          }
        }
      ]
    },
    {
      "cell_type": "code",
      "metadata": {
        "id": "rFnGkvwxM-yO"
      },
      "source": [
        "def f(t , params):\n",
        "  a , b , c = params\n",
        "  return a*(t**2) + (b*t) + c"
      ],
      "execution_count": 25,
      "outputs": []
    },
    {
      "cell_type": "markdown",
      "metadata": {
        "id": "-pH2O7tCOL52"
      },
      "source": [
        "Every quadratic function returns 3 values a, b and c. "
      ]
    },
    {
      "cell_type": "code",
      "metadata": {
        "id": "SS-6susNOiLK"
      },
      "source": [
        "# Since we're on a continous data our loss function would be mse\n",
        "def mse(preds , targs):\n",
        "  return ((preds - targs)**2).mean()"
      ],
      "execution_count": 26,
      "outputs": []
    },
    {
      "cell_type": "code",
      "metadata": {
        "colab": {
          "base_uri": "https://localhost:8080/"
        },
        "id": "scsKo6IaO4Ow",
        "outputId": "d046b505-e895-4b55-d506-a2a4845e6a6c"
      },
      "source": [
        "# Firstly --> Initialize the parameters\n",
        "params = torch.randn(3).requires_grad_()\n",
        "params # a b c"
      ],
      "execution_count": 27,
      "outputs": [
        {
          "output_type": "execute_result",
          "data": {
            "text/plain": [
              "tensor([ 0.8787, -0.3939, -2.6361], requires_grad=True)"
            ]
          },
          "metadata": {
            "tags": []
          },
          "execution_count": 27
        }
      ]
    },
    {
      "cell_type": "code",
      "metadata": {
        "colab": {
          "base_uri": "https://localhost:8080/"
        },
        "id": "LgJvercAPPFZ",
        "outputId": "ab6663c7-3c94-4331-b08a-4506e39ed427"
      },
      "source": [
        "# Calculating the predictions \n",
        "preds = f(time , params)\n",
        "preds"
      ],
      "execution_count": 28,
      "outputs": [
        {
          "output_type": "execute_result",
          "data": {
            "text/plain": [
              "tensor([-2.6361e+00, -2.1513e+00,  9.1043e-02,  4.0909e+00,  9.8482e+00,\n",
              "         1.7363e+01,  2.6635e+01,  3.7665e+01,  5.0452e+01,  6.4997e+01,\n",
              "         8.1299e+01,  9.9359e+01,  1.1918e+02,  1.4075e+02,  1.6408e+02,\n",
              "         1.8917e+02,  2.1602e+02,  2.4463e+02,  2.7499e+02,  3.0711e+02],\n",
              "       grad_fn=<AddBackward0>)"
            ]
          },
          "metadata": {
            "tags": []
          },
          "execution_count": 28
        }
      ]
    },
    {
      "cell_type": "code",
      "metadata": {
        "colab": {
          "base_uri": "https://localhost:8080/",
          "height": 269
        },
        "id": "nii6rWSaTbsJ",
        "outputId": "c66c11b8-49ab-484b-ccef-834c6a490c00"
      },
      "source": [
        "# A function to plot both targets and preds to see how close our predictins are\n",
        "\n",
        "def show_preds(preds , ax=None):\n",
        "  if ax is None: ax=plt.subplots()[1]\n",
        "  ax.scatter(time , speed)\n",
        "  ax.scatter(time , to_np(preds) , color='red')\n",
        "  ax.set_ylim(-300 , 100)\n",
        "\n",
        "show_preds(preds)"
      ],
      "execution_count": 29,
      "outputs": [
        {
          "output_type": "display_data",
          "data": {
            "image/png": "[encoded data removed]",
            "text/plain": [
              "<Figure size 432x288 with 1 Axes>"
            ]
          },
          "metadata": {
            "tags": [],
            "needs_background": "light"
          }
        }
      ]
    },
    {
      "cell_type": "code",
      "metadata": {
        "colab": {
          "base_uri": "https://localhost:8080/"
        },
        "id": "AUmm-D7_TfWq",
        "outputId": "af93c98e-2e19-426e-c238-c5d7b7533993"
      },
      "source": [
        "# Now the next step --> Calculate the loss\n",
        "loss = mse(preds , speed)\n",
        "loss"
      ],
      "execution_count": 30,
      "outputs": [
        {
          "output_type": "execute_result",
          "data": {
            "text/plain": [
              "tensor(14728.7012, grad_fn=<MeanBackward0>)"
            ]
          },
          "metadata": {
            "tags": []
          },
          "execution_count": 30
        }
      ]
    },
    {
      "cell_type": "code",
      "metadata": {
        "colab": {
          "base_uri": "https://localhost:8080/"
        },
        "id": "SYkSZQmrTz3B",
        "outputId": "6a7a1730-7d77-4ee5-b74e-a57249599828"
      },
      "source": [
        "# Calculating the gradients (from the loss function)\n",
        "loss.backward()\n",
        "params.grad # for a,b,c we get the gradients"
      ],
      "execution_count": 31,
      "outputs": [
        {
          "output_type": "execute_result",
          "data": {
            "text/plain": [
              "tensor([39738.6562,  2542.0842,   153.6937])"
            ]
          },
          "metadata": {
            "tags": []
          },
          "execution_count": 31
        }
      ]
    },
    {
      "cell_type": "code",
      "metadata": {
        "colab": {
          "base_uri": "https://localhost:8080/"
        },
        "id": "3A8NsKmRUbcr",
        "outputId": "e42d0aed-ca8a-4b10-cde0-ece61675ded3"
      },
      "source": [
        "# Just multiplying lr with gradients \n",
        "params.grad * 1e-5"
      ],
      "execution_count": 32,
      "outputs": [
        {
          "output_type": "execute_result",
          "data": {
            "text/plain": [
              "tensor([0.3974, 0.0254, 0.0015])"
            ]
          },
          "metadata": {
            "tags": []
          },
          "execution_count": 32
        }
      ]
    },
    {
      "cell_type": "code",
      "metadata": {
        "id": "h5e624jJT-ot"
      },
      "source": [
        "# Stepping --> update the gradients with a learnin rate \n",
        "lr = 1e-5 # learning rate \n",
        "\n",
        "# Functionality that's help us in updating the learning rate \n",
        "params.data -= lr * params.grad.data\n",
        "params.grad = None\n",
        "\n"
      ],
      "execution_count": 33,
      "outputs": []
    },
    {
      "cell_type": "code",
      "metadata": {
        "id": "T4eKsGJXVVpR"
      },
      "source": [
        "# Putting everything into a function \n",
        "def apply_step(params , prn = True):\n",
        "  # Getting the predictions \n",
        "  preds = f(time , params)\n",
        "  # Calculate the loss \n",
        "  loss = mse(preds , speed)\n",
        "  # Initiating back prop on loss function \n",
        "  loss.backward()\n",
        "  # Stepping with a learning rate (multiplying the gradients with a lr)\n",
        "  params.data -= lr * params.grad.data\n",
        "  params.grad = None\n",
        "  if prn:\n",
        "    # Getting only the numbers (we don't want the tensors)\n",
        "    print(loss.item())\n",
        "  return preds\n"
      ],
      "execution_count": 34,
      "outputs": []
    },
    {
      "cell_type": "code",
      "metadata": {
        "colab": {
          "base_uri": "https://localhost:8080/"
        },
        "id": "VU2rhhj2XtSb",
        "outputId": "312b0cf3-0adb-4138-9ad0-980049759647"
      },
      "source": [
        "# Iterating \n",
        "for i in range(10):\n",
        "  apply_step(params)"
      ],
      "execution_count": 35,
      "outputs": [
        {
          "output_type": "stream",
          "text": [
            "3351.633544921875\n",
            "1198.740478515625\n",
            "791.3433837890625\n",
            "714.2474975585938\n",
            "699.6544189453125\n",
            "696.8889770507812\n",
            "696.3614501953125\n",
            "696.2576904296875\n",
            "696.23388671875\n",
            "696.2254028320312\n"
          ],
          "name": "stdout"
        }
      ]
    },
    {
      "cell_type": "markdown",
      "metadata": {
        "id": "JKJI0rQfX1Di"
      },
      "source": [
        "#### Summarizing Gradient Descent\n",
        "\n",
        "- At beginning, the weights of our model can be random (or) from pre-trained model.\n",
        "- We compare the model with our targets and prediction using a **loss function,** which returns a number that we want to make as low as possible by **improving our weights.**\n",
        "- To find how to change the **weights** to make the loss a bit better, we use calculus to **calculate the gradients.**\n",
        "- Calculating gradients is similar finding a steepest downward slope, we use the **magnitude of the gradient** (steepness of a slope) to tell us how big a step to take.\n",
        "- To decide on the step size, we multiply the gradient by a number we choose called the **learning rate.**\n",
        "- We then iterate until we have reached the lower point, and then stop."
      ]
    },
    {
      "cell_type": "code",
      "metadata": {
        "colab": {
          "base_uri": "https://localhost:8080/"
        },
        "id": "b5eKqeHqYM0h",
        "outputId": "fc7f7ee4-cfbc-4048-ab12-7dfa713a7ad7"
      },
      "source": [
        "# Changing them from a list of matrices (rank 3) to a list of vectors (rank 2)\n",
        "\n",
        "train_x = torch.cat([stacked_threes , stacked_sevens]).view(-1 , 28*28)\n",
        "train_x.shape"
      ],
      "execution_count": 36,
      "outputs": [
        {
          "output_type": "execute_result",
          "data": {
            "text/plain": [
              "torch.Size([12396, 784])"
            ]
          },
          "metadata": {
            "tags": []
          },
          "execution_count": 36
        }
      ]
    },
    {
      "cell_type": "markdown",
      "metadata": {
        "id": "jfU3C9X1ZQjB"
      },
      "source": [
        ">`-1` —> denotes the row, since we don't know how many rows exactly in a dataset (or) this image, we use -1. Which says make this axis as big as necessary to fit all the data. Like we do in slicing!"
      ]
    },
    {
      "cell_type": "code",
      "metadata": {
        "colab": {
          "base_uri": "https://localhost:8080/"
        },
        "id": "DFYUecR4ZW6G",
        "outputId": "af4cd4e1-c3f0-4eb8-bfd1-0121e0e0c4f7"
      },
      "source": [
        "# Constructing our labels (3s -> 1 & 7s -> 0s)\n",
        "\n",
        "train_y = tensor([1] * len(threes) + [0] * len(sevens)).unsqueeze(1)\n",
        "train_y.shape"
      ],
      "execution_count": 37,
      "outputs": [
        {
          "output_type": "execute_result",
          "data": {
            "text/plain": [
              "torch.Size([12396, 1])"
            ]
          },
          "metadata": {
            "tags": []
          },
          "execution_count": 37
        }
      ]
    },
    {
      "cell_type": "code",
      "metadata": {
        "colab": {
          "base_uri": "https://localhost:8080/"
        },
        "id": "HttCCq-PZhYt",
        "outputId": "0da39142-2836-4d06-e53a-035d2e3569d9"
      },
      "source": [
        "# Zipping x and y into a dataset \n",
        "dset = list(zip(train_x , train_y))\n",
        "x , y = dset[0] # take one sample\n",
        "\n",
        "# Checking the shape \n",
        "x.shape , y.shape"
      ],
      "execution_count": 38,
      "outputs": [
        {
          "output_type": "execute_result",
          "data": {
            "text/plain": [
              "(torch.Size([784]), torch.Size([1]))"
            ]
          },
          "metadata": {
            "tags": []
          },
          "execution_count": 38
        }
      ]
    },
    {
      "cell_type": "code",
      "metadata": {
        "colab": {
          "base_uri": "https://localhost:8080/"
        },
        "id": "UZ0urfk9Zv4l",
        "outputId": "d3b2751d-7a2b-4871-8832-3cddb3c22064"
      },
      "source": [
        "# x and y \n",
        "\n",
        "print(f'Images in Tensor (sliced) : {x[0 : 100]}')\n",
        "print('----------------- ------------ --------- -------')\n",
        "print(f'Labels: {y}')"
      ],
      "execution_count": 39,
      "outputs": [
        {
          "output_type": "stream",
          "text": [
            "Images in Tensor (sliced) : tensor([0., 0., 0., 0., 0., 0., 0., 0., 0., 0., 0., 0., 0., 0., 0., 0., 0., 0., 0., 0., 0., 0., 0., 0.,\n",
            "        0., 0., 0., 0., 0., 0., 0., 0., 0., 0., 0., 0., 0., 0., 0., 0., 0., 0., 0., 0., 0., 0., 0., 0.,\n",
            "        0., 0., 0., 0., 0., 0., 0., 0., 0., 0., 0., 0., 0., 0., 0., 0., 0., 0., 0., 0., 0., 0., 0., 0.,\n",
            "        0., 0., 0., 0., 0., 0., 0., 0., 0., 0., 0., 0., 0., 0., 0., 0., 0., 0., 0., 0., 0., 0., 0., 0.,\n",
            "        0., 0., 0., 0.])\n",
            "----------------- ------------ --------- -------\n",
            "Labels: tensor([1])\n"
          ],
          "name": "stdout"
        }
      ]
    },
    {
      "cell_type": "code",
      "metadata": {
        "id": "VYPS8e_OZ2z1"
      },
      "source": [
        "# Doing the exact thing for our validation set \n",
        "\n",
        "valid_x = torch.cat([valid_3_tens , valid_7_tens]).view(-1 , 28*28)\n",
        "valid_y = tensor([1]*len(valid_3_tens) + [0]*len(valid_7_tens)).unsqueeze(1)\n",
        "\n",
        "# Putting them into a dataset \n",
        "valid_dset = list(zip(valid_x , valid_y))"
      ],
      "execution_count": 40,
      "outputs": []
    },
    {
      "cell_type": "markdown",
      "metadata": {
        "id": "eh_ztb-haIHa"
      },
      "source": [
        "**Initialize the parameters with random numbers**"
      ]
    },
    {
      "cell_type": "code",
      "metadata": {
        "id": "GMWsqr5FaMHT"
      },
      "source": [
        "# Generate weight for every pixel \n",
        "def init_params(size , std = 1.0):\n",
        "  return (torch.randn(size) * std).requires_grad_()\n",
        "\n"
      ],
      "execution_count": 41,
      "outputs": []
    },
    {
      "cell_type": "code",
      "metadata": {
        "colab": {
          "base_uri": "https://localhost:8080/"
        },
        "id": "qr7y2mXtatRr",
        "outputId": "bc8a05e7-ad43-4eab-a939-7acc5a6ff3cd"
      },
      "source": [
        "# Using the function and creating random weights \n",
        "weights = init_params(size = (28*28 , 1) , std=1.0)\n",
        "weights.shape"
      ],
      "execution_count": 42,
      "outputs": [
        {
          "output_type": "execute_result",
          "data": {
            "text/plain": [
              "torch.Size([784, 1])"
            ]
          },
          "metadata": {
            "tags": []
          },
          "execution_count": 42
        }
      ]
    },
    {
      "cell_type": "code",
      "metadata": {
        "id": "cqNV1yb3a_DY"
      },
      "source": [
        "# Initializing bias \n",
        "\n",
        "bias = init_params(1)"
      ],
      "execution_count": 43,
      "outputs": []
    },
    {
      "cell_type": "code",
      "metadata": {
        "colab": {
          "base_uri": "https://localhost:8080/"
        },
        "id": "yGjAbkVFbDBc",
        "outputId": "bafcebe5-cdcc-44d8-c62f-15a984a4c200"
      },
      "source": [
        "# Prediction on one image \n",
        "(train_x[0] * weights.T).sum() + bias\n"
      ],
      "execution_count": 44,
      "outputs": [
        {
          "output_type": "execute_result",
          "data": {
            "text/plain": [
              "tensor([9.0973], grad_fn=<AddBackward0>)"
            ]
          },
          "metadata": {
            "tags": []
          },
          "execution_count": 44
        }
      ]
    },
    {
      "cell_type": "markdown",
      "metadata": {
        "id": "RRRVFphabkpU"
      },
      "source": [
        "Alright so far we have made a initializer function that gives us random weights, we got: \n",
        "- Function to calculate the predictions"
      ]
    },
    {
      "cell_type": "code",
      "metadata": {
        "colab": {
          "base_uri": "https://localhost:8080/"
        },
        "id": "N2LU4YMkBjr-",
        "outputId": "61dc9088-7064-4899-80ee-b56acfb9b0ba"
      },
      "source": [
        "# Constructing the matrix multiplication function (y = wx + b)\n",
        "\n",
        "# As we can say our tiny model indeed \n",
        "def linear1(xb):\n",
        "  '''\n",
        "  xb --> Input training batch\n",
        "\n",
        "  We return by multiplying the weights to our each input mini-batch\n",
        "  '''\n",
        "  return xb@weights + bias\n",
        "\n",
        "# Getting the predictions for all images in the training set (x)\n",
        "preds = linear1(train_x)\n",
        "preds[:10]"
      ],
      "execution_count": 45,
      "outputs": [
        {
          "output_type": "execute_result",
          "data": {
            "text/plain": [
              "tensor([[  9.0973],\n",
              "        [  0.6744],\n",
              "        [  1.1199],\n",
              "        [-10.2477],\n",
              "        [  7.2562],\n",
              "        [ 10.6898],\n",
              "        [  0.2578],\n",
              "        [  1.0750],\n",
              "        [ -3.1410],\n",
              "        [ -5.1113]], grad_fn=<SliceBackward>)"
            ]
          },
          "metadata": {
            "tags": []
          },
          "execution_count": 45
        }
      ]
    },
    {
      "cell_type": "markdown",
      "metadata": {
        "id": "_mWmLm7rCYOm"
      },
      "source": [
        "Looking back before jumping into calculus and other stuffs first we make a prediction on our input data, then observe how the model/function performs? Not well? \n",
        "\n",
        "Alright we will decide that by passing the preds and targs into a loss function. And we know our goal is to minimize the loss so now we we will get the help of calculus (gradients) that will help our loss function to find the minimum. \n",
        "\n"
      ]
    },
    {
      "cell_type": "code",
      "metadata": {
        "id": "kVjfs3TcDEUg"
      },
      "source": [
        "# Calculating the accuracy\n",
        "corrects = (preds > 0.0).float() == train_y"
      ],
      "execution_count": 46,
      "outputs": []
    },
    {
      "cell_type": "code",
      "metadata": {
        "id": "TjC4c1YBDR2O"
      },
      "source": [
        "# Manually tweaking one value of the weight matrix \n",
        "with torch.no_grad():\n",
        "  weights[0] *= 1.001\n"
      ],
      "execution_count": 47,
      "outputs": []
    },
    {
      "cell_type": "markdown",
      "metadata": {
        "id": "So3Pu87LK_sp"
      },
      "source": [
        "Making a change with just `weights[0] *=1.001` throws an error, this is because we are trying to access even the graidents and make a change in that. \n",
        "\n",
        "By using with `torch.no_grad()` we can turn of the gradients and make computations just on the value of the matrices. \n",
        "\n",
        "https://datascience.stackexchange.com/questions/32651/what-is-the-use-of-torch-no-grad-in-pytorch\n",
        "\n",
        "Gradients tells the loss function how to make changes in order to tweak the weights. \n",
        "\n"
      ]
    },
    {
      "cell_type": "markdown",
      "metadata": {
        "id": "y6y7oqR6DSiD"
      },
      "source": [
        " \n",
        "\n",
        "Reads: \n",
        "- https://discuss.pytorch.org/t/what-is-the-purpose-of-is-leaf/87000/5\n",
        "- https://stackoverflow.com/questions/57188409/assigning-a-parameter-to-the-gpu-sets-is-leaf-as-false\n",
        "- https://forums.fast.ai/t/weights-0-in-place-operations/89308\n",
        "\n"
      ]
    },
    {
      "cell_type": "code",
      "metadata": {
        "colab": {
          "base_uri": "https://localhost:8080/"
        },
        "id": "0-QbwOf0EZo0",
        "outputId": "c8dead07-9f0d-440b-9866-e370ac3ef5e8"
      },
      "source": [
        "# Making the prediction after manually tweaking the value \n",
        "preds = linear1(train_x)\n",
        "\n",
        "((preds > 0.0).float() == train_y).float().mean().item()"
      ],
      "execution_count": 48,
      "outputs": [
        {
          "output_type": "execute_result",
          "data": {
            "text/plain": [
              "0.3944820761680603"
            ]
          },
          "metadata": {
            "tags": []
          },
          "execution_count": 48
        }
      ]
    },
    {
      "cell_type": "markdown",
      "metadata": {
        "id": "02x4ogu2MYAJ"
      },
      "source": [
        "If we are going to use accuracy as an performance metric the slight changes in the weight won't make a difference in the loss function. \n",
        "\n",
        "So we need a metrics where little changes on the weight matrice should make a impact on the loss function. \n",
        "\n",
        "> We need a loss function that when our weights result in slightly better predictions, gives us a slightly better loss.\n",
        "\n",
        "The only thing our model will do is, given a number predicts it whether an 3 or not. if it's not 3 then it has to be 7. \n",
        "\n",
        "\n"
      ]
    },
    {
      "cell_type": "code",
      "metadata": {
        "id": "7Vq14I66IdpU"
      },
      "source": [
        "# Calculating the loss \n",
        "trgts = tensor([1 , 0 , 1])\n",
        "prds = tensor([0.9 , 0.4 , 0.2])\n",
        "\n",
        "# Creating our own loss function \n",
        "def mnist_loss(predictions , targets):\n",
        "  return torch.where(targets == 1 , 1 - predictions , predictions).mean()"
      ],
      "execution_count": 49,
      "outputs": []
    },
    {
      "cell_type": "code",
      "metadata": {
        "colab": {
          "base_uri": "https://localhost:8080/"
        },
        "id": "nRvyTYJ2M_2a",
        "outputId": "65cf1620-4e0d-4232-a42a-4a843be307a8"
      },
      "source": [
        "mnist_loss(prds , trgts)"
      ],
      "execution_count": 50,
      "outputs": [
        {
          "output_type": "execute_result",
          "data": {
            "text/plain": [
              "tensor(0.4333)"
            ]
          },
          "metadata": {
            "tags": []
          },
          "execution_count": 50
        }
      ]
    },
    {
      "cell_type": "code",
      "metadata": {
        "id": "WTGqhz2PO9Ni",
        "colab": {
          "base_uri": "https://localhost:8080/"
        },
        "outputId": "c38dab04-17dc-45f0-f5a0-78674b51d0d1"
      },
      "source": [
        "# Importing utils from the fastbook \n",
        "\n",
        "!pip install -q fastbook \n",
        "from fastbook import *"
      ],
      "execution_count": 51,
      "outputs": [
        {
          "output_type": "stream",
          "text": [
            "\u001b[K     |████████████████████████████████| 727kB 28.8MB/s \n",
            "\u001b[K     |████████████████████████████████| 1.2MB 45.4MB/s \n",
            "\u001b[K     |████████████████████████████████| 51kB 9.7MB/s \n",
            "\u001b[K     |████████████████████████████████| 61kB 8.5MB/s \n",
            "\u001b[?25h"
          ],
          "name": "stdout"
        }
      ]
    },
    {
      "cell_type": "code",
      "metadata": {
        "colab": {
          "base_uri": "https://localhost:8080/",
          "height": 339
        },
        "id": "-9BKCgYZNeLe",
        "outputId": "60efc959-8f3e-43e5-f70f-fab284ab26c7"
      },
      "source": [
        "# Example of sigmoid from Pytorch function\n",
        "\n",
        "plot_function(torch.sigmoid , title='Sigmoid' , min=-4 , max=4)"
      ],
      "execution_count": 52,
      "outputs": [
        {
          "output_type": "stream",
          "text": [
            "/usr/local/lib/python3.7/dist-packages/fastbook/__init__.py:73: UserWarning: Not providing a value for linspace's steps is deprecated and will throw a runtime error in a future release. This warning will appear only once per process. (Triggered internally at  /pytorch/aten/src/ATen/native/RangeFactories.cpp:25.)\n",
            "  x = torch.linspace(min,max)\n"
          ],
          "name": "stderr"
        },
        {
          "output_type": "display_data",
          "data": {
            "image/png": "[encoded data removed]",
            "text/plain": [
              "<Figure size 432x288 with 1 Axes>"
            ]
          },
          "metadata": {
            "tags": [],
            "needs_background": "light"
          }
        }
      ]
    },
    {
      "cell_type": "markdown",
      "metadata": {
        "id": "0CEUFMyRN0EQ"
      },
      "source": [
        "Sigmoid function squeezes the values between the range 0 and 1."
      ]
    },
    {
      "cell_type": "code",
      "metadata": {
        "id": "DoG0tkS_Omkl"
      },
      "source": [
        "# Updating our above mnist_loss with a sigmoid function \n",
        "def mnist_loss(predictions, targets):\n",
        "  return torch.where(targets == 1 , 1-predictions ,predictions).mean()"
      ],
      "execution_count": 53,
      "outputs": []
    },
    {
      "cell_type": "markdown",
      "metadata": {
        "id": "nJkuVbkXPnw8"
      },
      "source": [
        "metric --> For human understanding \n",
        "loss --> For automatic updation (machine's metric to improve the performance of our model)\n",
        "\n",
        "The loss function is calculated for each item in our dataset, and then at the end of an epoch, the loss values are all averaged and the overall mean is reported for the epoch.\n",
        "\n",
        "Metrics on other hand are the numbers we care about and these are the values which are printed at end of each epoch that tells us how our model is doing.\n",
        "\n",
        "\n",
        "### SGD and Mini-Batches \n",
        "\n",
        "Now in here we will try to automate most of the parts. \n",
        "\n",
        "- Batching a handful items into a seperate mini-batches and making computations on those mini-batches rather than computing on the whole dataset / items.\n",
        "-Choosing a good batch size is one of the decisions one need to make a deep learning practitioner to train the model quickly and accurately.\n",
        "- The important reason for having mini-batches is it could run on GPU, so the computations takes place even more faster. \n",
        "\n",
        "\n",
        "Before putting our data into batches, \n",
        "- We gotta randomly shuffle the data. \n",
        "\n",
        "\n",
        "- it prevents any bias during the training\n",
        "- it prevents the model from learning the order of the training\n",
        "- it helps the training converge fast\n",
        "\n",
        "https://stats.stackexchange.com/questions/245502/why-should-we-shuffle-data-while-training-a-neural-network\n",
        "\n",
        "\n",
        "\n",
        "\n"
      ]
    },
    {
      "cell_type": "markdown",
      "metadata": {
        "id": "p-fC_h4zQB9K"
      },
      "source": [
        "#### DataLoader\n",
        "\n",
        "A `DataLoader` can take any Python collection and turn it into a iterator (generator) over many batches. "
      ]
    },
    {
      "cell_type": "code",
      "metadata": {
        "colab": {
          "base_uri": "https://localhost:8080/"
        },
        "id": "IWuKgzl7WUNx",
        "outputId": "362f06bf-7a38-4e7d-98cd-b4ef8a5870b3"
      },
      "source": [
        "# Sample DataLoader \n",
        "\n",
        "coll = range(20) \n",
        "dls = DataLoader(coll , batch_size = 5 , shuffle = True)\n",
        "list(dls)"
      ],
      "execution_count": 54,
      "outputs": [
        {
          "output_type": "execute_result",
          "data": {
            "text/plain": [
              "[tensor([ 7, 17,  5,  9, 15]),\n",
              " tensor([19, 11, 10, 13,  2]),\n",
              " tensor([12,  0, 18, 16,  3]),\n",
              " tensor([ 1,  4,  6, 14,  8])]"
            ]
          },
          "metadata": {
            "tags": []
          },
          "execution_count": 54
        }
      ]
    },
    {
      "cell_type": "markdown",
      "metadata": {
        "id": "nXmsaDI_WvG1"
      },
      "source": [
        "`Dataset` --> Contains collection of both independent and dependent variable. "
      ]
    },
    {
      "cell_type": "code",
      "metadata": {
        "colab": {
          "base_uri": "https://localhost:8080/"
        },
        "id": "WKtlvhsTXArd",
        "outputId": "ba2f45af-fdc7-445d-e1aa-b7c206898e6a"
      },
      "source": [
        "# Example of Dataset \n",
        "ds = L(enumerate(string.ascii_lowercase))\n",
        "ds"
      ],
      "execution_count": 55,
      "outputs": [
        {
          "output_type": "execute_result",
          "data": {
            "text/plain": [
              "(#26) [(0, 'a'),(1, 'b'),(2, 'c'),(3, 'd'),(4, 'e'),(5, 'f'),(6, 'g'),(7, 'h'),(8, 'i'),(9, 'j')...]"
            ]
          },
          "metadata": {
            "tags": []
          },
          "execution_count": 55
        }
      ]
    },
    {
      "cell_type": "markdown",
      "metadata": {
        "id": "WXxFDBstXKpK"
      },
      "source": [
        "In practice, we pass a `Dataset` to a `DataLoader` and it returns batches of independent and dependent variables."
      ]
    },
    {
      "cell_type": "markdown",
      "metadata": {
        "id": "081C7xmRXZFh"
      },
      "source": [
        "### Putting it all together \n",
        "\n",
        "- Initialize the parameters \n",
        "- Making a prediction \n",
        "- Depending upon my prediction, will calculate my loss function.\n",
        "- Call our good friend gradients, activate the gradients of our weights. Gradients helps in updating the parameters.\n",
        "- We are going to perform to step, where we will multiply our learning with our weight gradients. \n",
        "- We will train this for our desired epochs. \n"
      ]
    },
    {
      "cell_type": "code",
      "metadata": {
        "id": "xlhLm6EOY8g8"
      },
      "source": [
        "# re-initializing the parameters \n",
        "weights = init_params((28*28 , 1))\n",
        "bias = init_params(1)\n"
      ],
      "execution_count": 56,
      "outputs": []
    },
    {
      "cell_type": "code",
      "metadata": {
        "colab": {
          "base_uri": "https://localhost:8080/"
        },
        "id": "hmmdglZWcqAe",
        "outputId": "0622f36c-6fa4-437d-ec09-da0f705c501b"
      },
      "source": [
        "# Constructing our DataLoader \n",
        "dl = DataLoader(dset , batch_size= 256)\n",
        "# Slicing off first mini-batch\n",
        "xb , yb = first(dl)\n",
        "\n",
        "# Checking the shape \n",
        "xb.shape , yb.shape"
      ],
      "execution_count": 57,
      "outputs": [
        {
          "output_type": "execute_result",
          "data": {
            "text/plain": [
              "(torch.Size([256, 784]), torch.Size([256, 1]))"
            ]
          },
          "metadata": {
            "tags": []
          },
          "execution_count": 57
        }
      ]
    },
    {
      "cell_type": "code",
      "metadata": {
        "id": "GebvSZW6dTO_"
      },
      "source": [
        "# Doing the same for validaton set \n",
        "valid_dl = DataLoader(valid_dset , batch_size = 256)"
      ],
      "execution_count": 58,
      "outputs": []
    },
    {
      "cell_type": "code",
      "metadata": {
        "colab": {
          "base_uri": "https://localhost:8080/"
        },
        "id": "jOsVsZsMdg5H",
        "outputId": "beb8ec2f-74a6-4933-f92f-b59757f48b26"
      },
      "source": [
        "# Create the mini-batch of size 4 \n",
        "batch = train_x[:4]\n",
        "batch.shape"
      ],
      "execution_count": 59,
      "outputs": [
        {
          "output_type": "execute_result",
          "data": {
            "text/plain": [
              "torch.Size([4, 784])"
            ]
          },
          "metadata": {
            "tags": []
          },
          "execution_count": 59
        }
      ]
    },
    {
      "cell_type": "code",
      "metadata": {
        "colab": {
          "base_uri": "https://localhost:8080/"
        },
        "id": "QCK__wf0dsE-",
        "outputId": "4ac96b30-ae97-45a1-9caa-8d77614f9cff"
      },
      "source": [
        "# Making predictions on our sample batch \n",
        "preds = linear1(batch)\n",
        "preds\n"
      ],
      "execution_count": 60,
      "outputs": [
        {
          "output_type": "execute_result",
          "data": {
            "text/plain": [
              "tensor([[  1.1245],\n",
              "        [ -0.6244],\n",
              "        [ -1.7694],\n",
              "        [-12.7221]], grad_fn=<AddBackward0>)"
            ]
          },
          "metadata": {
            "tags": []
          },
          "execution_count": 60
        }
      ]
    },
    {
      "cell_type": "code",
      "metadata": {
        "colab": {
          "base_uri": "https://localhost:8080/"
        },
        "id": "8GunWe6ce_0A",
        "outputId": "a3b015ce-3f59-4383-866d-a7d9dfeed3e9"
      },
      "source": [
        "# Labels \n",
        "train_y[:4]"
      ],
      "execution_count": 61,
      "outputs": [
        {
          "output_type": "execute_result",
          "data": {
            "text/plain": [
              "tensor([[1],\n",
              "        [1],\n",
              "        [1],\n",
              "        [1]])"
            ]
          },
          "metadata": {
            "tags": []
          },
          "execution_count": 61
        }
      ]
    },
    {
      "cell_type": "code",
      "metadata": {
        "colab": {
          "base_uri": "https://localhost:8080/"
        },
        "id": "VDK5ma6EdtQ-",
        "outputId": "300e7975-a664-489c-d85b-4e217bbac7cd"
      },
      "source": [
        "# Calculating the loss \n",
        "loss = mnist_loss(preds , train_y[:4])\n",
        "loss "
      ],
      "execution_count": 62,
      "outputs": [
        {
          "output_type": "execute_result",
          "data": {
            "text/plain": [
              "tensor(4.4978, grad_fn=<MeanBackward0>)"
            ]
          },
          "metadata": {
            "tags": []
          },
          "execution_count": 62
        }
      ]
    },
    {
      "cell_type": "code",
      "metadata": {
        "colab": {
          "base_uri": "https://localhost:8080/"
        },
        "id": "Avt9NCs8fHRJ",
        "outputId": "58e8c668-ae55-428d-d2ba-647b450c1655"
      },
      "source": [
        "# Now calculating the gradients \n",
        "loss.backward()\n",
        "print(f'Shape of weight calculated: {weights.grad.shape}')\n",
        "print(f'Turning into a single tensor: {weights.grad.mean()}')\n",
        "print(f'Bias: {bias.grad}')"
      ],
      "execution_count": 63,
      "outputs": [
        {
          "output_type": "stream",
          "text": [
            "Shape of weight calculated: torch.Size([784, 1])\n",
            "Turning into a single tensor: -0.15112045407295227\n",
            "Bias: tensor([-1.])\n"
          ],
          "name": "stdout"
        }
      ]
    },
    {
      "cell_type": "code",
      "metadata": {
        "id": "8786Y4q9ftRv"
      },
      "source": [
        "# Putting altogether in a function \n",
        "def calc_grad(xb , yb , model):\n",
        "  '''\n",
        "  xb --> mini-batched training set \n",
        "  yb --> mini-batched test set \n",
        "  model --> the model we want to use \n",
        "  '''\n",
        "  # Making a prediction \n",
        "  preds = model(xb) \n",
        "  # Calculating the loss\n",
        "  loss = mnist_loss(preds , yb)\n",
        "  # Activating the gradients (for updating our weights)\n",
        "  loss.backward() \n",
        "  \n"
      ],
      "execution_count": 64,
      "outputs": []
    },
    {
      "cell_type": "code",
      "metadata": {
        "colab": {
          "base_uri": "https://localhost:8080/"
        },
        "id": "FRHr0Eykhd2G",
        "outputId": "5ea15188-5b33-40d0-92c7-8c9526a7cd33"
      },
      "source": [
        "# Testing the above function \n",
        "calc_grad(batch , train_y[:4] , linear1)\n",
        "\n",
        "# Below are the weights and biases after calculating the gradients above \n",
        "weights.grad.mean() , bias.grad"
      ],
      "execution_count": 65,
      "outputs": [
        {
          "output_type": "execute_result",
          "data": {
            "text/plain": [
              "(tensor(-0.3022), tensor([-2.]))"
            ]
          },
          "metadata": {
            "tags": []
          },
          "execution_count": 65
        }
      ]
    },
    {
      "cell_type": "code",
      "metadata": {
        "colab": {
          "base_uri": "https://localhost:8080/"
        },
        "id": "HdrwVulNhz1g",
        "outputId": "fc9c2fde-a9d6-4d0d-b94c-672fdedb3a3e"
      },
      "source": [
        "# Calling it another time\n",
        "calc_grad(batch , train_y[:4] , linear1)\n",
        "\n",
        "# Below are wts and biases\n",
        "weights.grad.mean() , bias.grad"
      ],
      "execution_count": 66,
      "outputs": [
        {
          "output_type": "execute_result",
          "data": {
            "text/plain": [
              "(tensor(-0.4534), tensor([-3.]))"
            ]
          },
          "metadata": {
            "tags": []
          },
          "execution_count": 66
        }
      ]
    },
    {
      "cell_type": "code",
      "metadata": {
        "colab": {
          "base_uri": "https://localhost:8080/"
        },
        "id": "M9gtJ5AeiCgB",
        "outputId": "1d0dd3ad-e23b-4d22-b46b-1de7ef14325c"
      },
      "source": [
        "# Making the gradients to zero, so it won't affect the previous computer gradients \n",
        "weights.grad.zero_()\n",
        "bias.grad.zero_()"
      ],
      "execution_count": 67,
      "outputs": [
        {
          "output_type": "execute_result",
          "data": {
            "text/plain": [
              "tensor([0.])"
            ]
          },
          "metadata": {
            "tags": []
          },
          "execution_count": 67
        }
      ]
    },
    {
      "cell_type": "code",
      "metadata": {
        "id": "-c3E362GifK7",
        "colab": {
          "base_uri": "https://localhost:8080/"
        },
        "outputId": "19b135f3-6a4e-4905-bf09-56d6953bcb9c"
      },
      "source": [
        "# Now it won't add with the previous gradients (because we set it to zero)\n",
        "# Calling it another time\n",
        "calc_grad(batch , train_y[:4] , linear1)\n",
        "\n",
        "# Below are wts and biases\n",
        "weights.grad.mean() , bias.grad"
      ],
      "execution_count": 68,
      "outputs": [
        {
          "output_type": "execute_result",
          "data": {
            "text/plain": [
              "(tensor(-0.1511), tensor([-1.]))"
            ]
          },
          "metadata": {
            "tags": []
          },
          "execution_count": 68
        }
      ]
    },
    {
      "cell_type": "markdown",
      "metadata": {
        "id": "ddXL62BLctYP"
      },
      "source": [
        "Awesome! So we have one remaining step, that is to update the weights and biases (parameters) on the gradient and the learnin rate. \n",
        "\n",
        "We set the gradients to zero to avoid the confusion when we try to compute the derivative to the next batch. \n",
        "\n",
        "It's time now to calculate the accuracy, to decide if an output represent a 3 or 7,\n",
        "- if it's greater than 0, then it's 7 \n",
        "- if it's less than 0, then it's 3 \n",
        "\n",
        "Now the updated function trains a model with the learning rate. "
      ]
    },
    {
      "cell_type": "code",
      "metadata": {
        "id": "-GMmFdKhfmrS"
      },
      "source": [
        "# It will have a step function and runs for one epoch \n",
        "def train_epoch(model , lr , params):\n",
        "  # Training loop\n",
        "  for xb , yb in dl:\n",
        "    calc_grad(xb , yb , model)\n",
        "    for p in params:\n",
        "      p.data  -= p.grad*lr\n",
        "      p.grad.zero_()"
      ],
      "execution_count": 69,
      "outputs": []
    },
    {
      "cell_type": "markdown",
      "metadata": {
        "id": "zGFnMzNW1PLc"
      },
      "source": [
        "Important Links \n",
        "- https://discuss.pytorch.org/t/when-grad-is-none/4466\n",
        "- https://forums.fast.ai/t/autograd-does-not-appear-to-be-setting-gradient-lesson-4-04-mnist-basics-ipynb/82358"
      ]
    },
    {
      "cell_type": "code",
      "metadata": {
        "id": "y557GoFRtgT-"
      },
      "source": [
        "#train_epoch(linear1 , lr , params)"
      ],
      "execution_count": 70,
      "outputs": []
    },
    {
      "cell_type": "code",
      "metadata": {
        "colab": {
          "base_uri": "https://localhost:8080/"
        },
        "id": "SJAPuNi-g-1i",
        "outputId": "604f9873-f053-4647-dc62-488fdcb6d2f8"
      },
      "source": [
        "(preds > 0.0).float() == train_y[:4]"
      ],
      "execution_count": 71,
      "outputs": [
        {
          "output_type": "execute_result",
          "data": {
            "text/plain": [
              "tensor([[ True],\n",
              "        [False],\n",
              "        [False],\n",
              "        [False]])"
            ]
          },
          "metadata": {
            "tags": []
          },
          "execution_count": 71
        }
      ]
    },
    {
      "cell_type": "markdown",
      "metadata": {
        "id": "sWG_A0KGhC5Z"
      },
      "source": [
        "Now we are creating a function that would calculate the accuracy from our x and y data batches. "
      ]
    },
    {
      "cell_type": "code",
      "metadata": {
        "id": "7nTIsMFniU2I"
      },
      "source": [
        "# Function to calculate the accuracy \n",
        "def batch_accuracy(xb , yb):\n",
        "  '''\n",
        "  xb --> input data with multiplied weights [model(xb)] \n",
        "  yb --> targets\n",
        "  '''\n",
        "  preds = xb.sigmoid()\n",
        "  # Returns True (or) False\n",
        "  correct = (preds > 0.5) == yb\n",
        "  # Converting into 0s and 1s\n",
        "  return correct.float().mean()"
      ],
      "execution_count": 72,
      "outputs": []
    },
    {
      "cell_type": "code",
      "metadata": {
        "colab": {
          "base_uri": "https://localhost:8080/"
        },
        "id": "TFLvTxsci32n",
        "outputId": "f5835fe1-f355-4d55-dc87-6d0c4e3eab54"
      },
      "source": [
        "# Using the above function we've made \n",
        "print(f'We got the accuracy of: {batch_accuracy(linear1(batch) , train_y[:4])}')"
      ],
      "execution_count": 73,
      "outputs": [
        {
          "output_type": "stream",
          "text": [
            "We got the accuracy of: 0.25\n"
          ],
          "name": "stdout"
        }
      ]
    },
    {
      "cell_type": "markdown",
      "metadata": {
        "id": "5KS4XP31jbNq"
      },
      "source": [
        "Great our function works, to make it more sense let's make our model to make predictions on a validation set and calculate accuracy from there. "
      ]
    },
    {
      "cell_type": "code",
      "metadata": {
        "id": "kDw_WcE1jnjO"
      },
      "source": [
        "# Calculate accuracy on our validation set \n",
        "def validate_epoch(model):\n",
        "  '''\n",
        "  model --> Input your model (linear1)\n",
        "  This function will calculate the accuracy on a validation dataloader \n",
        "  '''\n",
        "  accs = [batch_accuracy(model(xb) , yb) for xb , yb in valid_dl]\n",
        "  return round(torch.stack(accs).mean().item() , 4)"
      ],
      "execution_count": 74,
      "outputs": []
    },
    {
      "cell_type": "code",
      "metadata": {
        "colab": {
          "base_uri": "https://localhost:8080/"
        },
        "id": "vEysM8eujpKu",
        "outputId": "812fc915-2c11-4968-a3a9-63cd03173609"
      },
      "source": [
        "ac = [batch_accuracy(linear1(batch) , train_y[:4]) for xb , yb in valid_dl]\n",
        "ac"
      ],
      "execution_count": 75,
      "outputs": [
        {
          "output_type": "execute_result",
          "data": {
            "text/plain": [
              "[tensor(0.2500),\n",
              " tensor(0.2500),\n",
              " tensor(0.2500),\n",
              " tensor(0.2500),\n",
              " tensor(0.2500),\n",
              " tensor(0.2500),\n",
              " tensor(0.2500),\n",
              " tensor(0.2500)]"
            ]
          },
          "metadata": {
            "tags": []
          },
          "execution_count": 75
        }
      ]
    },
    {
      "cell_type": "code",
      "metadata": {
        "id": "qe9_qUU-ouCE",
        "colab": {
          "base_uri": "https://localhost:8080/"
        },
        "outputId": "6a0ff857-4de1-453a-806c-a056485eb1cc"
      },
      "source": [
        "round(torch.stack(ac).mean().item() , 4)"
      ],
      "execution_count": 76,
      "outputs": [
        {
          "output_type": "execute_result",
          "data": {
            "text/plain": [
              "0.25"
            ]
          },
          "metadata": {
            "tags": []
          },
          "execution_count": 76
        }
      ]
    },
    {
      "cell_type": "code",
      "metadata": {
        "id": "sN0aMKNCoyLK",
        "colab": {
          "base_uri": "https://localhost:8080/"
        },
        "outputId": "b8faa132-50cd-4971-eb8d-3f564add9a8a"
      },
      "source": [
        "# Testing the above function                                                         \n",
        "validate_epoch(linear1)\n"
      ],
      "execution_count": 77,
      "outputs": [
        {
          "output_type": "execute_result",
          "data": {
            "text/plain": [
              "0.516"
            ]
          },
          "metadata": {
            "tags": []
          },
          "execution_count": 77
        }
      ]
    },
    {
      "cell_type": "code",
      "metadata": {
        "id": "cSQWFfpNyhsQ",
        "colab": {
          "base_uri": "https://localhost:8080/"
        },
        "outputId": "10ec0da4-b368-4801-d882-73d60a84ef94"
      },
      "source": [
        "def init_params(size, variance=1.0): \n",
        "  return (torch.randn(size, dtype=torch.float)*variance).requires_grad_()\n",
        "\n",
        "weights = init_params(size = ((28*28) ,1))\n",
        "bias = init_params(1)\n",
        "weights.shape , bias.shape\n",
        "\n"
      ],
      "execution_count": 78,
      "outputs": [
        {
          "output_type": "execute_result",
          "data": {
            "text/plain": [
              "(torch.Size([784, 1]), torch.Size([1]))"
            ]
          },
          "metadata": {
            "tags": []
          },
          "execution_count": 78
        }
      ]
    },
    {
      "cell_type": "code",
      "metadata": {
        "id": "Ml3w3pyNzCcG",
        "colab": {
          "base_uri": "https://localhost:8080/"
        },
        "outputId": "04027378-c75c-4ac3-be06-6d6a7c83385e"
      },
      "source": [
        "# Setting up the hyperparameters (testing for one epoch)\n",
        "params = weights,bias\n",
        "lr = 4e-3\n",
        "train_epoch(linear1 , lr , params)\n",
        "validate_epoch(linear1)"
      ],
      "execution_count": 79,
      "outputs": [
        {
          "output_type": "execute_result",
          "data": {
            "text/plain": [
              "0.7682"
            ]
          },
          "metadata": {
            "tags": []
          },
          "execution_count": 79
        }
      ]
    },
    {
      "cell_type": "code",
      "metadata": {
        "id": "0yme6ci1ryev",
        "colab": {
          "base_uri": "https://localhost:8080/"
        },
        "outputId": "67b6db8a-12b9-4041-f4b2-4ee9526d68fc"
      },
      "source": [
        "# Using both functions and training our model for 10 epochs \n",
        "for i in range(10):\n",
        "  train_epoch(linear1 , lr , params)\n",
        "  print(f'The accuracy is: {validate_epoch(linear1)}\\n')"
      ],
      "execution_count": 80,
      "outputs": [
        {
          "output_type": "stream",
          "text": [
            "The accuracy is: 0.8109\n",
            "\n",
            "The accuracy is: 0.8349\n",
            "\n",
            "The accuracy is: 0.8545\n",
            "\n",
            "The accuracy is: 0.8688\n",
            "\n",
            "The accuracy is: 0.8815\n",
            "\n",
            "The accuracy is: 0.8888\n",
            "\n",
            "The accuracy is: 0.8982\n",
            "\n",
            "The accuracy is: 0.906\n",
            "\n",
            "The accuracy is: 0.909\n",
            "\n",
            "The accuracy is: 0.9164\n",
            "\n"
          ],
          "name": "stdout"
        }
      ]
    },
    {
      "cell_type": "markdown",
      "metadata": {
        "id": "1NsfyRZms0e2"
      },
      "source": [
        "### Creating an Optimizer\n",
        "So now we will use the power of the optimizer and get rid of two steps that is, \n",
        "- Initializing the parameters \n",
        "- Calculating gradients \n",
        "\n",
        "\n"
      ]
    },
    {
      "cell_type": "code",
      "metadata": {
        "id": "yDd7qhRW6Ljv"
      },
      "source": [
        "# Creating the parametes by using pytorch's module\n",
        "import torch \n",
        "linear_model = nn.Linear((28*28) , 1)"
      ],
      "execution_count": 81,
      "outputs": []
    },
    {
      "cell_type": "code",
      "metadata": {
        "id": "bP63_zBt6XQu",
        "colab": {
          "base_uri": "https://localhost:8080/"
        },
        "outputId": "7becf09d-3016-43a2-b739-91e5b292e4a6"
      },
      "source": [
        "# Unpacking weights and biases \n",
        "w , b = linear_model.parameters()\n",
        "w.shape , b.shape"
      ],
      "execution_count": 82,
      "outputs": [
        {
          "output_type": "execute_result",
          "data": {
            "text/plain": [
              "(torch.Size([1, 784]), torch.Size([1]))"
            ]
          },
          "metadata": {
            "tags": []
          },
          "execution_count": 82
        }
      ]
    },
    {
      "cell_type": "code",
      "metadata": {
        "id": "NpIWvszk6v5C",
        "colab": {
          "base_uri": "https://localhost:8080/"
        },
        "outputId": "fe20e058-d123-408c-bdbd-6fb2b91eb23a"
      },
      "source": [
        "print(f'For Pytorch model the weights are : {w.shape}')\n",
        "print(f'For Pytorch model the bias are :{b.shape}')\n",
        "\n",
        "print('-------------------------  --------------------------')\n",
        "\n",
        "print(f'For our model the weights are :{weights.shape}')\n",
        "print(f'For our model the weights are :{bias.shape}')"
      ],
      "execution_count": 83,
      "outputs": [
        {
          "output_type": "stream",
          "text": [
            "For Pytorch model the weights are : torch.Size([1, 784])\n",
            "For Pytorch model the bias are :torch.Size([1])\n",
            "-------------------------  --------------------------\n",
            "For our model the weights are :torch.Size([784, 1])\n",
            "For our model the weights are :torch.Size([1])\n"
          ],
          "name": "stdout"
        }
      ]
    },
    {
      "cell_type": "markdown",
      "metadata": {
        "id": "ucGcgRy39W2C"
      },
      "source": [
        "> Setting the `p.grad = None` is gonna return 0 because there is no Null or None in C ++. "
      ]
    },
    {
      "cell_type": "code",
      "metadata": {
        "id": "AmGjxrKZ7cdb"
      },
      "source": [
        "# Creating an SGD optimizer\n",
        "lr = 1.\n",
        "opt = torch.optim.SGD(params = linear_model.parameters() ,\n",
        "                      lr = lr)"
      ],
      "execution_count": 84,
      "outputs": []
    },
    {
      "cell_type": "code",
      "metadata": {
        "id": "YRyVZQIY-bRW"
      },
      "source": [
        "def train_epoch(model):\n",
        "  for xb , yb in dl:\n",
        "    calc_grad(xb , yb , model)\n",
        "    opt.step()\n",
        "    opt.zero_grad()"
      ],
      "execution_count": 85,
      "outputs": []
    },
    {
      "cell_type": "code",
      "metadata": {
        "id": "q5_tHzEp-FnY"
      },
      "source": [
        "# Creating the train_model function \n",
        "def train_model(model , epochs):\n",
        "  for i in range(epochs):\n",
        "    train_epoch(model)\n",
        "    print(f'The accuracy is: {validate_epoch(model)}\\n')"
      ],
      "execution_count": 86,
      "outputs": []
    },
    {
      "cell_type": "code",
      "metadata": {
        "id": "PBtIFj7h-w7b",
        "colab": {
          "base_uri": "https://localhost:8080/"
        },
        "outputId": "2d1dfb52-f9d3-48cf-8668-46d106b34169"
      },
      "source": [
        "train_model(linear_model , 20)"
      ],
      "execution_count": 87,
      "outputs": [
        {
          "output_type": "stream",
          "text": [
            "The accuracy is: 0.9533\n",
            "\n",
            "The accuracy is: 0.9533\n",
            "\n",
            "The accuracy is: 0.9533\n",
            "\n",
            "The accuracy is: 0.9533\n",
            "\n",
            "The accuracy is: 0.9533\n",
            "\n",
            "The accuracy is: 0.9533\n",
            "\n",
            "The accuracy is: 0.9533\n",
            "\n",
            "The accuracy is: 0.9533\n",
            "\n",
            "The accuracy is: 0.9533\n",
            "\n",
            "The accuracy is: 0.9533\n",
            "\n",
            "The accuracy is: 0.9533\n",
            "\n",
            "The accuracy is: 0.9533\n",
            "\n",
            "The accuracy is: 0.9533\n",
            "\n",
            "The accuracy is: 0.9533\n",
            "\n",
            "The accuracy is: 0.9533\n",
            "\n",
            "The accuracy is: 0.9533\n",
            "\n",
            "The accuracy is: 0.9533\n",
            "\n",
            "The accuracy is: 0.9533\n",
            "\n",
            "The accuracy is: 0.9533\n",
            "\n",
            "The accuracy is: 0.9533\n",
            "\n"
          ],
          "name": "stdout"
        }
      ]
    },
    {
      "cell_type": "markdown",
      "metadata": {
        "id": "5KECDDPj-8GW"
      },
      "source": [
        "Awesome so far, we managed to automate some of the stuffs we have been doing with the help of Pytorch. \n",
        "\n",
        "Now to automate the training process we are going to use Fastai's `Learner` class (train_model) \n",
        "\n",
        "To create a `Learner` we need a `DataLoaders`, and the `DataLoaders` containts both train and validation Dataloader. \n",
        "\n",
        "- `DataLoader` --> Create batches of the data and shuffles it. \n",
        "- `DataLoaders` --> Combines two DataLoader into one whole. \n",
        "\n",
        "**`Learner`** takes, \n",
        "- a `DataLoaders`\n",
        "- the model \n",
        "- optimization function \n",
        "- Loss function \n",
        "- metrics \n",
        "\n",
        "Important Links:\n",
        "- https://forums.fast.ai/t/core-usage-of-datablock-and-dataloader/69051/2\n",
        "- https://forums.fast.ai/t/combining-dataloaders/79549\n",
        "- https://forums.fast.ai/t/custom-dataset-and-dataloader-for-learner/81408"
      ]
    },
    {
      "cell_type": "code",
      "metadata": {
        "id": "FUJp9fRuA1KD"
      },
      "source": [
        "# Creating our DataLoaders \n",
        "dls = DataLoaders(dl , valid_dl)\n"
      ],
      "execution_count": 88,
      "outputs": []
    },
    {
      "cell_type": "code",
      "metadata": {
        "id": "L5mdvPAyBtjv"
      },
      "source": [
        "# Creating a learner \n",
        "learn = Learner(dls , \n",
        "                model = nn.Linear(28*28 , 1) , \n",
        "                opt_func = SGD, \n",
        "                loss_func = mnist_loss , \n",
        "                metrics = batch_accuracy)"
      ],
      "execution_count": 89,
      "outputs": []
    },
    {
      "cell_type": "code",
      "metadata": {
        "id": "KBGgeTMKCB0n",
        "colab": {
          "base_uri": "https://localhost:8080/",
          "height": 359
        },
        "outputId": "c602d3a7-ba73-403d-ae9d-28f0bf48b652"
      },
      "source": [
        "# Now training our learner for 10 epochs \n",
        "lr = 1e-4\n",
        "learn.fit(10 , lr = lr)"
      ],
      "execution_count": 90,
      "outputs": [
        {
          "output_type": "display_data",
          "data": {
            "text/html": [
              "<table border=\"1\" class=\"dataframe\">\n",
              "  <thead>\n",
              "    <tr style=\"text-align: left;\">\n",
              "      <th>epoch</th>\n",
              "      <th>train_loss</th>\n",
              "      <th>valid_loss</th>\n",
              "      <th>batch_accuracy</th>\n",
              "      <th>time</th>\n",
              "    </tr>\n",
              "  </thead>\n",
              "  <tbody>\n",
              "    <tr>\n",
              "      <td>0</td>\n",
              "      <td>0.475561</td>\n",
              "      <td>0.546993</td>\n",
              "      <td>0.398430</td>\n",
              "      <td>00:00</td>\n",
              "    </tr>\n",
              "    <tr>\n",
              "      <td>1</td>\n",
              "      <td>0.452924</td>\n",
              "      <td>0.513362</td>\n",
              "      <td>0.466143</td>\n",
              "      <td>00:00</td>\n",
              "    </tr>\n",
              "    <tr>\n",
              "      <td>2</td>\n",
              "      <td>0.426785</td>\n",
              "      <td>0.479730</td>\n",
              "      <td>0.537291</td>\n",
              "      <td>00:00</td>\n",
              "    </tr>\n",
              "    <tr>\n",
              "      <td>3</td>\n",
              "      <td>0.398360</td>\n",
              "      <td>0.446098</td>\n",
              "      <td>0.574092</td>\n",
              "      <td>00:00</td>\n",
              "    </tr>\n",
              "    <tr>\n",
              "      <td>4</td>\n",
              "      <td>0.368617</td>\n",
              "      <td>0.412467</td>\n",
              "      <td>0.629048</td>\n",
              "      <td>00:00</td>\n",
              "    </tr>\n",
              "    <tr>\n",
              "      <td>5</td>\n",
              "      <td>0.338184</td>\n",
              "      <td>0.378835</td>\n",
              "      <td>0.673700</td>\n",
              "      <td>00:00</td>\n",
              "    </tr>\n",
              "    <tr>\n",
              "      <td>6</td>\n",
              "      <td>0.307413</td>\n",
              "      <td>0.345203</td>\n",
              "      <td>0.704122</td>\n",
              "      <td>00:00</td>\n",
              "    </tr>\n",
              "    <tr>\n",
              "      <td>7</td>\n",
              "      <td>0.276487</td>\n",
              "      <td>0.311572</td>\n",
              "      <td>0.733562</td>\n",
              "      <td>00:00</td>\n",
              "    </tr>\n",
              "    <tr>\n",
              "      <td>8</td>\n",
              "      <td>0.245490</td>\n",
              "      <td>0.277940</td>\n",
              "      <td>0.769382</td>\n",
              "      <td>00:00</td>\n",
              "    </tr>\n",
              "    <tr>\n",
              "      <td>9</td>\n",
              "      <td>0.214463</td>\n",
              "      <td>0.244308</td>\n",
              "      <td>0.801766</td>\n",
              "      <td>00:00</td>\n",
              "    </tr>\n",
              "  </tbody>\n",
              "</table>"
            ],
            "text/plain": [
              "<IPython.core.display.HTML object>"
            ]
          },
          "metadata": {
            "tags": []
          }
        }
      ]
    },
    {
      "cell_type": "markdown",
      "metadata": {
        "id": "zOtYimrlCLjt"
      },
      "source": [
        "### Adding a Non-linearity \n",
        "\n",
        "So far we've been dealing with a simple linear classifier, but now we need something a bit more flexible enough to learn patterns in a complex task. "
      ]
    },
    {
      "cell_type": "code",
      "metadata": {
        "id": "W1IPFOi1DJFn"
      },
      "source": [
        "# Constructing a basic neural net \n",
        "def simple_net(xb):\n",
        "  # Linear function\n",
        "  res = xb@w1 + b1 \n",
        "  # Relu function\n",
        "  res = res.max(tensor(0.0))\n",
        "  # Linear function \n",
        "  res = res@w2 + b2\n",
        "  return res\n"
      ],
      "execution_count": 91,
      "outputs": []
    },
    {
      "cell_type": "code",
      "metadata": {
        "id": "DltFAEhIDqza"
      },
      "source": [
        "# Now we gotta initialize the parameters \n",
        "w1 = init_params((28 * 28) , 30)\n",
        "w2 = init_params(30 , 1)\n",
        "b1 = init_params(30)\n",
        "b2 = init_params(1)"
      ],
      "execution_count": 92,
      "outputs": []
    },
    {
      "cell_type": "markdown",
      "metadata": {
        "id": "9wYrHlMmEBRU"
      },
      "source": [
        "In the above, `w1` has 30 output activations which means `w2` must have 30 input activations, so they match.\n",
        "\n",
        "The function `res.max(tensor(0.0))` is called as rectified linear unit, also known as `ReLU`. All it does is replace negative number with a zero. We can use it by `F.relu` in Pytorch."
      ]
    },
    {
      "cell_type": "code",
      "metadata": {
        "id": "B2tzlO0cESLS",
        "colab": {
          "base_uri": "https://localhost:8080/",
          "height": 268
        },
        "outputId": "728f940a-f379-486f-c329-0e997e082db8"
      },
      "source": [
        "# Plotting a relu function \n",
        "plot_function(F.relu)"
      ],
      "execution_count": 93,
      "outputs": [
        {
          "output_type": "display_data",
          "data": {
            "image/png": "[encoded data removed]",
            "text/plain": [
              "<Figure size 432x288 with 1 Axes>"
            ]
          },
          "metadata": {
            "tags": [],
            "needs_background": "light"
          }
        }
      ]
    },
    {
      "cell_type": "markdown",
      "metadata": {
        "id": "IWpMX-FyGI4h"
      },
      "source": [
        "#### Why there is a need for non-linear layers? \n",
        "\n",
        "- There is no use of stacking up more linear layer on after another. \n",
        "- Non-linear layers enables neural nets to learn making conditional decisions for controlling the computational flow. \n",
        "\n",
        "Important Links: \n",
        "- https://medium.com/swlh/why-are-neural-nets-non-linear-a46756c2d67f\n",
        "- https://forums.fast.ai/t/linear-vs-non-linear/1854\n"
      ]
    },
    {
      "cell_type": "code",
      "metadata": {
        "id": "RD_MckN-M2TS"
      },
      "source": [
        "# Using Pytorch writing a simple_net function \n",
        "\n",
        "simple_net = nn.Sequential(\n",
        "    nn.Linear(28*28 , 30), \n",
        "    nn.ReLU(), \n",
        "    nn.Linear(30 , 1)\n",
        ")"
      ],
      "execution_count": 94,
      "outputs": []
    },
    {
      "cell_type": "markdown",
      "metadata": {
        "id": "wbq8OO9nNQWP"
      },
      "source": [
        "The three lines of code that we have here are known as layers. \n",
        "\n",
        "The first and third layer known as **linear layers** and the 2nd layer known as **nonlinearity (or) activation function**\n",
        "\n",
        "Since `nn.Sequential` is a module, we can peek in the parameters of all modules it contains.\n",
        "\n",
        "And its a deeper model than we trained on before, so we will lower the learning rate and use few more epochs to balance.\n",
        "\n"
      ]
    },
    {
      "cell_type": "code",
      "metadata": {
        "id": "GEFGeG2GNofN",
        "colab": {
          "base_uri": "https://localhost:8080/",
          "height": 669
        },
        "outputId": "2c61f291-2322-4162-c34e-6d3777df2200"
      },
      "source": [
        "# Using our simple net model \n",
        "learn = Learner(dls , simple_net , \n",
        "                opt_func = Adam ,\n",
        "                loss_func = mnist_loss , \n",
        "                metrics = batch_accuracy)\n",
        "\n",
        "# Training for 20 epochs \n",
        "learn.fit(20 , 0.1)"
      ],
      "execution_count": 95,
      "outputs": [
        {
          "output_type": "display_data",
          "data": {
            "text/html": [
              "<table border=\"1\" class=\"dataframe\">\n",
              "  <thead>\n",
              "    <tr style=\"text-align: left;\">\n",
              "      <th>epoch</th>\n",
              "      <th>train_loss</th>\n",
              "      <th>valid_loss</th>\n",
              "      <th>batch_accuracy</th>\n",
              "      <th>time</th>\n",
              "    </tr>\n",
              "  </thead>\n",
              "  <tbody>\n",
              "    <tr>\n",
              "      <td>0</td>\n",
              "      <td>2429.405762</td>\n",
              "      <td>-1554.655884</td>\n",
              "      <td>0.495584</td>\n",
              "      <td>00:00</td>\n",
              "    </tr>\n",
              "    <tr>\n",
              "      <td>1</td>\n",
              "      <td>-101.958817</td>\n",
              "      <td>-6644.120117</td>\n",
              "      <td>0.495584</td>\n",
              "      <td>00:00</td>\n",
              "    </tr>\n",
              "    <tr>\n",
              "      <td>2</td>\n",
              "      <td>-4016.786133</td>\n",
              "      <td>-22702.837891</td>\n",
              "      <td>0.495584</td>\n",
              "      <td>00:00</td>\n",
              "    </tr>\n",
              "    <tr>\n",
              "      <td>3</td>\n",
              "      <td>-13417.467773</td>\n",
              "      <td>-52076.718750</td>\n",
              "      <td>0.495584</td>\n",
              "      <td>00:00</td>\n",
              "    </tr>\n",
              "    <tr>\n",
              "      <td>4</td>\n",
              "      <td>-30203.064453</td>\n",
              "      <td>-91281.671875</td>\n",
              "      <td>0.495584</td>\n",
              "      <td>00:00</td>\n",
              "    </tr>\n",
              "    <tr>\n",
              "      <td>5</td>\n",
              "      <td>-53605.371094</td>\n",
              "      <td>-136969.765625</td>\n",
              "      <td>0.495584</td>\n",
              "      <td>00:00</td>\n",
              "    </tr>\n",
              "    <tr>\n",
              "      <td>6</td>\n",
              "      <td>-82107.023438</td>\n",
              "      <td>-186670.140625</td>\n",
              "      <td>0.495584</td>\n",
              "      <td>00:00</td>\n",
              "    </tr>\n",
              "    <tr>\n",
              "      <td>7</td>\n",
              "      <td>-114123.039062</td>\n",
              "      <td>-238694.250000</td>\n",
              "      <td>0.495584</td>\n",
              "      <td>00:00</td>\n",
              "    </tr>\n",
              "    <tr>\n",
              "      <td>8</td>\n",
              "      <td>-148376.375000</td>\n",
              "      <td>-291907.156250</td>\n",
              "      <td>0.495584</td>\n",
              "      <td>00:00</td>\n",
              "    </tr>\n",
              "    <tr>\n",
              "      <td>9</td>\n",
              "      <td>-183926.953125</td>\n",
              "      <td>-345518.593750</td>\n",
              "      <td>0.495584</td>\n",
              "      <td>00:00</td>\n",
              "    </tr>\n",
              "    <tr>\n",
              "      <td>10</td>\n",
              "      <td>-220089.015625</td>\n",
              "      <td>-398969.406250</td>\n",
              "      <td>0.495584</td>\n",
              "      <td>00:00</td>\n",
              "    </tr>\n",
              "    <tr>\n",
              "      <td>11</td>\n",
              "      <td>-256392.000000</td>\n",
              "      <td>-451856.937500</td>\n",
              "      <td>0.495584</td>\n",
              "      <td>00:00</td>\n",
              "    </tr>\n",
              "    <tr>\n",
              "      <td>12</td>\n",
              "      <td>-292482.250000</td>\n",
              "      <td>-503885.718750</td>\n",
              "      <td>0.495584</td>\n",
              "      <td>00:00</td>\n",
              "    </tr>\n",
              "    <tr>\n",
              "      <td>13</td>\n",
              "      <td>-328094.062500</td>\n",
              "      <td>-554844.812500</td>\n",
              "      <td>0.495584</td>\n",
              "      <td>00:00</td>\n",
              "    </tr>\n",
              "    <tr>\n",
              "      <td>14</td>\n",
              "      <td>-363066.031250</td>\n",
              "      <td>-604560.687500</td>\n",
              "      <td>0.729146</td>\n",
              "      <td>00:00</td>\n",
              "    </tr>\n",
              "    <tr>\n",
              "      <td>15</td>\n",
              "      <td>-397278.156250</td>\n",
              "      <td>-652906.125000</td>\n",
              "      <td>0.725221</td>\n",
              "      <td>00:00</td>\n",
              "    </tr>\n",
              "    <tr>\n",
              "      <td>16</td>\n",
              "      <td>-430618.656250</td>\n",
              "      <td>-699804.625000</td>\n",
              "      <td>0.725221</td>\n",
              "      <td>00:00</td>\n",
              "    </tr>\n",
              "    <tr>\n",
              "      <td>17</td>\n",
              "      <td>-463027.500000</td>\n",
              "      <td>-745213.375000</td>\n",
              "      <td>0.723749</td>\n",
              "      <td>00:00</td>\n",
              "    </tr>\n",
              "    <tr>\n",
              "      <td>18</td>\n",
              "      <td>-494436.343750</td>\n",
              "      <td>-789103.562500</td>\n",
              "      <td>0.721295</td>\n",
              "      <td>00:00</td>\n",
              "    </tr>\n",
              "    <tr>\n",
              "      <td>19</td>\n",
              "      <td>-524814.062500</td>\n",
              "      <td>-831465.312500</td>\n",
              "      <td>0.720805</td>\n",
              "      <td>00:00</td>\n",
              "    </tr>\n",
              "  </tbody>\n",
              "</table>"
            ],
            "text/plain": [
              "<IPython.core.display.HTML object>"
            ]
          },
          "metadata": {
            "tags": []
          }
        }
      ]
    },
    {
      "cell_type": "markdown",
      "metadata": {
        "id": "TOgRUJV5Ow9g"
      },
      "source": [
        "About Deeper model\n",
        "\n",
        "For deeper model we don't need to use many parameters, it turns out that we can use smaller matrices, with more layers and get better results than we would get with larger matrices with just few layers.\n",
        "\n",
        "Neural network contains a lot of numbers, but they are only two types of numbers that are calculated and the parameters that these numbers are calculated from.\n",
        "\n",
        "**Activations**\n",
        "\n",
        "Numbers that are calculated both by linear and non - linearity.\n",
        "\n",
        "**Parameters**\n",
        "\n",
        "Numbers that are randomly initialized and optimized ( numbers that define the model).\n",
        "\n",
        "Part of becoming a good deep learning practitioner is getting used to the idea of looking at your activations and parameters, and plotting them and testing whether they are behaving correctly."
      ]
    },
    {
      "cell_type": "markdown",
      "metadata": {
        "id": "SapImuH9S7yL"
      },
      "source": [
        "# Image Classification \n",
        "\n",
        "In previous lecture we peeked under the hood, but the important thing is to make our model perform really well. \n",
        "\n",
        "To to do this we should be able to look inside the neural network as it trains and make predictions, find possile problems and know how to fix them. \n",
        "\n",
        "In this chapter will dive deep into: \n",
        "- Architecture of computer vision model , NLP , tabular model.\n",
        "- how to create arch that matches the needs of our particular domain.\n",
        "- how to get the best possible results from the training process.\n",
        "- and how to make things faster\n",
        "- what changes we gotta make as the datasets change etc...\n",
        "\n",
        "Well to work out the things, we gotta learn the pieces of deep learning puzzle, which includes:\n",
        "\n",
        "- Types of layers\n",
        "- Regularization methods\n",
        "- optimizers\n",
        "- how to put layers together into architectures\n",
        "- labelling techniques etc...\n",
        "\n",
        "**Data is usually provided in one of these 2 ways:**\n",
        "\n",
        "- Individual files representing items of data, such as text docs or images which are **organized into folders or with filenames** representing info about those items.\n",
        "- A table of data (e.g CSV format) in which **each row is an item** and may include **filenames providing connections data in the table and data in other formats**, such as text or images.\n",
        "\n",
        "Well this dataset provides us with `images` and `annotations`, the **annotation library** --> contains information where the pets are.\n",
        "\n",
        "- **classification** --> what the pets are\n",
        "- **localization** --> where the pets are"
      ]
    },
    {
      "cell_type": "code",
      "metadata": {
        "colab": {
          "base_uri": "https://localhost:8080/"
        },
        "id": "B5zH50E_r--7",
        "outputId": "f2913077-5e2d-404a-ad07-b765c27466aa"
      },
      "source": [
        "# Importing the things we need \n",
        "import fastai \n",
        "from fastai.vision.all import * \n",
        "from fastai import * \n",
        "print(fastai.__version__)"
      ],
      "execution_count": 96,
      "outputs": [
        {
          "output_type": "stream",
          "text": [
            "2.4\n"
          ],
          "name": "stdout"
        }
      ]
    },
    {
      "cell_type": "code",
      "metadata": {
        "colab": {
          "base_uri": "https://localhost:8080/",
          "height": 54
        },
        "id": "IXaJDsrmsKi-",
        "outputId": "c2226dbe-629b-4137-80ad-bd55a1c28ca0"
      },
      "source": [
        "# Getting our data\n",
        "path = untar_data(URLs.PETS)\n",
        "path.ls() "
      ],
      "execution_count": 97,
      "outputs": [
        {
          "output_type": "display_data",
          "data": {
            "text/html": [
              ""
            ],
            "text/plain": [
              "<IPython.core.display.HTML object>"
            ]
          },
          "metadata": {
            "tags": []
          }
        },
        {
          "output_type": "execute_result",
          "data": {
            "text/plain": [
              "(#2) [Path('/root/.fastai/data/oxford-iiit-pet/images'),Path('/root/.fastai/data/oxford-iiit-pet/annotations')]"
            ]
          },
          "metadata": {
            "tags": []
          },
          "execution_count": 97
        }
      ]
    },
    {
      "cell_type": "code",
      "metadata": {
        "colab": {
          "base_uri": "https://localhost:8080/"
        },
        "id": "_kLX4LkcsRiK",
        "outputId": "96813d98-8706-493e-fa65-6a41c4c65d50"
      },
      "source": [
        "# Looking into the image directory \n",
        "(path / 'images').ls()"
      ],
      "execution_count": 98,
      "outputs": [
        {
          "output_type": "execute_result",
          "data": {
            "text/plain": [
              "(#7393) [Path('/root/.fastai/data/oxford-iiit-pet/images/pug_132.jpg'),Path('/root/.fastai/data/oxford-iiit-pet/images/havanese_128.jpg'),Path('/root/.fastai/data/oxford-iiit-pet/images/american_pit_bull_terrier_30.jpg'),Path('/root/.fastai/data/oxford-iiit-pet/images/leonberger_52.jpg'),Path('/root/.fastai/data/oxford-iiit-pet/images/Siamese_129.jpg'),Path('/root/.fastai/data/oxford-iiit-pet/images/British_Shorthair_86.jpg'),Path('/root/.fastai/data/oxford-iiit-pet/images/japanese_chin_42.jpg'),Path('/root/.fastai/data/oxford-iiit-pet/images/basset_hound_183.jpg'),Path('/root/.fastai/data/oxford-iiit-pet/images/boxer_38.jpg'),Path('/root/.fastai/data/oxford-iiit-pet/images/american_pit_bull_terrier_64.jpg')...]"
            ]
          },
          "metadata": {
            "tags": []
          },
          "execution_count": 98
        }
      ]
    },
    {
      "cell_type": "code",
      "metadata": {
        "colab": {
          "base_uri": "https://localhost:8080/"
        },
        "id": "B1smvMmHsXXv",
        "outputId": "5379a91f-11f0-47a4-bd29-5a1d73dc8c3c"
      },
      "source": [
        "# How does one filename looks like \n",
        "fname = (path / 'images').ls()[0]\n",
        "fname"
      ],
      "execution_count": 99,
      "outputs": [
        {
          "output_type": "execute_result",
          "data": {
            "text/plain": [
              "Path('/root/.fastai/data/oxford-iiit-pet/images/pug_132.jpg')"
            ]
          },
          "metadata": {
            "tags": []
          },
          "execution_count": 99
        }
      ]
    },
    {
      "cell_type": "markdown",
      "metadata": {
        "id": "KMaceUaRtRia"
      },
      "source": [
        "We gotta extract our label from the filepath itself, and to do these kinda tools we use the tool called regular expression, also known as **regex**. \n",
        "\n"
      ]
    },
    {
      "cell_type": "code",
      "metadata": {
        "colab": {
          "base_uri": "https://localhost:8080/"
        },
        "id": "L2jfiNW8u_PJ",
        "outputId": "3f316cec-6c15-47c6-881b-e163a70e1098"
      },
      "source": [
        "# Using regular expression on one filename \n",
        "re.findall(r'(.+)_\\d+.jpg$', fname.name)"
      ],
      "execution_count": 100,
      "outputs": [
        {
          "output_type": "execute_result",
          "data": {
            "text/plain": [
              "['pug']"
            ]
          },
          "metadata": {
            "tags": []
          },
          "execution_count": 100
        }
      ]
    },
    {
      "cell_type": "markdown",
      "metadata": {
        "id": "8H4Tqwncv0bo"
      },
      "source": [
        "It plucks out all the character leading upto the last underscore character, as long as the subsequent characters are numerical digits and then the JPEG file extension."
      ]
    },
    {
      "cell_type": "code",
      "metadata": {
        "colab": {
          "base_uri": "https://localhost:8080/",
          "height": 676
        },
        "id": "O69PBI_hwIsE",
        "outputId": "2b37287f-6177-4a45-ab17-0abefb49f72e"
      },
      "source": [
        "# Building a DataBlock \n",
        "pets = DataBlock(blocks = (ImageBlock , CategoryBlock), \n",
        "                 get_items = get_image_files , \n",
        "                 splitter = RandomSplitter(seed = 42) , \n",
        "                 get_y = using_attr(RegexLabeller(r'(.+)_\\d+.jpg$') , 'name'), \n",
        "                 item_tfms = Resize(460), \n",
        "                 batch_tfms = aug_transforms(size = 224 , min_scale= 0.75))\n",
        "\n",
        "# Putting the datablock into a dataloaders \n",
        "dls = pets.dataloaders(path/'images')\n",
        "\n",
        "# Show batch \n",
        "dls.show_batch()"
      ],
      "execution_count": 101,
      "outputs": [
        {
          "output_type": "stream",
          "text": [
            "/usr/local/lib/python3.7/dist-packages/torch/_tensor.py:1023: UserWarning: torch.solve is deprecated in favor of torch.linalg.solveand will be removed in a future PyTorch release.\n",
            "torch.linalg.solve has its arguments reversed and does not return the LU factorization.\n",
            "To get the LU factorization see torch.lu, which can be used with torch.lu_solve or torch.lu_unpack.\n",
            "X = torch.solve(B, A).solution\n",
            "should be replaced with\n",
            "X = torch.linalg.solve(A, B) (Triggered internally at  /pytorch/aten/src/ATen/native/BatchLinearAlgebra.cpp:760.)\n",
            "  ret = func(*args, **kwargs)\n"
          ],
          "name": "stderr"
        },
        {
          "output_type": "display_data",
          "data": {
            "image/png": "[encoded data removed]",
            "text/plain": [
              "<Figure size 648x648 with 9 Axes>"
            ]
          },
          "metadata": {
            "tags": [],
            "needs_background": "light"
          }
        }
      ]
    },
    {
      "cell_type": "markdown",
      "metadata": {
        "id": "DUKfeDgVwoiI"
      },
      "source": [
        "We should pay attention to below important steps, this is a data augmentation strategy called as **presizing** \n",
        "\n",
        "The reason for using presizing is to minimize the data destruction while maintaining good performance. \n",
        "\n",
        "### Presizing \n",
        "> While applying data augmentation in common we have to worry about two things: \n",
        "- Make sure all images have same dimensions, so they can collate into tensors to be passed into the GPU. \n",
        "- Another thing would be is to, minimize the number of computations processed whenever we perform augmentations. \n",
        "\n",
        "Well to get the above thing working properly, we gotta **reduce the number of computations** and **number of loss operations** wherever possible and transform the images into **uniform sizes** to process in the GPU. \n",
        "\n",
        "**Why traditional method of augmentation fails ?**\n",
        "- While applying the **augmentation**, it might introduce **spurious empty zones and degrade the data or even both**. \n",
        "- For instance, if we're to rotate the image by **45 degrees will damage the pixels** and creates bounds with emptiness.\n",
        "- Many **rotations and zooming** requires change in the pixels (interpolation) and these changes are derived from the original image of lower quality.\n",
        "\n",
        "> Data augmentation makes the changes right in the pixel of the original image. To overcome this loss due to this and make it more efficient we use **presizing**. \n",
        "\n",
        "**Presizing mechanism**\n",
        "\n",
        "Here the image has been zoomed and rotated as one operation and then interpolated only once, and the best thing is everything happens all at once in GPU and reduce the number of lossy operations due to augmentation (loss of pixels).\n",
        "\n",
        "We find that in practice using presizing significantly improves the accuracy of models, and often results in speedups too.\n",
        "\n",
        "#### **Strategies of Presizing**\n",
        "\n",
        "- Resize the original image to relatively larger dimensions(460). \n",
        "- Now composing all the augmentation operations `--> Resize --> min_scale` into one **whole operation and perform this on GPU** on the flow once at the end of processing, rather than performing the operations individually and interpolating multiple times without affecting the quality of original image.\n",
        "\n",
        "**Breaking down the code**\n",
        "- `item_tfms = Resize(460)` --> Resizing the images large enough that they have space margin to allow further augmenttions on the inner regions without creating empty zones.\n",
        "\n",
        "- `batch_tfms = aug_transforms(size = 224 , min_scale=0.75)` --> In here, the GPU is used for the data augmentation and all those transforms and operationn are done together.\n",
        "\n",
        "- `min_scale = 0.75` --> **RandomResizedCrop** applies on a batch (batch transform)\n",
        "\n",
        "On the training set, the area for cropping is chosen randomly and crop size is selected to cover up the entire height and width of the image. \n",
        "\n",
        "Also batching goes in here on the training set, the **random crop and augmentation are done first** whereas in the validation set, only resize to the finale size (224) is needed. \n",
        "\n",
        "\n",
        "Important links: \n",
        "- https://www.kdnuggets.com/2019/05/boost-your-image-classification-model.html\n",
        "\n"
      ]
    },
    {
      "cell_type": "code",
      "metadata": {
        "colab": {
          "base_uri": "https://localhost:8080/"
        },
        "id": "DWZKdnTV1smh",
        "outputId": "f0e30261-22a3-470b-be38-6a3cd6726046"
      },
      "source": [
        "# Debugging a datablock with summary method \n",
        "pets.summary(path / 'images')"
      ],
      "execution_count": 102,
      "outputs": [
        {
          "output_type": "stream",
          "text": [
            "Setting-up type transforms pipelines\n",
            "Collecting items from /root/.fastai/data/oxford-iiit-pet/images\n",
            "Found 7390 items\n",
            "2 datasets of sizes 5912,1478\n",
            "Setting up Pipeline: PILBase.create\n",
            "Setting up Pipeline: partial -> Categorize -- {'vocab': None, 'sort': True, 'add_na': False}\n",
            "\n",
            "Building one sample\n",
            "  Pipeline: PILBase.create\n",
            "    starting from\n",
            "      /root/.fastai/data/oxford-iiit-pet/images/Birman_51.jpg\n",
            "    applying PILBase.create gives\n",
            "      PILImage mode=RGB size=500x451\n",
            "  Pipeline: partial -> Categorize -- {'vocab': None, 'sort': True, 'add_na': False}\n",
            "    starting from\n",
            "      /root/.fastai/data/oxford-iiit-pet/images/Birman_51.jpg\n",
            "    applying partial gives\n",
            "      Birman\n",
            "    applying Categorize -- {'vocab': None, 'sort': True, 'add_na': False} gives\n",
            "      TensorCategory(2)\n",
            "\n",
            "Final sample: (PILImage mode=RGB size=500x451, TensorCategory(2))\n",
            "\n",
            "\n",
            "Collecting items from /root/.fastai/data/oxford-iiit-pet/images\n",
            "Found 7390 items\n",
            "2 datasets of sizes 5912,1478\n",
            "Setting up Pipeline: PILBase.create\n",
            "Setting up Pipeline: partial -> Categorize -- {'vocab': None, 'sort': True, 'add_na': False}\n",
            "Setting up after_item: Pipeline: Resize -- {'size': (460, 460), 'method': 'crop', 'pad_mode': 'reflection', 'resamples': (2, 0), 'p': 1.0} -> ToTensor\n",
            "Setting up before_batch: Pipeline: \n",
            "Setting up after_batch: Pipeline: IntToFloatTensor -- {'div': 255.0, 'div_mask': 1} -> Flip -- {'size': None, 'mode': 'bilinear', 'pad_mode': 'reflection', 'mode_mask': 'nearest', 'align_corners': True, 'p': 0.5} -> RandomResizedCropGPU -- {'size': (224, 224), 'min_scale': 0.75, 'ratio': (1, 1), 'mode': 'bilinear', 'valid_scale': 1.0, 'max_scale': 1.0, 'p': 1.0} -> Brightness -- {'max_lighting': 0.2, 'p': 1.0, 'draw': None, 'batch': False}\n",
            "\n",
            "Building one batch\n",
            "Applying item_tfms to the first sample:\n",
            "  Pipeline: Resize -- {'size': (460, 460), 'method': 'crop', 'pad_mode': 'reflection', 'resamples': (2, 0), 'p': 1.0} -> ToTensor\n",
            "    starting from\n",
            "      (PILImage mode=RGB size=500x451, TensorCategory(2))\n",
            "    applying Resize -- {'size': (460, 460), 'method': 'crop', 'pad_mode': 'reflection', 'resamples': (2, 0), 'p': 1.0} gives\n",
            "      (PILImage mode=RGB size=460x460, TensorCategory(2))\n",
            "    applying ToTensor gives\n",
            "      (TensorImage of size 3x460x460, TensorCategory(2))\n",
            "\n",
            "Adding the next 3 samples\n",
            "\n",
            "No before_batch transform to apply\n",
            "\n",
            "Collating items in a batch\n",
            "\n",
            "Applying batch_tfms to the batch built\n",
            "  Pipeline: IntToFloatTensor -- {'div': 255.0, 'div_mask': 1} -> Flip -- {'size': None, 'mode': 'bilinear', 'pad_mode': 'reflection', 'mode_mask': 'nearest', 'align_corners': True, 'p': 0.5} -> RandomResizedCropGPU -- {'size': (224, 224), 'min_scale': 0.75, 'ratio': (1, 1), 'mode': 'bilinear', 'valid_scale': 1.0, 'max_scale': 1.0, 'p': 1.0} -> Brightness -- {'max_lighting': 0.2, 'p': 1.0, 'draw': None, 'batch': False}\n",
            "    starting from\n",
            "      (TensorImage of size 4x3x460x460, TensorCategory([ 2,  4, 12, 33], device='cuda:0'))\n",
            "    applying IntToFloatTensor -- {'div': 255.0, 'div_mask': 1} gives\n",
            "      (TensorImage of size 4x3x460x460, TensorCategory([ 2,  4, 12, 33], device='cuda:0'))\n",
            "    applying Flip -- {'size': None, 'mode': 'bilinear', 'pad_mode': 'reflection', 'mode_mask': 'nearest', 'align_corners': True, 'p': 0.5} gives\n",
            "      (TensorImage of size 4x3x460x460, TensorCategory([ 2,  4, 12, 33], device='cuda:0'))\n",
            "    applying RandomResizedCropGPU -- {'size': (224, 224), 'min_scale': 0.75, 'ratio': (1, 1), 'mode': 'bilinear', 'valid_scale': 1.0, 'max_scale': 1.0, 'p': 1.0} gives\n",
            "      (TensorImage of size 4x3x224x224, TensorCategory([ 2,  4, 12, 33], device='cuda:0'))\n",
            "    applying Brightness -- {'max_lighting': 0.2, 'p': 1.0, 'draw': None, 'batch': False} gives\n",
            "      (TensorImage of size 4x3x224x224, TensorCategory([ 2,  4, 12, 33], device='cuda:0'))\n"
          ],
          "name": "stdout"
        }
      ]
    },
    {
      "cell_type": "markdown",
      "metadata": {
        "id": "1Kjzio9w67jI"
      },
      "source": [
        "The above summary explains how exactly our DataBlock was built. \n",
        "\n",
        "It provides alot of details, if it fails we can figure at exactly which point the error happens like the library will help us.\n",
        "\n",
        "If we made a mistake while building a DataBlock, we won't likely see it before this step. We can use the summary method of DataBlock class, it creates a batch from the source (path / 'images') we give it.\n",
        "\n",
        "\n",
        "**Train a simple data** \n",
        "\n",
        "- Once we found out how our data looks, the first and **best way to test is train with a simple model**.\n",
        "- Don't fit your model in a huge (or) sota model at first it's time consuming. \n",
        "- Knowing your **baseline results** helps in choosing what's next, and even **brings in clarity what went wrong**.\n",
        "\n"
      ]
    },
    {
      "cell_type": "code",
      "metadata": {
        "colab": {
          "base_uri": "https://localhost:8080/",
          "height": 294,
          "referenced_widgets": [
            "116f113e04724d0f9a32e33ad2271af8",
            "e4d532198e2c4d14a69153cdd20e64ce",
            "9d34960f5aa5401896b43ce09511ee9c",
            "907fc51e14c34f9abea62e1b50957cfc",
            "88e177b31ef34a809b25cbeb28bff822",
            "492570b8b51843d0a0eb8f9f42d7ac50",
            "2499c149e58d4b4ea3ff0390228d1033",
            "3f7f2bcae851454a83f85a06dceb02be"
          ]
        },
        "id": "pfdnn3e17PEb",
        "outputId": "80d4c64f-17ca-42bf-8998-553832fb2376"
      },
      "source": [
        "# Training a simple model to train our data \n",
        "\n",
        "learn = cnn_learner(dls , resnet18 , metrics = error_rate)\n",
        "learn.fine_tune(2)"
      ],
      "execution_count": 103,
      "outputs": [
        {
          "output_type": "stream",
          "text": [
            "Downloading: \"https://download.pytorch.org/models/resnet18-f37072fd.pth\" to /root/.cache/torch/hub/checkpoints/resnet18-f37072fd.pth\n"
          ],
          "name": "stderr"
        },
        {
          "output_type": "display_data",
          "data": {
            "application/vnd.jupyter.widget-view+json": {
              "model_id": "116f113e04724d0f9a32e33ad2271af8",
              "version_minor": 0,
              "version_major": 2
            },
            "text/plain": [
              "HBox(children=(FloatProgress(value=0.0, max=46830571.0), HTML(value='')))"
            ]
          },
          "metadata": {
            "tags": []
          }
        },
        {
          "output_type": "stream",
          "text": [
            "\n"
          ],
          "name": "stdout"
        },
        {
          "output_type": "stream",
          "text": [
            "/usr/local/lib/python3.7/dist-packages/torch/nn/functional.py:718: UserWarning: Named tensors and all their associated APIs are an experimental feature and subject to change. Please do not use them for anything important until they are released as stable. (Triggered internally at  /pytorch/c10/core/TensorImpl.h:1156.)\n",
            "  return torch.max_pool2d(input, kernel_size, stride, padding, dilation, ceil_mode)\n"
          ],
          "name": "stderr"
        },
        {
          "output_type": "display_data",
          "data": {
            "text/html": [
              "<table border=\"1\" class=\"dataframe\">\n",
              "  <thead>\n",
              "    <tr style=\"text-align: left;\">\n",
              "      <th>epoch</th>\n",
              "      <th>train_loss</th>\n",
              "      <th>valid_loss</th>\n",
              "      <th>error_rate</th>\n",
              "      <th>time</th>\n",
              "    </tr>\n",
              "  </thead>\n",
              "  <tbody>\n",
              "    <tr>\n",
              "      <td>0</td>\n",
              "      <td>1.614818</td>\n",
              "      <td>0.385055</td>\n",
              "      <td>0.134641</td>\n",
              "      <td>01:02</td>\n",
              "    </tr>\n",
              "  </tbody>\n",
              "</table>"
            ],
            "text/plain": [
              "<IPython.core.display.HTML object>"
            ]
          },
          "metadata": {
            "tags": []
          }
        },
        {
          "output_type": "display_data",
          "data": {
            "text/html": [
              "<table border=\"1\" class=\"dataframe\">\n",
              "  <thead>\n",
              "    <tr style=\"text-align: left;\">\n",
              "      <th>epoch</th>\n",
              "      <th>train_loss</th>\n",
              "      <th>valid_loss</th>\n",
              "      <th>error_rate</th>\n",
              "      <th>time</th>\n",
              "    </tr>\n",
              "  </thead>\n",
              "  <tbody>\n",
              "    <tr>\n",
              "      <td>0</td>\n",
              "      <td>0.573611</td>\n",
              "      <td>0.292062</td>\n",
              "      <td>0.092016</td>\n",
              "      <td>01:04</td>\n",
              "    </tr>\n",
              "    <tr>\n",
              "      <td>1</td>\n",
              "      <td>0.376482</td>\n",
              "      <td>0.258900</td>\n",
              "      <td>0.087957</td>\n",
              "      <td>01:04</td>\n",
              "    </tr>\n",
              "  </tbody>\n",
              "</table>"
            ],
            "text/plain": [
              "<IPython.core.display.HTML object>"
            ]
          },
          "metadata": {
            "tags": []
          }
        }
      ]
    },
    {
      "cell_type": "markdown",
      "metadata": {
        "id": "kpBBfXUO8CWf"
      },
      "source": [
        "#### Decoding the fit function\n",
        "- `epoch`--> an one epoch is a complete pass through of all the images in the data. Letting our model to look at our data once per epoch. \n",
        "- `train_loss` --> average loss over the items in a training set. \n",
        "- `valid_loss` --> average loss over the items in the validation set. \n",
        "- `error_rate` --> is a metric which gives the error rate, how wrong our model is. \n",
        "- `loss` --> a function we choose to **optimize the parameters** (SGD , Adam....) \n",
        "\n",
        "In our case we didn't set a loss function and fastai chooses a default one, generally try to select an appropriate loss function based on the kind of data and model we are using.\n",
        "\n",
        "In here the default loss function is `cross_entropy` loss. \n",
        "\n",
        "In the next section will unravel how a Cross Entropy loss works. \n",
        "\n"
      ]
    },
    {
      "cell_type": "markdown",
      "metadata": {
        "id": "PSh3FLne9nlE"
      },
      "source": [
        "### Cross-Entropy Loss \n",
        "Like the `mnist_loss` we used before the `cross_entropy` loss is also a function similar to that one. But it has two benefits: \n",
        "\n",
        "- It works even when our **dependent variable** (target) has more than 2 categories. \n",
        "- It results in faster and more reliable training. \n",
        "\n",
        "**The Why**\n",
        "To understand how cross entropy were able to work for targets with more than 2 categories, first we gotta understand what the **actual activation** are seen by our loss function. \n",
        "\n",
        "#### Viewing Activations and Labels \n",
        "To look at our activations of our model we need to get a single batch from our DataLoaders using `one_batch` method"
      ]
    },
    {
      "cell_type": "code",
      "metadata": {
        "colab": {
          "base_uri": "https://localhost:8080/"
        },
        "id": "c2frNKncBErk",
        "outputId": "df938349-d023-4646-ac93-336a356fa1d6"
      },
      "source": [
        "# Our learner's activation function \n",
        "learn.loss_func"
      ],
      "execution_count": 104,
      "outputs": [
        {
          "output_type": "execute_result",
          "data": {
            "text/plain": [
              "FlattenedLoss of CrossEntropyLoss()"
            ]
          },
          "metadata": {
            "tags": []
          },
          "execution_count": 104
        }
      ]
    },
    {
      "cell_type": "code",
      "metadata": {
        "colab": {
          "base_uri": "https://localhost:8080/"
        },
        "id": "WM3kEqASBI3d",
        "outputId": "5347e361-0d2e-4bd2-e3a7-b559befae9e0"
      },
      "source": [
        "# Getting the first batch of our dls \n",
        "x , y = dls.one_batch() \n",
        "\n",
        "x.shape , y.shape"
      ],
      "execution_count": 110,
      "outputs": [
        {
          "output_type": "execute_result",
          "data": {
            "text/plain": [
              "(torch.Size([64, 3, 224, 224]), torch.Size([64]))"
            ]
          },
          "metadata": {
            "tags": []
          },
          "execution_count": 110
        }
      ]
    },
    {
      "cell_type": "code",
      "metadata": {
        "colab": {
          "base_uri": "https://localhost:8080/"
        },
        "id": "54jMMiSXBRT9",
        "outputId": "dcb68590-bf95-4d2d-d85c-40d52db4de34"
      },
      "source": [
        "# What's inside our labels (dependent variable)\n",
        "y"
      ],
      "execution_count": 111,
      "outputs": [
        {
          "output_type": "execute_result",
          "data": {
            "text/plain": [
              "TensorCategory([ 6, 26, 35, 28,  9, 12,  6, 15, 11, 29,  2,  6, 23, 24,  3,  3, 27, 15, 23, 19, 17, 32,  7,  7,  3, 17, 26, 33, 31, 19, 13,  8,  5, 31,  1, 27,  4, 23,  9, 21,  9,  6, 31, 29, 23, 12,  1, 17,\n",
              "        12, 21, 31, 28, 25, 36,  1,  3, 10,  7, 22, 19, 18, 17,  5, 12], device='cuda:0')"
            ]
          },
          "metadata": {
            "tags": []
          },
          "execution_count": 111
        }
      ]
    },
    {
      "cell_type": "markdown",
      "metadata": {
        "id": "Dh_cN-zpBYdc"
      },
      "source": [
        "The above are labels for the categories of pet breeds. "
      ]
    },
    {
      "cell_type": "code",
      "metadata": {
        "colab": {
          "base_uri": "https://localhost:8080/"
        },
        "id": "nEDOcHoiBeMn",
        "outputId": "090cc5bc-4532-43ec-d5f2-e219c532003e"
      },
      "source": [
        "# How many categories of pet breeds we have?\n",
        "torch.max(y).item()"
      ],
      "execution_count": 112,
      "outputs": [
        {
          "output_type": "execute_result",
          "data": {
            "text/plain": [
              "36"
            ]
          },
          "metadata": {
            "tags": []
          },
          "execution_count": 112
        }
      ]
    },
    {
      "cell_type": "code",
      "metadata": {
        "colab": {
          "base_uri": "https://localhost:8080/"
        },
        "id": "QHYeRKllBo-F",
        "outputId": "efb0e151-f051-450d-caa7-dac5f6afbdee"
      },
      "source": [
        "# Minimum and maximum value of the y label \n",
        "torch.min(y).item() , torch.max(y).item()"
      ],
      "execution_count": 113,
      "outputs": [
        {
          "output_type": "execute_result",
          "data": {
            "text/plain": [
              "(1, 36)"
            ]
          },
          "metadata": {
            "tags": []
          },
          "execution_count": 113
        }
      ]
    },
    {
      "cell_type": "markdown",
      "metadata": {
        "id": "qZiK4vjZB5yL"
      },
      "source": [
        "So now we want to get the predictions of our batch by using `Learner.get_preds` \n",
        "\n",
        "- This function either takes a dataset index (0 train or 1 valid) or an iterator of batches (x,y)\n",
        "\n",
        "Lets pass a single list with our batch to get our predictions. \n",
        "\n",
        "> Returns --> predictions and targets "
      ]
    },
    {
      "cell_type": "code",
      "metadata": {
        "colab": {
          "base_uri": "https://localhost:8080/",
          "height": 34
        },
        "id": "RjOzeOwQDUly",
        "outputId": "5d765887-533b-4acb-de81-0861ee8bcc42"
      },
      "source": [
        "# Getting the predictions \n",
        "preds , _ = learn.get_preds(dl= [(x,y)])\n",
        "preds.shape"
      ],
      "execution_count": 114,
      "outputs": [
        {
          "output_type": "display_data",
          "data": {
            "text/html": [
              ""
            ],
            "text/plain": [
              "<IPython.core.display.HTML object>"
            ]
          },
          "metadata": {
            "tags": []
          }
        },
        {
          "output_type": "execute_result",
          "data": {
            "text/plain": [
              "torch.Size([64, 37])"
            ]
          },
          "metadata": {
            "tags": []
          },
          "execution_count": 114
        }
      ]
    },
    {
      "cell_type": "code",
      "metadata": {
        "colab": {
          "base_uri": "https://localhost:8080/"
        },
        "id": "_HsWWfWQDeSV",
        "outputId": "e2bb3cf1-80ec-4c47-caf6-6f789cb5998b"
      },
      "source": [
        "# Looking at the first sample of our prediction probabilties \n",
        "preds[0]"
      ],
      "execution_count": 117,
      "outputs": [
        {
          "output_type": "execute_result",
          "data": {
            "text/plain": [
              "tensor([9.7639e-06, 2.8454e-05, 2.0960e-05, 1.7795e-04, 2.1189e-04, 3.3105e-05, 9.9802e-01, 4.9655e-04, 2.1496e-04, 2.7430e-04, 1.5540e-07, 7.0569e-07, 2.0449e-06, 3.4297e-08, 5.3986e-06, 1.8146e-06,\n",
              "        1.6842e-06, 2.1270e-07, 1.4376e-06, 6.1606e-05, 2.1886e-06, 3.2872e-06, 7.1544e-06, 2.6535e-05, 6.2243e-05, 2.5008e-05, 1.7232e-07, 1.7779e-04, 8.0049e-05, 1.0596e-06, 4.7444e-06, 2.7249e-05,\n",
              "        4.1363e-06, 2.7798e-06, 2.7475e-07, 3.7897e-06, 5.6627e-06])"
            ]
          },
          "metadata": {
            "tags": []
          },
          "execution_count": 117
        }
      ]
    },
    {
      "cell_type": "code",
      "metadata": {
        "colab": {
          "base_uri": "https://localhost:8080/"
        },
        "id": "GIQk-yPHESD7",
        "outputId": "1e9fe424-6e7d-4e47-8295-3919ced8b4e7"
      },
      "source": [
        "# Summing our pred should be 1 \n",
        "preds[0].sum()"
      ],
      "execution_count": 118,
      "outputs": [
        {
          "output_type": "execute_result",
          "data": {
            "text/plain": [
              "tensor(1.0000)"
            ]
          },
          "metadata": {
            "tags": []
          },
          "execution_count": 118
        }
      ]
    },
    {
      "cell_type": "markdown",
      "metadata": {
        "id": "ghUGWdchDn4E"
      },
      "source": [
        "The above are the prediction probs (or) activations of our model, and to convert them into proper predictions so we use a **softmax function.**\n",
        "\n",
        "Since we have more than 2 categories we go for softmax \n",
        "\n",
        "#### Softmax \n",
        "In our classification model, we use softmax activation function in the **final layer** to ensure that the **activations are all between 0 and 1, and make sure they sum upto 1**. \n"
      ]
    },
    {
      "cell_type": "code",
      "metadata": {
        "colab": {
          "base_uri": "https://localhost:8080/",
          "height": 268
        },
        "id": "rWabSuJHFhLW",
        "outputId": "67ea9066-3ad0-48c9-d6d0-82956d13d5de"
      },
      "source": [
        "# Plotting a sofmtax function \n",
        "plot_function(torch.sigmoid , min= -4 , max = 4)"
      ],
      "execution_count": 120,
      "outputs": [
        {
          "output_type": "display_data",
          "data": {
            "image/png": "[encoded data removed]",
            "text/plain": [
              "<Figure size 432x288 with 1 Axes>"
            ]
          },
          "metadata": {
            "tags": [],
            "needs_background": "light"
          }
        }
      ]
    },
    {
      "cell_type": "markdown",
      "metadata": {
        "id": "46caCdwNF7jk"
      },
      "source": [
        "**Why can't we plot a softmax function?**\n",
        "\n",
        "Because it has more than 1 dimensions and anything more than 2 dimensions are hard to interpret for a human eyes. \n",
        "https://datascience.stackexchange.com/questions/57005/why-there-is-no-exact-picture-of-softmax-activation-function"
      ]
    },
    {
      "cell_type": "markdown",
      "metadata": {
        "id": "bBQtIeIIGYFK"
      },
      "source": [
        "In our case we have 37 categories in our target, that means we will need more activation than a single column (sigmoid) by that we need an **activation per category**. \n",
        "\n",
        "Before we predicted between a 3 and 7, that returns two activations one for each class. Let's recreate the scenario using pytorch and examine. "
      ]
    },
    {
      "cell_type": "code",
      "metadata": {
        "colab": {
          "base_uri": "https://localhost:8080/"
        },
        "id": "NYsdbfYOHCoW",
        "outputId": "e7e63b9c-f720-4ec9-9fb6-5715b51e388b"
      },
      "source": [
        "# Set the seed \n",
        "torch.random.manual_seed(42);\n",
        "\n",
        "# Activations of 3s and 7s\n",
        "acts = torch.randn((6 , 2)) * 2\n",
        "acts "
      ],
      "execution_count": 122,
      "outputs": [
        {
          "output_type": "execute_result",
          "data": {
            "text/plain": [
              "tensor([[ 0.6734,  0.2576],\n",
              "        [ 0.4689,  0.4607],\n",
              "        [-2.2457, -0.3727],\n",
              "        [ 4.4164, -1.2760],\n",
              "        [ 0.9233,  0.5347],\n",
              "        [ 1.0698,  1.6187]])"
            ]
          },
          "metadata": {
            "tags": []
          },
          "execution_count": 122
        }
      ]
    },
    {
      "cell_type": "code",
      "metadata": {
        "colab": {
          "base_uri": "https://localhost:8080/"
        },
        "id": "XeH-t57VHUTP",
        "outputId": "8bdf84d8-e17c-47cd-8926-97e94f56fc86"
      },
      "source": [
        "# Adding should return 1\n",
        "0.6734+ 0.2576"
      ],
      "execution_count": 124,
      "outputs": [
        {
          "output_type": "execute_result",
          "data": {
            "text/plain": [
              "0.931"
            ]
          },
          "metadata": {
            "tags": []
          },
          "execution_count": 124
        }
      ]
    },
    {
      "cell_type": "markdown",
      "metadata": {
        "id": "pXKnpB8TIGah"
      },
      "source": [
        "We can't take the sigmoid directly, since we dont get rows than add to 1. \n",
        "\n",
        "**We want the probability of being a 3 plus the prob of being a 7 add upto 1.**"
      ]
    },
    {
      "cell_type": "code",
      "metadata": {
        "colab": {
          "base_uri": "https://localhost:8080/",
          "height": 235
        },
        "id": "I04rXHhWKpOn",
        "outputId": "b441fc8c-7efe-4f55-bd87-e58d9ef6d130"
      },
      "source": [
        "# Represent in a dataframe \n",
        "import pandas as pd \n",
        "acts_np = acts.numpy()\n",
        "acts_df = pd.DataFrame(acts_np)\n",
        "\n",
        "# Renaming columns to 3 and 7 \n",
        "acts_df = acts_df.rename(columns= {0: '3s' , 1: '7s'})\n",
        "acts_df"
      ],
      "execution_count": 128,
      "outputs": [
        {
          "output_type": "execute_result",
          "data": {
            "text/html": [
              "<div>\n",
              "<style scoped>\n",
              "    .dataframe tbody tr th:only-of-type {\n",
              "        vertical-align: middle;\n",
              "    }\n",
              "\n",
              "    .dataframe tbody tr th {\n",
              "        vertical-align: top;\n",
              "    }\n",
              "\n",
              "    .dataframe thead th {\n",
              "        text-align: right;\n",
              "    }\n",
              "</style>\n",
              "<table border=\"1\" class=\"dataframe\">\n",
              "  <thead>\n",
              "    <tr style=\"text-align: right;\">\n",
              "      <th></th>\n",
              "      <th>3s</th>\n",
              "      <th>7s</th>\n",
              "    </tr>\n",
              "  </thead>\n",
              "  <tbody>\n",
              "    <tr>\n",
              "      <th>0</th>\n",
              "      <td>0.673381</td>\n",
              "      <td>0.257619</td>\n",
              "    </tr>\n",
              "    <tr>\n",
              "      <th>1</th>\n",
              "      <td>0.468925</td>\n",
              "      <td>0.460666</td>\n",
              "    </tr>\n",
              "    <tr>\n",
              "      <th>2</th>\n",
              "      <td>-2.245713</td>\n",
              "      <td>-0.372657</td>\n",
              "    </tr>\n",
              "    <tr>\n",
              "      <th>3</th>\n",
              "      <td>4.416403</td>\n",
              "      <td>-1.275994</td>\n",
              "    </tr>\n",
              "    <tr>\n",
              "      <th>4</th>\n",
              "      <td>0.923314</td>\n",
              "      <td>0.534702</td>\n",
              "    </tr>\n",
              "    <tr>\n",
              "      <th>5</th>\n",
              "      <td>1.069809</td>\n",
              "      <td>1.618714</td>\n",
              "    </tr>\n",
              "  </tbody>\n",
              "</table>\n",
              "</div>"
            ],
            "text/plain": [
              "         3s        7s\n",
              "0  0.673381  0.257619\n",
              "1  0.468925  0.460666\n",
              "2 -2.245713 -0.372657\n",
              "3  4.416403 -1.275994\n",
              "4  0.923314  0.534702\n",
              "5  1.069809  1.618714"
            ]
          },
          "metadata": {
            "tags": []
          },
          "execution_count": 128
        }
      ]
    },
    {
      "cell_type": "code",
      "metadata": {
        "colab": {
          "base_uri": "https://localhost:8080/"
        },
        "id": "maB6uEwmIbkT",
        "outputId": "83d7c652-cb9f-4f87-9ab5-9f89a0d0982c"
      },
      "source": [
        "# Applyin sigmoid for the sake \n",
        "acts.sigmoid()"
      ],
      "execution_count": 125,
      "outputs": [
        {
          "output_type": "execute_result",
          "data": {
            "text/plain": [
              "tensor([[0.6623, 0.5641],\n",
              "        [0.6151, 0.6132],\n",
              "        [0.0957, 0.4079],\n",
              "        [0.9881, 0.2182],\n",
              "        [0.7157, 0.6306],\n",
              "        [0.7446, 0.8346]])"
            ]
          },
          "metadata": {
            "tags": []
          },
          "execution_count": 125
        }
      ]
    },
    {
      "cell_type": "markdown",
      "metadata": {
        "id": "8prRS4DfIfJU"
      },
      "source": [
        "- In previous example, we got **single activation per image** (asum: pred_probs) and which we have passed through the sigmoid function and it **represented the model confidence that the input was a 3.** \n",
        "- We didn't had two pred probs whether it's a 3 or not, instead we had only one pred probs defining the confidence of 3. \n",
        "- In this case we have two categories, and the **single pair of activations** indicate the *relative confidence* of the input being a 3 versus being a 7. \n",
        "\n",
        "> Note: In here, **we don't care whether they both are high or both are low, all that matters is which is higher and by how much.**\n",
        "\n",
        "And yeah, we can do the same thing like we did before by applying the sigmoid directly on the two-activations version of our neural network.\n",
        "\n",
        "By just taking the **difference between the neural net activations**, because that reflects how much more we are sure of the input being a 3 than a 7."
      ]
    },
    {
      "cell_type": "code",
      "metadata": {
        "colab": {
          "base_uri": "https://localhost:8080/"
        },
        "id": "jhYIlciuJTis",
        "outputId": "ff605dac-f67a-4fe1-dafc-8208ece8100d"
      },
      "source": [
        "# Difference between our activation function \n",
        "acts[:, 0] - acts[: , 1]"
      ],
      "execution_count": 131,
      "outputs": [
        {
          "output_type": "execute_result",
          "data": {
            "text/plain": [
              "tensor([ 0.4158,  0.0083, -1.8731,  5.6924,  0.3886, -0.5489])"
            ]
          },
          "metadata": {
            "tags": []
          },
          "execution_count": 131
        }
      ]
    },
    {
      "cell_type": "code",
      "metadata": {
        "colab": {
          "base_uri": "https://localhost:8080/"
        },
        "id": "WnRh25NQOhen",
        "outputId": "c793fbdd-f977-4ef2-a4e3-b1d7851cc90d"
      },
      "source": [
        "prob_3 = (acts[: , 0] - acts[: , 1]).sigmoid() \n",
        "prob_3"
      ],
      "execution_count": 133,
      "outputs": [
        {
          "output_type": "execute_result",
          "data": {
            "text/plain": [
              "tensor([0.6025, 0.5021, 0.1332, 0.9966, 0.5959, 0.3661])"
            ]
          },
          "metadata": {
            "tags": []
          },
          "execution_count": 133
        }
      ]
    },
    {
      "cell_type": "markdown",
      "metadata": {
        "id": "2iO5gYSsRYRc"
      },
      "source": [
        "Above is the confidence of being a 3 than 7. Now to find the probability of being a 7 we just need to subtract the `prob_3` with 1. "
      ]
    },
    {
      "cell_type": "code",
      "metadata": {
        "id": "rFTG0xCLRs7G",
        "outputId": "3c530d42-ef13-4ed4-9aa8-a4be27174f79",
        "colab": {
          "base_uri": "https://localhost:8080/"
        }
      },
      "source": [
        "prob_7 = 1 - prob_3\n",
        "prob_7 "
      ],
      "execution_count": 134,
      "outputs": [
        {
          "output_type": "execute_result",
          "data": {
            "text/plain": [
              "tensor([0.3975, 0.4979, 0.8668, 0.0034, 0.4041, 0.6339])"
            ]
          },
          "metadata": {
            "tags": []
          },
          "execution_count": 134
        }
      ]
    },
    {
      "cell_type": "code",
      "metadata": {
        "id": "5ZtiCN8IRwhF",
        "outputId": "b33dca10-aea3-4667-970c-d837b912e424",
        "colab": {
          "base_uri": "https://localhost:8080/",
          "height": 235
        }
      },
      "source": [
        "# Proper probability dataframe  \n",
        "prob_df = pd.DataFrame({\"3s\": prob_3 , '7s': prob_7 })\n",
        "prob_df"
      ],
      "execution_count": 135,
      "outputs": [
        {
          "output_type": "execute_result",
          "data": {
            "text/html": [
              "<div>\n",
              "<style scoped>\n",
              "    .dataframe tbody tr th:only-of-type {\n",
              "        vertical-align: middle;\n",
              "    }\n",
              "\n",
              "    .dataframe tbody tr th {\n",
              "        vertical-align: top;\n",
              "    }\n",
              "\n",
              "    .dataframe thead th {\n",
              "        text-align: right;\n",
              "    }\n",
              "</style>\n",
              "<table border=\"1\" class=\"dataframe\">\n",
              "  <thead>\n",
              "    <tr style=\"text-align: right;\">\n",
              "      <th></th>\n",
              "      <th>3s</th>\n",
              "      <th>7s</th>\n",
              "    </tr>\n",
              "  </thead>\n",
              "  <tbody>\n",
              "    <tr>\n",
              "      <th>0</th>\n",
              "      <td>0.602469</td>\n",
              "      <td>0.397531</td>\n",
              "    </tr>\n",
              "    <tr>\n",
              "      <th>1</th>\n",
              "      <td>0.502065</td>\n",
              "      <td>0.497935</td>\n",
              "    </tr>\n",
              "    <tr>\n",
              "      <th>2</th>\n",
              "      <td>0.133188</td>\n",
              "      <td>0.866812</td>\n",
              "    </tr>\n",
              "    <tr>\n",
              "      <th>3</th>\n",
              "      <td>0.996640</td>\n",
              "      <td>0.003360</td>\n",
              "    </tr>\n",
              "    <tr>\n",
              "      <th>4</th>\n",
              "      <td>0.595949</td>\n",
              "      <td>0.404051</td>\n",
              "    </tr>\n",
              "    <tr>\n",
              "      <th>5</th>\n",
              "      <td>0.366118</td>\n",
              "      <td>0.633882</td>\n",
              "    </tr>\n",
              "  </tbody>\n",
              "</table>\n",
              "</div>"
            ],
            "text/plain": [
              "         3s        7s\n",
              "0  0.602469  0.397531\n",
              "1  0.502065  0.497935\n",
              "2  0.133188  0.866812\n",
              "3  0.996640  0.003360\n",
              "4  0.595949  0.404051\n",
              "5  0.366118  0.633882"
            ]
          },
          "metadata": {
            "tags": []
          },
          "execution_count": 135
        }
      ]
    },
    {
      "cell_type": "markdown",
      "metadata": {
        "id": "M2Ol4xa2SqJp"
      },
      "source": [
        "We did the above for two categories now we gotta do the same stuff for more than 2 categories, thats why we use **softmax**. \n",
        "\n",
        "> **Jargon**: Exponential function (exp): Literally defined as e**x, where e is a special number approximately equal to 2.718. It is the inverse of the natural logarithm function. Note that exp is always positive, and it increases very rapidly!"
      ]
    },
    {
      "cell_type": "code",
      "metadata": {
        "id": "fUo9UU3vS9QX",
        "outputId": "31b26578-6d07-4a30-f464-a72cd115a655",
        "colab": {
          "base_uri": "https://localhost:8080/"
        }
      },
      "source": [
        "# Softmax activations \n",
        "sm_acts = torch.softmax(acts , dim = 1)\n",
        "sm_acts "
      ],
      "execution_count": 137,
      "outputs": [
        {
          "output_type": "execute_result",
          "data": {
            "text/plain": [
              "tensor([[0.6025, 0.3975],\n",
              "        [0.5021, 0.4979],\n",
              "        [0.1332, 0.8668],\n",
              "        [0.9966, 0.0034],\n",
              "        [0.5959, 0.4041],\n",
              "        [0.3661, 0.6339]])"
            ]
          },
          "metadata": {
            "tags": []
          },
          "execution_count": 137
        }
      ]
    },
    {
      "cell_type": "markdown",
      "metadata": {
        "id": "LFqm-Dr3TURE"
      },
      "source": [
        "- Above at first it will apply the sigmoid for the first column, and those values subtracted from 1 for the second column. \n",
        "- `softmax` is the **multi-category equivalent of `sigmoid`** and we use this anytime when we have more than two categories and the probabilities of the categories should add upto 1. \n",
        "\n",
        "**How exponential helps in softmax** \n",
        "\n",
        "If one of the numbers in our activations *x* is slightly bigger than the others, the exponential will amplify, which means that in softmax, that number will be close to 1. \n",
        "\n",
        "Intuitively, the softmax function really wants to pick one class among the others, so its ideal for training a classifier when we know each picture has a definite label.\n",
        "\n",
        "But at times when our model can't recognize any of the classes that it has seen during training, the goal is not to pick a class because it has a slightly bigger activation score then it would be less ideal.\n",
        "\n",
        "In this case we might train a model using multiple binary output columns, each using sigmoid function. For instance,\n",
        "\n",
        "- Is it Teddy Bear or not.\n",
        "- Is it Grizzly Bear or not.\n",
        "- Is it Brown bear or not.\n",
        "\n",
        "Softmax is the first part of the `cross-entropy loss` the second part is log likelihood.\n",
        "\n",
        "\n",
        "Important links \n",
        " https://stats.stackexchange.com/questions/318520/many-binary-classifiers-vs-single-multiclass-classifier\n",
        "\n"
      ]
    },
    {
      "cell_type": "code",
      "metadata": {
        "id": "5chxpUM0WAHn",
        "outputId": "7a6dda66-c2cf-4b1d-928c-1af0e775aa0a",
        "colab": {
          "base_uri": "https://localhost:8080/"
        }
      },
      "source": [
        "print(\"hello world\")"
      ],
      "execution_count": 138,
      "outputs": [
        {
          "output_type": "stream",
          "text": [
            "hello world\n"
          ],
          "name": "stdout"
        }
      ]
    },
    {
      "cell_type": "markdown",
      "metadata": {
        "id": "YugxuMbpYCUa"
      },
      "source": [
        "#### Log Likelihood \n",
        "\n",
        "- Just as we moved from sigmoid to softmax, we need to extend our loss function to work with more than just binary classification, where it **needs to be able to classify any number of categories**.\n",
        "- Our activations, after softmax, are between 0 and 1, and sum to 1 for each row in the batch of predictions. Our targets are integers between 0 and 36.\n",
        "- "
      ]
    },
    {
      "cell_type": "code",
      "metadata": {
        "id": "AkhWNZOCaSo8",
        "outputId": "10246079-f970-4196-ed52-96fcc93db163",
        "colab": {
          "base_uri": "https://localhost:8080/"
        }
      },
      "source": [
        "# Dummy targets \n",
        "targ = tensor([0,1,0,1,1,0])\n",
        "\n",
        "# Softmax activations \n",
        "sm_acts"
      ],
      "execution_count": 139,
      "outputs": [
        {
          "output_type": "execute_result",
          "data": {
            "text/plain": [
              "tensor([[0.6025, 0.3975],\n",
              "        [0.5021, 0.4979],\n",
              "        [0.1332, 0.8668],\n",
              "        [0.9966, 0.0034],\n",
              "        [0.5959, 0.4041],\n",
              "        [0.3661, 0.6339]])"
            ]
          },
          "metadata": {
            "tags": []
          },
          "execution_count": 139
        }
      ]
    },
    {
      "cell_type": "code",
      "metadata": {
        "id": "G-cIp-pvaZce",
        "outputId": "843fe280-c385-45f3-ac24-d6e52b6c7e38",
        "colab": {
          "base_uri": "https://localhost:8080/"
        }
      },
      "source": [
        "# Indexing into the softmax activation (pred_probs) using the targets \n",
        "idx = range(6) # Helps to iterate to samples \n",
        "sm_acts[idx , targ]"
      ],
      "execution_count": 140,
      "outputs": [
        {
          "output_type": "execute_result",
          "data": {
            "text/plain": [
              "tensor([0.6025, 0.4979, 0.1332, 0.0034, 0.4041, 0.3661])"
            ]
          },
          "metadata": {
            "tags": []
          },
          "execution_count": 140
        }
      ]
    },
    {
      "cell_type": "markdown",
      "metadata": {
        "id": "Z8Z6daC1a5io"
      },
      "source": [
        "\n",
        "To see exactly what's happening here, let's put all the columns together in a table. Here, the first two columns are our activations, then we have the targets, the row index, and finally the result shown immediately above:\n",
        "\n"
      ]
    },
    {
      "cell_type": "code",
      "metadata": {
        "id": "zEOVMhQ4beL0",
        "outputId": "7cbfd133-cff8-439d-f0fa-5ccc94b3a235",
        "colab": {
          "base_uri": "https://localhost:8080/",
          "height": 235
        }
      },
      "source": [
        "from IPython.display import HTML\n",
        "df = pd.DataFrame(sm_acts, columns=[\"3\",\"7\"])\n",
        "df['targ'] = targ\n",
        "df['idx'] = idx\n",
        "df['loss'] = sm_acts[range(6), targ]\n",
        "\n",
        "df"
      ],
      "execution_count": 144,
      "outputs": [
        {
          "output_type": "execute_result",
          "data": {
            "text/html": [
              "<div>\n",
              "<style scoped>\n",
              "    .dataframe tbody tr th:only-of-type {\n",
              "        vertical-align: middle;\n",
              "    }\n",
              "\n",
              "    .dataframe tbody tr th {\n",
              "        vertical-align: top;\n",
              "    }\n",
              "\n",
              "    .dataframe thead th {\n",
              "        text-align: right;\n",
              "    }\n",
              "</style>\n",
              "<table border=\"1\" class=\"dataframe\">\n",
              "  <thead>\n",
              "    <tr style=\"text-align: right;\">\n",
              "      <th></th>\n",
              "      <th>3</th>\n",
              "      <th>7</th>\n",
              "      <th>targ</th>\n",
              "      <th>idx</th>\n",
              "      <th>loss</th>\n",
              "    </tr>\n",
              "  </thead>\n",
              "  <tbody>\n",
              "    <tr>\n",
              "      <th>0</th>\n",
              "      <td>0.602469</td>\n",
              "      <td>0.397531</td>\n",
              "      <td>0</td>\n",
              "      <td>0</td>\n",
              "      <td>0.602469</td>\n",
              "    </tr>\n",
              "    <tr>\n",
              "      <th>1</th>\n",
              "      <td>0.502065</td>\n",
              "      <td>0.497935</td>\n",
              "      <td>1</td>\n",
              "      <td>1</td>\n",
              "      <td>0.497935</td>\n",
              "    </tr>\n",
              "    <tr>\n",
              "      <th>2</th>\n",
              "      <td>0.133188</td>\n",
              "      <td>0.866811</td>\n",
              "      <td>0</td>\n",
              "      <td>2</td>\n",
              "      <td>0.133188</td>\n",
              "    </tr>\n",
              "    <tr>\n",
              "      <th>3</th>\n",
              "      <td>0.996640</td>\n",
              "      <td>0.003360</td>\n",
              "      <td>1</td>\n",
              "      <td>3</td>\n",
              "      <td>0.003360</td>\n",
              "    </tr>\n",
              "    <tr>\n",
              "      <th>4</th>\n",
              "      <td>0.595949</td>\n",
              "      <td>0.404051</td>\n",
              "      <td>1</td>\n",
              "      <td>4</td>\n",
              "      <td>0.404051</td>\n",
              "    </tr>\n",
              "    <tr>\n",
              "      <th>5</th>\n",
              "      <td>0.366118</td>\n",
              "      <td>0.633882</td>\n",
              "      <td>0</td>\n",
              "      <td>5</td>\n",
              "      <td>0.366118</td>\n",
              "    </tr>\n",
              "  </tbody>\n",
              "</table>\n",
              "</div>"
            ],
            "text/plain": [
              "          3         7  targ  idx      loss\n",
              "0  0.602469  0.397531     0    0  0.602469\n",
              "1  0.502065  0.497935     1    1  0.497935\n",
              "2  0.133188  0.866811     0    2  0.133188\n",
              "3  0.996640  0.003360     1    3  0.003360\n",
              "4  0.595949  0.404051     1    4  0.404051\n",
              "5  0.366118  0.633882     0    5  0.366118"
            ]
          },
          "metadata": {
            "tags": []
          },
          "execution_count": 144
        }
      ]
    },
    {
      "cell_type": "markdown",
      "metadata": {
        "id": "04g3AjUYbgYr"
      },
      "source": [
        "- We can calculate the final column `loss` by taking the targ and idx columns as indices into a two-column matrix containing the 3 and 7 columns --> `sm_acts[idx , targ]`. \n",
        "- This works well even for more than 2 columns (3s and 7s). \n",
        "\n",
        "Activations --> prediction probabilities \n",
        "\n",
        "If its for our pet breeds classification with 37 categories, then there would be 37 activation columns and then a target containing number from 0 to 9. As long as the activation columns sum to 1, we will have a low functon that shows how well we're predicitng the pet breeds.\n",
        "\n",
        "> **Note :** We just have to calculate the loss only from the column containing the correct label and we don't need to consider the other columns. This is because while using softmax, they add upto 1 minus the activation corresponding to the correct label. \n",
        "\n",
        "**Making activations for the correct label as high as possible must mean we're also decreasing activations of the remaining columns** \n",
        "\n",
        "Well the work of decreasing the activations can be done by a Pytorch function which exactly does the same (decreasing the activations for the remaining columns out there) and make sure assigning high activations for correct label. Its called nll_loss (nll --> Negative log likelihood).\n",
        "\n",
        "\n",
        "\n",
        "The negative log-likelihood becomes unhappy at smaller values, where it can reach infinite unhappiness (that’s too sad), and becomes less unhappy at larger values. Because we are summing the loss function to all the correct classes, what’s actually happening is that whenever the network assigns high confidence at the correct class, the unhappiness is low, but when the network assigns low confidence at the correct class, the unhappiness is high.\n",
        "\n",
        "In short, nll will reduce the loss the more correct class predicted and the loss will increase for incorrectly predicted classes.   \n",
        "\n",
        "\n",
        "[Great read](https://ljvmiranda921.github.io/notebook/2017/08/13/softmax-and-the-negative-log-likelihood/#:~:text=Negative%20Log%2DLikelihood%20(NLL),-In%20practice%2C%20the&text=We%20can%20interpret%20the%20loss,to%20make%20our%20models%20happy.&text=is%200%2C%20and%20reaches%200%20when%20input%20is%201.) "
      ]
    },
    {
      "cell_type": "code",
      "metadata": {
        "id": "YStDuKwXkuFF",
        "outputId": "42b0aa81-6c6c-4967-a23d-534bfb68e222",
        "colab": {
          "base_uri": "https://localhost:8080/"
        }
      },
      "source": [
        "# How nll loss works \n",
        "-sm_acts[idx , targ]"
      ],
      "execution_count": 145,
      "outputs": [
        {
          "output_type": "execute_result",
          "data": {
            "text/plain": [
              "tensor([-0.6025, -0.4979, -0.1332, -0.0034, -0.4041, -0.3661])"
            ]
          },
          "metadata": {
            "tags": []
          },
          "execution_count": 145
        }
      ]
    },
    {
      "cell_type": "code",
      "metadata": {
        "id": "YBLJQaMSpolk",
        "outputId": "fdd90a63-abba-411b-c093-f8746353ffed",
        "colab": {
          "base_uri": "https://localhost:8080/"
        }
      },
      "source": [
        "# Using the nll loss \n",
        "F.nll_loss(sm_acts , targ , reduction = \"none\")"
      ],
      "execution_count": 147,
      "outputs": [
        {
          "output_type": "execute_result",
          "data": {
            "text/plain": [
              "tensor([-0.6025, -0.4979, -0.1332, -0.0034, -0.4041, -0.3661])"
            ]
          },
          "metadata": {
            "tags": []
          },
          "execution_count": 147
        }
      ]
    },
    {
      "cell_type": "markdown",
      "metadata": {
        "id": "5pJqxzMMp5u8"
      },
      "source": [
        "Despite the name it wont take the log. \n",
        "\n",
        "https://stats.stackexchange.com/questions/366312/why-we-use-log-function-for-cross-entropy\n",
        "\n",
        "#### Taking the log \n",
        "The negative log liklehood function works quite well as a loss function but we can make it a bit better by using log.\n",
        "\n",
        "Our Cross entropy loss function till now has a softmax activation function and negative log likelihood function but to make this more efficient we need to get the help of a log function. \n",
        "\n",
        "Our predictions are in the form of probabilties and probs can't be smaller than 0 or greater than 1. It means our **model will not care if it predicts 0.99 or 0.99** and indeed those numbers are very close together, but in other sense **0.999 is 10 times more confident than 0.99**\n",
        "\n",
        "Nowe we want to transform our numbers between 0 and 1 instead between negative infinity and positive infinity for this reason we use **logarithm** (log). \n",
        "\n"
      ]
    }
  ]
}