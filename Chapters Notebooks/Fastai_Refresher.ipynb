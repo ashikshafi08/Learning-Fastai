{
  "nbformat": 4,
  "nbformat_minor": 0,
  "metadata": {
    "colab": {
      "name": "Fastai_Refresher.ipynb",
      "provenance": [],
      "collapsed_sections": [],
      "authorship_tag": "ABX9TyNLu4t3LTLYIKSMTeTuTyQW",
      "include_colab_link": true
    },
    "kernelspec": {
      "name": "python3",
      "display_name": "Python 3"
    },
    "language_info": {
      "name": "python"
    },
    "accelerator": "GPU"
  },
  "cells": [
    {
      "cell_type": "markdown",
      "metadata": {
        "id": "view-in-github",
        "colab_type": "text"
      },
      "source": [
        "<a href=\"https://colab.research.google.com/github/ashikshafi08/Learning-Fastai/blob/main/Chapters%20Notebooks/Fastai_Refresher.ipynb\" target=\"_parent\"><img src=\"https://colab.research.google.com/assets/colab-badge.svg\" alt=\"Open In Colab\"/></a>"
      ]
    },
    {
      "cell_type": "markdown",
      "metadata": {
        "id": "6uuMuqBjhkvF"
      },
      "source": [
        "This notebooks will cover 4 chapters of the Fastai lectures. After 2 months of break and now I decided I have to go back and finish this book and take proper notes and use my skills in competition. \n",
        "\n"
      ]
    },
    {
      "cell_type": "code",
      "metadata": {
        "colab": {
          "base_uri": "https://localhost:8080/"
        },
        "id": "SDh4f6RXrvU3",
        "outputId": "733d37c4-d927-4f73-b483-ec3b3a52903b"
      },
      "source": [
        "# Installing fastai \n",
        "!pip install fastai --upgrade "
      ],
      "execution_count": 1,
      "outputs": [
        {
          "output_type": "stream",
          "text": [
            "Collecting fastai\n",
            "\u001b[?25l  Downloading https://files.pythonhosted.org/packages/bd/ca/bc9f4e04adcdfda1357f5c63bc67a7bf4f315883ca544726f3376b1ed068/fastai-2.4-py3-none-any.whl (187kB)\n",
            "\r\u001b[K     |█▊                              | 10kB 24.0MB/s eta 0:00:01\r\u001b[K     |███▌                            | 20kB 16.9MB/s eta 0:00:01\r\u001b[K     |█████▎                          | 30kB 14.6MB/s eta 0:00:01\r\u001b[K     |███████                         | 40kB 13.5MB/s eta 0:00:01\r\u001b[K     |████████▊                       | 51kB 7.5MB/s eta 0:00:01\r\u001b[K     |██████████▌                     | 61kB 8.8MB/s eta 0:00:01\r\u001b[K     |████████████▏                   | 71kB 8.4MB/s eta 0:00:01\r\u001b[K     |██████████████                  | 81kB 9.1MB/s eta 0:00:01\r\u001b[K     |███████████████▊                | 92kB 8.6MB/s eta 0:00:01\r\u001b[K     |█████████████████▍              | 102kB 7.3MB/s eta 0:00:01\r\u001b[K     |███████████████████▏            | 112kB 7.3MB/s eta 0:00:01\r\u001b[K     |█████████████████████           | 122kB 7.3MB/s eta 0:00:01\r\u001b[K     |██████████████████████▊         | 133kB 7.3MB/s eta 0:00:01\r\u001b[K     |████████████████████████▍       | 143kB 7.3MB/s eta 0:00:01\r\u001b[K     |██████████████████████████▏     | 153kB 7.3MB/s eta 0:00:01\r\u001b[K     |████████████████████████████    | 163kB 7.3MB/s eta 0:00:01\r\u001b[K     |█████████████████████████████▋  | 174kB 7.3MB/s eta 0:00:01\r\u001b[K     |███████████████████████████████▍| 184kB 7.3MB/s eta 0:00:01\r\u001b[K     |████████████████████████████████| 194kB 7.3MB/s \n",
            "\u001b[?25hRequirement already satisfied, skipping upgrade: torch<1.10,>=1.7.0 in /usr/local/lib/python3.7/dist-packages (from fastai) (1.9.0+cu102)\n",
            "Requirement already satisfied, skipping upgrade: requests in /usr/local/lib/python3.7/dist-packages (from fastai) (2.23.0)\n",
            "Requirement already satisfied, skipping upgrade: scipy in /usr/local/lib/python3.7/dist-packages (from fastai) (1.4.1)\n",
            "Requirement already satisfied, skipping upgrade: scikit-learn in /usr/local/lib/python3.7/dist-packages (from fastai) (0.22.2.post1)\n",
            "Requirement already satisfied, skipping upgrade: pip in /usr/local/lib/python3.7/dist-packages (from fastai) (19.3.1)\n",
            "Requirement already satisfied, skipping upgrade: pyyaml in /usr/local/lib/python3.7/dist-packages (from fastai) (3.13)\n",
            "Requirement already satisfied, skipping upgrade: pillow>6.0.0 in /usr/local/lib/python3.7/dist-packages (from fastai) (7.1.2)\n",
            "Requirement already satisfied, skipping upgrade: matplotlib in /usr/local/lib/python3.7/dist-packages (from fastai) (3.2.2)\n",
            "Requirement already satisfied, skipping upgrade: fastprogress>=0.2.4 in /usr/local/lib/python3.7/dist-packages (from fastai) (1.0.0)\n",
            "Requirement already satisfied, skipping upgrade: packaging in /usr/local/lib/python3.7/dist-packages (from fastai) (20.9)\n",
            "Requirement already satisfied, skipping upgrade: pandas in /usr/local/lib/python3.7/dist-packages (from fastai) (1.1.5)\n",
            "Requirement already satisfied, skipping upgrade: spacy<4 in /usr/local/lib/python3.7/dist-packages (from fastai) (2.2.4)\n",
            "Requirement already satisfied, skipping upgrade: torchvision>=0.8.2 in /usr/local/lib/python3.7/dist-packages (from fastai) (0.10.0+cu102)\n",
            "Collecting fastcore<1.4,>=1.3.8\n",
            "\u001b[?25l  Downloading https://files.pythonhosted.org/packages/d8/b0/f1fbf554e0bf3c76e1bdc3b82eedfe41fcf656479586be38c64421082b1b/fastcore-1.3.20-py3-none-any.whl (53kB)\n",
            "\u001b[K     |████████████████████████████████| 61kB 7.1MB/s \n",
            "\u001b[?25hRequirement already satisfied, skipping upgrade: typing-extensions in /usr/local/lib/python3.7/dist-packages (from torch<1.10,>=1.7.0->fastai) (3.7.4.3)\n",
            "Requirement already satisfied, skipping upgrade: urllib3!=1.25.0,!=1.25.1,<1.26,>=1.21.1 in /usr/local/lib/python3.7/dist-packages (from requests->fastai) (1.24.3)\n",
            "Requirement already satisfied, skipping upgrade: chardet<4,>=3.0.2 in /usr/local/lib/python3.7/dist-packages (from requests->fastai) (3.0.4)\n",
            "Requirement already satisfied, skipping upgrade: idna<3,>=2.5 in /usr/local/lib/python3.7/dist-packages (from requests->fastai) (2.10)\n",
            "Requirement already satisfied, skipping upgrade: certifi>=2017.4.17 in /usr/local/lib/python3.7/dist-packages (from requests->fastai) (2021.5.30)\n",
            "Requirement already satisfied, skipping upgrade: numpy>=1.13.3 in /usr/local/lib/python3.7/dist-packages (from scipy->fastai) (1.19.5)\n",
            "Requirement already satisfied, skipping upgrade: joblib>=0.11 in /usr/local/lib/python3.7/dist-packages (from scikit-learn->fastai) (1.0.1)\n",
            "Requirement already satisfied, skipping upgrade: kiwisolver>=1.0.1 in /usr/local/lib/python3.7/dist-packages (from matplotlib->fastai) (1.3.1)\n",
            "Requirement already satisfied, skipping upgrade: cycler>=0.10 in /usr/local/lib/python3.7/dist-packages (from matplotlib->fastai) (0.10.0)\n",
            "Requirement already satisfied, skipping upgrade: pyparsing!=2.0.4,!=2.1.2,!=2.1.6,>=2.0.1 in /usr/local/lib/python3.7/dist-packages (from matplotlib->fastai) (2.4.7)\n",
            "Requirement already satisfied, skipping upgrade: python-dateutil>=2.1 in /usr/local/lib/python3.7/dist-packages (from matplotlib->fastai) (2.8.1)\n",
            "Requirement already satisfied, skipping upgrade: pytz>=2017.2 in /usr/local/lib/python3.7/dist-packages (from pandas->fastai) (2018.9)\n",
            "Requirement already satisfied, skipping upgrade: cymem<2.1.0,>=2.0.2 in /usr/local/lib/python3.7/dist-packages (from spacy<4->fastai) (2.0.5)\n",
            "Requirement already satisfied, skipping upgrade: catalogue<1.1.0,>=0.0.7 in /usr/local/lib/python3.7/dist-packages (from spacy<4->fastai) (1.0.0)\n",
            "Requirement already satisfied, skipping upgrade: preshed<3.1.0,>=3.0.2 in /usr/local/lib/python3.7/dist-packages (from spacy<4->fastai) (3.0.5)\n",
            "Requirement already satisfied, skipping upgrade: murmurhash<1.1.0,>=0.28.0 in /usr/local/lib/python3.7/dist-packages (from spacy<4->fastai) (1.0.5)\n",
            "Requirement already satisfied, skipping upgrade: wasabi<1.1.0,>=0.4.0 in /usr/local/lib/python3.7/dist-packages (from spacy<4->fastai) (0.8.2)\n",
            "Requirement already satisfied, skipping upgrade: blis<0.5.0,>=0.4.0 in /usr/local/lib/python3.7/dist-packages (from spacy<4->fastai) (0.4.1)\n",
            "Requirement already satisfied, skipping upgrade: setuptools in /usr/local/lib/python3.7/dist-packages (from spacy<4->fastai) (57.0.0)\n",
            "Requirement already satisfied, skipping upgrade: thinc==7.4.0 in /usr/local/lib/python3.7/dist-packages (from spacy<4->fastai) (7.4.0)\n",
            "Requirement already satisfied, skipping upgrade: tqdm<5.0.0,>=4.38.0 in /usr/local/lib/python3.7/dist-packages (from spacy<4->fastai) (4.41.1)\n",
            "Requirement already satisfied, skipping upgrade: srsly<1.1.0,>=1.0.2 in /usr/local/lib/python3.7/dist-packages (from spacy<4->fastai) (1.0.5)\n",
            "Requirement already satisfied, skipping upgrade: plac<1.2.0,>=0.9.6 in /usr/local/lib/python3.7/dist-packages (from spacy<4->fastai) (1.1.3)\n",
            "Requirement already satisfied, skipping upgrade: six in /usr/local/lib/python3.7/dist-packages (from cycler>=0.10->matplotlib->fastai) (1.15.0)\n",
            "Requirement already satisfied, skipping upgrade: importlib-metadata>=0.20; python_version < \"3.8\" in /usr/local/lib/python3.7/dist-packages (from catalogue<1.1.0,>=0.0.7->spacy<4->fastai) (4.5.0)\n",
            "Requirement already satisfied, skipping upgrade: zipp>=0.5 in /usr/local/lib/python3.7/dist-packages (from importlib-metadata>=0.20; python_version < \"3.8\"->catalogue<1.1.0,>=0.0.7->spacy<4->fastai) (3.4.1)\n",
            "Installing collected packages: fastcore, fastai\n",
            "  Found existing installation: fastai 1.0.61\n",
            "    Uninstalling fastai-1.0.61:\n",
            "      Successfully uninstalled fastai-1.0.61\n",
            "Successfully installed fastai-2.4 fastcore-1.3.20\n"
          ],
          "name": "stdout"
        }
      ]
    },
    {
      "cell_type": "code",
      "metadata": {
        "id": "HQ4qLqI8rzdk"
      },
      "source": [
        "# Importing the needed libs \n",
        "from fastai import * \n",
        "from fastai.vision.all import *"
      ],
      "execution_count": 2,
      "outputs": []
    },
    {
      "cell_type": "markdown",
      "metadata": {
        "id": "niUdsVcm5U0f"
      },
      "source": [
        "# Under the hood: Training a Digit Training Classifier"
      ]
    },
    {
      "cell_type": "code",
      "metadata": {
        "colab": {
          "base_uri": "https://localhost:8080/",
          "height": 54
        },
        "id": "cjSh-6NqtJeK",
        "outputId": "6057ce1f-0764-4cd6-df02-bc14e7c71327"
      },
      "source": [
        "# Reading the data\n",
        "path = untar_data(URLs.MNIST_SAMPLE)\n",
        "path.ls()"
      ],
      "execution_count": 3,
      "outputs": [
        {
          "output_type": "display_data",
          "data": {
            "text/html": [
              ""
            ],
            "text/plain": [
              "<IPython.core.display.HTML object>"
            ]
          },
          "metadata": {
            "tags": []
          }
        },
        {
          "output_type": "execute_result",
          "data": {
            "text/plain": [
              "(#3) [Path('/root/.fastai/data/mnist_sample/labels.csv'),Path('/root/.fastai/data/mnist_sample/train'),Path('/root/.fastai/data/mnist_sample/valid')]"
            ]
          },
          "metadata": {
            "tags": []
          },
          "execution_count": 3
        }
      ]
    },
    {
      "cell_type": "code",
      "metadata": {
        "colab": {
          "base_uri": "https://localhost:8080/"
        },
        "id": "P4VF8J3dr49f",
        "outputId": "465d5ba2-2d39-4895-ed93-a00adc1f45cc"
      },
      "source": [
        "# Putting into sep variable of 3 and 7 \n",
        "threes = (path / 'train' / '3').ls().sorted()\n",
        "sevens = (path / 'train' / '7').ls().sorted()\n",
        "\n",
        "threes[:5] , sevens[:5]"
      ],
      "execution_count": 4,
      "outputs": [
        {
          "output_type": "execute_result",
          "data": {
            "text/plain": [
              "((#5) [Path('/root/.fastai/data/mnist_sample/train/3/10.png'),Path('/root/.fastai/data/mnist_sample/train/3/10000.png'),Path('/root/.fastai/data/mnist_sample/train/3/10011.png'),Path('/root/.fastai/data/mnist_sample/train/3/10031.png'),Path('/root/.fastai/data/mnist_sample/train/3/10034.png')],\n",
              " (#5) [Path('/root/.fastai/data/mnist_sample/train/7/10002.png'),Path('/root/.fastai/data/mnist_sample/train/7/1001.png'),Path('/root/.fastai/data/mnist_sample/train/7/10014.png'),Path('/root/.fastai/data/mnist_sample/train/7/10019.png'),Path('/root/.fastai/data/mnist_sample/train/7/10039.png')])"
            ]
          },
          "metadata": {
            "tags": []
          },
          "execution_count": 4
        }
      ]
    },
    {
      "cell_type": "code",
      "metadata": {
        "colab": {
          "base_uri": "https://localhost:8080/"
        },
        "id": "5Ijd622ItD8Z",
        "outputId": "978696c5-3b35-45a6-b37d-96b71778e809"
      },
      "source": [
        "# Representing in a numpy array \n",
        "img_3 = threes[1]\n",
        "im3 = Image.open(img_3)\n",
        "im3.show()\n",
        "np.array(im3)[4:10 , 4:10] # rows and columns "
      ],
      "execution_count": 5,
      "outputs": [
        {
          "output_type": "execute_result",
          "data": {
            "text/plain": [
              "array([[  0,   0,   0,   0,   0,   0],\n",
              "       [  0,   0,   0,   0,   0,  29],\n",
              "       [  0,   0,   0,  48, 166, 224],\n",
              "       [  0,  93, 244, 249, 253, 187],\n",
              "       [  0, 107, 253, 253, 230,  48],\n",
              "       [  0,   3,  20,  20,  15,   0]], dtype=uint8)"
            ]
          },
          "metadata": {
            "tags": []
          },
          "execution_count": 5
        }
      ]
    },
    {
      "cell_type": "code",
      "metadata": {
        "id": "5oPWetkxuc9p"
      },
      "source": [
        "# Stacking all the images in the directory, and converting into tensors\n",
        "\n",
        "seven_tensor = [tensor(Image.open(o)) for o in sevens]\n",
        "three_tensor = [tensor(Image.open(o)) for o in threes]"
      ],
      "execution_count": 6,
      "outputs": []
    },
    {
      "cell_type": "markdown",
      "metadata": {
        "id": "_BPY3H-ItbP0"
      },
      "source": [
        "Calculate the average over all the images of the intensity of the pixel. \n",
        "\n",
        "Our tensors are in integers let's stack them and convert into float by dividing them by 255. "
      ]
    },
    {
      "cell_type": "code",
      "metadata": {
        "colab": {
          "base_uri": "https://localhost:8080/"
        },
        "id": "h9LFFRX7t5gc",
        "outputId": "d85888ea-2b95-4e4f-b167-8d4b953850f5"
      },
      "source": [
        "stacked_sevens = torch.stack(seven_tensor).float() / 255\n",
        "stacked_threes = torch.stack(three_tensor).float() / 255\n",
        "\n",
        "stacked_sevens[:1]"
      ],
      "execution_count": 7,
      "outputs": [
        {
          "output_type": "execute_result",
          "data": {
            "text/plain": [
              "tensor([[[0.0000, 0.0000, 0.0000, 0.0000, 0.0000, 0.0000, 0.0000, 0.0000,\n",
              "          0.0000, 0.0000, 0.0000, 0.0000, 0.0000, 0.0000, 0.0000, 0.0000,\n",
              "          0.0000, 0.0000, 0.0000, 0.0000, 0.0000, 0.0000, 0.0000, 0.0000,\n",
              "          0.0000, 0.0000, 0.0000, 0.0000],\n",
              "         [0.0000, 0.0000, 0.0000, 0.0000, 0.0000, 0.0000, 0.0000, 0.0000,\n",
              "          0.0000, 0.0000, 0.0000, 0.0000, 0.0000, 0.0000, 0.0000, 0.0000,\n",
              "          0.0000, 0.0000, 0.0000, 0.0000, 0.0000, 0.0000, 0.0000, 0.0000,\n",
              "          0.0000, 0.0000, 0.0000, 0.0000],\n",
              "         [0.0000, 0.0000, 0.0000, 0.0000, 0.0000, 0.0000, 0.0000, 0.0000,\n",
              "          0.0000, 0.0000, 0.0000, 0.0000, 0.0000, 0.0000, 0.0000, 0.0000,\n",
              "          0.0000, 0.0000, 0.0000, 0.0000, 0.0000, 0.0000, 0.0000, 0.0000,\n",
              "          0.0000, 0.0000, 0.0000, 0.0000],\n",
              "         [0.0000, 0.0000, 0.0000, 0.0000, 0.0000, 0.0000, 0.0000, 0.0000,\n",
              "          0.0000, 0.0000, 0.0000, 0.0000, 0.0000, 0.0000, 0.0000, 0.0000,\n",
              "          0.0000, 0.0000, 0.0000, 0.0000, 0.0000, 0.0000, 0.0000, 0.0000,\n",
              "          0.0000, 0.0000, 0.0000, 0.0000],\n",
              "         [0.0000, 0.0000, 0.0000, 0.0000, 0.0000, 0.0000, 0.0000, 0.0000,\n",
              "          0.0000, 0.0000, 0.0000, 0.0000, 0.0000, 0.0000, 0.0000, 0.0000,\n",
              "          0.0000, 0.0000, 0.0000, 0.0000, 0.0000, 0.0000, 0.0000, 0.0000,\n",
              "          0.0000, 0.0000, 0.0000, 0.0000],\n",
              "         [0.0000, 0.0000, 0.0000, 0.0000, 0.0000, 0.0000, 0.0000, 0.0000,\n",
              "          0.0000, 0.0000, 0.0000, 0.0000, 0.0000, 0.0000, 0.0000, 0.0000,\n",
              "          0.0000, 0.0000, 0.0000, 0.0000, 0.0000, 0.0000, 0.0000, 0.0000,\n",
              "          0.0000, 0.0000, 0.0000, 0.0000],\n",
              "         [0.0000, 0.0000, 0.0000, 0.0000, 0.0000, 0.0000, 0.0000, 0.0000,\n",
              "          0.0000, 0.0000, 0.0000, 0.0000, 0.0000, 0.0000, 0.0000, 0.0000,\n",
              "          0.0000, 0.0000, 0.0000, 0.0000, 0.0000, 0.0000, 0.0000, 0.0000,\n",
              "          0.0000, 0.0000, 0.0000, 0.0000],\n",
              "         [0.0000, 0.0000, 0.0000, 0.0000, 0.0824, 0.2000, 0.8353, 0.9961,\n",
              "          0.9882, 0.9882, 0.9882, 0.9961, 0.9882, 0.9882, 0.9882, 0.9961,\n",
              "          0.9882, 0.9882, 0.9882, 1.0000, 0.9882, 0.3922, 0.0000, 0.0000,\n",
              "          0.0000, 0.0000, 0.0000, 0.0000],\n",
              "         [0.0000, 0.0000, 0.0000, 0.0824, 0.6314, 0.9804, 0.9804, 0.9882,\n",
              "          0.9804, 0.9804, 0.9804, 0.9882, 0.9804, 0.9804, 0.9804, 0.9882,\n",
              "          0.9804, 0.9804, 0.9804, 0.9882, 0.9804, 0.3922, 0.0000, 0.0000,\n",
              "          0.0000, 0.0000, 0.0000, 0.0000],\n",
              "         [0.0000, 0.0000, 0.0000, 0.2000, 0.9804, 0.9804, 0.9804, 0.9882,\n",
              "          0.7412, 0.7451, 0.9804, 0.9882, 0.9804, 0.9804, 0.9804, 0.9882,\n",
              "          0.9804, 0.9804, 0.9804, 0.9882, 0.7412, 0.1569, 0.0000, 0.0000,\n",
              "          0.0000, 0.0000, 0.0000, 0.0000],\n",
              "         [0.0000, 0.0000, 0.0000, 0.0392, 0.5098, 0.9804, 0.9804, 0.1922,\n",
              "          0.1137, 0.1176, 0.1922, 0.1922, 0.1922, 0.1922, 0.1922, 0.1922,\n",
              "          0.1922, 0.6667, 0.9804, 0.9882, 0.5843, 0.0000, 0.0000, 0.0000,\n",
              "          0.0000, 0.0000, 0.0000, 0.0000],\n",
              "         [0.0000, 0.0000, 0.0000, 0.0000, 0.0000, 0.0000, 0.0000, 0.0000,\n",
              "          0.0000, 0.0000, 0.0000, 0.0000, 0.0000, 0.0000, 0.0000, 0.0431,\n",
              "          0.5176, 0.9882, 0.9882, 0.9569, 0.4745, 0.0000, 0.0000, 0.0000,\n",
              "          0.0000, 0.0000, 0.0000, 0.0000],\n",
              "         [0.0000, 0.0000, 0.0000, 0.0000, 0.0000, 0.0000, 0.0000, 0.0000,\n",
              "          0.0000, 0.0000, 0.0000, 0.0000, 0.0000, 0.0000, 0.0000, 0.2000,\n",
              "          0.9804, 0.9804, 0.9804, 0.7922, 0.0000, 0.0000, 0.0000, 0.0000,\n",
              "          0.0000, 0.0000, 0.0000, 0.0000],\n",
              "         [0.0000, 0.0000, 0.0000, 0.0000, 0.0000, 0.0000, 0.0000, 0.0000,\n",
              "          0.0000, 0.0000, 0.0000, 0.0000, 0.0000, 0.0000, 0.0000, 0.6745,\n",
              "          0.9804, 0.9804, 0.9804, 0.3137, 0.0000, 0.0000, 0.0000, 0.0000,\n",
              "          0.0000, 0.0000, 0.0000, 0.0000],\n",
              "         [0.0000, 0.0000, 0.0000, 0.0000, 0.0000, 0.0000, 0.0000, 0.0000,\n",
              "          0.0000, 0.0000, 0.0000, 0.0000, 0.0000, 0.0000, 0.0000, 0.9882,\n",
              "          0.9804, 0.9804, 0.9804, 0.0000, 0.0000, 0.0000, 0.0000, 0.0000,\n",
              "          0.0000, 0.0000, 0.0000, 0.0000],\n",
              "         [0.0000, 0.0000, 0.0000, 0.0000, 0.0000, 0.0000, 0.0000, 0.0000,\n",
              "          0.0000, 0.0000, 0.0000, 0.0000, 0.0000, 0.1216, 0.8353, 0.9961,\n",
              "          0.9882, 0.9882, 0.1922, 0.0000, 0.0000, 0.0000, 0.0000, 0.0000,\n",
              "          0.0000, 0.0000, 0.0000, 0.0000],\n",
              "         [0.0000, 0.0000, 0.0000, 0.0000, 0.0000, 0.0000, 0.0000, 0.0000,\n",
              "          0.0000, 0.0000, 0.0000, 0.0000, 0.0000, 0.5922, 0.9804, 0.9882,\n",
              "          0.9804, 0.9804, 0.1922, 0.0000, 0.0000, 0.0000, 0.0000, 0.0000,\n",
              "          0.0000, 0.0000, 0.0000, 0.0000],\n",
              "         [0.0000, 0.0000, 0.0000, 0.0000, 0.0000, 0.0000, 0.0000, 0.0000,\n",
              "          0.0000, 0.0000, 0.0000, 0.0000, 0.0000, 0.5922, 0.9804, 0.9882,\n",
              "          0.9804, 0.6235, 0.0784, 0.0000, 0.0000, 0.0000, 0.0000, 0.0000,\n",
              "          0.0000, 0.0000, 0.0000, 0.0000],\n",
              "         [0.0000, 0.0000, 0.0000, 0.0000, 0.0000, 0.0000, 0.0000, 0.0000,\n",
              "          0.0000, 0.0000, 0.0000, 0.0000, 0.0000, 0.5922, 0.9804, 0.9882,\n",
              "          0.9804, 0.3922, 0.0000, 0.0000, 0.0000, 0.0000, 0.0000, 0.0000,\n",
              "          0.0000, 0.0000, 0.0000, 0.0000],\n",
              "         [0.0000, 0.0000, 0.0000, 0.0000, 0.0000, 0.0000, 0.0000, 0.0000,\n",
              "          0.0000, 0.0000, 0.0000, 0.0000, 0.0000, 0.5961, 0.9882, 0.9961,\n",
              "          0.9882, 0.3922, 0.0000, 0.0000, 0.0000, 0.0000, 0.0000, 0.0000,\n",
              "          0.0000, 0.0000, 0.0000, 0.0000],\n",
              "         [0.0000, 0.0000, 0.0000, 0.0000, 0.0000, 0.0000, 0.0000, 0.0000,\n",
              "          0.0000, 0.0000, 0.0000, 0.0000, 0.0000, 0.5922, 0.9804, 0.9882,\n",
              "          0.9804, 0.3922, 0.0000, 0.0000, 0.0000, 0.0000, 0.0000, 0.0000,\n",
              "          0.0000, 0.0000, 0.0000, 0.0000],\n",
              "         [0.0000, 0.0000, 0.0000, 0.0000, 0.0000, 0.0000, 0.0000, 0.0000,\n",
              "          0.0000, 0.0000, 0.0000, 0.0000, 0.0000, 0.5922, 0.9804, 0.9882,\n",
              "          0.9804, 0.3922, 0.0000, 0.0000, 0.0000, 0.0000, 0.0000, 0.0000,\n",
              "          0.0000, 0.0000, 0.0000, 0.0000],\n",
              "         [0.0000, 0.0000, 0.0000, 0.0000, 0.0000, 0.0000, 0.0000, 0.0000,\n",
              "          0.0000, 0.0000, 0.0000, 0.0000, 0.0000, 0.5922, 0.9804, 0.9882,\n",
              "          0.9804, 0.8667, 0.1569, 0.0000, 0.0000, 0.0000, 0.0000, 0.0000,\n",
              "          0.0000, 0.0000, 0.0000, 0.0000],\n",
              "         [0.0000, 0.0000, 0.0000, 0.0000, 0.0000, 0.0000, 0.0000, 0.0000,\n",
              "          0.0000, 0.0000, 0.0000, 0.0000, 0.0000, 0.6000, 0.9882, 1.0000,\n",
              "          0.9882, 0.9882, 0.1922, 0.0000, 0.0000, 0.0000, 0.0000, 0.0000,\n",
              "          0.0000, 0.0000, 0.0000, 0.0000],\n",
              "         [0.0000, 0.0000, 0.0000, 0.0000, 0.0000, 0.0000, 0.0000, 0.0000,\n",
              "          0.0000, 0.0000, 0.0000, 0.0000, 0.0000, 0.5922, 0.9804, 0.9882,\n",
              "          0.9804, 0.9804, 0.1922, 0.0000, 0.0000, 0.0000, 0.0000, 0.0000,\n",
              "          0.0000, 0.0000, 0.0000, 0.0000],\n",
              "         [0.0000, 0.0000, 0.0000, 0.0000, 0.0000, 0.0000, 0.0000, 0.0000,\n",
              "          0.0000, 0.0000, 0.0000, 0.0000, 0.0000, 0.2353, 0.8667, 0.9882,\n",
              "          0.9804, 0.6235, 0.0784, 0.0000, 0.0000, 0.0000, 0.0000, 0.0000,\n",
              "          0.0000, 0.0000, 0.0000, 0.0000],\n",
              "         [0.0000, 0.0000, 0.0000, 0.0000, 0.0000, 0.0000, 0.0000, 0.0000,\n",
              "          0.0000, 0.0000, 0.0000, 0.0000, 0.0000, 0.0000, 0.1569, 0.8314,\n",
              "          0.1922, 0.0784, 0.0000, 0.0000, 0.0000, 0.0000, 0.0000, 0.0000,\n",
              "          0.0000, 0.0000, 0.0000, 0.0000],\n",
              "         [0.0000, 0.0000, 0.0000, 0.0000, 0.0000, 0.0000, 0.0000, 0.0000,\n",
              "          0.0000, 0.0000, 0.0000, 0.0000, 0.0000, 0.0000, 0.0000, 0.0000,\n",
              "          0.0000, 0.0000, 0.0000, 0.0000, 0.0000, 0.0000, 0.0000, 0.0000,\n",
              "          0.0000, 0.0000, 0.0000, 0.0000]]])"
            ]
          },
          "metadata": {
            "tags": []
          },
          "execution_count": 7
        }
      ]
    },
    {
      "cell_type": "code",
      "metadata": {
        "colab": {
          "base_uri": "https://localhost:8080/"
        },
        "id": "JZnOMywsvL1g",
        "outputId": "898ef640-8981-43c9-9c21-086afa1eecd9"
      },
      "source": [
        "# Checking the shape \n",
        "stacked_sevens.shape , stacked_threes.shape"
      ],
      "execution_count": 8,
      "outputs": [
        {
          "output_type": "execute_result",
          "data": {
            "text/plain": [
              "(torch.Size([6265, 28, 28]), torch.Size([6131, 28, 28]))"
            ]
          },
          "metadata": {
            "tags": []
          },
          "execution_count": 8
        }
      ]
    },
    {
      "cell_type": "code",
      "metadata": {
        "colab": {
          "base_uri": "https://localhost:8080/",
          "height": 102
        },
        "id": "7M-FvMESvVb4",
        "outputId": "9830ea4d-7850-4373-a067-8f63f4c1173e"
      },
      "source": [
        "# Finding the ideal 3 by taking average along the 0th dimension\n",
        "mean_3 = stacked_threes.mean(dim = 0)\n",
        "mean_7 = stacked_sevens.mean(dim = 0)\n",
        "show_image(mean_3)"
      ],
      "execution_count": 9,
      "outputs": [
        {
          "output_type": "execute_result",
          "data": {
            "text/plain": [
              "<matplotlib.axes._subplots.AxesSubplot at 0x7fdeecbc6090>"
            ]
          },
          "metadata": {
            "tags": []
          },
          "execution_count": 9
        },
        {
          "output_type": "display_data",
          "data": {
            "image/png": "[encoded data removed]",
            "text/plain": [
              "<Figure size 72x72 with 1 Axes>"
            ]
          },
          "metadata": {
            "tags": [],
            "needs_background": "light"
          }
        }
      ]
    },
    {
      "cell_type": "markdown",
      "metadata": {
        "id": "cXmRIBwfvmfb"
      },
      "source": [
        "Now we have two stuffs, one the ideal image and the actual image. We have to calculate the distance between them. \n",
        "\n",
        "- Mean absolute difference --> replaces negative with positive values\n",
        "- Mean Squared Error --> makes everything positive. "
      ]
    },
    {
      "cell_type": "code",
      "metadata": {
        "colab": {
          "base_uri": "https://localhost:8080/"
        },
        "id": "jLAYiuCywT7L",
        "outputId": "f6865d7b-6746-45b9-9c4b-2f0366c1c61f"
      },
      "source": [
        "# Creating a vlid 3 and 7 tensors\n",
        "\n",
        "valid_3_tens = torch.stack([tensor(Image.open(o)) for o in (path / 'valid' / '3').ls()])\n",
        "valid_7_tens = torch.stack([tensor(Image.open(o)) for o in (path / 'valid' / '7').ls()])\n",
        "\n",
        "# Converting them into 0 and 1 \n",
        "valid_3_tens = valid_3_tens.float() / 255\n",
        "valid_7_tens = valid_7_tens.float() / 255 \n",
        "\n",
        "# Shape of the valid tensors \n",
        "valid_3_tens.shape , valid_7_tens.shape"
      ],
      "execution_count": 10,
      "outputs": [
        {
          "output_type": "execute_result",
          "data": {
            "text/plain": [
              "(torch.Size([1010, 28, 28]), torch.Size([1028, 28, 28]))"
            ]
          },
          "metadata": {
            "tags": []
          },
          "execution_count": 10
        }
      ]
    },
    {
      "cell_type": "code",
      "metadata": {
        "colab": {
          "base_uri": "https://localhost:8080/"
        },
        "id": "H9VYtdVrxhC0",
        "outputId": "703e4437-a91a-41dc-f564-19313e579db0"
      },
      "source": [
        "# Writing the function which cal dist btw ideal and arbitrary value\n",
        "# taking the mean ranging over the values indexed by the last two axes of the tensors\n",
        "def mnist_distance(a , b):\n",
        "  return (a - b).abs().mean((-1 , -2))\n",
        "\n",
        "# Using the function \n",
        "valid_3_dist = mnist_distance(valid_3_tens , mean_3)\n",
        "valid_3_dist.shape \n"
      ],
      "execution_count": 11,
      "outputs": [
        {
          "output_type": "execute_result",
          "data": {
            "text/plain": [
              "torch.Size([1010])"
            ]
          },
          "metadata": {
            "tags": []
          },
          "execution_count": 11
        }
      ]
    },
    {
      "cell_type": "code",
      "metadata": {
        "colab": {
          "base_uri": "https://localhost:8080/"
        },
        "id": "VYOIHoMIy2Pi",
        "outputId": "8dacc01e-4e7a-4eb1-95b0-6f2429c05bfb"
      },
      "source": [
        "# The first 5 sample's distance \n",
        "valid_3_dist[:5]"
      ],
      "execution_count": 12,
      "outputs": [
        {
          "output_type": "execute_result",
          "data": {
            "text/plain": [
              "tensor([0.1163, 0.1270, 0.1241, 0.1097, 0.1165])"
            ]
          },
          "metadata": {
            "tags": []
          },
          "execution_count": 12
        }
      ]
    },
    {
      "cell_type": "code",
      "metadata": {
        "colab": {
          "base_uri": "https://localhost:8080/"
        },
        "id": "jmJUQYF8y7Tz",
        "outputId": "f6e245a2-a564-4e82-c3d2-47d2ac69496f"
      },
      "source": [
        "# Taking one sample from 3 and 7 \n",
        "a_3 = stacked_threes[5]\n",
        "a_7 = stacked_sevens[6]\n",
        "\n",
        "len(a_3) , len(a_7)"
      ],
      "execution_count": 13,
      "outputs": [
        {
          "output_type": "execute_result",
          "data": {
            "text/plain": [
              "(28, 28)"
            ]
          },
          "metadata": {
            "tags": []
          },
          "execution_count": 13
        }
      ]
    },
    {
      "cell_type": "code",
      "metadata": {
        "id": "NC1h4dwzzUdg",
        "colab": {
          "base_uri": "https://localhost:8080/"
        },
        "outputId": "93fe1ca4-8d9f-4378-aea3-3868b91f2787"
      },
      "source": [
        "# Calculating the distance between ideal and single image file \n",
        "mnist_distance(a_3 , mean_3) , mnist_distance(a_7 , mean_7)"
      ],
      "execution_count": 14,
      "outputs": [
        {
          "output_type": "execute_result",
          "data": {
            "text/plain": [
              "(tensor(0.1700), tensor(0.1542))"
            ]
          },
          "metadata": {
            "tags": []
          },
          "execution_count": 14
        }
      ]
    },
    {
      "cell_type": "code",
      "metadata": {
        "colab": {
          "base_uri": "https://localhost:8080/"
        },
        "id": "-ghwS9bT044X",
        "outputId": "ff607e23-2e84-46d4-9751-99afc2ab138c"
      },
      "source": [
        "# Function to check whether a tensor is 3 or not \n",
        "def is_3(x):\n",
        "  '''\n",
        "  the distance should between the tensor and the mean 3 should be less than the mean 7, we can call it as a 3\n",
        "  '''\n",
        "  return mnist_distance(x , mean_3) < mnist_distance(x , mean_7)\n",
        "\n",
        "# Passing one tensor \n",
        "is_3(a_3) # this is 3 and should return 3 "
      ],
      "execution_count": 15,
      "outputs": [
        {
          "output_type": "execute_result",
          "data": {
            "text/plain": [
              "tensor(True)"
            ]
          },
          "metadata": {
            "tags": []
          },
          "execution_count": 15
        }
      ]
    },
    {
      "cell_type": "code",
      "metadata": {
        "colab": {
          "base_uri": "https://localhost:8080/"
        },
        "id": "A5RffPDF3xSM",
        "outputId": "2f26fcc5-7f7b-40d1-c33d-704081c6847b"
      },
      "source": [
        "# Passing our whole valid 3 set and see how it goes \n",
        "is_3(valid_3_tens)"
      ],
      "execution_count": 16,
      "outputs": [
        {
          "output_type": "execute_result",
          "data": {
            "text/plain": [
              "tensor([True, True, True,  ..., True, True, True])"
            ]
          },
          "metadata": {
            "tags": []
          },
          "execution_count": 16
        }
      ]
    },
    {
      "cell_type": "code",
      "metadata": {
        "colab": {
          "base_uri": "https://localhost:8080/"
        },
        "id": "RbserpWV4MlV",
        "outputId": "7cf8a853-b724-4262-f57b-413966e767c0"
      },
      "source": [
        "# Alright now calculate the distance for 3 and 7 \n",
        "accuracy_3s = is_3(valid_3_tens).float().mean()\n",
        "\n",
        "# For 7 we will take the inverse of all the 7s (since we don't have is_7 function)\n",
        "accuracy_7s = (1 - (is_3(valid_7_tens).float().mean()))\n",
        "\n",
        "accuracy_3s , accuracy_7s"
      ],
      "execution_count": 17,
      "outputs": [
        {
          "output_type": "execute_result",
          "data": {
            "text/plain": [
              "(tensor(0.9168), tensor(0.9854))"
            ]
          },
          "metadata": {
            "tags": []
          },
          "execution_count": 17
        }
      ]
    },
    {
      "cell_type": "code",
      "metadata": {
        "colab": {
          "base_uri": "https://localhost:8080/"
        },
        "id": "k__n3fR949zF",
        "outputId": "1697da06-49ab-43b9-bd13-ec6e0f63e57a"
      },
      "source": [
        "# It will perform worse since it's 7 \n",
        "is_3(valid_7_tens).float().mean()"
      ],
      "execution_count": 18,
      "outputs": [
        {
          "output_type": "execute_result",
          "data": {
            "text/plain": [
              "tensor(0.0146)"
            ]
          },
          "metadata": {
            "tags": []
          },
          "execution_count": 18
        }
      ]
    },
    {
      "cell_type": "markdown",
      "metadata": {
        "id": "8WpDeltn5GiM"
      },
      "source": [
        "## SGD \n",
        "\n",
        "- This is something that will allow our model to get better and better which gives the **ability of learning to the model**.\n",
        "\n",
        "**How do we make it work?**\n",
        "- Assign a weight \n",
        "- Tweak the weight (parameters) and improve based on the weight assignment.\n",
        "\n",
        "**What can we do to our pixel similarity in order to apply SGD (or a optimizer)?**\n",
        "- Assign a weight for each pixel values.\n",
        "\n"
      ]
    },
    {
      "cell_type": "code",
      "metadata": {
        "id": "azmZCGxP6Rv-"
      },
      "source": [
        "# Probability of a number being 8\n",
        "def pr_eight(x , w):\n",
        "  '''\n",
        "  w = weights for the pixels \n",
        "  x = input image \n",
        "  '''\n",
        "  return (x*w).sum()"
      ],
      "execution_count": 19,
      "outputs": []
    },
    {
      "cell_type": "markdown",
      "metadata": {
        "id": "3ecuPnNH6fIz"
      },
      "source": [
        "The above function will help us to update the weight `w` for every iteration and make our weight assignemnt better and better. \n",
        "\n",
        "> Converting the above function `pr_8` to a machine learning classifier: \n",
        "- Initialize the weights \n",
        "- For each image, use the weights that was initialized and predict whether it appears to be a 3 or a 7. (Step 2)\n",
        "- Based on the predictions, **calculate how good the model is** (*Calculte loss*). \n",
        "- Tweak (step) the weights based on the above calculation. \n",
        "- Go back again to Step 2, where you use the weights and make predictions. \n",
        "- Iterate this process until we decide to stop the training. \n",
        "\n",
        "#### Guidelines\n",
        "\n",
        "- **Initialize**\n",
        "\n",
        "    We initialize the parameters (or) weights to random values at first. It's believed starting with random weights (or) values works perfectly well. \n",
        "\n",
        "- **Loss**\n",
        "\n",
        "    A function will return a number that is small when the performance of the model is good. The standard approach is to treat a **small loss as a good and large loss as bad.** \n",
        "\n",
        "- **Step**\n",
        "\n",
        "    A simple way to figure out whether a weight should be increased a bit or decreased, would be just try to increase the **weight** by a small amount and observe the loss goes up or down. We do this **increment and decrement until we find an amount that satisfy us**. \n",
        "\n",
        "    However, we use calculus to take care of this. Finding which direction and roughly how much, to change each weight without doing those adjustments above. \n",
        "\n",
        "    We do this by calculating ***gradients.*** This is just an **performance optimization.**\n",
        "\n",
        "- **Stop**\n",
        "\n",
        "    This is the phase where we choose the epochs to train the model for, we would keep training until the accuracy of the model started getting worse or ran out of time.\n",
        "\n",
        "\n"
      ]
    },
    {
      "cell_type": "markdown",
      "metadata": {
        "id": "zY227g6t7jBg"
      },
      "source": [
        "#### Calculating Gradients \n",
        "\n",
        "In here we will use calculus as a performance optimizartion. \n",
        "\n",
        "**But why ?**\n",
        "- It will help us quickly to calculate whether our loss will go up and down as we are adjusting the parameters.\n",
        "\n",
        "> Gradients will tell us how much we have to change each weight to make our model better\n",
        "\n",
        "**What the hell is a derivative?**\n",
        "- it calculates the change of a equation rather a value.\n",
        "- For instance, the derivative of the quadratic function at the value 3 tells us how rapidly the function changes at the value 3. \n",
        "\n",
        "**Exact definition of a gradient**\n",
        "\n",
        "*Gradient is defined as rise/run that is the change in the value of the function, divided by the change in the value of the parameter.*\n",
        "\n",
        "The takeaway: \n",
        "- When we know how our function would change, then we know what we need to do in order to make it smaller (loss function). \n",
        "- The key is having a function and change the parameter of the function to make the loss smaller. \n",
        "\n",
        "#### Things to know\n",
        "\n",
        "- The function will return not one but alot of weights, so when we calculate the derivative we will get alots of number, `i.e gradient for every weight`. \n",
        "- `requires_grad_()` special method tells pytorch we want to calculate gradients w.r.t to the variable at the value. For instance, in 3x (x). By doing this Pytorch, will keep track of all the computed gradients. \n",
        "- `backward` --> backpropagation, this is process of calculating the derivative (gradients) for each layer. \n",
        "- In `backward pass` we calculate the gradients of a neural network, and on `forward pass` we calculate the activations of a neural net.\n",
        "\n",
        "> **Backpropagation** is a training algorithm consisting of 2 steps: \n",
        "1. Feed forward the values \n",
        "2. Calculate the error and propagate it back to the earlier layers. So to be precise, forward-propagation is part of the backpropagation algorithm but comes before back-propagating.\n",
        "\n",
        "\n",
        "- https://datascience.stackexchange.com/questions/66416/forward-pass-vs-backward-pass-vs-backpropagation\n",
        "- https://stackoverflow.com/questions/28403782/what-is-the-difference-between-back-propagation-and-feed-forward-neural-network\n"
      ]
    },
    {
      "cell_type": "code",
      "metadata": {
        "colab": {
          "base_uri": "https://localhost:8080/"
        },
        "id": "2UWWcBEu9_Yl",
        "outputId": "64288b82-0df3-43cb-a14f-6ed3434f8f6e"
      },
      "source": [
        "# Calculating Gradients with Pytorch\n",
        "\n",
        "import torch \n",
        "\n",
        "# Creating a tensor (will keep track of the gradients of the value\n",
        "xt = tensor(8.).requires_grad_()\n",
        "\n",
        "# Sample function \n",
        "def f(x): return x**2\n",
        "\n",
        "# Performing some computations with xt\n",
        "yt = f(xt)\n",
        "yt"
      ],
      "execution_count": 20,
      "outputs": [
        {
          "output_type": "execute_result",
          "data": {
            "text/plain": [
              "tensor(64., grad_fn=<PowBackward0>)"
            ]
          },
          "metadata": {
            "tags": []
          },
          "execution_count": 20
        }
      ]
    },
    {
      "cell_type": "code",
      "metadata": {
        "id": "5w1-PKKNCjLS"
      },
      "source": [
        "# Telling pytoch to calculate the gradients by calling grad \n",
        "yt.backward() # always pass a function"
      ],
      "execution_count": 21,
      "outputs": []
    },
    {
      "cell_type": "code",
      "metadata": {
        "colab": {
          "base_uri": "https://localhost:8080/"
        },
        "id": "7Jnk7_VvFmLn",
        "outputId": "b80ed947-478f-4eca-9898-ffecf6733c49"
      },
      "source": [
        "# Now viewing the gradients calculated on our variable \n",
        "xt.grad # now get the gradient on a variable"
      ],
      "execution_count": 22,
      "outputs": [
        {
          "output_type": "execute_result",
          "data": {
            "text/plain": [
              "tensor(16.)"
            ]
          },
          "metadata": {
            "tags": []
          },
          "execution_count": 22
        }
      ]
    },
    {
      "cell_type": "markdown",
      "metadata": {
        "id": "eB2KexQ8Fxk0"
      },
      "source": [
        "The graidents will tell us only the slope of our function, they don't really say how far we should adjust the parameters. \n",
        "\n",
        "https://en.wikipedia.org/wiki/Slope#Calculus\n",
        "\n",
        "- If slope is very large --> More adjustments to do \n",
        "- If slope is very small --> We are close to the optimal value. \n",
        "\n",
        "### Stepping (way to increase/decrease weight) with a Learning Rate \n",
        "- This is the idea of **multiplying the gradient by a small number** (that is the learning rate).\n",
        "- We can adjust the learning rate by, `w- = w.grad * lr`. \n",
        "\n",
        "This means we get the gradients and multiply the gradients with a learning rate. \n",
        "\n",
        "- If the learning rate is too low, optimization will take a lot of time because steps towards the minimum of the loss function are tiny.\n",
        "- If the learning rate is too high, it can result in getting the *loss* worse. Rather than diverging (or) converging it will bounce around. \n",
        "https://towardsdatascience.com/estimating-optimal-learning-rate-for-a-deep-neural-network-ce32f2556ce0"
      ]
    },
    {
      "cell_type": "markdown",
      "metadata": {
        "id": "ny3uebqcGfIa"
      },
      "source": [
        "### An End-to-End SGD Example \n",
        "\n"
      ]
    },
    {
      "cell_type": "code",
      "metadata": {
        "colab": {
          "base_uri": "https://localhost:8080/"
        },
        "id": "PRfSrslPMiMI",
        "outputId": "5460f699-0ee5-4280-fd17-35ae752e8d68"
      },
      "source": [
        "# Time \n",
        "time = torch.arange(0 , 20).float()\n",
        "# Time in seconds \n",
        "time"
      ],
      "execution_count": 23,
      "outputs": [
        {
          "output_type": "execute_result",
          "data": {
            "text/plain": [
              "tensor([ 0.,  1.,  2.,  3.,  4.,  5.,  6.,  7.,  8.,  9., 10., 11., 12., 13.,\n",
              "        14., 15., 16., 17., 18., 19.])"
            ]
          },
          "metadata": {
            "tags": []
          },
          "execution_count": 23
        }
      ]
    },
    {
      "cell_type": "code",
      "metadata": {
        "colab": {
          "base_uri": "https://localhost:8080/",
          "height": 282
        },
        "id": "d0t5Egj3Mnqc",
        "outputId": "f8670552-bea7-41e9-d6fc-261822c54a53"
      },
      "source": [
        "# Calculating the speed -> a*(t**2) + (b*t) + c\n",
        "speed = torch.randn(20)*3 + 0.75*(time -9.5)**2 + 1\n",
        "\n",
        "# Plotting the time and speed\n",
        "plt.scatter(time , speed)"
      ],
      "execution_count": 24,
      "outputs": [
        {
          "output_type": "execute_result",
          "data": {
            "text/plain": [
              "<matplotlib.collections.PathCollection at 0x7fdee6f8d810>"
            ]
          },
          "metadata": {
            "tags": []
          },
          "execution_count": 24
        },
        {
          "output_type": "display_data",
          "data": {
            "image/png": "[encoded data removed]",
            "text/plain": [
              "<Figure size 432x288 with 1 Axes>"
            ]
          },
          "metadata": {
            "tags": [],
            "needs_background": "light"
          }
        }
      ]
    },
    {
      "cell_type": "code",
      "metadata": {
        "id": "rFnGkvwxM-yO"
      },
      "source": [
        "def f(t , params):\n",
        "  a , b , c = params\n",
        "  return a*(t**2) + (b*t) + c"
      ],
      "execution_count": 25,
      "outputs": []
    },
    {
      "cell_type": "markdown",
      "metadata": {
        "id": "-pH2O7tCOL52"
      },
      "source": [
        "Every quadratic function returns 3 values a, b and c. "
      ]
    },
    {
      "cell_type": "code",
      "metadata": {
        "id": "SS-6susNOiLK"
      },
      "source": [
        "# Since we're on a continous data our loss function would be mse\n",
        "def mse(preds , targs):\n",
        "  return ((preds - targs)**2).mean()"
      ],
      "execution_count": 26,
      "outputs": []
    },
    {
      "cell_type": "code",
      "metadata": {
        "colab": {
          "base_uri": "https://localhost:8080/"
        },
        "id": "scsKo6IaO4Ow",
        "outputId": "2b6b1bf4-c1c1-459b-e458-859a2d3e3de9"
      },
      "source": [
        "# Firstly --> Initialize the parameters\n",
        "params = torch.randn(3).requires_grad_()\n",
        "params # a b c"
      ],
      "execution_count": 27,
      "outputs": [
        {
          "output_type": "execute_result",
          "data": {
            "text/plain": [
              "tensor([-0.6014, -0.4658,  0.0860], requires_grad=True)"
            ]
          },
          "metadata": {
            "tags": []
          },
          "execution_count": 27
        }
      ]
    },
    {
      "cell_type": "code",
      "metadata": {
        "colab": {
          "base_uri": "https://localhost:8080/"
        },
        "id": "LgJvercAPPFZ",
        "outputId": "a780c4c2-97f3-45b8-e52f-b0afe86cb78f"
      },
      "source": [
        "# Calculating the predictions \n",
        "preds = f(time , params)\n",
        "preds"
      ],
      "execution_count": 28,
      "outputs": [
        {
          "output_type": "execute_result",
          "data": {
            "text/plain": [
              "tensor([ 8.6020e-02, -9.8116e-01, -3.2511e+00, -6.7238e+00, -1.1399e+01,\n",
              "        -1.7277e+01, -2.4358e+01, -3.2642e+01, -4.2129e+01, -5.2818e+01,\n",
              "        -6.4710e+01, -7.7804e+01, -9.2102e+01, -1.0760e+02, -1.2431e+02,\n",
              "        -1.4221e+02, -1.6132e+02, -1.8163e+02, -2.0314e+02, -2.2586e+02],\n",
              "       grad_fn=<AddBackward0>)"
            ]
          },
          "metadata": {
            "tags": []
          },
          "execution_count": 28
        }
      ]
    },
    {
      "cell_type": "code",
      "metadata": {
        "colab": {
          "base_uri": "https://localhost:8080/",
          "height": 269
        },
        "id": "nii6rWSaTbsJ",
        "outputId": "2f6f441e-fcb7-444b-b97b-fd289d6b784c"
      },
      "source": [
        "# A function to plot both targets and preds to see how close our predictins are\n",
        "\n",
        "def show_preds(preds , ax=None):\n",
        "  if ax is None: ax=plt.subplots()[1]\n",
        "  ax.scatter(time , speed)\n",
        "  ax.scatter(time , to_np(preds) , color='red')\n",
        "  ax.set_ylim(-300 , 100)\n",
        "\n",
        "show_preds(preds)"
      ],
      "execution_count": 29,
      "outputs": [
        {
          "output_type": "display_data",
          "data": {
            "image/png": "[encoded data removed]",
            "text/plain": [
              "<Figure size 432x288 with 1 Axes>"
            ]
          },
          "metadata": {
            "tags": [],
            "needs_background": "light"
          }
        }
      ]
    },
    {
      "cell_type": "code",
      "metadata": {
        "colab": {
          "base_uri": "https://localhost:8080/"
        },
        "id": "AUmm-D7_TfWq",
        "outputId": "400a08e7-3bfb-45fd-a417-7b85260f812d"
      },
      "source": [
        "# Now the next step --> Calculate the loss\n",
        "loss = mse(preds , speed)\n",
        "loss"
      ],
      "execution_count": 30,
      "outputs": [
        {
          "output_type": "execute_result",
          "data": {
            "text/plain": [
              "tensor(17125.1289, grad_fn=<MeanBackward0>)"
            ]
          },
          "metadata": {
            "tags": []
          },
          "execution_count": 30
        }
      ]
    },
    {
      "cell_type": "code",
      "metadata": {
        "colab": {
          "base_uri": "https://localhost:8080/"
        },
        "id": "SYkSZQmrTz3B",
        "outputId": "8b0eb226-3cff-4748-b469-8282ac856496"
      },
      "source": [
        "# Calculating the gradients (from the loss function)\n",
        "loss.backward()\n",
        "params.grad # for a,b,c we get the gradients"
      ],
      "execution_count": 31,
      "outputs": [
        {
          "output_type": "execute_result",
          "data": {
            "text/plain": [
              "tensor([-43020.1797,  -2764.1472,   -208.7129])"
            ]
          },
          "metadata": {
            "tags": []
          },
          "execution_count": 31
        }
      ]
    },
    {
      "cell_type": "code",
      "metadata": {
        "colab": {
          "base_uri": "https://localhost:8080/"
        },
        "id": "3A8NsKmRUbcr",
        "outputId": "7da8de9c-db50-443d-ac3f-a7525ac6d53c"
      },
      "source": [
        "# Just multiplying lr with gradients \n",
        "params.grad * 1e-5"
      ],
      "execution_count": 32,
      "outputs": [
        {
          "output_type": "execute_result",
          "data": {
            "text/plain": [
              "tensor([-0.4302, -0.0276, -0.0021])"
            ]
          },
          "metadata": {
            "tags": []
          },
          "execution_count": 32
        }
      ]
    },
    {
      "cell_type": "code",
      "metadata": {
        "id": "h5e624jJT-ot"
      },
      "source": [
        "# Stepping --> update the gradients with a learnin rate \n",
        "lr = 1e-5 # learning rate \n",
        "\n",
        "# Functionality that's help us in updating the learning rate \n",
        "params.data -= lr * params.grad.data\n",
        "params.grad = None\n",
        "\n"
      ],
      "execution_count": 33,
      "outputs": []
    },
    {
      "cell_type": "code",
      "metadata": {
        "id": "T4eKsGJXVVpR"
      },
      "source": [
        "# Putting everything into a function \n",
        "def apply_step(params , prn = True):\n",
        "  # Getting the predictions \n",
        "  preds = f(time , params)\n",
        "  # Calculate the loss \n",
        "  loss = mse(preds , speed)\n",
        "  # Initiating back prop on loss function \n",
        "  loss.backward()\n",
        "  # Stepping with a learning rate (multiplying the gradients with a lr)\n",
        "  params.data -= lr * params.grad.data\n",
        "  params.grad = None\n",
        "  if prn:\n",
        "    # Getting only the numbers (we don't want the tensors)\n",
        "    print(loss.item())\n",
        "  return preds\n"
      ],
      "execution_count": 34,
      "outputs": []
    },
    {
      "cell_type": "code",
      "metadata": {
        "colab": {
          "base_uri": "https://localhost:8080/"
        },
        "id": "VU2rhhj2XtSb",
        "outputId": "103b17dd-19f8-4479-f759-4eae70cb9ec3"
      },
      "source": [
        "# Iterating \n",
        "for i in range(10):\n",
        "  apply_step(params)"
      ],
      "execution_count": 35,
      "outputs": [
        {
          "output_type": "stream",
          "text": [
            "3790.90576171875\n",
            "1267.6602783203125\n",
            "790.181640625\n",
            "699.8248291015625\n",
            "682.7233276367188\n",
            "679.4840087890625\n",
            "678.8677978515625\n",
            "678.7479248046875\n",
            "678.7220458984375\n",
            "678.7139892578125\n"
          ],
          "name": "stdout"
        }
      ]
    },
    {
      "cell_type": "markdown",
      "metadata": {
        "id": "JKJI0rQfX1Di"
      },
      "source": [
        "#### Summarizing Gradient Descent\n",
        "\n",
        "- At beginning, the weights of our model can be random (or) from pre-trained model.\n",
        "- We compare the model with our targets and prediction using a **loss function,** which returns a number that we want to make as low as possible by **improving our weights.**\n",
        "- To find how to change the **weights** to make the loss a bit better, we use calculus to **calculate the gradients.**\n",
        "- Calculating gradients is similar finding a steepest downward slope, we use the **magnitude of the gradient** (steepness of a slope) to tell us how big a step to take.\n",
        "- To decide on the step size, we multiply the gradient by a number we choose called the **learning rate.**\n",
        "- We then iterate until we have reached the lower point, and then stop."
      ]
    },
    {
      "cell_type": "code",
      "metadata": {
        "colab": {
          "base_uri": "https://localhost:8080/"
        },
        "id": "b5eKqeHqYM0h",
        "outputId": "12c6e791-7012-43b0-b4b6-9b33fc39d2d5"
      },
      "source": [
        "# Changing them from a list of matrices (rank 3) to a list of vectors (rank 2)\n",
        "\n",
        "train_x = torch.cat([stacked_threes , stacked_sevens]).view(-1 , 28*28)\n",
        "train_x.shape"
      ],
      "execution_count": 36,
      "outputs": [
        {
          "output_type": "execute_result",
          "data": {
            "text/plain": [
              "torch.Size([12396, 784])"
            ]
          },
          "metadata": {
            "tags": []
          },
          "execution_count": 36
        }
      ]
    },
    {
      "cell_type": "markdown",
      "metadata": {
        "id": "jfU3C9X1ZQjB"
      },
      "source": [
        ">`-1` —> denotes the row, since we don't know how many rows exactly in a dataset (or) this image, we use -1. Which says make this axis as big as necessary to fit all the data. Like we do in slicing!"
      ]
    },
    {
      "cell_type": "code",
      "metadata": {
        "colab": {
          "base_uri": "https://localhost:8080/"
        },
        "id": "DFYUecR4ZW6G",
        "outputId": "1004944c-8171-420c-9e18-468c831266ad"
      },
      "source": [
        "# Constructing our labels (3s -> 1 & 7s -> 0s)\n",
        "\n",
        "train_y = tensor([1] * len(threes) + [0] * len(sevens)).unsqueeze(1)\n",
        "train_y.shape"
      ],
      "execution_count": 37,
      "outputs": [
        {
          "output_type": "execute_result",
          "data": {
            "text/plain": [
              "torch.Size([12396, 1])"
            ]
          },
          "metadata": {
            "tags": []
          },
          "execution_count": 37
        }
      ]
    },
    {
      "cell_type": "code",
      "metadata": {
        "colab": {
          "base_uri": "https://localhost:8080/"
        },
        "id": "HttCCq-PZhYt",
        "outputId": "434201e1-9f1e-4739-874c-75d6d5535c4e"
      },
      "source": [
        "# Zipping x and y into a dataset \n",
        "dset = list(zip(train_x , train_y))\n",
        "x , y = dset[0] # take one sample\n",
        "\n",
        "# Checking the shape \n",
        "x.shape , y.shape"
      ],
      "execution_count": 38,
      "outputs": [
        {
          "output_type": "execute_result",
          "data": {
            "text/plain": [
              "(torch.Size([784]), torch.Size([1]))"
            ]
          },
          "metadata": {
            "tags": []
          },
          "execution_count": 38
        }
      ]
    },
    {
      "cell_type": "code",
      "metadata": {
        "colab": {
          "base_uri": "https://localhost:8080/"
        },
        "id": "UZ0urfk9Zv4l",
        "outputId": "2b627508-be7a-4ed9-a08c-1d1059a6db87"
      },
      "source": [
        "# x and y \n",
        "\n",
        "print(f'Images in Tensor (sliced) : {x[0 : 100]}')\n",
        "print('----------------- ------------ --------- -------')\n",
        "print(f'Labels: {y}')"
      ],
      "execution_count": 39,
      "outputs": [
        {
          "output_type": "stream",
          "text": [
            "Images in Tensor (sliced) : tensor([0., 0., 0., 0., 0., 0., 0., 0., 0., 0., 0., 0., 0., 0., 0., 0., 0., 0., 0., 0., 0., 0., 0., 0.,\n",
            "        0., 0., 0., 0., 0., 0., 0., 0., 0., 0., 0., 0., 0., 0., 0., 0., 0., 0., 0., 0., 0., 0., 0., 0.,\n",
            "        0., 0., 0., 0., 0., 0., 0., 0., 0., 0., 0., 0., 0., 0., 0., 0., 0., 0., 0., 0., 0., 0., 0., 0.,\n",
            "        0., 0., 0., 0., 0., 0., 0., 0., 0., 0., 0., 0., 0., 0., 0., 0., 0., 0., 0., 0., 0., 0., 0., 0.,\n",
            "        0., 0., 0., 0.])\n",
            "----------------- ------------ --------- -------\n",
            "Labels: tensor([1])\n"
          ],
          "name": "stdout"
        }
      ]
    },
    {
      "cell_type": "code",
      "metadata": {
        "id": "VYPS8e_OZ2z1"
      },
      "source": [
        "# Doing the exact thing for our validation set \n",
        "\n",
        "valid_x = torch.cat([valid_3_tens , valid_7_tens]).view(-1 , 28*28)\n",
        "valid_y = tensor([1]*len(valid_3_tens) + [0]*len(valid_7_tens)).unsqueeze(1)\n",
        "\n",
        "# Putting them into a dataset \n",
        "valid_dset = list(zip(valid_x , valid_y))"
      ],
      "execution_count": 40,
      "outputs": []
    },
    {
      "cell_type": "markdown",
      "metadata": {
        "id": "eh_ztb-haIHa"
      },
      "source": [
        "**Initialize the parameters with random numbers**"
      ]
    },
    {
      "cell_type": "code",
      "metadata": {
        "id": "GMWsqr5FaMHT"
      },
      "source": [
        "# Generate weight for every pixel \n",
        "def init_params(size , std = 1.0):\n",
        "  return (torch.randn(size) * std).requires_grad_()\n",
        "\n"
      ],
      "execution_count": 41,
      "outputs": []
    },
    {
      "cell_type": "code",
      "metadata": {
        "colab": {
          "base_uri": "https://localhost:8080/"
        },
        "id": "qr7y2mXtatRr",
        "outputId": "b42698aa-1bc9-45cb-b324-8db771cb3154"
      },
      "source": [
        "# Using the function and creating random weights \n",
        "weights = init_params(size = (28*28 , 1) , std=1.0)\n",
        "weights.shape"
      ],
      "execution_count": 42,
      "outputs": [
        {
          "output_type": "execute_result",
          "data": {
            "text/plain": [
              "torch.Size([784, 1])"
            ]
          },
          "metadata": {
            "tags": []
          },
          "execution_count": 42
        }
      ]
    },
    {
      "cell_type": "code",
      "metadata": {
        "id": "cqNV1yb3a_DY"
      },
      "source": [
        "# Initializing bias \n",
        "\n",
        "bias = init_params(1)"
      ],
      "execution_count": 43,
      "outputs": []
    },
    {
      "cell_type": "code",
      "metadata": {
        "colab": {
          "base_uri": "https://localhost:8080/"
        },
        "id": "yGjAbkVFbDBc",
        "outputId": "ec0aaa8b-a99f-4c2b-997d-1a8aa3f4ce50"
      },
      "source": [
        "# Prediction on one image \n",
        "(train_x[0] * weights.T).sum() + bias\n"
      ],
      "execution_count": 44,
      "outputs": [
        {
          "output_type": "execute_result",
          "data": {
            "text/plain": [
              "tensor([15.6965], grad_fn=<AddBackward0>)"
            ]
          },
          "metadata": {
            "tags": []
          },
          "execution_count": 44
        }
      ]
    },
    {
      "cell_type": "markdown",
      "metadata": {
        "id": "RRRVFphabkpU"
      },
      "source": [
        "Alright so far we have made a initializer function that gives us random weights, we got: \n",
        "- Function to calculate the predictions"
      ]
    },
    {
      "cell_type": "code",
      "metadata": {
        "colab": {
          "base_uri": "https://localhost:8080/"
        },
        "id": "N2LU4YMkBjr-",
        "outputId": "46020caa-9a07-4381-f3f2-faeaebc53fad"
      },
      "source": [
        "# Constructing the matrix multiplication function (y = wx + b)\n",
        "\n",
        "# As we can say our tiny model indeed \n",
        "def linear1(xb):\n",
        "  '''\n",
        "  xb --> Input training batch\n",
        "\n",
        "  We return by multiplying the weights to our each input mini-batch\n",
        "  '''\n",
        "  return xb@weights + bias\n",
        "\n",
        "# Getting the predictions for all images in the training set (x)\n",
        "preds = linear1(train_x)\n",
        "preds[:10]"
      ],
      "execution_count": 45,
      "outputs": [
        {
          "output_type": "execute_result",
          "data": {
            "text/plain": [
              "tensor([[15.6965],\n",
              "        [12.5594],\n",
              "        [11.0378],\n",
              "        [ 6.3067],\n",
              "        [ 9.5201],\n",
              "        [ 6.9801],\n",
              "        [ 8.2247],\n",
              "        [ 8.5636],\n",
              "        [13.9851],\n",
              "        [16.8662]], grad_fn=<SliceBackward>)"
            ]
          },
          "metadata": {
            "tags": []
          },
          "execution_count": 45
        }
      ]
    },
    {
      "cell_type": "markdown",
      "metadata": {
        "id": "_mWmLm7rCYOm"
      },
      "source": [
        "Looking back before jumping into calculus and other stuffs first we make a prediction on our input data, then observe how the model/function performs? Not well? \n",
        "\n",
        "Alright we will decide that by passing the preds and targs into a loss function. And we know our goal is to minimize the loss so now we we will get the help of calculus (gradients) that will help our loss function to find the minimum. \n",
        "\n"
      ]
    },
    {
      "cell_type": "code",
      "metadata": {
        "id": "kVjfs3TcDEUg"
      },
      "source": [
        "# Calculating the accuracy\n",
        "corrects = (preds > 0.0).float() == train_y"
      ],
      "execution_count": 46,
      "outputs": []
    },
    {
      "cell_type": "code",
      "metadata": {
        "id": "TjC4c1YBDR2O"
      },
      "source": [
        "# Manually tweaking one value of the weight matrix \n",
        "with torch.no_grad():\n",
        "  weights[0] *= 1.001\n"
      ],
      "execution_count": 47,
      "outputs": []
    },
    {
      "cell_type": "markdown",
      "metadata": {
        "id": "So3Pu87LK_sp"
      },
      "source": [
        "Making a change with just `weights[0] *=1.001` throws an error, this is because we are trying to access even the graidents and make a change in that. \n",
        "\n",
        "By using with `torch.no_grad()` we can turn of the gradients and make computations just on the value of the matrices. \n",
        "\n",
        "https://datascience.stackexchange.com/questions/32651/what-is-the-use-of-torch-no-grad-in-pytorch\n",
        "\n",
        "Gradients tells the loss function how to make changes in order to tweak the weights. \n",
        "\n"
      ]
    },
    {
      "cell_type": "markdown",
      "metadata": {
        "id": "y6y7oqR6DSiD"
      },
      "source": [
        " \n",
        "\n",
        "Reads: \n",
        "- https://discuss.pytorch.org/t/what-is-the-purpose-of-is-leaf/87000/5\n",
        "- https://stackoverflow.com/questions/57188409/assigning-a-parameter-to-the-gpu-sets-is-leaf-as-false\n",
        "- https://forums.fast.ai/t/weights-0-in-place-operations/89308\n",
        "\n"
      ]
    },
    {
      "cell_type": "code",
      "metadata": {
        "colab": {
          "base_uri": "https://localhost:8080/"
        },
        "id": "0-QbwOf0EZo0",
        "outputId": "168b6383-2a60-4868-b79a-50b6d76f2bc4"
      },
      "source": [
        "# Making the prediction after manually tweaking the value \n",
        "preds = linear1(train_x)\n",
        "\n",
        "((preds > 0.0).float() == train_y).float().mean().item()"
      ],
      "execution_count": 48,
      "outputs": [
        {
          "output_type": "execute_result",
          "data": {
            "text/plain": [
              "0.6129396557807922"
            ]
          },
          "metadata": {
            "tags": []
          },
          "execution_count": 48
        }
      ]
    },
    {
      "cell_type": "markdown",
      "metadata": {
        "id": "02x4ogu2MYAJ"
      },
      "source": [
        "If we are going to use accuracy as an performance metric the slight changes in the weight won't make a difference in the loss function. \n",
        "\n",
        "So we need a metrics where little changes on the weight matrice should make a impact on the loss function. \n",
        "\n",
        "> We need a loss function that when our weights result in slightly better predictions, gives us a slightly better loss.\n",
        "\n",
        "The only thing our model will do is, given a number predicts it whether an 3 or not. if it's not 3 then it has to be 7. \n",
        "\n",
        "\n"
      ]
    },
    {
      "cell_type": "code",
      "metadata": {
        "id": "7Vq14I66IdpU"
      },
      "source": [
        "# Calculating the loss \n",
        "trgts = tensor([1 , 0 , 1])\n",
        "prds = tensor([0.9 , 0.4 , 0.2])\n",
        "\n",
        "# Creating our own loss function \n",
        "def mnist_loss(predictions , targets):\n",
        "  return torch.where(targets == 1 , 1 - predictions , predictions).mean()"
      ],
      "execution_count": 49,
      "outputs": []
    },
    {
      "cell_type": "code",
      "metadata": {
        "colab": {
          "base_uri": "https://localhost:8080/"
        },
        "id": "nRvyTYJ2M_2a",
        "outputId": "015ba6bf-fd75-4f37-9ff4-76a2a2ed8355"
      },
      "source": [
        "mnist_loss(prds , trgts)"
      ],
      "execution_count": 50,
      "outputs": [
        {
          "output_type": "execute_result",
          "data": {
            "text/plain": [
              "tensor(0.4333)"
            ]
          },
          "metadata": {
            "tags": []
          },
          "execution_count": 50
        }
      ]
    },
    {
      "cell_type": "code",
      "metadata": {
        "id": "WTGqhz2PO9Ni",
        "outputId": "55af23a0-a8c0-4f1c-ad56-131f5f741925",
        "colab": {
          "base_uri": "https://localhost:8080/"
        }
      },
      "source": [
        "# Importing utils from the fastbook \n",
        "\n",
        "#!pip install -q fastbook \n",
        "#from fastbook import *"
      ],
      "execution_count": 53,
      "outputs": [
        {
          "output_type": "stream",
          "text": [
            "\u001b[K     |████████████████████████████████| 727kB 8.7MB/s \n",
            "\u001b[K     |████████████████████████████████| 51kB 7.0MB/s \n",
            "\u001b[K     |████████████████████████████████| 1.2MB 26.7MB/s \n",
            "\u001b[K     |████████████████████████████████| 61kB 9.8MB/s \n",
            "\u001b[?25h"
          ],
          "name": "stdout"
        }
      ]
    },
    {
      "cell_type": "code",
      "metadata": {
        "colab": {
          "base_uri": "https://localhost:8080/",
          "height": 285
        },
        "id": "-9BKCgYZNeLe",
        "outputId": "b3532c3d-85a9-4fc4-9235-783ae5913daf"
      },
      "source": [
        "# Example of sigmoid from Pytorch function\n",
        "\n",
        "plot_function(torch.sigmoid , title='Sigmoid' , min=-4 , max=4)"
      ],
      "execution_count": 55,
      "outputs": [
        {
          "output_type": "display_data",
          "data": {
            "image/png": "[encoded data removed]",
            "text/plain": [
              "<Figure size 432x288 with 1 Axes>"
            ]
          },
          "metadata": {
            "tags": [],
            "needs_background": "light"
          }
        }
      ]
    },
    {
      "cell_type": "markdown",
      "metadata": {
        "id": "0CEUFMyRN0EQ"
      },
      "source": [
        "Sigmoid function squeezes the values between the range 0 and 1."
      ]
    },
    {
      "cell_type": "code",
      "metadata": {
        "id": "DoG0tkS_Omkl"
      },
      "source": [
        "# Updating our above mnist_loss with a sigmoid function \n",
        "def mnist_loss(predictions, targets):\n",
        "  return torch.where(targets == 1 , 1-predictions ,predictions).mean()"
      ],
      "execution_count": 56,
      "outputs": []
    },
    {
      "cell_type": "markdown",
      "metadata": {
        "id": "nJkuVbkXPnw8"
      },
      "source": [
        "metric --> For human understanding \n",
        "loss --> For automatic updation (machine's metric to improve the performance of our model)\n",
        "\n",
        "The loss function is calculated for each item in our dataset, and then at the end of an epoch, the loss values are all averaged and the overall mean is reported for the epoch.\n",
        "\n",
        "Metrics on other hand are the numbers we care about and these are the values which are printed at end of each epoch that tells us how our model is doing.\n",
        "\n",
        "\n",
        "### SGD and Mini-Batches \n",
        "\n",
        "Now in here we will try to automate most of the parts. \n",
        "\n",
        "- Batching a handful items into a seperate mini-batches and making computations on those mini-batches rather than computing on the whole dataset / items.\n",
        "-Choosing a good batch size is one of the decisions one need to make a deep learning practitioner to train the model quickly and accurately.\n",
        "- The important reason for having mini-batches is it could run on GPU, so the computations takes place even more faster. \n",
        "\n",
        "\n",
        "Before putting our data into batches, \n",
        "- We gotta randomly shuffle the data. \n",
        "\n",
        "\n",
        "- it prevents any bias during the training\n",
        "- it prevents the model from learning the order of the training\n",
        "- it helps the training converge fast\n",
        "\n",
        "https://stats.stackexchange.com/questions/245502/why-should-we-shuffle-data-while-training-a-neural-network\n",
        "\n",
        "\n",
        "\n",
        "\n"
      ]
    },
    {
      "cell_type": "markdown",
      "metadata": {
        "id": "p-fC_h4zQB9K"
      },
      "source": [
        "#### DataLoader\n",
        "\n",
        "A `DataLoader` can take any Python collection and turn it into a iterator (generator) over many batches. "
      ]
    },
    {
      "cell_type": "code",
      "metadata": {
        "colab": {
          "base_uri": "https://localhost:8080/"
        },
        "id": "IWuKgzl7WUNx",
        "outputId": "c32f5303-77bb-4d97-ba1d-26411bf595b4"
      },
      "source": [
        "# Sample DataLoader \n",
        "\n",
        "coll = range(20) \n",
        "dls = DataLoader(coll , batch_size = 5 , shuffle = True)\n",
        "list(dls)"
      ],
      "execution_count": 57,
      "outputs": [
        {
          "output_type": "execute_result",
          "data": {
            "text/plain": [
              "[tensor([ 7, 17,  5,  9, 15]),\n",
              " tensor([19, 11, 10, 13,  2]),\n",
              " tensor([12,  0, 18, 16,  3]),\n",
              " tensor([ 1,  4,  6, 14,  8])]"
            ]
          },
          "metadata": {
            "tags": []
          },
          "execution_count": 57
        }
      ]
    },
    {
      "cell_type": "markdown",
      "metadata": {
        "id": "nXmsaDI_WvG1"
      },
      "source": [
        "`Dataset` --> Contains collection of both independent and dependent variable. "
      ]
    },
    {
      "cell_type": "code",
      "metadata": {
        "colab": {
          "base_uri": "https://localhost:8080/"
        },
        "id": "WKtlvhsTXArd",
        "outputId": "59c5600f-fb4c-4c4a-8023-3c3bef00b690"
      },
      "source": [
        "# Example of Dataset \n",
        "ds = L(enumerate(string.ascii_lowercase))\n",
        "ds"
      ],
      "execution_count": 58,
      "outputs": [
        {
          "output_type": "execute_result",
          "data": {
            "text/plain": [
              "(#26) [(0, 'a'),(1, 'b'),(2, 'c'),(3, 'd'),(4, 'e'),(5, 'f'),(6, 'g'),(7, 'h'),(8, 'i'),(9, 'j')...]"
            ]
          },
          "metadata": {
            "tags": []
          },
          "execution_count": 58
        }
      ]
    },
    {
      "cell_type": "markdown",
      "metadata": {
        "id": "WXxFDBstXKpK"
      },
      "source": [
        "In practice, we pass a `Dataset` to a `DataLoader` and it returns batches of independent and dependent variables."
      ]
    },
    {
      "cell_type": "markdown",
      "metadata": {
        "id": "081C7xmRXZFh"
      },
      "source": [
        "### Putting it all together \n",
        "\n",
        "- Initialize the parameters \n",
        "- Making a prediction \n",
        "- Depending upon my prediction, will calculate my loss function.\n",
        "- Call our good friend gradients, activate the gradients of our weights. Gradients helps in updating the parameters.\n",
        "- We are going to perform to step, where we will multiply our learning with our weight gradients. \n",
        "- We will train this for our desired epochs. \n"
      ]
    },
    {
      "cell_type": "code",
      "metadata": {
        "id": "xlhLm6EOY8g8"
      },
      "source": [
        "# re-initializing the parameters \n",
        "weights = init_params((28*28 , 1))\n",
        "bias = init_params(1)\n"
      ],
      "execution_count": 59,
      "outputs": []
    },
    {
      "cell_type": "code",
      "metadata": {
        "colab": {
          "base_uri": "https://localhost:8080/"
        },
        "id": "hmmdglZWcqAe",
        "outputId": "ebfe3db8-93dc-4dcf-b610-8e7dd034ad51"
      },
      "source": [
        "# Constructing our DataLoader \n",
        "dl = DataLoader(dset , batch_size= 256)\n",
        "# Slicing off first mini-batch\n",
        "xb , yb = first(dl)\n",
        "\n",
        "# Checking the shape \n",
        "xb.shape , yb.shape"
      ],
      "execution_count": 60,
      "outputs": [
        {
          "output_type": "execute_result",
          "data": {
            "text/plain": [
              "(torch.Size([256, 784]), torch.Size([256, 1]))"
            ]
          },
          "metadata": {
            "tags": []
          },
          "execution_count": 60
        }
      ]
    },
    {
      "cell_type": "code",
      "metadata": {
        "id": "GebvSZW6dTO_"
      },
      "source": [
        "# Doing the same for validaton set \n",
        "valid_dl = DataLoader(valid_dset , batch_size = 256)"
      ],
      "execution_count": 61,
      "outputs": []
    },
    {
      "cell_type": "code",
      "metadata": {
        "colab": {
          "base_uri": "https://localhost:8080/"
        },
        "id": "jOsVsZsMdg5H",
        "outputId": "4530f3dd-22c7-4d37-a514-a4639e3991b8"
      },
      "source": [
        "# Create the mini-batch of size 4 \n",
        "batch = train_x[:4]\n",
        "batch.shape"
      ],
      "execution_count": 62,
      "outputs": [
        {
          "output_type": "execute_result",
          "data": {
            "text/plain": [
              "torch.Size([4, 784])"
            ]
          },
          "metadata": {
            "tags": []
          },
          "execution_count": 62
        }
      ]
    },
    {
      "cell_type": "code",
      "metadata": {
        "colab": {
          "base_uri": "https://localhost:8080/"
        },
        "id": "QCK__wf0dsE-",
        "outputId": "fb332dc4-9e29-4c35-8907-a71daaa5f0ad"
      },
      "source": [
        "# Making predictions on our sample batch \n",
        "preds = linear1(batch)\n",
        "preds\n"
      ],
      "execution_count": 63,
      "outputs": [
        {
          "output_type": "execute_result",
          "data": {
            "text/plain": [
              "tensor([[  1.1245],\n",
              "        [ -0.6243],\n",
              "        [ -1.7694],\n",
              "        [-12.7221]], grad_fn=<AddBackward0>)"
            ]
          },
          "metadata": {
            "tags": []
          },
          "execution_count": 63
        }
      ]
    },
    {
      "cell_type": "code",
      "metadata": {
        "colab": {
          "base_uri": "https://localhost:8080/"
        },
        "id": "8GunWe6ce_0A",
        "outputId": "f8cde044-1204-461c-cd33-6871baa92ebc"
      },
      "source": [
        "# Labels \n",
        "train_y[:4]"
      ],
      "execution_count": 65,
      "outputs": [
        {
          "output_type": "execute_result",
          "data": {
            "text/plain": [
              "tensor([[1],\n",
              "        [1],\n",
              "        [1],\n",
              "        [1]])"
            ]
          },
          "metadata": {
            "tags": []
          },
          "execution_count": 65
        }
      ]
    },
    {
      "cell_type": "code",
      "metadata": {
        "colab": {
          "base_uri": "https://localhost:8080/"
        },
        "id": "VDK5ma6EdtQ-",
        "outputId": "66996c72-3ccc-4144-ecb7-5723caff8cc0"
      },
      "source": [
        "# Calculating the loss \n",
        "loss = mnist_loss(preds , train_y[:4])\n",
        "loss "
      ],
      "execution_count": 66,
      "outputs": [
        {
          "output_type": "execute_result",
          "data": {
            "text/plain": [
              "tensor(4.4978, grad_fn=<MeanBackward0>)"
            ]
          },
          "metadata": {
            "tags": []
          },
          "execution_count": 66
        }
      ]
    },
    {
      "cell_type": "code",
      "metadata": {
        "colab": {
          "base_uri": "https://localhost:8080/"
        },
        "id": "Avt9NCs8fHRJ",
        "outputId": "7c33908e-cd80-4231-e1d6-47d811f1e456"
      },
      "source": [
        "# Now calculating the gradients \n",
        "loss.backward()\n",
        "print(f'Shape of weight calculated: {weights.grad.shape}')\n",
        "print(f'Turning into a single tensor: {weights.grad.mean()}')\n",
        "print(f'Bias: {bias.grad}')"
      ],
      "execution_count": 67,
      "outputs": [
        {
          "output_type": "stream",
          "text": [
            "Shape of weight calculated: torch.Size([784, 1])\n",
            "Turning into a single tensor: -0.15112045407295227\n",
            "Bias: tensor([-1.])\n"
          ],
          "name": "stdout"
        }
      ]
    },
    {
      "cell_type": "code",
      "metadata": {
        "id": "8786Y4q9ftRv"
      },
      "source": [
        "# Putting altogether in a function \n",
        "def calc_grad(xb , yb , model):\n",
        "  '''\n",
        "  xb --> mini-batched training set \n",
        "  yb --> mini-batched test set \n",
        "  model --> the model we want to use \n",
        "  '''\n",
        "  # Making a prediction \n",
        "  preds = model(xb) \n",
        "  # Calculating the loss\n",
        "  loss = mnist_loss(preds , yb)\n",
        "  # Activating the gradients (for updating our weights)\n",
        "  loss.backward() \n",
        "  \n"
      ],
      "execution_count": 73,
      "outputs": []
    },
    {
      "cell_type": "code",
      "metadata": {
        "colab": {
          "base_uri": "https://localhost:8080/"
        },
        "id": "FRHr0Eykhd2G",
        "outputId": "46ad11aa-e55c-4efb-dac9-d5a050621421"
      },
      "source": [
        "# Testing the above function \n",
        "calc_grad(batch , train_y[:4] , linear1)\n",
        "\n",
        "# Below are the weights and biases after calculating the gradients above \n",
        "weights.grad.mean() , bias.grad"
      ],
      "execution_count": 74,
      "outputs": [
        {
          "output_type": "execute_result",
          "data": {
            "text/plain": [
              "(tensor(-0.9067), tensor([-6.]))"
            ]
          },
          "metadata": {
            "tags": []
          },
          "execution_count": 74
        }
      ]
    },
    {
      "cell_type": "code",
      "metadata": {
        "colab": {
          "base_uri": "https://localhost:8080/"
        },
        "id": "HdrwVulNhz1g",
        "outputId": "e63c8999-1f3c-4e32-9f59-e522a9cc2f81"
      },
      "source": [
        "# Calling it another time\n",
        "calc_grad(batch , train_y[:4] , linear1)\n",
        "\n",
        "# Below are wts and biases\n",
        "weights.grad.mean() , bias.grad"
      ],
      "execution_count": 75,
      "outputs": [
        {
          "output_type": "execute_result",
          "data": {
            "text/plain": [
              "(tensor(-1.0578), tensor([-7.]))"
            ]
          },
          "metadata": {
            "tags": []
          },
          "execution_count": 75
        }
      ]
    },
    {
      "cell_type": "code",
      "metadata": {
        "colab": {
          "base_uri": "https://localhost:8080/"
        },
        "id": "M9gtJ5AeiCgB",
        "outputId": "428ca561-57ba-40ff-e384-651424990331"
      },
      "source": [
        "# Making the gradients to zero, so it won't affect the previous computer gradients \n",
        "weights.grad.zero_()\n",
        "bias.grad.zero_()"
      ],
      "execution_count": 82,
      "outputs": [
        {
          "output_type": "execute_result",
          "data": {
            "text/plain": [
              "tensor([0.])"
            ]
          },
          "metadata": {
            "tags": []
          },
          "execution_count": 82
        }
      ]
    },
    {
      "cell_type": "code",
      "metadata": {
        "id": "-c3E362GifK7",
        "outputId": "c681a498-c830-413c-f5f8-020537e9b8ef",
        "colab": {
          "base_uri": "https://localhost:8080/"
        }
      },
      "source": [
        "# Now it won't add with the previous gradients (because we set it to zero)\n",
        "# Calling it another time\n",
        "calc_grad(batch , train_y[:4] , linear1)\n",
        "\n",
        "# Below are wts and biases\n",
        "weights.grad.mean() , bias.grad"
      ],
      "execution_count": 83,
      "outputs": [
        {
          "output_type": "execute_result",
          "data": {
            "text/plain": [
              "(tensor(-0.1511), tensor([-1.]))"
            ]
          },
          "metadata": {
            "tags": []
          },
          "execution_count": 83
        }
      ]
    },
    {
      "cell_type": "markdown",
      "metadata": {
        "id": "ddXL62BLctYP"
      },
      "source": [
        "Awesome! So we have one remaining step, that is to update the weights and biases (parameters) on the gradient and the learnin rate. \n",
        "\n",
        "We set the gradients to zero to avoid the confusion when we try to compute the derivative to the next batch. \n",
        "\n",
        "It's time now to calculate the accuracy, to decide if an output represent a 3 or 7,\n",
        "- if it's greater than 0, then it's 7 \n",
        "- if it's less than 0, then it's 3 \n",
        "\n",
        "Now the updated function trains a model with the learning rate. "
      ]
    },
    {
      "cell_type": "code",
      "metadata": {
        "id": "-GMmFdKhfmrS"
      },
      "source": [
        "# It will have a step function and runs for one epoch \n",
        "def train_epoch(model , lr , params):\n",
        "  # Training loop\n",
        "  for xb , yb in dl:\n",
        "    calc_grad(xb , yb , model)\n",
        "    for p in params:\n",
        "      p.data  -= p.grad * lr\n",
        "      p.grad.zero_()"
      ],
      "execution_count": 93,
      "outputs": []
    },
    {
      "cell_type": "code",
      "metadata": {
        "id": "SJAPuNi-g-1i",
        "outputId": "93065c84-7e17-45c6-a470-c79376605d63",
        "colab": {
          "base_uri": "https://localhost:8080/"
        }
      },
      "source": [
        "(preds > 0.0).float() == train_y[:4]"
      ],
      "execution_count": 94,
      "outputs": [
        {
          "output_type": "execute_result",
          "data": {
            "text/plain": [
              "tensor([[ True],\n",
              "        [False],\n",
              "        [False],\n",
              "        [False]])"
            ]
          },
          "metadata": {
            "tags": []
          },
          "execution_count": 94
        }
      ]
    },
    {
      "cell_type": "markdown",
      "metadata": {
        "id": "sWG_A0KGhC5Z"
      },
      "source": [
        "Now we are creating a function that would calculate the accuracy from our x and y data batches. "
      ]
    },
    {
      "cell_type": "code",
      "metadata": {
        "id": "7nTIsMFniU2I"
      },
      "source": [
        "# Function to calculate the accuracy \n",
        "def batch_accuracy(xb , yb):\n",
        "  '''\n",
        "  xb --> input data with multiplied weights [model(xb)] \n",
        "  yb --> targets\n",
        "  '''\n",
        "  preds = xb.sigmoid()\n",
        "  # Returns True (or) False\n",
        "  correct = (preds > 0.5) == yb\n",
        "  # Converting into 0s and 1s\n",
        "  return correct.float().mean()"
      ],
      "execution_count": 95,
      "outputs": []
    },
    {
      "cell_type": "code",
      "metadata": {
        "id": "TFLvTxsci32n",
        "outputId": "5ad5bc99-d9b3-4c31-c8b3-4a8dfe333c0b",
        "colab": {
          "base_uri": "https://localhost:8080/"
        }
      },
      "source": [
        "# Using the above function we've made \n",
        "print(f'We got the accuracy of: {batch_accuracy(linear1(batch) , train_y[:4])}')"
      ],
      "execution_count": 107,
      "outputs": [
        {
          "output_type": "stream",
          "text": [
            "We got the accuracy of: 0.25\n"
          ],
          "name": "stdout"
        }
      ]
    },
    {
      "cell_type": "markdown",
      "metadata": {
        "id": "5KS4XP31jbNq"
      },
      "source": [
        "Great our function works, to make it more sense let's make our model to make predictions on a validation set and calculate accuracy from there. "
      ]
    },
    {
      "cell_type": "code",
      "metadata": {
        "id": "kDw_WcE1jnjO",
        "outputId": "6cabb5b0-b15b-4e94-866a-4e0422e40ccc",
        "colab": {
          "base_uri": "https://localhost:8080/"
        }
      },
      "source": [
        "# \n",
        "def validate_epoch(model):\n",
        "  '''\n",
        "  model --> Input your model (linear1)\n",
        "  This function will calculate the accuracy on a validation dataloader \n",
        "  '''\n",
        "  accs = [batch_accuracy(model(xb) , yb) for xb , yb in valid_dl]\n",
        "  return round(torch.stack(accs).mean().item())"
      ],
      "execution_count": 103,
      "outputs": [
        {
          "output_type": "execute_result",
          "data": {
            "text/plain": [
              "tensor(0.2500)"
            ]
          },
          "metadata": {
            "tags": []
          },
          "execution_count": 103
        }
      ]
    },
    {
      "cell_type": "code",
      "metadata": {
        "id": "vEysM8eujpKu"
      },
      "source": [
        ""
      ],
      "execution_count": null,
      "outputs": []
    }
  ]
}