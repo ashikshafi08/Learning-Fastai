{
  "nbformat": 4,
  "nbformat_minor": 0,
  "metadata": {
    "colab": {
      "name": "Fastai_Refresher.ipynb",
      "provenance": [],
      "collapsed_sections": [],
      "authorship_tag": "ABX9TyOARxHR8X/V6u6G9YD2TaPg",
      "include_colab_link": true
    },
    "kernelspec": {
      "name": "python3",
      "display_name": "Python 3"
    },
    "language_info": {
      "name": "python"
    },
    "accelerator": "GPU"
  },
  "cells": [
    {
      "cell_type": "markdown",
      "metadata": {
        "id": "view-in-github",
        "colab_type": "text"
      },
      "source": [
        "<a href=\"https://colab.research.google.com/github/ashikshafi08/Learning-Fastai/blob/main/Chapter%20Notebooks/Fastai_Refresher.ipynb\" target=\"_parent\"><img src=\"https://colab.research.google.com/assets/colab-badge.svg\" alt=\"Open In Colab\"/></a>"
      ]
    },
    {
      "cell_type": "markdown",
      "metadata": {
        "id": "6uuMuqBjhkvF"
      },
      "source": [
        "This notebooks will cover 4 chapters of the Fastai lectures. After 2 months of break and now I decided I have to go back and finish this book and take proper notes and use my skills in competition. \n",
        "\n"
      ]
    },
    {
      "cell_type": "code",
      "metadata": {
        "colab": {
          "base_uri": "https://localhost:8080/"
        },
        "id": "SDh4f6RXrvU3",
        "outputId": "37775faf-f4eb-464e-8934-fc6cd696276e"
      },
      "source": [
        "# Installing fastai \n",
        "!pip install fastai --upgrade "
      ],
      "execution_count": 119,
      "outputs": [
        {
          "output_type": "stream",
          "text": [
            "Requirement already up-to-date: fastai in /usr/local/lib/python3.7/dist-packages (2.4)\n",
            "Requirement already satisfied, skipping upgrade: pyyaml in /usr/local/lib/python3.7/dist-packages (from fastai) (3.13)\n",
            "Requirement already satisfied, skipping upgrade: torchvision>=0.8.2 in /usr/local/lib/python3.7/dist-packages (from fastai) (0.10.0+cu102)\n",
            "Requirement already satisfied, skipping upgrade: fastcore<1.4,>=1.3.8 in /usr/local/lib/python3.7/dist-packages (from fastai) (1.3.20)\n",
            "Requirement already satisfied, skipping upgrade: scikit-learn in /usr/local/lib/python3.7/dist-packages (from fastai) (0.22.2.post1)\n",
            "Requirement already satisfied, skipping upgrade: scipy in /usr/local/lib/python3.7/dist-packages (from fastai) (1.4.1)\n",
            "Requirement already satisfied, skipping upgrade: fastprogress>=0.2.4 in /usr/local/lib/python3.7/dist-packages (from fastai) (1.0.0)\n",
            "Requirement already satisfied, skipping upgrade: pip in /usr/local/lib/python3.7/dist-packages (from fastai) (19.3.1)\n",
            "Requirement already satisfied, skipping upgrade: pillow>6.0.0 in /usr/local/lib/python3.7/dist-packages (from fastai) (7.1.2)\n",
            "Requirement already satisfied, skipping upgrade: requests in /usr/local/lib/python3.7/dist-packages (from fastai) (2.23.0)\n",
            "Requirement already satisfied, skipping upgrade: torch<1.10,>=1.7.0 in /usr/local/lib/python3.7/dist-packages (from fastai) (1.9.0+cu102)\n",
            "Requirement already satisfied, skipping upgrade: packaging in /usr/local/lib/python3.7/dist-packages (from fastai) (20.9)\n",
            "Requirement already satisfied, skipping upgrade: spacy<4 in /usr/local/lib/python3.7/dist-packages (from fastai) (2.2.4)\n",
            "Requirement already satisfied, skipping upgrade: pandas in /usr/local/lib/python3.7/dist-packages (from fastai) (1.1.5)\n",
            "Requirement already satisfied, skipping upgrade: matplotlib in /usr/local/lib/python3.7/dist-packages (from fastai) (3.2.2)\n",
            "Requirement already satisfied, skipping upgrade: numpy in /usr/local/lib/python3.7/dist-packages (from torchvision>=0.8.2->fastai) (1.19.5)\n",
            "Requirement already satisfied, skipping upgrade: joblib>=0.11 in /usr/local/lib/python3.7/dist-packages (from scikit-learn->fastai) (1.0.1)\n",
            "Requirement already satisfied, skipping upgrade: certifi>=2017.4.17 in /usr/local/lib/python3.7/dist-packages (from requests->fastai) (2021.5.30)\n",
            "Requirement already satisfied, skipping upgrade: idna<3,>=2.5 in /usr/local/lib/python3.7/dist-packages (from requests->fastai) (2.10)\n",
            "Requirement already satisfied, skipping upgrade: chardet<4,>=3.0.2 in /usr/local/lib/python3.7/dist-packages (from requests->fastai) (3.0.4)\n",
            "Requirement already satisfied, skipping upgrade: urllib3!=1.25.0,!=1.25.1,<1.26,>=1.21.1 in /usr/local/lib/python3.7/dist-packages (from requests->fastai) (1.24.3)\n",
            "Requirement already satisfied, skipping upgrade: typing-extensions in /usr/local/lib/python3.7/dist-packages (from torch<1.10,>=1.7.0->fastai) (3.7.4.3)\n",
            "Requirement already satisfied, skipping upgrade: pyparsing>=2.0.2 in /usr/local/lib/python3.7/dist-packages (from packaging->fastai) (2.4.7)\n",
            "Requirement already satisfied, skipping upgrade: blis<0.5.0,>=0.4.0 in /usr/local/lib/python3.7/dist-packages (from spacy<4->fastai) (0.4.1)\n",
            "Requirement already satisfied, skipping upgrade: plac<1.2.0,>=0.9.6 in /usr/local/lib/python3.7/dist-packages (from spacy<4->fastai) (1.1.3)\n",
            "Requirement already satisfied, skipping upgrade: setuptools in /usr/local/lib/python3.7/dist-packages (from spacy<4->fastai) (57.0.0)\n",
            "Requirement already satisfied, skipping upgrade: srsly<1.1.0,>=1.0.2 in /usr/local/lib/python3.7/dist-packages (from spacy<4->fastai) (1.0.5)\n",
            "Requirement already satisfied, skipping upgrade: cymem<2.1.0,>=2.0.2 in /usr/local/lib/python3.7/dist-packages (from spacy<4->fastai) (2.0.5)\n",
            "Requirement already satisfied, skipping upgrade: wasabi<1.1.0,>=0.4.0 in /usr/local/lib/python3.7/dist-packages (from spacy<4->fastai) (0.8.2)\n",
            "Requirement already satisfied, skipping upgrade: thinc==7.4.0 in /usr/local/lib/python3.7/dist-packages (from spacy<4->fastai) (7.4.0)\n",
            "Requirement already satisfied, skipping upgrade: preshed<3.1.0,>=3.0.2 in /usr/local/lib/python3.7/dist-packages (from spacy<4->fastai) (3.0.5)\n",
            "Requirement already satisfied, skipping upgrade: murmurhash<1.1.0,>=0.28.0 in /usr/local/lib/python3.7/dist-packages (from spacy<4->fastai) (1.0.5)\n",
            "Requirement already satisfied, skipping upgrade: catalogue<1.1.0,>=0.0.7 in /usr/local/lib/python3.7/dist-packages (from spacy<4->fastai) (1.0.0)\n",
            "Requirement already satisfied, skipping upgrade: tqdm<5.0.0,>=4.38.0 in /usr/local/lib/python3.7/dist-packages (from spacy<4->fastai) (4.41.1)\n",
            "Requirement already satisfied, skipping upgrade: pytz>=2017.2 in /usr/local/lib/python3.7/dist-packages (from pandas->fastai) (2018.9)\n",
            "Requirement already satisfied, skipping upgrade: python-dateutil>=2.7.3 in /usr/local/lib/python3.7/dist-packages (from pandas->fastai) (2.8.1)\n",
            "Requirement already satisfied, skipping upgrade: kiwisolver>=1.0.1 in /usr/local/lib/python3.7/dist-packages (from matplotlib->fastai) (1.3.1)\n",
            "Requirement already satisfied, skipping upgrade: cycler>=0.10 in /usr/local/lib/python3.7/dist-packages (from matplotlib->fastai) (0.10.0)\n",
            "Requirement already satisfied, skipping upgrade: importlib-metadata>=0.20; python_version < \"3.8\" in /usr/local/lib/python3.7/dist-packages (from catalogue<1.1.0,>=0.0.7->spacy<4->fastai) (4.5.0)\n",
            "Requirement already satisfied, skipping upgrade: six>=1.5 in /usr/local/lib/python3.7/dist-packages (from python-dateutil>=2.7.3->pandas->fastai) (1.15.0)\n",
            "Requirement already satisfied, skipping upgrade: zipp>=0.5 in /usr/local/lib/python3.7/dist-packages (from importlib-metadata>=0.20; python_version < \"3.8\"->catalogue<1.1.0,>=0.0.7->spacy<4->fastai) (3.4.1)\n"
          ],
          "name": "stdout"
        }
      ]
    },
    {
      "cell_type": "code",
      "metadata": {
        "id": "HQ4qLqI8rzdk"
      },
      "source": [
        "# Importing the needed libs \n",
        "from fastai import * \n",
        "from fastai.vision.all import *"
      ],
      "execution_count": 120,
      "outputs": []
    },
    {
      "cell_type": "markdown",
      "metadata": {
        "id": "niUdsVcm5U0f"
      },
      "source": [
        "# Under the hood: Training a Digit Training Classifier"
      ]
    },
    {
      "cell_type": "code",
      "metadata": {
        "colab": {
          "base_uri": "https://localhost:8080/"
        },
        "id": "cjSh-6NqtJeK",
        "outputId": "3cd34ea8-8ee0-4a70-8d89-72709d0387d8"
      },
      "source": [
        "# Reading the data\n",
        "path = untar_data(URLs.MNIST_SAMPLE)\n",
        "path.ls()"
      ],
      "execution_count": 121,
      "outputs": [
        {
          "output_type": "execute_result",
          "data": {
            "text/plain": [
              "(#3) [Path('/root/.fastai/data/mnist_sample/labels.csv'),Path('/root/.fastai/data/mnist_sample/train'),Path('/root/.fastai/data/mnist_sample/valid')]"
            ]
          },
          "metadata": {
            "tags": []
          },
          "execution_count": 121
        }
      ]
    },
    {
      "cell_type": "code",
      "metadata": {
        "colab": {
          "base_uri": "https://localhost:8080/"
        },
        "id": "P4VF8J3dr49f",
        "outputId": "8d15ee54-5db8-47e5-b36b-7f0a8d5ef7f0"
      },
      "source": [
        "# Putting into sep variable of 3 and 7 \n",
        "threes = (path / 'train' / '3').ls().sorted()\n",
        "sevens = (path / 'train' / '7').ls().sorted()\n",
        "\n",
        "threes[:5] , sevens[:5]"
      ],
      "execution_count": 122,
      "outputs": [
        {
          "output_type": "execute_result",
          "data": {
            "text/plain": [
              "((#5) [Path('/root/.fastai/data/mnist_sample/train/3/10.png'),Path('/root/.fastai/data/mnist_sample/train/3/10000.png'),Path('/root/.fastai/data/mnist_sample/train/3/10011.png'),Path('/root/.fastai/data/mnist_sample/train/3/10031.png'),Path('/root/.fastai/data/mnist_sample/train/3/10034.png')],\n",
              " (#5) [Path('/root/.fastai/data/mnist_sample/train/7/10002.png'),Path('/root/.fastai/data/mnist_sample/train/7/1001.png'),Path('/root/.fastai/data/mnist_sample/train/7/10014.png'),Path('/root/.fastai/data/mnist_sample/train/7/10019.png'),Path('/root/.fastai/data/mnist_sample/train/7/10039.png')])"
            ]
          },
          "metadata": {
            "tags": []
          },
          "execution_count": 122
        }
      ]
    },
    {
      "cell_type": "code",
      "metadata": {
        "colab": {
          "base_uri": "https://localhost:8080/"
        },
        "id": "5Ijd622ItD8Z",
        "outputId": "670e4045-5851-4d4c-eafc-eb4de54a8ffe"
      },
      "source": [
        "# Representing in a numpy array \n",
        "img_3 = threes[1]\n",
        "im3 = Image.open(img_3)\n",
        "im3.show()\n",
        "np.array(im3)[4:10 , 4:10] # rows and columns "
      ],
      "execution_count": 123,
      "outputs": [
        {
          "output_type": "execute_result",
          "data": {
            "text/plain": [
              "array([[  0,   0,   0,   0,   0,   0],\n",
              "       [  0,   0,   0,   0,   0,  29],\n",
              "       [  0,   0,   0,  48, 166, 224],\n",
              "       [  0,  93, 244, 249, 253, 187],\n",
              "       [  0, 107, 253, 253, 230,  48],\n",
              "       [  0,   3,  20,  20,  15,   0]], dtype=uint8)"
            ]
          },
          "metadata": {
            "tags": []
          },
          "execution_count": 123
        }
      ]
    },
    {
      "cell_type": "code",
      "metadata": {
        "id": "5oPWetkxuc9p"
      },
      "source": [
        "# Stacking all the images in the directory, and converting into tensors\n",
        "\n",
        "seven_tensor = [tensor(Image.open(o)) for o in sevens]\n",
        "three_tensor = [tensor(Image.open(o)) for o in threes]"
      ],
      "execution_count": 124,
      "outputs": []
    },
    {
      "cell_type": "markdown",
      "metadata": {
        "id": "_BPY3H-ItbP0"
      },
      "source": [
        "Calculate the average over all the images of the intensity of the pixel. \n",
        "\n",
        "Our tensors are in integers let's stack them and convert into float by dividing them by 255. "
      ]
    },
    {
      "cell_type": "code",
      "metadata": {
        "colab": {
          "base_uri": "https://localhost:8080/"
        },
        "id": "h9LFFRX7t5gc",
        "outputId": "663963b3-4ed4-45f2-a4b1-f657ac190de7"
      },
      "source": [
        "stacked_sevens = torch.stack(seven_tensor).float() / 255\n",
        "stacked_threes = torch.stack(three_tensor).float() / 255\n",
        "\n",
        "stacked_sevens[:1]"
      ],
      "execution_count": 125,
      "outputs": [
        {
          "output_type": "execute_result",
          "data": {
            "text/plain": [
              "tensor([[[0.0000, 0.0000, 0.0000, 0.0000, 0.0000, 0.0000, 0.0000, 0.0000, 0.0000, 0.0000, 0.0000, 0.0000, 0.0000, 0.0000, 0.0000, 0.0000, 0.0000, 0.0000, 0.0000, 0.0000, 0.0000, 0.0000, 0.0000,\n",
              "          0.0000, 0.0000, 0.0000, 0.0000, 0.0000],\n",
              "         [0.0000, 0.0000, 0.0000, 0.0000, 0.0000, 0.0000, 0.0000, 0.0000, 0.0000, 0.0000, 0.0000, 0.0000, 0.0000, 0.0000, 0.0000, 0.0000, 0.0000, 0.0000, 0.0000, 0.0000, 0.0000, 0.0000, 0.0000,\n",
              "          0.0000, 0.0000, 0.0000, 0.0000, 0.0000],\n",
              "         [0.0000, 0.0000, 0.0000, 0.0000, 0.0000, 0.0000, 0.0000, 0.0000, 0.0000, 0.0000, 0.0000, 0.0000, 0.0000, 0.0000, 0.0000, 0.0000, 0.0000, 0.0000, 0.0000, 0.0000, 0.0000, 0.0000, 0.0000,\n",
              "          0.0000, 0.0000, 0.0000, 0.0000, 0.0000],\n",
              "         [0.0000, 0.0000, 0.0000, 0.0000, 0.0000, 0.0000, 0.0000, 0.0000, 0.0000, 0.0000, 0.0000, 0.0000, 0.0000, 0.0000, 0.0000, 0.0000, 0.0000, 0.0000, 0.0000, 0.0000, 0.0000, 0.0000, 0.0000,\n",
              "          0.0000, 0.0000, 0.0000, 0.0000, 0.0000],\n",
              "         [0.0000, 0.0000, 0.0000, 0.0000, 0.0000, 0.0000, 0.0000, 0.0000, 0.0000, 0.0000, 0.0000, 0.0000, 0.0000, 0.0000, 0.0000, 0.0000, 0.0000, 0.0000, 0.0000, 0.0000, 0.0000, 0.0000, 0.0000,\n",
              "          0.0000, 0.0000, 0.0000, 0.0000, 0.0000],\n",
              "         [0.0000, 0.0000, 0.0000, 0.0000, 0.0000, 0.0000, 0.0000, 0.0000, 0.0000, 0.0000, 0.0000, 0.0000, 0.0000, 0.0000, 0.0000, 0.0000, 0.0000, 0.0000, 0.0000, 0.0000, 0.0000, 0.0000, 0.0000,\n",
              "          0.0000, 0.0000, 0.0000, 0.0000, 0.0000],\n",
              "         [0.0000, 0.0000, 0.0000, 0.0000, 0.0000, 0.0000, 0.0000, 0.0000, 0.0000, 0.0000, 0.0000, 0.0000, 0.0000, 0.0000, 0.0000, 0.0000, 0.0000, 0.0000, 0.0000, 0.0000, 0.0000, 0.0000, 0.0000,\n",
              "          0.0000, 0.0000, 0.0000, 0.0000, 0.0000],\n",
              "         [0.0000, 0.0000, 0.0000, 0.0000, 0.0824, 0.2000, 0.8353, 0.9961, 0.9882, 0.9882, 0.9882, 0.9961, 0.9882, 0.9882, 0.9882, 0.9961, 0.9882, 0.9882, 0.9882, 1.0000, 0.9882, 0.3922, 0.0000,\n",
              "          0.0000, 0.0000, 0.0000, 0.0000, 0.0000],\n",
              "         [0.0000, 0.0000, 0.0000, 0.0824, 0.6314, 0.9804, 0.9804, 0.9882, 0.9804, 0.9804, 0.9804, 0.9882, 0.9804, 0.9804, 0.9804, 0.9882, 0.9804, 0.9804, 0.9804, 0.9882, 0.9804, 0.3922, 0.0000,\n",
              "          0.0000, 0.0000, 0.0000, 0.0000, 0.0000],\n",
              "         [0.0000, 0.0000, 0.0000, 0.2000, 0.9804, 0.9804, 0.9804, 0.9882, 0.7412, 0.7451, 0.9804, 0.9882, 0.9804, 0.9804, 0.9804, 0.9882, 0.9804, 0.9804, 0.9804, 0.9882, 0.7412, 0.1569, 0.0000,\n",
              "          0.0000, 0.0000, 0.0000, 0.0000, 0.0000],\n",
              "         [0.0000, 0.0000, 0.0000, 0.0392, 0.5098, 0.9804, 0.9804, 0.1922, 0.1137, 0.1176, 0.1922, 0.1922, 0.1922, 0.1922, 0.1922, 0.1922, 0.1922, 0.6667, 0.9804, 0.9882, 0.5843, 0.0000, 0.0000,\n",
              "          0.0000, 0.0000, 0.0000, 0.0000, 0.0000],\n",
              "         [0.0000, 0.0000, 0.0000, 0.0000, 0.0000, 0.0000, 0.0000, 0.0000, 0.0000, 0.0000, 0.0000, 0.0000, 0.0000, 0.0000, 0.0000, 0.0431, 0.5176, 0.9882, 0.9882, 0.9569, 0.4745, 0.0000, 0.0000,\n",
              "          0.0000, 0.0000, 0.0000, 0.0000, 0.0000],\n",
              "         [0.0000, 0.0000, 0.0000, 0.0000, 0.0000, 0.0000, 0.0000, 0.0000, 0.0000, 0.0000, 0.0000, 0.0000, 0.0000, 0.0000, 0.0000, 0.2000, 0.9804, 0.9804, 0.9804, 0.7922, 0.0000, 0.0000, 0.0000,\n",
              "          0.0000, 0.0000, 0.0000, 0.0000, 0.0000],\n",
              "         [0.0000, 0.0000, 0.0000, 0.0000, 0.0000, 0.0000, 0.0000, 0.0000, 0.0000, 0.0000, 0.0000, 0.0000, 0.0000, 0.0000, 0.0000, 0.6745, 0.9804, 0.9804, 0.9804, 0.3137, 0.0000, 0.0000, 0.0000,\n",
              "          0.0000, 0.0000, 0.0000, 0.0000, 0.0000],\n",
              "         [0.0000, 0.0000, 0.0000, 0.0000, 0.0000, 0.0000, 0.0000, 0.0000, 0.0000, 0.0000, 0.0000, 0.0000, 0.0000, 0.0000, 0.0000, 0.9882, 0.9804, 0.9804, 0.9804, 0.0000, 0.0000, 0.0000, 0.0000,\n",
              "          0.0000, 0.0000, 0.0000, 0.0000, 0.0000],\n",
              "         [0.0000, 0.0000, 0.0000, 0.0000, 0.0000, 0.0000, 0.0000, 0.0000, 0.0000, 0.0000, 0.0000, 0.0000, 0.0000, 0.1216, 0.8353, 0.9961, 0.9882, 0.9882, 0.1922, 0.0000, 0.0000, 0.0000, 0.0000,\n",
              "          0.0000, 0.0000, 0.0000, 0.0000, 0.0000],\n",
              "         [0.0000, 0.0000, 0.0000, 0.0000, 0.0000, 0.0000, 0.0000, 0.0000, 0.0000, 0.0000, 0.0000, 0.0000, 0.0000, 0.5922, 0.9804, 0.9882, 0.9804, 0.9804, 0.1922, 0.0000, 0.0000, 0.0000, 0.0000,\n",
              "          0.0000, 0.0000, 0.0000, 0.0000, 0.0000],\n",
              "         [0.0000, 0.0000, 0.0000, 0.0000, 0.0000, 0.0000, 0.0000, 0.0000, 0.0000, 0.0000, 0.0000, 0.0000, 0.0000, 0.5922, 0.9804, 0.9882, 0.9804, 0.6235, 0.0784, 0.0000, 0.0000, 0.0000, 0.0000,\n",
              "          0.0000, 0.0000, 0.0000, 0.0000, 0.0000],\n",
              "         [0.0000, 0.0000, 0.0000, 0.0000, 0.0000, 0.0000, 0.0000, 0.0000, 0.0000, 0.0000, 0.0000, 0.0000, 0.0000, 0.5922, 0.9804, 0.9882, 0.9804, 0.3922, 0.0000, 0.0000, 0.0000, 0.0000, 0.0000,\n",
              "          0.0000, 0.0000, 0.0000, 0.0000, 0.0000],\n",
              "         [0.0000, 0.0000, 0.0000, 0.0000, 0.0000, 0.0000, 0.0000, 0.0000, 0.0000, 0.0000, 0.0000, 0.0000, 0.0000, 0.5961, 0.9882, 0.9961, 0.9882, 0.3922, 0.0000, 0.0000, 0.0000, 0.0000, 0.0000,\n",
              "          0.0000, 0.0000, 0.0000, 0.0000, 0.0000],\n",
              "         [0.0000, 0.0000, 0.0000, 0.0000, 0.0000, 0.0000, 0.0000, 0.0000, 0.0000, 0.0000, 0.0000, 0.0000, 0.0000, 0.5922, 0.9804, 0.9882, 0.9804, 0.3922, 0.0000, 0.0000, 0.0000, 0.0000, 0.0000,\n",
              "          0.0000, 0.0000, 0.0000, 0.0000, 0.0000],\n",
              "         [0.0000, 0.0000, 0.0000, 0.0000, 0.0000, 0.0000, 0.0000, 0.0000, 0.0000, 0.0000, 0.0000, 0.0000, 0.0000, 0.5922, 0.9804, 0.9882, 0.9804, 0.3922, 0.0000, 0.0000, 0.0000, 0.0000, 0.0000,\n",
              "          0.0000, 0.0000, 0.0000, 0.0000, 0.0000],\n",
              "         [0.0000, 0.0000, 0.0000, 0.0000, 0.0000, 0.0000, 0.0000, 0.0000, 0.0000, 0.0000, 0.0000, 0.0000, 0.0000, 0.5922, 0.9804, 0.9882, 0.9804, 0.8667, 0.1569, 0.0000, 0.0000, 0.0000, 0.0000,\n",
              "          0.0000, 0.0000, 0.0000, 0.0000, 0.0000],\n",
              "         [0.0000, 0.0000, 0.0000, 0.0000, 0.0000, 0.0000, 0.0000, 0.0000, 0.0000, 0.0000, 0.0000, 0.0000, 0.0000, 0.6000, 0.9882, 1.0000, 0.9882, 0.9882, 0.1922, 0.0000, 0.0000, 0.0000, 0.0000,\n",
              "          0.0000, 0.0000, 0.0000, 0.0000, 0.0000],\n",
              "         [0.0000, 0.0000, 0.0000, 0.0000, 0.0000, 0.0000, 0.0000, 0.0000, 0.0000, 0.0000, 0.0000, 0.0000, 0.0000, 0.5922, 0.9804, 0.9882, 0.9804, 0.9804, 0.1922, 0.0000, 0.0000, 0.0000, 0.0000,\n",
              "          0.0000, 0.0000, 0.0000, 0.0000, 0.0000],\n",
              "         [0.0000, 0.0000, 0.0000, 0.0000, 0.0000, 0.0000, 0.0000, 0.0000, 0.0000, 0.0000, 0.0000, 0.0000, 0.0000, 0.2353, 0.8667, 0.9882, 0.9804, 0.6235, 0.0784, 0.0000, 0.0000, 0.0000, 0.0000,\n",
              "          0.0000, 0.0000, 0.0000, 0.0000, 0.0000],\n",
              "         [0.0000, 0.0000, 0.0000, 0.0000, 0.0000, 0.0000, 0.0000, 0.0000, 0.0000, 0.0000, 0.0000, 0.0000, 0.0000, 0.0000, 0.1569, 0.8314, 0.1922, 0.0784, 0.0000, 0.0000, 0.0000, 0.0000, 0.0000,\n",
              "          0.0000, 0.0000, 0.0000, 0.0000, 0.0000],\n",
              "         [0.0000, 0.0000, 0.0000, 0.0000, 0.0000, 0.0000, 0.0000, 0.0000, 0.0000, 0.0000, 0.0000, 0.0000, 0.0000, 0.0000, 0.0000, 0.0000, 0.0000, 0.0000, 0.0000, 0.0000, 0.0000, 0.0000, 0.0000,\n",
              "          0.0000, 0.0000, 0.0000, 0.0000, 0.0000]]])"
            ]
          },
          "metadata": {
            "tags": []
          },
          "execution_count": 125
        }
      ]
    },
    {
      "cell_type": "code",
      "metadata": {
        "colab": {
          "base_uri": "https://localhost:8080/"
        },
        "id": "JZnOMywsvL1g",
        "outputId": "1f955f15-1696-49ac-cc2c-99297d890a16"
      },
      "source": [
        "# Checking the shape \n",
        "stacked_sevens.shape , stacked_threes.shape"
      ],
      "execution_count": 126,
      "outputs": [
        {
          "output_type": "execute_result",
          "data": {
            "text/plain": [
              "(torch.Size([6265, 28, 28]), torch.Size([6131, 28, 28]))"
            ]
          },
          "metadata": {
            "tags": []
          },
          "execution_count": 126
        }
      ]
    },
    {
      "cell_type": "code",
      "metadata": {
        "colab": {
          "base_uri": "https://localhost:8080/",
          "height": 102
        },
        "id": "7M-FvMESvVb4",
        "outputId": "af40667c-9527-400f-8b41-3db1e35d7c6f"
      },
      "source": [
        "# Finding the ideal 3 by taking average along the 0th dimension\n",
        "mean_3 = stacked_threes.mean(dim = 0)\n",
        "mean_7 = stacked_sevens.mean(dim = 0)\n",
        "show_image(mean_3)"
      ],
      "execution_count": 127,
      "outputs": [
        {
          "output_type": "execute_result",
          "data": {
            "text/plain": [
              "<matplotlib.axes._subplots.AxesSubplot at 0x7fdedc275810>"
            ]
          },
          "metadata": {
            "tags": []
          },
          "execution_count": 127
        },
        {
          "output_type": "display_data",
          "data": {
            "image/png": "[encoded data removed]",
            "text/plain": [
              "<Figure size 72x72 with 1 Axes>"
            ]
          },
          "metadata": {
            "tags": [],
            "needs_background": "light"
          }
        }
      ]
    },
    {
      "cell_type": "markdown",
      "metadata": {
        "id": "cXmRIBwfvmfb"
      },
      "source": [
        "Now we have two stuffs, one the ideal image and the actual image. We have to calculate the distance between them. \n",
        "\n",
        "- Mean absolute difference --> replaces negative with positive values\n",
        "- Mean Squared Error --> makes everything positive. "
      ]
    },
    {
      "cell_type": "code",
      "metadata": {
        "colab": {
          "base_uri": "https://localhost:8080/"
        },
        "id": "jLAYiuCywT7L",
        "outputId": "4fdd2182-3e5a-4d30-d357-ca6bcf10b45f"
      },
      "source": [
        "# Creating a vlid 3 and 7 tensors\n",
        "\n",
        "valid_3_tens = torch.stack([tensor(Image.open(o)) for o in (path / 'valid' / '3').ls()])\n",
        "valid_7_tens = torch.stack([tensor(Image.open(o)) for o in (path / 'valid' / '7').ls()])\n",
        "\n",
        "# Converting them into 0 and 1 \n",
        "valid_3_tens = valid_3_tens.float() / 255\n",
        "valid_7_tens = valid_7_tens.float() / 255 \n",
        "\n",
        "# Shape of the valid tensors \n",
        "valid_3_tens.shape , valid_7_tens.shape"
      ],
      "execution_count": 128,
      "outputs": [
        {
          "output_type": "execute_result",
          "data": {
            "text/plain": [
              "(torch.Size([1010, 28, 28]), torch.Size([1028, 28, 28]))"
            ]
          },
          "metadata": {
            "tags": []
          },
          "execution_count": 128
        }
      ]
    },
    {
      "cell_type": "code",
      "metadata": {
        "colab": {
          "base_uri": "https://localhost:8080/"
        },
        "id": "H9VYtdVrxhC0",
        "outputId": "3ef3604c-bf7e-4b35-f1b0-c8b8ba63e04f"
      },
      "source": [
        "# Writing the function which cal dist btw ideal and arbitrary value\n",
        "# taking the mean ranging over the values indexed by the last two axes of the tensors\n",
        "def mnist_distance(a , b):\n",
        "  return (a - b).abs().mean((-1 , -2))\n",
        "\n",
        "# Using the function \n",
        "valid_3_dist = mnist_distance(valid_3_tens , mean_3)\n",
        "valid_3_dist.shape \n"
      ],
      "execution_count": 129,
      "outputs": [
        {
          "output_type": "execute_result",
          "data": {
            "text/plain": [
              "torch.Size([1010])"
            ]
          },
          "metadata": {
            "tags": []
          },
          "execution_count": 129
        }
      ]
    },
    {
      "cell_type": "code",
      "metadata": {
        "colab": {
          "base_uri": "https://localhost:8080/"
        },
        "id": "VYOIHoMIy2Pi",
        "outputId": "ebaf7cc3-118b-40d3-a069-d9466190b0b0"
      },
      "source": [
        "# The first 5 sample's distance \n",
        "valid_3_dist[:5]"
      ],
      "execution_count": 130,
      "outputs": [
        {
          "output_type": "execute_result",
          "data": {
            "text/plain": [
              "tensor([0.1163, 0.1270, 0.1241, 0.1097, 0.1165])"
            ]
          },
          "metadata": {
            "tags": []
          },
          "execution_count": 130
        }
      ]
    },
    {
      "cell_type": "code",
      "metadata": {
        "colab": {
          "base_uri": "https://localhost:8080/"
        },
        "id": "jmJUQYF8y7Tz",
        "outputId": "85d55f56-17b1-4c25-cd06-450bcd2ec813"
      },
      "source": [
        "# Taking one sample from 3 and 7 \n",
        "a_3 = stacked_threes[5]\n",
        "a_7 = stacked_sevens[6]\n",
        "\n",
        "len(a_3) , len(a_7)"
      ],
      "execution_count": 131,
      "outputs": [
        {
          "output_type": "execute_result",
          "data": {
            "text/plain": [
              "(28, 28)"
            ]
          },
          "metadata": {
            "tags": []
          },
          "execution_count": 131
        }
      ]
    },
    {
      "cell_type": "code",
      "metadata": {
        "id": "NC1h4dwzzUdg",
        "colab": {
          "base_uri": "https://localhost:8080/"
        },
        "outputId": "39811b0d-9ef1-42d0-8098-9abdcd24bf0a"
      },
      "source": [
        "# Calculating the distance between ideal and single image file \n",
        "mnist_distance(a_3 , mean_3) , mnist_distance(a_7 , mean_7)"
      ],
      "execution_count": 132,
      "outputs": [
        {
          "output_type": "execute_result",
          "data": {
            "text/plain": [
              "(tensor(0.1700), tensor(0.1542))"
            ]
          },
          "metadata": {
            "tags": []
          },
          "execution_count": 132
        }
      ]
    },
    {
      "cell_type": "code",
      "metadata": {
        "colab": {
          "base_uri": "https://localhost:8080/"
        },
        "id": "-ghwS9bT044X",
        "outputId": "a2642f1b-051b-476b-bb80-3b937204b71c"
      },
      "source": [
        "# Function to check whether a tensor is 3 or not \n",
        "def is_3(x):\n",
        "  '''\n",
        "  the distance should between the tensor and the mean 3 should be less than the mean 7, we can call it as a 3\n",
        "  '''\n",
        "  return mnist_distance(x , mean_3) < mnist_distance(x , mean_7)\n",
        "\n",
        "# Passing one tensor \n",
        "is_3(a_3) # this is 3 and should return 3 "
      ],
      "execution_count": 133,
      "outputs": [
        {
          "output_type": "execute_result",
          "data": {
            "text/plain": [
              "tensor(True)"
            ]
          },
          "metadata": {
            "tags": []
          },
          "execution_count": 133
        }
      ]
    },
    {
      "cell_type": "code",
      "metadata": {
        "colab": {
          "base_uri": "https://localhost:8080/"
        },
        "id": "A5RffPDF3xSM",
        "outputId": "b59a7022-3e68-498a-d6ec-978e5ca6e1a7"
      },
      "source": [
        "# Passing our whole valid 3 set and see how it goes \n",
        "is_3(valid_3_tens)"
      ],
      "execution_count": 134,
      "outputs": [
        {
          "output_type": "execute_result",
          "data": {
            "text/plain": [
              "tensor([True, True, True,  ..., True, True, True])"
            ]
          },
          "metadata": {
            "tags": []
          },
          "execution_count": 134
        }
      ]
    },
    {
      "cell_type": "code",
      "metadata": {
        "colab": {
          "base_uri": "https://localhost:8080/"
        },
        "id": "RbserpWV4MlV",
        "outputId": "0352551e-f928-4bf7-8bf6-7df2c946491b"
      },
      "source": [
        "# Alright now calculate the distance for 3 and 7 \n",
        "accuracy_3s = is_3(valid_3_tens).float().mean()\n",
        "\n",
        "# For 7 we will take the inverse of all the 7s (since we don't have is_7 function)\n",
        "accuracy_7s = (1 - (is_3(valid_7_tens).float().mean()))\n",
        "\n",
        "accuracy_3s , accuracy_7s"
      ],
      "execution_count": 135,
      "outputs": [
        {
          "output_type": "execute_result",
          "data": {
            "text/plain": [
              "(tensor(0.9168), tensor(0.9854))"
            ]
          },
          "metadata": {
            "tags": []
          },
          "execution_count": 135
        }
      ]
    },
    {
      "cell_type": "code",
      "metadata": {
        "colab": {
          "base_uri": "https://localhost:8080/"
        },
        "id": "k__n3fR949zF",
        "outputId": "12aaca4b-3995-45c4-f105-71eed985a74d"
      },
      "source": [
        "# It will perform worse since it's 7 \n",
        "is_3(valid_7_tens).float().mean()"
      ],
      "execution_count": 136,
      "outputs": [
        {
          "output_type": "execute_result",
          "data": {
            "text/plain": [
              "tensor(0.0146)"
            ]
          },
          "metadata": {
            "tags": []
          },
          "execution_count": 136
        }
      ]
    },
    {
      "cell_type": "markdown",
      "metadata": {
        "id": "8WpDeltn5GiM"
      },
      "source": [
        "## SGD \n",
        "\n",
        "- This is something that will allow our model to get better and better which gives the **ability of learning to the model**.\n",
        "\n",
        "**How do we make it work?**\n",
        "- Assign a weight \n",
        "- Tweak the weight (parameters) and improve based on the weight assignment.\n",
        "\n",
        "**What can we do to our pixel similarity in order to apply SGD (or a optimizer)?**\n",
        "- Assign a weight for each pixel values.\n",
        "\n"
      ]
    },
    {
      "cell_type": "code",
      "metadata": {
        "id": "azmZCGxP6Rv-"
      },
      "source": [
        "# Probability of a number being 8\n",
        "def pr_eight(x , w):\n",
        "  '''\n",
        "  w = weights for the pixels \n",
        "  x = input image \n",
        "  '''\n",
        "  return (x*w).sum()"
      ],
      "execution_count": 137,
      "outputs": []
    },
    {
      "cell_type": "markdown",
      "metadata": {
        "id": "3ecuPnNH6fIz"
      },
      "source": [
        "The above function will help us to update the weight `w` for every iteration and make our weight assignemnt better and better. \n",
        "\n",
        "> Converting the above function `pr_8` to a machine learning classifier: \n",
        "- Initialize the weights \n",
        "- For each image, use the weights that was initialized and predict whether it appears to be a 3 or a 7. (Step 2)\n",
        "- Based on the predictions, **calculate how good the model is** (*Calculte loss*). \n",
        "- Tweak (step) the weights based on the above calculation. \n",
        "- Go back again to Step 2, where you use the weights and make predictions. \n",
        "- Iterate this process until we decide to stop the training. \n",
        "\n",
        "#### Guidelines\n",
        "\n",
        "- **Initialize**\n",
        "\n",
        "    We initialize the parameters (or) weights to random values at first. It's believed starting with random weights (or) values works perfectly well. \n",
        "\n",
        "- **Loss**\n",
        "\n",
        "    A function will return a number that is small when the performance of the model is good. The standard approach is to treat a **small loss as a good and large loss as bad.** \n",
        "\n",
        "- **Step**\n",
        "\n",
        "    A simple way to figure out whether a weight should be increased a bit or decreased, would be just try to increase the **weight** by a small amount and observe the loss goes up or down. We do this **increment and decrement until we find an amount that satisfy us**. \n",
        "\n",
        "    However, we use calculus to take care of this. Finding which direction and roughly how much, to change each weight without doing those adjustments above. \n",
        "\n",
        "    We do this by calculating ***gradients.*** This is just an **performance optimization.**\n",
        "\n",
        "- **Stop**\n",
        "\n",
        "    This is the phase where we choose the epochs to train the model for, we would keep training until the accuracy of the model started getting worse or ran out of time.\n",
        "\n",
        "\n"
      ]
    },
    {
      "cell_type": "markdown",
      "metadata": {
        "id": "zY227g6t7jBg"
      },
      "source": [
        "#### Calculating Gradients \n",
        "\n",
        "In here we will use calculus as a performance optimizartion. \n",
        "\n",
        "**But why ?**\n",
        "- It will help us quickly to calculate whether our loss will go up and down as we are adjusting the parameters.\n",
        "\n",
        "> Gradients will tell us how much we have to change each weight to make our model better\n",
        "\n",
        "**What the hell is a derivative?**\n",
        "- it calculates the change of a equation rather a value.\n",
        "- For instance, the derivative of the quadratic function at the value 3 tells us how rapidly the function changes at the value 3. \n",
        "\n",
        "**Exact definition of a gradient**\n",
        "\n",
        "*Gradient is defined as rise/run that is the change in the value of the function, divided by the change in the value of the parameter.*\n",
        "\n",
        "The takeaway: \n",
        "- When we know how our function would change, then we know what we need to do in order to make it smaller (loss function). \n",
        "- The key is having a function and change the parameter of the function to make the loss smaller. \n",
        "\n",
        "#### Things to know\n",
        "\n",
        "- The function will return not one but alot of weights, so when we calculate the derivative we will get alots of number, `i.e gradient for every weight`. \n",
        "- `requires_grad_()` special method tells pytorch we want to calculate gradients w.r.t to the variable at the value. For instance, in 3x (x). By doing this Pytorch, will keep track of all the computed gradients. \n",
        "- `backward` --> backpropagation, this is process of calculating the derivative (gradients) for each layer. \n",
        "- In `backward pass` we calculate the gradients of a neural network, and on `forward pass` we calculate the activations of a neural net.\n",
        "\n",
        "> **Backpropagation** is a training algorithm consisting of 2 steps: \n",
        "1. Feed forward the values \n",
        "2. Calculate the error and propagate it back to the earlier layers. So to be precise, forward-propagation is part of the backpropagation algorithm but comes before back-propagating.\n",
        "\n",
        "\n",
        "- https://datascience.stackexchange.com/questions/66416/forward-pass-vs-backward-pass-vs-backpropagation\n",
        "- https://stackoverflow.com/questions/28403782/what-is-the-difference-between-back-propagation-and-feed-forward-neural-network\n"
      ]
    },
    {
      "cell_type": "code",
      "metadata": {
        "colab": {
          "base_uri": "https://localhost:8080/"
        },
        "id": "2UWWcBEu9_Yl",
        "outputId": "f3f498ea-61aa-4266-ea74-f7c0d0424593"
      },
      "source": [
        "# Calculating Gradients with Pytorch\n",
        "\n",
        "import torch \n",
        "\n",
        "# Creating a tensor (will keep track of the gradients of the value\n",
        "xt = tensor(8.).requires_grad_()\n",
        "\n",
        "# Sample function \n",
        "def f(x): return x**2\n",
        "\n",
        "# Performing some computations with xt\n",
        "yt = f(xt)\n",
        "yt"
      ],
      "execution_count": 138,
      "outputs": [
        {
          "output_type": "execute_result",
          "data": {
            "text/plain": [
              "tensor(64., grad_fn=<PowBackward0>)"
            ]
          },
          "metadata": {
            "tags": []
          },
          "execution_count": 138
        }
      ]
    },
    {
      "cell_type": "code",
      "metadata": {
        "id": "5w1-PKKNCjLS"
      },
      "source": [
        "# Telling pytoch to calculate the gradients by calling grad \n",
        "yt.backward() # always pass a function"
      ],
      "execution_count": 139,
      "outputs": []
    },
    {
      "cell_type": "code",
      "metadata": {
        "colab": {
          "base_uri": "https://localhost:8080/"
        },
        "id": "7Jnk7_VvFmLn",
        "outputId": "450f19e7-4506-4ad6-cbcf-cac2e85ec087"
      },
      "source": [
        "# Now viewing the gradients calculated on our variable \n",
        "xt.grad # now get the gradient on a variable"
      ],
      "execution_count": 140,
      "outputs": [
        {
          "output_type": "execute_result",
          "data": {
            "text/plain": [
              "tensor(16.)"
            ]
          },
          "metadata": {
            "tags": []
          },
          "execution_count": 140
        }
      ]
    },
    {
      "cell_type": "markdown",
      "metadata": {
        "id": "eB2KexQ8Fxk0"
      },
      "source": [
        "The graidents will tell us only the slope of our function, they don't really say how far we should adjust the parameters. \n",
        "\n",
        "https://en.wikipedia.org/wiki/Slope#Calculus\n",
        "\n",
        "- If slope is very large --> More adjustments to do \n",
        "- If slope is very small --> We are close to the optimal value. \n",
        "\n",
        "### Stepping (way to increase/decrease weight) with a Learning Rate \n",
        "- This is the idea of **multiplying the gradient by a small number** (that is the learning rate).\n",
        "- We can adjust the learning rate by, `w- = w.grad * lr`. \n",
        "\n",
        "This means we get the gradients and multiply the gradients with a learning rate. \n",
        "\n",
        "- If the learning rate is too low, optimization will take a lot of time because steps towards the minimum of the loss function are tiny.\n",
        "- If the learning rate is too high, it can result in getting the *loss* worse. Rather than diverging (or) converging it will bounce around. \n",
        "https://towardsdatascience.com/estimating-optimal-learning-rate-for-a-deep-neural-network-ce32f2556ce0"
      ]
    },
    {
      "cell_type": "markdown",
      "metadata": {
        "id": "ny3uebqcGfIa"
      },
      "source": [
        "### An End-to-End SGD Example \n",
        "\n"
      ]
    },
    {
      "cell_type": "code",
      "metadata": {
        "colab": {
          "base_uri": "https://localhost:8080/"
        },
        "id": "PRfSrslPMiMI",
        "outputId": "87e8009c-fa7e-4819-f4c7-69df28a821ea"
      },
      "source": [
        "# Time \n",
        "time = torch.arange(0 , 20).float()\n",
        "# Time in seconds \n",
        "time"
      ],
      "execution_count": 141,
      "outputs": [
        {
          "output_type": "execute_result",
          "data": {
            "text/plain": [
              "tensor([ 0.,  1.,  2.,  3.,  4.,  5.,  6.,  7.,  8.,  9., 10., 11., 12., 13., 14., 15., 16., 17., 18., 19.])"
            ]
          },
          "metadata": {
            "tags": []
          },
          "execution_count": 141
        }
      ]
    },
    {
      "cell_type": "code",
      "metadata": {
        "colab": {
          "base_uri": "https://localhost:8080/",
          "height": 285
        },
        "id": "d0t5Egj3Mnqc",
        "outputId": "218360db-1190-4f08-c027-239ef6e48925"
      },
      "source": [
        "# Calculating the speed -> a*(t**2) + (b*t) + c\n",
        "speed = torch.randn(20)*3 + 0.75*(time -9.5)**2 + 1\n",
        "\n",
        "# Plotting the time and speed\n",
        "plt.scatter(time , speed)"
      ],
      "execution_count": 142,
      "outputs": [
        {
          "output_type": "execute_result",
          "data": {
            "text/plain": [
              "<matplotlib.collections.PathCollection at 0x7fdee1d14c90>"
            ]
          },
          "metadata": {
            "tags": []
          },
          "execution_count": 142
        },
        {
          "output_type": "display_data",
          "data": {
            "image/png": "[encoded data removed]",
            "text/plain": [
              "<Figure size 432x288 with 1 Axes>"
            ]
          },
          "metadata": {
            "tags": [],
            "needs_background": "light"
          }
        }
      ]
    },
    {
      "cell_type": "code",
      "metadata": {
        "id": "rFnGkvwxM-yO"
      },
      "source": [
        "def f(t , params):\n",
        "  a , b , c = params\n",
        "  return a*(t**2) + (b*t) + c"
      ],
      "execution_count": 143,
      "outputs": []
    },
    {
      "cell_type": "markdown",
      "metadata": {
        "id": "-pH2O7tCOL52"
      },
      "source": [
        "Every quadratic function returns 3 values a, b and c. "
      ]
    },
    {
      "cell_type": "code",
      "metadata": {
        "id": "SS-6susNOiLK"
      },
      "source": [
        "# Since we're on a continous data our loss function would be mse\n",
        "def mse(preds , targs):\n",
        "  return ((preds - targs)**2).mean()"
      ],
      "execution_count": 144,
      "outputs": []
    },
    {
      "cell_type": "code",
      "metadata": {
        "colab": {
          "base_uri": "https://localhost:8080/"
        },
        "id": "scsKo6IaO4Ow",
        "outputId": "c52d8fb1-8ff8-4d2b-dc93-b5753f346b44"
      },
      "source": [
        "# Firstly --> Initialize the parameters\n",
        "params = torch.randn(3).requires_grad_()\n",
        "params # a b c"
      ],
      "execution_count": 145,
      "outputs": [
        {
          "output_type": "execute_result",
          "data": {
            "text/plain": [
              "tensor([1.4424, 1.1436, 1.3470], requires_grad=True)"
            ]
          },
          "metadata": {
            "tags": []
          },
          "execution_count": 145
        }
      ]
    },
    {
      "cell_type": "code",
      "metadata": {
        "colab": {
          "base_uri": "https://localhost:8080/"
        },
        "id": "LgJvercAPPFZ",
        "outputId": "a887476f-ea97-4fce-f4dd-176e0a58bd2f"
      },
      "source": [
        "# Calculating the predictions \n",
        "preds = f(time , params)\n",
        "preds"
      ],
      "execution_count": 146,
      "outputs": [
        {
          "output_type": "execute_result",
          "data": {
            "text/plain": [
              "tensor([  1.3470,   3.9330,   9.4039,  17.7596,  29.0001,  43.1255,  60.1357,  80.0307, 102.8106, 128.4753, 157.0249, 188.4592, 222.7785, 259.9825, 300.0714, 343.0451, 388.9037, 437.6471, 489.2753,\n",
              "        543.7884], grad_fn=<AddBackward0>)"
            ]
          },
          "metadata": {
            "tags": []
          },
          "execution_count": 146
        }
      ]
    },
    {
      "cell_type": "code",
      "metadata": {
        "colab": {
          "base_uri": "https://localhost:8080/",
          "height": 273
        },
        "id": "nii6rWSaTbsJ",
        "outputId": "85b8db7f-b43b-4891-bc4c-a5053b1270fe"
      },
      "source": [
        "# A function to plot both targets and preds to see how close our predictins are\n",
        "\n",
        "def show_preds(preds , ax=None):\n",
        "  if ax is None: ax=plt.subplots()[1]\n",
        "  ax.scatter(time , speed)\n",
        "  ax.scatter(time , to_np(preds) , color='red')\n",
        "  ax.set_ylim(-300 , 100)\n",
        "\n",
        "show_preds(preds)"
      ],
      "execution_count": 147,
      "outputs": [
        {
          "output_type": "display_data",
          "data": {
            "image/png": "[encoded data removed]",
            "text/plain": [
              "<Figure size 432x288 with 1 Axes>"
            ]
          },
          "metadata": {
            "tags": [],
            "needs_background": "light"
          }
        }
      ]
    },
    {
      "cell_type": "code",
      "metadata": {
        "colab": {
          "base_uri": "https://localhost:8080/"
        },
        "id": "AUmm-D7_TfWq",
        "outputId": "b5c4d971-2d5d-4157-95b0-39864b43a551"
      },
      "source": [
        "# Now the next step --> Calculate the loss\n",
        "loss = mse(preds , speed)\n",
        "loss"
      ],
      "execution_count": 148,
      "outputs": [
        {
          "output_type": "execute_result",
          "data": {
            "text/plain": [
              "tensor(54397.4453, grad_fn=<MeanBackward0>)"
            ]
          },
          "metadata": {
            "tags": []
          },
          "execution_count": 148
        }
      ]
    },
    {
      "cell_type": "code",
      "metadata": {
        "colab": {
          "base_uri": "https://localhost:8080/"
        },
        "id": "SYkSZQmrTz3B",
        "outputId": "2fd9ec88-3a5d-4680-b008-abbd1958fd0a"
      },
      "source": [
        "# Calculating the gradients (from the loss function)\n",
        "loss.backward()\n",
        "params.grad # for a,b,c we get the gradients"
      ],
      "execution_count": 149,
      "outputs": [
        {
          "output_type": "execute_result",
          "data": {
            "text/plain": [
              "tensor([77785.1719,  5013.8418,   328.1294])"
            ]
          },
          "metadata": {
            "tags": []
          },
          "execution_count": 149
        }
      ]
    },
    {
      "cell_type": "code",
      "metadata": {
        "colab": {
          "base_uri": "https://localhost:8080/"
        },
        "id": "3A8NsKmRUbcr",
        "outputId": "ed0832ac-5997-45e8-cf96-efe4a90be130"
      },
      "source": [
        "# Just multiplying lr with gradients \n",
        "params.grad * 1e-5"
      ],
      "execution_count": 150,
      "outputs": [
        {
          "output_type": "execute_result",
          "data": {
            "text/plain": [
              "tensor([0.7779, 0.0501, 0.0033])"
            ]
          },
          "metadata": {
            "tags": []
          },
          "execution_count": 150
        }
      ]
    },
    {
      "cell_type": "code",
      "metadata": {
        "id": "h5e624jJT-ot"
      },
      "source": [
        "# Stepping --> update the gradients with a learnin rate \n",
        "lr = 1e-5 # learning rate \n",
        "\n",
        "# Functionality that's help us in updating the learning rate \n",
        "params.data -= lr * params.grad.data\n",
        "params.grad = None\n",
        "\n"
      ],
      "execution_count": 151,
      "outputs": []
    },
    {
      "cell_type": "code",
      "metadata": {
        "id": "T4eKsGJXVVpR"
      },
      "source": [
        "# Putting everything into a function \n",
        "def apply_step(params , prn = True):\n",
        "  # Getting the predictions \n",
        "  preds = f(time , params)\n",
        "  # Calculate the loss \n",
        "  loss = mse(preds , speed)\n",
        "  # Initiating back prop on loss function \n",
        "  loss.backward()\n",
        "  # Stepping with a learning rate (multiplying the gradients with a lr)\n",
        "  params.data -= lr * params.grad.data\n",
        "  params.grad = None\n",
        "  if prn:\n",
        "    # Getting only the numbers (we don't want the tensors)\n",
        "    print(loss.item())\n",
        "  return preds\n"
      ],
      "execution_count": 152,
      "outputs": []
    },
    {
      "cell_type": "code",
      "metadata": {
        "colab": {
          "base_uri": "https://localhost:8080/"
        },
        "id": "VU2rhhj2XtSb",
        "outputId": "dcea0618-f0cd-431c-b373-0b2883a94b5f"
      },
      "source": [
        "# Iterating \n",
        "for i in range(10):\n",
        "  apply_step(params)"
      ],
      "execution_count": 153,
      "outputs": [
        {
          "output_type": "stream",
          "text": [
            "10803.5302734375\n",
            "2554.22216796875\n",
            "993.1968994140625\n",
            "697.7977905273438\n",
            "641.8939208984375\n",
            "631.3098754882812\n",
            "629.3016357421875\n",
            "628.916259765625\n",
            "628.8380126953125\n",
            "628.81787109375\n"
          ],
          "name": "stdout"
        }
      ]
    },
    {
      "cell_type": "markdown",
      "metadata": {
        "id": "JKJI0rQfX1Di"
      },
      "source": [
        "#### Summarizing Gradient Descent\n",
        "\n",
        "- At beginning, the weights of our model can be random (or) from pre-trained model.\n",
        "- We compare the model with our targets and prediction using a **loss function,** which returns a number that we want to make as low as possible by **improving our weights.**\n",
        "- To find how to change the **weights** to make the loss a bit better, we use calculus to **calculate the gradients.**\n",
        "- Calculating gradients is similar finding a steepest downward slope, we use the **magnitude of the gradient** (steepness of a slope) to tell us how big a step to take.\n",
        "- To decide on the step size, we multiply the gradient by a number we choose called the **learning rate.**\n",
        "- We then iterate until we have reached the lower point, and then stop."
      ]
    },
    {
      "cell_type": "code",
      "metadata": {
        "colab": {
          "base_uri": "https://localhost:8080/"
        },
        "id": "b5eKqeHqYM0h",
        "outputId": "d37aa32f-a328-4d0e-ce33-d8a288dd95ce"
      },
      "source": [
        "# Changing them from a list of matrices (rank 3) to a list of vectors (rank 2)\n",
        "\n",
        "train_x = torch.cat([stacked_threes , stacked_sevens]).view(-1 , 28*28)\n",
        "train_x.shape"
      ],
      "execution_count": 154,
      "outputs": [
        {
          "output_type": "execute_result",
          "data": {
            "text/plain": [
              "torch.Size([12396, 784])"
            ]
          },
          "metadata": {
            "tags": []
          },
          "execution_count": 154
        }
      ]
    },
    {
      "cell_type": "markdown",
      "metadata": {
        "id": "jfU3C9X1ZQjB"
      },
      "source": [
        ">`-1` —> denotes the row, since we don't know how many rows exactly in a dataset (or) this image, we use -1. Which says make this axis as big as necessary to fit all the data. Like we do in slicing!"
      ]
    },
    {
      "cell_type": "code",
      "metadata": {
        "colab": {
          "base_uri": "https://localhost:8080/"
        },
        "id": "DFYUecR4ZW6G",
        "outputId": "9f6e8698-4772-469b-aa3a-50615b6e4499"
      },
      "source": [
        "# Constructing our labels (3s -> 1 & 7s -> 0s)\n",
        "\n",
        "train_y = tensor([1] * len(threes) + [0] * len(sevens)).unsqueeze(1)\n",
        "train_y.shape"
      ],
      "execution_count": 155,
      "outputs": [
        {
          "output_type": "execute_result",
          "data": {
            "text/plain": [
              "torch.Size([12396, 1])"
            ]
          },
          "metadata": {
            "tags": []
          },
          "execution_count": 155
        }
      ]
    },
    {
      "cell_type": "code",
      "metadata": {
        "colab": {
          "base_uri": "https://localhost:8080/"
        },
        "id": "HttCCq-PZhYt",
        "outputId": "20956e09-ab43-44b5-ff53-32e52ee28a52"
      },
      "source": [
        "# Zipping x and y into a dataset \n",
        "dset = list(zip(train_x , train_y))\n",
        "x , y = dset[0] # take one sample\n",
        "\n",
        "# Checking the shape \n",
        "x.shape , y.shape"
      ],
      "execution_count": 156,
      "outputs": [
        {
          "output_type": "execute_result",
          "data": {
            "text/plain": [
              "(torch.Size([784]), torch.Size([1]))"
            ]
          },
          "metadata": {
            "tags": []
          },
          "execution_count": 156
        }
      ]
    },
    {
      "cell_type": "code",
      "metadata": {
        "colab": {
          "base_uri": "https://localhost:8080/"
        },
        "id": "UZ0urfk9Zv4l",
        "outputId": "8325bcef-1d41-407a-ff81-8c853854ee52"
      },
      "source": [
        "# x and y \n",
        "\n",
        "print(f'Images in Tensor (sliced) : {x[0 : 100]}')\n",
        "print('----------------- ------------ --------- -------')\n",
        "print(f'Labels: {y}')"
      ],
      "execution_count": 157,
      "outputs": [
        {
          "output_type": "stream",
          "text": [
            "Images in Tensor (sliced) : tensor([0., 0., 0., 0., 0., 0., 0., 0., 0., 0., 0., 0., 0., 0., 0., 0., 0., 0., 0., 0., 0., 0., 0., 0., 0., 0., 0., 0., 0., 0., 0., 0., 0., 0., 0., 0., 0., 0., 0., 0., 0., 0., 0., 0., 0., 0., 0., 0., 0., 0., 0., 0., 0., 0., 0., 0., 0., 0., 0., 0., 0., 0., 0., 0.,\n",
            "        0., 0., 0., 0., 0., 0., 0., 0., 0., 0., 0., 0., 0., 0., 0., 0., 0., 0., 0., 0., 0., 0., 0., 0., 0., 0., 0., 0., 0., 0., 0., 0., 0., 0., 0., 0.])\n",
            "----------------- ------------ --------- -------\n",
            "Labels: tensor([1])\n"
          ],
          "name": "stdout"
        }
      ]
    },
    {
      "cell_type": "code",
      "metadata": {
        "id": "VYPS8e_OZ2z1"
      },
      "source": [
        "# Doing the exact thing for our validation set \n",
        "\n",
        "valid_x = torch.cat([valid_3_tens , valid_7_tens]).view(-1 , 28*28)\n",
        "valid_y = tensor([1]*len(valid_3_tens) + [0]*len(valid_7_tens)).unsqueeze(1)\n",
        "\n",
        "# Putting them into a dataset \n",
        "valid_dset = list(zip(valid_x , valid_y))"
      ],
      "execution_count": 158,
      "outputs": []
    },
    {
      "cell_type": "markdown",
      "metadata": {
        "id": "eh_ztb-haIHa"
      },
      "source": [
        "**Initialize the parameters with random numbers**"
      ]
    },
    {
      "cell_type": "code",
      "metadata": {
        "id": "GMWsqr5FaMHT"
      },
      "source": [
        "# Generate weight for every pixel \n",
        "def init_params(size , std = 1.0):\n",
        "  return (torch.randn(size) * std).requires_grad_()\n",
        "\n"
      ],
      "execution_count": 159,
      "outputs": []
    },
    {
      "cell_type": "code",
      "metadata": {
        "colab": {
          "base_uri": "https://localhost:8080/"
        },
        "id": "qr7y2mXtatRr",
        "outputId": "368ec251-bd0e-4afd-c425-291e010fbf62"
      },
      "source": [
        "# Using the function and creating random weights \n",
        "weights = init_params(size = (28*28 , 1) , std=1.0)\n",
        "weights.shape"
      ],
      "execution_count": 160,
      "outputs": [
        {
          "output_type": "execute_result",
          "data": {
            "text/plain": [
              "torch.Size([784, 1])"
            ]
          },
          "metadata": {
            "tags": []
          },
          "execution_count": 160
        }
      ]
    },
    {
      "cell_type": "code",
      "metadata": {
        "id": "cqNV1yb3a_DY"
      },
      "source": [
        "# Initializing bias \n",
        "\n",
        "bias = init_params(1)"
      ],
      "execution_count": 161,
      "outputs": []
    },
    {
      "cell_type": "code",
      "metadata": {
        "colab": {
          "base_uri": "https://localhost:8080/"
        },
        "id": "yGjAbkVFbDBc",
        "outputId": "4d94122d-f66c-469e-9f9f-ad492907b66e"
      },
      "source": [
        "# Prediction on one image \n",
        "(train_x[0] * weights.T).sum() + bias\n"
      ],
      "execution_count": 162,
      "outputs": [
        {
          "output_type": "execute_result",
          "data": {
            "text/plain": [
              "tensor([8.1409], grad_fn=<AddBackward0>)"
            ]
          },
          "metadata": {
            "tags": []
          },
          "execution_count": 162
        }
      ]
    },
    {
      "cell_type": "markdown",
      "metadata": {
        "id": "RRRVFphabkpU"
      },
      "source": [
        "Alright so far we have made a initializer function that gives us random weights, we got: \n",
        "- Function to calculate the predictions"
      ]
    },
    {
      "cell_type": "code",
      "metadata": {
        "colab": {
          "base_uri": "https://localhost:8080/"
        },
        "id": "N2LU4YMkBjr-",
        "outputId": "d3272b82-378b-4383-8c12-3b71fccc36c0"
      },
      "source": [
        "# Constructing the matrix multiplication function (y = wx + b)\n",
        "\n",
        "# As we can say our tiny model indeed \n",
        "def linear1(xb):\n",
        "  '''\n",
        "  xb --> Input training batch\n",
        "\n",
        "  We return by multiplying the weights to our each input mini-batch\n",
        "  '''\n",
        "  return xb@weights + bias\n",
        "\n",
        "# Getting the predictions for all images in the training set (x)\n",
        "preds = linear1(train_x)\n",
        "preds[:10]"
      ],
      "execution_count": 163,
      "outputs": [
        {
          "output_type": "execute_result",
          "data": {
            "text/plain": [
              "tensor([[ 8.1409],\n",
              "        [-2.2279],\n",
              "        [13.6280],\n",
              "        [ 2.5632],\n",
              "        [-7.1215],\n",
              "        [-2.3965],\n",
              "        [ 6.0359],\n",
              "        [ 5.5989],\n",
              "        [-4.2894],\n",
              "        [ 2.9472]], grad_fn=<SliceBackward>)"
            ]
          },
          "metadata": {
            "tags": []
          },
          "execution_count": 163
        }
      ]
    },
    {
      "cell_type": "markdown",
      "metadata": {
        "id": "_mWmLm7rCYOm"
      },
      "source": [
        "Looking back before jumping into calculus and other stuffs first we make a prediction on our input data, then observe how the model/function performs? Not well? \n",
        "\n",
        "Alright we will decide that by passing the preds and targs into a loss function. And we know our goal is to minimize the loss so now we we will get the help of calculus (gradients) that will help our loss function to find the minimum. \n",
        "\n"
      ]
    },
    {
      "cell_type": "code",
      "metadata": {
        "id": "kVjfs3TcDEUg"
      },
      "source": [
        "# Calculating the accuracy\n",
        "corrects = (preds > 0.0).float() == train_y"
      ],
      "execution_count": 164,
      "outputs": []
    },
    {
      "cell_type": "code",
      "metadata": {
        "id": "TjC4c1YBDR2O"
      },
      "source": [
        "# Manually tweaking one value of the weight matrix \n",
        "with torch.no_grad():\n",
        "  weights[0] *= 1.001\n"
      ],
      "execution_count": 165,
      "outputs": []
    },
    {
      "cell_type": "markdown",
      "metadata": {
        "id": "So3Pu87LK_sp"
      },
      "source": [
        "Making a change with just `weights[0] *=1.001` throws an error, this is because we are trying to access even the graidents and make a change in that. \n",
        "\n",
        "By using with `torch.no_grad()` we can turn of the gradients and make computations just on the value of the matrices. \n",
        "\n",
        "https://datascience.stackexchange.com/questions/32651/what-is-the-use-of-torch-no-grad-in-pytorch\n",
        "\n",
        "Gradients tells the loss function how to make changes in order to tweak the weights. \n",
        "\n"
      ]
    },
    {
      "cell_type": "markdown",
      "metadata": {
        "id": "y6y7oqR6DSiD"
      },
      "source": [
        " \n",
        "\n",
        "Reads: \n",
        "- https://discuss.pytorch.org/t/what-is-the-purpose-of-is-leaf/87000/5\n",
        "- https://stackoverflow.com/questions/57188409/assigning-a-parameter-to-the-gpu-sets-is-leaf-as-false\n",
        "- https://forums.fast.ai/t/weights-0-in-place-operations/89308\n",
        "\n"
      ]
    },
    {
      "cell_type": "code",
      "metadata": {
        "colab": {
          "base_uri": "https://localhost:8080/"
        },
        "id": "0-QbwOf0EZo0",
        "outputId": "6ddb6711-d9e6-4f13-f982-420ab342f5ff"
      },
      "source": [
        "# Making the prediction after manually tweaking the value \n",
        "preds = linear1(train_x)\n",
        "\n",
        "((preds > 0.0).float() == train_y).float().mean().item()"
      ],
      "execution_count": 166,
      "outputs": [
        {
          "output_type": "execute_result",
          "data": {
            "text/plain": [
              "0.5375927686691284"
            ]
          },
          "metadata": {
            "tags": []
          },
          "execution_count": 166
        }
      ]
    },
    {
      "cell_type": "markdown",
      "metadata": {
        "id": "02x4ogu2MYAJ"
      },
      "source": [
        "If we are going to use accuracy as an performance metric the slight changes in the weight won't make a difference in the loss function. \n",
        "\n",
        "So we need a metrics where little changes on the weight matrice should make a impact on the loss function. \n",
        "\n",
        "> We need a loss function that when our weights result in slightly better predictions, gives us a slightly better loss.\n",
        "\n",
        "The only thing our model will do is, given a number predicts it whether an 3 or not. if it's not 3 then it has to be 7. \n",
        "\n",
        "\n"
      ]
    },
    {
      "cell_type": "code",
      "metadata": {
        "id": "7Vq14I66IdpU"
      },
      "source": [
        "# Calculating the loss \n",
        "trgts = tensor([1 , 0 , 1])\n",
        "prds = tensor([0.9 , 0.4 , 0.2])\n",
        "\n",
        "# Creating our own loss function \n",
        "def mnist_loss(predictions , targets):\n",
        "  return torch.where(targets == 1 , 1 - predictions , predictions).mean()"
      ],
      "execution_count": 167,
      "outputs": []
    },
    {
      "cell_type": "code",
      "metadata": {
        "colab": {
          "base_uri": "https://localhost:8080/"
        },
        "id": "nRvyTYJ2M_2a",
        "outputId": "31b52d79-428a-4d0b-ec71-901d9c1d9dff"
      },
      "source": [
        "mnist_loss(prds , trgts)"
      ],
      "execution_count": 168,
      "outputs": [
        {
          "output_type": "execute_result",
          "data": {
            "text/plain": [
              "tensor(0.4333)"
            ]
          },
          "metadata": {
            "tags": []
          },
          "execution_count": 168
        }
      ]
    },
    {
      "cell_type": "code",
      "metadata": {
        "id": "WTGqhz2PO9Ni"
      },
      "source": [
        "# Importing utils from the fastbook \n",
        "\n",
        "#!pip install -q fastbook \n",
        "#from fastbook import *"
      ],
      "execution_count": 169,
      "outputs": []
    },
    {
      "cell_type": "code",
      "metadata": {
        "colab": {
          "base_uri": "https://localhost:8080/",
          "height": 285
        },
        "id": "-9BKCgYZNeLe",
        "outputId": "708649bf-2df1-4197-debc-5abef54e956b"
      },
      "source": [
        "# Example of sigmoid from Pytorch function\n",
        "\n",
        "plot_function(torch.sigmoid , title='Sigmoid' , min=-4 , max=4)"
      ],
      "execution_count": 170,
      "outputs": [
        {
          "output_type": "display_data",
          "data": {
            "image/png": "[encoded data removed]",
            "text/plain": [
              "<Figure size 432x288 with 1 Axes>"
            ]
          },
          "metadata": {
            "tags": [],
            "needs_background": "light"
          }
        }
      ]
    },
    {
      "cell_type": "markdown",
      "metadata": {
        "id": "0CEUFMyRN0EQ"
      },
      "source": [
        "Sigmoid function squeezes the values between the range 0 and 1."
      ]
    },
    {
      "cell_type": "code",
      "metadata": {
        "id": "DoG0tkS_Omkl"
      },
      "source": [
        "# Updating our above mnist_loss with a sigmoid function \n",
        "def mnist_loss(predictions, targets):\n",
        "  return torch.where(targets == 1 , 1-predictions ,predictions).mean()"
      ],
      "execution_count": 171,
      "outputs": []
    },
    {
      "cell_type": "markdown",
      "metadata": {
        "id": "nJkuVbkXPnw8"
      },
      "source": [
        "metric --> For human understanding \n",
        "loss --> For automatic updation (machine's metric to improve the performance of our model)\n",
        "\n",
        "The loss function is calculated for each item in our dataset, and then at the end of an epoch, the loss values are all averaged and the overall mean is reported for the epoch.\n",
        "\n",
        "Metrics on other hand are the numbers we care about and these are the values which are printed at end of each epoch that tells us how our model is doing.\n",
        "\n",
        "\n",
        "### SGD and Mini-Batches \n",
        "\n",
        "Now in here we will try to automate most of the parts. \n",
        "\n",
        "- Batching a handful items into a seperate mini-batches and making computations on those mini-batches rather than computing on the whole dataset / items.\n",
        "-Choosing a good batch size is one of the decisions one need to make a deep learning practitioner to train the model quickly and accurately.\n",
        "- The important reason for having mini-batches is it could run on GPU, so the computations takes place even more faster. \n",
        "\n",
        "\n",
        "Before putting our data into batches, \n",
        "- We gotta randomly shuffle the data. \n",
        "\n",
        "\n",
        "- it prevents any bias during the training\n",
        "- it prevents the model from learning the order of the training\n",
        "- it helps the training converge fast\n",
        "\n",
        "https://stats.stackexchange.com/questions/245502/why-should-we-shuffle-data-while-training-a-neural-network\n",
        "\n",
        "\n",
        "\n",
        "\n"
      ]
    },
    {
      "cell_type": "markdown",
      "metadata": {
        "id": "p-fC_h4zQB9K"
      },
      "source": [
        "#### DataLoader\n",
        "\n",
        "A `DataLoader` can take any Python collection and turn it into a iterator (generator) over many batches. "
      ]
    },
    {
      "cell_type": "code",
      "metadata": {
        "colab": {
          "base_uri": "https://localhost:8080/"
        },
        "id": "IWuKgzl7WUNx",
        "outputId": "1b47902e-12e3-4f43-dfcb-0353e7b5ddb7"
      },
      "source": [
        "# Sample DataLoader \n",
        "\n",
        "coll = range(20) \n",
        "dls = DataLoader(coll , batch_size = 5 , shuffle = True)\n",
        "list(dls)"
      ],
      "execution_count": 172,
      "outputs": [
        {
          "output_type": "execute_result",
          "data": {
            "text/plain": [
              "[tensor([ 8,  2,  5, 12, 14]),\n",
              " tensor([ 7, 19, 17,  1, 18]),\n",
              " tensor([ 0, 16,  6, 13, 10]),\n",
              " tensor([11,  9, 15,  3,  4])]"
            ]
          },
          "metadata": {
            "tags": []
          },
          "execution_count": 172
        }
      ]
    },
    {
      "cell_type": "markdown",
      "metadata": {
        "id": "nXmsaDI_WvG1"
      },
      "source": [
        "`Dataset` --> Contains collection of both independent and dependent variable. "
      ]
    },
    {
      "cell_type": "code",
      "metadata": {
        "colab": {
          "base_uri": "https://localhost:8080/"
        },
        "id": "WKtlvhsTXArd",
        "outputId": "1c0277ff-a859-4440-9009-8b77a898f553"
      },
      "source": [
        "# Example of Dataset \n",
        "ds = L(enumerate(string.ascii_lowercase))\n",
        "ds"
      ],
      "execution_count": 173,
      "outputs": [
        {
          "output_type": "execute_result",
          "data": {
            "text/plain": [
              "(#26) [(0, 'a'),(1, 'b'),(2, 'c'),(3, 'd'),(4, 'e'),(5, 'f'),(6, 'g'),(7, 'h'),(8, 'i'),(9, 'j')...]"
            ]
          },
          "metadata": {
            "tags": []
          },
          "execution_count": 173
        }
      ]
    },
    {
      "cell_type": "markdown",
      "metadata": {
        "id": "WXxFDBstXKpK"
      },
      "source": [
        "In practice, we pass a `Dataset` to a `DataLoader` and it returns batches of independent and dependent variables."
      ]
    },
    {
      "cell_type": "markdown",
      "metadata": {
        "id": "081C7xmRXZFh"
      },
      "source": [
        "### Putting it all together \n",
        "\n",
        "- Initialize the parameters \n",
        "- Making a prediction \n",
        "- Depending upon my prediction, will calculate my loss function.\n",
        "- Call our good friend gradients, activate the gradients of our weights. Gradients helps in updating the parameters.\n",
        "- We are going to perform to step, where we will multiply our learning with our weight gradients. \n",
        "- We will train this for our desired epochs. \n"
      ]
    },
    {
      "cell_type": "code",
      "metadata": {
        "id": "xlhLm6EOY8g8"
      },
      "source": [
        "# re-initializing the parameters \n",
        "weights = init_params((28*28 , 1))\n",
        "bias = init_params(1)\n"
      ],
      "execution_count": 174,
      "outputs": []
    },
    {
      "cell_type": "code",
      "metadata": {
        "colab": {
          "base_uri": "https://localhost:8080/"
        },
        "id": "hmmdglZWcqAe",
        "outputId": "f1420fee-0efe-43b2-ba90-90488d34eac9"
      },
      "source": [
        "# Constructing our DataLoader \n",
        "dl = DataLoader(dset , batch_size= 256)\n",
        "# Slicing off first mini-batch\n",
        "xb , yb = first(dl)\n",
        "\n",
        "# Checking the shape \n",
        "xb.shape , yb.shape"
      ],
      "execution_count": 175,
      "outputs": [
        {
          "output_type": "execute_result",
          "data": {
            "text/plain": [
              "(torch.Size([256, 784]), torch.Size([256, 1]))"
            ]
          },
          "metadata": {
            "tags": []
          },
          "execution_count": 175
        }
      ]
    },
    {
      "cell_type": "code",
      "metadata": {
        "id": "GebvSZW6dTO_"
      },
      "source": [
        "# Doing the same for validaton set \n",
        "valid_dl = DataLoader(valid_dset , batch_size = 256)"
      ],
      "execution_count": 176,
      "outputs": []
    },
    {
      "cell_type": "code",
      "metadata": {
        "colab": {
          "base_uri": "https://localhost:8080/"
        },
        "id": "jOsVsZsMdg5H",
        "outputId": "f5475659-4d49-434c-f1bf-acde0a79e16e"
      },
      "source": [
        "# Create the mini-batch of size 4 \n",
        "batch = train_x[:4]\n",
        "batch.shape"
      ],
      "execution_count": 177,
      "outputs": [
        {
          "output_type": "execute_result",
          "data": {
            "text/plain": [
              "torch.Size([4, 784])"
            ]
          },
          "metadata": {
            "tags": []
          },
          "execution_count": 177
        }
      ]
    },
    {
      "cell_type": "code",
      "metadata": {
        "colab": {
          "base_uri": "https://localhost:8080/"
        },
        "id": "QCK__wf0dsE-",
        "outputId": "bfc0cd9b-07b8-4f33-911e-bb174be9d7fe"
      },
      "source": [
        "# Making predictions on our sample batch \n",
        "preds = linear1(batch)\n",
        "preds\n"
      ],
      "execution_count": 178,
      "outputs": [
        {
          "output_type": "execute_result",
          "data": {
            "text/plain": [
              "tensor([[ -7.9686],\n",
              "        [ -5.4528],\n",
              "        [ -9.0583],\n",
              "        [-16.6391]], grad_fn=<AddBackward0>)"
            ]
          },
          "metadata": {
            "tags": []
          },
          "execution_count": 178
        }
      ]
    },
    {
      "cell_type": "code",
      "metadata": {
        "colab": {
          "base_uri": "https://localhost:8080/"
        },
        "id": "8GunWe6ce_0A",
        "outputId": "8b44085b-e6a7-4506-82f6-6c9c93b3ad6d"
      },
      "source": [
        "# Labels \n",
        "train_y[:4]"
      ],
      "execution_count": 179,
      "outputs": [
        {
          "output_type": "execute_result",
          "data": {
            "text/plain": [
              "tensor([[1],\n",
              "        [1],\n",
              "        [1],\n",
              "        [1]])"
            ]
          },
          "metadata": {
            "tags": []
          },
          "execution_count": 179
        }
      ]
    },
    {
      "cell_type": "code",
      "metadata": {
        "colab": {
          "base_uri": "https://localhost:8080/"
        },
        "id": "VDK5ma6EdtQ-",
        "outputId": "7167ad1e-a441-4047-dfba-0fa31bfd9b84"
      },
      "source": [
        "# Calculating the loss \n",
        "loss = mnist_loss(preds , train_y[:4])\n",
        "loss "
      ],
      "execution_count": 180,
      "outputs": [
        {
          "output_type": "execute_result",
          "data": {
            "text/plain": [
              "tensor(10.7797, grad_fn=<MeanBackward0>)"
            ]
          },
          "metadata": {
            "tags": []
          },
          "execution_count": 180
        }
      ]
    },
    {
      "cell_type": "code",
      "metadata": {
        "colab": {
          "base_uri": "https://localhost:8080/"
        },
        "id": "Avt9NCs8fHRJ",
        "outputId": "b2c83f17-2715-4874-f045-3d9fc6342281"
      },
      "source": [
        "# Now calculating the gradients \n",
        "loss.backward()\n",
        "print(f'Shape of weight calculated: {weights.grad.shape}')\n",
        "print(f'Turning into a single tensor: {weights.grad.mean()}')\n",
        "print(f'Bias: {bias.grad}')"
      ],
      "execution_count": 181,
      "outputs": [
        {
          "output_type": "stream",
          "text": [
            "Shape of weight calculated: torch.Size([784, 1])\n",
            "Turning into a single tensor: -0.15112045407295227\n",
            "Bias: tensor([-1.])\n"
          ],
          "name": "stdout"
        }
      ]
    },
    {
      "cell_type": "code",
      "metadata": {
        "id": "8786Y4q9ftRv"
      },
      "source": [
        "# Putting altogether in a function \n",
        "def calc_grad(xb , yb , model):\n",
        "  '''\n",
        "  xb --> mini-batched training set \n",
        "  yb --> mini-batched test set \n",
        "  model --> the model we want to use \n",
        "  '''\n",
        "  # Making a prediction \n",
        "  preds = model(xb) \n",
        "  # Calculating the loss\n",
        "  loss = mnist_loss(preds , yb)\n",
        "  # Activating the gradients (for updating our weights)\n",
        "  loss.backward() \n",
        "  \n"
      ],
      "execution_count": 204,
      "outputs": []
    },
    {
      "cell_type": "code",
      "metadata": {
        "colab": {
          "base_uri": "https://localhost:8080/"
        },
        "id": "FRHr0Eykhd2G",
        "outputId": "84825f62-c0f2-4436-aabf-493023864ad7"
      },
      "source": [
        "# Testing the above function \n",
        "calc_grad(batch , train_y[:4] , linear1)\n",
        "\n",
        "# Below are the weights and biases after calculating the gradients above \n",
        "weights.grad.mean() , bias.grad"
      ],
      "execution_count": 205,
      "outputs": [
        {
          "output_type": "execute_result",
          "data": {
            "text/plain": [
              "(tensor(-0.7438), tensor([-5.]))"
            ]
          },
          "metadata": {
            "tags": []
          },
          "execution_count": 205
        }
      ]
    },
    {
      "cell_type": "code",
      "metadata": {
        "colab": {
          "base_uri": "https://localhost:8080/"
        },
        "id": "HdrwVulNhz1g",
        "outputId": "af991e26-124f-40ec-f335-74ecf8ccad79"
      },
      "source": [
        "# Calling it another time\n",
        "calc_grad(batch , train_y[:4] , linear1)\n",
        "\n",
        "# Below are wts and biases\n",
        "weights.grad.mean() , bias.grad"
      ],
      "execution_count": 206,
      "outputs": [
        {
          "output_type": "execute_result",
          "data": {
            "text/plain": [
              "(tensor(-0.8949), tensor([-6.]))"
            ]
          },
          "metadata": {
            "tags": []
          },
          "execution_count": 206
        }
      ]
    },
    {
      "cell_type": "code",
      "metadata": {
        "colab": {
          "base_uri": "https://localhost:8080/"
        },
        "id": "M9gtJ5AeiCgB",
        "outputId": "37de702c-2cb0-4343-f230-33feb8c44a80"
      },
      "source": [
        "# Making the gradients to zero, so it won't affect the previous computer gradients \n",
        "weights.grad.zero_()\n",
        "bias.grad.zero_()"
      ],
      "execution_count": 185,
      "outputs": [
        {
          "output_type": "execute_result",
          "data": {
            "text/plain": [
              "tensor([0.])"
            ]
          },
          "metadata": {
            "tags": []
          },
          "execution_count": 185
        }
      ]
    },
    {
      "cell_type": "code",
      "metadata": {
        "id": "-c3E362GifK7",
        "colab": {
          "base_uri": "https://localhost:8080/"
        },
        "outputId": "6e649c60-6bb4-4113-f536-2e402fcfc55e"
      },
      "source": [
        "# Now it won't add with the previous gradients (because we set it to zero)\n",
        "# Calling it another time\n",
        "calc_grad(batch , train_y[:4] , linear1)\n",
        "\n",
        "# Below are wts and biases\n",
        "weights.grad.mean() , bias.grad"
      ],
      "execution_count": 186,
      "outputs": [
        {
          "output_type": "execute_result",
          "data": {
            "text/plain": [
              "(tensor(-0.1511), tensor([-1.]))"
            ]
          },
          "metadata": {
            "tags": []
          },
          "execution_count": 186
        }
      ]
    },
    {
      "cell_type": "markdown",
      "metadata": {
        "id": "ddXL62BLctYP"
      },
      "source": [
        "Awesome! So we have one remaining step, that is to update the weights and biases (parameters) on the gradient and the learnin rate. \n",
        "\n",
        "We set the gradients to zero to avoid the confusion when we try to compute the derivative to the next batch. \n",
        "\n",
        "It's time now to calculate the accuracy, to decide if an output represent a 3 or 7,\n",
        "- if it's greater than 0, then it's 7 \n",
        "- if it's less than 0, then it's 3 \n",
        "\n",
        "Now the updated function trains a model with the learning rate. "
      ]
    },
    {
      "cell_type": "code",
      "metadata": {
        "id": "-GMmFdKhfmrS"
      },
      "source": [
        "# It will have a step function and runs for one epoch \n",
        "def train_epoch(model , lr , params):\n",
        "  # Training loop\n",
        "  for xb , yb in dl:\n",
        "    calc_grad(xb , yb , model)\n",
        "    for p in params:\n",
        "      p.data  -= p.grad*lr\n",
        "      p.grad.zero_()"
      ],
      "execution_count": 202,
      "outputs": []
    },
    {
      "cell_type": "markdown",
      "metadata": {
        "id": "zGFnMzNW1PLc"
      },
      "source": [
        "Important Links \n",
        "- https://discuss.pytorch.org/t/when-grad-is-none/4466\n",
        "- https://forums.fast.ai/t/autograd-does-not-appear-to-be-setting-gradient-lesson-4-04-mnist-basics-ipynb/82358"
      ]
    },
    {
      "cell_type": "code",
      "metadata": {
        "id": "y557GoFRtgT-"
      },
      "source": [
        "#train_epoch(linear1 , lr , params)"
      ],
      "execution_count": 213,
      "outputs": []
    },
    {
      "cell_type": "code",
      "metadata": {
        "colab": {
          "base_uri": "https://localhost:8080/"
        },
        "id": "SJAPuNi-g-1i",
        "outputId": "9648bb52-ac06-4d03-857d-aeed24d0308c"
      },
      "source": [
        "(preds > 0.0).float() == train_y[:4]"
      ],
      "execution_count": 188,
      "outputs": [
        {
          "output_type": "execute_result",
          "data": {
            "text/plain": [
              "tensor([[False],\n",
              "        [False],\n",
              "        [False],\n",
              "        [False]])"
            ]
          },
          "metadata": {
            "tags": []
          },
          "execution_count": 188
        }
      ]
    },
    {
      "cell_type": "markdown",
      "metadata": {
        "id": "sWG_A0KGhC5Z"
      },
      "source": [
        "Now we are creating a function that would calculate the accuracy from our x and y data batches. "
      ]
    },
    {
      "cell_type": "code",
      "metadata": {
        "id": "7nTIsMFniU2I"
      },
      "source": [
        "# Function to calculate the accuracy \n",
        "def batch_accuracy(xb , yb):\n",
        "  '''\n",
        "  xb --> input data with multiplied weights [model(xb)] \n",
        "  yb --> targets\n",
        "  '''\n",
        "  preds = xb.sigmoid()\n",
        "  # Returns True (or) False\n",
        "  correct = (preds > 0.5) == yb\n",
        "  # Converting into 0s and 1s\n",
        "  return correct.float().mean()"
      ],
      "execution_count": 189,
      "outputs": []
    },
    {
      "cell_type": "code",
      "metadata": {
        "colab": {
          "base_uri": "https://localhost:8080/"
        },
        "id": "TFLvTxsci32n",
        "outputId": "c8d8e807-de6b-47d7-d68d-c1b14bd87bc7"
      },
      "source": [
        "# Using the above function we've made \n",
        "print(f'We got the accuracy of: {batch_accuracy(linear1(batch) , train_y[:4])}')"
      ],
      "execution_count": 190,
      "outputs": [
        {
          "output_type": "stream",
          "text": [
            "We got the accuracy of: 0.0\n"
          ],
          "name": "stdout"
        }
      ]
    },
    {
      "cell_type": "markdown",
      "metadata": {
        "id": "5KS4XP31jbNq"
      },
      "source": [
        "Great our function works, to make it more sense let's make our model to make predictions on a validation set and calculate accuracy from there. "
      ]
    },
    {
      "cell_type": "code",
      "metadata": {
        "id": "kDw_WcE1jnjO"
      },
      "source": [
        "# Calculate accuracy on our validation set \n",
        "def validate_epoch(model):\n",
        "  '''\n",
        "  model --> Input your model (linear1)\n",
        "  This function will calculate the accuracy on a validation dataloader \n",
        "  '''\n",
        "  accs = [batch_accuracy(model(xb) , yb) for xb , yb in valid_dl]\n",
        "  return round(torch.stack(accs).mean().item() , 4)"
      ],
      "execution_count": 231,
      "outputs": []
    },
    {
      "cell_type": "code",
      "metadata": {
        "colab": {
          "base_uri": "https://localhost:8080/"
        },
        "id": "vEysM8eujpKu",
        "outputId": "84f768b7-11c9-444f-f86b-9b35cc3df481"
      },
      "source": [
        "ac = [batch_accuracy(linear1(batch) , train_y[:4]) for xb , yb in valid_dl]\n",
        "ac"
      ],
      "execution_count": 192,
      "outputs": [
        {
          "output_type": "execute_result",
          "data": {
            "text/plain": [
              "[tensor(0.),\n",
              " tensor(0.),\n",
              " tensor(0.),\n",
              " tensor(0.),\n",
              " tensor(0.),\n",
              " tensor(0.),\n",
              " tensor(0.),\n",
              " tensor(0.)]"
            ]
          },
          "metadata": {
            "tags": []
          },
          "execution_count": 192
        }
      ]
    },
    {
      "cell_type": "code",
      "metadata": {
        "id": "qe9_qUU-ouCE",
        "outputId": "d9c861c6-e34f-4edf-9ca8-c28292987ffc",
        "colab": {
          "base_uri": "https://localhost:8080/"
        }
      },
      "source": [
        "round(torch.stack(ac).mean().item() , 4)"
      ],
      "execution_count": 193,
      "outputs": [
        {
          "output_type": "execute_result",
          "data": {
            "text/plain": [
              "0.0"
            ]
          },
          "metadata": {
            "tags": []
          },
          "execution_count": 193
        }
      ]
    },
    {
      "cell_type": "code",
      "metadata": {
        "id": "sN0aMKNCoyLK",
        "outputId": "c40832a3-8373-4080-c6fa-e2dc9bca5df3",
        "colab": {
          "base_uri": "https://localhost:8080/"
        }
      },
      "source": [
        "# Testing the above function                                                         \n",
        "validate_epoch(linear1)\n"
      ],
      "execution_count": 194,
      "outputs": [
        {
          "output_type": "execute_result",
          "data": {
            "text/plain": [
              "0"
            ]
          },
          "metadata": {
            "tags": []
          },
          "execution_count": 194
        }
      ]
    },
    {
      "cell_type": "code",
      "metadata": {
        "id": "cSQWFfpNyhsQ",
        "outputId": "fb660cf1-32f0-4740-9383-c4e27c2986b7",
        "colab": {
          "base_uri": "https://localhost:8080/"
        }
      },
      "source": [
        "def init_params(size, variance=1.0): \n",
        "  return (torch.randn(size, dtype=torch.float)*variance).requires_grad_()\n",
        "\n",
        "weights = init_params(size = ((28*28) ,1))\n",
        "bias = init_params(1)\n",
        "weights.shape , bias.shape\n",
        "\n"
      ],
      "execution_count": 234,
      "outputs": [
        {
          "output_type": "execute_result",
          "data": {
            "text/plain": [
              "(torch.Size([784, 1]), torch.Size([1]))"
            ]
          },
          "metadata": {
            "tags": []
          },
          "execution_count": 234
        }
      ]
    },
    {
      "cell_type": "code",
      "metadata": {
        "id": "Ml3w3pyNzCcG",
        "outputId": "7ef910fd-4be2-4eca-ca4a-bd975d56b825",
        "colab": {
          "base_uri": "https://localhost:8080/"
        }
      },
      "source": [
        "# Setting up the hyperparameters (testing for one epoch)\n",
        "params = weights,bias\n",
        "lr = 4e-3\n",
        "train_epoch(linear1 , lr , params)\n",
        "validate_epoch(linear1)"
      ],
      "execution_count": 235,
      "outputs": [
        {
          "output_type": "execute_result",
          "data": {
            "text/plain": [
              "0.3809"
            ]
          },
          "metadata": {
            "tags": []
          },
          "execution_count": 235
        }
      ]
    },
    {
      "cell_type": "code",
      "metadata": {
        "id": "0yme6ci1ryev",
        "outputId": "f76aa31c-ff77-46b7-ef8b-ac90d1ba4024",
        "colab": {
          "base_uri": "https://localhost:8080/"
        }
      },
      "source": [
        "# Using both functions and training our model for 10 epochs \n",
        "for i in range(10):\n",
        "  train_epoch(linear1 , lr , params)\n",
        "  print(f'The accuracy is: {validate_epoch(linear1)}\\n')"
      ],
      "execution_count": 236,
      "outputs": [
        {
          "output_type": "stream",
          "text": [
            "The accuracy is: 0.422\n",
            "\n",
            "The accuracy is: 0.4592\n",
            "\n",
            "The accuracy is: 0.5068\n",
            "\n",
            "The accuracy is: 0.5456\n",
            "\n",
            "The accuracy is: 0.5903\n",
            "\n",
            "The accuracy is: 0.6302\n",
            "\n",
            "The accuracy is: 0.6741\n",
            "\n",
            "The accuracy is: 0.6988\n",
            "\n",
            "The accuracy is: 0.7303\n",
            "\n",
            "The accuracy is: 0.7608\n",
            "\n"
          ],
          "name": "stdout"
        }
      ]
    },
    {
      "cell_type": "markdown",
      "metadata": {
        "id": "1NsfyRZms0e2"
      },
      "source": [
        "### Creating an Optimizer\n",
        "So now we will use the power of the optimizer and get rid of two steps that is, \n",
        "- Initializing the parameters \n",
        "- Calculating gradients \n",
        "\n",
        "\n"
      ]
    },
    {
      "cell_type": "code",
      "metadata": {
        "id": "yDd7qhRW6Ljv"
      },
      "source": [
        "# Creating the parametes by using pytorch's module\n",
        "import torch \n",
        "linear_model = nn.Linear((28*28) , 1)"
      ],
      "execution_count": 237,
      "outputs": []
    },
    {
      "cell_type": "code",
      "metadata": {
        "id": "bP63_zBt6XQu",
        "outputId": "02bbb0bc-db08-459b-a6a7-c538bc5f7659",
        "colab": {
          "base_uri": "https://localhost:8080/"
        }
      },
      "source": [
        "# Unpacking weights and biases \n",
        "w , b = linear_model.parameters()\n",
        "w.shape , b.shape"
      ],
      "execution_count": 238,
      "outputs": [
        {
          "output_type": "execute_result",
          "data": {
            "text/plain": [
              "(torch.Size([1, 784]), torch.Size([1]))"
            ]
          },
          "metadata": {
            "tags": []
          },
          "execution_count": 238
        }
      ]
    },
    {
      "cell_type": "code",
      "metadata": {
        "id": "NpIWvszk6v5C",
        "outputId": "b885eabf-b311-4481-fca0-147ae3a02022",
        "colab": {
          "base_uri": "https://localhost:8080/"
        }
      },
      "source": [
        "print(f'For Pytorch model the weights are : {w.shape}')\n",
        "print(f'For Pytorch model the bias are :{b.shape}')\n",
        "\n",
        "print('-------------------------  --------------------------')\n",
        "\n",
        "print(f'For our model the weights are :{weights.shape}')\n",
        "print(f'For our model the weights are :{bias.shape}')"
      ],
      "execution_count": 240,
      "outputs": [
        {
          "output_type": "stream",
          "text": [
            "For Pytorch model the weights are : torch.Size([1, 784])\n",
            "For Pytorch model the bias are :torch.Size([1])\n",
            "-------------------------  --------------------------\n",
            "For our model the weights are :torch.Size([784, 1])\n",
            "For our model the weights are :torch.Size([1])\n"
          ],
          "name": "stdout"
        }
      ]
    },
    {
      "cell_type": "markdown",
      "metadata": {
        "id": "ucGcgRy39W2C"
      },
      "source": [
        "> Setting the `p.grad = None` is gonna return 0 because there is no Null or None in C ++. "
      ]
    },
    {
      "cell_type": "code",
      "metadata": {
        "id": "AmGjxrKZ7cdb"
      },
      "source": [
        "# Creating an SGD optimizer\n",
        "lr = 1.\n",
        "opt = torch.optim.SGD(params = linear_model.parameters() ,\n",
        "                      lr = lr)"
      ],
      "execution_count": 242,
      "outputs": []
    },
    {
      "cell_type": "code",
      "metadata": {
        "id": "YRyVZQIY-bRW"
      },
      "source": [
        "def train_epoch(model):\n",
        "  for xb , yb in dl:\n",
        "    calc_grad(xb , yb , model)\n",
        "    opt.step()\n",
        "    opt.zero_grad()"
      ],
      "execution_count": 244,
      "outputs": []
    },
    {
      "cell_type": "code",
      "metadata": {
        "id": "q5_tHzEp-FnY"
      },
      "source": [
        "# Creating the train_model function \n",
        "def train_model(model , epochs):\n",
        "  for i in range(epochs):\n",
        "    train_epoch(model)\n",
        "    print(f'The accuracy is: {validate_epoch(model)}\\n')"
      ],
      "execution_count": 250,
      "outputs": []
    },
    {
      "cell_type": "code",
      "metadata": {
        "id": "PBtIFj7h-w7b",
        "outputId": "e2bbee43-35ca-4e02-ddae-348b73c58882",
        "colab": {
          "base_uri": "https://localhost:8080/"
        }
      },
      "source": [
        "train_model(linear_model , 20)"
      ],
      "execution_count": 251,
      "outputs": [
        {
          "output_type": "stream",
          "text": [
            "The accuracy is: 0.9533\n",
            "\n",
            "The accuracy is: 0.9533\n",
            "\n",
            "The accuracy is: 0.9533\n",
            "\n",
            "The accuracy is: 0.9533\n",
            "\n",
            "The accuracy is: 0.9533\n",
            "\n",
            "The accuracy is: 0.9533\n",
            "\n",
            "The accuracy is: 0.9533\n",
            "\n",
            "The accuracy is: 0.9533\n",
            "\n",
            "The accuracy is: 0.9533\n",
            "\n",
            "The accuracy is: 0.9533\n",
            "\n",
            "The accuracy is: 0.9533\n",
            "\n",
            "The accuracy is: 0.9533\n",
            "\n",
            "The accuracy is: 0.9533\n",
            "\n",
            "The accuracy is: 0.9533\n",
            "\n",
            "The accuracy is: 0.9533\n",
            "\n",
            "The accuracy is: 0.9533\n",
            "\n",
            "The accuracy is: 0.9533\n",
            "\n",
            "The accuracy is: 0.9533\n",
            "\n",
            "The accuracy is: 0.9533\n",
            "\n",
            "The accuracy is: 0.9533\n",
            "\n"
          ],
          "name": "stdout"
        }
      ]
    },
    {
      "cell_type": "markdown",
      "metadata": {
        "id": "5KECDDPj-8GW"
      },
      "source": [
        "Awesome so far, we managed to automate some of the stuffs we have been doing with the help of Pytorch. \n",
        "\n",
        "Now to automate the training process we are going to use Fastai's `Learner` class (train_model) \n",
        "\n",
        "To create a `Learner` we need a `DataLoaders`, and the `DataLoaders` containts both train and validation Dataloader. \n",
        "\n",
        "- `DataLoader` --> Create batches of the data and shuffles it. \n",
        "- `DataLoaders` --> Combines two DataLoader into one whole. \n",
        "\n",
        "**`Learner`** takes, \n",
        "- a `DataLoaders`\n",
        "- the model \n",
        "- optimization function \n",
        "- Loss function \n",
        "- metrics \n",
        "\n",
        "Important Links:\n",
        "- https://forums.fast.ai/t/core-usage-of-datablock-and-dataloader/69051/2\n",
        "- https://forums.fast.ai/t/combining-dataloaders/79549\n",
        "- https://forums.fast.ai/t/custom-dataset-and-dataloader-for-learner/81408"
      ]
    },
    {
      "cell_type": "code",
      "metadata": {
        "id": "FUJp9fRuA1KD"
      },
      "source": [
        "# Creating our DataLoaders \n",
        "dls = DataLoaders(dl , valid_dl)\n"
      ],
      "execution_count": 252,
      "outputs": []
    },
    {
      "cell_type": "code",
      "metadata": {
        "id": "L5mdvPAyBtjv"
      },
      "source": [
        "# Creating a learner \n",
        "learn = Learner(dls , \n",
        "                model = nn.Linear(28*28 , 1) , \n",
        "                opt_func = SGD, \n",
        "                loss_func = mnist_loss , \n",
        "                metrics = batch_accuracy)"
      ],
      "execution_count": 257,
      "outputs": []
    },
    {
      "cell_type": "code",
      "metadata": {
        "id": "KBGgeTMKCB0n",
        "outputId": "e765d83a-5ce6-48ed-aebf-74094a47dcc6",
        "colab": {
          "base_uri": "https://localhost:8080/",
          "height": 359
        }
      },
      "source": [
        "# Now training our learner for 10 epochs \n",
        "lr = 1e-4\n",
        "learn.fit(10 , lr = lr)"
      ],
      "execution_count": 258,
      "outputs": [
        {
          "output_type": "display_data",
          "data": {
            "text/html": [
              "<table border=\"1\" class=\"dataframe\">\n",
              "  <thead>\n",
              "    <tr style=\"text-align: left;\">\n",
              "      <th>epoch</th>\n",
              "      <th>train_loss</th>\n",
              "      <th>valid_loss</th>\n",
              "      <th>batch_accuracy</th>\n",
              "      <th>time</th>\n",
              "    </tr>\n",
              "  </thead>\n",
              "  <tbody>\n",
              "    <tr>\n",
              "      <td>0</td>\n",
              "      <td>0.334221</td>\n",
              "      <td>0.483747</td>\n",
              "      <td>0.503435</td>\n",
              "      <td>00:00</td>\n",
              "    </tr>\n",
              "    <tr>\n",
              "      <td>1</td>\n",
              "      <td>0.311584</td>\n",
              "      <td>0.450115</td>\n",
              "      <td>0.558881</td>\n",
              "      <td>00:00</td>\n",
              "    </tr>\n",
              "    <tr>\n",
              "      <td>2</td>\n",
              "      <td>0.285445</td>\n",
              "      <td>0.416484</td>\n",
              "      <td>0.629539</td>\n",
              "      <td>00:00</td>\n",
              "    </tr>\n",
              "    <tr>\n",
              "      <td>3</td>\n",
              "      <td>0.257020</td>\n",
              "      <td>0.382852</td>\n",
              "      <td>0.710010</td>\n",
              "      <td>00:00</td>\n",
              "    </tr>\n",
              "    <tr>\n",
              "      <td>4</td>\n",
              "      <td>0.227277</td>\n",
              "      <td>0.349220</td>\n",
              "      <td>0.770363</td>\n",
              "      <td>00:00</td>\n",
              "    </tr>\n",
              "    <tr>\n",
              "      <td>5</td>\n",
              "      <td>0.196844</td>\n",
              "      <td>0.315589</td>\n",
              "      <td>0.820412</td>\n",
              "      <td>00:00</td>\n",
              "    </tr>\n",
              "    <tr>\n",
              "      <td>6</td>\n",
              "      <td>0.166073</td>\n",
              "      <td>0.281957</td>\n",
              "      <td>0.859666</td>\n",
              "      <td>00:00</td>\n",
              "    </tr>\n",
              "    <tr>\n",
              "      <td>7</td>\n",
              "      <td>0.135146</td>\n",
              "      <td>0.248325</td>\n",
              "      <td>0.889107</td>\n",
              "      <td>00:00</td>\n",
              "    </tr>\n",
              "    <tr>\n",
              "      <td>8</td>\n",
              "      <td>0.104149</td>\n",
              "      <td>0.214693</td>\n",
              "      <td>0.903337</td>\n",
              "      <td>00:00</td>\n",
              "    </tr>\n",
              "    <tr>\n",
              "      <td>9</td>\n",
              "      <td>0.073122</td>\n",
              "      <td>0.181062</td>\n",
              "      <td>0.919038</td>\n",
              "      <td>00:00</td>\n",
              "    </tr>\n",
              "  </tbody>\n",
              "</table>"
            ],
            "text/plain": [
              "<IPython.core.display.HTML object>"
            ]
          },
          "metadata": {
            "tags": []
          }
        }
      ]
    },
    {
      "cell_type": "markdown",
      "metadata": {
        "id": "zOtYimrlCLjt"
      },
      "source": [
        "### Adding a Non-linearity \n",
        "\n",
        "So far we've been dealing with a simple linear classifier, but now we need something a bit more flexible enough to learn patterns in a complex task. "
      ]
    },
    {
      "cell_type": "code",
      "metadata": {
        "id": "W1IPFOi1DJFn"
      },
      "source": [
        "# Constructing a basic neural net \n",
        "def simple_net(xb):\n",
        "  # Linear function\n",
        "  res = xb@w1 + b1 \n",
        "  # Relu function\n",
        "  res = res.max(tensor(0.0))\n",
        "  # Linear function \n",
        "  res = res@w2 + b2\n",
        "  return res\n"
      ],
      "execution_count": 259,
      "outputs": []
    },
    {
      "cell_type": "code",
      "metadata": {
        "id": "DltFAEhIDqza"
      },
      "source": [
        "# Now we gotta initialize the parameters \n",
        "w1 = init_params((28 * 28) , 30)\n",
        "w2 = init_params(30 , 1)\n",
        "b1 = init_params(30)\n",
        "b2 = init_params(1)"
      ],
      "execution_count": 260,
      "outputs": []
    },
    {
      "cell_type": "markdown",
      "metadata": {
        "id": "9wYrHlMmEBRU"
      },
      "source": [
        "In the above, `w1` has 30 output activations which means `w2` must have 30 input activations, so they match.\n",
        "\n",
        "The function `res.max(tensor(0.0))` is called as rectified linear unit, also known as `ReLU`. All it does is replace negative number with a zero. We can use it by `F.relu` in Pytorch."
      ]
    },
    {
      "cell_type": "code",
      "metadata": {
        "id": "B2tzlO0cESLS",
        "outputId": "a297bcc7-5811-4d3b-805c-119a47680fcf",
        "colab": {
          "base_uri": "https://localhost:8080/",
          "height": 268
        }
      },
      "source": [
        "# Plotting a relu function \n",
        "plot_function(F.relu)"
      ],
      "execution_count": 262,
      "outputs": [
        {
          "output_type": "display_data",
          "data": {
            "image/png": "[encoded data removed]",
            "text/plain": [
              "<Figure size 432x288 with 1 Axes>"
            ]
          },
          "metadata": {
            "tags": [],
            "needs_background": "light"
          }
        }
      ]
    },
    {
      "cell_type": "markdown",
      "metadata": {
        "id": "IWpMX-FyGI4h"
      },
      "source": [
        "#### Why there is a need for non-linear layers? \n",
        "\n",
        "- There is no use of stacking up more linear layer on after another. \n",
        "- Non-linear layers enables neural nets to learn making conditional decisions for controlling the computational flow. \n",
        "\n",
        "Important Links: \n",
        "- https://medium.com/swlh/why-are-neural-nets-non-linear-a46756c2d67f\n",
        "- https://forums.fast.ai/t/linear-vs-non-linear/1854\n"
      ]
    },
    {
      "cell_type": "code",
      "metadata": {
        "id": "RD_MckN-M2TS"
      },
      "source": [
        "# Using Pytorch writing a simple_net function \n",
        "\n",
        "simple_net = nn.Sequential(\n",
        "    nn.Linear(28*28 , 30), \n",
        "    nn.ReLU(), \n",
        "    nn.Linear(30 , 1)\n",
        ")"
      ],
      "execution_count": 265,
      "outputs": []
    },
    {
      "cell_type": "markdown",
      "metadata": {
        "id": "wbq8OO9nNQWP"
      },
      "source": [
        "The three lines of code that we have here are known as layers. \n",
        "\n",
        "The first and third layer known as **linear layers** and the 2nd layer known as **nonlinearity (or) activation function**\n",
        "\n",
        "Since `nn.Sequential` is a module, we can peek in the parameters of all modules it contains.\n",
        "\n",
        "And its a deeper model than we trained on before, so we will lower the learning rate and use few more epochs to balance.\n",
        "\n"
      ]
    },
    {
      "cell_type": "code",
      "metadata": {
        "id": "GEFGeG2GNofN",
        "outputId": "b2403e12-1875-4aaa-c11b-56532a974902",
        "colab": {
          "base_uri": "https://localhost:8080/",
          "height": 669
        }
      },
      "source": [
        "# Using our simple net model \n",
        "learn = Learner(dls , simple_net , \n",
        "                opt_func = Adam ,\n",
        "                loss_func = mnist_loss , \n",
        "                metrics = batch_accuracy)\n",
        "\n",
        "# Training for 20 epochs \n",
        "learn.fit(20 , 0.1)"
      ],
      "execution_count": 271,
      "outputs": [
        {
          "output_type": "display_data",
          "data": {
            "text/html": [
              "<table border=\"1\" class=\"dataframe\">\n",
              "  <thead>\n",
              "    <tr style=\"text-align: left;\">\n",
              "      <th>epoch</th>\n",
              "      <th>train_loss</th>\n",
              "      <th>valid_loss</th>\n",
              "      <th>batch_accuracy</th>\n",
              "      <th>time</th>\n",
              "    </tr>\n",
              "  </thead>\n",
              "  <tbody>\n",
              "    <tr>\n",
              "      <td>0</td>\n",
              "      <td>nan</td>\n",
              "      <td>nan</td>\n",
              "      <td>0.504416</td>\n",
              "      <td>00:00</td>\n",
              "    </tr>\n",
              "    <tr>\n",
              "      <td>1</td>\n",
              "      <td>nan</td>\n",
              "      <td>nan</td>\n",
              "      <td>0.504416</td>\n",
              "      <td>00:00</td>\n",
              "    </tr>\n",
              "    <tr>\n",
              "      <td>2</td>\n",
              "      <td>nan</td>\n",
              "      <td>nan</td>\n",
              "      <td>0.504416</td>\n",
              "      <td>00:00</td>\n",
              "    </tr>\n",
              "    <tr>\n",
              "      <td>3</td>\n",
              "      <td>nan</td>\n",
              "      <td>nan</td>\n",
              "      <td>0.504416</td>\n",
              "      <td>00:00</td>\n",
              "    </tr>\n",
              "    <tr>\n",
              "      <td>4</td>\n",
              "      <td>nan</td>\n",
              "      <td>nan</td>\n",
              "      <td>0.504416</td>\n",
              "      <td>00:00</td>\n",
              "    </tr>\n",
              "    <tr>\n",
              "      <td>5</td>\n",
              "      <td>nan</td>\n",
              "      <td>nan</td>\n",
              "      <td>0.504416</td>\n",
              "      <td>00:00</td>\n",
              "    </tr>\n",
              "    <tr>\n",
              "      <td>6</td>\n",
              "      <td>nan</td>\n",
              "      <td>nan</td>\n",
              "      <td>0.504416</td>\n",
              "      <td>00:00</td>\n",
              "    </tr>\n",
              "    <tr>\n",
              "      <td>7</td>\n",
              "      <td>nan</td>\n",
              "      <td>nan</td>\n",
              "      <td>0.504416</td>\n",
              "      <td>00:00</td>\n",
              "    </tr>\n",
              "    <tr>\n",
              "      <td>8</td>\n",
              "      <td>nan</td>\n",
              "      <td>nan</td>\n",
              "      <td>0.504416</td>\n",
              "      <td>00:00</td>\n",
              "    </tr>\n",
              "    <tr>\n",
              "      <td>9</td>\n",
              "      <td>nan</td>\n",
              "      <td>nan</td>\n",
              "      <td>0.504416</td>\n",
              "      <td>00:00</td>\n",
              "    </tr>\n",
              "    <tr>\n",
              "      <td>10</td>\n",
              "      <td>nan</td>\n",
              "      <td>nan</td>\n",
              "      <td>0.504416</td>\n",
              "      <td>00:00</td>\n",
              "    </tr>\n",
              "    <tr>\n",
              "      <td>11</td>\n",
              "      <td>nan</td>\n",
              "      <td>nan</td>\n",
              "      <td>0.504416</td>\n",
              "      <td>00:00</td>\n",
              "    </tr>\n",
              "    <tr>\n",
              "      <td>12</td>\n",
              "      <td>nan</td>\n",
              "      <td>nan</td>\n",
              "      <td>0.504416</td>\n",
              "      <td>00:00</td>\n",
              "    </tr>\n",
              "    <tr>\n",
              "      <td>13</td>\n",
              "      <td>nan</td>\n",
              "      <td>nan</td>\n",
              "      <td>0.504416</td>\n",
              "      <td>00:00</td>\n",
              "    </tr>\n",
              "    <tr>\n",
              "      <td>14</td>\n",
              "      <td>nan</td>\n",
              "      <td>nan</td>\n",
              "      <td>0.504416</td>\n",
              "      <td>00:00</td>\n",
              "    </tr>\n",
              "    <tr>\n",
              "      <td>15</td>\n",
              "      <td>nan</td>\n",
              "      <td>nan</td>\n",
              "      <td>0.504416</td>\n",
              "      <td>00:00</td>\n",
              "    </tr>\n",
              "    <tr>\n",
              "      <td>16</td>\n",
              "      <td>nan</td>\n",
              "      <td>nan</td>\n",
              "      <td>0.504416</td>\n",
              "      <td>00:00</td>\n",
              "    </tr>\n",
              "    <tr>\n",
              "      <td>17</td>\n",
              "      <td>nan</td>\n",
              "      <td>nan</td>\n",
              "      <td>0.504416</td>\n",
              "      <td>00:00</td>\n",
              "    </tr>\n",
              "    <tr>\n",
              "      <td>18</td>\n",
              "      <td>nan</td>\n",
              "      <td>nan</td>\n",
              "      <td>0.504416</td>\n",
              "      <td>00:00</td>\n",
              "    </tr>\n",
              "    <tr>\n",
              "      <td>19</td>\n",
              "      <td>nan</td>\n",
              "      <td>nan</td>\n",
              "      <td>0.504416</td>\n",
              "      <td>00:00</td>\n",
              "    </tr>\n",
              "  </tbody>\n",
              "</table>"
            ],
            "text/plain": [
              "<IPython.core.display.HTML object>"
            ]
          },
          "metadata": {
            "tags": []
          }
        }
      ]
    },
    {
      "cell_type": "markdown",
      "metadata": {
        "id": "TOgRUJV5Ow9g"
      },
      "source": [
        "About Deeper model\n",
        "\n",
        "For deeper model we don't need to use many parameters, it turns out that we can use smaller matrices, with more layers and get better results than we would get with larger matrices with just few layers.\n",
        "\n",
        "Neural network contains a lot of numbers, but they are only two types of numbers that are calculated and the parameters that these numbers are calculated from.\n",
        "\n",
        "**Activations**\n",
        "\n",
        "Numbers that are calculated both by linear and non - linearity.\n",
        "\n",
        "**Parameters**\n",
        "\n",
        "Numbers that are randomly initialized and optimized ( numbers that define the model).\n",
        "\n",
        "Part of becoming a good deep learning practitioner is getting used to the idea of looking at your activations and parameters, and plotting them and testing whether they are behaving correctly."
      ]
    },
    {
      "cell_type": "code",
      "metadata": {
        "id": "SapImuH9S7yL"
      },
      "source": [
        ""
      ],
      "execution_count": null,
      "outputs": []
    }
  ]
}