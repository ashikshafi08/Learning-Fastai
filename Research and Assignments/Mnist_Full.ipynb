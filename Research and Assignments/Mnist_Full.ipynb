{
  "nbformat": 4,
  "nbformat_minor": 0,
  "metadata": {
    "colab": {
      "name": "Mnist_Full.ipynb",
      "provenance": [],
      "authorship_tag": "ABX9TyPGNIAp3TTQ/j1ppeydbxg+",
      "include_colab_link": true
    },
    "kernelspec": {
      "name": "python3",
      "display_name": "Python 3"
    },
    "accelerator": "GPU"
  },
  "cells": [
    {
      "cell_type": "markdown",
      "metadata": {
        "id": "view-in-github",
        "colab_type": "text"
      },
      "source": [
        "<a href=\"https://colab.research.google.com/github/ashikshafi08/Learning-Fastai/blob/main/Research%20and%20Assignments/Mnist_Full.ipynb\" target=\"_parent\"><img src=\"https://colab.research.google.com/assets/colab-badge.svg\" alt=\"Open In Colab\"/></a>"
      ]
    },
    {
      "cell_type": "code",
      "metadata": {
        "colab": {
          "base_uri": "https://localhost:8080/"
        },
        "id": "bbUN4IphEJB_",
        "outputId": "a86bff68-781f-43e9-d9f2-3db86747474f"
      },
      "source": [
        "!pip install fastai --upgrade\n",
        "\n",
        "!pip install -Uqq fastbook\n",
        "import fastbook\n",
        "fastbook.setup_book()\n",
        "from fastbook import *"
      ],
      "execution_count": 1,
      "outputs": [
        {
          "output_type": "stream",
          "text": [
            "Collecting fastai\n",
            "\u001b[?25l  Downloading https://files.pythonhosted.org/packages/f3/09/36d4d472d0c953f5d931f4c415f715a909793e5d222af205f3e65c034da3/fastai-2.2.5-py3-none-any.whl (191kB)\n",
            "\r\u001b[K     |█▊                              | 10kB 25.9MB/s eta 0:00:01\r\u001b[K     |███▍                            | 20kB 31.8MB/s eta 0:00:01\r\u001b[K     |█████▏                          | 30kB 21.1MB/s eta 0:00:01\r\u001b[K     |██████▉                         | 40kB 16.6MB/s eta 0:00:01\r\u001b[K     |████████▋                       | 51kB 14.5MB/s eta 0:00:01\r\u001b[K     |██████████▎                     | 61kB 13.2MB/s eta 0:00:01\r\u001b[K     |████████████                    | 71kB 14.6MB/s eta 0:00:01\r\u001b[K     |█████████████▊                  | 81kB 14.5MB/s eta 0:00:01\r\u001b[K     |███████████████▍                | 92kB 13.4MB/s eta 0:00:01\r\u001b[K     |█████████████████▏              | 102kB 13.0MB/s eta 0:00:01\r\u001b[K     |██████████████████▉             | 112kB 13.0MB/s eta 0:00:01\r\u001b[K     |████████████████████▋           | 122kB 13.0MB/s eta 0:00:01\r\u001b[K     |██████████████████████▎         | 133kB 13.0MB/s eta 0:00:01\r\u001b[K     |████████████████████████        | 143kB 13.0MB/s eta 0:00:01\r\u001b[K     |█████████████████████████▊      | 153kB 13.0MB/s eta 0:00:01\r\u001b[K     |███████████████████████████▍    | 163kB 13.0MB/s eta 0:00:01\r\u001b[K     |█████████████████████████████▏  | 174kB 13.0MB/s eta 0:00:01\r\u001b[K     |██████████████████████████████▉ | 184kB 13.0MB/s eta 0:00:01\r\u001b[K     |████████████████████████████████| 194kB 13.0MB/s \n",
            "\u001b[?25hRequirement already satisfied, skipping upgrade: pillow>6.0.0 in /usr/local/lib/python3.6/dist-packages (from fastai) (7.0.0)\n",
            "Requirement already satisfied, skipping upgrade: packaging in /usr/local/lib/python3.6/dist-packages (from fastai) (20.8)\n",
            "Requirement already satisfied, skipping upgrade: pandas in /usr/local/lib/python3.6/dist-packages (from fastai) (1.1.5)\n",
            "Requirement already satisfied, skipping upgrade: scipy in /usr/local/lib/python3.6/dist-packages (from fastai) (1.4.1)\n",
            "Requirement already satisfied, skipping upgrade: torch<1.8,>=1.7.0 in /usr/local/lib/python3.6/dist-packages (from fastai) (1.7.0+cu101)\n",
            "Requirement already satisfied, skipping upgrade: torchvision<0.9,>=0.8 in /usr/local/lib/python3.6/dist-packages (from fastai) (0.8.1+cu101)\n",
            "Requirement already satisfied, skipping upgrade: matplotlib in /usr/local/lib/python3.6/dist-packages (from fastai) (3.2.2)\n",
            "Requirement already satisfied, skipping upgrade: fastprogress>=0.2.4 in /usr/local/lib/python3.6/dist-packages (from fastai) (1.0.0)\n",
            "Collecting fastcore<1.4,>=1.3.8\n",
            "\u001b[?25l  Downloading https://files.pythonhosted.org/packages/0c/98/60404e2817cff113a6ae4023bc1772e23179408fdf7857fa410551758dfe/fastcore-1.3.19-py3-none-any.whl (53kB)\n",
            "\u001b[K     |████████████████████████████████| 61kB 10.0MB/s \n",
            "\u001b[?25hRequirement already satisfied, skipping upgrade: pyyaml in /usr/local/lib/python3.6/dist-packages (from fastai) (3.13)\n",
            "Requirement already satisfied, skipping upgrade: scikit-learn in /usr/local/lib/python3.6/dist-packages (from fastai) (0.22.2.post1)\n",
            "Requirement already satisfied, skipping upgrade: pip in /usr/local/lib/python3.6/dist-packages (from fastai) (19.3.1)\n",
            "Requirement already satisfied, skipping upgrade: requests in /usr/local/lib/python3.6/dist-packages (from fastai) (2.23.0)\n",
            "Requirement already satisfied, skipping upgrade: spacy in /usr/local/lib/python3.6/dist-packages (from fastai) (2.2.4)\n",
            "Requirement already satisfied, skipping upgrade: pyparsing>=2.0.2 in /usr/local/lib/python3.6/dist-packages (from packaging->fastai) (2.4.7)\n",
            "Requirement already satisfied, skipping upgrade: numpy>=1.15.4 in /usr/local/lib/python3.6/dist-packages (from pandas->fastai) (1.19.5)\n",
            "Requirement already satisfied, skipping upgrade: python-dateutil>=2.7.3 in /usr/local/lib/python3.6/dist-packages (from pandas->fastai) (2.8.1)\n",
            "Requirement already satisfied, skipping upgrade: pytz>=2017.2 in /usr/local/lib/python3.6/dist-packages (from pandas->fastai) (2018.9)\n",
            "Requirement already satisfied, skipping upgrade: future in /usr/local/lib/python3.6/dist-packages (from torch<1.8,>=1.7.0->fastai) (0.16.0)\n",
            "Requirement already satisfied, skipping upgrade: dataclasses in /usr/local/lib/python3.6/dist-packages (from torch<1.8,>=1.7.0->fastai) (0.8)\n",
            "Requirement already satisfied, skipping upgrade: typing-extensions in /usr/local/lib/python3.6/dist-packages (from torch<1.8,>=1.7.0->fastai) (3.7.4.3)\n",
            "Requirement already satisfied, skipping upgrade: kiwisolver>=1.0.1 in /usr/local/lib/python3.6/dist-packages (from matplotlib->fastai) (1.3.1)\n",
            "Requirement already satisfied, skipping upgrade: cycler>=0.10 in /usr/local/lib/python3.6/dist-packages (from matplotlib->fastai) (0.10.0)\n",
            "Requirement already satisfied, skipping upgrade: joblib>=0.11 in /usr/local/lib/python3.6/dist-packages (from scikit-learn->fastai) (1.0.0)\n",
            "Requirement already satisfied, skipping upgrade: idna<3,>=2.5 in /usr/local/lib/python3.6/dist-packages (from requests->fastai) (2.10)\n",
            "Requirement already satisfied, skipping upgrade: urllib3!=1.25.0,!=1.25.1,<1.26,>=1.21.1 in /usr/local/lib/python3.6/dist-packages (from requests->fastai) (1.24.3)\n",
            "Requirement already satisfied, skipping upgrade: certifi>=2017.4.17 in /usr/local/lib/python3.6/dist-packages (from requests->fastai) (2020.12.5)\n",
            "Requirement already satisfied, skipping upgrade: chardet<4,>=3.0.2 in /usr/local/lib/python3.6/dist-packages (from requests->fastai) (3.0.4)\n",
            "Requirement already satisfied, skipping upgrade: murmurhash<1.1.0,>=0.28.0 in /usr/local/lib/python3.6/dist-packages (from spacy->fastai) (1.0.5)\n",
            "Requirement already satisfied, skipping upgrade: catalogue<1.1.0,>=0.0.7 in /usr/local/lib/python3.6/dist-packages (from spacy->fastai) (1.0.0)\n",
            "Requirement already satisfied, skipping upgrade: blis<0.5.0,>=0.4.0 in /usr/local/lib/python3.6/dist-packages (from spacy->fastai) (0.4.1)\n",
            "Requirement already satisfied, skipping upgrade: tqdm<5.0.0,>=4.38.0 in /usr/local/lib/python3.6/dist-packages (from spacy->fastai) (4.41.1)\n",
            "Requirement already satisfied, skipping upgrade: preshed<3.1.0,>=3.0.2 in /usr/local/lib/python3.6/dist-packages (from spacy->fastai) (3.0.5)\n",
            "Requirement already satisfied, skipping upgrade: plac<1.2.0,>=0.9.6 in /usr/local/lib/python3.6/dist-packages (from spacy->fastai) (1.1.3)\n",
            "Requirement already satisfied, skipping upgrade: cymem<2.1.0,>=2.0.2 in /usr/local/lib/python3.6/dist-packages (from spacy->fastai) (2.0.5)\n",
            "Requirement already satisfied, skipping upgrade: thinc==7.4.0 in /usr/local/lib/python3.6/dist-packages (from spacy->fastai) (7.4.0)\n",
            "Requirement already satisfied, skipping upgrade: wasabi<1.1.0,>=0.4.0 in /usr/local/lib/python3.6/dist-packages (from spacy->fastai) (0.8.0)\n",
            "Requirement already satisfied, skipping upgrade: srsly<1.1.0,>=1.0.2 in /usr/local/lib/python3.6/dist-packages (from spacy->fastai) (1.0.5)\n",
            "Requirement already satisfied, skipping upgrade: setuptools in /usr/local/lib/python3.6/dist-packages (from spacy->fastai) (51.3.3)\n",
            "Requirement already satisfied, skipping upgrade: six>=1.5 in /usr/local/lib/python3.6/dist-packages (from python-dateutil>=2.7.3->pandas->fastai) (1.15.0)\n",
            "Requirement already satisfied, skipping upgrade: importlib-metadata>=0.20; python_version < \"3.8\" in /usr/local/lib/python3.6/dist-packages (from catalogue<1.1.0,>=0.0.7->spacy->fastai) (3.3.0)\n",
            "Requirement already satisfied, skipping upgrade: zipp>=0.5 in /usr/local/lib/python3.6/dist-packages (from importlib-metadata>=0.20; python_version < \"3.8\"->catalogue<1.1.0,>=0.0.7->spacy->fastai) (3.4.0)\n",
            "Installing collected packages: fastcore, fastai\n",
            "  Found existing installation: fastai 1.0.61\n",
            "    Uninstalling fastai-1.0.61:\n",
            "      Successfully uninstalled fastai-1.0.61\n",
            "Successfully installed fastai-2.2.5 fastcore-1.3.19\n",
            "\u001b[K     |████████████████████████████████| 727kB 12.4MB/s \n",
            "\u001b[K     |████████████████████████████████| 51kB 9.9MB/s \n",
            "\u001b[K     |████████████████████████████████| 1.2MB 29.3MB/s \n",
            "\u001b[?25hMounted at /content/gdrive\n"
          ],
          "name": "stdout"
        }
      ]
    },
    {
      "cell_type": "code",
      "metadata": {
        "id": "eFkzPHSFEeVv"
      },
      "source": [
        "from fastai import *\n",
        "from fastai.vision.all import * "
      ],
      "execution_count": 2,
      "outputs": []
    },
    {
      "cell_type": "code",
      "metadata": {
        "colab": {
          "base_uri": "https://localhost:8080/",
          "height": 34
        },
        "id": "XE8D9fU_EvFK",
        "outputId": "c83f51ef-9363-4bff-8b46-7eea9695ef20"
      },
      "source": [
        "# Getting the whole mnist data \n",
        "\n",
        "path = untar_data(URLs.MNIST)\n",
        "path.ls()"
      ],
      "execution_count": 3,
      "outputs": [
        {
          "output_type": "display_data",
          "data": {
            "text/html": [
              ""
            ],
            "text/plain": [
              "<IPython.core.display.HTML object>"
            ]
          },
          "metadata": {
            "tags": []
          }
        },
        {
          "output_type": "execute_result",
          "data": {
            "text/plain": [
              "(#2) [Path('/root/.fastai/data/mnist_png/training'),Path('/root/.fastai/data/mnist_png/testing')]"
            ]
          },
          "metadata": {
            "tags": []
          },
          "execution_count": 3
        }
      ]
    },
    {
      "cell_type": "code",
      "metadata": {
        "id": "iXvFH1CtFBah"
      },
      "source": [
        "# Train and test \n",
        "\n",
        "training = path / 'training'\n",
        "testing = path / 'testing'"
      ],
      "execution_count": 4,
      "outputs": []
    },
    {
      "cell_type": "code",
      "metadata": {
        "colab": {
          "base_uri": "https://localhost:8080/"
        },
        "id": "zpnlIppcFUZB",
        "outputId": "e709c8b6-7481-4779-c04d-2fedac722c32"
      },
      "source": [
        "training.ls()"
      ],
      "execution_count": 5,
      "outputs": [
        {
          "output_type": "execute_result",
          "data": {
            "text/plain": [
              "(#10) [Path('/root/.fastai/data/mnist_png/training/8'),Path('/root/.fastai/data/mnist_png/training/4'),Path('/root/.fastai/data/mnist_png/training/7'),Path('/root/.fastai/data/mnist_png/training/9'),Path('/root/.fastai/data/mnist_png/training/1'),Path('/root/.fastai/data/mnist_png/training/0'),Path('/root/.fastai/data/mnist_png/training/2'),Path('/root/.fastai/data/mnist_png/training/3'),Path('/root/.fastai/data/mnist_png/training/6'),Path('/root/.fastai/data/mnist_png/training/5')]"
            ]
          },
          "metadata": {
            "tags": []
          },
          "execution_count": 5
        }
      ]
    },
    {
      "cell_type": "code",
      "metadata": {
        "id": "KLzuLSi_FW0Q"
      },
      "source": [
        "# Putting them into one file \n",
        "\n",
        "zeros= (training / '0').ls().sorted()\n",
        "ones= (training / '1').ls().sorted()\n",
        "twos = (training / '2').ls().sorted()\n",
        "threes = (training / '3').ls().sorted()\n",
        "fours = (training / '4').ls().sorted()\n",
        "fives = (training / '5').ls().sorted()\n",
        "sixes= (training / '6').ls().sorted()\n",
        "sevens = (training / '7').ls().sorted()\n",
        "eights = (training / '8').ls().sorted()\n",
        "nines = (training / '9').ls().sorted()\n",
        "\n"
      ],
      "execution_count": 6,
      "outputs": []
    },
    {
      "cell_type": "code",
      "metadata": {
        "id": "5P5rtqMHGI7B"
      },
      "source": [
        "# Stacking and converting to tensors \n",
        "\n",
        "zero_tensor = [tensor(Image.open(o)) for o in zeros]\n",
        "one_tensor = [tensor(Image.open(o)) for o in ones]\n",
        "two_tensor = [tensor(Image.open(o)) for o in twos]\n",
        "three_tensor = [tensor(Image.open(o)) for o in threes]\n",
        "four_tensor = [tensor(Image.open(o)) for o in fours]\n",
        "five_tensor = [tensor(Image.open(o)) for o in fives]\n",
        "six_tensor = [tensor(Image.open(o)) for o in sixes]\n",
        "seven_tensor = [tensor(Image.open(o)) for o in sevens]\n",
        "eight_tensor = [tensor(Image.open(o)) for o in eights]\n",
        "nine_tensor = [tensor(Image.open(o)) for o in nines]\n"
      ],
      "execution_count": 7,
      "outputs": []
    },
    {
      "cell_type": "code",
      "metadata": {
        "colab": {
          "base_uri": "https://localhost:8080/",
          "height": 102
        },
        "id": "9EYknHvNGtm2",
        "outputId": "a0a54dea-e7c1-4ba7-f258-d5f242be7220"
      },
      "source": [
        "# Printing out a image from the data \n",
        "\n",
        "show_image(nine_tensor[5])"
      ],
      "execution_count": 8,
      "outputs": [
        {
          "output_type": "execute_result",
          "data": {
            "text/plain": [
              "<matplotlib.axes._subplots.AxesSubplot at 0x7f7801b7f160>"
            ]
          },
          "metadata": {
            "tags": []
          },
          "execution_count": 8
        },
        {
          "output_type": "display_data",
          "data": {
            "image/png": "[encoded data removed]",
            "text/plain": [
              "<Figure size 72x72 with 1 Axes>"
            ]
          },
          "metadata": {
            "tags": [],
            "needs_background": "light"
          }
        }
      ]
    },
    {
      "cell_type": "code",
      "metadata": {
        "id": "xomeWRgFG04k"
      },
      "source": [
        "def stack_function(num_tensor):\n",
        "  return torch.stack(num_tensor).float() / 255"
      ],
      "execution_count": 9,
      "outputs": []
    },
    {
      "cell_type": "code",
      "metadata": {
        "id": "rOHoIaueLCYp"
      },
      "source": [
        "# Casting our integer type to float \n",
        "\n",
        "\n",
        "stacked_zero = stack_function(zero_tensor)\n",
        "stacked_one = stack_function(one_tensor)\n",
        "stacked_two = stack_function(two_tensor)\n",
        "stacked_three = stack_function(three_tensor)\n",
        "stacked_four = stack_function(four_tensor)\n",
        "stacked_five = stack_function(five_tensor)\n",
        "stacked_six = stack_function(six_tensor)\n",
        "stacked_seven = stack_function(seven_tensor)\n",
        "stacked_eight = stack_function(eight_tensor)\n",
        "stacked_nine = stack_function(nine_tensor)\n",
        "\n",
        "# Creating a list of all stacked tensor \n",
        "stack_list = [stacked_zero , stacked_one , stacked_two , stacked_three , stacked_four , stacked_five , stacked_six , stacked_seven , stacked_eight , stacked_nine]\n",
        "\n",
        "def print_shape(num_list):\n",
        "  for i in num_list:\n",
        "    print(f'The Shape of the tensor: {i.shape}')"
      ],
      "execution_count": 10,
      "outputs": []
    },
    {
      "cell_type": "code",
      "metadata": {
        "colab": {
          "base_uri": "https://localhost:8080/"
        },
        "id": "1uZHUB94MZwF",
        "outputId": "4d51ddc3-a114-4a56-9f3c-d0e61a276aea"
      },
      "source": [
        "# Printing the shape \n",
        "print_shape(stack_list)"
      ],
      "execution_count": 11,
      "outputs": [
        {
          "output_type": "stream",
          "text": [
            "The Shape of the tensor: torch.Size([5923, 28, 28])\n",
            "The Shape of the tensor: torch.Size([6742, 28, 28])\n",
            "The Shape of the tensor: torch.Size([5958, 28, 28])\n",
            "The Shape of the tensor: torch.Size([6131, 28, 28])\n",
            "The Shape of the tensor: torch.Size([5842, 28, 28])\n",
            "The Shape of the tensor: torch.Size([5421, 28, 28])\n",
            "The Shape of the tensor: torch.Size([5918, 28, 28])\n",
            "The Shape of the tensor: torch.Size([6265, 28, 28])\n",
            "The Shape of the tensor: torch.Size([5851, 28, 28])\n",
            "The Shape of the tensor: torch.Size([5949, 28, 28])\n"
          ],
          "name": "stdout"
        }
      ]
    },
    {
      "cell_type": "code",
      "metadata": {
        "colab": {
          "base_uri": "https://localhost:8080/"
        },
        "id": "BaG0nFYNSk0k",
        "outputId": "afc809f5-afae-46f3-cf15-8e1b574c5175"
      },
      "source": [
        "all_labels = [zeros , ones , twos , threes , fours , fives , sixes , sevens , eights , nines]\n",
        "all_labels"
      ],
      "execution_count": 12,
      "outputs": [
        {
          "output_type": "execute_result",
          "data": {
            "text/plain": [
              "[(#5923) [Path('/root/.fastai/data/mnist_png/training/0/1.png'),Path('/root/.fastai/data/mnist_png/training/0/1000.png'),Path('/root/.fastai/data/mnist_png/training/0/10005.png'),Path('/root/.fastai/data/mnist_png/training/0/10010.png'),Path('/root/.fastai/data/mnist_png/training/0/10022.png'),Path('/root/.fastai/data/mnist_png/training/0/10025.png'),Path('/root/.fastai/data/mnist_png/training/0/10026.png'),Path('/root/.fastai/data/mnist_png/training/0/10045.png'),Path('/root/.fastai/data/mnist_png/training/0/10069.png'),Path('/root/.fastai/data/mnist_png/training/0/10071.png')...],\n",
              " (#6742) [Path('/root/.fastai/data/mnist_png/training/1/10006.png'),Path('/root/.fastai/data/mnist_png/training/1/10007.png'),Path('/root/.fastai/data/mnist_png/training/1/1002.png'),Path('/root/.fastai/data/mnist_png/training/1/10020.png'),Path('/root/.fastai/data/mnist_png/training/1/10027.png'),Path('/root/.fastai/data/mnist_png/training/1/1003.png'),Path('/root/.fastai/data/mnist_png/training/1/10040.png'),Path('/root/.fastai/data/mnist_png/training/1/10048.png'),Path('/root/.fastai/data/mnist_png/training/1/10058.png'),Path('/root/.fastai/data/mnist_png/training/1/10067.png')...],\n",
              " (#5958) [Path('/root/.fastai/data/mnist_png/training/2/10009.png'),Path('/root/.fastai/data/mnist_png/training/2/10016.png'),Path('/root/.fastai/data/mnist_png/training/2/10024.png'),Path('/root/.fastai/data/mnist_png/training/2/10029.png'),Path('/root/.fastai/data/mnist_png/training/2/10072.png'),Path('/root/.fastai/data/mnist_png/training/2/10073.png'),Path('/root/.fastai/data/mnist_png/training/2/10075.png'),Path('/root/.fastai/data/mnist_png/training/2/10078.png'),Path('/root/.fastai/data/mnist_png/training/2/10081.png'),Path('/root/.fastai/data/mnist_png/training/2/10082.png')...],\n",
              " (#6131) [Path('/root/.fastai/data/mnist_png/training/3/10.png'),Path('/root/.fastai/data/mnist_png/training/3/10000.png'),Path('/root/.fastai/data/mnist_png/training/3/10011.png'),Path('/root/.fastai/data/mnist_png/training/3/10031.png'),Path('/root/.fastai/data/mnist_png/training/3/10034.png'),Path('/root/.fastai/data/mnist_png/training/3/10042.png'),Path('/root/.fastai/data/mnist_png/training/3/10052.png'),Path('/root/.fastai/data/mnist_png/training/3/1007.png'),Path('/root/.fastai/data/mnist_png/training/3/10074.png'),Path('/root/.fastai/data/mnist_png/training/3/10091.png')...],\n",
              " (#5842) [Path('/root/.fastai/data/mnist_png/training/4/10013.png'),Path('/root/.fastai/data/mnist_png/training/4/10018.png'),Path('/root/.fastai/data/mnist_png/training/4/10033.png'),Path('/root/.fastai/data/mnist_png/training/4/1004.png'),Path('/root/.fastai/data/mnist_png/training/4/1006.png'),Path('/root/.fastai/data/mnist_png/training/4/10060.png'),Path('/root/.fastai/data/mnist_png/training/4/1008.png'),Path('/root/.fastai/data/mnist_png/training/4/10103.png'),Path('/root/.fastai/data/mnist_png/training/4/10104.png'),Path('/root/.fastai/data/mnist_png/training/4/10114.png')...],\n",
              " (#5421) [Path('/root/.fastai/data/mnist_png/training/5/0.png'),Path('/root/.fastai/data/mnist_png/training/5/100.png'),Path('/root/.fastai/data/mnist_png/training/5/10008.png'),Path('/root/.fastai/data/mnist_png/training/5/10015.png'),Path('/root/.fastai/data/mnist_png/training/5/10030.png'),Path('/root/.fastai/data/mnist_png/training/5/10035.png'),Path('/root/.fastai/data/mnist_png/training/5/10049.png'),Path('/root/.fastai/data/mnist_png/training/5/10051.png'),Path('/root/.fastai/data/mnist_png/training/5/10056.png'),Path('/root/.fastai/data/mnist_png/training/5/10062.png')...],\n",
              " (#5918) [Path('/root/.fastai/data/mnist_png/training/6/10017.png'),Path('/root/.fastai/data/mnist_png/training/6/10032.png'),Path('/root/.fastai/data/mnist_png/training/6/10036.png'),Path('/root/.fastai/data/mnist_png/training/6/10037.png'),Path('/root/.fastai/data/mnist_png/training/6/10044.png'),Path('/root/.fastai/data/mnist_png/training/6/10053.png'),Path('/root/.fastai/data/mnist_png/training/6/10076.png'),Path('/root/.fastai/data/mnist_png/training/6/10089.png'),Path('/root/.fastai/data/mnist_png/training/6/10101.png'),Path('/root/.fastai/data/mnist_png/training/6/10108.png')...],\n",
              " (#6265) [Path('/root/.fastai/data/mnist_png/training/7/10002.png'),Path('/root/.fastai/data/mnist_png/training/7/1001.png'),Path('/root/.fastai/data/mnist_png/training/7/10014.png'),Path('/root/.fastai/data/mnist_png/training/7/10019.png'),Path('/root/.fastai/data/mnist_png/training/7/10039.png'),Path('/root/.fastai/data/mnist_png/training/7/10046.png'),Path('/root/.fastai/data/mnist_png/training/7/10050.png'),Path('/root/.fastai/data/mnist_png/training/7/10063.png'),Path('/root/.fastai/data/mnist_png/training/7/10077.png'),Path('/root/.fastai/data/mnist_png/training/7/10086.png')...],\n",
              " (#5851) [Path('/root/.fastai/data/mnist_png/training/8/10001.png'),Path('/root/.fastai/data/mnist_png/training/8/10012.png'),Path('/root/.fastai/data/mnist_png/training/8/10021.png'),Path('/root/.fastai/data/mnist_png/training/8/10041.png'),Path('/root/.fastai/data/mnist_png/training/8/10054.png'),Path('/root/.fastai/data/mnist_png/training/8/10057.png'),Path('/root/.fastai/data/mnist_png/training/8/10061.png'),Path('/root/.fastai/data/mnist_png/training/8/10064.png'),Path('/root/.fastai/data/mnist_png/training/8/10066.png'),Path('/root/.fastai/data/mnist_png/training/8/10079.png')...],\n",
              " (#5949) [Path('/root/.fastai/data/mnist_png/training/9/10003.png'),Path('/root/.fastai/data/mnist_png/training/9/10004.png'),Path('/root/.fastai/data/mnist_png/training/9/10023.png'),Path('/root/.fastai/data/mnist_png/training/9/10028.png'),Path('/root/.fastai/data/mnist_png/training/9/10038.png'),Path('/root/.fastai/data/mnist_png/training/9/10043.png'),Path('/root/.fastai/data/mnist_png/training/9/10047.png'),Path('/root/.fastai/data/mnist_png/training/9/1005.png'),Path('/root/.fastai/data/mnist_png/training/9/10055.png'),Path('/root/.fastai/data/mnist_png/training/9/10059.png')...]]"
            ]
          },
          "metadata": {
            "tags": []
          },
          "execution_count": 12
        }
      ]
    },
    {
      "cell_type": "code",
      "metadata": {
        "colab": {
          "base_uri": "https://localhost:8080/"
        },
        "id": "p8MIxxgvMevn",
        "outputId": "4b0c5346-23ae-4755-96a5-4fac41e3b2e0"
      },
      "source": [
        "# Creating a dataset \n",
        "\n",
        "# Contructing train x \n",
        "train_x = torch.cat(stack_list).view(-1 , 28*28)\n",
        "\n",
        "# Constructing train y \n",
        "train_y = tensor( [0] * len(zeros) + [1] * len(ones) + [2] * len(twos)+  [3] * len(threes) + [4] * len(fours) + [5] * len(fives) + [6] * len(sixes) + \n",
        "                 [7] * len(sevens) + [8] * len(eights) + [9] * len(nines)).unsqueeze(1)\n",
        "\n",
        "\n",
        "# Checking the shape of both x and y  \n",
        "train_x.shape , train_y.shape"
      ],
      "execution_count": 15,
      "outputs": [
        {
          "output_type": "execute_result",
          "data": {
            "text/plain": [
              "(torch.Size([60000, 784]), torch.Size([60000, 1]))"
            ]
          },
          "metadata": {
            "tags": []
          },
          "execution_count": 15
        }
      ]
    },
    {
      "cell_type": "code",
      "metadata": {
        "id": "8tTBU7rtOs-7"
      },
      "source": [
        "# Zipping into a dataset \n",
        "\n",
        "mnist_dset = list(zip(train_x , train_y))"
      ],
      "execution_count": 16,
      "outputs": []
    },
    {
      "cell_type": "code",
      "metadata": {
        "colab": {
          "base_uri": "https://localhost:8080/"
        },
        "id": "kUNibi75S76Y",
        "outputId": "8f510295-b297-452d-eb59-1be337e5e795"
      },
      "source": [
        "# Creating a DataLoader \n",
        "\n",
        "dl = DataLoader(mnist_dset , batch_size= 256 , shuffle=True)\n",
        "\n",
        "# Picking up first batch \n",
        "xb , yb = first(dl)\n",
        "\n",
        "xb.shape , yb.shape"
      ],
      "execution_count": 17,
      "outputs": [
        {
          "output_type": "execute_result",
          "data": {
            "text/plain": [
              "(torch.Size([256, 784]), torch.Size([256, 1]))"
            ]
          },
          "metadata": {
            "tags": []
          },
          "execution_count": 17
        }
      ]
    },
    {
      "cell_type": "code",
      "metadata": {
        "colab": {
          "base_uri": "https://localhost:8080/"
        },
        "id": "LLq0o6U4-XEU",
        "outputId": "0a9651be-6eea-4f7b-f0b0-09866715b1bd"
      },
      "source": [
        "# Doing same for the validation set \n",
        "\n",
        "valid_zeros= (testing / '0').ls().sorted()\n",
        "valid_ones= (testing / '1').ls().sorted()\n",
        "valid_twos = (testing / '2').ls().sorted()\n",
        "valid_threes = (testing / '3').ls().sorted()\n",
        "valid_fours = (testing / '4').ls().sorted()\n",
        "valid_fives = (testing / '5').ls().sorted()\n",
        "valid_sixes= (testing / '6').ls().sorted()\n",
        "valid_sevens = (testing / '7').ls().sorted()\n",
        "valid_eights = (testing / '8').ls().sorted()\n",
        "valid_nines = (testing / '9').ls().sorted()\n",
        "\n",
        "\n",
        "# Stacking \n",
        "\n",
        "valid_zero_tensor = stack_function([tensor(Image.open(o)) for o in valid_zeros])\n",
        "valid_one_tensor = stack_function([tensor(Image.open(o)) for o in valid_ones])\n",
        "valid_two_tensor = stack_function([tensor(Image.open(o)) for o in valid_twos])\n",
        "valid_three_tensor = stack_function([tensor(Image.open(o)) for o in valid_threes])\n",
        "valid_four_tensor = stack_function([tensor(Image.open(o)) for o in valid_fours])\n",
        "valid_five_tensor = stack_function([tensor(Image.open(o)) for o in valid_fives])\n",
        "valid_six_tensor = stack_function([tensor(Image.open(o)) for o in valid_sixes])\n",
        "valid_seven_tensor = stack_function([tensor(Image.open(o)) for o in valid_sevens])\n",
        "valid_eight_tensor = stack_function([tensor(Image.open(o)) for o in valid_eights])\n",
        "valid_nine_tensor = stack_function([tensor(Image.open(o)) for o in valid_nines])\n",
        "\n",
        "\n",
        "# Stacked list \n",
        "\n",
        "valid_stack_list = [valid_zero_tensor , valid_one_tensor , valid_two_tensor , valid_three_tensor , valid_four_tensor , valid_five_tensor , \n",
        "              valid_six_tensor  , valid_seven_tensor , valid_eight_tensor , valid_nine_tensor]\n",
        "\n",
        "print_shape(valid_stack_list)"
      ],
      "execution_count": 19,
      "outputs": [
        {
          "output_type": "stream",
          "text": [
            "The Shape of the tensor: torch.Size([980, 28, 28])\n",
            "The Shape of the tensor: torch.Size([1135, 28, 28])\n",
            "The Shape of the tensor: torch.Size([1032, 28, 28])\n",
            "The Shape of the tensor: torch.Size([1010, 28, 28])\n",
            "The Shape of the tensor: torch.Size([982, 28, 28])\n",
            "The Shape of the tensor: torch.Size([892, 28, 28])\n",
            "The Shape of the tensor: torch.Size([958, 28, 28])\n",
            "The Shape of the tensor: torch.Size([1028, 28, 28])\n",
            "The Shape of the tensor: torch.Size([974, 28, 28])\n",
            "The Shape of the tensor: torch.Size([1009, 28, 28])\n"
          ],
          "name": "stdout"
        }
      ]
    },
    {
      "cell_type": "code",
      "metadata": {
        "colab": {
          "base_uri": "https://localhost:8080/"
        },
        "id": "8OXIq8xoCLgj",
        "outputId": "be975692-28fe-495d-d699-8d83e789d6a3"
      },
      "source": [
        "# Creating labels \n",
        "\n",
        "valid_labels = [valid_zeros , valid_ones , valid_twos , valid_threes , valid_fours , valid_fives , valid_sixes , valid_sevens , valid_eights , valid_nines]\n",
        "valid_labels"
      ],
      "execution_count": 20,
      "outputs": [
        {
          "output_type": "execute_result",
          "data": {
            "text/plain": [
              "[(#980) [Path('/root/.fastai/data/mnist_png/testing/0/10.png'),Path('/root/.fastai/data/mnist_png/testing/0/1001.png'),Path('/root/.fastai/data/mnist_png/testing/0/1009.png'),Path('/root/.fastai/data/mnist_png/testing/0/101.png'),Path('/root/.fastai/data/mnist_png/testing/0/1034.png'),Path('/root/.fastai/data/mnist_png/testing/0/1047.png'),Path('/root/.fastai/data/mnist_png/testing/0/1061.png'),Path('/root/.fastai/data/mnist_png/testing/0/1084.png'),Path('/root/.fastai/data/mnist_png/testing/0/1094.png'),Path('/root/.fastai/data/mnist_png/testing/0/1121.png')...],\n",
              " (#1135) [Path('/root/.fastai/data/mnist_png/testing/1/1004.png'),Path('/root/.fastai/data/mnist_png/testing/1/1008.png'),Path('/root/.fastai/data/mnist_png/testing/1/1011.png'),Path('/root/.fastai/data/mnist_png/testing/1/1019.png'),Path('/root/.fastai/data/mnist_png/testing/1/1025.png'),Path('/root/.fastai/data/mnist_png/testing/1/1027.png'),Path('/root/.fastai/data/mnist_png/testing/1/1030.png'),Path('/root/.fastai/data/mnist_png/testing/1/1037.png'),Path('/root/.fastai/data/mnist_png/testing/1/1038.png'),Path('/root/.fastai/data/mnist_png/testing/1/1040.png')...],\n",
              " (#1032) [Path('/root/.fastai/data/mnist_png/testing/2/1.png'),Path('/root/.fastai/data/mnist_png/testing/2/1002.png'),Path('/root/.fastai/data/mnist_png/testing/2/1016.png'),Path('/root/.fastai/data/mnist_png/testing/2/1031.png'),Path('/root/.fastai/data/mnist_png/testing/2/1036.png'),Path('/root/.fastai/data/mnist_png/testing/2/1049.png'),Path('/root/.fastai/data/mnist_png/testing/2/1050.png'),Path('/root/.fastai/data/mnist_png/testing/2/1053.png'),Path('/root/.fastai/data/mnist_png/testing/2/1056.png'),Path('/root/.fastai/data/mnist_png/testing/2/106.png')...],\n",
              " (#1010) [Path('/root/.fastai/data/mnist_png/testing/3/1020.png'),Path('/root/.fastai/data/mnist_png/testing/3/1028.png'),Path('/root/.fastai/data/mnist_png/testing/3/1042.png'),Path('/root/.fastai/data/mnist_png/testing/3/1062.png'),Path('/root/.fastai/data/mnist_png/testing/3/1066.png'),Path('/root/.fastai/data/mnist_png/testing/3/1067.png'),Path('/root/.fastai/data/mnist_png/testing/3/1069.png'),Path('/root/.fastai/data/mnist_png/testing/3/1072.png'),Path('/root/.fastai/data/mnist_png/testing/3/1092.png'),Path('/root/.fastai/data/mnist_png/testing/3/1095.png')...],\n",
              " (#982) [Path('/root/.fastai/data/mnist_png/testing/4/1010.png'),Path('/root/.fastai/data/mnist_png/testing/4/1015.png'),Path('/root/.fastai/data/mnist_png/testing/4/1023.png'),Path('/root/.fastai/data/mnist_png/testing/4/1024.png'),Path('/root/.fastai/data/mnist_png/testing/4/103.png'),Path('/root/.fastai/data/mnist_png/testing/4/1043.png'),Path('/root/.fastai/data/mnist_png/testing/4/1051.png'),Path('/root/.fastai/data/mnist_png/testing/4/1057.png'),Path('/root/.fastai/data/mnist_png/testing/4/1059.png'),Path('/root/.fastai/data/mnist_png/testing/4/1060.png')...],\n",
              " (#892) [Path('/root/.fastai/data/mnist_png/testing/5/1003.png'),Path('/root/.fastai/data/mnist_png/testing/5/102.png'),Path('/root/.fastai/data/mnist_png/testing/5/1022.png'),Path('/root/.fastai/data/mnist_png/testing/5/1032.png'),Path('/root/.fastai/data/mnist_png/testing/5/1041.png'),Path('/root/.fastai/data/mnist_png/testing/5/1046.png'),Path('/root/.fastai/data/mnist_png/testing/5/1070.png'),Path('/root/.fastai/data/mnist_png/testing/5/1073.png'),Path('/root/.fastai/data/mnist_png/testing/5/1082.png'),Path('/root/.fastai/data/mnist_png/testing/5/1087.png')...],\n",
              " (#958) [Path('/root/.fastai/data/mnist_png/testing/6/100.png'),Path('/root/.fastai/data/mnist_png/testing/6/1014.png'),Path('/root/.fastai/data/mnist_png/testing/6/1017.png'),Path('/root/.fastai/data/mnist_png/testing/6/1035.png'),Path('/root/.fastai/data/mnist_png/testing/6/1044.png'),Path('/root/.fastai/data/mnist_png/testing/6/1079.png'),Path('/root/.fastai/data/mnist_png/testing/6/1085.png'),Path('/root/.fastai/data/mnist_png/testing/6/1099.png'),Path('/root/.fastai/data/mnist_png/testing/6/11.png'),Path('/root/.fastai/data/mnist_png/testing/6/1106.png')...],\n",
              " (#1028) [Path('/root/.fastai/data/mnist_png/testing/7/0.png'),Path('/root/.fastai/data/mnist_png/testing/7/1006.png'),Path('/root/.fastai/data/mnist_png/testing/7/1012.png'),Path('/root/.fastai/data/mnist_png/testing/7/1021.png'),Path('/root/.fastai/data/mnist_png/testing/7/1039.png'),Path('/root/.fastai/data/mnist_png/testing/7/1055.png'),Path('/root/.fastai/data/mnist_png/testing/7/1071.png'),Path('/root/.fastai/data/mnist_png/testing/7/1091.png'),Path('/root/.fastai/data/mnist_png/testing/7/1096.png'),Path('/root/.fastai/data/mnist_png/testing/7/1100.png')...],\n",
              " (#974) [Path('/root/.fastai/data/mnist_png/testing/8/1007.png'),Path('/root/.fastai/data/mnist_png/testing/8/1018.png'),Path('/root/.fastai/data/mnist_png/testing/8/1026.png'),Path('/root/.fastai/data/mnist_png/testing/8/1029.png'),Path('/root/.fastai/data/mnist_png/testing/8/1033.png'),Path('/root/.fastai/data/mnist_png/testing/8/1052.png'),Path('/root/.fastai/data/mnist_png/testing/8/1068.png'),Path('/root/.fastai/data/mnist_png/testing/8/1074.png'),Path('/root/.fastai/data/mnist_png/testing/8/1093.png'),Path('/root/.fastai/data/mnist_png/testing/8/110.png')...],\n",
              " (#1009) [Path('/root/.fastai/data/mnist_png/testing/9/1000.png'),Path('/root/.fastai/data/mnist_png/testing/9/1005.png'),Path('/root/.fastai/data/mnist_png/testing/9/1013.png'),Path('/root/.fastai/data/mnist_png/testing/9/104.png'),Path('/root/.fastai/data/mnist_png/testing/9/1045.png'),Path('/root/.fastai/data/mnist_png/testing/9/1048.png'),Path('/root/.fastai/data/mnist_png/testing/9/105.png'),Path('/root/.fastai/data/mnist_png/testing/9/1058.png'),Path('/root/.fastai/data/mnist_png/testing/9/1063.png'),Path('/root/.fastai/data/mnist_png/testing/9/108.png')...]]"
            ]
          },
          "metadata": {
            "tags": []
          },
          "execution_count": 20
        }
      ]
    },
    {
      "cell_type": "code",
      "metadata": {
        "colab": {
          "base_uri": "https://localhost:8080/"
        },
        "id": "CWsKSEK2C3i_",
        "outputId": "65178938-33f4-422c-b632-2c11df6ff441"
      },
      "source": [
        "# Valid x and y sets \n",
        "\n",
        "# X \n",
        "valid_x = torch.cat(valid_stack_list).view(-1 , 28*28)\n",
        "\n",
        "# Constructing y\n",
        "valid_y = tensor( [0] * len(valid_zeros) + [1] * len(valid_ones) + [2] * len(valid_twos)+  [3] * len(valid_threes) + [4] * len(valid_fours) + [5] * len(valid_fives) + [6] * len(valid_sixes) + \n",
        "                 [7] * len(valid_sevens) + [8] * len(valid_eights) + [9] * len(valid_nines)).unsqueeze(1)\n",
        "\n",
        "# Checkin the shape \n",
        "valid_x.shape , valid_y.shape\n"
      ],
      "execution_count": 21,
      "outputs": [
        {
          "output_type": "execute_result",
          "data": {
            "text/plain": [
              "(torch.Size([10000, 784]), torch.Size([10000, 1]))"
            ]
          },
          "metadata": {
            "tags": []
          },
          "execution_count": 21
        }
      ]
    },
    {
      "cell_type": "code",
      "metadata": {
        "colab": {
          "base_uri": "https://localhost:8080/"
        },
        "id": "CkH8EBXVDfjO",
        "outputId": "ee8184bc-57e2-47a6-e518-fb230c773d47"
      },
      "source": [
        "# Putting into a DataLoader \n",
        "valid_dset = list(zip(valid_x , valid_y))\n",
        "\n",
        "valid_dl = DataLoader(valid_dset , batch_size= 164 , shuffle=True)\n",
        "\n",
        "# First batch \n",
        "\n",
        "valid_xb , valid_yb = first(valid_dl)\n",
        "\n",
        "valid_xb.shape , valid_yb.shape\n",
        "\n"
      ],
      "execution_count": 22,
      "outputs": [
        {
          "output_type": "execute_result",
          "data": {
            "text/plain": [
              "(torch.Size([164, 784]), torch.Size([164, 1]))"
            ]
          },
          "metadata": {
            "tags": []
          },
          "execution_count": 22
        }
      ]
    },
    {
      "cell_type": "code",
      "metadata": {
        "id": "DCbz7_3ND-B4"
      },
      "source": [
        "# Creating a DataLoaders for using learner \n",
        "\n",
        "dls = DataLoaders(dl , valid_dl)"
      ],
      "execution_count": 23,
      "outputs": []
    },
    {
      "cell_type": "code",
      "metadata": {
        "id": "qSiuRYk7EHrw"
      },
      "source": [
        "# Constructing a neural net \n",
        "\n",
        "mnist_net = nn.Sequential(\n",
        "    nn.Linear(28*28 , 8),\n",
        "    nn.ReLU(),\n",
        "    nn.Linear(8 , 40 ),\n",
        "    nn.ReLU(),\n",
        "    nn.Linear(40 ,15),\n",
        "    nn.Linear(15 , 10) \n",
        ")"
      ],
      "execution_count": 34,
      "outputs": []
    },
    {
      "cell_type": "code",
      "metadata": {
        "colab": {
          "base_uri": "https://localhost:8080/",
          "height": 359
        },
        "id": "RZPSMsCeEniA",
        "outputId": "98af44cd-f879-482a-f21b-71f769c1dcae"
      },
      "source": [
        "learn = Learner(dls , mnist_net , opt_func=SGD , loss_func= CrossEntropyLossFlat() , metrics=accuracy)\n",
        "learn.fit(10 , 0.01)"
      ],
      "execution_count": 36,
      "outputs": [
        {
          "output_type": "display_data",
          "data": {
            "text/html": [
              "<table border=\"1\" class=\"dataframe\">\n",
              "  <thead>\n",
              "    <tr style=\"text-align: left;\">\n",
              "      <th>epoch</th>\n",
              "      <th>train_loss</th>\n",
              "      <th>valid_loss</th>\n",
              "      <th>accuracy</th>\n",
              "      <th>time</th>\n",
              "    </tr>\n",
              "  </thead>\n",
              "  <tbody>\n",
              "    <tr>\n",
              "      <td>0</td>\n",
              "      <td>0.218395</td>\n",
              "      <td>0.234808</td>\n",
              "      <td>0.931300</td>\n",
              "      <td>00:01</td>\n",
              "    </tr>\n",
              "    <tr>\n",
              "      <td>1</td>\n",
              "      <td>0.216483</td>\n",
              "      <td>0.234229</td>\n",
              "      <td>0.931200</td>\n",
              "      <td>00:01</td>\n",
              "    </tr>\n",
              "    <tr>\n",
              "      <td>2</td>\n",
              "      <td>0.218071</td>\n",
              "      <td>0.234294</td>\n",
              "      <td>0.931100</td>\n",
              "      <td>00:01</td>\n",
              "    </tr>\n",
              "    <tr>\n",
              "      <td>3</td>\n",
              "      <td>0.211314</td>\n",
              "      <td>0.234027</td>\n",
              "      <td>0.931100</td>\n",
              "      <td>00:01</td>\n",
              "    </tr>\n",
              "    <tr>\n",
              "      <td>4</td>\n",
              "      <td>0.211824</td>\n",
              "      <td>0.232867</td>\n",
              "      <td>0.932100</td>\n",
              "      <td>00:01</td>\n",
              "    </tr>\n",
              "    <tr>\n",
              "      <td>5</td>\n",
              "      <td>0.215497</td>\n",
              "      <td>0.232187</td>\n",
              "      <td>0.932100</td>\n",
              "      <td>00:01</td>\n",
              "    </tr>\n",
              "    <tr>\n",
              "      <td>6</td>\n",
              "      <td>0.212120</td>\n",
              "      <td>0.233296</td>\n",
              "      <td>0.932700</td>\n",
              "      <td>00:01</td>\n",
              "    </tr>\n",
              "    <tr>\n",
              "      <td>7</td>\n",
              "      <td>0.217194</td>\n",
              "      <td>0.231756</td>\n",
              "      <td>0.931800</td>\n",
              "      <td>00:01</td>\n",
              "    </tr>\n",
              "    <tr>\n",
              "      <td>8</td>\n",
              "      <td>0.215140</td>\n",
              "      <td>0.233655</td>\n",
              "      <td>0.931600</td>\n",
              "      <td>00:01</td>\n",
              "    </tr>\n",
              "    <tr>\n",
              "      <td>9</td>\n",
              "      <td>0.214472</td>\n",
              "      <td>0.231830</td>\n",
              "      <td>0.931900</td>\n",
              "      <td>00:01</td>\n",
              "    </tr>\n",
              "  </tbody>\n",
              "</table>"
            ],
            "text/plain": [
              "<IPython.core.display.HTML object>"
            ]
          },
          "metadata": {
            "tags": []
          }
        }
      ]
    },
    {
      "cell_type": "code",
      "metadata": {
        "colab": {
          "base_uri": "https://localhost:8080/",
          "height": 265
        },
        "id": "qwyCJ-Y3HPkN",
        "outputId": "2a63f6df-75c4-4177-b569-b28385a3d263"
      },
      "source": [
        "plt.plot(L(learn.recorder.values).itemgot(2));\n"
      ],
      "execution_count": 37,
      "outputs": [
        {
          "output_type": "display_data",
          "data": {
            "image/png": "[encoded data removed]",
            "text/plain": [
              "<Figure size 432x288 with 1 Axes>"
            ]
          },
          "metadata": {
            "tags": [],
            "needs_background": "light"
          }
        }
      ]
    },
    {
      "cell_type": "code",
      "metadata": {
        "colab": {
          "base_uri": "https://localhost:8080/"
        },
        "id": "uPps5AmeIqDw",
        "outputId": "ca00eff5-814a-40c8-e586-481a4fc2a749"
      },
      "source": [
        "final_acc = learn.recorder.values[-1][2]\n",
        "print(f'The final accuracy of the above neural net is {final_acc}')"
      ],
      "execution_count": 38,
      "outputs": [
        {
          "output_type": "stream",
          "text": [
            "The final accuracy of the above neural net is 0.9319000244140625\n"
          ],
          "name": "stdout"
        }
      ]
    },
    {
      "cell_type": "code",
      "metadata": {
        "id": "Ow_J-wSeIuxw"
      },
      "source": [
        ""
      ],
      "execution_count": null,
      "outputs": []
    }
  ]
}