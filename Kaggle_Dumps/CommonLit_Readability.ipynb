{
  "nbformat": 4,
  "nbformat_minor": 0,
  "metadata": {
    "colab": {
      "name": "CommonLit_Readability.ipynb",
      "provenance": [],
      "authorship_tag": "ABX9TyNNBpZ84H2HXwWaYVhXi8Zw",
      "include_colab_link": true
    },
    "kernelspec": {
      "name": "python3",
      "display_name": "Python 3"
    },
    "language_info": {
      "name": "python"
    },
    "accelerator": "GPU"
  },
  "cells": [
    {
      "cell_type": "markdown",
      "metadata": {
        "id": "view-in-github",
        "colab_type": "text"
      },
      "source": [
        "<a href=\"https://colab.research.google.com/github/ashikshafi08/Learning-Fastai/blob/main/Kaggle_Dumps/CommonLit_Readability.ipynb\" target=\"_parent\"><img src=\"https://colab.research.google.com/assets/colab-badge.svg\" alt=\"Open In Colab\"/></a>"
      ]
    },
    {
      "cell_type": "code",
      "metadata": {
        "colab": {
          "base_uri": "https://localhost:8080/"
        },
        "id": "6TVAgcNJpbna",
        "outputId": "bf50d969-a8fb-43de-f0dc-206136d93ebe"
      },
      "source": [
        "!pip install fastai -q --upgrade"
      ],
      "execution_count": 1,
      "outputs": [
        {
          "output_type": "stream",
          "text": [
            "\u001b[K     |████████████████████████████████| 194kB 7.4MB/s \n",
            "\u001b[K     |████████████████████████████████| 61kB 7.2MB/s \n",
            "\u001b[?25h"
          ],
          "name": "stdout"
        }
      ]
    },
    {
      "cell_type": "code",
      "metadata": {
        "colab": {
          "base_uri": "https://localhost:8080/"
        },
        "id": "Js53vY1FpnX-",
        "outputId": "c6c697fe-4702-4ef3-a20a-2a61fd4b8eb8"
      },
      "source": [
        "# Loading in the data paths from the drive \n",
        "train_path = 'train.csv'\n",
        "test_path = 'test.csv'\n",
        "sample_sub_path = 'sample_submission.csv'\n",
        "\n",
        "# Importing the needed packages \n",
        "import fastai \n",
        "print(fastai.__version__)\n",
        "\n",
        "from fastai.vision.all import * \n",
        "from fastai import  * \n",
        "import pandas as pd \n",
        "import matplotlib.pyplot as plt\n",
        "from fastai.text.all import * \n"
      ],
      "execution_count": 2,
      "outputs": [
        {
          "output_type": "stream",
          "text": [
            "2.4\n"
          ],
          "name": "stdout"
        }
      ]
    },
    {
      "cell_type": "code",
      "metadata": {
        "colab": {
          "base_uri": "https://localhost:8080/",
          "height": 1000
        },
        "id": "g0i4U92fpz9p",
        "outputId": "3df34ccb-ca1c-4a18-f68f-96e17af08164"
      },
      "source": [
        "# Reading in the train and test data using pandas \n",
        "train_df = pd.read_csv(train_path)\n",
        "test_df = pd.read_csv(test_path)\n",
        "\n",
        "train_df.head()"
      ],
      "execution_count": 3,
      "outputs": [
        {
          "output_type": "execute_result",
          "data": {
            "text/html": [
              "<div>\n",
              "<style scoped>\n",
              "    .dataframe tbody tr th:only-of-type {\n",
              "        vertical-align: middle;\n",
              "    }\n",
              "\n",
              "    .dataframe tbody tr th {\n",
              "        vertical-align: top;\n",
              "    }\n",
              "\n",
              "    .dataframe thead th {\n",
              "        text-align: right;\n",
              "    }\n",
              "</style>\n",
              "<table border=\"1\" class=\"dataframe\">\n",
              "  <thead>\n",
              "    <tr style=\"text-align: right;\">\n",
              "      <th></th>\n",
              "      <th>id</th>\n",
              "      <th>url_legal</th>\n",
              "      <th>license</th>\n",
              "      <th>excerpt</th>\n",
              "      <th>target</th>\n",
              "      <th>standard_error</th>\n",
              "    </tr>\n",
              "  </thead>\n",
              "  <tbody>\n",
              "    <tr>\n",
              "      <th>0</th>\n",
              "      <td>c12129c31</td>\n",
              "      <td>NaN</td>\n",
              "      <td>NaN</td>\n",
              "      <td>When the young people returned to the ballroom, it presented a decidedly changed appearance. Instead of an interior scene, it was a winter landscape.\\nThe floor was covered with snow-white canvas, not laid on smoothly, but rumpled over bumps and hillocks, like a real snow field. The numerous palms and evergreens that had decorated the room, were powdered with flour and strewn with tufts of cotton, like snow. Also diamond dust had been lightly sprinkled on them, and glittering crystal icicles hung from the branches.\\nAt each end of the room, on the wall, hung a beautiful bear-skin rug.\\nThe...</td>\n",
              "      <td>-0.340259</td>\n",
              "      <td>0.464009</td>\n",
              "    </tr>\n",
              "    <tr>\n",
              "      <th>1</th>\n",
              "      <td>85aa80a4c</td>\n",
              "      <td>NaN</td>\n",
              "      <td>NaN</td>\n",
              "      <td>All through dinner time, Mrs. Fayre was somewhat silent, her eyes resting on Dolly with a wistful, uncertain expression. She wanted to give the child the pleasure she craved, but she had hard work to bring herself to the point of overcoming her own objections.\\nAt last, however, when the meal was nearly over, she smiled at her little daughter, and said, \"All right, Dolly, you may go.\"\\n\"Oh, mother!\" Dolly cried, overwhelmed with sudden delight. \"Really?\\nOh, I am so glad! Are you sure you're willing?\"\\n\"I've persuaded myself to be willing, against my will,\" returned Mrs. Fayre, whimsically...</td>\n",
              "      <td>-0.315372</td>\n",
              "      <td>0.480805</td>\n",
              "    </tr>\n",
              "    <tr>\n",
              "      <th>2</th>\n",
              "      <td>b69ac6792</td>\n",
              "      <td>NaN</td>\n",
              "      <td>NaN</td>\n",
              "      <td>As Roger had predicted, the snow departed as quickly as it came, and two days after their sleigh ride there was scarcely a vestige of white on the ground. Tennis was again possible and a great game was in progress on the court at Pine Laurel. Patty and Roger were playing against Elise and Sam Blaney, and the pairs were well matched.\\nBut the long-contested victory finally went against Patty, and she laughingly accepted defeat.\\n\"Only because Patty's not quite back on her game yet,\" Roger defended; \"this child has been on the sick list, you know, Sam, and she isn't up to her own mark.\"\\n\"We...</td>\n",
              "      <td>-0.580118</td>\n",
              "      <td>0.476676</td>\n",
              "    </tr>\n",
              "    <tr>\n",
              "      <th>3</th>\n",
              "      <td>dd1000b26</td>\n",
              "      <td>NaN</td>\n",
              "      <td>NaN</td>\n",
              "      <td>And outside before the palace a great garden was walled round, filled full of stately fruit-trees, gray olives and sweet figs, and pomegranates, pears, and apples, which bore the whole year round. For the rich south-west wind fed them, till pear grew ripe on pear, fig on fig, and grape on grape, all the winter and the spring. And at the farther end gay flower-beds bloomed through all seasons of the year; and two fair fountains rose, and ran, one through the garden grounds, and one beneath the palace gate, to water all the town. Such noble gifts the heavens had given to Alcinous the wise.\\n...</td>\n",
              "      <td>-1.054013</td>\n",
              "      <td>0.450007</td>\n",
              "    </tr>\n",
              "    <tr>\n",
              "      <th>4</th>\n",
              "      <td>37c1b32fb</td>\n",
              "      <td>NaN</td>\n",
              "      <td>NaN</td>\n",
              "      <td>Once upon a time there were Three Bears who lived together in a house of their own in a wood. One of them was a Little, Small, Wee Bear; and one was a Middle-sized Bear, and the other was a Great, Huge Bear. They had each a pot for their porridge; a little pot for the Little, Small, Wee Bear; and a middle-sized pot for the Middle Bear; and a great pot for the Great, Huge Bear. And they had each a chair to sit in; a little chair for the Little, Small, Wee Bear; and a middle-sized chair for the Middle Bear; and a great chair for the Great, Huge Bear. And they had each a bed to sleep in; a li...</td>\n",
              "      <td>0.247197</td>\n",
              "      <td>0.510845</td>\n",
              "    </tr>\n",
              "  </tbody>\n",
              "</table>\n",
              "</div>"
            ],
            "text/plain": [
              "          id url_legal  ...    target standard_error\n",
              "0  c12129c31       NaN  ... -0.340259       0.464009\n",
              "1  85aa80a4c       NaN  ... -0.315372       0.480805\n",
              "2  b69ac6792       NaN  ... -0.580118       0.476676\n",
              "3  dd1000b26       NaN  ... -1.054013       0.450007\n",
              "4  37c1b32fb       NaN  ...  0.247197       0.510845\n",
              "\n",
              "[5 rows x 6 columns]"
            ]
          },
          "metadata": {
            "tags": []
          },
          "execution_count": 3
        }
      ]
    },
    {
      "cell_type": "code",
      "metadata": {
        "colab": {
          "base_uri": "https://localhost:8080/",
          "height": 1000
        },
        "id": "cocHvuRYqa8L",
        "outputId": "5c621e6c-5c6c-4915-e931-4bf4a64a98bf"
      },
      "source": [
        "dls_lm = TextDataLoaders.from_df(df =train_df , \n",
        "                              path = train_path  , is_lm = True  , \n",
        "                              text_col = 'excerpt')\n",
        "dls_lm.show_batch()"
      ],
      "execution_count": 4,
      "outputs": [
        {
          "output_type": "display_data",
          "data": {
            "text/html": [
              ""
            ],
            "text/plain": [
              "<IPython.core.display.HTML object>"
            ]
          },
          "metadata": {
            "tags": []
          }
        },
        {
          "output_type": "stream",
          "text": [
            "/usr/local/lib/python3.7/dist-packages/numpy/core/_asarray.py:83: VisibleDeprecationWarning: Creating an ndarray from ragged nested sequences (which is a list-or-tuple of lists-or-tuples-or ndarrays with different lengths or shapes) is deprecated. If you meant to do this, you must specify 'dtype=object' when creating the ndarray\n",
            "  return array(a, dtype, copy=False, order=order)\n"
          ],
          "name": "stderr"
        },
        {
          "output_type": "display_data",
          "data": {
            "text/html": [
              "<table border=\"1\" class=\"dataframe\">\n",
              "  <thead>\n",
              "    <tr style=\"text-align: right;\">\n",
              "      <th></th>\n",
              "      <th>text</th>\n",
              "      <th>text_</th>\n",
              "    </tr>\n",
              "  </thead>\n",
              "  <tbody>\n",
              "    <tr>\n",
              "      <th>0</th>\n",
              "      <td>xxbos xxmaj our xxmaj ned is a brave little fellow about eight years old . xxmaj he is full of fun , and loves to play out of doors in all kinds of weather . xxmaj but what little boy can be merry when he has a raging xxunk ! xxmaj ned bore it like a hero ; but he had to give up at last , and he was glad to</td>\n",
              "      <td>xxmaj our xxmaj ned is a brave little fellow about eight years old . xxmaj he is full of fun , and loves to play out of doors in all kinds of weather . xxmaj but what little boy can be merry when he has a raging xxunk ! xxmaj ned bore it like a hero ; but he had to give up at last , and he was glad to take</td>\n",
              "    </tr>\n",
              "    <tr>\n",
              "      <th>1</th>\n",
              "      <td>was sick and could not play . xxmaj andiswa begged the coach , \" please , let me play . \" xxmaj the coach was not sure what to do . xxmaj then he decided that xxmaj andiswa could join the team . xxmaj the game was tough . xxmaj nobody had scored a goal by half time . xxmaj during the second half of the match , xxmaj andiswa got the</td>\n",
              "      <td>sick and could not play . xxmaj andiswa begged the coach , \" please , let me play . \" xxmaj the coach was not sure what to do . xxmaj then he decided that xxmaj andiswa could join the team . xxmaj the game was tough . xxmaj nobody had scored a goal by half time . xxmaj during the second half of the match , xxmaj andiswa got the ball</td>\n",
              "    </tr>\n",
              "    <tr>\n",
              "      <th>2</th>\n",
              "      <td>on week - days . \\n xxmaj on the purchase of these few things he spent the small xxunk that came to him every year . xxmaj he had in his house a woman - servant about forty years old , a niece not yet twenty , and a lad that served him both in field and at home , and could saddle his horse or manage a xxunk - hook .</td>\n",
              "      <td>week - days . \\n xxmaj on the purchase of these few things he spent the small xxunk that came to him every year . xxmaj he had in his house a woman - servant about forty years old , a niece not yet twenty , and a lad that served him both in field and at home , and could saddle his horse or manage a xxunk - hook . xxbos</td>\n",
              "    </tr>\n",
              "    <tr>\n",
              "      <th>3</th>\n",
              "      <td>very difficult , and perhaps a very dangerous , thing ; but that he would pray for him , and perhaps he might be able to do it ; only he warned the king both against the dangers of his xxunk and against the curiosity which prompted him to ask this thing . xxmaj however , the king was not to be turned from his purpose , and he promised the fakeer</td>\n",
              "      <td>difficult , and perhaps a very dangerous , thing ; but that he would pray for him , and perhaps he might be able to do it ; only he warned the king both against the dangers of his xxunk and against the curiosity which prompted him to ask this thing . xxmaj however , the king was not to be turned from his purpose , and he promised the fakeer always</td>\n",
              "    </tr>\n",
              "    <tr>\n",
              "      <th>4</th>\n",
              "      <td>, suggested itself to many that this heat of the ingot ought to be utilized , and as a matter of fact , there have been , at various times and in different places , attempts made to do so ; but hitherto all such attempts have proved failures , and a kind of settled conviction has been established in the steel trade that the theory could not possibly be carried out</td>\n",
              "      <td>suggested itself to many that this heat of the ingot ought to be utilized , and as a matter of fact , there have been , at various times and in different places , attempts made to do so ; but hitherto all such attempts have proved failures , and a kind of settled conviction has been established in the steel trade that the theory could not possibly be carried out in</td>\n",
              "    </tr>\n",
              "    <tr>\n",
              "      <th>5</th>\n",
              "      <td>become of the torch . \" xxbos xxmaj environmental science is an xxunk academic field that xxunk physical , biological and information sciences ( including xxunk , biology , physics , chemistry , xxunk , xxunk , xxunk , xxunk , soil science , geology , atmospheric science , and xxunk ) to the study of the environment , and the solution of environmental problems . xxmaj environmental science emerged from the</td>\n",
              "      <td>of the torch . \" xxbos xxmaj environmental science is an xxunk academic field that xxunk physical , biological and information sciences ( including xxunk , biology , physics , chemistry , xxunk , xxunk , xxunk , xxunk , soil science , geology , atmospheric science , and xxunk ) to the study of the environment , and the solution of environmental problems . xxmaj environmental science emerged from the fields</td>\n",
              "    </tr>\n",
              "    <tr>\n",
              "      <th>6</th>\n",
              "      <td>sufficient xxunk power remain in the gases which are left to pass out through the upper chimney . xxbos xxmaj whenever the organ man came into the village of xxmaj xxunk , in xxmaj italy ( where xxmaj xxunk was born , xxmaj october 10 , xxunk ) , he could not be kept indoors . xxmaj but he followed the wonderful organ and the wonderful man who played it , all</td>\n",
              "      <td>xxunk power remain in the gases which are left to pass out through the upper chimney . xxbos xxmaj whenever the organ man came into the village of xxmaj xxunk , in xxmaj italy ( where xxmaj xxunk was born , xxmaj october 10 , xxunk ) , he could not be kept indoors . xxmaj but he followed the wonderful organ and the wonderful man who played it , all day</td>\n",
              "    </tr>\n",
              "    <tr>\n",
              "      <th>7</th>\n",
              "      <td>learned before about a certain topic ( for example , that fish lay eggs ) . xxmaj or , while studying , you can pause often and think about what you just learned and how the new knowledge links to what you already know . xxmaj this will help you to use your xxunk xxunk cortex to integrate new information and remember it better for tests . xxmaj in addition , such</td>\n",
              "      <td>before about a certain topic ( for example , that fish lay eggs ) . xxmaj or , while studying , you can pause often and think about what you just learned and how the new knowledge links to what you already know . xxmaj this will help you to use your xxunk xxunk cortex to integrate new information and remember it better for tests . xxmaj in addition , such xxunk</td>\n",
              "    </tr>\n",
              "    <tr>\n",
              "      <th>8</th>\n",
              "      <td>, etc . \\n xxmaj at last we arrive at our destination in xxmaj xxunk , where , through the kindness of a friend , a window on the first floor of a large building is waiting for us . xxmaj how impatient we are until we hear the band of the xxmaj xxunk xxmaj guards , which heads the procession . xxbos xxmaj you have probably realized that languages change over</td>\n",
              "      <td>etc . \\n xxmaj at last we arrive at our destination in xxmaj xxunk , where , through the kindness of a friend , a window on the first floor of a large building is waiting for us . xxmaj how impatient we are until we hear the band of the xxmaj xxunk xxmaj guards , which heads the procession . xxbos xxmaj you have probably realized that languages change over time</td>\n",
              "    </tr>\n",
              "  </tbody>\n",
              "</table>"
            ],
            "text/plain": [
              "<IPython.core.display.HTML object>"
            ]
          },
          "metadata": {
            "tags": []
          }
        }
      ]
    },
    {
      "cell_type": "code",
      "metadata": {
        "colab": {
          "base_uri": "https://localhost:8080/",
          "height": 17
        },
        "id": "JDhzwmmGtdu2",
        "outputId": "cecb4076-2698-4446-da42-4011ca528f60"
      },
      "source": [
        "learn = language_model_learner(dls_lm, AWD_LSTM, metrics=[accuracy, Perplexity()], path='models/', wd=0.1).to_fp16()"
      ],
      "execution_count": 5,
      "outputs": [
        {
          "output_type": "display_data",
          "data": {
            "text/html": [
              ""
            ],
            "text/plain": [
              "<IPython.core.display.HTML object>"
            ]
          },
          "metadata": {
            "tags": []
          }
        }
      ]
    },
    {
      "cell_type": "code",
      "metadata": {
        "colab": {
          "base_uri": "https://localhost:8080/",
          "height": 80
        },
        "id": "mGOCAKS8tr59",
        "outputId": "de112839-0661-43f5-e069-15358d4ebed9"
      },
      "source": [
        "learn.fit_one_cycle(1 , 1e-3)"
      ],
      "execution_count": 6,
      "outputs": [
        {
          "output_type": "display_data",
          "data": {
            "text/html": [
              "<table border=\"1\" class=\"dataframe\">\n",
              "  <thead>\n",
              "    <tr style=\"text-align: left;\">\n",
              "      <th>epoch</th>\n",
              "      <th>train_loss</th>\n",
              "      <th>valid_loss</th>\n",
              "      <th>accuracy</th>\n",
              "      <th>perplexity</th>\n",
              "      <th>time</th>\n",
              "    </tr>\n",
              "  </thead>\n",
              "  <tbody>\n",
              "    <tr>\n",
              "      <td>0</td>\n",
              "      <td>4.379592</td>\n",
              "      <td>4.053102</td>\n",
              "      <td>0.285939</td>\n",
              "      <td>57.575783</td>\n",
              "      <td>00:18</td>\n",
              "    </tr>\n",
              "  </tbody>\n",
              "</table>"
            ],
            "text/plain": [
              "<IPython.core.display.HTML object>"
            ]
          },
          "metadata": {
            "tags": []
          }
        }
      ]
    },
    {
      "cell_type": "code",
      "metadata": {
        "colab": {
          "base_uri": "https://localhost:8080/",
          "height": 359
        },
        "id": "lG561LHCtr_Z",
        "outputId": "01d8850f-2de9-4d1a-e88b-3598a77c414d"
      },
      "source": [
        "learn.unfreeze()\n",
        "learn.fit_one_cycle(10, 2e-3)"
      ],
      "execution_count": 7,
      "outputs": [
        {
          "output_type": "display_data",
          "data": {
            "text/html": [
              "<table border=\"1\" class=\"dataframe\">\n",
              "  <thead>\n",
              "    <tr style=\"text-align: left;\">\n",
              "      <th>epoch</th>\n",
              "      <th>train_loss</th>\n",
              "      <th>valid_loss</th>\n",
              "      <th>accuracy</th>\n",
              "      <th>perplexity</th>\n",
              "      <th>time</th>\n",
              "    </tr>\n",
              "  </thead>\n",
              "  <tbody>\n",
              "    <tr>\n",
              "      <td>0</td>\n",
              "      <td>4.203844</td>\n",
              "      <td>3.887954</td>\n",
              "      <td>0.298766</td>\n",
              "      <td>48.810917</td>\n",
              "      <td>00:20</td>\n",
              "    </tr>\n",
              "    <tr>\n",
              "      <td>1</td>\n",
              "      <td>4.054334</td>\n",
              "      <td>3.813557</td>\n",
              "      <td>0.297766</td>\n",
              "      <td>45.311310</td>\n",
              "      <td>00:20</td>\n",
              "    </tr>\n",
              "    <tr>\n",
              "      <td>2</td>\n",
              "      <td>3.867989</td>\n",
              "      <td>3.792953</td>\n",
              "      <td>0.299479</td>\n",
              "      <td>44.387295</td>\n",
              "      <td>00:20</td>\n",
              "    </tr>\n",
              "    <tr>\n",
              "      <td>3</td>\n",
              "      <td>3.692492</td>\n",
              "      <td>3.796233</td>\n",
              "      <td>0.299425</td>\n",
              "      <td>44.533108</td>\n",
              "      <td>00:20</td>\n",
              "    </tr>\n",
              "    <tr>\n",
              "      <td>4</td>\n",
              "      <td>3.505363</td>\n",
              "      <td>3.815057</td>\n",
              "      <td>0.298177</td>\n",
              "      <td>45.379356</td>\n",
              "      <td>00:20</td>\n",
              "    </tr>\n",
              "    <tr>\n",
              "      <td>5</td>\n",
              "      <td>3.339036</td>\n",
              "      <td>3.829093</td>\n",
              "      <td>0.299425</td>\n",
              "      <td>46.020756</td>\n",
              "      <td>00:20</td>\n",
              "    </tr>\n",
              "    <tr>\n",
              "      <td>6</td>\n",
              "      <td>3.174762</td>\n",
              "      <td>3.847179</td>\n",
              "      <td>0.298441</td>\n",
              "      <td>46.860668</td>\n",
              "      <td>00:20</td>\n",
              "    </tr>\n",
              "    <tr>\n",
              "      <td>7</td>\n",
              "      <td>3.040934</td>\n",
              "      <td>3.866165</td>\n",
              "      <td>0.299177</td>\n",
              "      <td>47.758888</td>\n",
              "      <td>00:20</td>\n",
              "    </tr>\n",
              "    <tr>\n",
              "      <td>8</td>\n",
              "      <td>2.956331</td>\n",
              "      <td>3.884027</td>\n",
              "      <td>0.297976</td>\n",
              "      <td>48.619602</td>\n",
              "      <td>00:20</td>\n",
              "    </tr>\n",
              "    <tr>\n",
              "      <td>9</td>\n",
              "      <td>2.899007</td>\n",
              "      <td>3.887955</td>\n",
              "      <td>0.297681</td>\n",
              "      <td>48.810986</td>\n",
              "      <td>00:20</td>\n",
              "    </tr>\n",
              "  </tbody>\n",
              "</table>"
            ],
            "text/plain": [
              "<IPython.core.display.HTML object>"
            ]
          },
          "metadata": {
            "tags": []
          }
        }
      ]
    },
    {
      "cell_type": "code",
      "metadata": {
        "id": "tuL6Jq8ttsGx"
      },
      "source": [
        "learn.save_encoder('finetuned')"
      ],
      "execution_count": 8,
      "outputs": []
    },
    {
      "cell_type": "code",
      "metadata": {
        "colab": {
          "base_uri": "https://localhost:8080/",
          "height": 71
        },
        "id": "TXZ7Ge5BD7pU",
        "outputId": "a2fb02bf-b25b-4ae9-8644-d25cfa285f5e"
      },
      "source": [
        "dls_reg = TextDataLoaders.from_df(df =train_df , \n",
        "                              path = train_path , \n",
        "                              text_col = 'excerpt' , \n",
        "                              label_col = 'target' , \n",
        "                              y_block = RegressionBlock , \n",
        "                              seq_len = 72 , \n",
        "                              bs = 64 , \n",
        "                              valid_pct = 0.1  , \n",
        "                              text_vocab = dls_lm.vocab)"
      ],
      "execution_count": 9,
      "outputs": [
        {
          "output_type": "display_data",
          "data": {
            "text/html": [
              ""
            ],
            "text/plain": [
              "<IPython.core.display.HTML object>"
            ]
          },
          "metadata": {
            "tags": []
          }
        },
        {
          "output_type": "stream",
          "text": [
            "/usr/local/lib/python3.7/dist-packages/numpy/core/_asarray.py:83: VisibleDeprecationWarning: Creating an ndarray from ragged nested sequences (which is a list-or-tuple of lists-or-tuples-or ndarrays with different lengths or shapes) is deprecated. If you meant to do this, you must specify 'dtype=object' when creating the ndarray\n",
            "  return array(a, dtype, copy=False, order=order)\n"
          ],
          "name": "stderr"
        }
      ]
    },
    {
      "cell_type": "code",
      "metadata": {
        "id": "3Pwas76vD71l"
      },
      "source": [
        "learn = text_classifier_learner(dls_reg , AWD_LSTM , drop_mult= 0.4 , metrics= [mae , rmse , mse] , path= 'models/')\n",
        "learn = learn.load_encoder('finetuned')"
      ],
      "execution_count": 15,
      "outputs": []
    },
    {
      "cell_type": "code",
      "metadata": {
        "colab": {
          "base_uri": "https://localhost:8080/",
          "height": 283
        },
        "id": "3Cr6eQPZFwZ7",
        "outputId": "5020470e-cc9b-4b6d-e4f9-d153888d87a5"
      },
      "source": [
        "lrs = learn.lr_find(suggest_funcs=(minimum , steep , valley , slide))"
      ],
      "execution_count": 16,
      "outputs": [
        {
          "output_type": "display_data",
          "data": {
            "text/html": [
              ""
            ],
            "text/plain": [
              "<IPython.core.display.HTML object>"
            ]
          },
          "metadata": {
            "tags": []
          }
        },
        {
          "output_type": "display_data",
          "data": {
            "image/png": "[encoded data removed]",
            "text/plain": [
              "<Figure size 432x288 with 1 Axes>"
            ]
          },
          "metadata": {
            "tags": [],
            "needs_background": "light"
          }
        }
      ]
    },
    {
      "cell_type": "code",
      "metadata": {
        "colab": {
          "base_uri": "https://localhost:8080/",
          "height": 80
        },
        "id": "9I5O-JOKFwhX",
        "outputId": "66a34abf-cb92-4bae-a42d-db917a399804"
      },
      "source": [
        "learn.fit_one_cycle(1 , lrs.valley.item())"
      ],
      "execution_count": 17,
      "outputs": [
        {
          "output_type": "display_data",
          "data": {
            "text/html": [
              "<table border=\"1\" class=\"dataframe\">\n",
              "  <thead>\n",
              "    <tr style=\"text-align: left;\">\n",
              "      <th>epoch</th>\n",
              "      <th>train_loss</th>\n",
              "      <th>valid_loss</th>\n",
              "      <th>mae</th>\n",
              "      <th>_rmse</th>\n",
              "      <th>mse</th>\n",
              "      <th>time</th>\n",
              "    </tr>\n",
              "  </thead>\n",
              "  <tbody>\n",
              "    <tr>\n",
              "      <td>0</td>\n",
              "      <td>1.425073</td>\n",
              "      <td>1.508705</td>\n",
              "      <td>1.080497</td>\n",
              "      <td>1.228293</td>\n",
              "      <td>1.508705</td>\n",
              "      <td>00:10</td>\n",
              "    </tr>\n",
              "  </tbody>\n",
              "</table>"
            ],
            "text/plain": [
              "<IPython.core.display.HTML object>"
            ]
          },
          "metadata": {
            "tags": []
          }
        }
      ]
    },
    {
      "cell_type": "code",
      "metadata": {
        "id": "CnugEMImG7VR"
      },
      "source": [
        "learn.freeze_to(-2)"
      ],
      "execution_count": 19,
      "outputs": []
    },
    {
      "cell_type": "code",
      "metadata": {
        "colab": {
          "base_uri": "https://localhost:8080/",
          "height": 283
        },
        "id": "HJGr_Q75FwoR",
        "outputId": "88d1e297-ce54-472e-e532-5bd4b15498b1"
      },
      "source": [
        "lrs = learn.lr_find(suggest_funcs=(minimum , steep , valley , slide))"
      ],
      "execution_count": 20,
      "outputs": [
        {
          "output_type": "display_data",
          "data": {
            "text/html": [
              ""
            ],
            "text/plain": [
              "<IPython.core.display.HTML object>"
            ]
          },
          "metadata": {
            "tags": []
          }
        },
        {
          "output_type": "display_data",
          "data": {
            "image/png": "[encoded data removed]",
            "text/plain": [
              "<Figure size 432x288 with 1 Axes>"
            ]
          },
          "metadata": {
            "tags": [],
            "needs_background": "light"
          }
        }
      ]
    },
    {
      "cell_type": "code",
      "metadata": {
        "colab": {
          "base_uri": "https://localhost:8080/",
          "height": 142
        },
        "id": "M319100UFxPl",
        "outputId": "6245d0af-ffcb-415f-8e28-9d2b7a1a82a3"
      },
      "source": [
        "learn.fit_one_cycle(3 , lr_max = slice(lrs.valley.item() , lrs.slide.item()))"
      ],
      "execution_count": 22,
      "outputs": [
        {
          "output_type": "display_data",
          "data": {
            "text/html": [
              "<table border=\"1\" class=\"dataframe\">\n",
              "  <thead>\n",
              "    <tr style=\"text-align: left;\">\n",
              "      <th>epoch</th>\n",
              "      <th>train_loss</th>\n",
              "      <th>valid_loss</th>\n",
              "      <th>mae</th>\n",
              "      <th>_rmse</th>\n",
              "      <th>mse</th>\n",
              "      <th>time</th>\n",
              "    </tr>\n",
              "  </thead>\n",
              "  <tbody>\n",
              "    <tr>\n",
              "      <td>0</td>\n",
              "      <td>0.866678</td>\n",
              "      <td>0.586662</td>\n",
              "      <td>0.609773</td>\n",
              "      <td>0.765939</td>\n",
              "      <td>0.586662</td>\n",
              "      <td>00:12</td>\n",
              "    </tr>\n",
              "    <tr>\n",
              "      <td>1</td>\n",
              "      <td>0.590400</td>\n",
              "      <td>0.965613</td>\n",
              "      <td>0.831699</td>\n",
              "      <td>0.982656</td>\n",
              "      <td>0.965613</td>\n",
              "      <td>00:12</td>\n",
              "    </tr>\n",
              "    <tr>\n",
              "      <td>2</td>\n",
              "      <td>0.437281</td>\n",
              "      <td>0.362868</td>\n",
              "      <td>0.484470</td>\n",
              "      <td>0.602385</td>\n",
              "      <td>0.362868</td>\n",
              "      <td>00:12</td>\n",
              "    </tr>\n",
              "  </tbody>\n",
              "</table>"
            ],
            "text/plain": [
              "<IPython.core.display.HTML object>"
            ]
          },
          "metadata": {
            "tags": []
          }
        }
      ]
    },
    {
      "cell_type": "code",
      "metadata": {
        "colab": {
          "base_uri": "https://localhost:8080/",
          "height": 283
        },
        "id": "ahMyyg_SD7_4",
        "outputId": "fd63cf54-5b80-42c2-bbab-8ca64396d03a"
      },
      "source": [
        "learn.freeze_to(-4)\n",
        "lrs = learn.lr_find(suggest_funcs=(minimum , steep , valley , slide))"
      ],
      "execution_count": 23,
      "outputs": [
        {
          "output_type": "display_data",
          "data": {
            "text/html": [
              ""
            ],
            "text/plain": [
              "<IPython.core.display.HTML object>"
            ]
          },
          "metadata": {
            "tags": []
          }
        },
        {
          "output_type": "display_data",
          "data": {
            "image/png": "[encoded data removed]",
            "text/plain": [
              "<Figure size 432x288 with 1 Axes>"
            ]
          },
          "metadata": {
            "tags": [],
            "needs_background": "light"
          }
        }
      ]
    },
    {
      "cell_type": "code",
      "metadata": {
        "colab": {
          "base_uri": "https://localhost:8080/",
          "height": 173
        },
        "id": "lCmZZUGaD8L3",
        "outputId": "e2aab648-a65a-45f4-cb12-af0c0e958918"
      },
      "source": [
        "learn.fit_one_cycle(4 , slice(lrs.valley.item() ,lrs.slide.item() ))"
      ],
      "execution_count": 24,
      "outputs": [
        {
          "output_type": "display_data",
          "data": {
            "text/html": [
              "<table border=\"1\" class=\"dataframe\">\n",
              "  <thead>\n",
              "    <tr style=\"text-align: left;\">\n",
              "      <th>epoch</th>\n",
              "      <th>train_loss</th>\n",
              "      <th>valid_loss</th>\n",
              "      <th>mae</th>\n",
              "      <th>_rmse</th>\n",
              "      <th>mse</th>\n",
              "      <th>time</th>\n",
              "    </tr>\n",
              "  </thead>\n",
              "  <tbody>\n",
              "    <tr>\n",
              "      <td>0</td>\n",
              "      <td>0.289477</td>\n",
              "      <td>0.350497</td>\n",
              "      <td>0.475550</td>\n",
              "      <td>0.592028</td>\n",
              "      <td>0.350497</td>\n",
              "      <td>00:25</td>\n",
              "    </tr>\n",
              "    <tr>\n",
              "      <td>1</td>\n",
              "      <td>0.277946</td>\n",
              "      <td>0.373476</td>\n",
              "      <td>0.497378</td>\n",
              "      <td>0.611127</td>\n",
              "      <td>0.373476</td>\n",
              "      <td>00:26</td>\n",
              "    </tr>\n",
              "    <tr>\n",
              "      <td>2</td>\n",
              "      <td>0.250884</td>\n",
              "      <td>0.353100</td>\n",
              "      <td>0.480246</td>\n",
              "      <td>0.594222</td>\n",
              "      <td>0.353100</td>\n",
              "      <td>00:25</td>\n",
              "    </tr>\n",
              "    <tr>\n",
              "      <td>3</td>\n",
              "      <td>0.237879</td>\n",
              "      <td>0.362135</td>\n",
              "      <td>0.488604</td>\n",
              "      <td>0.601777</td>\n",
              "      <td>0.362135</td>\n",
              "      <td>00:25</td>\n",
              "    </tr>\n",
              "  </tbody>\n",
              "</table>"
            ],
            "text/plain": [
              "<IPython.core.display.HTML object>"
            ]
          },
          "metadata": {
            "tags": []
          }
        }
      ]
    },
    {
      "cell_type": "code",
      "metadata": {
        "colab": {
          "base_uri": "https://localhost:8080/",
          "height": 283
        },
        "id": "E5g8gq0_D8Vf",
        "outputId": "085a428d-1999-407f-b116-b8daba3f440e"
      },
      "source": [
        "learn.unfreeze()\n",
        "lrs = learn.lr_find(suggest_funcs=(minimum , steep , valley , slide))"
      ],
      "execution_count": 25,
      "outputs": [
        {
          "output_type": "display_data",
          "data": {
            "text/html": [
              ""
            ],
            "text/plain": [
              "<IPython.core.display.HTML object>"
            ]
          },
          "metadata": {
            "tags": []
          }
        },
        {
          "output_type": "display_data",
          "data": {
            "image/png": "[encoded data removed]",
            "text/plain": [
              "<Figure size 432x288 with 1 Axes>"
            ]
          },
          "metadata": {
            "tags": [],
            "needs_background": "light"
          }
        }
      ]
    },
    {
      "cell_type": "code",
      "metadata": {
        "colab": {
          "base_uri": "https://localhost:8080/",
          "height": 359
        },
        "id": "ieO_ynRwHzTU",
        "outputId": "71a061a6-04b3-4538-99fb-7980011a7b24"
      },
      "source": [
        "learn.fit_one_cycle(10, slice(lrs.valley.item() , lrs.slide.item()))"
      ],
      "execution_count": 26,
      "outputs": [
        {
          "output_type": "display_data",
          "data": {
            "text/html": [
              "<table border=\"1\" class=\"dataframe\">\n",
              "  <thead>\n",
              "    <tr style=\"text-align: left;\">\n",
              "      <th>epoch</th>\n",
              "      <th>train_loss</th>\n",
              "      <th>valid_loss</th>\n",
              "      <th>mae</th>\n",
              "      <th>_rmse</th>\n",
              "      <th>mse</th>\n",
              "      <th>time</th>\n",
              "    </tr>\n",
              "  </thead>\n",
              "  <tbody>\n",
              "    <tr>\n",
              "      <td>0</td>\n",
              "      <td>0.216524</td>\n",
              "      <td>0.384487</td>\n",
              "      <td>0.504591</td>\n",
              "      <td>0.620070</td>\n",
              "      <td>0.384487</td>\n",
              "      <td>00:25</td>\n",
              "    </tr>\n",
              "    <tr>\n",
              "      <td>1</td>\n",
              "      <td>0.216323</td>\n",
              "      <td>0.370195</td>\n",
              "      <td>0.496418</td>\n",
              "      <td>0.608437</td>\n",
              "      <td>0.370195</td>\n",
              "      <td>00:26</td>\n",
              "    </tr>\n",
              "    <tr>\n",
              "      <td>2</td>\n",
              "      <td>0.217193</td>\n",
              "      <td>0.388067</td>\n",
              "      <td>0.508994</td>\n",
              "      <td>0.622950</td>\n",
              "      <td>0.388067</td>\n",
              "      <td>00:25</td>\n",
              "    </tr>\n",
              "    <tr>\n",
              "      <td>3</td>\n",
              "      <td>0.209936</td>\n",
              "      <td>0.377183</td>\n",
              "      <td>0.501087</td>\n",
              "      <td>0.614153</td>\n",
              "      <td>0.377183</td>\n",
              "      <td>00:25</td>\n",
              "    </tr>\n",
              "    <tr>\n",
              "      <td>4</td>\n",
              "      <td>0.197179</td>\n",
              "      <td>0.370359</td>\n",
              "      <td>0.496214</td>\n",
              "      <td>0.608571</td>\n",
              "      <td>0.370359</td>\n",
              "      <td>00:25</td>\n",
              "    </tr>\n",
              "    <tr>\n",
              "      <td>5</td>\n",
              "      <td>0.183453</td>\n",
              "      <td>0.399698</td>\n",
              "      <td>0.517586</td>\n",
              "      <td>0.632217</td>\n",
              "      <td>0.399698</td>\n",
              "      <td>00:25</td>\n",
              "    </tr>\n",
              "    <tr>\n",
              "      <td>6</td>\n",
              "      <td>0.179719</td>\n",
              "      <td>0.371541</td>\n",
              "      <td>0.494212</td>\n",
              "      <td>0.609542</td>\n",
              "      <td>0.371541</td>\n",
              "      <td>00:25</td>\n",
              "    </tr>\n",
              "    <tr>\n",
              "      <td>7</td>\n",
              "      <td>0.171166</td>\n",
              "      <td>0.382419</td>\n",
              "      <td>0.504820</td>\n",
              "      <td>0.618401</td>\n",
              "      <td>0.382419</td>\n",
              "      <td>00:25</td>\n",
              "    </tr>\n",
              "    <tr>\n",
              "      <td>8</td>\n",
              "      <td>0.162993</td>\n",
              "      <td>0.372053</td>\n",
              "      <td>0.495687</td>\n",
              "      <td>0.609961</td>\n",
              "      <td>0.372053</td>\n",
              "      <td>00:25</td>\n",
              "    </tr>\n",
              "    <tr>\n",
              "      <td>9</td>\n",
              "      <td>0.160282</td>\n",
              "      <td>0.372133</td>\n",
              "      <td>0.496219</td>\n",
              "      <td>0.610027</td>\n",
              "      <td>0.372133</td>\n",
              "      <td>00:25</td>\n",
              "    </tr>\n",
              "  </tbody>\n",
              "</table>"
            ],
            "text/plain": [
              "<IPython.core.display.HTML object>"
            ]
          },
          "metadata": {
            "tags": []
          }
        }
      ]
    },
    {
      "cell_type": "code",
      "metadata": {
        "id": "ioVOLVj5HzYm"
      },
      "source": [
        ""
      ],
      "execution_count": null,
      "outputs": []
    },
    {
      "cell_type": "code",
      "metadata": {
        "id": "QrewsBpsHzhq"
      },
      "source": [
        ""
      ],
      "execution_count": null,
      "outputs": []
    },
    {
      "cell_type": "code",
      "metadata": {
        "id": "bJECdeCTHznI"
      },
      "source": [
        ""
      ],
      "execution_count": null,
      "outputs": []
    },
    {
      "cell_type": "code",
      "metadata": {
        "id": "h6-loyRIH0Fk"
      },
      "source": [
        ""
      ],
      "execution_count": null,
      "outputs": []
    },
    {
      "cell_type": "code",
      "metadata": {
        "id": "zu62qF8BH0im"
      },
      "source": [
        ""
      ],
      "execution_count": null,
      "outputs": []
    },
    {
      "cell_type": "code",
      "metadata": {
        "colab": {
          "base_uri": "https://localhost:8080/",
          "height": 71
        },
        "id": "TEEIoDXJp1hF",
        "outputId": "f848545a-c45b-426c-c043-7de68cb291ee"
      },
      "source": [
        "dls = TextDataLoaders.from_df(df =train_df , \n",
        "                              path = train_path , \n",
        "                              text_col = 'excerpt' , \n",
        "                              label_col = 'target' , \n",
        "                              y_block = RegressionBlock , \n",
        "                              seq_len = 72 , \n",
        "                              bs = 64 , \n",
        "                              valid_pct = 0.1 )"
      ],
      "execution_count": 39,
      "outputs": [
        {
          "output_type": "display_data",
          "data": {
            "text/html": [
              ""
            ],
            "text/plain": [
              "<IPython.core.display.HTML object>"
            ]
          },
          "metadata": {
            "tags": []
          }
        },
        {
          "output_type": "stream",
          "text": [
            "/usr/local/lib/python3.7/dist-packages/numpy/core/_asarray.py:83: VisibleDeprecationWarning: Creating an ndarray from ragged nested sequences (which is a list-or-tuple of lists-or-tuples-or ndarrays with different lengths or shapes) is deprecated. If you meant to do this, you must specify 'dtype=object' when creating the ndarray\n",
            "  return array(a, dtype, copy=False, order=order)\n"
          ],
          "name": "stderr"
        }
      ]
    },
    {
      "cell_type": "code",
      "metadata": {
        "colab": {
          "base_uri": "https://localhost:8080/",
          "height": 1000
        },
        "id": "bKv05tWdp30o",
        "outputId": "f4d4f3fb-aab2-4341-d8c1-bd90ed62dd60"
      },
      "source": [
        "dls.show_batch()\n"
      ],
      "execution_count": 40,
      "outputs": [
        {
          "output_type": "display_data",
          "data": {
            "text/html": [
              "<table border=\"1\" class=\"dataframe\">\n",
              "  <thead>\n",
              "    <tr style=\"text-align: right;\">\n",
              "      <th></th>\n",
              "      <th>text</th>\n",
              "      <th>text_</th>\n",
              "    </tr>\n",
              "  </thead>\n",
              "  <tbody>\n",
              "    <tr>\n",
              "      <th>0</th>\n",
              "      <td>xxbos xxmaj in those days all cloth had to be made at home . xxmaj aunt xxmaj xxunk , xxmaj aunt xxmaj xxunk , and xxmaj aunt xxmaj dilsey were kept busy spinning and weaving to make clothes for the whole plantation . \\n xxmaj one day xxmaj mary 's mother said , \" aunt xxmaj dilsey , xxmaj mary needs a new dress , and i want you to weave some cloth at once . xxmaj can you weave some very fine cloth ? \" \\n \" yes , ma'am , \" said xxmaj aunt xxmaj dilsey . \" i have some cotton xxmaj i 've been saving to make her a dress . \" \\n xxmaj aunt xxmaj dilsey got out the cards and carded the cotton smooth and fine . xxmaj then she fastened a roll of this cotton to the spindle and sent the wheel xxunk</td>\n",
              "      <td>0.08876363933086395</td>\n",
              "    </tr>\n",
              "    <tr>\n",
              "      <th>1</th>\n",
              "      <td>xxbos xxmaj mother xxmaj goat passes by . \" will you go to the fair with me ? \" she asks xxmaj mother xxmaj hen . \\n \" i 'm busy with my eggs , \" xxmaj mother xxmaj hen answers . xxmaj one , two , three , four , five , six . \\n xxmaj six round eggs ! xxmaj mother xxmaj pig passes by . \" will you go to the fair with me ? \" she asks . \" i 'm busy with my eggs , \" answers xxmaj mother xxmaj hen . xxmaj one , two , three , four , five , six . xxmaj six round eggs ! xxmaj mother xxmaj cow passes by . \" will you go to the fair with me ? \" she asks xxmaj mother xxmaj hen . \" i 'm busy with my eggs , \" answers</td>\n",
              "      <td>0.6820314526557922</td>\n",
              "    </tr>\n",
              "    <tr>\n",
              "      <th>2</th>\n",
              "      <td>xxbos xxmaj when xxmaj papa came home , xxmaj sima was nursing xxmaj xxunk . \" what are you doing ? \" asked xxmaj papa . \" i 'm being a nurse , \" said xxmaj sima . \" will you play with me ? \" \" yes . xxmaj but we will go to the park and play soccer , \" said xxmaj papa . xxmaj his friends saw xxmaj sima and xxmaj papa playing soccer . xxmaj they joined in . xxmaj sima and xxmaj papa often play soccer now . xxmaj but they still have n't played with dolls . xxmaj one day , xxmaj sima was playing hospital - hospital with his dolls . xxmaj he heard xxmaj mama shout . \" sima ! xxmaj run ! xxmaj papa is waiting to play with you at the park . \" \" why on earth are you</td>\n",
              "      <td>-0.15450337529182434</td>\n",
              "    </tr>\n",
              "    <tr>\n",
              "      <th>3</th>\n",
              "      <td>xxbos a baby elephant was born . xxmaj she was very curious . xxmaj she had a question for every animal . xxmaj she was curious about xxmaj giraffe . \" why do you have a long neck ? \" she asked . xxmaj she was curious about xxmaj rhino . \" why does your horn have a sharp point ? \" she asked . xxmaj she was very curious about xxmaj crocodile . \" what do crocodiles eat for dinner ? \" she asked . xxmaj clever xxmaj crow quickly said , \" follow me to the river . xxmaj there you will see what crocodiles eat for dinner . \" xxmaj so , xxmaj baby xxmaj elephant followed xxmaj crow to the river . xxmaj she pushed through the reeds and stood on the bank . xxmaj she looked into the water . xxmaj where was xxmaj crocodile</td>\n",
              "      <td>1.2942910194396973</td>\n",
              "    </tr>\n",
              "    <tr>\n",
              "      <th>4</th>\n",
              "      <td>xxbos xxmaj there was an old lady with a xxunk . \\n a fairy flew by and stopped to ask why the old lady was crying . \\n \" i have a terrible xxunk , \" she wept . \" can you help me ? \" \\n xxmaj the fairy said \" no , i ca n't help you . xxmaj i 'm xxmaj sibusiso , the evil fairy . i only do bad things . \" \\n \" then please , go away , \" said the woman . \\n xxmaj with an evil xxunk , xxmaj sibusiso disappeared . ( he became invisible . ) \\n xxmaj the old lady rubbed her stomach . xxmaj before long , another fairy came along . \\n xxmaj this fairy , named xxmaj khumo , also asked what was wrong . \\n \" my stomach is sore ! \" moaned the</td>\n",
              "      <td>0.7001174688339233</td>\n",
              "    </tr>\n",
              "    <tr>\n",
              "      <th>5</th>\n",
              "      <td>xxbos xxmaj once upon a time , xxmaj sly xxmaj jackal woke up early in the morning . xxmaj he was very hungry . xxmaj his xxunk gave a big growl . xxup xxunk xxrep 5 r ! xxmaj he jumped up and went searching for food . \\n xxmaj he wandered around the forest for hours without getting any food . xxmaj the sun was very hot . xxmaj sly xxmaj jackal could barely see in front of him . xxmaj all he could think of was his hunger xxunk . \\n \" xxunk xxrep 4 u ! \" xxmaj sly xxmaj jackal let out a loud scream . xxmaj he fell into a well right in front of him . xxmaj he was so hungry that he did not spot it . \\n \" oh , my hat ! \" he thought . \" i have to get</td>\n",
              "      <td>0.3562985956668854</td>\n",
              "    </tr>\n",
              "    <tr>\n",
              "      <th>6</th>\n",
              "      <td>xxbos xxmaj in a particular year , the dry season was too long , and a drought hit hard . xxmaj as a result , all the rivers dried up , except the xxmaj river of xxmaj blessings . \\n xxmaj all the animals were thirsty and called for a meeting . \\n xxmaj camel was the first to speak , \" as you know , we are very thirsty and all the rivers have dried up , except the xxmaj river of xxmaj blessings . xxmaj but it is very far away . xxmaj what do we do ? \" \\n xxmaj horse suggested , \" some of us can go to the xxmaj river of xxmaj blessings . xxmaj we can drink and bring water for the others . \" \\n xxmaj cow answered , \" it is too far . xxmaj by the time we returned from</td>\n",
              "      <td>-0.46561524271965027</td>\n",
              "    </tr>\n",
              "    <tr>\n",
              "      <th>7</th>\n",
              "      <td>xxbos xxmaj bon is on a summer break ! xxmaj he asks xxmaj ma to play . xxmaj but she is busy . xxmaj she tells xxmaj bon to ask his xxmaj pa . xxmaj bon finds his xxmaj pa . \" pa ! xxmaj want to play ball ? \" xxmaj pa says no . xxmaj he is going to work . xxmaj but xxmaj pa has an idea . xxmaj he gives xxmaj bon a bag of balloons . xxmaj then xxmaj pa goes out the door . xxmaj bon finds his sister . xxmaj xxunk is busy cutting paper for a class party . xxmaj she gives xxmaj bon some paper . xxmaj she tells him to make xxunk ! xxmaj bon is very upset . xxmaj everyone is too busy to play with him ! xxmaj so , xxmaj bon goes into the garden . xxmaj</td>\n",
              "      <td>-0.7074111104011536</td>\n",
              "    </tr>\n",
              "    <tr>\n",
              "      <th>8</th>\n",
              "      <td>xxbos xxmaj an xxmaj elephant and a xxmaj crocodile were once standing beside a river . xxmaj they were xxunk as to which was the better animal . \\n \" look at my strength , \" said the xxmaj elephant . \" i can tear up a tree , roots and all , with my trunk . \" \\n \" ah ! xxmaj but quantity is not quality , and your skin is not nearly so tough as mine , \" replied the xxmaj crocodile , \" for neither spear , arrow , nor sword can pierce it . \" \\n xxmaj just as they were coming to blows , a xxmaj lion happened to pass . \\n \" xxunk , xxunk ! \" said xxmaj his xxmaj majesty , going up to them , \" let me know the cause of your quarrel . \" \\n \" will you</td>\n",
              "      <td>0.4102073311805725</td>\n",
              "    </tr>\n",
              "  </tbody>\n",
              "</table>"
            ],
            "text/plain": [
              "<IPython.core.display.HTML object>"
            ]
          },
          "metadata": {
            "tags": []
          }
        }
      ]
    },
    {
      "cell_type": "code",
      "metadata": {
        "id": "_vbJ6HwCp5nX"
      },
      "source": [
        "# Creating a learner \n",
        "learn = text_classifier_learner(dls , AWD_LSTM , \n",
        "                                metrics = [mae , mse , rmse] ,  )\n",
        "learn.path = Path(\"./\")"
      ],
      "execution_count": 29,
      "outputs": []
    },
    {
      "cell_type": "code",
      "metadata": {
        "colab": {
          "base_uri": "https://localhost:8080/",
          "height": 284
        },
        "id": "dQ6uwO8op7jb",
        "outputId": "eafbe10d-8bbf-4c8b-964f-fbb67af99346"
      },
      "source": [
        "# Finding the learning rate \n",
        "lrs = learn.lr_find(suggest_funcs= (minimum , steep , valley , slide))"
      ],
      "execution_count": 30,
      "outputs": [
        {
          "output_type": "display_data",
          "data": {
            "text/html": [
              ""
            ],
            "text/plain": [
              "<IPython.core.display.HTML object>"
            ]
          },
          "metadata": {
            "tags": []
          }
        },
        {
          "output_type": "display_data",
          "data": {
            "image/png": "[encoded data removed]",
            "text/plain": [
              "<Figure size 432x288 with 1 Axes>"
            ]
          },
          "metadata": {
            "tags": [],
            "needs_background": "light"
          }
        }
      ]
    },
    {
      "cell_type": "code",
      "metadata": {
        "colab": {
          "base_uri": "https://localhost:8080/",
          "height": 142
        },
        "id": "CL5wZSkeKIE3",
        "outputId": "87abf9a7-6b20-4945-8b47-9bc4cbde009d"
      },
      "source": [
        "learn.fit_one_cycle(3 , lr_max= slice(lrs.valley.item() , lrs.slide.item()) , wd = 0.2)"
      ],
      "execution_count": 31,
      "outputs": [
        {
          "output_type": "display_data",
          "data": {
            "text/html": [
              "<table border=\"1\" class=\"dataframe\">\n",
              "  <thead>\n",
              "    <tr style=\"text-align: left;\">\n",
              "      <th>epoch</th>\n",
              "      <th>train_loss</th>\n",
              "      <th>valid_loss</th>\n",
              "      <th>mae</th>\n",
              "      <th>mse</th>\n",
              "      <th>_rmse</th>\n",
              "      <th>time</th>\n",
              "    </tr>\n",
              "  </thead>\n",
              "  <tbody>\n",
              "    <tr>\n",
              "      <td>0</td>\n",
              "      <td>1.178578</td>\n",
              "      <td>0.478402</td>\n",
              "      <td>0.549795</td>\n",
              "      <td>0.478402</td>\n",
              "      <td>0.691666</td>\n",
              "      <td>00:10</td>\n",
              "    </tr>\n",
              "    <tr>\n",
              "      <td>1</td>\n",
              "      <td>0.727254</td>\n",
              "      <td>0.465336</td>\n",
              "      <td>0.555127</td>\n",
              "      <td>0.465336</td>\n",
              "      <td>0.682156</td>\n",
              "      <td>00:10</td>\n",
              "    </tr>\n",
              "    <tr>\n",
              "      <td>2</td>\n",
              "      <td>0.553714</td>\n",
              "      <td>0.417914</td>\n",
              "      <td>0.523535</td>\n",
              "      <td>0.417914</td>\n",
              "      <td>0.646463</td>\n",
              "      <td>00:10</td>\n",
              "    </tr>\n",
              "  </tbody>\n",
              "</table>"
            ],
            "text/plain": [
              "<IPython.core.display.HTML object>"
            ]
          },
          "metadata": {
            "tags": []
          }
        }
      ]
    },
    {
      "cell_type": "code",
      "metadata": {
        "colab": {
          "base_uri": "https://localhost:8080/",
          "height": 80
        },
        "id": "-e6vltCCKIMk",
        "outputId": "8571f08b-ae65-4c0f-9631-a3ef9492dbe8"
      },
      "source": [
        "learn.freeze_to(-3)\n",
        "learn.fit_one_cycle(1 , slice(1e-2/(2.6**4),1e-2))"
      ],
      "execution_count": 32,
      "outputs": [
        {
          "output_type": "display_data",
          "data": {
            "text/html": [
              "<table border=\"1\" class=\"dataframe\">\n",
              "  <thead>\n",
              "    <tr style=\"text-align: left;\">\n",
              "      <th>epoch</th>\n",
              "      <th>train_loss</th>\n",
              "      <th>valid_loss</th>\n",
              "      <th>mae</th>\n",
              "      <th>mse</th>\n",
              "      <th>_rmse</th>\n",
              "      <th>time</th>\n",
              "    </tr>\n",
              "  </thead>\n",
              "  <tbody>\n",
              "    <tr>\n",
              "      <td>0</td>\n",
              "      <td>0.483318</td>\n",
              "      <td>0.406094</td>\n",
              "      <td>0.523852</td>\n",
              "      <td>0.406094</td>\n",
              "      <td>0.637255</td>\n",
              "      <td>00:19</td>\n",
              "    </tr>\n",
              "  </tbody>\n",
              "</table>"
            ],
            "text/plain": [
              "<IPython.core.display.HTML object>"
            ]
          },
          "metadata": {
            "tags": []
          }
        }
      ]
    },
    {
      "cell_type": "code",
      "metadata": {
        "colab": {
          "base_uri": "https://localhost:8080/",
          "height": 283
        },
        "id": "bPETMYu_KIYl",
        "outputId": "3854fce6-d13e-4c1c-f214-608ef30af1e7"
      },
      "source": [
        "learn.unfreeze()\n",
        "# Finding the learning rate \n",
        "lrs = learn.lr_find(suggest_funcs= (minimum , steep , valley , slide))"
      ],
      "execution_count": 33,
      "outputs": [
        {
          "output_type": "display_data",
          "data": {
            "text/html": [
              ""
            ],
            "text/plain": [
              "<IPython.core.display.HTML object>"
            ]
          },
          "metadata": {
            "tags": []
          }
        },
        {
          "output_type": "display_data",
          "data": {
            "image/png": "[encoded data removed]",
            "text/plain": [
              "<Figure size 432x288 with 1 Axes>"
            ]
          },
          "metadata": {
            "tags": [],
            "needs_background": "light"
          }
        }
      ]
    },
    {
      "cell_type": "code",
      "metadata": {
        "colab": {
          "base_uri": "https://localhost:8080/"
        },
        "id": "hRrpKfAgMmYX",
        "outputId": "fdb803e7-05aa-4001-9f08-020aad86be61"
      },
      "source": [
        "lrs.minimum"
      ],
      "execution_count": 35,
      "outputs": [
        {
          "output_type": "execute_result",
          "data": {
            "text/plain": [
              "6.918309954926372e-05"
            ]
          },
          "metadata": {
            "tags": []
          },
          "execution_count": 35
        }
      ]
    },
    {
      "cell_type": "code",
      "metadata": {
        "colab": {
          "base_uri": "https://localhost:8080/",
          "height": 359
        },
        "id": "CPk3N5aHLxEb",
        "outputId": "ea5fb825-9591-4850-bc95-c44b3f9b3a9f"
      },
      "source": [
        "learn.fit_one_cycle(10 , slice(lrs.slide.item() , lrs.minimum / 10))"
      ],
      "execution_count": 36,
      "outputs": [
        {
          "output_type": "display_data",
          "data": {
            "text/html": [
              "<table border=\"1\" class=\"dataframe\">\n",
              "  <thead>\n",
              "    <tr style=\"text-align: left;\">\n",
              "      <th>epoch</th>\n",
              "      <th>train_loss</th>\n",
              "      <th>valid_loss</th>\n",
              "      <th>mae</th>\n",
              "      <th>mse</th>\n",
              "      <th>_rmse</th>\n",
              "      <th>time</th>\n",
              "    </tr>\n",
              "  </thead>\n",
              "  <tbody>\n",
              "    <tr>\n",
              "      <td>0</td>\n",
              "      <td>0.342436</td>\n",
              "      <td>0.395882</td>\n",
              "      <td>0.516306</td>\n",
              "      <td>0.395882</td>\n",
              "      <td>0.629191</td>\n",
              "      <td>00:25</td>\n",
              "    </tr>\n",
              "    <tr>\n",
              "      <td>1</td>\n",
              "      <td>0.336477</td>\n",
              "      <td>0.413570</td>\n",
              "      <td>0.523000</td>\n",
              "      <td>0.413570</td>\n",
              "      <td>0.643094</td>\n",
              "      <td>00:26</td>\n",
              "    </tr>\n",
              "    <tr>\n",
              "      <td>2</td>\n",
              "      <td>0.331490</td>\n",
              "      <td>0.371794</td>\n",
              "      <td>0.496305</td>\n",
              "      <td>0.371794</td>\n",
              "      <td>0.609749</td>\n",
              "      <td>00:25</td>\n",
              "    </tr>\n",
              "    <tr>\n",
              "      <td>3</td>\n",
              "      <td>0.316826</td>\n",
              "      <td>0.364569</td>\n",
              "      <td>0.490667</td>\n",
              "      <td>0.364569</td>\n",
              "      <td>0.603796</td>\n",
              "      <td>00:25</td>\n",
              "    </tr>\n",
              "    <tr>\n",
              "      <td>4</td>\n",
              "      <td>0.301011</td>\n",
              "      <td>0.377576</td>\n",
              "      <td>0.499137</td>\n",
              "      <td>0.377576</td>\n",
              "      <td>0.614472</td>\n",
              "      <td>00:25</td>\n",
              "    </tr>\n",
              "    <tr>\n",
              "      <td>5</td>\n",
              "      <td>0.282682</td>\n",
              "      <td>0.352555</td>\n",
              "      <td>0.483371</td>\n",
              "      <td>0.352555</td>\n",
              "      <td>0.593764</td>\n",
              "      <td>00:25</td>\n",
              "    </tr>\n",
              "    <tr>\n",
              "      <td>6</td>\n",
              "      <td>0.270977</td>\n",
              "      <td>0.374671</td>\n",
              "      <td>0.494876</td>\n",
              "      <td>0.374671</td>\n",
              "      <td>0.612104</td>\n",
              "      <td>00:25</td>\n",
              "    </tr>\n",
              "    <tr>\n",
              "      <td>7</td>\n",
              "      <td>0.257157</td>\n",
              "      <td>0.353340</td>\n",
              "      <td>0.483598</td>\n",
              "      <td>0.353340</td>\n",
              "      <td>0.594424</td>\n",
              "      <td>00:25</td>\n",
              "    </tr>\n",
              "    <tr>\n",
              "      <td>8</td>\n",
              "      <td>0.249367</td>\n",
              "      <td>0.377144</td>\n",
              "      <td>0.497528</td>\n",
              "      <td>0.377144</td>\n",
              "      <td>0.614120</td>\n",
              "      <td>00:25</td>\n",
              "    </tr>\n",
              "    <tr>\n",
              "      <td>9</td>\n",
              "      <td>0.245032</td>\n",
              "      <td>0.358226</td>\n",
              "      <td>0.486969</td>\n",
              "      <td>0.358226</td>\n",
              "      <td>0.598520</td>\n",
              "      <td>00:25</td>\n",
              "    </tr>\n",
              "  </tbody>\n",
              "</table>"
            ],
            "text/plain": [
              "<IPython.core.display.HTML object>"
            ]
          },
          "metadata": {
            "tags": []
          }
        }
      ]
    },
    {
      "cell_type": "code",
      "metadata": {
        "id": "3BIRdG7XQxux"
      },
      "source": [
        "l"
      ],
      "execution_count": null,
      "outputs": []
    },
    {
      "cell_type": "code",
      "metadata": {
        "colab": {
          "base_uri": "https://localhost:8080/",
          "height": 484
        },
        "id": "ERucVtmsqO9I",
        "outputId": "f6915c62-4a57-4506-9867-81259f631f9a"
      },
      "source": [
        "learn.fine_tune(10 , lrs.valley.item() , freeze_epochs= 3)"
      ],
      "execution_count": 12,
      "outputs": [
        {
          "output_type": "display_data",
          "data": {
            "text/html": [
              "<table border=\"1\" class=\"dataframe\">\n",
              "  <thead>\n",
              "    <tr style=\"text-align: left;\">\n",
              "      <th>epoch</th>\n",
              "      <th>train_loss</th>\n",
              "      <th>valid_loss</th>\n",
              "      <th>mae</th>\n",
              "      <th>mse</th>\n",
              "      <th>time</th>\n",
              "    </tr>\n",
              "  </thead>\n",
              "  <tbody>\n",
              "    <tr>\n",
              "      <td>0</td>\n",
              "      <td>1.796275</td>\n",
              "      <td>1.300446</td>\n",
              "      <td>0.950775</td>\n",
              "      <td>1.300446</td>\n",
              "      <td>00:09</td>\n",
              "    </tr>\n",
              "    <tr>\n",
              "      <td>1</td>\n",
              "      <td>1.457843</td>\n",
              "      <td>1.107238</td>\n",
              "      <td>0.863026</td>\n",
              "      <td>1.107238</td>\n",
              "      <td>00:09</td>\n",
              "    </tr>\n",
              "    <tr>\n",
              "      <td>2</td>\n",
              "      <td>1.092516</td>\n",
              "      <td>0.738223</td>\n",
              "      <td>0.683613</td>\n",
              "      <td>0.738223</td>\n",
              "      <td>00:09</td>\n",
              "    </tr>\n",
              "  </tbody>\n",
              "</table>"
            ],
            "text/plain": [
              "<IPython.core.display.HTML object>"
            ]
          },
          "metadata": {
            "tags": []
          }
        },
        {
          "output_type": "display_data",
          "data": {
            "text/html": [
              "<table border=\"1\" class=\"dataframe\">\n",
              "  <thead>\n",
              "    <tr style=\"text-align: left;\">\n",
              "      <th>epoch</th>\n",
              "      <th>train_loss</th>\n",
              "      <th>valid_loss</th>\n",
              "      <th>mae</th>\n",
              "      <th>mse</th>\n",
              "      <th>time</th>\n",
              "    </tr>\n",
              "  </thead>\n",
              "  <tbody>\n",
              "    <tr>\n",
              "      <td>0</td>\n",
              "      <td>0.542125</td>\n",
              "      <td>0.460165</td>\n",
              "      <td>0.534367</td>\n",
              "      <td>0.460165</td>\n",
              "      <td>00:23</td>\n",
              "    </tr>\n",
              "    <tr>\n",
              "      <td>1</td>\n",
              "      <td>0.501634</td>\n",
              "      <td>0.426535</td>\n",
              "      <td>0.515573</td>\n",
              "      <td>0.426535</td>\n",
              "      <td>00:24</td>\n",
              "    </tr>\n",
              "    <tr>\n",
              "      <td>2</td>\n",
              "      <td>0.469439</td>\n",
              "      <td>0.444679</td>\n",
              "      <td>0.532407</td>\n",
              "      <td>0.444679</td>\n",
              "      <td>00:24</td>\n",
              "    </tr>\n",
              "    <tr>\n",
              "      <td>3</td>\n",
              "      <td>0.428984</td>\n",
              "      <td>0.425806</td>\n",
              "      <td>0.511081</td>\n",
              "      <td>0.425806</td>\n",
              "      <td>00:24</td>\n",
              "    </tr>\n",
              "    <tr>\n",
              "      <td>4</td>\n",
              "      <td>0.371376</td>\n",
              "      <td>0.414132</td>\n",
              "      <td>0.515147</td>\n",
              "      <td>0.414132</td>\n",
              "      <td>00:24</td>\n",
              "    </tr>\n",
              "    <tr>\n",
              "      <td>5</td>\n",
              "      <td>0.333870</td>\n",
              "      <td>0.382929</td>\n",
              "      <td>0.488455</td>\n",
              "      <td>0.382929</td>\n",
              "      <td>00:24</td>\n",
              "    </tr>\n",
              "    <tr>\n",
              "      <td>6</td>\n",
              "      <td>0.299076</td>\n",
              "      <td>0.387256</td>\n",
              "      <td>0.500025</td>\n",
              "      <td>0.387256</td>\n",
              "      <td>00:24</td>\n",
              "    </tr>\n",
              "    <tr>\n",
              "      <td>7</td>\n",
              "      <td>0.275404</td>\n",
              "      <td>0.410868</td>\n",
              "      <td>0.512371</td>\n",
              "      <td>0.410868</td>\n",
              "      <td>00:24</td>\n",
              "    </tr>\n",
              "    <tr>\n",
              "      <td>8</td>\n",
              "      <td>0.250903</td>\n",
              "      <td>0.420262</td>\n",
              "      <td>0.514252</td>\n",
              "      <td>0.420262</td>\n",
              "      <td>00:24</td>\n",
              "    </tr>\n",
              "    <tr>\n",
              "      <td>9</td>\n",
              "      <td>0.238151</td>\n",
              "      <td>0.407881</td>\n",
              "      <td>0.506420</td>\n",
              "      <td>0.407881</td>\n",
              "      <td>00:24</td>\n",
              "    </tr>\n",
              "  </tbody>\n",
              "</table>"
            ],
            "text/plain": [
              "<IPython.core.display.HTML object>"
            ]
          },
          "metadata": {
            "tags": []
          }
        }
      ]
    },
    {
      "cell_type": "code",
      "metadata": {
        "id": "ju1BjI3frZn5"
      },
      "source": [
        "learn.path = Path(\"./\")\n",
        "learn.export()"
      ],
      "execution_count": 38,
      "outputs": []
    },
    {
      "cell_type": "code",
      "metadata": {
        "id": "yZHwfizAsfqB"
      },
      "source": [
        ""
      ],
      "execution_count": null,
      "outputs": []
    }
  ]
}