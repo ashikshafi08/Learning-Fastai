{
  "nbformat": 4,
  "nbformat_minor": 0,
  "metadata": {
    "colab": {
      "name": "Language_Model_from_Scratch.ipynb",
      "provenance": [],
      "collapsed_sections": [],
      "authorship_tag": "ABX9TyNeJ8n0YHjBWHM4Jx+l0Ceu",
      "include_colab_link": true
    },
    "kernelspec": {
      "name": "python3",
      "display_name": "Python 3"
    },
    "language_info": {
      "name": "python"
    }
  },
  "cells": [
    {
      "cell_type": "markdown",
      "metadata": {
        "id": "view-in-github",
        "colab_type": "text"
      },
      "source": [
        "<a href=\"https://colab.research.google.com/github/ashikshafi08/Learning-Fastai/blob/main/Language_Model_from_Scratch.ipynb\" target=\"_parent\"><img src=\"https://colab.research.google.com/assets/colab-badge.svg\" alt=\"Open In Colab\"/></a>"
      ]
    },
    {
      "cell_type": "code",
      "source": [
        "# Installing the latest version \n",
        "#!pip install -Uqq fastbook\n",
        "import fastai \n",
        "fastai.__version__"
      ],
      "metadata": {
        "colab": {
          "base_uri": "https://localhost:8080/",
          "height": 35
        },
        "id": "WDrtXTaxQiCm",
        "outputId": "d466eb61-9518-4116-9320-36f5a938c94e"
      },
      "execution_count": 58,
      "outputs": [
        {
          "output_type": "execute_result",
          "data": {
            "text/plain": [
              "'2.5.6'"
            ],
            "application/vnd.google.colaboratory.intrinsic+json": {
              "type": "string"
            }
          },
          "metadata": {},
          "execution_count": 58
        }
      ]
    },
    {
      "cell_type": "code",
      "execution_count": 59,
      "metadata": {
        "colab": {
          "base_uri": "https://localhost:8080/"
        },
        "id": "j-3wJdX5JFV5",
        "outputId": "b7581c1e-af48-4d66-e88e-6e17b25b5405"
      },
      "outputs": [
        {
          "output_type": "execute_result",
          "data": {
            "text/plain": [
              "(#2) [Path('/root/.fastai/data/human_numbers/valid.txt'),Path('/root/.fastai/data/human_numbers/train.txt')]"
            ]
          },
          "metadata": {},
          "execution_count": 59
        }
      ],
      "source": [
        "from fastai.text.all import * \n",
        "\n",
        "# Loading the dataset to experiment with \n",
        "path = untar_data(URLs.HUMAN_NUMBERS)\n",
        "path.ls()"
      ]
    },
    {
      "cell_type": "code",
      "source": [
        "# Opening the files and joining all the texts \n",
        "\n",
        "lines = L()\n",
        "\n",
        "# Opening  the train txt \n",
        "with open(path / 'train.txt') as f:\n",
        "  lines += L(*f.readlines())\n",
        "\n",
        "# For the valid text \n",
        "with open(path / 'valid.txt') as f:\n",
        "  lines += L(*f.readlines())\n",
        "\n",
        "lines"
      ],
      "metadata": {
        "colab": {
          "base_uri": "https://localhost:8080/"
        },
        "id": "2QPkFeuGQEdf",
        "outputId": "9ab7b6d7-c4a4-4e4a-f70e-16c69f0c85e7"
      },
      "execution_count": 60,
      "outputs": [
        {
          "output_type": "execute_result",
          "data": {
            "text/plain": [
              "(#9998) ['one \\n','two \\n','three \\n','four \\n','five \\n','six \\n','seven \\n','eight \\n','nine \\n','ten \\n'...]"
            ]
          },
          "metadata": {},
          "execution_count": 60
        }
      ]
    },
    {
      "cell_type": "code",
      "source": [
        "# Now joining all those texts into one big stream of strings \n",
        "text = ' . '.join([l.strip() for l in lines])\n",
        "text[:50]"
      ],
      "metadata": {
        "colab": {
          "base_uri": "https://localhost:8080/",
          "height": 35
        },
        "id": "LM_AL0-wRayv",
        "outputId": "9321524c-0684-44e9-99a2-88f6dfd10506"
      },
      "execution_count": 61,
      "outputs": [
        {
          "output_type": "execute_result",
          "data": {
            "text/plain": [
              "'one . two . three . four . five . six . seven . ei'"
            ],
            "application/vnd.google.colaboratory.intrinsic+json": {
              "type": "string"
            }
          },
          "metadata": {},
          "execution_count": 61
        }
      ]
    },
    {
      "cell_type": "markdown",
      "source": [
        "Now split the text and create tokens of it. "
      ],
      "metadata": {
        "id": "RtC_v9esSBnf"
      }
    },
    {
      "cell_type": "code",
      "source": [
        "# Splitting by space getting the texts as tokens \n",
        "\n",
        "tokens = text.split(' ')\n",
        "tokens[:10]"
      ],
      "metadata": {
        "colab": {
          "base_uri": "https://localhost:8080/"
        },
        "id": "B9dx-JBkSMkr",
        "outputId": "224fe231-7828-4cb3-8a14-70ca89cf9ecb"
      },
      "execution_count": 62,
      "outputs": [
        {
          "output_type": "execute_result",
          "data": {
            "text/plain": [
              "['one', '.', 'two', '.', 'three', '.', 'four', '.', 'five', '.']"
            ]
          },
          "metadata": {},
          "execution_count": 62
        }
      ]
    },
    {
      "cell_type": "markdown",
      "source": [
        "Now we got the tokens but to numericalize it we need a **vocabulary** that contains the unique tokens from our corpus of tokens. \n",
        "\n",
        "So lets get a vocab of unique tokens. "
      ],
      "metadata": {
        "id": "w0YQd64kSePE"
      }
    },
    {
      "cell_type": "code",
      "source": [
        "# Getting the vocab (unique tokens)\n",
        "vocab = L(*tokens).unique()\n",
        "vocab[:10]"
      ],
      "metadata": {
        "colab": {
          "base_uri": "https://localhost:8080/"
        },
        "id": "LJhDdBOGSwnR",
        "outputId": "f5f57e0a-0428-4067-f1ef-64f70f5eb1dc"
      },
      "execution_count": 63,
      "outputs": [
        {
          "output_type": "execute_result",
          "data": {
            "text/plain": [
              "(#10) ['one','.','two','three','four','five','six','seven','eight','nine']"
            ]
          },
          "metadata": {},
          "execution_count": 63
        }
      ]
    },
    {
      "cell_type": "code",
      "source": [
        "# Checking the length of the tokens and vocab\n",
        "len(vocab), len(tokens)"
      ],
      "metadata": {
        "colab": {
          "base_uri": "https://localhost:8080/"
        },
        "id": "N-IUrDOQS3wT",
        "outputId": "1ce2569c-6e04-4afc-95f6-f4e84bb06742"
      },
      "execution_count": 64,
      "outputs": [
        {
          "output_type": "execute_result",
          "data": {
            "text/plain": [
              "(30, 63095)"
            ]
          },
          "metadata": {},
          "execution_count": 64
        }
      ]
    },
    {
      "cell_type": "markdown",
      "source": [
        "Since we got the vocab lets convert our tokens into numbers by looking up the index of each in the vocab. \n",
        "\n",
        "This means for every unique token we assign a number. \n"
      ],
      "metadata": {
        "id": "memvLj7uS5Jq"
      }
    },
    {
      "cell_type": "code",
      "source": [
        "word2idx = {w:i for i , w in enumerate(vocab)}\n",
        "word2idx"
      ],
      "metadata": {
        "colab": {
          "base_uri": "https://localhost:8080/"
        },
        "id": "2uoY3URhS7Kk",
        "outputId": "388d2dd8-8ee2-422d-ee42-855bf3b8880a"
      },
      "execution_count": 65,
      "outputs": [
        {
          "output_type": "execute_result",
          "data": {
            "text/plain": [
              "{'.': 1,\n",
              " 'eight': 8,\n",
              " 'eighteen': 18,\n",
              " 'eighty': 26,\n",
              " 'eleven': 11,\n",
              " 'fifteen': 15,\n",
              " 'fifty': 23,\n",
              " 'five': 5,\n",
              " 'forty': 22,\n",
              " 'four': 4,\n",
              " 'fourteen': 14,\n",
              " 'hundred': 28,\n",
              " 'nine': 9,\n",
              " 'nineteen': 19,\n",
              " 'ninety': 27,\n",
              " 'one': 0,\n",
              " 'seven': 7,\n",
              " 'seventeen': 17,\n",
              " 'seventy': 25,\n",
              " 'six': 6,\n",
              " 'sixteen': 16,\n",
              " 'sixty': 24,\n",
              " 'ten': 10,\n",
              " 'thirteen': 13,\n",
              " 'thirty': 21,\n",
              " 'thousand': 29,\n",
              " 'three': 3,\n",
              " 'twelve': 12,\n",
              " 'twenty': 20,\n",
              " 'two': 2}"
            ]
          },
          "metadata": {},
          "execution_count": 65
        }
      ]
    },
    {
      "cell_type": "markdown",
      "source": [
        "Using the above dict lets convert our tokens into numbers. "
      ],
      "metadata": {
        "id": "35fgGuwaTiHM"
      }
    },
    {
      "cell_type": "code",
      "source": [
        "nums = L(word2idx[t] for t in tokens)\n",
        "nums[:20]"
      ],
      "metadata": {
        "colab": {
          "base_uri": "https://localhost:8080/"
        },
        "id": "juCICVNGTpxa",
        "outputId": "c1639bd5-606c-4eb8-d799-3b97bc4edf85"
      },
      "execution_count": 66,
      "outputs": [
        {
          "output_type": "execute_result",
          "data": {
            "text/plain": [
              "(#20) [0,1,2,1,3,1,4,1,5,1...]"
            ]
          },
          "metadata": {},
          "execution_count": 66
        }
      ]
    },
    {
      "cell_type": "code",
      "source": [
        "word2idx[tokens[29]] , tokens[29]"
      ],
      "metadata": {
        "colab": {
          "base_uri": "https://localhost:8080/"
        },
        "id": "LYKQKwDSTwaO",
        "outputId": "6b1be876-ccc3-4b65-d0cd-20c1f39ffe2f"
      },
      "execution_count": 67,
      "outputs": [
        {
          "output_type": "execute_result",
          "data": {
            "text/plain": [
              "(1, '.')"
            ]
          },
          "metadata": {},
          "execution_count": 67
        }
      ]
    },
    {
      "cell_type": "markdown",
      "source": [
        "Now we got a small dataset we can experiment with. "
      ],
      "metadata": {
        "id": "rV7Vb-aUT2Xg"
      }
    },
    {
      "cell_type": "markdown",
      "source": [
        "## Our Language Model From Scratch \n",
        "\n",
        "We can turn this into a NN problem, where we are going to predict each word based on the previous three words. How we will approach this? \n",
        "\n",
        "1. Independent Variables -> list of sequence of three words\n",
        "2. Dependent Variable -> next word after every sequence \n",
        "\n",
        "\n",
        "\n"
      ],
      "metadata": {
        "id": "Hkf4dxReUMWQ"
      }
    },
    {
      "cell_type": "code",
      "source": [
        "# Lets see how does it look in practice \n",
        "\n",
        "L((tokens[i:i+3] , tokens[i+3]) for i in range(0 , len(tokens)-4 , 3))"
      ],
      "metadata": {
        "colab": {
          "base_uri": "https://localhost:8080/"
        },
        "id": "2H0pBddpUQsl",
        "outputId": "a3a30bf3-a4ed-4d71-b1c4-3b4fd84c8a8d"
      },
      "execution_count": 68,
      "outputs": [
        {
          "output_type": "execute_result",
          "data": {
            "text/plain": [
              "(#21031) [(['one', '.', 'two'], '.'),(['.', 'three', '.'], 'four'),(['four', '.', 'five'], '.'),(['.', 'six', '.'], 'seven'),(['seven', '.', 'eight'], '.'),(['.', 'nine', '.'], 'ten'),(['ten', '.', 'eleven'], '.'),(['.', 'twelve', '.'], 'thirteen'),(['thirteen', '.', 'fourteen'], '.'),(['.', 'fifteen', '.'], 'sixteen')...]"
            ]
          },
          "metadata": {},
          "execution_count": 68
        }
      ]
    },
    {
      "cell_type": "markdown",
      "source": [
        "Doing the same stuff but now converting them into tensors of numericalized values. Because we will be feeding numbers to our models. "
      ],
      "metadata": {
        "id": "Ilg5QLLqVjT2"
      }
    },
    {
      "cell_type": "code",
      "source": [
        "# Instead of tokens, we parse the numericalized tokens (nums)\n",
        "\n",
        "seqs= L((tensor(nums[i:i+3]) , nums[i+3]) for i in range(0 , len(tokens)-4 , 3))\n",
        "seqs[:10]"
      ],
      "metadata": {
        "colab": {
          "base_uri": "https://localhost:8080/"
        },
        "id": "eqFL16vEV_64",
        "outputId": "aa38606e-8fa2-44d7-d437-1fbabfe986e5"
      },
      "execution_count": 69,
      "outputs": [
        {
          "output_type": "execute_result",
          "data": {
            "text/plain": [
              "(#10) [(tensor([0, 1, 2]), 1),(tensor([1, 3, 1]), 4),(tensor([4, 1, 5]), 1),(tensor([1, 6, 1]), 7),(tensor([7, 1, 8]), 1),(tensor([1, 9, 1]), 10),(tensor([10,  1, 11]), 1),(tensor([ 1, 12,  1]), 13),(tensor([13,  1, 14]), 1),(tensor([ 1, 15,  1]), 16)]"
            ]
          },
          "metadata": {},
          "execution_count": 69
        }
      ]
    },
    {
      "cell_type": "markdown",
      "source": [
        "Now we can batch the above dataset and use it for our model. "
      ],
      "metadata": {
        "id": "QG9R_TiWWgEh"
      }
    },
    {
      "cell_type": "code",
      "source": [
        "# Batching the above seqs \n",
        "bs = 64 \n",
        "split = int(len(seqs) * .8)\n",
        "dls = DataLoaders.from_dsets(seqs[:split] , seqs[split:] , bs = 64 , \n",
        "                             shuffle = False)\n",
        "\n",
        "dls"
      ],
      "metadata": {
        "colab": {
          "base_uri": "https://localhost:8080/"
        },
        "id": "2svBGIOPWk8i",
        "outputId": "673f5156-f50f-44e7-f647-3104141183ac"
      },
      "execution_count": 70,
      "outputs": [
        {
          "output_type": "execute_result",
          "data": {
            "text/plain": [
              "<fastai.data.core.DataLoaders at 0x7f8e24a81c50>"
            ]
          },
          "metadata": {},
          "execution_count": 70
        }
      ]
    },
    {
      "cell_type": "markdown",
      "source": [
        "Now we can create a neural network architecture that takes three words as input and returns a prediction of the probability of each possible next word in the vocab. \n",
        "\n",
        "- We will use three standard linear layers but with 2 tweaks, \n",
        "  - The first tweak is that the first layer will use only the first word's embedding as activation, then the second layer will use the second embeddings plus the first layer activation, and the same with the third layer where it uses both the third word's embedding plus the second layers output/ \n",
        "\n",
        "  ```\n",
        "  First layer -> First layer activation \n",
        "  \n",
        "  Second layer -> use the second words embedding -> second layer activation + first layer activation \n",
        "\n",
        "  same with the third except has the second layer's activation.\n",
        "```\n",
        "  - The second tweak is, \n",
        "    - All these 3 layers will use the same weight matrix. \n",
        "    - layers weight won't change but the values will change as the data moves through layers.\n",
        "    - Since the weights don't change in a layer we stick with 1 layer and use it for 3 instance. "
      ],
      "metadata": {
        "id": "w4uxvAlQfJBu"
      }
    },
    {
      "cell_type": "code",
      "source": [
        "# Creating a language model \n",
        "\n",
        "class LMModel(Module):\n",
        "\n",
        "  def __init__(self , vocab_size, n_hidden): \n",
        "\n",
        "    self.i_h = nn.Embedding(vocab_size , n_hidden) # word embedding layer \n",
        "    self.h_h = nn.Linear(n_hidden , n_hidden) # linear layer with no change in weights\n",
        "    self.h_o = nn.Linear(n_hidden , vocab_size) # layer to predict the fourth word\n",
        "\n",
        "  def forward(self, x):\n",
        "    h = self.i_h(x[: , 0]) # 1st word embedding\n",
        "    h = F.relu(self.h_h(h))\n",
        "    h = h + self.i_h(x[: , 1]) # 2nd word embedding + activation of first layer\n",
        "    h = F.relu(self.h_h(h))\n",
        "    h = h + self.i_h(x[: , 2]) # 3rd word embedding + activation of 2nd layer\n",
        "    h = F.relu(self.h_h(h)) \n",
        "    return self.h_o(h)\n",
        "\n"
      ],
      "metadata": {
        "id": "jc9GEK_QfZkR"
      },
      "execution_count": 71,
      "outputs": []
    },
    {
      "cell_type": "markdown",
      "source": [
        "**Breaking down the above code**\n",
        "- `i_h` input to hidden, this is our embedding layer applied to our numericalize tokens. \n",
        "- `h_h` linear layer to create the activation for the next word (hidden to hidden) \n",
        "- `h_o` final layer to predict the fourth word, that is (hidden to output). \n",
        "\n",
        "\n",
        "#### Below is the pictorial representation of the code \n",
        "![Screenshot 2022-04-06 at 11.55.33 AM.png](data:image/png;base64,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)"
      ],
      "metadata": {
        "id": "bxGKpBI9hnou"
      }
    },
    {
      "cell_type": "markdown",
      "source": [
        "As we know the weight matrix stays the same, and the green arrows are the weight matrix that has been passed to the next layers. \n",
        "\n",
        "Also orange arrows represents the activation that changes from layer to layer, because the activation changes as the data moves through the layer. "
      ],
      "metadata": {
        "id": "2AxZv3AOiBu9"
      }
    },
    {
      "cell_type": "code",
      "source": [
        "# Training the model \n",
        "\n",
        "learn = Learner(dls , LMModel(len(vocab) , 64) , \n",
        "                loss_func = F.cross_entropy , metrics = accuracy)\n",
        "\n",
        "# Fitting the model \n",
        "learn.fit_one_cycle(4 , 1e-3)"
      ],
      "metadata": {
        "colab": {
          "base_uri": "https://localhost:8080/",
          "height": 175
        },
        "id": "gFFbcst_kDmh",
        "outputId": "1108e81f-e5a6-4aff-c6ce-d3315e8af5ec"
      },
      "execution_count": 72,
      "outputs": [
        {
          "output_type": "display_data",
          "data": {
            "text/plain": [
              "<IPython.core.display.HTML object>"
            ],
            "text/html": [
              "\n",
              "<style>\n",
              "    /* Turns off some styling */\n",
              "    progress {\n",
              "        /* gets rid of default border in Firefox and Opera. */\n",
              "        border: none;\n",
              "        /* Needs to be in here for Safari polyfill so background images work as expected. */\n",
              "        background-size: auto;\n",
              "    }\n",
              "    .progress-bar-interrupted, .progress-bar-interrupted::-webkit-progress-bar {\n",
              "        background: #F44336;\n",
              "    }\n",
              "</style>\n"
            ]
          },
          "metadata": {}
        },
        {
          "output_type": "display_data",
          "data": {
            "text/plain": [
              "<IPython.core.display.HTML object>"
            ],
            "text/html": [
              "<table border=\"1\" class=\"dataframe\">\n",
              "  <thead>\n",
              "    <tr style=\"text-align: left;\">\n",
              "      <th>epoch</th>\n",
              "      <th>train_loss</th>\n",
              "      <th>valid_loss</th>\n",
              "      <th>accuracy</th>\n",
              "      <th>time</th>\n",
              "    </tr>\n",
              "  </thead>\n",
              "  <tbody>\n",
              "    <tr>\n",
              "      <td>0</td>\n",
              "      <td>1.740381</td>\n",
              "      <td>2.050205</td>\n",
              "      <td>0.465890</td>\n",
              "      <td>00:02</td>\n",
              "    </tr>\n",
              "    <tr>\n",
              "      <td>1</td>\n",
              "      <td>1.384066</td>\n",
              "      <td>1.875530</td>\n",
              "      <td>0.474685</td>\n",
              "      <td>00:02</td>\n",
              "    </tr>\n",
              "    <tr>\n",
              "      <td>2</td>\n",
              "      <td>1.413875</td>\n",
              "      <td>1.675168</td>\n",
              "      <td>0.493463</td>\n",
              "      <td>00:02</td>\n",
              "    </tr>\n",
              "    <tr>\n",
              "      <td>3</td>\n",
              "      <td>1.377284</td>\n",
              "      <td>1.663418</td>\n",
              "      <td>0.481578</td>\n",
              "      <td>00:02</td>\n",
              "    </tr>\n",
              "  </tbody>\n",
              "</table>"
            ]
          },
          "metadata": {}
        }
      ]
    },
    {
      "cell_type": "code",
      "source": [
        "# Getting the most common \n",
        "c = Counter(tokens[split:]) # passing valid set into the counter that will count the occurences\n",
        "mc = c.most_common(5)\n",
        "\n",
        "mc"
      ],
      "metadata": {
        "colab": {
          "base_uri": "https://localhost:8080/"
        },
        "id": "Vs4ttr4IkbiP",
        "outputId": "cc322258-9b83-48a5-c942-3e722d1cdcd9"
      },
      "execution_count": 73,
      "outputs": [
        {
          "output_type": "execute_result",
          "data": {
            "text/plain": [
              "[('thousand', 7104),\n",
              " ('.', 7103),\n",
              " ('hundred', 6405),\n",
              " ('nine', 2440),\n",
              " ('eight', 2344)]"
            ]
          },
          "metadata": {},
          "execution_count": 73
        }
      ]
    },
    {
      "cell_type": "markdown",
      "source": [
        "What will be the accuracy if our model predicts the common token thousand? \n"
      ],
      "metadata": {
        "id": "Yk_RS4dEmy-p"
      }
    },
    {
      "cell_type": "code",
      "source": [
        "mc[0][1] / len(tokens[split:]) "
      ],
      "metadata": {
        "colab": {
          "base_uri": "https://localhost:8080/"
        },
        "id": "GI-F-vTbl9ri",
        "outputId": "c906afd9-787f-4994-e3f0-03c83651d972"
      },
      "execution_count": 74,
      "outputs": [
        {
          "output_type": "execute_result",
          "data": {
            "text/plain": [
              "0.15353028894988222"
            ]
          },
          "metadata": {},
          "execution_count": 74
        }
      ]
    },
    {
      "cell_type": "markdown",
      "source": [
        "Always predicting this token give us an accuracy of roughly 15%. \n",
        "\n",
        "Our forward prop function is messed up with alot of code, we can further refactor it for better understanding. "
      ],
      "metadata": {
        "id": "lMsv-LsvlB9v"
      }
    },
    {
      "cell_type": "code",
      "source": [
        "# Refactored code \n",
        "class LMModel1(Module):\n",
        "\n",
        "  def __init__(self , vocab_size , n_hidden):\n",
        "    self.i_h = nn.Embedding(vocab_size , n_hidden)\n",
        "    self.h_h = nn.Linear(n_hidden , n_hidden)\n",
        "    self.h_o = nn.Linear(n_hidden , vocab_size)\n",
        "\n",
        "  def forward(self , x):\n",
        "\n",
        "    # Initializing the hidden state \n",
        "    h = 0 \n",
        "    for i in range(3): \n",
        "      h = h + self.i_h(x[: ,i])\n",
        "      h = F.relu(self.h_h(h))\n",
        "    return self.h_o(h)"
      ],
      "metadata": {
        "id": "eOXRTxkkp28j"
      },
      "execution_count": 75,
      "outputs": []
    },
    {
      "cell_type": "code",
      "source": [
        "# Training the model \n",
        "\n",
        "learn = Learner(dls , LMModel1(len(vocab) , 64) , \n",
        "                loss_func = F.cross_entropy , metrics = accuracy)\n",
        "\n",
        "# Fitting the model \n",
        "learn.fit_one_cycle(4 , 1e-3)"
      ],
      "metadata": {
        "colab": {
          "base_uri": "https://localhost:8080/",
          "height": 175
        },
        "id": "8u6Mi70yqyOz",
        "outputId": "4ba4c6ca-7346-402a-fea9-132566498fe3"
      },
      "execution_count": 77,
      "outputs": [
        {
          "output_type": "display_data",
          "data": {
            "text/plain": [
              "<IPython.core.display.HTML object>"
            ],
            "text/html": [
              "\n",
              "<style>\n",
              "    /* Turns off some styling */\n",
              "    progress {\n",
              "        /* gets rid of default border in Firefox and Opera. */\n",
              "        border: none;\n",
              "        /* Needs to be in here for Safari polyfill so background images work as expected. */\n",
              "        background-size: auto;\n",
              "    }\n",
              "    .progress-bar-interrupted, .progress-bar-interrupted::-webkit-progress-bar {\n",
              "        background: #F44336;\n",
              "    }\n",
              "</style>\n"
            ]
          },
          "metadata": {}
        },
        {
          "output_type": "display_data",
          "data": {
            "text/plain": [
              "<IPython.core.display.HTML object>"
            ],
            "text/html": [
              "<table border=\"1\" class=\"dataframe\">\n",
              "  <thead>\n",
              "    <tr style=\"text-align: left;\">\n",
              "      <th>epoch</th>\n",
              "      <th>train_loss</th>\n",
              "      <th>valid_loss</th>\n",
              "      <th>accuracy</th>\n",
              "      <th>time</th>\n",
              "    </tr>\n",
              "  </thead>\n",
              "  <tbody>\n",
              "    <tr>\n",
              "      <td>0</td>\n",
              "      <td>1.797735</td>\n",
              "      <td>1.942218</td>\n",
              "      <td>0.481103</td>\n",
              "      <td>00:02</td>\n",
              "    </tr>\n",
              "    <tr>\n",
              "      <td>1</td>\n",
              "      <td>1.365774</td>\n",
              "      <td>1.809790</td>\n",
              "      <td>0.481578</td>\n",
              "      <td>00:02</td>\n",
              "    </tr>\n",
              "    <tr>\n",
              "      <td>2</td>\n",
              "      <td>1.417923</td>\n",
              "      <td>1.702087</td>\n",
              "      <td>0.488234</td>\n",
              "      <td>00:02</td>\n",
              "    </tr>\n",
              "    <tr>\n",
              "      <td>3</td>\n",
              "      <td>1.399921</td>\n",
              "      <td>1.645249</td>\n",
              "      <td>0.487045</td>\n",
              "      <td>00:02</td>\n",
              "    </tr>\n",
              "  </tbody>\n",
              "</table>"
            ]
          },
          "metadata": {}
        }
      ]
    },
    {
      "cell_type": "markdown",
      "source": [
        "The above implemented net is also known as a RNN or Reccurent Neural Network. But why? \n",
        "\n",
        "Because of the set of activation that has been updated each time through the loop, stored in the variable `h` is called the hidden state and hidden state is a important phenomenon for a RNN layer. \n",
        "\n",
        "In other words the activations that gets updated for every time step / step of a rnn. Or a neural network defined using a loop called RNN. \n",
        "\n",
        "**RNN is nothing but a simple refactoring of a multilayer neural network using the for loop**. "
      ],
      "metadata": {
        "id": "eQRXEna-q5uN"
      }
    },
    {
      "cell_type": "markdown",
      "source": [
        "## Improving the RNN\n",
        "\n",
        "The one flaw in our previous RNN is that we are initializing the hiddne state to zero for every new input sequence (h=0 always). \n",
        "\n",
        "**Why its a flaw**? \n",
        "\n",
        "Basically when we have hidden state 0, it kinda forgets the first mini-batch after it has been predicted. Also with changing hidden state we can predict not only the fourth word but also the third and scond words as well. \n",
        "\n",
        "\n",
        "\n",
        "### Maintaining the state of RNN \n",
        "\n",
        "When we initialize the models hidden state to zero for each sample, we basically throwing away all the information we have about the sentences we've seen so far. \n",
        "\n",
        "We can fix this by using the hidden state as a important parameter in the initializer. \n"
      ],
      "metadata": {
        "id": "G-0MikHNCLKW"
      }
    }
  ]
}